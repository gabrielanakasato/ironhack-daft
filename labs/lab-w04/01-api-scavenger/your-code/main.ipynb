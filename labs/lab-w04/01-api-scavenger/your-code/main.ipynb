{
 "cells": [
  {
   "cell_type": "markdown",
   "metadata": {
    "colab_type": "text",
    "id": "wn9cH2KuhPQm"
   },
   "source": [
    "# API Scavenger Game\n",
    "\n",
    "## Challenge 1: Fork Languages\n",
    "\n",
    "You will find out how many programming languages are used among all the forks created from the main lab repo of your bootcamp."
   ]
  },
  {
   "cell_type": "code",
   "execution_count": 1,
   "metadata": {
    "ExecuteTime": {
     "end_time": "2020-09-09T01:00:25.126741Z",
     "start_time": "2020-09-09T01:00:25.055410Z"
    },
    "colab": {},
    "colab_type": "code",
    "id": "CISPmeFPhPQt"
   },
   "outputs": [],
   "source": [
    "# import libraries here\n",
    "import requests"
   ]
  },
  {
   "cell_type": "markdown",
   "metadata": {
    "colab_type": "text",
    "id": "kHZG8N7hhU1w"
   },
   "source": [
    "Assuming the main lab repo is ironhack-datalabs/mad-oct-2018, you will:\n",
    "\n",
    "#### 1. Obtain the full list of forks created from the main lab repo via Github API."
   ]
  },
  {
   "cell_type": "markdown",
   "metadata": {
    "colab_type": "text",
    "id": "X6JuENLGhPQ9"
   },
   "source": [
    "To list forks, we can use the GET method. As explained in the GitHub API documentation, we need to make the request to: GET /repos/:owner/:repo/forks."
   ]
  },
  {
   "cell_type": "code",
   "execution_count": 2,
   "metadata": {
    "ExecuteTime": {
     "end_time": "2020-09-09T01:00:25.658838Z",
     "start_time": "2020-09-09T01:00:25.127738Z"
    },
    "colab": {},
    "colab_type": "code",
    "id": "II5D8CkQhPQ_"
   },
   "outputs": [
    {
     "data": {
      "text/plain": [
       "{'message': \"API rate limit exceeded for 177.83.16.106. (But here's the good news: Authenticated requests get a higher rate limit. Check out the documentation for more details.)\",\n",
       " 'documentation_url': 'https://developer.github.com/v3/#rate-limiting'}"
      ]
     },
     "execution_count": 2,
     "metadata": {},
     "output_type": "execute_result"
    }
   ],
   "source": [
    "# your code here\n",
    "\n",
    "# Using the repo 'ironhack-datalabs/mad-oct-2018'\n",
    "fork = requests.get('https://api.github.com/repos/ironhack-datalabs/mad-oct-2018/forks')\n",
    "fork.json()"
   ]
  },
  {
   "cell_type": "markdown",
   "metadata": {
    "colab_type": "text",
    "id": "ZMyRu0p6hPRI"
   },
   "source": [
    "#### 2. Loop the JSON response to find out the language attribute of each fork. Use an array to store the language attributes of each fork.\n",
    "Hint: Each language should appear only once in your array.\n",
    "Print the language array. It should be something like: [\"Python\", \"Jupyter Notebook\", \"HTML\"]"
   ]
  },
  {
   "cell_type": "code",
   "execution_count": 3,
   "metadata": {
    "ExecuteTime": {
     "end_time": "2020-09-09T01:00:25.851350Z",
     "start_time": "2020-09-09T01:00:25.659835Z"
    },
    "colab": {},
    "colab_type": "code",
    "id": "2UwZRhw4hPRL"
   },
   "outputs": [
    {
     "ename": "TypeError",
     "evalue": "string indices must be integers",
     "output_type": "error",
     "traceback": [
      "\u001b[1;31m---------------------------------------------------------------------------\u001b[0m",
      "\u001b[1;31mTypeError\u001b[0m                                 Traceback (most recent call last)",
      "\u001b[1;32m<ipython-input-3-425ecd2bde0c>\u001b[0m in \u001b[0;36m<module>\u001b[1;34m\u001b[0m\n\u001b[0;32m      1\u001b[0m \u001b[1;31m# your code here\u001b[0m\u001b[1;33m\u001b[0m\u001b[1;33m\u001b[0m\u001b[1;33m\u001b[0m\u001b[0m\n\u001b[1;32m----> 2\u001b[1;33m \u001b[0mprint\u001b[0m\u001b[1;33m(\u001b[0m\u001b[1;33m[\u001b[0m\u001b[0mfork\u001b[0m\u001b[1;33m[\u001b[0m\u001b[1;34m'language'\u001b[0m\u001b[1;33m]\u001b[0m \u001b[1;32mfor\u001b[0m \u001b[0mfork\u001b[0m \u001b[1;32min\u001b[0m \u001b[0mfork\u001b[0m\u001b[1;33m.\u001b[0m\u001b[0mjson\u001b[0m\u001b[1;33m(\u001b[0m\u001b[1;33m)\u001b[0m\u001b[1;33m]\u001b[0m\u001b[1;33m)\u001b[0m\u001b[1;33m\u001b[0m\u001b[1;33m\u001b[0m\u001b[0m\n\u001b[0m",
      "\u001b[1;32m<ipython-input-3-425ecd2bde0c>\u001b[0m in \u001b[0;36m<listcomp>\u001b[1;34m(.0)\u001b[0m\n\u001b[0;32m      1\u001b[0m \u001b[1;31m# your code here\u001b[0m\u001b[1;33m\u001b[0m\u001b[1;33m\u001b[0m\u001b[1;33m\u001b[0m\u001b[0m\n\u001b[1;32m----> 2\u001b[1;33m \u001b[0mprint\u001b[0m\u001b[1;33m(\u001b[0m\u001b[1;33m[\u001b[0m\u001b[0mfork\u001b[0m\u001b[1;33m[\u001b[0m\u001b[1;34m'language'\u001b[0m\u001b[1;33m]\u001b[0m \u001b[1;32mfor\u001b[0m \u001b[0mfork\u001b[0m \u001b[1;32min\u001b[0m \u001b[0mfork\u001b[0m\u001b[1;33m.\u001b[0m\u001b[0mjson\u001b[0m\u001b[1;33m(\u001b[0m\u001b[1;33m)\u001b[0m\u001b[1;33m]\u001b[0m\u001b[1;33m)\u001b[0m\u001b[1;33m\u001b[0m\u001b[1;33m\u001b[0m\u001b[0m\n\u001b[0m",
      "\u001b[1;31mTypeError\u001b[0m: string indices must be integers"
     ]
    }
   ],
   "source": [
    "# your code here\n",
    "print([fork['language'] for fork in fork.json()])"
   ]
  },
  {
   "cell_type": "markdown",
   "metadata": {
    "colab_type": "text",
    "id": "uWWh1AbLhPRU"
   },
   "source": [
    "## Challenge 2: Count Commits\n",
    "Count how many commits were made in the month of january of 2019.\n",
    "\n",
    "Hints: \n",
    "- https://developer.github.com/v3/repos/commits/#list-commits-on-a-repository\n",
    "\n",
    "- GET /repos/:owner/:repo/commits\n",
    "\n",
    "#### 1. Obtain all the commits made in January 2019 via API, which is a JSON array that contains multiple commit objects."
   ]
  },
  {
   "cell_type": "code",
   "execution_count": null,
   "metadata": {
    "ExecuteTime": {
     "end_time": "2020-09-09T01:00:25.854314Z",
     "start_time": "2020-09-09T01:00:25.036Z"
    },
    "colab": {},
    "colab_type": "code",
    "id": "fvBVJbQvhPRW"
   },
   "outputs": [],
   "source": [
    "# your code here\n",
    "\n",
    "# Using the repo 'ironhack-datalabs/mad-oct-2018'\n",
    "commit = requests.get('https://api.github.com/repos/ironhack-datalabs/mad-oct-2018/commits')"
   ]
  },
  {
   "cell_type": "code",
   "execution_count": null,
   "metadata": {
    "ExecuteTime": {
     "end_time": "2020-09-09T01:00:25.855311Z",
     "start_time": "2020-09-09T01:00:25.038Z"
    }
   },
   "outputs": [],
   "source": [
    "# Create a list with information about the commits made in January 2019\n",
    "[commit for commit in commit.json() if commit['commit']['author']['date'].startswith('2019-01')]"
   ]
  },
  {
   "cell_type": "markdown",
   "metadata": {
    "colab_type": "text",
    "id": "cp1aYfRShPRb"
   },
   "source": [
    "#### 2. Count how many commit objects are contained in the array."
   ]
  },
  {
   "cell_type": "code",
   "execution_count": null,
   "metadata": {
    "ExecuteTime": {
     "end_time": "2020-09-09T01:00:25.856309Z",
     "start_time": "2020-09-09T01:00:25.040Z"
    },
    "colab": {},
    "colab_type": "code",
    "id": "guNZQxx4hPTT"
   },
   "outputs": [],
   "source": [
    "# your code here\n",
    "\n",
    "print(f'There is a total {len(commit.json())} commits in this array.')"
   ]
  },
  {
   "cell_type": "markdown",
   "metadata": {
    "colab_type": "text",
    "id": "cr6YdvCvhPTZ"
   },
   "source": [
    "## Challenge 3: Hidden Cold Joke\n",
    "\n",
    "Using Python, call Github API to find out the cold joke contained in the 24 secret files in the following repo:\n",
    "\n",
    "https://github.com/ironhack-datalabs/scavenger\n",
    "\n",
    "The filenames of the secret files contain .scavengerhunt and they are scattered in different directories of this repo. The secret files are named from .0001.scavengerhunt to .0024.scavengerhunt. They are scattered randomly throughout this repo. You need to search for these files by calling the Github API, not searching the local files on your computer.\n",
    "\n",
    "#### 1. Find the secret files."
   ]
  },
  {
   "cell_type": "code",
   "execution_count": null,
   "metadata": {
    "ExecuteTime": {
     "end_time": "2020-09-09T01:00:25.856309Z",
     "start_time": "2020-09-09T01:00:25.042Z"
    },
    "colab": {},
    "colab_type": "code",
    "id": "96VAucMUhPTb"
   },
   "outputs": [],
   "source": [
    "# your code here\n",
    "\n",
    "# Using the repo 'ironhack-datalabs/scavenger'\n",
    "scavenger = requests.get('https://api.github.com/repos/ironhack-datalabs/scavenger/contents')\n",
    "# Get the name of all folder inside the repo\n",
    "list_content = [content['name'] for content in scavenger.json() if content['name'] != '.gitignore']\n",
    "\n",
    "# Create an auxiliary empty list\n",
    "secret_files = []\n",
    "\n",
    "# Add the secret files in the list\n",
    "for path in list_content:\n",
    "    response = requests.get(f'https://api.github.com/repos/ironhack-datalabs/scavenger/contents/{path}')\n",
    "    [secret_files.append(file['name']) for file in response.json() if file['name'].startswith('.')]\n",
    "\n",
    "print(secret_files)"
   ]
  },
  {
   "cell_type": "markdown",
   "metadata": {
    "colab_type": "text",
    "id": "Jm7O1IHFhPTi"
   },
   "source": [
    "#### 2.  Sort the filenames ascendingly."
   ]
  },
  {
   "cell_type": "code",
   "execution_count": null,
   "metadata": {
    "ExecuteTime": {
     "end_time": "2020-09-09T01:00:25.858303Z",
     "start_time": "2020-09-09T01:00:25.043Z"
    },
    "colab": {},
    "colab_type": "code",
    "id": "KOAB6TkZhPTk"
   },
   "outputs": [],
   "source": [
    "# your code here\n",
    "\n",
    "# Sort the secret files in a ascending way\n",
    "secret_files.sort()\n",
    "\n",
    "# Print the asnwer on the screen\n",
    "print(secret_files)"
   ]
  },
  {
   "cell_type": "markdown",
   "metadata": {
    "colab_type": "text",
    "id": "GqwqQnvShPTt"
   },
   "source": [
    "#### 3. Read the content of each secret files into an array of strings.\n",
    "Since the response is encoded, you will need to send the following information in the header of your request:\n",
    "````python\n",
    "headers = {'Accept': 'application/vnd.github.v3.raw'}\n",
    "````"
   ]
  },
  {
   "cell_type": "code",
   "execution_count": null,
   "metadata": {
    "ExecuteTime": {
     "end_time": "2020-09-09T01:00:25.859301Z",
     "start_time": "2020-09-09T01:00:25.045Z"
    }
   },
   "outputs": [],
   "source": []
  },
  {
   "cell_type": "code",
   "execution_count": null,
   "metadata": {
    "ExecuteTime": {
     "end_time": "2020-09-09T01:00:25.860325Z",
     "start_time": "2020-09-09T01:00:25.046Z"
    },
    "colab": {},
    "colab_type": "code",
    "id": "nxcnG4d0hPT0"
   },
   "outputs": [],
   "source": [
    "# your code here"
   ]
  },
  {
   "cell_type": "markdown",
   "metadata": {
    "colab_type": "text",
    "id": "A-h4Qz7ahPT7"
   },
   "source": [
    "#### 4. Concatenate the strings in the array separating each two with a whitespace."
   ]
  },
  {
   "cell_type": "code",
   "execution_count": null,
   "metadata": {
    "ExecuteTime": {
     "end_time": "2020-09-09T01:00:25.861306Z",
     "start_time": "2020-09-09T01:00:25.048Z"
    },
    "colab": {},
    "colab_type": "code",
    "id": "nYWRSxrZhPT9"
   },
   "outputs": [],
   "source": [
    "# your code here"
   ]
  },
  {
   "cell_type": "markdown",
   "metadata": {
    "colab_type": "text",
    "id": "M1mXl3TEhPUA"
   },
   "source": [
    "#### 5. Print out the joke."
   ]
  },
  {
   "cell_type": "code",
   "execution_count": null,
   "metadata": {
    "ExecuteTime": {
     "end_time": "2020-09-09T01:00:25.861306Z",
     "start_time": "2020-09-09T01:00:25.049Z"
    },
    "colab": {},
    "colab_type": "code",
    "id": "_JoQ4h2_hPUF"
   },
   "outputs": [],
   "source": [
    "# your code here"
   ]
  }
 ],
 "metadata": {
  "colab": {
   "name": "main.ipynb",
   "provenance": []
  },
  "hide_input": false,
  "kernelspec": {
   "display_name": "Python 3",
   "language": "python",
   "name": "python3"
  },
  "language_info": {
   "codemirror_mode": {
    "name": "ipython",
    "version": 3
   },
   "file_extension": ".py",
   "mimetype": "text/x-python",
   "name": "python",
   "nbconvert_exporter": "python",
   "pygments_lexer": "ipython3",
   "version": "3.8.3"
  },
  "toc": {
   "base_numbering": 1,
   "nav_menu": {},
   "number_sections": true,
   "sideBar": true,
   "skip_h1_title": false,
   "title_cell": "Table of Contents",
   "title_sidebar": "Contents",
   "toc_cell": false,
   "toc_position": {},
   "toc_section_display": true,
   "toc_window_display": false
  },
  "varInspector": {
   "cols": {
    "lenName": 16,
    "lenType": 16,
    "lenVar": 40
   },
   "kernels_config": {
    "python": {
     "delete_cmd_postfix": "",
     "delete_cmd_prefix": "del ",
     "library": "var_list.py",
     "varRefreshCmd": "print(var_dic_list())"
    },
    "r": {
     "delete_cmd_postfix": ") ",
     "delete_cmd_prefix": "rm(",
     "library": "var_list.r",
     "varRefreshCmd": "cat(var_dic_list()) "
    }
   },
   "types_to_exclude": [
    "module",
    "function",
    "builtin_function_or_method",
    "instance",
    "_Feature"
   ],
   "window_display": false
  }
 },
 "nbformat": 4,
 "nbformat_minor": 1
}
