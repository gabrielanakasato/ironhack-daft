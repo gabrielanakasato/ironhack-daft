{
 "cells": [
  {
   "cell_type": "markdown",
   "metadata": {
    "colab_type": "text",
    "id": "K8Is1eN2d44C"
   },
   "source": [
    "![Ironhack logo](https://i.imgur.com/1QgrNNw.png)\n",
    "\n",
    "# Lab | StackAPI\n",
    "Let's check if you can handle working with an API. \n",
    "\n",
    "Use [StackAPI](https://stackapi.readthedocs.io/en/latest/), a Python wrapper for the Stack Exchange API, and answer the following questions:\n",
    "\n",
    "* Question 1: Find the questions and answers of last month.\n",
    "* Question 2: Find the most voted question today with at least a score of 5 and tagged with 'python'. \n",
    "* Question 3: Find the answers with id 6784 and 6473."
   ]
  },
  {
   "cell_type": "markdown",
   "metadata": {
    "colab_type": "text",
    "id": "-yYqHg3Rd0d9"
   },
   "source": [
    "# StackAPI\n",
    "\n",
    "#### Import the necessary libraries here:"
   ]
  },
  {
   "cell_type": "code",
   "execution_count": 1,
   "metadata": {
    "ExecuteTime": {
     "end_time": "2020-09-07T21:53:04.675196Z",
     "start_time": "2020-09-07T21:53:04.409853Z"
    },
    "colab": {},
    "colab_type": "code",
    "id": "rsr8qdkYd0eF"
   },
   "outputs": [],
   "source": [
    "# your code here\n",
    "from stackapi import StackAPI\n",
    "import pandas as pd\n",
    "from datetime import datetime"
   ]
  },
  {
   "cell_type": "markdown",
   "metadata": {
    "colab_type": "text",
    "id": "NmHoOsuud0ez"
   },
   "source": [
    "#### Question 1: Find the questions and answers of last month."
   ]
  },
  {
   "cell_type": "code",
   "execution_count": 2,
   "metadata": {
    "ExecuteTime": {
     "end_time": "2020-09-07T21:53:40.659500Z",
     "start_time": "2020-09-07T21:53:06.017729Z"
    }
   },
   "outputs": [],
   "source": [
    "# your code here\n",
    "# the time used in this API is in Unix epoch time!\n",
    "# https://en.wikipedia.org/wiki/Unix_time\n",
    "\n",
    "# Retrive data\n",
    "SITE = StackAPI('stackoverflow')\n",
    "questions = SITE.fetch('questions')\n",
    "answers = SITE.fetch('answers')"
   ]
  },
  {
   "cell_type": "code",
   "execution_count": 4,
   "metadata": {
    "ExecuteTime": {
     "end_time": "2020-09-07T22:01:02.264727Z",
     "start_time": "2020-09-07T22:01:02.259741Z"
    }
   },
   "outputs": [
    {
     "data": {
      "text/plain": [
       "dict_keys(['backoff', 'has_more', 'page', 'quota_max', 'quota_remaining', 'total', 'items'])"
      ]
     },
     "execution_count": 4,
     "metadata": {},
     "output_type": "execute_result"
    }
   ],
   "source": [
    "# Check the keys for 'questions'\n",
    "questions.keys()"
   ]
  },
  {
   "cell_type": "code",
   "execution_count": 5,
   "metadata": {
    "ExecuteTime": {
     "end_time": "2020-09-07T22:01:03.934436Z",
     "start_time": "2020-09-07T22:01:03.929416Z"
    }
   },
   "outputs": [
    {
     "data": {
      "text/plain": [
       "{'tags': ['algorithm',\n",
       "  'time-complexity',\n",
       "  'big-o',\n",
       "  'space-complexity',\n",
       "  'notation'],\n",
       " 'owner': {'reputation': 1,\n",
       "  'user_id': 13880264,\n",
       "  'user_type': 'registered',\n",
       "  'profile_image': 'https://www.gravatar.com/avatar/a3e1128158e30060ad2a00f9954f2aed?s=128&d=identicon&r=PG&f=1',\n",
       "  'display_name': 'zakpruitt',\n",
       "  'link': 'https://stackoverflow.com/users/13880264/zakpruitt'},\n",
       " 'is_answered': False,\n",
       " 'view_count': 9,\n",
       " 'answer_count': 1,\n",
       " 'score': 0,\n",
       " 'last_activity_date': 1599515573,\n",
       " 'creation_date': 1599515208,\n",
       " 'question_id': 63784645,\n",
       " 'content_license': 'CC BY-SA 4.0',\n",
       " 'link': 'https://stackoverflow.com/questions/63784645/need-help-analyzing-on-complexity',\n",
       " 'title': 'Need help analyzing O(n) complexity'}"
      ]
     },
     "execution_count": 5,
     "metadata": {},
     "output_type": "execute_result"
    }
   ],
   "source": [
    "# Access the first item to see what the data is like\n",
    "questions['items'][0]"
   ]
  },
  {
   "cell_type": "code",
   "execution_count": 14,
   "metadata": {
    "ExecuteTime": {
     "end_time": "2020-09-07T22:02:52.914677Z",
     "start_time": "2020-09-07T22:02:52.908679Z"
    }
   },
   "outputs": [
    {
     "data": {
      "text/plain": [
       "33"
      ]
     },
     "execution_count": 14,
     "metadata": {},
     "output_type": "execute_result"
    }
   ],
   "source": [
    "# Questions created last month (aug/2020)\n",
    "questions_last_month = [questions['items'] for id, date in [(question['question_id'], datetime.fromtimestamp(question['creation_date'])) for question in questions['items']] if ((date.year == 2020) & (date.month == 8))]\n",
    "[questions['items'] for id, date in [(question['question_id'], datetime.fromtimestamp(question['creation_date'])) for question in questions['items']] if ((date.year == 2020) & (date.month == 8))]"
   ]
  },
  {
   "cell_type": "code",
   "execution_count": 7,
   "metadata": {
    "ExecuteTime": {
     "end_time": "2020-09-07T22:01:08.223806Z",
     "start_time": "2020-09-07T22:01:08.218819Z"
    }
   },
   "outputs": [
    {
     "data": {
      "text/plain": [
       "dict_keys(['backoff', 'has_more', 'page', 'quota_max', 'quota_remaining', 'total', 'items'])"
      ]
     },
     "execution_count": 7,
     "metadata": {},
     "output_type": "execute_result"
    }
   ],
   "source": [
    "# Check the keys for 'answers'\n",
    "answers.keys()"
   ]
  },
  {
   "cell_type": "code",
   "execution_count": 8,
   "metadata": {
    "ExecuteTime": {
     "end_time": "2020-09-07T22:01:09.934361Z",
     "start_time": "2020-09-07T22:01:09.929373Z"
    }
   },
   "outputs": [
    {
     "data": {
      "text/plain": [
       "{'owner': {'reputation': 1,\n",
       "  'user_id': 14237675,\n",
       "  'user_type': 'registered',\n",
       "  'profile_image': 'https://www.gravatar.com/avatar/140b3e1c3fa8ed7285c742d84fd24bf6?s=128&d=identicon&r=PG&f=1',\n",
       "  'display_name': 'Shawn Jiang',\n",
       "  'link': 'https://stackoverflow.com/users/14237675/shawn-jiang'},\n",
       " 'is_accepted': False,\n",
       " 'score': 0,\n",
       " 'last_activity_date': 1599515573,\n",
       " 'creation_date': 1599515573,\n",
       " 'answer_id': 63784693,\n",
       " 'question_id': 63784645,\n",
       " 'content_license': 'CC BY-SA 4.0'}"
      ]
     },
     "execution_count": 8,
     "metadata": {},
     "output_type": "execute_result"
    }
   ],
   "source": [
    "# Access the first item to see what the data is like\n",
    "answers['items'][0]"
   ]
  },
  {
   "cell_type": "code",
   "execution_count": 11,
   "metadata": {
    "ExecuteTime": {
     "end_time": "2020-09-07T22:01:40.528785Z",
     "start_time": "2020-09-07T22:01:40.522799Z"
    }
   },
   "outputs": [
    {
     "name": "stdout",
     "output_type": "stream",
     "text": [
      "[]\n"
     ]
    }
   ],
   "source": [
    "# Answers created last month (aug/2020)\n",
    "answers_last_month = [answer for id, date in [(answer['answer_id'], datetime.fromtimestamp(answer['creation_date'])) \n",
    "                                              for answer in answers['items']] if (date.year == 2020 & date.month == 8)]\n",
    "print(answers_last_month)"
   ]
  },
  {
   "cell_type": "code",
   "execution_count": 12,
   "metadata": {
    "ExecuteTime": {
     "end_time": "2020-09-07T22:01:41.935743Z",
     "start_time": "2020-09-07T22:01:41.930756Z"
    }
   },
   "outputs": [
    {
     "name": "stdout",
     "output_type": "stream",
     "text": [
      "33 question(s) were created last month\n",
      "0 answer(s) were created last month.\n"
     ]
    }
   ],
   "source": [
    "# Print a message on the screen\n",
    "print(f'{len(questions_last_month)} question(s) were created last month')\n",
    "print(f'{len(answers_last_month)} answer(s) were created last month.')"
   ]
  },
  {
   "cell_type": "markdown",
   "metadata": {
    "colab_type": "text",
    "id": "suUfAhohd0fd"
   },
   "source": [
    "#### Question 2: Find the most voted question today with at least a score of 5 and tagged with 'python'. "
   ]
  },
  {
   "cell_type": "code",
   "execution_count": null,
   "metadata": {
    "ExecuteTime": {
     "end_time": "2020-09-07T21:20:22.409202Z",
     "start_time": "2020-09-07T21:20:22.402220Z"
    },
    "colab": {},
    "colab_type": "code",
    "id": "B2qabqZbd0fh"
   },
   "outputs": [],
   "source": [
    "# your code here\n",
    "# Today is Sep. 7th, 2020\n",
    "\n",
    "questions_today = [question for question in questions['items'] \n",
    "                  if (question['score'] >= 5) & ('python' in question['tags'])]\n",
    "\n",
    "print(f\"{len(question_today)} was/were created today with a 'python' tag and received a score of at least 5.\\n\")\n",
    "\n",
    "[(question['question_id'], question['score']) for question in questions_today]"
   ]
  },
  {
   "cell_type": "code",
   "execution_count": null,
   "metadata": {
    "ExecuteTime": {
     "start_time": "2020-09-07T21:23:53.338Z"
    }
   },
   "outputs": [],
   "source": [
    "# your code here\n",
    "# Today is Sep. 7th, 2020\n",
    "\n",
    "[questions for date in [datetime.fromtimestamp(question['creation_date']) for question in questions['items']] if (date.year == 2020) & (date.month == 9) & (date.day == 7) & ('python' in question['tags'])]"
   ]
  },
  {
   "cell_type": "markdown",
   "metadata": {
    "colab_type": "text",
    "id": "_zTlJ-fed0gH"
   },
   "source": [
    "#### Question 3: Find the answers with id 6784 and 6473."
   ]
  },
  {
   "cell_type": "code",
   "execution_count": null,
   "metadata": {
    "colab": {},
    "colab_type": "code",
    "id": "OXqrZj6od0gN"
   },
   "outputs": [],
   "source": [
    "# your code here"
   ]
  }
 ],
 "metadata": {
  "colab": {
   "collapsed_sections": [],
   "name": "main.ipynb",
   "provenance": []
  },
  "hide_input": false,
  "kernelspec": {
   "display_name": "Python 3",
   "language": "python",
   "name": "python3"
  },
  "language_info": {
   "codemirror_mode": {
    "name": "ipython",
    "version": 3
   },
   "file_extension": ".py",
   "mimetype": "text/x-python",
   "name": "python",
   "nbconvert_exporter": "python",
   "pygments_lexer": "ipython3",
   "version": "3.8.3"
  },
  "toc": {
   "base_numbering": 1,
   "nav_menu": {},
   "number_sections": true,
   "sideBar": true,
   "skip_h1_title": false,
   "title_cell": "Table of Contents",
   "title_sidebar": "Contents",
   "toc_cell": false,
   "toc_position": {},
   "toc_section_display": true,
   "toc_window_display": false
  },
  "varInspector": {
   "cols": {
    "lenName": 16,
    "lenType": 16,
    "lenVar": 40
   },
   "kernels_config": {
    "python": {
     "delete_cmd_postfix": "",
     "delete_cmd_prefix": "del ",
     "library": "var_list.py",
     "varRefreshCmd": "print(var_dic_list())"
    },
    "r": {
     "delete_cmd_postfix": ") ",
     "delete_cmd_prefix": "rm(",
     "library": "var_list.r",
     "varRefreshCmd": "cat(var_dic_list()) "
    }
   },
   "types_to_exclude": [
    "module",
    "function",
    "builtin_function_or_method",
    "instance",
    "_Feature"
   ],
   "window_display": false
  }
 },
 "nbformat": 4,
 "nbformat_minor": 1
}
