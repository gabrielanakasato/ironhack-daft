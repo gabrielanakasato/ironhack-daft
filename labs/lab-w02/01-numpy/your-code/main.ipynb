{
 "cells": [
  {
   "cell_type": "markdown",
   "metadata": {
    "colab_type": "text",
    "id": "mN9kpE7hMEP-"
   },
   "source": [
    "![Ironhack logo](https://i.imgur.com/1QgrNNw.png)\n",
    "\n",
    "# Lab | Numpy\n",
    "\n",
    "## Introduction\n",
    "\n",
    "An important ability of a data scientist/data engineer is to know where and how to find information that helps you to accomplish your work. In the exercise, you will both practice the Numpy features we discussed in the lesson and learn new features by looking up documentations and references. You will work on your own but remember the teaching staff is at your service whenever you encounter problems.\n",
    "\n",
    "## Getting Started\n",
    "There are a bunch of comments which instruct what you are supposed to do step by step. Follow the order of the instructions from top to bottom. Read each instruction carefully and provide your answer beneath it. You should also test your answers to make sure your responses are correct. If one of your responses is incorrect, you may not be able to proceed because later responses may depend upon previous responses.\n",
    "\n",
    "\n",
    "## Resources\n",
    "\n",
    "Some of the questions in the assignment are not covered in our lesson. You will learn how to efficiently look up the information on your own. Below are some resources you can find the information you need.\n",
    "\n",
    "[Numpy User Guide](https://docs.scipy.org/doc/numpy/user/index.html)\n",
    "\n",
    "[Numpy Reference](https://docs.scipy.org/doc/numpy/reference/)\n",
    "\n",
    "[Google Search](https://www.google.com/search?q=how+to+use+numpy)\n",
    "\n"
   ]
  },
  {
   "cell_type": "markdown",
   "metadata": {
    "colab_type": "text",
    "id": "-we_8UVrwCc1"
   },
   "source": [
    "# Intrduction to NumPy\n",
    "\n",
    "\n",
    "#### 1. Import NumPy under the name np."
   ]
  },
  {
   "cell_type": "code",
   "execution_count": 1,
   "metadata": {
    "colab": {},
    "colab_type": "code",
    "id": "3fRJ8mtHwCc5"
   },
   "outputs": [],
   "source": [
    "# your code here\n",
    "import numpy as np"
   ]
  },
  {
   "cell_type": "markdown",
   "metadata": {
    "colab_type": "text",
    "id": "8Xtbl_EvwCc9"
   },
   "source": [
    "#### 2. Print your NumPy version."
   ]
  },
  {
   "cell_type": "code",
   "execution_count": 2,
   "metadata": {
    "colab": {},
    "colab_type": "code",
    "id": "BlegxuJVwCc-"
   },
   "outputs": [
    {
     "data": {
      "text/plain": [
       "'1.19.1'"
      ]
     },
     "execution_count": 2,
     "metadata": {},
     "output_type": "execute_result"
    }
   ],
   "source": [
    "# your code here\n",
    "np.__version__"
   ]
  },
  {
   "cell_type": "markdown",
   "metadata": {
    "colab_type": "text",
    "id": "FpKgyatowCdC"
   },
   "source": [
    "#### 3. Generate a 3x2x5 3-dimensional array with random values. Assign the array to variable *a*.\n",
    "**Challenge**: there are at least three easy ways that use numpy to generate random arrays. How many ways can you find?\n",
    "\n",
    "**Example of output**:\n",
    "````python\n",
    "[[[0.29932768, 0.85812686, 0.75266145, 0.09278988, 0.78358352],\n",
    "  [0.13437453, 0.65695946, 0.82047594, 0.09764179, 0.52230096]],\n",
    " \n",
    " [[0.54248247, 0.06431281, 0.65902257, 0.92736679, 0.3302839 ],\n",
    "  [0.86867236, 0.33960592, 0.62295821, 0.74563567, 0.24351584]],\n",
    " \n",
    " [[0.21276812, 0.06917533, 0.35106591, 0.82273425, 0.7910178 ],\n",
    "  [0.37768961, 0.56107736, 0.99965953, 0.97615549, 0.2445537 ]]]\n",
    "````"
   ]
  },
  {
   "cell_type": "code",
   "execution_count": 3,
   "metadata": {
    "colab": {},
    "colab_type": "code",
    "id": "609Z4Zn3wCdD"
   },
   "outputs": [
    {
     "name": "stdout",
     "output_type": "stream",
     "text": [
      "[[[6.13240020e-01 7.22369569e-01 8.75753254e-01 1.17610276e-01\n",
      "   4.08166233e-01]\n",
      "  [4.41100465e-01 2.80905635e-01 4.99977197e-01 2.16496573e-02\n",
      "   9.62359339e-01]]\n",
      "\n",
      " [[7.59179811e-01 9.47942411e-01 1.44397259e-02 9.93037920e-01\n",
      "   6.47399029e-01]\n",
      "  [3.29547199e-01 7.50172740e-04 9.89470699e-01 9.46979562e-01\n",
      "   9.27380668e-01]]\n",
      "\n",
      " [[9.52761172e-01 7.79216215e-01 3.14175145e-02 9.46598210e-02\n",
      "   2.36610977e-01]\n",
      "  [8.34632405e-01 8.75291727e-01 9.63961540e-01 9.54497029e-01\n",
      "   4.33739588e-01]]]\n"
     ]
    }
   ],
   "source": [
    "# Method 1\n",
    "# Generate the array with float point numbers in the range [0.0, 1.0)\n",
    "# Using np.random.random() function\n",
    "\n",
    "a = np.random.random(size=(3,2,5))\n",
    "print(a)"
   ]
  },
  {
   "cell_type": "code",
   "execution_count": 4,
   "metadata": {
    "colab": {},
    "colab_type": "code",
    "id": "q6dKJNO4wCdH"
   },
   "outputs": [
    {
     "name": "stdout",
     "output_type": "stream",
     "text": [
      "[[[0.02286161 0.68810213 0.56222181 0.99359585 0.35357002]\n",
      "  [0.0990899  0.43146345 0.67346489 0.70885427 0.24013971]]\n",
      "\n",
      " [[0.13003288 0.35316504 0.5128444  0.10554247 0.87582265]\n",
      "  [0.0459152  0.29320192 0.92999226 0.5381321  0.49562079]]\n",
      "\n",
      " [[0.32637998 0.92762941 0.41897758 0.04979319 0.67732049]\n",
      "  [0.51242202 0.47884974 0.50698744 0.72175004 0.00637232]]]\n"
     ]
    }
   ],
   "source": [
    "# Method 2\n",
    "# Generate the array with float point numbers in the range [0.0, 1.0)\n",
    "# Using list comprehension\n",
    "\n",
    "a = np.array([[[np.random.random() for column in range(5)] for row in range(2)] for number in range(3)])\n",
    "print(a)"
   ]
  },
  {
   "cell_type": "code",
   "execution_count": 5,
   "metadata": {
    "colab": {},
    "colab_type": "code",
    "id": "xILn36GWwCdK"
   },
   "outputs": [
    {
     "name": "stdout",
     "output_type": "stream",
     "text": [
      "[[[0.12348241 0.50527688 0.49271015 0.87517456 0.20747976]\n",
      "  [0.75630427 0.1649355  0.31186828 0.9677737  0.28869434]]\n",
      "\n",
      " [[0.4053397  0.23078235 0.312252   0.16574213 0.36737237]\n",
      "  [0.30315092 0.641853   0.41816749 0.66189076 0.70597047]]\n",
      "\n",
      " [[0.70795566 0.72534775 0.25617834 0.98354511 0.70723502]\n",
      "  [0.65958254 0.18435292 0.121184   0.64998462 0.04752008]]]\n"
     ]
    }
   ],
   "source": [
    "# Method 3\n",
    "# Generate the array with float point numbers in the range [0.0, 1.0)\n",
    "# Using reshape\n",
    "\n",
    "a = np.reshape(np.random.random(30), (3, 2, 5))\n",
    "print(a)"
   ]
  },
  {
   "cell_type": "markdown",
   "metadata": {
    "colab_type": "text",
    "id": "aMHxBSCDwCdP"
   },
   "source": [
    "#### 4. Print *a*.\n"
   ]
  },
  {
   "cell_type": "code",
   "execution_count": 6,
   "metadata": {
    "colab": {},
    "colab_type": "code",
    "id": "N_NYL3pHwCdQ"
   },
   "outputs": [
    {
     "name": "stdout",
     "output_type": "stream",
     "text": [
      "[[[0.12348241 0.50527688 0.49271015 0.87517456 0.20747976]\n",
      "  [0.75630427 0.1649355  0.31186828 0.9677737  0.28869434]]\n",
      "\n",
      " [[0.4053397  0.23078235 0.312252   0.16574213 0.36737237]\n",
      "  [0.30315092 0.641853   0.41816749 0.66189076 0.70597047]]\n",
      "\n",
      " [[0.70795566 0.72534775 0.25617834 0.98354511 0.70723502]\n",
      "  [0.65958254 0.18435292 0.121184   0.64998462 0.04752008]]]\n"
     ]
    }
   ],
   "source": [
    "# your code here\n",
    "\n",
    "print(a)"
   ]
  },
  {
   "cell_type": "markdown",
   "metadata": {
    "colab_type": "text",
    "id": "kws-mAPSwCdU"
   },
   "source": [
    "#### 5. Create a 5x2x3 3-dimensional array with all values equaling 1. Assign the array to variable *b*."
   ]
  },
  {
   "cell_type": "markdown",
   "metadata": {
    "colab_type": "text",
    "id": "SMAUJKLwJS-8"
   },
   "source": [
    "Expected output:\n",
    "\n",
    "````python\n",
    "      [[[1, 1, 1],\n",
    "        [1, 1, 1]],\n",
    "\n",
    "       [[1, 1, 1],\n",
    "        [1, 1, 1]],\n",
    "\n",
    "       [[1, 1, 1],\n",
    "        [1, 1, 1]],\n",
    "\n",
    "       [[1, 1, 1],\n",
    "        [1, 1, 1]],\n",
    "\n",
    "       [[1, 1, 1],\n",
    "        [1, 1, 1]]]\n",
    "````"
   ]
  },
  {
   "cell_type": "code",
   "execution_count": 7,
   "metadata": {
    "colab": {},
    "colab_type": "code",
    "id": "anCmbtrtwCdW"
   },
   "outputs": [],
   "source": [
    "# your code here\n",
    "\n",
    "b = np.ones([5, 2, 3], dtype=int)"
   ]
  },
  {
   "cell_type": "markdown",
   "metadata": {
    "colab_type": "text",
    "id": "FsYdwPxPwCdZ"
   },
   "source": [
    "#### 6. Print *b*.\n"
   ]
  },
  {
   "cell_type": "code",
   "execution_count": 8,
   "metadata": {
    "colab": {},
    "colab_type": "code",
    "id": "Y3rcPurpwCda"
   },
   "outputs": [
    {
     "name": "stdout",
     "output_type": "stream",
     "text": [
      "[[[1 1 1]\n",
      "  [1 1 1]]\n",
      "\n",
      " [[1 1 1]\n",
      "  [1 1 1]]\n",
      "\n",
      " [[1 1 1]\n",
      "  [1 1 1]]\n",
      "\n",
      " [[1 1 1]\n",
      "  [1 1 1]]\n",
      "\n",
      " [[1 1 1]\n",
      "  [1 1 1]]]\n"
     ]
    }
   ],
   "source": [
    "# your code here\n",
    "\n",
    "print(b)"
   ]
  },
  {
   "cell_type": "markdown",
   "metadata": {
    "colab_type": "text",
    "id": "hGblsnk5wCde"
   },
   "source": [
    "#### 7. Do *a* and *b* have the same size? How do you prove that in Python code?"
   ]
  },
  {
   "cell_type": "code",
   "execution_count": 9,
   "metadata": {
    "colab": {},
    "colab_type": "code",
    "id": "YmKeIpGWwCdf"
   },
   "outputs": [
    {
     "name": "stdout",
     "output_type": "stream",
     "text": [
      "The size of the array \"a\" is (3, 2, 5).\n",
      "The size of the array \"b\" is (5, 2, 3).\n",
      "The arrays \"a\" and \"b\" have the same size? False\n"
     ]
    }
   ],
   "source": [
    "# your code here\n",
    "\n",
    "# The shape attribute returns the a tuple with the size of a array.\n",
    "\n",
    "# Size of array 'a'\n",
    "print(f'The size of the array \"a\" is {a.shape}.')\n",
    "print(f'The size of the array \"b\" is {b.shape}.')\n",
    "\n",
    "# To prove if they have the same size, it is necessary to compare the sizes of both array\n",
    "print(f'The arrays \"a\" and \"b\" have the same size? {a.shape == b.shape}')"
   ]
  },
  {
   "cell_type": "markdown",
   "metadata": {
    "colab_type": "text",
    "id": "o9UzXk9IwCdi"
   },
   "source": [
    "#### 8. Are you able to add *a* and *b*? Why or why not?\n"
   ]
  },
  {
   "cell_type": "code",
   "execution_count": 10,
   "metadata": {
    "colab": {},
    "colab_type": "code",
    "id": "drdAyKPywCdj"
   },
   "outputs": [],
   "source": [
    "# your answer here\n",
    "\n",
    "# sum_a_b = a + b\n",
    "\n",
    "# Since the arrys 'a' and 'b' have different sizes (it was confirmed above), there is no way to add them together."
   ]
  },
  {
   "cell_type": "markdown",
   "metadata": {
    "colab_type": "text",
    "id": "DTsSOpvYwCdm"
   },
   "source": [
    "#### 9. Reshape *b* so that it has the same structure of *a* (i.e. become a 3x2x5 array). Assign the reshaped array to variable *c*.\n",
    "\n",
    "Expected output:\n",
    "\n",
    "````python\n",
    "      [[[1, 1, 1, 1, 1],\n",
    "        [1, 1, 1, 1, 1]],\n",
    "\n",
    "       [[1, 1, 1, 1, 1],\n",
    "        [1, 1, 1, 1, 1]],\n",
    "\n",
    "       [[1, 1, 1, 1, 1],\n",
    "        [1, 1, 1, 1, 1]]]\n",
    "````"
   ]
  },
  {
   "cell_type": "code",
   "execution_count": 11,
   "metadata": {
    "colab": {},
    "colab_type": "code",
    "id": "DjLlRJUtwCdn"
   },
   "outputs": [
    {
     "name": "stdout",
     "output_type": "stream",
     "text": [
      "[[[1 1 1 1 1]\n",
      "  [1 1 1 1 1]]\n",
      "\n",
      " [[1 1 1 1 1]\n",
      "  [1 1 1 1 1]]\n",
      "\n",
      " [[1 1 1 1 1]\n",
      "  [1 1 1 1 1]]]\n"
     ]
    }
   ],
   "source": [
    "# your code here\n",
    "\n",
    "c = np.reshape(b, (3, 2, 5))\n",
    "print(c)"
   ]
  },
  {
   "cell_type": "markdown",
   "metadata": {
    "colab_type": "text",
    "id": "fvHocQ9EwCdq"
   },
   "source": [
    "#### 10. Try to add *a* and *c*. Now it should work. Assign the sum to variable *d*. But why does it work now?"
   ]
  },
  {
   "cell_type": "code",
   "execution_count": 12,
   "metadata": {
    "colab": {},
    "colab_type": "code",
    "id": "Ohf5yh5ZwCdr"
   },
   "outputs": [
    {
     "name": "stdout",
     "output_type": "stream",
     "text": [
      "Now it is possible to add them together, because both arrays have the same size (3x2x5), since \"c\" stores a reshaped array of \"b\" with the size 3x2x5.\n"
     ]
    }
   ],
   "source": [
    "# your code/answer here\n",
    "\n",
    "d = a + c\n",
    "\n",
    "print('Now it is possible to add them together, because both arrays have the same size (3x2x5), since \"c\" stores', end=' ')\n",
    "print('a reshaped array of \"b\" with the size 3x2x5.')"
   ]
  },
  {
   "cell_type": "markdown",
   "metadata": {
    "colab_type": "text",
    "id": "DuQBMzQBwCdw"
   },
   "source": [
    "#### 11. Print *a* and *d*. Notice the difference and relation of the two array in terms of the values? Explain."
   ]
  },
  {
   "cell_type": "code",
   "execution_count": 13,
   "metadata": {
    "colab": {},
    "colab_type": "code",
    "id": "gEuh7iv1wCdx"
   },
   "outputs": [
    {
     "name": "stdout",
     "output_type": "stream",
     "text": [
      "Array \"a\":\n",
      "[[[0.12348241 0.50527688 0.49271015 0.87517456 0.20747976]\n",
      "  [0.75630427 0.1649355  0.31186828 0.9677737  0.28869434]]\n",
      "\n",
      " [[0.4053397  0.23078235 0.312252   0.16574213 0.36737237]\n",
      "  [0.30315092 0.641853   0.41816749 0.66189076 0.70597047]]\n",
      "\n",
      " [[0.70795566 0.72534775 0.25617834 0.98354511 0.70723502]\n",
      "  [0.65958254 0.18435292 0.121184   0.64998462 0.04752008]]]\n",
      "\n",
      "Array \"d\":\n",
      "[[[1.12348241 1.50527688 1.49271015 1.87517456 1.20747976]\n",
      "  [1.75630427 1.1649355  1.31186828 1.9677737  1.28869434]]\n",
      "\n",
      " [[1.4053397  1.23078235 1.312252   1.16574213 1.36737237]\n",
      "  [1.30315092 1.641853   1.41816749 1.66189076 1.70597047]]\n",
      "\n",
      " [[1.70795566 1.72534775 1.25617834 1.98354511 1.70723502]\n",
      "  [1.65958254 1.18435292 1.121184   1.64998462 1.04752008]]]\n",
      "\n",
      "Each element of the array \"d\" is greater exactly by one of its corresponding element on the array \"a\", since 1 (each element of \"c\") was added to its corresponding element of \"a\".\n"
     ]
    }
   ],
   "source": [
    "# your code/answer here\n",
    "\n",
    "print(f'Array \"a\":\\n{a}')\n",
    "print(f'\\nArray \"d\":\\n{d}')\n",
    "\n",
    "print('\\nEach element of the array \"d\" is greater exactly by one of its corresponding element on the array \"a\",', end=' ')\n",
    "print('since 1 (each element of \"c\") was added to its corresponding element of \"a\".')"
   ]
  },
  {
   "cell_type": "markdown",
   "metadata": {
    "colab_type": "text",
    "id": "Ka1popJ3wCd0"
   },
   "source": [
    "#### 12. Multiply *a* and *c*. Assign the result to *e*."
   ]
  },
  {
   "cell_type": "code",
   "execution_count": 14,
   "metadata": {
    "colab": {},
    "colab_type": "code",
    "id": "hLeCMiSEwCd1"
   },
   "outputs": [],
   "source": [
    "# your code here\n",
    "\n",
    "e = a * c"
   ]
  },
  {
   "cell_type": "markdown",
   "metadata": {
    "colab_type": "text",
    "id": "1QCqP6lMwCd5"
   },
   "source": [
    "#### 13. Does *e* equal to *a*? Why or why not?\n"
   ]
  },
  {
   "cell_type": "code",
   "execution_count": 15,
   "metadata": {
    "colab": {},
    "colab_type": "code",
    "id": "oxoat0cbwCd6"
   },
   "outputs": [
    {
     "name": "stdout",
     "output_type": "stream",
     "text": [
      "Array \"a\":\n",
      "[[[0.12348241 0.50527688 0.49271015 0.87517456 0.20747976]\n",
      "  [0.75630427 0.1649355  0.31186828 0.9677737  0.28869434]]\n",
      "\n",
      " [[0.4053397  0.23078235 0.312252   0.16574213 0.36737237]\n",
      "  [0.30315092 0.641853   0.41816749 0.66189076 0.70597047]]\n",
      "\n",
      " [[0.70795566 0.72534775 0.25617834 0.98354511 0.70723502]\n",
      "  [0.65958254 0.18435292 0.121184   0.64998462 0.04752008]]]\n",
      "\n",
      "Array \"e\":\n",
      "[[[0.12348241 0.50527688 0.49271015 0.87517456 0.20747976]\n",
      "  [0.75630427 0.1649355  0.31186828 0.9677737  0.28869434]]\n",
      "\n",
      " [[0.4053397  0.23078235 0.312252   0.16574213 0.36737237]\n",
      "  [0.30315092 0.641853   0.41816749 0.66189076 0.70597047]]\n",
      "\n",
      " [[0.70795566 0.72534775 0.25617834 0.98354511 0.70723502]\n",
      "  [0.65958254 0.18435292 0.121184   0.64998462 0.04752008]]]\n",
      "\n",
      "The array \"e\" EQUALS to the arrray \"a\".\n",
      "The multiplication of 3-D arrays using Numpy is not the same as the concept of matrix multiplication. Using Numpy, each element multiplies by its corresponding element of the other array. So, since all elements of the array \"c\" are one, multiplying the array \"a\" to the \"c\", the result should be equal to the array \"a\".\n"
     ]
    }
   ],
   "source": [
    "# your code/answer here\n",
    "\n",
    "# Print arrays 'a' and 'e' on the screen\n",
    "print(f'Array \"a\":\\n{a}')\n",
    "print(f'\\nArray \"e\":\\n{e}')\n",
    "\n",
    "# Check if arrays 'a' and 'e' are equal\n",
    "if np.count_nonzero((e == a) == True) == e.size == a.size:\n",
    "    print('\\nThe array \"e\" EQUALS to the arrray \"a\".')\n",
    "else:\n",
    "    print('\\nThe array \"e\" DOES NOT equal to the array \"a\".')\n",
    "\n",
    "# Reason for the array 'e' and 'a' be the same\n",
    "print('The multiplication of 3-D arrays using Numpy is not the same as the concept of matrix multiplication.', end=' ')\n",
    "print('Using Numpy, each element multiplies by its corresponding element of the other array. So, since all', end=' ')\n",
    "print('elements of the array \"c\" are one, multiplying the array \"a\" to the \"c\", the result should be equal to', end=' ')\n",
    "print('the array \"a\".')"
   ]
  },
  {
   "cell_type": "markdown",
   "metadata": {
    "colab_type": "text",
    "id": "b7ceZMcswCd9"
   },
   "source": [
    "#### 14. Identify the max, min, and mean values in *d*. Assign those values to variables *d_max*, *d_min* and *d_mean*."
   ]
  },
  {
   "cell_type": "code",
   "execution_count": 16,
   "metadata": {
    "colab": {},
    "colab_type": "code",
    "id": "ljd7J4ucwCd-"
   },
   "outputs": [
    {
     "name": "stdout",
     "output_type": "stream",
     "text": [
      "The maximum value in the array \"d\" is 1.9835451057363715.\n",
      "The minimum value in the array \"d\" is 1.0475200808329495.\n",
      "The mean of all elements of the array \"d\" is 1.4649702366749584.\n"
     ]
    }
   ],
   "source": [
    "# your code here\n",
    "\n",
    "# Maximum value in 'd'\n",
    "d_max = d.max()\n",
    "print(f'The maximum value in the array \"d\" is {d_max}.')\n",
    "\n",
    "# Minimum value in 'd'\n",
    "d_min = d.min()\n",
    "print(f'The minimum value in the array \"d\" is {d_min}.')\n",
    "\n",
    "# Mean value in 'd'\n",
    "d_mean = d.mean()\n",
    "print(f'The mean of all elements of the array \"d\" is {d_mean}.')"
   ]
  },
  {
   "cell_type": "markdown",
   "metadata": {
    "colab_type": "text",
    "id": "bBmZ1bg3wCeC"
   },
   "source": [
    "#### 15. Now we want to label the values in *d*. First create an empty array *f* with the same shape (i.e. 3x2x5) as *d* using `np.empty`.\n"
   ]
  },
  {
   "cell_type": "code",
   "execution_count": 17,
   "metadata": {
    "colab": {},
    "colab_type": "code",
    "id": "GVU7znV7wCeD"
   },
   "outputs": [
    {
     "name": "stdout",
     "output_type": "stream",
     "text": [
      "[[[0.12348241 0.50527688 0.49271015 0.87517456 0.20747976]\n",
      "  [0.75630427 0.1649355  0.31186828 0.9677737  0.28869434]]\n",
      "\n",
      " [[0.4053397  0.23078235 0.312252   0.16574213 0.36737237]\n",
      "  [0.30315092 0.641853   0.41816749 0.66189076 0.70597047]]\n",
      "\n",
      " [[0.70795566 0.72534775 0.25617834 0.98354511 0.70723502]\n",
      "  [0.65958254 0.18435292 0.121184   0.64998462 0.04752008]]]\n"
     ]
    }
   ],
   "source": [
    "# your code here\n",
    "\n",
    "f = np.empty([3, 2, 5])\n",
    "print(f)"
   ]
  },
  {
   "cell_type": "markdown",
   "metadata": {
    "colab_type": "text",
    "id": "cwZMaPTawCeG"
   },
   "source": [
    "#### 16. Populate the values in *f*. \n",
    "\n",
    "For each value in *d*, if it's larger than *d_min* but smaller than *d_mean*, assign 25 to the corresponding value in *f*. If a value in *d* is larger than *d_mean* but smaller than *d_max*, assign 75 to the corresponding value in *f*. If a value equals to *d_mean*, assign 50 to the corresponding value in *f*. Assign 0 to the corresponding value(s) in *f* for *d_min* in *d*. Assign 100 to the corresponding value(s) in *f* for *d_max* in *d*. In the end, f should have only the following values: 0, 25, 50, 75, and 100.\n",
    "\n",
    "**Note**: you don't have to use Numpy in this question."
   ]
  },
  {
   "cell_type": "code",
   "execution_count": 18,
   "metadata": {
    "colab": {},
    "colab_type": "code",
    "id": "He3bA8_vwCeI"
   },
   "outputs": [],
   "source": [
    "# your code here\n",
    "\n",
    "# Populating the array 'f'\n",
    "condlist = [(d > d_min) & (d < d_mean), (d > d_mean) & (d < d_max), d == d_mean, d == d_min, d == d_max]\n",
    "choicelist = [25, 75, 50, 0, 100]"
   ]
  },
  {
   "cell_type": "markdown",
   "metadata": {
    "colab_type": "text",
    "id": "DtXatajMwCeM"
   },
   "source": [
    "#### 17. Print *d* and *f*. Do you have your expected *f*?\n",
    "For instance, if your *d* is:\n",
    "```python\n",
    "[[[1.85836099, 1.67064465, 1.62576044, 1.40243961, 1.88454931],\n",
    "  [1.75354326, 1.69403643, 1.36729252, 1.61415071, 1.12104981]],\n",
    "\n",
    "[[1.72201435, 1.1862918 , 1.87078449, 1.7726778 , 1.88180042],\n",
    "  [1.44747908, 1.31673383, 1.02000951, 1.52218947, 1.97066381]],\n",
    "\n",
    "[[1.79129243, 1.74983003, 1.96028037, 1.85166831, 1.65450881],\n",
    " [1.18068344, 1.9587381 , 1.00656599, 1.93402165, 1.73514584]]]\n",
    "```\n",
    "Your *f* should be:\n",
    "```python\n",
    "[[[ 75.  75.  75.  25.  75.]\n",
    "  [ 75.  75.  25.  25.  25.]]\n",
    "\n",
    " [[ 75.  25.  75.  75.  75.]\n",
    "  [ 25.  25.  25.  25. 100.]]\n",
    "\n",
    " [[ 75.  75.  75.  75.  75.]\n",
    "  [ 25.  75.   0.  75.  75.]]]\n",
    "```"
   ]
  },
  {
   "cell_type": "code",
   "execution_count": 19,
   "metadata": {
    "colab": {},
    "colab_type": "code",
    "id": "wvC83zaUwCeN"
   },
   "outputs": [
    {
     "name": "stdout",
     "output_type": "stream",
     "text": [
      "Array \"d\"\n",
      "[[[1.12348241 1.50527688 1.49271015 1.87517456 1.20747976]\n",
      "  [1.75630427 1.1649355  1.31186828 1.9677737  1.28869434]]\n",
      "\n",
      " [[1.4053397  1.23078235 1.312252   1.16574213 1.36737237]\n",
      "  [1.30315092 1.641853   1.41816749 1.66189076 1.70597047]]\n",
      "\n",
      " [[1.70795566 1.72534775 1.25617834 1.98354511 1.70723502]\n",
      "  [1.65958254 1.18435292 1.121184   1.64998462 1.04752008]]]\n",
      "\n",
      "Array \"f\"\n",
      "[[[ 25  75  75  75  25]\n",
      "  [ 75  25  25  75  25]]\n",
      "\n",
      " [[ 25  25  25  25  25]\n",
      "  [ 25  75  25  75  75]]\n",
      "\n",
      " [[ 75  75  25 100  75]\n",
      "  [ 75  25  25  75   0]]]\n"
     ]
    }
   ],
   "source": [
    "# your code here\n",
    "\n",
    "# Print the array 'd'\n",
    "print(f'Array \"d\"\\n{d}')\n",
    "\n",
    "# Print the array 'f'\n",
    "print(f'\\nArray \"f\"\\n{np.select(condlist, choicelist)}')"
   ]
  },
  {
   "cell_type": "markdown",
   "metadata": {
    "colab_type": "text",
    "id": "ppRoFFJBwCeS"
   },
   "source": [
    "#### 18. Bonus question: instead of using numbers (i.e. 0, 25, 50, 75, and 100), use string values  (\"A\", \"B\", \"C\", \"D\", and \"E\") to label the array elements. For the example above, the expected result is:\n",
    "\n",
    "```python\n",
    "[[['D' 'D' 'D' 'B' 'D']\n",
    "  ['D' 'D' 'B' 'B' 'B']]\n",
    "\n",
    " [['D' 'B' 'D' 'D' 'D']\n",
    "  ['B' 'B' 'B' 'B' 'E']]\n",
    "\n",
    " [['D' 'D' 'D' 'D' 'D']\n",
    "  ['B' 'D' 'A' 'D' 'D']]]\n",
    "```\n",
    "**Note**: you don't have to use Numpy in this question."
   ]
  },
  {
   "cell_type": "code",
   "execution_count": 20,
   "metadata": {
    "colab": {},
    "colab_type": "code",
    "id": "xbBNSrnCwCeU"
   },
   "outputs": [
    {
     "name": "stdout",
     "output_type": "stream",
     "text": [
      "Array \"d\"\n",
      "[[[1.12348241 1.50527688 1.49271015 1.87517456 1.20747976]\n",
      "  [1.75630427 1.1649355  1.31186828 1.9677737  1.28869434]]\n",
      "\n",
      " [[1.4053397  1.23078235 1.312252   1.16574213 1.36737237]\n",
      "  [1.30315092 1.641853   1.41816749 1.66189076 1.70597047]]\n",
      "\n",
      " [[1.70795566 1.72534775 1.25617834 1.98354511 1.70723502]\n",
      "  [1.65958254 1.18435292 1.121184   1.64998462 1.04752008]]]\n",
      "\n",
      "Array \"f\"\n",
      "[[['B' 'D' 'D' 'D' 'B']\n",
      "  ['D' 'B' 'B' 'D' 'B']]\n",
      "\n",
      " [['B' 'B' 'B' 'B' 'B']\n",
      "  ['B' 'D' 'B' 'D' 'D']]\n",
      "\n",
      " [['D' 'D' 'B' 'E' 'D']\n",
      "  ['D' 'B' 'B' 'D' 'A']]]\n"
     ]
    }
   ],
   "source": [
    "# your code here\n",
    "\n",
    "# Changing [0, 25, 50, 75, 100] to ['A', 'B', 'C', 'D', 'E']\n",
    "condlist = [(d > d_min) & (d < d_mean), (d > d_mean) & (d < d_max), d == d_mean, d == d_min, d == d_max]\n",
    "choicelist = ['B', 'D', 'C', 'A', 'E']\n",
    "\n",
    "# Print the array 'd'\n",
    "print(f'Array \"d\"\\n{d}')\n",
    "\n",
    "# Print the array 'f'\n",
    "print(f'\\nArray \"f\"\\n{np.select(condlist, choicelist)}')"
   ]
  },
  {
   "cell_type": "markdown",
   "metadata": {
    "colab_type": "text",
    "id": "QzJyLQiFMsyT"
   },
   "source": [
    "## Additional Challenges for the Nerds\n",
    "\n",
    "If you are way ahead of your classmates and willing to accept some tough challenges about Numpy, take one or several of the following Codewar *katas*. \tYou need to already possess a good amount of knowledge in Python and statistics because you will need to write Python functions, do loops, write conditionals, and deal with matrices.\n",
    "\n",
    "* [Insert dashes](https://www.codewars.com/kata/insert-dashes)\n",
    "* [Thinkful - Logic Drills: Red and bumpy](https://www.codewars.com/kata/thinkful-logic-drills-red-and-bumpy)"
   ]
  },
  {
   "cell_type": "code",
   "execution_count": null,
   "metadata": {
    "colab": {},
    "colab_type": "code",
    "id": "fy2EwolQMtfJ"
   },
   "outputs": [],
   "source": []
  }
 ],
 "metadata": {
  "colab": {
   "collapsed_sections": [],
   "name": "main.ipynb",
   "provenance": []
  },
  "kernelspec": {
   "display_name": "Python 3",
   "language": "python",
   "name": "python3"
  },
  "language_info": {
   "codemirror_mode": {
    "name": "ipython",
    "version": 3
   },
   "file_extension": ".py",
   "mimetype": "text/x-python",
   "name": "python",
   "nbconvert_exporter": "python",
   "pygments_lexer": "ipython3",
   "version": "3.8.3"
  },
  "toc": {
   "base_numbering": 1,
   "nav_menu": {},
   "number_sections": true,
   "sideBar": true,
   "skip_h1_title": false,
   "title_cell": "Table of Contents",
   "title_sidebar": "Contents",
   "toc_cell": false,
   "toc_position": {},
   "toc_section_display": true,
   "toc_window_display": false
  },
  "varInspector": {
   "cols": {
    "lenName": 16,
    "lenType": 16,
    "lenVar": 40
   },
   "kernels_config": {
    "python": {
     "delete_cmd_postfix": "",
     "delete_cmd_prefix": "del ",
     "library": "var_list.py",
     "varRefreshCmd": "print(var_dic_list())"
    },
    "r": {
     "delete_cmd_postfix": ") ",
     "delete_cmd_prefix": "rm(",
     "library": "var_list.r",
     "varRefreshCmd": "cat(var_dic_list()) "
    }
   },
   "types_to_exclude": [
    "module",
    "function",
    "builtin_function_or_method",
    "instance",
    "_Feature"
   ],
   "window_display": false
  }
 },
 "nbformat": 4,
 "nbformat_minor": 1
}
