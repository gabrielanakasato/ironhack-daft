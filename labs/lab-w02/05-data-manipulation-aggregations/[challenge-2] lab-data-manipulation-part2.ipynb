{
 "cells": [
  {
   "cell_type": "markdown",
   "metadata": {
    "colab_type": "text",
    "id": "POEIAidnx9c_"
   },
   "source": [
    "# Lab-Data-Manipulation - Group By and Joins"
   ]
  },
  {
   "cell_type": "code",
   "execution_count": 1,
   "metadata": {},
   "outputs": [],
   "source": [
    "import pandas as pd"
   ]
  },
  {
   "cell_type": "code",
   "execution_count": 2,
   "metadata": {
    "colab": {},
    "colab_type": "code",
    "id": "glDk4Evj7LIK"
   },
   "outputs": [],
   "source": [
    "# setup from last exercise\n",
    "\n",
    "# # Load the dataset into a Pandas DataFrame\n",
    "ufo = pd.read_csv('data/ufo.csv', sep=';')\n",
    "\n",
    "# Remove the first column, since it is just for indexing the rows\n",
    "ufo = ufo.drop('Unnamed: 0', axis=1)\n",
    "\n",
    "# Create a subset of the dataset with the desired columns\n",
    "ufo_vars = ufo.loc[:, ['year', 'month', 'state', 'country', 'ufo_shape', 'encounter_length']].rename(columns={'encounter_length': 'encounter_seconds'})\n",
    "\n",
    "# Filter the dataset 'ufo_vars'\n",
    "ufo_us = ufo_vars.loc[ufo_vars['country'] == 'us', :]"
   ]
  },
  {
   "cell_type": "markdown",
   "metadata": {
    "colab_type": "text",
    "id": "RZWjmeRHx9dB"
   },
   "source": [
    "The second part of this lab consists of grouping and merging results to obtain valuable information."
   ]
  },
  {
   "cell_type": "markdown",
   "metadata": {
    "colab_type": "text",
    "id": "qWFvQILBx9dC"
   },
   "source": [
    "# Grouping up the results. "
   ]
  },
  {
   "cell_type": "markdown",
   "metadata": {
    "colab_type": "text",
    "id": "rSS9Z4Atx9dD"
   },
   "source": [
    "## Let's calculate the average of the encounter for each country.\n",
    "\n",
    "We should now group the results by the country column to see what is the mean encounter_seconds for each country. Do this using the `groupby` method of your dataframe `ufo_vars`. What is the average of the encounter for the us? And for Canada?\n",
    "\n",
    "Remember that after grouping by a column, you have to specify a `aggregating function`. If you don't do that, the results of the groupby will only be a `groupby` pandas object. For this case, we want the aggregating function to be the `mean` function and then the results will appear for us.\n",
    "\n",
    "Also remember that **if you don't** specify the `as_index=False` argument, the variables you use to group are going to become your new indexes.\n",
    "\n",
    "Expected output:\n",
    "\n",
    ">\n",
    ">|    | country   |    year |   month |   encounter_seconds |\n",
    "|---:|:----------|--------:|--------:|--------------------:|\n",
    "|  0 | au        | 2002.69 | 6.12825 |             3806.47 |\n",
    "|  1 | ca        | 2003.69 | 6.86167 |            28859.43 |\n",
    "|  2 | de        | 2001.54 | 6.24762 |            24255.98 |\n",
    "|  3 | gb        | 2003.65 | 6.5622  |            66061.32 |\n",
    "|  4 | us        | 2004.09 | 6.8616  |             5800.19 |"
   ]
  },
  {
   "cell_type": "code",
   "execution_count": 3,
   "metadata": {
    "colab": {},
    "colab_type": "code",
    "id": "pF0idJjzx9dE",
    "scrolled": true
   },
   "outputs": [
    {
     "data": {
      "text/html": [
       "<style  type=\"text/css\" >\n",
       "</style><table id=\"T_dc6d87c1_e7e3_11ea_bb6c_089798686601\" ><thead>    <tr>        <th class=\"blank level0\" ></th>        <th class=\"col_heading level0 col0\" >country</th>        <th class=\"col_heading level0 col1\" >year</th>        <th class=\"col_heading level0 col2\" >month</th>        <th class=\"col_heading level0 col3\" >encounter_seconds</th>    </tr></thead><tbody>\n",
       "                <tr>\n",
       "                        <th id=\"T_dc6d87c1_e7e3_11ea_bb6c_089798686601level0_row0\" class=\"row_heading level0 row0\" >0</th>\n",
       "                        <td id=\"T_dc6d87c1_e7e3_11ea_bb6c_089798686601row0_col0\" class=\"data row0 col0\" >au</td>\n",
       "                        <td id=\"T_dc6d87c1_e7e3_11ea_bb6c_089798686601row0_col1\" class=\"data row0 col1\" >2002.69</td>\n",
       "                        <td id=\"T_dc6d87c1_e7e3_11ea_bb6c_089798686601row0_col2\" class=\"data row0 col2\" >6.1283</td>\n",
       "                        <td id=\"T_dc6d87c1_e7e3_11ea_bb6c_089798686601row0_col3\" class=\"data row0 col3\" >3806.47</td>\n",
       "            </tr>\n",
       "            <tr>\n",
       "                        <th id=\"T_dc6d87c1_e7e3_11ea_bb6c_089798686601level0_row1\" class=\"row_heading level0 row1\" >1</th>\n",
       "                        <td id=\"T_dc6d87c1_e7e3_11ea_bb6c_089798686601row1_col0\" class=\"data row1 col0\" >ca</td>\n",
       "                        <td id=\"T_dc6d87c1_e7e3_11ea_bb6c_089798686601row1_col1\" class=\"data row1 col1\" >2003.69</td>\n",
       "                        <td id=\"T_dc6d87c1_e7e3_11ea_bb6c_089798686601row1_col2\" class=\"data row1 col2\" >6.8617</td>\n",
       "                        <td id=\"T_dc6d87c1_e7e3_11ea_bb6c_089798686601row1_col3\" class=\"data row1 col3\" >28859.44</td>\n",
       "            </tr>\n",
       "            <tr>\n",
       "                        <th id=\"T_dc6d87c1_e7e3_11ea_bb6c_089798686601level0_row2\" class=\"row_heading level0 row2\" >2</th>\n",
       "                        <td id=\"T_dc6d87c1_e7e3_11ea_bb6c_089798686601row2_col0\" class=\"data row2 col0\" >de</td>\n",
       "                        <td id=\"T_dc6d87c1_e7e3_11ea_bb6c_089798686601row2_col1\" class=\"data row2 col1\" >2001.54</td>\n",
       "                        <td id=\"T_dc6d87c1_e7e3_11ea_bb6c_089798686601row2_col2\" class=\"data row2 col2\" >6.2476</td>\n",
       "                        <td id=\"T_dc6d87c1_e7e3_11ea_bb6c_089798686601row2_col3\" class=\"data row2 col3\" >24255.98</td>\n",
       "            </tr>\n",
       "            <tr>\n",
       "                        <th id=\"T_dc6d87c1_e7e3_11ea_bb6c_089798686601level0_row3\" class=\"row_heading level0 row3\" >3</th>\n",
       "                        <td id=\"T_dc6d87c1_e7e3_11ea_bb6c_089798686601row3_col0\" class=\"data row3 col0\" >gb</td>\n",
       "                        <td id=\"T_dc6d87c1_e7e3_11ea_bb6c_089798686601row3_col1\" class=\"data row3 col1\" >2003.65</td>\n",
       "                        <td id=\"T_dc6d87c1_e7e3_11ea_bb6c_089798686601row3_col2\" class=\"data row3 col2\" >6.5622</td>\n",
       "                        <td id=\"T_dc6d87c1_e7e3_11ea_bb6c_089798686601row3_col3\" class=\"data row3 col3\" >66061.32</td>\n",
       "            </tr>\n",
       "            <tr>\n",
       "                        <th id=\"T_dc6d87c1_e7e3_11ea_bb6c_089798686601level0_row4\" class=\"row_heading level0 row4\" >4</th>\n",
       "                        <td id=\"T_dc6d87c1_e7e3_11ea_bb6c_089798686601row4_col0\" class=\"data row4 col0\" >us</td>\n",
       "                        <td id=\"T_dc6d87c1_e7e3_11ea_bb6c_089798686601row4_col1\" class=\"data row4 col1\" >2004.09</td>\n",
       "                        <td id=\"T_dc6d87c1_e7e3_11ea_bb6c_089798686601row4_col2\" class=\"data row4 col2\" >6.8616</td>\n",
       "                        <td id=\"T_dc6d87c1_e7e3_11ea_bb6c_089798686601row4_col3\" class=\"data row4 col3\" >5800.19</td>\n",
       "            </tr>\n",
       "    </tbody></table>"
      ],
      "text/plain": [
       "<pandas.io.formats.style.Styler at 0x188ffb3f730>"
      ]
     },
     "execution_count": 3,
     "metadata": {},
     "output_type": "execute_result"
    }
   ],
   "source": [
    "# Group by country and find the average\n",
    "ufo_vars.groupby(by='country', as_index=False).mean().style.format({'year': '{:.2f}', 'month': '{:.4f}', 'encounter_seconds': '{:.2f}'})"
   ]
  },
  {
   "cell_type": "code",
   "execution_count": 4,
   "metadata": {},
   "outputs": [
    {
     "name": "stdout",
     "output_type": "stream",
     "text": [
      "The average encounter for the US is 5,800.19, while for Canada is 28,859.43.\n"
     ]
    }
   ],
   "source": [
    "# Print answers on the screen\n",
    "print('The average encounter for the US is 5,800.19, while for Canada is 28,859.43.')"
   ]
  },
  {
   "cell_type": "markdown",
   "metadata": {
    "colab_type": "text",
    "id": "6h4dwqIcx9dL"
   },
   "source": [
    "## Perform the same task, but instead of calculating the mean, count how many occurrances for each country.\n",
    "\n",
    "For this case, the aggregating function should be the `count` function. Try to understand the results for each column.\n",
    "\n",
    "Expected output:\n",
    "\n",
    ">\n",
    ">|    | country   |   year |   month |   state |   ufo_shape |   encounter_seconds |\n",
    "|---:|:----------|-------:|--------:|--------:|------------:|--------------------:|\n",
    "|  0 | au        |    538 |     538 |      10 |         527 |                 538 |\n",
    "|  1 | ca        |   3000 |    3000 |    2985 |        2955 |                3000 |\n",
    "|  2 | de        |    105 |     105 |       0 |         103 |                 105 |\n",
    "|  3 | gb        |   1905 |    1905 |      12 |        1855 |                1905 |\n",
    "|  4 | us        |  65114 |   65114 |   65114 |       63561 |               65112 |"
   ]
  },
  {
   "cell_type": "code",
   "execution_count": 5,
   "metadata": {
    "colab": {},
    "colab_type": "code",
    "id": "TMmxniPzx9dM"
   },
   "outputs": [
    {
     "data": {
      "text/html": [
       "<div>\n",
       "<style scoped>\n",
       "    .dataframe tbody tr th:only-of-type {\n",
       "        vertical-align: middle;\n",
       "    }\n",
       "\n",
       "    .dataframe tbody tr th {\n",
       "        vertical-align: top;\n",
       "    }\n",
       "\n",
       "    .dataframe thead th {\n",
       "        text-align: right;\n",
       "    }\n",
       "</style>\n",
       "<table border=\"1\" class=\"dataframe\">\n",
       "  <thead>\n",
       "    <tr style=\"text-align: right;\">\n",
       "      <th></th>\n",
       "      <th>country</th>\n",
       "      <th>year</th>\n",
       "      <th>month</th>\n",
       "      <th>state</th>\n",
       "      <th>ufo_shape</th>\n",
       "      <th>encounter_seconds</th>\n",
       "    </tr>\n",
       "  </thead>\n",
       "  <tbody>\n",
       "    <tr>\n",
       "      <th>0</th>\n",
       "      <td>au</td>\n",
       "      <td>538</td>\n",
       "      <td>538</td>\n",
       "      <td>10</td>\n",
       "      <td>527</td>\n",
       "      <td>538</td>\n",
       "    </tr>\n",
       "    <tr>\n",
       "      <th>1</th>\n",
       "      <td>ca</td>\n",
       "      <td>3000</td>\n",
       "      <td>3000</td>\n",
       "      <td>2985</td>\n",
       "      <td>2955</td>\n",
       "      <td>3000</td>\n",
       "    </tr>\n",
       "    <tr>\n",
       "      <th>2</th>\n",
       "      <td>de</td>\n",
       "      <td>105</td>\n",
       "      <td>105</td>\n",
       "      <td>0</td>\n",
       "      <td>103</td>\n",
       "      <td>105</td>\n",
       "    </tr>\n",
       "    <tr>\n",
       "      <th>3</th>\n",
       "      <td>gb</td>\n",
       "      <td>1905</td>\n",
       "      <td>1905</td>\n",
       "      <td>12</td>\n",
       "      <td>1855</td>\n",
       "      <td>1905</td>\n",
       "    </tr>\n",
       "    <tr>\n",
       "      <th>4</th>\n",
       "      <td>us</td>\n",
       "      <td>65114</td>\n",
       "      <td>65114</td>\n",
       "      <td>65114</td>\n",
       "      <td>63561</td>\n",
       "      <td>65112</td>\n",
       "    </tr>\n",
       "  </tbody>\n",
       "</table>\n",
       "</div>"
      ],
      "text/plain": [
       "  country   year  month  state  ufo_shape  encounter_seconds\n",
       "0      au    538    538     10        527                538\n",
       "1      ca   3000   3000   2985       2955               3000\n",
       "2      de    105    105      0        103                105\n",
       "3      gb   1905   1905     12       1855               1905\n",
       "4      us  65114  65114  65114      63561              65112"
      ]
     },
     "execution_count": 5,
     "metadata": {},
     "output_type": "execute_result"
    }
   ],
   "source": [
    "# Group by country and find the number of occurances\n",
    "ufo_vars.groupby(by='country', as_index=False).count()"
   ]
  },
  {
   "cell_type": "markdown",
   "metadata": {
    "colab_type": "text",
    "id": "rlAjU9Byx9dP"
   },
   "source": [
    "## Perform the same task, but instead of calculating the mean, use the `.describe()` aggregating function to see the effects.\n",
    "\n",
    "The describe aggregating function will show you several important statistics for the grouped results, such as `mean`, `median`, `standard deviation`, `count`, `max`, `min`, and so on.\n",
    "\n",
    "*Hint: If it starts to get difficult to see the results, you can tranpose the resulting dataframe by just putting a `.T` at the end.*\n",
    "\n",
    "Expected output:\n",
    "\n",
    ">\n",
    ">|                   |   count |       mean |          std |      min |   25% |   50% |   75% |           max |\n",
    "|:------------------|--------:|-----------:|-------------:|---------:|------:|------:|------:|--------------:|\n",
    "| year              |   80332 | 2003.85    |     10.4268  | 1906     |  2001 |  2006 |  2011 | 2014          |\n",
    "| month             |   80332 |    6.83491 |      3.23486 |    1     |     4 |     7 |     9 |   12          |\n",
    "| encounter_seconds |   80329 | 9017.23    | 620228       |    0.001 |    30 |   180 |   600 |    97836000   |"
   ]
  },
  {
   "cell_type": "code",
   "execution_count": 6,
   "metadata": {
    "colab": {},
    "colab_type": "code",
    "id": "o5KgjeRAx9dQ"
   },
   "outputs": [
    {
     "data": {
      "text/html": [
       "<div>\n",
       "<style scoped>\n",
       "    .dataframe tbody tr th:only-of-type {\n",
       "        vertical-align: middle;\n",
       "    }\n",
       "\n",
       "    .dataframe tbody tr th {\n",
       "        vertical-align: top;\n",
       "    }\n",
       "\n",
       "    .dataframe thead th {\n",
       "        text-align: right;\n",
       "    }\n",
       "</style>\n",
       "<table border=\"1\" class=\"dataframe\">\n",
       "  <thead>\n",
       "    <tr style=\"text-align: right;\">\n",
       "      <th></th>\n",
       "      <th>count</th>\n",
       "      <th>mean</th>\n",
       "      <th>std</th>\n",
       "      <th>min</th>\n",
       "      <th>25%</th>\n",
       "      <th>50%</th>\n",
       "      <th>75%</th>\n",
       "      <th>max</th>\n",
       "    </tr>\n",
       "  </thead>\n",
       "  <tbody>\n",
       "    <tr>\n",
       "      <th>year</th>\n",
       "      <td>80332.0</td>\n",
       "      <td>2003.850085</td>\n",
       "      <td>10.426832</td>\n",
       "      <td>1906.000</td>\n",
       "      <td>2001.0</td>\n",
       "      <td>2006.0</td>\n",
       "      <td>2011.0</td>\n",
       "      <td>2014.0</td>\n",
       "    </tr>\n",
       "    <tr>\n",
       "      <th>month</th>\n",
       "      <td>80332.0</td>\n",
       "      <td>6.834910</td>\n",
       "      <td>3.234863</td>\n",
       "      <td>1.000</td>\n",
       "      <td>4.0</td>\n",
       "      <td>7.0</td>\n",
       "      <td>9.0</td>\n",
       "      <td>12.0</td>\n",
       "    </tr>\n",
       "    <tr>\n",
       "      <th>encounter_seconds</th>\n",
       "      <td>80329.0</td>\n",
       "      <td>9017.225634</td>\n",
       "      <td>620228.369318</td>\n",
       "      <td>0.001</td>\n",
       "      <td>30.0</td>\n",
       "      <td>180.0</td>\n",
       "      <td>600.0</td>\n",
       "      <td>97836000.0</td>\n",
       "    </tr>\n",
       "  </tbody>\n",
       "</table>\n",
       "</div>"
      ],
      "text/plain": [
       "                     count         mean            std       min     25%  \\\n",
       "year               80332.0  2003.850085      10.426832  1906.000  2001.0   \n",
       "month              80332.0     6.834910       3.234863     1.000     4.0   \n",
       "encounter_seconds  80329.0  9017.225634  620228.369318     0.001    30.0   \n",
       "\n",
       "                      50%     75%         max  \n",
       "year               2006.0  2011.0      2014.0  \n",
       "month                 7.0     9.0        12.0  \n",
       "encounter_seconds   180.0   600.0  97836000.0  "
      ]
     },
     "execution_count": 6,
     "metadata": {},
     "output_type": "execute_result"
    }
   ],
   "source": [
    "# Check the statiscal summary of the dataset\n",
    "ufo_vars.describe().T"
   ]
  },
  {
   "cell_type": "markdown",
   "metadata": {
    "colab_type": "text",
    "id": "9z91bvWTx9dV"
   },
   "source": [
    "## Now, let's get deeper in the analysis and group the results not only by country. But by `country` and `year`"
   ]
  },
  {
   "cell_type": "markdown",
   "metadata": {
    "colab_type": "text",
    "id": "xs1Jci5Dx9dV"
   },
   "source": [
    "### Check the values of the mean and count for the `encounter_seconds` variable for each year. Can you see some discrepancy?\n",
    "\n",
    "*Hint*: If you want, you can use the `ufo_us` dataset just to see the results for the united states. You could also (in a hacky way) perform the filter right before the groupby operation if you wanted."
   ]
  },
  {
   "cell_type": "code",
   "execution_count": 7,
   "metadata": {
    "colab": {},
    "colab_type": "code",
    "id": "7HajcC1ox9dX",
    "scrolled": false
   },
   "outputs": [
    {
     "data": {
      "text/html": [
       "<div>\n",
       "<style scoped>\n",
       "    .dataframe tbody tr th:only-of-type {\n",
       "        vertical-align: middle;\n",
       "    }\n",
       "\n",
       "    .dataframe tbody tr th {\n",
       "        vertical-align: top;\n",
       "    }\n",
       "\n",
       "    .dataframe thead tr th {\n",
       "        text-align: left;\n",
       "    }\n",
       "</style>\n",
       "<table border=\"1\" class=\"dataframe\">\n",
       "  <thead>\n",
       "    <tr>\n",
       "      <th>country</th>\n",
       "      <th colspan=\"10\" halign=\"left\">au</th>\n",
       "      <th>...</th>\n",
       "      <th colspan=\"10\" halign=\"left\">us</th>\n",
       "    </tr>\n",
       "    <tr>\n",
       "      <th>year</th>\n",
       "      <th>1958</th>\n",
       "      <th>1960</th>\n",
       "      <th>1967</th>\n",
       "      <th>1968</th>\n",
       "      <th>1972</th>\n",
       "      <th>1974</th>\n",
       "      <th>1975</th>\n",
       "      <th>1976</th>\n",
       "      <th>1977</th>\n",
       "      <th>1978</th>\n",
       "      <th>...</th>\n",
       "      <th>2005</th>\n",
       "      <th>2006</th>\n",
       "      <th>2007</th>\n",
       "      <th>2008</th>\n",
       "      <th>2009</th>\n",
       "      <th>2010</th>\n",
       "      <th>2011</th>\n",
       "      <th>2012</th>\n",
       "      <th>2013</th>\n",
       "      <th>2014</th>\n",
       "    </tr>\n",
       "  </thead>\n",
       "  <tbody>\n",
       "    <tr>\n",
       "      <th>encounter_seconds</th>\n",
       "      <td>2700.0</td>\n",
       "      <td>180.0</td>\n",
       "      <td>300.0</td>\n",
       "      <td>300.0</td>\n",
       "      <td>403.333333</td>\n",
       "      <td>1845.0</td>\n",
       "      <td>706.0</td>\n",
       "      <td>101.0</td>\n",
       "      <td>30.0</td>\n",
       "      <td>82.5</td>\n",
       "      <td>...</td>\n",
       "      <td>1126.444772</td>\n",
       "      <td>1156.480149</td>\n",
       "      <td>2539.177378</td>\n",
       "      <td>4336.709833</td>\n",
       "      <td>3229.618521</td>\n",
       "      <td>2271.987232</td>\n",
       "      <td>2544.292555</td>\n",
       "      <td>10640.644916</td>\n",
       "      <td>1266.387888</td>\n",
       "      <td>782.372979</td>\n",
       "    </tr>\n",
       "  </tbody>\n",
       "</table>\n",
       "<p>1 rows × 282 columns</p>\n",
       "</div>"
      ],
      "text/plain": [
       "country                au                                                  \\\n",
       "year                 1958   1960   1967   1968        1972    1974   1975   \n",
       "encounter_seconds  2700.0  180.0  300.0  300.0  403.333333  1845.0  706.0   \n",
       "\n",
       "country                               ...           us               \\\n",
       "year                1976  1977  1978  ...         2005         2006   \n",
       "encounter_seconds  101.0  30.0  82.5  ...  1126.444772  1156.480149   \n",
       "\n",
       "country                                                                \\\n",
       "year                      2007         2008         2009         2010   \n",
       "encounter_seconds  2539.177378  4336.709833  3229.618521  2271.987232   \n",
       "\n",
       "country                                                                \n",
       "year                      2011          2012         2013        2014  \n",
       "encounter_seconds  2544.292555  10640.644916  1266.387888  782.372979  \n",
       "\n",
       "[1 rows x 282 columns]"
      ]
     },
     "execution_count": 7,
     "metadata": {},
     "output_type": "execute_result"
    }
   ],
   "source": [
    "# Group by 'country' and 'year' of all the dataset and find the mean for 'encounter_seconds'\n",
    "ufo_vars.groupby(by=['country', 'year'])[['encounter_seconds']].mean().T  # This is a dataframe"
   ]
  },
  {
   "cell_type": "code",
   "execution_count": 8,
   "metadata": {
    "scrolled": false
   },
   "outputs": [
    {
     "data": {
      "text/html": [
       "<div>\n",
       "<style scoped>\n",
       "    .dataframe tbody tr th:only-of-type {\n",
       "        vertical-align: middle;\n",
       "    }\n",
       "\n",
       "    .dataframe tbody tr th {\n",
       "        vertical-align: top;\n",
       "    }\n",
       "\n",
       "    .dataframe thead tr th {\n",
       "        text-align: left;\n",
       "    }\n",
       "</style>\n",
       "<table border=\"1\" class=\"dataframe\">\n",
       "  <thead>\n",
       "    <tr>\n",
       "      <th>country</th>\n",
       "      <th colspan=\"10\" halign=\"left\">au</th>\n",
       "      <th>...</th>\n",
       "      <th colspan=\"10\" halign=\"left\">us</th>\n",
       "    </tr>\n",
       "    <tr>\n",
       "      <th>year</th>\n",
       "      <th>1958</th>\n",
       "      <th>1960</th>\n",
       "      <th>1967</th>\n",
       "      <th>1968</th>\n",
       "      <th>1972</th>\n",
       "      <th>1974</th>\n",
       "      <th>1975</th>\n",
       "      <th>1976</th>\n",
       "      <th>1977</th>\n",
       "      <th>1978</th>\n",
       "      <th>...</th>\n",
       "      <th>2005</th>\n",
       "      <th>2006</th>\n",
       "      <th>2007</th>\n",
       "      <th>2008</th>\n",
       "      <th>2009</th>\n",
       "      <th>2010</th>\n",
       "      <th>2011</th>\n",
       "      <th>2012</th>\n",
       "      <th>2013</th>\n",
       "      <th>2014</th>\n",
       "    </tr>\n",
       "  </thead>\n",
       "  <tbody>\n",
       "    <tr>\n",
       "      <th>encounter_seconds</th>\n",
       "      <td>1</td>\n",
       "      <td>1</td>\n",
       "      <td>1</td>\n",
       "      <td>1</td>\n",
       "      <td>3</td>\n",
       "      <td>2</td>\n",
       "      <td>4</td>\n",
       "      <td>3</td>\n",
       "      <td>1</td>\n",
       "      <td>2</td>\n",
       "      <td>...</td>\n",
       "      <td>3227</td>\n",
       "      <td>2884</td>\n",
       "      <td>3470</td>\n",
       "      <td>4017</td>\n",
       "      <td>3677</td>\n",
       "      <td>3548</td>\n",
       "      <td>4379</td>\n",
       "      <td>6320</td>\n",
       "      <td>6056</td>\n",
       "      <td>1964</td>\n",
       "    </tr>\n",
       "  </tbody>\n",
       "</table>\n",
       "<p>1 rows × 282 columns</p>\n",
       "</div>"
      ],
      "text/plain": [
       "country             au                                               ...  \\\n",
       "year              1958 1960 1967 1968 1972 1974 1975 1976 1977 1978  ...   \n",
       "encounter_seconds    1    1    1    1    3    2    4    3    1    2  ...   \n",
       "\n",
       "country              us                                                        \n",
       "year               2005  2006  2007  2008  2009  2010  2011  2012  2013  2014  \n",
       "encounter_seconds  3227  2884  3470  4017  3677  3548  4379  6320  6056  1964  \n",
       "\n",
       "[1 rows x 282 columns]"
      ]
     },
     "execution_count": 8,
     "metadata": {},
     "output_type": "execute_result"
    }
   ],
   "source": [
    "# Group by 'country' and 'year' of all the dataset and find the number for 'encounter_seconds'\n",
    "ufo_vars.groupby(by=['country', 'year'])[['encounter_seconds']].count().T  # This is a dataframe"
   ]
  },
  {
   "cell_type": "code",
   "execution_count": 9,
   "metadata": {},
   "outputs": [
    {
     "name": "stdout",
     "output_type": "stream",
     "text": [
      "The discrepancy of the mean of \"encounter_seconds\" throughtout the years can be verified checking the standad deviation, which is 43268.25, a extremely high value.\n"
     ]
    },
    {
     "data": {
      "text/html": [
       "<div>\n",
       "<style scoped>\n",
       "    .dataframe tbody tr th:only-of-type {\n",
       "        vertical-align: middle;\n",
       "    }\n",
       "\n",
       "    .dataframe tbody tr th {\n",
       "        vertical-align: top;\n",
       "    }\n",
       "\n",
       "    .dataframe thead th {\n",
       "        text-align: right;\n",
       "    }\n",
       "</style>\n",
       "<table border=\"1\" class=\"dataframe\">\n",
       "  <thead>\n",
       "    <tr style=\"text-align: right;\">\n",
       "      <th></th>\n",
       "      <th>count</th>\n",
       "      <th>mean</th>\n",
       "      <th>std</th>\n",
       "      <th>min</th>\n",
       "      <th>25%</th>\n",
       "      <th>50%</th>\n",
       "      <th>75%</th>\n",
       "      <th>max</th>\n",
       "    </tr>\n",
       "  </thead>\n",
       "  <tbody>\n",
       "    <tr>\n",
       "      <th>encounter_seconds</th>\n",
       "      <td>83.0</td>\n",
       "      <td>12185.564977</td>\n",
       "      <td>43268.254528</td>\n",
       "      <td>5.0</td>\n",
       "      <td>810.104015</td>\n",
       "      <td>1290.0</td>\n",
       "      <td>3959.6387</td>\n",
       "      <td>372312.563889</td>\n",
       "    </tr>\n",
       "  </tbody>\n",
       "</table>\n",
       "</div>"
      ],
      "text/plain": [
       "                   count          mean           std  min         25%     50%  \\\n",
       "encounter_seconds   83.0  12185.564977  43268.254528  5.0  810.104015  1290.0   \n",
       "\n",
       "                         75%            max  \n",
       "encounter_seconds  3959.6387  372312.563889  "
      ]
     },
     "execution_count": 9,
     "metadata": {},
     "output_type": "execute_result"
    }
   ],
   "source": [
    "# Group by 'year' of the dataset only for the US and find the mean for 'encounter_seconds' and store its statistical\n",
    "# summary in a variable\n",
    "ufo_us_mean_summary = ufo_us.groupby(by='year')[['encounter_seconds']].mean().describe().T.to_dict()\n",
    "\n",
    "# Print the answer on the screen\n",
    "print(f'The discrepancy of the mean of \"encounter_seconds\" throughtout the years can be verified checking the standad',\n",
    "      f'deviation, which is {ufo_us_mean_summary[\"std\"][\"encounter_seconds\"]:.2f}, a extremely high value.', sep=' ')\n",
    "ufo_us.groupby(by='year')[['encounter_seconds']].mean().describe().T"
   ]
  },
  {
   "cell_type": "code",
   "execution_count": 10,
   "metadata": {},
   "outputs": [
    {
     "name": "stdout",
     "output_type": "stream",
     "text": [
      "Similar to what happened to the mean, there is a huge discrenpacy of the count of \"encounter_seconds\" along the years. The standard deviation for the count is 1431.05, a extremly high value.\n"
     ]
    },
    {
     "data": {
      "text/html": [
       "<div>\n",
       "<style scoped>\n",
       "    .dataframe tbody tr th:only-of-type {\n",
       "        vertical-align: middle;\n",
       "    }\n",
       "\n",
       "    .dataframe tbody tr th {\n",
       "        vertical-align: top;\n",
       "    }\n",
       "\n",
       "    .dataframe thead th {\n",
       "        text-align: right;\n",
       "    }\n",
       "</style>\n",
       "<table border=\"1\" class=\"dataframe\">\n",
       "  <thead>\n",
       "    <tr style=\"text-align: right;\">\n",
       "      <th></th>\n",
       "      <th>count</th>\n",
       "      <th>mean</th>\n",
       "      <th>std</th>\n",
       "      <th>min</th>\n",
       "      <th>25%</th>\n",
       "      <th>50%</th>\n",
       "      <th>75%</th>\n",
       "      <th>max</th>\n",
       "    </tr>\n",
       "  </thead>\n",
       "  <tbody>\n",
       "    <tr>\n",
       "      <th>encounter_seconds</th>\n",
       "      <td>83.0</td>\n",
       "      <td>784.481928</td>\n",
       "      <td>1431.048058</td>\n",
       "      <td>1.0</td>\n",
       "      <td>29.5</td>\n",
       "      <td>147.0</td>\n",
       "      <td>291.0</td>\n",
       "      <td>6320.0</td>\n",
       "    </tr>\n",
       "  </tbody>\n",
       "</table>\n",
       "</div>"
      ],
      "text/plain": [
       "                   count        mean          std  min   25%    50%    75%  \\\n",
       "encounter_seconds   83.0  784.481928  1431.048058  1.0  29.5  147.0  291.0   \n",
       "\n",
       "                      max  \n",
       "encounter_seconds  6320.0  "
      ]
     },
     "execution_count": 10,
     "metadata": {},
     "output_type": "execute_result"
    }
   ],
   "source": [
    "# Group by 'year' of the dataset only for the US and find the count for 'encounter_seconds' and store its statistical\n",
    "# summary in a variable\n",
    "ufo_us_count_summary = ufo_us.groupby(by='year')[['encounter_seconds']].count().describe().T.to_dict()\n",
    "\n",
    "# Print the answer on the screen\n",
    "print(f'Similar to what happened to the mean, there is a huge discrenpacy of the count of \"encounter_seconds\" along the',\n",
    "      f'years. The standard deviation for the count is {ufo_us_count_summary[\"std\"][\"encounter_seconds\"]:.2f}, a extremly',\n",
    "      f'high value.', sep=' ')\n",
    "ufo_us.groupby(by='year')[['encounter_seconds']].count().describe().T"
   ]
  },
  {
   "cell_type": "markdown",
   "metadata": {
    "colab_type": "text",
    "id": "NdC2B8XSx9dd"
   },
   "source": [
    "# BONUS 2: Which months are the ones with the highest numbers of occurrences?\n",
    "\n",
    "**Example of output:**\n",
    "\n",
    ">\n",
    ">|   month |   occurrences |\n",
    "|--------:|--------------:|\n",
    "|       7 |          9520 |\n",
    "|       8 |          8636 |\n",
    "|       6 |          8152 |\n",
    "|       9 |          7589 |\n",
    "|      10 |          7407 |\n",
    "|      11 |          6739 |\n",
    "|       1 |          5689 |\n",
    "|      12 |          5665 |\n",
    "|       4 |          5527 |\n",
    "|       3 |          5450 |\n",
    "|       5 |          5293 |\n",
    "|       2 |          4665 |"
   ]
  },
  {
   "cell_type": "code",
   "execution_count": 11,
   "metadata": {
    "colab": {},
    "colab_type": "code",
    "id": "z5XD5vfbx9de",
    "scrolled": false
   },
   "outputs": [
    {
     "data": {
      "text/html": [
       "<div>\n",
       "<style scoped>\n",
       "    .dataframe tbody tr th:only-of-type {\n",
       "        vertical-align: middle;\n",
       "    }\n",
       "\n",
       "    .dataframe tbody tr th {\n",
       "        vertical-align: top;\n",
       "    }\n",
       "\n",
       "    .dataframe thead th {\n",
       "        text-align: right;\n",
       "    }\n",
       "</style>\n",
       "<table border=\"1\" class=\"dataframe\">\n",
       "  <thead>\n",
       "    <tr style=\"text-align: right;\">\n",
       "      <th></th>\n",
       "      <th>occurances</th>\n",
       "    </tr>\n",
       "    <tr>\n",
       "      <th>month</th>\n",
       "      <th></th>\n",
       "    </tr>\n",
       "  </thead>\n",
       "  <tbody>\n",
       "    <tr>\n",
       "      <th>7</th>\n",
       "      <td>9520</td>\n",
       "    </tr>\n",
       "    <tr>\n",
       "      <th>8</th>\n",
       "      <td>8636</td>\n",
       "    </tr>\n",
       "    <tr>\n",
       "      <th>6</th>\n",
       "      <td>8152</td>\n",
       "    </tr>\n",
       "    <tr>\n",
       "      <th>9</th>\n",
       "      <td>7589</td>\n",
       "    </tr>\n",
       "    <tr>\n",
       "      <th>10</th>\n",
       "      <td>7407</td>\n",
       "    </tr>\n",
       "    <tr>\n",
       "      <th>11</th>\n",
       "      <td>6739</td>\n",
       "    </tr>\n",
       "    <tr>\n",
       "      <th>1</th>\n",
       "      <td>5689</td>\n",
       "    </tr>\n",
       "    <tr>\n",
       "      <th>12</th>\n",
       "      <td>5665</td>\n",
       "    </tr>\n",
       "    <tr>\n",
       "      <th>4</th>\n",
       "      <td>5527</td>\n",
       "    </tr>\n",
       "    <tr>\n",
       "      <th>3</th>\n",
       "      <td>5450</td>\n",
       "    </tr>\n",
       "    <tr>\n",
       "      <th>5</th>\n",
       "      <td>5293</td>\n",
       "    </tr>\n",
       "    <tr>\n",
       "      <th>2</th>\n",
       "      <td>4665</td>\n",
       "    </tr>\n",
       "  </tbody>\n",
       "</table>\n",
       "</div>"
      ],
      "text/plain": [
       "       occurances\n",
       "month            \n",
       "7            9520\n",
       "8            8636\n",
       "6            8152\n",
       "9            7589\n",
       "10           7407\n",
       "11           6739\n",
       "1            5689\n",
       "12           5665\n",
       "4            5527\n",
       "3            5450\n",
       "5            5293\n",
       "2            4665"
      ]
     },
     "execution_count": 11,
     "metadata": {},
     "output_type": "execute_result"
    }
   ],
   "source": [
    "# Group by 'month' and count the number of occurances using the column 'year'\n",
    "# Then sort the result in a desceding way and rename the column 'year' to 'occurance'\n",
    "ufo_vars.groupby(by='month')[['year']].count().sort_values(by=['year'], ascending=False).rename(columns={'year': 'occurances'})"
   ]
  },
  {
   "cell_type": "markdown",
   "metadata": {
    "colab_type": "text",
    "id": "GQ6mdn8Yx9di"
   },
   "source": [
    "# BONUS 3: Finally, you gathered information about the UFO dataset. Using your last result, try to bring that information for your original dataset."
   ]
  },
  {
   "cell_type": "markdown",
   "metadata": {
    "colab_type": "text",
    "id": "np9EAVOkx9dk"
   },
   "source": [
    "1. Store the results of your previous analysis (the mean value for the encounter_seconds for each year and each country) in a dataframe called `avg_results`. \n",
    "\n",
    "Expected output:\n",
    ">\n",
    ">|     | country   |   year |   encounter_seconds |\n",
    "|----:|:----------|-------:|--------------------:|\n",
    "|   0 | au        |   1958 |      2700           |\n",
    "|   1 | au        |   1960 |       180           |\n",
    "|   2 | au        |   1967 |       300           |\n",
    "|   3 | au        |   1968 |       300           |\n",
    "|   4 | au        |   1972 |       403.333       | \n",
    "|   ... | ...        |   ... |       ...       | \n",
    "| 277 | us        |   2010 |      2271.99        |\n",
    "| 278 | us        |   2011 |      2544.29        |\n",
    "| 279 | us        |   2012 |     10640.6         |\n",
    "| 280 | us        |   2013 |      1266.39        |\n",
    "| 281 | us        |   2014 |       782.373       |"
   ]
  },
  {
   "cell_type": "code",
   "execution_count": null,
   "metadata": {
    "colab": {},
    "colab_type": "code",
    "id": "i03RCsL2x9dl"
   },
   "outputs": [],
   "source": []
  },
  {
   "cell_type": "markdown",
   "metadata": {
    "colab_type": "text",
    "id": "4Z4irKbTx9du"
   },
   "source": [
    "2. Rename the column named `encounter_seconds` to `avg_encounter_seconds`.\n",
    "\n",
    "Expected output:\n",
    ">\n",
    ">|     | country   |   year |   avg_encounter_seconds |\n",
    "|----:|:----------|-------:|--------------------:|\n",
    "|   0 | au        |   1958 |      2700           |\n",
    "|   1 | au        |   1960 |       180           |\n",
    "|   2 | au        |   1967 |       300           |\n",
    "|   3 | au        |   1968 |       300           |\n",
    "|   4 | au        |   1972 |       403.333       | \n",
    "|   ... | ...        |   ... |       ...       | \n",
    "| 277 | us        |   2010 |      2271.99        |\n",
    "| 278 | us        |   2011 |      2544.29        |\n",
    "| 279 | us        |   2012 |     10640.6         |\n",
    "| 280 | us        |   2013 |      1266.39        |\n",
    "| 281 | us        |   2014 |       782.373       |"
   ]
  },
  {
   "cell_type": "code",
   "execution_count": null,
   "metadata": {
    "colab": {},
    "colab_type": "code",
    "id": "gfy3E3JEx9dv"
   },
   "outputs": [],
   "source": []
  },
  {
   "cell_type": "markdown",
   "metadata": {
    "colab_type": "text",
    "id": "2Ves_3nCx9d1"
   },
   "source": [
    "3. Use the pd.merge( ... ) function to bring that new collected information to your original dataset.\n",
    "The pd.merge() function requires several arguments, let's understand the most important ones.\n",
    "\n",
    "`left` is the dataframe you want to bring information **to** - the table on the left. \n",
    "\n",
    "`right` is the dataframe you want to bring information **from** - the table on the right. \n",
    "\n",
    "`on` is the key you want to perform the merge. That is, if those values are **exactly equal** in both dataframes, then the information will be brought.\n",
    "\n",
    "Put your results on a dataframe called `merged_ufo`"
   ]
  },
  {
   "cell_type": "code",
   "execution_count": null,
   "metadata": {
    "colab": {},
    "colab_type": "code",
    "id": "g3gEZOmVx9d2",
    "scrolled": true
   },
   "outputs": [],
   "source": []
  },
  {
   "cell_type": "markdown",
   "metadata": {
    "colab_type": "text",
    "id": "mO4npNiXx9d-"
   },
   "source": [
    "Check how many rows the final result has and try to explain it. Did the dataset get smaller? Bigger? Or the same? Can you explain why? \n",
    "\n",
    "*hint: If you've found something weird, try looking back at your original dataframe and find something interesting on it.*"
   ]
  },
  {
   "cell_type": "code",
   "execution_count": null,
   "metadata": {
    "colab": {},
    "colab_type": "code",
    "id": "bifJ3x51x9d_"
   },
   "outputs": [],
   "source": []
  },
  {
   "cell_type": "markdown",
   "metadata": {
    "colab_type": "text",
    "id": "EfJzDYiIx9eF"
   },
   "source": [
    "## Store the results into a new csv file called `ufo_enriched.csv`. \n",
    "\n",
    "Don't forget to use `index=False`."
   ]
  },
  {
   "cell_type": "code",
   "execution_count": null,
   "metadata": {
    "colab": {},
    "colab_type": "code",
    "id": "rH8fo4Fdx9eG"
   },
   "outputs": [],
   "source": []
  }
 ],
 "metadata": {
  "colab": {
   "collapsed_sections": [],
   "name": "[challenge-2] lab-data-manipulation-part2.ipynb",
   "provenance": []
  },
  "kernelspec": {
   "display_name": "Python 3",
   "language": "python",
   "name": "python3"
  },
  "language_info": {
   "codemirror_mode": {
    "name": "ipython",
    "version": 3
   },
   "file_extension": ".py",
   "mimetype": "text/x-python",
   "name": "python",
   "nbconvert_exporter": "python",
   "pygments_lexer": "ipython3",
   "version": "3.8.3"
  },
  "toc": {
   "base_numbering": 1,
   "nav_menu": {},
   "number_sections": true,
   "sideBar": true,
   "skip_h1_title": false,
   "title_cell": "Table of Contents",
   "title_sidebar": "Contents",
   "toc_cell": false,
   "toc_position": {},
   "toc_section_display": true,
   "toc_window_display": false
  }
 },
 "nbformat": 4,
 "nbformat_minor": 1
}
