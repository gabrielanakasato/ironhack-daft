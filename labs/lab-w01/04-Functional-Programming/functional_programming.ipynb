{
 "cells": [
  {
   "cell_type": "markdown",
   "metadata": {
    "colab_type": "text",
    "id": "6I1W1y5zDCIN"
   },
   "source": [
    "# Before your start:\n",
    "- Comment as much as you can\n",
    "- Happy learning!"
   ]
  },
  {
   "cell_type": "code",
   "execution_count": 1,
   "metadata": {
    "colab": {},
    "colab_type": "code",
    "id": "1t-NDi5NDCIW"
   },
   "outputs": [],
   "source": [
    "import numpy as np\n",
    "import pandas as pd"
   ]
  },
  {
   "cell_type": "markdown",
   "metadata": {
    "colab_type": "text",
    "id": "P53qCn3xDCIg"
   },
   "source": [
    "# Challenge - Inside a function\n",
    "You are already familiar with several built in functions on python as well as libraries. Let's try to figure out how they are made in pure python. "
   ]
  },
  {
   "cell_type": "markdown",
   "metadata": {
    "colab_type": "text",
    "id": "7Vq9tOLcDCIi"
   },
   "source": [
    "Create a function that returns the count of a list of numbers"
   ]
  },
  {
   "cell_type": "code",
   "execution_count": 2,
   "metadata": {
    "colab": {},
    "colab_type": "code",
    "id": "usAQavx0DCIl"
   },
   "outputs": [
    {
     "name": "stdout",
     "output_type": "stream",
     "text": [
      "The list informed has 10 numbers.\n"
     ]
    }
   ],
   "source": [
    "# Your code here:\n",
    "\n",
    "# Function that returns the count of a given list of numbers\n",
    "def count_num_list(list_num):\n",
    "    \n",
    "    \"\"\"\n",
    "    Returns the number of elements of a given list.\n",
    "    \n",
    "    Args:\n",
    "        list_num (list): list of numbers\n",
    "    \n",
    "    Returns:\n",
    "        coun_num_list (int): number of elements of a list of numbers\n",
    "    \n",
    "    Example:\n",
    "    [In] -> [1, 2, 3, 4, 5, 6, 7, 8, 9, 10]\n",
    "    [Out] -> 10\n",
    "    \"\"\"\n",
    "    \n",
    "    # Count the number of numbers inside a list is similar to determine the length of the list\n",
    "    return len(list_num)\n",
    "\n",
    "# Testing the function\n",
    "# Creating a list of numbers from 1 to 10\n",
    "numbers = [num for num in range(1, 11)]\n",
    "\n",
    "# Print the answer on the screen\n",
    "print(f'The list informed has {count_num_list(numbers)} numbers.')"
   ]
  },
  {
   "cell_type": "markdown",
   "metadata": {
    "colab_type": "text",
    "id": "02PYrNc5DCIt"
   },
   "source": [
    "Create a function that returns the mean of a list of numbers"
   ]
  },
  {
   "cell_type": "code",
   "execution_count": 3,
   "metadata": {
    "colab": {},
    "colab_type": "code",
    "id": "nQpYuTmgDCIx"
   },
   "outputs": [
    {
     "name": "stdout",
     "output_type": "stream",
     "text": [
      "The mean of the numbers in the list is 5.5.\n"
     ]
    }
   ],
   "source": [
    "# Your code here:\n",
    "\n",
    "# Function that returns the mean of a given list of numbers\n",
    "def mean_num_list(list_num):\n",
    "    \n",
    "    \"\"\"\n",
    "    Returns the mean of the numbers in a given list.\n",
    "    \n",
    "    Args:\n",
    "        list_num (list): list of numbers\n",
    "    \n",
    "    Returns:\n",
    "        mean_num_list (float): mean of the elements of a list of numbers\n",
    "    \n",
    "    Example:\n",
    "    [In] -> [1, 2, 3, 4, 5, 6, 7, 8, 9, 10]\n",
    "    [Out] -> 5.5\n",
    "    \"\"\"\n",
    "    \n",
    "    return sum(list_num) / len(list_num)\n",
    "\n",
    "# Testing the function\n",
    "# The list of numbers mentioned above will be used to test this function\n",
    "print(f'The mean of the numbers in the list is {mean_num_list(numbers)}.')"
   ]
  },
  {
   "cell_type": "markdown",
   "metadata": {
    "colab_type": "text",
    "id": "xy1rA4EeDCI5"
   },
   "source": [
    "Create a function that returns the standard deviation of a list of numbers using the previous functions you created. "
   ]
  },
  {
   "cell_type": "code",
   "execution_count": 18,
   "metadata": {
    "colab": {},
    "colab_type": "code",
    "id": "jmvcGVIwDCI7"
   },
   "outputs": [
    {
     "name": "stdout",
     "output_type": "stream",
     "text": [
      "[In]: [1, 2, 3, 4, 5, 6, 7, 8, 9, 10]\n",
      "[Out]: 2.8722813232690143\n"
     ]
    }
   ],
   "source": [
    "# Your code here:\n",
    "\n",
    "# Funtion that returns the standard deviation (sd) of a given list of numbers\n",
    "def sd_num_list(list_num):\n",
    "    \n",
    "    \"\"\"\n",
    "    Returns the standard deviation (sd) of the numbers of a given list.\n",
    "    \n",
    "    Args:\n",
    "        list_num (list): list of numbers\n",
    "    \n",
    "    Returns:\n",
    "        sd_num_list (float): standard deviation of the elements of a list of numbers\n",
    "    \n",
    "    Example:\n",
    "    [In] -> [1, 2, 3, 4, 5, 6, 7, 8, 9, 10]\n",
    "    [Out] -> 2.8722813232690143\n",
    "    \"\"\"\n",
    "    \n",
    "    return (sum([(num - mean_num_list(list_num)) ** 2 for num in list_num]) / count_num_list(list_num)) ** (1 / 2)\n",
    "\n",
    "# Testing the function\n",
    "# The list of numbers mentioned above will be used to test this function\n",
    "print(f'[In]: {numbers}\\n[Out]: {sd_num_list(numbers)}')"
   ]
  },
  {
   "cell_type": "markdown",
   "metadata": {
    "colab_type": "text",
    "id": "Dro2ll4WDCJB"
   },
   "source": [
    "Create a function that returns the count, mean and standard deviation of a given list. Document this function using triple quotes, your documentation should have description, parameters, returns and examples. "
   ]
  },
  {
   "cell_type": "code",
   "execution_count": 224,
   "metadata": {
    "colab": {},
    "colab_type": "code",
    "id": "FQEugvUuDCJE"
   },
   "outputs": [
    {
     "name": "stdout",
     "output_type": "stream",
     "text": [
      "[In]: [12, 15, 18, 21, 24, 27, 30]\n",
      "[Out]: (7, 21.0, 6.0)\n"
     ]
    }
   ],
   "source": [
    "# Your code here:\n",
    "\n",
    "# Function that returns the count, mean and standard deviation of a given list of numbers\n",
    "def count_mean_sd(list_num):\n",
    "    \"\"\"\n",
    "    Returns the count, the mean and the standard deviation of a given list.\n",
    "    \n",
    "    Args:\n",
    "        list_num (list): list of numbers\n",
    "    \n",
    "    Returns:\n",
    "        count (int): number of elements of a given list\n",
    "        mean (float): mean of the elements of a given list\n",
    "        sd (float): standard deviation of the elements of a given list\n",
    "    \n",
    "    Example:\n",
    "    [In] -> [1, 2, 3, 4, 5, 6, 7, 8, 9, 10]\n",
    "    [Out] -> (10, 5.5, 2.8722813232690143)\n",
    "    \"\"\"\n",
    "    # Count\n",
    "    count = len(list_num)\n",
    "    \n",
    "    # Mean\n",
    "    mean = sum(list_num) / len(list_num)\n",
    "    \n",
    "    # Standard deviation\n",
    "    sd = (sum((num - mean) ** 2 for num in list_num) / count) ** (1 / 2)\n",
    "    \n",
    "    return count, mean, sd\n",
    "\n",
    "# Testing the function\n",
    "# Create a list of numbers mulitple of 3 from 10 to 30\n",
    "numbers = [num for num in range(10, 31) if num % 3 == 0]\n",
    "\n",
    "# Print the answer on the screen\n",
    "print(f'[In]: {numbers}\\n[Out]: {count_mean_sd(numbers)}')"
   ]
  },
  {
   "cell_type": "markdown",
   "metadata": {
    "colab_type": "text",
    "id": "-_YUdHo7DCJJ"
   },
   "source": [
    "# Challenge  - String Cleaning\n",
    "When working with textual data you will often have to clean it before being able to analyze it. Create a function that receives a string and returns that string in all lower case, without special characters and in alphabetical order. "
   ]
  },
  {
   "cell_type": "code",
   "execution_count": 3,
   "metadata": {
    "colab": {},
    "colab_type": "code",
    "id": "Lv7ztTkEDCJK"
   },
   "outputs": [
    {
     "name": "stdout",
     "output_type": "stream",
     "text": [
      "a ac ac ac adipiscing aliquam amet amet at at at bibendum bibendum bibendum condimentum condimentum congue consectetur consequat convallis convallis curabitur cursus dictum dolor donec donec dui dui efficitur eget eget elementum elit elit enim enim enim erat eros est et et eu eu facilisis faucibus felis finibus finibus gravida in in in in integer ipsum ipsum justo lacinia lectus lectus ligula ligula ligula lorem luctus magna magna malesuada mauris mauris mi mi molestie molestie mollis nec nec nec nisl non nulla nullam nunc nunc nunc orci orci orci ornare pellentesque pellentesque pellentesque phasellus placerat porttitor pretium purus quis quis risus rutrum sagittis sapien sed sem sem semper sit sit suspendisse tincidunt turpis turpis ultrices ultricies ultricies varius vel vel vel vestibulum vestibulum vitae vitae vitae vulputate\n"
     ]
    }
   ],
   "source": [
    "# Your code here:\n",
    "\n",
    "# Function that returns the string in all lower case, without special characters and in alphabetical order\n",
    "\n",
    "import re\n",
    "\n",
    "def clean_string(string):\n",
    "    \n",
    "    \"\"\"\n",
    "    Returns a list of string in all lower case, without special characters and in alphabetical order.\n",
    "    \n",
    "    Args:\n",
    "        string (str): string\n",
    "    \n",
    "    Returns:\n",
    "        clean_string (str): list of strings in all lower case, without special characters and in alphabetrical order\n",
    "    \n",
    "    Example:\n",
    "    [In] -> 'Matheus e Andre.'\n",
    "    [Out] -> 'andre e matheus'\n",
    "    \"\"\"\n",
    "    \n",
    "    list_words = [word.lower() for word in re.findall('\\w+', string)]\n",
    "    list_words.sort()\n",
    "    clean_string = ' '.join(list_words)\n",
    "\n",
    "    return clean_string\n",
    "    \n",
    "# Testing the function\n",
    "# List with a Lorem Ipsum paragraph\n",
    "list = '''\n",
    "Lorem ipsum dolor sit amet, consectetur adipiscing elit. Suspendisse eu pellentesque justo, at pretium ligula. Donec \n",
    "ultricies nec enim in cursus. In tincidunt luctus ligula, et condimentum enim vestibulum et. Vestibulum vel sapien ac \n",
    "felis consequat ultricies vel ac magna. In congue nulla vitae magna vulputate sagittis eu at ligula. Integer molestie, \n",
    "nunc a bibendum facilisis, dui erat finibus enim, vel varius sem lectus ornare risus. Nunc gravida bibendum dui. \n",
    "Pellentesque eget eros orci. Phasellus molestie elit nec lectus rutrum, at efficitur purus convallis. Donec convallis orci \n",
    "turpis, eget placerat sem lacinia quis. Aliquam non orci vitae turpis mollis elementum ac in mauris. Nullam semper quis \n",
    "ipsum finibus malesuada. Pellentesque vitae nunc porttitor, bibendum mi sed, dictum mauris. Curabitur ultrices nisl mi, \n",
    "nec faucibus est condimentum sit amet.\n",
    "'''\n",
    "print(clean_string(list))   "
   ]
  },
  {
   "cell_type": "markdown",
   "metadata": {
    "colab_type": "text",
    "id": "23s3vEQ-DCJO"
   },
   "source": [
    "# Challenge  - Classification\n",
    "Sometimes datasets provide very good and precise information but not in the way we need to use it. In this challenge, make a function that takes a numeric value (age or income for example) and turns it into a category (could be from Very Low to Very High or rated from 0 to 10). \n"
   ]
  },
  {
   "cell_type": "code",
   "execution_count": 102,
   "metadata": {
    "colab": {},
    "colab_type": "code",
    "id": "M4tbB_zFDCJP"
   },
   "outputs": [
    {
     "name": "stdout",
     "output_type": "stream",
     "text": [
      "From a scale 0 to 10, 0 being \"Strongly disagree\" and 10 being \"Strongly agree\", rate this issue or input X if you have no opinion: 8\n",
      "\n",
      "Category: Strongly agree\n"
     ]
    }
   ],
   "source": [
    "# Your code here:\n",
    "\n",
    "# Funtions receives a numeric value and returns a category for the value\n",
    "def classify_opinion(opinion):\n",
    "    \n",
    "    \"\"\"\n",
    "    Returns a category for an opinion represented by numeric value from -10 to 10.\n",
    "    \n",
    "    Args:\n",
    "        opinion (int): number from -10 to 10\n",
    "    \n",
    "    Returns:\n",
    "        category (str): can be Strongly disagree, disagree, neutral, agree, strongly agree\n",
    "    \n",
    "    Example:\n",
    "    [In] -> -3\n",
    "    [Out] -> Disagree\n",
    "    \"\"\"\n",
    "    \n",
    "    if opinion.isdigit() == False:\n",
    "        category = 'No opinion'\n",
    "    else:\n",
    "        opinion = int(opinion)\n",
    "    \n",
    "        if opinion < 3:\n",
    "            category = 'Strongly disagree'\n",
    "        elif 3 <= opinion < 5:\n",
    "            category = 'Disagree'\n",
    "        elif opinion == 5:\n",
    "            category = 'Neutral'\n",
    "        elif 5 < opinion <= 7:\n",
    "            category = 'Agree'\n",
    "        else:\n",
    "            category = 'Strongly agree'        \n",
    "    \n",
    "    return category\n",
    "        \n",
    "# Testing the function\n",
    "\n",
    "# Ask the opinion\n",
    "print('From a scale 0 to 10, 0 being \"Strongly disagree\" and 10 being \"Strongly agree\",', end=' ')\n",
    "opinion_input = input('rate this issue or input X if you have no opinion: ')\n",
    "\n",
    "condition_met = False\n",
    "\n",
    "while condition_met == False:\n",
    "    if (opinion_input.isdigit() == True) or (opinion_input.lower() in ['x']):\n",
    "        condition_met = True\n",
    "    else:\n",
    "        opinion_input = input('Please, write an valid input: ')\n",
    "\n",
    "# Classify opinion\n",
    "print(f'\\nCATEGORY: {classify_opinion(opinion_input)}')"
   ]
  },
  {
   "cell_type": "markdown",
   "metadata": {
    "colab_type": "text",
    "id": "qgCz4w1XDCJU"
   },
   "source": [
    "# Challenge  - Recursion \n",
    "In some cases it is interesting to build a function that calls itself. Use a recursive function that asks for an input from the users age and keeps asking for it until the input is a number between 0 and 150. "
   ]
  },
  {
   "cell_type": "code",
   "execution_count": 4,
   "metadata": {
    "colab": {},
    "colab_type": "code",
    "id": "ncLwOUUhDCJV"
   },
   "outputs": [
    {
     "name": "stdout",
     "output_type": "stream",
     "text": [
      "What is your age? age\n",
      "What is your age? 16.5\n",
      "What is your age? -3\n",
      "What is your age? 190\n",
      "What is your age? 48\n",
      "\n",
      "Your age is 48.\n"
     ]
    }
   ],
   "source": [
    "# Your code here:\n",
    "\n",
    "# Function that asks for users age\n",
    "def ask_age(age=-1):\n",
    "    \n",
    "    \"\"\"\n",
    "    Returns the age asked to the user, only if the age is from 0 to 150. Otherwise, the function will keep asking the same \n",
    "    question until a valid age is input.\n",
    "    \n",
    "    Args:\n",
    "        age (int): from 0 to 150\n",
    "    \n",
    "    Returns:\n",
    "        age (int): from 0 to 150\n",
    "    \n",
    "    Example:\n",
    "    [In] -> 30\n",
    "    [Out] -> 30\n",
    "    \"\"\"\n",
    "    \n",
    "    # Ask the user to input the age\n",
    "    age = input('What is your age? ')\n",
    "    \n",
    "    # Check if the input is a valid age\n",
    "    if age.isdigit() == True and 0 <= int(age) <= 150:\n",
    "        return int(age)\n",
    "    else:\n",
    "        # If the condition (age from 0 to 150) is not met, then keep asking the same question until a valid age is input\n",
    "        return ask_age(age)\n",
    "    \n",
    "# Testing function\n",
    "print(f'\\nYour age is {ask_age()}.')"
   ]
  },
  {
   "cell_type": "markdown",
   "metadata": {
    "colab_type": "text",
    "id": "k0oT8Xo2DCJa"
   },
   "source": [
    "# Challenge - Global and local variables "
   ]
  },
  {
   "cell_type": "markdown",
   "metadata": {
    "colab_type": "text",
    "id": "rBQkdI76DCJb"
   },
   "source": [
    "Make a function that returns the buzz string in alphabetical order  \n",
    "\n",
    "Expected output:\n",
    "````python\n",
    "'AI Big Data Data Warehouse Machine Learning Pipeline'\n",
    "````"
   ]
  },
  {
   "cell_type": "code",
   "execution_count": 8,
   "metadata": {
    "colab": {},
    "colab_type": "code",
    "id": "L4BnnsLnDCJc"
   },
   "outputs": [
    {
     "name": "stdout",
     "output_type": "stream",
     "text": [
      "[In]: Big Data, Machine Learning, AI, Data Warehouse, Pipeline\n",
      "[Out]: AI Big Data Data Warehouse Machine Learning Pipeline\n"
     ]
    }
   ],
   "source": [
    "buzz = \"Big Data, Machine Learning, AI, Data Warehouse, Pipeline\"\n",
    "\n",
    "# Function to return string in alphabetic order\n",
    "def order_string(string):\n",
    "    \n",
    "    \"\"\"\n",
    "    Returns the string buzz in alphabetical order without ponctuation.\n",
    "    \n",
    "    Args:\n",
    "        string (str): a simple text\n",
    "    \n",
    "    Returns:\n",
    "        string_ordered (str): a string sorteb by alphabetical order\n",
    "    \n",
    "    Example:\n",
    "    [In] -> \"Big Data, Machine Learning, AI, Data Warehouse, Pipeline\"\n",
    "    [Out] -> \"AI Big Data Data Learning Machine Pipeline Warehouse\"\n",
    "    \"\"\"\n",
    "    \n",
    "    # Split the text into a list of words which are separated by ', '\n",
    "    list_words = buzz.split(', ')\n",
    "    \n",
    "    # Sort the words in the list by alphabetical order\n",
    "    list_words.sort()\n",
    "    \n",
    "    # Join all the words in the list into a string\n",
    "    string_ordered = ' '.join(list_words)\n",
    "    \n",
    "    # Return the string ordered\n",
    "    return string_ordered\n",
    "\n",
    "# Testing the function\n",
    "print(f'[In]: {buzz}')\n",
    "print(f'[Out]: {order_string(buzz)}')"
   ]
  },
  {
   "cell_type": "markdown",
   "metadata": {
    "colab_type": "text",
    "id": "b5b4z7e4DCJg"
   },
   "source": [
    "Make a function without return that modifies the buzz string and puts it in alphabetical order\n",
    "\n",
    "Expected output:\n",
    "````python\n",
    "'AI Big Data Data Warehouse Machine Learning Pipeline'\n",
    "````"
   ]
  },
  {
   "cell_type": "code",
   "execution_count": 9,
   "metadata": {
    "colab": {},
    "colab_type": "code",
    "id": "PxCWhN7IDCJi"
   },
   "outputs": [
    {
     "name": "stdout",
     "output_type": "stream",
     "text": [
      "[In]: Big Data, Machine Learning, AI, Data Warehouse, Pipeline\n",
      "[Out]: AI Big Data Data Warehouse Machine Learning Pipeline\n"
     ]
    }
   ],
   "source": [
    "buzz = \"Big Data, Machine Learning, AI, Data Warehouse, Pipeline\"\n",
    "\n",
    "# Function that modifies string without returning anything\n",
    "def order_string_no_return():\n",
    "    \n",
    "    \"\"\"\n",
    "    Modifies the the global variable buzz, putting the words in alpabetical order\n",
    "    \n",
    "    Args:\n",
    "        There are no arguments.\n",
    "    \n",
    "    Returns:\n",
    "        There are no return.\n",
    "    \n",
    "    Example:\n",
    "    [Before execution] -> \"Big Data, Machine Learning, AI, Data Warehouse, Pipeline\"\n",
    "    [After execution] -> \"AI Big Data Data Learning Machine Pipeline Warehouse\"\n",
    "    \"\"\"\n",
    "    \n",
    "    # Uses the global variable 'buzz'\n",
    "    global buzz\n",
    "    \n",
    "    # Split the text from the especified variable 'buzz' into a list of words which are separated by ', '\n",
    "    buzz = buzz.split(', ')\n",
    "    \n",
    "    # Sort the words in the list by alphabetical order\n",
    "    buzz.sort()\n",
    "    \n",
    "    # Join all the words in the list into a string\n",
    "    buzz = ' '.join(buzz)\n",
    "\n",
    "# testing the function\n",
    "print(f'[In]: {buzz}')\n",
    "order_string_no_return()\n",
    "print(f'[Out]: {buzz}')"
   ]
  },
  {
   "cell_type": "markdown",
   "metadata": {
    "colab_type": "text",
    "id": "fw4vO7R-DCJr"
   },
   "source": [
    "# Bonus Challenge  - Applying Functions to DataFrames\n",
    "\n",
    "In this challenge, we will look at how to transform cells or entire columns at once.\n"
   ]
  },
  {
   "cell_type": "code",
   "execution_count": null,
   "metadata": {
    "colab": {},
    "colab_type": "code",
    "id": "05TgMvpdDCJs"
   },
   "outputs": [],
   "source": [
    "import pandas as pd"
   ]
  },
  {
   "cell_type": "code",
   "execution_count": null,
   "metadata": {
    "colab": {},
    "colab_type": "code",
    "id": "1N9fNV98DCJw"
   },
   "outputs": [],
   "source": [
    "iris_numeric = pd.DataFrame(data =[[5.1,3.5,1.4,0.2], [4.9,3,1.4,0.2],[4.7,3.2,1.3,0.2],[4.6,3.1,1.5,0.2],[5,3.6,1.4,0.2],[5.4,3.9,1.7,0.4],[4.6,3.4,1.4,0.3],[5,3.4,1.5,0.2],[4.4,2.9,1.4,0.2],[4.9,3.1,1.5,0.1]],columns = ['sepal_length', 'sepal_width', 'petal_length','petal_width'])"
   ]
  },
  {
   "cell_type": "markdown",
   "metadata": {
    "colab_type": "text",
    "id": "62v-80yZDCJ1"
   },
   "source": [
    "Let's look at the dataset using the `head` function.\n",
    "\n",
    "Expected output:\n",
    "\n",
    "|    |   sepal_length |   sepal_width |   petal_length |   petal_width |\n",
    "|---:|---------------:|--------------:|---------------:|--------------:|\n",
    "|  0 |            5.1 |           3.5 |            1.4 |           0.2 |\n",
    "|  1 |            4.9 |           3   |            1.4 |           0.2 |\n",
    "|  2 |            4.7 |           3.2 |            1.3 |           0.2 |\n",
    "|  3 |            4.6 |           3.1 |            1.5 |           0.2 |\n",
    "|  4 |            5   |           3.6 |            1.4 |           0.2 |"
   ]
  },
  {
   "cell_type": "code",
   "execution_count": null,
   "metadata": {
    "colab": {},
    "colab_type": "code",
    "id": "hTlLCpp_DCJ2"
   },
   "outputs": [],
   "source": [
    "# Your code here:\n",
    "\n"
   ]
  },
  {
   "cell_type": "markdown",
   "metadata": {
    "colab_type": "text",
    "id": "y1VDf8KSDCJ6"
   },
   "source": [
    "Let's start off by using built-in functions. Try to use the numpy mean function and describe what happens in the comments of the code.\n",
    "\n",
    "Expected output:\n",
    "````python\n",
    "sepal_length    4.86\n",
    "sepal_width     3.31\n",
    "petal_length    1.45\n",
    "petal_width     0.22\n",
    "dtype: float64\n",
    "````"
   ]
  },
  {
   "cell_type": "code",
   "execution_count": null,
   "metadata": {
    "colab": {},
    "colab_type": "code",
    "id": "55QqDcFkDCJ7"
   },
   "outputs": [],
   "source": []
  },
  {
   "cell_type": "markdown",
   "metadata": {
    "colab_type": "text",
    "id": "qrCDudyHDCJ_"
   },
   "source": [
    "Next, we'll use the standard deviation function in numpy (np.std). Describe what happened in the comments.\n",
    "\n",
    "Expected output:\n",
    "````python\n",
    "sepal_length    0.291357\n",
    "sepal_width     0.307137\n",
    "petal_length    0.108012\n",
    "petal_width     0.078881\n",
    "dtype: float64\n",
    "````"
   ]
  },
  {
   "cell_type": "code",
   "execution_count": null,
   "metadata": {
    "colab": {},
    "colab_type": "code",
    "id": "00RaSSBVDCKA"
   },
   "outputs": [],
   "source": []
  },
  {
   "cell_type": "markdown",
   "metadata": {
    "colab_type": "text",
    "id": "68F-SuOnDCKD"
   },
   "source": [
    "The measurements are in centimeters. Let's convert them all to inches. We will write a function that converts centimeters to inches in the cell below. Recall that 1cm = 0.393701in."
   ]
  },
  {
   "cell_type": "code",
   "execution_count": null,
   "metadata": {
    "colab": {},
    "colab_type": "code",
    "id": "T8tvoXdCDCKE"
   },
   "outputs": [],
   "source": [
    "def cm_to_in(x):\n",
    "    # This function takes in a numeric value in centimeters and converts it to inches\n",
    "    # Input: numeric value\n",
    "    # Output: float\n",
    "    \n",
    "    # Sample Input: 1.0\n",
    "    # Sample Output: 0.393701\n",
    "    \n",
    "    # Your code here:\n",
    "    "
   ]
  },
  {
   "cell_type": "markdown",
   "metadata": {
    "colab_type": "text",
    "id": "poXtnmphDCKK"
   },
   "source": [
    "Now convert all columns in `iris_numeric` to inches in the cell below. We like to think of functional transformations as immutable. Therefore, save the transformed data in a dataframe called `iris_inch`."
   ]
  },
  {
   "cell_type": "code",
   "execution_count": null,
   "metadata": {
    "colab": {},
    "colab_type": "code",
    "id": "GnW2yEsDDCKL"
   },
   "outputs": [],
   "source": [
    "# Your code here:\n",
    "\n"
   ]
  },
  {
   "cell_type": "markdown",
   "metadata": {
    "colab_type": "text",
    "id": "PgrWISNFDCKN"
   },
   "source": [
    "We have just found that the original measurements were off by a constant. Define the global constant `error` and set it to 2. Write a function that uses the global constant and adds it to each cell in the dataframe. Apply this function to `iris_numeric` and save the result in `iris_constant`."
   ]
  },
  {
   "cell_type": "code",
   "execution_count": null,
   "metadata": {
    "colab": {},
    "colab_type": "code",
    "id": "Wy9RKxHfDCKO"
   },
   "outputs": [],
   "source": [
    "# Define constant below:\n",
    "\n",
    "\n",
    "def add_constant(x):\n",
    "    # This function adds a global constant to our input.\n",
    "    # Input: numeric value\n",
    "    # Output: numeric value\n",
    "    \n",
    "    # Your code here:\n",
    "    "
   ]
  },
  {
   "cell_type": "markdown",
   "metadata": {
    "colab_type": "text",
    "id": "-AYaBeqqDCKT"
   },
   "source": [
    "Read more about applying functions to either rows or columns [here](https://pandas.pydata.org/pandas-docs/stable/generated/pandas.DataFrame.apply.html) and write a function that computes the maximum value for each row of `iris_numeric`"
   ]
  },
  {
   "cell_type": "code",
   "execution_count": null,
   "metadata": {
    "colab": {},
    "colab_type": "code",
    "id": "tTmz2p6LDCKV"
   },
   "outputs": [],
   "source": [
    "# Your code here:\n",
    "\n"
   ]
  },
  {
   "cell_type": "markdown",
   "metadata": {
    "colab_type": "text",
    "id": "ItoYvDlqDCKZ"
   },
   "source": [
    "Compute the combined lengths for each row and the combined widths for each row using a function. Assign these values to new columns `total_length` and `total_width`."
   ]
  },
  {
   "cell_type": "code",
   "execution_count": null,
   "metadata": {
    "colab": {},
    "colab_type": "code",
    "id": "7g8Cl7jgDCKa"
   },
   "outputs": [],
   "source": [
    "# Your code here:\n",
    "\n"
   ]
  },
  {
   "cell_type": "code",
   "execution_count": null,
   "metadata": {
    "colab": {},
    "colab_type": "code",
    "id": "8wHyAVDoDCKe"
   },
   "outputs": [],
   "source": []
  }
 ],
 "metadata": {
  "colab": {
   "name": "functional_programming.ipynb",
   "provenance": []
  },
  "kernelspec": {
   "display_name": "Python 3",
   "language": "python",
   "name": "python3"
  },
  "language_info": {
   "codemirror_mode": {
    "name": "ipython",
    "version": 3
   },
   "file_extension": ".py",
   "mimetype": "text/x-python",
   "name": "python",
   "nbconvert_exporter": "python",
   "pygments_lexer": "ipython3",
   "version": "3.8.3"
  },
  "toc": {
   "base_numbering": 1,
   "nav_menu": {},
   "number_sections": true,
   "sideBar": true,
   "skip_h1_title": false,
   "title_cell": "Table of Contents",
   "title_sidebar": "Contents",
   "toc_cell": false,
   "toc_position": {},
   "toc_section_display": true,
   "toc_window_display": false
  },
  "varInspector": {
   "cols": {
    "lenName": 16,
    "lenType": 16,
    "lenVar": 40
   },
   "kernels_config": {
    "python": {
     "delete_cmd_postfix": "",
     "delete_cmd_prefix": "del ",
     "library": "var_list.py",
     "varRefreshCmd": "print(var_dic_list())"
    },
    "r": {
     "delete_cmd_postfix": ") ",
     "delete_cmd_prefix": "rm(",
     "library": "var_list.r",
     "varRefreshCmd": "cat(var_dic_list()) "
    }
   },
   "types_to_exclude": [
    "module",
    "function",
    "builtin_function_or_method",
    "instance",
    "_Feature"
   ],
   "window_display": false
  }
 },
 "nbformat": 4,
 "nbformat_minor": 1
}
