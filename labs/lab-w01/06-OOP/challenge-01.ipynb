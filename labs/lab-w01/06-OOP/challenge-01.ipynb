{
 "cells": [
  {
   "cell_type": "markdown",
   "metadata": {
    "colab_type": "text",
    "id": "Cg9YHmu81kzS"
   },
   "source": [
    "# Lab - Object Oriented Programming"
   ]
  },
  {
   "cell_type": "markdown",
   "metadata": {
    "colab_type": "text",
    "id": "h3puCfCG1kzZ"
   },
   "source": [
    "# Challenge 1"
   ]
  },
  {
   "cell_type": "markdown",
   "metadata": {
    "colab_type": "text",
    "id": "7s_ABg091kzZ"
   },
   "source": [
    "## Creating a class"
   ]
  },
  {
   "cell_type": "markdown",
   "metadata": {
    "colab_type": "text",
    "id": "7oWHt06a1kza"
   },
   "source": [
    "First of all, let's create a simple class. Name this class `Car`. ([PEP8](https://www.python.org/dev/peps/pep-0008/#class-names) suggests using CamelCase for class names, i.e., using the first letter of each name as upper-case.)\n",
    "\n",
    "That should be as simple as possible. Use the class syntax to create it and its content should be only the \n",
    "```python \n",
    "pass\n",
    "```\n",
    "statement.\n",
    "\n",
    "\n",
    "The `pass` statement is used just as a placeholder. This will be a class that doesn't do anything (yet)."
   ]
  },
  {
   "cell_type": "code",
   "execution_count": 1,
   "metadata": {
    "colab": {},
    "colab_type": "code",
    "id": "9Vlvqlg_1kzb"
   },
   "outputs": [],
   "source": [
    "# your code here\n",
    "\n",
    "class Car:\n",
    "    \n",
    "    pass"
   ]
  },
  {
   "cell_type": "markdown",
   "metadata": {
    "colab_type": "text",
    "id": "jCLcCavN1kzf"
   },
   "source": [
    "## Let's think of which attributes should a car have\n",
    "\n",
    "Think of attributes that are intrinsic of a car. Think of 5 attributes that all cars have and their possible values. Write down these 5 attributes for later use."
   ]
  },
  {
   "cell_type": "code",
   "execution_count": 2,
   "metadata": {
    "colab": {},
    "colab_type": "code",
    "id": "n0uXsZtW1kzg"
   },
   "outputs": [],
   "source": [
    "# write the attributes name you've chosen as a comment here.\n",
    "\n",
    "# Model - String\n",
    "# Year -> Int\n",
    "# Color -> String\n",
    "# Length (m) -> float\n",
    "# Air condicioner -> Boolean"
   ]
  },
  {
   "cell_type": "markdown",
   "metadata": {
    "colab_type": "text",
    "id": "4avEppmP1kzk"
   },
   "source": [
    "\n",
    "We will create the `__init(self,)__` special method. This is the first thing that is run when you instantiate a new object (by calling `Car()` for example).\n",
    "\n",
    "So each object that you are creating will instantly do whatever operation you perfom inside `__init(self,)__`. If you create new attributes over there, it will be accessible as soon as you create it. If you, instead, run some internal methods, it will perform as soon as the variable is created.\n",
    "\n",
    "Let's check that."
   ]
  },
  {
   "cell_type": "markdown",
   "metadata": {
    "colab_type": "text",
    "id": "a_roqusE1kzl"
   },
   "source": [
    "### Create a `__init__(self)` special method inside your `Car` class and then perform a `for loop`  inside of it. \n"
   ]
  },
  {
   "cell_type": "markdown",
   "metadata": {
    "colab_type": "text",
    "id": "WsszbCtV1kzl"
   },
   "source": [
    "To see the what happens when you initialize your class when a `__init__(self)` method exists, define this function and plug the following piece of code inside of it.\n",
    "\n",
    "```python\n",
    "from tqdm.auto import tqdm\n",
    "import time\n",
    "\n",
    "for i in tqdm(range(10), desc='__init__ is running, yay'):\n",
    "    time.sleep(.1)\n",
    "```"
   ]
  },
  {
   "cell_type": "code",
   "execution_count": 3,
   "metadata": {
    "colab": {},
    "colab_type": "code",
    "id": "QFq53Zwi1kzm"
   },
   "outputs": [],
   "source": [
    "# your code here\n",
    "\n",
    "class Car:\n",
    "    \n",
    "    def __init__(self):\n",
    "        \n",
    "        from tqdm.auto import tqdm\n",
    "        import time\n",
    "        \n",
    "        for i in tqdm(range(10), desc='__init__ is running, yay'):\n",
    "            time.sleep(.1)"
   ]
  },
  {
   "cell_type": "markdown",
   "metadata": {
    "colab_type": "text",
    "id": "usdG7cKI1kzq"
   },
   "source": [
    "### Afterwards, instantiate your `Car` class and see this beauty."
   ]
  },
  {
   "cell_type": "code",
   "execution_count": 4,
   "metadata": {
    "colab": {},
    "colab_type": "code",
    "id": "gISJwt8B1kzr",
    "scrolled": true
   },
   "outputs": [
    {
     "data": {
      "application/vnd.jupyter.widget-view+json": {
       "model_id": "a9e1a749797e4fed81cb28aa94c72ca2",
       "version_major": 2,
       "version_minor": 0
      },
      "text/plain": [
       "HBox(children=(FloatProgress(value=0.0, description='__init__ is running, yay', max=10.0, style=ProgressStyle(…"
      ]
     },
     "metadata": {},
     "output_type": "display_data"
    },
    {
     "name": "stdout",
     "output_type": "stream",
     "text": [
      "\n"
     ]
    },
    {
     "data": {
      "text/plain": [
       "<__main__.Car at 0x2b0bf9c7e20>"
      ]
     },
     "execution_count": 4,
     "metadata": {},
     "output_type": "execute_result"
    }
   ],
   "source": [
    "# your code here\n",
    "\n",
    "Car()"
   ]
  },
  {
   "cell_type": "markdown",
   "metadata": {
    "colab_type": "text",
    "id": "_PSGLYEc1kzv"
   },
   "source": [
    "## Understanding the self argument"
   ]
  },
  {
   "cell_type": "markdown",
   "metadata": {
    "colab_type": "text",
    "id": "aUegwH6v1kzv"
   },
   "source": [
    "Now, below the `for loop` you've created, let's create the attributes of the `Car` class. Remember the attributes you wrote down earlier? Let's put them as arguments of the `__init__(self,)` function.\n",
    "\n",
    "Remember, the first argument of the `__init__(self,)` function should always be the `self` keyword. \n",
    "\n",
    "The `self` argument represents the object itself. That is a way for you to have access to the objects own attribute. \n"
   ]
  },
  {
   "cell_type": "markdown",
   "metadata": {
    "colab_type": "text",
    "id": "p7f_Ph2e1kzw"
   },
   "source": [
    "### First, let's start creating one single attribute of this car."
   ]
  },
  {
   "cell_type": "markdown",
   "metadata": {
    "colab_type": "text",
    "id": "9-T5DH_j1kzx"
   },
   "source": [
    "Let's say you have chosen `name` as a car attribute (what? can't a car have a name?). \n",
    "\n",
    "If you want your class to receive a specific car name as an argument, you have to put this variable as the argument of the `__init__` function. So, to add `name`, the results of your special function definition would be:\n",
    "\n",
    "```python\n",
    "def __init__(self, name):\n",
    "    pass\n",
    "```\n",
    "\n",
    "Now, when you instantiate your Car class, the syntax would be similar to calling a function (which, by now, you should now that it is what you are effectively doing - you are calling the __init__ method), so what the syntax would be:\n",
    "\n",
    "*Hint: If you don't specify an argument, the python interpreter will complain that your class requires one argument (try that - if you don't try it now, it is not a problem, you'll try in future, even when you don't want to).*\n"
   ]
  },
  {
   "cell_type": "code",
   "execution_count": 5,
   "metadata": {
    "colab": {},
    "colab_type": "code",
    "id": "kvAS9r4m1kzz"
   },
   "outputs": [],
   "source": [
    "# your code here\n",
    "\n",
    "class Car:\n",
    "    \n",
    "    def __init__(self, name='Car'):\n",
    "        \n",
    "        from tqdm.auto import tqdm\n",
    "        import time\n",
    "        \n",
    "        for i in tqdm(range(10), desc='__init__ is running, yay'):\n",
    "            time.sleep(.1)      "
   ]
  },
  {
   "cell_type": "markdown",
   "metadata": {
    "colab_type": "text",
    "id": "vrksHiAs1kz2"
   },
   "source": [
    "### Now let's store that new argument\n",
    "\n",
    "By now, you are only receiving the name of the car as an argument, but you are not doing anything specifically with that variable called `name`.\n",
    "\n",
    "Let's store that in the object. That's the first use of the `self` keyword.\n",
    "\n",
    "To store the variable in a way that the user can access via a `car.SOMETHING`, you have to specify that the object itself is receiving the attribute `name` (for example)\n",
    "\n",
    "Then, **create a variable called `name` that receives the argument `name`** (keep in mind that the name of the variable need not necessarily be the same, you could assing the argument `name` to an attribute called `chimpanze` for example).\n",
    "\n",
    "Also **create the other 5 attributes that you previously had in mind**\n"
   ]
  },
  {
   "cell_type": "code",
   "execution_count": 6,
   "metadata": {
    "colab": {},
    "colab_type": "code",
    "id": "Qb2-T7JF1kz3"
   },
   "outputs": [],
   "source": [
    "# your code here\n",
    "\n",
    "class Car:\n",
    "    \n",
    "    def __init__(self, name='Car', model='generic', year=2020, color='white', length=4.5, ac=True):\n",
    "        \n",
    "        from tqdm.auto import tqdm\n",
    "        import time\n",
    "        \n",
    "        for i in tqdm(range(10), desc='__init__ is running, yay'):\n",
    "            time.sleep(.1)\n",
    "        \n",
    "        # List of attributes of the class Car\n",
    "        self.name = name\n",
    "        self.model = model\n",
    "        self.year = year\n",
    "        self.color = color\n",
    "        self.length = length\n",
    "        self.ac = ac"
   ]
  },
  {
   "cell_type": "markdown",
   "metadata": {
    "colab_type": "text",
    "id": "y5iAyMKy1kz6"
   },
   "source": [
    "### Access the attribute\n",
    "\n",
    "You should now be able to access the object's attribute once you instantiate it as `my_car.name`\n",
    "\n",
    "You can try to write `my_car.<TAB>` to check what attributes or methods your object contains."
   ]
  },
  {
   "cell_type": "code",
   "execution_count": 7,
   "metadata": {
    "colab": {},
    "colab_type": "code",
    "id": "seUopUVH1kz7",
    "scrolled": true
   },
   "outputs": [
    {
     "data": {
      "application/vnd.jupyter.widget-view+json": {
       "model_id": "dbc31e6f2dbe4cf3baf18a76fa9ac4f0",
       "version_major": 2,
       "version_minor": 0
      },
      "text/plain": [
       "HBox(children=(FloatProgress(value=0.0, description='__init__ is running, yay', max=10.0, style=ProgressStyle(…"
      ]
     },
     "metadata": {},
     "output_type": "display_data"
    },
    {
     "name": "stdout",
     "output_type": "stream",
     "text": [
      "\n"
     ]
    }
   ],
   "source": [
    "# your code here\n",
    "\n",
    "my_car = Car()"
   ]
  },
  {
   "cell_type": "code",
   "execution_count": 8,
   "metadata": {},
   "outputs": [
    {
     "data": {
      "text/plain": [
       "'Car'"
      ]
     },
     "execution_count": 8,
     "metadata": {},
     "output_type": "execute_result"
    }
   ],
   "source": [
    "my_car.name"
   ]
  },
  {
   "cell_type": "markdown",
   "metadata": {
    "colab_type": "text",
    "id": "S-sADAYz1kz-"
   },
   "source": [
    "## Understanding special methods"
   ]
  },
  {
   "cell_type": "markdown",
   "metadata": {
    "colab_type": "text",
    "id": "dwK0km7b1k0A"
   },
   "source": [
    "Special methods are the ones that start with double underlines (usually called `dunder`), for example the `__init__` method, the `__doc__` method or `__repr__` method (called as `dunder init`, `dunder doc`, `dunder repr`)."
   ]
  },
  {
   "cell_type": "markdown",
   "metadata": {
    "colab_type": "text",
    "id": "AOn6R6et1k0B"
   },
   "source": [
    "The `__repr__` method is responsible to show how your class will be displayed on screen when you display it.\n",
    "Let's create a `__repr__(self)` function on our `Car` class that returns the following string below (copy the string below):\n",
    "\n",
    "```python\n",
    "    car = f'''\n",
    "                  ______--------___\n",
    "                 /|             / |\n",
    "      o___________|_\\__________/__|\n",
    "     ]|___     |  |=   ||  =|___  |\"\n",
    "     //   \\\\    |  |____||_///   \\\\|\"\n",
    "    |  X  |\\--------------/|  X  |\\\"\n",
    "     \\___/                  \\___/\n",
    "    '''\n",
    "```\n",
    "\n",
    "Your class should now have two special methods, `__init__` and `__repr__`"
   ]
  },
  {
   "cell_type": "code",
   "execution_count": 9,
   "metadata": {
    "colab": {},
    "colab_type": "code",
    "id": "YwIKfStC1k0C"
   },
   "outputs": [],
   "source": [
    "# your code here\n",
    "\n",
    "car = f'''\n",
    "                  ______--------___\n",
    "                 /|             / |\n",
    "      o___________|_\\__________/__|\n",
    "     ]|___     |  |=   ||  =|___  |\"\n",
    "     //   \\\\    |  |____||_///   \\\\|\"\n",
    "    |  X  |\\--------------/|  X  |\\\"\n",
    "     \\___/                  \\___/\n",
    "    '''\n",
    "\n",
    "class Car:\n",
    "    \n",
    "    def __init__(self, name='Car', model='generic', year=2020, color='white', length=4.5, ac=True, car=car):\n",
    "        \n",
    "        from tqdm.auto import tqdm\n",
    "        import time\n",
    "        \n",
    "        for i in tqdm(range(10), desc='__init__ is running, yay'):\n",
    "            time.sleep(.1)\n",
    "        \n",
    "        # List of attributes of the class Car\n",
    "        self.name = name\n",
    "        self.model = model\n",
    "        self.year = year\n",
    "        self.color = color\n",
    "        self.length = length\n",
    "        self.ac = ac\n",
    "    \n",
    "    # Special method to specify how the class will be displayed on the screen\n",
    "    def __repr__(self):\n",
    "        self.car = car\n",
    "        return car"
   ]
  },
  {
   "cell_type": "markdown",
   "metadata": {
    "colab_type": "text",
    "id": "_Adk80WH1k0H"
   },
   "source": [
    "### Now instantiate your Car class again"
   ]
  },
  {
   "cell_type": "code",
   "execution_count": 10,
   "metadata": {
    "colab": {},
    "colab_type": "code",
    "id": "yiOrJNm_1k0I"
   },
   "outputs": [
    {
     "data": {
      "application/vnd.jupyter.widget-view+json": {
       "model_id": "c3f100ebd1d5436387d49696e6dbba67",
       "version_major": 2,
       "version_minor": 0
      },
      "text/plain": [
       "HBox(children=(FloatProgress(value=0.0, description='__init__ is running, yay', max=10.0, style=ProgressStyle(…"
      ]
     },
     "metadata": {},
     "output_type": "display_data"
    },
    {
     "name": "stdout",
     "output_type": "stream",
     "text": [
      "\n"
     ]
    }
   ],
   "source": [
    "# your code here\n",
    "\n",
    "my_car = Car()"
   ]
  },
  {
   "cell_type": "markdown",
   "metadata": {
    "colab_type": "text",
    "id": "Y-iwCDfv1k0M"
   },
   "source": [
    "### And check what happens when you print your object on screen"
   ]
  },
  {
   "cell_type": "code",
   "execution_count": 11,
   "metadata": {
    "colab": {},
    "colab_type": "code",
    "id": "k2SrXV381k0M"
   },
   "outputs": [
    {
     "name": "stdout",
     "output_type": "stream",
     "text": [
      "\n",
      "                  ______--------___\n",
      "                 /|             / |\n",
      "      o___________|_\\__________/__|\n",
      "     ]|___     |  |=   ||  =|___  |\"\n",
      "     //   \\    |  |____||_///   \\|\"\n",
      "    |  X  |\\--------------/|  X  |\"\n",
      "     \\___/                  \\___/\n",
      "    \n"
     ]
    }
   ],
   "source": [
    "# your code here\n",
    "\n",
    "print(my_car)"
   ]
  },
  {
   "cell_type": "markdown",
   "metadata": {
    "colab_type": "text",
    "id": "2jOd9vnm1k0R"
   },
   "source": [
    "### Now create a simple method to receive and return the `self` variable\n",
    "\n",
    "Create a simple method inside your `class Car` and return `self` the self argument. Name this method `get_itself`."
   ]
  },
  {
   "cell_type": "code",
   "execution_count": 12,
   "metadata": {
    "colab": {},
    "colab_type": "code",
    "id": "uvGjC19m1k0R"
   },
   "outputs": [],
   "source": [
    "# your code here\n",
    "\n",
    "class Car:\n",
    "    \n",
    "    def __init__(self, name='Car', model='generic', year=2020, color='white', length=4.5, ac=True, car=car):\n",
    "        \n",
    "        from tqdm.auto import tqdm\n",
    "        import time\n",
    "        \n",
    "        for i in tqdm(range(10), desc='__init__ is running, yay'):\n",
    "            time.sleep(.1)\n",
    "        \n",
    "        # List of attributes of the class Car\n",
    "        self.name = name\n",
    "        self.model = model\n",
    "        self.year = year\n",
    "        self.color = color\n",
    "        self.length = length\n",
    "        self.ac = ac\n",
    "    \n",
    "    # Special method to specify how the class will be displayed on the screen\n",
    "    def __repr__(self):\n",
    "        self.car = car\n",
    "        return car\n",
    "    \n",
    "    # Method to return the self variable\n",
    "    def get_itself(self):\n",
    "        return self"
   ]
  },
  {
   "cell_type": "markdown",
   "metadata": {
    "colab_type": "text",
    "id": "CKGHKq7E1k0W"
   },
   "source": [
    "#### Now instantiate the Car class and call `get_itself()`"
   ]
  },
  {
   "cell_type": "code",
   "execution_count": 13,
   "metadata": {
    "colab": {},
    "colab_type": "code",
    "id": "rVsB-oc71k0W"
   },
   "outputs": [
    {
     "data": {
      "application/vnd.jupyter.widget-view+json": {
       "model_id": "72500bcf485f4466b899536594728fb9",
       "version_major": 2,
       "version_minor": 0
      },
      "text/plain": [
       "HBox(children=(FloatProgress(value=0.0, description='__init__ is running, yay', max=10.0, style=ProgressStyle(…"
      ]
     },
     "metadata": {},
     "output_type": "display_data"
    },
    {
     "name": "stdout",
     "output_type": "stream",
     "text": [
      "\n"
     ]
    }
   ],
   "source": [
    "# your code here\n",
    "\n",
    "my_car = Car()"
   ]
  },
  {
   "cell_type": "code",
   "execution_count": 14,
   "metadata": {
    "colab": {},
    "colab_type": "code",
    "id": "GyRwUP2P1k0b"
   },
   "outputs": [
    {
     "data": {
      "text/plain": [
       "\n",
       "                  ______--------___\n",
       "                 /|             / |\n",
       "      o___________|_\\__________/__|\n",
       "     ]|___     |  |=   ||  =|___  |\"\n",
       "     //   \\    |  |____||_///   \\|\"\n",
       "    |  X  |\\--------------/|  X  |\"\n",
       "     \\___/                  \\___/\n",
       "    "
      ]
     },
     "execution_count": 14,
     "metadata": {},
     "output_type": "execute_result"
    }
   ],
   "source": [
    "my_car.get_itself()"
   ]
  },
  {
   "cell_type": "markdown",
   "metadata": {
    "colab_type": "text",
    "id": "1bYp_C351k0f"
   },
   "source": [
    "This happens because you are print this specific object. "
   ]
  },
  {
   "cell_type": "markdown",
   "metadata": {
    "colab_type": "text",
    "id": "gKdMu0N61k0g"
   },
   "source": [
    "# Bonus 1"
   ]
  },
  {
   "cell_type": "markdown",
   "metadata": {
    "colab_type": "text",
    "id": "7mwY-xPX1k0h"
   },
   "source": [
    "### Now let's parametrize this drawing."
   ]
  },
  {
   "cell_type": "markdown",
   "metadata": {
    "colab_type": "text",
    "id": "CYTb5BY_1k0h"
   },
   "source": [
    "Change your class to receive the drawing you want to output as a parameter. Modify your __repr__ method to use that parameter instead of the fixed drawing we used upwards."
   ]
  },
  {
   "cell_type": "code",
   "execution_count": 15,
   "metadata": {
    "colab": {},
    "colab_type": "code",
    "id": "8ZrKRi4k1k0i"
   },
   "outputs": [],
   "source": [
    "# your code here\n",
    "\n",
    "class Car:\n",
    "    \n",
    "    def __init__(self, car_name='Car', model='generic', year=2020, color='white', length=4.5, ac=True, car=car):\n",
    "        \n",
    "        from tqdm.auto import tqdm\n",
    "        import time\n",
    "        \n",
    "        for i in tqdm(range(10), desc='__init__ is running, yay'):\n",
    "            time.sleep(.1)\n",
    "        \n",
    "        # List of attributes of the class Car\n",
    "        self.name = car_name\n",
    "        self.car = car\n",
    "        self.model = model\n",
    "        self.year = year\n",
    "        self.color = color\n",
    "        self.length = length\n",
    "        self.ac = ac\n",
    "    \n",
    "    # Special method to specify how the class will be displayed on the screen\n",
    "    def __repr__(self):\n",
    "        self.car = car\n",
    "        return car\n",
    "    \n",
    "    # Method to return the self variable\n",
    "    def get_itself(self):\n",
    "        return self"
   ]
  },
  {
   "cell_type": "code",
   "execution_count": 16,
   "metadata": {
    "colab": {},
    "colab_type": "code",
    "id": "i2OpXe2x1k0l"
   },
   "outputs": [
    {
     "data": {
      "application/vnd.jupyter.widget-view+json": {
       "model_id": "22ad247e50954be8b031fd19efea0543",
       "version_major": 2,
       "version_minor": 0
      },
      "text/plain": [
       "HBox(children=(FloatProgress(value=0.0, description='__init__ is running, yay', max=10.0, style=ProgressStyle(…"
      ]
     },
     "metadata": {},
     "output_type": "display_data"
    },
    {
     "name": "stdout",
     "output_type": "stream",
     "text": [
      "\n"
     ]
    },
    {
     "data": {
      "text/plain": [
       "\n",
       "              ______--------___\n",
       "             /|             / |\n",
       "  o___________|_\\__________/__|\n",
       " ]|___     |  |=   ||  =|___  |\"\n",
       " //   \\    |  |____||_///   \\|\"\n",
       "|  X  |\\--------------/|  X  |\"\n",
       " \\___/                  \\___/"
      ]
     },
     "execution_count": 16,
     "metadata": {},
     "output_type": "execute_result"
    }
   ],
   "source": [
    "car = f'''\n",
    "              ______--------___\n",
    "             /|             / |\n",
    "  o___________|_\\__________/__|\n",
    " ]|___     |  |=   ||  =|___  |\"\n",
    " //   \\\\    |  |____||_///   \\\\|\"\n",
    "|  X  |\\--------------/|  X  |\\\"\n",
    " \\___/                  \\___/\n",
    "'''\n",
    "\n",
    "# Instantiating a car\n",
    "my_car = Car(car_name = 'A', car=car)\n",
    "\n",
    "# Display the car on the screen\n",
    "my_car"
   ]
  },
  {
   "cell_type": "code",
   "execution_count": 17,
   "metadata": {
    "colab": {},
    "colab_type": "code",
    "id": "xH6_Xbdw1k0o"
   },
   "outputs": [
    {
     "data": {
      "application/vnd.jupyter.widget-view+json": {
       "model_id": "e96bd81127e342058e09fd26528d639f",
       "version_major": 2,
       "version_minor": 0
      },
      "text/plain": [
       "HBox(children=(FloatProgress(value=0.0, description='__init__ is running, yay', max=10.0, style=ProgressStyle(…"
      ]
     },
     "metadata": {},
     "output_type": "display_data"
    },
    {
     "name": "stdout",
     "output_type": "stream",
     "text": [
      "\n"
     ]
    },
    {
     "data": {
      "text/plain": [
       "\n",
       "                   _\n",
       " _________________| \\_\n",
       "|   ___    |  ,|   ___`-.\n",
       "|  /   \\   |___/  /   \\  `-.\n",
       "|_| (O) |________| (O) |____|\n",
       "   \\___/          \\___/"
      ]
     },
     "execution_count": 17,
     "metadata": {},
     "output_type": "execute_result"
    }
   ],
   "source": [
    "car = '''\n",
    "                   _\n",
    " _________________| \\_\n",
    "|   ___    |  ,|   ___`-.\n",
    "|  /   \\   |___/  /   \\  `-.\n",
    "|_| (O) |________| (O) |____|\n",
    "   \\___/          \\___/\n",
    "'''\n",
    "\n",
    "# Instantiating a car\n",
    "my_car = Car(car_name = 'B', car=car)\n",
    "\n",
    "# Display the car on the screen\n",
    "my_car"
   ]
  },
  {
   "cell_type": "markdown",
   "metadata": {
    "colab_type": "text",
    "id": "gqiq26CV1k0u"
   },
   "source": [
    "# Bonus 2"
   ]
  },
  {
   "cell_type": "markdown",
   "metadata": {
    "colab_type": "text",
    "id": "NXa0dT-31k0v"
   },
   "source": [
    "## Create a specialized version of a car - an Uber"
   ]
  },
  {
   "cell_type": "markdown",
   "metadata": {
    "colab_type": "text",
    "id": "uneiP7ty1k0v"
   },
   "source": [
    "You'll now create a specific version of a car. It contains the same attributes and functions of the class of cars, but it is specifically a Uber."
   ]
  },
  {
   "cell_type": "markdown",
   "metadata": {
    "colab_type": "text",
    "id": "_q9Zt0701k01"
   },
   "source": [
    "### Create a class called `Uber` that inherits from a `Car`"
   ]
  },
  {
   "cell_type": "code",
   "execution_count": 18,
   "metadata": {
    "colab": {},
    "colab_type": "code",
    "id": "1vFr8dNX1k02"
   },
   "outputs": [],
   "source": [
    "# your code here\n",
    "\n",
    "class Uber(Car):\n",
    "    pass"
   ]
  },
  {
   "cell_type": "markdown",
   "metadata": {
    "colab_type": "text",
    "id": "_pbv_N6k1k06"
   },
   "source": [
    "### Extending the `Car` class. \n",
    "\n",
    "When you create a new class based on another and create new attributes and methods for it, you are extending it. \n",
    "\n",
    "#### Let's create 2 new attributes that only `Uber cars` have. \n",
    "\n",
    "Create the `category` of the Uber (`Black`, `Platinun`, etc) and one more attribute of your choice."
   ]
  },
  {
   "cell_type": "markdown",
   "metadata": {
    "colab_type": "text",
    "id": "m2HHkFXs1k07"
   },
   "source": [
    "#### Let's create a method for this new `Uber` class that calculates the price of the run given the distance in km and time spent (in minutes) in the run. \n",
    "\n",
    "Suppose each km costs `R$ 1,00` and 1 minute costs `R$ 0,50` for `Uber` Black and `R$ 1,20` and 1 minute costs `R$ 0,60` for `Uber`  Platinum.  The final price is the max between the two.\n",
    "\n",
    "```python\n",
    "def get_price(km, time):\n",
    "    ...\n",
    "    return final_price\n",
    "```\n",
    "\n",
    "Then calculate the price of your `Uber` from:\n",
    "\n",
    "1. A `Uber Black` going from Ironhack to Guarulhos Airport (`1h:20min, 30.5km`)\n",
    "1. A `Uber Platinum` going from Ironhack to Guarulhos Airport (`1h:20min, 30.5km`)"
   ]
  },
  {
   "cell_type": "markdown",
   "metadata": {
    "colab_type": "text",
    "id": "odnIv5NV1k07"
   },
   "source": [
    "Test your results"
   ]
  },
  {
   "cell_type": "code",
   "execution_count": 19,
   "metadata": {},
   "outputs": [],
   "source": [
    "class Uber(Car):\n",
    "    \n",
    "    def __init__(self, category='Standard', payment_form='Credit Card'):\n",
    "        super().__init__(car_name='Car', model='generic', year=2020, color='white', length=4.5, ac=True, car=car)\n",
    "        self.category = category\n",
    "        self.payment_form = payment_form\n",
    "    \n",
    "    # Method to determine the price of a ride\n",
    "    def get_price(self, km, time):\n",
    "        \n",
    "        # Calculates the price for the Black Uber\n",
    "        if self.category == 'Black':\n",
    "            # Calculates price by km\n",
    "            black_km_price = 1 * km\n",
    "            \n",
    "            # Caculates price by time\n",
    "            black_time_price = 0.5 * time\n",
    "            \n",
    "            # The final price is the higher one between the price by km and the price by time\n",
    "            final_price = max([black_km_price, black_time_price])\n",
    "        \n",
    "        # Calculates the proce for the Platinum Uber\n",
    "        elif self.category == 'Platinum':\n",
    "            # Calculates price by km\n",
    "            platinum_km_price = 1.2 * km\n",
    "            \n",
    "            # Caculates price by time\n",
    "            platinum_time_price = 0.6 * time\n",
    "            \n",
    "            # The final price is the higher one between the price by km and the price by time\n",
    "            final_price = max([platinum_km_price, platinum_time_price])\n",
    "        \n",
    "        \n",
    "        return final_price"
   ]
  },
  {
   "cell_type": "code",
   "execution_count": 20,
   "metadata": {
    "colab": {},
    "colab_type": "code",
    "id": "Ij3uIle41k08"
   },
   "outputs": [
    {
     "data": {
      "application/vnd.jupyter.widget-view+json": {
       "model_id": "08ce02eb36cb450da3b61fddfd0bee48",
       "version_major": 2,
       "version_minor": 0
      },
      "text/plain": [
       "HBox(children=(FloatProgress(value=0.0, description='__init__ is running, yay', max=10.0, style=ProgressStyle(…"
      ]
     },
     "metadata": {},
     "output_type": "display_data"
    },
    {
     "name": "stdout",
     "output_type": "stream",
     "text": [
      "\n",
      "The price of a Uber Black from Ironhack to Garulhos Airpot is R$40.00.\n"
     ]
    }
   ],
   "source": [
    "# A Uber Black going from Ironhack to Guarulhos Airport (1h:20min, 30.5km)\n",
    "\n",
    "# Instantiating a Uber car of the category Black\n",
    "black = Uber(category='Black')\n",
    "\n",
    "# Calculating the price of the ride from Ironhack to Guarulhos Airport for the Uber Black\n",
    "print(f'The price of a Uber Black from Ironhack to Garulhos Airpot is R${black.get_price(30.5, 80):.2f}.')"
   ]
  },
  {
   "cell_type": "code",
   "execution_count": 21,
   "metadata": {
    "colab": {},
    "colab_type": "code",
    "id": "nYGvo_JU1k0_",
    "scrolled": true
   },
   "outputs": [
    {
     "data": {
      "application/vnd.jupyter.widget-view+json": {
       "model_id": "a2f1dbade27b4d939148745312aaf4f7",
       "version_major": 2,
       "version_minor": 0
      },
      "text/plain": [
       "HBox(children=(FloatProgress(value=0.0, description='__init__ is running, yay', max=10.0, style=ProgressStyle(…"
      ]
     },
     "metadata": {},
     "output_type": "display_data"
    },
    {
     "name": "stdout",
     "output_type": "stream",
     "text": [
      "\n",
      "The price of a Uber Platinum from Ironhack to Garulhos Airpot is R$48.00.\n"
     ]
    }
   ],
   "source": [
    "# A Uber Platinum going from Ironhack to Guarulhos Airport (1h:20min, 30.5km)\n",
    "\n",
    "# Instantiating a Uber car of the category Platinum\n",
    "platinum = Uber(category='Platinum')\n",
    "\n",
    "# Calculating the price of the ride from Ironhack to Guarulhos Airport for the Uber Platinum\n",
    "print(f'The price of a Uber Platinum from Ironhack to Garulhos Airpot is R${platinum.get_price(30.5, 80):.2f}.')"
   ]
  }
 ],
 "metadata": {
  "colab": {
   "collapsed_sections": [],
   "name": "challenge-01.ipynb",
   "provenance": []
  },
  "kernelspec": {
   "display_name": "Python 3",
   "language": "python",
   "name": "python3"
  },
  "language_info": {
   "codemirror_mode": {
    "name": "ipython",
    "version": 3
   },
   "file_extension": ".py",
   "mimetype": "text/x-python",
   "name": "python",
   "nbconvert_exporter": "python",
   "pygments_lexer": "ipython3",
   "version": "3.8.3"
  },
  "toc": {
   "base_numbering": 1,
   "nav_menu": {},
   "number_sections": true,
   "sideBar": true,
   "skip_h1_title": false,
   "title_cell": "Table of Contents",
   "title_sidebar": "Contents",
   "toc_cell": false,
   "toc_position": {},
   "toc_section_display": true,
   "toc_window_display": false
  }
 },
 "nbformat": 4,
 "nbformat_minor": 1
}
