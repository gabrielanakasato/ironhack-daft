{
 "cells": [
  {
   "cell_type": "markdown",
   "metadata": {
    "colab_type": "text",
    "id": "xRMTKqlleA5D"
   },
   "source": [
    "![Ironhack logo](https://i.imgur.com/1QgrNNw.png)\n",
    "\n",
    "# Lab | Error Handling\n",
    "\n",
    "## Introduction\n",
    "\n",
    "In this lab we will learn how to handle errors in Python. We will handle the errors using a `try` block or an `if` statement. We will also learn how to fix errors and raise errors in our code.\n",
    "\n",
    "## Getting Started\n",
    "\n",
    "Follow the instructions and add your code and explanations as necessary. By the end of this lab, you will have learned how to handle errors correctly or generate errors yourself.\n",
    "\n",
    "\n",
    "## Resources\n",
    "\n",
    "[Errors and Exceptions](https://docs.python.org/3/tutorial/errors.html)\n",
    "\n",
    "[Optional Types](https://docs.python.org/3/library/typing.html#typing.Optional)"
   ]
  },
  {
   "cell_type": "markdown",
   "metadata": {
    "colab_type": "text",
    "id": "Ega2MsnJd-XQ"
   },
   "source": [
    "# Before your start:\n",
    "- Comment as much as you ca\n",
    "- Happy learning!"
   ]
  },
  {
   "cell_type": "code",
   "execution_count": 1,
   "metadata": {
    "colab": {},
    "colab_type": "code",
    "id": "33aykiO1d-XT"
   },
   "outputs": [],
   "source": [
    "# Libraries\n",
    "import math"
   ]
  },
  {
   "cell_type": "markdown",
   "metadata": {
    "colab_type": "text",
    "id": "UA8Sce_sd-Xb"
   },
   "source": [
    "# Challenge 1 - Handling Errors Using `if` Statements\n",
    "\n",
    "In many cases, we are able to identify issues that may come up in our code and handle those handlful of issues with an `if` statment. Sometimes we would like to handle different types of inputs and are aware that later in the code, we will have to write two different branches of code for the two different cases we allowed in the beginning.\n",
    "\n",
    "In the 3 cells below, add an `if` statment that will handle both types of input allowed in the functions."
   ]
  },
  {
   "cell_type": "code",
   "execution_count": 2,
   "metadata": {
    "colab": {},
    "colab_type": "code",
    "id": "z_2AsNicd-Xd"
   },
   "outputs": [
    {
     "name": "stdout",
     "output_type": "stream",
     "text": [
      "Example with a negative number:\n",
      "[In]: -1\n",
      "[Out]: 1.0\n",
      "\n",
      "Example with a positive number:\n",
      "[In]: 81\n",
      "[Out]: 9.0\n"
     ]
    }
   ],
   "source": [
    "# Modify the code below to handle positive and negative numbers by adding an if statement and performing a transformation:\n",
    "\n",
    "def sqrt_for_all(x):\n",
    "    \"\"\"\n",
    "    This function will take any real number and \n",
    "    return the square root of its magnitude.\n",
    "    \n",
    "    Input: Real number\n",
    "    Output: Real number\n",
    "    \n",
    "    Sample Input: -4\n",
    "    Sample Output: 2.0\n",
    "    \"\"\"\n",
    "    \n",
    "    # The only problem to use squar root of a real number is when this number is negative.\n",
    "    # So when the number is negative, the function coverts the negative number into its absolute number\n",
    "    if x < 0:\n",
    "        x = abs(x)\n",
    "    \n",
    "    return math.sqrt(x)\n",
    "\n",
    "# Example with a negative number\n",
    "print(f'Example with a negative number:\\n[In]: -1\\n[Out]: {sqrt_for_all(-1)}')\n",
    "\n",
    "# Example with a positive number\n",
    "print(f'\\nExample with a positive number:\\n[In]: 81\\n[Out]: {sqrt_for_all(81)}')"
   ]
  },
  {
   "cell_type": "code",
   "execution_count": 3,
   "metadata": {
    "colab": {},
    "colab_type": "code",
    "id": "_knyIShRd-Xn"
   },
   "outputs": [
    {
     "name": "stdout",
     "output_type": "stream",
     "text": [
      "Example with a zero as second parameter:\n",
      "[In]: x = 5, y = 0\n",
      "[Out]: 0\n",
      "\n",
      "Example without a zero as second parameter:\n",
      "[In]: x = 5, y = 1\n",
      "[Out]: 5.0\n"
     ]
    }
   ],
   "source": [
    "# Modify the code below to handle zero as well. In the case of zero, return zero\n",
    "\n",
    "def divide(x, y):\n",
    "    \"\"\"\n",
    "    This function will take any two real numbers \n",
    "    and return their quotient. \n",
    "    If the denominator is zero, we return zero.\n",
    "    \n",
    "    Input: Real number\n",
    "    Output: Real number\n",
    "    \n",
    "    Sample Input: 5, 1\n",
    "    Sample Output: 5.0\n",
    "    \"\"\"\n",
    "    \n",
    "    # There is no answer to a division when its denominator is equal to zero.\n",
    "    # So if the denominator is equal to zero, the function returns zero.\n",
    "    if y == 0:\n",
    "        return 0\n",
    "    \n",
    "    # If the denominator is different from zero, the funtion calculates the division between 'x' and 'y'\n",
    "    else:\n",
    "        return x / y\n",
    "\n",
    "\n",
    "#  Example when the second parameter is zero\n",
    "print(f'Example with a zero as second parameter:\\n[In]: x = 5, y = 0\\n[Out]: {divide(5, 0)}')\n",
    "\n",
    "#  Example when the second parameter is not zero\n",
    "print(f'\\nExample without a zero as second parameter:\\n[In]: x = 5, y = 1\\n[Out]: {divide(5, 1)}')"
   ]
  },
  {
   "cell_type": "code",
   "execution_count": 4,
   "metadata": {
    "colab": {},
    "colab_type": "code",
    "id": "4tM0eakyd-Xy"
   },
   "outputs": [
    {
     "name": "stdout",
     "output_type": "stream",
     "text": [
      "Examples with an integer:\n",
      "[In]: a = 5, b = 6\n",
      "[Out]: [11]\n",
      "\n",
      "Examples with an integer:\n",
      "[In]: a = 4, b = [4, 5, 6]\n",
      "[Out]: [8, 9, 10]\n"
     ]
    }
   ],
   "source": [
    "# Modify the function below that it will take either an number and a list or two numbers. \n",
    "# If we take two numbers, add them together and return a list of length 1. \n",
    "# Otherwise, add the number to every element of the list and return the resulting list\n",
    "\n",
    "def add_elements(a, l):\n",
    "    \"\"\"\n",
    "    This function takes either two numbers or a list and a number \n",
    "    and adds the number to all elements of the list.\n",
    "    If the function only takes two numbers, it returns a list \n",
    "    of length one that is the sum of the numbers.\n",
    "    \n",
    "    Input: number and list or two numbers\n",
    "    Output: list\n",
    "    \n",
    "    Sample Input: 5, 6\n",
    "    Sample Output: [11]\n",
    "\n",
    "    Sample Input: 4, [4, 5, 6]\n",
    "    Sample Output: [8, 9, 10]\n",
    "    \"\"\"\n",
    "    \n",
    "    # The function will only work if the first parameter is an integer and the second one is an integer or a list\n",
    "    if type(a) == int and (type(l) == int or type(l) == list):\n",
    "        \n",
    "        # If the second parameter is an integer, the function will return a list with sum 'a' and 'l'\n",
    "        if type(l) == int:\n",
    "            return [a + l]\n",
    "        \n",
    "        # If the second parameter is a list, the function will return a list with the sum of the number to every elment \n",
    "        # of the list input\n",
    "        else:\n",
    "            return [a + element for element in l]\n",
    "            \n",
    "\n",
    "# Example when the second parameter is an integer\n",
    "print(f'Examples with an integer:\\n[In]: a = 5, b = 6\\n[Out]: {add_elements(5, 6)}')\n",
    "\n",
    "# Example when the second parameter is a list\n",
    "print(f'\\nExamples with an integer:\\n[In]: a = 4, b = [4, 5, 6]\\n[Out]: {add_elements(4, [4, 5, 6])}')"
   ]
  },
  {
   "cell_type": "markdown",
   "metadata": {
    "colab_type": "text",
    "id": "5LUQESird-X4"
   },
   "source": [
    "# Challenge 2 - Fixing Errors to Get Code to Run\n",
    "\n",
    "Sometimes the error is not caused by the input but by the code itself. In the 2 following cells below, examine the error and correct the code to avoid the error."
   ]
  },
  {
   "cell_type": "code",
   "execution_count": 5,
   "metadata": {
    "colab": {},
    "colab_type": "code",
    "id": "HlHlN4Jgd-X6"
   },
   "outputs": [
    {
     "data": {
      "text/plain": [
       "14"
      ]
     },
     "execution_count": 5,
     "metadata": {},
     "output_type": "execute_result"
    }
   ],
   "source": [
    "# Modify the code below:\n",
    "\n",
    "l = [1,2,3,4]\n",
    "\n",
    "# BEFORE\n",
    "# Type of error: SyntaxError\n",
    "# Reason: There is a parenthesis missing at the end of this line\n",
    "# Solution: Add a parenthesis at the end of this line\n",
    "# sum([element + 1 for element in l]\n",
    "\n",
    "# AFTER\n",
    "sum([element + 1 for element in l])"
   ]
  },
  {
   "cell_type": "code",
   "execution_count": 6,
   "metadata": {
    "colab": {},
    "colab_type": "code",
    "id": "5TFPhs9vd-X_"
   },
   "outputs": [
    {
     "name": "stdout",
     "output_type": "stream",
     "text": [
      "The current element in the loop is 1.\n",
      "The current element in the loop is 2.\n",
      "The current element in the loop is 3.\n",
      "The current element in the loop is 4.\n"
     ]
    }
   ],
   "source": [
    "# Modify the code below:\n",
    "\n",
    "l = [1,2,3,4]\n",
    "\n",
    "# BEFORE\n",
    "# Type of error: TypeError\n",
    "# Reason: Inside the print funtcion, the script is trying to concatenate a string with an integer, which is the type of data\n",
    "# of every element inside the list 'l'\n",
    "# Solution: Transform the 'element'. For this is necessary use the f-string and one way to do that is:\n",
    "    # 1 - Put the 'element' inside a pair of single or double quotes and write a 'f' before the first quote\n",
    "    # 2 - Put the 'element' inside curly braces, so the compiler can recognize you want to turn the integers into a string \n",
    "# for element in l:\n",
    "    # print(\"The current element in the loop is\" + element)\n",
    "\n",
    "# AFTER\n",
    "for element in l:\n",
    "    print(\"The current element in the loop is\" + f' {element}.')"
   ]
  },
  {
   "cell_type": "markdown",
   "metadata": {
    "colab_type": "text",
    "id": "mFMNubT9d-YG"
   },
   "source": [
    "# Challenge 3 - Handling Errors Using `try` and `except`\n",
    "\n",
    "The `try` and `except` clauses create a block for handling exceptions. When we wrap code in this block, we first attempt the code in the `try` and if an error is thrown, we can handle specific errors or all errors in the `except` portion.\n",
    "\n",
    "In the 4 cells below, modify the code to catch the error and print a meaningful message that will alert the user what went wrong. You may catch the error using a general `except` or a specific `except` for the error caused by the code."
   ]
  },
  {
   "cell_type": "code",
   "execution_count": 7,
   "metadata": {
    "colab": {},
    "colab_type": "code",
    "id": "rDAkM9a_d-YH"
   },
   "outputs": [
    {
     "name": "stdout",
     "output_type": "stream",
     "text": [
      "The input index is out of range. The indexes range from 0 (zero) to 2.\n",
      "Please, try again choosing a number between 0 and 2.\n"
     ]
    }
   ],
   "source": [
    "# Modify the code below:\n",
    "abc=[10,20,20]\n",
    "\n",
    "# BEFORE\n",
    "# Type of error: IndexError\n",
    "# Reason: The list 'abc' has three elements, which means the last index is 2, since the count of indexes starts at zero \n",
    "# and not at one. So the script input a index out of the actual range (0 - 2)\n",
    "\n",
    "# AFTER\n",
    "try:\n",
    "    print(abc[3])\n",
    "except IndexError:\n",
    "    print(f'The input index is out of range. The indexes range from 0 (zero) to {len(abc) - 1}.\\nPlease, try again\\\n",
    " choosing a number between 0 and {len(abc) - 1}.')"
   ]
  },
  {
   "cell_type": "code",
   "execution_count": 8,
   "metadata": {
    "colab": {},
    "colab_type": "code",
    "id": "7k6mh45gd-YO"
   },
   "outputs": [
    {
     "name": "stdout",
     "output_type": "stream",
     "text": [
      "It is not possible to do a division by zero. Please, input another denominator or try another division.\n"
     ]
    }
   ],
   "source": [
    "# Modify the code below:\n",
    "\n",
    "x = 5\n",
    "y = 0\n",
    "\n",
    "# BEFORE\n",
    "# Type of error: ZeroDivisionError\n",
    "# Reason: It is not possible to do a division by zero.\n",
    "\n",
    "# AFTER\n",
    "try:\n",
    "    z = x/y\n",
    "except ZeroDivisionError:\n",
    "    print('It is not possible to do a division by zero. Please, input another denominator or try another division.')\n"
   ]
  },
  {
   "cell_type": "code",
   "execution_count": 9,
   "metadata": {
    "colab": {},
    "colab_type": "code",
    "id": "a13OgyE1d-YV"
   },
   "outputs": [
    {
     "name": "stdout",
     "output_type": "stream",
     "text": [
      "It is not possible to square a data of type string. Please, inform a number or a list of numbers or convert the strings into an integer or a float number.\n"
     ]
    }
   ],
   "source": [
    "# BEFORE\n",
    "# Type of error: TypeError\n",
    "# Reason: It is not possible to square a string\n",
    "\n",
    "# AFTER\n",
    "try:\n",
    "    for i in ['a','b','c']:\n",
    "        print (i**2)\n",
    "except TypeError:\n",
    "    print('It is not possible to square a data of type string. Please, inform a number or a list of numbers or convert\\\n",
    " the strings into an integer or a float number.')"
   ]
  },
  {
   "cell_type": "code",
   "execution_count": 10,
   "metadata": {
    "colab": {},
    "colab_type": "code",
    "id": "esJnxjj1d-YZ"
   },
   "outputs": [
    {
     "name": "stdout",
     "output_type": "stream",
     "text": [
      "The name \"some_string\" was not defined before. Please, define it before running this function.\n"
     ]
    }
   ],
   "source": [
    "# Modify the code below:\n",
    "\n",
    "# BEFORE\n",
    "# Type of error: NameError\n",
    "# Reason: The input in the print function was not defined before the function, so the compiler does not recognize the input\n",
    "\n",
    "# AFTER\n",
    "try:\n",
    "    print(some_string)\n",
    "except NameError:\n",
    "    print(f'The name \"some_string\" was not defined before. Please, define it before running this function.')\n"
   ]
  },
  {
   "cell_type": "markdown",
   "metadata": {
    "colab_type": "text",
    "id": "nCjEJE40d-Yd"
   },
   "source": [
    "# Bonus Challenge - Raise Errors on Your Own\n",
    "\n",
    "There are cases where you need to alert your users of a problem even if the input will not immediately produce an error. In these cases you may want to throw an error yourself to bring attention to the problem. In the 2 cells below, write the functions as directed and add the appropriate errors using the `raise` clause. Make sure to add a meaningful error message."
   ]
  },
  {
   "cell_type": "code",
   "execution_count": 11,
   "metadata": {
    "colab": {},
    "colab_type": "code",
    "id": "T1ngCG6Ad-Ye"
   },
   "outputs": [
    {
     "name": "stdout",
     "output_type": "stream",
     "text": [
      "Example with a list:\n",
      "[In]: [4, 5, 6]\n",
      "[Out]: Your input is not a number. Please, try again.\n",
      "\n",
      "Example with a string:\n",
      "[In]: \"10\"\n",
      "[Out]: Your input is not a number. Please, try again.\n",
      "\n",
      "Example a number, except zero:\n",
      "[In]: 10.5\n",
      "[Out]: 2.3513752571634776\n",
      "\n",
      "Example with a zero:\n",
      "[In]: 0\n",
      "[Out]: "
     ]
    },
    {
     "ename": "ValueError",
     "evalue": "Your input number is equal to zero. Please, input another number.",
     "output_type": "error",
     "traceback": [
      "\u001b[1;31m---------------------------------------------------------------------------\u001b[0m",
      "\u001b[1;31mValueError\u001b[0m                                Traceback (most recent call last)",
      "\u001b[1;32m<ipython-input-11-106e725adb3a>\u001b[0m in \u001b[0;36m<module>\u001b[1;34m\u001b[0m\n\u001b[0;32m     35\u001b[0m \u001b[1;31m# Example with a zero:\u001b[0m\u001b[1;33m\u001b[0m\u001b[1;33m\u001b[0m\u001b[1;33m\u001b[0m\u001b[0m\n\u001b[0;32m     36\u001b[0m \u001b[0mprint\u001b[0m\u001b[1;33m(\u001b[0m\u001b[1;34mf'\\nExample with a zero:\\n[In]: 0\\n[Out]: '\u001b[0m\u001b[1;33m,\u001b[0m \u001b[0mend\u001b[0m\u001b[1;33m=\u001b[0m\u001b[1;34m''\u001b[0m\u001b[1;33m)\u001b[0m\u001b[1;33m\u001b[0m\u001b[1;33m\u001b[0m\u001b[0m\n\u001b[1;32m---> 37\u001b[1;33m \u001b[0mprint\u001b[0m\u001b[1;33m(\u001b[0m\u001b[0mlog_square\u001b[0m\u001b[1;33m(\u001b[0m\u001b[1;36m0\u001b[0m\u001b[1;33m)\u001b[0m\u001b[1;33m)\u001b[0m\u001b[1;33m\u001b[0m\u001b[1;33m\u001b[0m\u001b[0m\n\u001b[0m",
      "\u001b[1;32m<ipython-input-11-106e725adb3a>\u001b[0m in \u001b[0;36mlog_square\u001b[1;34m(x)\u001b[0m\n\u001b[0;32m     18\u001b[0m         \u001b[1;31m# If 'x' is equal to zero, the function raises a error\u001b[0m\u001b[1;33m\u001b[0m\u001b[1;33m\u001b[0m\u001b[1;33m\u001b[0m\u001b[0m\n\u001b[0;32m     19\u001b[0m         \u001b[1;32mif\u001b[0m \u001b[0mx\u001b[0m \u001b[1;33m==\u001b[0m \u001b[1;36m0\u001b[0m\u001b[1;33m:\u001b[0m\u001b[1;33m\u001b[0m\u001b[1;33m\u001b[0m\u001b[0m\n\u001b[1;32m---> 20\u001b[1;33m             \u001b[1;32mraise\u001b[0m \u001b[0mValueError\u001b[0m\u001b[1;33m(\u001b[0m\u001b[1;34m'Your input number is equal to zero. Please, input another number.'\u001b[0m\u001b[1;33m)\u001b[0m\u001b[1;33m\u001b[0m\u001b[1;33m\u001b[0m\u001b[0m\n\u001b[0m\u001b[0;32m     21\u001b[0m         \u001b[1;31m# If 'x' is different from zero, the function calculates the natural log of 'x'\u001b[0m\u001b[1;33m\u001b[0m\u001b[1;33m\u001b[0m\u001b[1;33m\u001b[0m\u001b[0m\n\u001b[0;32m     22\u001b[0m         \u001b[1;32melse\u001b[0m\u001b[1;33m:\u001b[0m\u001b[1;33m\u001b[0m\u001b[1;33m\u001b[0m\u001b[0m\n",
      "\u001b[1;31mValueError\u001b[0m: Your input number is equal to zero. Please, input another number."
     ]
    }
   ],
   "source": [
    "def log_square(x):\n",
    "    \"\"\"\n",
    "    This function takes a numeric value and returns the \n",
    "    natural log of the square of the number.\n",
    "    The function raises an error if the number is equal to zero.\n",
    "    Use the math.log function in this funtion.\n",
    "    \n",
    "    Input: Real number\n",
    "    Output: Real number or error\n",
    "    \n",
    "    Sample Input: 5\n",
    "    Sample Output: 3.21887\n",
    "    \"\"\"\n",
    "    \n",
    "    # Your code here:\n",
    "    \n",
    "    try:\n",
    "        # If 'x' is equal to zero, the function raises a error\n",
    "        if x == 0:\n",
    "            raise ValueError('Your input number is equal to zero. Please, input another number.')\n",
    "        # If 'x' is different from zero, the function calculates the natural log of 'x'\n",
    "        else:\n",
    "            return math.log(x)\n",
    "    # If 'x' is not a number, the functions let the user know about this fact\n",
    "    except TypeError:\n",
    "        return 'Your input is not a number. Please, try again.'\n",
    "\n",
    "# Example with a non-number input:\n",
    "print(f'Example with a list:\\n[In]: [4, 5, 6]\\n[Out]: {log_square([4, 5, 6])}')\n",
    "print(f'\\nExample with a string:\\n[In]: \"10\"\\n[Out]: {log_square(\"10\")}')\n",
    "\n",
    "# Example with a number:\n",
    "print(f'\\nExample a number, except zero:\\n[In]: 10.5\\n[Out]: {log_square(10.5)}')\n",
    "\n",
    "# Example with a zero:\n",
    "print(f'\\nExample with a zero:\\n[In]: 0\\n[Out]: ', end='')\n",
    "print(log_square(0))"
   ]
  },
  {
   "cell_type": "code",
   "execution_count": 12,
   "metadata": {
    "colab": {},
    "colab_type": "code",
    "id": "sombPY4md-Yj"
   },
   "outputs": [
    {
     "name": "stdout",
     "output_type": "stream",
     "text": [
      "Example with a float:\n",
      "[In]: 56.9\n",
      "[Out]: Your input is not a string. Please, try again.\n",
      "\n",
      "Example with a list:\n",
      "[In]: [1, 2, 3]\n",
      "[Out]: Your input is not a string. Please, try again.\n",
      "\n",
      "Example with a string containing capital letter:\n",
      "[In]: 'john SmiTH'\n",
      "[Out]: True\n",
      "\n",
      "Example with a string containing capital letter:\n",
      "[In]: 'john'\n",
      "[Out]: "
     ]
    },
    {
     "ename": "ValueError",
     "evalue": "There is no capital letter in this string.",
     "output_type": "error",
     "traceback": [
      "\u001b[1;31m---------------------------------------------------------------------------\u001b[0m",
      "\u001b[1;31mValueError\u001b[0m                                Traceback (most recent call last)",
      "\u001b[1;32m<ipython-input-12-6d690dd436a2>\u001b[0m in \u001b[0;36m<module>\u001b[1;34m\u001b[0m\n\u001b[0;32m     32\u001b[0m \u001b[1;31m# Example with a string without capital letter:\u001b[0m\u001b[1;33m\u001b[0m\u001b[1;33m\u001b[0m\u001b[1;33m\u001b[0m\u001b[0m\n\u001b[0;32m     33\u001b[0m \u001b[0mprint\u001b[0m\u001b[1;33m(\u001b[0m\u001b[1;34mf\"\\nExample with a string containing capital letter:\\n[In]: 'john'\\n[Out]: \"\u001b[0m\u001b[1;33m,\u001b[0m \u001b[0mend\u001b[0m\u001b[1;33m=\u001b[0m\u001b[1;34m\"\"\u001b[0m\u001b[1;33m)\u001b[0m\u001b[1;33m\u001b[0m\u001b[1;33m\u001b[0m\u001b[0m\n\u001b[1;32m---> 34\u001b[1;33m \u001b[0mprint\u001b[0m\u001b[1;33m(\u001b[0m\u001b[0mcheck_capital\u001b[0m\u001b[1;33m(\u001b[0m\u001b[1;34m'john'\u001b[0m\u001b[1;33m)\u001b[0m\u001b[1;33m)\u001b[0m\u001b[1;33m\u001b[0m\u001b[1;33m\u001b[0m\u001b[0m\n\u001b[0m",
      "\u001b[1;32m<ipython-input-12-6d690dd436a2>\u001b[0m in \u001b[0;36mcheck_capital\u001b[1;34m(x)\u001b[0m\n\u001b[0;32m     19\u001b[0m             \u001b[1;32mreturn\u001b[0m \u001b[1;32mTrue\u001b[0m\u001b[1;33m\u001b[0m\u001b[1;33m\u001b[0m\u001b[0m\n\u001b[0;32m     20\u001b[0m         \u001b[1;32melse\u001b[0m\u001b[1;33m:\u001b[0m\u001b[1;33m\u001b[0m\u001b[1;33m\u001b[0m\u001b[0m\n\u001b[1;32m---> 21\u001b[1;33m             \u001b[1;32mraise\u001b[0m \u001b[0mValueError\u001b[0m\u001b[1;33m(\u001b[0m\u001b[1;34m'There is no capital letter in this string.'\u001b[0m\u001b[1;33m)\u001b[0m\u001b[1;33m\u001b[0m\u001b[1;33m\u001b[0m\u001b[0m\n\u001b[0m\u001b[0;32m     22\u001b[0m     \u001b[1;32mexcept\u001b[0m \u001b[1;33m(\u001b[0m\u001b[0mTypeError\u001b[0m\u001b[1;33m,\u001b[0m \u001b[0mAttributeError\u001b[0m\u001b[1;33m)\u001b[0m\u001b[1;33m:\u001b[0m\u001b[1;33m\u001b[0m\u001b[1;33m\u001b[0m\u001b[0m\n\u001b[0;32m     23\u001b[0m         \u001b[1;32mreturn\u001b[0m \u001b[1;34m'Your input is not a string. Please, try again.'\u001b[0m\u001b[1;33m\u001b[0m\u001b[1;33m\u001b[0m\u001b[0m\n",
      "\u001b[1;31mValueError\u001b[0m: There is no capital letter in this string."
     ]
    }
   ],
   "source": [
    "def check_capital(x):\n",
    "    \"\"\"\n",
    "    This function returns true if the string contains \n",
    "    at least one capital letter and throws an error otherwise.\n",
    "    \n",
    "    Input: String\n",
    "    Output: Bool or error message\n",
    "    \n",
    "    Sample Input: 'John'\n",
    "    Sample Output: True\n",
    "    \"\"\"\n",
    "    \n",
    "    # Your code here:\n",
    "    \n",
    "    try:\n",
    "        capital_letter = [letter for letter in x if letter.isupper() == True]\n",
    "        \n",
    "        if len(capital_letter) > 0:\n",
    "            return True\n",
    "        else:\n",
    "            raise ValueError('There is no capital letter in this string.')\n",
    "    except (TypeError, AttributeError):\n",
    "        return 'Your input is not a string. Please, try again.'\n",
    "\n",
    "# Example with a non-string:\n",
    "print(f'Example with a float:\\n[In]: 56.9\\n[Out]: {check_capital(56.9)}')\n",
    "print(f'\\nExample with a list:\\n[In]: [1, 2, 3]\\n[Out]: {check_capital([1, 2, 3])}')\n",
    "\n",
    "# Example with a string containing capital letter:\n",
    "print(f\"\\nExample with a string containing capital letter:\\n[In]: 'john SmiTH'\\n[Out]: {check_capital('john SmiTH')}\")\n",
    "\n",
    "# Example with a string without capital letter:\n",
    "print(f\"\\nExample with a string containing capital letter:\\n[In]: 'john'\\n[Out]: \", end=\"\")\n",
    "print(check_capital('john'))"
   ]
  }
 ],
 "metadata": {
  "colab": {
   "name": "main.ipynb",
   "provenance": []
  },
  "kernelspec": {
   "display_name": "Python 3",
   "language": "python",
   "name": "python3"
  },
  "language_info": {
   "codemirror_mode": {
    "name": "ipython",
    "version": 3
   },
   "file_extension": ".py",
   "mimetype": "text/x-python",
   "name": "python",
   "nbconvert_exporter": "python",
   "pygments_lexer": "ipython3",
   "version": "3.8.3"
  }
 },
 "nbformat": 4,
 "nbformat_minor": 1
}
