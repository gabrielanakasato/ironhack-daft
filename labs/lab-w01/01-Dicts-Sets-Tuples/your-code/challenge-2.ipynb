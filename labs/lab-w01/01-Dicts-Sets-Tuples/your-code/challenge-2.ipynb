{
 "cells": [
  {
   "cell_type": "markdown",
   "metadata": {},
   "source": [
    "## Challenge 2: Sets\n",
    "\n",
    "There are a lot to learn about Python Sets and the information presented in the lesson is limited due to its length. To learn Python Sets in depth you are strongly encouraged to review the W3Schools tutorial on [Python Sets Examples and Methods](https://www.w3schools.com/python/python_sets.asp) before you work on this lab. Some difficult questions in this lab have their solutions in the W3Schools tutorial.\n",
    "\n",
    "#### First, import the Python `random` library."
   ]
  },
  {
   "cell_type": "code",
   "execution_count": 1,
   "metadata": {},
   "outputs": [],
   "source": [
    "import random"
   ]
  },
  {
   "cell_type": "markdown",
   "metadata": {},
   "source": [
    "#### In the cell below, create a list named `sample_list_1` with 80 random values. \n",
    "\n",
    "Requirements:\n",
    "\n",
    "* Each value is an integer falling between 0 and 100.\n",
    "* Each value in the list is unique.\n",
    "\n",
    "Print `sample_list_1` to review its values\n",
    "\n",
    "*Hint: use `random.sample` ([reference](https://docs.python.org/3/library/random.html#random.sample)).*"
   ]
  },
  {
   "cell_type": "code",
   "execution_count": 2,
   "metadata": {},
   "outputs": [
    {
     "name": "stdout",
     "output_type": "stream",
     "text": [
      "The sample_list_1 is\n",
      "\n",
      "[29, 84, 4, 51, 60, 31, 97, 93, 15, 45, 0, 98, 91, 36, 65, 5, 59, 21, 52, 25, 70, 12, 89, 48, 40, 61, 10, 78, 18, 32, 95, 64, 47, 54, 13, 71, 19, 80, 68, 77, 56, 41, 87, 83, 57, 99, 62, 6, 8, 67, 75, 22, 33, 7, 69, 76, 85, 66, 17, 30, 28, 53, 26, 42, 72, 44, 88, 55, 46, 39, 11, 92, 3, 81, 16, 79, 58, 50, 35, 90]\n",
      "\n",
      "and its length is equal to 80.\n"
     ]
    }
   ],
   "source": [
    "# Your code here\n",
    "\n",
    "# Create 'sample_list_1'\n",
    "sample_list_1 = random.sample(range(0, 100), k=80)\n",
    "\n",
    "# Print the answer on the screen\n",
    "print(f'The sample_list_1 is\\n\\n{sample_list_1}\\n\\nand its length is equal to {len(sample_list_1)}.')\n"
   ]
  },
  {
   "cell_type": "markdown",
   "metadata": {},
   "source": [
    "#### Convert `sample_list_1` to a set called `set1`. Print the length of the set. Is its length still 80?"
   ]
  },
  {
   "cell_type": "code",
   "execution_count": 3,
   "metadata": {},
   "outputs": [
    {
     "name": "stdout",
     "output_type": "stream",
     "text": [
      "The set1 is\n",
      "\n",
      "{0, 3, 4, 5, 6, 7, 8, 10, 11, 12, 13, 15, 16, 17, 18, 19, 21, 22, 25, 26, 28, 29, 30, 31, 32, 33, 35, 36, 39, 40, 41, 42, 44, 45, 46, 47, 48, 50, 51, 52, 53, 54, 55, 56, 57, 58, 59, 60, 61, 62, 64, 65, 66, 67, 68, 69, 70, 71, 72, 75, 76, 77, 78, 79, 80, 81, 83, 84, 85, 87, 88, 89, 90, 91, 92, 93, 95, 97, 98, 99}\n",
      "\n",
      "and the length is still 80.\n"
     ]
    }
   ],
   "source": [
    "# Your code here\n",
    "\n",
    "# Convert 'sample_list_1' to 'set1'\n",
    "set1 = set(sample_list_1)\n",
    "\n",
    "# Print the answer on the screen\n",
    "print(f'The set1 is\\n\\n{set1}\\n')\n",
    "if len(set1) == len(sample_list_1):\n",
    "    print(f'and the length is still {len(sample_list_1)}.')\n",
    "else:\n",
    "    print(f'and the length changed to {len(set1)}.')"
   ]
  },
  {
   "cell_type": "markdown",
   "metadata": {},
   "source": [
    "#### Create another list named `sample_list_2` with 80 random values.\n",
    "\n",
    "Requirements:\n",
    "\n",
    "* Each value is an integer falling between 0 and 100.\n",
    "* The values in the list don't have to be unique.\n",
    "\n",
    "*Hint: Use a FOR loop.*"
   ]
  },
  {
   "cell_type": "code",
   "execution_count": 4,
   "metadata": {},
   "outputs": [
    {
     "name": "stdout",
     "output_type": "stream",
     "text": [
      "The sample_list_2 is\n",
      "\n",
      "[38, 24, 81, 74, 7, 6, 71, 54, 57, 75, 17, 16, 42, 75, 31, 22, 75, 6, 68, 7, 36, 98, 68, 81, 78, 41, 19, 66, 90, 50, 30, 74, 57, 41, 25, 72, 34, 89, 63, 80, 70, 45, 92, 77, 83, 56, 56, 58, 12, 61, 2, 22, 82, 56, 43, 85, 33, 37, 30, 25, 88, 62, 89, 87, 15, 29, 67, 12, 69, 97, 96, 42, 24, 1, 47, 16, 65, 43, 15, 6]\n",
      "\n",
      "and its length is equal to 80.\n"
     ]
    }
   ],
   "source": [
    "# Your code here\n",
    "\n",
    "# Create 'sample_list_2'\n",
    "sample_list_2 = []\n",
    "\n",
    "for num in range(80):\n",
    "    sample_list_2.append(random.randint(0, 101))\n",
    "\n",
    "# Print the answer on the screen\n",
    "print(f'The sample_list_2 is\\n\\n{sample_list_2}\\n\\nand its length is equal to {len(sample_list_2)}.')"
   ]
  },
  {
   "cell_type": "markdown",
   "metadata": {},
   "source": [
    "#### Convert `sample_list_2` to a set called `set2`. Print the length of the set. Is its length still 80?"
   ]
  },
  {
   "cell_type": "code",
   "execution_count": 5,
   "metadata": {},
   "outputs": [
    {
     "name": "stdout",
     "output_type": "stream",
     "text": [
      "The set2 is\n",
      "\n",
      "{1, 2, 6, 7, 12, 15, 16, 17, 19, 22, 24, 25, 29, 30, 31, 33, 34, 36, 37, 38, 41, 42, 43, 45, 47, 50, 54, 56, 57, 58, 61, 62, 63, 65, 66, 67, 68, 69, 70, 71, 72, 74, 75, 77, 78, 80, 81, 82, 83, 85, 87, 88, 89, 90, 92, 96, 97, 98}\n",
      "\n",
      "and the length changed to 58.\n"
     ]
    }
   ],
   "source": [
    "# Your code here\n",
    "\n",
    "# Convert 'sample_list_2' to 'set2'\n",
    "set2 = set(sample_list_2)\n",
    "\n",
    "# Print the answer on the screen\n",
    "print(f'The set2 is\\n\\n{set2}\\n')\n",
    "if len(set2) == len(sample_list_2):\n",
    "    print(f'and the length is still {len(sample_list_2)}.')\n",
    "else:\n",
    "    print(f'and the length changed to {len(set2)}.')"
   ]
  },
  {
   "cell_type": "markdown",
   "metadata": {},
   "source": [
    "#### Identify the elements present in `set1` but not in `set2`. Assign the elements to a new set named `set3`."
   ]
  },
  {
   "cell_type": "code",
   "execution_count": 6,
   "metadata": {},
   "outputs": [
    {
     "name": "stdout",
     "output_type": "stream",
     "text": [
      "The set3 is\n",
      "\n",
      "{0, 3, 4, 5, 8, 10, 11, 13, 18, 21, 26, 28, 32, 35, 39, 40, 44, 46, 48, 51, 52, 53, 55, 59, 60, 64, 76, 79, 84, 91, 93, 95, 99}\n",
      "\n",
      "and its length is equal to 33.\n",
      "33\n",
      "0\n"
     ]
    }
   ],
   "source": [
    "# Your code here\n",
    "\n",
    "# Elements present in 'set1' but not in 'set2'\n",
    "set3 = set1.difference(set2)\n",
    "print(f'The set3 is\\n\\n{set3}\\n\\nand its length is equal to {len(set3)}.')\n",
    "\n",
    "n_set1 = 0\n",
    "n_set2 = 0\n",
    "\n",
    "for i in set3:\n",
    "    if i in set1:\n",
    "        n_set1 += 1\n",
    "    if i in set2:\n",
    "        n_set2 += 1\n",
    "\n",
    "print(n_set1)\n",
    "print(n_set2)"
   ]
  },
  {
   "cell_type": "markdown",
   "metadata": {},
   "source": [
    "#### Identify the elements present in `set2` but not in `set1`. Assign the elements to a new set named `set4`."
   ]
  },
  {
   "cell_type": "code",
   "execution_count": 7,
   "metadata": {},
   "outputs": [
    {
     "name": "stdout",
     "output_type": "stream",
     "text": [
      "The set4 is\n",
      "\n",
      "{96, 1, 2, 34, 37, 38, 74, 43, 82, 24, 63}\n",
      "\n",
      "and its length is equal to 11.\n",
      "0\n",
      "11\n"
     ]
    }
   ],
   "source": [
    "# Your code here\n",
    "\n",
    "# Elements in set2 but not in set1\n",
    "set4 = set2.difference(set1)\n",
    "print(f'The set4 is\\n\\n{set4}\\n\\nand its length is equal to {len(set4)}.')\n",
    "\n",
    "n_set1 = 0\n",
    "n_set2 = 0\n",
    "\n",
    "for i in set4:\n",
    "    if i in set1:\n",
    "        n_set1 += 1\n",
    "    if i in set2:\n",
    "        n_set2 += 1\n",
    "\n",
    "print(n_set1)\n",
    "print(n_set2)"
   ]
  },
  {
   "cell_type": "markdown",
   "metadata": {},
   "source": [
    "#### Now Identify the elements shared between `set1` and `set2`. Assign the elements to a new set named `set5`."
   ]
  },
  {
   "cell_type": "code",
   "execution_count": 8,
   "metadata": {},
   "outputs": [
    {
     "name": "stdout",
     "output_type": "stream",
     "text": [
      "The set5 is\n",
      "\n",
      "{6, 7, 12, 15, 16, 17, 19, 22, 25, 29, 30, 31, 33, 36, 41, 42, 45, 47, 50, 54, 56, 57, 58, 61, 62, 65, 66, 67, 68, 69, 70, 71, 72, 75, 77, 78, 80, 81, 83, 85, 87, 88, 89, 90, 92, 97, 98}\n",
      "\n",
      "and its length is equal to 47.\n",
      "47\n",
      "47\n"
     ]
    }
   ],
   "source": [
    "# Your code here\n",
    "\n",
    "# Intersection between 'set1' and 'set2'\n",
    "set5 = set1.intersection(set2)\n",
    "print(f'The set5 is\\n\\n{set5}\\n\\nand its length is equal to {len(set5)}.')\n",
    "\n",
    "n_set1 = 0\n",
    "n_set2 = 0\n",
    "\n",
    "for i in set5:\n",
    "    if i in set1:\n",
    "        n_set1 += 1\n",
    "    if i in set2:\n",
    "        n_set2 += 1\n",
    "\n",
    "print(n_set1)\n",
    "print(n_set2)"
   ]
  },
  {
   "cell_type": "markdown",
   "metadata": {},
   "source": [
    "#### What is the relationship among the following values:\n",
    "\n",
    "* len(set1)\n",
    "* len(set2)\n",
    "* len(set3)\n",
    "* len(set4)\n",
    "* len(set5)\n",
    "\n",
    "Use a math formular to represent that relationship. Test your formular with Python code."
   ]
  },
  {
   "cell_type": "code",
   "execution_count": 9,
   "metadata": {},
   "outputs": [
    {
     "name": "stdout",
     "output_type": "stream",
     "text": [
      "set3: MF = 33 & LS = 33\n",
      "set4: MF = 11 & LS = 11\n",
      "set5: MF = 47 & LS = 47\n"
     ]
    }
   ],
   "source": [
    "# Your code here\n",
    "\n",
    "# Relantionships using math formular (MF)\n",
    "\n",
    "# set5 -> Length of set5 = Length of set1 + Length of set2 - Length of Union (set1 & set2)\n",
    "mf_set5 = len(set1) + len(set2) - len(set1.union(set2))\n",
    "\n",
    "# set3 -> Length of set3 = Length of set1 - Length of Interserction (set1 & set2)\n",
    "mf_set3 = len(set1) - len(set1.intersection(set2))\n",
    "\n",
    "# set4 -> Length of set4 = Length of set2 - Length of Interserction (set1 & set2)\n",
    "mf_set4 = len(set2) - len(set1.intersection(set2))\n",
    "\n",
    "# Comparing results of math formular (MF) with the length of each set (LS)\n",
    "print(f'set3: MF = {mf_set3} & LS = {len(set3)}')\n",
    "print(f'set4: MF = {mf_set4} & LS = {len(set4)}')\n",
    "print(f'set5: MF = {mf_set5} & LS = {len(set5)}')"
   ]
  },
  {
   "cell_type": "markdown",
   "metadata": {},
   "source": [
    "#### Create an empty set called `set6`."
   ]
  },
  {
   "cell_type": "code",
   "execution_count": 10,
   "metadata": {},
   "outputs": [],
   "source": [
    "# Your code here\n",
    "\n",
    "set6 = set()"
   ]
  },
  {
   "cell_type": "markdown",
   "metadata": {},
   "source": [
    "#### Add `set3` and `set5` to `set6` using the Python Set `update` method."
   ]
  },
  {
   "cell_type": "code",
   "execution_count": 11,
   "metadata": {},
   "outputs": [
    {
     "name": "stdout",
     "output_type": "stream",
     "text": [
      "The set6 is\n",
      "\n",
      "{0, 3, 4, 5, 6, 7, 8, 10, 11, 12, 13, 15, 16, 17, 18, 19, 21, 22, 25, 26, 28, 29, 30, 31, 32, 33, 35, 36, 39, 40, 41, 42, 44, 45, 46, 47, 48, 50, 51, 52, 53, 54, 55, 56, 57, 58, 59, 60, 61, 62, 64, 65, 66, 67, 68, 69, 70, 71, 72, 75, 76, 77, 78, 79, 80, 81, 83, 84, 85, 87, 88, 89, 90, 91, 92, 93, 95, 97, 98, 99}\n",
      "\n",
      "and its length is equal to 80.\n"
     ]
    }
   ],
   "source": [
    "# Your code here\n",
    "\n",
    "set6.update(set3, set5)\n",
    "\n",
    "print(f'The set6 is\\n\\n{set6}\\n\\nand its length is equal to {len(set6)}.')"
   ]
  },
  {
   "cell_type": "markdown",
   "metadata": {},
   "source": [
    "#### Check if `set1` and `set6` are equal."
   ]
  },
  {
   "cell_type": "code",
   "execution_count": 12,
   "metadata": {},
   "outputs": [
    {
     "name": "stdout",
     "output_type": "stream",
     "text": [
      "The set6 IS EQUAL to set1.\n"
     ]
    }
   ],
   "source": [
    "# Your code here\n",
    "\n",
    "if set1 == set6:\n",
    "    print(f'The set6 IS EQUAL to set1.')\n",
    "else:\n",
    "    print(f'The set6 IS NOT equal to set1.')"
   ]
  },
  {
   "cell_type": "markdown",
   "metadata": {},
   "source": [
    "#### Check if `set1` contains `set2` using the Python Set `issubset` method. Then check if `set1` contains `set3`.*"
   ]
  },
  {
   "cell_type": "code",
   "execution_count": 13,
   "metadata": {},
   "outputs": [
    {
     "name": "stdout",
     "output_type": "stream",
     "text": [
      "The set1 DOES NOT contain set2\n",
      "The set1 CONTAINS set3.\n"
     ]
    }
   ],
   "source": [
    "# Your code here\n",
    "\n",
    "# Check if 'set1' contains 'set2'\n",
    "if set2.issubset(set1):\n",
    "    print('The set1 CONTAINS set2.')\n",
    "else:\n",
    "    print('The set1 DOES NOT contain set2')\n",
    "\n",
    "# Check if 'set1' contains 'set3'\n",
    "if set3.issubset(set1):\n",
    "    print('The set1 CONTAINS set3.')\n",
    "else:\n",
    "    print('The set1 DOES NOT contain set3.')"
   ]
  },
  {
   "cell_type": "markdown",
   "metadata": {},
   "source": [
    "#### Using the Python Set `union` method, aggregate `set3`, `set4`, and `set5`. Then aggregate `set1` and `set2`. \n",
    "\n",
    "#### Check if the aggregated values are equal."
   ]
  },
  {
   "cell_type": "code",
   "execution_count": 14,
   "metadata": {},
   "outputs": [
    {
     "name": "stdout",
     "output_type": "stream",
     "text": [
      "The aggregated values of set3, set4 and set5 and the ones of set1 and set2 ARE EQUAL.\n"
     ]
    }
   ],
   "source": [
    "# Your code here\n",
    "\n",
    "# Aggregating 'set3', 'set4' and 'set5'\n",
    "union_sets345 = set3.union(set4, set5)\n",
    "\n",
    "# Aggregating 'set1' and 'set2'\n",
    "union_sets12 = set1.union(set2)\n",
    "\n",
    "# Check if aggregated values are equal\n",
    "if union_sets12 == union_sets12:\n",
    "    print('The aggregated values of set3, set4 and set5 and the ones of set1 and set2 ARE EQUAL.')\n",
    "else:\n",
    "    print('The aggregated values of set3, set4 and set5 and the ones of set1 and set2 ARE NOT equal.')"
   ]
  },
  {
   "cell_type": "markdown",
   "metadata": {},
   "source": [
    "#### Using the `pop` method, remove the first element from `set1`."
   ]
  },
  {
   "cell_type": "code",
   "execution_count": 15,
   "metadata": {},
   "outputs": [
    {
     "name": "stdout",
     "output_type": "stream",
     "text": [
      "Removing the first element, set1 is\n",
      "\n",
      "{3, 4, 5, 6, 7, 8, 10, 11, 12, 13, 15, 16, 17, 18, 19, 21, 22, 25, 26, 28, 29, 30, 31, 32, 33, 35, 36, 39, 40, 41, 42, 44, 45, 46, 47, 48, 50, 51, 52, 53, 54, 55, 56, 57, 58, 59, 60, 61, 62, 64, 65, 66, 67, 68, 69, 70, 71, 72, 75, 76, 77, 78, 79, 80, 81, 83, 84, 85, 87, 88, 89, 90, 91, 92, 93, 95, 97, 98, 99}\n",
      "\n",
      "and its length now is equal to 79.\n"
     ]
    }
   ],
   "source": [
    "# Your code here\n",
    "\n",
    "set1.pop()\n",
    "\n",
    "print(f'Removing the first element, set1 is\\n\\n{set1}\\n\\nand its length now is equal to {len(set1)}.')"
   ]
  },
  {
   "cell_type": "markdown",
   "metadata": {},
   "source": [
    "#### Remove every element in the following list from `set1` if they are present in the set. Print the remaining elements.\n",
    "\n",
    "```\n",
    "list_to_remove = [1, 9, 11, 19, 21, 29, 31, 39, 41, 49, 51, 59, 61, 69, 71, 79, 81, 89, 91, 99]\n",
    "```"
   ]
  },
  {
   "cell_type": "code",
   "execution_count": 16,
   "metadata": {},
   "outputs": [
    {
     "name": "stdout",
     "output_type": "stream",
     "text": [
      "After removing elements of list_to_remove from set1, set1 is\n",
      "\n",
      "{3, 4, 5, 6, 7, 8, 10, 12, 13, 15, 16, 17, 18, 22, 25, 26, 28, 30, 32, 33, 35, 36, 40, 42, 44, 45, 46, 47, 48, 50, 52, 53, 54, 55, 56, 57, 58, 60, 62, 64, 65, 66, 67, 68, 70, 72, 75, 76, 77, 78, 80, 83, 84, 85, 87, 88, 90, 92, 93, 95, 97, 98}\n",
      "\n",
      "and its length is now 62.\n"
     ]
    }
   ],
   "source": [
    "# Your code here\n",
    "\n",
    "# Removing elements of 'list_to_remove' from 'set1'\n",
    "list_to_remove = [1, 9, 11, 19, 21, 29, 31, 39, 41, 49, 51, 59, 61, 69, 71, 79, 81, 89, 91, 99]\n",
    "\n",
    "for num in list_to_remove:\n",
    "    if num in set1:\n",
    "        set1.discard(num)\n",
    "\n",
    "print(f'After removing elements of list_to_remove from set1, set1 is\\n\\n{set1}\\n\\nand its length is now {len(set1)}.')"
   ]
  }
 ],
 "metadata": {
  "kernelspec": {
   "display_name": "Python 3",
   "language": "python",
   "name": "python3"
  },
  "language_info": {
   "codemirror_mode": {
    "name": "ipython",
    "version": 3
   },
   "file_extension": ".py",
   "mimetype": "text/x-python",
   "name": "python",
   "nbconvert_exporter": "python",
   "pygments_lexer": "ipython3",
   "version": "3.8.3"
  }
 },
 "nbformat": 4,
 "nbformat_minor": 2
}
