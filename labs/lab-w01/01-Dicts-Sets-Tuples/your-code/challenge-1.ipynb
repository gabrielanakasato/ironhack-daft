{
 "cells": [
  {
   "cell_type": "markdown",
   "metadata": {
    "colab_type": "text",
    "id": "-Zg4yM02BhP4"
   },
   "source": [
    "## Challenge 1: Tuples\n",
    "\n",
    "#### Do you know you can create tuples with only one element?\n",
    "\n",
    "**In the cell below, define a variable `tup` with a single element `\"I\"`.**\n",
    "\n",
    "*Hint: you need to add a comma (`,`) after the single element.*"
   ]
  },
  {
   "cell_type": "code",
   "execution_count": 1,
   "metadata": {
    "colab": {},
    "colab_type": "code",
    "id": "lo0BivxsBhP7"
   },
   "outputs": [],
   "source": [
    "# Your code here\n",
    "\n",
    "tup = (\"I\",)"
   ]
  },
  {
   "cell_type": "markdown",
   "metadata": {
    "colab_type": "text",
    "id": "VtX5LuRbBhQC"
   },
   "source": [
    "#### Print the type of `tup`. \n",
    "\n",
    "Make sure its type is correct (i.e. *tuple* instead of *str*)."
   ]
  },
  {
   "cell_type": "code",
   "execution_count": 2,
   "metadata": {
    "colab": {},
    "colab_type": "code",
    "id": "j9MW7jQ7BhQC"
   },
   "outputs": [
    {
     "name": "stdout",
     "output_type": "stream",
     "text": [
      "('I',)\n"
     ]
    }
   ],
   "source": [
    "# Your code here\n",
    "\n",
    "print(tup)"
   ]
  },
  {
   "cell_type": "markdown",
   "metadata": {
    "colab_type": "text",
    "id": "DwR4FCDhBhQH"
   },
   "source": [
    "#### Now try to append the following elements to `tup`. \n",
    "\n",
    "Are you able to do it? Explain.\n",
    "\n",
    "```\n",
    "\"r\", \"o\", \"n\", \"h\", \"a\", \"c\", \"k',\n",
    "```"
   ]
  },
  {
   "cell_type": "code",
   "execution_count": 3,
   "metadata": {
    "colab": {},
    "colab_type": "code",
    "id": "rYpdY_1gBhQI"
   },
   "outputs": [
    {
     "name": "stdout",
     "output_type": "stream",
     "text": [
      "\n",
      "There is no way to append elements in a tuple, because this type of collection is unchangeable. In other words elements can\n",
      "not be added or removed from a tuple, so there is no way to change the position of each element. This fact can be proved \n",
      "checking the methods for tuples, which are just two (count and index). However, if a tuple has an list, dictionary and/or \n",
      "set, elements can be added or removed from these other types of collections, since they are changeable and this can be\n",
      "confirmed checking the methods for each of them.\n",
      "\n"
     ]
    }
   ],
   "source": [
    "# Your code here\n",
    "\n",
    "# tup.extend([\"r\", \"o\", \"n\", \"h\", \"a\", \"c\", \"k\"])\n",
    "\n",
    "# Your explanation here\n",
    "print(\"\"\"\n",
    "There is no way to append elements in a tuple, because this type of collection is unchangeable. In other words elements can\n",
    "not be added or removed from a tuple, so there is no way to change the position of each element. This fact can be proved \n",
    "checking the methods for tuples, which are just two (count and index). However, if a tuple has an list, dictionary and/or \n",
    "set, elements can be added or removed from these other types of collections, since they are changeable and this can be\n",
    "confirmed checking the methods for each of them.\n",
    "\"\"\")"
   ]
  },
  {
   "cell_type": "markdown",
   "metadata": {
    "colab_type": "text",
    "id": "vxiLDRW_BhQM"
   },
   "source": [
    "#### How about re-assign a new value to an existing tuple?\n",
    "\n",
    "Re-assign the following elements to `tup`. Are you able to do it? Explain.\n",
    "\n",
    "```\n",
    "\"I\", \"r\", \"o\", \"n\", \"h\", \"a\", \"c\", \"k\"\n",
    "```"
   ]
  },
  {
   "cell_type": "code",
   "execution_count": 4,
   "metadata": {
    "colab": {},
    "colab_type": "code",
    "id": "7mQ_9MNyBhQN"
   },
   "outputs": [
    {
     "name": "stdout",
     "output_type": "stream",
     "text": [
      "('I', 'r', 'o', 'n', 'h', 'a', 'c', 'k')\n",
      "\n",
      "It is possible to re-assign elements to 'tup'. To explain this, it must be clear that there are two different concepts \n",
      "related to this question, which are the concepts of tuple and of variable. As explained above, the tuple is an unchangeable \n",
      "collection, not being possible to add or remove elements from it. On the other hand, a variable is a container that stores\n",
      "data and data can be assigned or re-assigned (erasing the old value and storing the new one) to it at any point of the code. \n",
      "In this case, the 'tup' IS a VARIABLE that stores a tuple, meaning it is NOT a tuple. That is why it is possible to \n",
      "re-assign elements to 'tup'.\n",
      "\n"
     ]
    }
   ],
   "source": [
    "# Your code here\n",
    "\n",
    "tup = (\"I\", \"r\", \"o\", \"n\", \"h\", \"a\", \"c\", \"k\")\n",
    "print(tup)\n",
    "\n",
    "# Your explanation here\n",
    "\n",
    "print(\"\"\"\n",
    "It is possible to re-assign elements to 'tup'. To explain this, it must be clear that there are two different concepts \n",
    "related to this question, which are the concepts of tuple and of variable. As explained above, the tuple is an unchangeable \n",
    "collection, not being possible to add or remove elements from it. On the other hand, a variable is a container that stores\n",
    "data and data can be assigned or re-assigned (erasing the old value and storing the new one) to it at any point of the code. \n",
    "In this case, the 'tup' IS a VARIABLE that stores a tuple, meaning it is NOT a tuple. That is why it is possible to \n",
    "re-assign elements to 'tup'.\n",
    "\"\"\")"
   ]
  },
  {
   "cell_type": "markdown",
   "metadata": {
    "colab_type": "text",
    "id": "Z8-HV7rmBhQR"
   },
   "source": [
    "#### Split `tup` into `tup1` and `tup2` with 4 elements in each. \n",
    "\n",
    "`tup1` should be `(\"I\", \"r\", \"o\", \"n\")` and `tup2` should be `(\"h\", \"a\", \"c\", \"k\")`.\n",
    "\n",
    "*Hint: use positive index numbers for `tup1` assignment and use negative index numbers for `tup2` assignment. Positive index numbers count from the beginning whereas negative index numbers count from the end of the sequence.*\n",
    "\n",
    "Also print `tup1` and `tup2`."
   ]
  },
  {
   "cell_type": "code",
   "execution_count": 5,
   "metadata": {
    "colab": {},
    "colab_type": "code",
    "id": "U5y0usrdBhQS"
   },
   "outputs": [
    {
     "name": "stdout",
     "output_type": "stream",
     "text": [
      "tup1 = ('I', 'r', 'o', 'n')\n",
      "tup2 = ('h', 'a', 'c', 'k')\n"
     ]
    }
   ],
   "source": [
    "# Your code here\n",
    "\n",
    "# Split tup into tup1\n",
    "tup1 = tup[:4]\n",
    "print(f'tup1 = {tup1}')\n",
    "\n",
    "# Split tup into tup2\n",
    "tup2 = tup[-4:]\n",
    "print(f'tup2 = {tup2}')"
   ]
  },
  {
   "cell_type": "markdown",
   "metadata": {
    "colab_type": "text",
    "id": "pD6mNeP9BhQf"
   },
   "source": [
    "#### Add `tup1` and `tup2` into `tup3` using the `+` operator.\n",
    "\n",
    "Then print `tup3` and check if `tup3` equals to `tup`."
   ]
  },
  {
   "cell_type": "code",
   "execution_count": 6,
   "metadata": {
    "colab": {},
    "colab_type": "code",
    "id": "unx60OMWBhQg"
   },
   "outputs": [
    {
     "name": "stdout",
     "output_type": "stream",
     "text": [
      "tup3 = ('I', 'r', 'o', 'n', 'h', 'a', 'c', 'k')\n"
     ]
    }
   ],
   "source": [
    "# Your code here\n",
    "\n",
    "tup3 = tup1 + tup2\n",
    "print(f'tup3 = {tup3}')"
   ]
  },
  {
   "cell_type": "markdown",
   "metadata": {
    "colab_type": "text",
    "id": "ayeU2vHxBhQj"
   },
   "source": [
    "#### Count the number of elements in `tup1` and `tup2`. Then add the two counts together and check if the sum is the same as the number of elements in `tup3`."
   ]
  },
  {
   "cell_type": "code",
   "execution_count": 7,
   "metadata": {
    "colab": {},
    "colab_type": "code",
    "id": "0mqNXMctBhQl"
   },
   "outputs": [
    {
     "name": "stdout",
     "output_type": "stream",
     "text": [
      "Number of elements in tup1: 4\n",
      "Number of elements in tup2: 4\n",
      "The sum of elements in tup1 and tup2 together is 8 and it IS EQUAL to the number of elements in tup3.\n"
     ]
    }
   ],
   "source": [
    "# Your code here\n",
    "\n",
    "# Elements in tup1\n",
    "print(f'Number of elements in tup1: {len(tup1)}')\n",
    "\n",
    "# Elements in tup2\n",
    "n_tup2 = len(tup2)\n",
    "print(f'Number of elements in tup2: {len(tup2)}')\n",
    "\n",
    "# Check if len(tup1) + len(tup2) == len(tup3)\n",
    "print(f'The sum of elements in tup1 and tup2 together is {len(tup1) + len(tup2)} and', end=' ')\n",
    "if (len(tup1) + len(tup2)) == len(tup3):\n",
    "    print('it IS EQUAL to the number of elements in tup3.')\n",
    "else:\n",
    "    print('it IS NOT equal to the number of elements in tup3.')"
   ]
  },
  {
   "cell_type": "markdown",
   "metadata": {
    "colab_type": "text",
    "id": "9xLtd79kBhQo"
   },
   "source": [
    "#### What is the index number of `\"h\"` in `tup3`?"
   ]
  },
  {
   "cell_type": "code",
   "execution_count": 8,
   "metadata": {
    "colab": {},
    "colab_type": "code",
    "id": "LVVwYZt5BhQp"
   },
   "outputs": [
    {
     "name": "stdout",
     "output_type": "stream",
     "text": [
      "The index of the letter \"h\" in tup3 is 4.\n"
     ]
    }
   ],
   "source": [
    "# Your code here\n",
    "\n",
    "print(f'The index of the letter \"h\" in tup3 is {tup3.index(\"h\")}.')"
   ]
  },
  {
   "cell_type": "markdown",
   "metadata": {
    "colab_type": "text",
    "id": "lf09qlmmBhQt"
   },
   "source": [
    "#### Now, use a FOR loop to check whether each letter in the following list is present in `tup3`:\n",
    "\n",
    "```\n",
    "letters = [\"a\", \"b\", \"c\", \"d\", \"e\"]\n",
    "```\n",
    "\n",
    "For each letter you check, print `True` if it is present in `tup3` otherwise print `False`.\n",
    "\n",
    "*Hint: you only need to loop `letters`. You don't need to loop `tup3` because there is a Python operator `in` you can use. See [reference](https://stackoverflow.com/questions/17920147/how-to-check-if-a-tuple-contains-an-element-in-python).*"
   ]
  },
  {
   "cell_type": "code",
   "execution_count": 9,
   "metadata": {
    "colab": {},
    "colab_type": "code",
    "id": "cXhlYXWRBhQu"
   },
   "outputs": [
    {
     "name": "stdout",
     "output_type": "stream",
     "text": [
      "The letter \"a\" is in tup3: True\n",
      "The letter \"b\" is in tup3: False\n",
      "The letter \"c\" is in tup3: True\n",
      "The letter \"d\" is in tup3: False\n",
      "The letter \"e\" is in tup3: False\n"
     ]
    }
   ],
   "source": [
    "# Your code here\n",
    "\n",
    "letters = [\"a\", \"b\", \"c\", \"d\", \"e\"]\n",
    "\n",
    "for letter in letters:\n",
    "    if letter in tup3:\n",
    "        print(f'The letter \"{letter}\" is in tup3: True')\n",
    "    else:\n",
    "        print(f'The letter \"{letter}\" is in tup3: False')"
   ]
  },
  {
   "cell_type": "markdown",
   "metadata": {
    "colab_type": "text",
    "id": "rk4WFJ5DBhQy"
   },
   "source": [
    "#### How many times does each letter in `letters` appear in `tup3`?\n",
    "\n",
    "Print out the number of occurrence of each letter."
   ]
  },
  {
   "cell_type": "code",
   "execution_count": 10,
   "metadata": {
    "colab": {},
    "colab_type": "code",
    "id": "jYh4jiEaBhQy"
   },
   "outputs": [
    {
     "name": "stdout",
     "output_type": "stream",
     "text": [
      "The letter \"a\" appears 1 time(s) in tup3.\n",
      "The letter \"c\" appears 1 time(s) in tup3.\n"
     ]
    }
   ],
   "source": [
    "# Your code here\n",
    "\n",
    "for letter in letters:\n",
    "    if letter in tup3:\n",
    "        print(f'The letter \"{letter}\" appears {tup3.count(letter)} time(s) in tup3.')"
   ]
  }
 ],
 "metadata": {
  "colab": {
   "name": "challenge-1.ipynb",
   "provenance": []
  },
  "kernelspec": {
   "display_name": "Python 3",
   "language": "python",
   "name": "python3"
  },
  "language_info": {
   "codemirror_mode": {
    "name": "ipython",
    "version": 3
   },
   "file_extension": ".py",
   "mimetype": "text/x-python",
   "name": "python",
   "nbconvert_exporter": "python",
   "pygments_lexer": "ipython3",
   "version": "3.8.3"
  }
 },
 "nbformat": 4,
 "nbformat_minor": 1
}
