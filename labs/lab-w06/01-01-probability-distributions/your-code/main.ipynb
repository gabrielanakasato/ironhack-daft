{
 "cells": [
  {
   "cell_type": "markdown",
   "metadata": {
    "colab_type": "text",
    "id": "0F0KuV0rnyZM"
   },
   "source": [
    "# Before your start:\n",
    "- Read the README.md file.\n",
    "- Comment as much as you can and use the resources (README.md file).\n",
    "- Happy learning!"
   ]
  },
  {
   "cell_type": "code",
   "execution_count": 1,
   "metadata": {
    "ExecuteTime": {
     "end_time": "2020-09-22T22:46:05.268779Z",
     "start_time": "2020-09-22T22:46:04.778614Z"
    },
    "colab": {},
    "colab_type": "code",
    "id": "IHQwQ7MLnyZN"
   },
   "outputs": [],
   "source": [
    "# Libraries\n",
    "import numpy as np\n",
    "import matplotlib.pyplot as plt\n",
    "import scipy.stats"
   ]
  },
  {
   "cell_type": "markdown",
   "metadata": {
    "colab_type": "text",
    "id": "AnnpUehMnyZP"
   },
   "source": [
    "# Challenge 1 - Generate and Plot Normal Distributions\n",
    "#### Step 1: Generate samples and test normal distribution.\n",
    "\n",
    "Use mean=50, standard_deviation=5, and sample_size=[10, 50, 500, 5000] to generate 4 random samples that are normally distributed.\n",
    "\n",
    "**Hint**: Read the documentation for `scipy.stats.norm.rvs`. The function will help you create the normal random samples."
   ]
  },
  {
   "cell_type": "code",
   "execution_count": 2,
   "metadata": {
    "ExecuteTime": {
     "end_time": "2020-09-22T22:46:05.274763Z",
     "start_time": "2020-09-22T22:46:05.269777Z"
    }
   },
   "outputs": [],
   "source": [
    "# your code here\n",
    "mean = 50\n",
    "standard_deviation = 5\n",
    "sample_size = [10, 50, 500, 5000]\n",
    "\n",
    "# Create the normal distribution\n",
    "list_dist = [scipy.stats.norm.rvs(loc=mean, scale=standard_deviation, size=size) for size in sample_size]"
   ]
  },
  {
   "cell_type": "markdown",
   "metadata": {
    "colab_type": "text",
    "id": "81pTaprxnyZS"
   },
   "source": [
    "#### Step 2: Plot normal distributions.\n",
    "\n",
    "To check the shape of the samples you have just created, you can use matplotlib. For example, you can use it to plot a histogram of each sample. \n",
    "\n",
    "If you did, your outputs would be really similar to the ones below:\n",
    "\n",
    "![normal distributions with different sample sizes](../images/ch-1.png)"
   ]
  },
  {
   "cell_type": "code",
   "execution_count": 3,
   "metadata": {
    "ExecuteTime": {
     "end_time": "2020-09-22T22:46:05.854145Z",
     "start_time": "2020-09-22T22:46:05.275761Z"
    }
   },
   "outputs": [
    {
     "data": {
      "image/png": "[encoded data removed]",
      "text/plain": [
       "<Figure size 864x432 with 4 Axes>"
      ]
     },
     "metadata": {
      "needs_background": "light"
     },
     "output_type": "display_data"
    }
   ],
   "source": [
    "# Create axes for the plot\n",
    "fig, axes = plt.subplots(nrows=1, ncols=4, figsize=(12,6))\n",
    "\n",
    "# Create plots\n",
    "axes[0].hist(list_dist[0], bins=50, density=True)\n",
    "axes[1].hist(list_dist[1], bins=50, density=True)\n",
    "axes[2].hist(list_dist[2], bins=50, density=True)\n",
    "axes[3].hist(list_dist[3], bins=50, density=True)\n",
    "\n",
    "# Add titles\n",
    "axes[0].set_title('n = 10')\n",
    "axes[1].set_title('n = 50')\n",
    "axes[2].set_title('n = 500')\n",
    "axes[3].set_title('n = 5000')\n",
    "\n",
    "# Print the plots on the screen\n",
    "plt.show()"
   ]
  },
  {
   "cell_type": "markdown",
   "metadata": {
    "colab_type": "text",
    "id": "KyBPwleNnyZS"
   },
   "source": [
    "#### Compare the distributions above. What do you observe? Explain with the Central Limit Theorem."
   ]
  },
  {
   "cell_type": "code",
   "execution_count": 4,
   "metadata": {
    "ExecuteTime": {
     "end_time": "2020-09-22T22:46:05.859131Z",
     "start_time": "2020-09-22T22:46:05.855142Z"
    },
    "colab": {},
    "colab_type": "code",
    "id": "t9EJyXJMnyZT"
   },
   "outputs": [
    {
     "name": "stdout",
     "output_type": "stream",
     "text": [
      "\n",
      "The larger the sample, the distribution tends to look like a normal one.\n",
      "\n"
     ]
    }
   ],
   "source": [
    "\"\"\"\n",
    "your comments here\n",
    "\"\"\"\n",
    "print('''\n",
    "The larger the sample, the distribution tends to look like a normal one.\n",
    "''')"
   ]
  },
  {
   "cell_type": "markdown",
   "metadata": {
    "colab_type": "text",
    "id": "NxDd6B0hnyZX"
   },
   "source": [
    "# Challenge 2 - Plot Probability Mass Function (PMF)"
   ]
  },
  {
   "cell_type": "markdown",
   "metadata": {
    "colab_type": "text",
    "id": "pRD6TYQnnyZY"
   },
   "source": [
    "### Background knowledge\n",
    "\n",
    "[PMF](https://en.wikipedia.org/wiki/Probability_mass_function) shows the probability distribution of a **discrete random variable**. A [discrete random variable](https://en.wikipedia.org/wiki/Random_variable#Discrete_random_variable) has random numeric values that are not continuous. For example, the number of people in a household can only be integers but not floats. Therefore the number of people in a household is a discrete variable.\n",
    "\n",
    "### Challenge\n",
    "\n",
    "We assume that the probability of clicking an advertisement in a Youtube video is 0.15. We have a sample of 5 people who watched the video and we want to plot the PMF for a binomial distribution.\n",
    "\n",
    "#### Step 1: Create the binomial distribution mentioned above. Store the result in a variable called `dist`. \n",
    "**Hint**: use binom from `scipy.stats.binom`. This object takes *n* and *p* as shape parameters, where *n* is the number of independent experiments and *p* the probability of success of the experiment."
   ]
  },
  {
   "cell_type": "code",
   "execution_count": 5,
   "metadata": {
    "ExecuteTime": {
     "end_time": "2020-09-22T22:46:05.869105Z",
     "start_time": "2020-09-22T22:46:05.860129Z"
    },
    "colab": {},
    "colab_type": "code",
    "id": "zcwhvOmanyZY"
   },
   "outputs": [
    {
     "data": {
      "text/plain": [
       "<scipy.stats._distn_infrastructure.rv_frozen at 0x2088e746bb0>"
      ]
     },
     "execution_count": 5,
     "metadata": {},
     "output_type": "execute_result"
    }
   ],
   "source": [
    "# your code here\n",
    "\n",
    "# Variables\n",
    "n = 5\n",
    "p = 0.15\n",
    "\n",
    "# Create the binominal distribution\n",
    "dist = scipy.stats.binom(n=n, p=p)\n",
    "\n",
    "# Check the result\n",
    "dist"
   ]
  },
  {
   "cell_type": "markdown",
   "metadata": {
    "colab_type": "text",
    "id": "Ur6ebnhZnyZa"
   },
   "source": [
    "#### Step 2: Plot the PMF of the distribution. \n",
    "To do it, run the code in the cell below. \n",
    "\n",
    "**Hint**: Your output should look like the one below:\n",
    "\n",
    "![binom 10](../images/ch-2.png)"
   ]
  },
  {
   "cell_type": "code",
   "execution_count": 6,
   "metadata": {
    "ExecuteTime": {
     "end_time": "2020-09-22T22:46:05.995342Z",
     "start_time": "2020-09-22T22:46:05.870102Z"
    },
    "colab": {},
    "colab_type": "code",
    "id": "FUKVrF5snyZb"
   },
   "outputs": [
    {
     "data": {
      "image/png": "[encoded data removed]",
      "text/plain": [
       "<Figure size 432x288 with 1 Axes>"
      ]
     },
     "metadata": {
      "needs_background": "light"
     },
     "output_type": "display_data"
    }
   ],
   "source": [
    "# run this code\n",
    "x = range(n)\n",
    "\n",
    "fig, ax = plt.subplots(1, 1)\n",
    "\n",
    "plt.plot(x, dist.pmf(x))\n",
    "\n",
    "plt.show()"
   ]
  },
  {
   "cell_type": "markdown",
   "metadata": {
    "colab_type": "text",
    "id": "1GTMiKsPnyZd"
   },
   "source": [
    "#### Step 3: Explain what you observe from the plot above."
   ]
  },
  {
   "cell_type": "code",
   "execution_count": 7,
   "metadata": {
    "ExecuteTime": {
     "end_time": "2020-09-22T22:46:05.999332Z",
     "start_time": "2020-09-22T22:46:05.996340Z"
    },
    "colab": {},
    "colab_type": "code",
    "id": "vAQy7b8FnyZd"
   },
   "outputs": [
    {
     "name": "stdout",
     "output_type": "stream",
     "text": [
      "\n",
      "It is more likely that a person does not click an advertisement in a Youtube video. For a higher number of poeple clicking\n",
      "an advertisement, the less probable it is.\n",
      "\n"
     ]
    }
   ],
   "source": [
    "\"\"\"\n",
    "your comments here\n",
    "\"\"\"\n",
    "print('''\n",
    "It is more likely that a person does not click an advertisement in a Youtube video. For a higher number of poeple clicking\n",
    "an advertisement, the less probable it is.\n",
    "''')"
   ]
  },
  {
   "cell_type": "markdown",
   "metadata": {
    "colab_type": "text",
    "id": "QEcIKhZNnyZf"
   },
   "source": [
    "#### Step 4: Now plot PMF with 50, 500, and 5000 visitors.\n",
    "To plot the PMF, you can copy the code given above and replace variable `dist` for the name of the variables where you have stored the new binomial objects for 50, 500 and 5000 visitors."
   ]
  },
  {
   "cell_type": "code",
   "execution_count": 8,
   "metadata": {
    "ExecuteTime": {
     "end_time": "2020-09-22T22:46:06.339447Z",
     "start_time": "2020-09-22T22:46:06.000329Z"
    },
    "colab": {},
    "colab_type": "code",
    "id": "ZBTHEFt3nyZg"
   },
   "outputs": [
    {
     "data": {
      "image/png": "[encoded data removed]",
      "text/plain": [
       "<Figure size 1440x216 with 3 Axes>"
      ]
     },
     "metadata": {
      "needs_background": "light"
     },
     "output_type": "display_data"
    }
   ],
   "source": [
    "# your code here\n",
    "\n",
    "# Create the axes for the plot\n",
    "fig, axes = plt.subplots(nrows=1, ncols=3, figsize=(20,3))\n",
    "\n",
    "# Create the distributions and plot them\n",
    "for index, size in enumerate([50, 500, 5000]):\n",
    "    axes[index].plot(range(size), scipy.stats.binom(size, p).pmf(range(size)))\n",
    "\n",
    "plt.show()"
   ]
  },
  {
   "cell_type": "markdown",
   "metadata": {
    "colab_type": "text",
    "id": "ruUhG9FunyZh"
   },
   "source": [
    "#### Step 5: What did you notice from the distribution plots? Comment your findings."
   ]
  },
  {
   "cell_type": "code",
   "execution_count": 9,
   "metadata": {
    "ExecuteTime": {
     "end_time": "2020-09-22T22:46:06.343411Z",
     "start_time": "2020-09-22T22:46:06.340419Z"
    },
    "colab": {},
    "colab_type": "code",
    "id": "n1_lWqIJnyZi"
   },
   "outputs": [
    {
     "name": "stdout",
     "output_type": "stream",
     "text": [
      "\n",
      "The higher the number of visitors, the curve tends to be narrower.\n",
      "\n"
     ]
    }
   ],
   "source": [
    "\"\"\"\n",
    "your comments here\n",
    "\"\"\"\n",
    "print('''\n",
    "The higher the number of visitors, the curve tends to be narrower.\n",
    "''')"
   ]
  },
  {
   "cell_type": "markdown",
   "metadata": {
    "colab_type": "text",
    "id": "CnXTUCShnyZk"
   },
   "source": [
    "# Challenge 3\n",
    "#### Step 1: Research the Poisson distribution. Write about your own understanding of the Poisson distribution."
   ]
  },
  {
   "cell_type": "code",
   "execution_count": 10,
   "metadata": {
    "ExecuteTime": {
     "end_time": "2020-09-22T22:46:06.351390Z",
     "start_time": "2020-09-22T22:46:06.344408Z"
    },
    "colab": {},
    "colab_type": "code",
    "id": "bXCvp-37nyZl"
   },
   "outputs": [
    {
     "name": "stdout",
     "output_type": "stream",
     "text": [
      "\n",
      "The Poisson distribution is used when there is a time interval.\n",
      "\n"
     ]
    }
   ],
   "source": [
    "\"\"\"\n",
    "your comments here\n",
    "\"\"\"\n",
    "print('''\n",
    "The Poisson distribution is used when there is a time interval.\n",
    "''')"
   ]
  },
  {
   "cell_type": "markdown",
   "metadata": {
    "colab_type": "text",
    "id": "zzCM9gnynyZn"
   },
   "source": [
    "#### Step 2: A website has an average of 300 visits per day. What is the probability of getting 320 visitors in a day?\n",
    "\n",
    "**Hint**: use `scipy.stats.poisson.pmf`."
   ]
  },
  {
   "cell_type": "code",
   "execution_count": 11,
   "metadata": {
    "ExecuteTime": {
     "end_time": "2020-09-22T22:46:06.363358Z",
     "start_time": "2020-09-22T22:46:06.352387Z"
    },
    "colab": {},
    "colab_type": "code",
    "id": "3R9YDCcVnyZn"
   },
   "outputs": [
    {
     "name": "stdout",
     "output_type": "stream",
     "text": [
      "The probability of getting 320 visitors in a day is 1.16%.\n"
     ]
    }
   ],
   "source": [
    "# your code here\n",
    "\n",
    "# Variable\n",
    "average = 300\n",
    "\n",
    "# Create the Poisson distribution\n",
    "dist = scipy.stats.poisson(mu=average)\n",
    "\n",
    "# Calculate the probability\n",
    "prob320 = dist.pmf(320)\n",
    "\n",
    "# Print the answer on the screen\n",
    "print(f'The probability of getting 320 visitors in a day is {prob320 * 100:.2f}%.')"
   ]
  },
  {
   "cell_type": "markdown",
   "metadata": {
    "colab_type": "text",
    "id": "FLIEP6lxnyZp"
   },
   "source": [
    "#### Step 3: What is the probability of getting 60 visits?"
   ]
  },
  {
   "cell_type": "code",
   "execution_count": 12,
   "metadata": {
    "ExecuteTime": {
     "end_time": "2020-09-22T22:46:06.375326Z",
     "start_time": "2020-09-22T22:46:06.364355Z"
    },
    "colab": {},
    "colab_type": "code",
    "id": "lI6WOVFQnyZp"
   },
   "outputs": [
    {
     "name": "stdout",
     "output_type": "stream",
     "text": [
      "The probability of getting 60 visitors in a day is 2.622743762294515e-64.\n"
     ]
    }
   ],
   "source": [
    "# your code here\n",
    "\n",
    "# Calculate the probability\n",
    "prob60 = dist.pmf(60)\n",
    "\n",
    "# Print the answer on the screen\n",
    "print(f'The probability of getting 60 visitors in a day is {prob60}.')"
   ]
  },
  {
   "cell_type": "markdown",
   "metadata": {
    "colab_type": "text",
    "id": "DdCw_uDbnyZr"
   },
   "source": [
    "#### Step 4: Create a list to store the Poisson distribution probabilities for 0 to 1000 visitors. Store your list in a variable called `arr`."
   ]
  },
  {
   "cell_type": "code",
   "execution_count": 13,
   "metadata": {
    "ExecuteTime": {
     "end_time": "2020-09-22T22:46:06.472248Z",
     "start_time": "2020-09-22T22:46:06.376323Z"
    },
    "colab": {},
    "colab_type": "code",
    "id": "Gn-_yHLwnyZr"
   },
   "outputs": [],
   "source": [
    "# your code here\n",
    "\n",
    "# Create the list\n",
    "arr = [dist.pmf(n_visitors) for n_visitors in range(1001)]"
   ]
  },
  {
   "cell_type": "markdown",
   "metadata": {
    "colab_type": "text",
    "id": "07WsP07InyZu"
   },
   "source": [
    "#### Step 5: Plot the probabilities.\n",
    "To do it, run the code in the cell below. Your plot should look like the one below:\n",
    "\n",
    "![poisson distribution](../images/ch-3.png)"
   ]
  },
  {
   "cell_type": "code",
   "execution_count": 14,
   "metadata": {
    "ExecuteTime": {
     "end_time": "2020-09-22T22:46:06.571834Z",
     "start_time": "2020-09-22T22:46:06.474062Z"
    },
    "colab": {},
    "colab_type": "code",
    "id": "b2c4IvqmnyZu"
   },
   "outputs": [
    {
     "data": {
      "image/png": "[encoded data removed]",
      "text/plain": [
       "<Figure size 432x288 with 1 Axes>"
      ]
     },
     "metadata": {
      "needs_background": "light"
     },
     "output_type": "display_data"
    }
   ],
   "source": [
    "# run this code\n",
    "\n",
    "plt.plot(arr)\n",
    "plt.show()"
   ]
  },
  {
   "cell_type": "markdown",
   "metadata": {
    "colab_type": "text",
    "id": "pGfu_x_EnyZw"
   },
   "source": [
    "# Challenge 4 - Central Limit Theorem\n",
    "\n",
    "A delivery company needs 35 minutes to deliver a package, with a standard deviation of 8 minutes. Suppose that in one day, they deliver 200 packages.\n",
    "\n",
    "**Hint**: `stats.norm.cdf` can help you find the answers.\n",
    "\n",
    "#### Step 1: What is the probability that the mean delivery time today is between 30 and 35 minutes?"
   ]
  },
  {
   "cell_type": "code",
   "execution_count": 15,
   "metadata": {
    "ExecuteTime": {
     "end_time": "2020-09-22T22:46:06.577784Z",
     "start_time": "2020-09-22T22:46:06.572797Z"
    },
    "colab": {},
    "colab_type": "code",
    "id": "nDdAbF7fnyZx"
   },
   "outputs": [
    {
     "name": "stdout",
     "output_type": "stream",
     "text": [
      "The probability that the mean delivery time today is between 30 and 35 minutes is 50.0%.\n"
     ]
    }
   ],
   "source": [
    "# your code here\n",
    "\n",
    "# Variables\n",
    "mean = 35\n",
    "std = 8\n",
    "packages = 200\n",
    "\n",
    "# Create the distribution\n",
    "dist = scipy.stats.norm(loc=mean, scale=(std/np.sqrt(packages)))\n",
    "\n",
    "# Calculate the probability\n",
    "prob = dist.cdf(35) - dist.cdf(30)\n",
    "\n",
    "# Print the asnwer on the screen\n",
    "print(f'The probability that the mean delivery time today is between 30 and 35 minutes is {prob * 100}%.')"
   ]
  },
  {
   "cell_type": "markdown",
   "metadata": {
    "colab_type": "text",
    "id": "i_VneA4BnyZz"
   },
   "source": [
    "#### Step 2: What is the probability that in total, it takes more than 115 hours to deliver all 200 packages?"
   ]
  },
  {
   "cell_type": "code",
   "execution_count": 16,
   "metadata": {
    "ExecuteTime": {
     "end_time": "2020-09-22T22:46:06.588755Z",
     "start_time": "2020-09-22T22:46:06.578782Z"
    },
    "colab": {},
    "colab_type": "code",
    "id": "lpLLEtEknyZz"
   },
   "outputs": [
    {
     "name": "stdout",
     "output_type": "stream",
     "text": [
      "The probability that it takes more than 115 hours to deliver all 200 packages is 81.16%.\n"
     ]
    }
   ],
   "source": [
    "# your code here\n",
    "\n",
    "# Calculate the probability\n",
    "prob = 1 - dist.cdf(34.5)\n",
    "\n",
    "# Print the asnwer on the screen\n",
    "print(f'The probability that it takes more than 115 hours to deliver all 200 packages is {prob * 100:.2f}%.')"
   ]
  },
  {
   "cell_type": "markdown",
   "metadata": {
    "colab_type": "text",
    "id": "R-wugLqhnyZ1"
   },
   "source": [
    "# Challenge 5 - Normal Variables\n",
    "The value (in thousands) of the monthly sales of a publishing company follows a normal distribution with a mean equal to 200 and a standard deviation equal to 40.\n",
    "\n",
    "<div align=\"center\">$X → N(200,40)$</div>\n",
    "\n",
    "**Hint**: `stats.norm.cdf` can help you find the answers.\n",
    "\n",
    "#### Step 1: Find the probability that the monthly sales are more than 300."
   ]
  },
  {
   "cell_type": "code",
   "execution_count": 17,
   "metadata": {
    "ExecuteTime": {
     "end_time": "2020-09-22T22:46:28.559742Z",
     "start_time": "2020-09-22T22:46:28.553759Z"
    },
    "colab": {},
    "colab_type": "code",
    "id": "XO08W4QxnyZ1"
   },
   "outputs": [
    {
     "name": "stdout",
     "output_type": "stream",
     "text": [
      "The probability that the monthly sales are more than 300 is 0.62%.\n"
     ]
    }
   ],
   "source": [
    "# your code here\n",
    "\n",
    "# Create the distribution\n",
    "dist = scipy.stats.norm(loc=200, scale=40)\n",
    "\n",
    "# Calculate the probability\n",
    "prob = 1 - dist.cdf(300)\n",
    "\n",
    "# Print the asnwer on the screen\n",
    "print(f'The probability that the monthly sales are more than 300 is {prob * 100:.2f}%.')"
   ]
  },
  {
   "cell_type": "markdown",
   "metadata": {
    "colab_type": "text",
    "id": "scgG2HfFnyZ3"
   },
   "source": [
    "#### Step 2: Find the probability that the monthly sales fall between 160 and 240."
   ]
  },
  {
   "cell_type": "code",
   "execution_count": 18,
   "metadata": {
    "ExecuteTime": {
     "end_time": "2020-09-22T22:47:08.996165Z",
     "start_time": "2020-09-22T22:47:08.991178Z"
    },
    "colab": {},
    "colab_type": "code",
    "id": "UYvguIcDnyZ3"
   },
   "outputs": [
    {
     "name": "stdout",
     "output_type": "stream",
     "text": [
      "The probability that the monthly sales fall between 160 and 240 is 68.27%.\n"
     ]
    }
   ],
   "source": [
    "# your code here\n",
    "\n",
    "# Calculate the probability\n",
    "prob = dist.cdf(240) - dist.cdf(160)\n",
    "\n",
    "# Print the asnwer on the screen\n",
    "print(f'The probability that the monthly sales fall between 160 and 240 is {prob * 100:.2f}%.')"
   ]
  },
  {
   "cell_type": "markdown",
   "metadata": {
    "colab_type": "text",
    "id": "rSRsVq7_nyZ4"
   },
   "source": [
    "#### Step 3: Find the probability that the monthly sales do not exceed 150."
   ]
  },
  {
   "cell_type": "code",
   "execution_count": 19,
   "metadata": {
    "ExecuteTime": {
     "end_time": "2020-09-22T22:47:37.950352Z",
     "start_time": "2020-09-22T22:47:37.946362Z"
    },
    "colab": {},
    "colab_type": "code",
    "id": "iFEnTXMInyZ5"
   },
   "outputs": [
    {
     "name": "stdout",
     "output_type": "stream",
     "text": [
      "The probability that the monthly sales do not exceed 150 is 10.56%.\n"
     ]
    }
   ],
   "source": [
    "# your code here\n",
    "\n",
    "# Calculate the probability\n",
    "prob = dist.cdf(150)\n",
    "\n",
    "# Print the asnwer on the screen\n",
    "print(f'The probability that the monthly sales do not exceed 150 is {prob * 100:.2f}%.') "
   ]
  },
  {
   "cell_type": "markdown",
   "metadata": {
    "colab_type": "text",
    "id": "jawGEhP2nyZ6"
   },
   "source": [
    "#### Step 4: Find the probability that the monthly sales exceed 3000."
   ]
  },
  {
   "cell_type": "code",
   "execution_count": 24,
   "metadata": {
    "ExecuteTime": {
     "end_time": "2020-09-22T22:48:18.108633Z",
     "start_time": "2020-09-22T22:48:18.104644Z"
    },
    "colab": {},
    "colab_type": "code",
    "id": "f7vscB8dnyZ6"
   },
   "outputs": [
    {
     "name": "stdout",
     "output_type": "stream",
     "text": [
      "The probability that the monthly sales exceed 3000 is 0.00%.\n"
     ]
    }
   ],
   "source": [
    "# your code here\n",
    "\n",
    "# Calculate the probability\n",
    "prob = 1 - dist.cdf(3000)\n",
    "\n",
    "# Print the asnwer on the screen\n",
    "print(f'The probability that the monthly sales exceed 3000 is {prob * 100:.2f}%.') "
   ]
  },
  {
   "cell_type": "markdown",
   "metadata": {
    "colab_type": "text",
    "id": "I6RUcy1vnyZ8"
   },
   "source": [
    "# Challenge 6 - Poisson distribution\n",
    "The mean number of violent robberies per month that are registered in a particular barrio is 4.\n",
    "\n",
    "**Hint**: `stats.poisson.cdf` can help you find the answers.\n",
    "\n",
    "#### Step 1: Find the probability that in a particular month there is no violent robbery."
   ]
  },
  {
   "cell_type": "code",
   "execution_count": 27,
   "metadata": {
    "ExecuteTime": {
     "end_time": "2020-09-22T22:49:39.230660Z",
     "start_time": "2020-09-22T22:49:39.225673Z"
    },
    "colab": {},
    "colab_type": "code",
    "id": "p-T4sZMenyZ9"
   },
   "outputs": [
    {
     "name": "stdout",
     "output_type": "stream",
     "text": [
      "The probability that in a particular month there is no violent robbery is 1.83%.\n"
     ]
    }
   ],
   "source": [
    "# your code here\n",
    "\n",
    "# Create the distribution\n",
    "dist = scipy.stats.poisson(mu=4)\n",
    "\n",
    "# Calculate the probability\n",
    "prob = dist.pmf(0)\n",
    "\n",
    "# Print the asnwer on the screen\n",
    "print(f'The probability that in a particular month there is no violent robbery is {prob * 100:.2f}%.') "
   ]
  },
  {
   "cell_type": "markdown",
   "metadata": {
    "colab_type": "text",
    "id": "5WmkyG4EnyZ_"
   },
   "source": [
    "#### Step 2: Find the probability that there are at least 1 robbery in a given month."
   ]
  },
  {
   "cell_type": "code",
   "execution_count": 28,
   "metadata": {
    "ExecuteTime": {
     "end_time": "2020-09-22T22:49:41.133021Z",
     "start_time": "2020-09-22T22:49:41.129032Z"
    },
    "colab": {},
    "colab_type": "code",
    "id": "XxbokfUHnyZ_"
   },
   "outputs": [
    {
     "name": "stdout",
     "output_type": "stream",
     "text": [
      "The probability that there are at least 1 robbery in a given month is 90.84%.\n"
     ]
    }
   ],
   "source": [
    "# your code here\n",
    "\n",
    "# Calculate thr probability\n",
    "prob = 1 - dist.cdf(1)\n",
    "\n",
    "# Print the asnwer on the screen\n",
    "print(f'The probability that there are at least 1 robbery in a given month is {prob * 100:.2f}%.') "
   ]
  },
  {
   "cell_type": "markdown",
   "metadata": {
    "colab_type": "text",
    "id": "jIoFYBFZnyaA"
   },
   "source": [
    "#### Step 3: Find the probability that there are between 2 and 6 (inclusive) robberies in a given month."
   ]
  },
  {
   "cell_type": "code",
   "execution_count": 29,
   "metadata": {
    "ExecuteTime": {
     "end_time": "2020-09-22T22:50:22.340478Z",
     "start_time": "2020-09-22T22:50:22.336523Z"
    },
    "colab": {},
    "colab_type": "code",
    "id": "crGzVaqfnyaB"
   },
   "outputs": [
    {
     "name": "stdout",
     "output_type": "stream",
     "text": [
      "The probability that there are between 2 and 6 (inclusive) robberies in a given month is 65.12%.\n"
     ]
    }
   ],
   "source": [
    "# your code here\n",
    "\n",
    "# Calculate thr probability\n",
    "prob = dist.cdf(6) - dist.cdf(2)\n",
    "\n",
    "# Print the asnwer on the screen\n",
    "print(f'The probability that there are between 2 and 6 (inclusive) robberies in a given month is {prob * 100:.2f}%.') "
   ]
  },
  {
   "cell_type": "markdown",
   "metadata": {
    "colab_type": "text",
    "id": "okX8jz1QnyaC"
   },
   "source": [
    "#### Step 4: Find the probability that there are more than 2 robberies in 15 days."
   ]
  },
  {
   "cell_type": "code",
   "execution_count": 30,
   "metadata": {
    "ExecuteTime": {
     "end_time": "2020-09-22T22:51:07.188114Z",
     "start_time": "2020-09-22T22:51:07.184097Z"
    },
    "colab": {},
    "colab_type": "code",
    "id": "KxjEnWtJnyaD"
   },
   "outputs": [
    {
     "name": "stdout",
     "output_type": "stream",
     "text": [
      "The probability that there are more than 2 robberies in 15 days is 37.12%.\n"
     ]
    }
   ],
   "source": [
    "# your code here\n",
    "\n",
    "'''\n",
    "To solve this challenge, it is necessary to remember one of the conditions for the Poisson distribution:\n",
    "\n",
    "The probability of an event occurring is proportional to the length of the time period.\n",
    "\n",
    "So, if we consider that a month has 30 days, the probability that there are more than  2 robberies is 15 days is the \n",
    "same as the probability that there are more than 4 robberies in a month.\n",
    "'''\n",
    "\n",
    "# Calculate the probability\n",
    "prob = 1 - dist.cdf(4)\n",
    "\n",
    "# Print the asnwer on the screen\n",
    "print(f'The probability that there are more than 2 robberies in 15 days is {prob * 100:.2f}%.') "
   ]
  }
 ],
 "metadata": {
  "anaconda-cloud": {},
  "colab": {
   "name": "main.ipynb",
   "provenance": []
  },
  "hide_input": false,
  "kernelspec": {
   "display_name": "Python 3",
   "language": "python",
   "name": "python3"
  },
  "language_info": {
   "codemirror_mode": {
    "name": "ipython",
    "version": 3
   },
   "file_extension": ".py",
   "mimetype": "text/x-python",
   "name": "python",
   "nbconvert_exporter": "python",
   "pygments_lexer": "ipython3",
   "version": "3.8.3"
  },
  "toc": {
   "base_numbering": 1,
   "nav_menu": {},
   "number_sections": true,
   "sideBar": true,
   "skip_h1_title": false,
   "title_cell": "Table of Contents",
   "title_sidebar": "Contents",
   "toc_cell": false,
   "toc_position": {},
   "toc_section_display": true,
   "toc_window_display": false
  },
  "varInspector": {
   "cols": {
    "lenName": 16,
    "lenType": 16,
    "lenVar": 40
   },
   "kernels_config": {
    "python": {
     "delete_cmd_postfix": "",
     "delete_cmd_prefix": "del ",
     "library": "var_list.py",
     "varRefreshCmd": "print(var_dic_list())"
    },
    "r": {
     "delete_cmd_postfix": ") ",
     "delete_cmd_prefix": "rm(",
     "library": "var_list.r",
     "varRefreshCmd": "cat(var_dic_list()) "
    }
   },
   "types_to_exclude": [
    "module",
    "function",
    "builtin_function_or_method",
    "instance",
    "_Feature"
   ],
   "window_display": false
  }
 },
 "nbformat": 4,
 "nbformat_minor": 1
}
