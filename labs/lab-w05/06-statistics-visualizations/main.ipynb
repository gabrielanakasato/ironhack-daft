{
 "cells": [
  {
   "cell_type": "markdown",
   "metadata": {
    "colab_type": "text",
    "id": "IDajsaA66_XV"
   },
   "source": [
    "# Univariate and Bivariate Analysis Lab"
   ]
  },
  {
   "cell_type": "markdown",
   "metadata": {
    "colab_type": "text",
    "id": "RDV1Nk366_XW"
   },
   "source": [
    "This data was created <b>based on the following dataset</b>: https://www.kaggle.com/mustafaali96/weight-height"
   ]
  },
  {
   "cell_type": "markdown",
   "metadata": {
    "colab_type": "text",
    "id": "fkvI5riG6_XW"
   },
   "source": [
    "The variables used are:\n",
    "* Money\n",
    "* Height\n",
    "* Weight\n",
    "* Gender\n"
   ]
  },
  {
   "cell_type": "markdown",
   "metadata": {
    "colab_type": "text",
    "id": "_DJ77m7a6_XX"
   },
   "source": [
    "## Context"
   ]
  },
  {
   "cell_type": "markdown",
   "metadata": {
    "colab_type": "text",
    "id": "gx-BUqLB6_XX"
   },
   "source": [
    "We'll use the weight-height dataset to have a deeper understanding of some important variable distributions.\n",
    "\n",
    "We'll understand how to:\n",
    "- have a glance on the statistics distribution just by observing the main statistical numerical description of our dataset.\n",
    "- understand the effect of a normal and non-normal distribution on our outlier analysis\n",
    "- understand how one variable can impact on another variable distribution"
   ]
  },
  {
   "cell_type": "markdown",
   "metadata": {
    "colab_type": "text",
    "id": "onNqQWXN6_XY"
   },
   "source": [
    "## Import libraries "
   ]
  },
  {
   "cell_type": "code",
   "execution_count": 1,
   "metadata": {
    "ExecuteTime": {
     "end_time": "2020-09-16T20:31:43.170040Z",
     "start_time": "2020-09-16T20:31:42.346509Z"
    },
    "colab": {},
    "colab_type": "code",
    "id": "XReTo0-96_XY"
   },
   "outputs": [],
   "source": [
    "import pandas as pd\n",
    "import numpy as np\n",
    "import matplotlib.pyplot as plt\n",
    "import seaborn as sns"
   ]
  },
  {
   "cell_type": "markdown",
   "metadata": {
    "colab_type": "text",
    "id": "1TkZPHRk6_Xb"
   },
   "source": [
    "## Read dataset from `weight-height-money.csv`.\n",
    "\n",
    "Take a look at the first rows of the dataset."
   ]
  },
  {
   "cell_type": "code",
   "execution_count": 2,
   "metadata": {
    "ExecuteTime": {
     "end_time": "2020-09-16T20:31:43.199946Z",
     "start_time": "2020-09-16T20:31:43.174026Z"
    },
    "colab": {},
    "colab_type": "code",
    "id": "DxmxwuGY6_Xb"
   },
   "outputs": [
    {
     "data": {
      "text/html": [
       "<div>\n",
       "<style scoped>\n",
       "    .dataframe tbody tr th:only-of-type {\n",
       "        vertical-align: middle;\n",
       "    }\n",
       "\n",
       "    .dataframe tbody tr th {\n",
       "        vertical-align: top;\n",
       "    }\n",
       "\n",
       "    .dataframe thead th {\n",
       "        text-align: right;\n",
       "    }\n",
       "</style>\n",
       "<table border=\"1\" class=\"dataframe\">\n",
       "  <thead>\n",
       "    <tr style=\"text-align: right;\">\n",
       "      <th></th>\n",
       "      <th>Gender</th>\n",
       "      <th>Height</th>\n",
       "      <th>Weight</th>\n",
       "      <th>Money</th>\n",
       "    </tr>\n",
       "  </thead>\n",
       "  <tbody>\n",
       "    <tr>\n",
       "      <th>0</th>\n",
       "      <td>Male</td>\n",
       "      <td>73.847017</td>\n",
       "      <td>241.893563</td>\n",
       "      <td>21.462754</td>\n",
       "    </tr>\n",
       "    <tr>\n",
       "      <th>1</th>\n",
       "      <td>Male</td>\n",
       "      <td>68.781904</td>\n",
       "      <td>162.310473</td>\n",
       "      <td>94.732358</td>\n",
       "    </tr>\n",
       "    <tr>\n",
       "      <th>2</th>\n",
       "      <td>Male</td>\n",
       "      <td>74.110105</td>\n",
       "      <td>212.740856</td>\n",
       "      <td>130.077362</td>\n",
       "    </tr>\n",
       "    <tr>\n",
       "      <th>3</th>\n",
       "      <td>Male</td>\n",
       "      <td>71.730978</td>\n",
       "      <td>220.042470</td>\n",
       "      <td>214.096064</td>\n",
       "    </tr>\n",
       "    <tr>\n",
       "      <th>4</th>\n",
       "      <td>Male</td>\n",
       "      <td>69.881796</td>\n",
       "      <td>206.349801</td>\n",
       "      <td>765.091245</td>\n",
       "    </tr>\n",
       "    <tr>\n",
       "      <th>...</th>\n",
       "      <td>...</td>\n",
       "      <td>...</td>\n",
       "      <td>...</td>\n",
       "      <td>...</td>\n",
       "    </tr>\n",
       "    <tr>\n",
       "      <th>9995</th>\n",
       "      <td>Female</td>\n",
       "      <td>66.172652</td>\n",
       "      <td>136.777454</td>\n",
       "      <td>240.933121</td>\n",
       "    </tr>\n",
       "    <tr>\n",
       "      <th>9996</th>\n",
       "      <td>Female</td>\n",
       "      <td>67.067155</td>\n",
       "      <td>170.867906</td>\n",
       "      <td>1220.781276</td>\n",
       "    </tr>\n",
       "    <tr>\n",
       "      <th>9997</th>\n",
       "      <td>Female</td>\n",
       "      <td>63.867992</td>\n",
       "      <td>128.475319</td>\n",
       "      <td>0.258369</td>\n",
       "    </tr>\n",
       "    <tr>\n",
       "      <th>9998</th>\n",
       "      <td>Female</td>\n",
       "      <td>69.034243</td>\n",
       "      <td>163.852461</td>\n",
       "      <td>1552.920529</td>\n",
       "    </tr>\n",
       "    <tr>\n",
       "      <th>9999</th>\n",
       "      <td>Female</td>\n",
       "      <td>61.944246</td>\n",
       "      <td>113.649103</td>\n",
       "      <td>2232.337002</td>\n",
       "    </tr>\n",
       "  </tbody>\n",
       "</table>\n",
       "<p>10000 rows × 4 columns</p>\n",
       "</div>"
      ],
      "text/plain": [
       "      Gender     Height      Weight        Money\n",
       "0       Male  73.847017  241.893563    21.462754\n",
       "1       Male  68.781904  162.310473    94.732358\n",
       "2       Male  74.110105  212.740856   130.077362\n",
       "3       Male  71.730978  220.042470   214.096064\n",
       "4       Male  69.881796  206.349801   765.091245\n",
       "...      ...        ...         ...          ...\n",
       "9995  Female  66.172652  136.777454   240.933121\n",
       "9996  Female  67.067155  170.867906  1220.781276\n",
       "9997  Female  63.867992  128.475319     0.258369\n",
       "9998  Female  69.034243  163.852461  1552.920529\n",
       "9999  Female  61.944246  113.649103  2232.337002\n",
       "\n",
       "[10000 rows x 4 columns]"
      ]
     },
     "execution_count": 2,
     "metadata": {},
     "output_type": "execute_result"
    }
   ],
   "source": [
    "# your answer here\n",
    "\n",
    "# Import the dataset\n",
    "df = pd.read_csv('data/weight-height-money.csv')\n",
    "\n",
    "# Check the result\n",
    "df"
   ]
  },
  {
   "cell_type": "markdown",
   "metadata": {
    "colab_type": "text",
    "id": "5dT2rAyw6_Xe"
   },
   "source": [
    "## Use the describe method to understand the data."
   ]
  },
  {
   "cell_type": "code",
   "execution_count": 3,
   "metadata": {
    "ExecuteTime": {
     "end_time": "2020-09-16T20:31:43.220890Z",
     "start_time": "2020-09-16T20:31:43.200910Z"
    },
    "colab": {},
    "colab_type": "code",
    "id": "2s8i42qY6_Xe"
   },
   "outputs": [
    {
     "data": {
      "text/html": [
       "<div>\n",
       "<style scoped>\n",
       "    .dataframe tbody tr th:only-of-type {\n",
       "        vertical-align: middle;\n",
       "    }\n",
       "\n",
       "    .dataframe tbody tr th {\n",
       "        vertical-align: top;\n",
       "    }\n",
       "\n",
       "    .dataframe thead th {\n",
       "        text-align: right;\n",
       "    }\n",
       "</style>\n",
       "<table border=\"1\" class=\"dataframe\">\n",
       "  <thead>\n",
       "    <tr style=\"text-align: right;\">\n",
       "      <th></th>\n",
       "      <th>count</th>\n",
       "      <th>mean</th>\n",
       "      <th>std</th>\n",
       "      <th>min</th>\n",
       "      <th>25%</th>\n",
       "      <th>50%</th>\n",
       "      <th>75%</th>\n",
       "      <th>max</th>\n",
       "    </tr>\n",
       "  </thead>\n",
       "  <tbody>\n",
       "    <tr>\n",
       "      <th>Height</th>\n",
       "      <td>10000.0</td>\n",
       "      <td>66.367560</td>\n",
       "      <td>3.847528</td>\n",
       "      <td>5.426313e+01</td>\n",
       "      <td>63.505620</td>\n",
       "      <td>66.318070</td>\n",
       "      <td>69.174262</td>\n",
       "      <td>78.998742</td>\n",
       "    </tr>\n",
       "    <tr>\n",
       "      <th>Weight</th>\n",
       "      <td>10000.0</td>\n",
       "      <td>161.440357</td>\n",
       "      <td>32.108439</td>\n",
       "      <td>6.470013e+01</td>\n",
       "      <td>135.818051</td>\n",
       "      <td>161.212928</td>\n",
       "      <td>187.169525</td>\n",
       "      <td>269.989699</td>\n",
       "    </tr>\n",
       "    <tr>\n",
       "      <th>Money</th>\n",
       "      <td>10000.0</td>\n",
       "      <td>631.156464</td>\n",
       "      <td>806.048057</td>\n",
       "      <td>1.735664e-07</td>\n",
       "      <td>89.067202</td>\n",
       "      <td>339.087164</td>\n",
       "      <td>851.540411</td>\n",
       "      <td>8168.216190</td>\n",
       "    </tr>\n",
       "  </tbody>\n",
       "</table>\n",
       "</div>"
      ],
      "text/plain": [
       "          count        mean         std           min         25%         50%  \\\n",
       "Height  10000.0   66.367560    3.847528  5.426313e+01   63.505620   66.318070   \n",
       "Weight  10000.0  161.440357   32.108439  6.470013e+01  135.818051  161.212928   \n",
       "Money   10000.0  631.156464  806.048057  1.735664e-07   89.067202  339.087164   \n",
       "\n",
       "               75%          max  \n",
       "Height   69.174262    78.998742  \n",
       "Weight  187.169525   269.989699  \n",
       "Money   851.540411  8168.216190  "
      ]
     },
     "execution_count": 3,
     "metadata": {},
     "output_type": "execute_result"
    }
   ],
   "source": [
    "# your answer here\n",
    "\n",
    "df_describe = df.describe().T\n",
    "df_describe"
   ]
  },
  {
   "cell_type": "markdown",
   "metadata": {
    "colab_type": "text",
    "id": "QMuYYMkC6_Xg"
   },
   "source": [
    "## What can you observe? Compare mean and median values for each variable of our dataset."
   ]
  },
  {
   "cell_type": "code",
   "execution_count": 4,
   "metadata": {
    "ExecuteTime": {
     "end_time": "2020-09-16T20:31:43.231849Z",
     "start_time": "2020-09-16T20:31:43.221854Z"
    },
    "colab": {},
    "colab_type": "code",
    "id": "KTT7N4Xv6_Xh"
   },
   "outputs": [
    {
     "name": "stdout",
     "output_type": "stream",
     "text": [
      "Both mean and median values are about the same for the variables \"Height\" and \"Weight\". However, for the variable\"Money\" there a huge difference between the two statistics, meaning that there are some fewer values that may bemuch greater, in this case since it is about money, than the rest.\n"
     ]
    },
    {
     "data": {
      "text/html": [
       "<div>\n",
       "<style scoped>\n",
       "    .dataframe tbody tr th:only-of-type {\n",
       "        vertical-align: middle;\n",
       "    }\n",
       "\n",
       "    .dataframe tbody tr th {\n",
       "        vertical-align: top;\n",
       "    }\n",
       "\n",
       "    .dataframe thead th {\n",
       "        text-align: right;\n",
       "    }\n",
       "</style>\n",
       "<table border=\"1\" class=\"dataframe\">\n",
       "  <thead>\n",
       "    <tr style=\"text-align: right;\">\n",
       "      <th></th>\n",
       "      <th>mean</th>\n",
       "      <th>50%</th>\n",
       "      <th>diff</th>\n",
       "    </tr>\n",
       "  </thead>\n",
       "  <tbody>\n",
       "    <tr>\n",
       "      <th>Height</th>\n",
       "      <td>66.367560</td>\n",
       "      <td>66.318070</td>\n",
       "      <td>0.049490</td>\n",
       "    </tr>\n",
       "    <tr>\n",
       "      <th>Weight</th>\n",
       "      <td>161.440357</td>\n",
       "      <td>161.212928</td>\n",
       "      <td>0.227429</td>\n",
       "    </tr>\n",
       "    <tr>\n",
       "      <th>Money</th>\n",
       "      <td>631.156464</td>\n",
       "      <td>339.087164</td>\n",
       "      <td>292.069300</td>\n",
       "    </tr>\n",
       "  </tbody>\n",
       "</table>\n",
       "</div>"
      ],
      "text/plain": [
       "              mean         50%        diff\n",
       "Height   66.367560   66.318070    0.049490\n",
       "Weight  161.440357  161.212928    0.227429\n",
       "Money   631.156464  339.087164  292.069300"
      ]
     },
     "execution_count": 4,
     "metadata": {},
     "output_type": "execute_result"
    }
   ],
   "source": [
    "# your answer here\n",
    "\n",
    "# Filter the 'df_describe' dataframe\n",
    "df_mean_median = df_describe.loc[:, ['mean', '50%']]\n",
    "\n",
    "# Calcule the differemce between the mean and the median\n",
    "df_mean_median['diff'] = [df_mean_median.iloc[index, 0] - df_mean_median.iloc[index, 1] for index, item in enumerate(df_mean_median.index)]\n",
    "\n",
    "# Check the result\n",
    "print(f'Both mean and median values are about the same for the variables \"Height\" and \"Weight\". However, for the variable'\n",
    "      f'\"Money\" there a huge difference between the two statistics, meaning that there are some fewer values that may be'\n",
    "      f'much greater, in this case since it is about money, than the rest.', sep=' ')\n",
    "df_mean_median"
   ]
  },
  {
   "cell_type": "markdown",
   "metadata": {
    "colab_type": "text",
    "id": "97z21EZ56_Xj"
   },
   "source": [
    "## From that observation, what can you conclude? Can you imagine which kind of distribution each one has?\n",
    "\n",
    "Try to predict which category each variable most likely seems to fall into (without plotting it yet):\n",
    "- Left skewed\n",
    "- Right skewed\n",
    "- Gaussian-like\n",
    "\n",
    "_hint: Remember the effect of outliers on the mean and median values_"
   ]
  },
  {
   "cell_type": "code",
   "execution_count": 5,
   "metadata": {
    "ExecuteTime": {
     "end_time": "2020-09-16T20:31:43.241803Z",
     "start_time": "2020-09-16T20:31:43.233859Z"
    },
    "colab": {},
    "colab_type": "code",
    "id": "e6Pm83sN6_Xj"
   },
   "outputs": [],
   "source": [
    "# your answer here\n",
    "\n"
   ]
  },
  {
   "cell_type": "markdown",
   "metadata": {
    "colab_type": "text",
    "id": "ulFpz4Cc80L9"
   },
   "source": [
    "Usually, the comparison between mean and median already leads us to meaningful insights regarding the variable's distribution. If mean and median are close, you can suppose that most of the data is concentrated in a region within the mean. However, if median and mean are far apart, you can suppose that some observations are pulling the mean closer to them."
   ]
  },
  {
   "cell_type": "markdown",
   "metadata": {
    "colab_type": "text",
    "id": "SZ5EUnL36_Xl"
   },
   "source": [
    "# Univariate Analysis"
   ]
  },
  {
   "cell_type": "markdown",
   "metadata": {
    "colab_type": "text",
    "id": "MonHc-Dv6_Xm"
   },
   "source": [
    "## Gender count\n",
    "\n",
    "Count how many Male and Female exist on this dataset using pandas. "
   ]
  },
  {
   "cell_type": "code",
   "execution_count": 6,
   "metadata": {
    "ExecuteTime": {
     "end_time": "2020-09-16T20:31:43.260750Z",
     "start_time": "2020-09-16T20:31:43.242798Z"
    },
    "colab": {},
    "colab_type": "code",
    "id": "550hCUU26_Xm"
   },
   "outputs": [
    {
     "data": {
      "text/plain": [
       "Female    5000\n",
       "Male      5000\n",
       "Name: Gender, dtype: int64"
      ]
     },
     "execution_count": 6,
     "metadata": {},
     "output_type": "execute_result"
    }
   ],
   "source": [
    "# your answer here\n",
    "\n",
    "# Check number of people of each gender\n",
    "df.Gender.value_counts()"
   ]
  },
  {
   "cell_type": "markdown",
   "metadata": {
    "colab_type": "text",
    "id": "8PYiGbsg6_Xo"
   },
   "source": [
    "## Visual gender count\n",
    "\n",
    "Use seaborn (sns) to visually see how many male and female exist on the dataset.\n",
    "\n",
    "_hint: If you don't know how to do this, you can google: seaborn + the pandas method you used on the previous exercise_"
   ]
  },
  {
   "cell_type": "code",
   "execution_count": 7,
   "metadata": {
    "ExecuteTime": {
     "end_time": "2020-09-16T20:31:43.373448Z",
     "start_time": "2020-09-16T20:31:43.262744Z"
    },
    "colab": {},
    "colab_type": "code",
    "id": "8ZiHJakJ6_Xp"
   },
   "outputs": [
    {
     "data": {
      "image/png": "[encoded data removed]",
      "text/plain": [
       "<Figure size 432x288 with 1 Axes>"
      ]
     },
     "metadata": {
      "needs_background": "light"
     },
     "output_type": "display_data"
    }
   ],
   "source": [
    "# your answer here\n",
    "\n",
    "sns.countplot(df.Gender);"
   ]
  },
  {
   "cell_type": "markdown",
   "metadata": {
    "colab_type": "text",
    "id": "OKAJFx0w6_Xq"
   },
   "source": [
    "## Consider only Height\n",
    "\n",
    "Create a pandas series of the Height variable"
   ]
  },
  {
   "cell_type": "code",
   "execution_count": 8,
   "metadata": {
    "ExecuteTime": {
     "end_time": "2020-09-16T20:31:43.379464Z",
     "start_time": "2020-09-16T20:31:43.374447Z"
    },
    "colab": {},
    "colab_type": "code",
    "id": "QN-nwoar6_Xr"
   },
   "outputs": [
    {
     "data": {
      "text/plain": [
       "0    73.847017\n",
       "1    68.781904\n",
       "2    74.110105\n",
       "3    71.730978\n",
       "4    69.881796\n",
       "Name: Height, dtype: float64"
      ]
     },
     "execution_count": 8,
     "metadata": {},
     "output_type": "execute_result"
    }
   ],
   "source": [
    "# your answer here\n",
    "\n",
    "height = df.Height\n",
    "\n",
    "# Check the result\n",
    "height.head()"
   ]
  },
  {
   "cell_type": "markdown",
   "metadata": {
    "colab_type": "text",
    "id": "ATOR57i06_Xt"
   },
   "source": [
    "### Histogram-plot\n",
    "\n",
    "Plot the histogram of the height"
   ]
  },
  {
   "cell_type": "code",
   "execution_count": 9,
   "metadata": {
    "ExecuteTime": {
     "end_time": "2020-09-16T20:31:43.557988Z",
     "start_time": "2020-09-16T20:31:43.380429Z"
    },
    "colab": {},
    "colab_type": "code",
    "id": "DETusxSt6_Xu"
   },
   "outputs": [
    {
     "data": {
      "image/png": "[encoded data removed]",
      "text/plain": [
       "<Figure size 864x576 with 1 Axes>"
      ]
     },
     "metadata": {
      "needs_background": "light"
     },
     "output_type": "display_data"
    }
   ],
   "source": [
    "plt.figure(figsize=(12, 8))\n",
    "# your answer here\n",
    "\n",
    "# Create a histogram-plot\n",
    "sns.distplot(height, kde=False);"
   ]
  },
  {
   "cell_type": "markdown",
   "metadata": {
    "colab_type": "text",
    "id": "0z4log2p6_Xw"
   },
   "source": [
    "### Box-plot\n",
    "\n",
    "Plot the boxplot of the height"
   ]
  },
  {
   "cell_type": "code",
   "execution_count": 10,
   "metadata": {
    "ExecuteTime": {
     "end_time": "2020-09-16T20:31:43.649742Z",
     "start_time": "2020-09-16T20:31:43.558959Z"
    },
    "colab": {},
    "colab_type": "code",
    "id": "KPvda1GA6_Xx"
   },
   "outputs": [
    {
     "data": {
      "text/plain": [
       "<AxesSubplot:xlabel='Height'>"
      ]
     },
     "execution_count": 10,
     "metadata": {},
     "output_type": "execute_result"
    },
    {
     "data": {
      "image/png": "[encoded data removed]",
      "text/plain": [
       "<Figure size 864x576 with 1 Axes>"
      ]
     },
     "metadata": {
      "needs_background": "light"
     },
     "output_type": "display_data"
    }
   ],
   "source": [
    "plt.figure(figsize=(12, 8))\n",
    "\n",
    "# Create a box-plot\n",
    "sns.boxplot(height)"
   ]
  },
  {
   "cell_type": "markdown",
   "metadata": {
    "colab_type": "text",
    "id": "yOJYQJNK6_Xy"
   },
   "source": [
    "What do you think the distribution of height is like? Do you think it is common for variables to behave like that in real life?"
   ]
  },
  {
   "cell_type": "code",
   "execution_count": 11,
   "metadata": {
    "ExecuteTime": {
     "end_time": "2020-09-16T20:31:43.654696Z",
     "start_time": "2020-09-16T20:31:43.650706Z"
    },
    "colab": {},
    "colab_type": "code",
    "id": "1AUPhMGX6_Xy"
   },
   "outputs": [
    {
     "data": {
      "text/plain": [
       "'\\nThe distribution looks like a gaussian one, which is also called normal distribution or bell curve and I do think that\\nmost things in real life behave like a normal distribution.\\n'"
      ]
     },
     "execution_count": 11,
     "metadata": {},
     "output_type": "execute_result"
    }
   ],
   "source": [
    "'''\n",
    "The distribution looks like a gaussian one, which is also called normal distribution or bell curve and I do think that\n",
    "most things in real life behave like a normal distribution.\n",
    "'''"
   ]
  },
  {
   "cell_type": "markdown",
   "metadata": {
    "colab_type": "text",
    "id": "qTyDt57_6_X0"
   },
   "source": [
    "### KDE distribution for height"
   ]
  },
  {
   "cell_type": "markdown",
   "metadata": {
    "colab_type": "text",
    "id": "KGzIwcRV6_X0"
   },
   "source": [
    "Plot the kde (kernel-density-estimation) distribution (without the hist distribution) of the height."
   ]
  },
  {
   "cell_type": "code",
   "execution_count": 12,
   "metadata": {
    "ExecuteTime": {
     "end_time": "2020-09-16T20:31:43.776403Z",
     "start_time": "2020-09-16T20:31:43.655703Z"
    }
   },
   "outputs": [
    {
     "data": {
      "image/png": "[encoded data removed]",
      "text/plain": [
       "<Figure size 432x288 with 1 Axes>"
      ]
     },
     "metadata": {
      "needs_background": "light"
     },
     "output_type": "display_data"
    }
   ],
   "source": [
    "# Create a KDE distribution\n",
    "sns.distplot(height, hist=False);"
   ]
  },
  {
   "cell_type": "markdown",
   "metadata": {
    "colab_type": "text",
    "id": "ikhooBE46_X1"
   },
   "source": [
    "### Analysis"
   ]
  },
  {
   "cell_type": "markdown",
   "metadata": {
    "colab_type": "text",
    "id": "opXZgn7q6_X1"
   },
   "source": [
    "As we can see we have a high count for height in the range near 60 to 75. How many people fall off 3 standard deviations from the mean? Can you consider them outliers? Why is that?"
   ]
  },
  {
   "cell_type": "markdown",
   "metadata": {
    "colab_type": "text",
    "id": "dgkPi6856_X1"
   },
   "source": [
    "#### Calculate the mean"
   ]
  },
  {
   "cell_type": "code",
   "execution_count": 13,
   "metadata": {
    "ExecuteTime": {
     "end_time": "2020-09-16T20:31:43.782353Z",
     "start_time": "2020-09-16T20:31:43.777371Z"
    },
    "colab": {},
    "colab_type": "code",
    "id": "SkxJqzbq6_X2"
   },
   "outputs": [
    {
     "name": "stdout",
     "output_type": "stream",
     "text": [
      "The average height is 66.37.\n"
     ]
    }
   ],
   "source": [
    "# your answer here\n",
    "\n",
    "# Calculate the mean\n",
    "height_mean = np.mean(height)\n",
    "\n",
    "# Print the answer on the screen\n",
    "print(f'The average height is {height_mean:.2f}.')"
   ]
  },
  {
   "cell_type": "markdown",
   "metadata": {
    "colab_type": "text",
    "id": "F3nLhNNu6_X4"
   },
   "source": [
    "#### Calculate the standard deviation "
   ]
  },
  {
   "cell_type": "code",
   "execution_count": 14,
   "metadata": {
    "ExecuteTime": {
     "end_time": "2020-09-16T20:31:43.792366Z",
     "start_time": "2020-09-16T20:31:43.783352Z"
    },
    "colab": {},
    "colab_type": "code",
    "id": "bUK8X9RY6_X5"
   },
   "outputs": [
    {
     "name": "stdout",
     "output_type": "stream",
     "text": [
      "The standard deviation for the height is 3.85.\n"
     ]
    }
   ],
   "source": [
    "# your answer here\n",
    "\n",
    "# Calculate the standard deviation\n",
    "height_std = np.std(height)\n",
    "\n",
    "# Print the answer on the screen\n",
    "print(f'The standard deviation for the height is {height_std:.2f}.')"
   ]
  },
  {
   "cell_type": "markdown",
   "metadata": {
    "colab_type": "text",
    "id": "270jlexC6_X6"
   },
   "source": [
    "#### Calculate the values for the cutoffs:\n",
    "\n",
    "`upper_cutoff = mean` <b><span style=\"color:red\">+</span></b> `3 * standard_deviation` \n",
    "\n",
    "`lower_cutoff = mean` <b><span style=\"color:red\">-</span></b> `3 * standard_deviation`"
   ]
  },
  {
   "cell_type": "code",
   "execution_count": 15,
   "metadata": {
    "ExecuteTime": {
     "end_time": "2020-09-16T20:31:43.802333Z",
     "start_time": "2020-09-16T20:31:43.793325Z"
    }
   },
   "outputs": [
    {
     "name": "stdout",
     "output_type": "stream",
     "text": [
      "upper_cutoff = 77.91\n",
      "lower_cutoff = 54.83\n"
     ]
    }
   ],
   "source": [
    "# Calculate the values for the cuttoffs\n",
    "upper_cutoff_height = height_mean + 3 * height_std\n",
    "lower_cutoff_height = height_mean - 3 * height_std\n",
    "\n",
    "# Print the answer on the screen\n",
    "print(f'upper_cutoff = {upper_cutoff_height:.2f}\\nlower_cutoff = {lower_cutoff_height:.2f}')"
   ]
  },
  {
   "cell_type": "markdown",
   "metadata": {
    "colab_type": "text",
    "id": "isBRD1mN6_X7"
   },
   "source": [
    "#### Now filter the original dataset. \n",
    "\n",
    "Use the values you calculated above to filter the original dataset. \n",
    "\n",
    "You should obtain a filtered dataset containing only the rows in which the `Height` column is greater than the upper cutoff and lower than the lower cutoff."
   ]
  },
  {
   "cell_type": "code",
   "execution_count": 16,
   "metadata": {
    "ExecuteTime": {
     "end_time": "2020-09-16T20:31:43.816319Z",
     "start_time": "2020-09-16T20:31:43.803298Z"
    },
    "colab": {},
    "colab_type": "code",
    "id": "RTL9hhAi6_X7",
    "outputId": "c5cc08d8-842e-420a-dff3-7dbfa10ebb38"
   },
   "outputs": [],
   "source": [
    "# expected results:"
   ]
  },
  {
   "cell_type": "code",
   "execution_count": 17,
   "metadata": {
    "ExecuteTime": {
     "end_time": "2020-09-16T20:31:43.842229Z",
     "start_time": "2020-09-16T20:31:43.817261Z"
    }
   },
   "outputs": [
    {
     "data": {
      "text/html": [
       "<div>\n",
       "<style scoped>\n",
       "    .dataframe tbody tr th:only-of-type {\n",
       "        vertical-align: middle;\n",
       "    }\n",
       "\n",
       "    .dataframe tbody tr th {\n",
       "        vertical-align: top;\n",
       "    }\n",
       "\n",
       "    .dataframe thead th {\n",
       "        text-align: right;\n",
       "    }\n",
       "</style>\n",
       "<table border=\"1\" class=\"dataframe\">\n",
       "  <thead>\n",
       "    <tr style=\"text-align: right;\">\n",
       "      <th></th>\n",
       "      <th>Gender</th>\n",
       "      <th>Height</th>\n",
       "      <th>Weight</th>\n",
       "      <th>Money</th>\n",
       "    </tr>\n",
       "  </thead>\n",
       "  <tbody>\n",
       "    <tr>\n",
       "      <th>994</th>\n",
       "      <td>Male</td>\n",
       "      <td>78.095867</td>\n",
       "      <td>255.690835</td>\n",
       "      <td>1357.105000</td>\n",
       "    </tr>\n",
       "    <tr>\n",
       "      <th>1317</th>\n",
       "      <td>Male</td>\n",
       "      <td>78.462053</td>\n",
       "      <td>227.342565</td>\n",
       "      <td>5.457968</td>\n",
       "    </tr>\n",
       "    <tr>\n",
       "      <th>2014</th>\n",
       "      <td>Male</td>\n",
       "      <td>78.998742</td>\n",
       "      <td>269.989699</td>\n",
       "      <td>131.474470</td>\n",
       "    </tr>\n",
       "    <tr>\n",
       "      <th>3285</th>\n",
       "      <td>Male</td>\n",
       "      <td>78.528210</td>\n",
       "      <td>253.889004</td>\n",
       "      <td>0.089663</td>\n",
       "    </tr>\n",
       "    <tr>\n",
       "      <th>3757</th>\n",
       "      <td>Male</td>\n",
       "      <td>78.621374</td>\n",
       "      <td>245.733783</td>\n",
       "      <td>204.113245</td>\n",
       "    </tr>\n",
       "    <tr>\n",
       "      <th>6624</th>\n",
       "      <td>Female</td>\n",
       "      <td>54.616858</td>\n",
       "      <td>71.393749</td>\n",
       "      <td>226.061310</td>\n",
       "    </tr>\n",
       "    <tr>\n",
       "      <th>9285</th>\n",
       "      <td>Female</td>\n",
       "      <td>54.263133</td>\n",
       "      <td>64.700127</td>\n",
       "      <td>646.532185</td>\n",
       "    </tr>\n",
       "  </tbody>\n",
       "</table>\n",
       "</div>"
      ],
      "text/plain": [
       "      Gender     Height      Weight        Money\n",
       "994     Male  78.095867  255.690835  1357.105000\n",
       "1317    Male  78.462053  227.342565     5.457968\n",
       "2014    Male  78.998742  269.989699   131.474470\n",
       "3285    Male  78.528210  253.889004     0.089663\n",
       "3757    Male  78.621374  245.733783   204.113245\n",
       "6624  Female  54.616858   71.393749   226.061310\n",
       "9285  Female  54.263133   64.700127   646.532185"
      ]
     },
     "execution_count": 17,
     "metadata": {},
     "output_type": "execute_result"
    }
   ],
   "source": [
    "# Filter the dataset\n",
    "df_filter_height = df.query(f'Height > {upper_cutoff_height} or Height < {lower_cutoff_height}')\n",
    "\n",
    "# Check the result\n",
    "df_filter_height"
   ]
  },
  {
   "cell_type": "markdown",
   "metadata": {
    "ExecuteTime": {
     "end_time": "2020-04-06T04:33:34.040229Z",
     "start_time": "2020-04-06T04:33:34.035243Z"
    },
    "colab_type": "text",
    "id": "nG_njBjW6_X_"
   },
   "source": [
    "#### Finally, calculate the shape of this filtered dataset and compare with the original dataframe.\n",
    "\n",
    "Which percentage felt in these thresholds? Did you expect this value? Why?"
   ]
  },
  {
   "cell_type": "code",
   "execution_count": 18,
   "metadata": {
    "ExecuteTime": {
     "end_time": "2020-09-16T20:31:43.849208Z",
     "start_time": "2020-09-16T20:31:43.844192Z"
    },
    "colab": {},
    "colab_type": "code",
    "id": "hud6jYs96_X_"
   },
   "outputs": [
    {
     "name": "stdout",
     "output_type": "stream",
     "text": [
      "Shape filtered dataframe: 7 rows and 4 columns\n",
      "Shape original dataframe: 10000 rows and 4 columns\n",
      "\n",
      "The filtered dataframe represents only 0.0007% of the original and this value, which is lower much lower than 1%, was expected, since the distribution for the \"Height\" is similar to a normalone, when the values that aregreater than( mean + 3 * std) and lower than (mean - 3 * std) are filtered, theyshould represent less than 1% of the distribution.\n"
     ]
    }
   ],
   "source": [
    "# Shape of the dataframe\n",
    "print(f'Shape filtered dataframe: {df_filter_height.shape[0]} rows and {df_filter_height.shape[1]} columns')\n",
    "print(f'Shape original dataframe: {df.shape[0]} rows and {df.shape[1]} columns\\n')\n",
    "\n",
    "# Explanation\n",
    "print(f'The filtered dataframe represents only {df_filter_height.shape[0] / df.shape[0]}% of the original and this value,'\n",
    "      f' which is lower much lower than 1%, was expected, since the distribution for the \"Height\" is similar to a normal'\n",
    "      f'one, when the values that aregreater than( mean + 3 * std) and lower than (mean - 3 * std) are filtered, they'\n",
    "      f'should represent less than 1% of the distribution.', sep=' ')"
   ]
  },
  {
   "cell_type": "markdown",
   "metadata": {
    "colab_type": "text",
    "id": "E9elL5936_YB"
   },
   "source": [
    "## Now perform the same analysis for `money` variable."
   ]
  },
  {
   "cell_type": "markdown",
   "metadata": {
    "colab_type": "text",
    "id": "iHTk6LhO6_YB"
   },
   "source": [
    "You'll do exactly the same analysis for a variable of your dataset that has some different aspects. Let's try to understand that."
   ]
  },
  {
   "cell_type": "markdown",
   "metadata": {
    "colab_type": "text",
    "id": "jBi_YffX6_YB"
   },
   "source": [
    "### Considering only money"
   ]
  },
  {
   "cell_type": "markdown",
   "metadata": {
    "colab_type": "text",
    "id": "ze_KooVx6_YC"
   },
   "source": [
    "Generate a variable called money from the dataset"
   ]
  },
  {
   "cell_type": "code",
   "execution_count": 19,
   "metadata": {
    "ExecuteTime": {
     "end_time": "2020-09-16T20:31:43.865168Z",
     "start_time": "2020-09-16T20:31:43.850182Z"
    },
    "colab": {},
    "colab_type": "code",
    "id": "VlGJ0JoG6_YC"
   },
   "outputs": [
    {
     "data": {
      "text/plain": [
       "0     21.462754\n",
       "1     94.732358\n",
       "2    130.077362\n",
       "3    214.096064\n",
       "4    765.091245\n",
       "Name: Money, dtype: float64"
      ]
     },
     "execution_count": 19,
     "metadata": {},
     "output_type": "execute_result"
    }
   ],
   "source": [
    "# your code here\n",
    "\n",
    "# Filter the dataframe\n",
    "money = df.Money\n",
    "\n",
    "# Check the result\n",
    "money.head()"
   ]
  },
  {
   "cell_type": "code",
   "execution_count": 20,
   "metadata": {
    "ExecuteTime": {
     "end_time": "2020-09-16T20:31:43.876105Z",
     "start_time": "2020-09-16T20:31:43.866129Z"
    },
    "colab": {},
    "colab_type": "code",
    "id": "tYzsJnzo6_YD",
    "outputId": "b8f36a66-939e-45d6-fd9c-06e95dc939bd"
   },
   "outputs": [
    {
     "data": {
      "text/plain": [
       "(10000,)"
      ]
     },
     "execution_count": 20,
     "metadata": {},
     "output_type": "execute_result"
    }
   ],
   "source": [
    "money.shape"
   ]
  },
  {
   "cell_type": "markdown",
   "metadata": {
    "colab_type": "text",
    "id": "KXMvChJi6_YF"
   },
   "source": [
    "### Histogram-plot"
   ]
  },
  {
   "cell_type": "code",
   "execution_count": 21,
   "metadata": {
    "ExecuteTime": {
     "end_time": "2020-09-16T20:31:44.067082Z",
     "start_time": "2020-09-16T20:31:43.879097Z"
    },
    "colab": {},
    "colab_type": "code",
    "id": "oexSHeHc6_YF"
   },
   "outputs": [
    {
     "data": {
      "image/png": "[encoded data removed]",
      "text/plain": [
       "<Figure size 432x288 with 1 Axes>"
      ]
     },
     "metadata": {
      "needs_background": "light"
     },
     "output_type": "display_data"
    }
   ],
   "source": [
    "# your code here\n",
    "\n",
    "# Create a histogram-plot\n",
    "sns.distplot(money, kde=False);"
   ]
  },
  {
   "cell_type": "markdown",
   "metadata": {
    "colab_type": "text",
    "id": "oZcX8mYB6_YH"
   },
   "source": [
    "### Box-plot"
   ]
  },
  {
   "cell_type": "code",
   "execution_count": 22,
   "metadata": {
    "ExecuteTime": {
     "end_time": "2020-09-16T20:31:44.225256Z",
     "start_time": "2020-09-16T20:31:44.068046Z"
    },
    "colab": {},
    "colab_type": "code",
    "id": "NoG2kvO86_YI"
   },
   "outputs": [
    {
     "data": {
      "image/png": "[encoded data removed]",
      "text/plain": [
       "<Figure size 432x288 with 1 Axes>"
      ]
     },
     "metadata": {
      "needs_background": "light"
     },
     "output_type": "display_data"
    }
   ],
   "source": [
    "# your code here\n",
    "\n",
    "# Create a box-plot\n",
    "sns.boxplot(money);"
   ]
  },
  {
   "cell_type": "markdown",
   "metadata": {
    "colab_type": "text",
    "id": "u9gi0NLV6_YJ"
   },
   "source": [
    "### KDE distribution for money"
   ]
  },
  {
   "cell_type": "code",
   "execution_count": 23,
   "metadata": {
    "ExecuteTime": {
     "end_time": "2020-09-16T20:31:44.355336Z",
     "start_time": "2020-09-16T20:31:44.226221Z"
    },
    "colab": {},
    "colab_type": "code",
    "id": "sfT2BzQe6_YK"
   },
   "outputs": [
    {
     "data": {
      "image/png": "[encoded data removed]",
      "text/plain": [
       "<Figure size 432x288 with 1 Axes>"
      ]
     },
     "metadata": {
      "needs_background": "light"
     },
     "output_type": "display_data"
    }
   ],
   "source": [
    "# your code here\n",
    "\n",
    "# Create a KDE distribution\n",
    "sns.distplot(money, hist=False);"
   ]
  },
  {
   "cell_type": "markdown",
   "metadata": {
    "colab_type": "text",
    "id": "kzJUTeh36_YM"
   },
   "source": [
    "### Analysis"
   ]
  },
  {
   "cell_type": "markdown",
   "metadata": {
    "colab_type": "text",
    "id": "Gl1ewWWR6_YM"
   },
   "source": [
    "Again, how many people fall off 3 standard deviations in both cases (which percentage of the dataset)? Let's do it by parts:"
   ]
  },
  {
   "cell_type": "markdown",
   "metadata": {
    "colab_type": "text",
    "id": "nkEp1XFN6_YM"
   },
   "source": [
    "#### Calculate the mean"
   ]
  },
  {
   "cell_type": "code",
   "execution_count": 24,
   "metadata": {
    "ExecuteTime": {
     "end_time": "2020-09-16T20:31:44.360360Z",
     "start_time": "2020-09-16T20:31:44.356352Z"
    },
    "colab": {},
    "colab_type": "code",
    "id": "_LAoCUi06_YN"
   },
   "outputs": [
    {
     "name": "stdout",
     "output_type": "stream",
     "text": [
      "The mean for the variable \"Money\" is 631.16.\n"
     ]
    }
   ],
   "source": [
    "# your answer here\n",
    "\n",
    "# Calculate the mean\n",
    "money_mean = np.mean(money)\n",
    "\n",
    "# Print the answer on the screen\n",
    "print(f'The mean for the variable \"Money\" is {money_mean:.2f}.')"
   ]
  },
  {
   "cell_type": "markdown",
   "metadata": {
    "colab_type": "text",
    "id": "k7tGEVD96_YO"
   },
   "source": [
    "#### Calculate the standard deviation "
   ]
  },
  {
   "cell_type": "code",
   "execution_count": 25,
   "metadata": {
    "ExecuteTime": {
     "end_time": "2020-09-16T20:31:44.371294Z",
     "start_time": "2020-09-16T20:31:44.362324Z"
    },
    "colab": {},
    "colab_type": "code",
    "id": "KkW0F87D6_YP"
   },
   "outputs": [
    {
     "name": "stdout",
     "output_type": "stream",
     "text": [
      "The standard deviation for the variable \"Money\" is 806.01.\n"
     ]
    }
   ],
   "source": [
    "# your answer here.\n",
    "\n",
    "# Calculate the standard deviation\n",
    "money_std = np.std(money)\n",
    "\n",
    "# Print the answer on the screen\n",
    "print(f'The standard deviation for the variable \"Money\" is {money_std:.2f}.')"
   ]
  },
  {
   "cell_type": "markdown",
   "metadata": {
    "colab_type": "text",
    "id": "hyHPl0TD6_YQ"
   },
   "source": [
    "#### Calculate the values for the cutoffs:\n",
    "\n",
    "`upper_cutoff = mean` <b><span style=\"color:red\">+</span></b> `3 * standard_deviation` \n",
    "\n",
    "`lower_cutoff = mean` <b><span style=\"color:red\">-</span></b> `3 * standard_deviation`"
   ]
  },
  {
   "cell_type": "code",
   "execution_count": 26,
   "metadata": {
    "ExecuteTime": {
     "end_time": "2020-09-16T20:31:44.381300Z",
     "start_time": "2020-09-16T20:31:44.373292Z"
    }
   },
   "outputs": [
    {
     "name": "stdout",
     "output_type": "stream",
     "text": [
      "upper_cutoff = 3049.18\n",
      "lower_cutoff = -1786.87\n"
     ]
    }
   ],
   "source": [
    "# Calculate the values for the cuttoffs\n",
    "upper_cutoff_money = money_mean + 3 * money_std\n",
    "lower_cutoff_money = money_mean - 3 * money_std\n",
    "\n",
    "# Print the answer on the screen\n",
    "print(f'upper_cutoff = {upper_cutoff_money:.2f}\\nlower_cutoff = {lower_cutoff_money:.2f}')"
   ]
  },
  {
   "cell_type": "markdown",
   "metadata": {
    "colab_type": "text",
    "id": "lO6g6RXi6_YQ"
   },
   "source": [
    "#### Again, filter the original dataset. "
   ]
  },
  {
   "cell_type": "code",
   "execution_count": 27,
   "metadata": {
    "ExecuteTime": {
     "end_time": "2020-09-16T20:31:44.401214Z",
     "start_time": "2020-09-16T20:31:44.382265Z"
    },
    "colab": {},
    "colab_type": "code",
    "id": "VjdtbNc06_YR"
   },
   "outputs": [
    {
     "data": {
      "text/html": [
       "<div>\n",
       "<style scoped>\n",
       "    .dataframe tbody tr th:only-of-type {\n",
       "        vertical-align: middle;\n",
       "    }\n",
       "\n",
       "    .dataframe tbody tr th {\n",
       "        vertical-align: top;\n",
       "    }\n",
       "\n",
       "    .dataframe thead th {\n",
       "        text-align: right;\n",
       "    }\n",
       "</style>\n",
       "<table border=\"1\" class=\"dataframe\">\n",
       "  <thead>\n",
       "    <tr style=\"text-align: right;\">\n",
       "      <th></th>\n",
       "      <th>Gender</th>\n",
       "      <th>Height</th>\n",
       "      <th>Weight</th>\n",
       "      <th>Money</th>\n",
       "    </tr>\n",
       "  </thead>\n",
       "  <tbody>\n",
       "    <tr>\n",
       "      <th>234</th>\n",
       "      <td>Male</td>\n",
       "      <td>67.369809</td>\n",
       "      <td>176.636164</td>\n",
       "      <td>3725.078083</td>\n",
       "    </tr>\n",
       "    <tr>\n",
       "      <th>294</th>\n",
       "      <td>Male</td>\n",
       "      <td>64.425194</td>\n",
       "      <td>169.109401</td>\n",
       "      <td>3942.967034</td>\n",
       "    </tr>\n",
       "    <tr>\n",
       "      <th>355</th>\n",
       "      <td>Male</td>\n",
       "      <td>72.938649</td>\n",
       "      <td>216.097455</td>\n",
       "      <td>3762.418909</td>\n",
       "    </tr>\n",
       "    <tr>\n",
       "      <th>518</th>\n",
       "      <td>Male</td>\n",
       "      <td>68.346457</td>\n",
       "      <td>178.675992</td>\n",
       "      <td>3286.659362</td>\n",
       "    </tr>\n",
       "    <tr>\n",
       "      <th>662</th>\n",
       "      <td>Male</td>\n",
       "      <td>69.430998</td>\n",
       "      <td>172.325881</td>\n",
       "      <td>3798.711723</td>\n",
       "    </tr>\n",
       "    <tr>\n",
       "      <th>...</th>\n",
       "      <td>...</td>\n",
       "      <td>...</td>\n",
       "      <td>...</td>\n",
       "      <td>...</td>\n",
       "    </tr>\n",
       "    <tr>\n",
       "      <th>9873</th>\n",
       "      <td>Female</td>\n",
       "      <td>63.707174</td>\n",
       "      <td>132.760922</td>\n",
       "      <td>3164.374960</td>\n",
       "    </tr>\n",
       "    <tr>\n",
       "      <th>9888</th>\n",
       "      <td>Female</td>\n",
       "      <td>65.105932</td>\n",
       "      <td>149.694693</td>\n",
       "      <td>3929.572877</td>\n",
       "    </tr>\n",
       "    <tr>\n",
       "      <th>9922</th>\n",
       "      <td>Female</td>\n",
       "      <td>58.752489</td>\n",
       "      <td>106.846041</td>\n",
       "      <td>3541.679543</td>\n",
       "    </tr>\n",
       "    <tr>\n",
       "      <th>9930</th>\n",
       "      <td>Female</td>\n",
       "      <td>68.544449</td>\n",
       "      <td>148.828165</td>\n",
       "      <td>3916.316217</td>\n",
       "    </tr>\n",
       "    <tr>\n",
       "      <th>9946</th>\n",
       "      <td>Female</td>\n",
       "      <td>66.624544</td>\n",
       "      <td>149.828094</td>\n",
       "      <td>6535.362439</td>\n",
       "    </tr>\n",
       "  </tbody>\n",
       "</table>\n",
       "<p>229 rows × 4 columns</p>\n",
       "</div>"
      ],
      "text/plain": [
       "      Gender     Height      Weight        Money\n",
       "234     Male  67.369809  176.636164  3725.078083\n",
       "294     Male  64.425194  169.109401  3942.967034\n",
       "355     Male  72.938649  216.097455  3762.418909\n",
       "518     Male  68.346457  178.675992  3286.659362\n",
       "662     Male  69.430998  172.325881  3798.711723\n",
       "...      ...        ...         ...          ...\n",
       "9873  Female  63.707174  132.760922  3164.374960\n",
       "9888  Female  65.105932  149.694693  3929.572877\n",
       "9922  Female  58.752489  106.846041  3541.679543\n",
       "9930  Female  68.544449  148.828165  3916.316217\n",
       "9946  Female  66.624544  149.828094  6535.362439\n",
       "\n",
       "[229 rows x 4 columns]"
      ]
     },
     "execution_count": 27,
     "metadata": {},
     "output_type": "execute_result"
    }
   ],
   "source": [
    "# your answer here\n",
    "\n",
    "# Filter the dataset\n",
    "df_filter_money = df.query(f'Money > {upper_cutoff_money} or Money < {lower_cutoff_money}')\n",
    "\n",
    "# Check the result\n",
    "df_filter_money"
   ]
  },
  {
   "cell_type": "markdown",
   "metadata": {
    "colab_type": "text",
    "id": "vGnDsa-s6_YT"
   },
   "source": [
    "#### Finally, calculate the shape of this filtered dataset and compare with the original dataframe.\n",
    "\n",
    "Which percentage felt in these thresholds? Did you expect this value?"
   ]
  },
  {
   "cell_type": "code",
   "execution_count": 28,
   "metadata": {
    "ExecuteTime": {
     "end_time": "2020-09-16T20:31:44.409193Z",
     "start_time": "2020-09-16T20:31:44.402211Z"
    },
    "colab": {},
    "colab_type": "code",
    "id": "P2m7MHNF6_YT"
   },
   "outputs": [
    {
     "name": "stdout",
     "output_type": "stream",
     "text": [
      "Shape filtered dataframe: 229 rows and 4 columns\n",
      "Shape original dataframe: 10000 rows and 4 columns\n",
      "\n",
      "The filtered dataframe represents only 0.0229% of the original and this value, which is lower much lower than 1%, was somewhat expected. Even though, the distribution is a reight-skewed one,its standard deviation is really high value (806.0077539013851). So the triple of the standard deviation is also avery huge range, only filtering some extremly hight values for the variable \"Money\".\n"
     ]
    }
   ],
   "source": [
    "# your answer here\n",
    "\n",
    "# Shape of the dataframe\n",
    "print(f'Shape filtered dataframe: {df_filter_money.shape[0]} rows and {df_filter_money.shape[1]} columns')\n",
    "print(f'Shape original dataframe: {df.shape[0]} rows and {df.shape[1]} columns\\n')\n",
    "\n",
    "# Explanation\n",
    "print(f'The filtered dataframe represents only {df_filter_money.shape[0] / df.shape[0]}% of the original and this value,'\n",
    "      f' which is lower much lower than 1%, was somewhat expected. Even though, the distribution is a reight-skewed one,'\n",
    "      f'its standard deviation is really high value ({money_std}). So the triple of the standard deviation is also a'\n",
    "      f'very huge range, only filtering some extremly hight values for the variable \"Money\".', sep=' ')"
   ]
  },
  {
   "cell_type": "markdown",
   "metadata": {
    "colab_type": "text",
    "id": "5GvjLe4s6_YV"
   },
   "source": [
    "Can you consider them outliers?"
   ]
  },
  {
   "cell_type": "code",
   "execution_count": 29,
   "metadata": {
    "ExecuteTime": {
     "end_time": "2020-09-16T20:31:44.444099Z",
     "start_time": "2020-09-16T20:31:44.412185Z"
    },
    "colab": {},
    "colab_type": "code",
    "id": "hMv78bh-6_YV"
   },
   "outputs": [
    {
     "data": {
      "text/plain": [
       "'\\nThe answer depends on the analysis about the variable \"Money\". There are some cases that the influence of these filtered\\nelements matter. Therefore, for these cases, they cannot be considered outliers.\\n'"
      ]
     },
     "execution_count": 29,
     "metadata": {},
     "output_type": "execute_result"
    }
   ],
   "source": [
    "# your answer here\n",
    "\n",
    "'''\n",
    "The answer depends on the analysis about the variable \"Money\". There are some cases that the influence of these filtered\n",
    "elements matter. Therefore, for these cases, they cannot be considered outliers.\n",
    "'''"
   ]
  },
  {
   "cell_type": "markdown",
   "metadata": {
    "colab_type": "text",
    "id": "LodtGIlf8PyK"
   },
   "source": [
    "By now, you should have observed that in order to consider an observation an `outlier`, one needs to take into account the **distribution** of the variable. In fact, most statistical aspects do not mean anything until you understand the variable's distribution."
   ]
  },
  {
   "cell_type": "markdown",
   "metadata": {
    "colab_type": "text",
    "id": "4xo8UdNG6_YX"
   },
   "source": [
    "# Bivariate Analysis"
   ]
  },
  {
   "cell_type": "markdown",
   "metadata": {
    "colab_type": "text",
    "id": "ZPow_mX16_YX"
   },
   "source": [
    "## Considering both height and weight\n",
    "\n",
    "Now we'll consider both height and weight variables to understand our data. We'll perform what is called a bivariate analysis."
   ]
  },
  {
   "cell_type": "markdown",
   "metadata": {
    "colab_type": "text",
    "id": "O0RTnQXc6_YY"
   },
   "source": [
    "### Perform a scatterplot to check the relation between Height and Weight"
   ]
  },
  {
   "cell_type": "code",
   "execution_count": 30,
   "metadata": {
    "ExecuteTime": {
     "end_time": "2020-09-16T20:31:44.603706Z",
     "start_time": "2020-09-16T20:31:44.447091Z"
    },
    "colab": {},
    "colab_type": "code",
    "id": "SigXKLfC6_YY"
   },
   "outputs": [
    {
     "data": {
      "image/png": "[encoded data removed]",
      "text/plain": [
       "<Figure size 864x576 with 1 Axes>"
      ]
     },
     "metadata": {
      "needs_background": "light"
     },
     "output_type": "display_data"
    }
   ],
   "source": [
    "plt.figure(figsize=(12, 8))\n",
    "\n",
    "# Create a scatter plot\n",
    "sns.scatterplot(x='Height', y='Weight', data=df);"
   ]
  },
  {
   "cell_type": "markdown",
   "metadata": {
    "colab_type": "text",
    "id": "59aT_5lW6_Ya"
   },
   "source": [
    "### Do the same plot, but color the markers by Gender"
   ]
  },
  {
   "cell_type": "code",
   "execution_count": 47,
   "metadata": {
    "ExecuteTime": {
     "end_time": "2020-09-16T20:43:15.887350Z",
     "start_time": "2020-09-16T20:43:15.505750Z"
    },
    "colab": {},
    "colab_type": "code",
    "id": "il_2ixhp6_Ya",
    "scrolled": false
   },
   "outputs": [
    {
     "data": {
      "image/png": "[encoded data removed]",
      "text/plain": [
       "<Figure size 864x576 with 1 Axes>"
      ]
     },
     "metadata": {
      "needs_background": "light"
     },
     "output_type": "display_data"
    }
   ],
   "source": [
    "plt.figure(figsize=(12, 8))\n",
    "\n",
    "# Create a scatter plot\n",
    "sns.scatterplot(data=df, x='Height', y='Weight', hue=list(df.Gender));"
   ]
  },
  {
   "cell_type": "markdown",
   "metadata": {
    "colab_type": "text",
    "id": "dvqrbq6M6_Yc"
   },
   "source": [
    "### Which insights hue'ing the plot using the variable Gender has brought to you? "
   ]
  },
  {
   "cell_type": "code",
   "execution_count": 0,
   "metadata": {
    "colab": {},
    "colab_type": "code",
    "id": "JAAdWKOo6_Yc"
   },
   "outputs": [],
   "source": [
    "# your answer here\n",
    "\n",
    "'''\n",
    "Women tend to be shorter and weight less then men.\n",
    "'''"
   ]
  },
  {
   "cell_type": "markdown",
   "metadata": {
    "colab_type": "text",
    "id": "BG61NYRy6_Ye"
   },
   "source": [
    "### Create a variable called `gender_groupby` to group data by 'Gender'. However, don't define any aggregations yet. \n",
    "\n",
    "Just perform the groupby operation."
   ]
  },
  {
   "cell_type": "code",
   "execution_count": 36,
   "metadata": {
    "ExecuteTime": {
     "end_time": "2020-09-16T20:36:59.262177Z",
     "start_time": "2020-09-16T20:36:59.258153Z"
    },
    "colab": {},
    "colab_type": "code",
    "id": "T1-ve0L86_Ye"
   },
   "outputs": [],
   "source": [
    "# your code here\n",
    "gender_groupby = df.groupby(by='Gender')"
   ]
  },
  {
   "cell_type": "markdown",
   "metadata": {
    "colab_type": "text",
    "id": "QgBhuRB_6_Yh"
   },
   "source": [
    "#### Run `gender_groupby.head()` to check the groups obtained."
   ]
  },
  {
   "cell_type": "code",
   "execution_count": 37,
   "metadata": {
    "ExecuteTime": {
     "end_time": "2020-09-16T20:37:02.954150Z",
     "start_time": "2020-09-16T20:37:02.940179Z"
    },
    "colab": {},
    "colab_type": "code",
    "id": "ry9aSDKm6_Yh"
   },
   "outputs": [
    {
     "data": {
      "text/html": [
       "<div>\n",
       "<style scoped>\n",
       "    .dataframe tbody tr th:only-of-type {\n",
       "        vertical-align: middle;\n",
       "    }\n",
       "\n",
       "    .dataframe tbody tr th {\n",
       "        vertical-align: top;\n",
       "    }\n",
       "\n",
       "    .dataframe thead th {\n",
       "        text-align: right;\n",
       "    }\n",
       "</style>\n",
       "<table border=\"1\" class=\"dataframe\">\n",
       "  <thead>\n",
       "    <tr style=\"text-align: right;\">\n",
       "      <th></th>\n",
       "      <th>Gender</th>\n",
       "      <th>Height</th>\n",
       "      <th>Weight</th>\n",
       "      <th>Money</th>\n",
       "    </tr>\n",
       "  </thead>\n",
       "  <tbody>\n",
       "    <tr>\n",
       "      <th>0</th>\n",
       "      <td>Male</td>\n",
       "      <td>73.847017</td>\n",
       "      <td>241.893563</td>\n",
       "      <td>21.462754</td>\n",
       "    </tr>\n",
       "    <tr>\n",
       "      <th>1</th>\n",
       "      <td>Male</td>\n",
       "      <td>68.781904</td>\n",
       "      <td>162.310473</td>\n",
       "      <td>94.732358</td>\n",
       "    </tr>\n",
       "    <tr>\n",
       "      <th>2</th>\n",
       "      <td>Male</td>\n",
       "      <td>74.110105</td>\n",
       "      <td>212.740856</td>\n",
       "      <td>130.077362</td>\n",
       "    </tr>\n",
       "    <tr>\n",
       "      <th>3</th>\n",
       "      <td>Male</td>\n",
       "      <td>71.730978</td>\n",
       "      <td>220.042470</td>\n",
       "      <td>214.096064</td>\n",
       "    </tr>\n",
       "    <tr>\n",
       "      <th>4</th>\n",
       "      <td>Male</td>\n",
       "      <td>69.881796</td>\n",
       "      <td>206.349801</td>\n",
       "      <td>765.091245</td>\n",
       "    </tr>\n",
       "    <tr>\n",
       "      <th>5000</th>\n",
       "      <td>Female</td>\n",
       "      <td>58.910732</td>\n",
       "      <td>102.088326</td>\n",
       "      <td>25.530452</td>\n",
       "    </tr>\n",
       "    <tr>\n",
       "      <th>5001</th>\n",
       "      <td>Female</td>\n",
       "      <td>65.230013</td>\n",
       "      <td>141.305823</td>\n",
       "      <td>270.612186</td>\n",
       "    </tr>\n",
       "    <tr>\n",
       "      <th>5002</th>\n",
       "      <td>Female</td>\n",
       "      <td>63.369004</td>\n",
       "      <td>131.041403</td>\n",
       "      <td>1114.256936</td>\n",
       "    </tr>\n",
       "    <tr>\n",
       "      <th>5003</th>\n",
       "      <td>Female</td>\n",
       "      <td>64.479997</td>\n",
       "      <td>128.171511</td>\n",
       "      <td>2194.127692</td>\n",
       "    </tr>\n",
       "    <tr>\n",
       "      <th>5004</th>\n",
       "      <td>Female</td>\n",
       "      <td>61.793096</td>\n",
       "      <td>129.781407</td>\n",
       "      <td>462.814462</td>\n",
       "    </tr>\n",
       "  </tbody>\n",
       "</table>\n",
       "</div>"
      ],
      "text/plain": [
       "      Gender     Height      Weight        Money\n",
       "0       Male  73.847017  241.893563    21.462754\n",
       "1       Male  68.781904  162.310473    94.732358\n",
       "2       Male  74.110105  212.740856   130.077362\n",
       "3       Male  71.730978  220.042470   214.096064\n",
       "4       Male  69.881796  206.349801   765.091245\n",
       "5000  Female  58.910732  102.088326    25.530452\n",
       "5001  Female  65.230013  141.305823   270.612186\n",
       "5002  Female  63.369004  131.041403  1114.256936\n",
       "5003  Female  64.479997  128.171511  2194.127692\n",
       "5004  Female  61.793096  129.781407   462.814462"
      ]
     },
     "execution_count": 37,
     "metadata": {},
     "output_type": "execute_result"
    }
   ],
   "source": [
    "gender_groupby.head()"
   ]
  },
  {
   "cell_type": "markdown",
   "metadata": {
    "colab_type": "text",
    "id": "Fw0jkp5D6_Yj"
   },
   "source": [
    "#### Run gender_groupby.describe() to check the statistics for each group. \n",
    "\n",
    "_hint: You can transpose this result to obtain a better visualization of the results_\n"
   ]
  },
  {
   "cell_type": "code",
   "execution_count": 40,
   "metadata": {
    "ExecuteTime": {
     "end_time": "2020-09-16T20:37:57.724173Z",
     "start_time": "2020-09-16T20:37:57.690247Z"
    },
    "colab": {},
    "colab_type": "code",
    "id": "2BqS-oLr6_Yk"
   },
   "outputs": [
    {
     "data": {
      "text/html": [
       "<div>\n",
       "<style scoped>\n",
       "    .dataframe tbody tr th:only-of-type {\n",
       "        vertical-align: middle;\n",
       "    }\n",
       "\n",
       "    .dataframe tbody tr th {\n",
       "        vertical-align: top;\n",
       "    }\n",
       "\n",
       "    .dataframe thead tr th {\n",
       "        text-align: left;\n",
       "    }\n",
       "\n",
       "    .dataframe thead tr:last-of-type th {\n",
       "        text-align: right;\n",
       "    }\n",
       "</style>\n",
       "<table border=\"1\" class=\"dataframe\">\n",
       "  <thead>\n",
       "    <tr>\n",
       "      <th></th>\n",
       "      <th colspan=\"8\" halign=\"left\">Height</th>\n",
       "      <th colspan=\"5\" halign=\"left\">Weight</th>\n",
       "      <th colspan=\"8\" halign=\"left\">Money</th>\n",
       "    </tr>\n",
       "    <tr>\n",
       "      <th></th>\n",
       "      <th>count</th>\n",
       "      <th>mean</th>\n",
       "      <th>std</th>\n",
       "      <th>min</th>\n",
       "      <th>25%</th>\n",
       "      <th>50%</th>\n",
       "      <th>75%</th>\n",
       "      <th>max</th>\n",
       "      <th>count</th>\n",
       "      <th>mean</th>\n",
       "      <th>...</th>\n",
       "      <th>75%</th>\n",
       "      <th>max</th>\n",
       "      <th>count</th>\n",
       "      <th>mean</th>\n",
       "      <th>std</th>\n",
       "      <th>min</th>\n",
       "      <th>25%</th>\n",
       "      <th>50%</th>\n",
       "      <th>75%</th>\n",
       "      <th>max</th>\n",
       "    </tr>\n",
       "    <tr>\n",
       "      <th>Gender</th>\n",
       "      <th></th>\n",
       "      <th></th>\n",
       "      <th></th>\n",
       "      <th></th>\n",
       "      <th></th>\n",
       "      <th></th>\n",
       "      <th></th>\n",
       "      <th></th>\n",
       "      <th></th>\n",
       "      <th></th>\n",
       "      <th></th>\n",
       "      <th></th>\n",
       "      <th></th>\n",
       "      <th></th>\n",
       "      <th></th>\n",
       "      <th></th>\n",
       "      <th></th>\n",
       "      <th></th>\n",
       "      <th></th>\n",
       "      <th></th>\n",
       "      <th></th>\n",
       "    </tr>\n",
       "  </thead>\n",
       "  <tbody>\n",
       "    <tr>\n",
       "      <th>Female</th>\n",
       "      <td>5000.0</td>\n",
       "      <td>63.708774</td>\n",
       "      <td>2.696284</td>\n",
       "      <td>54.263133</td>\n",
       "      <td>61.894441</td>\n",
       "      <td>63.730924</td>\n",
       "      <td>65.563565</td>\n",
       "      <td>73.389586</td>\n",
       "      <td>5000.0</td>\n",
       "      <td>135.860093</td>\n",
       "      <td>...</td>\n",
       "      <td>148.810926</td>\n",
       "      <td>202.237214</td>\n",
       "      <td>5000.0</td>\n",
       "      <td>751.959852</td>\n",
       "      <td>860.718215</td>\n",
       "      <td>4.194596e-03</td>\n",
       "      <td>162.499271</td>\n",
       "      <td>453.032412</td>\n",
       "      <td>1015.017353</td>\n",
       "      <td>7347.139257</td>\n",
       "    </tr>\n",
       "    <tr>\n",
       "      <th>Male</th>\n",
       "      <td>5000.0</td>\n",
       "      <td>69.026346</td>\n",
       "      <td>2.863362</td>\n",
       "      <td>58.406905</td>\n",
       "      <td>67.174679</td>\n",
       "      <td>69.027709</td>\n",
       "      <td>70.988744</td>\n",
       "      <td>78.998742</td>\n",
       "      <td>5000.0</td>\n",
       "      <td>187.020621</td>\n",
       "      <td>...</td>\n",
       "      <td>200.357802</td>\n",
       "      <td>269.989699</td>\n",
       "      <td>5000.0</td>\n",
       "      <td>510.353076</td>\n",
       "      <td>727.686958</td>\n",
       "      <td>1.735664e-07</td>\n",
       "      <td>48.648924</td>\n",
       "      <td>232.012273</td>\n",
       "      <td>667.073116</td>\n",
       "      <td>8168.216190</td>\n",
       "    </tr>\n",
       "  </tbody>\n",
       "</table>\n",
       "<p>2 rows × 24 columns</p>\n",
       "</div>"
      ],
      "text/plain": [
       "        Height                                                        \\\n",
       "         count       mean       std        min        25%        50%   \n",
       "Gender                                                                 \n",
       "Female  5000.0  63.708774  2.696284  54.263133  61.894441  63.730924   \n",
       "Male    5000.0  69.026346  2.863362  58.406905  67.174679  69.027709   \n",
       "\n",
       "                              Weight              ...                          \\\n",
       "              75%        max   count        mean  ...         75%         max   \n",
       "Gender                                            ...                           \n",
       "Female  65.563565  73.389586  5000.0  135.860093  ...  148.810926  202.237214   \n",
       "Male    70.988744  78.998742  5000.0  187.020621  ...  200.357802  269.989699   \n",
       "\n",
       "         Money                                                                \\\n",
       "         count        mean         std           min         25%         50%   \n",
       "Gender                                                                         \n",
       "Female  5000.0  751.959852  860.718215  4.194596e-03  162.499271  453.032412   \n",
       "Male    5000.0  510.353076  727.686958  1.735664e-07   48.648924  232.012273   \n",
       "\n",
       "                                  \n",
       "                75%          max  \n",
       "Gender                            \n",
       "Female  1015.017353  7347.139257  \n",
       "Male     667.073116  8168.216190  \n",
       "\n",
       "[2 rows x 24 columns]"
      ]
     },
     "execution_count": 40,
     "metadata": {},
     "output_type": "execute_result"
    }
   ],
   "source": [
    "gender_groupby.describe()"
   ]
  },
  {
   "cell_type": "markdown",
   "metadata": {
    "colab_type": "text",
    "id": "rdqDmgC36_Yl"
   },
   "source": [
    "The results above should give you some insights of the effect of gender on your dataset both visually and numerically."
   ]
  },
  {
   "cell_type": "markdown",
   "metadata": {
    "colab_type": "text",
    "id": "rcOvujkn6_Ym"
   },
   "source": [
    "## Distribution plots"
   ]
  },
  {
   "cell_type": "markdown",
   "metadata": {
    "colab_type": "text",
    "id": "3JUuAPkq6_Ym"
   },
   "source": [
    "### Verifying the distribution of your variables for each Gender.\n",
    "\n",
    "We have seen that each variable in our dataset has its own \"DNA\". This is the distribution of each variable. However, the story does not stop there. Each variable has peculiarities within it and it is our job as data analyst to discover it. We'll see futurely that what `machine learning models` mostly do for us is automate this process (if we understand them, of course) \n",
    "\n",
    "In this case, specifically, we want to understand the effect of our `Gender` variable on the distribution of our dataset.\n"
   ]
  },
  {
   "cell_type": "markdown",
   "metadata": {
    "colab_type": "text",
    "id": "7VbGftCN6_Ym"
   },
   "source": [
    "### First, plot the distribution of the `Height` variable again."
   ]
  },
  {
   "cell_type": "code",
   "execution_count": 49,
   "metadata": {
    "ExecuteTime": {
     "end_time": "2020-09-16T20:49:45.601796Z",
     "start_time": "2020-09-16T20:49:45.489132Z"
    },
    "colab": {},
    "colab_type": "code",
    "id": "agy8521H6_Yn"
   },
   "outputs": [
    {
     "data": {
      "image/png": "[encoded data removed]",
      "text/plain": [
       "<Figure size 432x288 with 1 Axes>"
      ]
     },
     "metadata": {
      "needs_background": "light"
     },
     "output_type": "display_data"
    }
   ],
   "source": [
    "# your answer here\n",
    "\n",
    "# Distribution for the variable \"Height\"\n",
    "sns.distplot(height, hist=False);"
   ]
  },
  {
   "cell_type": "markdown",
   "metadata": {
    "colab_type": "text",
    "id": "iHH6KpQr6_Yp"
   },
   "source": [
    "### Now, filter your dataset for each gender. Create a dataframe called `men` and another called `women` and plot the `Height` distribution for each of them in the same plot."
   ]
  },
  {
   "cell_type": "code",
   "execution_count": 58,
   "metadata": {
    "ExecuteTime": {
     "end_time": "2020-09-16T20:59:26.824595Z",
     "start_time": "2020-09-16T20:59:26.600160Z"
    },
    "colab": {},
    "colab_type": "code",
    "id": "gS71p7-K6_Yp"
   },
   "outputs": [
    {
     "data": {
      "image/png": "[encoded data removed]",
      "text/plain": [
       "<Figure size 1440x576 with 2 Axes>"
      ]
     },
     "metadata": {
      "needs_background": "light"
     },
     "output_type": "display_data"
    }
   ],
   "source": [
    "# your answer here\n",
    "\n",
    "# Filter the dataframe\n",
    "men = df[df.Gender == 'Male']\n",
    "women = df[df.Gender == 'Female']\n",
    "\n",
    "# Distribution of the variable \"Height\" by \"Gender\"\n",
    "fig, axes = plt.subplots(nrows=1, ncols=2, figsize=(20,8), sharey=True)\n",
    "\n",
    "## Create the distributions\n",
    "sns.distplot(men.Height, ax=axes[0], hist=False)\n",
    "sns.distplot(women.Height, ax=axes[1], hist=False, color='orange')\n",
    "\n",
    "## Add title to each axis\n",
    "axes[0].set_title('Men')\n",
    "axes[1].set_title('Women')\n",
    "\n",
    "## Add a title\n",
    "plt.suptitle('Distribution of Height');"
   ]
  },
  {
   "cell_type": "markdown",
   "metadata": {
    "colab_type": "text",
    "id": "cagOUAyG6_Yr"
   },
   "source": [
    "### What insights could you observe from that? What is the impact of `Gender` on `Height`"
   ]
  },
  {
   "cell_type": "code",
   "execution_count": 0,
   "metadata": {
    "colab": {},
    "colab_type": "code",
    "id": "i5H3RXJr6_Yr"
   },
   "outputs": [],
   "source": []
  },
  {
   "cell_type": "markdown",
   "metadata": {
    "colab_type": "text",
    "id": "D9_EoGmV6_Yt"
   },
   "source": [
    "**Extra Note:** The issue: https://github.com/mwaskom/seaborn/issues/861 has a discussion of why distplot doesn't have a `hue` argument and how to overcome it (look for FacetGrid)"
   ]
  },
  {
   "cell_type": "markdown",
   "metadata": {
    "colab_type": "text",
    "id": "qGNDPX3l6_Yt"
   },
   "source": [
    "Try to do the same for the `Money` variable. What is the impact of `Gender` on `Money` ?\n",
    "\n",
    "_Hint: for the Money variable, try specifying `hist=False`_\n"
   ]
  },
  {
   "cell_type": "code",
   "execution_count": 0,
   "metadata": {
    "colab": {},
    "colab_type": "code",
    "id": "ZZXIuhlb6_Yu"
   },
   "outputs": [],
   "source": []
  },
  {
   "cell_type": "markdown",
   "metadata": {
    "colab_type": "text",
    "id": "OKn0Zyrc6_Yw"
   },
   "source": [
    "## Boxplot "
   ]
  },
  {
   "cell_type": "markdown",
   "metadata": {
    "colab_type": "text",
    "id": "8Em89WIn6_Yw"
   },
   "source": [
    "### Gender vs Height\n",
    "\n",
    "Plot the boxplot considering the x-axis as `Gender` and y-axis as `Height`"
   ]
  },
  {
   "cell_type": "code",
   "execution_count": 0,
   "metadata": {
    "colab": {},
    "colab_type": "code",
    "id": "gw4HbUh36_Yx"
   },
   "outputs": [],
   "source": [
    "plt.figure(figsize=(12, 8))\n",
    "\n"
   ]
  },
  {
   "cell_type": "markdown",
   "metadata": {
    "colab_type": "text",
    "id": "CSIGCqV66_Yy"
   },
   "source": [
    "### Gender vs Money"
   ]
  },
  {
   "cell_type": "code",
   "execution_count": 0,
   "metadata": {
    "colab": {},
    "colab_type": "code",
    "id": "weexLFSX6_Yz"
   },
   "outputs": [],
   "source": [
    "plt.figure(figsize=(12, 8))\n"
   ]
  },
  {
   "cell_type": "markdown",
   "metadata": {
    "colab_type": "text",
    "id": "GLOqMlrT6_Y0"
   },
   "source": [
    "From the conclusions of the previous exercises, did you expect the bloxplots to be like the ones above?"
   ]
  },
  {
   "cell_type": "code",
   "execution_count": 0,
   "metadata": {
    "ExecuteTime": {
     "end_time": "2020-04-06T04:58:29.670900Z",
     "start_time": "2020-04-06T04:58:29.666887Z"
    },
    "colab": {},
    "colab_type": "code",
    "id": "Xi7kF5v_6_Y1"
   },
   "outputs": [],
   "source": [
    "# your answer here"
   ]
  },
  {
   "cell_type": "markdown",
   "metadata": {
    "colab_type": "text",
    "id": "HNT8LjTI6_Y3"
   },
   "source": [
    "### Multivariate Analysis"
   ]
  },
  {
   "cell_type": "markdown",
   "metadata": {
    "colab_type": "text",
    "id": "_affOA406_Y3"
   },
   "source": [
    "Use `sns.pairplot` to see some combinations obtained so far. Use `hue = 'Gender`. \n",
    "\n",
    "Note that in a real problem, pairplot starts to get messy since there can be countless number of variables in a dataset. Use it wisely.\n",
    "\n",
    "Usually people only plot this graph and don't take any conclusions from it. Don't fall into that trap. "
   ]
  },
  {
   "cell_type": "code",
   "execution_count": 0,
   "metadata": {
    "colab": {},
    "colab_type": "code",
    "id": "LxvLM7Vf6_Y3"
   },
   "outputs": [],
   "source": []
  },
  {
   "cell_type": "code",
   "execution_count": 0,
   "metadata": {
    "colab": {},
    "colab_type": "code",
    "id": "9Oz73LT46_Y5"
   },
   "outputs": [],
   "source": []
  }
 ],
 "metadata": {
  "colab": {
   "collapsed_sections": [],
   "name": "main.ipynb",
   "provenance": []
  },
  "hide_input": false,
  "kernelspec": {
   "display_name": "Python 3",
   "language": "python",
   "name": "python3"
  },
  "language_info": {
   "codemirror_mode": {
    "name": "ipython",
    "version": 3
   },
   "file_extension": ".py",
   "mimetype": "text/x-python",
   "name": "python",
   "nbconvert_exporter": "python",
   "pygments_lexer": "ipython3",
   "version": "3.8.3"
  },
  "toc": {
   "base_numbering": 1,
   "nav_menu": {},
   "number_sections": true,
   "sideBar": true,
   "skip_h1_title": false,
   "title_cell": "Table of Contents",
   "title_sidebar": "Contents",
   "toc_cell": false,
   "toc_position": {},
   "toc_section_display": true,
   "toc_window_display": true
  },
  "varInspector": {
   "cols": {
    "lenName": 16,
    "lenType": 16,
    "lenVar": 40
   },
   "kernels_config": {
    "python": {
     "delete_cmd_postfix": "",
     "delete_cmd_prefix": "del ",
     "library": "var_list.py",
     "varRefreshCmd": "print(var_dic_list())"
    },
    "r": {
     "delete_cmd_postfix": ") ",
     "delete_cmd_prefix": "rm(",
     "library": "var_list.r",
     "varRefreshCmd": "cat(var_dic_list()) "
    }
   },
   "types_to_exclude": [
    "module",
    "function",
    "builtin_function_or_method",
    "instance",
    "_Feature"
   ],
   "window_display": false
  }
 },
 "nbformat": 4,
 "nbformat_minor": 1
}
