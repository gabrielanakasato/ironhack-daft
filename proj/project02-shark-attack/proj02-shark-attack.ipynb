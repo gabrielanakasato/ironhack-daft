{
 "cells": [
  {
   "cell_type": "markdown",
   "metadata": {},
   "source": [
    "![Ironhack logo](https://i.imgur.com/1QgrNNw.png)"
   ]
  },
  {
   "cell_type": "markdown",
   "metadata": {},
   "source": [
    "<body>\n",
    "    <p style=\"font-size:28px;text-align:center\"><b>Project 02 | Data Cleaning & Manipulation</b></p>\n",
    "</body>"
   ]
  },
  {
   "cell_type": "markdown",
   "metadata": {},
   "source": [
    "# Introduction"
   ]
  },
  {
   "cell_type": "markdown",
   "metadata": {},
   "source": [
    "The objective of this project was to answer a problem statement, practicing data cleaning and manipulation.\n",
    "\n",
    "---\n",
    "\n",
    "<body>\n",
    "    <p style=\"font-size:20px\"><b>Problem Statement</b></p>\n",
    "</body>\n",
    "\n",
    "_What are the most common characteristics of people involved in shark incidents in the history?_\n",
    "\n",
    "---\n",
    "\n",
    "To answer this problem, the following characteristics will be analyzed:\n",
    "- Gender\n",
    "- Age\n",
    "- Activity"
   ]
  },
  {
   "cell_type": "markdown",
   "metadata": {},
   "source": [
    "# Setup"
   ]
  },
  {
   "cell_type": "markdown",
   "metadata": {},
   "source": [
    "## Import"
   ]
  },
  {
   "cell_type": "code",
   "execution_count": 1,
   "metadata": {
    "ExecuteTime": {
     "end_time": "2020-09-06T23:56:09.286152Z",
     "start_time": "2020-09-06T23:56:08.838724Z"
    }
   },
   "outputs": [],
   "source": [
    "import pandas as pd\n",
    "import numpy as np"
   ]
  },
  {
   "cell_type": "markdown",
   "metadata": {},
   "source": [
    "## Load the dataset"
   ]
  },
  {
   "cell_type": "code",
   "execution_count": 2,
   "metadata": {
    "ExecuteTime": {
     "end_time": "2020-09-06T23:56:09.940607Z",
     "start_time": "2020-09-06T23:56:09.287107Z"
    }
   },
   "outputs": [],
   "source": [
    "# Load the dataset from a Excel file into a Pandas DataFrame\n",
    "df = pd.read_excel('GSAF5.xls')"
   ]
  },
  {
   "cell_type": "code",
   "execution_count": 3,
   "metadata": {
    "ExecuteTime": {
     "end_time": "2020-09-06T23:56:09.973357Z",
     "start_time": "2020-09-06T23:56:09.941409Z"
    }
   },
   "outputs": [
    {
     "name": "stdout",
     "output_type": "stream",
     "text": [
      "<class 'pandas.core.frame.DataFrame'>\n",
      "RangeIndex: 25792 entries, 0 to 25791\n",
      "Data columns (total 24 columns):\n",
      " #   Column                  Non-Null Count  Dtype  \n",
      "---  ------                  --------------  -----  \n",
      " 0   Case Number             8771 non-null   object \n",
      " 1   Date                    6558 non-null   object \n",
      " 2   Year                    6556 non-null   float64\n",
      " 3   Type                    6552 non-null   object \n",
      " 4   Country                 6508 non-null   object \n",
      " 5   Area                    6091 non-null   object \n",
      " 6   Location                6008 non-null   object \n",
      " 7   Activity                6002 non-null   object \n",
      " 8   Name                    6343 non-null   object \n",
      " 9   Sex                     5987 non-null   object \n",
      " 10  Age                     3660 non-null   object \n",
      " 11  Injury                  6528 non-null   object \n",
      " 12  Fatal (Y/N)             6006 non-null   object \n",
      " 13  Time                    3139 non-null   object \n",
      " 14  Species                 3610 non-null   object \n",
      " 15  Investigator or Source  6541 non-null   object \n",
      " 16  pdf                     6557 non-null   object \n",
      " 17  href formula            6554 non-null   object \n",
      " 18  href                    6556 non-null   object \n",
      " 19  Case Number.1           6557 non-null   object \n",
      " 20  Case Number.2           6557 non-null   object \n",
      " 21  original order          6564 non-null   float64\n",
      " 22  Unnamed: 22             1 non-null      object \n",
      " 23  Unnamed: 23             2 non-null      object \n",
      "dtypes: float64(2), object(22)\n",
      "memory usage: 4.7+ MB\n"
     ]
    }
   ],
   "source": [
    "# Check information about the dataset\n",
    "df.info()"
   ]
  },
  {
   "cell_type": "markdown",
   "metadata": {},
   "source": [
    "### Conclusions about the dataset for cleaning purposes\n",
    "1. Seeing the information about the dataset, it is clear that there are a lot of rows that only contains missing values `NaN`.\n",
    "2. The columns 'Unnamed: 22' and 'Unnamed: 23' probably do not have any information since they have 1 and 2 non-null values, respectively."
   ]
  },
  {
   "cell_type": "markdown",
   "metadata": {},
   "source": [
    "## Create a backup version of the raw dataset"
   ]
  },
  {
   "cell_type": "code",
   "execution_count": 4,
   "metadata": {
    "ExecuteTime": {
     "end_time": "2020-09-06T23:56:09.985292Z",
     "start_time": "2020-09-06T23:56:09.975319Z"
    }
   },
   "outputs": [],
   "source": [
    "# Create a backup version\n",
    "df_raw_bkp = df.copy()"
   ]
  },
  {
   "cell_type": "markdown",
   "metadata": {},
   "source": [
    "# General Data Cleaning"
   ]
  },
  {
   "cell_type": "markdown",
   "metadata": {},
   "source": [
    "## Headers"
   ]
  },
  {
   "cell_type": "code",
   "execution_count": 5,
   "metadata": {
    "ExecuteTime": {
     "end_time": "2020-09-06T23:56:09.997293Z",
     "start_time": "2020-09-06T23:56:09.988294Z"
    }
   },
   "outputs": [
    {
     "data": {
      "text/plain": [
       "Index(['case_number', 'date', 'year', 'type', 'country', 'area', 'location',\n",
       "       'activity', 'name', 'sex', 'age', 'injury', 'fatal_(y/n)', 'time',\n",
       "       'species', 'investigator_or_source', 'pdf', 'href_formula', 'href',\n",
       "       'case_number.1', 'case_number.2', 'original_order', 'unnamed:_22',\n",
       "       'unnamed:_23'],\n",
       "      dtype='object')"
      ]
     },
     "execution_count": 5,
     "metadata": {},
     "output_type": "execute_result"
    }
   ],
   "source": [
    "# Remove unnecessary spaces, put everything in lower case and replace spaces with underscores\n",
    "df.columns = df.columns.str.strip().str.lower().str.replace(' ', '_')\n",
    "df.columns"
   ]
  },
  {
   "cell_type": "code",
   "execution_count": 6,
   "metadata": {
    "ExecuteTime": {
     "end_time": "2020-09-06T23:56:10.009264Z",
     "start_time": "2020-09-06T23:56:09.999255Z"
    }
   },
   "outputs": [
    {
     "data": {
      "text/plain": [
       "Index(['case_number', 'date', 'year', 'type', 'country', 'area', 'location',\n",
       "       'activity', 'name', 'sex', 'age', 'injury', 'fatal', 'time', 'species',\n",
       "       'investigator_or_source', 'pdf', 'href_formula', 'href',\n",
       "       'case_number.1', 'case_number.2', 'original_order', 'unnamed:_22',\n",
       "       'unnamed:_23'],\n",
       "      dtype='object')"
      ]
     },
     "execution_count": 6,
     "metadata": {},
     "output_type": "execute_result"
    }
   ],
   "source": [
    "# Rename the column 'fatal_(y/n)' to make it simpler\n",
    "df = df.rename(columns={'fatal_(y/n)': 'fatal'})\n",
    "df.columns"
   ]
  },
  {
   "cell_type": "markdown",
   "metadata": {},
   "source": [
    "## Columns that are not relevant to the analysis"
   ]
  },
  {
   "cell_type": "markdown",
   "metadata": {},
   "source": [
    "As mentioned above, the columns `unnamed:_22` and `unnamed:_23` probably do not have any relevant information, so they can be removed."
   ]
  },
  {
   "cell_type": "code",
   "execution_count": 7,
   "metadata": {
    "ExecuteTime": {
     "end_time": "2020-09-06T23:56:10.042175Z",
     "start_time": "2020-09-06T23:56:10.010224Z"
    }
   },
   "outputs": [
    {
     "data": {
      "text/html": [
       "<div>\n",
       "<style scoped>\n",
       "    .dataframe tbody tr th:only-of-type {\n",
       "        vertical-align: middle;\n",
       "    }\n",
       "\n",
       "    .dataframe tbody tr th {\n",
       "        vertical-align: top;\n",
       "    }\n",
       "\n",
       "    .dataframe thead th {\n",
       "        text-align: right;\n",
       "    }\n",
       "</style>\n",
       "<table border=\"1\" class=\"dataframe\">\n",
       "  <thead>\n",
       "    <tr style=\"text-align: right;\">\n",
       "      <th></th>\n",
       "      <th>case_number</th>\n",
       "      <th>date</th>\n",
       "      <th>year</th>\n",
       "      <th>type</th>\n",
       "      <th>country</th>\n",
       "      <th>area</th>\n",
       "      <th>location</th>\n",
       "      <th>activity</th>\n",
       "      <th>name</th>\n",
       "      <th>sex</th>\n",
       "      <th>...</th>\n",
       "      <th>fatal</th>\n",
       "      <th>time</th>\n",
       "      <th>species</th>\n",
       "      <th>investigator_or_source</th>\n",
       "      <th>pdf</th>\n",
       "      <th>href_formula</th>\n",
       "      <th>href</th>\n",
       "      <th>case_number.1</th>\n",
       "      <th>case_number.2</th>\n",
       "      <th>original_order</th>\n",
       "    </tr>\n",
       "  </thead>\n",
       "  <tbody>\n",
       "    <tr>\n",
       "      <th>0</th>\n",
       "      <td>2020.08.20</td>\n",
       "      <td>20-Aug-2020</td>\n",
       "      <td>2020.0</td>\n",
       "      <td>Unprovoked</td>\n",
       "      <td>USA</td>\n",
       "      <td>Florida</td>\n",
       "      <td>New Smyrna Beach, Volusia County</td>\n",
       "      <td>Boogie boarding</td>\n",
       "      <td>Carolina Jones</td>\n",
       "      <td>F</td>\n",
       "      <td>...</td>\n",
       "      <td>N</td>\n",
       "      <td>11h00</td>\n",
       "      <td>NaN</td>\n",
       "      <td>K. McMurray, TrackingSharks.com</td>\n",
       "      <td>2020.08.20-NSB.pdf</td>\n",
       "      <td>http://sharkattackfile.net/spreadsheets/pdf_di...</td>\n",
       "      <td>http://sharkattackfile.net/spreadsheets/pdf_di...</td>\n",
       "      <td>2020.08.20</td>\n",
       "      <td>2020.08.20</td>\n",
       "      <td>6559.0</td>\n",
       "    </tr>\n",
       "    <tr>\n",
       "      <th>1</th>\n",
       "      <td>2020.08.14</td>\n",
       "      <td>14-Aug-2020</td>\n",
       "      <td>2020.0</td>\n",
       "      <td>Unprovoked</td>\n",
       "      <td>AUSTRALIA</td>\n",
       "      <td>New South Wales</td>\n",
       "      <td>Shelly Beach, Port Macquarie</td>\n",
       "      <td>Surfing</td>\n",
       "      <td>Chantelle Doyle</td>\n",
       "      <td>F</td>\n",
       "      <td>...</td>\n",
       "      <td>N</td>\n",
       "      <td>09h30</td>\n",
       "      <td>White shark, 2-to 3m</td>\n",
       "      <td>B. Myatt, GSAF</td>\n",
       "      <td>2020.08.14-ShellyBeach.pdf</td>\n",
       "      <td>http://sharkattackfile.net/spreadsheets/pdf_di...</td>\n",
       "      <td>http://sharkattackfile.net/spreadsheets/pdf_di...</td>\n",
       "      <td>2020.08.14</td>\n",
       "      <td>2020.08.14</td>\n",
       "      <td>6558.0</td>\n",
       "    </tr>\n",
       "    <tr>\n",
       "      <th>2</th>\n",
       "      <td>2020.08.10</td>\n",
       "      <td>10-Aug-2020</td>\n",
       "      <td>2020.0</td>\n",
       "      <td>Provoked</td>\n",
       "      <td>USA</td>\n",
       "      <td>Florida</td>\n",
       "      <td>Off Gasparilla Island, Charlotte County</td>\n",
       "      <td>Fishing</td>\n",
       "      <td>male</td>\n",
       "      <td>M</td>\n",
       "      <td>...</td>\n",
       "      <td>N</td>\n",
       "      <td>16h00</td>\n",
       "      <td>Blacktip shark, 6'</td>\n",
       "      <td>K. McMurray, TrackingSharks.com</td>\n",
       "      <td>2020.08.10-Provoked.pdf</td>\n",
       "      <td>http://sharkattackfile.net/spreadsheets/pdf_di...</td>\n",
       "      <td>http://sharkattackfile.net/spreadsheets/pdf_di...</td>\n",
       "      <td>2020.08.10</td>\n",
       "      <td>2020.08.10</td>\n",
       "      <td>6557.0</td>\n",
       "    </tr>\n",
       "    <tr>\n",
       "      <th>3</th>\n",
       "      <td>2020.08.02</td>\n",
       "      <td>02-Aug-2020</td>\n",
       "      <td>2020.0</td>\n",
       "      <td>Unprovoked</td>\n",
       "      <td>USA</td>\n",
       "      <td>Virgin Islands</td>\n",
       "      <td>Candle Reef, St. Croix</td>\n",
       "      <td>Snorkeling</td>\n",
       "      <td>Melony Klein</td>\n",
       "      <td>F</td>\n",
       "      <td>...</td>\n",
       "      <td>N</td>\n",
       "      <td>14h00</td>\n",
       "      <td>Nurse shark, 5'</td>\n",
       "      <td>K. McMurray, TrackingSharks.com</td>\n",
       "      <td>2020.08.02-Klein.pdf</td>\n",
       "      <td>http://sharkattackfile.net/spreadsheets/pdf_di...</td>\n",
       "      <td>http://sharkattackfile.net/spreadsheets/pdf_di...</td>\n",
       "      <td>2020.08.02</td>\n",
       "      <td>2020.08.02</td>\n",
       "      <td>6556.0</td>\n",
       "    </tr>\n",
       "    <tr>\n",
       "      <th>4</th>\n",
       "      <td>2020.07.31.c</td>\n",
       "      <td>31-Jul-2020</td>\n",
       "      <td>2020.0</td>\n",
       "      <td>Unprovoked</td>\n",
       "      <td>USA</td>\n",
       "      <td>Florida</td>\n",
       "      <td>New Smyrna Beach, Volusia County</td>\n",
       "      <td>Surfing</td>\n",
       "      <td>Megan Tossi</td>\n",
       "      <td>F</td>\n",
       "      <td>...</td>\n",
       "      <td>N</td>\n",
       "      <td>17h00</td>\n",
       "      <td>NaN</td>\n",
       "      <td>K. McMurray, TrackingSharks.com</td>\n",
       "      <td>2020.07.31.c-Tossi..pdf</td>\n",
       "      <td>http://sharkattackfile.net/spreadsheets/pdf_di...</td>\n",
       "      <td>http://sharkattackfile.net/spreadsheets/pdf_di...</td>\n",
       "      <td>2020.07.31.c</td>\n",
       "      <td>2020.07.31.c</td>\n",
       "      <td>6555.0</td>\n",
       "    </tr>\n",
       "  </tbody>\n",
       "</table>\n",
       "<p>5 rows × 22 columns</p>\n",
       "</div>"
      ],
      "text/plain": [
       "    case_number         date    year        type    country             area  \\\n",
       "0    2020.08.20  20-Aug-2020  2020.0  Unprovoked        USA          Florida   \n",
       "1    2020.08.14  14-Aug-2020  2020.0  Unprovoked  AUSTRALIA  New South Wales   \n",
       "2    2020.08.10  10-Aug-2020  2020.0    Provoked        USA          Florida   \n",
       "3    2020.08.02  02-Aug-2020  2020.0  Unprovoked        USA   Virgin Islands   \n",
       "4  2020.07.31.c  31-Jul-2020  2020.0  Unprovoked        USA          Florida   \n",
       "\n",
       "                                  location         activity             name  \\\n",
       "0         New Smyrna Beach, Volusia County  Boogie boarding   Carolina Jones   \n",
       "1             Shelly Beach, Port Macquarie          Surfing  Chantelle Doyle   \n",
       "2  Off Gasparilla Island, Charlotte County          Fishing             male   \n",
       "3                   Candle Reef, St. Croix       Snorkeling     Melony Klein   \n",
       "4         New Smyrna Beach, Volusia County          Surfing      Megan Tossi   \n",
       "\n",
       "  sex  ... fatal   time               species  \\\n",
       "0   F  ...     N  11h00                   NaN   \n",
       "1   F  ...     N  09h30  White shark, 2-to 3m   \n",
       "2   M  ...     N  16h00    Blacktip shark, 6'   \n",
       "3   F  ...     N  14h00       Nurse shark, 5'   \n",
       "4   F  ...     N  17h00                   NaN   \n",
       "\n",
       "            investigator_or_source                         pdf  \\\n",
       "0  K. McMurray, TrackingSharks.com          2020.08.20-NSB.pdf   \n",
       "1                   B. Myatt, GSAF  2020.08.14-ShellyBeach.pdf   \n",
       "2  K. McMurray, TrackingSharks.com     2020.08.10-Provoked.pdf   \n",
       "3  K. McMurray, TrackingSharks.com        2020.08.02-Klein.pdf   \n",
       "4  K. McMurray, TrackingSharks.com     2020.07.31.c-Tossi..pdf   \n",
       "\n",
       "                                        href_formula  \\\n",
       "0  http://sharkattackfile.net/spreadsheets/pdf_di...   \n",
       "1  http://sharkattackfile.net/spreadsheets/pdf_di...   \n",
       "2  http://sharkattackfile.net/spreadsheets/pdf_di...   \n",
       "3  http://sharkattackfile.net/spreadsheets/pdf_di...   \n",
       "4  http://sharkattackfile.net/spreadsheets/pdf_di...   \n",
       "\n",
       "                                                href case_number.1  \\\n",
       "0  http://sharkattackfile.net/spreadsheets/pdf_di...    2020.08.20   \n",
       "1  http://sharkattackfile.net/spreadsheets/pdf_di...    2020.08.14   \n",
       "2  http://sharkattackfile.net/spreadsheets/pdf_di...    2020.08.10   \n",
       "3  http://sharkattackfile.net/spreadsheets/pdf_di...    2020.08.02   \n",
       "4  http://sharkattackfile.net/spreadsheets/pdf_di...  2020.07.31.c   \n",
       "\n",
       "  case_number.2 original_order  \n",
       "0    2020.08.20         6559.0  \n",
       "1    2020.08.14         6558.0  \n",
       "2    2020.08.10         6557.0  \n",
       "3    2020.08.02         6556.0  \n",
       "4  2020.07.31.c         6555.0  \n",
       "\n",
       "[5 rows x 22 columns]"
      ]
     },
     "execution_count": 7,
     "metadata": {},
     "output_type": "execute_result"
    }
   ],
   "source": [
    "# Remove the columns 'unnamed:_22' and 'unnamed:_23'\n",
    "df = df.drop(columns=['unnamed:_22', 'unnamed:_23'])\n",
    "\n",
    "# Check the result\n",
    "df.head()"
   ]
  },
  {
   "cell_type": "markdown",
   "metadata": {},
   "source": [
    "Checking the table above, it is clear that the columns `investigator_or_source`, `pdf`, `href_formula` and `href` will not be relevant to the analysis since they are just information about the source of each incident. Therefore, these columns can be removed."
   ]
  },
  {
   "cell_type": "code",
   "execution_count": 8,
   "metadata": {
    "ExecuteTime": {
     "end_time": "2020-09-06T23:56:10.065110Z",
     "start_time": "2020-09-06T23:56:10.043136Z"
    }
   },
   "outputs": [
    {
     "data": {
      "text/html": [
       "<div>\n",
       "<style scoped>\n",
       "    .dataframe tbody tr th:only-of-type {\n",
       "        vertical-align: middle;\n",
       "    }\n",
       "\n",
       "    .dataframe tbody tr th {\n",
       "        vertical-align: top;\n",
       "    }\n",
       "\n",
       "    .dataframe thead th {\n",
       "        text-align: right;\n",
       "    }\n",
       "</style>\n",
       "<table border=\"1\" class=\"dataframe\">\n",
       "  <thead>\n",
       "    <tr style=\"text-align: right;\">\n",
       "      <th></th>\n",
       "      <th>case_number</th>\n",
       "      <th>date</th>\n",
       "      <th>year</th>\n",
       "      <th>type</th>\n",
       "      <th>country</th>\n",
       "      <th>area</th>\n",
       "      <th>location</th>\n",
       "      <th>activity</th>\n",
       "      <th>name</th>\n",
       "      <th>sex</th>\n",
       "      <th>age</th>\n",
       "      <th>injury</th>\n",
       "      <th>fatal</th>\n",
       "      <th>time</th>\n",
       "      <th>species</th>\n",
       "      <th>case_number.1</th>\n",
       "      <th>case_number.2</th>\n",
       "      <th>original_order</th>\n",
       "    </tr>\n",
       "  </thead>\n",
       "  <tbody>\n",
       "    <tr>\n",
       "      <th>0</th>\n",
       "      <td>2020.08.20</td>\n",
       "      <td>20-Aug-2020</td>\n",
       "      <td>2020.0</td>\n",
       "      <td>Unprovoked</td>\n",
       "      <td>USA</td>\n",
       "      <td>Florida</td>\n",
       "      <td>New Smyrna Beach, Volusia County</td>\n",
       "      <td>Boogie boarding</td>\n",
       "      <td>Carolina Jones</td>\n",
       "      <td>F</td>\n",
       "      <td>50</td>\n",
       "      <td>Minor lacerations to left leg</td>\n",
       "      <td>N</td>\n",
       "      <td>11h00</td>\n",
       "      <td>NaN</td>\n",
       "      <td>2020.08.20</td>\n",
       "      <td>2020.08.20</td>\n",
       "      <td>6559.0</td>\n",
       "    </tr>\n",
       "    <tr>\n",
       "      <th>1</th>\n",
       "      <td>2020.08.14</td>\n",
       "      <td>14-Aug-2020</td>\n",
       "      <td>2020.0</td>\n",
       "      <td>Unprovoked</td>\n",
       "      <td>AUSTRALIA</td>\n",
       "      <td>New South Wales</td>\n",
       "      <td>Shelly Beach, Port Macquarie</td>\n",
       "      <td>Surfing</td>\n",
       "      <td>Chantelle Doyle</td>\n",
       "      <td>F</td>\n",
       "      <td>35</td>\n",
       "      <td>Lacerations to right calf and posterior thigh</td>\n",
       "      <td>N</td>\n",
       "      <td>09h30</td>\n",
       "      <td>White shark, 2-to 3m</td>\n",
       "      <td>2020.08.14</td>\n",
       "      <td>2020.08.14</td>\n",
       "      <td>6558.0</td>\n",
       "    </tr>\n",
       "    <tr>\n",
       "      <th>2</th>\n",
       "      <td>2020.08.10</td>\n",
       "      <td>10-Aug-2020</td>\n",
       "      <td>2020.0</td>\n",
       "      <td>Provoked</td>\n",
       "      <td>USA</td>\n",
       "      <td>Florida</td>\n",
       "      <td>Off Gasparilla Island, Charlotte County</td>\n",
       "      <td>Fishing</td>\n",
       "      <td>male</td>\n",
       "      <td>M</td>\n",
       "      <td>55</td>\n",
       "      <td>Injury to left forearm by hooked shark PROVOKE...</td>\n",
       "      <td>N</td>\n",
       "      <td>16h00</td>\n",
       "      <td>Blacktip shark, 6'</td>\n",
       "      <td>2020.08.10</td>\n",
       "      <td>2020.08.10</td>\n",
       "      <td>6557.0</td>\n",
       "    </tr>\n",
       "    <tr>\n",
       "      <th>3</th>\n",
       "      <td>2020.08.02</td>\n",
       "      <td>02-Aug-2020</td>\n",
       "      <td>2020.0</td>\n",
       "      <td>Unprovoked</td>\n",
       "      <td>USA</td>\n",
       "      <td>Virgin Islands</td>\n",
       "      <td>Candle Reef, St. Croix</td>\n",
       "      <td>Snorkeling</td>\n",
       "      <td>Melony Klein</td>\n",
       "      <td>F</td>\n",
       "      <td>NaN</td>\n",
       "      <td>Lacerations to hand and wrist</td>\n",
       "      <td>N</td>\n",
       "      <td>14h00</td>\n",
       "      <td>Nurse shark, 5'</td>\n",
       "      <td>2020.08.02</td>\n",
       "      <td>2020.08.02</td>\n",
       "      <td>6556.0</td>\n",
       "    </tr>\n",
       "    <tr>\n",
       "      <th>4</th>\n",
       "      <td>2020.07.31.c</td>\n",
       "      <td>31-Jul-2020</td>\n",
       "      <td>2020.0</td>\n",
       "      <td>Unprovoked</td>\n",
       "      <td>USA</td>\n",
       "      <td>Florida</td>\n",
       "      <td>New Smyrna Beach, Volusia County</td>\n",
       "      <td>Surfing</td>\n",
       "      <td>Megan Tossi</td>\n",
       "      <td>F</td>\n",
       "      <td>22</td>\n",
       "      <td>Lacerations to foot</td>\n",
       "      <td>N</td>\n",
       "      <td>17h00</td>\n",
       "      <td>NaN</td>\n",
       "      <td>2020.07.31.c</td>\n",
       "      <td>2020.07.31.c</td>\n",
       "      <td>6555.0</td>\n",
       "    </tr>\n",
       "  </tbody>\n",
       "</table>\n",
       "</div>"
      ],
      "text/plain": [
       "    case_number         date    year        type    country             area  \\\n",
       "0    2020.08.20  20-Aug-2020  2020.0  Unprovoked        USA          Florida   \n",
       "1    2020.08.14  14-Aug-2020  2020.0  Unprovoked  AUSTRALIA  New South Wales   \n",
       "2    2020.08.10  10-Aug-2020  2020.0    Provoked        USA          Florida   \n",
       "3    2020.08.02  02-Aug-2020  2020.0  Unprovoked        USA   Virgin Islands   \n",
       "4  2020.07.31.c  31-Jul-2020  2020.0  Unprovoked        USA          Florida   \n",
       "\n",
       "                                  location         activity             name  \\\n",
       "0         New Smyrna Beach, Volusia County  Boogie boarding   Carolina Jones   \n",
       "1             Shelly Beach, Port Macquarie          Surfing  Chantelle Doyle   \n",
       "2  Off Gasparilla Island, Charlotte County          Fishing             male   \n",
       "3                   Candle Reef, St. Croix       Snorkeling     Melony Klein   \n",
       "4         New Smyrna Beach, Volusia County          Surfing      Megan Tossi   \n",
       "\n",
       "  sex  age                                             injury fatal   time  \\\n",
       "0   F   50                      Minor lacerations to left leg     N  11h00   \n",
       "1   F   35      Lacerations to right calf and posterior thigh     N  09h30   \n",
       "2   M   55  Injury to left forearm by hooked shark PROVOKE...     N  16h00   \n",
       "3   F  NaN                      Lacerations to hand and wrist     N  14h00   \n",
       "4   F   22                               Lacerations to foot      N  17h00   \n",
       "\n",
       "                species case_number.1 case_number.2  original_order  \n",
       "0                   NaN    2020.08.20    2020.08.20          6559.0  \n",
       "1  White shark, 2-to 3m    2020.08.14    2020.08.14          6558.0  \n",
       "2    Blacktip shark, 6'    2020.08.10    2020.08.10          6557.0  \n",
       "3       Nurse shark, 5'    2020.08.02    2020.08.02          6556.0  \n",
       "4                   NaN  2020.07.31.c  2020.07.31.c          6555.0  "
      ]
     },
     "execution_count": 8,
     "metadata": {},
     "output_type": "execute_result"
    }
   ],
   "source": [
    "# Remove the columns 'nvestigator_or_source', 'pdf', 'href_formula' and 'href'\n",
    "df = df.drop(columns=['investigator_or_source', 'pdf', 'href_formula', 'href'])\n",
    "\n",
    "# Check the result\n",
    "df.head()"
   ]
  },
  {
   "cell_type": "markdown",
   "metadata": {},
   "source": [
    "The content of columns `case_number`, `case_number.1`, `case_number.2` and `original_order` is just a way to reference each case and is not relevant to the analysis. So, they will also be removed."
   ]
  },
  {
   "cell_type": "code",
   "execution_count": 9,
   "metadata": {
    "ExecuteTime": {
     "end_time": "2020-09-06T23:56:10.082049Z",
     "start_time": "2020-09-06T23:56:10.066074Z"
    }
   },
   "outputs": [
    {
     "data": {
      "text/html": [
       "<div>\n",
       "<style scoped>\n",
       "    .dataframe tbody tr th:only-of-type {\n",
       "        vertical-align: middle;\n",
       "    }\n",
       "\n",
       "    .dataframe tbody tr th {\n",
       "        vertical-align: top;\n",
       "    }\n",
       "\n",
       "    .dataframe thead th {\n",
       "        text-align: right;\n",
       "    }\n",
       "</style>\n",
       "<table border=\"1\" class=\"dataframe\">\n",
       "  <thead>\n",
       "    <tr style=\"text-align: right;\">\n",
       "      <th></th>\n",
       "      <th>date</th>\n",
       "      <th>year</th>\n",
       "      <th>type</th>\n",
       "      <th>country</th>\n",
       "      <th>area</th>\n",
       "      <th>location</th>\n",
       "      <th>activity</th>\n",
       "      <th>name</th>\n",
       "      <th>sex</th>\n",
       "      <th>age</th>\n",
       "      <th>injury</th>\n",
       "      <th>fatal</th>\n",
       "      <th>time</th>\n",
       "      <th>species</th>\n",
       "    </tr>\n",
       "  </thead>\n",
       "  <tbody>\n",
       "    <tr>\n",
       "      <th>0</th>\n",
       "      <td>20-Aug-2020</td>\n",
       "      <td>2020.0</td>\n",
       "      <td>Unprovoked</td>\n",
       "      <td>USA</td>\n",
       "      <td>Florida</td>\n",
       "      <td>New Smyrna Beach, Volusia County</td>\n",
       "      <td>Boogie boarding</td>\n",
       "      <td>Carolina Jones</td>\n",
       "      <td>F</td>\n",
       "      <td>50</td>\n",
       "      <td>Minor lacerations to left leg</td>\n",
       "      <td>N</td>\n",
       "      <td>11h00</td>\n",
       "      <td>NaN</td>\n",
       "    </tr>\n",
       "    <tr>\n",
       "      <th>1</th>\n",
       "      <td>14-Aug-2020</td>\n",
       "      <td>2020.0</td>\n",
       "      <td>Unprovoked</td>\n",
       "      <td>AUSTRALIA</td>\n",
       "      <td>New South Wales</td>\n",
       "      <td>Shelly Beach, Port Macquarie</td>\n",
       "      <td>Surfing</td>\n",
       "      <td>Chantelle Doyle</td>\n",
       "      <td>F</td>\n",
       "      <td>35</td>\n",
       "      <td>Lacerations to right calf and posterior thigh</td>\n",
       "      <td>N</td>\n",
       "      <td>09h30</td>\n",
       "      <td>White shark, 2-to 3m</td>\n",
       "    </tr>\n",
       "    <tr>\n",
       "      <th>2</th>\n",
       "      <td>10-Aug-2020</td>\n",
       "      <td>2020.0</td>\n",
       "      <td>Provoked</td>\n",
       "      <td>USA</td>\n",
       "      <td>Florida</td>\n",
       "      <td>Off Gasparilla Island, Charlotte County</td>\n",
       "      <td>Fishing</td>\n",
       "      <td>male</td>\n",
       "      <td>M</td>\n",
       "      <td>55</td>\n",
       "      <td>Injury to left forearm by hooked shark PROVOKE...</td>\n",
       "      <td>N</td>\n",
       "      <td>16h00</td>\n",
       "      <td>Blacktip shark, 6'</td>\n",
       "    </tr>\n",
       "    <tr>\n",
       "      <th>3</th>\n",
       "      <td>02-Aug-2020</td>\n",
       "      <td>2020.0</td>\n",
       "      <td>Unprovoked</td>\n",
       "      <td>USA</td>\n",
       "      <td>Virgin Islands</td>\n",
       "      <td>Candle Reef, St. Croix</td>\n",
       "      <td>Snorkeling</td>\n",
       "      <td>Melony Klein</td>\n",
       "      <td>F</td>\n",
       "      <td>NaN</td>\n",
       "      <td>Lacerations to hand and wrist</td>\n",
       "      <td>N</td>\n",
       "      <td>14h00</td>\n",
       "      <td>Nurse shark, 5'</td>\n",
       "    </tr>\n",
       "    <tr>\n",
       "      <th>4</th>\n",
       "      <td>31-Jul-2020</td>\n",
       "      <td>2020.0</td>\n",
       "      <td>Unprovoked</td>\n",
       "      <td>USA</td>\n",
       "      <td>Florida</td>\n",
       "      <td>New Smyrna Beach, Volusia County</td>\n",
       "      <td>Surfing</td>\n",
       "      <td>Megan Tossi</td>\n",
       "      <td>F</td>\n",
       "      <td>22</td>\n",
       "      <td>Lacerations to foot</td>\n",
       "      <td>N</td>\n",
       "      <td>17h00</td>\n",
       "      <td>NaN</td>\n",
       "    </tr>\n",
       "  </tbody>\n",
       "</table>\n",
       "</div>"
      ],
      "text/plain": [
       "          date    year        type    country             area  \\\n",
       "0  20-Aug-2020  2020.0  Unprovoked        USA          Florida   \n",
       "1  14-Aug-2020  2020.0  Unprovoked  AUSTRALIA  New South Wales   \n",
       "2  10-Aug-2020  2020.0    Provoked        USA          Florida   \n",
       "3  02-Aug-2020  2020.0  Unprovoked        USA   Virgin Islands   \n",
       "4  31-Jul-2020  2020.0  Unprovoked        USA          Florida   \n",
       "\n",
       "                                  location         activity             name  \\\n",
       "0         New Smyrna Beach, Volusia County  Boogie boarding   Carolina Jones   \n",
       "1             Shelly Beach, Port Macquarie          Surfing  Chantelle Doyle   \n",
       "2  Off Gasparilla Island, Charlotte County          Fishing             male   \n",
       "3                   Candle Reef, St. Croix       Snorkeling     Melony Klein   \n",
       "4         New Smyrna Beach, Volusia County          Surfing      Megan Tossi   \n",
       "\n",
       "  sex  age                                             injury fatal   time  \\\n",
       "0   F   50                      Minor lacerations to left leg     N  11h00   \n",
       "1   F   35      Lacerations to right calf and posterior thigh     N  09h30   \n",
       "2   M   55  Injury to left forearm by hooked shark PROVOKE...     N  16h00   \n",
       "3   F  NaN                      Lacerations to hand and wrist     N  14h00   \n",
       "4   F   22                               Lacerations to foot      N  17h00   \n",
       "\n",
       "                species  \n",
       "0                   NaN  \n",
       "1  White shark, 2-to 3m  \n",
       "2    Blacktip shark, 6'  \n",
       "3       Nurse shark, 5'  \n",
       "4                   NaN  "
      ]
     },
     "execution_count": 9,
     "metadata": {},
     "output_type": "execute_result"
    }
   ],
   "source": [
    "# Remove the columns 'case_number', 'case_number.1', 'case_number.2' and 'original_order'\n",
    "df = df.drop(columns=['case_number', 'case_number.1', 'case_number.2', 'original_order'])\n",
    "\n",
    "# Check the result\n",
    "df.head()"
   ]
  },
  {
   "cell_type": "markdown",
   "metadata": {},
   "source": [
    "After removing the unnecessary columns, the information about the new dataframe is shown below."
   ]
  },
  {
   "cell_type": "markdown",
   "metadata": {},
   "source": [
    "The column `name` is also irrelevant, since there will not be a specific analysis of each individual. So, this column can be removed."
   ]
  },
  {
   "cell_type": "code",
   "execution_count": 10,
   "metadata": {
    "ExecuteTime": {
     "end_time": "2020-09-06T23:56:10.100020Z",
     "start_time": "2020-09-06T23:56:10.083029Z"
    }
   },
   "outputs": [
    {
     "data": {
      "text/html": [
       "<div>\n",
       "<style scoped>\n",
       "    .dataframe tbody tr th:only-of-type {\n",
       "        vertical-align: middle;\n",
       "    }\n",
       "\n",
       "    .dataframe tbody tr th {\n",
       "        vertical-align: top;\n",
       "    }\n",
       "\n",
       "    .dataframe thead th {\n",
       "        text-align: right;\n",
       "    }\n",
       "</style>\n",
       "<table border=\"1\" class=\"dataframe\">\n",
       "  <thead>\n",
       "    <tr style=\"text-align: right;\">\n",
       "      <th></th>\n",
       "      <th>date</th>\n",
       "      <th>year</th>\n",
       "      <th>type</th>\n",
       "      <th>country</th>\n",
       "      <th>area</th>\n",
       "      <th>location</th>\n",
       "      <th>activity</th>\n",
       "      <th>sex</th>\n",
       "      <th>age</th>\n",
       "      <th>injury</th>\n",
       "      <th>fatal</th>\n",
       "      <th>time</th>\n",
       "      <th>species</th>\n",
       "    </tr>\n",
       "  </thead>\n",
       "  <tbody>\n",
       "    <tr>\n",
       "      <th>0</th>\n",
       "      <td>20-Aug-2020</td>\n",
       "      <td>2020.0</td>\n",
       "      <td>Unprovoked</td>\n",
       "      <td>USA</td>\n",
       "      <td>Florida</td>\n",
       "      <td>New Smyrna Beach, Volusia County</td>\n",
       "      <td>Boogie boarding</td>\n",
       "      <td>F</td>\n",
       "      <td>50</td>\n",
       "      <td>Minor lacerations to left leg</td>\n",
       "      <td>N</td>\n",
       "      <td>11h00</td>\n",
       "      <td>NaN</td>\n",
       "    </tr>\n",
       "    <tr>\n",
       "      <th>1</th>\n",
       "      <td>14-Aug-2020</td>\n",
       "      <td>2020.0</td>\n",
       "      <td>Unprovoked</td>\n",
       "      <td>AUSTRALIA</td>\n",
       "      <td>New South Wales</td>\n",
       "      <td>Shelly Beach, Port Macquarie</td>\n",
       "      <td>Surfing</td>\n",
       "      <td>F</td>\n",
       "      <td>35</td>\n",
       "      <td>Lacerations to right calf and posterior thigh</td>\n",
       "      <td>N</td>\n",
       "      <td>09h30</td>\n",
       "      <td>White shark, 2-to 3m</td>\n",
       "    </tr>\n",
       "    <tr>\n",
       "      <th>2</th>\n",
       "      <td>10-Aug-2020</td>\n",
       "      <td>2020.0</td>\n",
       "      <td>Provoked</td>\n",
       "      <td>USA</td>\n",
       "      <td>Florida</td>\n",
       "      <td>Off Gasparilla Island, Charlotte County</td>\n",
       "      <td>Fishing</td>\n",
       "      <td>M</td>\n",
       "      <td>55</td>\n",
       "      <td>Injury to left forearm by hooked shark PROVOKE...</td>\n",
       "      <td>N</td>\n",
       "      <td>16h00</td>\n",
       "      <td>Blacktip shark, 6'</td>\n",
       "    </tr>\n",
       "    <tr>\n",
       "      <th>3</th>\n",
       "      <td>02-Aug-2020</td>\n",
       "      <td>2020.0</td>\n",
       "      <td>Unprovoked</td>\n",
       "      <td>USA</td>\n",
       "      <td>Virgin Islands</td>\n",
       "      <td>Candle Reef, St. Croix</td>\n",
       "      <td>Snorkeling</td>\n",
       "      <td>F</td>\n",
       "      <td>NaN</td>\n",
       "      <td>Lacerations to hand and wrist</td>\n",
       "      <td>N</td>\n",
       "      <td>14h00</td>\n",
       "      <td>Nurse shark, 5'</td>\n",
       "    </tr>\n",
       "    <tr>\n",
       "      <th>4</th>\n",
       "      <td>31-Jul-2020</td>\n",
       "      <td>2020.0</td>\n",
       "      <td>Unprovoked</td>\n",
       "      <td>USA</td>\n",
       "      <td>Florida</td>\n",
       "      <td>New Smyrna Beach, Volusia County</td>\n",
       "      <td>Surfing</td>\n",
       "      <td>F</td>\n",
       "      <td>22</td>\n",
       "      <td>Lacerations to foot</td>\n",
       "      <td>N</td>\n",
       "      <td>17h00</td>\n",
       "      <td>NaN</td>\n",
       "    </tr>\n",
       "  </tbody>\n",
       "</table>\n",
       "</div>"
      ],
      "text/plain": [
       "          date    year        type    country             area  \\\n",
       "0  20-Aug-2020  2020.0  Unprovoked        USA          Florida   \n",
       "1  14-Aug-2020  2020.0  Unprovoked  AUSTRALIA  New South Wales   \n",
       "2  10-Aug-2020  2020.0    Provoked        USA          Florida   \n",
       "3  02-Aug-2020  2020.0  Unprovoked        USA   Virgin Islands   \n",
       "4  31-Jul-2020  2020.0  Unprovoked        USA          Florida   \n",
       "\n",
       "                                  location         activity sex  age  \\\n",
       "0         New Smyrna Beach, Volusia County  Boogie boarding   F   50   \n",
       "1             Shelly Beach, Port Macquarie          Surfing   F   35   \n",
       "2  Off Gasparilla Island, Charlotte County          Fishing   M   55   \n",
       "3                   Candle Reef, St. Croix       Snorkeling   F  NaN   \n",
       "4         New Smyrna Beach, Volusia County          Surfing   F   22   \n",
       "\n",
       "                                              injury fatal   time  \\\n",
       "0                      Minor lacerations to left leg     N  11h00   \n",
       "1      Lacerations to right calf and posterior thigh     N  09h30   \n",
       "2  Injury to left forearm by hooked shark PROVOKE...     N  16h00   \n",
       "3                      Lacerations to hand and wrist     N  14h00   \n",
       "4                               Lacerations to foot      N  17h00   \n",
       "\n",
       "                species  \n",
       "0                   NaN  \n",
       "1  White shark, 2-to 3m  \n",
       "2    Blacktip shark, 6'  \n",
       "3       Nurse shark, 5'  \n",
       "4                   NaN  "
      ]
     },
     "execution_count": 10,
     "metadata": {},
     "output_type": "execute_result"
    }
   ],
   "source": [
    "# Remove column 'name'\n",
    "df = df.drop(columns='name')\n",
    "\n",
    "# Check the result\n",
    "df.head()"
   ]
  },
  {
   "cell_type": "code",
   "execution_count": 11,
   "metadata": {
    "ExecuteTime": {
     "end_time": "2020-09-06T23:56:10.118969Z",
     "start_time": "2020-09-06T23:56:10.100984Z"
    }
   },
   "outputs": [
    {
     "name": "stdout",
     "output_type": "stream",
     "text": [
      "<class 'pandas.core.frame.DataFrame'>\n",
      "RangeIndex: 25792 entries, 0 to 25791\n",
      "Data columns (total 13 columns):\n",
      " #   Column    Non-Null Count  Dtype  \n",
      "---  ------    --------------  -----  \n",
      " 0   date      6558 non-null   object \n",
      " 1   year      6556 non-null   float64\n",
      " 2   type      6552 non-null   object \n",
      " 3   country   6508 non-null   object \n",
      " 4   area      6091 non-null   object \n",
      " 5   location  6008 non-null   object \n",
      " 6   activity  6002 non-null   object \n",
      " 7   sex       5987 non-null   object \n",
      " 8   age       3660 non-null   object \n",
      " 9   injury    6528 non-null   object \n",
      " 10  fatal     6006 non-null   object \n",
      " 11  time      3139 non-null   object \n",
      " 12  species   3610 non-null   object \n",
      "dtypes: float64(1), object(12)\n",
      "memory usage: 2.6+ MB\n"
     ]
    }
   ],
   "source": [
    "# Check information about the dataset\n",
    "df.info()"
   ]
  },
  {
   "cell_type": "markdown",
   "metadata": {},
   "source": [
    "## Rows"
   ]
  },
  {
   "cell_type": "markdown",
   "metadata": {},
   "source": [
    "### Rows containing only missing values"
   ]
  },
  {
   "cell_type": "markdown",
   "metadata": {},
   "source": [
    "There is total of 25792 lines, but all columns do not have even 9,000 rows with `non-NaN`. So,as mentioned before, there are a lot of rows that only contains missing values `NaN` and they can be removed. "
   ]
  },
  {
   "cell_type": "code",
   "execution_count": 12,
   "metadata": {
    "ExecuteTime": {
     "end_time": "2020-09-06T23:56:10.145862Z",
     "start_time": "2020-09-06T23:56:10.119931Z"
    }
   },
   "outputs": [
    {
     "name": "stdout",
     "output_type": "stream",
     "text": [
      "Number of rows after removing the rows containing only missing values: 6558\n",
      "\n",
      "<class 'pandas.core.frame.DataFrame'>\n",
      "Int64Index: 6558 entries, 0 to 6557\n",
      "Data columns (total 13 columns):\n",
      " #   Column    Non-Null Count  Dtype  \n",
      "---  ------    --------------  -----  \n",
      " 0   date      6558 non-null   object \n",
      " 1   year      6556 non-null   float64\n",
      " 2   type      6552 non-null   object \n",
      " 3   country   6508 non-null   object \n",
      " 4   area      6091 non-null   object \n",
      " 5   location  6008 non-null   object \n",
      " 6   activity  6002 non-null   object \n",
      " 7   sex       5987 non-null   object \n",
      " 8   age       3660 non-null   object \n",
      " 9   injury    6528 non-null   object \n",
      " 10  fatal     6006 non-null   object \n",
      " 11  time      3139 non-null   object \n",
      " 12  species   3610 non-null   object \n",
      "dtypes: float64(1), object(12)\n",
      "memory usage: 717.3+ KB\n"
     ]
    }
   ],
   "source": [
    "# Remove all rows that contains only NaN\n",
    "df = df.dropna(how='all')\n",
    "\n",
    "# Check the result\n",
    "print(f'Number of rows after removing the rows containing only missing values: {df.shape[0]}\\n')\n",
    "\n",
    "# Check information about the dataframe\n",
    "df.info()"
   ]
  },
  {
   "cell_type": "markdown",
   "metadata": {},
   "source": [
    "### Duplicate rows"
   ]
  },
  {
   "cell_type": "code",
   "execution_count": 13,
   "metadata": {
    "ExecuteTime": {
     "end_time": "2020-09-06T23:56:10.158879Z",
     "start_time": "2020-09-06T23:56:10.146859Z"
    }
   },
   "outputs": [
    {
     "data": {
      "text/plain": [
       "7"
      ]
     },
     "execution_count": 13,
     "metadata": {},
     "output_type": "execute_result"
    }
   ],
   "source": [
    "# Check if there are duplicate rows\n",
    "df.duplicated().sum()"
   ]
  },
  {
   "cell_type": "code",
   "execution_count": 14,
   "metadata": {
    "ExecuteTime": {
     "end_time": "2020-09-06T23:56:10.181330Z",
     "start_time": "2020-09-06T23:56:10.159824Z"
    }
   },
   "outputs": [
    {
     "data": {
      "text/html": [
       "<div>\n",
       "<style scoped>\n",
       "    .dataframe tbody tr th:only-of-type {\n",
       "        vertical-align: middle;\n",
       "    }\n",
       "\n",
       "    .dataframe tbody tr th {\n",
       "        vertical-align: top;\n",
       "    }\n",
       "\n",
       "    .dataframe thead th {\n",
       "        text-align: right;\n",
       "    }\n",
       "</style>\n",
       "<table border=\"1\" class=\"dataframe\">\n",
       "  <thead>\n",
       "    <tr style=\"text-align: right;\">\n",
       "      <th></th>\n",
       "      <th>date</th>\n",
       "      <th>year</th>\n",
       "      <th>type</th>\n",
       "      <th>country</th>\n",
       "      <th>area</th>\n",
       "      <th>location</th>\n",
       "      <th>activity</th>\n",
       "      <th>sex</th>\n",
       "      <th>age</th>\n",
       "      <th>injury</th>\n",
       "      <th>fatal</th>\n",
       "      <th>time</th>\n",
       "      <th>species</th>\n",
       "    </tr>\n",
       "  </thead>\n",
       "  <tbody>\n",
       "    <tr>\n",
       "      <th>3577</th>\n",
       "      <td>Reported 26-Jun-1972</td>\n",
       "      <td>1972.0</td>\n",
       "      <td>Unprovoked</td>\n",
       "      <td>AUSTRALIA</td>\n",
       "      <td>Queensland</td>\n",
       "      <td>Pancake Creek</td>\n",
       "      <td>NaN</td>\n",
       "      <td>M</td>\n",
       "      <td>NaN</td>\n",
       "      <td>FATAL</td>\n",
       "      <td>Y</td>\n",
       "      <td>NaN</td>\n",
       "      <td>NaN</td>\n",
       "    </tr>\n",
       "    <tr>\n",
       "      <th>3578</th>\n",
       "      <td>Reported 26-Jun-1972</td>\n",
       "      <td>1972.0</td>\n",
       "      <td>Unprovoked</td>\n",
       "      <td>AUSTRALIA</td>\n",
       "      <td>Queensland</td>\n",
       "      <td>Pancake Creek</td>\n",
       "      <td>NaN</td>\n",
       "      <td>M</td>\n",
       "      <td>NaN</td>\n",
       "      <td>FATAL</td>\n",
       "      <td>Y</td>\n",
       "      <td>NaN</td>\n",
       "      <td>NaN</td>\n",
       "    </tr>\n",
       "    <tr>\n",
       "      <th>3622</th>\n",
       "      <td>1971</td>\n",
       "      <td>1971.0</td>\n",
       "      <td>Unprovoked</td>\n",
       "      <td>IRAN</td>\n",
       "      <td>Khuzestan Province</td>\n",
       "      <td>Ahvaz, on the Karun River</td>\n",
       "      <td>NaN</td>\n",
       "      <td>M</td>\n",
       "      <td>NaN</td>\n",
       "      <td>Survived</td>\n",
       "      <td>N</td>\n",
       "      <td>NaN</td>\n",
       "      <td>NaN</td>\n",
       "    </tr>\n",
       "    <tr>\n",
       "      <th>3623</th>\n",
       "      <td>1971</td>\n",
       "      <td>1971.0</td>\n",
       "      <td>Unprovoked</td>\n",
       "      <td>IRAN</td>\n",
       "      <td>Khuzestan Province</td>\n",
       "      <td>Ahvaz, on the Karun River</td>\n",
       "      <td>NaN</td>\n",
       "      <td>M</td>\n",
       "      <td>NaN</td>\n",
       "      <td>Survived</td>\n",
       "      <td>N</td>\n",
       "      <td>NaN</td>\n",
       "      <td>NaN</td>\n",
       "    </tr>\n",
       "    <tr>\n",
       "      <th>4490</th>\n",
       "      <td>Aug-1956</td>\n",
       "      <td>1956.0</td>\n",
       "      <td>Provoked</td>\n",
       "      <td>UNITED KINGDOM</td>\n",
       "      <td>Cornwall</td>\n",
       "      <td>The Lizard</td>\n",
       "      <td>Attempting to kill a shark with explosives</td>\n",
       "      <td>M</td>\n",
       "      <td>NaN</td>\n",
       "      <td>FATAL, PROVOKED INCIDENT</td>\n",
       "      <td>Y</td>\n",
       "      <td>NaN</td>\n",
       "      <td>NaN</td>\n",
       "    </tr>\n",
       "    <tr>\n",
       "      <th>4491</th>\n",
       "      <td>Aug-1956</td>\n",
       "      <td>1956.0</td>\n",
       "      <td>Provoked</td>\n",
       "      <td>UNITED KINGDOM</td>\n",
       "      <td>Cornwall</td>\n",
       "      <td>The Lizard</td>\n",
       "      <td>Attempting to kill a shark with explosives</td>\n",
       "      <td>M</td>\n",
       "      <td>NaN</td>\n",
       "      <td>FATAL, PROVOKED INCIDENT</td>\n",
       "      <td>Y</td>\n",
       "      <td>NaN</td>\n",
       "      <td>NaN</td>\n",
       "    </tr>\n",
       "    <tr>\n",
       "      <th>4940</th>\n",
       "      <td>Fall 1943</td>\n",
       "      <td>1943.0</td>\n",
       "      <td>Unprovoked</td>\n",
       "      <td>USA</td>\n",
       "      <td>Hawaii</td>\n",
       "      <td>Midway Island, Northwestern Hawaiian Islands</td>\n",
       "      <td>Spearfishing</td>\n",
       "      <td>M</td>\n",
       "      <td>NaN</td>\n",
       "      <td>Calf nipped in each case</td>\n",
       "      <td>N</td>\n",
       "      <td>NaN</td>\n",
       "      <td>\"small sharks\"</td>\n",
       "    </tr>\n",
       "    <tr>\n",
       "      <th>4941</th>\n",
       "      <td>Fall 1943</td>\n",
       "      <td>1943.0</td>\n",
       "      <td>Unprovoked</td>\n",
       "      <td>USA</td>\n",
       "      <td>Hawaii</td>\n",
       "      <td>Midway Island, Northwestern Hawaiian Islands</td>\n",
       "      <td>Spearfishing</td>\n",
       "      <td>M</td>\n",
       "      <td>NaN</td>\n",
       "      <td>Calf nipped in each case</td>\n",
       "      <td>N</td>\n",
       "      <td>NaN</td>\n",
       "      <td>\"small sharks\"</td>\n",
       "    </tr>\n",
       "    <tr>\n",
       "      <th>5719</th>\n",
       "      <td>Reported 10-Oct-1906</td>\n",
       "      <td>1906.0</td>\n",
       "      <td>Unprovoked</td>\n",
       "      <td>USA</td>\n",
       "      <td>Hawaii</td>\n",
       "      <td>NaN</td>\n",
       "      <td>Swimming</td>\n",
       "      <td>M</td>\n",
       "      <td>NaN</td>\n",
       "      <td>FATAL</td>\n",
       "      <td>Y</td>\n",
       "      <td>NaN</td>\n",
       "      <td>NaN</td>\n",
       "    </tr>\n",
       "    <tr>\n",
       "      <th>5721</th>\n",
       "      <td>Reported 10-Oct-1906</td>\n",
       "      <td>1906.0</td>\n",
       "      <td>Unprovoked</td>\n",
       "      <td>USA</td>\n",
       "      <td>Hawaii</td>\n",
       "      <td>NaN</td>\n",
       "      <td>Swimming</td>\n",
       "      <td>M</td>\n",
       "      <td>NaN</td>\n",
       "      <td>FATAL</td>\n",
       "      <td>Y</td>\n",
       "      <td>NaN</td>\n",
       "      <td>NaN</td>\n",
       "    </tr>\n",
       "    <tr>\n",
       "      <th>5962</th>\n",
       "      <td>1890</td>\n",
       "      <td>1890.0</td>\n",
       "      <td>Unprovoked</td>\n",
       "      <td>INDIA</td>\n",
       "      <td>Tamil Nadu</td>\n",
       "      <td>Tuticorin</td>\n",
       "      <td>Diving</td>\n",
       "      <td>M</td>\n",
       "      <td>NaN</td>\n",
       "      <td>No details</td>\n",
       "      <td>UNKNOWN</td>\n",
       "      <td>NaN</td>\n",
       "      <td>NaN</td>\n",
       "    </tr>\n",
       "    <tr>\n",
       "      <th>5963</th>\n",
       "      <td>1890</td>\n",
       "      <td>1890.0</td>\n",
       "      <td>Unprovoked</td>\n",
       "      <td>INDIA</td>\n",
       "      <td>Tamil Nadu</td>\n",
       "      <td>Tuticorin</td>\n",
       "      <td>Diving</td>\n",
       "      <td>M</td>\n",
       "      <td>NaN</td>\n",
       "      <td>No details</td>\n",
       "      <td>UNKNOWN</td>\n",
       "      <td>NaN</td>\n",
       "      <td>NaN</td>\n",
       "    </tr>\n",
       "    <tr>\n",
       "      <th>6215</th>\n",
       "      <td>1863</td>\n",
       "      <td>1863.0</td>\n",
       "      <td>Unprovoked</td>\n",
       "      <td>CEYLON</td>\n",
       "      <td>NaN</td>\n",
       "      <td>NaN</td>\n",
       "      <td>Fell overboard</td>\n",
       "      <td>M</td>\n",
       "      <td>NaN</td>\n",
       "      <td>FATAL</td>\n",
       "      <td>Y</td>\n",
       "      <td>NaN</td>\n",
       "      <td>NaN</td>\n",
       "    </tr>\n",
       "    <tr>\n",
       "      <th>6216</th>\n",
       "      <td>1863</td>\n",
       "      <td>1863.0</td>\n",
       "      <td>Unprovoked</td>\n",
       "      <td>CEYLON</td>\n",
       "      <td>NaN</td>\n",
       "      <td>NaN</td>\n",
       "      <td>Fell overboard</td>\n",
       "      <td>M</td>\n",
       "      <td>NaN</td>\n",
       "      <td>FATAL</td>\n",
       "      <td>Y</td>\n",
       "      <td>NaN</td>\n",
       "      <td>NaN</td>\n",
       "    </tr>\n",
       "  </tbody>\n",
       "</table>\n",
       "</div>"
      ],
      "text/plain": [
       "                      date    year        type         country  \\\n",
       "3577  Reported 26-Jun-1972  1972.0  Unprovoked       AUSTRALIA   \n",
       "3578  Reported 26-Jun-1972  1972.0  Unprovoked       AUSTRALIA   \n",
       "3622                  1971  1971.0  Unprovoked            IRAN   \n",
       "3623                  1971  1971.0  Unprovoked            IRAN   \n",
       "4490              Aug-1956  1956.0    Provoked  UNITED KINGDOM   \n",
       "4491              Aug-1956  1956.0    Provoked  UNITED KINGDOM   \n",
       "4940             Fall 1943  1943.0  Unprovoked             USA   \n",
       "4941             Fall 1943  1943.0  Unprovoked             USA   \n",
       "5719  Reported 10-Oct-1906  1906.0  Unprovoked             USA   \n",
       "5721  Reported 10-Oct-1906  1906.0  Unprovoked             USA   \n",
       "5962                  1890  1890.0  Unprovoked           INDIA   \n",
       "5963                  1890  1890.0  Unprovoked           INDIA   \n",
       "6215                  1863  1863.0  Unprovoked          CEYLON   \n",
       "6216                  1863  1863.0  Unprovoked          CEYLON   \n",
       "\n",
       "                    area                                      location  \\\n",
       "3577          Queensland                                 Pancake Creek   \n",
       "3578          Queensland                                 Pancake Creek   \n",
       "3622  Khuzestan Province                     Ahvaz, on the Karun River   \n",
       "3623  Khuzestan Province                     Ahvaz, on the Karun River   \n",
       "4490            Cornwall                                    The Lizard   \n",
       "4491            Cornwall                                    The Lizard   \n",
       "4940              Hawaii  Midway Island, Northwestern Hawaiian Islands   \n",
       "4941              Hawaii  Midway Island, Northwestern Hawaiian Islands   \n",
       "5719              Hawaii                                           NaN   \n",
       "5721              Hawaii                                           NaN   \n",
       "5962          Tamil Nadu                                     Tuticorin   \n",
       "5963          Tamil Nadu                                     Tuticorin   \n",
       "6215                 NaN                                           NaN   \n",
       "6216                 NaN                                           NaN   \n",
       "\n",
       "                                        activity sex  age  \\\n",
       "3577                                         NaN   M  NaN   \n",
       "3578                                         NaN   M  NaN   \n",
       "3622                                         NaN   M  NaN   \n",
       "3623                                         NaN   M  NaN   \n",
       "4490  Attempting to kill a shark with explosives   M  NaN   \n",
       "4491  Attempting to kill a shark with explosives   M  NaN   \n",
       "4940                                Spearfishing   M  NaN   \n",
       "4941                                Spearfishing   M  NaN   \n",
       "5719                                    Swimming   M  NaN   \n",
       "5721                                    Swimming   M  NaN   \n",
       "5962                                      Diving   M  NaN   \n",
       "5963                                      Diving   M  NaN   \n",
       "6215                              Fell overboard   M  NaN   \n",
       "6216                              Fell overboard   M  NaN   \n",
       "\n",
       "                        injury    fatal time         species  \n",
       "3577                     FATAL        Y  NaN             NaN  \n",
       "3578                     FATAL        Y  NaN             NaN  \n",
       "3622                  Survived        N  NaN             NaN  \n",
       "3623                  Survived        N  NaN             NaN  \n",
       "4490  FATAL, PROVOKED INCIDENT        Y  NaN             NaN  \n",
       "4491  FATAL, PROVOKED INCIDENT        Y  NaN             NaN  \n",
       "4940  Calf nipped in each case        N  NaN  \"small sharks\"  \n",
       "4941  Calf nipped in each case        N  NaN  \"small sharks\"  \n",
       "5719                     FATAL        Y  NaN             NaN  \n",
       "5721                     FATAL        Y  NaN             NaN  \n",
       "5962                No details  UNKNOWN  NaN             NaN  \n",
       "5963                No details  UNKNOWN  NaN             NaN  \n",
       "6215                     FATAL        Y  NaN             NaN  \n",
       "6216                     FATAL        Y  NaN             NaN  "
      ]
     },
     "execution_count": 14,
     "metadata": {},
     "output_type": "execute_result"
    }
   ],
   "source": [
    "# Check duplicated rows\n",
    "df[df.duplicated(keep=False)]"
   ]
  },
  {
   "cell_type": "markdown",
   "metadata": {},
   "source": [
    "As shown above, there are some rows that are duplicated. Therefore, they can be removed."
   ]
  },
  {
   "cell_type": "code",
   "execution_count": 15,
   "metadata": {
    "ExecuteTime": {
     "end_time": "2020-09-06T23:56:10.204247Z",
     "start_time": "2020-09-06T23:56:10.182272Z"
    }
   },
   "outputs": [
    {
     "data": {
      "text/plain": [
       "0"
      ]
     },
     "execution_count": 15,
     "metadata": {},
     "output_type": "execute_result"
    }
   ],
   "source": [
    "# Remove duplicated rows\n",
    "df = df.drop_duplicates(keep='first')\n",
    "\n",
    "# Check the result\n",
    "df.duplicated().sum()"
   ]
  },
  {
   "cell_type": "code",
   "execution_count": 16,
   "metadata": {
    "ExecuteTime": {
     "end_time": "2020-09-06T23:56:10.208240Z",
     "start_time": "2020-09-06T23:56:10.205210Z"
    }
   },
   "outputs": [
    {
     "name": "stdout",
     "output_type": "stream",
     "text": [
      "After removing the duplicates, the dataframe has 6551 rows.\n"
     ]
    }
   ],
   "source": [
    "# Check the new number of rows\n",
    "n_rows = df.shape[0]\n",
    "n_rows_initial = df.shape[0]\n",
    "print(f'After removing the duplicates, the dataframe has {n_rows} rows.')"
   ]
  },
  {
   "cell_type": "markdown",
   "metadata": {},
   "source": [
    "# Specific Data Cleaning & Manipulation - Columns"
   ]
  },
  {
   "cell_type": "markdown",
   "metadata": {},
   "source": [
    "## Gender"
   ]
  },
  {
   "cell_type": "markdown",
   "metadata": {},
   "source": [
    "The gender is represented by the column `sex`."
   ]
  },
  {
   "cell_type": "code",
   "execution_count": 17,
   "metadata": {
    "ExecuteTime": {
     "end_time": "2020-09-06T23:56:10.213223Z",
     "start_time": "2020-09-06T23:56:10.209200Z"
    }
   },
   "outputs": [
    {
     "name": "stdout",
     "output_type": "stream",
     "text": [
      "['F' 'M' nan 'M ' 'lli' 'M x 2' 'N' '.']\n"
     ]
    }
   ],
   "source": [
    "# Check the unique values in the column\n",
    "print(df.sex.unique())"
   ]
  },
  {
   "cell_type": "code",
   "execution_count": 18,
   "metadata": {
    "ExecuteTime": {
     "end_time": "2020-09-06T23:56:10.221204Z",
     "start_time": "2020-09-06T23:56:10.214187Z"
    }
   },
   "outputs": [
    {
     "data": {
      "text/plain": [
       "M        5280\n",
       "F         693\n",
       "NaN       571\n",
       "M           2\n",
       "N           2\n",
       "M x 2       1\n",
       "lli         1\n",
       ".           1\n",
       "Name: sex, dtype: int64"
      ]
     },
     "execution_count": 18,
     "metadata": {},
     "output_type": "execute_result"
    }
   ],
   "source": [
    "# Check the number of each value\n",
    "df.sex.value_counts(dropna=False)"
   ]
  },
  {
   "cell_type": "code",
   "execution_count": 19,
   "metadata": {
    "ExecuteTime": {
     "end_time": "2020-09-06T23:56:10.231161Z",
     "start_time": "2020-09-06T23:56:10.222164Z"
    }
   },
   "outputs": [
    {
     "data": {
      "text/plain": [
       "M        0.806289\n",
       "F        0.105785\n",
       "NaN      0.087162\n",
       "N        0.000305\n",
       "M x 2    0.000153\n",
       "lli      0.000153\n",
       ".        0.000153\n",
       "Name: sex, dtype: float64"
      ]
     },
     "execution_count": 19,
     "metadata": {},
     "output_type": "execute_result"
    }
   ],
   "source": [
    "# Remove unnecessary spaces in the values\n",
    "df.sex = df.sex.str.strip()\n",
    "\n",
    "# Check the result\n",
    "df.sex.value_counts(dropna=False) / n_rows"
   ]
  },
  {
   "cell_type": "code",
   "execution_count": 20,
   "metadata": {
    "ExecuteTime": {
     "end_time": "2020-09-06T23:56:10.250090Z",
     "start_time": "2020-09-06T23:56:10.234133Z"
    }
   },
   "outputs": [
    {
     "name": "stdout",
     "output_type": "stream",
     "text": [
      "They represent only 0.08% of the current dataframe.\n"
     ]
    },
    {
     "data": {
      "text/html": [
       "<div>\n",
       "<style scoped>\n",
       "    .dataframe tbody tr th:only-of-type {\n",
       "        vertical-align: middle;\n",
       "    }\n",
       "\n",
       "    .dataframe tbody tr th {\n",
       "        vertical-align: top;\n",
       "    }\n",
       "\n",
       "    .dataframe thead th {\n",
       "        text-align: right;\n",
       "    }\n",
       "</style>\n",
       "<table border=\"1\" class=\"dataframe\">\n",
       "  <thead>\n",
       "    <tr style=\"text-align: right;\">\n",
       "      <th></th>\n",
       "      <th>date</th>\n",
       "      <th>year</th>\n",
       "      <th>type</th>\n",
       "      <th>country</th>\n",
       "      <th>area</th>\n",
       "      <th>location</th>\n",
       "      <th>activity</th>\n",
       "      <th>sex</th>\n",
       "      <th>age</th>\n",
       "      <th>injury</th>\n",
       "      <th>fatal</th>\n",
       "      <th>time</th>\n",
       "      <th>species</th>\n",
       "    </tr>\n",
       "  </thead>\n",
       "  <tbody>\n",
       "    <tr>\n",
       "      <th>1867</th>\n",
       "      <td>11-Nov-2004</td>\n",
       "      <td>2004.0</td>\n",
       "      <td>Unprovoked</td>\n",
       "      <td>USA</td>\n",
       "      <td>California</td>\n",
       "      <td>Bunkers, Humboldt Bay, Eureka, Humboldt County</td>\n",
       "      <td>Surfing</td>\n",
       "      <td>lli</td>\n",
       "      <td>38</td>\n",
       "      <td>Lacerations to hand, knee &amp; thigh</td>\n",
       "      <td>N</td>\n",
       "      <td>13h30</td>\n",
       "      <td>5.5 m [18'] white shark</td>\n",
       "    </tr>\n",
       "    <tr>\n",
       "      <th>3205</th>\n",
       "      <td>23-Oct-1962</td>\n",
       "      <td>1982.0</td>\n",
       "      <td>Sea Disaster</td>\n",
       "      <td>USA</td>\n",
       "      <td>Carolina coast</td>\n",
       "      <td>NaN</td>\n",
       "      <td>Yacht Trashman capsized in storm</td>\n",
       "      <td>M x 2</td>\n",
       "      <td>NaN</td>\n",
       "      <td>FATAL</td>\n",
       "      <td>Y x 2</td>\n",
       "      <td>NaN</td>\n",
       "      <td>NaN</td>\n",
       "    </tr>\n",
       "    <tr>\n",
       "      <th>5191</th>\n",
       "      <td>11-Jul-1934</td>\n",
       "      <td>1934.0</td>\n",
       "      <td>Watercraft</td>\n",
       "      <td>AUSTRALIA</td>\n",
       "      <td>New South Wales</td>\n",
       "      <td>Cronulla</td>\n",
       "      <td>Fishing</td>\n",
       "      <td>N</td>\n",
       "      <td>NaN</td>\n",
       "      <td>No injury to occupants Sharks continually foll...</td>\n",
       "      <td>N</td>\n",
       "      <td>NaN</td>\n",
       "      <td>Blue pointer, 11'</td>\n",
       "    </tr>\n",
       "    <tr>\n",
       "      <th>5690</th>\n",
       "      <td>Reported 02-Jun-1908</td>\n",
       "      <td>1908.0</td>\n",
       "      <td>Sea Disaster</td>\n",
       "      <td>PAPUA NEW GUINEA</td>\n",
       "      <td>New Britain</td>\n",
       "      <td>Matupi</td>\n",
       "      <td>.</td>\n",
       "      <td>.</td>\n",
       "      <td>NaN</td>\n",
       "      <td>Remains of 3 humans recovered from shark, but ...</td>\n",
       "      <td>Y</td>\n",
       "      <td>NaN</td>\n",
       "      <td>Allegedly a 33-foot shark</td>\n",
       "    </tr>\n",
       "    <tr>\n",
       "      <th>6386</th>\n",
       "      <td>Reported 18-Dec-1801</td>\n",
       "      <td>1801.0</td>\n",
       "      <td>Provoked</td>\n",
       "      <td>NaN</td>\n",
       "      <td>NaN</td>\n",
       "      <td>NaN</td>\n",
       "      <td>Standing on landed shark's tail</td>\n",
       "      <td>N</td>\n",
       "      <td>NaN</td>\n",
       "      <td>FATAL, PROVOKED INCIDENT</td>\n",
       "      <td>Y</td>\n",
       "      <td>NaN</td>\n",
       "      <td>12' shark</td>\n",
       "    </tr>\n",
       "  </tbody>\n",
       "</table>\n",
       "</div>"
      ],
      "text/plain": [
       "                      date    year          type           country  \\\n",
       "1867           11-Nov-2004  2004.0    Unprovoked               USA   \n",
       "3205           23-Oct-1962  1982.0  Sea Disaster               USA   \n",
       "5191           11-Jul-1934  1934.0    Watercraft         AUSTRALIA   \n",
       "5690  Reported 02-Jun-1908  1908.0  Sea Disaster  PAPUA NEW GUINEA   \n",
       "6386  Reported 18-Dec-1801  1801.0      Provoked               NaN   \n",
       "\n",
       "                 area                                        location  \\\n",
       "1867       California  Bunkers, Humboldt Bay, Eureka, Humboldt County   \n",
       "3205   Carolina coast                                             NaN   \n",
       "5191  New South Wales                                        Cronulla   \n",
       "5690      New Britain                                          Matupi   \n",
       "6386              NaN                                             NaN   \n",
       "\n",
       "                              activity    sex  age  \\\n",
       "1867                           Surfing    lli   38   \n",
       "3205  Yacht Trashman capsized in storm  M x 2  NaN   \n",
       "5191                           Fishing      N  NaN   \n",
       "5690                                 .      .  NaN   \n",
       "6386   Standing on landed shark's tail      N  NaN   \n",
       "\n",
       "                                                 injury  fatal   time  \\\n",
       "1867                 Lacerations to hand, knee & thigh       N  13h30   \n",
       "3205                                              FATAL  Y x 2    NaN   \n",
       "5191  No injury to occupants Sharks continually foll...      N    NaN   \n",
       "5690  Remains of 3 humans recovered from shark, but ...      Y    NaN   \n",
       "6386                           FATAL, PROVOKED INCIDENT      Y    NaN   \n",
       "\n",
       "                        species  \n",
       "1867    5.5 m [18'] white shark  \n",
       "3205                        NaN  \n",
       "5191         Blue pointer, 11'   \n",
       "5690  Allegedly a 33-foot shark  \n",
       "6386                  12' shark  "
      ]
     },
     "execution_count": 20,
     "metadata": {},
     "output_type": "execute_result"
    }
   ],
   "source": [
    "# Check the rows with values that are not 'M', nor 'F', nor NaN\n",
    "print(f'They represent only {(len(df[(df.sex != \"M\") & (df.sex != \"F\") & (df.sex == df.sex)].index) / n_rows) * 100:.2f}',\n",
    "      f'% of the current dataframe.', sep='')\n",
    "df[(df.sex != 'M') & (df.sex != 'F') & (df.sex == df.sex)]"
   ]
  },
  {
   "cell_type": "markdown",
   "metadata": {},
   "source": [
    "Given the low percentage, they will not be considered in the analysis, in other other, they will be removed."
   ]
  },
  {
   "cell_type": "code",
   "execution_count": 21,
   "metadata": {
    "ExecuteTime": {
     "end_time": "2020-09-06T23:56:10.260063Z",
     "start_time": "2020-09-06T23:56:10.251088Z"
    }
   },
   "outputs": [
    {
     "name": "stdout",
     "output_type": "stream",
     "text": [
      "Before the removal, there was 6551 rows. After the removal, there is 6546 rows.\n"
     ]
    }
   ],
   "source": [
    "print(f'Before the removal, there was {n_rows} rows.', end=' ')\n",
    "\n",
    "# Remove the rows mentioned above\n",
    "df = df.drop(df[(df.sex != 'M') & (df.sex != 'F') & (df.sex == df.sex)].index)\n",
    "\n",
    "# Number of rows\n",
    "n_rows = df.shape[0]\n",
    "print(f'After the removal, there is {n_rows} rows.')"
   ]
  },
  {
   "cell_type": "code",
   "execution_count": 22,
   "metadata": {
    "ExecuteTime": {
     "end_time": "2020-09-06T23:56:10.277018Z",
     "start_time": "2020-09-06T23:56:10.261060Z"
    }
   },
   "outputs": [
    {
     "data": {
      "text/html": [
       "<div>\n",
       "<style scoped>\n",
       "    .dataframe tbody tr th:only-of-type {\n",
       "        vertical-align: middle;\n",
       "    }\n",
       "\n",
       "    .dataframe tbody tr th {\n",
       "        vertical-align: top;\n",
       "    }\n",
       "\n",
       "    .dataframe thead th {\n",
       "        text-align: right;\n",
       "    }\n",
       "</style>\n",
       "<table border=\"1\" class=\"dataframe\">\n",
       "  <thead>\n",
       "    <tr style=\"text-align: right;\">\n",
       "      <th></th>\n",
       "      <th>date</th>\n",
       "      <th>year</th>\n",
       "      <th>type</th>\n",
       "      <th>country</th>\n",
       "      <th>area</th>\n",
       "      <th>location</th>\n",
       "      <th>activity</th>\n",
       "      <th>sex</th>\n",
       "      <th>age</th>\n",
       "      <th>injury</th>\n",
       "      <th>fatal</th>\n",
       "      <th>time</th>\n",
       "      <th>species</th>\n",
       "    </tr>\n",
       "  </thead>\n",
       "  <tbody>\n",
       "    <tr>\n",
       "      <th>8</th>\n",
       "      <td>29-Jul-2020</td>\n",
       "      <td>2020.0</td>\n",
       "      <td>Watercraft</td>\n",
       "      <td>AUSTRALIA</td>\n",
       "      <td>Tasmania</td>\n",
       "      <td>Tenth Island</td>\n",
       "      <td>Sightseeing</td>\n",
       "      <td>NaN</td>\n",
       "      <td>NaN</td>\n",
       "      <td>No injury to occupants, injury to shark attemp...</td>\n",
       "      <td>NaN</td>\n",
       "      <td>09h08</td>\n",
       "      <td>White shark, 4m</td>\n",
       "    </tr>\n",
       "    <tr>\n",
       "      <th>22</th>\n",
       "      <td>20-Jun-2020</td>\n",
       "      <td>2020.0</td>\n",
       "      <td>Unprovoked</td>\n",
       "      <td>BAHAMAS</td>\n",
       "      <td>Exumas</td>\n",
       "      <td>Pig Beach, Pig Island</td>\n",
       "      <td>NaN</td>\n",
       "      <td>NaN</td>\n",
       "      <td>NaN</td>\n",
       "      <td>NaN</td>\n",
       "      <td>N</td>\n",
       "      <td>NaN</td>\n",
       "      <td>NaN</td>\n",
       "    </tr>\n",
       "    <tr>\n",
       "      <th>32</th>\n",
       "      <td>17 May 2020</td>\n",
       "      <td>2020.0</td>\n",
       "      <td>Unprovoked</td>\n",
       "      <td>FRENCH POLYNESIA</td>\n",
       "      <td>Tahiti</td>\n",
       "      <td>Vallée Blanche</td>\n",
       "      <td>Snorkeling</td>\n",
       "      <td>NaN</td>\n",
       "      <td>NaN</td>\n",
       "      <td>Leg bitten</td>\n",
       "      <td>N</td>\n",
       "      <td>NaN</td>\n",
       "      <td>Blacktip shark</td>\n",
       "    </tr>\n",
       "    <tr>\n",
       "      <th>48</th>\n",
       "      <td>05-Feb-2020</td>\n",
       "      <td>2020.0</td>\n",
       "      <td>Unprovoked</td>\n",
       "      <td>USA</td>\n",
       "      <td>Maui</td>\n",
       "      <td>NaN</td>\n",
       "      <td>Stand-Up Paddle boarding</td>\n",
       "      <td>NaN</td>\n",
       "      <td>NaN</td>\n",
       "      <td>No injury, but paddleboard bitten</td>\n",
       "      <td>N</td>\n",
       "      <td>09h40</td>\n",
       "      <td>Tiger shark</td>\n",
       "    </tr>\n",
       "    <tr>\n",
       "      <th>65</th>\n",
       "      <td>20-Dec-2019</td>\n",
       "      <td>2019.0</td>\n",
       "      <td>Provoked</td>\n",
       "      <td>AUSTRALIA</td>\n",
       "      <td>New South Wales</td>\n",
       "      <td>Shellharbour</td>\n",
       "      <td>Fishing</td>\n",
       "      <td>NaN</td>\n",
       "      <td>NaN</td>\n",
       "      <td>PROVOKED INCIDENT</td>\n",
       "      <td>NaN</td>\n",
       "      <td>NaN</td>\n",
       "      <td>White shark</td>\n",
       "    </tr>\n",
       "    <tr>\n",
       "      <th>...</th>\n",
       "      <td>...</td>\n",
       "      <td>...</td>\n",
       "      <td>...</td>\n",
       "      <td>...</td>\n",
       "      <td>...</td>\n",
       "      <td>...</td>\n",
       "      <td>...</td>\n",
       "      <td>...</td>\n",
       "      <td>...</td>\n",
       "      <td>...</td>\n",
       "      <td>...</td>\n",
       "      <td>...</td>\n",
       "      <td>...</td>\n",
       "    </tr>\n",
       "    <tr>\n",
       "      <th>6468</th>\n",
       "      <td>Before 2004</td>\n",
       "      <td>0.0</td>\n",
       "      <td>Watercraft</td>\n",
       "      <td>MOZAMBIQUE</td>\n",
       "      <td>Inhambane Province</td>\n",
       "      <td>Off Inhambane</td>\n",
       "      <td>Fishing</td>\n",
       "      <td>NaN</td>\n",
       "      <td>NaN</td>\n",
       "      <td>No injury to occupants, shark bumped boat</td>\n",
       "      <td>N</td>\n",
       "      <td>NaN</td>\n",
       "      <td>Whale shark</td>\n",
       "    </tr>\n",
       "    <tr>\n",
       "      <th>6493</th>\n",
       "      <td>No date, Before 1963</td>\n",
       "      <td>0.0</td>\n",
       "      <td>Unprovoked</td>\n",
       "      <td>SINGAPORE</td>\n",
       "      <td>NaN</td>\n",
       "      <td>Keppel Harbor,  2 miles from Singapore city ce...</td>\n",
       "      <td>Swimming</td>\n",
       "      <td>NaN</td>\n",
       "      <td>NaN</td>\n",
       "      <td>Recovered</td>\n",
       "      <td>N</td>\n",
       "      <td>NaN</td>\n",
       "      <td>NaN</td>\n",
       "    </tr>\n",
       "    <tr>\n",
       "      <th>6515</th>\n",
       "      <td>1941-1945</td>\n",
       "      <td>0.0</td>\n",
       "      <td>Sea Disaster</td>\n",
       "      <td>NaN</td>\n",
       "      <td>NaN</td>\n",
       "      <td>NaN</td>\n",
       "      <td>A group of survivors on a raft for 17-days</td>\n",
       "      <td>NaN</td>\n",
       "      <td>NaN</td>\n",
       "      <td>FATAL, shark leapt into raft and bit the man w...</td>\n",
       "      <td>Y</td>\n",
       "      <td>Late afternoon</td>\n",
       "      <td>1.2 m [4'] shark</td>\n",
       "    </tr>\n",
       "    <tr>\n",
       "      <th>6534</th>\n",
       "      <td>Between 1918 &amp; 1939</td>\n",
       "      <td>0.0</td>\n",
       "      <td>Unprovoked</td>\n",
       "      <td>REUNION</td>\n",
       "      <td>Saint-Denis</td>\n",
       "      <td>Barachois</td>\n",
       "      <td>Swimming</td>\n",
       "      <td>NaN</td>\n",
       "      <td>NaN</td>\n",
       "      <td>FATAL</td>\n",
       "      <td>Y</td>\n",
       "      <td>NaN</td>\n",
       "      <td>NaN</td>\n",
       "    </tr>\n",
       "    <tr>\n",
       "      <th>6543</th>\n",
       "      <td>Before 1917</td>\n",
       "      <td>0.0</td>\n",
       "      <td>Unprovoked</td>\n",
       "      <td>FIJI</td>\n",
       "      <td>Moala Island</td>\n",
       "      <td>NaN</td>\n",
       "      <td>Wreck of  large double sailing canoe</td>\n",
       "      <td>NaN</td>\n",
       "      <td>NaN</td>\n",
       "      <td>FATAL, 18 people  were killed by sharks, 2 sur...</td>\n",
       "      <td>Y</td>\n",
       "      <td>NaN</td>\n",
       "      <td>NaN</td>\n",
       "    </tr>\n",
       "  </tbody>\n",
       "</table>\n",
       "<p>571 rows × 13 columns</p>\n",
       "</div>"
      ],
      "text/plain": [
       "                      date    year          type           country  \\\n",
       "8              29-Jul-2020  2020.0    Watercraft         AUSTRALIA   \n",
       "22             20-Jun-2020  2020.0    Unprovoked           BAHAMAS   \n",
       "32             17 May 2020  2020.0    Unprovoked  FRENCH POLYNESIA   \n",
       "48             05-Feb-2020  2020.0    Unprovoked               USA   \n",
       "65             20-Dec-2019  2019.0      Provoked         AUSTRALIA   \n",
       "...                    ...     ...           ...               ...   \n",
       "6468           Before 2004     0.0    Watercraft        MOZAMBIQUE   \n",
       "6493  No date, Before 1963     0.0    Unprovoked         SINGAPORE   \n",
       "6515             1941-1945     0.0  Sea Disaster               NaN   \n",
       "6534   Between 1918 & 1939     0.0    Unprovoked           REUNION   \n",
       "6543           Before 1917     0.0    Unprovoked              FIJI   \n",
       "\n",
       "                    area                                           location  \\\n",
       "8               Tasmania                                       Tenth Island   \n",
       "22                Exumas                              Pig Beach, Pig Island   \n",
       "32                Tahiti                                     Vallée Blanche   \n",
       "48                  Maui                                                NaN   \n",
       "65       New South Wales                                       Shellharbour   \n",
       "...                  ...                                                ...   \n",
       "6468  Inhambane Province                                      Off Inhambane   \n",
       "6493                 NaN  Keppel Harbor,  2 miles from Singapore city ce...   \n",
       "6515                 NaN                                                NaN   \n",
       "6534         Saint-Denis                                          Barachois   \n",
       "6543        Moala Island                                                NaN   \n",
       "\n",
       "                                        activity  sex  age  \\\n",
       "8                                    Sightseeing  NaN  NaN   \n",
       "22                                           NaN  NaN  NaN   \n",
       "32                                    Snorkeling  NaN  NaN   \n",
       "48                      Stand-Up Paddle boarding  NaN  NaN   \n",
       "65                                       Fishing  NaN  NaN   \n",
       "...                                          ...  ...  ...   \n",
       "6468                                     Fishing  NaN  NaN   \n",
       "6493                                    Swimming  NaN  NaN   \n",
       "6515  A group of survivors on a raft for 17-days  NaN  NaN   \n",
       "6534                                    Swimming  NaN  NaN   \n",
       "6543        Wreck of  large double sailing canoe  NaN  NaN   \n",
       "\n",
       "                                                 injury fatal            time  \\\n",
       "8     No injury to occupants, injury to shark attemp...   NaN           09h08   \n",
       "22                                                  NaN     N             NaN   \n",
       "32                                           Leg bitten     N             NaN   \n",
       "48                    No injury, but paddleboard bitten     N           09h40   \n",
       "65                                    PROVOKED INCIDENT   NaN             NaN   \n",
       "...                                                 ...   ...             ...   \n",
       "6468          No injury to occupants, shark bumped boat     N             NaN   \n",
       "6493                                          Recovered     N             NaN   \n",
       "6515  FATAL, shark leapt into raft and bit the man w...     Y  Late afternoon   \n",
       "6534                                              FATAL     Y             NaN   \n",
       "6543  FATAL, 18 people  were killed by sharks, 2 sur...     Y             NaN   \n",
       "\n",
       "               species  \n",
       "8      White shark, 4m  \n",
       "22                 NaN  \n",
       "32      Blacktip shark  \n",
       "48         Tiger shark  \n",
       "65         White shark  \n",
       "...                ...  \n",
       "6468       Whale shark  \n",
       "6493               NaN  \n",
       "6515  1.2 m [4'] shark  \n",
       "6534               NaN  \n",
       "6543               NaN  \n",
       "\n",
       "[571 rows x 13 columns]"
      ]
     },
     "execution_count": 22,
     "metadata": {},
     "output_type": "execute_result"
    }
   ],
   "source": [
    "# Check rows with missing values in the 'sex' column\n",
    "df[df.sex.isna()]"
   ]
  },
  {
   "cell_type": "code",
   "execution_count": 23,
   "metadata": {
    "ExecuteTime": {
     "end_time": "2020-09-06T23:56:10.283002Z",
     "start_time": "2020-09-06T23:56:10.278015Z"
    }
   },
   "outputs": [
    {
     "data": {
      "text/plain": [
       "8.722884204094102"
      ]
     },
     "execution_count": 23,
     "metadata": {},
     "output_type": "execute_result"
    }
   ],
   "source": [
    "# Check % of missing values\n",
    "df.sex.isna().mean()*100"
   ]
  },
  {
   "cell_type": "markdown",
   "metadata": {},
   "source": [
    "For now, they will be remain in the dataframe, but they may be removed later."
   ]
  },
  {
   "cell_type": "markdown",
   "metadata": {},
   "source": [
    "## Age"
   ]
  },
  {
   "cell_type": "markdown",
   "metadata": {},
   "source": [
    "### Data Cleaning"
   ]
  },
  {
   "cell_type": "code",
   "execution_count": 24,
   "metadata": {
    "ExecuteTime": {
     "end_time": "2020-09-06T23:56:10.288986Z",
     "start_time": "2020-09-06T23:56:10.284000Z"
    },
    "scrolled": true
   },
   "outputs": [
    {
     "name": "stdout",
     "output_type": "stream",
     "text": [
      "There are 237 unique values in this column.\n",
      "\n",
      "[50 35 55 nan 22 14 28 38 4 63 23 11 12 10 29 15 36 7 16 30 60 18 9 26 57\n",
      " 'Teen' 24 59 13 75 21 '30s' 45 33 17 37 70 44 '28 & 22' 32 20 51\n",
      " '22, 57, 31' '60s' 40 49 \"20's\" 43 8 64 19 65 67 53 34 25 58 74 46 41 31\n",
      " '9 & 60' 48 '20s' 42 39 56 61 'a minor' 6 62 52 54 69 '40s' 3 82 73 68 47\n",
      " 66 72 27 71 '38' '39' '23' '32' '52' '68' '12' '18' '19' '43' '47' '6'\n",
      " '37' '9' '36' '10' '16' '13' '11' '17' '14' '30' '50' '29' '65' '63' '26'\n",
      " '71' '48' '70' '58' '18 months' '22' '41' '35' '57' '20' '24' '34' '15'\n",
      " '44' '53' '7' '40' '28' '33' '31' '45' '50s' '8' '51' '61' '42' '25'\n",
      " 'teen' '66' '21' '77' '46' '60' '74' '55' '27' '3' '56' '64' '28 & 26'\n",
      " '62' '5' '49' '54' '86' '59' '18 or 20' '12 or 13' '46 & 34'\n",
      " '28, 23 & 30' 'Teens' 77 '36 & 26' '8 or 10' 84 '\\xa0 ' ' ' '30 or 36'\n",
      " '6½' '21 & ?' '33 or 37' 'mid-30s' '23 & 20' 5 ' 30' '7      &    31'\n",
      " ' 28' '20?' \"60's\" '69' '32 & 30' '16 to 18' '87' '67' 'Elderly'\n",
      " 'mid-20s' 'Ca. 33' '74 ' '45 ' '21 or 26' '20 ' '>50' '18 to 22' 'adult'\n",
      " '9 & 12' '? & 19' '9 months' '25 to 35' '23 & 26' 1 '(adult)' '33 & 37'\n",
      " '25 or 28' '37, 67, 35, 27,  ? & 27' '21, 34,24 & 35' '30 & 32' '50 & 30'\n",
      " '17 & 35' 'X' '\"middle-age\"' '13 or 18' '34 & 19' '33 & 26'\n",
      " '2 to 3 months' '4' 'MAKE LINE GREEN' ' 43' '81' '\"young\"' '7 or 8' 78\n",
      " '17 & 16' 'F' 'Both 11' '9 or 10' 'young' '36 & 23' '  ' '78' 'A.M.'\n",
      " '?    &   14' '10 or 12' '31 or 33' '2½' '1' '13 or 14']\n"
     ]
    }
   ],
   "source": [
    "# Check the unique values in the column\n",
    "print(f'There are {len(list(df.age.unique()))} unique values in this column.\\n')\n",
    "print(df.age.unique())"
   ]
  },
  {
   "cell_type": "code",
   "execution_count": 25,
   "metadata": {
    "ExecuteTime": {
     "end_time": "2020-09-06T23:56:10.295967Z",
     "start_time": "2020-09-06T23:56:10.289984Z"
    }
   },
   "outputs": [
    {
     "data": {
      "text/plain": [
       "NaN                        2887\n",
       "16                           86\n",
       "19                           86\n",
       "17                           82\n",
       "18                           82\n",
       "                           ... \n",
       "17 & 35                       1\n",
       "2 to 3 months                 1\n",
       "X                             1\n",
       "37, 67, 35, 27,  ? & 27       1\n",
       "33 or 37                      1\n",
       "Name: age, Length: 237, dtype: int64"
      ]
     },
     "execution_count": 25,
     "metadata": {},
     "output_type": "execute_result"
    }
   ],
   "source": [
    "# Check the number of each value\n",
    "df.age.value_counts(dropna=False)"
   ]
  },
  {
   "cell_type": "code",
   "execution_count": 26,
   "metadata": {
    "ExecuteTime": {
     "end_time": "2020-09-06T23:56:10.303946Z",
     "start_time": "2020-09-06T23:56:10.296965Z"
    },
    "scrolled": true
   },
   "outputs": [
    {
     "data": {
      "text/plain": [
       "array(['50', '35', '55', nan, '22', '14', '28', '38', '4', '63', '23',\n",
       "       '11', '12', '10', '29', '15', '36', '7', '16', '30', '60', '18',\n",
       "       '9', '26', '57', 'Teen', '24', '59', '13', '75', '21', '30s', '45',\n",
       "       '33', '17', '37', '70', '44', '28 & 22', '32', '20', '51',\n",
       "       '22, 57, 31', '60s', '40', '49', \"20's\", '43', '8', '64', '19',\n",
       "       '65', '67', '53', '34', '25', '58', '74', '46', '41', '31',\n",
       "       '9 & 60', '48', '20s', '42', '39', '56', '61', 'a minor', '6',\n",
       "       '62', '52', '54', '69', '40s', '3', '82', '73', '68', '47', '66',\n",
       "       '72', '27', '71', '18 months', '50s', 'teen', '77', '28 & 26', '5',\n",
       "       '86', '18 or 20', '12 or 13', '46 & 34', '28, 23 & 30', 'Teens',\n",
       "       '36 & 26', '8 or 10', '84', '\\xa0 ', ' ', '30 or 36', '6½',\n",
       "       '21 & ?', '33 or 37', 'mid-30s', '23 & 20', ' 30',\n",
       "       '7      &    31', ' 28', '20?', \"60's\", '32 & 30', '16 to 18',\n",
       "       '87', 'Elderly', 'mid-20s', 'Ca. 33', '74 ', '45 ', '21 or 26',\n",
       "       '20 ', '>50', '18 to 22', 'adult', '9 & 12', '? & 19', '9 months',\n",
       "       '25 to 35', '23 & 26', '1', '(adult)', '33 & 37', '25 or 28',\n",
       "       '37, 67, 35, 27,  ? & 27', '21, 34,24 & 35', '30 & 32', '50 & 30',\n",
       "       '17 & 35', 'X', '\"middle-age\"', '13 or 18', '34 & 19', '33 & 26',\n",
       "       '2 to 3 months', 'MAKE LINE GREEN', ' 43', '81', '\"young\"',\n",
       "       '7 or 8', '78', '17 & 16', 'F', 'Both 11', '9 or 10', 'young',\n",
       "       '36 & 23', '  ', 'A.M.', '?    &   14', '10 or 12', '31 or 33',\n",
       "       '2½', '13 or 14'], dtype=object)"
      ]
     },
     "execution_count": 26,
     "metadata": {},
     "output_type": "execute_result"
    }
   ],
   "source": [
    "# Convert all values in this columnn to string if it is not a missing value\n",
    "df.age = df.age.apply(lambda x : str(x) if x == x else x)\n",
    "\n",
    "# Check result\n",
    "df.age.unique()"
   ]
  },
  {
   "cell_type": "markdown",
   "metadata": {},
   "source": [
    "Converting all the values to the same data type make it easier to manipulate them."
   ]
  },
  {
   "cell_type": "code",
   "execution_count": 27,
   "metadata": {
    "ExecuteTime": {
     "end_time": "2020-09-06T23:56:10.309930Z",
     "start_time": "2020-09-06T23:56:10.304943Z"
    }
   },
   "outputs": [
    {
     "data": {
      "text/plain": [
       "164"
      ]
     },
     "execution_count": 27,
     "metadata": {},
     "output_type": "execute_result"
    }
   ],
   "source": [
    "len(df.age.unique())"
   ]
  },
  {
   "cell_type": "code",
   "execution_count": 28,
   "metadata": {
    "ExecuteTime": {
     "end_time": "2020-09-06T23:56:10.330874Z",
     "start_time": "2020-09-06T23:56:10.310928Z"
    }
   },
   "outputs": [
    {
     "data": {
      "text/html": [
       "<div>\n",
       "<style scoped>\n",
       "    .dataframe tbody tr th:only-of-type {\n",
       "        vertical-align: middle;\n",
       "    }\n",
       "\n",
       "    .dataframe tbody tr th {\n",
       "        vertical-align: top;\n",
       "    }\n",
       "\n",
       "    .dataframe thead th {\n",
       "        text-align: right;\n",
       "    }\n",
       "</style>\n",
       "<table border=\"1\" class=\"dataframe\">\n",
       "  <thead>\n",
       "    <tr style=\"text-align: right;\">\n",
       "      <th></th>\n",
       "      <th>date</th>\n",
       "      <th>year</th>\n",
       "      <th>type</th>\n",
       "      <th>country</th>\n",
       "      <th>area</th>\n",
       "      <th>location</th>\n",
       "      <th>activity</th>\n",
       "      <th>sex</th>\n",
       "      <th>age</th>\n",
       "      <th>injury</th>\n",
       "      <th>fatal</th>\n",
       "      <th>time</th>\n",
       "      <th>species</th>\n",
       "    </tr>\n",
       "  </thead>\n",
       "  <tbody>\n",
       "    <tr>\n",
       "      <th>80</th>\n",
       "      <td>29-Oct-2019</td>\n",
       "      <td>2019.0</td>\n",
       "      <td>Unprovoked</td>\n",
       "      <td>AUSTRALIA</td>\n",
       "      <td>Queensland</td>\n",
       "      <td>Off Airlie Beach, Whitsundays</td>\n",
       "      <td>Snorkeling</td>\n",
       "      <td>M</td>\n",
       "      <td>28 &amp; 22</td>\n",
       "      <td>Raddon’s right foot was severed and Maggs sust...</td>\n",
       "      <td>N</td>\n",
       "      <td>10h20</td>\n",
       "      <td>Tiger shark</td>\n",
       "    </tr>\n",
       "    <tr>\n",
       "      <th>168</th>\n",
       "      <td>10-Jan-2019</td>\n",
       "      <td>2019.0</td>\n",
       "      <td>Invalid</td>\n",
       "      <td>AUSTRALIA</td>\n",
       "      <td>Queensland</td>\n",
       "      <td>Catseye Beach, Hamilton Island, Whitsundays</td>\n",
       "      <td>Wading</td>\n",
       "      <td>F</td>\n",
       "      <td>9 &amp; 60</td>\n",
       "      <td>Injuries to foot &amp; leg</td>\n",
       "      <td>N</td>\n",
       "      <td>09h30</td>\n",
       "      <td>Reported as shark attacks but injuries caused ...</td>\n",
       "    </tr>\n",
       "    <tr>\n",
       "      <th>940</th>\n",
       "      <td>10-Mar-2013</td>\n",
       "      <td>2013.0</td>\n",
       "      <td>Unprovoked</td>\n",
       "      <td>PHILIPPINES</td>\n",
       "      <td>Palawan</td>\n",
       "      <td>Off Likas Island</td>\n",
       "      <td>Swimming to shore with floatioon devices after...</td>\n",
       "      <td>M</td>\n",
       "      <td>28 &amp; 26</td>\n",
       "      <td>Minor leg injuries</td>\n",
       "      <td>N</td>\n",
       "      <td>NaN</td>\n",
       "      <td>\"small sharks\"</td>\n",
       "    </tr>\n",
       "    <tr>\n",
       "      <th>1749</th>\n",
       "      <td>Reported 28-Jan-2006</td>\n",
       "      <td>2006.0</td>\n",
       "      <td>Watercraft</td>\n",
       "      <td>ATLANTIC OCEAN</td>\n",
       "      <td>300 miles from Antigua</td>\n",
       "      <td>NaN</td>\n",
       "      <td>Competing in the Woodvale Atlantic Rowing Race</td>\n",
       "      <td>M</td>\n",
       "      <td>46 &amp; 34</td>\n",
       "      <td>No injury to occupants; shark rammed boat repe...</td>\n",
       "      <td>N</td>\n",
       "      <td>NaN</td>\n",
       "      <td>12' shark</td>\n",
       "    </tr>\n",
       "    <tr>\n",
       "      <th>1751</th>\n",
       "      <td>23-Jan-2006</td>\n",
       "      <td>2006.0</td>\n",
       "      <td>Watercraft</td>\n",
       "      <td>ATLANTIC OCEAN</td>\n",
       "      <td>800 miles from land</td>\n",
       "      <td>NaN</td>\n",
       "      <td>Competing in the Woodvale Atlantic Rowing Race</td>\n",
       "      <td>F</td>\n",
       "      <td>28, 23 &amp; 30</td>\n",
       "      <td>No injury to occupants; a shark, accidentally ...</td>\n",
       "      <td>N</td>\n",
       "      <td>NaN</td>\n",
       "      <td>NaN</td>\n",
       "    </tr>\n",
       "    <tr>\n",
       "      <th>1986</th>\n",
       "      <td>14-Sep-2003</td>\n",
       "      <td>2003.0</td>\n",
       "      <td>Watercraft</td>\n",
       "      <td>SOUTH AFRICA</td>\n",
       "      <td>Western Cape Province</td>\n",
       "      <td>Melkbosstrand</td>\n",
       "      <td>Fishing</td>\n",
       "      <td>NaN</td>\n",
       "      <td>36 &amp; 26</td>\n",
       "      <td>No injury to occupants, shark bit boat</td>\n",
       "      <td>N</td>\n",
       "      <td>09h40</td>\n",
       "      <td>2 m cow shark</td>\n",
       "    </tr>\n",
       "    <tr>\n",
       "      <th>2168</th>\n",
       "      <td>12-Aug-2001</td>\n",
       "      <td>2001.0</td>\n",
       "      <td>Unprovoked</td>\n",
       "      <td>THAILAND</td>\n",
       "      <td>Rayong Province</td>\n",
       "      <td>Laem Mae Pim Beach</td>\n",
       "      <td>Fell off banana boat</td>\n",
       "      <td>M</td>\n",
       "      <td>21 &amp; ?</td>\n",
       "      <td>Legs bitten</td>\n",
       "      <td>N</td>\n",
       "      <td>NaN</td>\n",
       "      <td>3 m [10'] shark</td>\n",
       "    </tr>\n",
       "    <tr>\n",
       "      <th>2269</th>\n",
       "      <td>10-Aug-2000</td>\n",
       "      <td>2000.0</td>\n",
       "      <td>Invalid</td>\n",
       "      <td>USA</td>\n",
       "      <td>Florida</td>\n",
       "      <td>Florida Keys</td>\n",
       "      <td>Attempting to illegally enter the USA</td>\n",
       "      <td>M</td>\n",
       "      <td>23 &amp; 20</td>\n",
       "      <td>Shark involvement probably post-mortem</td>\n",
       "      <td>NaN</td>\n",
       "      <td>NaN</td>\n",
       "      <td>Shark involvement prior to death was not confi...</td>\n",
       "    </tr>\n",
       "    <tr>\n",
       "      <th>2665</th>\n",
       "      <td>Reported 11-Sep-1994</td>\n",
       "      <td>1994.0</td>\n",
       "      <td>Sea Disaster</td>\n",
       "      <td>USA</td>\n",
       "      <td>Florida</td>\n",
       "      <td>Florida Straits</td>\n",
       "      <td>Adrift on refugee raft</td>\n",
       "      <td>M</td>\n",
       "      <td>7      &amp;    31</td>\n",
       "      <td>FATAL</td>\n",
       "      <td>Y</td>\n",
       "      <td>NaN</td>\n",
       "      <td>NaN</td>\n",
       "    </tr>\n",
       "    <tr>\n",
       "      <th>2754</th>\n",
       "      <td>04-Jan-1993</td>\n",
       "      <td>1993.0</td>\n",
       "      <td>Watercraft</td>\n",
       "      <td>CARIBBEAN SEA</td>\n",
       "      <td>NaN</td>\n",
       "      <td>Off Dominican Republic</td>\n",
       "      <td></td>\n",
       "      <td>M</td>\n",
       "      <td>32 &amp; 30</td>\n",
       "      <td>No injury to occupants. Sharks, attracted to o...</td>\n",
       "      <td>N</td>\n",
       "      <td>NaN</td>\n",
       "      <td>Two 3 m [10'] oceanic whitetip sharks</td>\n",
       "    </tr>\n",
       "    <tr>\n",
       "      <th>3709</th>\n",
       "      <td>24-Aug-1968</td>\n",
       "      <td>1968.0</td>\n",
       "      <td>Unprovoked</td>\n",
       "      <td>USA</td>\n",
       "      <td>Florida</td>\n",
       "      <td>Half mile north of Juno Beach Pier</td>\n",
       "      <td>Playing with a frisbee in the shallows</td>\n",
       "      <td>NaN</td>\n",
       "      <td>9 &amp; 12</td>\n",
       "      <td>Shark bumped Colleen, the nudged Scott, then b...</td>\n",
       "      <td>N</td>\n",
       "      <td>16h00</td>\n",
       "      <td>a small hammerhead shark</td>\n",
       "    </tr>\n",
       "    <tr>\n",
       "      <th>3767</th>\n",
       "      <td>10-Aug-1967</td>\n",
       "      <td>1967.0</td>\n",
       "      <td>Invalid</td>\n",
       "      <td>AUSTRALIA</td>\n",
       "      <td>New South Wales</td>\n",
       "      <td>Jervis Bay</td>\n",
       "      <td>Anti-sabotage night dive exercise alongside de...</td>\n",
       "      <td>M</td>\n",
       "      <td>? &amp; 19</td>\n",
       "      <td>Disappeared, no trace of men or equipment, sha...</td>\n",
       "      <td>NaN</td>\n",
       "      <td>Night</td>\n",
       "      <td>Shark involvement prior to death was not confi...</td>\n",
       "    </tr>\n",
       "    <tr>\n",
       "      <th>3992</th>\n",
       "      <td>Aug-1963</td>\n",
       "      <td>1963.0</td>\n",
       "      <td>Unprovoked</td>\n",
       "      <td>DOMINICAN REPUBLIC</td>\n",
       "      <td>Santo Domingo</td>\n",
       "      <td>Rio Haina Port</td>\n",
       "      <td>Swimming, when caught in heavy seas</td>\n",
       "      <td>M</td>\n",
       "      <td>23 &amp; 26</td>\n",
       "      <td>FATAL. Eyewitness said, \"One was thrown in the...</td>\n",
       "      <td>Y</td>\n",
       "      <td>NaN</td>\n",
       "      <td>8 sharks</td>\n",
       "    </tr>\n",
       "    <tr>\n",
       "      <th>4130</th>\n",
       "      <td>Reported 06-Sep-1961</td>\n",
       "      <td>1961.0</td>\n",
       "      <td>Provoked</td>\n",
       "      <td>ITALY</td>\n",
       "      <td>Venice Province</td>\n",
       "      <td>Chioggia</td>\n",
       "      <td>Fishing</td>\n",
       "      <td>M</td>\n",
       "      <td>33 &amp; 37</td>\n",
       "      <td>Left foot &amp; right hand bitten by netted shark ...</td>\n",
       "      <td>N</td>\n",
       "      <td>NaN</td>\n",
       "      <td>1 m shark</td>\n",
       "    </tr>\n",
       "    <tr>\n",
       "      <th>4236</th>\n",
       "      <td>07-Jun-1960</td>\n",
       "      <td>1960.0</td>\n",
       "      <td>Invalid</td>\n",
       "      <td>USA</td>\n",
       "      <td>California</td>\n",
       "      <td>10 miles off Santa Barbara, Santa Barbara County</td>\n",
       "      <td>Testing classified underwater electronic gear ...</td>\n",
       "      <td>M</td>\n",
       "      <td>37, 67, 35, 27,  ? &amp; 27</td>\n",
       "      <td>Legs &amp; arms bitten, coroner unable to determin...</td>\n",
       "      <td>NaN</td>\n",
       "      <td>NaN</td>\n",
       "      <td>Shark involvement prior to death was not confi...</td>\n",
       "    </tr>\n",
       "    <tr>\n",
       "      <th>4248</th>\n",
       "      <td>14-Apr-1960</td>\n",
       "      <td>1960.0</td>\n",
       "      <td>Invalid</td>\n",
       "      <td>BERMUDA</td>\n",
       "      <td>33N, 68W</td>\n",
       "      <td>Royal Canadian Navy CS2F-1 aircraft ditched in...</td>\n",
       "      <td>Floating on a raft</td>\n",
       "      <td>M</td>\n",
       "      <td>21, 34,24 &amp; 35</td>\n",
       "      <td>No injury, 5 sharks bumped raft</td>\n",
       "      <td>NaN</td>\n",
       "      <td>09h00 - 09h30</td>\n",
       "      <td>Questionable incident</td>\n",
       "    </tr>\n",
       "    <tr>\n",
       "      <th>4259</th>\n",
       "      <td>29-Feb-1960</td>\n",
       "      <td>1960.0</td>\n",
       "      <td>Unprovoked</td>\n",
       "      <td>AUSTRALIA</td>\n",
       "      <td>Tasmania</td>\n",
       "      <td>Ralph Bay</td>\n",
       "      <td>Wading, fishing for flounder</td>\n",
       "      <td>M</td>\n",
       "      <td>30 &amp; 32</td>\n",
       "      <td>No injury, Robertson knocked over &amp; Hasler bru...</td>\n",
       "      <td>N</td>\n",
       "      <td>Night</td>\n",
       "      <td>Two 2.1 m [7'] sharks</td>\n",
       "    </tr>\n",
       "    <tr>\n",
       "      <th>4285</th>\n",
       "      <td>28-Dec-1959</td>\n",
       "      <td>1959.0</td>\n",
       "      <td>Watercraft</td>\n",
       "      <td>AUSTRALIA</td>\n",
       "      <td>New South Wales</td>\n",
       "      <td>Leichardt, Sydney</td>\n",
       "      <td>Fishing</td>\n",
       "      <td>NaN</td>\n",
       "      <td>50 &amp; 30</td>\n",
       "      <td>No injury to occupants</td>\n",
       "      <td>N</td>\n",
       "      <td>Late night</td>\n",
       "      <td>2.4 m  [8'] shark</td>\n",
       "    </tr>\n",
       "    <tr>\n",
       "      <th>4289</th>\n",
       "      <td>11-Dec-1959</td>\n",
       "      <td>1959.0</td>\n",
       "      <td>Provoked</td>\n",
       "      <td>AUSTRALIA</td>\n",
       "      <td>Victoria</td>\n",
       "      <td>Altona, Melbourne</td>\n",
       "      <td>Spearfishing, Smith  &amp; Walker touched shark wi...</td>\n",
       "      <td>M</td>\n",
       "      <td>17 &amp; 35</td>\n",
       "      <td>Smith hit by tail of shark, Walker sustained c...</td>\n",
       "      <td>N</td>\n",
       "      <td>NaN</td>\n",
       "      <td>2.7 m [9']  shark</td>\n",
       "    </tr>\n",
       "    <tr>\n",
       "      <th>4328</th>\n",
       "      <td>21764</td>\n",
       "      <td>1959.0</td>\n",
       "      <td>Invalid</td>\n",
       "      <td>ITALY</td>\n",
       "      <td>Tuscany</td>\n",
       "      <td>Cala del Corvo, Isola del Giglio</td>\n",
       "      <td>Scuba diving</td>\n",
       "      <td>M</td>\n",
       "      <td>34 &amp; 19</td>\n",
       "      <td>Probable drowing. Shark involvement unconfirmed</td>\n",
       "      <td>NaN</td>\n",
       "      <td>NaN</td>\n",
       "      <td>Shark involvement prior to death was not confi...</td>\n",
       "    </tr>\n",
       "    <tr>\n",
       "      <th>4368</th>\n",
       "      <td>02-Jan-1959</td>\n",
       "      <td>1959.0</td>\n",
       "      <td>Unprovoked</td>\n",
       "      <td>MOZAMBIQUE</td>\n",
       "      <td>Maputo Province</td>\n",
       "      <td>Off Inhaca Island</td>\n",
       "      <td>Swimming ashore from fishing boat swamped and ...</td>\n",
       "      <td>M</td>\n",
       "      <td>33 &amp; 26</td>\n",
       "      <td>Suttie's lower abdomen was bitten, Murray disa...</td>\n",
       "      <td>Y</td>\n",
       "      <td>08h00</td>\n",
       "      <td>NaN</td>\n",
       "    </tr>\n",
       "    <tr>\n",
       "      <th>4840</th>\n",
       "      <td>14-Jan-1947</td>\n",
       "      <td>1947.0</td>\n",
       "      <td>Watercraft</td>\n",
       "      <td>AUSTRALIA</td>\n",
       "      <td>New South Wales</td>\n",
       "      <td>Berry's Bay, Sydney Harbour</td>\n",
       "      <td>Rowing</td>\n",
       "      <td>NaN</td>\n",
       "      <td>17 &amp; 16</td>\n",
       "      <td>No injury, shark lifted the boat 0.5 m out of ...</td>\n",
       "      <td>N</td>\n",
       "      <td>NaN</td>\n",
       "      <td>4.5  m [14'9\"] shark</td>\n",
       "    </tr>\n",
       "    <tr>\n",
       "      <th>5252</th>\n",
       "      <td>06-Jan-1932</td>\n",
       "      <td>1932.0</td>\n",
       "      <td>Provoked</td>\n",
       "      <td>MEXICO</td>\n",
       "      <td>Baja California</td>\n",
       "      <td>Descano Point</td>\n",
       "      <td>Fishing</td>\n",
       "      <td>M</td>\n",
       "      <td>36 &amp; 23</td>\n",
       "      <td>Hooked shark capsized rowboat &amp; the 2 men were...</td>\n",
       "      <td>Y</td>\n",
       "      <td>NaN</td>\n",
       "      <td>NaN</td>\n",
       "    </tr>\n",
       "    <tr>\n",
       "      <th>5434</th>\n",
       "      <td>04-Jul-1924</td>\n",
       "      <td>1924.0</td>\n",
       "      <td>Watercraft</td>\n",
       "      <td>USA</td>\n",
       "      <td>California</td>\n",
       "      <td>Newport Beach, Orange County</td>\n",
       "      <td>Fishing</td>\n",
       "      <td>M</td>\n",
       "      <td>?    &amp;   14</td>\n",
       "      <td>No injury, shark tore hole in the side of the ...</td>\n",
       "      <td>N</td>\n",
       "      <td>NaN</td>\n",
       "      <td>NaN</td>\n",
       "    </tr>\n",
       "  </tbody>\n",
       "</table>\n",
       "</div>"
      ],
      "text/plain": [
       "                      date    year          type             country  \\\n",
       "80             29-Oct-2019  2019.0    Unprovoked           AUSTRALIA   \n",
       "168            10-Jan-2019  2019.0       Invalid           AUSTRALIA   \n",
       "940            10-Mar-2013  2013.0    Unprovoked         PHILIPPINES   \n",
       "1749  Reported 28-Jan-2006  2006.0    Watercraft      ATLANTIC OCEAN   \n",
       "1751           23-Jan-2006  2006.0    Watercraft      ATLANTIC OCEAN   \n",
       "1986           14-Sep-2003  2003.0    Watercraft        SOUTH AFRICA   \n",
       "2168           12-Aug-2001  2001.0    Unprovoked            THAILAND   \n",
       "2269           10-Aug-2000  2000.0       Invalid                 USA   \n",
       "2665  Reported 11-Sep-1994  1994.0  Sea Disaster                 USA   \n",
       "2754           04-Jan-1993  1993.0    Watercraft       CARIBBEAN SEA   \n",
       "3709           24-Aug-1968  1968.0    Unprovoked                 USA   \n",
       "3767           10-Aug-1967  1967.0       Invalid           AUSTRALIA   \n",
       "3992              Aug-1963  1963.0    Unprovoked  DOMINICAN REPUBLIC   \n",
       "4130  Reported 06-Sep-1961  1961.0      Provoked               ITALY   \n",
       "4236           07-Jun-1960  1960.0       Invalid                 USA   \n",
       "4248           14-Apr-1960  1960.0       Invalid             BERMUDA   \n",
       "4259           29-Feb-1960  1960.0    Unprovoked           AUSTRALIA   \n",
       "4285           28-Dec-1959  1959.0    Watercraft           AUSTRALIA   \n",
       "4289           11-Dec-1959  1959.0      Provoked           AUSTRALIA   \n",
       "4328                 21764  1959.0       Invalid               ITALY   \n",
       "4368           02-Jan-1959  1959.0    Unprovoked          MOZAMBIQUE   \n",
       "4840           14-Jan-1947  1947.0    Watercraft           AUSTRALIA   \n",
       "5252           06-Jan-1932  1932.0      Provoked              MEXICO   \n",
       "5434           04-Jul-1924  1924.0    Watercraft                 USA   \n",
       "\n",
       "                        area  \\\n",
       "80                Queensland   \n",
       "168               Queensland   \n",
       "940                  Palawan   \n",
       "1749  300 miles from Antigua   \n",
       "1751     800 miles from land   \n",
       "1986   Western Cape Province   \n",
       "2168         Rayong Province   \n",
       "2269                 Florida   \n",
       "2665                 Florida   \n",
       "2754                     NaN   \n",
       "3709                 Florida   \n",
       "3767         New South Wales   \n",
       "3992           Santo Domingo   \n",
       "4130         Venice Province   \n",
       "4236              California   \n",
       "4248                33N, 68W   \n",
       "4259                Tasmania   \n",
       "4285         New South Wales   \n",
       "4289                Victoria   \n",
       "4328                 Tuscany   \n",
       "4368         Maputo Province   \n",
       "4840         New South Wales   \n",
       "5252         Baja California   \n",
       "5434              California   \n",
       "\n",
       "                                               location  \\\n",
       "80                        Off Airlie Beach, Whitsundays   \n",
       "168         Catseye Beach, Hamilton Island, Whitsundays   \n",
       "940                                    Off Likas Island   \n",
       "1749                                                NaN   \n",
       "1751                                                NaN   \n",
       "1986                                      Melkbosstrand   \n",
       "2168                                 Laem Mae Pim Beach   \n",
       "2269                                       Florida Keys   \n",
       "2665                                    Florida Straits   \n",
       "2754                             Off Dominican Republic   \n",
       "3709                 Half mile north of Juno Beach Pier   \n",
       "3767                                         Jervis Bay   \n",
       "3992                                     Rio Haina Port   \n",
       "4130                                           Chioggia   \n",
       "4236   10 miles off Santa Barbara, Santa Barbara County   \n",
       "4248  Royal Canadian Navy CS2F-1 aircraft ditched in...   \n",
       "4259                                          Ralph Bay   \n",
       "4285                                  Leichardt, Sydney   \n",
       "4289                                  Altona, Melbourne   \n",
       "4328                   Cala del Corvo, Isola del Giglio   \n",
       "4368                                  Off Inhaca Island   \n",
       "4840                        Berry's Bay, Sydney Harbour   \n",
       "5252                                      Descano Point   \n",
       "5434                       Newport Beach, Orange County   \n",
       "\n",
       "                                               activity  sex  \\\n",
       "80                                           Snorkeling    M   \n",
       "168                                              Wading    F   \n",
       "940   Swimming to shore with floatioon devices after...    M   \n",
       "1749     Competing in the Woodvale Atlantic Rowing Race    M   \n",
       "1751     Competing in the Woodvale Atlantic Rowing Race    F   \n",
       "1986                                           Fishing   NaN   \n",
       "2168                               Fell off banana boat    M   \n",
       "2269              Attempting to illegally enter the USA    M   \n",
       "2665                             Adrift on refugee raft    M   \n",
       "2754                                                       M   \n",
       "3709             Playing with a frisbee in the shallows  NaN   \n",
       "3767  Anti-sabotage night dive exercise alongside de...    M   \n",
       "3992                Swimming, when caught in heavy seas    M   \n",
       "4130                                            Fishing    M   \n",
       "4236  Testing classified underwater electronic gear ...    M   \n",
       "4248                                 Floating on a raft    M   \n",
       "4259                       Wading, fishing for flounder    M   \n",
       "4285                                            Fishing  NaN   \n",
       "4289  Spearfishing, Smith  & Walker touched shark wi...    M   \n",
       "4328                                       Scuba diving    M   \n",
       "4368  Swimming ashore from fishing boat swamped and ...    M   \n",
       "4840                                             Rowing  NaN   \n",
       "5252                                            Fishing    M   \n",
       "5434                                            Fishing    M   \n",
       "\n",
       "                          age  \\\n",
       "80                    28 & 22   \n",
       "168                    9 & 60   \n",
       "940                   28 & 26   \n",
       "1749                  46 & 34   \n",
       "1751              28, 23 & 30   \n",
       "1986                  36 & 26   \n",
       "2168                   21 & ?   \n",
       "2269                  23 & 20   \n",
       "2665           7      &    31   \n",
       "2754                  32 & 30   \n",
       "3709                   9 & 12   \n",
       "3767                   ? & 19   \n",
       "3992                  23 & 26   \n",
       "4130                  33 & 37   \n",
       "4236  37, 67, 35, 27,  ? & 27   \n",
       "4248           21, 34,24 & 35   \n",
       "4259                  30 & 32   \n",
       "4285                  50 & 30   \n",
       "4289                  17 & 35   \n",
       "4328                  34 & 19   \n",
       "4368                  33 & 26   \n",
       "4840                  17 & 16   \n",
       "5252                  36 & 23   \n",
       "5434              ?    &   14   \n",
       "\n",
       "                                                 injury fatal           time  \\\n",
       "80    Raddon’s right foot was severed and Maggs sust...     N          10h20   \n",
       "168                              Injuries to foot & leg     N          09h30   \n",
       "940                                  Minor leg injuries     N            NaN   \n",
       "1749  No injury to occupants; shark rammed boat repe...     N            NaN   \n",
       "1751  No injury to occupants; a shark, accidentally ...     N            NaN   \n",
       "1986             No injury to occupants, shark bit boat     N          09h40   \n",
       "2168                                        Legs bitten     N            NaN   \n",
       "2269             Shark involvement probably post-mortem   NaN            NaN   \n",
       "2665                                              FATAL     Y            NaN   \n",
       "2754  No injury to occupants. Sharks, attracted to o...     N            NaN   \n",
       "3709  Shark bumped Colleen, the nudged Scott, then b...     N          16h00   \n",
       "3767  Disappeared, no trace of men or equipment, sha...   NaN          Night   \n",
       "3992  FATAL. Eyewitness said, \"One was thrown in the...     Y            NaN   \n",
       "4130  Left foot & right hand bitten by netted shark ...     N            NaN   \n",
       "4236  Legs & arms bitten, coroner unable to determin...   NaN            NaN   \n",
       "4248                    No injury, 5 sharks bumped raft   NaN  09h00 - 09h30   \n",
       "4259  No injury, Robertson knocked over & Hasler bru...     N          Night   \n",
       "4285                             No injury to occupants     N     Late night   \n",
       "4289  Smith hit by tail of shark, Walker sustained c...     N            NaN   \n",
       "4328    Probable drowing. Shark involvement unconfirmed   NaN            NaN   \n",
       "4368  Suttie's lower abdomen was bitten, Murray disa...     Y          08h00   \n",
       "4840  No injury, shark lifted the boat 0.5 m out of ...     N            NaN   \n",
       "5252  Hooked shark capsized rowboat & the 2 men were...     Y            NaN   \n",
       "5434  No injury, shark tore hole in the side of the ...     N            NaN   \n",
       "\n",
       "                                                species  \n",
       "80                                          Tiger shark  \n",
       "168   Reported as shark attacks but injuries caused ...  \n",
       "940                                      \"small sharks\"  \n",
       "1749                                          12' shark  \n",
       "1751                                                NaN  \n",
       "1986                                      2 m cow shark  \n",
       "2168                                    3 m [10'] shark  \n",
       "2269  Shark involvement prior to death was not confi...  \n",
       "2665                                                NaN  \n",
       "2754              Two 3 m [10'] oceanic whitetip sharks  \n",
       "3709                           a small hammerhead shark  \n",
       "3767  Shark involvement prior to death was not confi...  \n",
       "3992                                           8 sharks  \n",
       "4130                                          1 m shark  \n",
       "4236  Shark involvement prior to death was not confi...  \n",
       "4248                              Questionable incident  \n",
       "4259                              Two 2.1 m [7'] sharks  \n",
       "4285                                  2.4 m  [8'] shark  \n",
       "4289                                  2.7 m [9']  shark  \n",
       "4328  Shark involvement prior to death was not confi...  \n",
       "4368                                                NaN  \n",
       "4840                               4.5  m [14'9\"] shark  \n",
       "5252                                                NaN  \n",
       "5434                                                NaN  "
      ]
     },
     "execution_count": 28,
     "metadata": {},
     "output_type": "execute_result"
    }
   ],
   "source": [
    "# Check rows that contains '&'\n",
    "df[df.age.str.contains('&', na=False)]"
   ]
  },
  {
   "cell_type": "code",
   "execution_count": 29,
   "metadata": {
    "ExecuteTime": {
     "end_time": "2020-09-06T23:56:10.337855Z",
     "start_time": "2020-09-06T23:56:10.331871Z"
    }
   },
   "outputs": [
    {
     "name": "stdout",
     "output_type": "stream",
     "text": [
      "There are 24 rows containing \"&\" and they represent only 0.37% of the current dataframe.\n",
      "Since they have ages of more than one person, they will be removed from the dataframe."
     ]
    }
   ],
   "source": [
    "# Number of rows that contain \"&\"\n",
    "r_clean = len(df[df.age.str.contains(\"&\", na=False)])\n",
    "print(f'There are {r_clean} rows containing \"&\" and they represent only {(r_clean / n_rows) * 100:.2f}% of the', end=' '\n",
    "      f'current dataframe.\\nSince they have ages of more than one person, they will be removed from the dataframe.', sep=' ')"
   ]
  },
  {
   "cell_type": "code",
   "execution_count": 30,
   "metadata": {
    "ExecuteTime": {
     "end_time": "2020-09-06T23:56:10.346831Z",
     "start_time": "2020-09-06T23:56:10.338853Z"
    }
   },
   "outputs": [
    {
     "name": "stdout",
     "output_type": "stream",
     "text": [
      "Before the removal, there was 6546 rows. After the removal, there is 6522 rows.\n"
     ]
    }
   ],
   "source": [
    "print(f'Before the removal, there was {n_rows} rows.', end=' ')\n",
    "\n",
    "# Remove the rows mentioned above\n",
    "df = df.drop(df[df.age.str.contains('&', na=False)].index)\n",
    "\n",
    "# Number of rows\n",
    "n_rows = df.shape[0]\n",
    "print(f'After the removal, there is {n_rows} rows.')"
   ]
  },
  {
   "cell_type": "code",
   "execution_count": 31,
   "metadata": {
    "ExecuteTime": {
     "end_time": "2020-09-06T23:56:10.352816Z",
     "start_time": "2020-09-06T23:56:10.347829Z"
    }
   },
   "outputs": [
    {
     "name": "stdout",
     "output_type": "stream",
     "text": [
      "Now, there are 140 unique values in this column.\n",
      "\n",
      "['50' '35' '55' nan '22' '14' '28' '38' '4' '63' '23' '11' '12' '10' '29'\n",
      " '15' '36' '7' '16' '30' '60' '18' '9' '26' '57' 'Teen' '24' '59' '13'\n",
      " '75' '21' '30s' '45' '33' '17' '37' '70' '44' '32' '20' '51' '22, 57, 31'\n",
      " '60s' '40' '49' \"20's\" '43' '8' '64' '19' '65' '67' '53' '34' '25' '58'\n",
      " '74' '46' '41' '31' '48' '20s' '42' '39' '56' '61' 'a minor' '6' '62'\n",
      " '52' '54' '69' '40s' '3' '82' '73' '68' '47' '66' '72' '27' '71'\n",
      " '18 months' '50s' 'teen' '77' '5' '86' '18 or 20' '12 or 13' 'Teens'\n",
      " '8 or 10' '84' '\\xa0 ' ' ' '30 or 36' '6½' '33 or 37' 'mid-30s' ' 30'\n",
      " ' 28' '20?' \"60's\" '16 to 18' '87' 'Elderly' 'mid-20s' 'Ca. 33' '74 '\n",
      " '45 ' '21 or 26' '20 ' '>50' '18 to 22' 'adult' '9 months' '25 to 35' '1'\n",
      " '(adult)' '25 or 28' 'X' '\"middle-age\"' '13 or 18' '2 to 3 months'\n",
      " 'MAKE LINE GREEN' ' 43' '81' '\"young\"' '7 or 8' '78' 'F' 'Both 11'\n",
      " '9 or 10' 'young' '  ' 'A.M.' '10 or 12' '31 or 33' '2½' '13 or 14']\n"
     ]
    }
   ],
   "source": [
    "# Check the unique values\n",
    "print(f'Now, there are {len(list(df.age.unique()))} unique values in this column.\\n')\n",
    "print(df.age.unique())"
   ]
  },
  {
   "cell_type": "code",
   "execution_count": 32,
   "metadata": {
    "ExecuteTime": {
     "end_time": "2020-09-06T23:56:10.373760Z",
     "start_time": "2020-09-06T23:56:10.353813Z"
    }
   },
   "outputs": [
    {
     "data": {
      "text/html": [
       "<div>\n",
       "<style scoped>\n",
       "    .dataframe tbody tr th:only-of-type {\n",
       "        vertical-align: middle;\n",
       "    }\n",
       "\n",
       "    .dataframe tbody tr th {\n",
       "        vertical-align: top;\n",
       "    }\n",
       "\n",
       "    .dataframe thead th {\n",
       "        text-align: right;\n",
       "    }\n",
       "</style>\n",
       "<table border=\"1\" class=\"dataframe\">\n",
       "  <thead>\n",
       "    <tr style=\"text-align: right;\">\n",
       "      <th></th>\n",
       "      <th>date</th>\n",
       "      <th>year</th>\n",
       "      <th>type</th>\n",
       "      <th>country</th>\n",
       "      <th>area</th>\n",
       "      <th>location</th>\n",
       "      <th>activity</th>\n",
       "      <th>sex</th>\n",
       "      <th>age</th>\n",
       "      <th>injury</th>\n",
       "      <th>fatal</th>\n",
       "      <th>time</th>\n",
       "      <th>species</th>\n",
       "    </tr>\n",
       "  </thead>\n",
       "  <tbody>\n",
       "    <tr>\n",
       "      <th>2067</th>\n",
       "      <td>27-Sep-2002</td>\n",
       "      <td>2002.0</td>\n",
       "      <td>Provoked</td>\n",
       "      <td>USA</td>\n",
       "      <td>Florida</td>\n",
       "      <td>Key Largo, Monroe County</td>\n",
       "      <td>Fishing</td>\n",
       "      <td>M</td>\n",
       "      <td></td>\n",
       "      <td>Left thumb lacerated PROVOKED INCIDENT</td>\n",
       "      <td>N</td>\n",
       "      <td>Afternoon</td>\n",
       "      <td>1.8 m [6'] blacktip shark</td>\n",
       "    </tr>\n",
       "    <tr>\n",
       "      <th>2068</th>\n",
       "      <td>27-Sep-2002</td>\n",
       "      <td>2002.0</td>\n",
       "      <td>Provoked</td>\n",
       "      <td>TONGA</td>\n",
       "      <td>Vava'u</td>\n",
       "      <td>Swimming with humpback whales</td>\n",
       "      <td>Swimming</td>\n",
       "      <td>M</td>\n",
       "      <td></td>\n",
       "      <td>Thigh lacerated  PROVOKED INCIDENT</td>\n",
       "      <td>N</td>\n",
       "      <td>15h00</td>\n",
       "      <td>Tiger shark, 1.5 m [5']k</td>\n",
       "    </tr>\n",
       "    <tr>\n",
       "      <th>2684</th>\n",
       "      <td>06-Apr-1994</td>\n",
       "      <td>1994.0</td>\n",
       "      <td>Unprovoked</td>\n",
       "      <td>BAHAMAS</td>\n",
       "      <td>NaN</td>\n",
       "      <td>Rum Cay</td>\n",
       "      <td>Wading</td>\n",
       "      <td>M</td>\n",
       "      <td>20?</td>\n",
       "      <td>Lower right  leg bitten</td>\n",
       "      <td>N</td>\n",
       "      <td>10h30</td>\n",
       "      <td>2' to 3' shark</td>\n",
       "    </tr>\n",
       "    <tr>\n",
       "      <th>3229</th>\n",
       "      <td>May 1982</td>\n",
       "      <td>1982.0</td>\n",
       "      <td>Invalid</td>\n",
       "      <td>USA</td>\n",
       "      <td>South Carolina</td>\n",
       "      <td>Daws Island, Broad River (near Beaufort)</td>\n",
       "      <td>NaN</td>\n",
       "      <td>F</td>\n",
       "      <td>Ca. 33</td>\n",
       "      <td>Human remains recovered from tiger shark</td>\n",
       "      <td>NaN</td>\n",
       "      <td>NaN</td>\n",
       "      <td>Shark involvement prior to death was not confi...</td>\n",
       "    </tr>\n",
       "    <tr>\n",
       "      <th>3355</th>\n",
       "      <td>29-Dec-1978</td>\n",
       "      <td>1978.0</td>\n",
       "      <td>Unprovoked</td>\n",
       "      <td>AUSTRALIA</td>\n",
       "      <td>Queensland</td>\n",
       "      <td>Bribie Island</td>\n",
       "      <td>NaN</td>\n",
       "      <td>M</td>\n",
       "      <td></td>\n",
       "      <td>Survived</td>\n",
       "      <td>N</td>\n",
       "      <td>NaN</td>\n",
       "      <td>NaN</td>\n",
       "    </tr>\n",
       "    <tr>\n",
       "      <th>3612</th>\n",
       "      <td>11-Apr-1971</td>\n",
       "      <td>1971.0</td>\n",
       "      <td>Unprovoked</td>\n",
       "      <td>SOUTH AFRICA</td>\n",
       "      <td>Western Cape Province</td>\n",
       "      <td>Buffels Bay</td>\n",
       "      <td>Swimming</td>\n",
       "      <td>M</td>\n",
       "      <td>&gt;50</td>\n",
       "      <td>FATAL, multiple bites</td>\n",
       "      <td>Y</td>\n",
       "      <td>11h30</td>\n",
       "      <td>White shark according to tooth pattern and wit...</td>\n",
       "    </tr>\n",
       "    <tr>\n",
       "      <th>4302</th>\n",
       "      <td>07-Oct-1959</td>\n",
       "      <td>1959.0</td>\n",
       "      <td>Unprovoked</td>\n",
       "      <td>MOZAMBIQUE</td>\n",
       "      <td>Maputo Province</td>\n",
       "      <td>Xefina Island, Bay of Maputo</td>\n",
       "      <td>Swimming</td>\n",
       "      <td>M</td>\n",
       "      <td>X</td>\n",
       "      <td>FATAL, died in Lourenco Marques Hospital</td>\n",
       "      <td>Y</td>\n",
       "      <td>NaN</td>\n",
       "      <td>NaN</td>\n",
       "    </tr>\n",
       "    <tr>\n",
       "      <th>4325</th>\n",
       "      <td>11-Aug-1959</td>\n",
       "      <td>1959.0</td>\n",
       "      <td>Unprovoked</td>\n",
       "      <td>JAPAN</td>\n",
       "      <td>Wakayama Prefecture</td>\n",
       "      <td>Isonoura Beach, Wakayama City</td>\n",
       "      <td>Swimming</td>\n",
       "      <td>M</td>\n",
       "      <td>13 or 18</td>\n",
       "      <td>FATAL, left thigh bitten</td>\n",
       "      <td>Y</td>\n",
       "      <td>14h30</td>\n",
       "      <td>Blue shark, 3 m [10']</td>\n",
       "    </tr>\n",
       "    <tr>\n",
       "      <th>4643</th>\n",
       "      <td>08-Jan-1953</td>\n",
       "      <td>1953.0</td>\n",
       "      <td>Watercraft</td>\n",
       "      <td>AUSTRALIA</td>\n",
       "      <td>Tasmania</td>\n",
       "      <td>Wynyard</td>\n",
       "      <td>Fishing</td>\n",
       "      <td>NaN</td>\n",
       "      <td>MAKE LINE GREEN</td>\n",
       "      <td>No injury to occupant, shark charged boat</td>\n",
       "      <td>N</td>\n",
       "      <td>Afternoon</td>\n",
       "      <td>10' to 12' shark</td>\n",
       "    </tr>\n",
       "    <tr>\n",
       "      <th>4700</th>\n",
       "      <td>24-Mar-1951</td>\n",
       "      <td>1951.0</td>\n",
       "      <td>Unprovoked</td>\n",
       "      <td>AUSTRALIA</td>\n",
       "      <td>New South Wales</td>\n",
       "      <td>Sydney</td>\n",
       "      <td>Fishing, casting in the surf</td>\n",
       "      <td>M</td>\n",
       "      <td>\"young\"</td>\n",
       "      <td>Severe lacerations of chest &amp; thigh</td>\n",
       "      <td>N</td>\n",
       "      <td>NaN</td>\n",
       "      <td>5.5 m [18'] shark</td>\n",
       "    </tr>\n",
       "    <tr>\n",
       "      <th>4929</th>\n",
       "      <td>14-May-1943</td>\n",
       "      <td>1943.0</td>\n",
       "      <td>Sea Disaster</td>\n",
       "      <td>AUSTRALIA</td>\n",
       "      <td>Queensland</td>\n",
       "      <td>Off Brisbane</td>\n",
       "      <td>Hospital Ship Centaur torpedoed &amp; sunk by the ...</td>\n",
       "      <td>M</td>\n",
       "      <td>F</td>\n",
       "      <td>FATAL</td>\n",
       "      <td>Y</td>\n",
       "      <td>After 04h00</td>\n",
       "      <td>NaN</td>\n",
       "    </tr>\n",
       "    <tr>\n",
       "      <th>5054</th>\n",
       "      <td>12-Jan-1939</td>\n",
       "      <td>1939.0</td>\n",
       "      <td>Unprovoked</td>\n",
       "      <td>AUSTRALIA</td>\n",
       "      <td>New South Wales</td>\n",
       "      <td>Clarence River</td>\n",
       "      <td>Scooping prawns</td>\n",
       "      <td>M</td>\n",
       "      <td>Both 11</td>\n",
       "      <td>No injury</td>\n",
       "      <td>N</td>\n",
       "      <td>NaN</td>\n",
       "      <td>7' shark</td>\n",
       "    </tr>\n",
       "    <tr>\n",
       "      <th>5139</th>\n",
       "      <td>23-Feb-1936</td>\n",
       "      <td>1936.0</td>\n",
       "      <td>Provoked</td>\n",
       "      <td>AUSTRALIA</td>\n",
       "      <td>New South Wales</td>\n",
       "      <td>Angourie, near Yamba</td>\n",
       "      <td>Touching the mouth of a supposedly dead shark</td>\n",
       "      <td>F</td>\n",
       "      <td>young</td>\n",
       "      <td>Finger bitten PROVOKED INCIDENT</td>\n",
       "      <td>N</td>\n",
       "      <td>NaN</td>\n",
       "      <td>NaN</td>\n",
       "    </tr>\n",
       "    <tr>\n",
       "      <th>5337</th>\n",
       "      <td>27-Jan-1929</td>\n",
       "      <td>1929.0</td>\n",
       "      <td>Unprovoked</td>\n",
       "      <td>AUSTRALIA</td>\n",
       "      <td>Queensland</td>\n",
       "      <td>Alma Bay, Magnetic Island, Townsville</td>\n",
       "      <td>Swimming</td>\n",
       "      <td>M</td>\n",
       "      <td></td>\n",
       "      <td>FATAL, right buttock lacerated, left arm sever...</td>\n",
       "      <td>Y</td>\n",
       "      <td>17h30</td>\n",
       "      <td>NaN</td>\n",
       "    </tr>\n",
       "    <tr>\n",
       "      <th>5423</th>\n",
       "      <td>10-Mar-1925</td>\n",
       "      <td>1925.0</td>\n",
       "      <td>Unprovoked</td>\n",
       "      <td>PAPUA NEW GUINEA</td>\n",
       "      <td>Central Province</td>\n",
       "      <td>Hula</td>\n",
       "      <td>Swimming</td>\n",
       "      <td>M</td>\n",
       "      <td>A.M.</td>\n",
       "      <td>FATAL</td>\n",
       "      <td>Y</td>\n",
       "      <td>NaN</td>\n",
       "      <td>NaN</td>\n",
       "    </tr>\n",
       "    <tr>\n",
       "      <th>6398</th>\n",
       "      <td>1779</td>\n",
       "      <td>1779.0</td>\n",
       "      <td>Unprovoked</td>\n",
       "      <td>USA</td>\n",
       "      <td>Hawaii</td>\n",
       "      <td>Maliu, Hawai'i</td>\n",
       "      <td>Surfing</td>\n",
       "      <td>M</td>\n",
       "      <td>young</td>\n",
       "      <td>FATAL, buttock lacerated</td>\n",
       "      <td>Y</td>\n",
       "      <td>NaN</td>\n",
       "      <td>NaN</td>\n",
       "    </tr>\n",
       "  </tbody>\n",
       "</table>\n",
       "</div>"
      ],
      "text/plain": [
       "             date    year          type           country  \\\n",
       "2067  27-Sep-2002  2002.0      Provoked               USA   \n",
       "2068  27-Sep-2002  2002.0      Provoked             TONGA   \n",
       "2684  06-Apr-1994  1994.0    Unprovoked           BAHAMAS   \n",
       "3229     May 1982  1982.0       Invalid               USA   \n",
       "3355  29-Dec-1978  1978.0    Unprovoked         AUSTRALIA   \n",
       "3612  11-Apr-1971  1971.0    Unprovoked      SOUTH AFRICA   \n",
       "4302  07-Oct-1959  1959.0    Unprovoked        MOZAMBIQUE   \n",
       "4325  11-Aug-1959  1959.0    Unprovoked             JAPAN   \n",
       "4643  08-Jan-1953  1953.0    Watercraft         AUSTRALIA   \n",
       "4700  24-Mar-1951  1951.0    Unprovoked         AUSTRALIA   \n",
       "4929  14-May-1943  1943.0  Sea Disaster         AUSTRALIA   \n",
       "5054  12-Jan-1939  1939.0    Unprovoked         AUSTRALIA   \n",
       "5139  23-Feb-1936  1936.0      Provoked         AUSTRALIA   \n",
       "5337  27-Jan-1929  1929.0    Unprovoked         AUSTRALIA   \n",
       "5423  10-Mar-1925  1925.0    Unprovoked  PAPUA NEW GUINEA   \n",
       "6398         1779  1779.0    Unprovoked               USA   \n",
       "\n",
       "                       area                                  location  \\\n",
       "2067                Florida                  Key Largo, Monroe County   \n",
       "2068                 Vava'u             Swimming with humpback whales   \n",
       "2684                    NaN                                   Rum Cay   \n",
       "3229         South Carolina  Daws Island, Broad River (near Beaufort)   \n",
       "3355             Queensland                             Bribie Island   \n",
       "3612  Western Cape Province                               Buffels Bay   \n",
       "4302        Maputo Province              Xefina Island, Bay of Maputo   \n",
       "4325    Wakayama Prefecture            Isonoura Beach, Wakayama City    \n",
       "4643               Tasmania                                   Wynyard   \n",
       "4700        New South Wales                                    Sydney   \n",
       "4929             Queensland                              Off Brisbane   \n",
       "5054        New South Wales                            Clarence River   \n",
       "5139        New South Wales                      Angourie, near Yamba   \n",
       "5337             Queensland     Alma Bay, Magnetic Island, Townsville   \n",
       "5423       Central Province                                      Hula   \n",
       "6398                 Hawaii                            Maliu, Hawai'i   \n",
       "\n",
       "                                               activity  sex              age  \\\n",
       "2067                                            Fishing    M                    \n",
       "2068                                           Swimming    M                    \n",
       "2684                                             Wading    M              20?   \n",
       "3229                                                NaN    F           Ca. 33   \n",
       "3355                                                NaN    M                    \n",
       "3612                                           Swimming    M              >50   \n",
       "4302                                           Swimming    M                X   \n",
       "4325                                           Swimming    M         13 or 18   \n",
       "4643                                            Fishing  NaN  MAKE LINE GREEN   \n",
       "4700                       Fishing, casting in the surf    M          \"young\"   \n",
       "4929  Hospital Ship Centaur torpedoed & sunk by the ...    M                F   \n",
       "5054                                    Scooping prawns    M          Both 11   \n",
       "5139      Touching the mouth of a supposedly dead shark    F            young   \n",
       "5337                                           Swimming    M                    \n",
       "5423                                           Swimming    M             A.M.   \n",
       "6398                                            Surfing    M            young   \n",
       "\n",
       "                                                 injury fatal         time  \\\n",
       "2067             Left thumb lacerated PROVOKED INCIDENT     N    Afternoon   \n",
       "2068                 Thigh lacerated  PROVOKED INCIDENT     N        15h00   \n",
       "2684                            Lower right  leg bitten     N        10h30   \n",
       "3229           Human remains recovered from tiger shark   NaN          NaN   \n",
       "3355                                           Survived     N          NaN   \n",
       "3612                             FATAL, multiple bites      Y        11h30   \n",
       "4302           FATAL, died in Lourenco Marques Hospital     Y          NaN   \n",
       "4325                           FATAL, left thigh bitten     Y        14h30   \n",
       "4643          No injury to occupant, shark charged boat     N    Afternoon   \n",
       "4700                Severe lacerations of chest & thigh     N          NaN   \n",
       "4929                                              FATAL     Y  After 04h00   \n",
       "5054                                          No injury     N          NaN   \n",
       "5139                    Finger bitten PROVOKED INCIDENT     N          NaN   \n",
       "5337  FATAL, right buttock lacerated, left arm sever...     Y        17h30   \n",
       "5423                                              FATAL     Y          NaN   \n",
       "6398                         FATAL, buttock lacerated       Y          NaN   \n",
       "\n",
       "                                                species  \n",
       "2067                          1.8 m [6'] blacktip shark  \n",
       "2068                           Tiger shark, 1.5 m [5']k  \n",
       "2684                                     2' to 3' shark  \n",
       "3229  Shark involvement prior to death was not confi...  \n",
       "3355                                                NaN  \n",
       "3612  White shark according to tooth pattern and wit...  \n",
       "4302                                                NaN  \n",
       "4325                              Blue shark, 3 m [10']  \n",
       "4643                                   10' to 12' shark  \n",
       "4700                                  5.5 m [18'] shark  \n",
       "4929                                                NaN  \n",
       "5054                                           7' shark  \n",
       "5139                                                NaN  \n",
       "5337                                                NaN  \n",
       "5423                                                NaN  \n",
       "6398                                                NaN  "
      ]
     },
     "execution_count": 32,
     "metadata": {},
     "output_type": "execute_result"
    }
   ],
   "source": [
    "# Check rows that the age values does not make sense or can not be categorized\n",
    "df[df.age.apply(lambda x : True if x in ['\\xa0 ', 'X', ' ', '20?', '>50', '13 or 18', 'MAKE LINE GREEN', 'Ca. 33',\n",
    "                                         '\"young\"', 'F', 'Both 11', 'young', '  ', 'A.M.'] else False)]"
   ]
  },
  {
   "cell_type": "code",
   "execution_count": 33,
   "metadata": {
    "ExecuteTime": {
     "end_time": "2020-09-06T23:56:10.381738Z",
     "start_time": "2020-09-06T23:56:10.374757Z"
    }
   },
   "outputs": [
    {
     "name": "stdout",
     "output_type": "stream",
     "text": [
      "There are 16 rows containing \"&\" and they represent only 0.25% of the current dataframe.\n",
      "Since they can not be categorized, they will be removed from the dataframe"
     ]
    }
   ],
   "source": [
    "# Number of rows that have invalid age\n",
    "r_clean = len(df[df.age.apply(lambda x : True if x in ['\\xa0 ', 'X', ' ', '20?', '>50', '13 or 18', 'MAKE LINE GREEN',\n",
    "                                                       'Ca. 33', '\"young\"', 'F', 'Both 11', 'young', '  ', 'A.M.'] \n",
    "                              else False)].index)\n",
    "print(f'There are {r_clean} rows with invalid age and they represent only {(r_clean / n_rows) * 100:.2f}% of the', end=' '\n",
    "      f'current dataframe.\\nSince they can not be categorized, they will be removed from the dataframe', sep=' ')"
   ]
  },
  {
   "cell_type": "code",
   "execution_count": 34,
   "metadata": {
    "ExecuteTime": {
     "end_time": "2020-09-06T23:56:10.393707Z",
     "start_time": "2020-09-06T23:56:10.382735Z"
    }
   },
   "outputs": [
    {
     "name": "stdout",
     "output_type": "stream",
     "text": [
      "Before the removal, there was 6522 rows. After the removal, there is 6497 rows.\n"
     ]
    }
   ],
   "source": [
    "print(f'Before the removal, there was {n_rows} rows.', end=' ')\n",
    "\n",
    "# Remove the rows mentioned above\n",
    "df = df.drop(df[df.age.apply(lambda x : True if x in ['\\xa0 ', 'X', ' ', '20?', '>50', '13 or 18', 'MAKE LINE GREEN', \n",
    "                                                      'Ca. 33', '\"young\"', 'F', 'Both 11', 'young', '  ', 'A.M.', '30s',\n",
    "                                                     'a minor'] \n",
    "                             else False)].index)\n",
    "\n",
    "# Number of rows\n",
    "n_rows = df.shape[0]\n",
    "print(f'After the removal, there is {n_rows} rows.')"
   ]
  },
  {
   "cell_type": "code",
   "execution_count": 35,
   "metadata": {
    "ExecuteTime": {
     "end_time": "2020-09-06T23:56:10.400688Z",
     "start_time": "2020-09-06T23:56:10.394704Z"
    }
   },
   "outputs": [
    {
     "name": "stdout",
     "output_type": "stream",
     "text": [
      "Now, there are 124 unique values in this column.\n",
      "\n",
      "['50' '35' '55' nan '22' '14' '28' '38' '4' '63' '23' '11' '12' '10' '29'\n",
      " '15' '36' '7' '16' '30' '60' '18' '9' '26' '57' 'Teen' '24' '59' '13'\n",
      " '75' '21' '45' '33' '17' '37' '70' '44' '32' '20' '51' '22, 57, 31' '60s'\n",
      " '40' '49' \"20's\" '43' '8' '64' '19' '65' '67' '53' '34' '25' '58' '74'\n",
      " '46' '41' '31' '48' '20s' '42' '39' '56' '61' '6' '62' '52' '54' '69'\n",
      " '40s' '3' '82' '73' '68' '47' '66' '72' '27' '71' '18 months' '50s'\n",
      " 'teen' '77' '5' '86' '18 or 20' '12 or 13' 'Teens' '8 or 10' '84'\n",
      " '30 or 36' '6½' '33 or 37' 'mid-30s' ' 30' ' 28' \"60's\" '16 to 18' '87'\n",
      " 'Elderly' 'mid-20s' '74 ' '45 ' '21 or 26' '20 ' '18 to 22' 'adult'\n",
      " '9 months' '25 to 35' '1' '(adult)' '25 or 28' '\"middle-age\"'\n",
      " '2 to 3 months' ' 43' '81' '7 or 8' '78' '9 or 10' '10 or 12' '31 or 33'\n",
      " '2½' '13 or 14']\n"
     ]
    }
   ],
   "source": [
    "# Check the unique values\n",
    "print(f'Now, there are {len(list(df.age.unique()))} unique values in this column.\\n')\n",
    "print(df.age.unique())"
   ]
  },
  {
   "cell_type": "code",
   "execution_count": 36,
   "metadata": {
    "ExecuteTime": {
     "end_time": "2020-09-06T23:56:10.406671Z",
     "start_time": "2020-09-06T23:56:10.401685Z"
    }
   },
   "outputs": [
    {
     "data": {
      "text/plain": [
       "44.43589348930275"
      ]
     },
     "execution_count": 36,
     "metadata": {},
     "output_type": "execute_result"
    }
   ],
   "source": [
    "# Check % of missing values\n",
    "df.age.isna().mean()*100"
   ]
  },
  {
   "cell_type": "markdown",
   "metadata": {},
   "source": [
    "The percentage of missing values is too high and, if they are removed, it would greatly impact the dataset. So, for now, they will remain in the dataframe and they will be analyzed again later."
   ]
  },
  {
   "cell_type": "markdown",
   "metadata": {},
   "source": [
    "### Categorizing the age"
   ]
  },
  {
   "cell_type": "markdown",
   "metadata": {},
   "source": [
    "The column age will be categorized into:\n",
    "\n",
    "<table>\n",
    "    <thead>\n",
    "        <tr>\n",
    "            <th>AGE</th>\n",
    "            <th>CATEGORY</th>\n",
    "        </tr>\n",
    "    </thead>\n",
    "    <tbody>\n",
    "        <tr>\n",
    "            <td>< 11</td>\n",
    "            <td>Child</td>\n",
    "        </tr>\n",
    "        <tr>\n",
    "            <td>12 - 17</td>\n",
    "            <td>Teenager</td>\n",
    "        </tr>\n",
    "        <tr>\n",
    "            <td>18 - 35</td>\n",
    "            <td>Young Adult</td>\n",
    "        </tr>\n",
    "        <tr>\n",
    "            <td>36 - 65</td>\n",
    "            <td>Adult</td>\n",
    "        </tr>\n",
    "        <tr>\n",
    "            <td>> 65</td>\n",
    "            <td>Elder</td>\n",
    "        </tr>\n",
    "        <tr>\n",
    "            <td>NaN</td>\n",
    "            <td>No category</td>\n",
    "        </tr>\n",
    "    </tbody>\n",
    "</table>"
   ]
  },
  {
   "cell_type": "code",
   "execution_count": 37,
   "metadata": {
    "ExecuteTime": {
     "end_time": "2020-09-06T23:56:10.414650Z",
     "start_time": "2020-09-06T23:56:10.407669Z"
    }
   },
   "outputs": [],
   "source": [
    "# Create a function to categorize the ages\n",
    "def cat_ages(age: str):\n",
    "    '''\n",
    "    Categorizes an age.\n",
    "    \n",
    "    Args:\n",
    "    -----\n",
    "        age (str): a string containing an age\n",
    "    \n",
    "    Returns:\n",
    "    --------\n",
    "        category (str): a string containing the category\n",
    "    '''\n",
    "    \n",
    "    # Local variable that will store the category\n",
    "    category = ''\n",
    "    \n",
    "    # If the age is a digit\n",
    "    try:\n",
    "        age = int(age)\n",
    "        if age > 65:\n",
    "            category = 'Elder'\n",
    "        elif age > 35:\n",
    "            category = 'Adult'\n",
    "        elif age > 17:\n",
    "            category = 'Young Adult'\n",
    "        elif age > 11:\n",
    "            category = 'Teenager'\n",
    "        else:\n",
    "            category = 'Child'\n",
    "        \n",
    "        return category\n",
    "    \n",
    "    # If the age is a missing value or not a digit\n",
    "    except:\n",
    "        if age != age:\n",
    "            category = 'No category'\n",
    "        elif age in ['18 months', '8 or 10', '6½', '9 months', '2 to 3 months', '7 or 8', '9 or 10', '10 or 12', '2½']:\n",
    "            category = 'Child'\n",
    "        elif age in ['Teen', 'teen', '12 or 13', 'Teens', '16 to 18', '13 or 14']:\n",
    "            category = 'Teenager'\n",
    "        elif age in [\"20's\", '20s', '18 or 20', 'mid-20s', '30 or 36', '21 or 26', '18 to 22', '25 to 35', '25 or 28',\n",
    "                     '31 or 33']:\n",
    "            category = 'Young Adult'\n",
    "        elif age in ['40s', '50s', 'mid-30s', '33 or 37', 'adult', '(adult)', '\"middle-age\"']:\n",
    "            category = 'Adult'\n",
    "        elif age in ['60s', \"60's\", 'Elderly']:\n",
    "            category = 'Elder'\n",
    "        \n",
    "        return category"
   ]
  },
  {
   "cell_type": "code",
   "execution_count": 38,
   "metadata": {
    "ExecuteTime": {
     "end_time": "2020-09-06T23:56:10.424623Z",
     "start_time": "2020-09-06T23:56:10.415647Z"
    }
   },
   "outputs": [
    {
     "data": {
      "text/plain": [
       "No category    2887\n",
       "Young Adult    1723\n",
       "Adult           840\n",
       "Teenager        751\n",
       "Child           235\n",
       "Elder            60\n",
       "                  1\n",
       "Name: cat_age, dtype: int64"
      ]
     },
     "execution_count": 38,
     "metadata": {},
     "output_type": "execute_result"
    }
   ],
   "source": [
    "# Categorize the ages\n",
    "df['cat_age'] = df.age.apply(cat_ages)\n",
    "\n",
    "# Check the result\n",
    "df.cat_age.value_counts(dropna=False)"
   ]
  },
  {
   "cell_type": "code",
   "execution_count": 39,
   "metadata": {
    "ExecuteTime": {
     "end_time": "2020-09-06T23:56:10.430607Z",
     "start_time": "2020-09-06T23:56:10.425621Z"
    }
   },
   "outputs": [
    {
     "data": {
      "text/plain": [
       "True"
      ]
     },
     "execution_count": 39,
     "metadata": {},
     "output_type": "execute_result"
    }
   ],
   "source": [
    "# Check number of rows\n",
    "df.cat_age.value_counts(dropna=False).sum() == n_rows"
   ]
  },
  {
   "cell_type": "code",
   "execution_count": 40,
   "metadata": {
    "ExecuteTime": {
     "end_time": "2020-09-06T23:56:10.442576Z",
     "start_time": "2020-09-06T23:56:10.431605Z"
    }
   },
   "outputs": [
    {
     "name": "stdout",
     "output_type": "stream",
     "text": [
      "<class 'pandas.core.frame.DataFrame'>\n",
      "Int64Index: 6497 entries, 0 to 6557\n",
      "Data columns (total 14 columns):\n",
      " #   Column    Non-Null Count  Dtype  \n",
      "---  ------    --------------  -----  \n",
      " 0   date      6497 non-null   object \n",
      " 1   year      6495 non-null   float64\n",
      " 2   type      6491 non-null   object \n",
      " 3   country   6448 non-null   object \n",
      " 4   area      6034 non-null   object \n",
      " 5   location  5953 non-null   object \n",
      " 6   activity  5945 non-null   object \n",
      " 7   sex       5931 non-null   object \n",
      " 8   age       3610 non-null   object \n",
      " 9   injury    6467 non-null   object \n",
      " 10  fatal     5951 non-null   object \n",
      " 11  time      3115 non-null   object \n",
      " 12  species   3571 non-null   object \n",
      " 13  cat_age   6497 non-null   object \n",
      "dtypes: float64(1), object(13)\n",
      "memory usage: 761.4+ KB\n"
     ]
    }
   ],
   "source": [
    "# Check information about the dataframe\n",
    "df.info()"
   ]
  },
  {
   "cell_type": "code",
   "execution_count": 41,
   "metadata": {
    "ExecuteTime": {
     "end_time": "2020-09-06T23:56:10.455542Z",
     "start_time": "2020-09-06T23:56:10.443573Z"
    }
   },
   "outputs": [
    {
     "data": {
      "text/html": [
       "<div>\n",
       "<style scoped>\n",
       "    .dataframe tbody tr th:only-of-type {\n",
       "        vertical-align: middle;\n",
       "    }\n",
       "\n",
       "    .dataframe tbody tr th {\n",
       "        vertical-align: top;\n",
       "    }\n",
       "\n",
       "    .dataframe thead th {\n",
       "        text-align: right;\n",
       "    }\n",
       "</style>\n",
       "<table border=\"1\" class=\"dataframe\">\n",
       "  <thead>\n",
       "    <tr style=\"text-align: right;\">\n",
       "      <th></th>\n",
       "      <th>date</th>\n",
       "      <th>year</th>\n",
       "      <th>type</th>\n",
       "      <th>country</th>\n",
       "      <th>area</th>\n",
       "      <th>location</th>\n",
       "      <th>activity</th>\n",
       "      <th>sex</th>\n",
       "      <th>age</th>\n",
       "      <th>injury</th>\n",
       "      <th>fatal</th>\n",
       "      <th>time</th>\n",
       "      <th>species</th>\n",
       "      <th>cat_age</th>\n",
       "    </tr>\n",
       "  </thead>\n",
       "  <tbody>\n",
       "    <tr>\n",
       "      <th>0</th>\n",
       "      <td>20-Aug-2020</td>\n",
       "      <td>2020.0</td>\n",
       "      <td>Unprovoked</td>\n",
       "      <td>USA</td>\n",
       "      <td>Florida</td>\n",
       "      <td>New Smyrna Beach, Volusia County</td>\n",
       "      <td>Boogie boarding</td>\n",
       "      <td>F</td>\n",
       "      <td>50</td>\n",
       "      <td>Minor lacerations to left leg</td>\n",
       "      <td>N</td>\n",
       "      <td>11h00</td>\n",
       "      <td>NaN</td>\n",
       "      <td>Adult</td>\n",
       "    </tr>\n",
       "    <tr>\n",
       "      <th>1</th>\n",
       "      <td>14-Aug-2020</td>\n",
       "      <td>2020.0</td>\n",
       "      <td>Unprovoked</td>\n",
       "      <td>AUSTRALIA</td>\n",
       "      <td>New South Wales</td>\n",
       "      <td>Shelly Beach, Port Macquarie</td>\n",
       "      <td>Surfing</td>\n",
       "      <td>F</td>\n",
       "      <td>35</td>\n",
       "      <td>Lacerations to right calf and posterior thigh</td>\n",
       "      <td>N</td>\n",
       "      <td>09h30</td>\n",
       "      <td>White shark, 2-to 3m</td>\n",
       "      <td>Young Adult</td>\n",
       "    </tr>\n",
       "    <tr>\n",
       "      <th>2</th>\n",
       "      <td>10-Aug-2020</td>\n",
       "      <td>2020.0</td>\n",
       "      <td>Provoked</td>\n",
       "      <td>USA</td>\n",
       "      <td>Florida</td>\n",
       "      <td>Off Gasparilla Island, Charlotte County</td>\n",
       "      <td>Fishing</td>\n",
       "      <td>M</td>\n",
       "      <td>55</td>\n",
       "      <td>Injury to left forearm by hooked shark PROVOKE...</td>\n",
       "      <td>N</td>\n",
       "      <td>16h00</td>\n",
       "      <td>Blacktip shark, 6'</td>\n",
       "      <td>Adult</td>\n",
       "    </tr>\n",
       "    <tr>\n",
       "      <th>3</th>\n",
       "      <td>02-Aug-2020</td>\n",
       "      <td>2020.0</td>\n",
       "      <td>Unprovoked</td>\n",
       "      <td>USA</td>\n",
       "      <td>Virgin Islands</td>\n",
       "      <td>Candle Reef, St. Croix</td>\n",
       "      <td>Snorkeling</td>\n",
       "      <td>F</td>\n",
       "      <td>NaN</td>\n",
       "      <td>Lacerations to hand and wrist</td>\n",
       "      <td>N</td>\n",
       "      <td>14h00</td>\n",
       "      <td>Nurse shark, 5'</td>\n",
       "      <td>No category</td>\n",
       "    </tr>\n",
       "    <tr>\n",
       "      <th>4</th>\n",
       "      <td>31-Jul-2020</td>\n",
       "      <td>2020.0</td>\n",
       "      <td>Unprovoked</td>\n",
       "      <td>USA</td>\n",
       "      <td>Florida</td>\n",
       "      <td>New Smyrna Beach, Volusia County</td>\n",
       "      <td>Surfing</td>\n",
       "      <td>F</td>\n",
       "      <td>22</td>\n",
       "      <td>Lacerations to foot</td>\n",
       "      <td>N</td>\n",
       "      <td>17h00</td>\n",
       "      <td>NaN</td>\n",
       "      <td>Young Adult</td>\n",
       "    </tr>\n",
       "  </tbody>\n",
       "</table>\n",
       "</div>"
      ],
      "text/plain": [
       "          date    year        type    country             area  \\\n",
       "0  20-Aug-2020  2020.0  Unprovoked        USA          Florida   \n",
       "1  14-Aug-2020  2020.0  Unprovoked  AUSTRALIA  New South Wales   \n",
       "2  10-Aug-2020  2020.0    Provoked        USA          Florida   \n",
       "3  02-Aug-2020  2020.0  Unprovoked        USA   Virgin Islands   \n",
       "4  31-Jul-2020  2020.0  Unprovoked        USA          Florida   \n",
       "\n",
       "                                  location         activity sex  age  \\\n",
       "0         New Smyrna Beach, Volusia County  Boogie boarding   F   50   \n",
       "1             Shelly Beach, Port Macquarie          Surfing   F   35   \n",
       "2  Off Gasparilla Island, Charlotte County          Fishing   M   55   \n",
       "3                   Candle Reef, St. Croix       Snorkeling   F  NaN   \n",
       "4         New Smyrna Beach, Volusia County          Surfing   F   22   \n",
       "\n",
       "                                              injury fatal   time  \\\n",
       "0                      Minor lacerations to left leg     N  11h00   \n",
       "1      Lacerations to right calf and posterior thigh     N  09h30   \n",
       "2  Injury to left forearm by hooked shark PROVOKE...     N  16h00   \n",
       "3                      Lacerations to hand and wrist     N  14h00   \n",
       "4                               Lacerations to foot      N  17h00   \n",
       "\n",
       "                species      cat_age  \n",
       "0                   NaN        Adult  \n",
       "1  White shark, 2-to 3m  Young Adult  \n",
       "2    Blacktip shark, 6'        Adult  \n",
       "3       Nurse shark, 5'  No category  \n",
       "4                   NaN  Young Adult  "
      ]
     },
     "execution_count": 41,
     "metadata": {},
     "output_type": "execute_result"
    }
   ],
   "source": [
    "# Check the dataset\n",
    "df.head()"
   ]
  },
  {
   "cell_type": "markdown",
   "metadata": {},
   "source": [
    "## Activity"
   ]
  },
  {
   "cell_type": "code",
   "execution_count": 42,
   "metadata": {
    "ExecuteTime": {
     "end_time": "2020-09-06T23:56:10.462523Z",
     "start_time": "2020-09-06T23:56:10.456538Z"
    }
   },
   "outputs": [
    {
     "name": "stdout",
     "output_type": "stream",
     "text": [
      "There are 1531 unique values in this column.\n",
      "\n"
     ]
    },
    {
     "data": {
      "text/plain": [
       "array(['Boogie boarding', 'Surfing', 'Fishing', ...,\n",
       "       'Crew swimming alongside their anchored ship',\n",
       "       '4 men were bathing', 'Wreck of  large double sailing canoe'],\n",
       "      dtype=object)"
      ]
     },
     "execution_count": 42,
     "metadata": {},
     "output_type": "execute_result"
    }
   ],
   "source": [
    "# Check the unique values in the column\n",
    "print(f'There are {len(list(df.activity.unique()))} unique values in this column.\\n')\n",
    "df.activity.unique()"
   ]
  },
  {
   "cell_type": "code",
   "execution_count": 43,
   "metadata": {
    "ExecuteTime": {
     "end_time": "2020-09-06T23:56:10.469504Z",
     "start_time": "2020-09-06T23:56:10.463519Z"
    }
   },
   "outputs": [
    {
     "data": {
      "text/plain": [
       "array(['Boogie boarding', 'Surfing', 'Fishing', ...,\n",
       "       'Crew swimming alongside their anchored ship',\n",
       "       '4 men were bathing', 'Wreck of  large double sailing canoe'],\n",
       "      dtype=object)"
      ]
     },
     "execution_count": 43,
     "metadata": {},
     "output_type": "execute_result"
    }
   ],
   "source": [
    "df.activity.unique()"
   ]
  },
  {
   "cell_type": "code",
   "execution_count": 44,
   "metadata": {
    "ExecuteTime": {
     "end_time": "2020-09-06T23:56:10.478481Z",
     "start_time": "2020-09-06T23:56:10.470501Z"
    }
   },
   "outputs": [
    {
     "data": {
      "text/plain": [
       "Surfing                                     1034\n",
       "Swimming                                     888\n",
       "NaN                                          552\n",
       "Fishing                                      454\n",
       "Spearfishing                                 354\n",
       "                                            ... \n",
       "Checking fish traps, fell into the water       1\n",
       "Jumping in swells                              1\n",
       "Swimming to shore from capsized kayak          1\n",
       "Free diving Spearfishing                       1\n",
       "Wakeboarding                                   1\n",
       "Name: activity, Length: 1531, dtype: int64"
      ]
     },
     "execution_count": 44,
     "metadata": {},
     "output_type": "execute_result"
    }
   ],
   "source": [
    "# Check the number of each value\n",
    "df.activity.value_counts(dropna=False)"
   ]
  },
  {
   "cell_type": "code",
   "execution_count": 45,
   "metadata": {
    "ExecuteTime": {
     "end_time": "2020-09-06T23:56:10.492442Z",
     "start_time": "2020-09-06T23:56:10.479477Z"
    }
   },
   "outputs": [
    {
     "data": {
      "text/plain": [
       "Surfing                                                  1039\n",
       "Swimming                                                  935\n",
       "NaN                                                       552\n",
       "Fishing                                                   469\n",
       "Spearfishing                                              362\n",
       "                                                         ... \n",
       "Free diving, working on U/W scenes for motion picture       1\n",
       "Checking fish traps, fell into the water                    1\n",
       "Jumping in swells                                           1\n",
       "Swimming to shore from capsized kayak                       1\n",
       "Wakeboarding                                                1\n",
       "Name: activity, Length: 1502, dtype: int64"
      ]
     },
     "execution_count": 45,
     "metadata": {},
     "output_type": "execute_result"
    }
   ],
   "source": [
    "# Remove unnecessary spaces in the values\n",
    "df.activity = df.activity.str.strip()\n",
    "\n",
    "# Check the result\n",
    "df.activity.value_counts(dropna=False)"
   ]
  },
  {
   "cell_type": "code",
   "execution_count": 46,
   "metadata": {
    "ExecuteTime": {
     "end_time": "2020-09-06T23:56:10.499423Z",
     "start_time": "2020-09-06T23:56:10.493440Z"
    }
   },
   "outputs": [
    {
     "name": "stdout",
     "output_type": "stream",
     "text": [
      "Now, there are 1502 unique values in this column.\n",
      "\n"
     ]
    },
    {
     "data": {
      "text/plain": [
       "array(['Boogie boarding', 'Surfing', 'Fishing', ...,\n",
       "       'Crew swimming alongside their anchored ship',\n",
       "       '4 men were bathing', 'Wreck of  large double sailing canoe'],\n",
       "      dtype=object)"
      ]
     },
     "execution_count": 46,
     "metadata": {},
     "output_type": "execute_result"
    }
   ],
   "source": [
    "# Check the unique values in the column\n",
    "print(f'Now, there are {len(list(df.activity.unique()))} unique values in this column.\\n')\n",
    "df.activity.unique()"
   ]
  },
  {
   "cell_type": "markdown",
   "metadata": {},
   "source": [
    "For this analysis, only the activity that was involved the most in the shark incidents is important, but I will check the top 10 activities."
   ]
  },
  {
   "cell_type": "code",
   "execution_count": 47,
   "metadata": {
    "ExecuteTime": {
     "end_time": "2020-09-06T23:56:10.507402Z",
     "start_time": "2020-09-06T23:56:10.500421Z"
    }
   },
   "outputs": [
    {
     "data": {
      "text/plain": [
       "Surfing         1039\n",
       "Swimming         935\n",
       "NaN              552\n",
       "Fishing          469\n",
       "Spearfishing     362\n",
       "Bathing          166\n",
       "Wading           160\n",
       "Diving           134\n",
       "Standing         106\n",
       "Snorkeling       102\n",
       "Name: activity, dtype: int64"
      ]
     },
     "execution_count": 47,
     "metadata": {},
     "output_type": "execute_result"
    }
   ],
   "source": [
    "# Check the top 10 actvities\n",
    "df.activity.value_counts(dropna=False).head(10)"
   ]
  },
  {
   "cell_type": "markdown",
   "metadata": {},
   "source": [
    "## Year"
   ]
  },
  {
   "cell_type": "markdown",
   "metadata": {},
   "source": [
    "### Data Cleaning"
   ]
  },
  {
   "cell_type": "code",
   "execution_count": 48,
   "metadata": {
    "ExecuteTime": {
     "end_time": "2020-09-06T23:56:10.519370Z",
     "start_time": "2020-09-06T23:56:10.508401Z"
    }
   },
   "outputs": [
    {
     "name": "stdout",
     "output_type": "stream",
     "text": [
      "<class 'pandas.core.frame.DataFrame'>\n",
      "Int64Index: 6497 entries, 0 to 6557\n",
      "Data columns (total 14 columns):\n",
      " #   Column    Non-Null Count  Dtype  \n",
      "---  ------    --------------  -----  \n",
      " 0   date      6497 non-null   object \n",
      " 1   year      6495 non-null   float64\n",
      " 2   type      6491 non-null   object \n",
      " 3   country   6448 non-null   object \n",
      " 4   area      6034 non-null   object \n",
      " 5   location  5953 non-null   object \n",
      " 6   activity  5945 non-null   object \n",
      " 7   sex       5931 non-null   object \n",
      " 8   age       3610 non-null   object \n",
      " 9   injury    6467 non-null   object \n",
      " 10  fatal     5951 non-null   object \n",
      " 11  time      3115 non-null   object \n",
      " 12  species   3571 non-null   object \n",
      " 13  cat_age   6497 non-null   object \n",
      "dtypes: float64(1), object(13)\n",
      "memory usage: 761.4+ KB\n"
     ]
    }
   ],
   "source": [
    "# Check infromation about the dataframe\n",
    "df.info()"
   ]
  },
  {
   "cell_type": "markdown",
   "metadata": {},
   "source": [
    "It is clear that the column `year` has only 2 missing values."
   ]
  },
  {
   "cell_type": "code",
   "execution_count": 49,
   "metadata": {
    "ExecuteTime": {
     "end_time": "2020-09-06T23:56:10.526351Z",
     "start_time": "2020-09-06T23:56:10.520368Z"
    },
    "scrolled": false
   },
   "outputs": [
    {
     "name": "stdout",
     "output_type": "stream",
     "text": [
      "There are 250 unique values in this column.\n",
      "\n"
     ]
    },
    {
     "data": {
      "text/plain": [
       "array([2020., 2019., 2018., 2017.,   nan, 2016., 2015., 2014., 2013.,\n",
       "       2012., 2011., 2010., 2009., 2008., 2007., 2006., 2005., 2004.,\n",
       "       2003., 2002., 2001., 2000., 1999., 1998., 1997., 1996., 1995.,\n",
       "       1984., 1994., 1993., 1992., 1991., 1990., 1989., 1969., 1988.,\n",
       "       1987., 1986., 1985., 1983., 1982., 1981., 1980., 1979., 1978.,\n",
       "       1977., 1976., 1975., 1974., 1973., 1972., 1971., 1970., 1968.,\n",
       "       1967., 1966., 1965., 1964., 1963., 1962., 1961., 1960., 1959.,\n",
       "       1958., 1957., 1956., 1955., 1954., 1953., 1952., 1951., 1950.,\n",
       "       1949., 1948., 1848., 1947., 1946., 1945., 1944., 1943., 1942.,\n",
       "       1941., 1940., 1939., 1938., 1937., 1936., 1935., 1934., 1933.,\n",
       "       1932., 1931., 1930., 1929., 1928., 1927., 1926., 1925., 1924.,\n",
       "       1923., 1922., 1921., 1920., 1919., 1918., 1917., 1916., 1915.,\n",
       "       1914., 1913., 1912., 1911., 1910., 1909., 1908., 1907., 1906.,\n",
       "       1905., 1904., 1903., 1902., 1901., 1900., 1899., 1898., 1897.,\n",
       "       1896., 1895., 1894., 1893., 1892., 1891., 1890., 1889., 1888.,\n",
       "       1887., 1886., 1885., 1884., 1883., 1882., 1881., 1880., 1879.,\n",
       "       1878., 1877., 1876., 1875., 1874., 1873., 1872., 1871., 1870.,\n",
       "       1869., 1868., 1867., 1866., 1865., 1864., 1863., 1862., 1861.,\n",
       "       1860., 1859., 1858., 1857., 1856., 1855., 1853., 1852., 1851.,\n",
       "       1850., 1849., 1847., 1846., 1845., 1844., 1842., 1841., 1840.,\n",
       "       1839., 1837., 1836., 1835., 1834., 1832., 1831., 1830., 1829.,\n",
       "       1828., 1827., 1826., 1825., 1823., 1822., 1819., 1818., 1817.,\n",
       "       1816., 1815., 1812., 1811., 1810., 1808., 1807., 1805., 1804.,\n",
       "       1803., 1802., 1800., 1797., 1792., 1791., 1788., 1787., 1786.,\n",
       "       1785., 1784., 1783., 1780., 1776., 1771., 1767., 1764., 1758.,\n",
       "       1753., 1751., 1749., 1755., 1748., 1742., 1738., 1733., 1723.,\n",
       "       1721., 1703., 1700., 1642., 1638., 1637., 1617., 1595., 1580.,\n",
       "       1555., 1554., 1543.,  500.,   77.,    5.,    0.])"
      ]
     },
     "execution_count": 49,
     "metadata": {},
     "output_type": "execute_result"
    }
   ],
   "source": [
    "# Check values in the column\n",
    "print(f'There are {len(list(df.year.unique()))} unique values in this column.\\n')\n",
    "df.year.unique()"
   ]
  },
  {
   "cell_type": "markdown",
   "metadata": {},
   "source": [
    "The idea for the column `year` is to categorize it to century from XIX to XXI."
   ]
  },
  {
   "cell_type": "code",
   "execution_count": 50,
   "metadata": {
    "ExecuteTime": {
     "end_time": "2020-09-06T23:56:10.544304Z",
     "start_time": "2020-09-06T23:56:10.527349Z"
    }
   },
   "outputs": [
    {
     "data": {
      "text/html": [
       "<div>\n",
       "<style scoped>\n",
       "    .dataframe tbody tr th:only-of-type {\n",
       "        vertical-align: middle;\n",
       "    }\n",
       "\n",
       "    .dataframe tbody tr th {\n",
       "        vertical-align: top;\n",
       "    }\n",
       "\n",
       "    .dataframe thead th {\n",
       "        text-align: right;\n",
       "    }\n",
       "</style>\n",
       "<table border=\"1\" class=\"dataframe\">\n",
       "  <thead>\n",
       "    <tr style=\"text-align: right;\">\n",
       "      <th></th>\n",
       "      <th>date</th>\n",
       "      <th>year</th>\n",
       "      <th>type</th>\n",
       "      <th>country</th>\n",
       "      <th>area</th>\n",
       "      <th>location</th>\n",
       "      <th>activity</th>\n",
       "      <th>sex</th>\n",
       "      <th>age</th>\n",
       "      <th>injury</th>\n",
       "      <th>fatal</th>\n",
       "      <th>time</th>\n",
       "      <th>species</th>\n",
       "      <th>cat_age</th>\n",
       "    </tr>\n",
       "  </thead>\n",
       "  <tbody>\n",
       "    <tr>\n",
       "      <th>428</th>\n",
       "      <td>Reported 08-Jan-2017</td>\n",
       "      <td>NaN</td>\n",
       "      <td>Invalid</td>\n",
       "      <td>AUSTRALIA</td>\n",
       "      <td>Queensland</td>\n",
       "      <td>NaN</td>\n",
       "      <td>Spearfishing</td>\n",
       "      <td>M</td>\n",
       "      <td>35</td>\n",
       "      <td>No attack, shark made a threat display</td>\n",
       "      <td>NaN</td>\n",
       "      <td>NaN</td>\n",
       "      <td>Bull shark</td>\n",
       "      <td>Young Adult</td>\n",
       "    </tr>\n",
       "    <tr>\n",
       "      <th>6334</th>\n",
       "      <td>Reported 19-Aug-1836</td>\n",
       "      <td>NaN</td>\n",
       "      <td>Unprovoked</td>\n",
       "      <td>ENGLAND</td>\n",
       "      <td>Cumberland</td>\n",
       "      <td>Whitehaven</td>\n",
       "      <td>Swimming</td>\n",
       "      <td>M</td>\n",
       "      <td>NaN</td>\n",
       "      <td>FATAL</td>\n",
       "      <td>Y</td>\n",
       "      <td>NaN</td>\n",
       "      <td>NaN</td>\n",
       "      <td>No category</td>\n",
       "    </tr>\n",
       "    <tr>\n",
       "      <th>6387</th>\n",
       "      <td>1800</td>\n",
       "      <td>1800.0</td>\n",
       "      <td>Unprovoked</td>\n",
       "      <td>SEYCHELLES</td>\n",
       "      <td>St. Anne</td>\n",
       "      <td>NaN</td>\n",
       "      <td>a corsair's boat was overturned</td>\n",
       "      <td>F</td>\n",
       "      <td>NaN</td>\n",
       "      <td>FATAL, all onboard were killed by sharks</td>\n",
       "      <td>Y</td>\n",
       "      <td>NaN</td>\n",
       "      <td>NaN</td>\n",
       "      <td>No category</td>\n",
       "    </tr>\n",
       "    <tr>\n",
       "      <th>6388</th>\n",
       "      <td>Reported May-28-1797</td>\n",
       "      <td>1797.0</td>\n",
       "      <td>Unprovoked</td>\n",
       "      <td>NaN</td>\n",
       "      <td>NaN</td>\n",
       "      <td>NaN</td>\n",
       "      <td>Dropped overboard</td>\n",
       "      <td>NaN</td>\n",
       "      <td>NaN</td>\n",
       "      <td>FATAL</td>\n",
       "      <td>Y</td>\n",
       "      <td>NaN</td>\n",
       "      <td>NaN</td>\n",
       "      <td>No category</td>\n",
       "    </tr>\n",
       "    <tr>\n",
       "      <th>6389</th>\n",
       "      <td>12-Sep-1792</td>\n",
       "      <td>1792.0</td>\n",
       "      <td>Provoked</td>\n",
       "      <td>ENGLAND</td>\n",
       "      <td>NaN</td>\n",
       "      <td>On the Thames River</td>\n",
       "      <td>Fishing</td>\n",
       "      <td>M</td>\n",
       "      <td>NaN</td>\n",
       "      <td>FATAL, PROVOKED INCIDENT</td>\n",
       "      <td>Y</td>\n",
       "      <td>NaN</td>\n",
       "      <td>NaN</td>\n",
       "      <td>No category</td>\n",
       "    </tr>\n",
       "    <tr>\n",
       "      <th>...</th>\n",
       "      <td>...</td>\n",
       "      <td>...</td>\n",
       "      <td>...</td>\n",
       "      <td>...</td>\n",
       "      <td>...</td>\n",
       "      <td>...</td>\n",
       "      <td>...</td>\n",
       "      <td>...</td>\n",
       "      <td>...</td>\n",
       "      <td>...</td>\n",
       "      <td>...</td>\n",
       "      <td>...</td>\n",
       "      <td>...</td>\n",
       "      <td>...</td>\n",
       "    </tr>\n",
       "    <tr>\n",
       "      <th>6553</th>\n",
       "      <td>Before 1903</td>\n",
       "      <td>0.0</td>\n",
       "      <td>Unprovoked</td>\n",
       "      <td>AUSTRALIA</td>\n",
       "      <td>Western Australia</td>\n",
       "      <td>Roebuck Bay</td>\n",
       "      <td>Diving</td>\n",
       "      <td>M</td>\n",
       "      <td>NaN</td>\n",
       "      <td>FATAL</td>\n",
       "      <td>Y</td>\n",
       "      <td>NaN</td>\n",
       "      <td>NaN</td>\n",
       "      <td>No category</td>\n",
       "    </tr>\n",
       "    <tr>\n",
       "      <th>6554</th>\n",
       "      <td>Before 1903</td>\n",
       "      <td>0.0</td>\n",
       "      <td>Unprovoked</td>\n",
       "      <td>AUSTRALIA</td>\n",
       "      <td>Western Australia</td>\n",
       "      <td>NaN</td>\n",
       "      <td>Pearl diving</td>\n",
       "      <td>M</td>\n",
       "      <td>NaN</td>\n",
       "      <td>FATAL</td>\n",
       "      <td>Y</td>\n",
       "      <td>NaN</td>\n",
       "      <td>NaN</td>\n",
       "      <td>No category</td>\n",
       "    </tr>\n",
       "    <tr>\n",
       "      <th>6555</th>\n",
       "      <td>1900-1905</td>\n",
       "      <td>0.0</td>\n",
       "      <td>Unprovoked</td>\n",
       "      <td>USA</td>\n",
       "      <td>North Carolina</td>\n",
       "      <td>Ocracoke Inlet</td>\n",
       "      <td>Swimming</td>\n",
       "      <td>M</td>\n",
       "      <td>NaN</td>\n",
       "      <td>FATAL</td>\n",
       "      <td>Y</td>\n",
       "      <td>NaN</td>\n",
       "      <td>NaN</td>\n",
       "      <td>No category</td>\n",
       "    </tr>\n",
       "    <tr>\n",
       "      <th>6556</th>\n",
       "      <td>1883-1889</td>\n",
       "      <td>0.0</td>\n",
       "      <td>Unprovoked</td>\n",
       "      <td>PANAMA</td>\n",
       "      <td>NaN</td>\n",
       "      <td>Panama Bay 8ºN, 79ºW</td>\n",
       "      <td>NaN</td>\n",
       "      <td>M</td>\n",
       "      <td>NaN</td>\n",
       "      <td>FATAL</td>\n",
       "      <td>Y</td>\n",
       "      <td>NaN</td>\n",
       "      <td>NaN</td>\n",
       "      <td>No category</td>\n",
       "    </tr>\n",
       "    <tr>\n",
       "      <th>6557</th>\n",
       "      <td>1845-1853</td>\n",
       "      <td>0.0</td>\n",
       "      <td>Unprovoked</td>\n",
       "      <td>CEYLON (SRI LANKA)</td>\n",
       "      <td>Eastern Province</td>\n",
       "      <td>Below the English fort, Trincomalee</td>\n",
       "      <td>Swimming</td>\n",
       "      <td>M</td>\n",
       "      <td>15</td>\n",
       "      <td>FATAL. \"Shark bit him in half, carrying away t...</td>\n",
       "      <td>Y</td>\n",
       "      <td>NaN</td>\n",
       "      <td>NaN</td>\n",
       "      <td>Teenager</td>\n",
       "    </tr>\n",
       "  </tbody>\n",
       "</table>\n",
       "<p>172 rows × 14 columns</p>\n",
       "</div>"
      ],
      "text/plain": [
       "                      date    year        type             country  \\\n",
       "428   Reported 08-Jan-2017     NaN     Invalid           AUSTRALIA   \n",
       "6334  Reported 19-Aug-1836     NaN  Unprovoked             ENGLAND   \n",
       "6387                  1800  1800.0  Unprovoked          SEYCHELLES   \n",
       "6388  Reported May-28-1797  1797.0  Unprovoked                 NaN   \n",
       "6389           12-Sep-1792  1792.0    Provoked             ENGLAND   \n",
       "...                    ...     ...         ...                 ...   \n",
       "6553           Before 1903     0.0  Unprovoked           AUSTRALIA   \n",
       "6554           Before 1903     0.0  Unprovoked           AUSTRALIA   \n",
       "6555             1900-1905     0.0  Unprovoked                 USA   \n",
       "6556             1883-1889     0.0  Unprovoked              PANAMA   \n",
       "6557             1845-1853     0.0  Unprovoked  CEYLON (SRI LANKA)   \n",
       "\n",
       "                   area                             location  \\\n",
       "428          Queensland                                  NaN   \n",
       "6334         Cumberland                           Whitehaven   \n",
       "6387           St. Anne                                  NaN   \n",
       "6388                NaN                                  NaN   \n",
       "6389                NaN                  On the Thames River   \n",
       "...                 ...                                  ...   \n",
       "6553  Western Australia                          Roebuck Bay   \n",
       "6554  Western Australia                                  NaN   \n",
       "6555     North Carolina                       Ocracoke Inlet   \n",
       "6556                NaN                 Panama Bay 8ºN, 79ºW   \n",
       "6557   Eastern Province  Below the English fort, Trincomalee   \n",
       "\n",
       "                             activity  sex  age  \\\n",
       "428                      Spearfishing    M   35   \n",
       "6334                         Swimming    M  NaN   \n",
       "6387  a corsair's boat was overturned    F  NaN   \n",
       "6388                Dropped overboard  NaN  NaN   \n",
       "6389                          Fishing    M  NaN   \n",
       "...                               ...  ...  ...   \n",
       "6553                           Diving    M  NaN   \n",
       "6554                     Pearl diving    M  NaN   \n",
       "6555                         Swimming    M  NaN   \n",
       "6556                              NaN    M  NaN   \n",
       "6557                         Swimming    M   15   \n",
       "\n",
       "                                                 injury fatal time  \\\n",
       "428              No attack, shark made a threat display   NaN  NaN   \n",
       "6334                                              FATAL     Y  NaN   \n",
       "6387           FATAL, all onboard were killed by sharks     Y  NaN   \n",
       "6388                                              FATAL     Y  NaN   \n",
       "6389                           FATAL, PROVOKED INCIDENT     Y  NaN   \n",
       "...                                                 ...   ...  ...   \n",
       "6553                                              FATAL     Y  NaN   \n",
       "6554                                              FATAL     Y  NaN   \n",
       "6555                                              FATAL     Y  NaN   \n",
       "6556                                              FATAL     Y  NaN   \n",
       "6557  FATAL. \"Shark bit him in half, carrying away t...     Y  NaN   \n",
       "\n",
       "         species      cat_age  \n",
       "428   Bull shark  Young Adult  \n",
       "6334         NaN  No category  \n",
       "6387         NaN  No category  \n",
       "6388         NaN  No category  \n",
       "6389         NaN  No category  \n",
       "...          ...          ...  \n",
       "6553         NaN  No category  \n",
       "6554         NaN  No category  \n",
       "6555         NaN  No category  \n",
       "6556         NaN  No category  \n",
       "6557         NaN     Teenager  \n",
       "\n",
       "[172 rows x 14 columns]"
      ]
     },
     "execution_count": 50,
     "metadata": {},
     "output_type": "execute_result"
    }
   ],
   "source": [
    "# Check rows that the value is before 1801 or a missing value\n",
    "date_before_xix = df[(df.year < 1801) | (df.year.isna())]\n",
    "date_before_xix"
   ]
  },
  {
   "cell_type": "code",
   "execution_count": 51,
   "metadata": {
    "ExecuteTime": {
     "end_time": "2020-09-06T23:56:10.551285Z",
     "start_time": "2020-09-06T23:56:10.546307Z"
    }
   },
   "outputs": [
    {
     "name": "stdout",
     "output_type": "stream",
     "text": [
      "There are 172 rows that have this condition and they represent only 0.03% of the current dataframe, they will be removed.\n"
     ]
    }
   ],
   "source": [
    "print(f'There are {len(date_before_xix.index)} rows that have this condition and they represent only '\n",
    "      f'{len(date_before_xix.index) / n_rows:.2f}% of the current dataframe, they will be removed.', sep=' ')"
   ]
  },
  {
   "cell_type": "code",
   "execution_count": 52,
   "metadata": {
    "ExecuteTime": {
     "end_time": "2020-09-06T23:56:10.559264Z",
     "start_time": "2020-09-06T23:56:10.553280Z"
    }
   },
   "outputs": [
    {
     "name": "stdout",
     "output_type": "stream",
     "text": [
      "Before the removal, there was 6497 rows. After the removal, there is 6325 rows.\n"
     ]
    }
   ],
   "source": [
    "print(f'Before the removal, there was {n_rows} rows.', end=' ')\n",
    "\n",
    "# Remove the rows mentioned above\n",
    "df = df.drop(date_before_xix.index)\n",
    "\n",
    "# Number of rows\n",
    "n_rows = df.shape[0]\n",
    "print(f'After the removal, there is {n_rows} rows.')"
   ]
  },
  {
   "cell_type": "markdown",
   "metadata": {},
   "source": [
    "### Categorizing the year"
   ]
  },
  {
   "cell_type": "markdown",
   "metadata": {},
   "source": [
    "The column year will be categorized into:\n",
    "\n",
    "<table>\n",
    "    <thead>\n",
    "        <tr>\n",
    "            <th>YEARS</th>\n",
    "            <th>CATEGORY</th>\n",
    "        </tr>\n",
    "    </thead>\n",
    "    <tbody>\n",
    "        <tr>\n",
    "            <td>1801 - 1900</td>\n",
    "            <td>XIX</td>\n",
    "        </tr>\n",
    "        <tr>\n",
    "            <td>1901 - 2000</td>\n",
    "            <td>XX</td>\n",
    "        </tr>\n",
    "        <tr>\n",
    "            <td>> 2000</td>\n",
    "            <td>XIX</td>\n",
    "        </tr>\n",
    "    </tbody>\n",
    "</table>"
   ]
  },
  {
   "cell_type": "code",
   "execution_count": 53,
   "metadata": {
    "ExecuteTime": {
     "end_time": "2020-09-06T23:56:10.564250Z",
     "start_time": "2020-09-06T23:56:10.559264Z"
    }
   },
   "outputs": [],
   "source": [
    "def cat_year(year):\n",
    "    '''\n",
    "    Categorizes a year to a century.\n",
    "    \n",
    "    Args:\n",
    "    -----\n",
    "        age (float): a floatg containing a year\n",
    "    \n",
    "    Returns:\n",
    "    --------\n",
    "        category (str): a string containing the century\n",
    "    '''\n",
    "    \n",
    "    category = None\n",
    "    \n",
    "    if 1800 < year <= 1900:\n",
    "        category = 'XIX'\n",
    "    elif 1900 < year <= 2000:\n",
    "        category = 'XX'\n",
    "    else:\n",
    "        category = 'XXI'\n",
    "    \n",
    "    return category"
   ]
  },
  {
   "cell_type": "code",
   "execution_count": 54,
   "metadata": {
    "ExecuteTime": {
     "end_time": "2020-09-06T23:56:10.576218Z",
     "start_time": "2020-09-06T23:56:10.565249Z"
    }
   },
   "outputs": [
    {
     "data": {
      "text/plain": [
       "XX     3538\n",
       "XXI    2207\n",
       "XIX     580\n",
       "Name: century, dtype: int64"
      ]
     },
     "execution_count": 54,
     "metadata": {},
     "output_type": "execute_result"
    }
   ],
   "source": [
    "# Categorize the years\n",
    "df['century'] = df.year.apply(cat_year)\n",
    "\n",
    "# Check the result\n",
    "df.century.value_counts(dropna=False)"
   ]
  },
  {
   "cell_type": "code",
   "execution_count": 55,
   "metadata": {
    "ExecuteTime": {
     "end_time": "2020-09-06T23:56:10.581738Z",
     "start_time": "2020-09-06T23:56:10.577216Z"
    }
   },
   "outputs": [
    {
     "data": {
      "text/plain": [
       "True"
      ]
     },
     "execution_count": 55,
     "metadata": {},
     "output_type": "execute_result"
    }
   ],
   "source": [
    "# Check number of rows\n",
    "df.century.value_counts(dropna=False).sum() == n_rows"
   ]
  },
  {
   "cell_type": "markdown",
   "metadata": {},
   "source": [
    "# Final Dataframe to use in the analysis"
   ]
  },
  {
   "cell_type": "code",
   "execution_count": 56,
   "metadata": {
    "ExecuteTime": {
     "end_time": "2020-09-06T23:56:10.585723Z",
     "start_time": "2020-09-06T23:56:10.582732Z"
    }
   },
   "outputs": [
    {
     "name": "stdout",
     "output_type": "stream",
     "text": [
      "After cleaning the dataset, only 0.03% was removed.\n"
     ]
    }
   ],
   "source": [
    "print(f'After cleaning the dataset, only {1 - (n_rows / n_rows_initial):.2f}% was removed.')"
   ]
  },
  {
   "cell_type": "code",
   "execution_count": 57,
   "metadata": {
    "ExecuteTime": {
     "end_time": "2020-09-06T23:56:10.599686Z",
     "start_time": "2020-09-06T23:56:10.586720Z"
    }
   },
   "outputs": [
    {
     "data": {
      "text/html": [
       "<div>\n",
       "<style scoped>\n",
       "    .dataframe tbody tr th:only-of-type {\n",
       "        vertical-align: middle;\n",
       "    }\n",
       "\n",
       "    .dataframe tbody tr th {\n",
       "        vertical-align: top;\n",
       "    }\n",
       "\n",
       "    .dataframe thead th {\n",
       "        text-align: right;\n",
       "    }\n",
       "</style>\n",
       "<table border=\"1\" class=\"dataframe\">\n",
       "  <thead>\n",
       "    <tr style=\"text-align: right;\">\n",
       "      <th></th>\n",
       "      <th>date</th>\n",
       "      <th>year</th>\n",
       "      <th>type</th>\n",
       "      <th>country</th>\n",
       "      <th>area</th>\n",
       "      <th>location</th>\n",
       "      <th>activity</th>\n",
       "      <th>sex</th>\n",
       "      <th>age</th>\n",
       "      <th>injury</th>\n",
       "      <th>fatal</th>\n",
       "      <th>time</th>\n",
       "      <th>species</th>\n",
       "      <th>cat_age</th>\n",
       "      <th>century</th>\n",
       "    </tr>\n",
       "  </thead>\n",
       "  <tbody>\n",
       "    <tr>\n",
       "      <th>0</th>\n",
       "      <td>20-Aug-2020</td>\n",
       "      <td>2020.0</td>\n",
       "      <td>Unprovoked</td>\n",
       "      <td>USA</td>\n",
       "      <td>Florida</td>\n",
       "      <td>New Smyrna Beach, Volusia County</td>\n",
       "      <td>Boogie boarding</td>\n",
       "      <td>F</td>\n",
       "      <td>50</td>\n",
       "      <td>Minor lacerations to left leg</td>\n",
       "      <td>N</td>\n",
       "      <td>11h00</td>\n",
       "      <td>NaN</td>\n",
       "      <td>Adult</td>\n",
       "      <td>XXI</td>\n",
       "    </tr>\n",
       "    <tr>\n",
       "      <th>1</th>\n",
       "      <td>14-Aug-2020</td>\n",
       "      <td>2020.0</td>\n",
       "      <td>Unprovoked</td>\n",
       "      <td>AUSTRALIA</td>\n",
       "      <td>New South Wales</td>\n",
       "      <td>Shelly Beach, Port Macquarie</td>\n",
       "      <td>Surfing</td>\n",
       "      <td>F</td>\n",
       "      <td>35</td>\n",
       "      <td>Lacerations to right calf and posterior thigh</td>\n",
       "      <td>N</td>\n",
       "      <td>09h30</td>\n",
       "      <td>White shark, 2-to 3m</td>\n",
       "      <td>Young Adult</td>\n",
       "      <td>XXI</td>\n",
       "    </tr>\n",
       "    <tr>\n",
       "      <th>2</th>\n",
       "      <td>10-Aug-2020</td>\n",
       "      <td>2020.0</td>\n",
       "      <td>Provoked</td>\n",
       "      <td>USA</td>\n",
       "      <td>Florida</td>\n",
       "      <td>Off Gasparilla Island, Charlotte County</td>\n",
       "      <td>Fishing</td>\n",
       "      <td>M</td>\n",
       "      <td>55</td>\n",
       "      <td>Injury to left forearm by hooked shark PROVOKE...</td>\n",
       "      <td>N</td>\n",
       "      <td>16h00</td>\n",
       "      <td>Blacktip shark, 6'</td>\n",
       "      <td>Adult</td>\n",
       "      <td>XXI</td>\n",
       "    </tr>\n",
       "    <tr>\n",
       "      <th>3</th>\n",
       "      <td>02-Aug-2020</td>\n",
       "      <td>2020.0</td>\n",
       "      <td>Unprovoked</td>\n",
       "      <td>USA</td>\n",
       "      <td>Virgin Islands</td>\n",
       "      <td>Candle Reef, St. Croix</td>\n",
       "      <td>Snorkeling</td>\n",
       "      <td>F</td>\n",
       "      <td>NaN</td>\n",
       "      <td>Lacerations to hand and wrist</td>\n",
       "      <td>N</td>\n",
       "      <td>14h00</td>\n",
       "      <td>Nurse shark, 5'</td>\n",
       "      <td>No category</td>\n",
       "      <td>XXI</td>\n",
       "    </tr>\n",
       "    <tr>\n",
       "      <th>4</th>\n",
       "      <td>31-Jul-2020</td>\n",
       "      <td>2020.0</td>\n",
       "      <td>Unprovoked</td>\n",
       "      <td>USA</td>\n",
       "      <td>Florida</td>\n",
       "      <td>New Smyrna Beach, Volusia County</td>\n",
       "      <td>Surfing</td>\n",
       "      <td>F</td>\n",
       "      <td>22</td>\n",
       "      <td>Lacerations to foot</td>\n",
       "      <td>N</td>\n",
       "      <td>17h00</td>\n",
       "      <td>NaN</td>\n",
       "      <td>Young Adult</td>\n",
       "      <td>XXI</td>\n",
       "    </tr>\n",
       "  </tbody>\n",
       "</table>\n",
       "</div>"
      ],
      "text/plain": [
       "          date    year        type    country             area  \\\n",
       "0  20-Aug-2020  2020.0  Unprovoked        USA          Florida   \n",
       "1  14-Aug-2020  2020.0  Unprovoked  AUSTRALIA  New South Wales   \n",
       "2  10-Aug-2020  2020.0    Provoked        USA          Florida   \n",
       "3  02-Aug-2020  2020.0  Unprovoked        USA   Virgin Islands   \n",
       "4  31-Jul-2020  2020.0  Unprovoked        USA          Florida   \n",
       "\n",
       "                                  location         activity sex  age  \\\n",
       "0         New Smyrna Beach, Volusia County  Boogie boarding   F   50   \n",
       "1             Shelly Beach, Port Macquarie          Surfing   F   35   \n",
       "2  Off Gasparilla Island, Charlotte County          Fishing   M   55   \n",
       "3                   Candle Reef, St. Croix       Snorkeling   F  NaN   \n",
       "4         New Smyrna Beach, Volusia County          Surfing   F   22   \n",
       "\n",
       "                                              injury fatal   time  \\\n",
       "0                      Minor lacerations to left leg     N  11h00   \n",
       "1      Lacerations to right calf and posterior thigh     N  09h30   \n",
       "2  Injury to left forearm by hooked shark PROVOKE...     N  16h00   \n",
       "3                      Lacerations to hand and wrist     N  14h00   \n",
       "4                               Lacerations to foot      N  17h00   \n",
       "\n",
       "                species      cat_age century  \n",
       "0                   NaN        Adult     XXI  \n",
       "1  White shark, 2-to 3m  Young Adult     XXI  \n",
       "2    Blacktip shark, 6'        Adult     XXI  \n",
       "3       Nurse shark, 5'  No category     XXI  \n",
       "4                   NaN  Young Adult     XXI  "
      ]
     },
     "execution_count": 57,
     "metadata": {},
     "output_type": "execute_result"
    }
   ],
   "source": [
    "df.head()"
   ]
  },
  {
   "cell_type": "code",
   "execution_count": 58,
   "metadata": {
    "ExecuteTime": {
     "end_time": "2020-09-06T23:56:10.606667Z",
     "start_time": "2020-09-06T23:56:10.600684Z"
    }
   },
   "outputs": [],
   "source": [
    "# Select only the necessary columns\n",
    "df = df.loc[:, ['year', 'activity', 'sex', 'age', 'cat_age', 'century']]"
   ]
  },
  {
   "cell_type": "code",
   "execution_count": 59,
   "metadata": {
    "ExecuteTime": {
     "end_time": "2020-09-06T23:56:10.615643Z",
     "start_time": "2020-09-06T23:56:10.607665Z"
    }
   },
   "outputs": [
    {
     "name": "stdout",
     "output_type": "stream",
     "text": [
      "<class 'pandas.core.frame.DataFrame'>\n",
      "Int64Index: 6325 entries, 0 to 6385\n",
      "Data columns (total 6 columns):\n",
      " #   Column    Non-Null Count  Dtype  \n",
      "---  ------    --------------  -----  \n",
      " 0   year      6325 non-null   float64\n",
      " 1   activity  5804 non-null   object \n",
      " 2   sex       5773 non-null   object \n",
      " 3   age       3594 non-null   object \n",
      " 4   cat_age   6325 non-null   object \n",
      " 5   century   6325 non-null   object \n",
      "dtypes: float64(1), object(5)\n",
      "memory usage: 345.9+ KB\n"
     ]
    }
   ],
   "source": [
    "# Check information about the dataframe\n",
    "df.info()"
   ]
  },
  {
   "cell_type": "code",
   "execution_count": 60,
   "metadata": {
    "ExecuteTime": {
     "end_time": "2020-09-06T23:56:10.624619Z",
     "start_time": "2020-09-06T23:56:10.616640Z"
    }
   },
   "outputs": [
    {
     "data": {
      "text/html": [
       "<div>\n",
       "<style scoped>\n",
       "    .dataframe tbody tr th:only-of-type {\n",
       "        vertical-align: middle;\n",
       "    }\n",
       "\n",
       "    .dataframe tbody tr th {\n",
       "        vertical-align: top;\n",
       "    }\n",
       "\n",
       "    .dataframe thead th {\n",
       "        text-align: right;\n",
       "    }\n",
       "</style>\n",
       "<table border=\"1\" class=\"dataframe\">\n",
       "  <thead>\n",
       "    <tr style=\"text-align: right;\">\n",
       "      <th></th>\n",
       "      <th>year</th>\n",
       "      <th>activity</th>\n",
       "      <th>sex</th>\n",
       "      <th>age</th>\n",
       "      <th>cat_age</th>\n",
       "      <th>century</th>\n",
       "    </tr>\n",
       "  </thead>\n",
       "  <tbody>\n",
       "    <tr>\n",
       "      <th>0</th>\n",
       "      <td>2020.0</td>\n",
       "      <td>Boogie boarding</td>\n",
       "      <td>F</td>\n",
       "      <td>50</td>\n",
       "      <td>Adult</td>\n",
       "      <td>XXI</td>\n",
       "    </tr>\n",
       "    <tr>\n",
       "      <th>1</th>\n",
       "      <td>2020.0</td>\n",
       "      <td>Surfing</td>\n",
       "      <td>F</td>\n",
       "      <td>35</td>\n",
       "      <td>Young Adult</td>\n",
       "      <td>XXI</td>\n",
       "    </tr>\n",
       "    <tr>\n",
       "      <th>2</th>\n",
       "      <td>2020.0</td>\n",
       "      <td>Fishing</td>\n",
       "      <td>M</td>\n",
       "      <td>55</td>\n",
       "      <td>Adult</td>\n",
       "      <td>XXI</td>\n",
       "    </tr>\n",
       "    <tr>\n",
       "      <th>3</th>\n",
       "      <td>2020.0</td>\n",
       "      <td>Snorkeling</td>\n",
       "      <td>F</td>\n",
       "      <td>NaN</td>\n",
       "      <td>No category</td>\n",
       "      <td>XXI</td>\n",
       "    </tr>\n",
       "    <tr>\n",
       "      <th>4</th>\n",
       "      <td>2020.0</td>\n",
       "      <td>Surfing</td>\n",
       "      <td>F</td>\n",
       "      <td>22</td>\n",
       "      <td>Young Adult</td>\n",
       "      <td>XXI</td>\n",
       "    </tr>\n",
       "  </tbody>\n",
       "</table>\n",
       "</div>"
      ],
      "text/plain": [
       "     year         activity sex  age      cat_age century\n",
       "0  2020.0  Boogie boarding   F   50        Adult     XXI\n",
       "1  2020.0          Surfing   F   35  Young Adult     XXI\n",
       "2  2020.0          Fishing   M   55        Adult     XXI\n",
       "3  2020.0       Snorkeling   F  NaN  No category     XXI\n",
       "4  2020.0          Surfing   F   22  Young Adult     XXI"
      ]
     },
     "execution_count": 60,
     "metadata": {},
     "output_type": "execute_result"
    }
   ],
   "source": [
    "# Check the dataset\n",
    "df.head()"
   ]
  },
  {
   "cell_type": "code",
   "execution_count": 61,
   "metadata": {
    "ExecuteTime": {
     "end_time": "2020-09-06T23:56:10.628610Z",
     "start_time": "2020-09-06T23:56:10.625617Z"
    }
   },
   "outputs": [],
   "source": [
    "# Create a backup version\n",
    "df_bkp = df.copy()"
   ]
  },
  {
   "cell_type": "markdown",
   "metadata": {},
   "source": [
    "# Analyzing the dataset"
   ]
  },
  {
   "cell_type": "markdown",
   "metadata": {},
   "source": [
    "As mentioned in the **Introduction Section**, the following characteristics will be considered in the analysis:\n",
    "\n",
    "- Gender\n",
    "- Age\n",
    "- Activity"
   ]
  },
  {
   "cell_type": "markdown",
   "metadata": {},
   "source": [
    "## Gender"
   ]
  },
  {
   "cell_type": "code",
   "execution_count": 62,
   "metadata": {
    "ExecuteTime": {
     "end_time": "2020-09-06T23:56:10.640577Z",
     "start_time": "2020-09-06T23:56:10.634593Z"
    }
   },
   "outputs": [
    {
     "data": {
      "text/plain": [
       "M      5103\n",
       "F       670\n",
       "NaN     552\n",
       "Name: sex, dtype: int64"
      ]
     },
     "execution_count": 62,
     "metadata": {},
     "output_type": "execute_result"
    }
   ],
   "source": [
    "# Number of each value\n",
    "df.sex.value_counts(dropna=False)"
   ]
  },
  {
   "cell_type": "code",
   "execution_count": 63,
   "metadata": {
    "ExecuteTime": {
     "end_time": "2020-09-06T23:56:10.649553Z",
     "start_time": "2020-09-06T23:56:10.643569Z"
    }
   },
   "outputs": [
    {
     "data": {
      "text/plain": [
       "M      80.679842\n",
       "F      10.592885\n",
       "NaN     8.727273\n",
       "Name: sex, dtype: float64"
      ]
     },
     "execution_count": 63,
     "metadata": {},
     "output_type": "execute_result"
    }
   ],
   "source": [
    "# % of each value\n",
    "(df.sex.value_counts(dropna=False) / n_rows) * 100"
   ]
  },
  {
   "cell_type": "markdown",
   "metadata": {},
   "source": [
    "It is clearly that the predominant gender involved in shark incidents is the **male** one."
   ]
  },
  {
   "cell_type": "code",
   "execution_count": 64,
   "metadata": {
    "ExecuteTime": {
     "end_time": "2020-09-06T23:56:10.654539Z",
     "start_time": "2020-09-06T23:56:10.650551Z"
    }
   },
   "outputs": [],
   "source": [
    "# Filter the dataframe\n",
    "df_male = df[df.sex == 'M']\n",
    "n_rows_male = df_male.shape[0]"
   ]
  },
  {
   "cell_type": "code",
   "execution_count": 65,
   "metadata": {
    "ExecuteTime": {
     "end_time": "2020-09-06T23:56:10.663515Z",
     "start_time": "2020-09-06T23:56:10.655537Z"
    }
   },
   "outputs": [
    {
     "name": "stdout",
     "output_type": "stream",
     "text": [
      "<class 'pandas.core.frame.DataFrame'>\n",
      "Int64Index: 5103 entries, 2 to 6384\n",
      "Data columns (total 6 columns):\n",
      " #   Column    Non-Null Count  Dtype  \n",
      "---  ------    --------------  -----  \n",
      " 0   year      5103 non-null   float64\n",
      " 1   activity  4782 non-null   object \n",
      " 2   sex       5103 non-null   object \n",
      " 3   age       3066 non-null   object \n",
      " 4   cat_age   5103 non-null   object \n",
      " 5   century   5103 non-null   object \n",
      "dtypes: float64(1), object(5)\n",
      "memory usage: 279.1+ KB\n"
     ]
    }
   ],
   "source": [
    "# Check information about the new dataframe\n",
    "df_male.info()"
   ]
  },
  {
   "cell_type": "code",
   "execution_count": 66,
   "metadata": {
    "ExecuteTime": {
     "end_time": "2020-09-06T23:56:10.672491Z",
     "start_time": "2020-09-06T23:56:10.664513Z"
    }
   },
   "outputs": [
    {
     "data": {
      "text/html": [
       "<div>\n",
       "<style scoped>\n",
       "    .dataframe tbody tr th:only-of-type {\n",
       "        vertical-align: middle;\n",
       "    }\n",
       "\n",
       "    .dataframe tbody tr th {\n",
       "        vertical-align: top;\n",
       "    }\n",
       "\n",
       "    .dataframe thead th {\n",
       "        text-align: right;\n",
       "    }\n",
       "</style>\n",
       "<table border=\"1\" class=\"dataframe\">\n",
       "  <thead>\n",
       "    <tr style=\"text-align: right;\">\n",
       "      <th></th>\n",
       "      <th>year</th>\n",
       "      <th>activity</th>\n",
       "      <th>sex</th>\n",
       "      <th>age</th>\n",
       "      <th>cat_age</th>\n",
       "      <th>century</th>\n",
       "    </tr>\n",
       "  </thead>\n",
       "  <tbody>\n",
       "    <tr>\n",
       "      <th>2</th>\n",
       "      <td>2020.0</td>\n",
       "      <td>Fishing</td>\n",
       "      <td>M</td>\n",
       "      <td>55</td>\n",
       "      <td>Adult</td>\n",
       "      <td>XXI</td>\n",
       "    </tr>\n",
       "    <tr>\n",
       "      <th>5</th>\n",
       "      <td>2020.0</td>\n",
       "      <td>Swimming</td>\n",
       "      <td>M</td>\n",
       "      <td>14</td>\n",
       "      <td>Teenager</td>\n",
       "      <td>XXI</td>\n",
       "    </tr>\n",
       "    <tr>\n",
       "      <th>6</th>\n",
       "      <td>2020.0</td>\n",
       "      <td>Surfing</td>\n",
       "      <td>M</td>\n",
       "      <td>28</td>\n",
       "      <td>Young Adult</td>\n",
       "      <td>XXI</td>\n",
       "    </tr>\n",
       "    <tr>\n",
       "      <th>7</th>\n",
       "      <td>2020.0</td>\n",
       "      <td>Diving</td>\n",
       "      <td>M</td>\n",
       "      <td>38</td>\n",
       "      <td>Adult</td>\n",
       "      <td>XXI</td>\n",
       "    </tr>\n",
       "    <tr>\n",
       "      <th>9</th>\n",
       "      <td>2020.0</td>\n",
       "      <td>Swimming</td>\n",
       "      <td>M</td>\n",
       "      <td>4</td>\n",
       "      <td>Child</td>\n",
       "      <td>XXI</td>\n",
       "    </tr>\n",
       "  </tbody>\n",
       "</table>\n",
       "</div>"
      ],
      "text/plain": [
       "     year  activity sex age      cat_age century\n",
       "2  2020.0   Fishing   M  55        Adult     XXI\n",
       "5  2020.0  Swimming   M  14     Teenager     XXI\n",
       "6  2020.0   Surfing   M  28  Young Adult     XXI\n",
       "7  2020.0    Diving   M  38        Adult     XXI\n",
       "9  2020.0  Swimming   M   4        Child     XXI"
      ]
     },
     "execution_count": 66,
     "metadata": {},
     "output_type": "execute_result"
    }
   ],
   "source": [
    "# Check the newdataframe\n",
    "df_male.head()"
   ]
  },
  {
   "cell_type": "markdown",
   "metadata": {},
   "source": [
    "## Age"
   ]
  },
  {
   "cell_type": "code",
   "execution_count": 67,
   "metadata": {
    "ExecuteTime": {
     "end_time": "2020-09-06T23:56:10.679141Z",
     "start_time": "2020-09-06T23:56:10.673489Z"
    }
   },
   "outputs": [
    {
     "data": {
      "text/plain": [
       "No category    2037\n",
       "Young Adult    1527\n",
       "Adult           712\n",
       "Teenager        616\n",
       "Child           161\n",
       "Elder            50\n",
       "Name: cat_age, dtype: int64"
      ]
     },
     "execution_count": 67,
     "metadata": {},
     "output_type": "execute_result"
    }
   ],
   "source": [
    "# Number of each value\n",
    "df_male.cat_age.value_counts(dropna=False)"
   ]
  },
  {
   "cell_type": "code",
   "execution_count": 68,
   "metadata": {
    "ExecuteTime": {
     "end_time": "2020-09-06T23:56:10.687123Z",
     "start_time": "2020-09-06T23:56:10.680138Z"
    }
   },
   "outputs": [
    {
     "data": {
      "text/plain": [
       "No category    39.917695\n",
       "Young Adult    29.923574\n",
       "Adult          13.952577\n",
       "Teenager       12.071331\n",
       "Child           3.155007\n",
       "Elder           0.979816\n",
       "Name: cat_age, dtype: float64"
      ]
     },
     "execution_count": 68,
     "metadata": {},
     "output_type": "execute_result"
    }
   ],
   "source": [
    "# % of each value\n",
    "(df_male.cat_age.value_counts(dropna=False) / n_rows_male) * 100"
   ]
  },
  {
   "cell_type": "markdown",
   "metadata": {},
   "source": [
    "Almost 40% of the dataset could not be categorized regarding the age. However, the one that stood out with the second highest percentage is the category **young adult**."
   ]
  },
  {
   "cell_type": "code",
   "execution_count": 69,
   "metadata": {
    "ExecuteTime": {
     "end_time": "2020-09-06T23:56:10.695106Z",
     "start_time": "2020-09-06T23:56:10.689115Z"
    }
   },
   "outputs": [
    {
     "data": {
      "text/plain": [
       "Young Adult    1527\n",
       "Adult           712\n",
       "Teenager        616\n",
       "Child           161\n",
       "Elder            50\n",
       "Name: cat_age, dtype: int64"
      ]
     },
     "execution_count": 69,
     "metadata": {},
     "output_type": "execute_result"
    }
   ],
   "source": [
    "# 'Remove' the rows with missing values in the column 'age'\n",
    "df_male_age = df_male[~(df_male.age.isna())]\n",
    "n_rows_male_age = df_male_age.shape[0]\n",
    "df_male_age.cat_age.value_counts(dropna=False)"
   ]
  },
  {
   "cell_type": "code",
   "execution_count": 70,
   "metadata": {
    "ExecuteTime": {
     "end_time": "2020-09-06T23:56:10.704074Z",
     "start_time": "2020-09-06T23:56:10.696096Z"
    }
   },
   "outputs": [
    {
     "data": {
      "text/plain": [
       "Young Adult    49.804305\n",
       "Adult          23.222440\n",
       "Teenager       20.091324\n",
       "Child           5.251142\n",
       "Elder           1.630789\n",
       "Name: cat_age, dtype: float64"
      ]
     },
     "execution_count": 70,
     "metadata": {},
     "output_type": "execute_result"
    }
   ],
   "source": [
    "# % of each value\n",
    "(df_male_age.cat_age.value_counts(dropna=False) / n_rows_male_age) * 100"
   ]
  },
  {
   "cell_type": "markdown",
   "metadata": {},
   "source": [
    "Disregarding rows containing missing values in the column `age`, almost half of the incidents with **males** happened to **young adults**."
   ]
  },
  {
   "cell_type": "code",
   "execution_count": 71,
   "metadata": {
    "ExecuteTime": {
     "end_time": "2020-09-06T23:56:10.709061Z",
     "start_time": "2020-09-06T23:56:10.705074Z"
    }
   },
   "outputs": [],
   "source": [
    "# Filter the dataframe\n",
    "df_male_ya = df_male[df_male.cat_age == 'Young Adult']\n",
    "n_rows_male_ya = df_male_ya.shape[0]"
   ]
  },
  {
   "cell_type": "code",
   "execution_count": 72,
   "metadata": {
    "ExecuteTime": {
     "end_time": "2020-09-06T23:56:10.718037Z",
     "start_time": "2020-09-06T23:56:10.710059Z"
    }
   },
   "outputs": [
    {
     "name": "stdout",
     "output_type": "stream",
     "text": [
      "<class 'pandas.core.frame.DataFrame'>\n",
      "Int64Index: 1527 entries, 6 to 6369\n",
      "Data columns (total 6 columns):\n",
      " #   Column    Non-Null Count  Dtype  \n",
      "---  ------    --------------  -----  \n",
      " 0   year      1527 non-null   float64\n",
      " 1   activity  1474 non-null   object \n",
      " 2   sex       1527 non-null   object \n",
      " 3   age       1527 non-null   object \n",
      " 4   cat_age   1527 non-null   object \n",
      " 5   century   1527 non-null   object \n",
      "dtypes: float64(1), object(5)\n",
      "memory usage: 83.5+ KB\n"
     ]
    }
   ],
   "source": [
    "# Check information about the new dataframe\n",
    "df_male_ya.info()"
   ]
  },
  {
   "cell_type": "code",
   "execution_count": 73,
   "metadata": {
    "ExecuteTime": {
     "end_time": "2020-09-06T23:56:10.728012Z",
     "start_time": "2020-09-06T23:56:10.719035Z"
    }
   },
   "outputs": [
    {
     "data": {
      "text/html": [
       "<div>\n",
       "<style scoped>\n",
       "    .dataframe tbody tr th:only-of-type {\n",
       "        vertical-align: middle;\n",
       "    }\n",
       "\n",
       "    .dataframe tbody tr th {\n",
       "        vertical-align: top;\n",
       "    }\n",
       "\n",
       "    .dataframe thead th {\n",
       "        text-align: right;\n",
       "    }\n",
       "</style>\n",
       "<table border=\"1\" class=\"dataframe\">\n",
       "  <thead>\n",
       "    <tr style=\"text-align: right;\">\n",
       "      <th></th>\n",
       "      <th>year</th>\n",
       "      <th>activity</th>\n",
       "      <th>sex</th>\n",
       "      <th>age</th>\n",
       "      <th>cat_age</th>\n",
       "      <th>century</th>\n",
       "    </tr>\n",
       "  </thead>\n",
       "  <tbody>\n",
       "    <tr>\n",
       "      <th>6</th>\n",
       "      <td>2020.0</td>\n",
       "      <td>Surfing</td>\n",
       "      <td>M</td>\n",
       "      <td>28</td>\n",
       "      <td>Young Adult</td>\n",
       "      <td>XXI</td>\n",
       "    </tr>\n",
       "    <tr>\n",
       "      <th>11</th>\n",
       "      <td>2020.0</td>\n",
       "      <td>Spearfishing</td>\n",
       "      <td>M</td>\n",
       "      <td>23</td>\n",
       "      <td>Young Adult</td>\n",
       "      <td>XXI</td>\n",
       "    </tr>\n",
       "    <tr>\n",
       "      <th>23</th>\n",
       "      <td>2020.0</td>\n",
       "      <td>Windsurfing</td>\n",
       "      <td>M</td>\n",
       "      <td>30</td>\n",
       "      <td>Young Adult</td>\n",
       "      <td>XXI</td>\n",
       "    </tr>\n",
       "    <tr>\n",
       "      <th>29</th>\n",
       "      <td>2020.0</td>\n",
       "      <td>Spearfishing</td>\n",
       "      <td>M</td>\n",
       "      <td>18</td>\n",
       "      <td>Young Adult</td>\n",
       "      <td>XXI</td>\n",
       "    </tr>\n",
       "    <tr>\n",
       "      <th>33</th>\n",
       "      <td>2020.0</td>\n",
       "      <td>Surfing</td>\n",
       "      <td>M</td>\n",
       "      <td>26</td>\n",
       "      <td>Young Adult</td>\n",
       "      <td>XXI</td>\n",
       "    </tr>\n",
       "  </tbody>\n",
       "</table>\n",
       "</div>"
      ],
      "text/plain": [
       "      year      activity sex age      cat_age century\n",
       "6   2020.0       Surfing   M  28  Young Adult     XXI\n",
       "11  2020.0  Spearfishing   M  23  Young Adult     XXI\n",
       "23  2020.0   Windsurfing   M  30  Young Adult     XXI\n",
       "29  2020.0  Spearfishing   M  18  Young Adult     XXI\n",
       "33  2020.0       Surfing   M  26  Young Adult     XXI"
      ]
     },
     "execution_count": 73,
     "metadata": {},
     "output_type": "execute_result"
    }
   ],
   "source": [
    "# Check the newdataframe\n",
    "df_male_ya.head()"
   ]
  },
  {
   "cell_type": "markdown",
   "metadata": {},
   "source": [
    "## Activity"
   ]
  },
  {
   "cell_type": "code",
   "execution_count": 74,
   "metadata": {
    "ExecuteTime": {
     "end_time": "2020-09-06T23:56:10.734992Z",
     "start_time": "2020-09-06T23:56:10.729008Z"
    }
   },
   "outputs": [
    {
     "data": {
      "text/plain": [
       "Surfing                                                                       423\n",
       "Swimming                                                                      207\n",
       "Spearfishing                                                                  155\n",
       "Fishing                                                                        55\n",
       "NaN                                                                            53\n",
       "                                                                             ... \n",
       "Scuba Diving for lobster (at surface)                                           1\n",
       "Swimming or surfing                                                             1\n",
       "Swimming at edge of channel                                                     1\n",
       "Swimming / Body surfing                                                         1\n",
       "Fishing, when line became snagged on rock & he dived into water to free it      1\n",
       "Name: activity, Length: 354, dtype: int64"
      ]
     },
     "execution_count": 74,
     "metadata": {},
     "output_type": "execute_result"
    }
   ],
   "source": [
    "# Number of each value\n",
    "df_male_ya.activity.value_counts(dropna=False)"
   ]
  },
  {
   "cell_type": "code",
   "execution_count": 75,
   "metadata": {
    "ExecuteTime": {
     "end_time": "2020-09-06T23:56:10.742970Z",
     "start_time": "2020-09-06T23:56:10.735989Z"
    }
   },
   "outputs": [
    {
     "data": {
      "text/plain": [
       "Surfing                                                                       27.701375\n",
       "Swimming                                                                      13.555992\n",
       "Spearfishing                                                                  10.150622\n",
       "Fishing                                                                        3.601834\n",
       "NaN                                                                            3.470858\n",
       "                                                                                ...    \n",
       "Scuba Diving for lobster (at surface)                                          0.065488\n",
       "Swimming or surfing                                                            0.065488\n",
       "Swimming at edge of channel                                                    0.065488\n",
       "Swimming / Body surfing                                                        0.065488\n",
       "Fishing, when line became snagged on rock & he dived into water to free it     0.065488\n",
       "Name: activity, Length: 354, dtype: float64"
      ]
     },
     "execution_count": 75,
     "metadata": {},
     "output_type": "execute_result"
    }
   ],
   "source": [
    "# % of each value\n",
    "(df_male_ya.activity.value_counts(dropna=False) / n_rows_male_ya) * 100"
   ]
  },
  {
   "cell_type": "markdown",
   "metadata": {},
   "source": [
    "Among the **young adult males**, the activity that was the most involved in shark incidents was the **surfing**."
   ]
  },
  {
   "cell_type": "code",
   "execution_count": 76,
   "metadata": {
    "ExecuteTime": {
     "end_time": "2020-09-06T23:56:10.754938Z",
     "start_time": "2020-09-06T23:56:10.743968Z"
    }
   },
   "outputs": [
    {
     "data": {
      "text/html": [
       "<div>\n",
       "<style scoped>\n",
       "    .dataframe tbody tr th:only-of-type {\n",
       "        vertical-align: middle;\n",
       "    }\n",
       "\n",
       "    .dataframe tbody tr th {\n",
       "        vertical-align: top;\n",
       "    }\n",
       "\n",
       "    .dataframe thead th {\n",
       "        text-align: right;\n",
       "    }\n",
       "</style>\n",
       "<table border=\"1\" class=\"dataframe\">\n",
       "  <thead>\n",
       "    <tr style=\"text-align: right;\">\n",
       "      <th></th>\n",
       "      <th>year</th>\n",
       "      <th>activity</th>\n",
       "      <th>sex</th>\n",
       "      <th>age</th>\n",
       "      <th>cat_age</th>\n",
       "      <th>century</th>\n",
       "    </tr>\n",
       "  </thead>\n",
       "  <tbody>\n",
       "    <tr>\n",
       "      <th>6</th>\n",
       "      <td>2020.0</td>\n",
       "      <td>Surfing</td>\n",
       "      <td>M</td>\n",
       "      <td>28</td>\n",
       "      <td>Young Adult</td>\n",
       "      <td>XXI</td>\n",
       "    </tr>\n",
       "    <tr>\n",
       "      <th>33</th>\n",
       "      <td>2020.0</td>\n",
       "      <td>Surfing</td>\n",
       "      <td>M</td>\n",
       "      <td>26</td>\n",
       "      <td>Young Adult</td>\n",
       "      <td>XXI</td>\n",
       "    </tr>\n",
       "    <tr>\n",
       "      <th>53</th>\n",
       "      <td>2020.0</td>\n",
       "      <td>Surfing</td>\n",
       "      <td>M</td>\n",
       "      <td>26</td>\n",
       "      <td>Young Adult</td>\n",
       "      <td>XXI</td>\n",
       "    </tr>\n",
       "    <tr>\n",
       "      <th>75</th>\n",
       "      <td>2019.0</td>\n",
       "      <td>Surfing</td>\n",
       "      <td>M</td>\n",
       "      <td>30</td>\n",
       "      <td>Young Adult</td>\n",
       "      <td>XXI</td>\n",
       "    </tr>\n",
       "    <tr>\n",
       "      <th>81</th>\n",
       "      <td>2019.0</td>\n",
       "      <td>Surfing</td>\n",
       "      <td>M</td>\n",
       "      <td>32</td>\n",
       "      <td>Young Adult</td>\n",
       "      <td>XXI</td>\n",
       "    </tr>\n",
       "    <tr>\n",
       "      <th>...</th>\n",
       "      <td>...</td>\n",
       "      <td>...</td>\n",
       "      <td>...</td>\n",
       "      <td>...</td>\n",
       "      <td>...</td>\n",
       "      <td>...</td>\n",
       "    </tr>\n",
       "    <tr>\n",
       "      <th>3990</th>\n",
       "      <td>1963.0</td>\n",
       "      <td>Surfing</td>\n",
       "      <td>M</td>\n",
       "      <td>18</td>\n",
       "      <td>Young Adult</td>\n",
       "      <td>XX</td>\n",
       "    </tr>\n",
       "    <tr>\n",
       "      <th>4098</th>\n",
       "      <td>1962.0</td>\n",
       "      <td>Surfing</td>\n",
       "      <td>M</td>\n",
       "      <td>19</td>\n",
       "      <td>Young Adult</td>\n",
       "      <td>XX</td>\n",
       "    </tr>\n",
       "    <tr>\n",
       "      <th>4534</th>\n",
       "      <td>1955.0</td>\n",
       "      <td>Surfing</td>\n",
       "      <td>M</td>\n",
       "      <td>25</td>\n",
       "      <td>Young Adult</td>\n",
       "      <td>XX</td>\n",
       "    </tr>\n",
       "    <tr>\n",
       "      <th>4772</th>\n",
       "      <td>1949.0</td>\n",
       "      <td>Surfing</td>\n",
       "      <td>M</td>\n",
       "      <td>32</td>\n",
       "      <td>Young Adult</td>\n",
       "      <td>XX</td>\n",
       "    </tr>\n",
       "    <tr>\n",
       "      <th>5488</th>\n",
       "      <td>1922.0</td>\n",
       "      <td>Surfing</td>\n",
       "      <td>M</td>\n",
       "      <td>26</td>\n",
       "      <td>Young Adult</td>\n",
       "      <td>XX</td>\n",
       "    </tr>\n",
       "  </tbody>\n",
       "</table>\n",
       "<p>423 rows × 6 columns</p>\n",
       "</div>"
      ],
      "text/plain": [
       "        year activity sex age      cat_age century\n",
       "6     2020.0  Surfing   M  28  Young Adult     XXI\n",
       "33    2020.0  Surfing   M  26  Young Adult     XXI\n",
       "53    2020.0  Surfing   M  26  Young Adult     XXI\n",
       "75    2019.0  Surfing   M  30  Young Adult     XXI\n",
       "81    2019.0  Surfing   M  32  Young Adult     XXI\n",
       "...      ...      ...  ..  ..          ...     ...\n",
       "3990  1963.0  Surfing   M  18  Young Adult      XX\n",
       "4098  1962.0  Surfing   M  19  Young Adult      XX\n",
       "4534  1955.0  Surfing   M  25  Young Adult      XX\n",
       "4772  1949.0  Surfing   M  32  Young Adult      XX\n",
       "5488  1922.0  Surfing   M  26  Young Adult      XX\n",
       "\n",
       "[423 rows x 6 columns]"
      ]
     },
     "execution_count": 76,
     "metadata": {},
     "output_type": "execute_result"
    }
   ],
   "source": [
    "# Filter the dataframe\n",
    "df_male_ya_surfing = df_male_ya[df_male_ya.activity == 'Surfing']\n",
    "n_rows_male_ya_surfing = df_male_ya_surfing.shape[0]\n",
    "\n",
    "# Check the result\n",
    "df_male_ya_surfing"
   ]
  },
  {
   "cell_type": "markdown",
   "metadata": {},
   "source": [
    "# Conclusion"
   ]
  },
  {
   "cell_type": "markdown",
   "metadata": {},
   "source": [
    "The most common characteristics of people involved in shark incidents in the history are:\n",
    "\n",
    "- **Male**\n",
    "- **Young adult**\n",
    "- **Surfing**"
   ]
  },
  {
   "cell_type": "markdown",
   "metadata": {},
   "source": [
    "# Exporting dataset"
   ]
  },
  {
   "cell_type": "markdown",
   "metadata": {
    "ExecuteTime": {
     "end_time": "2020-09-02T01:12:52.990523Z",
     "start_time": "2020-09-02T01:12:52.966557Z"
    }
   },
   "source": [
    "The clean dataframe used for the analysis will be export into a `.csv` file."
   ]
  },
  {
   "cell_type": "code",
   "execution_count": 77,
   "metadata": {
    "ExecuteTime": {
     "end_time": "2020-09-06T23:56:10.779380Z",
     "start_time": "2020-09-06T23:56:10.755936Z"
    }
   },
   "outputs": [],
   "source": [
    "df.to_csv('sharks_clean.csv')"
   ]
  },
  {
   "cell_type": "markdown",
   "metadata": {
    "ExecuteTime": {
     "end_time": "2020-09-01T21:03:59.240347Z",
     "start_time": "2020-09-01T21:03:59.236340Z"
    }
   },
   "source": [
    "# Extra - Analysis though centuries"
   ]
  },
  {
   "cell_type": "markdown",
   "metadata": {},
   "source": [
    "## Setup"
   ]
  },
  {
   "cell_type": "code",
   "execution_count": 78,
   "metadata": {
    "ExecuteTime": {
     "end_time": "2020-09-06T23:56:10.786361Z",
     "start_time": "2020-09-06T23:56:10.780378Z"
    }
   },
   "outputs": [],
   "source": [
    "# Create subsets for each century\n",
    "df_cen21 = df.loc[df['century'] == 'XXI', :]\n",
    "df_cen20 = df.loc[df['century'] == 'XX', :]\n",
    "df_cen19 = df.loc[df['century'] == 'XIX', :]"
   ]
  },
  {
   "cell_type": "code",
   "execution_count": 79,
   "metadata": {
    "ExecuteTime": {
     "end_time": "2020-09-06T23:56:10.795341Z",
     "start_time": "2020-09-06T23:56:10.787359Z"
    }
   },
   "outputs": [
    {
     "name": "stdout",
     "output_type": "stream",
     "text": [
      "There are 580 cases that happened during the XIX century.\n",
      "<class 'pandas.core.frame.DataFrame'>\n",
      "Int64Index: 580 entries, 4792 to 6385\n",
      "Data columns (total 6 columns):\n",
      " #   Column    Non-Null Count  Dtype  \n",
      "---  ------    --------------  -----  \n",
      " 0   year      580 non-null    float64\n",
      " 1   activity  501 non-null    object \n",
      " 2   sex       529 non-null    object \n",
      " 3   age       77 non-null     object \n",
      " 4   cat_age   580 non-null    object \n",
      " 5   century   580 non-null    object \n",
      "dtypes: float64(1), object(5)\n",
      "memory usage: 31.7+ KB\n"
     ]
    }
   ],
   "source": [
    "# Check the dataset for the 'XIX' century\n",
    "n_rows_cen19 = df_cen19.shape[0]\n",
    "print(f'There are {n_rows_cen19} cases that happened during the XIX century.')\n",
    "df_cen19.info()"
   ]
  },
  {
   "cell_type": "code",
   "execution_count": 80,
   "metadata": {
    "ExecuteTime": {
     "end_time": "2020-09-06T23:56:10.805311Z",
     "start_time": "2020-09-06T23:56:10.796335Z"
    }
   },
   "outputs": [
    {
     "name": "stdout",
     "output_type": "stream",
     "text": [
      "There are 3538 cases that happened during the XX century.\n",
      "<class 'pandas.core.frame.DataFrame'>\n",
      "Int64Index: 3538 entries, 2225 to 5803\n",
      "Data columns (total 6 columns):\n",
      " #   Column    Non-Null Count  Dtype  \n",
      "---  ------    --------------  -----  \n",
      " 0   year      3538 non-null   float64\n",
      " 1   activity  3194 non-null   object \n",
      " 2   sex       3135 non-null   object \n",
      " 3   age       1867 non-null   object \n",
      " 4   cat_age   3538 non-null   object \n",
      " 5   century   3538 non-null   object \n",
      "dtypes: float64(1), object(5)\n",
      "memory usage: 193.5+ KB\n"
     ]
    }
   ],
   "source": [
    "# Check the dataset for the 'XX' century\n",
    "n_rows_cen20 = df_cen20.shape[0]\n",
    "print(f'There are {n_rows_cen20} cases that happened during the XX century.')\n",
    "df_cen20.info()"
   ]
  },
  {
   "cell_type": "code",
   "execution_count": 81,
   "metadata": {
    "ExecuteTime": {
     "end_time": "2020-09-06T23:56:10.815285Z",
     "start_time": "2020-09-06T23:56:10.806308Z"
    }
   },
   "outputs": [
    {
     "name": "stdout",
     "output_type": "stream",
     "text": [
      "There are 2207 cases that happened during the XXI century.\n",
      "<class 'pandas.core.frame.DataFrame'>\n",
      "Int64Index: 2207 entries, 0 to 2224\n",
      "Data columns (total 6 columns):\n",
      " #   Column    Non-Null Count  Dtype  \n",
      "---  ------    --------------  -----  \n",
      " 0   year      2207 non-null   float64\n",
      " 1   activity  2109 non-null   object \n",
      " 2   sex       2109 non-null   object \n",
      " 3   age       1650 non-null   object \n",
      " 4   cat_age   2207 non-null   object \n",
      " 5   century   2207 non-null   object \n",
      "dtypes: float64(1), object(5)\n",
      "memory usage: 120.7+ KB\n"
     ]
    }
   ],
   "source": [
    "# Check the dataset for the 'XXI' century\n",
    "n_rows_cen21 = df_cen21.shape[0]\n",
    "print(f'There are {n_rows_cen21} cases that happened during the XXI century.')\n",
    "df_cen21.info()"
   ]
  },
  {
   "cell_type": "markdown",
   "metadata": {},
   "source": [
    "We are not even 1/4 of the 21st century and the number of shark incidents getting closer to the number of incidents in the 20th century. However, we also have to consider that there may be a probability that not all incidents were registered in the last century. "
   ]
  },
  {
   "cell_type": "markdown",
   "metadata": {},
   "source": [
    "## Gender"
   ]
  },
  {
   "cell_type": "code",
   "execution_count": 82,
   "metadata": {
    "ExecuteTime": {
     "end_time": "2020-09-06T23:56:10.822266Z",
     "start_time": "2020-09-06T23:56:10.816282Z"
    }
   },
   "outputs": [
    {
     "data": {
      "text/plain": [
       "M      507\n",
       "NaN     51\n",
       "F       22\n",
       "Name: sex, dtype: int64"
      ]
     },
     "execution_count": 82,
     "metadata": {},
     "output_type": "execute_result"
    }
   ],
   "source": [
    "# Number of cases in the XIX century that happened involving each gender\n",
    "df_cen19.sex.value_counts(dropna=False)"
   ]
  },
  {
   "cell_type": "code",
   "execution_count": 83,
   "metadata": {
    "ExecuteTime": {
     "end_time": "2020-09-06T23:56:10.829247Z",
     "start_time": "2020-09-06T23:56:10.823263Z"
    }
   },
   "outputs": [
    {
     "data": {
      "text/plain": [
       "M      87.413793\n",
       "NaN     8.793103\n",
       "F       3.793103\n",
       "Name: sex, dtype: float64"
      ]
     },
     "execution_count": 83,
     "metadata": {},
     "output_type": "execute_result"
    }
   ],
   "source": [
    "# % of cases in the XIX century that happened involving each gender\n",
    "(df_cen19.sex.value_counts(dropna=False) / n_rows_cen19) * 100"
   ]
  },
  {
   "cell_type": "code",
   "execution_count": 84,
   "metadata": {
    "ExecuteTime": {
     "end_time": "2020-09-06T23:56:10.836228Z",
     "start_time": "2020-09-06T23:56:10.830244Z"
    }
   },
   "outputs": [
    {
     "data": {
      "text/plain": [
       "M      2865\n",
       "NaN     403\n",
       "F       270\n",
       "Name: sex, dtype: int64"
      ]
     },
     "execution_count": 84,
     "metadata": {},
     "output_type": "execute_result"
    }
   ],
   "source": [
    "# Number of cases in the XX century that happened involving each gender\n",
    "df_cen20.sex.value_counts(dropna=False)"
   ]
  },
  {
   "cell_type": "code",
   "execution_count": 85,
   "metadata": {
    "ExecuteTime": {
     "end_time": "2020-09-06T23:56:10.843209Z",
     "start_time": "2020-09-06T23:56:10.837226Z"
    }
   },
   "outputs": [
    {
     "data": {
      "text/plain": [
       "M      80.977954\n",
       "NaN    11.390616\n",
       "F       7.631430\n",
       "Name: sex, dtype: float64"
      ]
     },
     "execution_count": 85,
     "metadata": {},
     "output_type": "execute_result"
    }
   ],
   "source": [
    "# % of cases in the XX century that happened involving each gender\n",
    "(df_cen20.sex.value_counts(dropna=False) / n_rows_cen20) * 100"
   ]
  },
  {
   "cell_type": "code",
   "execution_count": 86,
   "metadata": {
    "ExecuteTime": {
     "end_time": "2020-09-06T23:56:10.850191Z",
     "start_time": "2020-09-06T23:56:10.844207Z"
    }
   },
   "outputs": [
    {
     "data": {
      "text/plain": [
       "M      1731\n",
       "F       378\n",
       "NaN      98\n",
       "Name: sex, dtype: int64"
      ]
     },
     "execution_count": 86,
     "metadata": {},
     "output_type": "execute_result"
    }
   ],
   "source": [
    "# Number of cases in the XXI century that happened involving each gender\n",
    "df_cen21.sex.value_counts(dropna=False)"
   ]
  },
  {
   "cell_type": "code",
   "execution_count": 87,
   "metadata": {
    "ExecuteTime": {
     "end_time": "2020-09-06T23:56:10.857172Z",
     "start_time": "2020-09-06T23:56:10.851188Z"
    }
   },
   "outputs": [
    {
     "data": {
      "text/plain": [
       "M      78.432261\n",
       "F      17.127322\n",
       "NaN     4.440417\n",
       "Name: sex, dtype: float64"
      ]
     },
     "execution_count": 87,
     "metadata": {},
     "output_type": "execute_result"
    }
   ],
   "source": [
    "# % of cases in the XXI century that happened involving each gender\n",
    "(df_cen21.sex.value_counts(dropna=False) / n_rows_cen21) * 100"
   ]
  },
  {
   "cell_type": "markdown",
   "metadata": {},
   "source": [
    "This result reflects each gender's behaviors in each century. Long time ago, women usually would just take care of the house and were not allowed to do many things."
   ]
  },
  {
   "cell_type": "markdown",
   "metadata": {
    "ExecuteTime": {
     "end_time": "2020-09-02T01:11:41.631061Z",
     "start_time": "2020-09-02T01:11:41.629065Z"
    }
   },
   "source": [
    "## Activity"
   ]
  },
  {
   "cell_type": "code",
   "execution_count": 88,
   "metadata": {
    "ExecuteTime": {
     "end_time": "2020-09-06T23:56:10.864153Z",
     "start_time": "2020-09-06T23:56:10.858170Z"
    }
   },
   "outputs": [
    {
     "data": {
      "text/plain": [
       "Swimming    96\n",
       "Bathing     86\n",
       "Fishing     42\n",
       "Name: activity, dtype: int64"
      ]
     },
     "execution_count": 88,
     "metadata": {},
     "output_type": "execute_result"
    }
   ],
   "source": [
    "# Top 3 activities involved in shark incidentes during the XIX century - Number\n",
    "df_cen19.activity.value_counts().head(3)"
   ]
  },
  {
   "cell_type": "code",
   "execution_count": 89,
   "metadata": {
    "ExecuteTime": {
     "end_time": "2020-09-06T23:56:10.871135Z",
     "start_time": "2020-09-06T23:56:10.865151Z"
    }
   },
   "outputs": [
    {
     "data": {
      "text/plain": [
       "Swimming    16.551724\n",
       "Bathing     14.827586\n",
       "Fishing      7.241379\n",
       "Name: activity, dtype: float64"
      ]
     },
     "execution_count": 89,
     "metadata": {},
     "output_type": "execute_result"
    }
   ],
   "source": [
    "# Top 3 activities involved in shark incidentes during the XIX century - %\n",
    "(df_cen19.activity.value_counts().head(3) / n_rows_cen19) * 100"
   ]
  },
  {
   "cell_type": "code",
   "execution_count": 90,
   "metadata": {
    "ExecuteTime": {
     "end_time": "2020-09-06T23:56:10.878271Z",
     "start_time": "2020-09-06T23:56:10.872133Z"
    }
   },
   "outputs": [
    {
     "data": {
      "text/plain": [
       "Swimming    515\n",
       "Surfing     360\n",
       "Fishing     269\n",
       "Name: activity, dtype: int64"
      ]
     },
     "execution_count": 90,
     "metadata": {},
     "output_type": "execute_result"
    }
   ],
   "source": [
    "# Top 3 activities involved in shark incidentes during the XX century - Number\n",
    "df_cen20.activity.value_counts().head(3)"
   ]
  },
  {
   "cell_type": "code",
   "execution_count": 91,
   "metadata": {
    "ExecuteTime": {
     "end_time": "2020-09-06T23:56:10.885240Z",
     "start_time": "2020-09-06T23:56:10.879256Z"
    }
   },
   "outputs": [
    {
     "data": {
      "text/plain": [
       "Swimming    14.556246\n",
       "Surfing     10.175240\n",
       "Fishing      7.603166\n",
       "Name: activity, dtype: float64"
      ]
     },
     "execution_count": 91,
     "metadata": {},
     "output_type": "execute_result"
    }
   ],
   "source": [
    "# Top 3 activities involved in shark incidentes during the XX century - %\n",
    "(df_cen20.activity.value_counts().head(3) / n_rows_cen20) * 100"
   ]
  },
  {
   "cell_type": "code",
   "execution_count": 92,
   "metadata": {
    "ExecuteTime": {
     "end_time": "2020-09-06T23:56:10.892221Z",
     "start_time": "2020-09-06T23:56:10.886237Z"
    }
   },
   "outputs": [
    {
     "data": {
      "text/plain": [
       "Surfing     677\n",
       "Swimming    296\n",
       "Fishing     147\n",
       "Name: activity, dtype: int64"
      ]
     },
     "execution_count": 92,
     "metadata": {},
     "output_type": "execute_result"
    }
   ],
   "source": [
    "# Top 3 activities involved in shark incidentes during the XXI century - Number\n",
    "df_cen21.activity.value_counts().head(3)"
   ]
  },
  {
   "cell_type": "code",
   "execution_count": 93,
   "metadata": {
    "ExecuteTime": {
     "end_time": "2020-09-06T23:56:10.899202Z",
     "start_time": "2020-09-06T23:56:10.893219Z"
    }
   },
   "outputs": [
    {
     "data": {
      "text/plain": [
       "Surfing     30.675125\n",
       "Swimming    13.411871\n",
       "Fishing      6.660625\n",
       "Name: activity, dtype: float64"
      ]
     },
     "execution_count": 93,
     "metadata": {},
     "output_type": "execute_result"
    }
   ],
   "source": [
    "# Top 3 activities involved in shark incidentes during the XXI century - %\n",
    "(df_cen21.activity.value_counts().head(3) / n_rows_cen21) * 100"
   ]
  },
  {
   "cell_type": "markdown",
   "metadata": {},
   "source": [
    "The result shows that for each century there was different activities and habits. For example, it was more common for people to bathe in the nature during the 19th century and the surfing just appeared in the 20th century."
   ]
  }
 ],
 "metadata": {
  "hide_input": false,
  "kernelspec": {
   "display_name": "Python 3",
   "language": "python",
   "name": "python3"
  },
  "language_info": {
   "codemirror_mode": {
    "name": "ipython",
    "version": 3
   },
   "file_extension": ".py",
   "mimetype": "text/x-python",
   "name": "python",
   "nbconvert_exporter": "python",
   "pygments_lexer": "ipython3",
   "version": "3.8.3"
  },
  "toc": {
   "base_numbering": 1,
   "nav_menu": {},
   "number_sections": true,
   "sideBar": true,
   "skip_h1_title": false,
   "title_cell": "Table of Contents",
   "title_sidebar": "Contents",
   "toc_cell": false,
   "toc_position": {
    "height": "calc(100% - 180px)",
    "left": "10px",
    "top": "150px",
    "width": "383.993px"
   },
   "toc_section_display": true,
   "toc_window_display": true
  },
  "varInspector": {
   "cols": {
    "lenName": 16,
    "lenType": 16,
    "lenVar": 40
   },
   "kernels_config": {
    "python": {
     "delete_cmd_postfix": "",
     "delete_cmd_prefix": "del ",
     "library": "var_list.py",
     "varRefreshCmd": "print(var_dic_list())"
    },
    "r": {
     "delete_cmd_postfix": ") ",
     "delete_cmd_prefix": "rm(",
     "library": "var_list.r",
     "varRefreshCmd": "cat(var_dic_list()) "
    }
   },
   "types_to_exclude": [
    "module",
    "function",
    "builtin_function_or_method",
    "instance",
    "_Feature"
   ],
   "window_display": false
  }
 },
 "nbformat": 4,
 "nbformat_minor": 4
}
