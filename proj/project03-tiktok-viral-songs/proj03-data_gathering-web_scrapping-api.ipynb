{
 "cells": [
  {
   "cell_type": "markdown",
   "metadata": {},
   "source": [
    "![Ironhack logo](https://i.imgur.com/1QgrNNw.png)"
   ]
  },
  {
   "cell_type": "markdown",
   "metadata": {},
   "source": [
    "<body>\n",
    "    <p style=\"font-size:28px;text-align:center\"><b>Project 03 - Part 01 | Web Scrapping & API</b></p>\n",
    "</body>"
   ]
  },
  {
   "cell_type": "markdown",
   "metadata": {},
   "source": [
    "# Introduction"
   ]
  },
  {
   "cell_type": "markdown",
   "metadata": {},
   "source": [
    "The objective of the first part of this project was collect data to answer a problem statement, practicing web scrapping and using API.\n",
    "\n",
    "---\n",
    "\n",
    "<body>\n",
    "    <p style=\"font-size:20px\"><b>Problem Statement</b></p>\n",
    "</body>\n",
    "\n",
    "_What some the TikTok viral songs have in common?_\n",
    "\n",
    "---\n",
    "\n",
    "To answer this problem, 69 songs, which were obtained from the **PopSugar** website, were analyzed. The post that contained this list of songs was made in March 27th, 2020 by Hedy Phillips around the same time people started to quarantine, because of the COVIVD-19 pandemic, and people began to use it more to spend their time at home.\n",
    "\n",
    "The sources of information used to gather data were **Spotify**,  **Last.fm**, **Chartmetric** and **MusicBrainz**.\n",
    "\n",
    "---\n",
    "\n",
    "Sources:\n",
    "- Websites:\n",
    "  - PopSugar: https://www.popsugar.com/entertainment/popular-tiktok-songs-47289804?stream_view=1#photo-47289832\n",
    "  - MusicBrainz:https://musicbrainz.org/genres\n",
    " \n",
    "- APIs\n",
    "  - Spotify API: https://developer.spotify.com/\n",
    "  - Spotipy (Spotify API wrapper for Python): https://spotipy.readthedocs.io/en/2.15.0/\n",
    "  - Last.fm API: https://www.last.fm/api\n",
    "  - Chartmetric API: https://api.chartmetric.com/apidoc/"
   ]
  },
  {
   "cell_type": "markdown",
   "metadata": {},
   "source": [
    "# Setup"
   ]
  },
  {
   "cell_type": "markdown",
   "metadata": {},
   "source": [
    "## Import"
   ]
  },
  {
   "cell_type": "code",
   "execution_count": 92,
   "metadata": {
    "ExecuteTime": {
     "end_time": "2020-09-16T23:16:10.339495Z",
     "start_time": "2020-09-16T23:16:10.334455Z"
    }
   },
   "outputs": [],
   "source": [
    "import os\n",
    "import re\n",
    "import requests\n",
    "from time import sleep\n",
    "\n",
    "import numpy as np\n",
    "import pandas as pd\n",
    "import spotipy\n",
    "\n",
    "from bs4 import BeautifulSoup\n",
    "from dotenv import load_dotenv, find_dotenv\n",
    "from spotipy.oauth2 import SpotifyClientCredentials, SpotifyOAuth\n",
    "from tqdm.auto import tqdm"
   ]
  },
  {
   "cell_type": "markdown",
   "metadata": {},
   "source": [
    "# Web Scrapping"
   ]
  },
  {
   "cell_type": "markdown",
   "metadata": {},
   "source": [
    "The web scrapping was necessary to collect the following data:\n",
    "\n",
    "<table>\n",
    "  <thead>\n",
    "    <tr>\n",
    "      <th>INFORMATION</th>\n",
    "      <th>SOURCE</th>\n",
    "    </tr>\n",
    "  </thead>\n",
    "  <tbody>\n",
    "    <tr>\n",
    "      <td>69 TikTok viral songs</td>\n",
    "      <td>PopSugar</td>\n",
    "    </tr>\n",
    "    <tr>\n",
    "      <td>Music genres</td>\n",
    "      <td>MusicBrainz</td>\n",
    "    </tr>\n",
    "  </tbody>\n",
    "</table>\n",
    "\n"
   ]
  },
  {
   "cell_type": "markdown",
   "metadata": {},
   "source": [
    "## List of viral songs on TikTok"
   ]
  },
  {
   "cell_type": "markdown",
   "metadata": {},
   "source": [
    "### Get response"
   ]
  },
  {
   "cell_type": "code",
   "execution_count": 93,
   "metadata": {
    "ExecuteTime": {
     "end_time": "2020-09-16T23:16:11.366418Z",
     "start_time": "2020-09-16T23:16:10.342434Z"
    }
   },
   "outputs": [
    {
     "data": {
      "text/plain": [
       "<Response [200]>"
      ]
     },
     "execution_count": 93,
     "metadata": {},
     "output_type": "execute_result"
    }
   ],
   "source": [
    "# Get response from the url and check it\n",
    "url = 'https://www.popsugar.com/entertainment/popular-tiktok-songs-47289804?stream_view=1#photo-47289832'\n",
    "response = requests.get(url)\n",
    "response"
   ]
  },
  {
   "cell_type": "markdown",
   "metadata": {},
   "source": [
    "### Data Collection"
   ]
  },
  {
   "cell_type": "code",
   "execution_count": 94,
   "metadata": {
    "ExecuteTime": {
     "end_time": "2020-09-16T23:16:11.436283Z",
     "start_time": "2020-09-16T23:16:11.367414Z"
    }
   },
   "outputs": [],
   "source": [
    "# Get the content in the url\n",
    "content_popsugar = BeautifulSoup(response.text)\n",
    "\n",
    "# Get the date the post was made\n",
    "popsugar_date = content_popsugar.find('time').text.replace('\\n', '').strip()\n",
    "\n",
    "# Get only the songs and artists\n",
    "popsugar_html = content_popsugar.find_all('span', attrs={'class': 'count-copy'})"
   ]
  },
  {
   "cell_type": "code",
   "execution_count": 95,
   "metadata": {
    "ExecuteTime": {
     "end_time": "2020-09-16T23:16:11.449198Z",
     "start_time": "2020-09-16T23:16:11.437267Z"
    }
   },
   "outputs": [
    {
     "data": {
      "text/html": [
       "<div>\n",
       "<style scoped>\n",
       "    .dataframe tbody tr th:only-of-type {\n",
       "        vertical-align: middle;\n",
       "    }\n",
       "\n",
       "    .dataframe tbody tr th {\n",
       "        vertical-align: top;\n",
       "    }\n",
       "\n",
       "    .dataframe thead th {\n",
       "        text-align: right;\n",
       "    }\n",
       "</style>\n",
       "<table border=\"1\" class=\"dataframe\">\n",
       "  <thead>\n",
       "    <tr style=\"text-align: right;\">\n",
       "      <th></th>\n",
       "      <th>song</th>\n",
       "      <th>artists</th>\n",
       "    </tr>\n",
       "  </thead>\n",
       "  <tbody>\n",
       "    <tr>\n",
       "      <th>0</th>\n",
       "      <td>Roxanne</td>\n",
       "      <td>Arizona Zervas</td>\n",
       "    </tr>\n",
       "    <tr>\n",
       "      <th>1</th>\n",
       "      <td>Say So</td>\n",
       "      <td>Doja Cat</td>\n",
       "    </tr>\n",
       "    <tr>\n",
       "      <th>2</th>\n",
       "      <td>My Oh My</td>\n",
       "      <td>Camila Cabello feat. DaBaby</td>\n",
       "    </tr>\n",
       "    <tr>\n",
       "      <th>3</th>\n",
       "      <td>Moon</td>\n",
       "      <td>Kid Francescoli</td>\n",
       "    </tr>\n",
       "    <tr>\n",
       "      <th>4</th>\n",
       "      <td>Vibe</td>\n",
       "      <td>Cookiee Kawaii</td>\n",
       "    </tr>\n",
       "    <tr>\n",
       "      <th>...</th>\n",
       "      <td>...</td>\n",
       "      <td>...</td>\n",
       "    </tr>\n",
       "    <tr>\n",
       "      <th>64</th>\n",
       "      <td>What the Hell</td>\n",
       "      <td>Avril Lavigne</td>\n",
       "    </tr>\n",
       "    <tr>\n",
       "      <th>65</th>\n",
       "      <td>Towards the Sun</td>\n",
       "      <td>Rihanna</td>\n",
       "    </tr>\n",
       "    <tr>\n",
       "      <th>66</th>\n",
       "      <td>I Think I'm OKAY</td>\n",
       "      <td>Machine Gun Kelly, YUNGBLUD, and Travis Barker</td>\n",
       "    </tr>\n",
       "    <tr>\n",
       "      <th>67</th>\n",
       "      <td>Myself</td>\n",
       "      <td>Bazzi</td>\n",
       "    </tr>\n",
       "    <tr>\n",
       "      <th>68</th>\n",
       "      <td>Stronger</td>\n",
       "      <td>Kanye West</td>\n",
       "    </tr>\n",
       "  </tbody>\n",
       "</table>\n",
       "<p>69 rows × 2 columns</p>\n",
       "</div>"
      ],
      "text/plain": [
       "                song                                         artists\n",
       "0            Roxanne                                  Arizona Zervas\n",
       "1             Say So                                        Doja Cat\n",
       "2           My Oh My                     Camila Cabello feat. DaBaby\n",
       "3               Moon                                 Kid Francescoli\n",
       "4               Vibe                                  Cookiee Kawaii\n",
       "..               ...                                             ...\n",
       "64     What the Hell                                   Avril Lavigne\n",
       "65   Towards the Sun                                         Rihanna\n",
       "66  I Think I'm OKAY  Machine Gun Kelly, YUNGBLUD, and Travis Barker\n",
       "67            Myself                                           Bazzi\n",
       "68          Stronger                                      Kanye West\n",
       "\n",
       "[69 rows x 2 columns]"
      ]
     },
     "execution_count": 95,
     "metadata": {},
     "output_type": "execute_result"
    }
   ],
   "source": [
    "# Conver the list 'html_popsugar' to a Pandas DataFrame\n",
    "df_base = pd.DataFrame([re.split(' by ', song.text.replace('\"', '').strip()) for song in popsugar_html], \n",
    "                       columns=['song', 'artists'])\n",
    "\n",
    "# Check the result\n",
    "df_base"
   ]
  },
  {
   "cell_type": "markdown",
   "metadata": {},
   "source": [
    "### Data Cleaning"
   ]
  },
  {
   "cell_type": "code",
   "execution_count": 96,
   "metadata": {
    "ExecuteTime": {
     "end_time": "2020-09-16T23:16:11.459168Z",
     "start_time": "2020-09-16T23:16:11.452190Z"
    }
   },
   "outputs": [],
   "source": [
    "# Create a column with a list of artists for each song\n",
    "df_base['artists_list'] = [re.split(',* and |, * | [Ff]eat. ', artists.strip()) for artists in df_base.artists]\n",
    "\n",
    "# Create a column with the number of artists for each song\n",
    "df_base['number_artists'] = df_base.artists_list.apply(len)"
   ]
  },
  {
   "cell_type": "code",
   "execution_count": 97,
   "metadata": {
    "ExecuteTime": {
     "end_time": "2020-09-16T23:16:11.466151Z",
     "start_time": "2020-09-16T23:16:11.461164Z"
    },
    "scrolled": true
   },
   "outputs": [
    {
     "data": {
      "text/plain": [
       "1    48\n",
       "2    18\n",
       "3     3\n",
       "Name: number_artists, dtype: int64"
      ]
     },
     "execution_count": 97,
     "metadata": {},
     "output_type": "execute_result"
    }
   ],
   "source": [
    "# Check possible number of artists for one song\n",
    "df_base.number_artists.value_counts()"
   ]
  },
  {
   "cell_type": "markdown",
   "metadata": {},
   "source": [
    "Seeing the result above, the maximum number of artists for a song is 3."
   ]
  },
  {
   "cell_type": "code",
   "execution_count": 98,
   "metadata": {
    "ExecuteTime": {
     "end_time": "2020-09-16T23:16:11.476123Z",
     "start_time": "2020-09-16T23:16:11.467147Z"
    }
   },
   "outputs": [
    {
     "data": {
      "text/html": [
       "<div>\n",
       "<style scoped>\n",
       "    .dataframe tbody tr th:only-of-type {\n",
       "        vertical-align: middle;\n",
       "    }\n",
       "\n",
       "    .dataframe tbody tr th {\n",
       "        vertical-align: top;\n",
       "    }\n",
       "\n",
       "    .dataframe thead th {\n",
       "        text-align: right;\n",
       "    }\n",
       "</style>\n",
       "<table border=\"1\" class=\"dataframe\">\n",
       "  <thead>\n",
       "    <tr style=\"text-align: right;\">\n",
       "      <th></th>\n",
       "      <th>song</th>\n",
       "      <th>artists</th>\n",
       "      <th>artists_list</th>\n",
       "      <th>number_artists</th>\n",
       "    </tr>\n",
       "  </thead>\n",
       "  <tbody>\n",
       "    <tr>\n",
       "      <th>0</th>\n",
       "      <td>Roxanne</td>\n",
       "      <td>Arizona Zervas</td>\n",
       "      <td>[Arizona Zervas]</td>\n",
       "      <td>1</td>\n",
       "    </tr>\n",
       "    <tr>\n",
       "      <th>1</th>\n",
       "      <td>Say So</td>\n",
       "      <td>Doja Cat</td>\n",
       "      <td>[Doja Cat]</td>\n",
       "      <td>1</td>\n",
       "    </tr>\n",
       "    <tr>\n",
       "      <th>2</th>\n",
       "      <td>My Oh My</td>\n",
       "      <td>Camila Cabello feat. DaBaby</td>\n",
       "      <td>[Camila Cabello, DaBaby]</td>\n",
       "      <td>2</td>\n",
       "    </tr>\n",
       "    <tr>\n",
       "      <th>3</th>\n",
       "      <td>Moon</td>\n",
       "      <td>Kid Francescoli</td>\n",
       "      <td>[Kid Francescoli]</td>\n",
       "      <td>1</td>\n",
       "    </tr>\n",
       "    <tr>\n",
       "      <th>4</th>\n",
       "      <td>Vibe</td>\n",
       "      <td>Cookiee Kawaii</td>\n",
       "      <td>[Cookiee Kawaii]</td>\n",
       "      <td>1</td>\n",
       "    </tr>\n",
       "  </tbody>\n",
       "</table>\n",
       "</div>"
      ],
      "text/plain": [
       "       song                      artists              artists_list  \\\n",
       "0   Roxanne               Arizona Zervas          [Arizona Zervas]   \n",
       "1    Say So                     Doja Cat                [Doja Cat]   \n",
       "2  My Oh My  Camila Cabello feat. DaBaby  [Camila Cabello, DaBaby]   \n",
       "3      Moon              Kid Francescoli         [Kid Francescoli]   \n",
       "4      Vibe               Cookiee Kawaii          [Cookiee Kawaii]   \n",
       "\n",
       "   number_artists  \n",
       "0               1  \n",
       "1               1  \n",
       "2               2  \n",
       "3               1  \n",
       "4               1  "
      ]
     },
     "execution_count": 98,
     "metadata": {},
     "output_type": "execute_result"
    }
   ],
   "source": [
    "# Check the dataframe\n",
    "df_base.head()"
   ]
  },
  {
   "cell_type": "markdown",
   "metadata": {},
   "source": [
    "### Make backup dataframe"
   ]
  },
  {
   "cell_type": "code",
   "execution_count": 99,
   "metadata": {
    "ExecuteTime": {
     "end_time": "2020-09-16T23:16:11.481115Z",
     "start_time": "2020-09-16T23:16:11.477120Z"
    }
   },
   "outputs": [],
   "source": [
    "df_base_raw_bck = df_base.copy()"
   ]
  },
  {
   "cell_type": "markdown",
   "metadata": {},
   "source": [
    "## List of music genre"
   ]
  },
  {
   "cell_type": "markdown",
   "metadata": {},
   "source": [
    "### Get the response"
   ]
  },
  {
   "cell_type": "code",
   "execution_count": 100,
   "metadata": {
    "ExecuteTime": {
     "end_time": "2020-09-16T23:16:11.487094Z",
     "start_time": "2020-09-16T23:16:11.483107Z"
    }
   },
   "outputs": [
    {
     "data": {
      "text/plain": [
       "\"# Get response from the url and check it\\nurl = 'https://musicbrainz.org/genres'\\nresponse = requests.get(url)\\nresponse\""
      ]
     },
     "execution_count": 100,
     "metadata": {},
     "output_type": "execute_result"
    }
   ],
   "source": [
    "'''# Get response from the url and check it\n",
    "url = 'https://musicbrainz.org/genres'\n",
    "response = requests.get(url)\n",
    "response'''"
   ]
  },
  {
   "cell_type": "markdown",
   "metadata": {},
   "source": [
    "### Data collection"
   ]
  },
  {
   "cell_type": "code",
   "execution_count": 101,
   "metadata": {
    "ExecuteTime": {
     "end_time": "2020-09-16T23:16:11.492080Z",
     "start_time": "2020-09-16T23:16:11.488091Z"
    },
    "scrolled": true
   },
   "outputs": [
    {
     "data": {
      "text/plain": [
       "\"# Get the content in the url\\nmusicbrainz_content = BeautifulSoup(response.content)\\n\\n# Create a list with the music genres listed in the url\\nmusicbrainz_genre = [genre.text for genre in musicbrainz_content.find_all('bdi')]\""
      ]
     },
     "execution_count": 101,
     "metadata": {},
     "output_type": "execute_result"
    }
   ],
   "source": [
    "'''# Get the content in the url\n",
    "musicbrainz_content = BeautifulSoup(response.content)\n",
    "\n",
    "# Create a list with the music genres listed in the url\n",
    "musicbrainz_genre = [genre.text for genre in musicbrainz_content.find_all('bdi')]'''"
   ]
  },
  {
   "cell_type": "markdown",
   "metadata": {},
   "source": [
    "The data cleaning for this list will be made later."
   ]
  },
  {
   "cell_type": "markdown",
   "metadata": {
    "cell_style": "split"
   },
   "source": [
    "# Spotify"
   ]
  },
  {
   "cell_type": "markdown",
   "metadata": {},
   "source": [
    "From the Spotify and with the Spotipy's help, some data about each song will be gathered. It is relevant to point that there is a possibility that some songs may not be in the Spotify's library."
   ]
  },
  {
   "cell_type": "code",
   "execution_count": 102,
   "metadata": {
    "ExecuteTime": {
     "end_time": "2020-09-16T23:16:11.500094Z",
     "start_time": "2020-09-16T23:16:11.493078Z"
    }
   },
   "outputs": [
    {
     "data": {
      "text/html": [
       "<div>\n",
       "<style scoped>\n",
       "    .dataframe tbody tr th:only-of-type {\n",
       "        vertical-align: middle;\n",
       "    }\n",
       "\n",
       "    .dataframe tbody tr th {\n",
       "        vertical-align: top;\n",
       "    }\n",
       "\n",
       "    .dataframe thead th {\n",
       "        text-align: right;\n",
       "    }\n",
       "</style>\n",
       "<table border=\"1\" class=\"dataframe\">\n",
       "  <thead>\n",
       "    <tr style=\"text-align: right;\">\n",
       "      <th></th>\n",
       "      <th>song</th>\n",
       "      <th>artists</th>\n",
       "      <th>artists_list</th>\n",
       "      <th>number_artists</th>\n",
       "    </tr>\n",
       "  </thead>\n",
       "  <tbody>\n",
       "    <tr>\n",
       "      <th>0</th>\n",
       "      <td>Roxanne</td>\n",
       "      <td>Arizona Zervas</td>\n",
       "      <td>[Arizona Zervas]</td>\n",
       "      <td>1</td>\n",
       "    </tr>\n",
       "    <tr>\n",
       "      <th>1</th>\n",
       "      <td>Say So</td>\n",
       "      <td>Doja Cat</td>\n",
       "      <td>[Doja Cat]</td>\n",
       "      <td>1</td>\n",
       "    </tr>\n",
       "    <tr>\n",
       "      <th>2</th>\n",
       "      <td>My Oh My</td>\n",
       "      <td>Camila Cabello feat. DaBaby</td>\n",
       "      <td>[Camila Cabello, DaBaby]</td>\n",
       "      <td>2</td>\n",
       "    </tr>\n",
       "    <tr>\n",
       "      <th>3</th>\n",
       "      <td>Moon</td>\n",
       "      <td>Kid Francescoli</td>\n",
       "      <td>[Kid Francescoli]</td>\n",
       "      <td>1</td>\n",
       "    </tr>\n",
       "    <tr>\n",
       "      <th>4</th>\n",
       "      <td>Vibe</td>\n",
       "      <td>Cookiee Kawaii</td>\n",
       "      <td>[Cookiee Kawaii]</td>\n",
       "      <td>1</td>\n",
       "    </tr>\n",
       "  </tbody>\n",
       "</table>\n",
       "</div>"
      ],
      "text/plain": [
       "       song                      artists              artists_list  \\\n",
       "0   Roxanne               Arizona Zervas          [Arizona Zervas]   \n",
       "1    Say So                     Doja Cat                [Doja Cat]   \n",
       "2  My Oh My  Camila Cabello feat. DaBaby  [Camila Cabello, DaBaby]   \n",
       "3      Moon              Kid Francescoli         [Kid Francescoli]   \n",
       "4      Vibe               Cookiee Kawaii          [Cookiee Kawaii]   \n",
       "\n",
       "   number_artists  \n",
       "0               1  \n",
       "1               1  \n",
       "2               2  \n",
       "3               1  \n",
       "4               1  "
      ]
     },
     "execution_count": 102,
     "metadata": {},
     "output_type": "execute_result"
    }
   ],
   "source": [
    "# Create a copy of the dataframe\n",
    "df_sp = df_base.copy()\n",
    "\n",
    "# Check the result\n",
    "df_sp.head()"
   ]
  },
  {
   "cell_type": "markdown",
   "metadata": {},
   "source": [
    "## Connecting to the API"
   ]
  },
  {
   "cell_type": "code",
   "execution_count": 103,
   "metadata": {
    "ExecuteTime": {
     "end_time": "2020-09-16T23:16:11.507067Z",
     "start_time": "2020-09-16T23:16:11.501058Z"
    }
   },
   "outputs": [
    {
     "data": {
      "text/plain": [
       "True"
      ]
     },
     "execution_count": 103,
     "metadata": {},
     "output_type": "execute_result"
    }
   ],
   "source": [
    "load_dotenv(find_dotenv())"
   ]
  },
  {
   "cell_type": "code",
   "execution_count": 104,
   "metadata": {
    "ExecuteTime": {
     "end_time": "2020-09-16T23:16:11.513024Z",
     "start_time": "2020-09-16T23:16:11.508063Z"
    }
   },
   "outputs": [],
   "source": [
    "cid = os.getenv('spotify_p03_key')\n",
    "csecret = os.getenv('spotify_p03_secret')\n",
    "cc_manager = SpotifyClientCredentials(client_id=cid, client_secret=csecret)\n",
    "sp = spotipy.Spotify(client_credentials_manager=cc_manager)"
   ]
  },
  {
   "cell_type": "markdown",
   "metadata": {},
   "source": [
    "## Songs"
   ]
  },
  {
   "cell_type": "markdown",
   "metadata": {},
   "source": [
    "### Search information about each song"
   ]
  },
  {
   "cell_type": "code",
   "execution_count": 105,
   "metadata": {
    "ExecuteTime": {
     "end_time": "2020-09-16T23:16:31.069580Z",
     "start_time": "2020-09-16T23:16:11.514021Z"
    }
   },
   "outputs": [
    {
     "data": {
      "application/vnd.jupyter.widget-view+json": {
       "model_id": "275a9872ba864b08b2bc0c0de22037e1",
       "version_major": 2,
       "version_minor": 0
      },
      "text/plain": [
       "HBox(children=(FloatProgress(value=0.0, max=69.0), HTML(value='')))"
      ]
     },
     "metadata": {},
     "output_type": "display_data"
    },
    {
     "name": "stdout",
     "output_type": "stream",
     "text": [
      "\n"
     ]
    }
   ],
   "source": [
    "# Search information about each song, using the Spotipy\n",
    "spotify_songs = [sp.search(q=df_base.iloc[index, 0], type='track', limit=50) for index in tqdm(df_base.index)]"
   ]
  },
  {
   "cell_type": "code",
   "execution_count": 106,
   "metadata": {
    "ExecuteTime": {
     "end_time": "2020-09-16T23:16:31.074570Z",
     "start_time": "2020-09-16T23:16:31.071573Z"
    }
   },
   "outputs": [
    {
     "data": {
      "text/plain": [
       "69"
      ]
     },
     "execution_count": 106,
     "metadata": {},
     "output_type": "execute_result"
    }
   ],
   "source": [
    "# Check if there are 69 items in this list\n",
    "len(spotify_songs)"
   ]
  },
  {
   "cell_type": "code",
   "execution_count": 107,
   "metadata": {
    "ExecuteTime": {
     "end_time": "2020-09-16T23:16:31.079539Z",
     "start_time": "2020-09-16T23:16:31.076559Z"
    }
   },
   "outputs": [],
   "source": [
    "# Add a column in the dataframe with the data that were just collected\n",
    "df_sp['spotify_search'] = spotify_songs"
   ]
  },
  {
   "cell_type": "code",
   "execution_count": 108,
   "metadata": {
    "ExecuteTime": {
     "end_time": "2020-09-16T23:16:31.117419Z",
     "start_time": "2020-09-16T23:16:31.080515Z"
    }
   },
   "outputs": [
    {
     "data": {
      "text/html": [
       "<div>\n",
       "<style scoped>\n",
       "    .dataframe tbody tr th:only-of-type {\n",
       "        vertical-align: middle;\n",
       "    }\n",
       "\n",
       "    .dataframe tbody tr th {\n",
       "        vertical-align: top;\n",
       "    }\n",
       "\n",
       "    .dataframe thead th {\n",
       "        text-align: right;\n",
       "    }\n",
       "</style>\n",
       "<table border=\"1\" class=\"dataframe\">\n",
       "  <thead>\n",
       "    <tr style=\"text-align: right;\">\n",
       "      <th></th>\n",
       "      <th>song</th>\n",
       "      <th>artists</th>\n",
       "      <th>artists_list</th>\n",
       "      <th>number_artists</th>\n",
       "      <th>spotify_search</th>\n",
       "    </tr>\n",
       "  </thead>\n",
       "  <tbody>\n",
       "    <tr>\n",
       "      <th>0</th>\n",
       "      <td>Roxanne</td>\n",
       "      <td>Arizona Zervas</td>\n",
       "      <td>[Arizona Zervas]</td>\n",
       "      <td>1</td>\n",
       "      <td>{'tracks': {'href': 'https://api.spotify.com/v...</td>\n",
       "    </tr>\n",
       "    <tr>\n",
       "      <th>1</th>\n",
       "      <td>Say So</td>\n",
       "      <td>Doja Cat</td>\n",
       "      <td>[Doja Cat]</td>\n",
       "      <td>1</td>\n",
       "      <td>{'tracks': {'href': 'https://api.spotify.com/v...</td>\n",
       "    </tr>\n",
       "    <tr>\n",
       "      <th>2</th>\n",
       "      <td>My Oh My</td>\n",
       "      <td>Camila Cabello feat. DaBaby</td>\n",
       "      <td>[Camila Cabello, DaBaby]</td>\n",
       "      <td>2</td>\n",
       "      <td>{'tracks': {'href': 'https://api.spotify.com/v...</td>\n",
       "    </tr>\n",
       "    <tr>\n",
       "      <th>3</th>\n",
       "      <td>Moon</td>\n",
       "      <td>Kid Francescoli</td>\n",
       "      <td>[Kid Francescoli]</td>\n",
       "      <td>1</td>\n",
       "      <td>{'tracks': {'href': 'https://api.spotify.com/v...</td>\n",
       "    </tr>\n",
       "    <tr>\n",
       "      <th>4</th>\n",
       "      <td>Vibe</td>\n",
       "      <td>Cookiee Kawaii</td>\n",
       "      <td>[Cookiee Kawaii]</td>\n",
       "      <td>1</td>\n",
       "      <td>{'tracks': {'href': 'https://api.spotify.com/v...</td>\n",
       "    </tr>\n",
       "  </tbody>\n",
       "</table>\n",
       "</div>"
      ],
      "text/plain": [
       "       song                      artists              artists_list  \\\n",
       "0   Roxanne               Arizona Zervas          [Arizona Zervas]   \n",
       "1    Say So                     Doja Cat                [Doja Cat]   \n",
       "2  My Oh My  Camila Cabello feat. DaBaby  [Camila Cabello, DaBaby]   \n",
       "3      Moon              Kid Francescoli         [Kid Francescoli]   \n",
       "4      Vibe               Cookiee Kawaii          [Cookiee Kawaii]   \n",
       "\n",
       "   number_artists                                     spotify_search  \n",
       "0               1  {'tracks': {'href': 'https://api.spotify.com/v...  \n",
       "1               1  {'tracks': {'href': 'https://api.spotify.com/v...  \n",
       "2               2  {'tracks': {'href': 'https://api.spotify.com/v...  \n",
       "3               1  {'tracks': {'href': 'https://api.spotify.com/v...  \n",
       "4               1  {'tracks': {'href': 'https://api.spotify.com/v...  "
      ]
     },
     "execution_count": 108,
     "metadata": {},
     "output_type": "execute_result"
    }
   ],
   "source": [
    "# Check the result\n",
    "df_sp.head()"
   ]
  },
  {
   "cell_type": "code",
   "execution_count": 109,
   "metadata": {
    "ExecuteTime": {
     "end_time": "2020-09-16T23:16:31.133374Z",
     "start_time": "2020-09-16T23:16:31.120430Z"
    }
   },
   "outputs": [],
   "source": [
    "# Function to add new information in a copy of the dataframe\n",
    "def get_spotify_track_info(df):\n",
    "    \n",
    "    '''\n",
    "    Filters some data of the songs and adds them to a copy of the dataframe\n",
    "    \n",
    "    Args:\n",
    "    -----\n",
    "        df (Pandas DataFrame): a dataframe containing the songs and their artists\n",
    "    \n",
    "    Returns:\n",
    "    --------\n",
    "        df_copy (Pandas DataFrame): a copy of the dataframe with some new information appended\n",
    "    '''\n",
    "    \n",
    "    # Create auxiliary empty lists (final lists)\n",
    "    list_spotify_track_id = []\n",
    "    list_spotify_track_duration = []\n",
    "    list_spotify_track_popularity = []\n",
    "    list_spotify_album_release_date = []\n",
    "    list_spotify_track_explicit = []\n",
    "    lists_spotify = [list_spotify_track_id, list_spotify_track_duration, list_spotify_track_popularity,\n",
    "                     list_spotify_album_release_date, list_spotify_track_explicit]\n",
    "    \n",
    "    \n",
    "    # Check for each row of the dataframe\n",
    "    for index in df.index:\n",
    "        \n",
    "        # Information necessary from the dataframe to use during the process\n",
    "        song_name = df.iloc[index, 0][:3].lower()\n",
    "        artists_list = [artist.lower() for artist in df.iloc[index, 2]]\n",
    "        total_artists = df.iloc[index, 3]\n",
    "        mask = df.iloc[index, 4]['tracks']['items']\n",
    "        \n",
    "        # If the track was not found in the Spotify library, a 'not-found' string is added to the final lists\n",
    "        if len(mask) == 0:\n",
    "            for lst in lists_spotify:\n",
    "                lst.append('not-found')\n",
    "            #print(f'{index} - {song_name} - NOT FOUND')\n",
    "        \n",
    "        # If the track was found in the Spotify\n",
    "        else:\n",
    "            \n",
    "            # Variable necessary to check if the information about a song has been added to the final lists\n",
    "            added = 0\n",
    "            \n",
    "            # For each track it was listed 50 tracks related to the query \n",
    "            for idx, each_found in enumerate(mask):\n",
    "                \n",
    "                # Information necessary from the Spotify API to use during the process\n",
    "                track_name = mask[idx]['name'].lower()\n",
    "                track_id = mask[idx]['id']\n",
    "                track_duration = mask[idx]['duration_ms']\n",
    "                track_popularity = mask[idx]['popularity']\n",
    "                album_release_date = mask[idx]['album']['release_date']\n",
    "                track_explicit = mask[idx]['explicit']\n",
    "                n_artists = len(mask[idx]['artists'])\n",
    "                first_artist_name = mask[idx]['artists'][0]['name'].lower()\n",
    "            \n",
    "                # Check if the name of the song, the artists from both sources match and if an information about the\n",
    "                # song has been added to the final lists \n",
    "                if ((song_name in track_name) & (total_artists == n_artists) & \n",
    "                    ((first_artist_name in artists_list) | (artists_list[0][:5] in first_artist_name)) & (added == 0)):\n",
    "                    list_spotify_track_id.append(track_id)\n",
    "                    list_spotify_track_duration.append(track_duration)\n",
    "                    list_spotify_track_popularity.append(track_popularity)\n",
    "                    list_spotify_album_release_date.append(album_release_date)\n",
    "                    list_spotify_track_explicit.append(track_explicit)\n",
    "                    added += 1\n",
    "                    #print(f'{index} - {track_name} - {track_id}')\n",
    "                        \n",
    "                \n",
    "                # If the track found in the search is not a math, itis the last one and information about the track \n",
    "                # has not been added to the final list, then add a 'not-found' string to the final lists\n",
    "                elif (idx == len(mask) - 1) & (added == 0):\n",
    "                    for lst in lists_spotify:\n",
    "                        lst.append('not-found')\n",
    "                    #print(f'{index} - {song_name} - NOT FOUND')\n",
    "    \n",
    "    # Make a copy of the dataframe\n",
    "    df_copy = df.copy()\n",
    "    \n",
    "    # Add columns with the desired information\n",
    "    # Not an inplace process\n",
    "    df_copy['sp_id'] = list_spotify_track_id\n",
    "    df_copy['sp_duration_ms'] = list_spotify_track_duration\n",
    "    df_copy['sp_popularity'] = list_spotify_track_popularity\n",
    "    df_copy['sp_release_date'] = list_spotify_album_release_date\n",
    "    df_copy['sp_explicit'] = list_spotify_track_explicit\n",
    "                    \n",
    "    return df_copy"
   ]
  },
  {
   "cell_type": "code",
   "execution_count": 110,
   "metadata": {
    "ExecuteTime": {
     "end_time": "2020-09-16T23:16:31.218181Z",
     "start_time": "2020-09-16T23:16:31.134371Z"
    }
   },
   "outputs": [
    {
     "data": {
      "text/html": [
       "<div>\n",
       "<style scoped>\n",
       "    .dataframe tbody tr th:only-of-type {\n",
       "        vertical-align: middle;\n",
       "    }\n",
       "\n",
       "    .dataframe tbody tr th {\n",
       "        vertical-align: top;\n",
       "    }\n",
       "\n",
       "    .dataframe thead th {\n",
       "        text-align: right;\n",
       "    }\n",
       "</style>\n",
       "<table border=\"1\" class=\"dataframe\">\n",
       "  <thead>\n",
       "    <tr style=\"text-align: right;\">\n",
       "      <th></th>\n",
       "      <th>song</th>\n",
       "      <th>artists</th>\n",
       "      <th>artists_list</th>\n",
       "      <th>number_artists</th>\n",
       "      <th>spotify_search</th>\n",
       "      <th>sp_id</th>\n",
       "      <th>sp_duration_ms</th>\n",
       "      <th>sp_popularity</th>\n",
       "      <th>sp_release_date</th>\n",
       "      <th>sp_explicit</th>\n",
       "    </tr>\n",
       "  </thead>\n",
       "  <tbody>\n",
       "    <tr>\n",
       "      <th>0</th>\n",
       "      <td>Roxanne</td>\n",
       "      <td>Arizona Zervas</td>\n",
       "      <td>[Arizona Zervas]</td>\n",
       "      <td>1</td>\n",
       "      <td>{'tracks': {'href': 'https://api.spotify.com/v...</td>\n",
       "      <td>696DnlkuDOXcMAnKlTgXXK</td>\n",
       "      <td>163636</td>\n",
       "      <td>88</td>\n",
       "      <td>2019-10-10</td>\n",
       "      <td>True</td>\n",
       "    </tr>\n",
       "    <tr>\n",
       "      <th>1</th>\n",
       "      <td>Say So</td>\n",
       "      <td>Doja Cat</td>\n",
       "      <td>[Doja Cat]</td>\n",
       "      <td>1</td>\n",
       "      <td>{'tracks': {'href': 'https://api.spotify.com/v...</td>\n",
       "      <td>3Dv1eDb0MEgF93GpLXlucZ</td>\n",
       "      <td>237893</td>\n",
       "      <td>89</td>\n",
       "      <td>2019-11-07</td>\n",
       "      <td>True</td>\n",
       "    </tr>\n",
       "    <tr>\n",
       "      <th>2</th>\n",
       "      <td>My Oh My</td>\n",
       "      <td>Camila Cabello feat. DaBaby</td>\n",
       "      <td>[Camila Cabello, DaBaby]</td>\n",
       "      <td>2</td>\n",
       "      <td>{'tracks': {'href': 'https://api.spotify.com/v...</td>\n",
       "      <td>3yOlyBJuViE2YSGn3nVE1K</td>\n",
       "      <td>170746</td>\n",
       "      <td>82</td>\n",
       "      <td>2019-12-06</td>\n",
       "      <td>False</td>\n",
       "    </tr>\n",
       "    <tr>\n",
       "      <th>3</th>\n",
       "      <td>Moon</td>\n",
       "      <td>Kid Francescoli</td>\n",
       "      <td>[Kid Francescoli]</td>\n",
       "      <td>1</td>\n",
       "      <td>{'tracks': {'href': 'https://api.spotify.com/v...</td>\n",
       "      <td>24upABZ8A0sAepfu91sEYr</td>\n",
       "      <td>390638</td>\n",
       "      <td>70</td>\n",
       "      <td>2017-03-03</td>\n",
       "      <td>False</td>\n",
       "    </tr>\n",
       "    <tr>\n",
       "      <th>4</th>\n",
       "      <td>Vibe</td>\n",
       "      <td>Cookiee Kawaii</td>\n",
       "      <td>[Cookiee Kawaii]</td>\n",
       "      <td>1</td>\n",
       "      <td>{'tracks': {'href': 'https://api.spotify.com/v...</td>\n",
       "      <td>4gOgQTv9RYYFZ1uQNnlk3q</td>\n",
       "      <td>83940</td>\n",
       "      <td>72</td>\n",
       "      <td>2019-03-29</td>\n",
       "      <td>True</td>\n",
       "    </tr>\n",
       "    <tr>\n",
       "      <th>...</th>\n",
       "      <td>...</td>\n",
       "      <td>...</td>\n",
       "      <td>...</td>\n",
       "      <td>...</td>\n",
       "      <td>...</td>\n",
       "      <td>...</td>\n",
       "      <td>...</td>\n",
       "      <td>...</td>\n",
       "      <td>...</td>\n",
       "      <td>...</td>\n",
       "    </tr>\n",
       "    <tr>\n",
       "      <th>64</th>\n",
       "      <td>What the Hell</td>\n",
       "      <td>Avril Lavigne</td>\n",
       "      <td>[Avril Lavigne]</td>\n",
       "      <td>1</td>\n",
       "      <td>{'tracks': {'href': 'https://api.spotify.com/v...</td>\n",
       "      <td>2z4U9d5OAA4YLNXoCgioxo</td>\n",
       "      <td>220706</td>\n",
       "      <td>74</td>\n",
       "      <td>2011-03-08</td>\n",
       "      <td>False</td>\n",
       "    </tr>\n",
       "    <tr>\n",
       "      <th>65</th>\n",
       "      <td>Towards the Sun</td>\n",
       "      <td>Rihanna</td>\n",
       "      <td>[Rihanna]</td>\n",
       "      <td>1</td>\n",
       "      <td>{'tracks': {'href': 'https://api.spotify.com/v...</td>\n",
       "      <td>1UuZhGTon3gzXQAJzNa2A4</td>\n",
       "      <td>273293</td>\n",
       "      <td>55</td>\n",
       "      <td>2015-03-23</td>\n",
       "      <td>False</td>\n",
       "    </tr>\n",
       "    <tr>\n",
       "      <th>66</th>\n",
       "      <td>I Think I'm OKAY</td>\n",
       "      <td>Machine Gun Kelly, YUNGBLUD, and Travis Barker</td>\n",
       "      <td>[Machine Gun Kelly, YUNGBLUD, Travis Barker]</td>\n",
       "      <td>3</td>\n",
       "      <td>{'tracks': {'href': 'https://api.spotify.com/v...</td>\n",
       "      <td>2gTdDMpNxIRFSiu7HutMCg</td>\n",
       "      <td>169397</td>\n",
       "      <td>81</td>\n",
       "      <td>2019-07-05</td>\n",
       "      <td>True</td>\n",
       "    </tr>\n",
       "    <tr>\n",
       "      <th>67</th>\n",
       "      <td>Myself</td>\n",
       "      <td>Bazzi</td>\n",
       "      <td>[Bazzi]</td>\n",
       "      <td>1</td>\n",
       "      <td>{'tracks': {'href': 'https://api.spotify.com/v...</td>\n",
       "      <td>5YLHLxoZsodDWjqSgjhBf3</td>\n",
       "      <td>167552</td>\n",
       "      <td>76</td>\n",
       "      <td>2018-04-12</td>\n",
       "      <td>False</td>\n",
       "    </tr>\n",
       "    <tr>\n",
       "      <th>68</th>\n",
       "      <td>Stronger</td>\n",
       "      <td>Kanye West</td>\n",
       "      <td>[Kanye West]</td>\n",
       "      <td>1</td>\n",
       "      <td>{'tracks': {'href': 'https://api.spotify.com/v...</td>\n",
       "      <td>4fzsfWzRhPawzqhX8Qt9F3</td>\n",
       "      <td>311866</td>\n",
       "      <td>80</td>\n",
       "      <td>2007-09-11</td>\n",
       "      <td>True</td>\n",
       "    </tr>\n",
       "  </tbody>\n",
       "</table>\n",
       "<p>69 rows × 10 columns</p>\n",
       "</div>"
      ],
      "text/plain": [
       "                song                                         artists  \\\n",
       "0            Roxanne                                  Arizona Zervas   \n",
       "1             Say So                                        Doja Cat   \n",
       "2           My Oh My                     Camila Cabello feat. DaBaby   \n",
       "3               Moon                                 Kid Francescoli   \n",
       "4               Vibe                                  Cookiee Kawaii   \n",
       "..               ...                                             ...   \n",
       "64     What the Hell                                   Avril Lavigne   \n",
       "65   Towards the Sun                                         Rihanna   \n",
       "66  I Think I'm OKAY  Machine Gun Kelly, YUNGBLUD, and Travis Barker   \n",
       "67            Myself                                           Bazzi   \n",
       "68          Stronger                                      Kanye West   \n",
       "\n",
       "                                    artists_list  number_artists  \\\n",
       "0                               [Arizona Zervas]               1   \n",
       "1                                     [Doja Cat]               1   \n",
       "2                       [Camila Cabello, DaBaby]               2   \n",
       "3                              [Kid Francescoli]               1   \n",
       "4                               [Cookiee Kawaii]               1   \n",
       "..                                           ...             ...   \n",
       "64                               [Avril Lavigne]               1   \n",
       "65                                     [Rihanna]               1   \n",
       "66  [Machine Gun Kelly, YUNGBLUD, Travis Barker]               3   \n",
       "67                                       [Bazzi]               1   \n",
       "68                                  [Kanye West]               1   \n",
       "\n",
       "                                       spotify_search                   sp_id  \\\n",
       "0   {'tracks': {'href': 'https://api.spotify.com/v...  696DnlkuDOXcMAnKlTgXXK   \n",
       "1   {'tracks': {'href': 'https://api.spotify.com/v...  3Dv1eDb0MEgF93GpLXlucZ   \n",
       "2   {'tracks': {'href': 'https://api.spotify.com/v...  3yOlyBJuViE2YSGn3nVE1K   \n",
       "3   {'tracks': {'href': 'https://api.spotify.com/v...  24upABZ8A0sAepfu91sEYr   \n",
       "4   {'tracks': {'href': 'https://api.spotify.com/v...  4gOgQTv9RYYFZ1uQNnlk3q   \n",
       "..                                                ...                     ...   \n",
       "64  {'tracks': {'href': 'https://api.spotify.com/v...  2z4U9d5OAA4YLNXoCgioxo   \n",
       "65  {'tracks': {'href': 'https://api.spotify.com/v...  1UuZhGTon3gzXQAJzNa2A4   \n",
       "66  {'tracks': {'href': 'https://api.spotify.com/v...  2gTdDMpNxIRFSiu7HutMCg   \n",
       "67  {'tracks': {'href': 'https://api.spotify.com/v...  5YLHLxoZsodDWjqSgjhBf3   \n",
       "68  {'tracks': {'href': 'https://api.spotify.com/v...  4fzsfWzRhPawzqhX8Qt9F3   \n",
       "\n",
       "   sp_duration_ms sp_popularity sp_release_date sp_explicit  \n",
       "0          163636            88      2019-10-10        True  \n",
       "1          237893            89      2019-11-07        True  \n",
       "2          170746            82      2019-12-06       False  \n",
       "3          390638            70      2017-03-03       False  \n",
       "4           83940            72      2019-03-29        True  \n",
       "..            ...           ...             ...         ...  \n",
       "64         220706            74      2011-03-08       False  \n",
       "65         273293            55      2015-03-23       False  \n",
       "66         169397            81      2019-07-05        True  \n",
       "67         167552            76      2018-04-12       False  \n",
       "68         311866            80      2007-09-11        True  \n",
       "\n",
       "[69 rows x 10 columns]"
      ]
     },
     "execution_count": 110,
     "metadata": {},
     "output_type": "execute_result"
    }
   ],
   "source": [
    "# Add desired information to the dataframe\n",
    "df_sp = get_spotify_track_info(df_sp)\n",
    "\n",
    "# Check the result\n",
    "df_sp"
   ]
  },
  {
   "cell_type": "code",
   "execution_count": 111,
   "metadata": {
    "ExecuteTime": {
     "end_time": "2020-09-16T23:16:31.240143Z",
     "start_time": "2020-09-16T23:16:31.219146Z"
    },
    "code_folding": []
   },
   "outputs": [
    {
     "data": {
      "text/html": [
       "<div>\n",
       "<style scoped>\n",
       "    .dataframe tbody tr th:only-of-type {\n",
       "        vertical-align: middle;\n",
       "    }\n",
       "\n",
       "    .dataframe tbody tr th {\n",
       "        vertical-align: top;\n",
       "    }\n",
       "\n",
       "    .dataframe thead th {\n",
       "        text-align: right;\n",
       "    }\n",
       "</style>\n",
       "<table border=\"1\" class=\"dataframe\">\n",
       "  <thead>\n",
       "    <tr style=\"text-align: right;\">\n",
       "      <th></th>\n",
       "      <th>song</th>\n",
       "      <th>artists</th>\n",
       "      <th>artists_list</th>\n",
       "      <th>number_artists</th>\n",
       "      <th>spotify_search</th>\n",
       "      <th>sp_id</th>\n",
       "      <th>sp_duration_ms</th>\n",
       "      <th>sp_popularity</th>\n",
       "      <th>sp_release_date</th>\n",
       "      <th>sp_explicit</th>\n",
       "    </tr>\n",
       "  </thead>\n",
       "  <tbody>\n",
       "    <tr>\n",
       "      <th>11</th>\n",
       "      <td>How About Now</td>\n",
       "      <td>Bryson Tiller</td>\n",
       "      <td>[Bryson Tiller]</td>\n",
       "      <td>1</td>\n",
       "      <td>{'tracks': {'href': 'https://api.spotify.com/v...</td>\n",
       "      <td>not-found</td>\n",
       "      <td>not-found</td>\n",
       "      <td>not-found</td>\n",
       "      <td>not-found</td>\n",
       "      <td>not-found</td>\n",
       "    </tr>\n",
       "    <tr>\n",
       "      <th>36</th>\n",
       "      <td>Shibuya — Chanel Funk Remix</td>\n",
       "      <td>Frank Ocean and L.Dre</td>\n",
       "      <td>[Frank Ocean, L.Dre]</td>\n",
       "      <td>2</td>\n",
       "      <td>{'tracks': {'href': 'https://api.spotify.com/v...</td>\n",
       "      <td>not-found</td>\n",
       "      <td>not-found</td>\n",
       "      <td>not-found</td>\n",
       "      <td>not-found</td>\n",
       "      <td>not-found</td>\n",
       "    </tr>\n",
       "    <tr>\n",
       "      <th>39</th>\n",
       "      <td>WOP</td>\n",
       "      <td>J. Dash feat. Flo Rida</td>\n",
       "      <td>[J. Dash, Flo Rida]</td>\n",
       "      <td>2</td>\n",
       "      <td>{'tracks': {'href': 'https://api.spotify.com/v...</td>\n",
       "      <td>not-found</td>\n",
       "      <td>not-found</td>\n",
       "      <td>not-found</td>\n",
       "      <td>not-found</td>\n",
       "      <td>not-found</td>\n",
       "    </tr>\n",
       "  </tbody>\n",
       "</table>\n",
       "</div>"
      ],
      "text/plain": [
       "                           song                 artists          artists_list  \\\n",
       "11                How About Now           Bryson Tiller       [Bryson Tiller]   \n",
       "36  Shibuya — Chanel Funk Remix   Frank Ocean and L.Dre  [Frank Ocean, L.Dre]   \n",
       "39                          WOP  J. Dash feat. Flo Rida   [J. Dash, Flo Rida]   \n",
       "\n",
       "    number_artists                                     spotify_search  \\\n",
       "11               1  {'tracks': {'href': 'https://api.spotify.com/v...   \n",
       "36               2  {'tracks': {'href': 'https://api.spotify.com/v...   \n",
       "39               2  {'tracks': {'href': 'https://api.spotify.com/v...   \n",
       "\n",
       "        sp_id sp_duration_ms sp_popularity sp_release_date sp_explicit  \n",
       "11  not-found      not-found     not-found       not-found   not-found  \n",
       "36  not-found      not-found     not-found       not-found   not-found  \n",
       "39  not-found      not-found     not-found       not-found   not-found  "
      ]
     },
     "execution_count": 111,
     "metadata": {},
     "output_type": "execute_result"
    }
   ],
   "source": [
    "# Check if songs were not found in Spotify\n",
    "df_sp[df_sp.sp_id == 'not-found']"
   ]
  },
  {
   "cell_type": "markdown",
   "metadata": {},
   "source": [
    "3 songs were not found in Spotify. There were checked manually using the Spotify Desktop. The first two do not exist there. Finally, the third song exists, but the version with the featured artist in the dataframe does not exist there."
   ]
  },
  {
   "cell_type": "markdown",
   "metadata": {},
   "source": [
    "### Find the audio features for each song"
   ]
  },
  {
   "cell_type": "code",
   "execution_count": 112,
   "metadata": {
    "ExecuteTime": {
     "end_time": "2020-09-16T23:16:44.374905Z",
     "start_time": "2020-09-16T23:16:31.241085Z"
    }
   },
   "outputs": [
    {
     "data": {
      "application/vnd.jupyter.widget-view+json": {
       "model_id": "ce295a5beaf7471cabc5f58f4dfa04c0",
       "version_major": 2,
       "version_minor": 0
      },
      "text/plain": [
       "HBox(children=(FloatProgress(value=0.0, max=69.0), HTML(value='')))"
      ]
     },
     "metadata": {},
     "output_type": "display_data"
    },
    {
     "name": "stdout",
     "output_type": "stream",
     "text": [
      "\n"
     ]
    }
   ],
   "source": [
    "# Search in the API wrapper\n",
    "spotify_audio_features = [sp.audio_features(track_id)  if track_id != 'not-found'else 'not-found' \n",
    "                          for track_id in tqdm(df_sp.sp_id)]"
   ]
  },
  {
   "cell_type": "code",
   "execution_count": 113,
   "metadata": {
    "ExecuteTime": {
     "end_time": "2020-09-16T23:16:44.386876Z",
     "start_time": "2020-09-16T23:16:44.380846Z"
    }
   },
   "outputs": [
    {
     "data": {
      "text/plain": [
       "69"
      ]
     },
     "execution_count": 113,
     "metadata": {},
     "output_type": "execute_result"
    }
   ],
   "source": [
    "# Check if there are 69 items in this list\n",
    "len(spotify_audio_features)"
   ]
  },
  {
   "cell_type": "code",
   "execution_count": 114,
   "metadata": {
    "ExecuteTime": {
     "end_time": "2020-09-16T23:16:44.404773Z",
     "start_time": "2020-09-16T23:16:44.388816Z"
    }
   },
   "outputs": [],
   "source": [
    "# Function to add new information in a copy of the dataframe\n",
    "def get_spotify_audio_features(df, audio_features: list):\n",
    "    \n",
    "    '''\n",
    "    Adds new information from a list to a copy of the dataframe\n",
    "    \n",
    "    Args:\n",
    "    -----\n",
    "        df (Pandas DataFrame): a dataframe containing the songs and their artists\n",
    "    \n",
    "    Returns:\n",
    "    --------\n",
    "        df_copy (Pandas DataFrame): a copy of the dataframe with some new information appended\n",
    "    '''\n",
    "    \n",
    "    # Create auxiliary empty lists (final lists)\n",
    "    list_danceability = []\n",
    "    list_energy = []\n",
    "    list_key = []\n",
    "    list_loudness = []\n",
    "    list_mode = []\n",
    "    list_speechiness = []\n",
    "    list_acousticness = []\n",
    "    list_instrumentalness = []\n",
    "    list_liveness = []\n",
    "    list_valence = []\n",
    "    list_tempo = []\n",
    "    list_time_signature = []\n",
    "    lists_features = [list_danceability, list_energy, list_key, list_loudness, list_mode, list_speechiness, \n",
    "                      list_acousticness, list_instrumentalness, list_liveness, list_valence, list_tempo,\n",
    "                      list_time_signature]\n",
    "    \n",
    "    # Check for each row of the dataframe\n",
    "    for index in df.index:\n",
    "        \n",
    "        # Get the track's Spotify id\n",
    "        track_id = df.iloc[index, 5]\n",
    "        \n",
    "        # If the track was not found in the Spotify library, a 'not-found' string is added to the final lists\n",
    "        if track_id == 'not-found':\n",
    "            \n",
    "            for lst in lists_features:\n",
    "                lst.append('not-found')\n",
    "    \n",
    "        # If the track was found in the Spotify library\n",
    "        else:\n",
    "            \n",
    "            # Add the information to the final lists\n",
    "            list_danceability.append(audio_features[index][0]['danceability'])\n",
    "            list_energy.append(audio_features[index][0]['energy'])\n",
    "            list_key.append(audio_features[index][0]['key'])\n",
    "            list_loudness.append(audio_features[index][0]['loudness'])\n",
    "            list_mode.append(audio_features[index][0]['mode'])\n",
    "            list_speechiness.append(audio_features[index][0]['speechiness'])\n",
    "            list_acousticness.append(audio_features[index][0]['acousticness'])\n",
    "            list_instrumentalness.append(audio_features[index][0]['instrumentalness'])\n",
    "            list_liveness.append(audio_features[index][0]['liveness'])\n",
    "            list_valence.append(audio_features[index][0]['valence'])\n",
    "            list_tempo.append(audio_features[index][0]['tempo'])\n",
    "            list_time_signature.append(audio_features[index][0]['time_signature'])\n",
    "     \n",
    "     # Make a copy of the dataframe\n",
    "    df_copy = df.copy()\n",
    "    \n",
    "    # Add columns with the desired information\n",
    "    # Not an inplace process\n",
    "    df_copy['sp_danceability'] = list_danceability\n",
    "    df_copy['sp_energy'] = list_energy\n",
    "    df_copy['sp_key'] = list_key\n",
    "    df_copy['sp_loudness'] = list_loudness\n",
    "    df_copy['sp_mode'] = list_mode\n",
    "    df_copy['sp_speechiness'] = list_speechiness\n",
    "    df_copy['sp_acousticness'] = list_acousticness\n",
    "    df_copy['sp_instrumentalness'] = list_instrumentalness\n",
    "    df_copy['sp_liveness'] = list_liveness\n",
    "    df_copy['sp_valence'] = list_valence\n",
    "    df_copy['sp_tempo'] = list_tempo\n",
    "    df_copy['sp_time_signature'] = list_time_signature\n",
    "    \n",
    "    return df_copy"
   ]
  },
  {
   "cell_type": "code",
   "execution_count": 115,
   "metadata": {
    "ExecuteTime": {
     "end_time": "2020-09-16T23:16:44.453642Z",
     "start_time": "2020-09-16T23:16:44.405770Z"
    }
   },
   "outputs": [
    {
     "data": {
      "text/html": [
       "<div>\n",
       "<style scoped>\n",
       "    .dataframe tbody tr th:only-of-type {\n",
       "        vertical-align: middle;\n",
       "    }\n",
       "\n",
       "    .dataframe tbody tr th {\n",
       "        vertical-align: top;\n",
       "    }\n",
       "\n",
       "    .dataframe thead th {\n",
       "        text-align: right;\n",
       "    }\n",
       "</style>\n",
       "<table border=\"1\" class=\"dataframe\">\n",
       "  <thead>\n",
       "    <tr style=\"text-align: right;\">\n",
       "      <th></th>\n",
       "      <th>song</th>\n",
       "      <th>artists</th>\n",
       "      <th>artists_list</th>\n",
       "      <th>number_artists</th>\n",
       "      <th>spotify_search</th>\n",
       "      <th>sp_id</th>\n",
       "      <th>sp_duration_ms</th>\n",
       "      <th>sp_popularity</th>\n",
       "      <th>sp_release_date</th>\n",
       "      <th>sp_explicit</th>\n",
       "      <th>...</th>\n",
       "      <th>sp_key</th>\n",
       "      <th>sp_loudness</th>\n",
       "      <th>sp_mode</th>\n",
       "      <th>sp_speechiness</th>\n",
       "      <th>sp_acousticness</th>\n",
       "      <th>sp_instrumentalness</th>\n",
       "      <th>sp_liveness</th>\n",
       "      <th>sp_valence</th>\n",
       "      <th>sp_tempo</th>\n",
       "      <th>sp_time_signature</th>\n",
       "    </tr>\n",
       "  </thead>\n",
       "  <tbody>\n",
       "    <tr>\n",
       "      <th>0</th>\n",
       "      <td>Roxanne</td>\n",
       "      <td>Arizona Zervas</td>\n",
       "      <td>[Arizona Zervas]</td>\n",
       "      <td>1</td>\n",
       "      <td>{'tracks': {'href': 'https://api.spotify.com/v...</td>\n",
       "      <td>696DnlkuDOXcMAnKlTgXXK</td>\n",
       "      <td>163636</td>\n",
       "      <td>88</td>\n",
       "      <td>2019-10-10</td>\n",
       "      <td>True</td>\n",
       "      <td>...</td>\n",
       "      <td>6</td>\n",
       "      <td>-5.616</td>\n",
       "      <td>0</td>\n",
       "      <td>0.148</td>\n",
       "      <td>0.0522</td>\n",
       "      <td>0</td>\n",
       "      <td>0.46</td>\n",
       "      <td>0.457</td>\n",
       "      <td>116.735</td>\n",
       "      <td>5</td>\n",
       "    </tr>\n",
       "    <tr>\n",
       "      <th>1</th>\n",
       "      <td>Say So</td>\n",
       "      <td>Doja Cat</td>\n",
       "      <td>[Doja Cat]</td>\n",
       "      <td>1</td>\n",
       "      <td>{'tracks': {'href': 'https://api.spotify.com/v...</td>\n",
       "      <td>3Dv1eDb0MEgF93GpLXlucZ</td>\n",
       "      <td>237893</td>\n",
       "      <td>89</td>\n",
       "      <td>2019-11-07</td>\n",
       "      <td>True</td>\n",
       "      <td>...</td>\n",
       "      <td>11</td>\n",
       "      <td>-4.577</td>\n",
       "      <td>0</td>\n",
       "      <td>0.158</td>\n",
       "      <td>0.256</td>\n",
       "      <td>3.57e-06</td>\n",
       "      <td>0.0904</td>\n",
       "      <td>0.786</td>\n",
       "      <td>110.962</td>\n",
       "      <td>4</td>\n",
       "    </tr>\n",
       "    <tr>\n",
       "      <th>2</th>\n",
       "      <td>My Oh My</td>\n",
       "      <td>Camila Cabello feat. DaBaby</td>\n",
       "      <td>[Camila Cabello, DaBaby]</td>\n",
       "      <td>2</td>\n",
       "      <td>{'tracks': {'href': 'https://api.spotify.com/v...</td>\n",
       "      <td>3yOlyBJuViE2YSGn3nVE1K</td>\n",
       "      <td>170746</td>\n",
       "      <td>82</td>\n",
       "      <td>2019-12-06</td>\n",
       "      <td>False</td>\n",
       "      <td>...</td>\n",
       "      <td>8</td>\n",
       "      <td>-6.024</td>\n",
       "      <td>1</td>\n",
       "      <td>0.0296</td>\n",
       "      <td>0.018</td>\n",
       "      <td>1.29e-05</td>\n",
       "      <td>0.0887</td>\n",
       "      <td>0.383</td>\n",
       "      <td>105.046</td>\n",
       "      <td>4</td>\n",
       "    </tr>\n",
       "    <tr>\n",
       "      <th>3</th>\n",
       "      <td>Moon</td>\n",
       "      <td>Kid Francescoli</td>\n",
       "      <td>[Kid Francescoli]</td>\n",
       "      <td>1</td>\n",
       "      <td>{'tracks': {'href': 'https://api.spotify.com/v...</td>\n",
       "      <td>24upABZ8A0sAepfu91sEYr</td>\n",
       "      <td>390638</td>\n",
       "      <td>70</td>\n",
       "      <td>2017-03-03</td>\n",
       "      <td>False</td>\n",
       "      <td>...</td>\n",
       "      <td>7</td>\n",
       "      <td>-10.002</td>\n",
       "      <td>1</td>\n",
       "      <td>0.0345</td>\n",
       "      <td>0.288</td>\n",
       "      <td>0.856</td>\n",
       "      <td>0.102</td>\n",
       "      <td>0.0584</td>\n",
       "      <td>117.986</td>\n",
       "      <td>4</td>\n",
       "    </tr>\n",
       "    <tr>\n",
       "      <th>4</th>\n",
       "      <td>Vibe</td>\n",
       "      <td>Cookiee Kawaii</td>\n",
       "      <td>[Cookiee Kawaii]</td>\n",
       "      <td>1</td>\n",
       "      <td>{'tracks': {'href': 'https://api.spotify.com/v...</td>\n",
       "      <td>4gOgQTv9RYYFZ1uQNnlk3q</td>\n",
       "      <td>83940</td>\n",
       "      <td>72</td>\n",
       "      <td>2019-03-29</td>\n",
       "      <td>True</td>\n",
       "      <td>...</td>\n",
       "      <td>10</td>\n",
       "      <td>-8.719</td>\n",
       "      <td>1</td>\n",
       "      <td>0.344</td>\n",
       "      <td>0.0635</td>\n",
       "      <td>0.00932</td>\n",
       "      <td>0.118</td>\n",
       "      <td>0.175</td>\n",
       "      <td>159.947</td>\n",
       "      <td>4</td>\n",
       "    </tr>\n",
       "  </tbody>\n",
       "</table>\n",
       "<p>5 rows × 22 columns</p>\n",
       "</div>"
      ],
      "text/plain": [
       "       song                      artists              artists_list  \\\n",
       "0   Roxanne               Arizona Zervas          [Arizona Zervas]   \n",
       "1    Say So                     Doja Cat                [Doja Cat]   \n",
       "2  My Oh My  Camila Cabello feat. DaBaby  [Camila Cabello, DaBaby]   \n",
       "3      Moon              Kid Francescoli         [Kid Francescoli]   \n",
       "4      Vibe               Cookiee Kawaii          [Cookiee Kawaii]   \n",
       "\n",
       "   number_artists                                     spotify_search  \\\n",
       "0               1  {'tracks': {'href': 'https://api.spotify.com/v...   \n",
       "1               1  {'tracks': {'href': 'https://api.spotify.com/v...   \n",
       "2               2  {'tracks': {'href': 'https://api.spotify.com/v...   \n",
       "3               1  {'tracks': {'href': 'https://api.spotify.com/v...   \n",
       "4               1  {'tracks': {'href': 'https://api.spotify.com/v...   \n",
       "\n",
       "                    sp_id sp_duration_ms sp_popularity sp_release_date  \\\n",
       "0  696DnlkuDOXcMAnKlTgXXK         163636            88      2019-10-10   \n",
       "1  3Dv1eDb0MEgF93GpLXlucZ         237893            89      2019-11-07   \n",
       "2  3yOlyBJuViE2YSGn3nVE1K         170746            82      2019-12-06   \n",
       "3  24upABZ8A0sAepfu91sEYr         390638            70      2017-03-03   \n",
       "4  4gOgQTv9RYYFZ1uQNnlk3q          83940            72      2019-03-29   \n",
       "\n",
       "  sp_explicit  ... sp_key sp_loudness sp_mode sp_speechiness sp_acousticness  \\\n",
       "0        True  ...      6      -5.616       0          0.148          0.0522   \n",
       "1        True  ...     11      -4.577       0          0.158           0.256   \n",
       "2       False  ...      8      -6.024       1         0.0296           0.018   \n",
       "3       False  ...      7     -10.002       1         0.0345           0.288   \n",
       "4        True  ...     10      -8.719       1          0.344          0.0635   \n",
       "\n",
       "  sp_instrumentalness sp_liveness sp_valence sp_tempo sp_time_signature  \n",
       "0                   0        0.46      0.457  116.735                 5  \n",
       "1            3.57e-06      0.0904      0.786  110.962                 4  \n",
       "2            1.29e-05      0.0887      0.383  105.046                 4  \n",
       "3               0.856       0.102     0.0584  117.986                 4  \n",
       "4             0.00932       0.118      0.175  159.947                 4  \n",
       "\n",
       "[5 rows x 22 columns]"
      ]
     },
     "execution_count": 115,
     "metadata": {},
     "output_type": "execute_result"
    }
   ],
   "source": [
    "# Add new information to the dataframe\n",
    "df_sp = get_spotify_audio_features(df_sp, spotify_audio_features)\n",
    "\n",
    "# Check result\n",
    "df_sp.head()"
   ]
  },
  {
   "cell_type": "markdown",
   "metadata": {},
   "source": [
    "### Final Dataframe"
   ]
  },
  {
   "cell_type": "code",
   "execution_count": 116,
   "metadata": {
    "ExecuteTime": {
     "end_time": "2020-09-16T23:16:44.525450Z",
     "start_time": "2020-09-16T23:16:44.454639Z"
    }
   },
   "outputs": [
    {
     "data": {
      "text/html": [
       "<div>\n",
       "<style scoped>\n",
       "    .dataframe tbody tr th:only-of-type {\n",
       "        vertical-align: middle;\n",
       "    }\n",
       "\n",
       "    .dataframe tbody tr th {\n",
       "        vertical-align: top;\n",
       "    }\n",
       "\n",
       "    .dataframe thead th {\n",
       "        text-align: right;\n",
       "    }\n",
       "</style>\n",
       "<table border=\"1\" class=\"dataframe\">\n",
       "  <thead>\n",
       "    <tr style=\"text-align: right;\">\n",
       "      <th></th>\n",
       "      <th>song</th>\n",
       "      <th>artists</th>\n",
       "      <th>artists_list</th>\n",
       "      <th>number_artists</th>\n",
       "      <th>spotify_search</th>\n",
       "      <th>sp_id</th>\n",
       "      <th>sp_duration_ms</th>\n",
       "      <th>sp_popularity</th>\n",
       "      <th>sp_release_date</th>\n",
       "      <th>sp_explicit</th>\n",
       "      <th>...</th>\n",
       "      <th>sp_key</th>\n",
       "      <th>sp_loudness</th>\n",
       "      <th>sp_mode</th>\n",
       "      <th>sp_speechiness</th>\n",
       "      <th>sp_acousticness</th>\n",
       "      <th>sp_instrumentalness</th>\n",
       "      <th>sp_liveness</th>\n",
       "      <th>sp_valence</th>\n",
       "      <th>sp_tempo</th>\n",
       "      <th>sp_time_signature</th>\n",
       "    </tr>\n",
       "  </thead>\n",
       "  <tbody>\n",
       "    <tr>\n",
       "      <th>0</th>\n",
       "      <td>Roxanne</td>\n",
       "      <td>Arizona Zervas</td>\n",
       "      <td>[Arizona Zervas]</td>\n",
       "      <td>1</td>\n",
       "      <td>{'tracks': {'href': 'https://api.spotify.com/v...</td>\n",
       "      <td>696DnlkuDOXcMAnKlTgXXK</td>\n",
       "      <td>163636</td>\n",
       "      <td>88</td>\n",
       "      <td>2019-10-10</td>\n",
       "      <td>True</td>\n",
       "      <td>...</td>\n",
       "      <td>6</td>\n",
       "      <td>-5.616</td>\n",
       "      <td>0</td>\n",
       "      <td>0.148</td>\n",
       "      <td>0.0522</td>\n",
       "      <td>0</td>\n",
       "      <td>0.46</td>\n",
       "      <td>0.457</td>\n",
       "      <td>116.735</td>\n",
       "      <td>5</td>\n",
       "    </tr>\n",
       "    <tr>\n",
       "      <th>1</th>\n",
       "      <td>Say So</td>\n",
       "      <td>Doja Cat</td>\n",
       "      <td>[Doja Cat]</td>\n",
       "      <td>1</td>\n",
       "      <td>{'tracks': {'href': 'https://api.spotify.com/v...</td>\n",
       "      <td>3Dv1eDb0MEgF93GpLXlucZ</td>\n",
       "      <td>237893</td>\n",
       "      <td>89</td>\n",
       "      <td>2019-11-07</td>\n",
       "      <td>True</td>\n",
       "      <td>...</td>\n",
       "      <td>11</td>\n",
       "      <td>-4.577</td>\n",
       "      <td>0</td>\n",
       "      <td>0.158</td>\n",
       "      <td>0.256</td>\n",
       "      <td>3.57e-06</td>\n",
       "      <td>0.0904</td>\n",
       "      <td>0.786</td>\n",
       "      <td>110.962</td>\n",
       "      <td>4</td>\n",
       "    </tr>\n",
       "    <tr>\n",
       "      <th>2</th>\n",
       "      <td>My Oh My</td>\n",
       "      <td>Camila Cabello feat. DaBaby</td>\n",
       "      <td>[Camila Cabello, DaBaby]</td>\n",
       "      <td>2</td>\n",
       "      <td>{'tracks': {'href': 'https://api.spotify.com/v...</td>\n",
       "      <td>3yOlyBJuViE2YSGn3nVE1K</td>\n",
       "      <td>170746</td>\n",
       "      <td>82</td>\n",
       "      <td>2019-12-06</td>\n",
       "      <td>False</td>\n",
       "      <td>...</td>\n",
       "      <td>8</td>\n",
       "      <td>-6.024</td>\n",
       "      <td>1</td>\n",
       "      <td>0.0296</td>\n",
       "      <td>0.018</td>\n",
       "      <td>1.29e-05</td>\n",
       "      <td>0.0887</td>\n",
       "      <td>0.383</td>\n",
       "      <td>105.046</td>\n",
       "      <td>4</td>\n",
       "    </tr>\n",
       "    <tr>\n",
       "      <th>3</th>\n",
       "      <td>Moon</td>\n",
       "      <td>Kid Francescoli</td>\n",
       "      <td>[Kid Francescoli]</td>\n",
       "      <td>1</td>\n",
       "      <td>{'tracks': {'href': 'https://api.spotify.com/v...</td>\n",
       "      <td>24upABZ8A0sAepfu91sEYr</td>\n",
       "      <td>390638</td>\n",
       "      <td>70</td>\n",
       "      <td>2017-03-03</td>\n",
       "      <td>False</td>\n",
       "      <td>...</td>\n",
       "      <td>7</td>\n",
       "      <td>-10.002</td>\n",
       "      <td>1</td>\n",
       "      <td>0.0345</td>\n",
       "      <td>0.288</td>\n",
       "      <td>0.856</td>\n",
       "      <td>0.102</td>\n",
       "      <td>0.0584</td>\n",
       "      <td>117.986</td>\n",
       "      <td>4</td>\n",
       "    </tr>\n",
       "    <tr>\n",
       "      <th>4</th>\n",
       "      <td>Vibe</td>\n",
       "      <td>Cookiee Kawaii</td>\n",
       "      <td>[Cookiee Kawaii]</td>\n",
       "      <td>1</td>\n",
       "      <td>{'tracks': {'href': 'https://api.spotify.com/v...</td>\n",
       "      <td>4gOgQTv9RYYFZ1uQNnlk3q</td>\n",
       "      <td>83940</td>\n",
       "      <td>72</td>\n",
       "      <td>2019-03-29</td>\n",
       "      <td>True</td>\n",
       "      <td>...</td>\n",
       "      <td>10</td>\n",
       "      <td>-8.719</td>\n",
       "      <td>1</td>\n",
       "      <td>0.344</td>\n",
       "      <td>0.0635</td>\n",
       "      <td>0.00932</td>\n",
       "      <td>0.118</td>\n",
       "      <td>0.175</td>\n",
       "      <td>159.947</td>\n",
       "      <td>4</td>\n",
       "    </tr>\n",
       "    <tr>\n",
       "      <th>...</th>\n",
       "      <td>...</td>\n",
       "      <td>...</td>\n",
       "      <td>...</td>\n",
       "      <td>...</td>\n",
       "      <td>...</td>\n",
       "      <td>...</td>\n",
       "      <td>...</td>\n",
       "      <td>...</td>\n",
       "      <td>...</td>\n",
       "      <td>...</td>\n",
       "      <td>...</td>\n",
       "      <td>...</td>\n",
       "      <td>...</td>\n",
       "      <td>...</td>\n",
       "      <td>...</td>\n",
       "      <td>...</td>\n",
       "      <td>...</td>\n",
       "      <td>...</td>\n",
       "      <td>...</td>\n",
       "      <td>...</td>\n",
       "      <td>...</td>\n",
       "    </tr>\n",
       "    <tr>\n",
       "      <th>64</th>\n",
       "      <td>What the Hell</td>\n",
       "      <td>Avril Lavigne</td>\n",
       "      <td>[Avril Lavigne]</td>\n",
       "      <td>1</td>\n",
       "      <td>{'tracks': {'href': 'https://api.spotify.com/v...</td>\n",
       "      <td>2z4U9d5OAA4YLNXoCgioxo</td>\n",
       "      <td>220706</td>\n",
       "      <td>74</td>\n",
       "      <td>2011-03-08</td>\n",
       "      <td>False</td>\n",
       "      <td>...</td>\n",
       "      <td>6</td>\n",
       "      <td>-3.689</td>\n",
       "      <td>0</td>\n",
       "      <td>0.0548</td>\n",
       "      <td>0.00472</td>\n",
       "      <td>0.0127</td>\n",
       "      <td>0.14</td>\n",
       "      <td>0.877</td>\n",
       "      <td>149.976</td>\n",
       "      <td>4</td>\n",
       "    </tr>\n",
       "    <tr>\n",
       "      <th>65</th>\n",
       "      <td>Towards the Sun</td>\n",
       "      <td>Rihanna</td>\n",
       "      <td>[Rihanna]</td>\n",
       "      <td>1</td>\n",
       "      <td>{'tracks': {'href': 'https://api.spotify.com/v...</td>\n",
       "      <td>1UuZhGTon3gzXQAJzNa2A4</td>\n",
       "      <td>273293</td>\n",
       "      <td>55</td>\n",
       "      <td>2015-03-23</td>\n",
       "      <td>False</td>\n",
       "      <td>...</td>\n",
       "      <td>4</td>\n",
       "      <td>-6.207</td>\n",
       "      <td>0</td>\n",
       "      <td>0.0392</td>\n",
       "      <td>0.0531</td>\n",
       "      <td>0</td>\n",
       "      <td>0.152</td>\n",
       "      <td>0.263</td>\n",
       "      <td>170.18</td>\n",
       "      <td>4</td>\n",
       "    </tr>\n",
       "    <tr>\n",
       "      <th>66</th>\n",
       "      <td>I Think I'm OKAY</td>\n",
       "      <td>Machine Gun Kelly, YUNGBLUD, and Travis Barker</td>\n",
       "      <td>[Machine Gun Kelly, YUNGBLUD, Travis Barker]</td>\n",
       "      <td>3</td>\n",
       "      <td>{'tracks': {'href': 'https://api.spotify.com/v...</td>\n",
       "      <td>2gTdDMpNxIRFSiu7HutMCg</td>\n",
       "      <td>169397</td>\n",
       "      <td>81</td>\n",
       "      <td>2019-07-05</td>\n",
       "      <td>True</td>\n",
       "      <td>...</td>\n",
       "      <td>7</td>\n",
       "      <td>-4.718</td>\n",
       "      <td>1</td>\n",
       "      <td>0.0379</td>\n",
       "      <td>0.0257</td>\n",
       "      <td>0</td>\n",
       "      <td>0.313</td>\n",
       "      <td>0.277</td>\n",
       "      <td>119.921</td>\n",
       "      <td>4</td>\n",
       "    </tr>\n",
       "    <tr>\n",
       "      <th>67</th>\n",
       "      <td>Myself</td>\n",
       "      <td>Bazzi</td>\n",
       "      <td>[Bazzi]</td>\n",
       "      <td>1</td>\n",
       "      <td>{'tracks': {'href': 'https://api.spotify.com/v...</td>\n",
       "      <td>5YLHLxoZsodDWjqSgjhBf3</td>\n",
       "      <td>167552</td>\n",
       "      <td>76</td>\n",
       "      <td>2018-04-12</td>\n",
       "      <td>False</td>\n",
       "      <td>...</td>\n",
       "      <td>9</td>\n",
       "      <td>-5.513</td>\n",
       "      <td>0</td>\n",
       "      <td>0.072</td>\n",
       "      <td>0.465</td>\n",
       "      <td>1.12e-06</td>\n",
       "      <td>0.0338</td>\n",
       "      <td>0.902</td>\n",
       "      <td>195.918</td>\n",
       "      <td>4</td>\n",
       "    </tr>\n",
       "    <tr>\n",
       "      <th>68</th>\n",
       "      <td>Stronger</td>\n",
       "      <td>Kanye West</td>\n",
       "      <td>[Kanye West]</td>\n",
       "      <td>1</td>\n",
       "      <td>{'tracks': {'href': 'https://api.spotify.com/v...</td>\n",
       "      <td>4fzsfWzRhPawzqhX8Qt9F3</td>\n",
       "      <td>311866</td>\n",
       "      <td>80</td>\n",
       "      <td>2007-09-11</td>\n",
       "      <td>True</td>\n",
       "      <td>...</td>\n",
       "      <td>10</td>\n",
       "      <td>-7.858</td>\n",
       "      <td>0</td>\n",
       "      <td>0.153</td>\n",
       "      <td>0.00564</td>\n",
       "      <td>0</td>\n",
       "      <td>0.408</td>\n",
       "      <td>0.49</td>\n",
       "      <td>103.992</td>\n",
       "      <td>4</td>\n",
       "    </tr>\n",
       "  </tbody>\n",
       "</table>\n",
       "<p>66 rows × 22 columns</p>\n",
       "</div>"
      ],
      "text/plain": [
       "                song                                         artists  \\\n",
       "0            Roxanne                                  Arizona Zervas   \n",
       "1             Say So                                        Doja Cat   \n",
       "2           My Oh My                     Camila Cabello feat. DaBaby   \n",
       "3               Moon                                 Kid Francescoli   \n",
       "4               Vibe                                  Cookiee Kawaii   \n",
       "..               ...                                             ...   \n",
       "64     What the Hell                                   Avril Lavigne   \n",
       "65   Towards the Sun                                         Rihanna   \n",
       "66  I Think I'm OKAY  Machine Gun Kelly, YUNGBLUD, and Travis Barker   \n",
       "67            Myself                                           Bazzi   \n",
       "68          Stronger                                      Kanye West   \n",
       "\n",
       "                                    artists_list  number_artists  \\\n",
       "0                               [Arizona Zervas]               1   \n",
       "1                                     [Doja Cat]               1   \n",
       "2                       [Camila Cabello, DaBaby]               2   \n",
       "3                              [Kid Francescoli]               1   \n",
       "4                               [Cookiee Kawaii]               1   \n",
       "..                                           ...             ...   \n",
       "64                               [Avril Lavigne]               1   \n",
       "65                                     [Rihanna]               1   \n",
       "66  [Machine Gun Kelly, YUNGBLUD, Travis Barker]               3   \n",
       "67                                       [Bazzi]               1   \n",
       "68                                  [Kanye West]               1   \n",
       "\n",
       "                                       spotify_search                   sp_id  \\\n",
       "0   {'tracks': {'href': 'https://api.spotify.com/v...  696DnlkuDOXcMAnKlTgXXK   \n",
       "1   {'tracks': {'href': 'https://api.spotify.com/v...  3Dv1eDb0MEgF93GpLXlucZ   \n",
       "2   {'tracks': {'href': 'https://api.spotify.com/v...  3yOlyBJuViE2YSGn3nVE1K   \n",
       "3   {'tracks': {'href': 'https://api.spotify.com/v...  24upABZ8A0sAepfu91sEYr   \n",
       "4   {'tracks': {'href': 'https://api.spotify.com/v...  4gOgQTv9RYYFZ1uQNnlk3q   \n",
       "..                                                ...                     ...   \n",
       "64  {'tracks': {'href': 'https://api.spotify.com/v...  2z4U9d5OAA4YLNXoCgioxo   \n",
       "65  {'tracks': {'href': 'https://api.spotify.com/v...  1UuZhGTon3gzXQAJzNa2A4   \n",
       "66  {'tracks': {'href': 'https://api.spotify.com/v...  2gTdDMpNxIRFSiu7HutMCg   \n",
       "67  {'tracks': {'href': 'https://api.spotify.com/v...  5YLHLxoZsodDWjqSgjhBf3   \n",
       "68  {'tracks': {'href': 'https://api.spotify.com/v...  4fzsfWzRhPawzqhX8Qt9F3   \n",
       "\n",
       "   sp_duration_ms sp_popularity sp_release_date sp_explicit  ... sp_key  \\\n",
       "0          163636            88      2019-10-10        True  ...      6   \n",
       "1          237893            89      2019-11-07        True  ...     11   \n",
       "2          170746            82      2019-12-06       False  ...      8   \n",
       "3          390638            70      2017-03-03       False  ...      7   \n",
       "4           83940            72      2019-03-29        True  ...     10   \n",
       "..            ...           ...             ...         ...  ...    ...   \n",
       "64         220706            74      2011-03-08       False  ...      6   \n",
       "65         273293            55      2015-03-23       False  ...      4   \n",
       "66         169397            81      2019-07-05        True  ...      7   \n",
       "67         167552            76      2018-04-12       False  ...      9   \n",
       "68         311866            80      2007-09-11        True  ...     10   \n",
       "\n",
       "   sp_loudness sp_mode sp_speechiness sp_acousticness sp_instrumentalness  \\\n",
       "0       -5.616       0          0.148          0.0522                   0   \n",
       "1       -4.577       0          0.158           0.256            3.57e-06   \n",
       "2       -6.024       1         0.0296           0.018            1.29e-05   \n",
       "3      -10.002       1         0.0345           0.288               0.856   \n",
       "4       -8.719       1          0.344          0.0635             0.00932   \n",
       "..         ...     ...            ...             ...                 ...   \n",
       "64      -3.689       0         0.0548         0.00472              0.0127   \n",
       "65      -6.207       0         0.0392          0.0531                   0   \n",
       "66      -4.718       1         0.0379          0.0257                   0   \n",
       "67      -5.513       0          0.072           0.465            1.12e-06   \n",
       "68      -7.858       0          0.153         0.00564                   0   \n",
       "\n",
       "   sp_liveness sp_valence sp_tempo sp_time_signature  \n",
       "0         0.46      0.457  116.735                 5  \n",
       "1       0.0904      0.786  110.962                 4  \n",
       "2       0.0887      0.383  105.046                 4  \n",
       "3        0.102     0.0584  117.986                 4  \n",
       "4        0.118      0.175  159.947                 4  \n",
       "..         ...        ...      ...               ...  \n",
       "64        0.14      0.877  149.976                 4  \n",
       "65       0.152      0.263   170.18                 4  \n",
       "66       0.313      0.277  119.921                 4  \n",
       "67      0.0338      0.902  195.918                 4  \n",
       "68       0.408       0.49  103.992                 4  \n",
       "\n",
       "[66 rows x 22 columns]"
      ]
     },
     "execution_count": 116,
     "metadata": {},
     "output_type": "execute_result"
    }
   ],
   "source": [
    "df_tracks_sp = df_sp[~(df_sp.sp_id == 'not-found')]\n",
    "\n",
    "# Check the result\n",
    "df_tracks_sp"
   ]
  },
  {
   "cell_type": "code",
   "execution_count": 117,
   "metadata": {
    "ExecuteTime": {
     "end_time": "2020-09-16T23:16:44.533429Z",
     "start_time": "2020-09-16T23:16:44.526447Z"
    }
   },
   "outputs": [
    {
     "name": "stdout",
     "output_type": "stream",
     "text": [
      "<class 'pandas.core.frame.DataFrame'>\n",
      "Int64Index: 66 entries, 0 to 68\n",
      "Data columns (total 22 columns):\n",
      " #   Column               Non-Null Count  Dtype \n",
      "---  ------               --------------  ----- \n",
      " 0   song                 66 non-null     object\n",
      " 1   artists              66 non-null     object\n",
      " 2   artists_list         66 non-null     object\n",
      " 3   number_artists       66 non-null     int64 \n",
      " 4   spotify_search       66 non-null     object\n",
      " 5   sp_id                66 non-null     object\n",
      " 6   sp_duration_ms       66 non-null     object\n",
      " 7   sp_popularity        66 non-null     object\n",
      " 8   sp_release_date      66 non-null     object\n",
      " 9   sp_explicit          66 non-null     object\n",
      " 10  sp_danceability      66 non-null     object\n",
      " 11  sp_energy            66 non-null     object\n",
      " 12  sp_key               66 non-null     object\n",
      " 13  sp_loudness          66 non-null     object\n",
      " 14  sp_mode              66 non-null     object\n",
      " 15  sp_speechiness       66 non-null     object\n",
      " 16  sp_acousticness      66 non-null     object\n",
      " 17  sp_instrumentalness  66 non-null     object\n",
      " 18  sp_liveness          66 non-null     object\n",
      " 19  sp_valence           66 non-null     object\n",
      " 20  sp_tempo             66 non-null     object\n",
      " 21  sp_time_signature    66 non-null     object\n",
      "dtypes: int64(1), object(21)\n",
      "memory usage: 11.9+ KB\n"
     ]
    }
   ],
   "source": [
    "# Dataframe metadata\n",
    "df_tracks_sp.info()"
   ]
  },
  {
   "cell_type": "markdown",
   "metadata": {},
   "source": [
    "## Artists"
   ]
  },
  {
   "cell_type": "markdown",
   "metadata": {},
   "source": [
    "### Get information about each artist"
   ]
  },
  {
   "cell_type": "code",
   "execution_count": 118,
   "metadata": {
    "ExecuteTime": {
     "end_time": "2020-09-16T23:16:44.543402Z",
     "start_time": "2020-09-16T23:16:44.534426Z"
    }
   },
   "outputs": [],
   "source": [
    "# Function to add new information in a copy of the dataframe\n",
    "def get_spotify_artists_id(df):\n",
    "    \n",
    "    '''\n",
    "    Creates a new dataframe about the artists.\n",
    "    \n",
    "    Args:\n",
    "    -----\n",
    "        df (Pandas DataFrame): a dataframe containing the songs and their artists\n",
    "    \n",
    "    Returns:\n",
    "    --------\n",
    "        df_artists_id (Pandas DataFrame): a new dataframe with the name and Spotify ID of the artists\n",
    "    '''\n",
    "    \n",
    "    # Create auxiliary empty dictionary\n",
    "    dict_artists_ids = {}\n",
    "      \n",
    "    # Check for each row of the dataframe\n",
    "    for index in df.index:\n",
    "                      \n",
    "        # Information necessary from the dataframe to use during the process\n",
    "        song_name = df.iloc[index, 0][:3].lower()\n",
    "        artists_list = [artist.lower() for artist in df.iloc[index, 2]]\n",
    "        total_artists = df.iloc[index, 3]\n",
    "        mask = df.iloc[index, 4]['tracks']['items']\n",
    "        added = 0\n",
    "        \n",
    "        # For each track it was listed 50 tracks related to the query \n",
    "        for idx, each_found in enumerate(mask):\n",
    "                \n",
    "            # Information necessary from the Spotify API to use during the process\n",
    "            track_name = mask[idx]['name'].lower()\n",
    "            n_artists = len(mask[idx]['artists'])\n",
    "            first_artist_name = mask[idx]['artists'][0]['name'].lower()\n",
    "            \n",
    "            # Check if the name of the song, the artists from both sources match and if an information about the\n",
    "            # song has been added to the final lists \n",
    "            if ((song_name in track_name) & (total_artists == n_artists) & \n",
    "                ((first_artist_name in artists_list) | (artists_list[0][:5] in first_artist_name)) & (added == 0)\n",
    "                & (df.iloc[index, 5] != 'not-found')):\n",
    "                \n",
    "                for artist in mask[idx]['artists']:\n",
    "                    artist_name = artist['name']\n",
    "                    artist_id = artist['id']\n",
    "                        \n",
    "                    # Add to dict\n",
    "                    dict_artists_ids[artist_name] = artist_id\n",
    "                    \n",
    "    # Create a Pandas DataFrame\n",
    "    \n",
    "    df_artists_id = pd.DataFrame(dict_artists_ids.items(), columns=['artist', 'sp_id'])\n",
    "                    \n",
    "    return df_artists_id"
   ]
  },
  {
   "cell_type": "code",
   "execution_count": 119,
   "metadata": {
    "ExecuteTime": {
     "end_time": "2020-09-16T23:16:44.645690Z",
     "start_time": "2020-09-16T23:16:44.544400Z"
    }
   },
   "outputs": [
    {
     "data": {
      "text/html": [
       "<div>\n",
       "<style scoped>\n",
       "    .dataframe tbody tr th:only-of-type {\n",
       "        vertical-align: middle;\n",
       "    }\n",
       "\n",
       "    .dataframe tbody tr th {\n",
       "        vertical-align: top;\n",
       "    }\n",
       "\n",
       "    .dataframe thead th {\n",
       "        text-align: right;\n",
       "    }\n",
       "</style>\n",
       "<table border=\"1\" class=\"dataframe\">\n",
       "  <thead>\n",
       "    <tr style=\"text-align: right;\">\n",
       "      <th></th>\n",
       "      <th>artist</th>\n",
       "      <th>sp_id</th>\n",
       "    </tr>\n",
       "  </thead>\n",
       "  <tbody>\n",
       "    <tr>\n",
       "      <th>0</th>\n",
       "      <td>Arizona Zervas</td>\n",
       "      <td>0vRvGUQVUjytro0xpb26bs</td>\n",
       "    </tr>\n",
       "    <tr>\n",
       "      <th>1</th>\n",
       "      <td>Doja Cat</td>\n",
       "      <td>5cj0lLjcoR7YOSnhnX0Po5</td>\n",
       "    </tr>\n",
       "    <tr>\n",
       "      <th>2</th>\n",
       "      <td>Camila Cabello</td>\n",
       "      <td>4nDoRrQiYLoBzwC5BhVJzF</td>\n",
       "    </tr>\n",
       "    <tr>\n",
       "      <th>3</th>\n",
       "      <td>DaBaby</td>\n",
       "      <td>4r63FhuTkUYltbVAg5TQnk</td>\n",
       "    </tr>\n",
       "    <tr>\n",
       "      <th>4</th>\n",
       "      <td>Kid Francescoli</td>\n",
       "      <td>2G7QgTep5IsJHGHm1hXygD</td>\n",
       "    </tr>\n",
       "    <tr>\n",
       "      <th>...</th>\n",
       "      <td>...</td>\n",
       "      <td>...</td>\n",
       "    </tr>\n",
       "    <tr>\n",
       "      <th>83</th>\n",
       "      <td>Machine Gun Kelly</td>\n",
       "      <td>6TIYQ3jFPwQSRmorSezPxX</td>\n",
       "    </tr>\n",
       "    <tr>\n",
       "      <th>84</th>\n",
       "      <td>YUNGBLUD</td>\n",
       "      <td>6Ad91Jof8Niiw0lGLLi3NW</td>\n",
       "    </tr>\n",
       "    <tr>\n",
       "      <th>85</th>\n",
       "      <td>Travis Barker</td>\n",
       "      <td>4exLIFE8sISLr28sqG1qNX</td>\n",
       "    </tr>\n",
       "    <tr>\n",
       "      <th>86</th>\n",
       "      <td>Bazzi</td>\n",
       "      <td>4GvEc3ANtPPjt1ZJllr5Zl</td>\n",
       "    </tr>\n",
       "    <tr>\n",
       "      <th>87</th>\n",
       "      <td>Kanye West</td>\n",
       "      <td>5K4W6rqBFWDnAN6FQUkS6x</td>\n",
       "    </tr>\n",
       "  </tbody>\n",
       "</table>\n",
       "<p>88 rows × 2 columns</p>\n",
       "</div>"
      ],
      "text/plain": [
       "               artist                   sp_id\n",
       "0      Arizona Zervas  0vRvGUQVUjytro0xpb26bs\n",
       "1            Doja Cat  5cj0lLjcoR7YOSnhnX0Po5\n",
       "2      Camila Cabello  4nDoRrQiYLoBzwC5BhVJzF\n",
       "3              DaBaby  4r63FhuTkUYltbVAg5TQnk\n",
       "4     Kid Francescoli  2G7QgTep5IsJHGHm1hXygD\n",
       "..                ...                     ...\n",
       "83  Machine Gun Kelly  6TIYQ3jFPwQSRmorSezPxX\n",
       "84           YUNGBLUD  6Ad91Jof8Niiw0lGLLi3NW\n",
       "85      Travis Barker  4exLIFE8sISLr28sqG1qNX\n",
       "86              Bazzi  4GvEc3ANtPPjt1ZJllr5Zl\n",
       "87         Kanye West  5K4W6rqBFWDnAN6FQUkS6x\n",
       "\n",
       "[88 rows x 2 columns]"
      ]
     },
     "execution_count": 119,
     "metadata": {},
     "output_type": "execute_result"
    }
   ],
   "source": [
    "# Create a Pandas DataFrame with artists\n",
    "df_artists_sp = get_spotify_artists_id(df_sp)\n",
    "\n",
    "# Check result\n",
    "df_artists_sp"
   ]
  },
  {
   "cell_type": "code",
   "execution_count": 120,
   "metadata": {
    "ExecuteTime": {
     "end_time": "2020-09-16T23:17:01.606784Z",
     "start_time": "2020-09-16T23:16:44.646634Z"
    }
   },
   "outputs": [
    {
     "data": {
      "application/vnd.jupyter.widget-view+json": {
       "model_id": "63165255b96844a987da26e54b94f0f3",
       "version_major": 2,
       "version_minor": 0
      },
      "text/plain": [
       "HBox(children=(FloatProgress(value=0.0, max=88.0), HTML(value='')))"
      ]
     },
     "metadata": {},
     "output_type": "display_data"
    },
    {
     "name": "stdout",
     "output_type": "stream",
     "text": [
      "\n"
     ]
    }
   ],
   "source": [
    "# Search in the API wrapper\n",
    "spotify_artists_info = [sp.artist(artist) for artist in  tqdm(df_artists_sp.sp_id)]"
   ]
  },
  {
   "cell_type": "code",
   "execution_count": 121,
   "metadata": {
    "ExecuteTime": {
     "end_time": "2020-09-16T23:17:01.624737Z",
     "start_time": "2020-09-16T23:17:01.608779Z"
    }
   },
   "outputs": [
    {
     "data": {
      "text/html": [
       "<div>\n",
       "<style scoped>\n",
       "    .dataframe tbody tr th:only-of-type {\n",
       "        vertical-align: middle;\n",
       "    }\n",
       "\n",
       "    .dataframe tbody tr th {\n",
       "        vertical-align: top;\n",
       "    }\n",
       "\n",
       "    .dataframe thead th {\n",
       "        text-align: right;\n",
       "    }\n",
       "</style>\n",
       "<table border=\"1\" class=\"dataframe\">\n",
       "  <thead>\n",
       "    <tr style=\"text-align: right;\">\n",
       "      <th></th>\n",
       "      <th>artist</th>\n",
       "      <th>sp_id</th>\n",
       "      <th>spotify_artist</th>\n",
       "    </tr>\n",
       "  </thead>\n",
       "  <tbody>\n",
       "    <tr>\n",
       "      <th>0</th>\n",
       "      <td>Arizona Zervas</td>\n",
       "      <td>0vRvGUQVUjytro0xpb26bs</td>\n",
       "      <td>{'external_urls': {'spotify': 'https://open.sp...</td>\n",
       "    </tr>\n",
       "    <tr>\n",
       "      <th>1</th>\n",
       "      <td>Doja Cat</td>\n",
       "      <td>5cj0lLjcoR7YOSnhnX0Po5</td>\n",
       "      <td>{'external_urls': {'spotify': 'https://open.sp...</td>\n",
       "    </tr>\n",
       "    <tr>\n",
       "      <th>2</th>\n",
       "      <td>Camila Cabello</td>\n",
       "      <td>4nDoRrQiYLoBzwC5BhVJzF</td>\n",
       "      <td>{'external_urls': {'spotify': 'https://open.sp...</td>\n",
       "    </tr>\n",
       "    <tr>\n",
       "      <th>3</th>\n",
       "      <td>DaBaby</td>\n",
       "      <td>4r63FhuTkUYltbVAg5TQnk</td>\n",
       "      <td>{'external_urls': {'spotify': 'https://open.sp...</td>\n",
       "    </tr>\n",
       "    <tr>\n",
       "      <th>4</th>\n",
       "      <td>Kid Francescoli</td>\n",
       "      <td>2G7QgTep5IsJHGHm1hXygD</td>\n",
       "      <td>{'external_urls': {'spotify': 'https://open.sp...</td>\n",
       "    </tr>\n",
       "  </tbody>\n",
       "</table>\n",
       "</div>"
      ],
      "text/plain": [
       "            artist                   sp_id  \\\n",
       "0   Arizona Zervas  0vRvGUQVUjytro0xpb26bs   \n",
       "1         Doja Cat  5cj0lLjcoR7YOSnhnX0Po5   \n",
       "2   Camila Cabello  4nDoRrQiYLoBzwC5BhVJzF   \n",
       "3           DaBaby  4r63FhuTkUYltbVAg5TQnk   \n",
       "4  Kid Francescoli  2G7QgTep5IsJHGHm1hXygD   \n",
       "\n",
       "                                      spotify_artist  \n",
       "0  {'external_urls': {'spotify': 'https://open.sp...  \n",
       "1  {'external_urls': {'spotify': 'https://open.sp...  \n",
       "2  {'external_urls': {'spotify': 'https://open.sp...  \n",
       "3  {'external_urls': {'spotify': 'https://open.sp...  \n",
       "4  {'external_urls': {'spotify': 'https://open.sp...  "
      ]
     },
     "execution_count": 121,
     "metadata": {},
     "output_type": "execute_result"
    }
   ],
   "source": [
    "# Add a column in the dataframe with the data that were just collected\n",
    "df_artists_sp['spotify_artist'] = spotify_artists_info\n",
    "\n",
    "# Check the result\n",
    "df_artists_sp.head()"
   ]
  },
  {
   "cell_type": "code",
   "execution_count": 122,
   "metadata": {
    "ExecuteTime": {
     "end_time": "2020-09-16T23:17:01.631764Z",
     "start_time": "2020-09-16T23:17:01.625734Z"
    }
   },
   "outputs": [],
   "source": [
    "# Function to add new information in a copy of the dataframe\n",
    "def get_spotify_artist_info(df):\n",
    "    \n",
    "    '''\n",
    "    Adds information about the artists to a copy of the dataframe.\n",
    "    \n",
    "    Args:\n",
    "    -----\n",
    "        df (Pandas DataFrame): a dataframe containing the artists and their Spotify ID\n",
    "    \n",
    "    Returns:\n",
    "    --------\n",
    "        df_copy (Pandas DataFrame): a copy of the dataframe with some new information appended\n",
    "    '''\n",
    "    \n",
    "    # Create auxiliary empty lists (final lists)\n",
    "    list_spotify_artist_genres = []\n",
    "    list_spotify_artist_popularity = []\n",
    "    list_spotify_artist_followers = []\n",
    "    \n",
    "    # Check for each row of the dataframe\n",
    "    for index in df.index:\n",
    "        \n",
    "        sp_id = df.iloc[index, 1]\n",
    "        mask = df.iloc[index, 2]\n",
    "        search_sp_id = mask['id']\n",
    "        #artist_name = mask['name']\n",
    "        \n",
    "        # Check if 'id's match\n",
    "        if sp_id == search_sp_id:\n",
    "            #print(f'{index} - {artist_name}: OK - {n_artist}')\n",
    "            \n",
    "            search_sp_genres = mask['genres']\n",
    "            list_spotify_artist_genres.append(search_sp_genres)\n",
    "            \n",
    "            search_sp_popularity = mask['popularity']\n",
    "            list_spotify_artist_popularity.append(search_sp_popularity)\n",
    "            \n",
    "            search_sp_followers = mask['followers']['total']\n",
    "            list_spotify_artist_followers.append(search_sp_followers)\n",
    "    \n",
    "    # Make a copy of the dataframe\n",
    "    df_copy = df.copy()\n",
    "    \n",
    "    # Add columns with the desired information\n",
    "    # Not an inplace process\n",
    "    df_copy['sp_genres'] = list_spotify_artist_genres\n",
    "    df_copy['sp_popularity'] = list_spotify_artist_popularity\n",
    "    df_copy['sp_followers'] = list_spotify_artist_followers\n",
    "                    \n",
    "    return df_copy"
   ]
  },
  {
   "cell_type": "code",
   "execution_count": 123,
   "metadata": {
    "ExecuteTime": {
     "end_time": "2020-09-16T23:17:01.657648Z",
     "start_time": "2020-09-16T23:17:01.632715Z"
    }
   },
   "outputs": [
    {
     "data": {
      "text/html": [
       "<div>\n",
       "<style scoped>\n",
       "    .dataframe tbody tr th:only-of-type {\n",
       "        vertical-align: middle;\n",
       "    }\n",
       "\n",
       "    .dataframe tbody tr th {\n",
       "        vertical-align: top;\n",
       "    }\n",
       "\n",
       "    .dataframe thead th {\n",
       "        text-align: right;\n",
       "    }\n",
       "</style>\n",
       "<table border=\"1\" class=\"dataframe\">\n",
       "  <thead>\n",
       "    <tr style=\"text-align: right;\">\n",
       "      <th></th>\n",
       "      <th>artist</th>\n",
       "      <th>sp_id</th>\n",
       "      <th>spotify_artist</th>\n",
       "      <th>sp_genres</th>\n",
       "      <th>sp_popularity</th>\n",
       "      <th>sp_followers</th>\n",
       "    </tr>\n",
       "  </thead>\n",
       "  <tbody>\n",
       "    <tr>\n",
       "      <th>0</th>\n",
       "      <td>Arizona Zervas</td>\n",
       "      <td>0vRvGUQVUjytro0xpb26bs</td>\n",
       "      <td>{'external_urls': {'spotify': 'https://open.sp...</td>\n",
       "      <td>[pop rap, rap, rhode island rap]</td>\n",
       "      <td>80</td>\n",
       "      <td>486223</td>\n",
       "    </tr>\n",
       "    <tr>\n",
       "      <th>1</th>\n",
       "      <td>Doja Cat</td>\n",
       "      <td>5cj0lLjcoR7YOSnhnX0Po5</td>\n",
       "      <td>{'external_urls': {'spotify': 'https://open.sp...</td>\n",
       "      <td>[la indie, pop]</td>\n",
       "      <td>88</td>\n",
       "      <td>3435338</td>\n",
       "    </tr>\n",
       "    <tr>\n",
       "      <th>2</th>\n",
       "      <td>Camila Cabello</td>\n",
       "      <td>4nDoRrQiYLoBzwC5BhVJzF</td>\n",
       "      <td>{'external_urls': {'spotify': 'https://open.sp...</td>\n",
       "      <td>[dance pop, pop, post-teen pop]</td>\n",
       "      <td>87</td>\n",
       "      <td>17978647</td>\n",
       "    </tr>\n",
       "    <tr>\n",
       "      <th>3</th>\n",
       "      <td>DaBaby</td>\n",
       "      <td>4r63FhuTkUYltbVAg5TQnk</td>\n",
       "      <td>{'external_urls': {'spotify': 'https://open.sp...</td>\n",
       "      <td>[north carolina hip hop, rap]</td>\n",
       "      <td>95</td>\n",
       "      <td>4317753</td>\n",
       "    </tr>\n",
       "    <tr>\n",
       "      <th>4</th>\n",
       "      <td>Kid Francescoli</td>\n",
       "      <td>2G7QgTep5IsJHGHm1hXygD</td>\n",
       "      <td>{'external_urls': {'spotify': 'https://open.sp...</td>\n",
       "      <td>[electronica, french indie pop, french indietr...</td>\n",
       "      <td>61</td>\n",
       "      <td>82230</td>\n",
       "    </tr>\n",
       "  </tbody>\n",
       "</table>\n",
       "</div>"
      ],
      "text/plain": [
       "            artist                   sp_id  \\\n",
       "0   Arizona Zervas  0vRvGUQVUjytro0xpb26bs   \n",
       "1         Doja Cat  5cj0lLjcoR7YOSnhnX0Po5   \n",
       "2   Camila Cabello  4nDoRrQiYLoBzwC5BhVJzF   \n",
       "3           DaBaby  4r63FhuTkUYltbVAg5TQnk   \n",
       "4  Kid Francescoli  2G7QgTep5IsJHGHm1hXygD   \n",
       "\n",
       "                                      spotify_artist  \\\n",
       "0  {'external_urls': {'spotify': 'https://open.sp...   \n",
       "1  {'external_urls': {'spotify': 'https://open.sp...   \n",
       "2  {'external_urls': {'spotify': 'https://open.sp...   \n",
       "3  {'external_urls': {'spotify': 'https://open.sp...   \n",
       "4  {'external_urls': {'spotify': 'https://open.sp...   \n",
       "\n",
       "                                           sp_genres  sp_popularity  \\\n",
       "0                   [pop rap, rap, rhode island rap]             80   \n",
       "1                                    [la indie, pop]             88   \n",
       "2                    [dance pop, pop, post-teen pop]             87   \n",
       "3                      [north carolina hip hop, rap]             95   \n",
       "4  [electronica, french indie pop, french indietr...             61   \n",
       "\n",
       "   sp_followers  \n",
       "0        486223  \n",
       "1       3435338  \n",
       "2      17978647  \n",
       "3       4317753  \n",
       "4         82230  "
      ]
     },
     "execution_count": 123,
     "metadata": {},
     "output_type": "execute_result"
    }
   ],
   "source": [
    "# Add desired information to the dataframe\n",
    "df_artists = get_spotify_artist_info(df_artists_sp)\n",
    "\n",
    "# Check the result\n",
    "df_artists.head()"
   ]
  },
  {
   "cell_type": "code",
   "execution_count": null,
   "metadata": {},
   "outputs": [],
   "source": []
  },
  {
   "cell_type": "code",
   "execution_count": null,
   "metadata": {},
   "outputs": [],
   "source": []
  },
  {
   "cell_type": "code",
   "execution_count": null,
   "metadata": {},
   "outputs": [],
   "source": []
  },
  {
   "cell_type": "markdown",
   "metadata": {},
   "source": [
    "## Playlists"
   ]
  },
  {
   "cell_type": "code",
   "execution_count": 124,
   "metadata": {
    "ExecuteTime": {
     "end_time": "2020-09-16T23:17:01.921533Z",
     "start_time": "2020-09-16T23:17:01.658662Z"
    }
   },
   "outputs": [],
   "source": [
    "# Search in the API wrapper\n",
    "spotify_tiktok = sp.search(q='tiktok', type='playlist', limit=50)"
   ]
  },
  {
   "cell_type": "code",
   "execution_count": 125,
   "metadata": {
    "ExecuteTime": {
     "end_time": "2020-09-16T23:17:01.927483Z",
     "start_time": "2020-09-16T23:17:01.922530Z"
    }
   },
   "outputs": [
    {
     "data": {
      "text/plain": [
       "50"
      ]
     },
     "execution_count": 125,
     "metadata": {},
     "output_type": "execute_result"
    }
   ],
   "source": [
    "len(spotify_tiktok['playlists']['items'])"
   ]
  },
  {
   "cell_type": "code",
   "execution_count": null,
   "metadata": {},
   "outputs": [],
   "source": []
  },
  {
   "cell_type": "code",
   "execution_count": null,
   "metadata": {},
   "outputs": [],
   "source": []
  },
  {
   "cell_type": "code",
   "execution_count": null,
   "metadata": {},
   "outputs": [],
   "source": []
  },
  {
   "cell_type": "markdown",
   "metadata": {},
   "source": [
    "# Chartmetric"
   ]
  },
  {
   "cell_type": "markdown",
   "metadata": {},
   "source": [
    "## Connecting to the API"
   ]
  },
  {
   "cell_type": "code",
   "execution_count": 180,
   "metadata": {
    "ExecuteTime": {
     "end_time": "2020-09-17T01:31:55.299523Z",
     "start_time": "2020-09-17T01:31:55.294503Z"
    }
   },
   "outputs": [
    {
     "data": {
      "text/plain": [
       "True"
      ]
     },
     "execution_count": 180,
     "metadata": {},
     "output_type": "execute_result"
    }
   ],
   "source": [
    "load_dotenv(find_dotenv())"
   ]
  },
  {
   "cell_type": "code",
   "execution_count": 181,
   "metadata": {
    "ExecuteTime": {
     "end_time": "2020-09-17T01:31:56.835381Z",
     "start_time": "2020-09-17T01:31:56.831392Z"
    }
   },
   "outputs": [],
   "source": [
    "def get_token_cmc():\n",
    "    url = \"https://api.chartmetric.com/api/token\"\n",
    "    payload = r'{\"refreshtoken\":\"%s\"}' % os.getenv('chartmetric_rftoken')\n",
    "\n",
    "    headers = {\n",
    "      'Content-Type': 'application/json',\n",
    "      'Cookie': 'connect.sid=s%3A96446210-f75b-11ea-bb65-c97242076514.wtHGb%2BZnACRtIERUXXeoBVsOmhNDPPnBzgPW9UL%2Bhpc'\n",
    "    }\n",
    "\n",
    "    response = requests.request(\"POST\", url, headers=headers, data=payload)\n",
    "    print(response)\n",
    "    \n",
    "    token = re.findall(\"[A-Za-z0-9._-]+\", response.text)[1]\n",
    "    \n",
    "    return token"
   ]
  },
  {
   "cell_type": "code",
   "execution_count": 182,
   "metadata": {
    "ExecuteTime": {
     "end_time": "2020-09-17T01:31:59.286845Z",
     "start_time": "2020-09-17T01:31:58.280515Z"
    }
   },
   "outputs": [
    {
     "name": "stdout",
     "output_type": "stream",
     "text": [
      "<Response [200]>\n"
     ]
    }
   ],
   "source": [
    "token = get_token_cmc()"
   ]
  },
  {
   "cell_type": "markdown",
   "metadata": {},
   "source": [
    "## Songs"
   ]
  },
  {
   "cell_type": "code",
   "execution_count": 47,
   "metadata": {
    "ExecuteTime": {
     "end_time": "2020-09-16T22:44:37.072135Z",
     "start_time": "2020-09-16T22:44:37.058139Z"
    }
   },
   "outputs": [
    {
     "data": {
      "text/html": [
       "<div>\n",
       "<style scoped>\n",
       "    .dataframe tbody tr th:only-of-type {\n",
       "        vertical-align: middle;\n",
       "    }\n",
       "\n",
       "    .dataframe tbody tr th {\n",
       "        vertical-align: top;\n",
       "    }\n",
       "\n",
       "    .dataframe thead th {\n",
       "        text-align: right;\n",
       "    }\n",
       "</style>\n",
       "<table border=\"1\" class=\"dataframe\">\n",
       "  <thead>\n",
       "    <tr style=\"text-align: right;\">\n",
       "      <th></th>\n",
       "      <th>song</th>\n",
       "      <th>artists</th>\n",
       "      <th>artists_list</th>\n",
       "      <th>number_artists</th>\n",
       "      <th>sp_id</th>\n",
       "    </tr>\n",
       "  </thead>\n",
       "  <tbody>\n",
       "    <tr>\n",
       "      <th>0</th>\n",
       "      <td>Roxanne</td>\n",
       "      <td>Arizona Zervas</td>\n",
       "      <td>[Arizona Zervas]</td>\n",
       "      <td>1</td>\n",
       "      <td>696DnlkuDOXcMAnKlTgXXK</td>\n",
       "    </tr>\n",
       "    <tr>\n",
       "      <th>1</th>\n",
       "      <td>Say So</td>\n",
       "      <td>Doja Cat</td>\n",
       "      <td>[Doja Cat]</td>\n",
       "      <td>1</td>\n",
       "      <td>3Dv1eDb0MEgF93GpLXlucZ</td>\n",
       "    </tr>\n",
       "    <tr>\n",
       "      <th>2</th>\n",
       "      <td>My Oh My</td>\n",
       "      <td>Camila Cabello feat. DaBaby</td>\n",
       "      <td>[Camila Cabello, DaBaby]</td>\n",
       "      <td>2</td>\n",
       "      <td>3yOlyBJuViE2YSGn3nVE1K</td>\n",
       "    </tr>\n",
       "    <tr>\n",
       "      <th>3</th>\n",
       "      <td>Moon</td>\n",
       "      <td>Kid Francescoli</td>\n",
       "      <td>[Kid Francescoli]</td>\n",
       "      <td>1</td>\n",
       "      <td>24upABZ8A0sAepfu91sEYr</td>\n",
       "    </tr>\n",
       "    <tr>\n",
       "      <th>4</th>\n",
       "      <td>Vibe</td>\n",
       "      <td>Cookiee Kawaii</td>\n",
       "      <td>[Cookiee Kawaii]</td>\n",
       "      <td>1</td>\n",
       "      <td>4gOgQTv9RYYFZ1uQNnlk3q</td>\n",
       "    </tr>\n",
       "    <tr>\n",
       "      <th>...</th>\n",
       "      <td>...</td>\n",
       "      <td>...</td>\n",
       "      <td>...</td>\n",
       "      <td>...</td>\n",
       "      <td>...</td>\n",
       "    </tr>\n",
       "    <tr>\n",
       "      <th>64</th>\n",
       "      <td>What the Hell</td>\n",
       "      <td>Avril Lavigne</td>\n",
       "      <td>[Avril Lavigne]</td>\n",
       "      <td>1</td>\n",
       "      <td>2z4U9d5OAA4YLNXoCgioxo</td>\n",
       "    </tr>\n",
       "    <tr>\n",
       "      <th>65</th>\n",
       "      <td>Towards the Sun</td>\n",
       "      <td>Rihanna</td>\n",
       "      <td>[Rihanna]</td>\n",
       "      <td>1</td>\n",
       "      <td>1UuZhGTon3gzXQAJzNa2A4</td>\n",
       "    </tr>\n",
       "    <tr>\n",
       "      <th>66</th>\n",
       "      <td>I Think I'm OKAY</td>\n",
       "      <td>Machine Gun Kelly, YUNGBLUD, and Travis Barker</td>\n",
       "      <td>[Machine Gun Kelly, YUNGBLUD, Travis Barker]</td>\n",
       "      <td>3</td>\n",
       "      <td>2gTdDMpNxIRFSiu7HutMCg</td>\n",
       "    </tr>\n",
       "    <tr>\n",
       "      <th>67</th>\n",
       "      <td>Myself</td>\n",
       "      <td>Bazzi</td>\n",
       "      <td>[Bazzi]</td>\n",
       "      <td>1</td>\n",
       "      <td>5YLHLxoZsodDWjqSgjhBf3</td>\n",
       "    </tr>\n",
       "    <tr>\n",
       "      <th>68</th>\n",
       "      <td>Stronger</td>\n",
       "      <td>Kanye West</td>\n",
       "      <td>[Kanye West]</td>\n",
       "      <td>1</td>\n",
       "      <td>4fzsfWzRhPawzqhX8Qt9F3</td>\n",
       "    </tr>\n",
       "  </tbody>\n",
       "</table>\n",
       "<p>69 rows × 5 columns</p>\n",
       "</div>"
      ],
      "text/plain": [
       "                song                                         artists  \\\n",
       "0            Roxanne                                  Arizona Zervas   \n",
       "1             Say So                                        Doja Cat   \n",
       "2           My Oh My                     Camila Cabello feat. DaBaby   \n",
       "3               Moon                                 Kid Francescoli   \n",
       "4               Vibe                                  Cookiee Kawaii   \n",
       "..               ...                                             ...   \n",
       "64     What the Hell                                   Avril Lavigne   \n",
       "65   Towards the Sun                                         Rihanna   \n",
       "66  I Think I'm OKAY  Machine Gun Kelly, YUNGBLUD, and Travis Barker   \n",
       "67            Myself                                           Bazzi   \n",
       "68          Stronger                                      Kanye West   \n",
       "\n",
       "                                    artists_list  number_artists  \\\n",
       "0                               [Arizona Zervas]               1   \n",
       "1                                     [Doja Cat]               1   \n",
       "2                       [Camila Cabello, DaBaby]               2   \n",
       "3                              [Kid Francescoli]               1   \n",
       "4                               [Cookiee Kawaii]               1   \n",
       "..                                           ...             ...   \n",
       "64                               [Avril Lavigne]               1   \n",
       "65                                     [Rihanna]               1   \n",
       "66  [Machine Gun Kelly, YUNGBLUD, Travis Barker]               3   \n",
       "67                                       [Bazzi]               1   \n",
       "68                                  [Kanye West]               1   \n",
       "\n",
       "                     sp_id  \n",
       "0   696DnlkuDOXcMAnKlTgXXK  \n",
       "1   3Dv1eDb0MEgF93GpLXlucZ  \n",
       "2   3yOlyBJuViE2YSGn3nVE1K  \n",
       "3   24upABZ8A0sAepfu91sEYr  \n",
       "4   4gOgQTv9RYYFZ1uQNnlk3q  \n",
       "..                     ...  \n",
       "64  2z4U9d5OAA4YLNXoCgioxo  \n",
       "65  1UuZhGTon3gzXQAJzNa2A4  \n",
       "66  2gTdDMpNxIRFSiu7HutMCg  \n",
       "67  5YLHLxoZsodDWjqSgjhBf3  \n",
       "68  4fzsfWzRhPawzqhX8Qt9F3  \n",
       "\n",
       "[69 rows x 5 columns]"
      ]
     },
     "execution_count": 47,
     "metadata": {},
     "output_type": "execute_result"
    }
   ],
   "source": [
    "# Create a dataframe with songs for the Chartmetric dataset\n",
    "df_cmc = df_sp.iloc[:, 0:6].drop(columns='spotify_search')\n",
    "df_cmc"
   ]
  },
  {
   "cell_type": "markdown",
   "metadata": {},
   "source": [
    "### Get Chartmetric track ID"
   ]
  },
  {
   "cell_type": "code",
   "execution_count": 137,
   "metadata": {
    "ExecuteTime": {
     "end_time": "2020-09-16T23:20:23.034295Z",
     "start_time": "2020-09-16T23:20:23.031302Z"
    }
   },
   "outputs": [],
   "source": [
    "def get_cmc_id_spotify(query: str, limit=10, offset=0):\n",
    "    \n",
    "    '''\n",
    "    Searches for Chartmetric track ID using Spotify ID\n",
    "    \n",
    "    Args: spotify ID\n",
    "    ------\n",
    "    \n",
    "    Returns: json\n",
    "    '''\n",
    "    \n",
    "    search = f'https://open.spotify.com/track/{query}'\n",
    "    url = f'https://api.chartmetric.com/api/search?q={search}&limit={limit}&offset={offset}&type=tracks'\n",
    "    \n",
    "    headers = {\n",
    "    'Authorization': 'Bearer ' + token\n",
    "    }\n",
    "    \n",
    "    response = requests.get(url, headers=headers)\n",
    "    \n",
    "    return response.json()"
   ]
  },
  {
   "cell_type": "code",
   "execution_count": 138,
   "metadata": {
    "ExecuteTime": {
     "end_time": "2020-09-16T23:20:26.162192Z",
     "start_time": "2020-09-16T23:20:25.008344Z"
    }
   },
   "outputs": [
    {
     "data": {
      "application/vnd.jupyter.widget-view+json": {
       "model_id": "b7a1c5ca1ba54c1086bf1a745033f3f9",
       "version_major": 2,
       "version_minor": 0
      },
      "text/plain": [
       "HBox(children=(FloatProgress(value=0.0, max=69.0), HTML(value='')))"
      ]
     },
     "metadata": {},
     "output_type": "display_data"
    },
    {
     "ename": "JSONDecodeError",
     "evalue": "Expecting value: line 1 column 1 (char 0)",
     "output_type": "error",
     "traceback": [
      "\u001b[1;31m---------------------------------------------------------------------------\u001b[0m",
      "\u001b[1;31mJSONDecodeError\u001b[0m                           Traceback (most recent call last)",
      "\u001b[1;32m<ipython-input-138-8e03f3558424>\u001b[0m in \u001b[0;36m<module>\u001b[1;34m\u001b[0m\n\u001b[1;32m----> 1\u001b[1;33m \u001b[0mcmc_songs_id\u001b[0m \u001b[1;33m=\u001b[0m \u001b[1;33m[\u001b[0m\u001b[0mget_cmc_id_spotify\u001b[0m\u001b[1;33m(\u001b[0m\u001b[0mid\u001b[0m\u001b[1;33m)\u001b[0m \u001b[1;32mif\u001b[0m \u001b[0mid\u001b[0m \u001b[1;33m!=\u001b[0m \u001b[1;34m'not-found'\u001b[0m \u001b[1;32melse\u001b[0m \u001b[1;34m'not-found'\u001b[0m \u001b[1;32mfor\u001b[0m \u001b[0mid\u001b[0m \u001b[1;32min\u001b[0m \u001b[0mtqdm\u001b[0m\u001b[1;33m(\u001b[0m\u001b[0mdf_cmc\u001b[0m\u001b[1;33m.\u001b[0m\u001b[0msp_id\u001b[0m\u001b[1;33m)\u001b[0m\u001b[1;33m]\u001b[0m\u001b[1;33m\u001b[0m\u001b[1;33m\u001b[0m\u001b[0m\n\u001b[0m",
      "\u001b[1;32m<ipython-input-138-8e03f3558424>\u001b[0m in \u001b[0;36m<listcomp>\u001b[1;34m(.0)\u001b[0m\n\u001b[1;32m----> 1\u001b[1;33m \u001b[0mcmc_songs_id\u001b[0m \u001b[1;33m=\u001b[0m \u001b[1;33m[\u001b[0m\u001b[0mget_cmc_id_spotify\u001b[0m\u001b[1;33m(\u001b[0m\u001b[0mid\u001b[0m\u001b[1;33m)\u001b[0m \u001b[1;32mif\u001b[0m \u001b[0mid\u001b[0m \u001b[1;33m!=\u001b[0m \u001b[1;34m'not-found'\u001b[0m \u001b[1;32melse\u001b[0m \u001b[1;34m'not-found'\u001b[0m \u001b[1;32mfor\u001b[0m \u001b[0mid\u001b[0m \u001b[1;32min\u001b[0m \u001b[0mtqdm\u001b[0m\u001b[1;33m(\u001b[0m\u001b[0mdf_cmc\u001b[0m\u001b[1;33m.\u001b[0m\u001b[0msp_id\u001b[0m\u001b[1;33m)\u001b[0m\u001b[1;33m]\u001b[0m\u001b[1;33m\u001b[0m\u001b[1;33m\u001b[0m\u001b[0m\n\u001b[0m",
      "\u001b[1;32m<ipython-input-137-5a3221ba435d>\u001b[0m in \u001b[0;36mget_cmc_id_spotify\u001b[1;34m(query, limit, offset)\u001b[0m\n\u001b[0;32m     19\u001b[0m     \u001b[0mresponse\u001b[0m \u001b[1;33m=\u001b[0m \u001b[0mrequests\u001b[0m\u001b[1;33m.\u001b[0m\u001b[0mget\u001b[0m\u001b[1;33m(\u001b[0m\u001b[0murl\u001b[0m\u001b[1;33m,\u001b[0m \u001b[0mheaders\u001b[0m\u001b[1;33m=\u001b[0m\u001b[0mheaders\u001b[0m\u001b[1;33m)\u001b[0m\u001b[1;33m\u001b[0m\u001b[1;33m\u001b[0m\u001b[0m\n\u001b[0;32m     20\u001b[0m \u001b[1;33m\u001b[0m\u001b[0m\n\u001b[1;32m---> 21\u001b[1;33m     \u001b[1;32mreturn\u001b[0m \u001b[0mresponse\u001b[0m\u001b[1;33m.\u001b[0m\u001b[0mjson\u001b[0m\u001b[1;33m(\u001b[0m\u001b[1;33m)\u001b[0m\u001b[1;33m\u001b[0m\u001b[1;33m\u001b[0m\u001b[0m\n\u001b[0m",
      "\u001b[1;32mc:\\users\\gabsn\\envs\\ds\\lib\\site-packages\\requests\\models.py\u001b[0m in \u001b[0;36mjson\u001b[1;34m(self, **kwargs)\u001b[0m\n\u001b[0;32m    896\u001b[0m                     \u001b[1;31m# used.\u001b[0m\u001b[1;33m\u001b[0m\u001b[1;33m\u001b[0m\u001b[1;33m\u001b[0m\u001b[0m\n\u001b[0;32m    897\u001b[0m                     \u001b[1;32mpass\u001b[0m\u001b[1;33m\u001b[0m\u001b[1;33m\u001b[0m\u001b[0m\n\u001b[1;32m--> 898\u001b[1;33m         \u001b[1;32mreturn\u001b[0m \u001b[0mcomplexjson\u001b[0m\u001b[1;33m.\u001b[0m\u001b[0mloads\u001b[0m\u001b[1;33m(\u001b[0m\u001b[0mself\u001b[0m\u001b[1;33m.\u001b[0m\u001b[0mtext\u001b[0m\u001b[1;33m,\u001b[0m \u001b[1;33m**\u001b[0m\u001b[0mkwargs\u001b[0m\u001b[1;33m)\u001b[0m\u001b[1;33m\u001b[0m\u001b[1;33m\u001b[0m\u001b[0m\n\u001b[0m\u001b[0;32m    899\u001b[0m \u001b[1;33m\u001b[0m\u001b[0m\n\u001b[0;32m    900\u001b[0m     \u001b[1;33m@\u001b[0m\u001b[0mproperty\u001b[0m\u001b[1;33m\u001b[0m\u001b[1;33m\u001b[0m\u001b[0m\n",
      "\u001b[1;32mc:\\users\\gabsn\\appdata\\local\\programs\\python\\python38\\lib\\json\\__init__.py\u001b[0m in \u001b[0;36mloads\u001b[1;34m(s, cls, object_hook, parse_float, parse_int, parse_constant, object_pairs_hook, **kw)\u001b[0m\n\u001b[0;32m    355\u001b[0m             \u001b[0mparse_int\u001b[0m \u001b[1;32mis\u001b[0m \u001b[1;32mNone\u001b[0m \u001b[1;32mand\u001b[0m \u001b[0mparse_float\u001b[0m \u001b[1;32mis\u001b[0m \u001b[1;32mNone\u001b[0m \u001b[1;32mand\u001b[0m\u001b[1;33m\u001b[0m\u001b[1;33m\u001b[0m\u001b[0m\n\u001b[0;32m    356\u001b[0m             parse_constant is None and object_pairs_hook is None and not kw):\n\u001b[1;32m--> 357\u001b[1;33m         \u001b[1;32mreturn\u001b[0m \u001b[0m_default_decoder\u001b[0m\u001b[1;33m.\u001b[0m\u001b[0mdecode\u001b[0m\u001b[1;33m(\u001b[0m\u001b[0ms\u001b[0m\u001b[1;33m)\u001b[0m\u001b[1;33m\u001b[0m\u001b[1;33m\u001b[0m\u001b[0m\n\u001b[0m\u001b[0;32m    358\u001b[0m     \u001b[1;32mif\u001b[0m \u001b[0mcls\u001b[0m \u001b[1;32mis\u001b[0m \u001b[1;32mNone\u001b[0m\u001b[1;33m:\u001b[0m\u001b[1;33m\u001b[0m\u001b[1;33m\u001b[0m\u001b[0m\n\u001b[0;32m    359\u001b[0m         \u001b[0mcls\u001b[0m \u001b[1;33m=\u001b[0m \u001b[0mJSONDecoder\u001b[0m\u001b[1;33m\u001b[0m\u001b[1;33m\u001b[0m\u001b[0m\n",
      "\u001b[1;32mc:\\users\\gabsn\\appdata\\local\\programs\\python\\python38\\lib\\json\\decoder.py\u001b[0m in \u001b[0;36mdecode\u001b[1;34m(self, s, _w)\u001b[0m\n\u001b[0;32m    335\u001b[0m \u001b[1;33m\u001b[0m\u001b[0m\n\u001b[0;32m    336\u001b[0m         \"\"\"\n\u001b[1;32m--> 337\u001b[1;33m         \u001b[0mobj\u001b[0m\u001b[1;33m,\u001b[0m \u001b[0mend\u001b[0m \u001b[1;33m=\u001b[0m \u001b[0mself\u001b[0m\u001b[1;33m.\u001b[0m\u001b[0mraw_decode\u001b[0m\u001b[1;33m(\u001b[0m\u001b[0ms\u001b[0m\u001b[1;33m,\u001b[0m \u001b[0midx\u001b[0m\u001b[1;33m=\u001b[0m\u001b[0m_w\u001b[0m\u001b[1;33m(\u001b[0m\u001b[0ms\u001b[0m\u001b[1;33m,\u001b[0m \u001b[1;36m0\u001b[0m\u001b[1;33m)\u001b[0m\u001b[1;33m.\u001b[0m\u001b[0mend\u001b[0m\u001b[1;33m(\u001b[0m\u001b[1;33m)\u001b[0m\u001b[1;33m)\u001b[0m\u001b[1;33m\u001b[0m\u001b[1;33m\u001b[0m\u001b[0m\n\u001b[0m\u001b[0;32m    338\u001b[0m         \u001b[0mend\u001b[0m \u001b[1;33m=\u001b[0m \u001b[0m_w\u001b[0m\u001b[1;33m(\u001b[0m\u001b[0ms\u001b[0m\u001b[1;33m,\u001b[0m \u001b[0mend\u001b[0m\u001b[1;33m)\u001b[0m\u001b[1;33m.\u001b[0m\u001b[0mend\u001b[0m\u001b[1;33m(\u001b[0m\u001b[1;33m)\u001b[0m\u001b[1;33m\u001b[0m\u001b[1;33m\u001b[0m\u001b[0m\n\u001b[0;32m    339\u001b[0m         \u001b[1;32mif\u001b[0m \u001b[0mend\u001b[0m \u001b[1;33m!=\u001b[0m \u001b[0mlen\u001b[0m\u001b[1;33m(\u001b[0m\u001b[0ms\u001b[0m\u001b[1;33m)\u001b[0m\u001b[1;33m:\u001b[0m\u001b[1;33m\u001b[0m\u001b[1;33m\u001b[0m\u001b[0m\n",
      "\u001b[1;32mc:\\users\\gabsn\\appdata\\local\\programs\\python\\python38\\lib\\json\\decoder.py\u001b[0m in \u001b[0;36mraw_decode\u001b[1;34m(self, s, idx)\u001b[0m\n\u001b[0;32m    353\u001b[0m             \u001b[0mobj\u001b[0m\u001b[1;33m,\u001b[0m \u001b[0mend\u001b[0m \u001b[1;33m=\u001b[0m \u001b[0mself\u001b[0m\u001b[1;33m.\u001b[0m\u001b[0mscan_once\u001b[0m\u001b[1;33m(\u001b[0m\u001b[0ms\u001b[0m\u001b[1;33m,\u001b[0m \u001b[0midx\u001b[0m\u001b[1;33m)\u001b[0m\u001b[1;33m\u001b[0m\u001b[1;33m\u001b[0m\u001b[0m\n\u001b[0;32m    354\u001b[0m         \u001b[1;32mexcept\u001b[0m \u001b[0mStopIteration\u001b[0m \u001b[1;32mas\u001b[0m \u001b[0merr\u001b[0m\u001b[1;33m:\u001b[0m\u001b[1;33m\u001b[0m\u001b[1;33m\u001b[0m\u001b[0m\n\u001b[1;32m--> 355\u001b[1;33m             \u001b[1;32mraise\u001b[0m \u001b[0mJSONDecodeError\u001b[0m\u001b[1;33m(\u001b[0m\u001b[1;34m\"Expecting value\"\u001b[0m\u001b[1;33m,\u001b[0m \u001b[0ms\u001b[0m\u001b[1;33m,\u001b[0m \u001b[0merr\u001b[0m\u001b[1;33m.\u001b[0m\u001b[0mvalue\u001b[0m\u001b[1;33m)\u001b[0m \u001b[1;32mfrom\u001b[0m \u001b[1;32mNone\u001b[0m\u001b[1;33m\u001b[0m\u001b[1;33m\u001b[0m\u001b[0m\n\u001b[0m\u001b[0;32m    356\u001b[0m         \u001b[1;32mreturn\u001b[0m \u001b[0mobj\u001b[0m\u001b[1;33m,\u001b[0m \u001b[0mend\u001b[0m\u001b[1;33m\u001b[0m\u001b[1;33m\u001b[0m\u001b[0m\n",
      "\u001b[1;31mJSONDecodeError\u001b[0m: Expecting value: line 1 column 1 (char 0)"
     ]
    }
   ],
   "source": [
    "cmc_songs_id = [get_cmc_id_spotify(id) if id != 'not-found' else 'not-found' for id in tqdm(df_cmc.sp_id)]"
   ]
  },
  {
   "cell_type": "code",
   "execution_count": 44,
   "metadata": {
    "ExecuteTime": {
     "end_time": "2020-09-16T22:43:31.247462Z",
     "start_time": "2020-09-16T22:43:31.242475Z"
    }
   },
   "outputs": [
    {
     "data": {
      "text/plain": [
       "69"
      ]
     },
     "execution_count": 44,
     "metadata": {},
     "output_type": "execute_result"
    }
   ],
   "source": [
    "len(cmc_songs_id)"
   ]
  },
  {
   "cell_type": "code",
   "execution_count": 48,
   "metadata": {
    "ExecuteTime": {
     "end_time": "2020-09-16T22:45:17.037999Z",
     "start_time": "2020-09-16T22:45:17.019032Z"
    }
   },
   "outputs": [
    {
     "data": {
      "text/html": [
       "<div>\n",
       "<style scoped>\n",
       "    .dataframe tbody tr th:only-of-type {\n",
       "        vertical-align: middle;\n",
       "    }\n",
       "\n",
       "    .dataframe tbody tr th {\n",
       "        vertical-align: top;\n",
       "    }\n",
       "\n",
       "    .dataframe thead th {\n",
       "        text-align: right;\n",
       "    }\n",
       "</style>\n",
       "<table border=\"1\" class=\"dataframe\">\n",
       "  <thead>\n",
       "    <tr style=\"text-align: right;\">\n",
       "      <th></th>\n",
       "      <th>song</th>\n",
       "      <th>artists</th>\n",
       "      <th>artists_list</th>\n",
       "      <th>number_artists</th>\n",
       "      <th>sp_id</th>\n",
       "      <th>cmc_song_seach</th>\n",
       "    </tr>\n",
       "  </thead>\n",
       "  <tbody>\n",
       "    <tr>\n",
       "      <th>0</th>\n",
       "      <td>Roxanne</td>\n",
       "      <td>Arizona Zervas</td>\n",
       "      <td>[Arizona Zervas]</td>\n",
       "      <td>1</td>\n",
       "      <td>696DnlkuDOXcMAnKlTgXXK</td>\n",
       "      <td>{'obj': {'tracks': [{'id': 27228348, 'name': '...</td>\n",
       "    </tr>\n",
       "    <tr>\n",
       "      <th>1</th>\n",
       "      <td>Say So</td>\n",
       "      <td>Doja Cat</td>\n",
       "      <td>[Doja Cat]</td>\n",
       "      <td>1</td>\n",
       "      <td>3Dv1eDb0MEgF93GpLXlucZ</td>\n",
       "      <td>{'obj': {'tracks': [{'id': 26951096, 'name': '...</td>\n",
       "    </tr>\n",
       "    <tr>\n",
       "      <th>2</th>\n",
       "      <td>My Oh My</td>\n",
       "      <td>Camila Cabello feat. DaBaby</td>\n",
       "      <td>[Camila Cabello, DaBaby]</td>\n",
       "      <td>2</td>\n",
       "      <td>3yOlyBJuViE2YSGn3nVE1K</td>\n",
       "      <td>{'obj': {'tracks': [{'id': 27597895, 'name': '...</td>\n",
       "    </tr>\n",
       "    <tr>\n",
       "      <th>3</th>\n",
       "      <td>Moon</td>\n",
       "      <td>Kid Francescoli</td>\n",
       "      <td>[Kid Francescoli]</td>\n",
       "      <td>1</td>\n",
       "      <td>24upABZ8A0sAepfu91sEYr</td>\n",
       "      <td>{'obj': {'tracks': [{'id': 12263271, 'name': '...</td>\n",
       "    </tr>\n",
       "    <tr>\n",
       "      <th>4</th>\n",
       "      <td>Vibe</td>\n",
       "      <td>Cookiee Kawaii</td>\n",
       "      <td>[Cookiee Kawaii]</td>\n",
       "      <td>1</td>\n",
       "      <td>4gOgQTv9RYYFZ1uQNnlk3q</td>\n",
       "      <td>{'obj': {'tracks': [{'id': 25138356, 'name': '...</td>\n",
       "    </tr>\n",
       "    <tr>\n",
       "      <th>...</th>\n",
       "      <td>...</td>\n",
       "      <td>...</td>\n",
       "      <td>...</td>\n",
       "      <td>...</td>\n",
       "      <td>...</td>\n",
       "      <td>...</td>\n",
       "    </tr>\n",
       "    <tr>\n",
       "      <th>64</th>\n",
       "      <td>What the Hell</td>\n",
       "      <td>Avril Lavigne</td>\n",
       "      <td>[Avril Lavigne]</td>\n",
       "      <td>1</td>\n",
       "      <td>2z4U9d5OAA4YLNXoCgioxo</td>\n",
       "      <td>{'obj': {'tracks': [{'id': 15674355, 'name': '...</td>\n",
       "    </tr>\n",
       "    <tr>\n",
       "      <th>65</th>\n",
       "      <td>Towards the Sun</td>\n",
       "      <td>Rihanna</td>\n",
       "      <td>[Rihanna]</td>\n",
       "      <td>1</td>\n",
       "      <td>1UuZhGTon3gzXQAJzNa2A4</td>\n",
       "      <td>{'obj': {'tracks': [{'id': 13795060, 'name': '...</td>\n",
       "    </tr>\n",
       "    <tr>\n",
       "      <th>66</th>\n",
       "      <td>I Think I'm OKAY</td>\n",
       "      <td>Machine Gun Kelly, YUNGBLUD, and Travis Barker</td>\n",
       "      <td>[Machine Gun Kelly, YUNGBLUD, Travis Barker]</td>\n",
       "      <td>3</td>\n",
       "      <td>2gTdDMpNxIRFSiu7HutMCg</td>\n",
       "      <td>{'obj': {'tracks': [{'id': 23903635, 'name': \"...</td>\n",
       "    </tr>\n",
       "    <tr>\n",
       "      <th>67</th>\n",
       "      <td>Myself</td>\n",
       "      <td>Bazzi</td>\n",
       "      <td>[Bazzi]</td>\n",
       "      <td>1</td>\n",
       "      <td>5YLHLxoZsodDWjqSgjhBf3</td>\n",
       "      <td>{'obj': {'tracks': [{'id': 19040153, 'name': '...</td>\n",
       "    </tr>\n",
       "    <tr>\n",
       "      <th>68</th>\n",
       "      <td>Stronger</td>\n",
       "      <td>Kanye West</td>\n",
       "      <td>[Kanye West]</td>\n",
       "      <td>1</td>\n",
       "      <td>4fzsfWzRhPawzqhX8Qt9F3</td>\n",
       "      <td>{'obj': {'tracks': [{'id': 15906456, 'name': '...</td>\n",
       "    </tr>\n",
       "  </tbody>\n",
       "</table>\n",
       "<p>69 rows × 6 columns</p>\n",
       "</div>"
      ],
      "text/plain": [
       "                song                                         artists  \\\n",
       "0            Roxanne                                  Arizona Zervas   \n",
       "1             Say So                                        Doja Cat   \n",
       "2           My Oh My                     Camila Cabello feat. DaBaby   \n",
       "3               Moon                                 Kid Francescoli   \n",
       "4               Vibe                                  Cookiee Kawaii   \n",
       "..               ...                                             ...   \n",
       "64     What the Hell                                   Avril Lavigne   \n",
       "65   Towards the Sun                                         Rihanna   \n",
       "66  I Think I'm OKAY  Machine Gun Kelly, YUNGBLUD, and Travis Barker   \n",
       "67            Myself                                           Bazzi   \n",
       "68          Stronger                                      Kanye West   \n",
       "\n",
       "                                    artists_list  number_artists  \\\n",
       "0                               [Arizona Zervas]               1   \n",
       "1                                     [Doja Cat]               1   \n",
       "2                       [Camila Cabello, DaBaby]               2   \n",
       "3                              [Kid Francescoli]               1   \n",
       "4                               [Cookiee Kawaii]               1   \n",
       "..                                           ...             ...   \n",
       "64                               [Avril Lavigne]               1   \n",
       "65                                     [Rihanna]               1   \n",
       "66  [Machine Gun Kelly, YUNGBLUD, Travis Barker]               3   \n",
       "67                                       [Bazzi]               1   \n",
       "68                                  [Kanye West]               1   \n",
       "\n",
       "                     sp_id                                     cmc_song_seach  \n",
       "0   696DnlkuDOXcMAnKlTgXXK  {'obj': {'tracks': [{'id': 27228348, 'name': '...  \n",
       "1   3Dv1eDb0MEgF93GpLXlucZ  {'obj': {'tracks': [{'id': 26951096, 'name': '...  \n",
       "2   3yOlyBJuViE2YSGn3nVE1K  {'obj': {'tracks': [{'id': 27597895, 'name': '...  \n",
       "3   24upABZ8A0sAepfu91sEYr  {'obj': {'tracks': [{'id': 12263271, 'name': '...  \n",
       "4   4gOgQTv9RYYFZ1uQNnlk3q  {'obj': {'tracks': [{'id': 25138356, 'name': '...  \n",
       "..                     ...                                                ...  \n",
       "64  2z4U9d5OAA4YLNXoCgioxo  {'obj': {'tracks': [{'id': 15674355, 'name': '...  \n",
       "65  1UuZhGTon3gzXQAJzNa2A4  {'obj': {'tracks': [{'id': 13795060, 'name': '...  \n",
       "66  2gTdDMpNxIRFSiu7HutMCg  {'obj': {'tracks': [{'id': 23903635, 'name': \"...  \n",
       "67  5YLHLxoZsodDWjqSgjhBf3  {'obj': {'tracks': [{'id': 19040153, 'name': '...  \n",
       "68  4fzsfWzRhPawzqhX8Qt9F3  {'obj': {'tracks': [{'id': 15906456, 'name': '...  \n",
       "\n",
       "[69 rows x 6 columns]"
      ]
     },
     "execution_count": 48,
     "metadata": {},
     "output_type": "execute_result"
    }
   ],
   "source": [
    "df_cmc['cmc_song_seach'] = cmc_songs_id\n",
    "df_cmc"
   ]
  },
  {
   "cell_type": "code",
   "execution_count": 52,
   "metadata": {
    "ExecuteTime": {
     "end_time": "2020-09-16T22:46:30.562109Z",
     "start_time": "2020-09-16T22:46:30.553133Z"
    }
   },
   "outputs": [
    {
     "data": {
      "text/plain": [
       "0    27228348\n",
       "1    26951096\n",
       "2    27597895\n",
       "3    12263271\n",
       "4    25138356\n",
       "Name: cmc_id, dtype: object"
      ]
     },
     "execution_count": 52,
     "metadata": {},
     "output_type": "execute_result"
    }
   ],
   "source": [
    "df_cmc['cmc_id'] = [cmc_search['obj']['tracks'][0]['id'] if df_cmc.iloc[index, 4] != 'not-found' else 'not-found' \n",
    "                    for index, cmc_search in enumerate(df_cmc.cmc_song_seach)]\n",
    "\n",
    "df_cmc.cmc_id.head()"
   ]
  },
  {
   "cell_type": "code",
   "execution_count": null,
   "metadata": {},
   "outputs": [],
   "source": []
  },
  {
   "cell_type": "code",
   "execution_count": 55,
   "metadata": {
    "ExecuteTime": {
     "end_time": "2020-09-16T22:47:04.604384Z",
     "start_time": "2020-09-16T22:47:04.593398Z"
    }
   },
   "outputs": [],
   "source": [
    "df_cmc.to_csv('cmc_test.csv', index=False)"
   ]
  },
  {
   "cell_type": "code",
   "execution_count": 56,
   "metadata": {
    "ExecuteTime": {
     "end_time": "2020-09-16T22:47:06.265426Z",
     "start_time": "2020-09-16T22:47:06.249501Z"
    }
   },
   "outputs": [
    {
     "data": {
      "text/html": [
       "<div>\n",
       "<style scoped>\n",
       "    .dataframe tbody tr th:only-of-type {\n",
       "        vertical-align: middle;\n",
       "    }\n",
       "\n",
       "    .dataframe tbody tr th {\n",
       "        vertical-align: top;\n",
       "    }\n",
       "\n",
       "    .dataframe thead th {\n",
       "        text-align: right;\n",
       "    }\n",
       "</style>\n",
       "<table border=\"1\" class=\"dataframe\">\n",
       "  <thead>\n",
       "    <tr style=\"text-align: right;\">\n",
       "      <th></th>\n",
       "      <th>song</th>\n",
       "      <th>artists</th>\n",
       "      <th>artists_list</th>\n",
       "      <th>number_artists</th>\n",
       "      <th>sp_id</th>\n",
       "      <th>cmc_song_seach</th>\n",
       "      <th>cmc_id</th>\n",
       "    </tr>\n",
       "  </thead>\n",
       "  <tbody>\n",
       "    <tr>\n",
       "      <th>0</th>\n",
       "      <td>Roxanne</td>\n",
       "      <td>Arizona Zervas</td>\n",
       "      <td>['Arizona Zervas']</td>\n",
       "      <td>1</td>\n",
       "      <td>696DnlkuDOXcMAnKlTgXXK</td>\n",
       "      <td>{'obj': {'tracks': [{'id': 27228348, 'name': '...</td>\n",
       "      <td>27228348</td>\n",
       "    </tr>\n",
       "    <tr>\n",
       "      <th>1</th>\n",
       "      <td>Say So</td>\n",
       "      <td>Doja Cat</td>\n",
       "      <td>['Doja Cat']</td>\n",
       "      <td>1</td>\n",
       "      <td>3Dv1eDb0MEgF93GpLXlucZ</td>\n",
       "      <td>{'obj': {'tracks': [{'id': 26951096, 'name': '...</td>\n",
       "      <td>26951096</td>\n",
       "    </tr>\n",
       "    <tr>\n",
       "      <th>2</th>\n",
       "      <td>My Oh My</td>\n",
       "      <td>Camila Cabello feat. DaBaby</td>\n",
       "      <td>['Camila Cabello', 'DaBaby']</td>\n",
       "      <td>2</td>\n",
       "      <td>3yOlyBJuViE2YSGn3nVE1K</td>\n",
       "      <td>{'obj': {'tracks': [{'id': 27597895, 'name': '...</td>\n",
       "      <td>27597895</td>\n",
       "    </tr>\n",
       "    <tr>\n",
       "      <th>3</th>\n",
       "      <td>Moon</td>\n",
       "      <td>Kid Francescoli</td>\n",
       "      <td>['Kid Francescoli']</td>\n",
       "      <td>1</td>\n",
       "      <td>24upABZ8A0sAepfu91sEYr</td>\n",
       "      <td>{'obj': {'tracks': [{'id': 12263271, 'name': '...</td>\n",
       "      <td>12263271</td>\n",
       "    </tr>\n",
       "    <tr>\n",
       "      <th>4</th>\n",
       "      <td>Vibe</td>\n",
       "      <td>Cookiee Kawaii</td>\n",
       "      <td>['Cookiee Kawaii']</td>\n",
       "      <td>1</td>\n",
       "      <td>4gOgQTv9RYYFZ1uQNnlk3q</td>\n",
       "      <td>{'obj': {'tracks': [{'id': 25138356, 'name': '...</td>\n",
       "      <td>25138356</td>\n",
       "    </tr>\n",
       "    <tr>\n",
       "      <th>...</th>\n",
       "      <td>...</td>\n",
       "      <td>...</td>\n",
       "      <td>...</td>\n",
       "      <td>...</td>\n",
       "      <td>...</td>\n",
       "      <td>...</td>\n",
       "      <td>...</td>\n",
       "    </tr>\n",
       "    <tr>\n",
       "      <th>64</th>\n",
       "      <td>What the Hell</td>\n",
       "      <td>Avril Lavigne</td>\n",
       "      <td>['Avril Lavigne']</td>\n",
       "      <td>1</td>\n",
       "      <td>2z4U9d5OAA4YLNXoCgioxo</td>\n",
       "      <td>{'obj': {'tracks': [{'id': 15674355, 'name': '...</td>\n",
       "      <td>15674355</td>\n",
       "    </tr>\n",
       "    <tr>\n",
       "      <th>65</th>\n",
       "      <td>Towards the Sun</td>\n",
       "      <td>Rihanna</td>\n",
       "      <td>['Rihanna']</td>\n",
       "      <td>1</td>\n",
       "      <td>1UuZhGTon3gzXQAJzNa2A4</td>\n",
       "      <td>{'obj': {'tracks': [{'id': 13795060, 'name': '...</td>\n",
       "      <td>13795060</td>\n",
       "    </tr>\n",
       "    <tr>\n",
       "      <th>66</th>\n",
       "      <td>I Think I'm OKAY</td>\n",
       "      <td>Machine Gun Kelly, YUNGBLUD, and Travis Barker</td>\n",
       "      <td>['Machine Gun Kelly', 'YUNGBLUD', 'Travis Bark...</td>\n",
       "      <td>3</td>\n",
       "      <td>2gTdDMpNxIRFSiu7HutMCg</td>\n",
       "      <td>{'obj': {'tracks': [{'id': 23903635, 'name': \"...</td>\n",
       "      <td>23903635</td>\n",
       "    </tr>\n",
       "    <tr>\n",
       "      <th>67</th>\n",
       "      <td>Myself</td>\n",
       "      <td>Bazzi</td>\n",
       "      <td>['Bazzi']</td>\n",
       "      <td>1</td>\n",
       "      <td>5YLHLxoZsodDWjqSgjhBf3</td>\n",
       "      <td>{'obj': {'tracks': [{'id': 19040153, 'name': '...</td>\n",
       "      <td>19040153</td>\n",
       "    </tr>\n",
       "    <tr>\n",
       "      <th>68</th>\n",
       "      <td>Stronger</td>\n",
       "      <td>Kanye West</td>\n",
       "      <td>['Kanye West']</td>\n",
       "      <td>1</td>\n",
       "      <td>4fzsfWzRhPawzqhX8Qt9F3</td>\n",
       "      <td>{'obj': {'tracks': [{'id': 15906456, 'name': '...</td>\n",
       "      <td>15906456</td>\n",
       "    </tr>\n",
       "  </tbody>\n",
       "</table>\n",
       "<p>69 rows × 7 columns</p>\n",
       "</div>"
      ],
      "text/plain": [
       "                song                                         artists  \\\n",
       "0            Roxanne                                  Arizona Zervas   \n",
       "1             Say So                                        Doja Cat   \n",
       "2           My Oh My                     Camila Cabello feat. DaBaby   \n",
       "3               Moon                                 Kid Francescoli   \n",
       "4               Vibe                                  Cookiee Kawaii   \n",
       "..               ...                                             ...   \n",
       "64     What the Hell                                   Avril Lavigne   \n",
       "65   Towards the Sun                                         Rihanna   \n",
       "66  I Think I'm OKAY  Machine Gun Kelly, YUNGBLUD, and Travis Barker   \n",
       "67            Myself                                           Bazzi   \n",
       "68          Stronger                                      Kanye West   \n",
       "\n",
       "                                         artists_list  number_artists  \\\n",
       "0                                  ['Arizona Zervas']               1   \n",
       "1                                        ['Doja Cat']               1   \n",
       "2                        ['Camila Cabello', 'DaBaby']               2   \n",
       "3                                 ['Kid Francescoli']               1   \n",
       "4                                  ['Cookiee Kawaii']               1   \n",
       "..                                                ...             ...   \n",
       "64                                  ['Avril Lavigne']               1   \n",
       "65                                        ['Rihanna']               1   \n",
       "66  ['Machine Gun Kelly', 'YUNGBLUD', 'Travis Bark...               3   \n",
       "67                                          ['Bazzi']               1   \n",
       "68                                     ['Kanye West']               1   \n",
       "\n",
       "                     sp_id                                     cmc_song_seach  \\\n",
       "0   696DnlkuDOXcMAnKlTgXXK  {'obj': {'tracks': [{'id': 27228348, 'name': '...   \n",
       "1   3Dv1eDb0MEgF93GpLXlucZ  {'obj': {'tracks': [{'id': 26951096, 'name': '...   \n",
       "2   3yOlyBJuViE2YSGn3nVE1K  {'obj': {'tracks': [{'id': 27597895, 'name': '...   \n",
       "3   24upABZ8A0sAepfu91sEYr  {'obj': {'tracks': [{'id': 12263271, 'name': '...   \n",
       "4   4gOgQTv9RYYFZ1uQNnlk3q  {'obj': {'tracks': [{'id': 25138356, 'name': '...   \n",
       "..                     ...                                                ...   \n",
       "64  2z4U9d5OAA4YLNXoCgioxo  {'obj': {'tracks': [{'id': 15674355, 'name': '...   \n",
       "65  1UuZhGTon3gzXQAJzNa2A4  {'obj': {'tracks': [{'id': 13795060, 'name': '...   \n",
       "66  2gTdDMpNxIRFSiu7HutMCg  {'obj': {'tracks': [{'id': 23903635, 'name': \"...   \n",
       "67  5YLHLxoZsodDWjqSgjhBf3  {'obj': {'tracks': [{'id': 19040153, 'name': '...   \n",
       "68  4fzsfWzRhPawzqhX8Qt9F3  {'obj': {'tracks': [{'id': 15906456, 'name': '...   \n",
       "\n",
       "      cmc_id  \n",
       "0   27228348  \n",
       "1   26951096  \n",
       "2   27597895  \n",
       "3   12263271  \n",
       "4   25138356  \n",
       "..       ...  \n",
       "64  15674355  \n",
       "65  13795060  \n",
       "66  23903635  \n",
       "67  19040153  \n",
       "68  15906456  \n",
       "\n",
       "[69 rows x 7 columns]"
      ]
     },
     "execution_count": 56,
     "metadata": {},
     "output_type": "execute_result"
    }
   ],
   "source": [
    "df_cmc.to_csv('cmc_test.csv', index=False)\n",
    "df_teste = pd.read_csv('cmc_test.csv')\n",
    "df_teste"
   ]
  },
  {
   "cell_type": "markdown",
   "metadata": {},
   "source": [
    "### Get track metadata"
   ]
  },
  {
   "cell_type": "code",
   "execution_count": 57,
   "metadata": {
    "ExecuteTime": {
     "end_time": "2020-09-16T22:47:33.795878Z",
     "start_time": "2020-09-16T22:47:33.792901Z"
    }
   },
   "outputs": [],
   "source": [
    "def get_cmc_metadata(cmc_id: str):\n",
    "    \n",
    "    \n",
    "    \n",
    "    url = f'https://api.chartmetric.com/api/track/{cmc_id}'\n",
    "    \n",
    "    headers = {\n",
    "    'Authorization': 'Bearer ' + token\n",
    "    }\n",
    "    \n",
    "    response = requests.get(url, headers=headers)\n",
    "    \n",
    "    return response.json()"
   ]
  },
  {
   "cell_type": "code",
   "execution_count": 58,
   "metadata": {
    "ExecuteTime": {
     "end_time": "2020-09-16T22:48:57.293174Z",
     "start_time": "2020-09-16T22:47:35.704724Z"
    },
    "scrolled": false
   },
   "outputs": [
    {
     "data": {
      "application/vnd.jupyter.widget-view+json": {
       "model_id": "905893d1844f4742b24afbb53b5e2bc9",
       "version_major": 2,
       "version_minor": 0
      },
      "text/plain": [
       "HBox(children=(FloatProgress(value=0.0, max=69.0), HTML(value='')))"
      ]
     },
     "metadata": {},
     "output_type": "display_data"
    },
    {
     "name": "stdout",
     "output_type": "stream",
     "text": [
      "\n"
     ]
    }
   ],
   "source": [
    "cmc_track_metadata = cmc_track_metadata = [get_cmc_metadata(id) if id != 'not-found' else 'not-found' for id in tqdm(df_cmc.cmc_id)]"
   ]
  },
  {
   "cell_type": "code",
   "execution_count": 152,
   "metadata": {
    "ExecuteTime": {
     "end_time": "2020-09-17T00:15:20.730515Z",
     "start_time": "2020-09-17T00:15:20.727497Z"
    }
   },
   "outputs": [],
   "source": [
    "df_cmc['cmc_track_metadata'] = cmc_track_metadata"
   ]
  },
  {
   "cell_type": "code",
   "execution_count": 153,
   "metadata": {
    "ExecuteTime": {
     "end_time": "2020-09-17T00:15:25.075950Z",
     "start_time": "2020-09-17T00:15:24.968239Z"
    },
    "scrolled": true
   },
   "outputs": [
    {
     "data": {
      "text/html": [
       "<div>\n",
       "<style scoped>\n",
       "    .dataframe tbody tr th:only-of-type {\n",
       "        vertical-align: middle;\n",
       "    }\n",
       "\n",
       "    .dataframe tbody tr th {\n",
       "        vertical-align: top;\n",
       "    }\n",
       "\n",
       "    .dataframe thead th {\n",
       "        text-align: right;\n",
       "    }\n",
       "</style>\n",
       "<table border=\"1\" class=\"dataframe\">\n",
       "  <thead>\n",
       "    <tr style=\"text-align: right;\">\n",
       "      <th></th>\n",
       "      <th>song</th>\n",
       "      <th>artists</th>\n",
       "      <th>artists_list</th>\n",
       "      <th>number_artists</th>\n",
       "      <th>sp_id</th>\n",
       "      <th>cmc_song_seach</th>\n",
       "      <th>cmc_id</th>\n",
       "      <th>cmc_track_stats_tiktok</th>\n",
       "      <th>cmc_track_metadata</th>\n",
       "    </tr>\n",
       "  </thead>\n",
       "  <tbody>\n",
       "    <tr>\n",
       "      <th>0</th>\n",
       "      <td>Roxanne</td>\n",
       "      <td>Arizona Zervas</td>\n",
       "      <td>[Arizona Zervas]</td>\n",
       "      <td>1</td>\n",
       "      <td>696DnlkuDOXcMAnKlTgXXK</td>\n",
       "      <td>{'obj': {'tracks': [{'id': 27228348, 'name': '...</td>\n",
       "      <td>27228348</td>\n",
       "      <td>{'obj': [{'value': 2100000, 'timestp': '2020-0...</td>\n",
       "      <td>{'obj': {'id': 27228348, 'name': 'ROXANNE', 'i...</td>\n",
       "    </tr>\n",
       "    <tr>\n",
       "      <th>1</th>\n",
       "      <td>Say So</td>\n",
       "      <td>Doja Cat</td>\n",
       "      <td>[Doja Cat]</td>\n",
       "      <td>1</td>\n",
       "      <td>3Dv1eDb0MEgF93GpLXlucZ</td>\n",
       "      <td>{'obj': {'tracks': [{'id': 26951096, 'name': '...</td>\n",
       "      <td>26951096</td>\n",
       "      <td>{'obj': [{'value': 5300000, 'timestp': '2020-0...</td>\n",
       "      <td>{'obj': {'id': 26951096, 'name': 'Say So', 'is...</td>\n",
       "    </tr>\n",
       "    <tr>\n",
       "      <th>2</th>\n",
       "      <td>My Oh My</td>\n",
       "      <td>Camila Cabello feat. DaBaby</td>\n",
       "      <td>[Camila Cabello, DaBaby]</td>\n",
       "      <td>2</td>\n",
       "      <td>3yOlyBJuViE2YSGn3nVE1K</td>\n",
       "      <td>{'obj': {'tracks': [{'id': 27597895, 'name': '...</td>\n",
       "      <td>27597895</td>\n",
       "      <td>{'obj': [{'value': 791700, 'timestp': '2020-01...</td>\n",
       "      <td>{'obj': {'id': 27597895, 'name': 'My Oh My', '...</td>\n",
       "    </tr>\n",
       "    <tr>\n",
       "      <th>3</th>\n",
       "      <td>Moon</td>\n",
       "      <td>Kid Francescoli</td>\n",
       "      <td>[Kid Francescoli]</td>\n",
       "      <td>1</td>\n",
       "      <td>24upABZ8A0sAepfu91sEYr</td>\n",
       "      <td>{'obj': {'tracks': [{'id': 12263271, 'name': '...</td>\n",
       "      <td>12263271</td>\n",
       "      <td>{'obj': [{'value': 382197, 'timestp': '2020-02...</td>\n",
       "      <td>{'obj': {'id': 12263271, 'name': 'Moon', 'isrc...</td>\n",
       "    </tr>\n",
       "    <tr>\n",
       "      <th>4</th>\n",
       "      <td>Vibe</td>\n",
       "      <td>Cookiee Kawaii</td>\n",
       "      <td>[Cookiee Kawaii]</td>\n",
       "      <td>1</td>\n",
       "      <td>4gOgQTv9RYYFZ1uQNnlk3q</td>\n",
       "      <td>{'obj': {'tracks': [{'id': 25138356, 'name': '...</td>\n",
       "      <td>25138356</td>\n",
       "      <td>{'obj': [{'value': 948913, 'timestp': '2020-03...</td>\n",
       "      <td>{'obj': {'id': 25138356, 'name': 'Vibe', 'isrc...</td>\n",
       "    </tr>\n",
       "  </tbody>\n",
       "</table>\n",
       "</div>"
      ],
      "text/plain": [
       "       song                      artists              artists_list  \\\n",
       "0   Roxanne               Arizona Zervas          [Arizona Zervas]   \n",
       "1    Say So                     Doja Cat                [Doja Cat]   \n",
       "2  My Oh My  Camila Cabello feat. DaBaby  [Camila Cabello, DaBaby]   \n",
       "3      Moon              Kid Francescoli         [Kid Francescoli]   \n",
       "4      Vibe               Cookiee Kawaii          [Cookiee Kawaii]   \n",
       "\n",
       "   number_artists                   sp_id  \\\n",
       "0               1  696DnlkuDOXcMAnKlTgXXK   \n",
       "1               1  3Dv1eDb0MEgF93GpLXlucZ   \n",
       "2               2  3yOlyBJuViE2YSGn3nVE1K   \n",
       "3               1  24upABZ8A0sAepfu91sEYr   \n",
       "4               1  4gOgQTv9RYYFZ1uQNnlk3q   \n",
       "\n",
       "                                      cmc_song_seach    cmc_id  \\\n",
       "0  {'obj': {'tracks': [{'id': 27228348, 'name': '...  27228348   \n",
       "1  {'obj': {'tracks': [{'id': 26951096, 'name': '...  26951096   \n",
       "2  {'obj': {'tracks': [{'id': 27597895, 'name': '...  27597895   \n",
       "3  {'obj': {'tracks': [{'id': 12263271, 'name': '...  12263271   \n",
       "4  {'obj': {'tracks': [{'id': 25138356, 'name': '...  25138356   \n",
       "\n",
       "                              cmc_track_stats_tiktok  \\\n",
       "0  {'obj': [{'value': 2100000, 'timestp': '2020-0...   \n",
       "1  {'obj': [{'value': 5300000, 'timestp': '2020-0...   \n",
       "2  {'obj': [{'value': 791700, 'timestp': '2020-01...   \n",
       "3  {'obj': [{'value': 382197, 'timestp': '2020-02...   \n",
       "4  {'obj': [{'value': 948913, 'timestp': '2020-03...   \n",
       "\n",
       "                                  cmc_track_metadata  \n",
       "0  {'obj': {'id': 27228348, 'name': 'ROXANNE', 'i...  \n",
       "1  {'obj': {'id': 26951096, 'name': 'Say So', 'is...  \n",
       "2  {'obj': {'id': 27597895, 'name': 'My Oh My', '...  \n",
       "3  {'obj': {'id': 12263271, 'name': 'Moon', 'isrc...  \n",
       "4  {'obj': {'id': 25138356, 'name': 'Vibe', 'isrc...  "
      ]
     },
     "execution_count": 153,
     "metadata": {},
     "output_type": "execute_result"
    }
   ],
   "source": [
    "df_cmc.head()"
   ]
  },
  {
   "cell_type": "markdown",
   "metadata": {},
   "source": [
    "### Get track stats - TikTok"
   ]
  },
  {
   "cell_type": "code",
   "execution_count": 59,
   "metadata": {
    "ExecuteTime": {
     "end_time": "2020-09-16T22:50:52.426715Z",
     "start_time": "2020-09-16T22:50:52.422756Z"
    }
   },
   "outputs": [],
   "source": [
    "def get_cmc_track_stats_tiktok(cmc_id, since=\"2020-01-01\"):\n",
    "    \n",
    "    \n",
    "    \n",
    "    url = f'https://api.chartmetric.com/api/track/{cmc_id}/tiktok/stats?since={since}'\n",
    "    \n",
    "    headers = {\n",
    "    'Authorization': 'Bearer ' + token\n",
    "    }\n",
    "    \n",
    "    response = requests.get(url, headers=headers)\n",
    "    \n",
    "    return response.json()"
   ]
  },
  {
   "cell_type": "code",
   "execution_count": 60,
   "metadata": {
    "ExecuteTime": {
     "end_time": "2020-09-16T22:52:08.744341Z",
     "start_time": "2020-09-16T22:50:54.240759Z"
    }
   },
   "outputs": [
    {
     "data": {
      "application/vnd.jupyter.widget-view+json": {
       "model_id": "8aa63ec2c93b4d0dbb74399b70723d62",
       "version_major": 2,
       "version_minor": 0
      },
      "text/plain": [
       "HBox(children=(FloatProgress(value=0.0, max=69.0), HTML(value='')))"
      ]
     },
     "metadata": {},
     "output_type": "display_data"
    },
    {
     "name": "stdout",
     "output_type": "stream",
     "text": [
      "\n"
     ]
    }
   ],
   "source": [
    "cmc_track_stats_tiktok = [get_cmc_track_stats_tiktok(id) if id != 'not-found' else 'not-found' for id in tqdm(df_cmc.cmc_id)]"
   ]
  },
  {
   "cell_type": "code",
   "execution_count": 62,
   "metadata": {
    "ExecuteTime": {
     "end_time": "2020-09-16T22:52:23.825768Z",
     "start_time": "2020-09-16T22:52:23.730012Z"
    }
   },
   "outputs": [
    {
     "data": {
      "text/html": [
       "<div>\n",
       "<style scoped>\n",
       "    .dataframe tbody tr th:only-of-type {\n",
       "        vertical-align: middle;\n",
       "    }\n",
       "\n",
       "    .dataframe tbody tr th {\n",
       "        vertical-align: top;\n",
       "    }\n",
       "\n",
       "    .dataframe thead th {\n",
       "        text-align: right;\n",
       "    }\n",
       "</style>\n",
       "<table border=\"1\" class=\"dataframe\">\n",
       "  <thead>\n",
       "    <tr style=\"text-align: right;\">\n",
       "      <th></th>\n",
       "      <th>song</th>\n",
       "      <th>artists</th>\n",
       "      <th>artists_list</th>\n",
       "      <th>number_artists</th>\n",
       "      <th>sp_id</th>\n",
       "      <th>cmc_song_seach</th>\n",
       "      <th>cmc_id</th>\n",
       "      <th>cmc_track_stats_tiktok</th>\n",
       "    </tr>\n",
       "  </thead>\n",
       "  <tbody>\n",
       "    <tr>\n",
       "      <th>0</th>\n",
       "      <td>Roxanne</td>\n",
       "      <td>Arizona Zervas</td>\n",
       "      <td>[Arizona Zervas]</td>\n",
       "      <td>1</td>\n",
       "      <td>696DnlkuDOXcMAnKlTgXXK</td>\n",
       "      <td>{'obj': {'tracks': [{'id': 27228348, 'name': '...</td>\n",
       "      <td>27228348</td>\n",
       "      <td>{'obj': [{'value': 2100000, 'timestp': '2020-0...</td>\n",
       "    </tr>\n",
       "    <tr>\n",
       "      <th>1</th>\n",
       "      <td>Say So</td>\n",
       "      <td>Doja Cat</td>\n",
       "      <td>[Doja Cat]</td>\n",
       "      <td>1</td>\n",
       "      <td>3Dv1eDb0MEgF93GpLXlucZ</td>\n",
       "      <td>{'obj': {'tracks': [{'id': 26951096, 'name': '...</td>\n",
       "      <td>26951096</td>\n",
       "      <td>{'obj': [{'value': 5300000, 'timestp': '2020-0...</td>\n",
       "    </tr>\n",
       "    <tr>\n",
       "      <th>2</th>\n",
       "      <td>My Oh My</td>\n",
       "      <td>Camila Cabello feat. DaBaby</td>\n",
       "      <td>[Camila Cabello, DaBaby]</td>\n",
       "      <td>2</td>\n",
       "      <td>3yOlyBJuViE2YSGn3nVE1K</td>\n",
       "      <td>{'obj': {'tracks': [{'id': 27597895, 'name': '...</td>\n",
       "      <td>27597895</td>\n",
       "      <td>{'obj': [{'value': 791700, 'timestp': '2020-01...</td>\n",
       "    </tr>\n",
       "    <tr>\n",
       "      <th>3</th>\n",
       "      <td>Moon</td>\n",
       "      <td>Kid Francescoli</td>\n",
       "      <td>[Kid Francescoli]</td>\n",
       "      <td>1</td>\n",
       "      <td>24upABZ8A0sAepfu91sEYr</td>\n",
       "      <td>{'obj': {'tracks': [{'id': 12263271, 'name': '...</td>\n",
       "      <td>12263271</td>\n",
       "      <td>{'obj': [{'value': 382197, 'timestp': '2020-02...</td>\n",
       "    </tr>\n",
       "    <tr>\n",
       "      <th>4</th>\n",
       "      <td>Vibe</td>\n",
       "      <td>Cookiee Kawaii</td>\n",
       "      <td>[Cookiee Kawaii]</td>\n",
       "      <td>1</td>\n",
       "      <td>4gOgQTv9RYYFZ1uQNnlk3q</td>\n",
       "      <td>{'obj': {'tracks': [{'id': 25138356, 'name': '...</td>\n",
       "      <td>25138356</td>\n",
       "      <td>{'obj': [{'value': 948913, 'timestp': '2020-03...</td>\n",
       "    </tr>\n",
       "  </tbody>\n",
       "</table>\n",
       "</div>"
      ],
      "text/plain": [
       "       song                      artists              artists_list  \\\n",
       "0   Roxanne               Arizona Zervas          [Arizona Zervas]   \n",
       "1    Say So                     Doja Cat                [Doja Cat]   \n",
       "2  My Oh My  Camila Cabello feat. DaBaby  [Camila Cabello, DaBaby]   \n",
       "3      Moon              Kid Francescoli         [Kid Francescoli]   \n",
       "4      Vibe               Cookiee Kawaii          [Cookiee Kawaii]   \n",
       "\n",
       "   number_artists                   sp_id  \\\n",
       "0               1  696DnlkuDOXcMAnKlTgXXK   \n",
       "1               1  3Dv1eDb0MEgF93GpLXlucZ   \n",
       "2               2  3yOlyBJuViE2YSGn3nVE1K   \n",
       "3               1  24upABZ8A0sAepfu91sEYr   \n",
       "4               1  4gOgQTv9RYYFZ1uQNnlk3q   \n",
       "\n",
       "                                      cmc_song_seach    cmc_id  \\\n",
       "0  {'obj': {'tracks': [{'id': 27228348, 'name': '...  27228348   \n",
       "1  {'obj': {'tracks': [{'id': 26951096, 'name': '...  26951096   \n",
       "2  {'obj': {'tracks': [{'id': 27597895, 'name': '...  27597895   \n",
       "3  {'obj': {'tracks': [{'id': 12263271, 'name': '...  12263271   \n",
       "4  {'obj': {'tracks': [{'id': 25138356, 'name': '...  25138356   \n",
       "\n",
       "                              cmc_track_stats_tiktok  \n",
       "0  {'obj': [{'value': 2100000, 'timestp': '2020-0...  \n",
       "1  {'obj': [{'value': 5300000, 'timestp': '2020-0...  \n",
       "2  {'obj': [{'value': 791700, 'timestp': '2020-01...  \n",
       "3  {'obj': [{'value': 382197, 'timestp': '2020-02...  \n",
       "4  {'obj': [{'value': 948913, 'timestp': '2020-03...  "
      ]
     },
     "execution_count": 62,
     "metadata": {},
     "output_type": "execute_result"
    }
   ],
   "source": [
    "df_cmc['cmc_track_stats_tiktok'] = cmc_track_stats_tiktok\n",
    "df_cmc.head()"
   ]
  },
  {
   "cell_type": "code",
   "execution_count": 159,
   "metadata": {
    "ExecuteTime": {
     "end_time": "2020-09-17T00:19:08.002291Z",
     "start_time": "2020-09-17T00:19:07.806815Z"
    }
   },
   "outputs": [
    {
     "data": {
      "text/html": [
       "<div>\n",
       "<style scoped>\n",
       "    .dataframe tbody tr th:only-of-type {\n",
       "        vertical-align: middle;\n",
       "    }\n",
       "\n",
       "    .dataframe tbody tr th {\n",
       "        vertical-align: top;\n",
       "    }\n",
       "\n",
       "    .dataframe thead th {\n",
       "        text-align: right;\n",
       "    }\n",
       "</style>\n",
       "<table border=\"1\" class=\"dataframe\">\n",
       "  <thead>\n",
       "    <tr style=\"text-align: right;\">\n",
       "      <th></th>\n",
       "      <th>song</th>\n",
       "      <th>artists</th>\n",
       "      <th>artists_list</th>\n",
       "      <th>number_artists</th>\n",
       "      <th>sp_id</th>\n",
       "      <th>cmc_song_seach</th>\n",
       "      <th>cmc_id</th>\n",
       "      <th>cmc_track_stats_tiktok</th>\n",
       "      <th>cmc_track_metadata</th>\n",
       "    </tr>\n",
       "  </thead>\n",
       "  <tbody>\n",
       "    <tr>\n",
       "      <th>0</th>\n",
       "      <td>Roxanne</td>\n",
       "      <td>Arizona Zervas</td>\n",
       "      <td>[Arizona Zervas]</td>\n",
       "      <td>1</td>\n",
       "      <td>696DnlkuDOXcMAnKlTgXXK</td>\n",
       "      <td>{'obj': {'tracks': [{'id': 27228348, 'name': '...</td>\n",
       "      <td>27228348</td>\n",
       "      <td>{'obj': [{'value': 2100000, 'timestp': '2020-0...</td>\n",
       "      <td>{'obj': {'id': 27228348, 'name': 'ROXANNE', 'i...</td>\n",
       "    </tr>\n",
       "    <tr>\n",
       "      <th>1</th>\n",
       "      <td>Say So</td>\n",
       "      <td>Doja Cat</td>\n",
       "      <td>[Doja Cat]</td>\n",
       "      <td>1</td>\n",
       "      <td>3Dv1eDb0MEgF93GpLXlucZ</td>\n",
       "      <td>{'obj': {'tracks': [{'id': 26951096, 'name': '...</td>\n",
       "      <td>26951096</td>\n",
       "      <td>{'obj': [{'value': 5300000, 'timestp': '2020-0...</td>\n",
       "      <td>{'obj': {'id': 26951096, 'name': 'Say So', 'is...</td>\n",
       "    </tr>\n",
       "    <tr>\n",
       "      <th>2</th>\n",
       "      <td>My Oh My</td>\n",
       "      <td>Camila Cabello feat. DaBaby</td>\n",
       "      <td>[Camila Cabello, DaBaby]</td>\n",
       "      <td>2</td>\n",
       "      <td>3yOlyBJuViE2YSGn3nVE1K</td>\n",
       "      <td>{'obj': {'tracks': [{'id': 27597895, 'name': '...</td>\n",
       "      <td>27597895</td>\n",
       "      <td>{'obj': [{'value': 791700, 'timestp': '2020-01...</td>\n",
       "      <td>{'obj': {'id': 27597895, 'name': 'My Oh My', '...</td>\n",
       "    </tr>\n",
       "    <tr>\n",
       "      <th>3</th>\n",
       "      <td>Moon</td>\n",
       "      <td>Kid Francescoli</td>\n",
       "      <td>[Kid Francescoli]</td>\n",
       "      <td>1</td>\n",
       "      <td>24upABZ8A0sAepfu91sEYr</td>\n",
       "      <td>{'obj': {'tracks': [{'id': 12263271, 'name': '...</td>\n",
       "      <td>12263271</td>\n",
       "      <td>{'obj': [{'value': 382197, 'timestp': '2020-02...</td>\n",
       "      <td>{'obj': {'id': 12263271, 'name': 'Moon', 'isrc...</td>\n",
       "    </tr>\n",
       "    <tr>\n",
       "      <th>4</th>\n",
       "      <td>Vibe</td>\n",
       "      <td>Cookiee Kawaii</td>\n",
       "      <td>[Cookiee Kawaii]</td>\n",
       "      <td>1</td>\n",
       "      <td>4gOgQTv9RYYFZ1uQNnlk3q</td>\n",
       "      <td>{'obj': {'tracks': [{'id': 25138356, 'name': '...</td>\n",
       "      <td>25138356</td>\n",
       "      <td>{'obj': [{'value': 948913, 'timestp': '2020-03...</td>\n",
       "      <td>{'obj': {'id': 25138356, 'name': 'Vibe', 'isrc...</td>\n",
       "    </tr>\n",
       "    <tr>\n",
       "      <th>...</th>\n",
       "      <td>...</td>\n",
       "      <td>...</td>\n",
       "      <td>...</td>\n",
       "      <td>...</td>\n",
       "      <td>...</td>\n",
       "      <td>...</td>\n",
       "      <td>...</td>\n",
       "      <td>...</td>\n",
       "      <td>...</td>\n",
       "    </tr>\n",
       "    <tr>\n",
       "      <th>64</th>\n",
       "      <td>What the Hell</td>\n",
       "      <td>Avril Lavigne</td>\n",
       "      <td>[Avril Lavigne]</td>\n",
       "      <td>1</td>\n",
       "      <td>2z4U9d5OAA4YLNXoCgioxo</td>\n",
       "      <td>{'obj': {'tracks': [{'id': 15674355, 'name': '...</td>\n",
       "      <td>15674355</td>\n",
       "      <td>{'obj': [{'value': 315800, 'timestp': '2020-02...</td>\n",
       "      <td>{'obj': {'id': 15674355, 'name': 'What The Hel...</td>\n",
       "    </tr>\n",
       "    <tr>\n",
       "      <th>65</th>\n",
       "      <td>Towards the Sun</td>\n",
       "      <td>Rihanna</td>\n",
       "      <td>[Rihanna]</td>\n",
       "      <td>1</td>\n",
       "      <td>1UuZhGTon3gzXQAJzNa2A4</td>\n",
       "      <td>{'obj': {'tracks': [{'id': 13795060, 'name': '...</td>\n",
       "      <td>13795060</td>\n",
       "      <td>{'obj': [{'value': 0, 'timestp': '2020-01-07T0...</td>\n",
       "      <td>{'obj': {'id': 13795060, 'name': 'Towards The ...</td>\n",
       "    </tr>\n",
       "    <tr>\n",
       "      <th>66</th>\n",
       "      <td>I Think I'm OKAY</td>\n",
       "      <td>Machine Gun Kelly, YUNGBLUD, and Travis Barker</td>\n",
       "      <td>[Machine Gun Kelly, YUNGBLUD, Travis Barker]</td>\n",
       "      <td>3</td>\n",
       "      <td>2gTdDMpNxIRFSiu7HutMCg</td>\n",
       "      <td>{'obj': {'tracks': [{'id': 23903635, 'name': \"...</td>\n",
       "      <td>23903635</td>\n",
       "      <td>{'obj': [{'value': 60100, 'timestp': '2020-01-...</td>\n",
       "      <td>{'obj': {'id': 23903635, 'name': 'I Think I'm ...</td>\n",
       "    </tr>\n",
       "    <tr>\n",
       "      <th>67</th>\n",
       "      <td>Myself</td>\n",
       "      <td>Bazzi</td>\n",
       "      <td>[Bazzi]</td>\n",
       "      <td>1</td>\n",
       "      <td>5YLHLxoZsodDWjqSgjhBf3</td>\n",
       "      <td>{'obj': {'tracks': [{'id': 19040153, 'name': '...</td>\n",
       "      <td>19040153</td>\n",
       "      <td>{'obj': [{'value': 1348745, 'timestp': '2020-0...</td>\n",
       "      <td>{'obj': {'id': 19040153, 'name': 'Myself', 'is...</td>\n",
       "    </tr>\n",
       "    <tr>\n",
       "      <th>68</th>\n",
       "      <td>Stronger</td>\n",
       "      <td>Kanye West</td>\n",
       "      <td>[Kanye West]</td>\n",
       "      <td>1</td>\n",
       "      <td>4fzsfWzRhPawzqhX8Qt9F3</td>\n",
       "      <td>{'obj': {'tracks': [{'id': 15906456, 'name': '...</td>\n",
       "      <td>15906456</td>\n",
       "      <td>{'obj': [{'value': 16200, 'timestp': '2020-07-...</td>\n",
       "      <td>{'obj': {'id': 15906456, 'name': 'Stronger', '...</td>\n",
       "    </tr>\n",
       "  </tbody>\n",
       "</table>\n",
       "<p>69 rows × 9 columns</p>\n",
       "</div>"
      ],
      "text/plain": [
       "                song                                         artists  \\\n",
       "0            Roxanne                                  Arizona Zervas   \n",
       "1             Say So                                        Doja Cat   \n",
       "2           My Oh My                     Camila Cabello feat. DaBaby   \n",
       "3               Moon                                 Kid Francescoli   \n",
       "4               Vibe                                  Cookiee Kawaii   \n",
       "..               ...                                             ...   \n",
       "64     What the Hell                                   Avril Lavigne   \n",
       "65   Towards the Sun                                         Rihanna   \n",
       "66  I Think I'm OKAY  Machine Gun Kelly, YUNGBLUD, and Travis Barker   \n",
       "67            Myself                                           Bazzi   \n",
       "68          Stronger                                      Kanye West   \n",
       "\n",
       "                                    artists_list  number_artists  \\\n",
       "0                               [Arizona Zervas]               1   \n",
       "1                                     [Doja Cat]               1   \n",
       "2                       [Camila Cabello, DaBaby]               2   \n",
       "3                              [Kid Francescoli]               1   \n",
       "4                               [Cookiee Kawaii]               1   \n",
       "..                                           ...             ...   \n",
       "64                               [Avril Lavigne]               1   \n",
       "65                                     [Rihanna]               1   \n",
       "66  [Machine Gun Kelly, YUNGBLUD, Travis Barker]               3   \n",
       "67                                       [Bazzi]               1   \n",
       "68                                  [Kanye West]               1   \n",
       "\n",
       "                     sp_id                                     cmc_song_seach  \\\n",
       "0   696DnlkuDOXcMAnKlTgXXK  {'obj': {'tracks': [{'id': 27228348, 'name': '...   \n",
       "1   3Dv1eDb0MEgF93GpLXlucZ  {'obj': {'tracks': [{'id': 26951096, 'name': '...   \n",
       "2   3yOlyBJuViE2YSGn3nVE1K  {'obj': {'tracks': [{'id': 27597895, 'name': '...   \n",
       "3   24upABZ8A0sAepfu91sEYr  {'obj': {'tracks': [{'id': 12263271, 'name': '...   \n",
       "4   4gOgQTv9RYYFZ1uQNnlk3q  {'obj': {'tracks': [{'id': 25138356, 'name': '...   \n",
       "..                     ...                                                ...   \n",
       "64  2z4U9d5OAA4YLNXoCgioxo  {'obj': {'tracks': [{'id': 15674355, 'name': '...   \n",
       "65  1UuZhGTon3gzXQAJzNa2A4  {'obj': {'tracks': [{'id': 13795060, 'name': '...   \n",
       "66  2gTdDMpNxIRFSiu7HutMCg  {'obj': {'tracks': [{'id': 23903635, 'name': \"...   \n",
       "67  5YLHLxoZsodDWjqSgjhBf3  {'obj': {'tracks': [{'id': 19040153, 'name': '...   \n",
       "68  4fzsfWzRhPawzqhX8Qt9F3  {'obj': {'tracks': [{'id': 15906456, 'name': '...   \n",
       "\n",
       "      cmc_id                             cmc_track_stats_tiktok  \\\n",
       "0   27228348  {'obj': [{'value': 2100000, 'timestp': '2020-0...   \n",
       "1   26951096  {'obj': [{'value': 5300000, 'timestp': '2020-0...   \n",
       "2   27597895  {'obj': [{'value': 791700, 'timestp': '2020-01...   \n",
       "3   12263271  {'obj': [{'value': 382197, 'timestp': '2020-02...   \n",
       "4   25138356  {'obj': [{'value': 948913, 'timestp': '2020-03...   \n",
       "..       ...                                                ...   \n",
       "64  15674355  {'obj': [{'value': 315800, 'timestp': '2020-02...   \n",
       "65  13795060  {'obj': [{'value': 0, 'timestp': '2020-01-07T0...   \n",
       "66  23903635  {'obj': [{'value': 60100, 'timestp': '2020-01-...   \n",
       "67  19040153  {'obj': [{'value': 1348745, 'timestp': '2020-0...   \n",
       "68  15906456  {'obj': [{'value': 16200, 'timestp': '2020-07-...   \n",
       "\n",
       "                                   cmc_track_metadata  \n",
       "0   {'obj': {'id': 27228348, 'name': 'ROXANNE', 'i...  \n",
       "1   {'obj': {'id': 26951096, 'name': 'Say So', 'is...  \n",
       "2   {'obj': {'id': 27597895, 'name': 'My Oh My', '...  \n",
       "3   {'obj': {'id': 12263271, 'name': 'Moon', 'isrc...  \n",
       "4   {'obj': {'id': 25138356, 'name': 'Vibe', 'isrc...  \n",
       "..                                                ...  \n",
       "64  {'obj': {'id': 15674355, 'name': 'What The Hel...  \n",
       "65  {'obj': {'id': 13795060, 'name': 'Towards The ...  \n",
       "66  {'obj': {'id': 23903635, 'name': 'I Think I'm ...  \n",
       "67  {'obj': {'id': 19040153, 'name': 'Myself', 'is...  \n",
       "68  {'obj': {'id': 15906456, 'name': 'Stronger', '...  \n",
       "\n",
       "[69 rows x 9 columns]"
      ]
     },
     "execution_count": 159,
     "metadata": {},
     "output_type": "execute_result"
    }
   ],
   "source": [
    "df_cmc"
   ]
  },
  {
   "cell_type": "code",
   "execution_count": 162,
   "metadata": {
    "ExecuteTime": {
     "end_time": "2020-09-17T00:19:36.335115Z",
     "start_time": "2020-09-17T00:19:36.288199Z"
    }
   },
   "outputs": [],
   "source": [
    "df_cmc.to_csv('cmc_tracks_data.csv', index=False)"
   ]
  },
  {
   "cell_type": "code",
   "execution_count": 163,
   "metadata": {
    "ExecuteTime": {
     "end_time": "2020-09-17T00:19:37.842755Z",
     "start_time": "2020-09-17T00:19:37.815834Z"
    }
   },
   "outputs": [
    {
     "data": {
      "text/html": [
       "<div>\n",
       "<style scoped>\n",
       "    .dataframe tbody tr th:only-of-type {\n",
       "        vertical-align: middle;\n",
       "    }\n",
       "\n",
       "    .dataframe tbody tr th {\n",
       "        vertical-align: top;\n",
       "    }\n",
       "\n",
       "    .dataframe thead th {\n",
       "        text-align: right;\n",
       "    }\n",
       "</style>\n",
       "<table border=\"1\" class=\"dataframe\">\n",
       "  <thead>\n",
       "    <tr style=\"text-align: right;\">\n",
       "      <th></th>\n",
       "      <th>song</th>\n",
       "      <th>artists</th>\n",
       "      <th>artists_list</th>\n",
       "      <th>number_artists</th>\n",
       "      <th>sp_id</th>\n",
       "      <th>cmc_song_seach</th>\n",
       "      <th>cmc_id</th>\n",
       "      <th>cmc_track_stats_tiktok</th>\n",
       "      <th>cmc_track_metadata</th>\n",
       "    </tr>\n",
       "  </thead>\n",
       "  <tbody>\n",
       "    <tr>\n",
       "      <th>0</th>\n",
       "      <td>Roxanne</td>\n",
       "      <td>Arizona Zervas</td>\n",
       "      <td>['Arizona Zervas']</td>\n",
       "      <td>1</td>\n",
       "      <td>696DnlkuDOXcMAnKlTgXXK</td>\n",
       "      <td>{'obj': {'tracks': [{'id': 27228348, 'name': '...</td>\n",
       "      <td>27228348</td>\n",
       "      <td>{'obj': [{'value': 2100000, 'timestp': '2020-0...</td>\n",
       "      <td>{'obj': {'id': 27228348, 'name': 'ROXANNE', 'i...</td>\n",
       "    </tr>\n",
       "    <tr>\n",
       "      <th>1</th>\n",
       "      <td>Say So</td>\n",
       "      <td>Doja Cat</td>\n",
       "      <td>['Doja Cat']</td>\n",
       "      <td>1</td>\n",
       "      <td>3Dv1eDb0MEgF93GpLXlucZ</td>\n",
       "      <td>{'obj': {'tracks': [{'id': 26951096, 'name': '...</td>\n",
       "      <td>26951096</td>\n",
       "      <td>{'obj': [{'value': 5300000, 'timestp': '2020-0...</td>\n",
       "      <td>{'obj': {'id': 26951096, 'name': 'Say So', 'is...</td>\n",
       "    </tr>\n",
       "    <tr>\n",
       "      <th>2</th>\n",
       "      <td>My Oh My</td>\n",
       "      <td>Camila Cabello feat. DaBaby</td>\n",
       "      <td>['Camila Cabello', 'DaBaby']</td>\n",
       "      <td>2</td>\n",
       "      <td>3yOlyBJuViE2YSGn3nVE1K</td>\n",
       "      <td>{'obj': {'tracks': [{'id': 27597895, 'name': '...</td>\n",
       "      <td>27597895</td>\n",
       "      <td>{'obj': [{'value': 791700, 'timestp': '2020-01...</td>\n",
       "      <td>{'obj': {'id': 27597895, 'name': 'My Oh My', '...</td>\n",
       "    </tr>\n",
       "    <tr>\n",
       "      <th>3</th>\n",
       "      <td>Moon</td>\n",
       "      <td>Kid Francescoli</td>\n",
       "      <td>['Kid Francescoli']</td>\n",
       "      <td>1</td>\n",
       "      <td>24upABZ8A0sAepfu91sEYr</td>\n",
       "      <td>{'obj': {'tracks': [{'id': 12263271, 'name': '...</td>\n",
       "      <td>12263271</td>\n",
       "      <td>{'obj': [{'value': 382197, 'timestp': '2020-02...</td>\n",
       "      <td>{'obj': {'id': 12263271, 'name': 'Moon', 'isrc...</td>\n",
       "    </tr>\n",
       "    <tr>\n",
       "      <th>4</th>\n",
       "      <td>Vibe</td>\n",
       "      <td>Cookiee Kawaii</td>\n",
       "      <td>['Cookiee Kawaii']</td>\n",
       "      <td>1</td>\n",
       "      <td>4gOgQTv9RYYFZ1uQNnlk3q</td>\n",
       "      <td>{'obj': {'tracks': [{'id': 25138356, 'name': '...</td>\n",
       "      <td>25138356</td>\n",
       "      <td>{'obj': [{'value': 948913, 'timestp': '2020-03...</td>\n",
       "      <td>{'obj': {'id': 25138356, 'name': 'Vibe', 'isrc...</td>\n",
       "    </tr>\n",
       "    <tr>\n",
       "      <th>...</th>\n",
       "      <td>...</td>\n",
       "      <td>...</td>\n",
       "      <td>...</td>\n",
       "      <td>...</td>\n",
       "      <td>...</td>\n",
       "      <td>...</td>\n",
       "      <td>...</td>\n",
       "      <td>...</td>\n",
       "      <td>...</td>\n",
       "    </tr>\n",
       "    <tr>\n",
       "      <th>64</th>\n",
       "      <td>What the Hell</td>\n",
       "      <td>Avril Lavigne</td>\n",
       "      <td>['Avril Lavigne']</td>\n",
       "      <td>1</td>\n",
       "      <td>2z4U9d5OAA4YLNXoCgioxo</td>\n",
       "      <td>{'obj': {'tracks': [{'id': 15674355, 'name': '...</td>\n",
       "      <td>15674355</td>\n",
       "      <td>{'obj': [{'value': 315800, 'timestp': '2020-02...</td>\n",
       "      <td>{'obj': {'id': 15674355, 'name': 'What The Hel...</td>\n",
       "    </tr>\n",
       "    <tr>\n",
       "      <th>65</th>\n",
       "      <td>Towards the Sun</td>\n",
       "      <td>Rihanna</td>\n",
       "      <td>['Rihanna']</td>\n",
       "      <td>1</td>\n",
       "      <td>1UuZhGTon3gzXQAJzNa2A4</td>\n",
       "      <td>{'obj': {'tracks': [{'id': 13795060, 'name': '...</td>\n",
       "      <td>13795060</td>\n",
       "      <td>{'obj': [{'value': 0, 'timestp': '2020-01-07T0...</td>\n",
       "      <td>{'obj': {'id': 13795060, 'name': 'Towards The ...</td>\n",
       "    </tr>\n",
       "    <tr>\n",
       "      <th>66</th>\n",
       "      <td>I Think I'm OKAY</td>\n",
       "      <td>Machine Gun Kelly, YUNGBLUD, and Travis Barker</td>\n",
       "      <td>['Machine Gun Kelly', 'YUNGBLUD', 'Travis Bark...</td>\n",
       "      <td>3</td>\n",
       "      <td>2gTdDMpNxIRFSiu7HutMCg</td>\n",
       "      <td>{'obj': {'tracks': [{'id': 23903635, 'name': \"...</td>\n",
       "      <td>23903635</td>\n",
       "      <td>{'obj': [{'value': 60100, 'timestp': '2020-01-...</td>\n",
       "      <td>{'obj': {'id': 23903635, 'name': \"I Think I'm ...</td>\n",
       "    </tr>\n",
       "    <tr>\n",
       "      <th>67</th>\n",
       "      <td>Myself</td>\n",
       "      <td>Bazzi</td>\n",
       "      <td>['Bazzi']</td>\n",
       "      <td>1</td>\n",
       "      <td>5YLHLxoZsodDWjqSgjhBf3</td>\n",
       "      <td>{'obj': {'tracks': [{'id': 19040153, 'name': '...</td>\n",
       "      <td>19040153</td>\n",
       "      <td>{'obj': [{'value': 1348745, 'timestp': '2020-0...</td>\n",
       "      <td>{'obj': {'id': 19040153, 'name': 'Myself', 'is...</td>\n",
       "    </tr>\n",
       "    <tr>\n",
       "      <th>68</th>\n",
       "      <td>Stronger</td>\n",
       "      <td>Kanye West</td>\n",
       "      <td>['Kanye West']</td>\n",
       "      <td>1</td>\n",
       "      <td>4fzsfWzRhPawzqhX8Qt9F3</td>\n",
       "      <td>{'obj': {'tracks': [{'id': 15906456, 'name': '...</td>\n",
       "      <td>15906456</td>\n",
       "      <td>{'obj': [{'value': 16200, 'timestp': '2020-07-...</td>\n",
       "      <td>{'obj': {'id': 15906456, 'name': 'Stronger', '...</td>\n",
       "    </tr>\n",
       "  </tbody>\n",
       "</table>\n",
       "<p>69 rows × 9 columns</p>\n",
       "</div>"
      ],
      "text/plain": [
       "                song                                         artists  \\\n",
       "0            Roxanne                                  Arizona Zervas   \n",
       "1             Say So                                        Doja Cat   \n",
       "2           My Oh My                     Camila Cabello feat. DaBaby   \n",
       "3               Moon                                 Kid Francescoli   \n",
       "4               Vibe                                  Cookiee Kawaii   \n",
       "..               ...                                             ...   \n",
       "64     What the Hell                                   Avril Lavigne   \n",
       "65   Towards the Sun                                         Rihanna   \n",
       "66  I Think I'm OKAY  Machine Gun Kelly, YUNGBLUD, and Travis Barker   \n",
       "67            Myself                                           Bazzi   \n",
       "68          Stronger                                      Kanye West   \n",
       "\n",
       "                                         artists_list  number_artists  \\\n",
       "0                                  ['Arizona Zervas']               1   \n",
       "1                                        ['Doja Cat']               1   \n",
       "2                        ['Camila Cabello', 'DaBaby']               2   \n",
       "3                                 ['Kid Francescoli']               1   \n",
       "4                                  ['Cookiee Kawaii']               1   \n",
       "..                                                ...             ...   \n",
       "64                                  ['Avril Lavigne']               1   \n",
       "65                                        ['Rihanna']               1   \n",
       "66  ['Machine Gun Kelly', 'YUNGBLUD', 'Travis Bark...               3   \n",
       "67                                          ['Bazzi']               1   \n",
       "68                                     ['Kanye West']               1   \n",
       "\n",
       "                     sp_id                                     cmc_song_seach  \\\n",
       "0   696DnlkuDOXcMAnKlTgXXK  {'obj': {'tracks': [{'id': 27228348, 'name': '...   \n",
       "1   3Dv1eDb0MEgF93GpLXlucZ  {'obj': {'tracks': [{'id': 26951096, 'name': '...   \n",
       "2   3yOlyBJuViE2YSGn3nVE1K  {'obj': {'tracks': [{'id': 27597895, 'name': '...   \n",
       "3   24upABZ8A0sAepfu91sEYr  {'obj': {'tracks': [{'id': 12263271, 'name': '...   \n",
       "4   4gOgQTv9RYYFZ1uQNnlk3q  {'obj': {'tracks': [{'id': 25138356, 'name': '...   \n",
       "..                     ...                                                ...   \n",
       "64  2z4U9d5OAA4YLNXoCgioxo  {'obj': {'tracks': [{'id': 15674355, 'name': '...   \n",
       "65  1UuZhGTon3gzXQAJzNa2A4  {'obj': {'tracks': [{'id': 13795060, 'name': '...   \n",
       "66  2gTdDMpNxIRFSiu7HutMCg  {'obj': {'tracks': [{'id': 23903635, 'name': \"...   \n",
       "67  5YLHLxoZsodDWjqSgjhBf3  {'obj': {'tracks': [{'id': 19040153, 'name': '...   \n",
       "68  4fzsfWzRhPawzqhX8Qt9F3  {'obj': {'tracks': [{'id': 15906456, 'name': '...   \n",
       "\n",
       "      cmc_id                             cmc_track_stats_tiktok  \\\n",
       "0   27228348  {'obj': [{'value': 2100000, 'timestp': '2020-0...   \n",
       "1   26951096  {'obj': [{'value': 5300000, 'timestp': '2020-0...   \n",
       "2   27597895  {'obj': [{'value': 791700, 'timestp': '2020-01...   \n",
       "3   12263271  {'obj': [{'value': 382197, 'timestp': '2020-02...   \n",
       "4   25138356  {'obj': [{'value': 948913, 'timestp': '2020-03...   \n",
       "..       ...                                                ...   \n",
       "64  15674355  {'obj': [{'value': 315800, 'timestp': '2020-02...   \n",
       "65  13795060  {'obj': [{'value': 0, 'timestp': '2020-01-07T0...   \n",
       "66  23903635  {'obj': [{'value': 60100, 'timestp': '2020-01-...   \n",
       "67  19040153  {'obj': [{'value': 1348745, 'timestp': '2020-0...   \n",
       "68  15906456  {'obj': [{'value': 16200, 'timestp': '2020-07-...   \n",
       "\n",
       "                                   cmc_track_metadata  \n",
       "0   {'obj': {'id': 27228348, 'name': 'ROXANNE', 'i...  \n",
       "1   {'obj': {'id': 26951096, 'name': 'Say So', 'is...  \n",
       "2   {'obj': {'id': 27597895, 'name': 'My Oh My', '...  \n",
       "3   {'obj': {'id': 12263271, 'name': 'Moon', 'isrc...  \n",
       "4   {'obj': {'id': 25138356, 'name': 'Vibe', 'isrc...  \n",
       "..                                                ...  \n",
       "64  {'obj': {'id': 15674355, 'name': 'What The Hel...  \n",
       "65  {'obj': {'id': 13795060, 'name': 'Towards The ...  \n",
       "66  {'obj': {'id': 23903635, 'name': \"I Think I'm ...  \n",
       "67  {'obj': {'id': 19040153, 'name': 'Myself', 'is...  \n",
       "68  {'obj': {'id': 15906456, 'name': 'Stronger', '...  \n",
       "\n",
       "[69 rows x 9 columns]"
      ]
     },
     "execution_count": 163,
     "metadata": {},
     "output_type": "execute_result"
    }
   ],
   "source": [
    "df_teste = pd.read_csv('cmc_tracks_data.csv')\n",
    "df_teste"
   ]
  },
  {
   "cell_type": "markdown",
   "metadata": {},
   "source": [
    "### Export dataset"
   ]
  },
  {
   "cell_type": "code",
   "execution_count": null,
   "metadata": {},
   "outputs": [],
   "source": [
    "df_cmc.to_csv('cmc_tracks_info.csv', index=False)"
   ]
  },
  {
   "cell_type": "code",
   "execution_count": null,
   "metadata": {},
   "outputs": [],
   "source": [
    "df_teste = pd.read_csv('cmc_tracks_info.csv')\n",
    "df_teste"
   ]
  },
  {
   "cell_type": "markdown",
   "metadata": {},
   "source": [
    "## Artists"
   ]
  },
  {
   "cell_type": "code",
   "execution_count": 139,
   "metadata": {
    "ExecuteTime": {
     "end_time": "2020-09-16T23:45:25.374916Z",
     "start_time": "2020-09-16T23:45:25.361983Z"
    }
   },
   "outputs": [
    {
     "data": {
      "text/html": [
       "<div>\n",
       "<style scoped>\n",
       "    .dataframe tbody tr th:only-of-type {\n",
       "        vertical-align: middle;\n",
       "    }\n",
       "\n",
       "    .dataframe tbody tr th {\n",
       "        vertical-align: top;\n",
       "    }\n",
       "\n",
       "    .dataframe thead th {\n",
       "        text-align: right;\n",
       "    }\n",
       "</style>\n",
       "<table border=\"1\" class=\"dataframe\">\n",
       "  <thead>\n",
       "    <tr style=\"text-align: right;\">\n",
       "      <th></th>\n",
       "      <th>artist</th>\n",
       "      <th>sp_id</th>\n",
       "      <th>sp_genres</th>\n",
       "      <th>sp_popularity</th>\n",
       "      <th>sp_followers</th>\n",
       "    </tr>\n",
       "  </thead>\n",
       "  <tbody>\n",
       "    <tr>\n",
       "      <th>0</th>\n",
       "      <td>Arizona Zervas</td>\n",
       "      <td>0vRvGUQVUjytro0xpb26bs</td>\n",
       "      <td>[pop rap, rap, rhode island rap]</td>\n",
       "      <td>80</td>\n",
       "      <td>486223</td>\n",
       "    </tr>\n",
       "    <tr>\n",
       "      <th>1</th>\n",
       "      <td>Doja Cat</td>\n",
       "      <td>5cj0lLjcoR7YOSnhnX0Po5</td>\n",
       "      <td>[la indie, pop]</td>\n",
       "      <td>88</td>\n",
       "      <td>3435338</td>\n",
       "    </tr>\n",
       "    <tr>\n",
       "      <th>2</th>\n",
       "      <td>Camila Cabello</td>\n",
       "      <td>4nDoRrQiYLoBzwC5BhVJzF</td>\n",
       "      <td>[dance pop, pop, post-teen pop]</td>\n",
       "      <td>87</td>\n",
       "      <td>17978647</td>\n",
       "    </tr>\n",
       "    <tr>\n",
       "      <th>3</th>\n",
       "      <td>DaBaby</td>\n",
       "      <td>4r63FhuTkUYltbVAg5TQnk</td>\n",
       "      <td>[north carolina hip hop, rap]</td>\n",
       "      <td>95</td>\n",
       "      <td>4317753</td>\n",
       "    </tr>\n",
       "    <tr>\n",
       "      <th>4</th>\n",
       "      <td>Kid Francescoli</td>\n",
       "      <td>2G7QgTep5IsJHGHm1hXygD</td>\n",
       "      <td>[electronica, french indie pop, french indietr...</td>\n",
       "      <td>61</td>\n",
       "      <td>82230</td>\n",
       "    </tr>\n",
       "    <tr>\n",
       "      <th>...</th>\n",
       "      <td>...</td>\n",
       "      <td>...</td>\n",
       "      <td>...</td>\n",
       "      <td>...</td>\n",
       "      <td>...</td>\n",
       "    </tr>\n",
       "    <tr>\n",
       "      <th>83</th>\n",
       "      <td>Machine Gun Kelly</td>\n",
       "      <td>6TIYQ3jFPwQSRmorSezPxX</td>\n",
       "      <td>[ohio hip hop, pop rap, rap]</td>\n",
       "      <td>86</td>\n",
       "      <td>2451137</td>\n",
       "    </tr>\n",
       "    <tr>\n",
       "      <th>84</th>\n",
       "      <td>YUNGBLUD</td>\n",
       "      <td>6Ad91Jof8Niiw0lGLLi3NW</td>\n",
       "      <td>[british indie rock, modern alternative rock, ...</td>\n",
       "      <td>78</td>\n",
       "      <td>1083768</td>\n",
       "    </tr>\n",
       "    <tr>\n",
       "      <th>85</th>\n",
       "      <td>Travis Barker</td>\n",
       "      <td>4exLIFE8sISLr28sqG1qNX</td>\n",
       "      <td>[rap rock]</td>\n",
       "      <td>77</td>\n",
       "      <td>252209</td>\n",
       "    </tr>\n",
       "    <tr>\n",
       "      <th>86</th>\n",
       "      <td>Bazzi</td>\n",
       "      <td>4GvEc3ANtPPjt1ZJllr5Zl</td>\n",
       "      <td>[pop, post-teen pop]</td>\n",
       "      <td>83</td>\n",
       "      <td>3669318</td>\n",
       "    </tr>\n",
       "    <tr>\n",
       "      <th>87</th>\n",
       "      <td>Kanye West</td>\n",
       "      <td>5K4W6rqBFWDnAN6FQUkS6x</td>\n",
       "      <td>[chicago rap, rap]</td>\n",
       "      <td>91</td>\n",
       "      <td>12421424</td>\n",
       "    </tr>\n",
       "  </tbody>\n",
       "</table>\n",
       "<p>88 rows × 5 columns</p>\n",
       "</div>"
      ],
      "text/plain": [
       "               artist                   sp_id  \\\n",
       "0      Arizona Zervas  0vRvGUQVUjytro0xpb26bs   \n",
       "1            Doja Cat  5cj0lLjcoR7YOSnhnX0Po5   \n",
       "2      Camila Cabello  4nDoRrQiYLoBzwC5BhVJzF   \n",
       "3              DaBaby  4r63FhuTkUYltbVAg5TQnk   \n",
       "4     Kid Francescoli  2G7QgTep5IsJHGHm1hXygD   \n",
       "..                ...                     ...   \n",
       "83  Machine Gun Kelly  6TIYQ3jFPwQSRmorSezPxX   \n",
       "84           YUNGBLUD  6Ad91Jof8Niiw0lGLLi3NW   \n",
       "85      Travis Barker  4exLIFE8sISLr28sqG1qNX   \n",
       "86              Bazzi  4GvEc3ANtPPjt1ZJllr5Zl   \n",
       "87         Kanye West  5K4W6rqBFWDnAN6FQUkS6x   \n",
       "\n",
       "                                            sp_genres  sp_popularity  \\\n",
       "0                    [pop rap, rap, rhode island rap]             80   \n",
       "1                                     [la indie, pop]             88   \n",
       "2                     [dance pop, pop, post-teen pop]             87   \n",
       "3                       [north carolina hip hop, rap]             95   \n",
       "4   [electronica, french indie pop, french indietr...             61   \n",
       "..                                                ...            ...   \n",
       "83                       [ohio hip hop, pop rap, rap]             86   \n",
       "84  [british indie rock, modern alternative rock, ...             78   \n",
       "85                                         [rap rock]             77   \n",
       "86                               [pop, post-teen pop]             83   \n",
       "87                                 [chicago rap, rap]             91   \n",
       "\n",
       "    sp_followers  \n",
       "0         486223  \n",
       "1        3435338  \n",
       "2       17978647  \n",
       "3        4317753  \n",
       "4          82230  \n",
       "..           ...  \n",
       "83       2451137  \n",
       "84       1083768  \n",
       "85        252209  \n",
       "86       3669318  \n",
       "87      12421424  \n",
       "\n",
       "[88 rows x 5 columns]"
      ]
     },
     "execution_count": 139,
     "metadata": {},
     "output_type": "execute_result"
    }
   ],
   "source": [
    "df_cmc_artists = df_artists.drop(columns=['spotify_artist'])\n",
    "df_cmc_artists"
   ]
  },
  {
   "cell_type": "markdown",
   "metadata": {},
   "source": [
    "### Get Artists IDs"
   ]
  },
  {
   "cell_type": "code",
   "execution_count": 183,
   "metadata": {
    "ExecuteTime": {
     "end_time": "2020-09-17T01:32:07.515961Z",
     "start_time": "2020-09-17T01:32:06.453215Z"
    }
   },
   "outputs": [],
   "source": [
    "teste = cmc_search_artist_spotify('5cj0lLjcoR7YOSnhnX0Po5')"
   ]
  },
  {
   "cell_type": "code",
   "execution_count": 184,
   "metadata": {
    "ExecuteTime": {
     "end_time": "2020-09-17T01:32:08.988031Z",
     "start_time": "2020-09-17T01:32:08.984031Z"
    }
   },
   "outputs": [
    {
     "data": {
      "text/plain": [
       "{'obj': {'artists': [{'id': 217671,\n",
       "    'name': 'Doja Cat',\n",
       "    'image_url': 'https://i.scdn.co/image/c0492ddbdf41c4595ee1334d3f896ea786005fe9',\n",
       "    'isni': '0000000465726144',\n",
       "    'code2': 'us',\n",
       "    'hometown_city': 'Los Angeles',\n",
       "    'current_city': 'Los Angeles',\n",
       "    'sp_followers': 3414060,\n",
       "    'sp_popularity': 88,\n",
       "    'sp_monthly_listeners': 31770199,\n",
       "    'deezer_fans': 345458,\n",
       "    'tags': ['pop', 'pop rap', 'la indie', 'electropop'],\n",
       "    'spotify_artist_ids': ['5cj0lLjcoR7YOSnhnX0Po5'],\n",
       "    'itunes_artist_ids': [830588310],\n",
       "    'deezer_artist_ids': ['5578942'],\n",
       "    'cm_artist_rank': 58,\n",
       "    'amazon_artist_ids': ['B00IUPTW5G']}]}}"
      ]
     },
     "execution_count": 184,
     "metadata": {},
     "output_type": "execute_result"
    }
   ],
   "source": [
    "teste"
   ]
  },
  {
   "cell_type": "code",
   "execution_count": 164,
   "metadata": {
    "ExecuteTime": {
     "end_time": "2020-09-17T01:05:50.942541Z",
     "start_time": "2020-09-17T01:05:50.937523Z"
    }
   },
   "outputs": [],
   "source": [
    "def cmc_search_artist_spotify(query: str, limit=10, offset=0):\n",
    "    \n",
    "    '''\n",
    "    Searches for Chartmetric artist ID using Spotify ID\n",
    "    \n",
    "    Args: spotify ID\n",
    "    ------\n",
    "    \n",
    "    Returns: json\n",
    "    '''\n",
    "    \n",
    "    search = f'https://open.spotify.com/artist/{query}'\n",
    "    url = f'https://api.chartmetric.com/api/search?q={search}&limit={limit}&offset={offset}&type=artists'\n",
    "    \n",
    "    headers = {\n",
    "    'Authorization': 'Bearer ' + token\n",
    "    }\n",
    "    \n",
    "    response = requests.get(url, headers=headers)\n",
    "    \n",
    "    return response.json()"
   ]
  },
  {
   "cell_type": "code",
   "execution_count": 185,
   "metadata": {
    "ExecuteTime": {
     "end_time": "2020-09-17T01:33:18.140772Z",
     "start_time": "2020-09-17T01:32:11.581692Z"
    }
   },
   "outputs": [
    {
     "data": {
      "application/vnd.jupyter.widget-view+json": {
       "model_id": "cbeddb5157a646c29fb5e6c0a524f5c2",
       "version_major": 2,
       "version_minor": 0
      },
      "text/plain": [
       "HBox(children=(FloatProgress(value=0.0, max=88.0), HTML(value='')))"
      ]
     },
     "metadata": {},
     "output_type": "display_data"
    },
    {
     "ename": "JSONDecodeError",
     "evalue": "Expecting value: line 1 column 1 (char 0)",
     "output_type": "error",
     "traceback": [
      "\u001b[1;31m---------------------------------------------------------------------------\u001b[0m",
      "\u001b[1;31mJSONDecodeError\u001b[0m                           Traceback (most recent call last)",
      "\u001b[1;32m<ipython-input-185-eebf944016c4>\u001b[0m in \u001b[0;36m<module>\u001b[1;34m\u001b[0m\n\u001b[1;32m----> 1\u001b[1;33m \u001b[0mcmc_artist_id\u001b[0m \u001b[1;33m=\u001b[0m \u001b[1;33m[\u001b[0m\u001b[0mcmc_search_artist_spotify\u001b[0m\u001b[1;33m(\u001b[0m\u001b[0mid\u001b[0m\u001b[1;33m)\u001b[0m \u001b[1;32mfor\u001b[0m \u001b[0mid\u001b[0m \u001b[1;32min\u001b[0m \u001b[0mtqdm\u001b[0m\u001b[1;33m(\u001b[0m\u001b[0mdf_cmc_artists\u001b[0m\u001b[1;33m[\u001b[0m\u001b[1;34m'sp_id'\u001b[0m\u001b[1;33m]\u001b[0m\u001b[1;33m)\u001b[0m\u001b[1;33m]\u001b[0m\u001b[1;33m\u001b[0m\u001b[1;33m\u001b[0m\u001b[0m\n\u001b[0m",
      "\u001b[1;32m<ipython-input-185-eebf944016c4>\u001b[0m in \u001b[0;36m<listcomp>\u001b[1;34m(.0)\u001b[0m\n\u001b[1;32m----> 1\u001b[1;33m \u001b[0mcmc_artist_id\u001b[0m \u001b[1;33m=\u001b[0m \u001b[1;33m[\u001b[0m\u001b[0mcmc_search_artist_spotify\u001b[0m\u001b[1;33m(\u001b[0m\u001b[0mid\u001b[0m\u001b[1;33m)\u001b[0m \u001b[1;32mfor\u001b[0m \u001b[0mid\u001b[0m \u001b[1;32min\u001b[0m \u001b[0mtqdm\u001b[0m\u001b[1;33m(\u001b[0m\u001b[0mdf_cmc_artists\u001b[0m\u001b[1;33m[\u001b[0m\u001b[1;34m'sp_id'\u001b[0m\u001b[1;33m]\u001b[0m\u001b[1;33m)\u001b[0m\u001b[1;33m]\u001b[0m\u001b[1;33m\u001b[0m\u001b[1;33m\u001b[0m\u001b[0m\n\u001b[0m",
      "\u001b[1;32m<ipython-input-164-245a03642cfc>\u001b[0m in \u001b[0;36mcmc_search_artist_spotify\u001b[1;34m(query, limit, offset)\u001b[0m\n\u001b[0;32m     19\u001b[0m     \u001b[0mresponse\u001b[0m \u001b[1;33m=\u001b[0m \u001b[0mrequests\u001b[0m\u001b[1;33m.\u001b[0m\u001b[0mget\u001b[0m\u001b[1;33m(\u001b[0m\u001b[0murl\u001b[0m\u001b[1;33m,\u001b[0m \u001b[0mheaders\u001b[0m\u001b[1;33m=\u001b[0m\u001b[0mheaders\u001b[0m\u001b[1;33m)\u001b[0m\u001b[1;33m\u001b[0m\u001b[1;33m\u001b[0m\u001b[0m\n\u001b[0;32m     20\u001b[0m \u001b[1;33m\u001b[0m\u001b[0m\n\u001b[1;32m---> 21\u001b[1;33m     \u001b[1;32mreturn\u001b[0m \u001b[0mresponse\u001b[0m\u001b[1;33m.\u001b[0m\u001b[0mjson\u001b[0m\u001b[1;33m(\u001b[0m\u001b[1;33m)\u001b[0m\u001b[1;33m\u001b[0m\u001b[1;33m\u001b[0m\u001b[0m\n\u001b[0m",
      "\u001b[1;32mc:\\users\\gabsn\\envs\\ds\\lib\\site-packages\\requests\\models.py\u001b[0m in \u001b[0;36mjson\u001b[1;34m(self, **kwargs)\u001b[0m\n\u001b[0;32m    896\u001b[0m                     \u001b[1;31m# used.\u001b[0m\u001b[1;33m\u001b[0m\u001b[1;33m\u001b[0m\u001b[1;33m\u001b[0m\u001b[0m\n\u001b[0;32m    897\u001b[0m                     \u001b[1;32mpass\u001b[0m\u001b[1;33m\u001b[0m\u001b[1;33m\u001b[0m\u001b[0m\n\u001b[1;32m--> 898\u001b[1;33m         \u001b[1;32mreturn\u001b[0m \u001b[0mcomplexjson\u001b[0m\u001b[1;33m.\u001b[0m\u001b[0mloads\u001b[0m\u001b[1;33m(\u001b[0m\u001b[0mself\u001b[0m\u001b[1;33m.\u001b[0m\u001b[0mtext\u001b[0m\u001b[1;33m,\u001b[0m \u001b[1;33m**\u001b[0m\u001b[0mkwargs\u001b[0m\u001b[1;33m)\u001b[0m\u001b[1;33m\u001b[0m\u001b[1;33m\u001b[0m\u001b[0m\n\u001b[0m\u001b[0;32m    899\u001b[0m \u001b[1;33m\u001b[0m\u001b[0m\n\u001b[0;32m    900\u001b[0m     \u001b[1;33m@\u001b[0m\u001b[0mproperty\u001b[0m\u001b[1;33m\u001b[0m\u001b[1;33m\u001b[0m\u001b[0m\n",
      "\u001b[1;32mc:\\users\\gabsn\\appdata\\local\\programs\\python\\python38\\lib\\json\\__init__.py\u001b[0m in \u001b[0;36mloads\u001b[1;34m(s, cls, object_hook, parse_float, parse_int, parse_constant, object_pairs_hook, **kw)\u001b[0m\n\u001b[0;32m    355\u001b[0m             \u001b[0mparse_int\u001b[0m \u001b[1;32mis\u001b[0m \u001b[1;32mNone\u001b[0m \u001b[1;32mand\u001b[0m \u001b[0mparse_float\u001b[0m \u001b[1;32mis\u001b[0m \u001b[1;32mNone\u001b[0m \u001b[1;32mand\u001b[0m\u001b[1;33m\u001b[0m\u001b[1;33m\u001b[0m\u001b[0m\n\u001b[0;32m    356\u001b[0m             parse_constant is None and object_pairs_hook is None and not kw):\n\u001b[1;32m--> 357\u001b[1;33m         \u001b[1;32mreturn\u001b[0m \u001b[0m_default_decoder\u001b[0m\u001b[1;33m.\u001b[0m\u001b[0mdecode\u001b[0m\u001b[1;33m(\u001b[0m\u001b[0ms\u001b[0m\u001b[1;33m)\u001b[0m\u001b[1;33m\u001b[0m\u001b[1;33m\u001b[0m\u001b[0m\n\u001b[0m\u001b[0;32m    358\u001b[0m     \u001b[1;32mif\u001b[0m \u001b[0mcls\u001b[0m \u001b[1;32mis\u001b[0m \u001b[1;32mNone\u001b[0m\u001b[1;33m:\u001b[0m\u001b[1;33m\u001b[0m\u001b[1;33m\u001b[0m\u001b[0m\n\u001b[0;32m    359\u001b[0m         \u001b[0mcls\u001b[0m \u001b[1;33m=\u001b[0m \u001b[0mJSONDecoder\u001b[0m\u001b[1;33m\u001b[0m\u001b[1;33m\u001b[0m\u001b[0m\n",
      "\u001b[1;32mc:\\users\\gabsn\\appdata\\local\\programs\\python\\python38\\lib\\json\\decoder.py\u001b[0m in \u001b[0;36mdecode\u001b[1;34m(self, s, _w)\u001b[0m\n\u001b[0;32m    335\u001b[0m \u001b[1;33m\u001b[0m\u001b[0m\n\u001b[0;32m    336\u001b[0m         \"\"\"\n\u001b[1;32m--> 337\u001b[1;33m         \u001b[0mobj\u001b[0m\u001b[1;33m,\u001b[0m \u001b[0mend\u001b[0m \u001b[1;33m=\u001b[0m \u001b[0mself\u001b[0m\u001b[1;33m.\u001b[0m\u001b[0mraw_decode\u001b[0m\u001b[1;33m(\u001b[0m\u001b[0ms\u001b[0m\u001b[1;33m,\u001b[0m \u001b[0midx\u001b[0m\u001b[1;33m=\u001b[0m\u001b[0m_w\u001b[0m\u001b[1;33m(\u001b[0m\u001b[0ms\u001b[0m\u001b[1;33m,\u001b[0m \u001b[1;36m0\u001b[0m\u001b[1;33m)\u001b[0m\u001b[1;33m.\u001b[0m\u001b[0mend\u001b[0m\u001b[1;33m(\u001b[0m\u001b[1;33m)\u001b[0m\u001b[1;33m)\u001b[0m\u001b[1;33m\u001b[0m\u001b[1;33m\u001b[0m\u001b[0m\n\u001b[0m\u001b[0;32m    338\u001b[0m         \u001b[0mend\u001b[0m \u001b[1;33m=\u001b[0m \u001b[0m_w\u001b[0m\u001b[1;33m(\u001b[0m\u001b[0ms\u001b[0m\u001b[1;33m,\u001b[0m \u001b[0mend\u001b[0m\u001b[1;33m)\u001b[0m\u001b[1;33m.\u001b[0m\u001b[0mend\u001b[0m\u001b[1;33m(\u001b[0m\u001b[1;33m)\u001b[0m\u001b[1;33m\u001b[0m\u001b[1;33m\u001b[0m\u001b[0m\n\u001b[0;32m    339\u001b[0m         \u001b[1;32mif\u001b[0m \u001b[0mend\u001b[0m \u001b[1;33m!=\u001b[0m \u001b[0mlen\u001b[0m\u001b[1;33m(\u001b[0m\u001b[0ms\u001b[0m\u001b[1;33m)\u001b[0m\u001b[1;33m:\u001b[0m\u001b[1;33m\u001b[0m\u001b[1;33m\u001b[0m\u001b[0m\n",
      "\u001b[1;32mc:\\users\\gabsn\\appdata\\local\\programs\\python\\python38\\lib\\json\\decoder.py\u001b[0m in \u001b[0;36mraw_decode\u001b[1;34m(self, s, idx)\u001b[0m\n\u001b[0;32m    353\u001b[0m             \u001b[0mobj\u001b[0m\u001b[1;33m,\u001b[0m \u001b[0mend\u001b[0m \u001b[1;33m=\u001b[0m \u001b[0mself\u001b[0m\u001b[1;33m.\u001b[0m\u001b[0mscan_once\u001b[0m\u001b[1;33m(\u001b[0m\u001b[0ms\u001b[0m\u001b[1;33m,\u001b[0m \u001b[0midx\u001b[0m\u001b[1;33m)\u001b[0m\u001b[1;33m\u001b[0m\u001b[1;33m\u001b[0m\u001b[0m\n\u001b[0;32m    354\u001b[0m         \u001b[1;32mexcept\u001b[0m \u001b[0mStopIteration\u001b[0m \u001b[1;32mas\u001b[0m \u001b[0merr\u001b[0m\u001b[1;33m:\u001b[0m\u001b[1;33m\u001b[0m\u001b[1;33m\u001b[0m\u001b[0m\n\u001b[1;32m--> 355\u001b[1;33m             \u001b[1;32mraise\u001b[0m \u001b[0mJSONDecodeError\u001b[0m\u001b[1;33m(\u001b[0m\u001b[1;34m\"Expecting value\"\u001b[0m\u001b[1;33m,\u001b[0m \u001b[0ms\u001b[0m\u001b[1;33m,\u001b[0m \u001b[0merr\u001b[0m\u001b[1;33m.\u001b[0m\u001b[0mvalue\u001b[0m\u001b[1;33m)\u001b[0m \u001b[1;32mfrom\u001b[0m \u001b[1;32mNone\u001b[0m\u001b[1;33m\u001b[0m\u001b[1;33m\u001b[0m\u001b[0m\n\u001b[0m\u001b[0;32m    356\u001b[0m         \u001b[1;32mreturn\u001b[0m \u001b[0mobj\u001b[0m\u001b[1;33m,\u001b[0m \u001b[0mend\u001b[0m\u001b[1;33m\u001b[0m\u001b[1;33m\u001b[0m\u001b[0m\n",
      "\u001b[1;31mJSONDecodeError\u001b[0m: Expecting value: line 1 column 1 (char 0)"
     ]
    }
   ],
   "source": [
    "cmc_artist_id = [cmc_search_artist_spotify(id) for id in tqdm(df_cmc_artists['sp_id'])]"
   ]
  },
  {
   "cell_type": "code",
   "execution_count": 176,
   "metadata": {
    "ExecuteTime": {
     "end_time": "2020-09-17T01:31:07.728804Z",
     "start_time": "2020-09-17T01:31:07.724817Z"
    }
   },
   "outputs": [],
   "source": [
    "df_cmc_artists['cmc_search'] = cmc_artist_id"
   ]
  },
  {
   "cell_type": "code",
   "execution_count": 177,
   "metadata": {
    "ExecuteTime": {
     "end_time": "2020-09-17T01:31:09.237802Z",
     "start_time": "2020-09-17T01:31:09.227798Z"
    }
   },
   "outputs": [
    {
     "data": {
      "text/html": [
       "<div>\n",
       "<style scoped>\n",
       "    .dataframe tbody tr th:only-of-type {\n",
       "        vertical-align: middle;\n",
       "    }\n",
       "\n",
       "    .dataframe tbody tr th {\n",
       "        vertical-align: top;\n",
       "    }\n",
       "\n",
       "    .dataframe thead th {\n",
       "        text-align: right;\n",
       "    }\n",
       "</style>\n",
       "<table border=\"1\" class=\"dataframe\">\n",
       "  <thead>\n",
       "    <tr style=\"text-align: right;\">\n",
       "      <th></th>\n",
       "      <th>artist</th>\n",
       "      <th>sp_id</th>\n",
       "      <th>sp_genres</th>\n",
       "      <th>sp_popularity</th>\n",
       "      <th>sp_followers</th>\n",
       "      <th>cmc_search</th>\n",
       "    </tr>\n",
       "  </thead>\n",
       "  <tbody>\n",
       "    <tr>\n",
       "      <th>0</th>\n",
       "      <td>Arizona Zervas</td>\n",
       "      <td>0vRvGUQVUjytro0xpb26bs</td>\n",
       "      <td>[pop rap, rap, rhode island rap]</td>\n",
       "      <td>80</td>\n",
       "      <td>486223</td>\n",
       "      <td>{'error': 'jwt expired'}</td>\n",
       "    </tr>\n",
       "    <tr>\n",
       "      <th>1</th>\n",
       "      <td>Doja Cat</td>\n",
       "      <td>5cj0lLjcoR7YOSnhnX0Po5</td>\n",
       "      <td>[la indie, pop]</td>\n",
       "      <td>88</td>\n",
       "      <td>3435338</td>\n",
       "      <td>{'error': 'jwt expired'}</td>\n",
       "    </tr>\n",
       "    <tr>\n",
       "      <th>2</th>\n",
       "      <td>Camila Cabello</td>\n",
       "      <td>4nDoRrQiYLoBzwC5BhVJzF</td>\n",
       "      <td>[dance pop, pop, post-teen pop]</td>\n",
       "      <td>87</td>\n",
       "      <td>17978647</td>\n",
       "      <td>{'error': 'jwt expired'}</td>\n",
       "    </tr>\n",
       "    <tr>\n",
       "      <th>3</th>\n",
       "      <td>DaBaby</td>\n",
       "      <td>4r63FhuTkUYltbVAg5TQnk</td>\n",
       "      <td>[north carolina hip hop, rap]</td>\n",
       "      <td>95</td>\n",
       "      <td>4317753</td>\n",
       "      <td>{'error': 'jwt expired'}</td>\n",
       "    </tr>\n",
       "    <tr>\n",
       "      <th>4</th>\n",
       "      <td>Kid Francescoli</td>\n",
       "      <td>2G7QgTep5IsJHGHm1hXygD</td>\n",
       "      <td>[electronica, french indie pop, french indietr...</td>\n",
       "      <td>61</td>\n",
       "      <td>82230</td>\n",
       "      <td>{'error': 'jwt expired'}</td>\n",
       "    </tr>\n",
       "  </tbody>\n",
       "</table>\n",
       "</div>"
      ],
      "text/plain": [
       "            artist                   sp_id  \\\n",
       "0   Arizona Zervas  0vRvGUQVUjytro0xpb26bs   \n",
       "1         Doja Cat  5cj0lLjcoR7YOSnhnX0Po5   \n",
       "2   Camila Cabello  4nDoRrQiYLoBzwC5BhVJzF   \n",
       "3           DaBaby  4r63FhuTkUYltbVAg5TQnk   \n",
       "4  Kid Francescoli  2G7QgTep5IsJHGHm1hXygD   \n",
       "\n",
       "                                           sp_genres  sp_popularity  \\\n",
       "0                   [pop rap, rap, rhode island rap]             80   \n",
       "1                                    [la indie, pop]             88   \n",
       "2                    [dance pop, pop, post-teen pop]             87   \n",
       "3                      [north carolina hip hop, rap]             95   \n",
       "4  [electronica, french indie pop, french indietr...             61   \n",
       "\n",
       "   sp_followers                cmc_search  \n",
       "0        486223  {'error': 'jwt expired'}  \n",
       "1       3435338  {'error': 'jwt expired'}  \n",
       "2      17978647  {'error': 'jwt expired'}  \n",
       "3       4317753  {'error': 'jwt expired'}  \n",
       "4         82230  {'error': 'jwt expired'}  "
      ]
     },
     "execution_count": 177,
     "metadata": {},
     "output_type": "execute_result"
    }
   ],
   "source": [
    "df_cmc_artists.head()"
   ]
  },
  {
   "cell_type": "markdown",
   "metadata": {},
   "source": [
    "### Get artist metadata"
   ]
  },
  {
   "cell_type": "code",
   "execution_count": 110,
   "metadata": {
    "ExecuteTime": {
     "end_time": "2020-09-16T02:58:01.204723Z",
     "start_time": "2020-09-16T02:58:01.201731Z"
    }
   },
   "outputs": [],
   "source": [
    "def get_cmc_artist_metadata(cmc_id: str):\n",
    "    \n",
    "    \n",
    "    \n",
    "    url = f'https://api.chartmetric.com/api/artist/{cmc_id}'\n",
    "    \n",
    "    headers = {\n",
    "    'Authorization': 'Bearer ' + token\n",
    "    }\n",
    "    \n",
    "    response = requests.get(url, headers=headers)\n",
    "    \n",
    "    return response.json()"
   ]
  },
  {
   "cell_type": "code",
   "execution_count": 111,
   "metadata": {
    "ExecuteTime": {
     "end_time": "2020-09-16T03:01:00.496511Z",
     "start_time": "2020-09-16T02:58:46.075880Z"
    }
   },
   "outputs": [
    {
     "data": {
      "application/vnd.jupyter.widget-view+json": {
       "model_id": "5c5e55b875a44b40b2b2198f99d5091a",
       "version_major": 2,
       "version_minor": 0
      },
      "text/plain": [
       "HBox(children=(FloatProgress(value=0.0, max=83.0), HTML(value='')))"
      ]
     },
     "metadata": {},
     "output_type": "display_data"
    },
    {
     "name": "stdout",
     "output_type": "stream",
     "text": [
      "\n"
     ]
    }
   ],
   "source": [
    "cmc_art_metadata = [get_cmc_artist_metadata(id) for id in tqdm(df_cmc_artists.cmc_art_id)]"
   ]
  },
  {
   "cell_type": "code",
   "execution_count": 112,
   "metadata": {
    "ExecuteTime": {
     "end_time": "2020-09-16T03:01:07.060737Z",
     "start_time": "2020-09-16T03:01:07.033835Z"
    }
   },
   "outputs": [
    {
     "data": {
      "text/html": [
       "<div>\n",
       "<style scoped>\n",
       "    .dataframe tbody tr th:only-of-type {\n",
       "        vertical-align: middle;\n",
       "    }\n",
       "\n",
       "    .dataframe tbody tr th {\n",
       "        vertical-align: top;\n",
       "    }\n",
       "\n",
       "    .dataframe thead th {\n",
       "        text-align: right;\n",
       "    }\n",
       "</style>\n",
       "<table border=\"1\" class=\"dataframe\">\n",
       "  <thead>\n",
       "    <tr style=\"text-align: right;\">\n",
       "      <th></th>\n",
       "      <th>artist</th>\n",
       "      <th>sp_id</th>\n",
       "      <th>spotify_artist</th>\n",
       "      <th>sp_genres</th>\n",
       "      <th>sp_popularity</th>\n",
       "      <th>sp_followers</th>\n",
       "      <th>cmc_search</th>\n",
       "      <th>cmc_art_id</th>\n",
       "      <th>cmc_art_metadata</th>\n",
       "    </tr>\n",
       "  </thead>\n",
       "  <tbody>\n",
       "    <tr>\n",
       "      <th>0</th>\n",
       "      <td>Arizona Zervas</td>\n",
       "      <td>0vRvGUQVUjytro0xpb26bs</td>\n",
       "      <td>{'external_urls': {'spotify': 'https://open.sp...</td>\n",
       "      <td>[pop rap, rap, rhode island rap]</td>\n",
       "      <td>80</td>\n",
       "      <td>485529</td>\n",
       "      <td>{'obj': {'artists': [{'id': 64150, 'name': 'Ar...</td>\n",
       "      <td>64150</td>\n",
       "      <td>{'obj': {'id': 64150, 'name': 'Arizona Zervas'...</td>\n",
       "    </tr>\n",
       "    <tr>\n",
       "      <th>1</th>\n",
       "      <td>Doja Cat</td>\n",
       "      <td>5cj0lLjcoR7YOSnhnX0Po5</td>\n",
       "      <td>{'external_urls': {'spotify': 'https://open.sp...</td>\n",
       "      <td>[la indie, pop]</td>\n",
       "      <td>88</td>\n",
       "      <td>3424764</td>\n",
       "      <td>{'obj': {'artists': [{'id': 217671, 'name': 'D...</td>\n",
       "      <td>217671</td>\n",
       "      <td>{'obj': {'id': 217671, 'name': 'Doja Cat', 'cr...</td>\n",
       "    </tr>\n",
       "    <tr>\n",
       "      <th>2</th>\n",
       "      <td>Camila Cabello</td>\n",
       "      <td>4nDoRrQiYLoBzwC5BhVJzF</td>\n",
       "      <td>{'external_urls': {'spotify': 'https://open.sp...</td>\n",
       "      <td>[dance pop, pop, post-teen pop]</td>\n",
       "      <td>87</td>\n",
       "      <td>17967991</td>\n",
       "      <td>{'obj': {'artists': [{'id': 454302, 'name': 'C...</td>\n",
       "      <td>454302</td>\n",
       "      <td>{'obj': {'id': 454302, 'name': 'Camila Cabello...</td>\n",
       "    </tr>\n",
       "    <tr>\n",
       "      <th>3</th>\n",
       "      <td>DaBaby</td>\n",
       "      <td>4r63FhuTkUYltbVAg5TQnk</td>\n",
       "      <td>{'external_urls': {'spotify': 'https://open.sp...</td>\n",
       "      <td>[north carolina hip hop, rap]</td>\n",
       "      <td>95</td>\n",
       "      <td>4308915</td>\n",
       "      <td>{'obj': {'artists': [{'id': 398544, 'name': 'D...</td>\n",
       "      <td>398544</td>\n",
       "      <td>{'obj': {'id': 398544, 'name': 'DaBaby', 'crea...</td>\n",
       "    </tr>\n",
       "    <tr>\n",
       "      <th>4</th>\n",
       "      <td>Kid Francescoli</td>\n",
       "      <td>2G7QgTep5IsJHGHm1hXygD</td>\n",
       "      <td>{'external_urls': {'spotify': 'https://open.sp...</td>\n",
       "      <td>[electronica, french indie pop, french indietr...</td>\n",
       "      <td>61</td>\n",
       "      <td>82134</td>\n",
       "      <td>{'obj': {'artists': [{'id': 147365, 'name': 'K...</td>\n",
       "      <td>147365</td>\n",
       "      <td>{'obj': {'id': 147365, 'name': 'Kid Francescol...</td>\n",
       "    </tr>\n",
       "  </tbody>\n",
       "</table>\n",
       "</div>"
      ],
      "text/plain": [
       "            artist                   sp_id  \\\n",
       "0   Arizona Zervas  0vRvGUQVUjytro0xpb26bs   \n",
       "1         Doja Cat  5cj0lLjcoR7YOSnhnX0Po5   \n",
       "2   Camila Cabello  4nDoRrQiYLoBzwC5BhVJzF   \n",
       "3           DaBaby  4r63FhuTkUYltbVAg5TQnk   \n",
       "4  Kid Francescoli  2G7QgTep5IsJHGHm1hXygD   \n",
       "\n",
       "                                      spotify_artist  \\\n",
       "0  {'external_urls': {'spotify': 'https://open.sp...   \n",
       "1  {'external_urls': {'spotify': 'https://open.sp...   \n",
       "2  {'external_urls': {'spotify': 'https://open.sp...   \n",
       "3  {'external_urls': {'spotify': 'https://open.sp...   \n",
       "4  {'external_urls': {'spotify': 'https://open.sp...   \n",
       "\n",
       "                                           sp_genres  sp_popularity  \\\n",
       "0                   [pop rap, rap, rhode island rap]             80   \n",
       "1                                    [la indie, pop]             88   \n",
       "2                    [dance pop, pop, post-teen pop]             87   \n",
       "3                      [north carolina hip hop, rap]             95   \n",
       "4  [electronica, french indie pop, french indietr...             61   \n",
       "\n",
       "   sp_followers                                         cmc_search  \\\n",
       "0        485529  {'obj': {'artists': [{'id': 64150, 'name': 'Ar...   \n",
       "1       3424764  {'obj': {'artists': [{'id': 217671, 'name': 'D...   \n",
       "2      17967991  {'obj': {'artists': [{'id': 454302, 'name': 'C...   \n",
       "3       4308915  {'obj': {'artists': [{'id': 398544, 'name': 'D...   \n",
       "4         82134  {'obj': {'artists': [{'id': 147365, 'name': 'K...   \n",
       "\n",
       "   cmc_art_id                                   cmc_art_metadata  \n",
       "0       64150  {'obj': {'id': 64150, 'name': 'Arizona Zervas'...  \n",
       "1      217671  {'obj': {'id': 217671, 'name': 'Doja Cat', 'cr...  \n",
       "2      454302  {'obj': {'id': 454302, 'name': 'Camila Cabello...  \n",
       "3      398544  {'obj': {'id': 398544, 'name': 'DaBaby', 'crea...  \n",
       "4      147365  {'obj': {'id': 147365, 'name': 'Kid Francescol...  "
      ]
     },
     "execution_count": 112,
     "metadata": {},
     "output_type": "execute_result"
    }
   ],
   "source": [
    "df_cmc_artists['cmc_art_metadata'] = cmc_art_metadata\n",
    "df_cmc_artists.head()"
   ]
  },
  {
   "cell_type": "markdown",
   "metadata": {},
   "source": [
    "### Get spotify Monthly Listeners by City"
   ]
  },
  {
   "cell_type": "code",
   "execution_count": 114,
   "metadata": {
    "ExecuteTime": {
     "end_time": "2020-09-16T03:01:30.446205Z",
     "start_time": "2020-09-16T03:01:30.441218Z"
    }
   },
   "outputs": [],
   "source": [
    "def get_cmc_artist_sp_city(cmc_id: str):\n",
    "    \n",
    "    \n",
    "    \n",
    "    url = f'https://api.chartmetric.com/api/artist/{cmc_id}/where-people-listen'\n",
    "    \n",
    "    headers = {\n",
    "    'Authorization': 'Bearer ' + token\n",
    "    }\n",
    "    \n",
    "    response = requests.get(url, headers=headers)\n",
    "    \n",
    "    return response.json()"
   ]
  },
  {
   "cell_type": "code",
   "execution_count": 115,
   "metadata": {
    "ExecuteTime": {
     "end_time": "2020-09-16T03:03:35.849432Z",
     "start_time": "2020-09-16T03:01:38.321931Z"
    }
   },
   "outputs": [
    {
     "data": {
      "application/vnd.jupyter.widget-view+json": {
       "model_id": "ead7baa6ab294e3d9193b7748cc07bce",
       "version_major": 2,
       "version_minor": 0
      },
      "text/plain": [
       "HBox(children=(FloatProgress(value=0.0, max=83.0), HTML(value='')))"
      ]
     },
     "metadata": {},
     "output_type": "display_data"
    },
    {
     "name": "stdout",
     "output_type": "stream",
     "text": [
      "\n"
     ]
    }
   ],
   "source": [
    "cmc_art_sp_city = [get_cmc_artist_sp_city(id) for id in tqdm(df_cmc_artists.cmc_art_id)]"
   ]
  },
  {
   "cell_type": "code",
   "execution_count": 116,
   "metadata": {
    "ExecuteTime": {
     "end_time": "2020-09-16T03:03:38.829537Z",
     "start_time": "2020-09-16T03:03:38.680934Z"
    }
   },
   "outputs": [
    {
     "data": {
      "text/html": [
       "<div>\n",
       "<style scoped>\n",
       "    .dataframe tbody tr th:only-of-type {\n",
       "        vertical-align: middle;\n",
       "    }\n",
       "\n",
       "    .dataframe tbody tr th {\n",
       "        vertical-align: top;\n",
       "    }\n",
       "\n",
       "    .dataframe thead th {\n",
       "        text-align: right;\n",
       "    }\n",
       "</style>\n",
       "<table border=\"1\" class=\"dataframe\">\n",
       "  <thead>\n",
       "    <tr style=\"text-align: right;\">\n",
       "      <th></th>\n",
       "      <th>artist</th>\n",
       "      <th>sp_id</th>\n",
       "      <th>spotify_artist</th>\n",
       "      <th>sp_genres</th>\n",
       "      <th>sp_popularity</th>\n",
       "      <th>sp_followers</th>\n",
       "      <th>cmc_search</th>\n",
       "      <th>cmc_art_id</th>\n",
       "      <th>cmc_art_metadata</th>\n",
       "      <th>cmc_art_sp_city</th>\n",
       "    </tr>\n",
       "  </thead>\n",
       "  <tbody>\n",
       "    <tr>\n",
       "      <th>0</th>\n",
       "      <td>Arizona Zervas</td>\n",
       "      <td>0vRvGUQVUjytro0xpb26bs</td>\n",
       "      <td>{'external_urls': {'spotify': 'https://open.sp...</td>\n",
       "      <td>[pop rap, rap, rhode island rap]</td>\n",
       "      <td>80</td>\n",
       "      <td>485529</td>\n",
       "      <td>{'obj': {'artists': [{'id': 64150, 'name': 'Ar...</td>\n",
       "      <td>64150</td>\n",
       "      <td>{'obj': {'id': 64150, 'name': 'Arizona Zervas'...</td>\n",
       "      <td>{'obj': {'Atlanta': [{'timestp': '2020-03-20T0...</td>\n",
       "    </tr>\n",
       "    <tr>\n",
       "      <th>1</th>\n",
       "      <td>Doja Cat</td>\n",
       "      <td>5cj0lLjcoR7YOSnhnX0Po5</td>\n",
       "      <td>{'external_urls': {'spotify': 'https://open.sp...</td>\n",
       "      <td>[la indie, pop]</td>\n",
       "      <td>88</td>\n",
       "      <td>3424764</td>\n",
       "      <td>{'obj': {'artists': [{'id': 217671, 'name': 'D...</td>\n",
       "      <td>217671</td>\n",
       "      <td>{'obj': {'id': 217671, 'name': 'Doja Cat', 'cr...</td>\n",
       "      <td>{'obj': {'Atlanta': [{'timestp': '2020-03-20T0...</td>\n",
       "    </tr>\n",
       "    <tr>\n",
       "      <th>2</th>\n",
       "      <td>Camila Cabello</td>\n",
       "      <td>4nDoRrQiYLoBzwC5BhVJzF</td>\n",
       "      <td>{'external_urls': {'spotify': 'https://open.sp...</td>\n",
       "      <td>[dance pop, pop, post-teen pop]</td>\n",
       "      <td>87</td>\n",
       "      <td>17967991</td>\n",
       "      <td>{'obj': {'artists': [{'id': 454302, 'name': 'C...</td>\n",
       "      <td>454302</td>\n",
       "      <td>{'obj': {'id': 454302, 'name': 'Camila Cabello...</td>\n",
       "      <td>{'obj': {'Brisbane': [{'timestp': '2020-03-20T...</td>\n",
       "    </tr>\n",
       "    <tr>\n",
       "      <th>3</th>\n",
       "      <td>DaBaby</td>\n",
       "      <td>4r63FhuTkUYltbVAg5TQnk</td>\n",
       "      <td>{'external_urls': {'spotify': 'https://open.sp...</td>\n",
       "      <td>[north carolina hip hop, rap]</td>\n",
       "      <td>95</td>\n",
       "      <td>4308915</td>\n",
       "      <td>{'obj': {'artists': [{'id': 398544, 'name': 'D...</td>\n",
       "      <td>398544</td>\n",
       "      <td>{'obj': {'id': 398544, 'name': 'DaBaby', 'crea...</td>\n",
       "      <td>{'obj': {'Atlanta': [{'timestp': '2020-03-20T0...</td>\n",
       "    </tr>\n",
       "    <tr>\n",
       "      <th>4</th>\n",
       "      <td>Kid Francescoli</td>\n",
       "      <td>2G7QgTep5IsJHGHm1hXygD</td>\n",
       "      <td>{'external_urls': {'spotify': 'https://open.sp...</td>\n",
       "      <td>[electronica, french indie pop, french indietr...</td>\n",
       "      <td>61</td>\n",
       "      <td>82134</td>\n",
       "      <td>{'obj': {'artists': [{'id': 147365, 'name': 'K...</td>\n",
       "      <td>147365</td>\n",
       "      <td>{'obj': {'id': 147365, 'name': 'Kid Francescol...</td>\n",
       "      <td>{'obj': {'Berlin': [{'timestp': '2020-03-20T00...</td>\n",
       "    </tr>\n",
       "  </tbody>\n",
       "</table>\n",
       "</div>"
      ],
      "text/plain": [
       "            artist                   sp_id  \\\n",
       "0   Arizona Zervas  0vRvGUQVUjytro0xpb26bs   \n",
       "1         Doja Cat  5cj0lLjcoR7YOSnhnX0Po5   \n",
       "2   Camila Cabello  4nDoRrQiYLoBzwC5BhVJzF   \n",
       "3           DaBaby  4r63FhuTkUYltbVAg5TQnk   \n",
       "4  Kid Francescoli  2G7QgTep5IsJHGHm1hXygD   \n",
       "\n",
       "                                      spotify_artist  \\\n",
       "0  {'external_urls': {'spotify': 'https://open.sp...   \n",
       "1  {'external_urls': {'spotify': 'https://open.sp...   \n",
       "2  {'external_urls': {'spotify': 'https://open.sp...   \n",
       "3  {'external_urls': {'spotify': 'https://open.sp...   \n",
       "4  {'external_urls': {'spotify': 'https://open.sp...   \n",
       "\n",
       "                                           sp_genres  sp_popularity  \\\n",
       "0                   [pop rap, rap, rhode island rap]             80   \n",
       "1                                    [la indie, pop]             88   \n",
       "2                    [dance pop, pop, post-teen pop]             87   \n",
       "3                      [north carolina hip hop, rap]             95   \n",
       "4  [electronica, french indie pop, french indietr...             61   \n",
       "\n",
       "   sp_followers                                         cmc_search  \\\n",
       "0        485529  {'obj': {'artists': [{'id': 64150, 'name': 'Ar...   \n",
       "1       3424764  {'obj': {'artists': [{'id': 217671, 'name': 'D...   \n",
       "2      17967991  {'obj': {'artists': [{'id': 454302, 'name': 'C...   \n",
       "3       4308915  {'obj': {'artists': [{'id': 398544, 'name': 'D...   \n",
       "4         82134  {'obj': {'artists': [{'id': 147365, 'name': 'K...   \n",
       "\n",
       "   cmc_art_id                                   cmc_art_metadata  \\\n",
       "0       64150  {'obj': {'id': 64150, 'name': 'Arizona Zervas'...   \n",
       "1      217671  {'obj': {'id': 217671, 'name': 'Doja Cat', 'cr...   \n",
       "2      454302  {'obj': {'id': 454302, 'name': 'Camila Cabello...   \n",
       "3      398544  {'obj': {'id': 398544, 'name': 'DaBaby', 'crea...   \n",
       "4      147365  {'obj': {'id': 147365, 'name': 'Kid Francescol...   \n",
       "\n",
       "                                     cmc_art_sp_city  \n",
       "0  {'obj': {'Atlanta': [{'timestp': '2020-03-20T0...  \n",
       "1  {'obj': {'Atlanta': [{'timestp': '2020-03-20T0...  \n",
       "2  {'obj': {'Brisbane': [{'timestp': '2020-03-20T...  \n",
       "3  {'obj': {'Atlanta': [{'timestp': '2020-03-20T0...  \n",
       "4  {'obj': {'Berlin': [{'timestp': '2020-03-20T00...  "
      ]
     },
     "execution_count": 116,
     "metadata": {},
     "output_type": "execute_result"
    }
   ],
   "source": [
    "df_cmc_artists['cmc_art_sp_city'] = cmc_art_sp_city\n",
    "df_cmc_artists.head()"
   ]
  },
  {
   "cell_type": "markdown",
   "metadata": {},
   "source": [
    "## Tiktok Audience Data\n"
   ]
  },
  {
   "cell_type": "code",
   "execution_count": 118,
   "metadata": {
    "ExecuteTime": {
     "end_time": "2020-09-16T03:06:13.606465Z",
     "start_time": "2020-09-16T03:06:13.602509Z"
    }
   },
   "outputs": [],
   "source": [
    "def get_cmc_artist_tiktok_audience_data(cmc_id: str):\n",
    "    \n",
    "    \n",
    "    \n",
    "    url = f'https://api.chartmetric.com/api/artist/{cmc_id}/tiktok-audience-stats'\n",
    "    \n",
    "    headers = {\n",
    "    'Authorization': 'Bearer ' + token\n",
    "    }\n",
    "    \n",
    "    response = requests.get(url, headers=headers)\n",
    "    \n",
    "    return response.json()"
   ]
  },
  {
   "cell_type": "code",
   "execution_count": 119,
   "metadata": {
    "ExecuteTime": {
     "end_time": "2020-09-16T03:08:07.134682Z",
     "start_time": "2020-09-16T03:06:36.217270Z"
    }
   },
   "outputs": [
    {
     "data": {
      "application/vnd.jupyter.widget-view+json": {
       "model_id": "54f9c413dcdd4bfc9f6c21520de14b28",
       "version_major": 2,
       "version_minor": 0
      },
      "text/plain": [
       "HBox(children=(FloatProgress(value=0.0, max=83.0), HTML(value='')))"
      ]
     },
     "metadata": {},
     "output_type": "display_data"
    },
    {
     "name": "stdout",
     "output_type": "stream",
     "text": [
      "\n"
     ]
    }
   ],
   "source": [
    "cmc_art_tiktok_audience = [get_cmc_artist_tiktok_audience_data(id) for id in tqdm(df_cmc_artists.cmc_art_id)]"
   ]
  },
  {
   "cell_type": "code",
   "execution_count": 120,
   "metadata": {
    "ExecuteTime": {
     "end_time": "2020-09-16T03:08:09.863164Z",
     "start_time": "2020-09-16T03:08:09.744449Z"
    },
    "scrolled": false
   },
   "outputs": [
    {
     "data": {
      "text/html": [
       "<div>\n",
       "<style scoped>\n",
       "    .dataframe tbody tr th:only-of-type {\n",
       "        vertical-align: middle;\n",
       "    }\n",
       "\n",
       "    .dataframe tbody tr th {\n",
       "        vertical-align: top;\n",
       "    }\n",
       "\n",
       "    .dataframe thead th {\n",
       "        text-align: right;\n",
       "    }\n",
       "</style>\n",
       "<table border=\"1\" class=\"dataframe\">\n",
       "  <thead>\n",
       "    <tr style=\"text-align: right;\">\n",
       "      <th></th>\n",
       "      <th>artist</th>\n",
       "      <th>sp_id</th>\n",
       "      <th>spotify_artist</th>\n",
       "      <th>sp_genres</th>\n",
       "      <th>sp_popularity</th>\n",
       "      <th>sp_followers</th>\n",
       "      <th>cmc_search</th>\n",
       "      <th>cmc_art_id</th>\n",
       "      <th>cmc_art_metadata</th>\n",
       "      <th>cmc_art_sp_city</th>\n",
       "      <th>cmc_art_tiktok_audience</th>\n",
       "    </tr>\n",
       "  </thead>\n",
       "  <tbody>\n",
       "    <tr>\n",
       "      <th>0</th>\n",
       "      <td>Arizona Zervas</td>\n",
       "      <td>0vRvGUQVUjytro0xpb26bs</td>\n",
       "      <td>{'external_urls': {'spotify': 'https://open.sp...</td>\n",
       "      <td>[pop rap, rap, rhode island rap]</td>\n",
       "      <td>80</td>\n",
       "      <td>485529</td>\n",
       "      <td>{'obj': {'artists': [{'id': 64150, 'name': 'Ar...</td>\n",
       "      <td>64150</td>\n",
       "      <td>{'obj': {'id': 64150, 'name': 'Arizona Zervas'...</td>\n",
       "      <td>{'obj': {'Atlanta': [{'timestp': '2020-03-20T0...</td>\n",
       "      <td>{'obj': {'top_countries': [{'name': 'United St...</td>\n",
       "    </tr>\n",
       "    <tr>\n",
       "      <th>1</th>\n",
       "      <td>Doja Cat</td>\n",
       "      <td>5cj0lLjcoR7YOSnhnX0Po5</td>\n",
       "      <td>{'external_urls': {'spotify': 'https://open.sp...</td>\n",
       "      <td>[la indie, pop]</td>\n",
       "      <td>88</td>\n",
       "      <td>3424764</td>\n",
       "      <td>{'obj': {'artists': [{'id': 217671, 'name': 'D...</td>\n",
       "      <td>217671</td>\n",
       "      <td>{'obj': {'id': 217671, 'name': 'Doja Cat', 'cr...</td>\n",
       "      <td>{'obj': {'Atlanta': [{'timestp': '2020-03-20T0...</td>\n",
       "      <td>{'obj': {'top_countries': [{'name': 'United St...</td>\n",
       "    </tr>\n",
       "    <tr>\n",
       "      <th>2</th>\n",
       "      <td>Camila Cabello</td>\n",
       "      <td>4nDoRrQiYLoBzwC5BhVJzF</td>\n",
       "      <td>{'external_urls': {'spotify': 'https://open.sp...</td>\n",
       "      <td>[dance pop, pop, post-teen pop]</td>\n",
       "      <td>87</td>\n",
       "      <td>17967991</td>\n",
       "      <td>{'obj': {'artists': [{'id': 454302, 'name': 'C...</td>\n",
       "      <td>454302</td>\n",
       "      <td>{'obj': {'id': 454302, 'name': 'Camila Cabello...</td>\n",
       "      <td>{'obj': {'Brisbane': [{'timestp': '2020-03-20T...</td>\n",
       "      <td>{'obj': {'top_countries': [{'name': 'United St...</td>\n",
       "    </tr>\n",
       "    <tr>\n",
       "      <th>3</th>\n",
       "      <td>DaBaby</td>\n",
       "      <td>4r63FhuTkUYltbVAg5TQnk</td>\n",
       "      <td>{'external_urls': {'spotify': 'https://open.sp...</td>\n",
       "      <td>[north carolina hip hop, rap]</td>\n",
       "      <td>95</td>\n",
       "      <td>4308915</td>\n",
       "      <td>{'obj': {'artists': [{'id': 398544, 'name': 'D...</td>\n",
       "      <td>398544</td>\n",
       "      <td>{'obj': {'id': 398544, 'name': 'DaBaby', 'crea...</td>\n",
       "      <td>{'obj': {'Atlanta': [{'timestp': '2020-03-20T0...</td>\n",
       "      <td>{'obj': {'top_countries': [], 'audience_gender...</td>\n",
       "    </tr>\n",
       "    <tr>\n",
       "      <th>4</th>\n",
       "      <td>Kid Francescoli</td>\n",
       "      <td>2G7QgTep5IsJHGHm1hXygD</td>\n",
       "      <td>{'external_urls': {'spotify': 'https://open.sp...</td>\n",
       "      <td>[electronica, french indie pop, french indietr...</td>\n",
       "      <td>61</td>\n",
       "      <td>82134</td>\n",
       "      <td>{'obj': {'artists': [{'id': 147365, 'name': 'K...</td>\n",
       "      <td>147365</td>\n",
       "      <td>{'obj': {'id': 147365, 'name': 'Kid Francescol...</td>\n",
       "      <td>{'obj': {'Berlin': [{'timestp': '2020-03-20T00...</td>\n",
       "      <td>{'obj': {'top_countries': [], 'audience_gender...</td>\n",
       "    </tr>\n",
       "  </tbody>\n",
       "</table>\n",
       "</div>"
      ],
      "text/plain": [
       "            artist                   sp_id  \\\n",
       "0   Arizona Zervas  0vRvGUQVUjytro0xpb26bs   \n",
       "1         Doja Cat  5cj0lLjcoR7YOSnhnX0Po5   \n",
       "2   Camila Cabello  4nDoRrQiYLoBzwC5BhVJzF   \n",
       "3           DaBaby  4r63FhuTkUYltbVAg5TQnk   \n",
       "4  Kid Francescoli  2G7QgTep5IsJHGHm1hXygD   \n",
       "\n",
       "                                      spotify_artist  \\\n",
       "0  {'external_urls': {'spotify': 'https://open.sp...   \n",
       "1  {'external_urls': {'spotify': 'https://open.sp...   \n",
       "2  {'external_urls': {'spotify': 'https://open.sp...   \n",
       "3  {'external_urls': {'spotify': 'https://open.sp...   \n",
       "4  {'external_urls': {'spotify': 'https://open.sp...   \n",
       "\n",
       "                                           sp_genres  sp_popularity  \\\n",
       "0                   [pop rap, rap, rhode island rap]             80   \n",
       "1                                    [la indie, pop]             88   \n",
       "2                    [dance pop, pop, post-teen pop]             87   \n",
       "3                      [north carolina hip hop, rap]             95   \n",
       "4  [electronica, french indie pop, french indietr...             61   \n",
       "\n",
       "   sp_followers                                         cmc_search  \\\n",
       "0        485529  {'obj': {'artists': [{'id': 64150, 'name': 'Ar...   \n",
       "1       3424764  {'obj': {'artists': [{'id': 217671, 'name': 'D...   \n",
       "2      17967991  {'obj': {'artists': [{'id': 454302, 'name': 'C...   \n",
       "3       4308915  {'obj': {'artists': [{'id': 398544, 'name': 'D...   \n",
       "4         82134  {'obj': {'artists': [{'id': 147365, 'name': 'K...   \n",
       "\n",
       "   cmc_art_id                                   cmc_art_metadata  \\\n",
       "0       64150  {'obj': {'id': 64150, 'name': 'Arizona Zervas'...   \n",
       "1      217671  {'obj': {'id': 217671, 'name': 'Doja Cat', 'cr...   \n",
       "2      454302  {'obj': {'id': 454302, 'name': 'Camila Cabello...   \n",
       "3      398544  {'obj': {'id': 398544, 'name': 'DaBaby', 'crea...   \n",
       "4      147365  {'obj': {'id': 147365, 'name': 'Kid Francescol...   \n",
       "\n",
       "                                     cmc_art_sp_city  \\\n",
       "0  {'obj': {'Atlanta': [{'timestp': '2020-03-20T0...   \n",
       "1  {'obj': {'Atlanta': [{'timestp': '2020-03-20T0...   \n",
       "2  {'obj': {'Brisbane': [{'timestp': '2020-03-20T...   \n",
       "3  {'obj': {'Atlanta': [{'timestp': '2020-03-20T0...   \n",
       "4  {'obj': {'Berlin': [{'timestp': '2020-03-20T00...   \n",
       "\n",
       "                             cmc_art_tiktok_audience  \n",
       "0  {'obj': {'top_countries': [{'name': 'United St...  \n",
       "1  {'obj': {'top_countries': [{'name': 'United St...  \n",
       "2  {'obj': {'top_countries': [{'name': 'United St...  \n",
       "3  {'obj': {'top_countries': [], 'audience_gender...  \n",
       "4  {'obj': {'top_countries': [], 'audience_gender...  "
      ]
     },
     "execution_count": 120,
     "metadata": {},
     "output_type": "execute_result"
    }
   ],
   "source": [
    "df_cmc_artists['cmc_art_tiktok_audience'] = cmc_art_tiktok_audience\n",
    "df_cmc_artists.head()"
   ]
  },
  {
   "cell_type": "markdown",
   "metadata": {},
   "source": [
    "### Export dataset"
   ]
  },
  {
   "cell_type": "code",
   "execution_count": null,
   "metadata": {},
   "outputs": [],
   "source": [
    "df_cmc_artists.to_csv('cmc_artists_info.csv', index=False)"
   ]
  },
  {
   "cell_type": "code",
   "execution_count": null,
   "metadata": {},
   "outputs": [],
   "source": [
    "df_teste2 = pd.read_csv('cmc_artists_info.csv')\n",
    "df_teste2"
   ]
  },
  {
   "cell_type": "markdown",
   "metadata": {},
   "source": [
    "# Charts"
   ]
  },
  {
   "cell_type": "code",
   "execution_count": 174,
   "metadata": {
    "ExecuteTime": {
     "end_time": "2020-09-17T01:13:14.958590Z",
     "start_time": "2020-09-17T01:13:14.954569Z"
    }
   },
   "outputs": [],
   "source": [
    "def get_cmc_tiktok_charts(date):\n",
    "    \n",
    "    \n",
    "    \n",
    "    url = f'https://api.chartmetric.com/api/charts/tiktok/tracks?date={date}&interval=weekly'\n",
    "    \n",
    "    headers = {\n",
    "    'Authorization': 'Bearer ' + token\n",
    "    }\n",
    "    \n",
    "    response = requests.get(url, headers=headers)\n",
    "    \n",
    "    return response.json()"
   ]
  },
  {
   "cell_type": "code",
   "execution_count": null,
   "metadata": {},
   "outputs": [],
   "source": [
    "cmc_tiktok_chart = get_cmc_tiktok_charts('2020-09-08')"
   ]
  },
  {
   "cell_type": "code",
   "execution_count": null,
   "metadata": {},
   "outputs": [],
   "source": [
    "df_cmc_chart = pd.DataFrame(cmc_tiktok_chart).reset_index()\n",
    "df_cmc_chart.to_csv('cmc_chart.csv', index=False)"
   ]
  },
  {
   "cell_type": "markdown",
   "metadata": {},
   "source": [
    "# Final Dataframe"
   ]
  },
  {
   "cell_type": "code",
   "execution_count": null,
   "metadata": {},
   "outputs": [],
   "source": []
  },
  {
   "cell_type": "code",
   "execution_count": null,
   "metadata": {},
   "outputs": [],
   "source": []
  },
  {
   "cell_type": "code",
   "execution_count": null,
   "metadata": {},
   "outputs": [],
   "source": []
  },
  {
   "cell_type": "code",
   "execution_count": null,
   "metadata": {},
   "outputs": [],
   "source": []
  },
  {
   "cell_type": "code",
   "execution_count": null,
   "metadata": {},
   "outputs": [],
   "source": []
  },
  {
   "cell_type": "code",
   "execution_count": 103,
   "metadata": {
    "ExecuteTime": {
     "end_time": "2020-09-13T21:46:40.646007Z",
     "start_time": "2020-09-13T21:46:40.627056Z"
    }
   },
   "outputs": [
    {
     "data": {
      "text/html": [
       "<div>\n",
       "<style scoped>\n",
       "    .dataframe tbody tr th:only-of-type {\n",
       "        vertical-align: middle;\n",
       "    }\n",
       "\n",
       "    .dataframe tbody tr th {\n",
       "        vertical-align: top;\n",
       "    }\n",
       "\n",
       "    .dataframe thead th {\n",
       "        text-align: right;\n",
       "    }\n",
       "</style>\n",
       "<table border=\"1\" class=\"dataframe\">\n",
       "  <thead>\n",
       "    <tr style=\"text-align: right;\">\n",
       "      <th></th>\n",
       "      <th>song</th>\n",
       "      <th>artists</th>\n",
       "      <th>artists_list</th>\n",
       "      <th>number_artists</th>\n",
       "      <th>artist_1</th>\n",
       "      <th>artist_2</th>\n",
       "      <th>artist_3</th>\n",
       "      <th>sp_id</th>\n",
       "      <th>sp_duration_ms</th>\n",
       "      <th>sp_popularity</th>\n",
       "      <th>...</th>\n",
       "      <th>sp_loudness</th>\n",
       "      <th>sp_mode</th>\n",
       "      <th>sp_speechiness</th>\n",
       "      <th>sp_acousticness</th>\n",
       "      <th>sp_instrumentalness</th>\n",
       "      <th>sp_liveness</th>\n",
       "      <th>sp_valence</th>\n",
       "      <th>sp_tempo</th>\n",
       "      <th>sp_time_signature</th>\n",
       "      <th>lastfm_tags</th>\n",
       "    </tr>\n",
       "  </thead>\n",
       "  <tbody>\n",
       "    <tr>\n",
       "      <th>0</th>\n",
       "      <td>Roxanne</td>\n",
       "      <td>Arizona Zervas</td>\n",
       "      <td>[Arizona Zervas]</td>\n",
       "      <td>1</td>\n",
       "      <td>Arizona Zervas</td>\n",
       "      <td>no-artist</td>\n",
       "      <td>no-artist</td>\n",
       "      <td>696DnlkuDOXcMAnKlTgXXK</td>\n",
       "      <td>163636</td>\n",
       "      <td>89</td>\n",
       "      <td>...</td>\n",
       "      <td>-5.616</td>\n",
       "      <td>0</td>\n",
       "      <td>0.148</td>\n",
       "      <td>0.0522</td>\n",
       "      <td>0</td>\n",
       "      <td>0.46</td>\n",
       "      <td>0.457</td>\n",
       "      <td>116.735</td>\n",
       "      <td>5</td>\n",
       "      <td>[hip hop]</td>\n",
       "    </tr>\n",
       "    <tr>\n",
       "      <th>1</th>\n",
       "      <td>Say So</td>\n",
       "      <td>Doja Cat</td>\n",
       "      <td>[Doja Cat]</td>\n",
       "      <td>1</td>\n",
       "      <td>Doja Cat</td>\n",
       "      <td>no-artist</td>\n",
       "      <td>no-artist</td>\n",
       "      <td>3Dv1eDb0MEgF93GpLXlucZ</td>\n",
       "      <td>237893</td>\n",
       "      <td>89</td>\n",
       "      <td>...</td>\n",
       "      <td>-4.577</td>\n",
       "      <td>0</td>\n",
       "      <td>0.158</td>\n",
       "      <td>0.256</td>\n",
       "      <td>3.57e-06</td>\n",
       "      <td>0.0904</td>\n",
       "      <td>0.786</td>\n",
       "      <td>110.962</td>\n",
       "      <td>4</td>\n",
       "      <td>[pop, disco, hip hop]</td>\n",
       "    </tr>\n",
       "    <tr>\n",
       "      <th>2</th>\n",
       "      <td>My Oh My</td>\n",
       "      <td>Camila Cabello feat. DaBaby</td>\n",
       "      <td>[Camila Cabello, DaBaby]</td>\n",
       "      <td>2</td>\n",
       "      <td>Camila Cabello</td>\n",
       "      <td>DaBaby</td>\n",
       "      <td>no-artist</td>\n",
       "      <td>3yOlyBJuViE2YSGn3nVE1K</td>\n",
       "      <td>170746</td>\n",
       "      <td>83</td>\n",
       "      <td>...</td>\n",
       "      <td>-6.024</td>\n",
       "      <td>1</td>\n",
       "      <td>0.0296</td>\n",
       "      <td>0.018</td>\n",
       "      <td>1.29e-05</td>\n",
       "      <td>0.0887</td>\n",
       "      <td>0.383</td>\n",
       "      <td>105.046</td>\n",
       "      <td>4</td>\n",
       "      <td>[pop]</td>\n",
       "    </tr>\n",
       "    <tr>\n",
       "      <th>3</th>\n",
       "      <td>Moon</td>\n",
       "      <td>Kid Francescoli</td>\n",
       "      <td>[Kid Francescoli]</td>\n",
       "      <td>1</td>\n",
       "      <td>Kid Francescoli</td>\n",
       "      <td>no-artist</td>\n",
       "      <td>no-artist</td>\n",
       "      <td>24upABZ8A0sAepfu91sEYr</td>\n",
       "      <td>390638</td>\n",
       "      <td>70</td>\n",
       "      <td>...</td>\n",
       "      <td>-10.002</td>\n",
       "      <td>1</td>\n",
       "      <td>0.0345</td>\n",
       "      <td>0.288</td>\n",
       "      <td>0.856</td>\n",
       "      <td>0.102</td>\n",
       "      <td>0.0584</td>\n",
       "      <td>117.986</td>\n",
       "      <td>4</td>\n",
       "      <td>[chillout, indie pop]</td>\n",
       "    </tr>\n",
       "    <tr>\n",
       "      <th>4</th>\n",
       "      <td>Vibe</td>\n",
       "      <td>Cookiee Kawaii</td>\n",
       "      <td>[Cookiee Kawaii]</td>\n",
       "      <td>1</td>\n",
       "      <td>Cookiee Kawaii</td>\n",
       "      <td>no-artist</td>\n",
       "      <td>no-artist</td>\n",
       "      <td>4gOgQTv9RYYFZ1uQNnlk3q</td>\n",
       "      <td>83940</td>\n",
       "      <td>73</td>\n",
       "      <td>...</td>\n",
       "      <td>-8.719</td>\n",
       "      <td>1</td>\n",
       "      <td>0.344</td>\n",
       "      <td>0.0635</td>\n",
       "      <td>0.00932</td>\n",
       "      <td>0.118</td>\n",
       "      <td>0.175</td>\n",
       "      <td>159.947</td>\n",
       "      <td>4</td>\n",
       "      <td>[no-tag]</td>\n",
       "    </tr>\n",
       "  </tbody>\n",
       "</table>\n",
       "<p>5 rows × 25 columns</p>\n",
       "</div>"
      ],
      "text/plain": [
       "       song                      artists              artists_list  \\\n",
       "0   Roxanne               Arizona Zervas          [Arizona Zervas]   \n",
       "1    Say So                     Doja Cat                [Doja Cat]   \n",
       "2  My Oh My  Camila Cabello feat. DaBaby  [Camila Cabello, DaBaby]   \n",
       "3      Moon              Kid Francescoli         [Kid Francescoli]   \n",
       "4      Vibe               Cookiee Kawaii          [Cookiee Kawaii]   \n",
       "\n",
       "   number_artists         artist_1   artist_2   artist_3  \\\n",
       "0               1   Arizona Zervas  no-artist  no-artist   \n",
       "1               1         Doja Cat  no-artist  no-artist   \n",
       "2               2   Camila Cabello     DaBaby  no-artist   \n",
       "3               1  Kid Francescoli  no-artist  no-artist   \n",
       "4               1   Cookiee Kawaii  no-artist  no-artist   \n",
       "\n",
       "                    sp_id sp_duration_ms sp_popularity  ... sp_loudness  \\\n",
       "0  696DnlkuDOXcMAnKlTgXXK         163636            89  ...      -5.616   \n",
       "1  3Dv1eDb0MEgF93GpLXlucZ         237893            89  ...      -4.577   \n",
       "2  3yOlyBJuViE2YSGn3nVE1K         170746            83  ...      -6.024   \n",
       "3  24upABZ8A0sAepfu91sEYr         390638            70  ...     -10.002   \n",
       "4  4gOgQTv9RYYFZ1uQNnlk3q          83940            73  ...      -8.719   \n",
       "\n",
       "  sp_mode sp_speechiness sp_acousticness sp_instrumentalness sp_liveness  \\\n",
       "0       0          0.148          0.0522                   0        0.46   \n",
       "1       0          0.158           0.256            3.57e-06      0.0904   \n",
       "2       1         0.0296           0.018            1.29e-05      0.0887   \n",
       "3       1         0.0345           0.288               0.856       0.102   \n",
       "4       1          0.344          0.0635             0.00932       0.118   \n",
       "\n",
       "  sp_valence sp_tempo sp_time_signature            lastfm_tags  \n",
       "0      0.457  116.735                 5              [hip hop]  \n",
       "1      0.786  110.962                 4  [pop, disco, hip hop]  \n",
       "2      0.383  105.046                 4                  [pop]  \n",
       "3     0.0584  117.986                 4  [chillout, indie pop]  \n",
       "4      0.175  159.947                 4               [no-tag]  \n",
       "\n",
       "[5 rows x 25 columns]"
      ]
     },
     "execution_count": 103,
     "metadata": {},
     "output_type": "execute_result"
    }
   ],
   "source": [
    "'''df = df_base.drop(['spotify_search'], axis=1)\n",
    "df.head()'''"
   ]
  },
  {
   "cell_type": "code",
   "execution_count": null,
   "metadata": {},
   "outputs": [],
   "source": []
  },
  {
   "cell_type": "code",
   "execution_count": null,
   "metadata": {},
   "outputs": [],
   "source": []
  }
 ],
 "metadata": {
  "hide_input": false,
  "kernelspec": {
   "display_name": "Python 3",
   "language": "python",
   "name": "python3"
  },
  "language_info": {
   "codemirror_mode": {
    "name": "ipython",
    "version": 3
   },
   "file_extension": ".py",
   "mimetype": "text/x-python",
   "name": "python",
   "nbconvert_exporter": "python",
   "pygments_lexer": "ipython3",
   "version": "3.8.3"
  },
  "toc": {
   "base_numbering": 1,
   "nav_menu": {},
   "number_sections": true,
   "sideBar": true,
   "skip_h1_title": false,
   "title_cell": "Table of Contents",
   "title_sidebar": "Contents",
   "toc_cell": false,
   "toc_position": {
    "height": "calc(100% - 180px)",
    "left": "10px",
    "top": "150px",
    "width": "384px"
   },
   "toc_section_display": true,
   "toc_window_display": true
  },
  "varInspector": {
   "cols": {
    "lenName": 16,
    "lenType": 16,
    "lenVar": 40
   },
   "kernels_config": {
    "python": {
     "delete_cmd_postfix": "",
     "delete_cmd_prefix": "del ",
     "library": "var_list.py",
     "varRefreshCmd": "print(var_dic_list())"
    },
    "r": {
     "delete_cmd_postfix": ") ",
     "delete_cmd_prefix": "rm(",
     "library": "var_list.r",
     "varRefreshCmd": "cat(var_dic_list()) "
    }
   },
   "position": {
    "height": "390px",
    "left": "582px",
    "right": "20px",
    "top": "231px",
    "width": "800px"
   },
   "types_to_exclude": [
    "module",
    "function",
    "builtin_function_or_method",
    "instance",
    "_Feature"
   ],
   "window_display": false
  }
 },
 "nbformat": 4,
 "nbformat_minor": 4
}
