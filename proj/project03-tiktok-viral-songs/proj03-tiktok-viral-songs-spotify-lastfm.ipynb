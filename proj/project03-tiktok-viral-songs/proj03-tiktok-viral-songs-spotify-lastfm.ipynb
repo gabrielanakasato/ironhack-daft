{
 "cells": [
  {
   "cell_type": "markdown",
   "metadata": {},
   "source": [
    "![Ironhack logo](https://i.imgur.com/1QgrNNw.png)"
   ]
  },
  {
   "cell_type": "markdown",
   "metadata": {},
   "source": [
    "<body>\n",
    "    <p style=\"font-size:28px;text-align:center\"><b>Project 03 | Web Scrapping & API</b></p>\n",
    "</body>"
   ]
  },
  {
   "cell_type": "markdown",
   "metadata": {},
   "source": [
    "# Introduction"
   ]
  },
  {
   "cell_type": "markdown",
   "metadata": {},
   "source": [
    "The objective of the first part of this project was collect data to answer a problem statement, practicing web scrapping and using API.\n",
    "\n",
    "---\n",
    "\n",
    "<body>\n",
    "    <p style=\"font-size:20px\"><b>Problem Statement</b></p>\n",
    "</body>\n",
    "\n",
    "_What some the TikTok viral songs have in common?_\n",
    "\n",
    "---\n",
    "\n",
    "To answer this problem, 69 songs, which were obtained from the **PopSugar** website, were analyzed. The post that contained this list of songs was made in March 27th, 2020 by Hedy Phillips around the same time people started to quarantine, because of the COVIVD-19 pandemic, and people began to use it more to spend their time at home.\n",
    "\n",
    "The sources of information used to gather data were **Spotify**,  **Last.fm** and **MusicBrainz**.\n",
    "\n",
    "---\n",
    "\n",
    "Sources:\n",
    "- Websites:\n",
    "  - PopSugar: https://www.popsugar.com/entertainment/popular-tiktok-songs-47289804?stream_view=1#photo-47289832\n",
    "  - MusicBrainz:https://musicbrainz.org/genres\n",
    " \n",
    "- APIs\n",
    "  - Spotify API: https://developer.spotify.com/\n",
    "  - Spotipy (Spotify API wrapper for Python): https://spotipy.readthedocs.io/en/2.15.0/\n",
    "  - Last.fm API: https://www.last.fm/api\n"
   ]
  },
  {
   "cell_type": "markdown",
   "metadata": {},
   "source": [
    "# Setup"
   ]
  },
  {
   "cell_type": "markdown",
   "metadata": {},
   "source": [
    "## Import"
   ]
  },
  {
   "cell_type": "code",
   "execution_count": 1,
   "metadata": {
    "ExecuteTime": {
     "end_time": "2020-09-14T00:36:08.697023Z",
     "start_time": "2020-09-14T00:36:08.007295Z"
    }
   },
   "outputs": [],
   "source": [
    "import os\n",
    "import re\n",
    "import requests\n",
    "from time import sleep\n",
    "\n",
    "import numpy as np\n",
    "import pandas as pd\n",
    "import spotipy\n",
    "\n",
    "from bs4 import BeautifulSoup\n",
    "from dotenv import load_dotenv, find_dotenv\n",
    "from spotipy.oauth2 import SpotifyClientCredentials, SpotifyOAuth\n",
    "from tqdm.auto import tqdm"
   ]
  },
  {
   "cell_type": "markdown",
   "metadata": {},
   "source": [
    "# Web Scrapping"
   ]
  },
  {
   "cell_type": "markdown",
   "metadata": {},
   "source": [
    "The web scrapping was necessary to collect the following data:\n",
    "\n",
    "<table>\n",
    "  <thead>\n",
    "    <tr>\n",
    "      <th>INFORMATION</th>\n",
    "      <th>SOURCE</th>\n",
    "    </tr>\n",
    "  </thead>\n",
    "  <tbody>\n",
    "    <tr>\n",
    "      <td>69 TikTok viral songs</td>\n",
    "      <td>PopSugar</td>\n",
    "    </tr>\n",
    "    <tr>\n",
    "      <td>Music genres</td>\n",
    "      <td>MusicBrainz</td>\n",
    "    </tr>\n",
    "  </tbody>\n",
    "</table>\n",
    "\n"
   ]
  },
  {
   "cell_type": "markdown",
   "metadata": {},
   "source": [
    "## List of viral songs on TikTok"
   ]
  },
  {
   "cell_type": "markdown",
   "metadata": {},
   "source": [
    "### Get response"
   ]
  },
  {
   "cell_type": "code",
   "execution_count": 2,
   "metadata": {
    "ExecuteTime": {
     "end_time": "2020-09-14T00:36:15.945319Z",
     "start_time": "2020-09-14T00:36:08.697969Z"
    }
   },
   "outputs": [
    {
     "data": {
      "text/plain": [
       "<Response [200]>"
      ]
     },
     "execution_count": 2,
     "metadata": {},
     "output_type": "execute_result"
    }
   ],
   "source": [
    "# Get response from the url and check it\n",
    "url = 'https://www.popsugar.com/entertainment/popular-tiktok-songs-47289804?stream_view=1#photo-47289832'\n",
    "response = requests.get(url)\n",
    "response"
   ]
  },
  {
   "cell_type": "markdown",
   "metadata": {},
   "source": [
    "### Data Collection"
   ]
  },
  {
   "cell_type": "code",
   "execution_count": 3,
   "metadata": {
    "ExecuteTime": {
     "end_time": "2020-09-14T00:36:16.057792Z",
     "start_time": "2020-09-14T00:36:15.947288Z"
    }
   },
   "outputs": [],
   "source": [
    "# Get the content in the url\n",
    "content_popsugar = BeautifulSoup(response.text)\n",
    "\n",
    "# Get the date the post was made\n",
    "popsugar_date = content_popsugar.find('time').text.replace('\\n', '').strip()\n",
    "\n",
    "# Get only the songs and artists\n",
    "popsugar_html = content_popsugar.find_all('span', attrs={'class': 'count-copy'})"
   ]
  },
  {
   "cell_type": "code",
   "execution_count": 4,
   "metadata": {
    "ExecuteTime": {
     "end_time": "2020-09-14T00:36:16.084022Z",
     "start_time": "2020-09-14T00:36:16.060785Z"
    }
   },
   "outputs": [
    {
     "data": {
      "text/html": [
       "<div>\n",
       "<style scoped>\n",
       "    .dataframe tbody tr th:only-of-type {\n",
       "        vertical-align: middle;\n",
       "    }\n",
       "\n",
       "    .dataframe tbody tr th {\n",
       "        vertical-align: top;\n",
       "    }\n",
       "\n",
       "    .dataframe thead th {\n",
       "        text-align: right;\n",
       "    }\n",
       "</style>\n",
       "<table border=\"1\" class=\"dataframe\">\n",
       "  <thead>\n",
       "    <tr style=\"text-align: right;\">\n",
       "      <th></th>\n",
       "      <th>song</th>\n",
       "      <th>artists</th>\n",
       "    </tr>\n",
       "  </thead>\n",
       "  <tbody>\n",
       "    <tr>\n",
       "      <th>0</th>\n",
       "      <td>Roxanne</td>\n",
       "      <td>Arizona Zervas</td>\n",
       "    </tr>\n",
       "    <tr>\n",
       "      <th>1</th>\n",
       "      <td>Say So</td>\n",
       "      <td>Doja Cat</td>\n",
       "    </tr>\n",
       "    <tr>\n",
       "      <th>2</th>\n",
       "      <td>My Oh My</td>\n",
       "      <td>Camila Cabello feat. DaBaby</td>\n",
       "    </tr>\n",
       "    <tr>\n",
       "      <th>3</th>\n",
       "      <td>Moon</td>\n",
       "      <td>Kid Francescoli</td>\n",
       "    </tr>\n",
       "    <tr>\n",
       "      <th>4</th>\n",
       "      <td>Vibe</td>\n",
       "      <td>Cookiee Kawaii</td>\n",
       "    </tr>\n",
       "    <tr>\n",
       "      <th>...</th>\n",
       "      <td>...</td>\n",
       "      <td>...</td>\n",
       "    </tr>\n",
       "    <tr>\n",
       "      <th>64</th>\n",
       "      <td>What the Hell</td>\n",
       "      <td>Avril Lavigne</td>\n",
       "    </tr>\n",
       "    <tr>\n",
       "      <th>65</th>\n",
       "      <td>Towards the Sun</td>\n",
       "      <td>Rihanna</td>\n",
       "    </tr>\n",
       "    <tr>\n",
       "      <th>66</th>\n",
       "      <td>I Think I'm OKAY</td>\n",
       "      <td>Machine Gun Kelly, YUNGBLUD, and Travis Barker</td>\n",
       "    </tr>\n",
       "    <tr>\n",
       "      <th>67</th>\n",
       "      <td>Myself</td>\n",
       "      <td>Bazzi</td>\n",
       "    </tr>\n",
       "    <tr>\n",
       "      <th>68</th>\n",
       "      <td>Stronger</td>\n",
       "      <td>Kanye West</td>\n",
       "    </tr>\n",
       "  </tbody>\n",
       "</table>\n",
       "<p>69 rows × 2 columns</p>\n",
       "</div>"
      ],
      "text/plain": [
       "                song                                         artists\n",
       "0            Roxanne                                  Arizona Zervas\n",
       "1             Say So                                        Doja Cat\n",
       "2           My Oh My                     Camila Cabello feat. DaBaby\n",
       "3               Moon                                 Kid Francescoli\n",
       "4               Vibe                                  Cookiee Kawaii\n",
       "..               ...                                             ...\n",
       "64     What the Hell                                   Avril Lavigne\n",
       "65   Towards the Sun                                         Rihanna\n",
       "66  I Think I'm OKAY  Machine Gun Kelly, YUNGBLUD, and Travis Barker\n",
       "67            Myself                                           Bazzi\n",
       "68          Stronger                                      Kanye West\n",
       "\n",
       "[69 rows x 2 columns]"
      ]
     },
     "execution_count": 4,
     "metadata": {},
     "output_type": "execute_result"
    }
   ],
   "source": [
    "# Conver the list 'html_popsugar' to a Pandas DataFrame\n",
    "df_base = pd.DataFrame([re.split(' by ', song.text.replace('\"', '').strip()) for song in popsugar_html], \n",
    "                       columns=['song', 'artists'])\n",
    "\n",
    "# Check the result\n",
    "df_base"
   ]
  },
  {
   "cell_type": "markdown",
   "metadata": {},
   "source": [
    "### Data Cleaning"
   ]
  },
  {
   "cell_type": "code",
   "execution_count": 5,
   "metadata": {
    "ExecuteTime": {
     "end_time": "2020-09-14T00:36:16.099978Z",
     "start_time": "2020-09-14T00:36:16.087013Z"
    }
   },
   "outputs": [],
   "source": [
    "# Create a column with a list of artists for each song\n",
    "df_base['artists_list'] = [re.split(',* and |, * | [Ff]eat. ', artists.strip()) for artists in df_base.artists]\n",
    "\n",
    "# Create a column with the number of artists for each song\n",
    "df_base['number_artists'] = df_base.artists_list.apply(len)"
   ]
  },
  {
   "cell_type": "code",
   "execution_count": 6,
   "metadata": {
    "ExecuteTime": {
     "end_time": "2020-09-14T00:36:16.107965Z",
     "start_time": "2020-09-14T00:36:16.100978Z"
    },
    "scrolled": true
   },
   "outputs": [
    {
     "data": {
      "text/plain": [
       "1    48\n",
       "2    18\n",
       "3     3\n",
       "Name: number_artists, dtype: int64"
      ]
     },
     "execution_count": 6,
     "metadata": {},
     "output_type": "execute_result"
    }
   ],
   "source": [
    "# Check possible number of artists for one song\n",
    "df_base.number_artists.value_counts()"
   ]
  },
  {
   "cell_type": "markdown",
   "metadata": {},
   "source": [
    "Seeing the result above, the maximum number of artists for a song is 3."
   ]
  },
  {
   "cell_type": "code",
   "execution_count": 7,
   "metadata": {
    "ExecuteTime": {
     "end_time": "2020-09-14T00:36:16.119036Z",
     "start_time": "2020-09-14T00:36:16.111058Z"
    }
   },
   "outputs": [],
   "source": [
    "# Create columns to stores one artist each\n",
    "df_base['artist_1'] = df_base.artists_list.apply(lambda x : x[0] if len(x) >= 1 else 'no-artist')\n",
    "df_base['artist_2'] = df_base.artists_list.apply(lambda x : x[1] if len(x) >= 2 else 'no-artist')\n",
    "df_base['artist_3'] = df_base.artists_list.apply(lambda x : x[2] if len(x) == 3 else 'no-artist')"
   ]
  },
  {
   "cell_type": "code",
   "execution_count": 8,
   "metadata": {
    "ExecuteTime": {
     "end_time": "2020-09-14T00:36:16.132000Z",
     "start_time": "2020-09-14T00:36:16.121030Z"
    }
   },
   "outputs": [
    {
     "data": {
      "text/html": [
       "<div>\n",
       "<style scoped>\n",
       "    .dataframe tbody tr th:only-of-type {\n",
       "        vertical-align: middle;\n",
       "    }\n",
       "\n",
       "    .dataframe tbody tr th {\n",
       "        vertical-align: top;\n",
       "    }\n",
       "\n",
       "    .dataframe thead th {\n",
       "        text-align: right;\n",
       "    }\n",
       "</style>\n",
       "<table border=\"1\" class=\"dataframe\">\n",
       "  <thead>\n",
       "    <tr style=\"text-align: right;\">\n",
       "      <th></th>\n",
       "      <th>song</th>\n",
       "      <th>artists</th>\n",
       "      <th>artists_list</th>\n",
       "      <th>number_artists</th>\n",
       "      <th>artist_1</th>\n",
       "      <th>artist_2</th>\n",
       "      <th>artist_3</th>\n",
       "    </tr>\n",
       "  </thead>\n",
       "  <tbody>\n",
       "    <tr>\n",
       "      <th>0</th>\n",
       "      <td>Roxanne</td>\n",
       "      <td>Arizona Zervas</td>\n",
       "      <td>[Arizona Zervas]</td>\n",
       "      <td>1</td>\n",
       "      <td>Arizona Zervas</td>\n",
       "      <td>no-artist</td>\n",
       "      <td>no-artist</td>\n",
       "    </tr>\n",
       "    <tr>\n",
       "      <th>1</th>\n",
       "      <td>Say So</td>\n",
       "      <td>Doja Cat</td>\n",
       "      <td>[Doja Cat]</td>\n",
       "      <td>1</td>\n",
       "      <td>Doja Cat</td>\n",
       "      <td>no-artist</td>\n",
       "      <td>no-artist</td>\n",
       "    </tr>\n",
       "    <tr>\n",
       "      <th>2</th>\n",
       "      <td>My Oh My</td>\n",
       "      <td>Camila Cabello feat. DaBaby</td>\n",
       "      <td>[Camila Cabello, DaBaby]</td>\n",
       "      <td>2</td>\n",
       "      <td>Camila Cabello</td>\n",
       "      <td>DaBaby</td>\n",
       "      <td>no-artist</td>\n",
       "    </tr>\n",
       "    <tr>\n",
       "      <th>3</th>\n",
       "      <td>Moon</td>\n",
       "      <td>Kid Francescoli</td>\n",
       "      <td>[Kid Francescoli]</td>\n",
       "      <td>1</td>\n",
       "      <td>Kid Francescoli</td>\n",
       "      <td>no-artist</td>\n",
       "      <td>no-artist</td>\n",
       "    </tr>\n",
       "    <tr>\n",
       "      <th>4</th>\n",
       "      <td>Vibe</td>\n",
       "      <td>Cookiee Kawaii</td>\n",
       "      <td>[Cookiee Kawaii]</td>\n",
       "      <td>1</td>\n",
       "      <td>Cookiee Kawaii</td>\n",
       "      <td>no-artist</td>\n",
       "      <td>no-artist</td>\n",
       "    </tr>\n",
       "  </tbody>\n",
       "</table>\n",
       "</div>"
      ],
      "text/plain": [
       "       song                      artists              artists_list  \\\n",
       "0   Roxanne               Arizona Zervas          [Arizona Zervas]   \n",
       "1    Say So                     Doja Cat                [Doja Cat]   \n",
       "2  My Oh My  Camila Cabello feat. DaBaby  [Camila Cabello, DaBaby]   \n",
       "3      Moon              Kid Francescoli         [Kid Francescoli]   \n",
       "4      Vibe               Cookiee Kawaii          [Cookiee Kawaii]   \n",
       "\n",
       "   number_artists         artist_1   artist_2   artist_3  \n",
       "0               1   Arizona Zervas  no-artist  no-artist  \n",
       "1               1         Doja Cat  no-artist  no-artist  \n",
       "2               2   Camila Cabello     DaBaby  no-artist  \n",
       "3               1  Kid Francescoli  no-artist  no-artist  \n",
       "4               1   Cookiee Kawaii  no-artist  no-artist  "
      ]
     },
     "execution_count": 8,
     "metadata": {},
     "output_type": "execute_result"
    }
   ],
   "source": [
    "df_base.head()"
   ]
  },
  {
   "cell_type": "markdown",
   "metadata": {},
   "source": [
    "### Make backup dataframe"
   ]
  },
  {
   "cell_type": "code",
   "execution_count": 9,
   "metadata": {
    "ExecuteTime": {
     "end_time": "2020-09-14T00:36:16.135990Z",
     "start_time": "2020-09-14T00:36:16.132998Z"
    }
   },
   "outputs": [],
   "source": [
    "df_base_raw_bck = df_base.copy()"
   ]
  },
  {
   "cell_type": "markdown",
   "metadata": {},
   "source": [
    "## List of music genre"
   ]
  },
  {
   "cell_type": "markdown",
   "metadata": {},
   "source": [
    "### Get the response"
   ]
  },
  {
   "cell_type": "code",
   "execution_count": 10,
   "metadata": {
    "ExecuteTime": {
     "end_time": "2020-09-14T00:36:17.532435Z",
     "start_time": "2020-09-14T00:36:16.136988Z"
    }
   },
   "outputs": [
    {
     "data": {
      "text/plain": [
       "<Response [200]>"
      ]
     },
     "execution_count": 10,
     "metadata": {},
     "output_type": "execute_result"
    }
   ],
   "source": [
    "# Get response from the url and check it\n",
    "url = 'https://musicbrainz.org/genres'\n",
    "response = requests.get(url)\n",
    "response"
   ]
  },
  {
   "cell_type": "markdown",
   "metadata": {},
   "source": [
    "### Data collection"
   ]
  },
  {
   "cell_type": "code",
   "execution_count": 11,
   "metadata": {
    "ExecuteTime": {
     "end_time": "2020-09-14T00:36:17.562356Z",
     "start_time": "2020-09-14T00:36:17.533443Z"
    },
    "scrolled": true
   },
   "outputs": [],
   "source": [
    "# Get the content in the url\n",
    "musicbrainz_content = BeautifulSoup(response.content)\n",
    "\n",
    "# Create a list with the music genres listed in the url\n",
    "musicbrainz_genre = [genre.text for genre in musicbrainz_content.find_all('bdi')]"
   ]
  },
  {
   "cell_type": "markdown",
   "metadata": {},
   "source": [
    "The data cleaning for this list will be made later."
   ]
  },
  {
   "cell_type": "markdown",
   "metadata": {
    "cell_style": "split"
   },
   "source": [
    "# Spotify"
   ]
  },
  {
   "cell_type": "markdown",
   "metadata": {},
   "source": [
    "From the Spotify and with the Spotipy's help, some data about each song will be gathered. It is relevant to point that there is a possibility that some songs may not be in the Spotify's library."
   ]
  },
  {
   "cell_type": "markdown",
   "metadata": {},
   "source": [
    "## Connecting to the API"
   ]
  },
  {
   "cell_type": "code",
   "execution_count": 12,
   "metadata": {
    "ExecuteTime": {
     "end_time": "2020-09-14T00:36:17.572296Z",
     "start_time": "2020-09-14T00:36:17.564317Z"
    }
   },
   "outputs": [
    {
     "data": {
      "text/plain": [
       "True"
      ]
     },
     "execution_count": 12,
     "metadata": {},
     "output_type": "execute_result"
    }
   ],
   "source": [
    "load_dotenv(find_dotenv())"
   ]
  },
  {
   "cell_type": "code",
   "execution_count": 13,
   "metadata": {
    "ExecuteTime": {
     "end_time": "2020-09-14T00:36:17.578280Z",
     "start_time": "2020-09-14T00:36:17.573328Z"
    }
   },
   "outputs": [],
   "source": [
    "cid = os.getenv('spotify_p03_key')\n",
    "csecret = os.getenv('spotify_p03_secret')\n",
    "cc_manager = SpotifyClientCredentials(client_id=cid, client_secret=csecret)\n",
    "sp = spotipy.Spotify(client_credentials_manager=cc_manager)"
   ]
  },
  {
   "cell_type": "markdown",
   "metadata": {},
   "source": [
    "## Songs"
   ]
  },
  {
   "cell_type": "markdown",
   "metadata": {},
   "source": [
    "### Search information about each song"
   ]
  },
  {
   "cell_type": "code",
   "execution_count": 14,
   "metadata": {
    "ExecuteTime": {
     "end_time": "2020-09-14T00:36:36.890331Z",
     "start_time": "2020-09-14T00:36:17.580274Z"
    }
   },
   "outputs": [
    {
     "data": {
      "application/vnd.jupyter.widget-view+json": {
       "model_id": "7f102b3dba8f463aa1cdb73afe86eca3",
       "version_major": 2,
       "version_minor": 0
      },
      "text/plain": [
       "HBox(children=(FloatProgress(value=0.0, max=69.0), HTML(value='')))"
      ]
     },
     "metadata": {},
     "output_type": "display_data"
    },
    {
     "name": "stdout",
     "output_type": "stream",
     "text": [
      "\n"
     ]
    }
   ],
   "source": [
    "# Search information about each song, using the Spotipy\n",
    "spotify_songs = [sp.search(q=df_base.iloc[index, 0], type='track', limit=50) for index in tqdm(df_base.index)]"
   ]
  },
  {
   "cell_type": "code",
   "execution_count": 15,
   "metadata": {
    "ExecuteTime": {
     "end_time": "2020-09-14T00:36:36.896316Z",
     "start_time": "2020-09-14T00:36:36.891330Z"
    }
   },
   "outputs": [
    {
     "data": {
      "text/plain": [
       "69"
      ]
     },
     "execution_count": 15,
     "metadata": {},
     "output_type": "execute_result"
    }
   ],
   "source": [
    "# Check if there are 69 items in this list\n",
    "len(spotify_songs)"
   ]
  },
  {
   "cell_type": "code",
   "execution_count": 16,
   "metadata": {
    "ExecuteTime": {
     "end_time": "2020-09-14T00:36:36.902301Z",
     "start_time": "2020-09-14T00:36:36.898312Z"
    }
   },
   "outputs": [],
   "source": [
    "# Add a column in the dataframe with the data that were just collected\n",
    "df_base['spotify_search'] = spotify_songs"
   ]
  },
  {
   "cell_type": "code",
   "execution_count": 17,
   "metadata": {
    "ExecuteTime": {
     "end_time": "2020-09-14T00:36:36.943246Z",
     "start_time": "2020-09-14T00:36:36.904295Z"
    }
   },
   "outputs": [
    {
     "data": {
      "text/html": [
       "<div>\n",
       "<style scoped>\n",
       "    .dataframe tbody tr th:only-of-type {\n",
       "        vertical-align: middle;\n",
       "    }\n",
       "\n",
       "    .dataframe tbody tr th {\n",
       "        vertical-align: top;\n",
       "    }\n",
       "\n",
       "    .dataframe thead th {\n",
       "        text-align: right;\n",
       "    }\n",
       "</style>\n",
       "<table border=\"1\" class=\"dataframe\">\n",
       "  <thead>\n",
       "    <tr style=\"text-align: right;\">\n",
       "      <th></th>\n",
       "      <th>song</th>\n",
       "      <th>artists</th>\n",
       "      <th>artists_list</th>\n",
       "      <th>number_artists</th>\n",
       "      <th>artist_1</th>\n",
       "      <th>artist_2</th>\n",
       "      <th>artist_3</th>\n",
       "      <th>spotify_search</th>\n",
       "    </tr>\n",
       "  </thead>\n",
       "  <tbody>\n",
       "    <tr>\n",
       "      <th>0</th>\n",
       "      <td>Roxanne</td>\n",
       "      <td>Arizona Zervas</td>\n",
       "      <td>[Arizona Zervas]</td>\n",
       "      <td>1</td>\n",
       "      <td>Arizona Zervas</td>\n",
       "      <td>no-artist</td>\n",
       "      <td>no-artist</td>\n",
       "      <td>{'tracks': {'href': 'https://api.spotify.com/v...</td>\n",
       "    </tr>\n",
       "    <tr>\n",
       "      <th>1</th>\n",
       "      <td>Say So</td>\n",
       "      <td>Doja Cat</td>\n",
       "      <td>[Doja Cat]</td>\n",
       "      <td>1</td>\n",
       "      <td>Doja Cat</td>\n",
       "      <td>no-artist</td>\n",
       "      <td>no-artist</td>\n",
       "      <td>{'tracks': {'href': 'https://api.spotify.com/v...</td>\n",
       "    </tr>\n",
       "    <tr>\n",
       "      <th>2</th>\n",
       "      <td>My Oh My</td>\n",
       "      <td>Camila Cabello feat. DaBaby</td>\n",
       "      <td>[Camila Cabello, DaBaby]</td>\n",
       "      <td>2</td>\n",
       "      <td>Camila Cabello</td>\n",
       "      <td>DaBaby</td>\n",
       "      <td>no-artist</td>\n",
       "      <td>{'tracks': {'href': 'https://api.spotify.com/v...</td>\n",
       "    </tr>\n",
       "    <tr>\n",
       "      <th>3</th>\n",
       "      <td>Moon</td>\n",
       "      <td>Kid Francescoli</td>\n",
       "      <td>[Kid Francescoli]</td>\n",
       "      <td>1</td>\n",
       "      <td>Kid Francescoli</td>\n",
       "      <td>no-artist</td>\n",
       "      <td>no-artist</td>\n",
       "      <td>{'tracks': {'href': 'https://api.spotify.com/v...</td>\n",
       "    </tr>\n",
       "    <tr>\n",
       "      <th>4</th>\n",
       "      <td>Vibe</td>\n",
       "      <td>Cookiee Kawaii</td>\n",
       "      <td>[Cookiee Kawaii]</td>\n",
       "      <td>1</td>\n",
       "      <td>Cookiee Kawaii</td>\n",
       "      <td>no-artist</td>\n",
       "      <td>no-artist</td>\n",
       "      <td>{'tracks': {'href': 'https://api.spotify.com/v...</td>\n",
       "    </tr>\n",
       "  </tbody>\n",
       "</table>\n",
       "</div>"
      ],
      "text/plain": [
       "       song                      artists              artists_list  \\\n",
       "0   Roxanne               Arizona Zervas          [Arizona Zervas]   \n",
       "1    Say So                     Doja Cat                [Doja Cat]   \n",
       "2  My Oh My  Camila Cabello feat. DaBaby  [Camila Cabello, DaBaby]   \n",
       "3      Moon              Kid Francescoli         [Kid Francescoli]   \n",
       "4      Vibe               Cookiee Kawaii          [Cookiee Kawaii]   \n",
       "\n",
       "   number_artists         artist_1   artist_2   artist_3  \\\n",
       "0               1   Arizona Zervas  no-artist  no-artist   \n",
       "1               1         Doja Cat  no-artist  no-artist   \n",
       "2               2   Camila Cabello     DaBaby  no-artist   \n",
       "3               1  Kid Francescoli  no-artist  no-artist   \n",
       "4               1   Cookiee Kawaii  no-artist  no-artist   \n",
       "\n",
       "                                      spotify_search  \n",
       "0  {'tracks': {'href': 'https://api.spotify.com/v...  \n",
       "1  {'tracks': {'href': 'https://api.spotify.com/v...  \n",
       "2  {'tracks': {'href': 'https://api.spotify.com/v...  \n",
       "3  {'tracks': {'href': 'https://api.spotify.com/v...  \n",
       "4  {'tracks': {'href': 'https://api.spotify.com/v...  "
      ]
     },
     "execution_count": 17,
     "metadata": {},
     "output_type": "execute_result"
    }
   ],
   "source": [
    "# Check the result\n",
    "df_base.head()"
   ]
  },
  {
   "cell_type": "code",
   "execution_count": 18,
   "metadata": {
    "ExecuteTime": {
     "end_time": "2020-09-14T00:36:54.201489Z",
     "start_time": "2020-09-14T00:36:54.190494Z"
    }
   },
   "outputs": [],
   "source": [
    "# Function to add new information in a copy of the dataframe\n",
    "def get_spotify_track_info(df):\n",
    "    \n",
    "    '''\n",
    "    Filters some data of the songs and adds them to a copy of the dataframe\n",
    "    \n",
    "    Args:\n",
    "    -----\n",
    "        df (Pandas DataFrame): a dataframe containing the songs and their artists\n",
    "    \n",
    "    Returns:\n",
    "    --------\n",
    "        df_copy (Pandas DataFrame): a copy of the dataframe with some new information appended\n",
    "    '''\n",
    "    \n",
    "    # Create auxiliary empty lists (final lists)\n",
    "    list_spotify_track_id = []\n",
    "    list_spotify_track_duration = []\n",
    "    list_spotify_track_popularity = []\n",
    "    list_spotify_album_release_date = []\n",
    "    list_spotify_track_explicit = []\n",
    "    \n",
    "    # Check for each row of the dataframe\n",
    "    for index in df.index:\n",
    "        \n",
    "        # Information necessary from the dataframe to use during the process\n",
    "        song_name = df.iloc[index, 0].lower()\n",
    "        artists_list = [artist.lower() for artist in df.iloc[index, 2]]\n",
    "        total_artists = df.iloc[index, 3]\n",
    "        mask = df.iloc[index, 7]['tracks']['items']\n",
    "        \n",
    "        # If the track was not found in the Spotify library, a 'not-found' string is added to the final lists\n",
    "        if len(mask) == 0:\n",
    "            list_spotify_track_id.append('not-found')\n",
    "            list_spotify_track_duration.append('not-found')\n",
    "            list_spotify_track_popularity.append('not-found')\n",
    "            list_spotify_album_release_date.append('not-found')\n",
    "            list_spotify_track_explicit.append('not-found')\n",
    "            #print(f'{index} - {song_name} - NOT FOUND')\n",
    "        \n",
    "        # If the track was found in the Spotify\n",
    "        else:\n",
    "            \n",
    "            # Variable necessary to check if the information about a song has been added to the final lists\n",
    "            added = 0\n",
    "            \n",
    "            # For each track it was listed 50 tracks related to the query \n",
    "            for idx, each_found in enumerate(mask):\n",
    "                \n",
    "                # Information necessary from the Spotify API to use during the process\n",
    "                track_name = mask[idx]['name'].lower()\n",
    "                track_id = mask[idx]['id']\n",
    "                track_duration = mask[idx]['duration_ms']\n",
    "                track_popularity = mask[idx]['popularity']\n",
    "                album_release_date = mask[idx]['album']['release_date']\n",
    "                track_explicit = mask[idx]['explicit']\n",
    "                n_artists = len(mask[idx]['artists'])\n",
    "                first_artist_name = mask[idx]['artists'][0]['name'].lower()\n",
    "            \n",
    "                # Check if the name of the song, the artists from both sources match and if an information about the\n",
    "                # song has been added to the final lists \n",
    "                if ((song_name in track_name) & (total_artists == n_artists) & (first_artist_name in artists_list)\n",
    "                    & (added == 0)):\n",
    "                    list_spotify_track_id.append(track_id)\n",
    "                    list_spotify_track_duration.append(track_duration)\n",
    "                    list_spotify_track_popularity.append(track_popularity)\n",
    "                    list_spotify_album_release_date.append(album_release_date)\n",
    "                    list_spotify_track_explicit.append(track_explicit)\n",
    "                    added += 1\n",
    "                    #print(f'{index} - {track_name} - {track_id}')\n",
    "                \n",
    "                # If the track found in the search is not a math, itis the last one and information about the track \n",
    "                # has not been added to the final list, then add a 'not-found' string to the final lists\n",
    "                elif (idx == len(mask) - 1) & (added == 0):\n",
    "                    list_spotify_track_id.append('not-found')\n",
    "                    list_spotify_track_duration.append('not-found')\n",
    "                    list_spotify_track_popularity.append('not-found')\n",
    "                    list_spotify_album_release_date.append('not-found')\n",
    "                    list_spotify_track_explicit.append('not-found')\n",
    "                    #print(f'{index} - {song_name} - NOT FOUND')\n",
    "    \n",
    "    # Make a copy of the dataframe\n",
    "    df_copy = df.copy()\n",
    "    \n",
    "    # Add columns with the desired information\n",
    "    # Not an inplace process\n",
    "    df_copy['sp_id'] = list_spotify_track_id\n",
    "    df_copy['sp_duration_ms'] = list_spotify_track_duration\n",
    "    df_copy['sp_popularity'] = list_spotify_track_popularity\n",
    "    df_copy['sp_release_date'] = list_spotify_album_release_date\n",
    "    df_copy['sp_explicit'] = list_spotify_track_explicit\n",
    "                    \n",
    "    return df_copy"
   ]
  },
  {
   "cell_type": "code",
   "execution_count": 21,
   "metadata": {
    "ExecuteTime": {
     "end_time": "2020-09-14T00:37:25.294473Z",
     "start_time": "2020-09-14T00:37:25.233620Z"
    }
   },
   "outputs": [
    {
     "data": {
      "text/html": [
       "<div>\n",
       "<style scoped>\n",
       "    .dataframe tbody tr th:only-of-type {\n",
       "        vertical-align: middle;\n",
       "    }\n",
       "\n",
       "    .dataframe tbody tr th {\n",
       "        vertical-align: top;\n",
       "    }\n",
       "\n",
       "    .dataframe thead th {\n",
       "        text-align: right;\n",
       "    }\n",
       "</style>\n",
       "<table border=\"1\" class=\"dataframe\">\n",
       "  <thead>\n",
       "    <tr style=\"text-align: right;\">\n",
       "      <th></th>\n",
       "      <th>song</th>\n",
       "      <th>artists</th>\n",
       "      <th>artists_list</th>\n",
       "      <th>number_artists</th>\n",
       "      <th>artist_1</th>\n",
       "      <th>artist_2</th>\n",
       "      <th>artist_3</th>\n",
       "      <th>spotify_search</th>\n",
       "      <th>sp_id</th>\n",
       "      <th>sp_duration_ms</th>\n",
       "      <th>sp_popularity</th>\n",
       "      <th>sp_release_date</th>\n",
       "      <th>sp_explicit</th>\n",
       "    </tr>\n",
       "  </thead>\n",
       "  <tbody>\n",
       "    <tr>\n",
       "      <th>0</th>\n",
       "      <td>Roxanne</td>\n",
       "      <td>Arizona Zervas</td>\n",
       "      <td>[Arizona Zervas]</td>\n",
       "      <td>1</td>\n",
       "      <td>Arizona Zervas</td>\n",
       "      <td>no-artist</td>\n",
       "      <td>no-artist</td>\n",
       "      <td>{'tracks': {'href': 'https://api.spotify.com/v...</td>\n",
       "      <td>696DnlkuDOXcMAnKlTgXXK</td>\n",
       "      <td>163636</td>\n",
       "      <td>89</td>\n",
       "      <td>2019-10-10</td>\n",
       "      <td>True</td>\n",
       "    </tr>\n",
       "    <tr>\n",
       "      <th>1</th>\n",
       "      <td>Say So</td>\n",
       "      <td>Doja Cat</td>\n",
       "      <td>[Doja Cat]</td>\n",
       "      <td>1</td>\n",
       "      <td>Doja Cat</td>\n",
       "      <td>no-artist</td>\n",
       "      <td>no-artist</td>\n",
       "      <td>{'tracks': {'href': 'https://api.spotify.com/v...</td>\n",
       "      <td>3Dv1eDb0MEgF93GpLXlucZ</td>\n",
       "      <td>237893</td>\n",
       "      <td>89</td>\n",
       "      <td>2019-11-07</td>\n",
       "      <td>True</td>\n",
       "    </tr>\n",
       "    <tr>\n",
       "      <th>2</th>\n",
       "      <td>My Oh My</td>\n",
       "      <td>Camila Cabello feat. DaBaby</td>\n",
       "      <td>[Camila Cabello, DaBaby]</td>\n",
       "      <td>2</td>\n",
       "      <td>Camila Cabello</td>\n",
       "      <td>DaBaby</td>\n",
       "      <td>no-artist</td>\n",
       "      <td>{'tracks': {'href': 'https://api.spotify.com/v...</td>\n",
       "      <td>3yOlyBJuViE2YSGn3nVE1K</td>\n",
       "      <td>170746</td>\n",
       "      <td>83</td>\n",
       "      <td>2019-12-06</td>\n",
       "      <td>False</td>\n",
       "    </tr>\n",
       "    <tr>\n",
       "      <th>3</th>\n",
       "      <td>Moon</td>\n",
       "      <td>Kid Francescoli</td>\n",
       "      <td>[Kid Francescoli]</td>\n",
       "      <td>1</td>\n",
       "      <td>Kid Francescoli</td>\n",
       "      <td>no-artist</td>\n",
       "      <td>no-artist</td>\n",
       "      <td>{'tracks': {'href': 'https://api.spotify.com/v...</td>\n",
       "      <td>24upABZ8A0sAepfu91sEYr</td>\n",
       "      <td>390638</td>\n",
       "      <td>70</td>\n",
       "      <td>2017-03-03</td>\n",
       "      <td>False</td>\n",
       "    </tr>\n",
       "    <tr>\n",
       "      <th>4</th>\n",
       "      <td>Vibe</td>\n",
       "      <td>Cookiee Kawaii</td>\n",
       "      <td>[Cookiee Kawaii]</td>\n",
       "      <td>1</td>\n",
       "      <td>Cookiee Kawaii</td>\n",
       "      <td>no-artist</td>\n",
       "      <td>no-artist</td>\n",
       "      <td>{'tracks': {'href': 'https://api.spotify.com/v...</td>\n",
       "      <td>4gOgQTv9RYYFZ1uQNnlk3q</td>\n",
       "      <td>83940</td>\n",
       "      <td>73</td>\n",
       "      <td>2019-03-29</td>\n",
       "      <td>True</td>\n",
       "    </tr>\n",
       "  </tbody>\n",
       "</table>\n",
       "</div>"
      ],
      "text/plain": [
       "       song                      artists              artists_list  \\\n",
       "0   Roxanne               Arizona Zervas          [Arizona Zervas]   \n",
       "1    Say So                     Doja Cat                [Doja Cat]   \n",
       "2  My Oh My  Camila Cabello feat. DaBaby  [Camila Cabello, DaBaby]   \n",
       "3      Moon              Kid Francescoli         [Kid Francescoli]   \n",
       "4      Vibe               Cookiee Kawaii          [Cookiee Kawaii]   \n",
       "\n",
       "   number_artists         artist_1   artist_2   artist_3  \\\n",
       "0               1   Arizona Zervas  no-artist  no-artist   \n",
       "1               1         Doja Cat  no-artist  no-artist   \n",
       "2               2   Camila Cabello     DaBaby  no-artist   \n",
       "3               1  Kid Francescoli  no-artist  no-artist   \n",
       "4               1   Cookiee Kawaii  no-artist  no-artist   \n",
       "\n",
       "                                      spotify_search                   sp_id  \\\n",
       "0  {'tracks': {'href': 'https://api.spotify.com/v...  696DnlkuDOXcMAnKlTgXXK   \n",
       "1  {'tracks': {'href': 'https://api.spotify.com/v...  3Dv1eDb0MEgF93GpLXlucZ   \n",
       "2  {'tracks': {'href': 'https://api.spotify.com/v...  3yOlyBJuViE2YSGn3nVE1K   \n",
       "3  {'tracks': {'href': 'https://api.spotify.com/v...  24upABZ8A0sAepfu91sEYr   \n",
       "4  {'tracks': {'href': 'https://api.spotify.com/v...  4gOgQTv9RYYFZ1uQNnlk3q   \n",
       "\n",
       "  sp_duration_ms sp_popularity sp_release_date sp_explicit  \n",
       "0         163636            89      2019-10-10        True  \n",
       "1         237893            89      2019-11-07        True  \n",
       "2         170746            83      2019-12-06       False  \n",
       "3         390638            70      2017-03-03       False  \n",
       "4          83940            73      2019-03-29        True  "
      ]
     },
     "execution_count": 21,
     "metadata": {},
     "output_type": "execute_result"
    }
   ],
   "source": [
    "# Add desired information to the dataframe\n",
    "df_base = get_spotify_track_info(df_base)\n",
    "\n",
    "# Check the result\n",
    "df_base.head()"
   ]
  },
  {
   "cell_type": "markdown",
   "metadata": {},
   "source": [
    "### Find the audio features for each song"
   ]
  },
  {
   "cell_type": "code",
   "execution_count": 22,
   "metadata": {
    "ExecuteTime": {
     "end_time": "2020-09-14T00:37:49.781452Z",
     "start_time": "2020-09-14T00:37:37.882068Z"
    }
   },
   "outputs": [
    {
     "data": {
      "application/vnd.jupyter.widget-view+json": {
       "model_id": "c83cdf85bcef4ec88c81c4984610ce93",
       "version_major": 2,
       "version_minor": 0
      },
      "text/plain": [
       "HBox(children=(FloatProgress(value=0.0, max=69.0), HTML(value='')))"
      ]
     },
     "metadata": {},
     "output_type": "display_data"
    },
    {
     "name": "stdout",
     "output_type": "stream",
     "text": [
      "\n"
     ]
    }
   ],
   "source": [
    "# Search in the API wrapper\n",
    "spotify_audio_features = [sp.audio_features(track_id)  if track_id != 'not-found'else 'not-found' \n",
    "                          for track_id in tqdm(df_base.sp_id)]"
   ]
  },
  {
   "cell_type": "code",
   "execution_count": 23,
   "metadata": {
    "ExecuteTime": {
     "end_time": "2020-09-14T00:37:58.708439Z",
     "start_time": "2020-09-14T00:37:58.704414Z"
    }
   },
   "outputs": [
    {
     "data": {
      "text/plain": [
       "69"
      ]
     },
     "execution_count": 23,
     "metadata": {},
     "output_type": "execute_result"
    }
   ],
   "source": [
    "# Check if there are 69 items in this list\n",
    "len(spotify_audio_features)"
   ]
  },
  {
   "cell_type": "code",
   "execution_count": 24,
   "metadata": {
    "ExecuteTime": {
     "end_time": "2020-09-14T00:42:25.652246Z",
     "start_time": "2020-09-14T00:42:25.641224Z"
    }
   },
   "outputs": [],
   "source": [
    "# Function to add new information in a copy of the dataframe\n",
    "def get_spotify_audio_features(df, audio_features: list):\n",
    "    \n",
    "    '''\n",
    "    Adds new information from a list to a copy of the dataframe\n",
    "    \n",
    "    Args:\n",
    "    -----\n",
    "        df (Pandas DataFrame): a dataframe containing the songs and their artists\n",
    "    \n",
    "    Returns:\n",
    "    --------\n",
    "        df_copy (Pandas DataFrame): a copy of the dataframe with some new information appended\n",
    "    '''\n",
    "    \n",
    "    # Create auxiliary empty lists (final lists)\n",
    "    list_danceability = []\n",
    "    list_energy = []\n",
    "    list_key = []\n",
    "    list_loudness = []\n",
    "    list_mode = []\n",
    "    list_speechiness = []\n",
    "    list_acousticness = []\n",
    "    list_instrumentalness = []\n",
    "    list_liveness = []\n",
    "    list_valence = []\n",
    "    list_tempo = []\n",
    "    list_time_signature = []\n",
    "    \n",
    "    # Check for each row of the dataframe\n",
    "    for index in df.index:\n",
    "        \n",
    "        # Get the track's Spotify id\n",
    "        track_id = df.iloc[index, 8]\n",
    "        \n",
    "        # If the track was not found in the Spotify library, a 'not-found' string is added to the final lists\n",
    "        if track_id == 'not-found':\n",
    "            \n",
    "            list_danceability.append('not-found')\n",
    "            list_energy.append('not-found')\n",
    "            list_key.append('not-found')\n",
    "            list_loudness.append('not-found')\n",
    "            list_mode.append('not-found')\n",
    "            list_speechiness.append('not-found')\n",
    "            list_acousticness.append('not-found')\n",
    "            list_instrumentalness.append('not-found')\n",
    "            list_liveness.append('not-found')\n",
    "            list_valence.append('not-found')\n",
    "            list_tempo.append('not-found')\n",
    "            list_time_signature.append('not-found')\n",
    "    \n",
    "        # If the track was found in the Spotify library\n",
    "        else:\n",
    "            \n",
    "            # Add the information to the final lists\n",
    "            list_danceability.append(audio_features[index][0]['danceability'])\n",
    "            list_energy.append(audio_features[index][0]['energy'])\n",
    "            list_key.append(audio_features[index][0]['key'])\n",
    "            list_loudness.append(audio_features[index][0]['loudness'])\n",
    "            list_mode.append(audio_features[index][0]['mode'])\n",
    "            list_speechiness.append(audio_features[index][0]['speechiness'])\n",
    "            list_acousticness.append(audio_features[index][0]['acousticness'])\n",
    "            list_instrumentalness.append(audio_features[index][0]['instrumentalness'])\n",
    "            list_liveness.append(audio_features[index][0]['liveness'])\n",
    "            list_valence.append(audio_features[index][0]['valence'])\n",
    "            list_tempo.append(audio_features[index][0]['tempo'])\n",
    "            list_time_signature.append(audio_features[index][0]['time_signature'])\n",
    "     \n",
    "     # Make a copy of the dataframe\n",
    "    df_copy = df.copy()\n",
    "    \n",
    "    # Add columns with the desired information\n",
    "    # Not an inplace process\n",
    "    df_copy['sp_danceability'] = list_danceability\n",
    "    df_copy['sp_energy'] = list_energy\n",
    "    df_copy['sp_key'] = list_key\n",
    "    df_copy['sp_loudness'] = list_loudness\n",
    "    df_copy['sp_mode'] = list_mode\n",
    "    df_copy['sp_speechiness'] = list_speechiness\n",
    "    df_copy['sp_acousticness'] = list_acousticness\n",
    "    df_copy['sp_instrumentalness'] = list_instrumentalness\n",
    "    df_copy['sp_liveness'] = list_liveness\n",
    "    df_copy['sp_valence'] = list_valence\n",
    "    df_copy['sp_tempo'] = list_tempo\n",
    "    df_copy['sp_time_signature'] = list_time_signature\n",
    "    \n",
    "    return df_copy"
   ]
  },
  {
   "cell_type": "code",
   "execution_count": 26,
   "metadata": {
    "ExecuteTime": {
     "end_time": "2020-09-14T00:42:34.083663Z",
     "start_time": "2020-09-14T00:42:34.032799Z"
    }
   },
   "outputs": [
    {
     "data": {
      "text/html": [
       "<div>\n",
       "<style scoped>\n",
       "    .dataframe tbody tr th:only-of-type {\n",
       "        vertical-align: middle;\n",
       "    }\n",
       "\n",
       "    .dataframe tbody tr th {\n",
       "        vertical-align: top;\n",
       "    }\n",
       "\n",
       "    .dataframe thead th {\n",
       "        text-align: right;\n",
       "    }\n",
       "</style>\n",
       "<table border=\"1\" class=\"dataframe\">\n",
       "  <thead>\n",
       "    <tr style=\"text-align: right;\">\n",
       "      <th></th>\n",
       "      <th>song</th>\n",
       "      <th>artists</th>\n",
       "      <th>artists_list</th>\n",
       "      <th>number_artists</th>\n",
       "      <th>artist_1</th>\n",
       "      <th>artist_2</th>\n",
       "      <th>artist_3</th>\n",
       "      <th>spotify_search</th>\n",
       "      <th>sp_id</th>\n",
       "      <th>sp_duration_ms</th>\n",
       "      <th>...</th>\n",
       "      <th>sp_key</th>\n",
       "      <th>sp_loudness</th>\n",
       "      <th>sp_mode</th>\n",
       "      <th>sp_speechiness</th>\n",
       "      <th>sp_acousticness</th>\n",
       "      <th>sp_instrumentalness</th>\n",
       "      <th>sp_liveness</th>\n",
       "      <th>sp_valence</th>\n",
       "      <th>sp_tempo</th>\n",
       "      <th>sp_time_signature</th>\n",
       "    </tr>\n",
       "  </thead>\n",
       "  <tbody>\n",
       "    <tr>\n",
       "      <th>0</th>\n",
       "      <td>Roxanne</td>\n",
       "      <td>Arizona Zervas</td>\n",
       "      <td>[Arizona Zervas]</td>\n",
       "      <td>1</td>\n",
       "      <td>Arizona Zervas</td>\n",
       "      <td>no-artist</td>\n",
       "      <td>no-artist</td>\n",
       "      <td>{'tracks': {'href': 'https://api.spotify.com/v...</td>\n",
       "      <td>696DnlkuDOXcMAnKlTgXXK</td>\n",
       "      <td>163636</td>\n",
       "      <td>...</td>\n",
       "      <td>6</td>\n",
       "      <td>-5.616</td>\n",
       "      <td>0</td>\n",
       "      <td>0.148</td>\n",
       "      <td>0.0522</td>\n",
       "      <td>0</td>\n",
       "      <td>0.46</td>\n",
       "      <td>0.457</td>\n",
       "      <td>116.735</td>\n",
       "      <td>5</td>\n",
       "    </tr>\n",
       "    <tr>\n",
       "      <th>1</th>\n",
       "      <td>Say So</td>\n",
       "      <td>Doja Cat</td>\n",
       "      <td>[Doja Cat]</td>\n",
       "      <td>1</td>\n",
       "      <td>Doja Cat</td>\n",
       "      <td>no-artist</td>\n",
       "      <td>no-artist</td>\n",
       "      <td>{'tracks': {'href': 'https://api.spotify.com/v...</td>\n",
       "      <td>3Dv1eDb0MEgF93GpLXlucZ</td>\n",
       "      <td>237893</td>\n",
       "      <td>...</td>\n",
       "      <td>11</td>\n",
       "      <td>-4.577</td>\n",
       "      <td>0</td>\n",
       "      <td>0.158</td>\n",
       "      <td>0.256</td>\n",
       "      <td>3.57e-06</td>\n",
       "      <td>0.0904</td>\n",
       "      <td>0.786</td>\n",
       "      <td>110.962</td>\n",
       "      <td>4</td>\n",
       "    </tr>\n",
       "    <tr>\n",
       "      <th>2</th>\n",
       "      <td>My Oh My</td>\n",
       "      <td>Camila Cabello feat. DaBaby</td>\n",
       "      <td>[Camila Cabello, DaBaby]</td>\n",
       "      <td>2</td>\n",
       "      <td>Camila Cabello</td>\n",
       "      <td>DaBaby</td>\n",
       "      <td>no-artist</td>\n",
       "      <td>{'tracks': {'href': 'https://api.spotify.com/v...</td>\n",
       "      <td>3yOlyBJuViE2YSGn3nVE1K</td>\n",
       "      <td>170746</td>\n",
       "      <td>...</td>\n",
       "      <td>8</td>\n",
       "      <td>-6.024</td>\n",
       "      <td>1</td>\n",
       "      <td>0.0296</td>\n",
       "      <td>0.018</td>\n",
       "      <td>1.29e-05</td>\n",
       "      <td>0.0887</td>\n",
       "      <td>0.383</td>\n",
       "      <td>105.046</td>\n",
       "      <td>4</td>\n",
       "    </tr>\n",
       "    <tr>\n",
       "      <th>3</th>\n",
       "      <td>Moon</td>\n",
       "      <td>Kid Francescoli</td>\n",
       "      <td>[Kid Francescoli]</td>\n",
       "      <td>1</td>\n",
       "      <td>Kid Francescoli</td>\n",
       "      <td>no-artist</td>\n",
       "      <td>no-artist</td>\n",
       "      <td>{'tracks': {'href': 'https://api.spotify.com/v...</td>\n",
       "      <td>24upABZ8A0sAepfu91sEYr</td>\n",
       "      <td>390638</td>\n",
       "      <td>...</td>\n",
       "      <td>7</td>\n",
       "      <td>-10.002</td>\n",
       "      <td>1</td>\n",
       "      <td>0.0345</td>\n",
       "      <td>0.288</td>\n",
       "      <td>0.856</td>\n",
       "      <td>0.102</td>\n",
       "      <td>0.0584</td>\n",
       "      <td>117.986</td>\n",
       "      <td>4</td>\n",
       "    </tr>\n",
       "    <tr>\n",
       "      <th>4</th>\n",
       "      <td>Vibe</td>\n",
       "      <td>Cookiee Kawaii</td>\n",
       "      <td>[Cookiee Kawaii]</td>\n",
       "      <td>1</td>\n",
       "      <td>Cookiee Kawaii</td>\n",
       "      <td>no-artist</td>\n",
       "      <td>no-artist</td>\n",
       "      <td>{'tracks': {'href': 'https://api.spotify.com/v...</td>\n",
       "      <td>4gOgQTv9RYYFZ1uQNnlk3q</td>\n",
       "      <td>83940</td>\n",
       "      <td>...</td>\n",
       "      <td>10</td>\n",
       "      <td>-8.719</td>\n",
       "      <td>1</td>\n",
       "      <td>0.344</td>\n",
       "      <td>0.0635</td>\n",
       "      <td>0.00932</td>\n",
       "      <td>0.118</td>\n",
       "      <td>0.175</td>\n",
       "      <td>159.947</td>\n",
       "      <td>4</td>\n",
       "    </tr>\n",
       "  </tbody>\n",
       "</table>\n",
       "<p>5 rows × 25 columns</p>\n",
       "</div>"
      ],
      "text/plain": [
       "       song                      artists              artists_list  \\\n",
       "0   Roxanne               Arizona Zervas          [Arizona Zervas]   \n",
       "1    Say So                     Doja Cat                [Doja Cat]   \n",
       "2  My Oh My  Camila Cabello feat. DaBaby  [Camila Cabello, DaBaby]   \n",
       "3      Moon              Kid Francescoli         [Kid Francescoli]   \n",
       "4      Vibe               Cookiee Kawaii          [Cookiee Kawaii]   \n",
       "\n",
       "   number_artists         artist_1   artist_2   artist_3  \\\n",
       "0               1   Arizona Zervas  no-artist  no-artist   \n",
       "1               1         Doja Cat  no-artist  no-artist   \n",
       "2               2   Camila Cabello     DaBaby  no-artist   \n",
       "3               1  Kid Francescoli  no-artist  no-artist   \n",
       "4               1   Cookiee Kawaii  no-artist  no-artist   \n",
       "\n",
       "                                      spotify_search                   sp_id  \\\n",
       "0  {'tracks': {'href': 'https://api.spotify.com/v...  696DnlkuDOXcMAnKlTgXXK   \n",
       "1  {'tracks': {'href': 'https://api.spotify.com/v...  3Dv1eDb0MEgF93GpLXlucZ   \n",
       "2  {'tracks': {'href': 'https://api.spotify.com/v...  3yOlyBJuViE2YSGn3nVE1K   \n",
       "3  {'tracks': {'href': 'https://api.spotify.com/v...  24upABZ8A0sAepfu91sEYr   \n",
       "4  {'tracks': {'href': 'https://api.spotify.com/v...  4gOgQTv9RYYFZ1uQNnlk3q   \n",
       "\n",
       "  sp_duration_ms  ... sp_key sp_loudness sp_mode sp_speechiness  \\\n",
       "0         163636  ...      6      -5.616       0          0.148   \n",
       "1         237893  ...     11      -4.577       0          0.158   \n",
       "2         170746  ...      8      -6.024       1         0.0296   \n",
       "3         390638  ...      7     -10.002       1         0.0345   \n",
       "4          83940  ...     10      -8.719       1          0.344   \n",
       "\n",
       "  sp_acousticness sp_instrumentalness sp_liveness sp_valence sp_tempo  \\\n",
       "0          0.0522                   0        0.46      0.457  116.735   \n",
       "1           0.256            3.57e-06      0.0904      0.786  110.962   \n",
       "2           0.018            1.29e-05      0.0887      0.383  105.046   \n",
       "3           0.288               0.856       0.102     0.0584  117.986   \n",
       "4          0.0635             0.00932       0.118      0.175  159.947   \n",
       "\n",
       "  sp_time_signature  \n",
       "0                 5  \n",
       "1                 4  \n",
       "2                 4  \n",
       "3                 4  \n",
       "4                 4  \n",
       "\n",
       "[5 rows x 25 columns]"
      ]
     },
     "execution_count": 26,
     "metadata": {},
     "output_type": "execute_result"
    }
   ],
   "source": [
    "df_base = get_spotify_audio_features(df_base, spotify_audio_features)\n",
    "df_base.head()"
   ]
  },
  {
   "cell_type": "code",
   "execution_count": null,
   "metadata": {},
   "outputs": [],
   "source": []
  },
  {
   "cell_type": "code",
   "execution_count": null,
   "metadata": {},
   "outputs": [],
   "source": []
  },
  {
   "cell_type": "markdown",
   "metadata": {},
   "source": [
    "## Artists"
   ]
  },
  {
   "cell_type": "code",
   "execution_count": 51,
   "metadata": {
    "ExecuteTime": {
     "end_time": "2020-09-13T21:25:57.668687Z",
     "start_time": "2020-09-13T21:25:57.660709Z"
    }
   },
   "outputs": [
    {
     "data": {
      "text/html": [
       "<div>\n",
       "<style scoped>\n",
       "    .dataframe tbody tr th:only-of-type {\n",
       "        vertical-align: middle;\n",
       "    }\n",
       "\n",
       "    .dataframe tbody tr th {\n",
       "        vertical-align: top;\n",
       "    }\n",
       "\n",
       "    .dataframe thead th {\n",
       "        text-align: right;\n",
       "    }\n",
       "</style>\n",
       "<table border=\"1\" class=\"dataframe\">\n",
       "  <thead>\n",
       "    <tr style=\"text-align: right;\">\n",
       "      <th></th>\n",
       "      <th>artist</th>\n",
       "    </tr>\n",
       "  </thead>\n",
       "  <tbody>\n",
       "    <tr>\n",
       "      <th>0</th>\n",
       "      <td>Arizona Zervas</td>\n",
       "    </tr>\n",
       "    <tr>\n",
       "      <th>1</th>\n",
       "      <td>Doja Cat</td>\n",
       "    </tr>\n",
       "    <tr>\n",
       "      <th>2</th>\n",
       "      <td>Camila Cabello</td>\n",
       "    </tr>\n",
       "    <tr>\n",
       "      <th>3</th>\n",
       "      <td>DaBaby</td>\n",
       "    </tr>\n",
       "    <tr>\n",
       "      <th>4</th>\n",
       "      <td>Kid Francescoli</td>\n",
       "    </tr>\n",
       "  </tbody>\n",
       "</table>\n",
       "</div>"
      ],
      "text/plain": [
       "            artist\n",
       "0   Arizona Zervas\n",
       "1         Doja Cat\n",
       "2   Camila Cabello\n",
       "3           DaBaby\n",
       "4  Kid Francescoli"
      ]
     },
     "execution_count": 51,
     "metadata": {},
     "output_type": "execute_result"
    }
   ],
   "source": [
    "df_artist = pd.DataFrame([each_artist for each_list in df_base.artists_list \n",
    "                          for each_artist in each_list], columns=['artist']).drop_duplicates()\n",
    "df_artist.head()"
   ]
  },
  {
   "cell_type": "code",
   "execution_count": null,
   "metadata": {},
   "outputs": [],
   "source": []
  },
  {
   "cell_type": "code",
   "execution_count": 55,
   "metadata": {
    "ExecuteTime": {
     "end_time": "2020-09-13T21:30:15.914049Z",
     "start_time": "2020-09-13T21:29:58.192436Z"
    }
   },
   "outputs": [
    {
     "data": {
      "application/vnd.jupyter.widget-view+json": {
       "model_id": "837840a36afb4cb884ee4c9a9135323f",
       "version_major": 2,
       "version_minor": 0
      },
      "text/plain": [
       "HBox(children=(FloatProgress(value=0.0, max=91.0), HTML(value='')))"
      ]
     },
     "metadata": {},
     "output_type": "display_data"
    },
    {
     "name": "stdout",
     "output_type": "stream",
     "text": [
      "\n"
     ]
    }
   ],
   "source": [
    "# Search in the API wrapper\n",
    "spotify_artists = [sp.search(q=artist, type='artist') for artist in tqdm(df_artist.artist)]"
   ]
  },
  {
   "cell_type": "code",
   "execution_count": 81,
   "metadata": {
    "ExecuteTime": {
     "end_time": "2020-09-13T21:36:52.626431Z",
     "start_time": "2020-09-13T21:36:52.622409Z"
    }
   },
   "outputs": [
    {
     "data": {
      "text/plain": [
       "[{'external_urls': {'spotify': 'https://open.spotify.com/artist/4r63FhuTkUYltbVAg5TQnk'},\n",
       "  'followers': {'href': None, 'total': 4291213},\n",
       "  'genres': ['north carolina hip hop', 'rap'],\n",
       "  'href': 'https://api.spotify.com/v1/artists/4r63FhuTkUYltbVAg5TQnk',\n",
       "  'id': '4r63FhuTkUYltbVAg5TQnk',\n",
       "  'images': [{'height': 640,\n",
       "    'url': 'https://i.scdn.co/image/f68192e6516d89a77a2b16904725a77b75b42056',\n",
       "    'width': 640},\n",
       "   {'height': 320,\n",
       "    'url': 'https://i.scdn.co/image/f88e08cf9132c7facc2ee9fbdd1be3924b5c5a74',\n",
       "    'width': 320},\n",
       "   {'height': 160,\n",
       "    'url': 'https://i.scdn.co/image/1b6dd2116962f6d9741d0181708e31006b5048a7',\n",
       "    'width': 160}],\n",
       "  'name': 'DaBaby',\n",
       "  'popularity': 95,\n",
       "  'type': 'artist',\n",
       "  'uri': 'spotify:artist:4r63FhuTkUYltbVAg5TQnk'},\n",
       " {'external_urls': {'spotify': 'https://open.spotify.com/artist/7MCrEuHBgUcjP8eMxM2IFC'},\n",
       "  'followers': {'href': None, 'total': 144},\n",
       "  'genres': [],\n",
       "  'href': 'https://api.spotify.com/v1/artists/7MCrEuHBgUcjP8eMxM2IFC',\n",
       "  'id': '7MCrEuHBgUcjP8eMxM2IFC',\n",
       "  'images': [{'height': 640,\n",
       "    'url': 'https://i.scdn.co/image/ab67616d0000b273f51d22db94b7ccbed26870c0',\n",
       "    'width': 640},\n",
       "   {'height': 300,\n",
       "    'url': 'https://i.scdn.co/image/ab67616d00001e02f51d22db94b7ccbed26870c0',\n",
       "    'width': 300},\n",
       "   {'height': 64,\n",
       "    'url': 'https://i.scdn.co/image/ab67616d00004851f51d22db94b7ccbed26870c0',\n",
       "    'width': 64}],\n",
       "  'name': 'DaBaby',\n",
       "  'popularity': 19,\n",
       "  'type': 'artist',\n",
       "  'uri': 'spotify:artist:7MCrEuHBgUcjP8eMxM2IFC'}]"
      ]
     },
     "execution_count": 81,
     "metadata": {},
     "output_type": "execute_result"
    }
   ],
   "source": [
    "spotify_artists[3]['artists']['items'][:2]"
   ]
  },
  {
   "cell_type": "code",
   "execution_count": null,
   "metadata": {},
   "outputs": [],
   "source": []
  },
  {
   "cell_type": "code",
   "execution_count": null,
   "metadata": {},
   "outputs": [],
   "source": []
  },
  {
   "cell_type": "code",
   "execution_count": null,
   "metadata": {},
   "outputs": [],
   "source": []
  },
  {
   "cell_type": "code",
   "execution_count": null,
   "metadata": {},
   "outputs": [],
   "source": []
  },
  {
   "cell_type": "code",
   "execution_count": null,
   "metadata": {},
   "outputs": [],
   "source": []
  },
  {
   "cell_type": "code",
   "execution_count": null,
   "metadata": {},
   "outputs": [],
   "source": []
  },
  {
   "cell_type": "markdown",
   "metadata": {},
   "source": [
    "## Playlists"
   ]
  },
  {
   "cell_type": "code",
   "execution_count": 86,
   "metadata": {
    "ExecuteTime": {
     "end_time": "2020-09-13T21:38:54.550330Z",
     "start_time": "2020-09-13T21:38:54.211198Z"
    }
   },
   "outputs": [],
   "source": [
    "# Search in the API wrapper\n",
    "spotify_tiktok = sp.search(q='tiktok', type='playlist', limit=50)"
   ]
  },
  {
   "cell_type": "code",
   "execution_count": 87,
   "metadata": {
    "ExecuteTime": {
     "end_time": "2020-09-13T21:38:57.681555Z",
     "start_time": "2020-09-13T21:38:57.677565Z"
    }
   },
   "outputs": [
    {
     "data": {
      "text/plain": [
       "50"
      ]
     },
     "execution_count": 87,
     "metadata": {},
     "output_type": "execute_result"
    }
   ],
   "source": [
    "len(spotify_tiktok['playlists']['items'])"
   ]
  },
  {
   "cell_type": "code",
   "execution_count": null,
   "metadata": {},
   "outputs": [],
   "source": []
  },
  {
   "cell_type": "code",
   "execution_count": null,
   "metadata": {},
   "outputs": [],
   "source": []
  },
  {
   "cell_type": "code",
   "execution_count": null,
   "metadata": {},
   "outputs": [],
   "source": []
  },
  {
   "cell_type": "code",
   "execution_count": null,
   "metadata": {},
   "outputs": [],
   "source": []
  },
  {
   "cell_type": "markdown",
   "metadata": {},
   "source": [
    "# Last.fm"
   ]
  },
  {
   "cell_type": "markdown",
   "metadata": {},
   "source": [
    "## Connecting to the API and collecting data"
   ]
  },
  {
   "cell_type": "markdown",
   "metadata": {
    "ExecuteTime": {
     "end_time": "2020-09-12T02:05:45.665210Z",
     "start_time": "2020-09-12T02:05:45.188254Z"
    },
    "hide_input": true
   },
   "source": [
    "Example of how to connect to the API and collect information about a song\n",
    "\n",
    "```python\n",
    "response = lastfm_get({\n",
    "    'method': 'track.getInfo',\n",
    "    'track': 'My Oh My',\n",
    "    'artist': 'Camila Cabello'\n",
    "})```"
   ]
  },
  {
   "cell_type": "code",
   "execution_count": 27,
   "metadata": {
    "ExecuteTime": {
     "end_time": "2020-09-14T00:43:36.380354Z",
     "start_time": "2020-09-14T00:43:36.377327Z"
    }
   },
   "outputs": [],
   "source": [
    "lastfm_key = os.getenv('lastfm_p03_key')\n",
    "lastfm_user = 'gnakasato'"
   ]
  },
  {
   "cell_type": "code",
   "execution_count": 28,
   "metadata": {
    "ExecuteTime": {
     "end_time": "2020-09-14T00:45:29.709301Z",
     "start_time": "2020-09-14T00:45:29.704356Z"
    }
   },
   "outputs": [],
   "source": [
    "# Function to connect to the API and get data\n",
    "def lastfm_get(payload):\n",
    "    \n",
    "    '''\n",
    "    Connects to the Last.fm API\n",
    "    \n",
    "    Args:\n",
    "    -----\n",
    "        payload (dict): a dictionary containing additional information to connect to the Last.fm API\n",
    "    \n",
    "    Returns:\n",
    "    --------\n",
    "        response: the response for the API connection request\n",
    "    '''\n",
    "    \n",
    "    # Define the headers and the url\n",
    "    headers = {'user-agent': lastfm_user}\n",
    "    url = 'http://ws.audioscrobbler.com/2.0/'\n",
    "    \n",
    "    # Add API key and format to the payload\n",
    "    payload['api_key'] = lastfm_key\n",
    "    payload['format=json'] = lastfm_key\n",
    "    \n",
    "    response = requests.get(url, headers=headers, params=payload)\n",
    "    \n",
    "    return response"
   ]
  },
  {
   "cell_type": "code",
   "execution_count": 29,
   "metadata": {
    "ExecuteTime": {
     "end_time": "2020-09-14T00:47:13.829832Z",
     "start_time": "2020-09-14T00:45:30.864710Z"
    }
   },
   "outputs": [
    {
     "data": {
      "application/vnd.jupyter.widget-view+json": {
       "model_id": "7c5d2dc0795747b38b3f5fa0b8053497",
       "version_major": 2,
       "version_minor": 0
      },
      "text/plain": [
       "HBox(children=(FloatProgress(value=0.0, max=69.0), HTML(value='')))"
      ]
     },
     "metadata": {},
     "output_type": "display_data"
    },
    {
     "name": "stdout",
     "output_type": "stream",
     "text": [
      "\n"
     ]
    }
   ],
   "source": [
    "# Create an auxiliary list\n",
    "lastfm_track_info = []\n",
    "\n",
    "# Connect to the API and collect data\n",
    "for index in tqdm(range(df_base.shape[0])):\n",
    "    \n",
    "    # Connect to the API\n",
    "    response = lastfm_get({'method': 'track.getInfo',\n",
    "                           'track': df_base.iloc[index, 0],\n",
    "                           'artist': df_base.iloc[index, 4],\n",
    "                           'autocorrect[0|1]': '1'})\n",
    "    \n",
    "    # Convert the data into a more amicable format\n",
    "    track_info = BeautifulSoup(response.text)\n",
    "    \n",
    "    # Add the data to the auxiliary list\n",
    "    lastfm_track_info.append(track_info)\n",
    "    \n",
    "    # Wait 1 second to check the next track\n",
    "    sleep(1)"
   ]
  },
  {
   "cell_type": "markdown",
   "metadata": {},
   "source": [
    "## Data Cleaning"
   ]
  },
  {
   "cell_type": "code",
   "execution_count": 30,
   "metadata": {
    "ExecuteTime": {
     "end_time": "2020-09-14T00:47:26.965749Z",
     "start_time": "2020-09-14T00:47:26.952767Z"
    }
   },
   "outputs": [
    {
     "data": {
      "text/plain": [
       "[[<tag><name>2019</name>\n",
       "  <url>https://www.last.fm/tag/2019</url>\n",
       "  </tag>,\n",
       "  <tag><name>2010s</name>\n",
       "  <url>https://www.last.fm/tag/2010s</url>\n",
       "  </tag>,\n",
       "  <tag><name>arizona zervas</name>\n",
       "  <url>https://www.last.fm/tag/arizona+zervas</url>\n",
       "  </tag>,\n",
       "  <tag><name>Hip-Hop</name>\n",
       "  <url>https://www.last.fm/tag/Hip-Hop</url>\n",
       "  </tag>,\n",
       "  <tag><name>rap</name>\n",
       "  <url>https://www.last.fm/tag/rap</url>\n",
       "  </tag>],\n",
       " [<tag><name>pop</name>\n",
       "  <url>https://www.last.fm/tag/pop</url>\n",
       "  </tag>,\n",
       "  <tag><name>Disco</name>\n",
       "  <url>https://www.last.fm/tag/Disco</url>\n",
       "  </tag>,\n",
       "  <tag><name>rap</name>\n",
       "  <url>https://www.last.fm/tag/rap</url>\n",
       "  </tag>,\n",
       "  <tag><name>Hip-Hop</name>\n",
       "  <url>https://www.last.fm/tag/Hip-Hop</url>\n",
       "  </tag>,\n",
       "  <tag><name>female vocalists</name>\n",
       "  <url>https://www.last.fm/tag/female+vocalists</url>\n",
       "  </tag>]]"
      ]
     },
     "execution_count": 30,
     "metadata": {},
     "output_type": "execute_result"
    }
   ],
   "source": [
    "# Create a list with the tags of each track\n",
    "# If the track was not found in the API, the value to the corresponding track is 'not-found'\n",
    "lastfm_tags = [track.find_all('tag') if track.text.replace('\\n\\n', '') != 'Track not found' else 'not-found' for track \n",
    "                in lastfm_track_info]\n",
    "\n",
    "# Check the result for the first two tracks\n",
    "lastfm_tags[:2]"
   ]
  },
  {
   "cell_type": "markdown",
   "metadata": {},
   "source": [
    "The idea is to create a nested list with lists of tags of each track"
   ]
  },
  {
   "cell_type": "code",
   "execution_count": 31,
   "metadata": {
    "ExecuteTime": {
     "end_time": "2020-09-14T00:48:19.352974Z",
     "start_time": "2020-09-14T00:48:19.343997Z"
    }
   },
   "outputs": [],
   "source": [
    "# Create auxiliary empty lists \n",
    "tracks_tags = []  # Final list with the tags\n",
    "tags_exist = []  # List with all tags\n",
    "\n",
    "# Get the tag names for each track from the raw (messy) data\n",
    "for track_tag in lastfm_tags:\n",
    "    \n",
    "    # If the track was not found in the Last.fm API\n",
    "    if track_tag == 'not-found':\n",
    "        tracks_tags.append(['not-found'])\n",
    "    \n",
    "    # If the track was found, but there is no tag related to the track\n",
    "    elif len(track_tag) == 0:\n",
    "        tracks_tags.append(['no-tag'])\n",
    "    \n",
    "    # If the track was found and there are tags related to the track\n",
    "    else:\n",
    "        \n",
    "        # Create an auxiliary list \n",
    "        # Before checking each track, this list needs to be cleared, so it stores a list of messy tags for each track\n",
    "        each_tag_lists = []\n",
    "        \n",
    "        # Each track has a list with messy tags, so it is necessary to clean this data, checking each tag for each track\n",
    "        for each_tag in track_tag:\n",
    "            \n",
    "            # Get only the tag name, but this process creates a list with the tag name\n",
    "            tag_list = each_tag.find('name')\n",
    "            \n",
    "            # Add each tag (messy data) in an auxiliary list\n",
    "            each_tag_lists.append(tag_list)\n",
    "            \n",
    "            # Create an auxiliary list\n",
    "            # Before checking each tag of a track, this list needs to be cleared, so it stores a list of clean data of\n",
    "            # tags for each track\n",
    "            each_track_tags = []\n",
    "            \n",
    "            # Each tag name of a track is inside a list\n",
    "            for each_one in each_tag_lists:\n",
    "                \n",
    "                # Clean the data for each tag name\n",
    "                tag = each_one.text.lower().replace('-', ' ')\n",
    "                \n",
    "                # Add the tag (clean data) with all lower case letters in an auxiliary list if the tag is one of the\n",
    "                # genres listed in the 'musicbrainz_genre'\n",
    "                if tag in musicbrainz_genre:\n",
    "                    each_track_tags.append(tag)\n",
    "                    tags_exist.append(tag)\n",
    "                \n",
    "        # Add each list of tags (clean) for one track in a final list\n",
    "        tracks_tags.append(each_track_tags)\n",
    "        #print(f'\\n{tracks_tags}\\n')\n",
    "        \n",
    "# Add a column in the 'popsugar_df' with the tags found in Last.fm API\n",
    "df_base['lastfm_tags'] = tracks_tags"
   ]
  },
  {
   "cell_type": "code",
   "execution_count": 32,
   "metadata": {
    "ExecuteTime": {
     "end_time": "2020-09-14T00:48:25.985678Z",
     "start_time": "2020-09-14T00:48:25.944825Z"
    }
   },
   "outputs": [
    {
     "data": {
      "text/html": [
       "<div>\n",
       "<style scoped>\n",
       "    .dataframe tbody tr th:only-of-type {\n",
       "        vertical-align: middle;\n",
       "    }\n",
       "\n",
       "    .dataframe tbody tr th {\n",
       "        vertical-align: top;\n",
       "    }\n",
       "\n",
       "    .dataframe thead th {\n",
       "        text-align: right;\n",
       "    }\n",
       "</style>\n",
       "<table border=\"1\" class=\"dataframe\">\n",
       "  <thead>\n",
       "    <tr style=\"text-align: right;\">\n",
       "      <th></th>\n",
       "      <th>song</th>\n",
       "      <th>artists</th>\n",
       "      <th>artists_list</th>\n",
       "      <th>number_artists</th>\n",
       "      <th>artist_1</th>\n",
       "      <th>artist_2</th>\n",
       "      <th>artist_3</th>\n",
       "      <th>spotify_search</th>\n",
       "      <th>sp_id</th>\n",
       "      <th>sp_duration_ms</th>\n",
       "      <th>...</th>\n",
       "      <th>sp_loudness</th>\n",
       "      <th>sp_mode</th>\n",
       "      <th>sp_speechiness</th>\n",
       "      <th>sp_acousticness</th>\n",
       "      <th>sp_instrumentalness</th>\n",
       "      <th>sp_liveness</th>\n",
       "      <th>sp_valence</th>\n",
       "      <th>sp_tempo</th>\n",
       "      <th>sp_time_signature</th>\n",
       "      <th>lastfm_tags</th>\n",
       "    </tr>\n",
       "  </thead>\n",
       "  <tbody>\n",
       "    <tr>\n",
       "      <th>0</th>\n",
       "      <td>Roxanne</td>\n",
       "      <td>Arizona Zervas</td>\n",
       "      <td>[Arizona Zervas]</td>\n",
       "      <td>1</td>\n",
       "      <td>Arizona Zervas</td>\n",
       "      <td>no-artist</td>\n",
       "      <td>no-artist</td>\n",
       "      <td>{'tracks': {'href': 'https://api.spotify.com/v...</td>\n",
       "      <td>696DnlkuDOXcMAnKlTgXXK</td>\n",
       "      <td>163636</td>\n",
       "      <td>...</td>\n",
       "      <td>-5.616</td>\n",
       "      <td>0</td>\n",
       "      <td>0.148</td>\n",
       "      <td>0.0522</td>\n",
       "      <td>0</td>\n",
       "      <td>0.46</td>\n",
       "      <td>0.457</td>\n",
       "      <td>116.735</td>\n",
       "      <td>5</td>\n",
       "      <td>[hip hop]</td>\n",
       "    </tr>\n",
       "    <tr>\n",
       "      <th>1</th>\n",
       "      <td>Say So</td>\n",
       "      <td>Doja Cat</td>\n",
       "      <td>[Doja Cat]</td>\n",
       "      <td>1</td>\n",
       "      <td>Doja Cat</td>\n",
       "      <td>no-artist</td>\n",
       "      <td>no-artist</td>\n",
       "      <td>{'tracks': {'href': 'https://api.spotify.com/v...</td>\n",
       "      <td>3Dv1eDb0MEgF93GpLXlucZ</td>\n",
       "      <td>237893</td>\n",
       "      <td>...</td>\n",
       "      <td>-4.577</td>\n",
       "      <td>0</td>\n",
       "      <td>0.158</td>\n",
       "      <td>0.256</td>\n",
       "      <td>3.57e-06</td>\n",
       "      <td>0.0904</td>\n",
       "      <td>0.786</td>\n",
       "      <td>110.962</td>\n",
       "      <td>4</td>\n",
       "      <td>[pop, disco, hip hop]</td>\n",
       "    </tr>\n",
       "    <tr>\n",
       "      <th>2</th>\n",
       "      <td>My Oh My</td>\n",
       "      <td>Camila Cabello feat. DaBaby</td>\n",
       "      <td>[Camila Cabello, DaBaby]</td>\n",
       "      <td>2</td>\n",
       "      <td>Camila Cabello</td>\n",
       "      <td>DaBaby</td>\n",
       "      <td>no-artist</td>\n",
       "      <td>{'tracks': {'href': 'https://api.spotify.com/v...</td>\n",
       "      <td>3yOlyBJuViE2YSGn3nVE1K</td>\n",
       "      <td>170746</td>\n",
       "      <td>...</td>\n",
       "      <td>-6.024</td>\n",
       "      <td>1</td>\n",
       "      <td>0.0296</td>\n",
       "      <td>0.018</td>\n",
       "      <td>1.29e-05</td>\n",
       "      <td>0.0887</td>\n",
       "      <td>0.383</td>\n",
       "      <td>105.046</td>\n",
       "      <td>4</td>\n",
       "      <td>[pop]</td>\n",
       "    </tr>\n",
       "    <tr>\n",
       "      <th>3</th>\n",
       "      <td>Moon</td>\n",
       "      <td>Kid Francescoli</td>\n",
       "      <td>[Kid Francescoli]</td>\n",
       "      <td>1</td>\n",
       "      <td>Kid Francescoli</td>\n",
       "      <td>no-artist</td>\n",
       "      <td>no-artist</td>\n",
       "      <td>{'tracks': {'href': 'https://api.spotify.com/v...</td>\n",
       "      <td>24upABZ8A0sAepfu91sEYr</td>\n",
       "      <td>390638</td>\n",
       "      <td>...</td>\n",
       "      <td>-10.002</td>\n",
       "      <td>1</td>\n",
       "      <td>0.0345</td>\n",
       "      <td>0.288</td>\n",
       "      <td>0.856</td>\n",
       "      <td>0.102</td>\n",
       "      <td>0.0584</td>\n",
       "      <td>117.986</td>\n",
       "      <td>4</td>\n",
       "      <td>[chillout, indie pop]</td>\n",
       "    </tr>\n",
       "    <tr>\n",
       "      <th>4</th>\n",
       "      <td>Vibe</td>\n",
       "      <td>Cookiee Kawaii</td>\n",
       "      <td>[Cookiee Kawaii]</td>\n",
       "      <td>1</td>\n",
       "      <td>Cookiee Kawaii</td>\n",
       "      <td>no-artist</td>\n",
       "      <td>no-artist</td>\n",
       "      <td>{'tracks': {'href': 'https://api.spotify.com/v...</td>\n",
       "      <td>4gOgQTv9RYYFZ1uQNnlk3q</td>\n",
       "      <td>83940</td>\n",
       "      <td>...</td>\n",
       "      <td>-8.719</td>\n",
       "      <td>1</td>\n",
       "      <td>0.344</td>\n",
       "      <td>0.0635</td>\n",
       "      <td>0.00932</td>\n",
       "      <td>0.118</td>\n",
       "      <td>0.175</td>\n",
       "      <td>159.947</td>\n",
       "      <td>4</td>\n",
       "      <td>[no-tag]</td>\n",
       "    </tr>\n",
       "  </tbody>\n",
       "</table>\n",
       "<p>5 rows × 26 columns</p>\n",
       "</div>"
      ],
      "text/plain": [
       "       song                      artists              artists_list  \\\n",
       "0   Roxanne               Arizona Zervas          [Arizona Zervas]   \n",
       "1    Say So                     Doja Cat                [Doja Cat]   \n",
       "2  My Oh My  Camila Cabello feat. DaBaby  [Camila Cabello, DaBaby]   \n",
       "3      Moon              Kid Francescoli         [Kid Francescoli]   \n",
       "4      Vibe               Cookiee Kawaii          [Cookiee Kawaii]   \n",
       "\n",
       "   number_artists         artist_1   artist_2   artist_3  \\\n",
       "0               1   Arizona Zervas  no-artist  no-artist   \n",
       "1               1         Doja Cat  no-artist  no-artist   \n",
       "2               2   Camila Cabello     DaBaby  no-artist   \n",
       "3               1  Kid Francescoli  no-artist  no-artist   \n",
       "4               1   Cookiee Kawaii  no-artist  no-artist   \n",
       "\n",
       "                                      spotify_search                   sp_id  \\\n",
       "0  {'tracks': {'href': 'https://api.spotify.com/v...  696DnlkuDOXcMAnKlTgXXK   \n",
       "1  {'tracks': {'href': 'https://api.spotify.com/v...  3Dv1eDb0MEgF93GpLXlucZ   \n",
       "2  {'tracks': {'href': 'https://api.spotify.com/v...  3yOlyBJuViE2YSGn3nVE1K   \n",
       "3  {'tracks': {'href': 'https://api.spotify.com/v...  24upABZ8A0sAepfu91sEYr   \n",
       "4  {'tracks': {'href': 'https://api.spotify.com/v...  4gOgQTv9RYYFZ1uQNnlk3q   \n",
       "\n",
       "  sp_duration_ms  ... sp_loudness sp_mode sp_speechiness sp_acousticness  \\\n",
       "0         163636  ...      -5.616       0          0.148          0.0522   \n",
       "1         237893  ...      -4.577       0          0.158           0.256   \n",
       "2         170746  ...      -6.024       1         0.0296           0.018   \n",
       "3         390638  ...     -10.002       1         0.0345           0.288   \n",
       "4          83940  ...      -8.719       1          0.344          0.0635   \n",
       "\n",
       "  sp_instrumentalness sp_liveness sp_valence sp_tempo sp_time_signature  \\\n",
       "0                   0        0.46      0.457  116.735                 5   \n",
       "1            3.57e-06      0.0904      0.786  110.962                 4   \n",
       "2            1.29e-05      0.0887      0.383  105.046                 4   \n",
       "3               0.856       0.102     0.0584  117.986                 4   \n",
       "4             0.00932       0.118      0.175  159.947                 4   \n",
       "\n",
       "             lastfm_tags  \n",
       "0              [hip hop]  \n",
       "1  [pop, disco, hip hop]  \n",
       "2                  [pop]  \n",
       "3  [chillout, indie pop]  \n",
       "4               [no-tag]  \n",
       "\n",
       "[5 rows x 26 columns]"
      ]
     },
     "execution_count": 32,
     "metadata": {},
     "output_type": "execute_result"
    }
   ],
   "source": [
    "# Check the result\n",
    "df_base.head()"
   ]
  },
  {
   "cell_type": "code",
   "execution_count": null,
   "metadata": {},
   "outputs": [],
   "source": []
  },
  {
   "cell_type": "markdown",
   "metadata": {},
   "source": [
    "# Final Dataframe"
   ]
  },
  {
   "cell_type": "code",
   "execution_count": 103,
   "metadata": {
    "ExecuteTime": {
     "end_time": "2020-09-13T21:46:40.646007Z",
     "start_time": "2020-09-13T21:46:40.627056Z"
    }
   },
   "outputs": [
    {
     "data": {
      "text/html": [
       "<div>\n",
       "<style scoped>\n",
       "    .dataframe tbody tr th:only-of-type {\n",
       "        vertical-align: middle;\n",
       "    }\n",
       "\n",
       "    .dataframe tbody tr th {\n",
       "        vertical-align: top;\n",
       "    }\n",
       "\n",
       "    .dataframe thead th {\n",
       "        text-align: right;\n",
       "    }\n",
       "</style>\n",
       "<table border=\"1\" class=\"dataframe\">\n",
       "  <thead>\n",
       "    <tr style=\"text-align: right;\">\n",
       "      <th></th>\n",
       "      <th>song</th>\n",
       "      <th>artists</th>\n",
       "      <th>artists_list</th>\n",
       "      <th>number_artists</th>\n",
       "      <th>artist_1</th>\n",
       "      <th>artist_2</th>\n",
       "      <th>artist_3</th>\n",
       "      <th>sp_id</th>\n",
       "      <th>sp_duration_ms</th>\n",
       "      <th>sp_popularity</th>\n",
       "      <th>...</th>\n",
       "      <th>sp_loudness</th>\n",
       "      <th>sp_mode</th>\n",
       "      <th>sp_speechiness</th>\n",
       "      <th>sp_acousticness</th>\n",
       "      <th>sp_instrumentalness</th>\n",
       "      <th>sp_liveness</th>\n",
       "      <th>sp_valence</th>\n",
       "      <th>sp_tempo</th>\n",
       "      <th>sp_time_signature</th>\n",
       "      <th>lastfm_tags</th>\n",
       "    </tr>\n",
       "  </thead>\n",
       "  <tbody>\n",
       "    <tr>\n",
       "      <th>0</th>\n",
       "      <td>Roxanne</td>\n",
       "      <td>Arizona Zervas</td>\n",
       "      <td>[Arizona Zervas]</td>\n",
       "      <td>1</td>\n",
       "      <td>Arizona Zervas</td>\n",
       "      <td>no-artist</td>\n",
       "      <td>no-artist</td>\n",
       "      <td>696DnlkuDOXcMAnKlTgXXK</td>\n",
       "      <td>163636</td>\n",
       "      <td>89</td>\n",
       "      <td>...</td>\n",
       "      <td>-5.616</td>\n",
       "      <td>0</td>\n",
       "      <td>0.148</td>\n",
       "      <td>0.0522</td>\n",
       "      <td>0</td>\n",
       "      <td>0.46</td>\n",
       "      <td>0.457</td>\n",
       "      <td>116.735</td>\n",
       "      <td>5</td>\n",
       "      <td>[hip hop]</td>\n",
       "    </tr>\n",
       "    <tr>\n",
       "      <th>1</th>\n",
       "      <td>Say So</td>\n",
       "      <td>Doja Cat</td>\n",
       "      <td>[Doja Cat]</td>\n",
       "      <td>1</td>\n",
       "      <td>Doja Cat</td>\n",
       "      <td>no-artist</td>\n",
       "      <td>no-artist</td>\n",
       "      <td>3Dv1eDb0MEgF93GpLXlucZ</td>\n",
       "      <td>237893</td>\n",
       "      <td>89</td>\n",
       "      <td>...</td>\n",
       "      <td>-4.577</td>\n",
       "      <td>0</td>\n",
       "      <td>0.158</td>\n",
       "      <td>0.256</td>\n",
       "      <td>3.57e-06</td>\n",
       "      <td>0.0904</td>\n",
       "      <td>0.786</td>\n",
       "      <td>110.962</td>\n",
       "      <td>4</td>\n",
       "      <td>[pop, disco, hip hop]</td>\n",
       "    </tr>\n",
       "    <tr>\n",
       "      <th>2</th>\n",
       "      <td>My Oh My</td>\n",
       "      <td>Camila Cabello feat. DaBaby</td>\n",
       "      <td>[Camila Cabello, DaBaby]</td>\n",
       "      <td>2</td>\n",
       "      <td>Camila Cabello</td>\n",
       "      <td>DaBaby</td>\n",
       "      <td>no-artist</td>\n",
       "      <td>3yOlyBJuViE2YSGn3nVE1K</td>\n",
       "      <td>170746</td>\n",
       "      <td>83</td>\n",
       "      <td>...</td>\n",
       "      <td>-6.024</td>\n",
       "      <td>1</td>\n",
       "      <td>0.0296</td>\n",
       "      <td>0.018</td>\n",
       "      <td>1.29e-05</td>\n",
       "      <td>0.0887</td>\n",
       "      <td>0.383</td>\n",
       "      <td>105.046</td>\n",
       "      <td>4</td>\n",
       "      <td>[pop]</td>\n",
       "    </tr>\n",
       "    <tr>\n",
       "      <th>3</th>\n",
       "      <td>Moon</td>\n",
       "      <td>Kid Francescoli</td>\n",
       "      <td>[Kid Francescoli]</td>\n",
       "      <td>1</td>\n",
       "      <td>Kid Francescoli</td>\n",
       "      <td>no-artist</td>\n",
       "      <td>no-artist</td>\n",
       "      <td>24upABZ8A0sAepfu91sEYr</td>\n",
       "      <td>390638</td>\n",
       "      <td>70</td>\n",
       "      <td>...</td>\n",
       "      <td>-10.002</td>\n",
       "      <td>1</td>\n",
       "      <td>0.0345</td>\n",
       "      <td>0.288</td>\n",
       "      <td>0.856</td>\n",
       "      <td>0.102</td>\n",
       "      <td>0.0584</td>\n",
       "      <td>117.986</td>\n",
       "      <td>4</td>\n",
       "      <td>[chillout, indie pop]</td>\n",
       "    </tr>\n",
       "    <tr>\n",
       "      <th>4</th>\n",
       "      <td>Vibe</td>\n",
       "      <td>Cookiee Kawaii</td>\n",
       "      <td>[Cookiee Kawaii]</td>\n",
       "      <td>1</td>\n",
       "      <td>Cookiee Kawaii</td>\n",
       "      <td>no-artist</td>\n",
       "      <td>no-artist</td>\n",
       "      <td>4gOgQTv9RYYFZ1uQNnlk3q</td>\n",
       "      <td>83940</td>\n",
       "      <td>73</td>\n",
       "      <td>...</td>\n",
       "      <td>-8.719</td>\n",
       "      <td>1</td>\n",
       "      <td>0.344</td>\n",
       "      <td>0.0635</td>\n",
       "      <td>0.00932</td>\n",
       "      <td>0.118</td>\n",
       "      <td>0.175</td>\n",
       "      <td>159.947</td>\n",
       "      <td>4</td>\n",
       "      <td>[no-tag]</td>\n",
       "    </tr>\n",
       "  </tbody>\n",
       "</table>\n",
       "<p>5 rows × 25 columns</p>\n",
       "</div>"
      ],
      "text/plain": [
       "       song                      artists              artists_list  \\\n",
       "0   Roxanne               Arizona Zervas          [Arizona Zervas]   \n",
       "1    Say So                     Doja Cat                [Doja Cat]   \n",
       "2  My Oh My  Camila Cabello feat. DaBaby  [Camila Cabello, DaBaby]   \n",
       "3      Moon              Kid Francescoli         [Kid Francescoli]   \n",
       "4      Vibe               Cookiee Kawaii          [Cookiee Kawaii]   \n",
       "\n",
       "   number_artists         artist_1   artist_2   artist_3  \\\n",
       "0               1   Arizona Zervas  no-artist  no-artist   \n",
       "1               1         Doja Cat  no-artist  no-artist   \n",
       "2               2   Camila Cabello     DaBaby  no-artist   \n",
       "3               1  Kid Francescoli  no-artist  no-artist   \n",
       "4               1   Cookiee Kawaii  no-artist  no-artist   \n",
       "\n",
       "                    sp_id sp_duration_ms sp_popularity  ... sp_loudness  \\\n",
       "0  696DnlkuDOXcMAnKlTgXXK         163636            89  ...      -5.616   \n",
       "1  3Dv1eDb0MEgF93GpLXlucZ         237893            89  ...      -4.577   \n",
       "2  3yOlyBJuViE2YSGn3nVE1K         170746            83  ...      -6.024   \n",
       "3  24upABZ8A0sAepfu91sEYr         390638            70  ...     -10.002   \n",
       "4  4gOgQTv9RYYFZ1uQNnlk3q          83940            73  ...      -8.719   \n",
       "\n",
       "  sp_mode sp_speechiness sp_acousticness sp_instrumentalness sp_liveness  \\\n",
       "0       0          0.148          0.0522                   0        0.46   \n",
       "1       0          0.158           0.256            3.57e-06      0.0904   \n",
       "2       1         0.0296           0.018            1.29e-05      0.0887   \n",
       "3       1         0.0345           0.288               0.856       0.102   \n",
       "4       1          0.344          0.0635             0.00932       0.118   \n",
       "\n",
       "  sp_valence sp_tempo sp_time_signature            lastfm_tags  \n",
       "0      0.457  116.735                 5              [hip hop]  \n",
       "1      0.786  110.962                 4  [pop, disco, hip hop]  \n",
       "2      0.383  105.046                 4                  [pop]  \n",
       "3     0.0584  117.986                 4  [chillout, indie pop]  \n",
       "4      0.175  159.947                 4               [no-tag]  \n",
       "\n",
       "[5 rows x 25 columns]"
      ]
     },
     "execution_count": 103,
     "metadata": {},
     "output_type": "execute_result"
    }
   ],
   "source": [
    "df = df_base.drop(['spotify_search'], axis=1)\n",
    "df.head()"
   ]
  },
  {
   "cell_type": "code",
   "execution_count": null,
   "metadata": {},
   "outputs": [],
   "source": []
  },
  {
   "cell_type": "code",
   "execution_count": null,
   "metadata": {},
   "outputs": [],
   "source": []
  }
 ],
 "metadata": {
  "hide_input": false,
  "kernelspec": {
   "display_name": "Python 3",
   "language": "python",
   "name": "python3"
  },
  "language_info": {
   "codemirror_mode": {
    "name": "ipython",
    "version": 3
   },
   "file_extension": ".py",
   "mimetype": "text/x-python",
   "name": "python",
   "nbconvert_exporter": "python",
   "pygments_lexer": "ipython3",
   "version": "3.8.3"
  },
  "toc": {
   "base_numbering": 1,
   "nav_menu": {},
   "number_sections": true,
   "sideBar": true,
   "skip_h1_title": false,
   "title_cell": "Table of Contents",
   "title_sidebar": "Contents",
   "toc_cell": false,
   "toc_position": {
    "height": "calc(100% - 180px)",
    "left": "10px",
    "top": "150px",
    "width": "384px"
   },
   "toc_section_display": true,
   "toc_window_display": true
  },
  "varInspector": {
   "cols": {
    "lenName": 16,
    "lenType": 16,
    "lenVar": 40
   },
   "kernels_config": {
    "python": {
     "delete_cmd_postfix": "",
     "delete_cmd_prefix": "del ",
     "library": "var_list.py",
     "varRefreshCmd": "print(var_dic_list())"
    },
    "r": {
     "delete_cmd_postfix": ") ",
     "delete_cmd_prefix": "rm(",
     "library": "var_list.r",
     "varRefreshCmd": "cat(var_dic_list()) "
    }
   },
   "position": {
    "height": "390px",
    "left": "582px",
    "right": "20px",
    "top": "231px",
    "width": "800px"
   },
   "types_to_exclude": [
    "module",
    "function",
    "builtin_function_or_method",
    "instance",
    "_Feature"
   ],
   "window_display": false
  }
 },
 "nbformat": 4,
 "nbformat_minor": 4
}
