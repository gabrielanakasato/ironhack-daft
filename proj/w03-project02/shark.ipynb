{
 "cells": [
  {
   "cell_type": "markdown",
   "metadata": {},
   "source": [
    "# Setup"
   ]
  },
  {
   "cell_type": "code",
   "execution_count": 1,
   "metadata": {
    "ExecuteTime": {
     "end_time": "2020-09-01T19:48:42.804598Z",
     "start_time": "2020-09-01T19:48:42.529227Z"
    }
   },
   "outputs": [],
   "source": [
    "import pandas as pd\n",
    "import numpy as np"
   ]
  },
  {
   "cell_type": "code",
   "execution_count": 2,
   "metadata": {
    "ExecuteTime": {
     "end_time": "2020-09-01T19:48:43.400574Z",
     "start_time": "2020-09-01T19:48:42.805488Z"
    }
   },
   "outputs": [],
   "source": [
    "# Load the dataset from a Excel file into a Pandas DataFrame\n",
    "df = pd.read_excel('GSAF5.xls')"
   ]
  },
  {
   "cell_type": "code",
   "execution_count": 3,
   "metadata": {
    "ExecuteTime": {
     "end_time": "2020-09-01T19:48:43.439396Z",
     "start_time": "2020-09-01T19:48:43.401476Z"
    }
   },
   "outputs": [
    {
     "name": "stdout",
     "output_type": "stream",
     "text": [
      "<class 'pandas.core.frame.DataFrame'>\n",
      "RangeIndex: 25792 entries, 0 to 25791\n",
      "Data columns (total 24 columns):\n",
      " #   Column                  Non-Null Count  Dtype  \n",
      "---  ------                  --------------  -----  \n",
      " 0   Case Number             8771 non-null   object \n",
      " 1   Date                    6558 non-null   object \n",
      " 2   Year                    6556 non-null   float64\n",
      " 3   Type                    6552 non-null   object \n",
      " 4   Country                 6508 non-null   object \n",
      " 5   Area                    6091 non-null   object \n",
      " 6   Location                6008 non-null   object \n",
      " 7   Activity                6002 non-null   object \n",
      " 8   Name                    6343 non-null   object \n",
      " 9   Sex                     5987 non-null   object \n",
      " 10  Age                     3660 non-null   object \n",
      " 11  Injury                  6528 non-null   object \n",
      " 12  Fatal (Y/N)             6006 non-null   object \n",
      " 13  Time                    3139 non-null   object \n",
      " 14  Species                 3610 non-null   object \n",
      " 15  Investigator or Source  6541 non-null   object \n",
      " 16  pdf                     6557 non-null   object \n",
      " 17  href formula            6554 non-null   object \n",
      " 18  href                    6556 non-null   object \n",
      " 19  Case Number.1           6557 non-null   object \n",
      " 20  Case Number.2           6557 non-null   object \n",
      " 21  original order          6564 non-null   float64\n",
      " 22  Unnamed: 22             1 non-null      object \n",
      " 23  Unnamed: 23             2 non-null      object \n",
      "dtypes: float64(2), object(22)\n",
      "memory usage: 4.7+ MB\n"
     ]
    }
   ],
   "source": [
    "# Check information about the dataset\n",
    "df.info()"
   ]
  },
  {
   "cell_type": "code",
   "execution_count": 4,
   "metadata": {
    "ExecuteTime": {
     "end_time": "2020-09-01T19:48:43.454339Z",
     "start_time": "2020-09-01T19:48:43.442375Z"
    }
   },
   "outputs": [
    {
     "data": {
      "text/plain": [
       "Index(['Case Number', 'Date', 'Year', 'Type', 'Country', 'Area', 'Location',\n",
       "       'Activity', 'Name', 'Sex', 'Age', 'Injury', 'Fatal (Y/N)', 'Time',\n",
       "       'Species', 'Investigator or Source', 'pdf', 'href formula', 'href',\n",
       "       'Case Number.1', 'Case Number.2', 'original order', 'Unnamed: 22',\n",
       "       'Unnamed: 23'],\n",
       "      dtype='object')"
      ]
     },
     "execution_count": 4,
     "metadata": {},
     "output_type": "execute_result"
    }
   ],
   "source": [
    "# # Remove unnecessary spaces in the columns names\n",
    "df.columns = df.columns.str.strip()\n",
    "df.columns"
   ]
  },
  {
   "cell_type": "code",
   "execution_count": 5,
   "metadata": {
    "ExecuteTime": {
     "end_time": "2020-09-01T19:48:43.465335Z",
     "start_time": "2020-09-01T19:48:43.456332Z"
    }
   },
   "outputs": [],
   "source": [
    "# Remove unwanted columns\n",
    "# The columns 'Name' and 'Investigator or Source' are not relevant information\n",
    "# The columns 'Unnamed: 22' and 'Unnamed: 22' have no relevant information for the analysis.\n",
    "# The columns 'pdf', 'href formula', 'href' do not contain relevant information for the analysis. They just list the \n",
    "# references.\n",
    "# The columns 'Case Number.1', 'Case Number.2' and 'original order' are similar to the 'Case Number', so they also can be\n",
    "# removed\n",
    "df = df.drop(columns=['Name', 'Investigator or Source', 'pdf', 'href formula', 'href', 'Case Number.1', 'Case Number.2',\n",
    "                      'original order', 'Unnamed: 22', 'Unnamed: 23'])"
   ]
  },
  {
   "cell_type": "code",
   "execution_count": 6,
   "metadata": {
    "ExecuteTime": {
     "end_time": "2020-09-01T19:48:43.490285Z",
     "start_time": "2020-09-01T19:48:43.467304Z"
    }
   },
   "outputs": [],
   "source": [
    "# Remove all rows that have NaN in all columns\n",
    "# There is total of 25792 lines, but all columns do not have even 9000 rows with non-NaN.. Therefore, there are lots of\n",
    "# rows that all columns are only missing values\n",
    "df = df.dropna(how='all')"
   ]
  },
  {
   "cell_type": "code",
   "execution_count": 7,
   "metadata": {
    "ExecuteTime": {
     "end_time": "2020-09-01T19:48:43.505234Z",
     "start_time": "2020-09-01T19:48:43.492236Z"
    }
   },
   "outputs": [],
   "source": [
    "# Remove all rows that have less than 3 non-NaN\n",
    "# If the row contains less than 3 non-NaN, there is basically no information about a shark accident\n",
    "df = df.dropna(thresh=3)"
   ]
  },
  {
   "cell_type": "code",
   "execution_count": 8,
   "metadata": {
    "ExecuteTime": {
     "end_time": "2020-09-01T19:48:43.521163Z",
     "start_time": "2020-09-01T19:48:43.507209Z"
    }
   },
   "outputs": [
    {
     "name": "stdout",
     "output_type": "stream",
     "text": [
      "<class 'pandas.core.frame.DataFrame'>\n",
      "Int64Index: 6558 entries, 0 to 6557\n",
      "Data columns (total 14 columns):\n",
      " #   Column       Non-Null Count  Dtype  \n",
      "---  ------       --------------  -----  \n",
      " 0   Case Number  6557 non-null   object \n",
      " 1   Date         6558 non-null   object \n",
      " 2   Year         6556 non-null   float64\n",
      " 3   Type         6552 non-null   object \n",
      " 4   Country      6508 non-null   object \n",
      " 5   Area         6091 non-null   object \n",
      " 6   Location     6008 non-null   object \n",
      " 7   Activity     6002 non-null   object \n",
      " 8   Sex          5987 non-null   object \n",
      " 9   Age          3660 non-null   object \n",
      " 10  Injury       6528 non-null   object \n",
      " 11  Fatal (Y/N)  6006 non-null   object \n",
      " 12  Time         3139 non-null   object \n",
      " 13  Species      3610 non-null   object \n",
      "dtypes: float64(1), object(13)\n",
      "memory usage: 768.5+ KB\n"
     ]
    }
   ],
   "source": [
    "# Check information about the dataset\n",
    "df.info()"
   ]
  },
  {
   "cell_type": "code",
   "execution_count": 9,
   "metadata": {
    "ExecuteTime": {
     "end_time": "2020-09-01T19:48:43.544097Z",
     "start_time": "2020-09-01T19:48:43.524152Z"
    }
   },
   "outputs": [
    {
     "data": {
      "text/html": [
       "<div>\n",
       "<style scoped>\n",
       "    .dataframe tbody tr th:only-of-type {\n",
       "        vertical-align: middle;\n",
       "    }\n",
       "\n",
       "    .dataframe tbody tr th {\n",
       "        vertical-align: top;\n",
       "    }\n",
       "\n",
       "    .dataframe thead th {\n",
       "        text-align: right;\n",
       "    }\n",
       "</style>\n",
       "<table border=\"1\" class=\"dataframe\">\n",
       "  <thead>\n",
       "    <tr style=\"text-align: right;\">\n",
       "      <th></th>\n",
       "      <th>Case Number</th>\n",
       "      <th>Date</th>\n",
       "      <th>Year</th>\n",
       "      <th>Type</th>\n",
       "      <th>Country</th>\n",
       "      <th>Area</th>\n",
       "      <th>Location</th>\n",
       "      <th>Activity</th>\n",
       "      <th>Sex</th>\n",
       "      <th>Age</th>\n",
       "      <th>Injury</th>\n",
       "      <th>Fatal (Y/N)</th>\n",
       "      <th>Time</th>\n",
       "      <th>Species</th>\n",
       "    </tr>\n",
       "  </thead>\n",
       "  <tbody>\n",
       "    <tr>\n",
       "      <th>0</th>\n",
       "      <td>2020.08.20</td>\n",
       "      <td>20-Aug-2020</td>\n",
       "      <td>2020.0</td>\n",
       "      <td>Unprovoked</td>\n",
       "      <td>USA</td>\n",
       "      <td>Florida</td>\n",
       "      <td>New Smyrna Beach, Volusia County</td>\n",
       "      <td>Boogie boarding</td>\n",
       "      <td>F</td>\n",
       "      <td>50</td>\n",
       "      <td>Minor lacerations to left leg</td>\n",
       "      <td>N</td>\n",
       "      <td>11h00</td>\n",
       "      <td>NaN</td>\n",
       "    </tr>\n",
       "    <tr>\n",
       "      <th>1</th>\n",
       "      <td>2020.08.14</td>\n",
       "      <td>14-Aug-2020</td>\n",
       "      <td>2020.0</td>\n",
       "      <td>Unprovoked</td>\n",
       "      <td>AUSTRALIA</td>\n",
       "      <td>New South Wales</td>\n",
       "      <td>Shelly Beach, Port Macquarie</td>\n",
       "      <td>Surfing</td>\n",
       "      <td>F</td>\n",
       "      <td>35</td>\n",
       "      <td>Lacerations to right calf and posterior thigh</td>\n",
       "      <td>N</td>\n",
       "      <td>09h30</td>\n",
       "      <td>White shark, 2-to 3m</td>\n",
       "    </tr>\n",
       "    <tr>\n",
       "      <th>2</th>\n",
       "      <td>2020.08.10</td>\n",
       "      <td>10-Aug-2020</td>\n",
       "      <td>2020.0</td>\n",
       "      <td>Provoked</td>\n",
       "      <td>USA</td>\n",
       "      <td>Florida</td>\n",
       "      <td>Off Gasparilla Island, Charlotte County</td>\n",
       "      <td>Fishing</td>\n",
       "      <td>M</td>\n",
       "      <td>55</td>\n",
       "      <td>Injury to left forearm by hooked shark PROVOKE...</td>\n",
       "      <td>N</td>\n",
       "      <td>16h00</td>\n",
       "      <td>Blacktip shark, 6'</td>\n",
       "    </tr>\n",
       "    <tr>\n",
       "      <th>3</th>\n",
       "      <td>2020.08.02</td>\n",
       "      <td>02-Aug-2020</td>\n",
       "      <td>2020.0</td>\n",
       "      <td>Unprovoked</td>\n",
       "      <td>USA</td>\n",
       "      <td>Virgin Islands</td>\n",
       "      <td>Candle Reef, St. Croix</td>\n",
       "      <td>Snorkeling</td>\n",
       "      <td>F</td>\n",
       "      <td>NaN</td>\n",
       "      <td>Lacerations to hand and wrist</td>\n",
       "      <td>N</td>\n",
       "      <td>14h00</td>\n",
       "      <td>Nurse shark, 5'</td>\n",
       "    </tr>\n",
       "    <tr>\n",
       "      <th>4</th>\n",
       "      <td>2020.07.31.c</td>\n",
       "      <td>31-Jul-2020</td>\n",
       "      <td>2020.0</td>\n",
       "      <td>Unprovoked</td>\n",
       "      <td>USA</td>\n",
       "      <td>Florida</td>\n",
       "      <td>New Smyrna Beach, Volusia County</td>\n",
       "      <td>Surfing</td>\n",
       "      <td>F</td>\n",
       "      <td>22</td>\n",
       "      <td>Lacerations to foot</td>\n",
       "      <td>N</td>\n",
       "      <td>17h00</td>\n",
       "      <td>NaN</td>\n",
       "    </tr>\n",
       "    <tr>\n",
       "      <th>...</th>\n",
       "      <td>...</td>\n",
       "      <td>...</td>\n",
       "      <td>...</td>\n",
       "      <td>...</td>\n",
       "      <td>...</td>\n",
       "      <td>...</td>\n",
       "      <td>...</td>\n",
       "      <td>...</td>\n",
       "      <td>...</td>\n",
       "      <td>...</td>\n",
       "      <td>...</td>\n",
       "      <td>...</td>\n",
       "      <td>...</td>\n",
       "      <td>...</td>\n",
       "    </tr>\n",
       "    <tr>\n",
       "      <th>6553</th>\n",
       "      <td>ND.0005</td>\n",
       "      <td>Before 1903</td>\n",
       "      <td>0.0</td>\n",
       "      <td>Unprovoked</td>\n",
       "      <td>AUSTRALIA</td>\n",
       "      <td>Western Australia</td>\n",
       "      <td>Roebuck Bay</td>\n",
       "      <td>Diving</td>\n",
       "      <td>M</td>\n",
       "      <td>NaN</td>\n",
       "      <td>FATAL</td>\n",
       "      <td>Y</td>\n",
       "      <td>NaN</td>\n",
       "      <td>NaN</td>\n",
       "    </tr>\n",
       "    <tr>\n",
       "      <th>6554</th>\n",
       "      <td>ND.0004</td>\n",
       "      <td>Before 1903</td>\n",
       "      <td>0.0</td>\n",
       "      <td>Unprovoked</td>\n",
       "      <td>AUSTRALIA</td>\n",
       "      <td>Western Australia</td>\n",
       "      <td>NaN</td>\n",
       "      <td>Pearl diving</td>\n",
       "      <td>M</td>\n",
       "      <td>NaN</td>\n",
       "      <td>FATAL</td>\n",
       "      <td>Y</td>\n",
       "      <td>NaN</td>\n",
       "      <td>NaN</td>\n",
       "    </tr>\n",
       "    <tr>\n",
       "      <th>6555</th>\n",
       "      <td>ND.0003</td>\n",
       "      <td>1900-1905</td>\n",
       "      <td>0.0</td>\n",
       "      <td>Unprovoked</td>\n",
       "      <td>USA</td>\n",
       "      <td>North Carolina</td>\n",
       "      <td>Ocracoke Inlet</td>\n",
       "      <td>Swimming</td>\n",
       "      <td>M</td>\n",
       "      <td>NaN</td>\n",
       "      <td>FATAL</td>\n",
       "      <td>Y</td>\n",
       "      <td>NaN</td>\n",
       "      <td>NaN</td>\n",
       "    </tr>\n",
       "    <tr>\n",
       "      <th>6556</th>\n",
       "      <td>ND.0002</td>\n",
       "      <td>1883-1889</td>\n",
       "      <td>0.0</td>\n",
       "      <td>Unprovoked</td>\n",
       "      <td>PANAMA</td>\n",
       "      <td>NaN</td>\n",
       "      <td>Panama Bay 8ºN, 79ºW</td>\n",
       "      <td>NaN</td>\n",
       "      <td>M</td>\n",
       "      <td>NaN</td>\n",
       "      <td>FATAL</td>\n",
       "      <td>Y</td>\n",
       "      <td>NaN</td>\n",
       "      <td>NaN</td>\n",
       "    </tr>\n",
       "    <tr>\n",
       "      <th>6557</th>\n",
       "      <td>ND.0001</td>\n",
       "      <td>1845-1853</td>\n",
       "      <td>0.0</td>\n",
       "      <td>Unprovoked</td>\n",
       "      <td>CEYLON (SRI LANKA)</td>\n",
       "      <td>Eastern Province</td>\n",
       "      <td>Below the English fort, Trincomalee</td>\n",
       "      <td>Swimming</td>\n",
       "      <td>M</td>\n",
       "      <td>15</td>\n",
       "      <td>FATAL. \"Shark bit him in half, carrying away t...</td>\n",
       "      <td>Y</td>\n",
       "      <td>NaN</td>\n",
       "      <td>NaN</td>\n",
       "    </tr>\n",
       "  </tbody>\n",
       "</table>\n",
       "<p>6558 rows × 14 columns</p>\n",
       "</div>"
      ],
      "text/plain": [
       "       Case Number         Date    Year        Type             Country  \\\n",
       "0       2020.08.20  20-Aug-2020  2020.0  Unprovoked                 USA   \n",
       "1       2020.08.14  14-Aug-2020  2020.0  Unprovoked           AUSTRALIA   \n",
       "2       2020.08.10  10-Aug-2020  2020.0    Provoked                 USA   \n",
       "3       2020.08.02  02-Aug-2020  2020.0  Unprovoked                 USA   \n",
       "4     2020.07.31.c  31-Jul-2020  2020.0  Unprovoked                 USA   \n",
       "...            ...          ...     ...         ...                 ...   \n",
       "6553       ND.0005  Before 1903     0.0  Unprovoked           AUSTRALIA   \n",
       "6554       ND.0004  Before 1903     0.0  Unprovoked           AUSTRALIA   \n",
       "6555       ND.0003    1900-1905     0.0  Unprovoked                 USA   \n",
       "6556       ND.0002    1883-1889     0.0  Unprovoked              PANAMA   \n",
       "6557       ND.0001    1845-1853     0.0  Unprovoked  CEYLON (SRI LANKA)   \n",
       "\n",
       "                   Area                                 Location  \\\n",
       "0               Florida         New Smyrna Beach, Volusia County   \n",
       "1       New South Wales             Shelly Beach, Port Macquarie   \n",
       "2               Florida  Off Gasparilla Island, Charlotte County   \n",
       "3        Virgin Islands                   Candle Reef, St. Croix   \n",
       "4               Florida         New Smyrna Beach, Volusia County   \n",
       "...                 ...                                      ...   \n",
       "6553  Western Australia                              Roebuck Bay   \n",
       "6554  Western Australia                                      NaN   \n",
       "6555     North Carolina                           Ocracoke Inlet   \n",
       "6556                NaN                     Panama Bay 8ºN, 79ºW   \n",
       "6557   Eastern Province      Below the English fort, Trincomalee   \n",
       "\n",
       "             Activity Sex  Age  \\\n",
       "0     Boogie boarding   F   50   \n",
       "1             Surfing   F   35   \n",
       "2             Fishing   M   55   \n",
       "3          Snorkeling   F  NaN   \n",
       "4             Surfing   F   22   \n",
       "...               ...  ..  ...   \n",
       "6553           Diving   M  NaN   \n",
       "6554     Pearl diving   M  NaN   \n",
       "6555         Swimming   M  NaN   \n",
       "6556              NaN   M  NaN   \n",
       "6557         Swimming   M   15   \n",
       "\n",
       "                                                 Injury Fatal (Y/N)   Time  \\\n",
       "0                         Minor lacerations to left leg           N  11h00   \n",
       "1         Lacerations to right calf and posterior thigh           N  09h30   \n",
       "2     Injury to left forearm by hooked shark PROVOKE...           N  16h00   \n",
       "3                         Lacerations to hand and wrist           N  14h00   \n",
       "4                                  Lacerations to foot            N  17h00   \n",
       "...                                                 ...         ...    ...   \n",
       "6553                                              FATAL           Y    NaN   \n",
       "6554                                              FATAL           Y    NaN   \n",
       "6555                                              FATAL           Y    NaN   \n",
       "6556                                              FATAL           Y    NaN   \n",
       "6557  FATAL. \"Shark bit him in half, carrying away t...           Y    NaN   \n",
       "\n",
       "                   Species  \n",
       "0                      NaN  \n",
       "1     White shark, 2-to 3m  \n",
       "2       Blacktip shark, 6'  \n",
       "3          Nurse shark, 5'  \n",
       "4                      NaN  \n",
       "...                    ...  \n",
       "6553                   NaN  \n",
       "6554                   NaN  \n",
       "6555                   NaN  \n",
       "6556                   NaN  \n",
       "6557                   NaN  \n",
       "\n",
       "[6558 rows x 14 columns]"
      ]
     },
     "execution_count": 9,
     "metadata": {},
     "output_type": "execute_result"
    }
   ],
   "source": [
    "df"
   ]
  },
  {
   "cell_type": "code",
   "execution_count": null,
   "metadata": {},
   "outputs": [],
   "source": []
  },
  {
   "cell_type": "code",
   "execution_count": 61,
   "metadata": {
    "ExecuteTime": {
     "end_time": "2020-09-01T20:04:34.996968Z",
     "start_time": "2020-09-01T20:04:34.988970Z"
    }
   },
   "outputs": [
    {
     "data": {
      "text/plain": [
       "array([2020., 2019., 2018., 2017.,   nan, 2016., 2015., 2014., 2013.,\n",
       "       2012., 2011., 2010., 2009., 2008., 2007., 2006., 2005., 2004.,\n",
       "       2003., 2002., 2001., 2000., 1999., 1998., 1997., 1996., 1995.,\n",
       "       1984., 1994., 1993., 1992., 1991., 1990., 1989., 1969., 1988.,\n",
       "       1987., 1986., 1985., 1983., 1982., 1981., 1980., 1979., 1978.,\n",
       "       1977., 1976., 1975., 1974., 1973., 1972., 1971., 1970., 1968.,\n",
       "       1967., 1966., 1965., 1964., 1963., 1962., 1961., 1960., 1959.,\n",
       "       1958., 1957., 1956., 1955., 1954., 1953., 1952., 1951., 1950.,\n",
       "       1949., 1948., 1848., 1947., 1946., 1945., 1944., 1943., 1942.,\n",
       "       1941., 1940., 1939., 1938., 1937., 1936., 1935., 1934., 1933.,\n",
       "       1932., 1931., 1930., 1929., 1928., 1927., 1926., 1925., 1924.,\n",
       "       1923., 1922., 1921., 1920., 1919., 1918., 1917., 1916., 1915.,\n",
       "       1914., 1913., 1912., 1911., 1910., 1909., 1908., 1907., 1906.,\n",
       "       1905., 1904., 1903., 1902., 1901., 1900., 1899., 1898., 1897.,\n",
       "       1896., 1895., 1894., 1893., 1892., 1891., 1890., 1889., 1888.,\n",
       "       1887., 1886., 1885., 1884., 1883., 1882., 1881., 1880., 1879.,\n",
       "       1878., 1877., 1876., 1875., 1874., 1873., 1872., 1871., 1870.,\n",
       "       1869., 1868., 1867., 1866., 1865., 1864., 1863., 1862., 1861.,\n",
       "       1860., 1859., 1858., 1857., 1856., 1855., 1853., 1852., 1851.,\n",
       "       1850., 1849., 1847., 1846., 1845., 1844., 1842., 1841., 1840.,\n",
       "       1839., 1837., 1835., 1834., 1832., 1831., 1830., 1829., 1828.,\n",
       "       1827., 1826., 1825., 1819., 1818., 1817., 1816., 1815., 1812.,\n",
       "       1811., 1810., 1808., 1807., 1805., 1803., 1800., 1792., 1791.,\n",
       "       1787., 1786., 1785., 1784., 1783., 1780., 1779., 1776., 1771.,\n",
       "       1767., 1764., 1758., 1753., 1751., 1749., 1755., 1748., 1742.,\n",
       "       1738., 1723., 1721., 1703., 1700., 1642., 1638., 1595., 1580.,\n",
       "       1555., 1554., 1543.,  500.,   77.,    5.,    0.])"
      ]
     },
     "execution_count": 61,
     "metadata": {},
     "output_type": "execute_result"
    }
   ],
   "source": [
    "df.Year.unique()"
   ]
  },
  {
   "cell_type": "code",
   "execution_count": null,
   "metadata": {},
   "outputs": [],
   "source": []
  },
  {
   "cell_type": "code",
   "execution_count": null,
   "metadata": {},
   "outputs": [],
   "source": []
  },
  {
   "cell_type": "code",
   "execution_count": null,
   "metadata": {},
   "outputs": [],
   "source": []
  },
  {
   "cell_type": "code",
   "execution_count": null,
   "metadata": {},
   "outputs": [],
   "source": []
  },
  {
   "cell_type": "markdown",
   "metadata": {},
   "source": [
    "# Age"
   ]
  },
  {
   "cell_type": "code",
   "execution_count": 10,
   "metadata": {
    "ExecuteTime": {
     "end_time": "2020-09-01T19:48:43.552082Z",
     "start_time": "2020-09-01T19:48:43.545095Z"
    }
   },
   "outputs": [
    {
     "data": {
      "text/plain": [
       "array([50, 35, 55, nan, 22, 14, 28, 38, 4, 63, 23, 11, 12, 10, 29, 15, 36,\n",
       "       7, 16, 30, 60, 18, 9, 26, 57, 'Teen', 24, 59, 13, 75, 21, '30s',\n",
       "       45, 33, 17, 37, 70, 44, '28 & 22', 32, 20, 51, '22, 57, 31', '60s',\n",
       "       40, 49, \"20's\", 43, 8, 64, 19, 65, 67, 53, 34, 25, 58, 74, 46, 41,\n",
       "       31, '9 & 60', 48, '20s', 42, 39, 56, 61, 'a minor', 6, 62, 52, 54,\n",
       "       69, '40s', 3, 82, 73, 68, 47, 66, 72, 27, 71, '38', '39', '23',\n",
       "       '32', '52', '68', '12', '18', '19', '43', '47', '6', '37', '9',\n",
       "       '36', '10', '16', '13', '11', '17', '14', '30', '50', '29', '65',\n",
       "       '63', '26', '71', '48', '70', '58', '18 months', '22', '41', '35',\n",
       "       '57', '20', '24', '34', '15', '44', '53', '7', '40', '28', '33',\n",
       "       '31', '45', '50s', '8', '51', '61', '42', '25', 'teen', '66', '21',\n",
       "       '77', '46', '60', '74', '55', '27', '3', '56', '64', '28 & 26',\n",
       "       '62', '5', '49', '54', '86', '59', '18 or 20', '12 or 13',\n",
       "       '46 & 34', '28, 23 & 30', 'Teens', 77, '36 & 26', '8 or 10', 84,\n",
       "       '\\xa0 ', ' ', '30 or 36', '6½', '21 & ?', '33 or 37', 'mid-30s',\n",
       "       '23 & 20', 5, ' 30', '7      &    31', ' 28', '20?', \"60's\", '69',\n",
       "       '32 & 30', '16 to 18', '87', '67', 'Elderly', 'mid-20s', 'Ca. 33',\n",
       "       '74 ', '45 ', '21 or 26', '20 ', '>50', '18 to 22', 'adult',\n",
       "       '9 & 12', '? & 19', '9 months', '25 to 35', '23 & 26', 1,\n",
       "       '(adult)', '33 & 37', '25 or 28', '37, 67, 35, 27,  ? & 27',\n",
       "       '21, 34,24 & 35', '30 & 32', '50 & 30', '17 & 35', 'X',\n",
       "       '\"middle-age\"', '13 or 18', '34 & 19', '33 & 26', '2 to 3 months',\n",
       "       '4', 'MAKE LINE GREEN', ' 43', '81', '\"young\"', '7 or 8', 78,\n",
       "       '17 & 16', 'F', 'Both 11', '9 or 10', 'young', '36 & 23', '  ',\n",
       "       '78', 'A.M.', '?    &   14', '10 or 12', '31 or 33', '2½', '1',\n",
       "       '13 or 14'], dtype=object)"
      ]
     },
     "execution_count": 10,
     "metadata": {},
     "output_type": "execute_result"
    }
   ],
   "source": [
    "df.Age.unique()"
   ]
  },
  {
   "cell_type": "code",
   "execution_count": 11,
   "metadata": {
    "ExecuteTime": {
     "end_time": "2020-09-01T19:48:43.563048Z",
     "start_time": "2020-09-01T19:48:43.556066Z"
    }
   },
   "outputs": [],
   "source": [
    "# Function to convert string to integer\n",
    "def convert_str_to_int(age):\n",
    "    try:\n",
    "        age = int(age)\n",
    "    except:\n",
    "        age = -1\n",
    "    return age"
   ]
  },
  {
   "cell_type": "code",
   "execution_count": 12,
   "metadata": {
    "ExecuteTime": {
     "end_time": "2020-09-01T19:48:43.596957Z",
     "start_time": "2020-09-01T19:48:43.565041Z"
    }
   },
   "outputs": [
    {
     "data": {
      "text/html": [
       "<div>\n",
       "<style scoped>\n",
       "    .dataframe tbody tr th:only-of-type {\n",
       "        vertical-align: middle;\n",
       "    }\n",
       "\n",
       "    .dataframe tbody tr th {\n",
       "        vertical-align: top;\n",
       "    }\n",
       "\n",
       "    .dataframe thead th {\n",
       "        text-align: right;\n",
       "    }\n",
       "</style>\n",
       "<table border=\"1\" class=\"dataframe\">\n",
       "  <thead>\n",
       "    <tr style=\"text-align: right;\">\n",
       "      <th></th>\n",
       "      <th>Case Number</th>\n",
       "      <th>Date</th>\n",
       "      <th>Year</th>\n",
       "      <th>Type</th>\n",
       "      <th>Country</th>\n",
       "      <th>Area</th>\n",
       "      <th>Location</th>\n",
       "      <th>Activity</th>\n",
       "      <th>Sex</th>\n",
       "      <th>Age</th>\n",
       "      <th>Injury</th>\n",
       "      <th>Fatal (Y/N)</th>\n",
       "      <th>Time</th>\n",
       "      <th>Species</th>\n",
       "      <th>age_int</th>\n",
       "    </tr>\n",
       "  </thead>\n",
       "  <tbody>\n",
       "    <tr>\n",
       "      <th>0</th>\n",
       "      <td>2020.08.20</td>\n",
       "      <td>20-Aug-2020</td>\n",
       "      <td>2020.0</td>\n",
       "      <td>Unprovoked</td>\n",
       "      <td>USA</td>\n",
       "      <td>Florida</td>\n",
       "      <td>New Smyrna Beach, Volusia County</td>\n",
       "      <td>Boogie boarding</td>\n",
       "      <td>F</td>\n",
       "      <td>50</td>\n",
       "      <td>Minor lacerations to left leg</td>\n",
       "      <td>N</td>\n",
       "      <td>11h00</td>\n",
       "      <td>NaN</td>\n",
       "      <td>50</td>\n",
       "    </tr>\n",
       "    <tr>\n",
       "      <th>1</th>\n",
       "      <td>2020.08.14</td>\n",
       "      <td>14-Aug-2020</td>\n",
       "      <td>2020.0</td>\n",
       "      <td>Unprovoked</td>\n",
       "      <td>AUSTRALIA</td>\n",
       "      <td>New South Wales</td>\n",
       "      <td>Shelly Beach, Port Macquarie</td>\n",
       "      <td>Surfing</td>\n",
       "      <td>F</td>\n",
       "      <td>35</td>\n",
       "      <td>Lacerations to right calf and posterior thigh</td>\n",
       "      <td>N</td>\n",
       "      <td>09h30</td>\n",
       "      <td>White shark, 2-to 3m</td>\n",
       "      <td>35</td>\n",
       "    </tr>\n",
       "    <tr>\n",
       "      <th>2</th>\n",
       "      <td>2020.08.10</td>\n",
       "      <td>10-Aug-2020</td>\n",
       "      <td>2020.0</td>\n",
       "      <td>Provoked</td>\n",
       "      <td>USA</td>\n",
       "      <td>Florida</td>\n",
       "      <td>Off Gasparilla Island, Charlotte County</td>\n",
       "      <td>Fishing</td>\n",
       "      <td>M</td>\n",
       "      <td>55</td>\n",
       "      <td>Injury to left forearm by hooked shark PROVOKE...</td>\n",
       "      <td>N</td>\n",
       "      <td>16h00</td>\n",
       "      <td>Blacktip shark, 6'</td>\n",
       "      <td>55</td>\n",
       "    </tr>\n",
       "    <tr>\n",
       "      <th>3</th>\n",
       "      <td>2020.08.02</td>\n",
       "      <td>02-Aug-2020</td>\n",
       "      <td>2020.0</td>\n",
       "      <td>Unprovoked</td>\n",
       "      <td>USA</td>\n",
       "      <td>Virgin Islands</td>\n",
       "      <td>Candle Reef, St. Croix</td>\n",
       "      <td>Snorkeling</td>\n",
       "      <td>F</td>\n",
       "      <td>NaN</td>\n",
       "      <td>Lacerations to hand and wrist</td>\n",
       "      <td>N</td>\n",
       "      <td>14h00</td>\n",
       "      <td>Nurse shark, 5'</td>\n",
       "      <td>-1</td>\n",
       "    </tr>\n",
       "    <tr>\n",
       "      <th>4</th>\n",
       "      <td>2020.07.31.c</td>\n",
       "      <td>31-Jul-2020</td>\n",
       "      <td>2020.0</td>\n",
       "      <td>Unprovoked</td>\n",
       "      <td>USA</td>\n",
       "      <td>Florida</td>\n",
       "      <td>New Smyrna Beach, Volusia County</td>\n",
       "      <td>Surfing</td>\n",
       "      <td>F</td>\n",
       "      <td>22</td>\n",
       "      <td>Lacerations to foot</td>\n",
       "      <td>N</td>\n",
       "      <td>17h00</td>\n",
       "      <td>NaN</td>\n",
       "      <td>22</td>\n",
       "    </tr>\n",
       "    <tr>\n",
       "      <th>...</th>\n",
       "      <td>...</td>\n",
       "      <td>...</td>\n",
       "      <td>...</td>\n",
       "      <td>...</td>\n",
       "      <td>...</td>\n",
       "      <td>...</td>\n",
       "      <td>...</td>\n",
       "      <td>...</td>\n",
       "      <td>...</td>\n",
       "      <td>...</td>\n",
       "      <td>...</td>\n",
       "      <td>...</td>\n",
       "      <td>...</td>\n",
       "      <td>...</td>\n",
       "      <td>...</td>\n",
       "    </tr>\n",
       "    <tr>\n",
       "      <th>6553</th>\n",
       "      <td>ND.0005</td>\n",
       "      <td>Before 1903</td>\n",
       "      <td>0.0</td>\n",
       "      <td>Unprovoked</td>\n",
       "      <td>AUSTRALIA</td>\n",
       "      <td>Western Australia</td>\n",
       "      <td>Roebuck Bay</td>\n",
       "      <td>Diving</td>\n",
       "      <td>M</td>\n",
       "      <td>NaN</td>\n",
       "      <td>FATAL</td>\n",
       "      <td>Y</td>\n",
       "      <td>NaN</td>\n",
       "      <td>NaN</td>\n",
       "      <td>-1</td>\n",
       "    </tr>\n",
       "    <tr>\n",
       "      <th>6554</th>\n",
       "      <td>ND.0004</td>\n",
       "      <td>Before 1903</td>\n",
       "      <td>0.0</td>\n",
       "      <td>Unprovoked</td>\n",
       "      <td>AUSTRALIA</td>\n",
       "      <td>Western Australia</td>\n",
       "      <td>NaN</td>\n",
       "      <td>Pearl diving</td>\n",
       "      <td>M</td>\n",
       "      <td>NaN</td>\n",
       "      <td>FATAL</td>\n",
       "      <td>Y</td>\n",
       "      <td>NaN</td>\n",
       "      <td>NaN</td>\n",
       "      <td>-1</td>\n",
       "    </tr>\n",
       "    <tr>\n",
       "      <th>6555</th>\n",
       "      <td>ND.0003</td>\n",
       "      <td>1900-1905</td>\n",
       "      <td>0.0</td>\n",
       "      <td>Unprovoked</td>\n",
       "      <td>USA</td>\n",
       "      <td>North Carolina</td>\n",
       "      <td>Ocracoke Inlet</td>\n",
       "      <td>Swimming</td>\n",
       "      <td>M</td>\n",
       "      <td>NaN</td>\n",
       "      <td>FATAL</td>\n",
       "      <td>Y</td>\n",
       "      <td>NaN</td>\n",
       "      <td>NaN</td>\n",
       "      <td>-1</td>\n",
       "    </tr>\n",
       "    <tr>\n",
       "      <th>6556</th>\n",
       "      <td>ND.0002</td>\n",
       "      <td>1883-1889</td>\n",
       "      <td>0.0</td>\n",
       "      <td>Unprovoked</td>\n",
       "      <td>PANAMA</td>\n",
       "      <td>NaN</td>\n",
       "      <td>Panama Bay 8ºN, 79ºW</td>\n",
       "      <td>NaN</td>\n",
       "      <td>M</td>\n",
       "      <td>NaN</td>\n",
       "      <td>FATAL</td>\n",
       "      <td>Y</td>\n",
       "      <td>NaN</td>\n",
       "      <td>NaN</td>\n",
       "      <td>-1</td>\n",
       "    </tr>\n",
       "    <tr>\n",
       "      <th>6557</th>\n",
       "      <td>ND.0001</td>\n",
       "      <td>1845-1853</td>\n",
       "      <td>0.0</td>\n",
       "      <td>Unprovoked</td>\n",
       "      <td>CEYLON (SRI LANKA)</td>\n",
       "      <td>Eastern Province</td>\n",
       "      <td>Below the English fort, Trincomalee</td>\n",
       "      <td>Swimming</td>\n",
       "      <td>M</td>\n",
       "      <td>15</td>\n",
       "      <td>FATAL. \"Shark bit him in half, carrying away t...</td>\n",
       "      <td>Y</td>\n",
       "      <td>NaN</td>\n",
       "      <td>NaN</td>\n",
       "      <td>15</td>\n",
       "    </tr>\n",
       "  </tbody>\n",
       "</table>\n",
       "<p>6558 rows × 15 columns</p>\n",
       "</div>"
      ],
      "text/plain": [
       "       Case Number         Date    Year        Type             Country  \\\n",
       "0       2020.08.20  20-Aug-2020  2020.0  Unprovoked                 USA   \n",
       "1       2020.08.14  14-Aug-2020  2020.0  Unprovoked           AUSTRALIA   \n",
       "2       2020.08.10  10-Aug-2020  2020.0    Provoked                 USA   \n",
       "3       2020.08.02  02-Aug-2020  2020.0  Unprovoked                 USA   \n",
       "4     2020.07.31.c  31-Jul-2020  2020.0  Unprovoked                 USA   \n",
       "...            ...          ...     ...         ...                 ...   \n",
       "6553       ND.0005  Before 1903     0.0  Unprovoked           AUSTRALIA   \n",
       "6554       ND.0004  Before 1903     0.0  Unprovoked           AUSTRALIA   \n",
       "6555       ND.0003    1900-1905     0.0  Unprovoked                 USA   \n",
       "6556       ND.0002    1883-1889     0.0  Unprovoked              PANAMA   \n",
       "6557       ND.0001    1845-1853     0.0  Unprovoked  CEYLON (SRI LANKA)   \n",
       "\n",
       "                   Area                                 Location  \\\n",
       "0               Florida         New Smyrna Beach, Volusia County   \n",
       "1       New South Wales             Shelly Beach, Port Macquarie   \n",
       "2               Florida  Off Gasparilla Island, Charlotte County   \n",
       "3        Virgin Islands                   Candle Reef, St. Croix   \n",
       "4               Florida         New Smyrna Beach, Volusia County   \n",
       "...                 ...                                      ...   \n",
       "6553  Western Australia                              Roebuck Bay   \n",
       "6554  Western Australia                                      NaN   \n",
       "6555     North Carolina                           Ocracoke Inlet   \n",
       "6556                NaN                     Panama Bay 8ºN, 79ºW   \n",
       "6557   Eastern Province      Below the English fort, Trincomalee   \n",
       "\n",
       "             Activity Sex  Age  \\\n",
       "0     Boogie boarding   F   50   \n",
       "1             Surfing   F   35   \n",
       "2             Fishing   M   55   \n",
       "3          Snorkeling   F  NaN   \n",
       "4             Surfing   F   22   \n",
       "...               ...  ..  ...   \n",
       "6553           Diving   M  NaN   \n",
       "6554     Pearl diving   M  NaN   \n",
       "6555         Swimming   M  NaN   \n",
       "6556              NaN   M  NaN   \n",
       "6557         Swimming   M   15   \n",
       "\n",
       "                                                 Injury Fatal (Y/N)   Time  \\\n",
       "0                         Minor lacerations to left leg           N  11h00   \n",
       "1         Lacerations to right calf and posterior thigh           N  09h30   \n",
       "2     Injury to left forearm by hooked shark PROVOKE...           N  16h00   \n",
       "3                         Lacerations to hand and wrist           N  14h00   \n",
       "4                                  Lacerations to foot            N  17h00   \n",
       "...                                                 ...         ...    ...   \n",
       "6553                                              FATAL           Y    NaN   \n",
       "6554                                              FATAL           Y    NaN   \n",
       "6555                                              FATAL           Y    NaN   \n",
       "6556                                              FATAL           Y    NaN   \n",
       "6557  FATAL. \"Shark bit him in half, carrying away t...           Y    NaN   \n",
       "\n",
       "                   Species  age_int  \n",
       "0                      NaN       50  \n",
       "1     White shark, 2-to 3m       35  \n",
       "2       Blacktip shark, 6'       55  \n",
       "3          Nurse shark, 5'       -1  \n",
       "4                      NaN       22  \n",
       "...                    ...      ...  \n",
       "6553                   NaN       -1  \n",
       "6554                   NaN       -1  \n",
       "6555                   NaN       -1  \n",
       "6556                   NaN       -1  \n",
       "6557                   NaN       15  \n",
       "\n",
       "[6558 rows x 15 columns]"
      ]
     },
     "execution_count": 12,
     "metadata": {},
     "output_type": "execute_result"
    }
   ],
   "source": [
    "# Convert the strings in column 'Age' to integers\n",
    "df['age_int'] = df.Age.apply(convert_str_to_int)\n",
    "\n",
    "# Check the result\n",
    "df"
   ]
  },
  {
   "cell_type": "code",
   "execution_count": 13,
   "metadata": {
    "ExecuteTime": {
     "end_time": "2020-09-01T19:48:43.607926Z",
     "start_time": "2020-09-01T19:48:43.598951Z"
    }
   },
   "outputs": [],
   "source": [
    "# Classification by age\n",
    "df['age_cat'] = np.where(df['age_int'] > 65, 'Elder',\n",
    "                        np.where(df['age_int'] > 35, 'Adult',\n",
    "                                np.where(df['age_int'] > 17, 'Young Adult',\n",
    "                                        np.where(df['age_int'] > 12, 'Teenager',\n",
    "                                                 np.where(df['age_int'] == -1, '-', 'Child')))))"
   ]
  },
  {
   "cell_type": "code",
   "execution_count": 14,
   "metadata": {
    "ExecuteTime": {
     "end_time": "2020-09-01T19:48:43.629868Z",
     "start_time": "2020-09-01T19:48:43.608924Z"
    }
   },
   "outputs": [
    {
     "data": {
      "text/html": [
       "<div>\n",
       "<style scoped>\n",
       "    .dataframe tbody tr th:only-of-type {\n",
       "        vertical-align: middle;\n",
       "    }\n",
       "\n",
       "    .dataframe tbody tr th {\n",
       "        vertical-align: top;\n",
       "    }\n",
       "\n",
       "    .dataframe thead th {\n",
       "        text-align: right;\n",
       "    }\n",
       "</style>\n",
       "<table border=\"1\" class=\"dataframe\">\n",
       "  <thead>\n",
       "    <tr style=\"text-align: right;\">\n",
       "      <th></th>\n",
       "      <th>Case Number</th>\n",
       "      <th>Date</th>\n",
       "      <th>Year</th>\n",
       "      <th>Type</th>\n",
       "      <th>Country</th>\n",
       "      <th>Area</th>\n",
       "      <th>Location</th>\n",
       "      <th>Activity</th>\n",
       "      <th>Sex</th>\n",
       "      <th>Age</th>\n",
       "      <th>Injury</th>\n",
       "      <th>Fatal (Y/N)</th>\n",
       "      <th>Time</th>\n",
       "      <th>Species</th>\n",
       "      <th>age_int</th>\n",
       "      <th>age_cat</th>\n",
       "    </tr>\n",
       "  </thead>\n",
       "  <tbody>\n",
       "    <tr>\n",
       "      <th>0</th>\n",
       "      <td>2020.08.20</td>\n",
       "      <td>20-Aug-2020</td>\n",
       "      <td>2020.0</td>\n",
       "      <td>Unprovoked</td>\n",
       "      <td>USA</td>\n",
       "      <td>Florida</td>\n",
       "      <td>New Smyrna Beach, Volusia County</td>\n",
       "      <td>Boogie boarding</td>\n",
       "      <td>F</td>\n",
       "      <td>50</td>\n",
       "      <td>Minor lacerations to left leg</td>\n",
       "      <td>N</td>\n",
       "      <td>11h00</td>\n",
       "      <td>NaN</td>\n",
       "      <td>50</td>\n",
       "      <td>Adult</td>\n",
       "    </tr>\n",
       "    <tr>\n",
       "      <th>1</th>\n",
       "      <td>2020.08.14</td>\n",
       "      <td>14-Aug-2020</td>\n",
       "      <td>2020.0</td>\n",
       "      <td>Unprovoked</td>\n",
       "      <td>AUSTRALIA</td>\n",
       "      <td>New South Wales</td>\n",
       "      <td>Shelly Beach, Port Macquarie</td>\n",
       "      <td>Surfing</td>\n",
       "      <td>F</td>\n",
       "      <td>35</td>\n",
       "      <td>Lacerations to right calf and posterior thigh</td>\n",
       "      <td>N</td>\n",
       "      <td>09h30</td>\n",
       "      <td>White shark, 2-to 3m</td>\n",
       "      <td>35</td>\n",
       "      <td>Young Adult</td>\n",
       "    </tr>\n",
       "    <tr>\n",
       "      <th>2</th>\n",
       "      <td>2020.08.10</td>\n",
       "      <td>10-Aug-2020</td>\n",
       "      <td>2020.0</td>\n",
       "      <td>Provoked</td>\n",
       "      <td>USA</td>\n",
       "      <td>Florida</td>\n",
       "      <td>Off Gasparilla Island, Charlotte County</td>\n",
       "      <td>Fishing</td>\n",
       "      <td>M</td>\n",
       "      <td>55</td>\n",
       "      <td>Injury to left forearm by hooked shark PROVOKE...</td>\n",
       "      <td>N</td>\n",
       "      <td>16h00</td>\n",
       "      <td>Blacktip shark, 6'</td>\n",
       "      <td>55</td>\n",
       "      <td>Adult</td>\n",
       "    </tr>\n",
       "    <tr>\n",
       "      <th>3</th>\n",
       "      <td>2020.08.02</td>\n",
       "      <td>02-Aug-2020</td>\n",
       "      <td>2020.0</td>\n",
       "      <td>Unprovoked</td>\n",
       "      <td>USA</td>\n",
       "      <td>Virgin Islands</td>\n",
       "      <td>Candle Reef, St. Croix</td>\n",
       "      <td>Snorkeling</td>\n",
       "      <td>F</td>\n",
       "      <td>NaN</td>\n",
       "      <td>Lacerations to hand and wrist</td>\n",
       "      <td>N</td>\n",
       "      <td>14h00</td>\n",
       "      <td>Nurse shark, 5'</td>\n",
       "      <td>-1</td>\n",
       "      <td>-</td>\n",
       "    </tr>\n",
       "    <tr>\n",
       "      <th>4</th>\n",
       "      <td>2020.07.31.c</td>\n",
       "      <td>31-Jul-2020</td>\n",
       "      <td>2020.0</td>\n",
       "      <td>Unprovoked</td>\n",
       "      <td>USA</td>\n",
       "      <td>Florida</td>\n",
       "      <td>New Smyrna Beach, Volusia County</td>\n",
       "      <td>Surfing</td>\n",
       "      <td>F</td>\n",
       "      <td>22</td>\n",
       "      <td>Lacerations to foot</td>\n",
       "      <td>N</td>\n",
       "      <td>17h00</td>\n",
       "      <td>NaN</td>\n",
       "      <td>22</td>\n",
       "      <td>Young Adult</td>\n",
       "    </tr>\n",
       "    <tr>\n",
       "      <th>...</th>\n",
       "      <td>...</td>\n",
       "      <td>...</td>\n",
       "      <td>...</td>\n",
       "      <td>...</td>\n",
       "      <td>...</td>\n",
       "      <td>...</td>\n",
       "      <td>...</td>\n",
       "      <td>...</td>\n",
       "      <td>...</td>\n",
       "      <td>...</td>\n",
       "      <td>...</td>\n",
       "      <td>...</td>\n",
       "      <td>...</td>\n",
       "      <td>...</td>\n",
       "      <td>...</td>\n",
       "      <td>...</td>\n",
       "    </tr>\n",
       "    <tr>\n",
       "      <th>6553</th>\n",
       "      <td>ND.0005</td>\n",
       "      <td>Before 1903</td>\n",
       "      <td>0.0</td>\n",
       "      <td>Unprovoked</td>\n",
       "      <td>AUSTRALIA</td>\n",
       "      <td>Western Australia</td>\n",
       "      <td>Roebuck Bay</td>\n",
       "      <td>Diving</td>\n",
       "      <td>M</td>\n",
       "      <td>NaN</td>\n",
       "      <td>FATAL</td>\n",
       "      <td>Y</td>\n",
       "      <td>NaN</td>\n",
       "      <td>NaN</td>\n",
       "      <td>-1</td>\n",
       "      <td>-</td>\n",
       "    </tr>\n",
       "    <tr>\n",
       "      <th>6554</th>\n",
       "      <td>ND.0004</td>\n",
       "      <td>Before 1903</td>\n",
       "      <td>0.0</td>\n",
       "      <td>Unprovoked</td>\n",
       "      <td>AUSTRALIA</td>\n",
       "      <td>Western Australia</td>\n",
       "      <td>NaN</td>\n",
       "      <td>Pearl diving</td>\n",
       "      <td>M</td>\n",
       "      <td>NaN</td>\n",
       "      <td>FATAL</td>\n",
       "      <td>Y</td>\n",
       "      <td>NaN</td>\n",
       "      <td>NaN</td>\n",
       "      <td>-1</td>\n",
       "      <td>-</td>\n",
       "    </tr>\n",
       "    <tr>\n",
       "      <th>6555</th>\n",
       "      <td>ND.0003</td>\n",
       "      <td>1900-1905</td>\n",
       "      <td>0.0</td>\n",
       "      <td>Unprovoked</td>\n",
       "      <td>USA</td>\n",
       "      <td>North Carolina</td>\n",
       "      <td>Ocracoke Inlet</td>\n",
       "      <td>Swimming</td>\n",
       "      <td>M</td>\n",
       "      <td>NaN</td>\n",
       "      <td>FATAL</td>\n",
       "      <td>Y</td>\n",
       "      <td>NaN</td>\n",
       "      <td>NaN</td>\n",
       "      <td>-1</td>\n",
       "      <td>-</td>\n",
       "    </tr>\n",
       "    <tr>\n",
       "      <th>6556</th>\n",
       "      <td>ND.0002</td>\n",
       "      <td>1883-1889</td>\n",
       "      <td>0.0</td>\n",
       "      <td>Unprovoked</td>\n",
       "      <td>PANAMA</td>\n",
       "      <td>NaN</td>\n",
       "      <td>Panama Bay 8ºN, 79ºW</td>\n",
       "      <td>NaN</td>\n",
       "      <td>M</td>\n",
       "      <td>NaN</td>\n",
       "      <td>FATAL</td>\n",
       "      <td>Y</td>\n",
       "      <td>NaN</td>\n",
       "      <td>NaN</td>\n",
       "      <td>-1</td>\n",
       "      <td>-</td>\n",
       "    </tr>\n",
       "    <tr>\n",
       "      <th>6557</th>\n",
       "      <td>ND.0001</td>\n",
       "      <td>1845-1853</td>\n",
       "      <td>0.0</td>\n",
       "      <td>Unprovoked</td>\n",
       "      <td>CEYLON (SRI LANKA)</td>\n",
       "      <td>Eastern Province</td>\n",
       "      <td>Below the English fort, Trincomalee</td>\n",
       "      <td>Swimming</td>\n",
       "      <td>M</td>\n",
       "      <td>15</td>\n",
       "      <td>FATAL. \"Shark bit him in half, carrying away t...</td>\n",
       "      <td>Y</td>\n",
       "      <td>NaN</td>\n",
       "      <td>NaN</td>\n",
       "      <td>15</td>\n",
       "      <td>Teenager</td>\n",
       "    </tr>\n",
       "  </tbody>\n",
       "</table>\n",
       "<p>6558 rows × 16 columns</p>\n",
       "</div>"
      ],
      "text/plain": [
       "       Case Number         Date    Year        Type             Country  \\\n",
       "0       2020.08.20  20-Aug-2020  2020.0  Unprovoked                 USA   \n",
       "1       2020.08.14  14-Aug-2020  2020.0  Unprovoked           AUSTRALIA   \n",
       "2       2020.08.10  10-Aug-2020  2020.0    Provoked                 USA   \n",
       "3       2020.08.02  02-Aug-2020  2020.0  Unprovoked                 USA   \n",
       "4     2020.07.31.c  31-Jul-2020  2020.0  Unprovoked                 USA   \n",
       "...            ...          ...     ...         ...                 ...   \n",
       "6553       ND.0005  Before 1903     0.0  Unprovoked           AUSTRALIA   \n",
       "6554       ND.0004  Before 1903     0.0  Unprovoked           AUSTRALIA   \n",
       "6555       ND.0003    1900-1905     0.0  Unprovoked                 USA   \n",
       "6556       ND.0002    1883-1889     0.0  Unprovoked              PANAMA   \n",
       "6557       ND.0001    1845-1853     0.0  Unprovoked  CEYLON (SRI LANKA)   \n",
       "\n",
       "                   Area                                 Location  \\\n",
       "0               Florida         New Smyrna Beach, Volusia County   \n",
       "1       New South Wales             Shelly Beach, Port Macquarie   \n",
       "2               Florida  Off Gasparilla Island, Charlotte County   \n",
       "3        Virgin Islands                   Candle Reef, St. Croix   \n",
       "4               Florida         New Smyrna Beach, Volusia County   \n",
       "...                 ...                                      ...   \n",
       "6553  Western Australia                              Roebuck Bay   \n",
       "6554  Western Australia                                      NaN   \n",
       "6555     North Carolina                           Ocracoke Inlet   \n",
       "6556                NaN                     Panama Bay 8ºN, 79ºW   \n",
       "6557   Eastern Province      Below the English fort, Trincomalee   \n",
       "\n",
       "             Activity Sex  Age  \\\n",
       "0     Boogie boarding   F   50   \n",
       "1             Surfing   F   35   \n",
       "2             Fishing   M   55   \n",
       "3          Snorkeling   F  NaN   \n",
       "4             Surfing   F   22   \n",
       "...               ...  ..  ...   \n",
       "6553           Diving   M  NaN   \n",
       "6554     Pearl diving   M  NaN   \n",
       "6555         Swimming   M  NaN   \n",
       "6556              NaN   M  NaN   \n",
       "6557         Swimming   M   15   \n",
       "\n",
       "                                                 Injury Fatal (Y/N)   Time  \\\n",
       "0                         Minor lacerations to left leg           N  11h00   \n",
       "1         Lacerations to right calf and posterior thigh           N  09h30   \n",
       "2     Injury to left forearm by hooked shark PROVOKE...           N  16h00   \n",
       "3                         Lacerations to hand and wrist           N  14h00   \n",
       "4                                  Lacerations to foot            N  17h00   \n",
       "...                                                 ...         ...    ...   \n",
       "6553                                              FATAL           Y    NaN   \n",
       "6554                                              FATAL           Y    NaN   \n",
       "6555                                              FATAL           Y    NaN   \n",
       "6556                                              FATAL           Y    NaN   \n",
       "6557  FATAL. \"Shark bit him in half, carrying away t...           Y    NaN   \n",
       "\n",
       "                   Species  age_int      age_cat  \n",
       "0                      NaN       50        Adult  \n",
       "1     White shark, 2-to 3m       35  Young Adult  \n",
       "2       Blacktip shark, 6'       55        Adult  \n",
       "3          Nurse shark, 5'       -1            -  \n",
       "4                      NaN       22  Young Adult  \n",
       "...                    ...      ...          ...  \n",
       "6553                   NaN       -1            -  \n",
       "6554                   NaN       -1            -  \n",
       "6555                   NaN       -1            -  \n",
       "6556                   NaN       -1            -  \n",
       "6557                   NaN       15     Teenager  \n",
       "\n",
       "[6558 rows x 16 columns]"
      ]
     },
     "execution_count": 14,
     "metadata": {},
     "output_type": "execute_result"
    }
   ],
   "source": [
    "df"
   ]
  },
  {
   "cell_type": "markdown",
   "metadata": {},
   "source": [
    "# Gender"
   ]
  },
  {
   "cell_type": "code",
   "execution_count": 15,
   "metadata": {
    "ExecuteTime": {
     "end_time": "2020-09-01T19:48:43.635853Z",
     "start_time": "2020-09-01T19:48:43.630871Z"
    }
   },
   "outputs": [
    {
     "data": {
      "text/plain": [
       "array(['F', 'M', nan, 'M ', 'lli', 'M x 2', 'N', '.'], dtype=object)"
      ]
     },
     "execution_count": 15,
     "metadata": {},
     "output_type": "execute_result"
    }
   ],
   "source": [
    "# Check the column 'Sex'\n",
    "df.Sex.unique()"
   ]
  },
  {
   "cell_type": "code",
   "execution_count": 16,
   "metadata": {
    "ExecuteTime": {
     "end_time": "2020-09-01T19:48:43.642833Z",
     "start_time": "2020-09-01T19:48:43.637848Z"
    }
   },
   "outputs": [
    {
     "data": {
      "text/plain": [
       "5987"
      ]
     },
     "execution_count": 16,
     "metadata": {},
     "output_type": "execute_result"
    }
   ],
   "source": [
    "df.Sex.count()"
   ]
  },
  {
   "cell_type": "code",
   "execution_count": 17,
   "metadata": {
    "ExecuteTime": {
     "end_time": "2020-09-01T19:48:43.648817Z",
     "start_time": "2020-09-01T19:48:43.643830Z"
    }
   },
   "outputs": [
    {
     "name": "stdout",
     "output_type": "stream",
     "text": [
      "The number of NaN in the column \"Sex\" is 571, which represents 9.54% of the dataset.\n"
     ]
    }
   ],
   "source": [
    "# Check number of missing values\n",
    "print(f'The number of NaN in the column \"Sex\" is {df.Sex.isna().sum()}, which represents '\n",
    "      f'{(df.Sex.isna().sum() / df.Sex.count())*100:.2f}% of the dataset.', sep=' ')"
   ]
  },
  {
   "cell_type": "markdown",
   "metadata": {},
   "source": [
    "Since the NaN represents only a samll part of the dataset, the rows containing NaN in the column 'Sex' will be removed."
   ]
  },
  {
   "cell_type": "code",
   "execution_count": 18,
   "metadata": {
    "ExecuteTime": {
     "end_time": "2020-09-01T19:48:43.660785Z",
     "start_time": "2020-09-01T19:48:43.649816Z"
    }
   },
   "outputs": [],
   "source": [
    "# Remove rows that the column 'Sex' is a missing value\n",
    "df[df.Sex.isna()]\n",
    "df = df.drop(df[df.Sex.isna()].index)"
   ]
  },
  {
   "cell_type": "code",
   "execution_count": 19,
   "metadata": {
    "ExecuteTime": {
     "end_time": "2020-09-01T19:48:43.674748Z",
     "start_time": "2020-09-01T19:48:43.661783Z"
    }
   },
   "outputs": [
    {
     "name": "stdout",
     "output_type": "stream",
     "text": [
      "<class 'pandas.core.frame.DataFrame'>\n",
      "Int64Index: 5987 entries, 0 to 6557\n",
      "Data columns (total 16 columns):\n",
      " #   Column       Non-Null Count  Dtype  \n",
      "---  ------       --------------  -----  \n",
      " 0   Case Number  5986 non-null   object \n",
      " 1   Date         5987 non-null   object \n",
      " 2   Year         5985 non-null   float64\n",
      " 3   Type         5981 non-null   object \n",
      " 4   Country      5941 non-null   object \n",
      " 5   Area         5581 non-null   object \n",
      " 6   Location     5505 non-null   object \n",
      " 7   Activity     5583 non-null   object \n",
      " 8   Sex          5987 non-null   object \n",
      " 9   Age          3621 non-null   object \n",
      " 10  Injury       5972 non-null   object \n",
      " 11  Fatal (Y/N)  5516 non-null   object \n",
      " 12  Time         3032 non-null   object \n",
      " 13  Species      3287 non-null   object \n",
      " 14  age_int      5987 non-null   int64  \n",
      " 15  age_cat      5987 non-null   object \n",
      "dtypes: float64(1), int64(1), object(14)\n",
      "memory usage: 795.1+ KB\n"
     ]
    }
   ],
   "source": [
    "# Check infromation about the changed dataset\n",
    "df.info()"
   ]
  },
  {
   "cell_type": "code",
   "execution_count": 20,
   "metadata": {
    "ExecuteTime": {
     "end_time": "2020-09-01T19:48:43.680732Z",
     "start_time": "2020-09-01T19:48:43.675745Z"
    },
    "scrolled": true
   },
   "outputs": [
    {
     "data": {
      "text/plain": [
       "M        5287\n",
       "F         693\n",
       "N           2\n",
       "M           2\n",
       "M x 2       1\n",
       "lli         1\n",
       ".           1\n",
       "Name: Sex, dtype: int64"
      ]
     },
     "execution_count": 20,
     "metadata": {},
     "output_type": "execute_result"
    }
   ],
   "source": [
    "# Check values in the column 'Sex'\n",
    "df.Sex.value_counts()"
   ]
  },
  {
   "cell_type": "code",
   "execution_count": 21,
   "metadata": {
    "ExecuteTime": {
     "end_time": "2020-09-01T19:48:43.689708Z",
     "start_time": "2020-09-01T19:48:43.681729Z"
    }
   },
   "outputs": [
    {
     "data": {
      "text/plain": [
       "M        5289\n",
       "F         693\n",
       "N           2\n",
       "M x 2       1\n",
       "lli         1\n",
       ".           1\n",
       "Name: Sex, dtype: int64"
      ]
     },
     "execution_count": 21,
     "metadata": {},
     "output_type": "execute_result"
    }
   ],
   "source": [
    "# Remove unnecessary spaces in the values of the column 'Sex'\n",
    "df['Sex'] = df['Sex'].str.strip()\n",
    "df.Sex.value_counts()"
   ]
  },
  {
   "cell_type": "code",
   "execution_count": 22,
   "metadata": {
    "ExecuteTime": {
     "end_time": "2020-09-01T19:48:43.702673Z",
     "start_time": "2020-09-01T19:48:43.690705Z"
    }
   },
   "outputs": [
    {
     "data": {
      "text/plain": [
       "M    5289\n",
       "F     693\n",
       "Name: Sex, dtype: int64"
      ]
     },
     "execution_count": 22,
     "metadata": {},
     "output_type": "execute_result"
    }
   ],
   "source": [
    "# Remove rows that the gender is 'N', 'lli', '.' or 'M x 2'\n",
    "df = df.drop(df[(df.Sex == '.') | (df.Sex == 'N') | (df.Sex == 'lli') | ((df.Sex == 'M x 2'))].index)\n",
    "df.Sex.value_counts()"
   ]
  },
  {
   "cell_type": "code",
   "execution_count": 23,
   "metadata": {
    "ExecuteTime": {
     "end_time": "2020-09-01T19:48:43.718634Z",
     "start_time": "2020-09-01T19:48:43.703671Z"
    }
   },
   "outputs": [
    {
     "name": "stdout",
     "output_type": "stream",
     "text": [
      "<class 'pandas.core.frame.DataFrame'>\n",
      "Int64Index: 5982 entries, 0 to 6557\n",
      "Data columns (total 16 columns):\n",
      " #   Column       Non-Null Count  Dtype  \n",
      "---  ------       --------------  -----  \n",
      " 0   Case Number  5981 non-null   object \n",
      " 1   Date         5982 non-null   object \n",
      " 2   Year         5980 non-null   float64\n",
      " 3   Type         5976 non-null   object \n",
      " 4   Country      5937 non-null   object \n",
      " 5   Area         5577 non-null   object \n",
      " 6   Location     5502 non-null   object \n",
      " 7   Activity     5578 non-null   object \n",
      " 8   Sex          5982 non-null   object \n",
      " 9   Age          3620 non-null   object \n",
      " 10  Injury       5967 non-null   object \n",
      " 11  Fatal (Y/N)  5511 non-null   object \n",
      " 12  Time         3031 non-null   object \n",
      " 13  Species      3283 non-null   object \n",
      " 14  age_int      5982 non-null   int64  \n",
      " 15  age_cat      5982 non-null   object \n",
      "dtypes: float64(1), int64(1), object(14)\n",
      "memory usage: 794.5+ KB\n"
     ]
    }
   ],
   "source": [
    "# Check infromation about the changed dataset\n",
    "# 5 columns were removed\n",
    "df.info()"
   ]
  },
  {
   "cell_type": "code",
   "execution_count": 24,
   "metadata": {
    "ExecuteTime": {
     "end_time": "2020-09-01T19:48:43.730599Z",
     "start_time": "2020-09-01T19:48:43.722621Z"
    }
   },
   "outputs": [
    {
     "data": {
      "text/plain": [
       "M    0.884152\n",
       "F    0.115848\n",
       "Name: Sex, dtype: float64"
      ]
     },
     "execution_count": 24,
     "metadata": {},
     "output_type": "execute_result"
    }
   ],
   "source": [
    "# Check column 'Sex' percentage\n",
    "df_gener_total = df.Sex.value_counts().sum()\n",
    "df.Sex.value_counts() / df_gener_total"
   ]
  },
  {
   "cell_type": "code",
   "execution_count": 25,
   "metadata": {
    "ExecuteTime": {
     "end_time": "2020-09-01T19:48:43.741569Z",
     "start_time": "2020-09-01T19:48:43.735591Z"
    }
   },
   "outputs": [
    {
     "name": "stdout",
     "output_type": "stream",
     "text": [
      "The males represent 88.42% of the people who wereinvolved in incidents with sharks, while women represent only 11.58%.\n"
     ]
    }
   ],
   "source": [
    "print(f'The males represent {(df.Sex.value_counts() / df_gener_total)[0]*100:.2f}% of the people who were'\n",
    "      f'involved in incidents with sharks, while women represent only {(df.Sex.value_counts() / df_gener_total)[1]*100:.2f}%.',sep=' ')"
   ]
  },
  {
   "cell_type": "code",
   "execution_count": 26,
   "metadata": {
    "ExecuteTime": {
     "end_time": "2020-09-01T19:48:43.748550Z",
     "start_time": "2020-09-01T19:48:43.743564Z"
    }
   },
   "outputs": [],
   "source": [
    "# Create a subset containing only females\n",
    "df_male = df.loc[df['Sex'] == 'F']"
   ]
  },
  {
   "cell_type": "code",
   "execution_count": 27,
   "metadata": {
    "ExecuteTime": {
     "end_time": "2020-09-01T19:48:43.763510Z",
     "start_time": "2020-09-01T19:48:43.749548Z"
    }
   },
   "outputs": [
    {
     "name": "stdout",
     "output_type": "stream",
     "text": [
      "<class 'pandas.core.frame.DataFrame'>\n",
      "Int64Index: 5289 entries, 2 to 6557\n",
      "Data columns (total 16 columns):\n",
      " #   Column       Non-Null Count  Dtype  \n",
      "---  ------       --------------  -----  \n",
      " 0   Case Number  5288 non-null   object \n",
      " 1   Date         5289 non-null   object \n",
      " 2   Year         5287 non-null   float64\n",
      " 3   Type         5283 non-null   object \n",
      " 4   Country      5247 non-null   object \n",
      " 5   Area         4904 non-null   object \n",
      " 6   Location     4839 non-null   object \n",
      " 7   Activity     4942 non-null   object \n",
      " 8   Sex          5289 non-null   object \n",
      " 9   Age          3116 non-null   object \n",
      " 10  Injury       5275 non-null   object \n",
      " 11  Fatal (Y/N)  4881 non-null   object \n",
      " 12  Time         2599 non-null   object \n",
      " 13  Species      2884 non-null   object \n",
      " 14  age_int      5289 non-null   int64  \n",
      " 15  age_cat      5289 non-null   object \n",
      "dtypes: float64(1), int64(1), object(14)\n",
      "memory usage: 702.4+ KB\n"
     ]
    }
   ],
   "source": [
    "# Create a subset containing only males\n",
    "df_male = df.loc[df['Sex'] == 'M']\n",
    "df_male.info()"
   ]
  },
  {
   "cell_type": "code",
   "execution_count": 34,
   "metadata": {
    "ExecuteTime": {
     "end_time": "2020-09-01T19:52:09.601744Z",
     "start_time": "2020-09-01T19:52:09.595758Z"
    }
   },
   "outputs": [
    {
     "data": {
      "text/plain": [
       "-              2257\n",
       "Young Adult    1520\n",
       "Adult           705\n",
       "Teenager        541\n",
       "Child           220\n",
       "Elder            46\n",
       "Name: age_cat, dtype: int64"
      ]
     },
     "execution_count": 34,
     "metadata": {},
     "output_type": "execute_result"
    }
   ],
   "source": [
    "# Check males age\n",
    "df_male.age_cat.value_counts()"
   ]
  },
  {
   "cell_type": "code",
   "execution_count": 36,
   "metadata": {
    "ExecuteTime": {
     "end_time": "2020-09-01T19:52:48.890021Z",
     "start_time": "2020-09-01T19:52:48.885033Z"
    }
   },
   "outputs": [
    {
     "data": {
      "text/plain": [
       "5289"
      ]
     },
     "execution_count": 36,
     "metadata": {},
     "output_type": "execute_result"
    }
   ],
   "source": [
    "df_male_total = df_male.Date.count()\n",
    "df_male_total"
   ]
  },
  {
   "cell_type": "code",
   "execution_count": 37,
   "metadata": {
    "ExecuteTime": {
     "end_time": "2020-09-01T19:52:59.139117Z",
     "start_time": "2020-09-01T19:52:59.132109Z"
    }
   },
   "outputs": [
    {
     "data": {
      "text/plain": [
       "-              0.426735\n",
       "Young Adult    0.287389\n",
       "Adult          0.133296\n",
       "Teenager       0.102288\n",
       "Child          0.041596\n",
       "Elder          0.008697\n",
       "Name: age_cat, dtype: float64"
      ]
     },
     "execution_count": 37,
     "metadata": {},
     "output_type": "execute_result"
    }
   ],
   "source": [
    "# Check males age\n",
    "df_male.age_cat.value_counts() / df_male_total"
   ]
  },
  {
   "cell_type": "code",
   "execution_count": 40,
   "metadata": {
    "ExecuteTime": {
     "end_time": "2020-09-01T19:55:15.914908Z",
     "start_time": "2020-09-01T19:55:15.899947Z"
    }
   },
   "outputs": [
    {
     "name": "stdout",
     "output_type": "stream",
     "text": [
      "<class 'pandas.core.frame.DataFrame'>\n",
      "Int64Index: 3032 entries, 2 to 6557\n",
      "Data columns (total 16 columns):\n",
      " #   Column       Non-Null Count  Dtype  \n",
      "---  ------       --------------  -----  \n",
      " 0   Case Number  3032 non-null   object \n",
      " 1   Date         3032 non-null   object \n",
      " 2   Year         3031 non-null   float64\n",
      " 3   Type         3029 non-null   object \n",
      " 4   Country      3024 non-null   object \n",
      " 5   Area         2921 non-null   object \n",
      " 6   Location     2898 non-null   object \n",
      " 7   Activity     2920 non-null   object \n",
      " 8   Sex          3032 non-null   object \n",
      " 9   Age          3032 non-null   object \n",
      " 10  Injury       3028 non-null   object \n",
      " 11  Fatal (Y/N)  2850 non-null   object \n",
      " 12  Time         2080 non-null   object \n",
      " 13  Species      1926 non-null   object \n",
      " 14  age_int      3032 non-null   int64  \n",
      " 15  age_cat      3032 non-null   object \n",
      "dtypes: float64(1), int64(1), object(14)\n",
      "memory usage: 402.7+ KB\n"
     ]
    }
   ],
   "source": [
    "df_male_age = df_male.loc[df_male['age_cat'] != '-']\n",
    "df_male_age_total = df_male_age.Date.count()\n",
    "df_male_age.info()"
   ]
  },
  {
   "cell_type": "code",
   "execution_count": 42,
   "metadata": {
    "ExecuteTime": {
     "end_time": "2020-09-01T19:55:35.752966Z",
     "start_time": "2020-09-01T19:55:35.747981Z"
    }
   },
   "outputs": [
    {
     "data": {
      "text/plain": [
       "3032"
      ]
     },
     "execution_count": 42,
     "metadata": {},
     "output_type": "execute_result"
    }
   ],
   "source": [
    "df_male_age_total"
   ]
  },
  {
   "cell_type": "code",
   "execution_count": 43,
   "metadata": {
    "ExecuteTime": {
     "end_time": "2020-09-01T19:55:53.290397Z",
     "start_time": "2020-09-01T19:55:53.284381Z"
    }
   },
   "outputs": [
    {
     "data": {
      "text/plain": [
       "Young Adult    1520\n",
       "Adult           705\n",
       "Teenager        541\n",
       "Child           220\n",
       "Elder            46\n",
       "Name: age_cat, dtype: int64"
      ]
     },
     "execution_count": 43,
     "metadata": {},
     "output_type": "execute_result"
    }
   ],
   "source": [
    "df_male_age.age_cat.value_counts()"
   ]
  },
  {
   "cell_type": "code",
   "execution_count": 44,
   "metadata": {
    "ExecuteTime": {
     "end_time": "2020-09-01T19:56:02.905308Z",
     "start_time": "2020-09-01T19:56:02.899324Z"
    }
   },
   "outputs": [
    {
     "data": {
      "text/plain": [
       "Young Adult    0.501319\n",
       "Adult          0.232520\n",
       "Teenager       0.178430\n",
       "Child          0.072559\n",
       "Elder          0.015172\n",
       "Name: age_cat, dtype: float64"
      ]
     },
     "execution_count": 44,
     "metadata": {},
     "output_type": "execute_result"
    }
   ],
   "source": [
    "df_male_age.age_cat.value_counts() / df_male_age_total"
   ]
  },
  {
   "cell_type": "markdown",
   "metadata": {},
   "source": [
    "50% of male who were in a shark incident were Young Adults."
   ]
  },
  {
   "cell_type": "code",
   "execution_count": 54,
   "metadata": {
    "ExecuteTime": {
     "end_time": "2020-09-01T19:59:33.158539Z",
     "start_time": "2020-09-01T19:59:33.147563Z"
    }
   },
   "outputs": [
    {
     "name": "stdout",
     "output_type": "stream",
     "text": [
      "<class 'pandas.core.frame.DataFrame'>\n",
      "Int64Index: 1520 entries, 6 to 6497\n",
      "Data columns (total 16 columns):\n",
      " #   Column       Non-Null Count  Dtype  \n",
      "---  ------       --------------  -----  \n",
      " 0   Case Number  1520 non-null   object \n",
      " 1   Date         1520 non-null   object \n",
      " 2   Year         1519 non-null   float64\n",
      " 3   Type         1520 non-null   object \n",
      " 4   Country      1514 non-null   object \n",
      " 5   Area         1462 non-null   object \n",
      " 6   Location     1444 non-null   object \n",
      " 7   Activity     1468 non-null   object \n",
      " 8   Sex          1520 non-null   object \n",
      " 9   Age          1520 non-null   object \n",
      " 10  Injury       1518 non-null   object \n",
      " 11  Fatal (Y/N)  1441 non-null   object \n",
      " 12  Time         1064 non-null   object \n",
      " 13  Species      996 non-null    object \n",
      " 14  age_int      1520 non-null   int64  \n",
      " 15  age_cat      1520 non-null   object \n",
      "dtypes: float64(1), int64(1), object(14)\n",
      "memory usage: 201.9+ KB\n"
     ]
    }
   ],
   "source": [
    "df_male_ya = df_male_age[df_male_age['age_cat'] == 'Young Adult']\n",
    "df_male_ya.info()"
   ]
  },
  {
   "cell_type": "code",
   "execution_count": 59,
   "metadata": {
    "ExecuteTime": {
     "end_time": "2020-09-01T20:00:45.899352Z",
     "start_time": "2020-09-01T20:00:45.892337Z"
    }
   },
   "outputs": [
    {
     "data": {
      "text/plain": [
       "Activity\n",
       "Surfing                                      417\n",
       "Swimming                                     188\n",
       "Spearfishing                                 154\n",
       "Fishing                                       54\n",
       "Body boarding                                 26\n",
       "                                            ... \n",
       "Skindiving, fish at belt                       1\n",
       "Snorkeling – hunting crayfish and abalone      1\n",
       "Spearfishing & holding catch                   1\n",
       "Spearfishing & lassoed shark                   1\n",
       " Diving for abalone (Hookah)                   1\n",
       "Name: age_cat, Length: 364, dtype: int64"
      ]
     },
     "execution_count": 59,
     "metadata": {},
     "output_type": "execute_result"
    }
   ],
   "source": [
    "df_male_ya.groupby(by='Activity').age_cat.count().sort_values(ascending=False)"
   ]
  },
  {
   "cell_type": "markdown",
   "metadata": {},
   "source": [
    "# **Young adult males surfing were the most involved in shark incidents.**"
   ]
  },
  {
   "cell_type": "code",
   "execution_count": null,
   "metadata": {},
   "outputs": [],
   "source": []
  },
  {
   "cell_type": "code",
   "execution_count": null,
   "metadata": {},
   "outputs": [],
   "source": []
  },
  {
   "cell_type": "code",
   "execution_count": null,
   "metadata": {},
   "outputs": [],
   "source": []
  },
  {
   "cell_type": "code",
   "execution_count": null,
   "metadata": {},
   "outputs": [],
   "source": []
  },
  {
   "cell_type": "code",
   "execution_count": null,
   "metadata": {},
   "outputs": [],
   "source": []
  },
  {
   "cell_type": "code",
   "execution_count": null,
   "metadata": {},
   "outputs": [],
   "source": []
  },
  {
   "cell_type": "code",
   "execution_count": null,
   "metadata": {},
   "outputs": [],
   "source": []
  },
  {
   "cell_type": "code",
   "execution_count": null,
   "metadata": {},
   "outputs": [],
   "source": []
  },
  {
   "cell_type": "code",
   "execution_count": null,
   "metadata": {},
   "outputs": [],
   "source": []
  },
  {
   "cell_type": "code",
   "execution_count": null,
   "metadata": {},
   "outputs": [],
   "source": []
  },
  {
   "cell_type": "code",
   "execution_count": null,
   "metadata": {},
   "outputs": [],
   "source": []
  },
  {
   "cell_type": "code",
   "execution_count": null,
   "metadata": {},
   "outputs": [],
   "source": []
  }
 ],
 "metadata": {
  "hide_input": false,
  "kernelspec": {
   "display_name": "Python 3",
   "language": "python",
   "name": "python3"
  },
  "language_info": {
   "codemirror_mode": {
    "name": "ipython",
    "version": 3
   },
   "file_extension": ".py",
   "mimetype": "text/x-python",
   "name": "python",
   "nbconvert_exporter": "python",
   "pygments_lexer": "ipython3",
   "version": "3.8.3"
  },
  "toc": {
   "base_numbering": 1,
   "nav_menu": {},
   "number_sections": true,
   "sideBar": true,
   "skip_h1_title": false,
   "title_cell": "Table of Contents",
   "title_sidebar": "Contents",
   "toc_cell": false,
   "toc_position": {},
   "toc_section_display": true,
   "toc_window_display": false
  },
  "varInspector": {
   "cols": {
    "lenName": 16,
    "lenType": 16,
    "lenVar": 40
   },
   "kernels_config": {
    "python": {
     "delete_cmd_postfix": "",
     "delete_cmd_prefix": "del ",
     "library": "var_list.py",
     "varRefreshCmd": "print(var_dic_list())"
    },
    "r": {
     "delete_cmd_postfix": ") ",
     "delete_cmd_prefix": "rm(",
     "library": "var_list.r",
     "varRefreshCmd": "cat(var_dic_list()) "
    }
   },
   "types_to_exclude": [
    "module",
    "function",
    "builtin_function_or_method",
    "instance",
    "_Feature"
   ],
   "window_display": false
  }
 },
 "nbformat": 4,
 "nbformat_minor": 4
}
