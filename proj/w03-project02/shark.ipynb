{
 "cells": [
  {
   "cell_type": "markdown",
   "metadata": {},
   "source": [
    "# Setup"
   ]
  },
  {
   "cell_type": "code",
   "execution_count": 1,
   "metadata": {
    "ExecuteTime": {
     "end_time": "2020-09-01T23:54:53.389801Z",
     "start_time": "2020-09-01T23:54:53.073270Z"
    }
   },
   "outputs": [],
   "source": [
    "import pandas as pd\n",
    "import numpy as np"
   ]
  },
  {
   "cell_type": "code",
   "execution_count": 2,
   "metadata": {
    "ExecuteTime": {
     "end_time": "2020-09-01T23:54:54.054540Z",
     "start_time": "2020-09-01T23:54:53.391795Z"
    }
   },
   "outputs": [],
   "source": [
    "# Load the dataset from a Excel file into a Pandas DataFrame\n",
    "df = pd.read_excel('GSAF5.xls')"
   ]
  },
  {
   "cell_type": "code",
   "execution_count": 3,
   "metadata": {
    "ExecuteTime": {
     "end_time": "2020-09-01T23:54:54.085456Z",
     "start_time": "2020-09-01T23:54:54.056534Z"
    }
   },
   "outputs": [
    {
     "name": "stdout",
     "output_type": "stream",
     "text": [
      "<class 'pandas.core.frame.DataFrame'>\n",
      "RangeIndex: 25792 entries, 0 to 25791\n",
      "Data columns (total 24 columns):\n",
      " #   Column                  Non-Null Count  Dtype  \n",
      "---  ------                  --------------  -----  \n",
      " 0   Case Number             8771 non-null   object \n",
      " 1   Date                    6558 non-null   object \n",
      " 2   Year                    6556 non-null   float64\n",
      " 3   Type                    6552 non-null   object \n",
      " 4   Country                 6508 non-null   object \n",
      " 5   Area                    6091 non-null   object \n",
      " 6   Location                6008 non-null   object \n",
      " 7   Activity                6002 non-null   object \n",
      " 8   Name                    6343 non-null   object \n",
      " 9   Sex                     5987 non-null   object \n",
      " 10  Age                     3660 non-null   object \n",
      " 11  Injury                  6528 non-null   object \n",
      " 12  Fatal (Y/N)             6006 non-null   object \n",
      " 13  Time                    3139 non-null   object \n",
      " 14  Species                 3610 non-null   object \n",
      " 15  Investigator or Source  6541 non-null   object \n",
      " 16  pdf                     6557 non-null   object \n",
      " 17  href formula            6554 non-null   object \n",
      " 18  href                    6556 non-null   object \n",
      " 19  Case Number.1           6557 non-null   object \n",
      " 20  Case Number.2           6557 non-null   object \n",
      " 21  original order          6564 non-null   float64\n",
      " 22  Unnamed: 22             1 non-null      object \n",
      " 23  Unnamed: 23             2 non-null      object \n",
      "dtypes: float64(2), object(22)\n",
      "memory usage: 4.7+ MB\n"
     ]
    }
   ],
   "source": [
    "# Check information about the dataset\n",
    "df.info()"
   ]
  },
  {
   "cell_type": "code",
   "execution_count": 4,
   "metadata": {
    "ExecuteTime": {
     "end_time": "2020-09-01T23:54:54.097445Z",
     "start_time": "2020-09-01T23:54:54.086458Z"
    }
   },
   "outputs": [
    {
     "data": {
      "text/plain": [
       "Index(['Case Number', 'Date', 'Year', 'Type', 'Country', 'Area', 'Location',\n",
       "       'Activity', 'Name', 'Sex', 'Age', 'Injury', 'Fatal (Y/N)', 'Time',\n",
       "       'Species', 'Investigator or Source', 'pdf', 'href formula', 'href',\n",
       "       'Case Number.1', 'Case Number.2', 'original order', 'Unnamed: 22',\n",
       "       'Unnamed: 23'],\n",
       "      dtype='object')"
      ]
     },
     "execution_count": 4,
     "metadata": {},
     "output_type": "execute_result"
    }
   ],
   "source": [
    "# # Remove unnecessary spaces in the columns names\n",
    "df.columns = df.columns.str.strip()\n",
    "df.columns"
   ]
  },
  {
   "cell_type": "code",
   "execution_count": 5,
   "metadata": {
    "ExecuteTime": {
     "end_time": "2020-09-01T23:54:54.108455Z",
     "start_time": "2020-09-01T23:54:54.098422Z"
    }
   },
   "outputs": [],
   "source": [
    "# Remove unwanted columns\n",
    "# The columns 'Case Number', 'Name', Injury' and 'Investigator or Source' are not relevant information\n",
    "# The columns 'Unnamed: 22' and 'Unnamed: 22' have no relevant information for the analysis.\n",
    "# The columns 'pdf', 'href formula', 'href' do not contain relevant information for the analysis. They just list the \n",
    "# references.\n",
    "# The columns 'Case Number.1', 'Case Number.2' and 'original order' are similar to the 'Case Number', so they also can be\n",
    "# removed\n",
    "df = df.drop(columns=['Case Number', 'Name', 'Injury', 'Investigator or Source', 'pdf', 'href formula', 'href', \n",
    "                      'Case Number.1', 'Case Number.2', 'original order', 'Unnamed: 22', 'Unnamed: 23'])"
   ]
  },
  {
   "cell_type": "code",
   "execution_count": 6,
   "metadata": {
    "ExecuteTime": {
     "end_time": "2020-09-01T23:54:54.130349Z",
     "start_time": "2020-09-01T23:54:54.109421Z"
    }
   },
   "outputs": [],
   "source": [
    "# Remove all rows that have NaN in all columns\n",
    "# There is total of 25792 lines, but all columns do not have even 9000 rows with non-NaN.. Therefore, there are lots of\n",
    "# rows that all columns are only missing values\n",
    "df = df.dropna(how='all')"
   ]
  },
  {
   "cell_type": "code",
   "execution_count": 7,
   "metadata": {
    "ExecuteTime": {
     "end_time": "2020-09-01T23:54:54.140341Z",
     "start_time": "2020-09-01T23:54:54.132332Z"
    }
   },
   "outputs": [],
   "source": [
    "# Remove all rows that have less than 3 non-NaN\n",
    "# If the row contains less than 3 non-NaN, there is basically no information about a shark accident\n",
    "df = df.dropna(thresh=3)"
   ]
  },
  {
   "cell_type": "code",
   "execution_count": 8,
   "metadata": {
    "ExecuteTime": {
     "end_time": "2020-09-01T23:54:54.152297Z",
     "start_time": "2020-09-01T23:54:54.142305Z"
    }
   },
   "outputs": [
    {
     "name": "stdout",
     "output_type": "stream",
     "text": [
      "<class 'pandas.core.frame.DataFrame'>\n",
      "Int64Index: 6558 entries, 0 to 6557\n",
      "Data columns (total 12 columns):\n",
      " #   Column       Non-Null Count  Dtype  \n",
      "---  ------       --------------  -----  \n",
      " 0   Date         6558 non-null   object \n",
      " 1   Year         6556 non-null   float64\n",
      " 2   Type         6552 non-null   object \n",
      " 3   Country      6508 non-null   object \n",
      " 4   Area         6091 non-null   object \n",
      " 5   Location     6008 non-null   object \n",
      " 6   Activity     6002 non-null   object \n",
      " 7   Sex          5987 non-null   object \n",
      " 8   Age          3660 non-null   object \n",
      " 9   Fatal (Y/N)  6006 non-null   object \n",
      " 10  Time         3139 non-null   object \n",
      " 11  Species      3610 non-null   object \n",
      "dtypes: float64(1), object(11)\n",
      "memory usage: 666.0+ KB\n"
     ]
    }
   ],
   "source": [
    "# Check information about the dataset\n",
    "df.info()"
   ]
  },
  {
   "cell_type": "code",
   "execution_count": 9,
   "metadata": {
    "ExecuteTime": {
     "end_time": "2020-09-01T23:54:54.173222Z",
     "start_time": "2020-09-01T23:54:54.154273Z"
    }
   },
   "outputs": [
    {
     "data": {
      "text/html": [
       "<div>\n",
       "<style scoped>\n",
       "    .dataframe tbody tr th:only-of-type {\n",
       "        vertical-align: middle;\n",
       "    }\n",
       "\n",
       "    .dataframe tbody tr th {\n",
       "        vertical-align: top;\n",
       "    }\n",
       "\n",
       "    .dataframe thead th {\n",
       "        text-align: right;\n",
       "    }\n",
       "</style>\n",
       "<table border=\"1\" class=\"dataframe\">\n",
       "  <thead>\n",
       "    <tr style=\"text-align: right;\">\n",
       "      <th></th>\n",
       "      <th>Date</th>\n",
       "      <th>Year</th>\n",
       "      <th>Type</th>\n",
       "      <th>Country</th>\n",
       "      <th>Area</th>\n",
       "      <th>Location</th>\n",
       "      <th>Activity</th>\n",
       "      <th>Sex</th>\n",
       "      <th>Age</th>\n",
       "      <th>Fatal (Y/N)</th>\n",
       "      <th>Time</th>\n",
       "      <th>Species</th>\n",
       "    </tr>\n",
       "  </thead>\n",
       "  <tbody>\n",
       "    <tr>\n",
       "      <th>0</th>\n",
       "      <td>20-Aug-2020</td>\n",
       "      <td>2020.0</td>\n",
       "      <td>Unprovoked</td>\n",
       "      <td>USA</td>\n",
       "      <td>Florida</td>\n",
       "      <td>New Smyrna Beach, Volusia County</td>\n",
       "      <td>Boogie boarding</td>\n",
       "      <td>F</td>\n",
       "      <td>50</td>\n",
       "      <td>N</td>\n",
       "      <td>11h00</td>\n",
       "      <td>NaN</td>\n",
       "    </tr>\n",
       "    <tr>\n",
       "      <th>1</th>\n",
       "      <td>14-Aug-2020</td>\n",
       "      <td>2020.0</td>\n",
       "      <td>Unprovoked</td>\n",
       "      <td>AUSTRALIA</td>\n",
       "      <td>New South Wales</td>\n",
       "      <td>Shelly Beach, Port Macquarie</td>\n",
       "      <td>Surfing</td>\n",
       "      <td>F</td>\n",
       "      <td>35</td>\n",
       "      <td>N</td>\n",
       "      <td>09h30</td>\n",
       "      <td>White shark, 2-to 3m</td>\n",
       "    </tr>\n",
       "    <tr>\n",
       "      <th>2</th>\n",
       "      <td>10-Aug-2020</td>\n",
       "      <td>2020.0</td>\n",
       "      <td>Provoked</td>\n",
       "      <td>USA</td>\n",
       "      <td>Florida</td>\n",
       "      <td>Off Gasparilla Island, Charlotte County</td>\n",
       "      <td>Fishing</td>\n",
       "      <td>M</td>\n",
       "      <td>55</td>\n",
       "      <td>N</td>\n",
       "      <td>16h00</td>\n",
       "      <td>Blacktip shark, 6'</td>\n",
       "    </tr>\n",
       "    <tr>\n",
       "      <th>3</th>\n",
       "      <td>02-Aug-2020</td>\n",
       "      <td>2020.0</td>\n",
       "      <td>Unprovoked</td>\n",
       "      <td>USA</td>\n",
       "      <td>Virgin Islands</td>\n",
       "      <td>Candle Reef, St. Croix</td>\n",
       "      <td>Snorkeling</td>\n",
       "      <td>F</td>\n",
       "      <td>NaN</td>\n",
       "      <td>N</td>\n",
       "      <td>14h00</td>\n",
       "      <td>Nurse shark, 5'</td>\n",
       "    </tr>\n",
       "    <tr>\n",
       "      <th>4</th>\n",
       "      <td>31-Jul-2020</td>\n",
       "      <td>2020.0</td>\n",
       "      <td>Unprovoked</td>\n",
       "      <td>USA</td>\n",
       "      <td>Florida</td>\n",
       "      <td>New Smyrna Beach, Volusia County</td>\n",
       "      <td>Surfing</td>\n",
       "      <td>F</td>\n",
       "      <td>22</td>\n",
       "      <td>N</td>\n",
       "      <td>17h00</td>\n",
       "      <td>NaN</td>\n",
       "    </tr>\n",
       "    <tr>\n",
       "      <th>...</th>\n",
       "      <td>...</td>\n",
       "      <td>...</td>\n",
       "      <td>...</td>\n",
       "      <td>...</td>\n",
       "      <td>...</td>\n",
       "      <td>...</td>\n",
       "      <td>...</td>\n",
       "      <td>...</td>\n",
       "      <td>...</td>\n",
       "      <td>...</td>\n",
       "      <td>...</td>\n",
       "      <td>...</td>\n",
       "    </tr>\n",
       "    <tr>\n",
       "      <th>6553</th>\n",
       "      <td>Before 1903</td>\n",
       "      <td>0.0</td>\n",
       "      <td>Unprovoked</td>\n",
       "      <td>AUSTRALIA</td>\n",
       "      <td>Western Australia</td>\n",
       "      <td>Roebuck Bay</td>\n",
       "      <td>Diving</td>\n",
       "      <td>M</td>\n",
       "      <td>NaN</td>\n",
       "      <td>Y</td>\n",
       "      <td>NaN</td>\n",
       "      <td>NaN</td>\n",
       "    </tr>\n",
       "    <tr>\n",
       "      <th>6554</th>\n",
       "      <td>Before 1903</td>\n",
       "      <td>0.0</td>\n",
       "      <td>Unprovoked</td>\n",
       "      <td>AUSTRALIA</td>\n",
       "      <td>Western Australia</td>\n",
       "      <td>NaN</td>\n",
       "      <td>Pearl diving</td>\n",
       "      <td>M</td>\n",
       "      <td>NaN</td>\n",
       "      <td>Y</td>\n",
       "      <td>NaN</td>\n",
       "      <td>NaN</td>\n",
       "    </tr>\n",
       "    <tr>\n",
       "      <th>6555</th>\n",
       "      <td>1900-1905</td>\n",
       "      <td>0.0</td>\n",
       "      <td>Unprovoked</td>\n",
       "      <td>USA</td>\n",
       "      <td>North Carolina</td>\n",
       "      <td>Ocracoke Inlet</td>\n",
       "      <td>Swimming</td>\n",
       "      <td>M</td>\n",
       "      <td>NaN</td>\n",
       "      <td>Y</td>\n",
       "      <td>NaN</td>\n",
       "      <td>NaN</td>\n",
       "    </tr>\n",
       "    <tr>\n",
       "      <th>6556</th>\n",
       "      <td>1883-1889</td>\n",
       "      <td>0.0</td>\n",
       "      <td>Unprovoked</td>\n",
       "      <td>PANAMA</td>\n",
       "      <td>NaN</td>\n",
       "      <td>Panama Bay 8ºN, 79ºW</td>\n",
       "      <td>NaN</td>\n",
       "      <td>M</td>\n",
       "      <td>NaN</td>\n",
       "      <td>Y</td>\n",
       "      <td>NaN</td>\n",
       "      <td>NaN</td>\n",
       "    </tr>\n",
       "    <tr>\n",
       "      <th>6557</th>\n",
       "      <td>1845-1853</td>\n",
       "      <td>0.0</td>\n",
       "      <td>Unprovoked</td>\n",
       "      <td>CEYLON (SRI LANKA)</td>\n",
       "      <td>Eastern Province</td>\n",
       "      <td>Below the English fort, Trincomalee</td>\n",
       "      <td>Swimming</td>\n",
       "      <td>M</td>\n",
       "      <td>15</td>\n",
       "      <td>Y</td>\n",
       "      <td>NaN</td>\n",
       "      <td>NaN</td>\n",
       "    </tr>\n",
       "  </tbody>\n",
       "</table>\n",
       "<p>6558 rows × 12 columns</p>\n",
       "</div>"
      ],
      "text/plain": [
       "             Date    Year        Type             Country               Area  \\\n",
       "0     20-Aug-2020  2020.0  Unprovoked                 USA            Florida   \n",
       "1     14-Aug-2020  2020.0  Unprovoked           AUSTRALIA    New South Wales   \n",
       "2     10-Aug-2020  2020.0    Provoked                 USA            Florida   \n",
       "3     02-Aug-2020  2020.0  Unprovoked                 USA     Virgin Islands   \n",
       "4     31-Jul-2020  2020.0  Unprovoked                 USA            Florida   \n",
       "...           ...     ...         ...                 ...                ...   \n",
       "6553  Before 1903     0.0  Unprovoked           AUSTRALIA  Western Australia   \n",
       "6554  Before 1903     0.0  Unprovoked           AUSTRALIA  Western Australia   \n",
       "6555    1900-1905     0.0  Unprovoked                 USA     North Carolina   \n",
       "6556    1883-1889     0.0  Unprovoked              PANAMA                NaN   \n",
       "6557    1845-1853     0.0  Unprovoked  CEYLON (SRI LANKA)   Eastern Province   \n",
       "\n",
       "                                     Location         Activity Sex  Age  \\\n",
       "0            New Smyrna Beach, Volusia County  Boogie boarding   F   50   \n",
       "1                Shelly Beach, Port Macquarie          Surfing   F   35   \n",
       "2     Off Gasparilla Island, Charlotte County          Fishing   M   55   \n",
       "3                      Candle Reef, St. Croix       Snorkeling   F  NaN   \n",
       "4            New Smyrna Beach, Volusia County          Surfing   F   22   \n",
       "...                                       ...              ...  ..  ...   \n",
       "6553                              Roebuck Bay           Diving   M  NaN   \n",
       "6554                                      NaN     Pearl diving   M  NaN   \n",
       "6555                           Ocracoke Inlet         Swimming   M  NaN   \n",
       "6556                     Panama Bay 8ºN, 79ºW              NaN   M  NaN   \n",
       "6557      Below the English fort, Trincomalee         Swimming   M   15   \n",
       "\n",
       "     Fatal (Y/N)   Time               Species  \n",
       "0              N  11h00                   NaN  \n",
       "1              N  09h30  White shark, 2-to 3m  \n",
       "2              N  16h00    Blacktip shark, 6'  \n",
       "3              N  14h00       Nurse shark, 5'  \n",
       "4              N  17h00                   NaN  \n",
       "...          ...    ...                   ...  \n",
       "6553           Y    NaN                   NaN  \n",
       "6554           Y    NaN                   NaN  \n",
       "6555           Y    NaN                   NaN  \n",
       "6556           Y    NaN                   NaN  \n",
       "6557           Y    NaN                   NaN  \n",
       "\n",
       "[6558 rows x 12 columns]"
      ]
     },
     "execution_count": 9,
     "metadata": {},
     "output_type": "execute_result"
    }
   ],
   "source": [
    "df"
   ]
  },
  {
   "cell_type": "markdown",
   "metadata": {},
   "source": [
    "# Age"
   ]
  },
  {
   "cell_type": "code",
   "execution_count": 10,
   "metadata": {
    "ExecuteTime": {
     "end_time": "2020-09-01T23:54:54.180204Z",
     "start_time": "2020-09-01T23:54:54.174244Z"
    }
   },
   "outputs": [
    {
     "data": {
      "text/plain": [
       "array([50, 35, 55, nan, 22, 14, 28, 38, 4, 63, 23, 11, 12, 10, 29, 15, 36,\n",
       "       7, 16, 30, 60, 18, 9, 26, 57, 'Teen', 24, 59, 13, 75, 21, '30s',\n",
       "       45, 33, 17, 37, 70, 44, '28 & 22', 32, 20, 51, '22, 57, 31', '60s',\n",
       "       40, 49, \"20's\", 43, 8, 64, 19, 65, 67, 53, 34, 25, 58, 74, 46, 41,\n",
       "       31, '9 & 60', 48, '20s', 42, 39, 56, 61, 'a minor', 6, 62, 52, 54,\n",
       "       69, '40s', 3, 82, 73, 68, 47, 66, 72, 27, 71, '38', '39', '23',\n",
       "       '32', '52', '68', '12', '18', '19', '43', '47', '6', '37', '9',\n",
       "       '36', '10', '16', '13', '11', '17', '14', '30', '50', '29', '65',\n",
       "       '63', '26', '71', '48', '70', '58', '18 months', '22', '41', '35',\n",
       "       '57', '20', '24', '34', '15', '44', '53', '7', '40', '28', '33',\n",
       "       '31', '45', '50s', '8', '51', '61', '42', '25', 'teen', '66', '21',\n",
       "       '77', '46', '60', '74', '55', '27', '3', '56', '64', '28 & 26',\n",
       "       '62', '5', '49', '54', '86', '59', '18 or 20', '12 or 13',\n",
       "       '46 & 34', '28, 23 & 30', 'Teens', 77, '36 & 26', '8 or 10', 84,\n",
       "       '\\xa0 ', ' ', '30 or 36', '6½', '21 & ?', '33 or 37', 'mid-30s',\n",
       "       '23 & 20', 5, ' 30', '7      &    31', ' 28', '20?', \"60's\", '69',\n",
       "       '32 & 30', '16 to 18', '87', '67', 'Elderly', 'mid-20s', 'Ca. 33',\n",
       "       '74 ', '45 ', '21 or 26', '20 ', '>50', '18 to 22', 'adult',\n",
       "       '9 & 12', '? & 19', '9 months', '25 to 35', '23 & 26', 1,\n",
       "       '(adult)', '33 & 37', '25 or 28', '37, 67, 35, 27,  ? & 27',\n",
       "       '21, 34,24 & 35', '30 & 32', '50 & 30', '17 & 35', 'X',\n",
       "       '\"middle-age\"', '13 or 18', '34 & 19', '33 & 26', '2 to 3 months',\n",
       "       '4', 'MAKE LINE GREEN', ' 43', '81', '\"young\"', '7 or 8', 78,\n",
       "       '17 & 16', 'F', 'Both 11', '9 or 10', 'young', '36 & 23', '  ',\n",
       "       '78', 'A.M.', '?    &   14', '10 or 12', '31 or 33', '2½', '1',\n",
       "       '13 or 14'], dtype=object)"
      ]
     },
     "execution_count": 10,
     "metadata": {},
     "output_type": "execute_result"
    }
   ],
   "source": [
    "df.Age.unique()"
   ]
  },
  {
   "cell_type": "code",
   "execution_count": 11,
   "metadata": {
    "ExecuteTime": {
     "end_time": "2020-09-01T23:54:54.185189Z",
     "start_time": "2020-09-01T23:54:54.181232Z"
    }
   },
   "outputs": [],
   "source": [
    "# Function to convert string to integer\n",
    "def convert_str_to_int(age):\n",
    "    try:\n",
    "        age = int(age)\n",
    "    except:\n",
    "        age = -1\n",
    "    return age"
   ]
  },
  {
   "cell_type": "code",
   "execution_count": 12,
   "metadata": {
    "ExecuteTime": {
     "end_time": "2020-09-01T23:54:54.216139Z",
     "start_time": "2020-09-01T23:54:54.186188Z"
    }
   },
   "outputs": [
    {
     "name": "stdout",
     "output_type": "stream",
     "text": [
      "6558\n",
      "-1    0.459134\n",
      "Name: age_int, dtype: float64\n",
      "-1    0.459134\n",
      "Name: age_int, dtype: float64\n"
     ]
    },
    {
     "data": {
      "text/html": [
       "<div>\n",
       "<style scoped>\n",
       "    .dataframe tbody tr th:only-of-type {\n",
       "        vertical-align: middle;\n",
       "    }\n",
       "\n",
       "    .dataframe tbody tr th {\n",
       "        vertical-align: top;\n",
       "    }\n",
       "\n",
       "    .dataframe thead th {\n",
       "        text-align: right;\n",
       "    }\n",
       "</style>\n",
       "<table border=\"1\" class=\"dataframe\">\n",
       "  <thead>\n",
       "    <tr style=\"text-align: right;\">\n",
       "      <th></th>\n",
       "      <th>Date</th>\n",
       "      <th>Year</th>\n",
       "      <th>Type</th>\n",
       "      <th>Country</th>\n",
       "      <th>Area</th>\n",
       "      <th>Location</th>\n",
       "      <th>Activity</th>\n",
       "      <th>Sex</th>\n",
       "      <th>Age</th>\n",
       "      <th>Fatal (Y/N)</th>\n",
       "      <th>Time</th>\n",
       "      <th>Species</th>\n",
       "      <th>age_int</th>\n",
       "    </tr>\n",
       "  </thead>\n",
       "  <tbody>\n",
       "    <tr>\n",
       "      <th>0</th>\n",
       "      <td>20-Aug-2020</td>\n",
       "      <td>2020.0</td>\n",
       "      <td>Unprovoked</td>\n",
       "      <td>USA</td>\n",
       "      <td>Florida</td>\n",
       "      <td>New Smyrna Beach, Volusia County</td>\n",
       "      <td>Boogie boarding</td>\n",
       "      <td>F</td>\n",
       "      <td>50</td>\n",
       "      <td>N</td>\n",
       "      <td>11h00</td>\n",
       "      <td>NaN</td>\n",
       "      <td>50</td>\n",
       "    </tr>\n",
       "    <tr>\n",
       "      <th>1</th>\n",
       "      <td>14-Aug-2020</td>\n",
       "      <td>2020.0</td>\n",
       "      <td>Unprovoked</td>\n",
       "      <td>AUSTRALIA</td>\n",
       "      <td>New South Wales</td>\n",
       "      <td>Shelly Beach, Port Macquarie</td>\n",
       "      <td>Surfing</td>\n",
       "      <td>F</td>\n",
       "      <td>35</td>\n",
       "      <td>N</td>\n",
       "      <td>09h30</td>\n",
       "      <td>White shark, 2-to 3m</td>\n",
       "      <td>35</td>\n",
       "    </tr>\n",
       "    <tr>\n",
       "      <th>2</th>\n",
       "      <td>10-Aug-2020</td>\n",
       "      <td>2020.0</td>\n",
       "      <td>Provoked</td>\n",
       "      <td>USA</td>\n",
       "      <td>Florida</td>\n",
       "      <td>Off Gasparilla Island, Charlotte County</td>\n",
       "      <td>Fishing</td>\n",
       "      <td>M</td>\n",
       "      <td>55</td>\n",
       "      <td>N</td>\n",
       "      <td>16h00</td>\n",
       "      <td>Blacktip shark, 6'</td>\n",
       "      <td>55</td>\n",
       "    </tr>\n",
       "    <tr>\n",
       "      <th>3</th>\n",
       "      <td>02-Aug-2020</td>\n",
       "      <td>2020.0</td>\n",
       "      <td>Unprovoked</td>\n",
       "      <td>USA</td>\n",
       "      <td>Virgin Islands</td>\n",
       "      <td>Candle Reef, St. Croix</td>\n",
       "      <td>Snorkeling</td>\n",
       "      <td>F</td>\n",
       "      <td>NaN</td>\n",
       "      <td>N</td>\n",
       "      <td>14h00</td>\n",
       "      <td>Nurse shark, 5'</td>\n",
       "      <td>-1</td>\n",
       "    </tr>\n",
       "    <tr>\n",
       "      <th>4</th>\n",
       "      <td>31-Jul-2020</td>\n",
       "      <td>2020.0</td>\n",
       "      <td>Unprovoked</td>\n",
       "      <td>USA</td>\n",
       "      <td>Florida</td>\n",
       "      <td>New Smyrna Beach, Volusia County</td>\n",
       "      <td>Surfing</td>\n",
       "      <td>F</td>\n",
       "      <td>22</td>\n",
       "      <td>N</td>\n",
       "      <td>17h00</td>\n",
       "      <td>NaN</td>\n",
       "      <td>22</td>\n",
       "    </tr>\n",
       "    <tr>\n",
       "      <th>...</th>\n",
       "      <td>...</td>\n",
       "      <td>...</td>\n",
       "      <td>...</td>\n",
       "      <td>...</td>\n",
       "      <td>...</td>\n",
       "      <td>...</td>\n",
       "      <td>...</td>\n",
       "      <td>...</td>\n",
       "      <td>...</td>\n",
       "      <td>...</td>\n",
       "      <td>...</td>\n",
       "      <td>...</td>\n",
       "      <td>...</td>\n",
       "    </tr>\n",
       "    <tr>\n",
       "      <th>6553</th>\n",
       "      <td>Before 1903</td>\n",
       "      <td>0.0</td>\n",
       "      <td>Unprovoked</td>\n",
       "      <td>AUSTRALIA</td>\n",
       "      <td>Western Australia</td>\n",
       "      <td>Roebuck Bay</td>\n",
       "      <td>Diving</td>\n",
       "      <td>M</td>\n",
       "      <td>NaN</td>\n",
       "      <td>Y</td>\n",
       "      <td>NaN</td>\n",
       "      <td>NaN</td>\n",
       "      <td>-1</td>\n",
       "    </tr>\n",
       "    <tr>\n",
       "      <th>6554</th>\n",
       "      <td>Before 1903</td>\n",
       "      <td>0.0</td>\n",
       "      <td>Unprovoked</td>\n",
       "      <td>AUSTRALIA</td>\n",
       "      <td>Western Australia</td>\n",
       "      <td>NaN</td>\n",
       "      <td>Pearl diving</td>\n",
       "      <td>M</td>\n",
       "      <td>NaN</td>\n",
       "      <td>Y</td>\n",
       "      <td>NaN</td>\n",
       "      <td>NaN</td>\n",
       "      <td>-1</td>\n",
       "    </tr>\n",
       "    <tr>\n",
       "      <th>6555</th>\n",
       "      <td>1900-1905</td>\n",
       "      <td>0.0</td>\n",
       "      <td>Unprovoked</td>\n",
       "      <td>USA</td>\n",
       "      <td>North Carolina</td>\n",
       "      <td>Ocracoke Inlet</td>\n",
       "      <td>Swimming</td>\n",
       "      <td>M</td>\n",
       "      <td>NaN</td>\n",
       "      <td>Y</td>\n",
       "      <td>NaN</td>\n",
       "      <td>NaN</td>\n",
       "      <td>-1</td>\n",
       "    </tr>\n",
       "    <tr>\n",
       "      <th>6556</th>\n",
       "      <td>1883-1889</td>\n",
       "      <td>0.0</td>\n",
       "      <td>Unprovoked</td>\n",
       "      <td>PANAMA</td>\n",
       "      <td>NaN</td>\n",
       "      <td>Panama Bay 8ºN, 79ºW</td>\n",
       "      <td>NaN</td>\n",
       "      <td>M</td>\n",
       "      <td>NaN</td>\n",
       "      <td>Y</td>\n",
       "      <td>NaN</td>\n",
       "      <td>NaN</td>\n",
       "      <td>-1</td>\n",
       "    </tr>\n",
       "    <tr>\n",
       "      <th>6557</th>\n",
       "      <td>1845-1853</td>\n",
       "      <td>0.0</td>\n",
       "      <td>Unprovoked</td>\n",
       "      <td>CEYLON (SRI LANKA)</td>\n",
       "      <td>Eastern Province</td>\n",
       "      <td>Below the English fort, Trincomalee</td>\n",
       "      <td>Swimming</td>\n",
       "      <td>M</td>\n",
       "      <td>15</td>\n",
       "      <td>Y</td>\n",
       "      <td>NaN</td>\n",
       "      <td>NaN</td>\n",
       "      <td>15</td>\n",
       "    </tr>\n",
       "  </tbody>\n",
       "</table>\n",
       "<p>6558 rows × 13 columns</p>\n",
       "</div>"
      ],
      "text/plain": [
       "             Date    Year        Type             Country               Area  \\\n",
       "0     20-Aug-2020  2020.0  Unprovoked                 USA            Florida   \n",
       "1     14-Aug-2020  2020.0  Unprovoked           AUSTRALIA    New South Wales   \n",
       "2     10-Aug-2020  2020.0    Provoked                 USA            Florida   \n",
       "3     02-Aug-2020  2020.0  Unprovoked                 USA     Virgin Islands   \n",
       "4     31-Jul-2020  2020.0  Unprovoked                 USA            Florida   \n",
       "...           ...     ...         ...                 ...                ...   \n",
       "6553  Before 1903     0.0  Unprovoked           AUSTRALIA  Western Australia   \n",
       "6554  Before 1903     0.0  Unprovoked           AUSTRALIA  Western Australia   \n",
       "6555    1900-1905     0.0  Unprovoked                 USA     North Carolina   \n",
       "6556    1883-1889     0.0  Unprovoked              PANAMA                NaN   \n",
       "6557    1845-1853     0.0  Unprovoked  CEYLON (SRI LANKA)   Eastern Province   \n",
       "\n",
       "                                     Location         Activity Sex  Age  \\\n",
       "0            New Smyrna Beach, Volusia County  Boogie boarding   F   50   \n",
       "1                Shelly Beach, Port Macquarie          Surfing   F   35   \n",
       "2     Off Gasparilla Island, Charlotte County          Fishing   M   55   \n",
       "3                      Candle Reef, St. Croix       Snorkeling   F  NaN   \n",
       "4            New Smyrna Beach, Volusia County          Surfing   F   22   \n",
       "...                                       ...              ...  ..  ...   \n",
       "6553                              Roebuck Bay           Diving   M  NaN   \n",
       "6554                                      NaN     Pearl diving   M  NaN   \n",
       "6555                           Ocracoke Inlet         Swimming   M  NaN   \n",
       "6556                     Panama Bay 8ºN, 79ºW              NaN   M  NaN   \n",
       "6557      Below the English fort, Trincomalee         Swimming   M   15   \n",
       "\n",
       "     Fatal (Y/N)   Time               Species  age_int  \n",
       "0              N  11h00                   NaN       50  \n",
       "1              N  09h30  White shark, 2-to 3m       35  \n",
       "2              N  16h00    Blacktip shark, 6'       55  \n",
       "3              N  14h00       Nurse shark, 5'       -1  \n",
       "4              N  17h00                   NaN       22  \n",
       "...          ...    ...                   ...      ...  \n",
       "6553           Y    NaN                   NaN       -1  \n",
       "6554           Y    NaN                   NaN       -1  \n",
       "6555           Y    NaN                   NaN       -1  \n",
       "6556           Y    NaN                   NaN       -1  \n",
       "6557           Y    NaN                   NaN       15  \n",
       "\n",
       "[6558 rows x 13 columns]"
      ]
     },
     "execution_count": 12,
     "metadata": {},
     "output_type": "execute_result"
    }
   ],
   "source": [
    "# Number \n",
    "df_total = df.Date.count()\n",
    "print(df_total)\n",
    "\n",
    "# Convert the strings in column 'Age' to integers\n",
    "df['age_int'] = df.Age.apply(convert_str_to_int)\n",
    "\n",
    "# How many were not digits\n",
    "print(df.loc[df.age_int == -1, :].age_int.value_counts() / 6558)\n",
    "print(df.loc[df.age_int == -1, :].age_int.value_counts() / df_total)\n",
    "\n",
    "# Check the result\n",
    "df"
   ]
  },
  {
   "cell_type": "code",
   "execution_count": 13,
   "metadata": {
    "ExecuteTime": {
     "end_time": "2020-09-01T23:54:54.223128Z",
     "start_time": "2020-09-01T23:54:54.217105Z"
    }
   },
   "outputs": [],
   "source": [
    "# Classification by age\n",
    "df['age_cat'] = np.where(df['age_int'] > 65, 'Elder',\n",
    "                        np.where(df['age_int'] > 35, 'Adult',\n",
    "                                np.where(df['age_int'] > 17, 'Young Adult',\n",
    "                                        np.where(df['age_int'] > 12, 'Teenager',\n",
    "                                                 np.where(df['age_int'] == -1, '-', 'Child')))))"
   ]
  },
  {
   "cell_type": "code",
   "execution_count": 14,
   "metadata": {
    "ExecuteTime": {
     "end_time": "2020-09-01T23:54:54.244034Z",
     "start_time": "2020-09-01T23:54:54.224088Z"
    }
   },
   "outputs": [
    {
     "data": {
      "text/html": [
       "<div>\n",
       "<style scoped>\n",
       "    .dataframe tbody tr th:only-of-type {\n",
       "        vertical-align: middle;\n",
       "    }\n",
       "\n",
       "    .dataframe tbody tr th {\n",
       "        vertical-align: top;\n",
       "    }\n",
       "\n",
       "    .dataframe thead th {\n",
       "        text-align: right;\n",
       "    }\n",
       "</style>\n",
       "<table border=\"1\" class=\"dataframe\">\n",
       "  <thead>\n",
       "    <tr style=\"text-align: right;\">\n",
       "      <th></th>\n",
       "      <th>Date</th>\n",
       "      <th>Year</th>\n",
       "      <th>Type</th>\n",
       "      <th>Country</th>\n",
       "      <th>Area</th>\n",
       "      <th>Location</th>\n",
       "      <th>Activity</th>\n",
       "      <th>Sex</th>\n",
       "      <th>Age</th>\n",
       "      <th>Fatal (Y/N)</th>\n",
       "      <th>Time</th>\n",
       "      <th>Species</th>\n",
       "      <th>age_int</th>\n",
       "      <th>age_cat</th>\n",
       "    </tr>\n",
       "  </thead>\n",
       "  <tbody>\n",
       "    <tr>\n",
       "      <th>0</th>\n",
       "      <td>20-Aug-2020</td>\n",
       "      <td>2020.0</td>\n",
       "      <td>Unprovoked</td>\n",
       "      <td>USA</td>\n",
       "      <td>Florida</td>\n",
       "      <td>New Smyrna Beach, Volusia County</td>\n",
       "      <td>Boogie boarding</td>\n",
       "      <td>F</td>\n",
       "      <td>50</td>\n",
       "      <td>N</td>\n",
       "      <td>11h00</td>\n",
       "      <td>NaN</td>\n",
       "      <td>50</td>\n",
       "      <td>Adult</td>\n",
       "    </tr>\n",
       "    <tr>\n",
       "      <th>1</th>\n",
       "      <td>14-Aug-2020</td>\n",
       "      <td>2020.0</td>\n",
       "      <td>Unprovoked</td>\n",
       "      <td>AUSTRALIA</td>\n",
       "      <td>New South Wales</td>\n",
       "      <td>Shelly Beach, Port Macquarie</td>\n",
       "      <td>Surfing</td>\n",
       "      <td>F</td>\n",
       "      <td>35</td>\n",
       "      <td>N</td>\n",
       "      <td>09h30</td>\n",
       "      <td>White shark, 2-to 3m</td>\n",
       "      <td>35</td>\n",
       "      <td>Young Adult</td>\n",
       "    </tr>\n",
       "    <tr>\n",
       "      <th>2</th>\n",
       "      <td>10-Aug-2020</td>\n",
       "      <td>2020.0</td>\n",
       "      <td>Provoked</td>\n",
       "      <td>USA</td>\n",
       "      <td>Florida</td>\n",
       "      <td>Off Gasparilla Island, Charlotte County</td>\n",
       "      <td>Fishing</td>\n",
       "      <td>M</td>\n",
       "      <td>55</td>\n",
       "      <td>N</td>\n",
       "      <td>16h00</td>\n",
       "      <td>Blacktip shark, 6'</td>\n",
       "      <td>55</td>\n",
       "      <td>Adult</td>\n",
       "    </tr>\n",
       "    <tr>\n",
       "      <th>3</th>\n",
       "      <td>02-Aug-2020</td>\n",
       "      <td>2020.0</td>\n",
       "      <td>Unprovoked</td>\n",
       "      <td>USA</td>\n",
       "      <td>Virgin Islands</td>\n",
       "      <td>Candle Reef, St. Croix</td>\n",
       "      <td>Snorkeling</td>\n",
       "      <td>F</td>\n",
       "      <td>NaN</td>\n",
       "      <td>N</td>\n",
       "      <td>14h00</td>\n",
       "      <td>Nurse shark, 5'</td>\n",
       "      <td>-1</td>\n",
       "      <td>-</td>\n",
       "    </tr>\n",
       "    <tr>\n",
       "      <th>4</th>\n",
       "      <td>31-Jul-2020</td>\n",
       "      <td>2020.0</td>\n",
       "      <td>Unprovoked</td>\n",
       "      <td>USA</td>\n",
       "      <td>Florida</td>\n",
       "      <td>New Smyrna Beach, Volusia County</td>\n",
       "      <td>Surfing</td>\n",
       "      <td>F</td>\n",
       "      <td>22</td>\n",
       "      <td>N</td>\n",
       "      <td>17h00</td>\n",
       "      <td>NaN</td>\n",
       "      <td>22</td>\n",
       "      <td>Young Adult</td>\n",
       "    </tr>\n",
       "    <tr>\n",
       "      <th>...</th>\n",
       "      <td>...</td>\n",
       "      <td>...</td>\n",
       "      <td>...</td>\n",
       "      <td>...</td>\n",
       "      <td>...</td>\n",
       "      <td>...</td>\n",
       "      <td>...</td>\n",
       "      <td>...</td>\n",
       "      <td>...</td>\n",
       "      <td>...</td>\n",
       "      <td>...</td>\n",
       "      <td>...</td>\n",
       "      <td>...</td>\n",
       "      <td>...</td>\n",
       "    </tr>\n",
       "    <tr>\n",
       "      <th>6553</th>\n",
       "      <td>Before 1903</td>\n",
       "      <td>0.0</td>\n",
       "      <td>Unprovoked</td>\n",
       "      <td>AUSTRALIA</td>\n",
       "      <td>Western Australia</td>\n",
       "      <td>Roebuck Bay</td>\n",
       "      <td>Diving</td>\n",
       "      <td>M</td>\n",
       "      <td>NaN</td>\n",
       "      <td>Y</td>\n",
       "      <td>NaN</td>\n",
       "      <td>NaN</td>\n",
       "      <td>-1</td>\n",
       "      <td>-</td>\n",
       "    </tr>\n",
       "    <tr>\n",
       "      <th>6554</th>\n",
       "      <td>Before 1903</td>\n",
       "      <td>0.0</td>\n",
       "      <td>Unprovoked</td>\n",
       "      <td>AUSTRALIA</td>\n",
       "      <td>Western Australia</td>\n",
       "      <td>NaN</td>\n",
       "      <td>Pearl diving</td>\n",
       "      <td>M</td>\n",
       "      <td>NaN</td>\n",
       "      <td>Y</td>\n",
       "      <td>NaN</td>\n",
       "      <td>NaN</td>\n",
       "      <td>-1</td>\n",
       "      <td>-</td>\n",
       "    </tr>\n",
       "    <tr>\n",
       "      <th>6555</th>\n",
       "      <td>1900-1905</td>\n",
       "      <td>0.0</td>\n",
       "      <td>Unprovoked</td>\n",
       "      <td>USA</td>\n",
       "      <td>North Carolina</td>\n",
       "      <td>Ocracoke Inlet</td>\n",
       "      <td>Swimming</td>\n",
       "      <td>M</td>\n",
       "      <td>NaN</td>\n",
       "      <td>Y</td>\n",
       "      <td>NaN</td>\n",
       "      <td>NaN</td>\n",
       "      <td>-1</td>\n",
       "      <td>-</td>\n",
       "    </tr>\n",
       "    <tr>\n",
       "      <th>6556</th>\n",
       "      <td>1883-1889</td>\n",
       "      <td>0.0</td>\n",
       "      <td>Unprovoked</td>\n",
       "      <td>PANAMA</td>\n",
       "      <td>NaN</td>\n",
       "      <td>Panama Bay 8ºN, 79ºW</td>\n",
       "      <td>NaN</td>\n",
       "      <td>M</td>\n",
       "      <td>NaN</td>\n",
       "      <td>Y</td>\n",
       "      <td>NaN</td>\n",
       "      <td>NaN</td>\n",
       "      <td>-1</td>\n",
       "      <td>-</td>\n",
       "    </tr>\n",
       "    <tr>\n",
       "      <th>6557</th>\n",
       "      <td>1845-1853</td>\n",
       "      <td>0.0</td>\n",
       "      <td>Unprovoked</td>\n",
       "      <td>CEYLON (SRI LANKA)</td>\n",
       "      <td>Eastern Province</td>\n",
       "      <td>Below the English fort, Trincomalee</td>\n",
       "      <td>Swimming</td>\n",
       "      <td>M</td>\n",
       "      <td>15</td>\n",
       "      <td>Y</td>\n",
       "      <td>NaN</td>\n",
       "      <td>NaN</td>\n",
       "      <td>15</td>\n",
       "      <td>Teenager</td>\n",
       "    </tr>\n",
       "  </tbody>\n",
       "</table>\n",
       "<p>6558 rows × 14 columns</p>\n",
       "</div>"
      ],
      "text/plain": [
       "             Date    Year        Type             Country               Area  \\\n",
       "0     20-Aug-2020  2020.0  Unprovoked                 USA            Florida   \n",
       "1     14-Aug-2020  2020.0  Unprovoked           AUSTRALIA    New South Wales   \n",
       "2     10-Aug-2020  2020.0    Provoked                 USA            Florida   \n",
       "3     02-Aug-2020  2020.0  Unprovoked                 USA     Virgin Islands   \n",
       "4     31-Jul-2020  2020.0  Unprovoked                 USA            Florida   \n",
       "...           ...     ...         ...                 ...                ...   \n",
       "6553  Before 1903     0.0  Unprovoked           AUSTRALIA  Western Australia   \n",
       "6554  Before 1903     0.0  Unprovoked           AUSTRALIA  Western Australia   \n",
       "6555    1900-1905     0.0  Unprovoked                 USA     North Carolina   \n",
       "6556    1883-1889     0.0  Unprovoked              PANAMA                NaN   \n",
       "6557    1845-1853     0.0  Unprovoked  CEYLON (SRI LANKA)   Eastern Province   \n",
       "\n",
       "                                     Location         Activity Sex  Age  \\\n",
       "0            New Smyrna Beach, Volusia County  Boogie boarding   F   50   \n",
       "1                Shelly Beach, Port Macquarie          Surfing   F   35   \n",
       "2     Off Gasparilla Island, Charlotte County          Fishing   M   55   \n",
       "3                      Candle Reef, St. Croix       Snorkeling   F  NaN   \n",
       "4            New Smyrna Beach, Volusia County          Surfing   F   22   \n",
       "...                                       ...              ...  ..  ...   \n",
       "6553                              Roebuck Bay           Diving   M  NaN   \n",
       "6554                                      NaN     Pearl diving   M  NaN   \n",
       "6555                           Ocracoke Inlet         Swimming   M  NaN   \n",
       "6556                     Panama Bay 8ºN, 79ºW              NaN   M  NaN   \n",
       "6557      Below the English fort, Trincomalee         Swimming   M   15   \n",
       "\n",
       "     Fatal (Y/N)   Time               Species  age_int      age_cat  \n",
       "0              N  11h00                   NaN       50        Adult  \n",
       "1              N  09h30  White shark, 2-to 3m       35  Young Adult  \n",
       "2              N  16h00    Blacktip shark, 6'       55        Adult  \n",
       "3              N  14h00       Nurse shark, 5'       -1            -  \n",
       "4              N  17h00                   NaN       22  Young Adult  \n",
       "...          ...    ...                   ...      ...          ...  \n",
       "6553           Y    NaN                   NaN       -1            -  \n",
       "6554           Y    NaN                   NaN       -1            -  \n",
       "6555           Y    NaN                   NaN       -1            -  \n",
       "6556           Y    NaN                   NaN       -1            -  \n",
       "6557           Y    NaN                   NaN       15     Teenager  \n",
       "\n",
       "[6558 rows x 14 columns]"
      ]
     },
     "execution_count": 14,
     "metadata": {},
     "output_type": "execute_result"
    }
   ],
   "source": [
    "df"
   ]
  },
  {
   "cell_type": "markdown",
   "metadata": {},
   "source": [
    "# Year"
   ]
  },
  {
   "cell_type": "code",
   "execution_count": 15,
   "metadata": {
    "ExecuteTime": {
     "end_time": "2020-09-01T23:54:54.251038Z",
     "start_time": "2020-09-01T23:54:54.245030Z"
    }
   },
   "outputs": [
    {
     "data": {
      "text/plain": [
       "array([2020., 2019., 2018., 2017.,   nan, 2016., 2015., 2014., 2013.,\n",
       "       2012., 2011., 2010., 2009., 2008., 2007., 2006., 2005., 2004.,\n",
       "       2003., 2002., 2001., 2000., 1999., 1998., 1997., 1996., 1995.,\n",
       "       1984., 1994., 1993., 1992., 1991., 1990., 1989., 1969., 1988.,\n",
       "       1987., 1986., 1985., 1983., 1982., 1981., 1980., 1979., 1978.,\n",
       "       1977., 1976., 1975., 1974., 1973., 1972., 1971., 1970., 1968.,\n",
       "       1967., 1966., 1965., 1964., 1963., 1962., 1961., 1960., 1959.,\n",
       "       1958., 1957., 1956., 1955., 1954., 1953., 1952., 1951., 1950.,\n",
       "       1949., 1948., 1848., 1947., 1946., 1945., 1944., 1943., 1942.,\n",
       "       1941., 1940., 1939., 1938., 1937., 1936., 1935., 1934., 1933.,\n",
       "       1932., 1931., 1930., 1929., 1928., 1927., 1926., 1925., 1924.,\n",
       "       1923., 1922., 1921., 1920., 1919., 1918., 1917., 1916., 1915.,\n",
       "       1914., 1913., 1912., 1911., 1910., 1909., 1908., 1907., 1906.,\n",
       "       1905., 1904., 1903., 1902., 1901., 1900., 1899., 1898., 1897.,\n",
       "       1896., 1895., 1894., 1893., 1892., 1891., 1890., 1889., 1888.,\n",
       "       1887., 1886., 1885., 1884., 1883., 1882., 1881., 1880., 1879.,\n",
       "       1878., 1877., 1876., 1875., 1874., 1873., 1872., 1871., 1870.,\n",
       "       1869., 1868., 1867., 1866., 1865., 1864., 1863., 1862., 1861.,\n",
       "       1860., 1859., 1858., 1857., 1856., 1855., 1853., 1852., 1851.,\n",
       "       1850., 1849., 1847., 1846., 1845., 1844., 1842., 1841., 1840.,\n",
       "       1839., 1837., 1836., 1835., 1834., 1832., 1831., 1830., 1829.,\n",
       "       1828., 1827., 1826., 1825., 1823., 1822., 1819., 1818., 1817.,\n",
       "       1816., 1815., 1812., 1811., 1810., 1808., 1807., 1805., 1804.,\n",
       "       1803., 1802., 1801., 1800., 1797., 1792., 1791., 1788., 1787.,\n",
       "       1786., 1785., 1784., 1783., 1780., 1779., 1776., 1771., 1767.,\n",
       "       1764., 1758., 1753., 1751., 1749., 1755., 1748., 1742., 1738.,\n",
       "       1733., 1723., 1721., 1703., 1700., 1642., 1638., 1637., 1617.,\n",
       "       1595., 1580., 1555., 1554., 1543.,  500.,   77.,    5.,    0.])"
      ]
     },
     "execution_count": 15,
     "metadata": {},
     "output_type": "execute_result"
    }
   ],
   "source": [
    "df.Year.unique()"
   ]
  },
  {
   "cell_type": "code",
   "execution_count": 16,
   "metadata": {
    "ExecuteTime": {
     "end_time": "2020-09-01T23:54:54.271989Z",
     "start_time": "2020-09-01T23:54:54.252035Z"
    }
   },
   "outputs": [
    {
     "data": {
      "text/html": [
       "<div>\n",
       "<style scoped>\n",
       "    .dataframe tbody tr th:only-of-type {\n",
       "        vertical-align: middle;\n",
       "    }\n",
       "\n",
       "    .dataframe tbody tr th {\n",
       "        vertical-align: top;\n",
       "    }\n",
       "\n",
       "    .dataframe thead th {\n",
       "        text-align: right;\n",
       "    }\n",
       "</style>\n",
       "<table border=\"1\" class=\"dataframe\">\n",
       "  <thead>\n",
       "    <tr style=\"text-align: right;\">\n",
       "      <th></th>\n",
       "      <th>Date</th>\n",
       "      <th>Year</th>\n",
       "      <th>Type</th>\n",
       "      <th>Country</th>\n",
       "      <th>Area</th>\n",
       "      <th>Location</th>\n",
       "      <th>Activity</th>\n",
       "      <th>Sex</th>\n",
       "      <th>Age</th>\n",
       "      <th>Fatal (Y/N)</th>\n",
       "      <th>Time</th>\n",
       "      <th>Species</th>\n",
       "      <th>age_int</th>\n",
       "      <th>age_cat</th>\n",
       "      <th>year_int</th>\n",
       "    </tr>\n",
       "  </thead>\n",
       "  <tbody>\n",
       "    <tr>\n",
       "      <th>0</th>\n",
       "      <td>20-Aug-2020</td>\n",
       "      <td>2020.0</td>\n",
       "      <td>Unprovoked</td>\n",
       "      <td>USA</td>\n",
       "      <td>Florida</td>\n",
       "      <td>New Smyrna Beach, Volusia County</td>\n",
       "      <td>Boogie boarding</td>\n",
       "      <td>F</td>\n",
       "      <td>50</td>\n",
       "      <td>N</td>\n",
       "      <td>11h00</td>\n",
       "      <td>NaN</td>\n",
       "      <td>50</td>\n",
       "      <td>Adult</td>\n",
       "      <td>2020</td>\n",
       "    </tr>\n",
       "    <tr>\n",
       "      <th>1</th>\n",
       "      <td>14-Aug-2020</td>\n",
       "      <td>2020.0</td>\n",
       "      <td>Unprovoked</td>\n",
       "      <td>AUSTRALIA</td>\n",
       "      <td>New South Wales</td>\n",
       "      <td>Shelly Beach, Port Macquarie</td>\n",
       "      <td>Surfing</td>\n",
       "      <td>F</td>\n",
       "      <td>35</td>\n",
       "      <td>N</td>\n",
       "      <td>09h30</td>\n",
       "      <td>White shark, 2-to 3m</td>\n",
       "      <td>35</td>\n",
       "      <td>Young Adult</td>\n",
       "      <td>2020</td>\n",
       "    </tr>\n",
       "    <tr>\n",
       "      <th>2</th>\n",
       "      <td>10-Aug-2020</td>\n",
       "      <td>2020.0</td>\n",
       "      <td>Provoked</td>\n",
       "      <td>USA</td>\n",
       "      <td>Florida</td>\n",
       "      <td>Off Gasparilla Island, Charlotte County</td>\n",
       "      <td>Fishing</td>\n",
       "      <td>M</td>\n",
       "      <td>55</td>\n",
       "      <td>N</td>\n",
       "      <td>16h00</td>\n",
       "      <td>Blacktip shark, 6'</td>\n",
       "      <td>55</td>\n",
       "      <td>Adult</td>\n",
       "      <td>2020</td>\n",
       "    </tr>\n",
       "    <tr>\n",
       "      <th>3</th>\n",
       "      <td>02-Aug-2020</td>\n",
       "      <td>2020.0</td>\n",
       "      <td>Unprovoked</td>\n",
       "      <td>USA</td>\n",
       "      <td>Virgin Islands</td>\n",
       "      <td>Candle Reef, St. Croix</td>\n",
       "      <td>Snorkeling</td>\n",
       "      <td>F</td>\n",
       "      <td>NaN</td>\n",
       "      <td>N</td>\n",
       "      <td>14h00</td>\n",
       "      <td>Nurse shark, 5'</td>\n",
       "      <td>-1</td>\n",
       "      <td>-</td>\n",
       "      <td>2020</td>\n",
       "    </tr>\n",
       "    <tr>\n",
       "      <th>4</th>\n",
       "      <td>31-Jul-2020</td>\n",
       "      <td>2020.0</td>\n",
       "      <td>Unprovoked</td>\n",
       "      <td>USA</td>\n",
       "      <td>Florida</td>\n",
       "      <td>New Smyrna Beach, Volusia County</td>\n",
       "      <td>Surfing</td>\n",
       "      <td>F</td>\n",
       "      <td>22</td>\n",
       "      <td>N</td>\n",
       "      <td>17h00</td>\n",
       "      <td>NaN</td>\n",
       "      <td>22</td>\n",
       "      <td>Young Adult</td>\n",
       "      <td>2020</td>\n",
       "    </tr>\n",
       "    <tr>\n",
       "      <th>...</th>\n",
       "      <td>...</td>\n",
       "      <td>...</td>\n",
       "      <td>...</td>\n",
       "      <td>...</td>\n",
       "      <td>...</td>\n",
       "      <td>...</td>\n",
       "      <td>...</td>\n",
       "      <td>...</td>\n",
       "      <td>...</td>\n",
       "      <td>...</td>\n",
       "      <td>...</td>\n",
       "      <td>...</td>\n",
       "      <td>...</td>\n",
       "      <td>...</td>\n",
       "      <td>...</td>\n",
       "    </tr>\n",
       "    <tr>\n",
       "      <th>6553</th>\n",
       "      <td>Before 1903</td>\n",
       "      <td>0.0</td>\n",
       "      <td>Unprovoked</td>\n",
       "      <td>AUSTRALIA</td>\n",
       "      <td>Western Australia</td>\n",
       "      <td>Roebuck Bay</td>\n",
       "      <td>Diving</td>\n",
       "      <td>M</td>\n",
       "      <td>NaN</td>\n",
       "      <td>Y</td>\n",
       "      <td>NaN</td>\n",
       "      <td>NaN</td>\n",
       "      <td>-1</td>\n",
       "      <td>-</td>\n",
       "      <td>0</td>\n",
       "    </tr>\n",
       "    <tr>\n",
       "      <th>6554</th>\n",
       "      <td>Before 1903</td>\n",
       "      <td>0.0</td>\n",
       "      <td>Unprovoked</td>\n",
       "      <td>AUSTRALIA</td>\n",
       "      <td>Western Australia</td>\n",
       "      <td>NaN</td>\n",
       "      <td>Pearl diving</td>\n",
       "      <td>M</td>\n",
       "      <td>NaN</td>\n",
       "      <td>Y</td>\n",
       "      <td>NaN</td>\n",
       "      <td>NaN</td>\n",
       "      <td>-1</td>\n",
       "      <td>-</td>\n",
       "      <td>0</td>\n",
       "    </tr>\n",
       "    <tr>\n",
       "      <th>6555</th>\n",
       "      <td>1900-1905</td>\n",
       "      <td>0.0</td>\n",
       "      <td>Unprovoked</td>\n",
       "      <td>USA</td>\n",
       "      <td>North Carolina</td>\n",
       "      <td>Ocracoke Inlet</td>\n",
       "      <td>Swimming</td>\n",
       "      <td>M</td>\n",
       "      <td>NaN</td>\n",
       "      <td>Y</td>\n",
       "      <td>NaN</td>\n",
       "      <td>NaN</td>\n",
       "      <td>-1</td>\n",
       "      <td>-</td>\n",
       "      <td>0</td>\n",
       "    </tr>\n",
       "    <tr>\n",
       "      <th>6556</th>\n",
       "      <td>1883-1889</td>\n",
       "      <td>0.0</td>\n",
       "      <td>Unprovoked</td>\n",
       "      <td>PANAMA</td>\n",
       "      <td>NaN</td>\n",
       "      <td>Panama Bay 8ºN, 79ºW</td>\n",
       "      <td>NaN</td>\n",
       "      <td>M</td>\n",
       "      <td>NaN</td>\n",
       "      <td>Y</td>\n",
       "      <td>NaN</td>\n",
       "      <td>NaN</td>\n",
       "      <td>-1</td>\n",
       "      <td>-</td>\n",
       "      <td>0</td>\n",
       "    </tr>\n",
       "    <tr>\n",
       "      <th>6557</th>\n",
       "      <td>1845-1853</td>\n",
       "      <td>0.0</td>\n",
       "      <td>Unprovoked</td>\n",
       "      <td>CEYLON (SRI LANKA)</td>\n",
       "      <td>Eastern Province</td>\n",
       "      <td>Below the English fort, Trincomalee</td>\n",
       "      <td>Swimming</td>\n",
       "      <td>M</td>\n",
       "      <td>15</td>\n",
       "      <td>Y</td>\n",
       "      <td>NaN</td>\n",
       "      <td>NaN</td>\n",
       "      <td>15</td>\n",
       "      <td>Teenager</td>\n",
       "      <td>0</td>\n",
       "    </tr>\n",
       "  </tbody>\n",
       "</table>\n",
       "<p>6558 rows × 15 columns</p>\n",
       "</div>"
      ],
      "text/plain": [
       "             Date    Year        Type             Country               Area  \\\n",
       "0     20-Aug-2020  2020.0  Unprovoked                 USA            Florida   \n",
       "1     14-Aug-2020  2020.0  Unprovoked           AUSTRALIA    New South Wales   \n",
       "2     10-Aug-2020  2020.0    Provoked                 USA            Florida   \n",
       "3     02-Aug-2020  2020.0  Unprovoked                 USA     Virgin Islands   \n",
       "4     31-Jul-2020  2020.0  Unprovoked                 USA            Florida   \n",
       "...           ...     ...         ...                 ...                ...   \n",
       "6553  Before 1903     0.0  Unprovoked           AUSTRALIA  Western Australia   \n",
       "6554  Before 1903     0.0  Unprovoked           AUSTRALIA  Western Australia   \n",
       "6555    1900-1905     0.0  Unprovoked                 USA     North Carolina   \n",
       "6556    1883-1889     0.0  Unprovoked              PANAMA                NaN   \n",
       "6557    1845-1853     0.0  Unprovoked  CEYLON (SRI LANKA)   Eastern Province   \n",
       "\n",
       "                                     Location         Activity Sex  Age  \\\n",
       "0            New Smyrna Beach, Volusia County  Boogie boarding   F   50   \n",
       "1                Shelly Beach, Port Macquarie          Surfing   F   35   \n",
       "2     Off Gasparilla Island, Charlotte County          Fishing   M   55   \n",
       "3                      Candle Reef, St. Croix       Snorkeling   F  NaN   \n",
       "4            New Smyrna Beach, Volusia County          Surfing   F   22   \n",
       "...                                       ...              ...  ..  ...   \n",
       "6553                              Roebuck Bay           Diving   M  NaN   \n",
       "6554                                      NaN     Pearl diving   M  NaN   \n",
       "6555                           Ocracoke Inlet         Swimming   M  NaN   \n",
       "6556                     Panama Bay 8ºN, 79ºW              NaN   M  NaN   \n",
       "6557      Below the English fort, Trincomalee         Swimming   M   15   \n",
       "\n",
       "     Fatal (Y/N)   Time               Species  age_int      age_cat  year_int  \n",
       "0              N  11h00                   NaN       50        Adult      2020  \n",
       "1              N  09h30  White shark, 2-to 3m       35  Young Adult      2020  \n",
       "2              N  16h00    Blacktip shark, 6'       55        Adult      2020  \n",
       "3              N  14h00       Nurse shark, 5'       -1            -      2020  \n",
       "4              N  17h00                   NaN       22  Young Adult      2020  \n",
       "...          ...    ...                   ...      ...          ...       ...  \n",
       "6553           Y    NaN                   NaN       -1            -         0  \n",
       "6554           Y    NaN                   NaN       -1            -         0  \n",
       "6555           Y    NaN                   NaN       -1            -         0  \n",
       "6556           Y    NaN                   NaN       -1            -         0  \n",
       "6557           Y    NaN                   NaN       15     Teenager         0  \n",
       "\n",
       "[6558 rows x 15 columns]"
      ]
     },
     "execution_count": 16,
     "metadata": {},
     "output_type": "execute_result"
    }
   ],
   "source": [
    "# Convert the strings in column 'Year' to integers\n",
    "df['year_int'] = df.Year.apply(convert_str_to_int)\n",
    "\n",
    "# Check the result\n",
    "df"
   ]
  },
  {
   "cell_type": "code",
   "execution_count": 17,
   "metadata": {
    "ExecuteTime": {
     "end_time": "2020-09-01T23:54:54.278970Z",
     "start_time": "2020-09-01T23:54:54.272956Z"
    }
   },
   "outputs": [
    {
     "name": "stdout",
     "output_type": "stream",
     "text": [
      "The incidents before 1801 represents only 2.61% of the dataset. So, only the years from 1800 will be analysed.\n"
     ]
    }
   ],
   "source": [
    "# Check % incidents occured before 1801\n",
    "print(f'The incidents before 1801 represents only {(df[df.Year < 1801].Year.count() / df.Year.count()) * 100:.2f}%',\n",
    "      f'of the dataset. So, only the years from 1800 will be analysed.', sep=' ')"
   ]
  },
  {
   "cell_type": "code",
   "execution_count": 18,
   "metadata": {
    "ExecuteTime": {
     "end_time": "2020-09-01T23:54:54.290940Z",
     "start_time": "2020-09-01T23:54:54.279968Z"
    }
   },
   "outputs": [
    {
     "name": "stdout",
     "output_type": "stream",
     "text": [
      "<class 'pandas.core.frame.DataFrame'>\n",
      "Int64Index: 6385 entries, 0 to 6386\n",
      "Data columns (total 15 columns):\n",
      " #   Column       Non-Null Count  Dtype  \n",
      "---  ------       --------------  -----  \n",
      " 0   Date         6385 non-null   object \n",
      " 1   Year         6385 non-null   float64\n",
      " 2   Type         6379 non-null   object \n",
      " 3   Country      6345 non-null   object \n",
      " 4   Area         5963 non-null   object \n",
      " 5   Location     5886 non-null   object \n",
      " 6   Activity     5860 non-null   object \n",
      " 7   Sex          5828 non-null   object \n",
      " 8   Age          3643 non-null   object \n",
      " 9   Fatal (Y/N)  5840 non-null   object \n",
      " 10  Time         3129 non-null   object \n",
      " 11  Species      3564 non-null   object \n",
      " 12  age_int      6385 non-null   int64  \n",
      " 13  age_cat      6385 non-null   object \n",
      " 14  year_int     6385 non-null   int64  \n",
      "dtypes: float64(1), int64(2), object(12)\n",
      "memory usage: 798.1+ KB\n"
     ]
    }
   ],
   "source": [
    "# Selecting only the years from 1800\n",
    "df = df.loc[df['Year'] >= 1801, :]\n",
    "df.info()"
   ]
  },
  {
   "cell_type": "code",
   "execution_count": 19,
   "metadata": {
    "ExecuteTime": {
     "end_time": "2020-09-01T23:54:54.311853Z",
     "start_time": "2020-09-01T23:54:54.291906Z"
    }
   },
   "outputs": [
    {
     "data": {
      "text/html": [
       "<div>\n",
       "<style scoped>\n",
       "    .dataframe tbody tr th:only-of-type {\n",
       "        vertical-align: middle;\n",
       "    }\n",
       "\n",
       "    .dataframe tbody tr th {\n",
       "        vertical-align: top;\n",
       "    }\n",
       "\n",
       "    .dataframe thead th {\n",
       "        text-align: right;\n",
       "    }\n",
       "</style>\n",
       "<table border=\"1\" class=\"dataframe\">\n",
       "  <thead>\n",
       "    <tr style=\"text-align: right;\">\n",
       "      <th></th>\n",
       "      <th>Date</th>\n",
       "      <th>Year</th>\n",
       "      <th>Type</th>\n",
       "      <th>Country</th>\n",
       "      <th>Area</th>\n",
       "      <th>Location</th>\n",
       "      <th>Activity</th>\n",
       "      <th>Sex</th>\n",
       "      <th>Age</th>\n",
       "      <th>Fatal (Y/N)</th>\n",
       "      <th>Time</th>\n",
       "      <th>Species</th>\n",
       "      <th>age_int</th>\n",
       "      <th>age_cat</th>\n",
       "      <th>year_int</th>\n",
       "    </tr>\n",
       "  </thead>\n",
       "  <tbody>\n",
       "    <tr>\n",
       "      <th>0</th>\n",
       "      <td>20-Aug-2020</td>\n",
       "      <td>2020.0</td>\n",
       "      <td>Unprovoked</td>\n",
       "      <td>USA</td>\n",
       "      <td>Florida</td>\n",
       "      <td>New Smyrna Beach, Volusia County</td>\n",
       "      <td>Boogie boarding</td>\n",
       "      <td>F</td>\n",
       "      <td>50</td>\n",
       "      <td>N</td>\n",
       "      <td>11h00</td>\n",
       "      <td>NaN</td>\n",
       "      <td>50</td>\n",
       "      <td>Adult</td>\n",
       "      <td>2020</td>\n",
       "    </tr>\n",
       "    <tr>\n",
       "      <th>1</th>\n",
       "      <td>14-Aug-2020</td>\n",
       "      <td>2020.0</td>\n",
       "      <td>Unprovoked</td>\n",
       "      <td>AUSTRALIA</td>\n",
       "      <td>New South Wales</td>\n",
       "      <td>Shelly Beach, Port Macquarie</td>\n",
       "      <td>Surfing</td>\n",
       "      <td>F</td>\n",
       "      <td>35</td>\n",
       "      <td>N</td>\n",
       "      <td>09h30</td>\n",
       "      <td>White shark, 2-to 3m</td>\n",
       "      <td>35</td>\n",
       "      <td>Young Adult</td>\n",
       "      <td>2020</td>\n",
       "    </tr>\n",
       "    <tr>\n",
       "      <th>2</th>\n",
       "      <td>10-Aug-2020</td>\n",
       "      <td>2020.0</td>\n",
       "      <td>Provoked</td>\n",
       "      <td>USA</td>\n",
       "      <td>Florida</td>\n",
       "      <td>Off Gasparilla Island, Charlotte County</td>\n",
       "      <td>Fishing</td>\n",
       "      <td>M</td>\n",
       "      <td>55</td>\n",
       "      <td>N</td>\n",
       "      <td>16h00</td>\n",
       "      <td>Blacktip shark, 6'</td>\n",
       "      <td>55</td>\n",
       "      <td>Adult</td>\n",
       "      <td>2020</td>\n",
       "    </tr>\n",
       "    <tr>\n",
       "      <th>3</th>\n",
       "      <td>02-Aug-2020</td>\n",
       "      <td>2020.0</td>\n",
       "      <td>Unprovoked</td>\n",
       "      <td>USA</td>\n",
       "      <td>Virgin Islands</td>\n",
       "      <td>Candle Reef, St. Croix</td>\n",
       "      <td>Snorkeling</td>\n",
       "      <td>F</td>\n",
       "      <td>NaN</td>\n",
       "      <td>N</td>\n",
       "      <td>14h00</td>\n",
       "      <td>Nurse shark, 5'</td>\n",
       "      <td>-1</td>\n",
       "      <td>-</td>\n",
       "      <td>2020</td>\n",
       "    </tr>\n",
       "    <tr>\n",
       "      <th>4</th>\n",
       "      <td>31-Jul-2020</td>\n",
       "      <td>2020.0</td>\n",
       "      <td>Unprovoked</td>\n",
       "      <td>USA</td>\n",
       "      <td>Florida</td>\n",
       "      <td>New Smyrna Beach, Volusia County</td>\n",
       "      <td>Surfing</td>\n",
       "      <td>F</td>\n",
       "      <td>22</td>\n",
       "      <td>N</td>\n",
       "      <td>17h00</td>\n",
       "      <td>NaN</td>\n",
       "      <td>22</td>\n",
       "      <td>Young Adult</td>\n",
       "      <td>2020</td>\n",
       "    </tr>\n",
       "    <tr>\n",
       "      <th>...</th>\n",
       "      <td>...</td>\n",
       "      <td>...</td>\n",
       "      <td>...</td>\n",
       "      <td>...</td>\n",
       "      <td>...</td>\n",
       "      <td>...</td>\n",
       "      <td>...</td>\n",
       "      <td>...</td>\n",
       "      <td>...</td>\n",
       "      <td>...</td>\n",
       "      <td>...</td>\n",
       "      <td>...</td>\n",
       "      <td>...</td>\n",
       "      <td>...</td>\n",
       "      <td>...</td>\n",
       "    </tr>\n",
       "    <tr>\n",
       "      <th>6382</th>\n",
       "      <td>Reported 26-Feb-1804</td>\n",
       "      <td>1804.0</td>\n",
       "      <td>Watercraft</td>\n",
       "      <td>AUSTRALIA</td>\n",
       "      <td>New South Wales</td>\n",
       "      <td>Georges Head, off Port Jackson</td>\n",
       "      <td>NaN</td>\n",
       "      <td>NaN</td>\n",
       "      <td>NaN</td>\n",
       "      <td>N</td>\n",
       "      <td>NaN</td>\n",
       "      <td>NaN</td>\n",
       "      <td>-1</td>\n",
       "      <td>-</td>\n",
       "      <td>1804</td>\n",
       "    </tr>\n",
       "    <tr>\n",
       "      <th>6383</th>\n",
       "      <td>May-17-1803</td>\n",
       "      <td>1803.0</td>\n",
       "      <td>Sea Disaster</td>\n",
       "      <td>USA</td>\n",
       "      <td>South Carolina</td>\n",
       "      <td>Off Charleston</td>\n",
       "      <td>NaN</td>\n",
       "      <td>M</td>\n",
       "      <td>NaN</td>\n",
       "      <td>N</td>\n",
       "      <td>NaN</td>\n",
       "      <td>NaN</td>\n",
       "      <td>-1</td>\n",
       "      <td>-</td>\n",
       "      <td>1803</td>\n",
       "    </tr>\n",
       "    <tr>\n",
       "      <th>6384</th>\n",
       "      <td>Mar-1803</td>\n",
       "      <td>1803.0</td>\n",
       "      <td>Unprovoked</td>\n",
       "      <td>AUSTRALIA</td>\n",
       "      <td>Western Australia</td>\n",
       "      <td>Hamelin Harbour, at Faure Island</td>\n",
       "      <td>NaN</td>\n",
       "      <td>M</td>\n",
       "      <td>NaN</td>\n",
       "      <td>N</td>\n",
       "      <td>NaN</td>\n",
       "      <td>NaN</td>\n",
       "      <td>-1</td>\n",
       "      <td>-</td>\n",
       "      <td>1803</td>\n",
       "    </tr>\n",
       "    <tr>\n",
       "      <th>6385</th>\n",
       "      <td>Reported Apr-13-1802</td>\n",
       "      <td>1802.0</td>\n",
       "      <td>Unprovoked</td>\n",
       "      <td>INDIA</td>\n",
       "      <td>NaN</td>\n",
       "      <td>NaN</td>\n",
       "      <td>NaN</td>\n",
       "      <td>NaN</td>\n",
       "      <td>NaN</td>\n",
       "      <td>Y</td>\n",
       "      <td>NaN</td>\n",
       "      <td>NaN</td>\n",
       "      <td>-1</td>\n",
       "      <td>-</td>\n",
       "      <td>1802</td>\n",
       "    </tr>\n",
       "    <tr>\n",
       "      <th>6386</th>\n",
       "      <td>Reported 18-Dec-1801</td>\n",
       "      <td>1801.0</td>\n",
       "      <td>Provoked</td>\n",
       "      <td>NaN</td>\n",
       "      <td>NaN</td>\n",
       "      <td>NaN</td>\n",
       "      <td>Standing on landed shark's tail</td>\n",
       "      <td>N</td>\n",
       "      <td>NaN</td>\n",
       "      <td>Y</td>\n",
       "      <td>NaN</td>\n",
       "      <td>12' shark</td>\n",
       "      <td>-1</td>\n",
       "      <td>-</td>\n",
       "      <td>1801</td>\n",
       "    </tr>\n",
       "  </tbody>\n",
       "</table>\n",
       "<p>6385 rows × 15 columns</p>\n",
       "</div>"
      ],
      "text/plain": [
       "                      Date    Year          Type    Country  \\\n",
       "0              20-Aug-2020  2020.0    Unprovoked        USA   \n",
       "1              14-Aug-2020  2020.0    Unprovoked  AUSTRALIA   \n",
       "2              10-Aug-2020  2020.0      Provoked        USA   \n",
       "3              02-Aug-2020  2020.0    Unprovoked        USA   \n",
       "4              31-Jul-2020  2020.0    Unprovoked        USA   \n",
       "...                    ...     ...           ...        ...   \n",
       "6382  Reported 26-Feb-1804  1804.0    Watercraft  AUSTRALIA   \n",
       "6383           May-17-1803  1803.0  Sea Disaster        USA   \n",
       "6384              Mar-1803  1803.0    Unprovoked  AUSTRALIA   \n",
       "6385  Reported Apr-13-1802  1802.0    Unprovoked      INDIA   \n",
       "6386  Reported 18-Dec-1801  1801.0      Provoked        NaN   \n",
       "\n",
       "                   Area                                 Location  \\\n",
       "0               Florida         New Smyrna Beach, Volusia County   \n",
       "1       New South Wales             Shelly Beach, Port Macquarie   \n",
       "2               Florida  Off Gasparilla Island, Charlotte County   \n",
       "3        Virgin Islands                   Candle Reef, St. Croix   \n",
       "4               Florida         New Smyrna Beach, Volusia County   \n",
       "...                 ...                                      ...   \n",
       "6382    New South Wales           Georges Head, off Port Jackson   \n",
       "6383     South Carolina                           Off Charleston   \n",
       "6384  Western Australia         Hamelin Harbour, at Faure Island   \n",
       "6385                NaN                                      NaN   \n",
       "6386                NaN                                      NaN   \n",
       "\n",
       "                             Activity  Sex  Age Fatal (Y/N)   Time  \\\n",
       "0                     Boogie boarding    F   50           N  11h00   \n",
       "1                             Surfing    F   35           N  09h30   \n",
       "2                             Fishing    M   55           N  16h00   \n",
       "3                          Snorkeling    F  NaN           N  14h00   \n",
       "4                             Surfing    F   22           N  17h00   \n",
       "...                               ...  ...  ...         ...    ...   \n",
       "6382                              NaN  NaN  NaN           N    NaN   \n",
       "6383                              NaN    M  NaN           N    NaN   \n",
       "6384                              NaN    M  NaN           N    NaN   \n",
       "6385                              NaN  NaN  NaN           Y    NaN   \n",
       "6386  Standing on landed shark's tail    N  NaN           Y    NaN   \n",
       "\n",
       "                   Species  age_int      age_cat  year_int  \n",
       "0                      NaN       50        Adult      2020  \n",
       "1     White shark, 2-to 3m       35  Young Adult      2020  \n",
       "2       Blacktip shark, 6'       55        Adult      2020  \n",
       "3          Nurse shark, 5'       -1            -      2020  \n",
       "4                      NaN       22  Young Adult      2020  \n",
       "...                    ...      ...          ...       ...  \n",
       "6382                   NaN       -1            -      1804  \n",
       "6383                   NaN       -1            -      1803  \n",
       "6384                   NaN       -1            -      1803  \n",
       "6385                   NaN       -1            -      1802  \n",
       "6386             12' shark       -1            -      1801  \n",
       "\n",
       "[6385 rows x 15 columns]"
      ]
     },
     "execution_count": 19,
     "metadata": {},
     "output_type": "execute_result"
    }
   ],
   "source": [
    "df"
   ]
  },
  {
   "cell_type": "code",
   "execution_count": 20,
   "metadata": {
    "ExecuteTime": {
     "end_time": "2020-09-01T23:54:54.317835Z",
     "start_time": "2020-09-01T23:54:54.312849Z"
    }
   },
   "outputs": [
    {
     "name": "stderr",
     "output_type": "stream",
     "text": [
      "<ipython-input-20-1b8ebe0bb355>:2: SettingWithCopyWarning: \n",
      "A value is trying to be set on a copy of a slice from a DataFrame.\n",
      "Try using .loc[row_indexer,col_indexer] = value instead\n",
      "\n",
      "See the caveats in the documentation: https://pandas.pydata.org/pandas-docs/stable/user_guide/indexing.html#returning-a-view-versus-a-copy\n",
      "  df['century'] = np.where(df['year_int'] >= 2001, 21,\n"
     ]
    }
   ],
   "source": [
    "# Classification by year\n",
    "df['century'] = np.where(df['year_int'] >= 2001, 21,\n",
    "                            np.where(df['year_int'] >= 1901, 20, 19))"
   ]
  },
  {
   "cell_type": "code",
   "execution_count": 21,
   "metadata": {
    "ExecuteTime": {
     "end_time": "2020-09-01T23:54:54.336820Z",
     "start_time": "2020-09-01T23:54:54.318832Z"
    }
   },
   "outputs": [
    {
     "data": {
      "text/html": [
       "<div>\n",
       "<style scoped>\n",
       "    .dataframe tbody tr th:only-of-type {\n",
       "        vertical-align: middle;\n",
       "    }\n",
       "\n",
       "    .dataframe tbody tr th {\n",
       "        vertical-align: top;\n",
       "    }\n",
       "\n",
       "    .dataframe thead th {\n",
       "        text-align: right;\n",
       "    }\n",
       "</style>\n",
       "<table border=\"1\" class=\"dataframe\">\n",
       "  <thead>\n",
       "    <tr style=\"text-align: right;\">\n",
       "      <th></th>\n",
       "      <th>Date</th>\n",
       "      <th>Year</th>\n",
       "      <th>Type</th>\n",
       "      <th>Country</th>\n",
       "      <th>Area</th>\n",
       "      <th>Location</th>\n",
       "      <th>Activity</th>\n",
       "      <th>Sex</th>\n",
       "      <th>Age</th>\n",
       "      <th>Fatal (Y/N)</th>\n",
       "      <th>Time</th>\n",
       "      <th>Species</th>\n",
       "      <th>age_int</th>\n",
       "      <th>age_cat</th>\n",
       "      <th>year_int</th>\n",
       "      <th>century</th>\n",
       "    </tr>\n",
       "  </thead>\n",
       "  <tbody>\n",
       "    <tr>\n",
       "      <th>0</th>\n",
       "      <td>20-Aug-2020</td>\n",
       "      <td>2020.0</td>\n",
       "      <td>Unprovoked</td>\n",
       "      <td>USA</td>\n",
       "      <td>Florida</td>\n",
       "      <td>New Smyrna Beach, Volusia County</td>\n",
       "      <td>Boogie boarding</td>\n",
       "      <td>F</td>\n",
       "      <td>50</td>\n",
       "      <td>N</td>\n",
       "      <td>11h00</td>\n",
       "      <td>NaN</td>\n",
       "      <td>50</td>\n",
       "      <td>Adult</td>\n",
       "      <td>2020</td>\n",
       "      <td>21</td>\n",
       "    </tr>\n",
       "    <tr>\n",
       "      <th>1</th>\n",
       "      <td>14-Aug-2020</td>\n",
       "      <td>2020.0</td>\n",
       "      <td>Unprovoked</td>\n",
       "      <td>AUSTRALIA</td>\n",
       "      <td>New South Wales</td>\n",
       "      <td>Shelly Beach, Port Macquarie</td>\n",
       "      <td>Surfing</td>\n",
       "      <td>F</td>\n",
       "      <td>35</td>\n",
       "      <td>N</td>\n",
       "      <td>09h30</td>\n",
       "      <td>White shark, 2-to 3m</td>\n",
       "      <td>35</td>\n",
       "      <td>Young Adult</td>\n",
       "      <td>2020</td>\n",
       "      <td>21</td>\n",
       "    </tr>\n",
       "    <tr>\n",
       "      <th>2</th>\n",
       "      <td>10-Aug-2020</td>\n",
       "      <td>2020.0</td>\n",
       "      <td>Provoked</td>\n",
       "      <td>USA</td>\n",
       "      <td>Florida</td>\n",
       "      <td>Off Gasparilla Island, Charlotte County</td>\n",
       "      <td>Fishing</td>\n",
       "      <td>M</td>\n",
       "      <td>55</td>\n",
       "      <td>N</td>\n",
       "      <td>16h00</td>\n",
       "      <td>Blacktip shark, 6'</td>\n",
       "      <td>55</td>\n",
       "      <td>Adult</td>\n",
       "      <td>2020</td>\n",
       "      <td>21</td>\n",
       "    </tr>\n",
       "    <tr>\n",
       "      <th>3</th>\n",
       "      <td>02-Aug-2020</td>\n",
       "      <td>2020.0</td>\n",
       "      <td>Unprovoked</td>\n",
       "      <td>USA</td>\n",
       "      <td>Virgin Islands</td>\n",
       "      <td>Candle Reef, St. Croix</td>\n",
       "      <td>Snorkeling</td>\n",
       "      <td>F</td>\n",
       "      <td>NaN</td>\n",
       "      <td>N</td>\n",
       "      <td>14h00</td>\n",
       "      <td>Nurse shark, 5'</td>\n",
       "      <td>-1</td>\n",
       "      <td>-</td>\n",
       "      <td>2020</td>\n",
       "      <td>21</td>\n",
       "    </tr>\n",
       "    <tr>\n",
       "      <th>4</th>\n",
       "      <td>31-Jul-2020</td>\n",
       "      <td>2020.0</td>\n",
       "      <td>Unprovoked</td>\n",
       "      <td>USA</td>\n",
       "      <td>Florida</td>\n",
       "      <td>New Smyrna Beach, Volusia County</td>\n",
       "      <td>Surfing</td>\n",
       "      <td>F</td>\n",
       "      <td>22</td>\n",
       "      <td>N</td>\n",
       "      <td>17h00</td>\n",
       "      <td>NaN</td>\n",
       "      <td>22</td>\n",
       "      <td>Young Adult</td>\n",
       "      <td>2020</td>\n",
       "      <td>21</td>\n",
       "    </tr>\n",
       "    <tr>\n",
       "      <th>...</th>\n",
       "      <td>...</td>\n",
       "      <td>...</td>\n",
       "      <td>...</td>\n",
       "      <td>...</td>\n",
       "      <td>...</td>\n",
       "      <td>...</td>\n",
       "      <td>...</td>\n",
       "      <td>...</td>\n",
       "      <td>...</td>\n",
       "      <td>...</td>\n",
       "      <td>...</td>\n",
       "      <td>...</td>\n",
       "      <td>...</td>\n",
       "      <td>...</td>\n",
       "      <td>...</td>\n",
       "      <td>...</td>\n",
       "    </tr>\n",
       "    <tr>\n",
       "      <th>6382</th>\n",
       "      <td>Reported 26-Feb-1804</td>\n",
       "      <td>1804.0</td>\n",
       "      <td>Watercraft</td>\n",
       "      <td>AUSTRALIA</td>\n",
       "      <td>New South Wales</td>\n",
       "      <td>Georges Head, off Port Jackson</td>\n",
       "      <td>NaN</td>\n",
       "      <td>NaN</td>\n",
       "      <td>NaN</td>\n",
       "      <td>N</td>\n",
       "      <td>NaN</td>\n",
       "      <td>NaN</td>\n",
       "      <td>-1</td>\n",
       "      <td>-</td>\n",
       "      <td>1804</td>\n",
       "      <td>19</td>\n",
       "    </tr>\n",
       "    <tr>\n",
       "      <th>6383</th>\n",
       "      <td>May-17-1803</td>\n",
       "      <td>1803.0</td>\n",
       "      <td>Sea Disaster</td>\n",
       "      <td>USA</td>\n",
       "      <td>South Carolina</td>\n",
       "      <td>Off Charleston</td>\n",
       "      <td>NaN</td>\n",
       "      <td>M</td>\n",
       "      <td>NaN</td>\n",
       "      <td>N</td>\n",
       "      <td>NaN</td>\n",
       "      <td>NaN</td>\n",
       "      <td>-1</td>\n",
       "      <td>-</td>\n",
       "      <td>1803</td>\n",
       "      <td>19</td>\n",
       "    </tr>\n",
       "    <tr>\n",
       "      <th>6384</th>\n",
       "      <td>Mar-1803</td>\n",
       "      <td>1803.0</td>\n",
       "      <td>Unprovoked</td>\n",
       "      <td>AUSTRALIA</td>\n",
       "      <td>Western Australia</td>\n",
       "      <td>Hamelin Harbour, at Faure Island</td>\n",
       "      <td>NaN</td>\n",
       "      <td>M</td>\n",
       "      <td>NaN</td>\n",
       "      <td>N</td>\n",
       "      <td>NaN</td>\n",
       "      <td>NaN</td>\n",
       "      <td>-1</td>\n",
       "      <td>-</td>\n",
       "      <td>1803</td>\n",
       "      <td>19</td>\n",
       "    </tr>\n",
       "    <tr>\n",
       "      <th>6385</th>\n",
       "      <td>Reported Apr-13-1802</td>\n",
       "      <td>1802.0</td>\n",
       "      <td>Unprovoked</td>\n",
       "      <td>INDIA</td>\n",
       "      <td>NaN</td>\n",
       "      <td>NaN</td>\n",
       "      <td>NaN</td>\n",
       "      <td>NaN</td>\n",
       "      <td>NaN</td>\n",
       "      <td>Y</td>\n",
       "      <td>NaN</td>\n",
       "      <td>NaN</td>\n",
       "      <td>-1</td>\n",
       "      <td>-</td>\n",
       "      <td>1802</td>\n",
       "      <td>19</td>\n",
       "    </tr>\n",
       "    <tr>\n",
       "      <th>6386</th>\n",
       "      <td>Reported 18-Dec-1801</td>\n",
       "      <td>1801.0</td>\n",
       "      <td>Provoked</td>\n",
       "      <td>NaN</td>\n",
       "      <td>NaN</td>\n",
       "      <td>NaN</td>\n",
       "      <td>Standing on landed shark's tail</td>\n",
       "      <td>N</td>\n",
       "      <td>NaN</td>\n",
       "      <td>Y</td>\n",
       "      <td>NaN</td>\n",
       "      <td>12' shark</td>\n",
       "      <td>-1</td>\n",
       "      <td>-</td>\n",
       "      <td>1801</td>\n",
       "      <td>19</td>\n",
       "    </tr>\n",
       "  </tbody>\n",
       "</table>\n",
       "<p>6385 rows × 16 columns</p>\n",
       "</div>"
      ],
      "text/plain": [
       "                      Date    Year          Type    Country  \\\n",
       "0              20-Aug-2020  2020.0    Unprovoked        USA   \n",
       "1              14-Aug-2020  2020.0    Unprovoked  AUSTRALIA   \n",
       "2              10-Aug-2020  2020.0      Provoked        USA   \n",
       "3              02-Aug-2020  2020.0    Unprovoked        USA   \n",
       "4              31-Jul-2020  2020.0    Unprovoked        USA   \n",
       "...                    ...     ...           ...        ...   \n",
       "6382  Reported 26-Feb-1804  1804.0    Watercraft  AUSTRALIA   \n",
       "6383           May-17-1803  1803.0  Sea Disaster        USA   \n",
       "6384              Mar-1803  1803.0    Unprovoked  AUSTRALIA   \n",
       "6385  Reported Apr-13-1802  1802.0    Unprovoked      INDIA   \n",
       "6386  Reported 18-Dec-1801  1801.0      Provoked        NaN   \n",
       "\n",
       "                   Area                                 Location  \\\n",
       "0               Florida         New Smyrna Beach, Volusia County   \n",
       "1       New South Wales             Shelly Beach, Port Macquarie   \n",
       "2               Florida  Off Gasparilla Island, Charlotte County   \n",
       "3        Virgin Islands                   Candle Reef, St. Croix   \n",
       "4               Florida         New Smyrna Beach, Volusia County   \n",
       "...                 ...                                      ...   \n",
       "6382    New South Wales           Georges Head, off Port Jackson   \n",
       "6383     South Carolina                           Off Charleston   \n",
       "6384  Western Australia         Hamelin Harbour, at Faure Island   \n",
       "6385                NaN                                      NaN   \n",
       "6386                NaN                                      NaN   \n",
       "\n",
       "                             Activity  Sex  Age Fatal (Y/N)   Time  \\\n",
       "0                     Boogie boarding    F   50           N  11h00   \n",
       "1                             Surfing    F   35           N  09h30   \n",
       "2                             Fishing    M   55           N  16h00   \n",
       "3                          Snorkeling    F  NaN           N  14h00   \n",
       "4                             Surfing    F   22           N  17h00   \n",
       "...                               ...  ...  ...         ...    ...   \n",
       "6382                              NaN  NaN  NaN           N    NaN   \n",
       "6383                              NaN    M  NaN           N    NaN   \n",
       "6384                              NaN    M  NaN           N    NaN   \n",
       "6385                              NaN  NaN  NaN           Y    NaN   \n",
       "6386  Standing on landed shark's tail    N  NaN           Y    NaN   \n",
       "\n",
       "                   Species  age_int      age_cat  year_int  century  \n",
       "0                      NaN       50        Adult      2020       21  \n",
       "1     White shark, 2-to 3m       35  Young Adult      2020       21  \n",
       "2       Blacktip shark, 6'       55        Adult      2020       21  \n",
       "3          Nurse shark, 5'       -1            -      2020       21  \n",
       "4                      NaN       22  Young Adult      2020       21  \n",
       "...                    ...      ...          ...       ...      ...  \n",
       "6382                   NaN       -1            -      1804       19  \n",
       "6383                   NaN       -1            -      1803       19  \n",
       "6384                   NaN       -1            -      1803       19  \n",
       "6385                   NaN       -1            -      1802       19  \n",
       "6386             12' shark       -1            -      1801       19  \n",
       "\n",
       "[6385 rows x 16 columns]"
      ]
     },
     "execution_count": 21,
     "metadata": {},
     "output_type": "execute_result"
    }
   ],
   "source": [
    "df"
   ]
  },
  {
   "cell_type": "markdown",
   "metadata": {},
   "source": [
    "# Gender"
   ]
  },
  {
   "cell_type": "code",
   "execution_count": 22,
   "metadata": {
    "ExecuteTime": {
     "end_time": "2020-09-01T23:54:54.342773Z",
     "start_time": "2020-09-01T23:54:54.337781Z"
    }
   },
   "outputs": [
    {
     "data": {
      "text/plain": [
       "array(['F', 'M', nan, 'M ', 'lli', 'M x 2', 'N', '.'], dtype=object)"
      ]
     },
     "execution_count": 22,
     "metadata": {},
     "output_type": "execute_result"
    }
   ],
   "source": [
    "# Check the column 'Sex'\n",
    "df.Sex.unique()"
   ]
  },
  {
   "cell_type": "code",
   "execution_count": 23,
   "metadata": {
    "ExecuteTime": {
     "end_time": "2020-09-01T23:54:54.349787Z",
     "start_time": "2020-09-01T23:54:54.344762Z"
    }
   },
   "outputs": [
    {
     "data": {
      "text/plain": [
       "5828"
      ]
     },
     "execution_count": 23,
     "metadata": {},
     "output_type": "execute_result"
    }
   ],
   "source": [
    "df.Sex.count()"
   ]
  },
  {
   "cell_type": "code",
   "execution_count": 24,
   "metadata": {
    "ExecuteTime": {
     "end_time": "2020-09-01T23:54:54.356731Z",
     "start_time": "2020-09-01T23:54:54.350747Z"
    }
   },
   "outputs": [
    {
     "data": {
      "text/plain": [
       "M        0.882464\n",
       "F        0.116335\n",
       "M        0.000343\n",
       "N        0.000343\n",
       "lli      0.000172\n",
       "M x 2    0.000172\n",
       ".        0.000172\n",
       "Name: Sex, dtype: float64"
      ]
     },
     "execution_count": 24,
     "metadata": {},
     "output_type": "execute_result"
    }
   ],
   "source": [
    "# % of each value\n",
    "df.Sex.value_counts() / df.Sex.count()"
   ]
  },
  {
   "cell_type": "code",
   "execution_count": null,
   "metadata": {},
   "outputs": [],
   "source": [
    "# % of each NaN\n",
    "df.Sex.isna().sum()"
   ]
  },
  {
   "cell_type": "code",
   "execution_count": 25,
   "metadata": {
    "ExecuteTime": {
     "end_time": "2020-09-01T23:54:54.364738Z",
     "start_time": "2020-09-01T23:54:54.360748Z"
    }
   },
   "outputs": [
    {
     "name": "stdout",
     "output_type": "stream",
     "text": [
      "The number of NaN in the column \"Sex\" is 557, which represents 9.56% of the dataset.\n"
     ]
    }
   ],
   "source": [
    "# Check number of missing values\n",
    "print(f'The number of NaN in the column \"Sex\" is {df.Sex.isna().sum()}, which represents '\n",
    "      f'{(df.Sex.isna().sum() / df.Sex.count())*100:.2f}% of the dataset.', sep=' ')"
   ]
  },
  {
   "cell_type": "markdown",
   "metadata": {},
   "source": [
    "Since the NaN represents only a samll part of the dataset, the rows containing NaN in the column 'Sex' will be removed."
   ]
  },
  {
   "cell_type": "code",
   "execution_count": 26,
   "metadata": {
    "ExecuteTime": {
     "end_time": "2020-09-01T23:54:54.376723Z",
     "start_time": "2020-09-01T23:54:54.366706Z"
    }
   },
   "outputs": [],
   "source": [
    "# Remove rows that the column 'Sex' is a missing value\n",
    "df[df.Sex.isna()]\n",
    "df = df.drop(df[df.Sex.isna()].index)"
   ]
  },
  {
   "cell_type": "code",
   "execution_count": null,
   "metadata": {},
   "outputs": [],
   "source": []
  },
  {
   "cell_type": "code",
   "execution_count": 27,
   "metadata": {
    "ExecuteTime": {
     "end_time": "2020-09-01T23:54:54.389643Z",
     "start_time": "2020-09-01T23:54:54.378674Z"
    }
   },
   "outputs": [
    {
     "name": "stdout",
     "output_type": "stream",
     "text": [
      "<class 'pandas.core.frame.DataFrame'>\n",
      "Int64Index: 5828 entries, 0 to 6386\n",
      "Data columns (total 16 columns):\n",
      " #   Column       Non-Null Count  Dtype  \n",
      "---  ------       --------------  -----  \n",
      " 0   Date         5828 non-null   object \n",
      " 1   Year         5828 non-null   float64\n",
      " 2   Type         5822 non-null   object \n",
      " 3   Country      5790 non-null   object \n",
      " 4   Area         5463 non-null   object \n",
      " 5   Location     5392 non-null   object \n",
      " 6   Activity     5452 non-null   object \n",
      " 7   Sex          5828 non-null   object \n",
      " 8   Age          3604 non-null   object \n",
      " 9   Fatal (Y/N)  5363 non-null   object \n",
      " 10  Time         3023 non-null   object \n",
      " 11  Species      3245 non-null   object \n",
      " 12  age_int      5828 non-null   int64  \n",
      " 13  age_cat      5828 non-null   object \n",
      " 14  year_int     5828 non-null   int64  \n",
      " 15  century      5828 non-null   int32  \n",
      "dtypes: float64(1), int32(1), int64(2), object(12)\n",
      "memory usage: 751.3+ KB\n"
     ]
    }
   ],
   "source": [
    "# Check infromation about the changed dataset\n",
    "df.info()"
   ]
  },
  {
   "cell_type": "code",
   "execution_count": 28,
   "metadata": {
    "ExecuteTime": {
     "end_time": "2020-09-01T23:54:54.398653Z",
     "start_time": "2020-09-01T23:54:54.391644Z"
    },
    "scrolled": true
   },
   "outputs": [
    {
     "data": {
      "text/plain": [
       "M        5143\n",
       "F         678\n",
       "M           2\n",
       "N           2\n",
       "lli         1\n",
       "M x 2       1\n",
       ".           1\n",
       "Name: Sex, dtype: int64"
      ]
     },
     "execution_count": 28,
     "metadata": {},
     "output_type": "execute_result"
    }
   ],
   "source": [
    "# Check values in the column 'Sex'\n",
    "df.Sex.value_counts()"
   ]
  },
  {
   "cell_type": "code",
   "execution_count": 29,
   "metadata": {
    "ExecuteTime": {
     "end_time": "2020-09-01T23:54:54.407597Z",
     "start_time": "2020-09-01T23:54:54.399666Z"
    }
   },
   "outputs": [
    {
     "data": {
      "text/plain": [
       "M        5145\n",
       "F         678\n",
       "N           2\n",
       "lli         1\n",
       "M x 2       1\n",
       ".           1\n",
       "Name: Sex, dtype: int64"
      ]
     },
     "execution_count": 29,
     "metadata": {},
     "output_type": "execute_result"
    }
   ],
   "source": [
    "# Remove unnecessary spaces in the values of the column 'Sex'\n",
    "df['Sex'] = df['Sex'].str.strip()\n",
    "df.Sex.value_counts()"
   ]
  },
  {
   "cell_type": "code",
   "execution_count": null,
   "metadata": {
    "ExecuteTime": {
     "end_time": "2020-09-01T23:52:42.058470Z",
     "start_time": "2020-09-01T23:52:42.050975Z"
    }
   },
   "outputs": [],
   "source": []
  },
  {
   "cell_type": "code",
   "execution_count": 30,
   "metadata": {
    "ExecuteTime": {
     "end_time": "2020-09-01T23:54:54.419590Z",
     "start_time": "2020-09-01T23:54:54.409595Z"
    }
   },
   "outputs": [
    {
     "data": {
      "text/plain": [
       "M    5145\n",
       "F     678\n",
       "Name: Sex, dtype: int64"
      ]
     },
     "execution_count": 30,
     "metadata": {},
     "output_type": "execute_result"
    }
   ],
   "source": [
    "# Remove rows that the gender is 'N', 'lli', '.' or 'M x 2'\n",
    "df = df.drop(df[(df.Sex == '.') | (df.Sex == 'N') | (df.Sex == 'lli') | ((df.Sex == 'M x 2'))].index)\n",
    "df.Sex.value_counts()"
   ]
  },
  {
   "cell_type": "code",
   "execution_count": 31,
   "metadata": {
    "ExecuteTime": {
     "end_time": "2020-09-01T23:54:54.432529Z",
     "start_time": "2020-09-01T23:54:54.420561Z"
    }
   },
   "outputs": [
    {
     "name": "stdout",
     "output_type": "stream",
     "text": [
      "<class 'pandas.core.frame.DataFrame'>\n",
      "Int64Index: 5823 entries, 0 to 6384\n",
      "Data columns (total 16 columns):\n",
      " #   Column       Non-Null Count  Dtype  \n",
      "---  ------       --------------  -----  \n",
      " 0   Date         5823 non-null   object \n",
      " 1   Year         5823 non-null   float64\n",
      " 2   Type         5817 non-null   object \n",
      " 3   Country      5786 non-null   object \n",
      " 4   Area         5459 non-null   object \n",
      " 5   Location     5389 non-null   object \n",
      " 6   Activity     5447 non-null   object \n",
      " 7   Sex          5823 non-null   object \n",
      " 8   Age          3603 non-null   object \n",
      " 9   Fatal (Y/N)  5358 non-null   object \n",
      " 10  Time         3022 non-null   object \n",
      " 11  Species      3241 non-null   object \n",
      " 12  age_int      5823 non-null   int64  \n",
      " 13  age_cat      5823 non-null   object \n",
      " 14  year_int     5823 non-null   int64  \n",
      " 15  century      5823 non-null   int32  \n",
      "dtypes: float64(1), int32(1), int64(2), object(12)\n",
      "memory usage: 750.6+ KB\n"
     ]
    }
   ],
   "source": [
    "# Check infromation about the changed dataset\n",
    "# 5 columns were removed\n",
    "df.info()"
   ]
  },
  {
   "cell_type": "code",
   "execution_count": 32,
   "metadata": {
    "ExecuteTime": {
     "end_time": "2020-09-01T23:54:54.443616Z",
     "start_time": "2020-09-01T23:54:54.434523Z"
    }
   },
   "outputs": [
    {
     "data": {
      "text/plain": [
       "M    0.883565\n",
       "F    0.116435\n",
       "Name: Sex, dtype: float64"
      ]
     },
     "execution_count": 32,
     "metadata": {},
     "output_type": "execute_result"
    }
   ],
   "source": [
    "# Check column 'Sex' percentage\n",
    "df_gener_total = df.Sex.value_counts().sum()\n",
    "df.Sex.value_counts() / df_gener_total"
   ]
  },
  {
   "cell_type": "code",
   "execution_count": 33,
   "metadata": {
    "ExecuteTime": {
     "end_time": "2020-09-01T23:54:54.452499Z",
     "start_time": "2020-09-01T23:54:54.446492Z"
    }
   },
   "outputs": [
    {
     "name": "stdout",
     "output_type": "stream",
     "text": [
      "The males represent 88.36% of the people who wereinvolved in incidents with sharks, while women represent only 11.64%.\n"
     ]
    }
   ],
   "source": [
    "print(f'The males represent {(df.Sex.value_counts() / df_gener_total)[0]*100:.2f}% of the people who were'\n",
    "      f'involved in incidents with sharks, while women represent only {(df.Sex.value_counts() / df_gener_total)[1]*100:.2f}%.',sep=' ')"
   ]
  },
  {
   "cell_type": "code",
   "execution_count": 34,
   "metadata": {
    "ExecuteTime": {
     "end_time": "2020-09-01T23:54:54.459492Z",
     "start_time": "2020-09-01T23:54:54.453499Z"
    }
   },
   "outputs": [],
   "source": [
    "# Create a subset containing only females\n",
    "df_male = df.loc[df['Sex'] == 'F']"
   ]
  },
  {
   "cell_type": "code",
   "execution_count": 35,
   "metadata": {
    "ExecuteTime": {
     "end_time": "2020-09-01T23:54:54.476438Z",
     "start_time": "2020-09-01T23:54:54.461477Z"
    }
   },
   "outputs": [
    {
     "name": "stdout",
     "output_type": "stream",
     "text": [
      "<class 'pandas.core.frame.DataFrame'>\n",
      "Int64Index: 5145 entries, 2 to 6384\n",
      "Data columns (total 16 columns):\n",
      " #   Column       Non-Null Count  Dtype  \n",
      "---  ------       --------------  -----  \n",
      " 0   Date         5145 non-null   object \n",
      " 1   Year         5145 non-null   float64\n",
      " 2   Type         5139 non-null   object \n",
      " 3   Country      5110 non-null   object \n",
      " 4   Area         4799 non-null   object \n",
      " 5   Location     4737 non-null   object \n",
      " 6   Activity     4821 non-null   object \n",
      " 7   Sex          5145 non-null   object \n",
      " 8   Age          3101 non-null   object \n",
      " 9   Fatal (Y/N)  4742 non-null   object \n",
      " 10  Time         2592 non-null   object \n",
      " 11  Species      2844 non-null   object \n",
      " 12  age_int      5145 non-null   int64  \n",
      " 13  age_cat      5145 non-null   object \n",
      " 14  year_int     5145 non-null   int64  \n",
      " 15  century      5145 non-null   int32  \n",
      "dtypes: float64(1), int32(1), int64(2), object(12)\n",
      "memory usage: 663.2+ KB\n"
     ]
    }
   ],
   "source": [
    "# Create a subset containing only males\n",
    "df_male = df.loc[df['Sex'] == 'M']\n",
    "df_male.info()"
   ]
  },
  {
   "cell_type": "code",
   "execution_count": 36,
   "metadata": {
    "ExecuteTime": {
     "end_time": "2020-09-01T23:54:54.484414Z",
     "start_time": "2020-09-01T23:54:54.478406Z"
    }
   },
   "outputs": [
    {
     "data": {
      "text/plain": [
       "-              2126\n",
       "Young Adult    1514\n",
       "Adult           703\n",
       "Teenager        537\n",
       "Child           219\n",
       "Elder            46\n",
       "Name: age_cat, dtype: int64"
      ]
     },
     "execution_count": 36,
     "metadata": {},
     "output_type": "execute_result"
    }
   ],
   "source": [
    "# Check males age\n",
    "df_male.age_cat.value_counts()"
   ]
  },
  {
   "cell_type": "code",
   "execution_count": 37,
   "metadata": {
    "ExecuteTime": {
     "end_time": "2020-09-01T23:54:54.492369Z",
     "start_time": "2020-09-01T23:54:54.485387Z"
    }
   },
   "outputs": [
    {
     "data": {
      "text/plain": [
       "5145"
      ]
     },
     "execution_count": 37,
     "metadata": {},
     "output_type": "execute_result"
    }
   ],
   "source": [
    "df_male_total = df_male.Date.count()\n",
    "df_male_total"
   ]
  },
  {
   "cell_type": "code",
   "execution_count": 38,
   "metadata": {
    "ExecuteTime": {
     "end_time": "2020-09-01T23:54:54.501344Z",
     "start_time": "2020-09-01T23:54:54.495364Z"
    }
   },
   "outputs": [
    {
     "data": {
      "text/plain": [
       "-              0.413217\n",
       "Young Adult    0.294266\n",
       "Adult          0.136638\n",
       "Teenager       0.104373\n",
       "Child          0.042566\n",
       "Elder          0.008941\n",
       "Name: age_cat, dtype: float64"
      ]
     },
     "execution_count": 38,
     "metadata": {},
     "output_type": "execute_result"
    }
   ],
   "source": [
    "# Check males age\n",
    "df_male.age_cat.value_counts() / df_male_total"
   ]
  },
  {
   "cell_type": "code",
   "execution_count": 55,
   "metadata": {
    "ExecuteTime": {
     "end_time": "2020-09-01T23:59:51.331176Z",
     "start_time": "2020-09-01T23:59:51.323196Z"
    }
   },
   "outputs": [
    {
     "data": {
      "text/plain": [
       "-              41.321672\n",
       "Young Adult    29.426628\n",
       "Adult          13.663751\n",
       "Teenager       10.437318\n",
       "Child           4.256560\n",
       "Elder           0.894072\n",
       "Name: age_cat, dtype: float64"
      ]
     },
     "execution_count": 55,
     "metadata": {},
     "output_type": "execute_result"
    }
   ],
   "source": [
    "(df_male.age_cat.value_counts() / df_male_total)*100"
   ]
  },
  {
   "cell_type": "code",
   "execution_count": 39,
   "metadata": {
    "ExecuteTime": {
     "end_time": "2020-09-01T23:54:54.516340Z",
     "start_time": "2020-09-01T23:54:54.502342Z"
    }
   },
   "outputs": [
    {
     "name": "stdout",
     "output_type": "stream",
     "text": [
      "<class 'pandas.core.frame.DataFrame'>\n",
      "Int64Index: 3019 entries, 2 to 6369\n",
      "Data columns (total 16 columns):\n",
      " #   Column       Non-Null Count  Dtype  \n",
      "---  ------       --------------  -----  \n",
      " 0   Date         3019 non-null   object \n",
      " 1   Year         3019 non-null   float64\n",
      " 2   Type         3016 non-null   object \n",
      " 3   Country      3011 non-null   object \n",
      " 4   Area         2910 non-null   object \n",
      " 5   Location     2888 non-null   object \n",
      " 6   Activity     2907 non-null   object \n",
      " 7   Sex          3019 non-null   object \n",
      " 8   Age          3019 non-null   object \n",
      " 9   Fatal (Y/N)  2838 non-null   object \n",
      " 10  Time         2076 non-null   object \n",
      " 11  Species      1919 non-null   object \n",
      " 12  age_int      3019 non-null   int64  \n",
      " 13  age_cat      3019 non-null   object \n",
      " 14  year_int     3019 non-null   int64  \n",
      " 15  century      3019 non-null   int32  \n",
      "dtypes: float64(1), int32(1), int64(2), object(12)\n",
      "memory usage: 389.2+ KB\n"
     ]
    }
   ],
   "source": [
    "df_male_age = df_male.loc[df_male['age_cat'] != '-']\n",
    "df_male_age_total = df_male_age.Date.count()\n",
    "df_male_age.info()"
   ]
  },
  {
   "cell_type": "code",
   "execution_count": 40,
   "metadata": {
    "ExecuteTime": {
     "end_time": "2020-09-01T23:54:54.520327Z",
     "start_time": "2020-09-01T23:54:54.517303Z"
    }
   },
   "outputs": [
    {
     "data": {
      "text/plain": [
       "3019"
      ]
     },
     "execution_count": 40,
     "metadata": {},
     "output_type": "execute_result"
    }
   ],
   "source": [
    "df_male_age_total"
   ]
  },
  {
   "cell_type": "code",
   "execution_count": 41,
   "metadata": {
    "ExecuteTime": {
     "end_time": "2020-09-01T23:54:54.529270Z",
     "start_time": "2020-09-01T23:54:54.522294Z"
    }
   },
   "outputs": [
    {
     "data": {
      "text/plain": [
       "Young Adult    1514\n",
       "Adult           703\n",
       "Teenager        537\n",
       "Child           219\n",
       "Elder            46\n",
       "Name: age_cat, dtype: int64"
      ]
     },
     "execution_count": 41,
     "metadata": {},
     "output_type": "execute_result"
    }
   ],
   "source": [
    "df_male_age.age_cat.value_counts()"
   ]
  },
  {
   "cell_type": "code",
   "execution_count": 42,
   "metadata": {
    "ExecuteTime": {
     "end_time": "2020-09-01T23:54:54.535286Z",
     "start_time": "2020-09-01T23:54:54.530268Z"
    }
   },
   "outputs": [
    {
     "data": {
      "text/plain": [
       "Young Adult    0.501491\n",
       "Adult          0.232859\n",
       "Teenager       0.177873\n",
       "Child          0.072541\n",
       "Elder          0.015237\n",
       "Name: age_cat, dtype: float64"
      ]
     },
     "execution_count": 42,
     "metadata": {},
     "output_type": "execute_result"
    }
   ],
   "source": [
    "df_male_age.age_cat.value_counts() / df_male_age_total"
   ]
  },
  {
   "cell_type": "code",
   "execution_count": 56,
   "metadata": {
    "ExecuteTime": {
     "end_time": "2020-09-02T00:04:18.478005Z",
     "start_time": "2020-09-02T00:04:18.471985Z"
    }
   },
   "outputs": [
    {
     "data": {
      "text/plain": [
       "Young Adult    50.149056\n",
       "Adult          23.285856\n",
       "Teenager       17.787347\n",
       "Child           7.254058\n",
       "Elder           1.523683\n",
       "Name: age_cat, dtype: float64"
      ]
     },
     "execution_count": 56,
     "metadata": {},
     "output_type": "execute_result"
    }
   ],
   "source": [
    "(df_male_age.age_cat.value_counts() / df_male_age_total)*100"
   ]
  },
  {
   "cell_type": "markdown",
   "metadata": {},
   "source": [
    "50% of male who were in a shark incident were Young Adults."
   ]
  },
  {
   "cell_type": "code",
   "execution_count": 43,
   "metadata": {
    "ExecuteTime": {
     "end_time": "2020-09-01T23:54:54.555245Z",
     "start_time": "2020-09-01T23:54:54.536289Z"
    }
   },
   "outputs": [
    {
     "name": "stdout",
     "output_type": "stream",
     "text": [
      "<class 'pandas.core.frame.DataFrame'>\n",
      "Int64Index: 1514 entries, 6 to 6369\n",
      "Data columns (total 16 columns):\n",
      " #   Column       Non-Null Count  Dtype  \n",
      "---  ------       --------------  -----  \n",
      " 0   Date         1514 non-null   object \n",
      " 1   Year         1514 non-null   float64\n",
      " 2   Type         1514 non-null   object \n",
      " 3   Country      1508 non-null   object \n",
      " 4   Area         1457 non-null   object \n",
      " 5   Location     1440 non-null   object \n",
      " 6   Activity     1462 non-null   object \n",
      " 7   Sex          1514 non-null   object \n",
      " 8   Age          1514 non-null   object \n",
      " 9   Fatal (Y/N)  1436 non-null   object \n",
      " 10  Time         1062 non-null   object \n",
      " 11  Species      993 non-null    object \n",
      " 12  age_int      1514 non-null   int64  \n",
      " 13  age_cat      1514 non-null   object \n",
      " 14  year_int     1514 non-null   int64  \n",
      " 15  century      1514 non-null   int32  \n",
      "dtypes: float64(1), int32(1), int64(2), object(12)\n",
      "memory usage: 195.2+ KB\n"
     ]
    }
   ],
   "source": [
    "df_male_ya = df_male_age[df_male_age['age_cat'] == 'Young Adult']\n",
    "df_male_ya.info()"
   ]
  },
  {
   "cell_type": "code",
   "execution_count": 57,
   "metadata": {
    "ExecuteTime": {
     "end_time": "2020-09-02T00:08:39.008249Z",
     "start_time": "2020-09-02T00:08:39.000271Z"
    }
   },
   "outputs": [
    {
     "data": {
      "text/plain": [
       "Activity\n",
       "Surfing                                      417\n",
       "Swimming                                     187\n",
       "Spearfishing                                 153\n",
       "Fishing                                       54\n",
       "Diving                                        26\n",
       "                                            ... \n",
       "Snorkeling – hunting crayfish and abalone      1\n",
       "Spearfishing                                   1\n",
       "Spearfishing & holding catch                   1\n",
       "Spearfishing & lassoed shark                   1\n",
       " Diving for abalone (Hookah)                   1\n",
       "Name: age_cat, Length: 361, dtype: int64"
      ]
     },
     "execution_count": 57,
     "metadata": {},
     "output_type": "execute_result"
    }
   ],
   "source": [
    "df_male_ya_total = df_male_ya.Date.count()\n",
    "df_male_ya.groupby(by='Activity').age_cat.count().sort_values(ascending=False)"
   ]
  },
  {
   "cell_type": "code",
   "execution_count": 59,
   "metadata": {
    "ExecuteTime": {
     "end_time": "2020-09-02T00:08:57.415899Z",
     "start_time": "2020-09-02T00:08:57.407909Z"
    }
   },
   "outputs": [
    {
     "data": {
      "text/plain": [
       "Activity\n",
       "Surfing                                      27.542933\n",
       "Swimming                                     12.351387\n",
       "Spearfishing                                 10.105680\n",
       "Fishing                                       3.566711\n",
       "Diving                                        1.717305\n",
       "                                               ...    \n",
       "Snorkeling – hunting crayfish and abalone     0.066050\n",
       "Spearfishing                                  0.066050\n",
       "Spearfishing & holding catch                  0.066050\n",
       "Spearfishing & lassoed shark                  0.066050\n",
       " Diving for abalone (Hookah)                  0.066050\n",
       "Name: age_cat, Length: 361, dtype: float64"
      ]
     },
     "execution_count": 59,
     "metadata": {},
     "output_type": "execute_result"
    }
   ],
   "source": [
    "(df_male_ya.groupby(by='Activity').age_cat.count().sort_values(ascending=False) / df_male_ya_total)*100"
   ]
  },
  {
   "cell_type": "markdown",
   "metadata": {},
   "source": [
    "**Young adult males surfing were the most involved in shark incidents.**"
   ]
  },
  {
   "cell_type": "markdown",
   "metadata": {
    "ExecuteTime": {
     "end_time": "2020-09-01T21:03:59.240347Z",
     "start_time": "2020-09-01T21:03:59.236340Z"
    }
   },
   "source": [
    "# Analysis though years"
   ]
  },
  {
   "cell_type": "code",
   "execution_count": 45,
   "metadata": {
    "ExecuteTime": {
     "end_time": "2020-09-01T23:54:54.575149Z",
     "start_time": "2020-09-01T23:54:54.566179Z"
    }
   },
   "outputs": [],
   "source": [
    "# Create subsets for each century\n",
    "df_cen21 = df.loc[df['century'] == 21, :]\n",
    "df_cen20 = df.loc[df['century'] == 20, :]\n",
    "df_cen19 = df.loc[df['century'] == 19, :]"
   ]
  },
  {
   "cell_type": "code",
   "execution_count": 46,
   "metadata": {
    "ExecuteTime": {
     "end_time": "2020-09-01T23:54:54.589110Z",
     "start_time": "2020-09-01T23:54:54.577146Z"
    }
   },
   "outputs": [
    {
     "name": "stdout",
     "output_type": "stream",
     "text": [
      "2124\n",
      "<class 'pandas.core.frame.DataFrame'>\n",
      "Int64Index: 2124 entries, 0 to 2224\n",
      "Data columns (total 16 columns):\n",
      " #   Column       Non-Null Count  Dtype  \n",
      "---  ------       --------------  -----  \n",
      " 0   Date         2124 non-null   object \n",
      " 1   Year         2124 non-null   float64\n",
      " 2   Type         2120 non-null   object \n",
      " 3   Country      2122 non-null   object \n",
      " 4   Area         2042 non-null   object \n",
      " 5   Location     2038 non-null   object \n",
      " 6   Activity     2043 non-null   object \n",
      " 7   Sex          2124 non-null   object \n",
      " 8   Age          1660 non-null   object \n",
      " 9   Fatal (Y/N)  1976 non-null   object \n",
      " 10  Time         1568 non-null   object \n",
      " 11  Species      1368 non-null   object \n",
      " 12  age_int      2124 non-null   int64  \n",
      " 13  age_cat      2124 non-null   object \n",
      " 14  year_int     2124 non-null   int64  \n",
      " 15  century      2124 non-null   int32  \n",
      "dtypes: float64(1), int32(1), int64(2), object(12)\n",
      "memory usage: 273.8+ KB\n"
     ]
    }
   ],
   "source": [
    "df_cen21_total = df_cen21.Date.count()\n",
    "print(df_cen21_total)\n",
    "df_cen21.info()"
   ]
  },
  {
   "cell_type": "code",
   "execution_count": 47,
   "metadata": {
    "ExecuteTime": {
     "end_time": "2020-09-01T23:54:54.604077Z",
     "start_time": "2020-09-01T23:54:54.591138Z"
    }
   },
   "outputs": [
    {
     "name": "stdout",
     "output_type": "stream",
     "text": [
      "3168\n",
      "<class 'pandas.core.frame.DataFrame'>\n",
      "Int64Index: 3168 entries, 2225 to 5803\n",
      "Data columns (total 16 columns):\n",
      " #   Column       Non-Null Count  Dtype  \n",
      "---  ------       --------------  -----  \n",
      " 0   Date         3168 non-null   object \n",
      " 1   Year         3168 non-null   float64\n",
      " 2   Type         3167 non-null   object \n",
      " 3   Country      3148 non-null   object \n",
      " 4   Area         2971 non-null   object \n",
      " 5   Location     2920 non-null   object \n",
      " 6   Activity     2930 non-null   object \n",
      " 7   Sex          3168 non-null   object \n",
      " 8   Age          1866 non-null   object \n",
      " 9   Fatal (Y/N)  2911 non-null   object \n",
      " 10  Time         1365 non-null   object \n",
      " 11  Species      1752 non-null   object \n",
      " 12  age_int      3168 non-null   int64  \n",
      " 13  age_cat      3168 non-null   object \n",
      " 14  year_int     3168 non-null   int64  \n",
      " 15  century      3168 non-null   int32  \n",
      "dtypes: float64(1), int32(1), int64(2), object(12)\n",
      "memory usage: 408.4+ KB\n"
     ]
    }
   ],
   "source": [
    "df_cen20_total = df_cen20.Date.count()\n",
    "print(df_cen20_total)\n",
    "df_cen20.info()"
   ]
  },
  {
   "cell_type": "code",
   "execution_count": 48,
   "metadata": {
    "ExecuteTime": {
     "end_time": "2020-09-01T23:54:54.615043Z",
     "start_time": "2020-09-01T23:54:54.606065Z"
    }
   },
   "outputs": [
    {
     "name": "stdout",
     "output_type": "stream",
     "text": [
      "531\n",
      "<class 'pandas.core.frame.DataFrame'>\n",
      "Int64Index: 531 entries, 4792 to 6384\n",
      "Data columns (total 16 columns):\n",
      " #   Column       Non-Null Count  Dtype  \n",
      "---  ------       --------------  -----  \n",
      " 0   Date         531 non-null    object \n",
      " 1   Year         531 non-null    float64\n",
      " 2   Type         530 non-null    object \n",
      " 3   Country      516 non-null    object \n",
      " 4   Area         446 non-null    object \n",
      " 5   Location     431 non-null    object \n",
      " 6   Activity     474 non-null    object \n",
      " 7   Sex          531 non-null    object \n",
      " 8   Age          77 non-null     object \n",
      " 9   Fatal (Y/N)  471 non-null    object \n",
      " 10  Time         89 non-null     object \n",
      " 11  Species      121 non-null    object \n",
      " 12  age_int      531 non-null    int64  \n",
      " 13  age_cat      531 non-null    object \n",
      " 14  year_int     531 non-null    int64  \n",
      " 15  century      531 non-null    int32  \n",
      "dtypes: float64(1), int32(1), int64(2), object(12)\n",
      "memory usage: 68.4+ KB\n"
     ]
    }
   ],
   "source": [
    "df_cen19_total = df_cen19.Date.count()\n",
    "print(df_cen19_total)\n",
    "df_cen19.info()"
   ]
  },
  {
   "cell_type": "markdown",
   "metadata": {},
   "source": [
    "Não estamos a nem 1/4 do século e o número de incidentes com tubarões só está aproximadamente 1000 de diferença (Tbm talvez não se tenha todos os registros)"
   ]
  },
  {
   "cell_type": "code",
   "execution_count": 49,
   "metadata": {
    "ExecuteTime": {
     "end_time": "2020-09-01T23:54:54.623020Z",
     "start_time": "2020-09-01T23:54:54.616039Z"
    }
   },
   "outputs": [
    {
     "data": {
      "text/plain": [
       "M    0.81968\n",
       "F    0.18032\n",
       "Name: Sex, dtype: float64"
      ]
     },
     "execution_count": 49,
     "metadata": {},
     "output_type": "execute_result"
    }
   ],
   "source": [
    "df_cen21.Sex.value_counts() / df_cen21_total"
   ]
  },
  {
   "cell_type": "code",
   "execution_count": 50,
   "metadata": {
    "ExecuteTime": {
     "end_time": "2020-09-01T23:54:54.633024Z",
     "start_time": "2020-09-01T23:54:54.625049Z"
    }
   },
   "outputs": [
    {
     "data": {
      "text/plain": [
       "M    0.913826\n",
       "F    0.086174\n",
       "Name: Sex, dtype: float64"
      ]
     },
     "execution_count": 50,
     "metadata": {},
     "output_type": "execute_result"
    }
   ],
   "source": [
    "df_cen20.Sex.value_counts() / df_cen20_total"
   ]
  },
  {
   "cell_type": "code",
   "execution_count": 51,
   "metadata": {
    "ExecuteTime": {
     "end_time": "2020-09-01T23:54:54.640997Z",
     "start_time": "2020-09-01T23:54:54.633990Z"
    }
   },
   "outputs": [
    {
     "data": {
      "text/plain": [
       "M    0.958569\n",
       "F    0.041431\n",
       "Name: Sex, dtype: float64"
      ]
     },
     "execution_count": 51,
     "metadata": {},
     "output_type": "execute_result"
    }
   ],
   "source": [
    "df_cen19.Sex.value_counts() / df_cen19_total"
   ]
  },
  {
   "cell_type": "markdown",
   "metadata": {},
   "source": [
    "Reflete o comportamento da época. As mulheres não se faziam muita coisa além do que cuidar da casa."
   ]
  },
  {
   "cell_type": "code",
   "execution_count": 52,
   "metadata": {
    "ExecuteTime": {
     "end_time": "2020-09-01T23:54:54.649949Z",
     "start_time": "2020-09-01T23:54:54.642978Z"
    }
   },
   "outputs": [
    {
     "data": {
      "text/plain": [
       "Surfing                             0.313559\n",
       "Swimming                            0.137006\n",
       "Spearfishing                        0.061205\n",
       "Fishing                             0.054614\n",
       "Snorkeling                          0.038606\n",
       "                                      ...   \n",
       "Paddling on kneeboard               0.000471\n",
       "Diving / fishing                    0.000471\n",
       "Swimming after falling overboard    0.000471\n",
       "Boogie-boarding / swimming          0.000471\n",
       "Longline fishing for sharks         0.000471\n",
       "Name: Activity, Length: 277, dtype: float64"
      ]
     },
     "execution_count": 52,
     "metadata": {},
     "output_type": "execute_result"
    }
   ],
   "source": [
    "df_cen21.Activity.value_counts() / df_cen21_total"
   ]
  },
  {
   "cell_type": "code",
   "execution_count": 53,
   "metadata": {
    "ExecuteTime": {
     "end_time": "2020-09-01T23:54:54.658930Z",
     "start_time": "2020-09-01T23:54:54.650974Z"
    }
   },
   "outputs": [
    {
     "data": {
      "text/plain": [
       "Swimming                                                                                                                                                                    0.146780\n",
       "Surfing                                                                                                                                                                     0.108270\n",
       "Spearfishing                                                                                                                                                                0.065972\n",
       "Fishing                                                                                                                                                                     0.065341\n",
       "Wading                                                                                                                                                                      0.023043\n",
       "                                                                                                                                                                              ...   \n",
       "Standing in chest-deep water                                                                                                                                                0.000316\n",
       "Small boat with 2 men onboard hit a submerged coral formation. Men began swimming to shore                                                                                  0.000316\n",
       "Sailing from Gingood, Misamis Oriental to Sagay (normally a 2-day voyage) capsized with 6 on board, three men were taken by sharks when they attempted to swim to shore.    0.000316\n",
       "Diving from dinghy for trochus shell                                                                                                                                        0.000316\n",
       "Row boat (from the gunboat Elcano) was sinking, put finger in hole                                                                                                          0.000316\n",
       "Name: Activity, Length: 980, dtype: float64"
      ]
     },
     "execution_count": 53,
     "metadata": {},
     "output_type": "execute_result"
    }
   ],
   "source": [
    "df_cen20.Activity.value_counts() / df_cen20_total"
   ]
  },
  {
   "cell_type": "code",
   "execution_count": 54,
   "metadata": {
    "ExecuteTime": {
     "end_time": "2020-09-01T23:54:54.667902Z",
     "start_time": "2020-09-01T23:54:54.661929Z"
    }
   },
   "outputs": [
    {
     "data": {
      "text/plain": [
       "Swimming                             0.177024\n",
       "Bathing                              0.156309\n",
       "Fishing                              0.060264\n",
       "Fell overboard                       0.041431\n",
       "Diving                               0.022599\n",
       "                                       ...   \n",
       "Trailing hand in the water           0.001883\n",
       "Swimming / floating on his back      0.001883\n",
       "Fell overboard from the Sobella      0.001883\n",
       "Standing, gathering oysters          0.001883\n",
       "Wreck of the steamship Birkenhead    0.001883\n",
       "Name: Activity, Length: 192, dtype: float64"
      ]
     },
     "execution_count": 54,
     "metadata": {},
     "output_type": "execute_result"
    }
   ],
   "source": [
    "df_cen19.Activity.value_counts() / df_cen19_total"
   ]
  },
  {
   "cell_type": "markdown",
   "metadata": {},
   "source": [
    "# New heading"
   ]
  },
  {
   "cell_type": "code",
   "execution_count": null,
   "metadata": {},
   "outputs": [],
   "source": []
  },
  {
   "cell_type": "code",
   "execution_count": null,
   "metadata": {},
   "outputs": [],
   "source": []
  },
  {
   "cell_type": "code",
   "execution_count": null,
   "metadata": {},
   "outputs": [],
   "source": []
  },
  {
   "cell_type": "code",
   "execution_count": null,
   "metadata": {},
   "outputs": [],
   "source": []
  }
 ],
 "metadata": {
  "hide_input": false,
  "kernelspec": {
   "display_name": "Python 3",
   "language": "python",
   "name": "python3"
  },
  "language_info": {
   "codemirror_mode": {
    "name": "ipython",
    "version": 3
   },
   "file_extension": ".py",
   "mimetype": "text/x-python",
   "name": "python",
   "nbconvert_exporter": "python",
   "pygments_lexer": "ipython3",
   "version": "3.8.3"
  },
  "toc": {
   "base_numbering": 1,
   "nav_menu": {},
   "number_sections": true,
   "sideBar": true,
   "skip_h1_title": false,
   "title_cell": "Table of Contents",
   "title_sidebar": "Contents",
   "toc_cell": false,
   "toc_position": {},
   "toc_section_display": true,
   "toc_window_display": false
  },
  "varInspector": {
   "cols": {
    "lenName": 16,
    "lenType": 16,
    "lenVar": 40
   },
   "kernels_config": {
    "python": {
     "delete_cmd_postfix": "",
     "delete_cmd_prefix": "del ",
     "library": "var_list.py",
     "varRefreshCmd": "print(var_dic_list())"
    },
    "r": {
     "delete_cmd_postfix": ") ",
     "delete_cmd_prefix": "rm(",
     "library": "var_list.r",
     "varRefreshCmd": "cat(var_dic_list()) "
    }
   },
   "types_to_exclude": [
    "module",
    "function",
    "builtin_function_or_method",
    "instance",
    "_Feature"
   ],
   "window_display": false
  }
 },
 "nbformat": 4,
 "nbformat_minor": 4
}
