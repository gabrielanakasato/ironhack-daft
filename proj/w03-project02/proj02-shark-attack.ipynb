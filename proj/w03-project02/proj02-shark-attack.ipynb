{
 "cells": [
  {
   "cell_type": "markdown",
   "metadata": {},
   "source": [
    "# Introduction"
   ]
  },
  {
   "cell_type": "code",
   "execution_count": null,
   "metadata": {},
   "outputs": [],
   "source": []
  },
  {
   "cell_type": "markdown",
   "metadata": {},
   "source": [
    "# Setup"
   ]
  },
  {
   "cell_type": "markdown",
   "metadata": {},
   "source": [
    "## Import"
   ]
  },
  {
   "cell_type": "code",
   "execution_count": 13,
   "metadata": {
    "ExecuteTime": {
     "end_time": "2020-09-04T00:14:49.033603Z",
     "start_time": "2020-09-04T00:14:49.030579Z"
    }
   },
   "outputs": [],
   "source": [
    "import pandas as pd\n",
    "import numpy as np"
   ]
  },
  {
   "cell_type": "markdown",
   "metadata": {},
   "source": [
    "## Load the dataset"
   ]
  },
  {
   "cell_type": "code",
   "execution_count": 14,
   "metadata": {
    "ExecuteTime": {
     "end_time": "2020-09-04T00:14:49.664074Z",
     "start_time": "2020-09-04T00:14:49.035565Z"
    }
   },
   "outputs": [],
   "source": [
    "# Load the dataset from a Excel file into a Pandas DataFrame\n",
    "df = pd.read_excel('GSAF5.xls')"
   ]
  },
  {
   "cell_type": "code",
   "execution_count": 15,
   "metadata": {
    "ExecuteTime": {
     "end_time": "2020-09-04T00:14:49.689848Z",
     "start_time": "2020-09-04T00:14:49.664882Z"
    }
   },
   "outputs": [
    {
     "name": "stdout",
     "output_type": "stream",
     "text": [
      "<class 'pandas.core.frame.DataFrame'>\n",
      "RangeIndex: 25792 entries, 0 to 25791\n",
      "Data columns (total 24 columns):\n",
      " #   Column                  Non-Null Count  Dtype  \n",
      "---  ------                  --------------  -----  \n",
      " 0   Case Number             8771 non-null   object \n",
      " 1   Date                    6558 non-null   object \n",
      " 2   Year                    6556 non-null   float64\n",
      " 3   Type                    6552 non-null   object \n",
      " 4   Country                 6508 non-null   object \n",
      " 5   Area                    6091 non-null   object \n",
      " 6   Location                6008 non-null   object \n",
      " 7   Activity                6002 non-null   object \n",
      " 8   Name                    6343 non-null   object \n",
      " 9   Sex                     5987 non-null   object \n",
      " 10  Age                     3660 non-null   object \n",
      " 11  Injury                  6528 non-null   object \n",
      " 12  Fatal (Y/N)             6006 non-null   object \n",
      " 13  Time                    3139 non-null   object \n",
      " 14  Species                 3610 non-null   object \n",
      " 15  Investigator or Source  6541 non-null   object \n",
      " 16  pdf                     6557 non-null   object \n",
      " 17  href formula            6554 non-null   object \n",
      " 18  href                    6556 non-null   object \n",
      " 19  Case Number.1           6557 non-null   object \n",
      " 20  Case Number.2           6557 non-null   object \n",
      " 21  original order          6564 non-null   float64\n",
      " 22  Unnamed: 22             1 non-null      object \n",
      " 23  Unnamed: 23             2 non-null      object \n",
      "dtypes: float64(2), object(22)\n",
      "memory usage: 4.7+ MB\n"
     ]
    }
   ],
   "source": [
    "# Check information about the dataset\n",
    "df.info()"
   ]
  },
  {
   "cell_type": "markdown",
   "metadata": {},
   "source": [
    "### Conclusions about the dataset for cleaning purposes\n",
    "1. Seeing the information about the dataset, it is clear that there are a lot of rows that only contains missing values `NaN`.\n",
    "2. The columns 'Unnamed: 22' and 'Unnamed: 23' probably do not have any information since they have 1 and 2 non-null values, respectively."
   ]
  },
  {
   "cell_type": "markdown",
   "metadata": {},
   "source": [
    "## Create a backup version of the raw dataset"
   ]
  },
  {
   "cell_type": "code",
   "execution_count": 16,
   "metadata": {
    "ExecuteTime": {
     "end_time": "2020-09-04T00:14:49.702814Z",
     "start_time": "2020-09-04T00:14:49.690812Z"
    }
   },
   "outputs": [],
   "source": [
    "# Create a backup version\n",
    "df_bkp = df.copy()"
   ]
  },
  {
   "cell_type": "markdown",
   "metadata": {},
   "source": [
    "# General Data Cleaning"
   ]
  },
  {
   "cell_type": "markdown",
   "metadata": {},
   "source": [
    "## Headers"
   ]
  },
  {
   "cell_type": "code",
   "execution_count": 17,
   "metadata": {
    "ExecuteTime": {
     "end_time": "2020-09-04T00:14:49.709795Z",
     "start_time": "2020-09-04T00:14:49.703777Z"
    }
   },
   "outputs": [
    {
     "data": {
      "text/plain": [
       "Index(['case_number', 'date', 'year', 'type', 'country', 'area', 'location',\n",
       "       'activity', 'name', 'sex', 'age', 'injury', 'fatal_(y/n)', 'time',\n",
       "       'species', 'investigator_or_source', 'pdf', 'href_formula', 'href',\n",
       "       'case_number.1', 'case_number.2', 'original_order', 'unnamed:_22',\n",
       "       'unnamed:_23'],\n",
       "      dtype='object')"
      ]
     },
     "execution_count": 17,
     "metadata": {},
     "output_type": "execute_result"
    }
   ],
   "source": [
    "# Remove unnecessary spaces, put everything in lower case and replace spaces with underscores\n",
    "df.columns = df.columns.str.strip().str.lower().str.replace(' ', '_')\n",
    "df.columns"
   ]
  },
  {
   "cell_type": "code",
   "execution_count": 18,
   "metadata": {
    "ExecuteTime": {
     "end_time": "2020-09-04T00:14:49.720778Z",
     "start_time": "2020-09-04T00:14:49.710759Z"
    }
   },
   "outputs": [
    {
     "data": {
      "text/plain": [
       "Index(['case_number', 'date', 'year', 'type', 'country', 'area', 'location',\n",
       "       'activity', 'name', 'sex', 'age', 'injury', 'fatal', 'time', 'species',\n",
       "       'investigator_or_source', 'pdf', 'href_formula', 'href',\n",
       "       'case_number.1', 'case_number.2', 'original_order', 'unnamed:_22',\n",
       "       'unnamed:_23'],\n",
       "      dtype='object')"
      ]
     },
     "execution_count": 18,
     "metadata": {},
     "output_type": "execute_result"
    }
   ],
   "source": [
    "# Rename the column 'fatal_(y/n)' to make it simpler\n",
    "df = df.rename(columns={'fatal_(y/n)': 'fatal'})\n",
    "df.columns"
   ]
  },
  {
   "cell_type": "markdown",
   "metadata": {},
   "source": [
    "## Columns that are not relevant to the analysis"
   ]
  },
  {
   "cell_type": "markdown",
   "metadata": {},
   "source": [
    "As mentioned above, the columns `unnamed:_22` and `unnamed:_23` probably do not have any relevant information, so they can be removed."
   ]
  },
  {
   "cell_type": "code",
   "execution_count": 19,
   "metadata": {
    "ExecuteTime": {
     "end_time": "2020-09-04T00:14:49.755690Z",
     "start_time": "2020-09-04T00:14:49.722727Z"
    }
   },
   "outputs": [
    {
     "data": {
      "text/html": [
       "<div>\n",
       "<style scoped>\n",
       "    .dataframe tbody tr th:only-of-type {\n",
       "        vertical-align: middle;\n",
       "    }\n",
       "\n",
       "    .dataframe tbody tr th {\n",
       "        vertical-align: top;\n",
       "    }\n",
       "\n",
       "    .dataframe thead th {\n",
       "        text-align: right;\n",
       "    }\n",
       "</style>\n",
       "<table border=\"1\" class=\"dataframe\">\n",
       "  <thead>\n",
       "    <tr style=\"text-align: right;\">\n",
       "      <th></th>\n",
       "      <th>case_number</th>\n",
       "      <th>date</th>\n",
       "      <th>year</th>\n",
       "      <th>type</th>\n",
       "      <th>country</th>\n",
       "      <th>area</th>\n",
       "      <th>location</th>\n",
       "      <th>activity</th>\n",
       "      <th>name</th>\n",
       "      <th>sex</th>\n",
       "      <th>...</th>\n",
       "      <th>fatal</th>\n",
       "      <th>time</th>\n",
       "      <th>species</th>\n",
       "      <th>investigator_or_source</th>\n",
       "      <th>pdf</th>\n",
       "      <th>href_formula</th>\n",
       "      <th>href</th>\n",
       "      <th>case_number.1</th>\n",
       "      <th>case_number.2</th>\n",
       "      <th>original_order</th>\n",
       "    </tr>\n",
       "  </thead>\n",
       "  <tbody>\n",
       "    <tr>\n",
       "      <th>0</th>\n",
       "      <td>2020.08.20</td>\n",
       "      <td>20-Aug-2020</td>\n",
       "      <td>2020.0</td>\n",
       "      <td>Unprovoked</td>\n",
       "      <td>USA</td>\n",
       "      <td>Florida</td>\n",
       "      <td>New Smyrna Beach, Volusia County</td>\n",
       "      <td>Boogie boarding</td>\n",
       "      <td>Carolina Jones</td>\n",
       "      <td>F</td>\n",
       "      <td>...</td>\n",
       "      <td>N</td>\n",
       "      <td>11h00</td>\n",
       "      <td>NaN</td>\n",
       "      <td>K. McMurray, TrackingSharks.com</td>\n",
       "      <td>2020.08.20-NSB.pdf</td>\n",
       "      <td>http://sharkattackfile.net/spreadsheets/pdf_di...</td>\n",
       "      <td>http://sharkattackfile.net/spreadsheets/pdf_di...</td>\n",
       "      <td>2020.08.20</td>\n",
       "      <td>2020.08.20</td>\n",
       "      <td>6559.0</td>\n",
       "    </tr>\n",
       "    <tr>\n",
       "      <th>1</th>\n",
       "      <td>2020.08.14</td>\n",
       "      <td>14-Aug-2020</td>\n",
       "      <td>2020.0</td>\n",
       "      <td>Unprovoked</td>\n",
       "      <td>AUSTRALIA</td>\n",
       "      <td>New South Wales</td>\n",
       "      <td>Shelly Beach, Port Macquarie</td>\n",
       "      <td>Surfing</td>\n",
       "      <td>Chantelle Doyle</td>\n",
       "      <td>F</td>\n",
       "      <td>...</td>\n",
       "      <td>N</td>\n",
       "      <td>09h30</td>\n",
       "      <td>White shark, 2-to 3m</td>\n",
       "      <td>B. Myatt, GSAF</td>\n",
       "      <td>2020.08.14-ShellyBeach.pdf</td>\n",
       "      <td>http://sharkattackfile.net/spreadsheets/pdf_di...</td>\n",
       "      <td>http://sharkattackfile.net/spreadsheets/pdf_di...</td>\n",
       "      <td>2020.08.14</td>\n",
       "      <td>2020.08.14</td>\n",
       "      <td>6558.0</td>\n",
       "    </tr>\n",
       "    <tr>\n",
       "      <th>2</th>\n",
       "      <td>2020.08.10</td>\n",
       "      <td>10-Aug-2020</td>\n",
       "      <td>2020.0</td>\n",
       "      <td>Provoked</td>\n",
       "      <td>USA</td>\n",
       "      <td>Florida</td>\n",
       "      <td>Off Gasparilla Island, Charlotte County</td>\n",
       "      <td>Fishing</td>\n",
       "      <td>male</td>\n",
       "      <td>M</td>\n",
       "      <td>...</td>\n",
       "      <td>N</td>\n",
       "      <td>16h00</td>\n",
       "      <td>Blacktip shark, 6'</td>\n",
       "      <td>K. McMurray, TrackingSharks.com</td>\n",
       "      <td>2020.08.10-Provoked.pdf</td>\n",
       "      <td>http://sharkattackfile.net/spreadsheets/pdf_di...</td>\n",
       "      <td>http://sharkattackfile.net/spreadsheets/pdf_di...</td>\n",
       "      <td>2020.08.10</td>\n",
       "      <td>2020.08.10</td>\n",
       "      <td>6557.0</td>\n",
       "    </tr>\n",
       "    <tr>\n",
       "      <th>3</th>\n",
       "      <td>2020.08.02</td>\n",
       "      <td>02-Aug-2020</td>\n",
       "      <td>2020.0</td>\n",
       "      <td>Unprovoked</td>\n",
       "      <td>USA</td>\n",
       "      <td>Virgin Islands</td>\n",
       "      <td>Candle Reef, St. Croix</td>\n",
       "      <td>Snorkeling</td>\n",
       "      <td>Melony Klein</td>\n",
       "      <td>F</td>\n",
       "      <td>...</td>\n",
       "      <td>N</td>\n",
       "      <td>14h00</td>\n",
       "      <td>Nurse shark, 5'</td>\n",
       "      <td>K. McMurray, TrackingSharks.com</td>\n",
       "      <td>2020.08.02-Klein.pdf</td>\n",
       "      <td>http://sharkattackfile.net/spreadsheets/pdf_di...</td>\n",
       "      <td>http://sharkattackfile.net/spreadsheets/pdf_di...</td>\n",
       "      <td>2020.08.02</td>\n",
       "      <td>2020.08.02</td>\n",
       "      <td>6556.0</td>\n",
       "    </tr>\n",
       "    <tr>\n",
       "      <th>4</th>\n",
       "      <td>2020.07.31.c</td>\n",
       "      <td>31-Jul-2020</td>\n",
       "      <td>2020.0</td>\n",
       "      <td>Unprovoked</td>\n",
       "      <td>USA</td>\n",
       "      <td>Florida</td>\n",
       "      <td>New Smyrna Beach, Volusia County</td>\n",
       "      <td>Surfing</td>\n",
       "      <td>Megan Tossi</td>\n",
       "      <td>F</td>\n",
       "      <td>...</td>\n",
       "      <td>N</td>\n",
       "      <td>17h00</td>\n",
       "      <td>NaN</td>\n",
       "      <td>K. McMurray, TrackingSharks.com</td>\n",
       "      <td>2020.07.31.c-Tossi..pdf</td>\n",
       "      <td>http://sharkattackfile.net/spreadsheets/pdf_di...</td>\n",
       "      <td>http://sharkattackfile.net/spreadsheets/pdf_di...</td>\n",
       "      <td>2020.07.31.c</td>\n",
       "      <td>2020.07.31.c</td>\n",
       "      <td>6555.0</td>\n",
       "    </tr>\n",
       "  </tbody>\n",
       "</table>\n",
       "<p>5 rows × 22 columns</p>\n",
       "</div>"
      ],
      "text/plain": [
       "    case_number         date    year        type    country             area  \\\n",
       "0    2020.08.20  20-Aug-2020  2020.0  Unprovoked        USA          Florida   \n",
       "1    2020.08.14  14-Aug-2020  2020.0  Unprovoked  AUSTRALIA  New South Wales   \n",
       "2    2020.08.10  10-Aug-2020  2020.0    Provoked        USA          Florida   \n",
       "3    2020.08.02  02-Aug-2020  2020.0  Unprovoked        USA   Virgin Islands   \n",
       "4  2020.07.31.c  31-Jul-2020  2020.0  Unprovoked        USA          Florida   \n",
       "\n",
       "                                  location         activity             name  \\\n",
       "0         New Smyrna Beach, Volusia County  Boogie boarding   Carolina Jones   \n",
       "1             Shelly Beach, Port Macquarie          Surfing  Chantelle Doyle   \n",
       "2  Off Gasparilla Island, Charlotte County          Fishing             male   \n",
       "3                   Candle Reef, St. Croix       Snorkeling     Melony Klein   \n",
       "4         New Smyrna Beach, Volusia County          Surfing      Megan Tossi   \n",
       "\n",
       "  sex  ... fatal   time               species  \\\n",
       "0   F  ...     N  11h00                   NaN   \n",
       "1   F  ...     N  09h30  White shark, 2-to 3m   \n",
       "2   M  ...     N  16h00    Blacktip shark, 6'   \n",
       "3   F  ...     N  14h00       Nurse shark, 5'   \n",
       "4   F  ...     N  17h00                   NaN   \n",
       "\n",
       "            investigator_or_source                         pdf  \\\n",
       "0  K. McMurray, TrackingSharks.com          2020.08.20-NSB.pdf   \n",
       "1                   B. Myatt, GSAF  2020.08.14-ShellyBeach.pdf   \n",
       "2  K. McMurray, TrackingSharks.com     2020.08.10-Provoked.pdf   \n",
       "3  K. McMurray, TrackingSharks.com        2020.08.02-Klein.pdf   \n",
       "4  K. McMurray, TrackingSharks.com     2020.07.31.c-Tossi..pdf   \n",
       "\n",
       "                                        href_formula  \\\n",
       "0  http://sharkattackfile.net/spreadsheets/pdf_di...   \n",
       "1  http://sharkattackfile.net/spreadsheets/pdf_di...   \n",
       "2  http://sharkattackfile.net/spreadsheets/pdf_di...   \n",
       "3  http://sharkattackfile.net/spreadsheets/pdf_di...   \n",
       "4  http://sharkattackfile.net/spreadsheets/pdf_di...   \n",
       "\n",
       "                                                href case_number.1  \\\n",
       "0  http://sharkattackfile.net/spreadsheets/pdf_di...    2020.08.20   \n",
       "1  http://sharkattackfile.net/spreadsheets/pdf_di...    2020.08.14   \n",
       "2  http://sharkattackfile.net/spreadsheets/pdf_di...    2020.08.10   \n",
       "3  http://sharkattackfile.net/spreadsheets/pdf_di...    2020.08.02   \n",
       "4  http://sharkattackfile.net/spreadsheets/pdf_di...  2020.07.31.c   \n",
       "\n",
       "  case_number.2 original_order  \n",
       "0    2020.08.20         6559.0  \n",
       "1    2020.08.14         6558.0  \n",
       "2    2020.08.10         6557.0  \n",
       "3    2020.08.02         6556.0  \n",
       "4  2020.07.31.c         6555.0  \n",
       "\n",
       "[5 rows x 22 columns]"
      ]
     },
     "execution_count": 19,
     "metadata": {},
     "output_type": "execute_result"
    }
   ],
   "source": [
    "# Remove the columns 'unnamed:_22' and 'unnamed:_23'\n",
    "df = df.drop(columns=['unnamed:_22', 'unnamed:_23'])\n",
    "\n",
    "# Check the result\n",
    "df.head()"
   ]
  },
  {
   "cell_type": "markdown",
   "metadata": {},
   "source": [
    "Checking the table above, it is clear that the columns `investigator_or_source`, `pdf`, `href_formula` and `href` will not be relevant to the analysis since they are just information about the source of each incident. Therefore, these columns can be removed."
   ]
  },
  {
   "cell_type": "code",
   "execution_count": 20,
   "metadata": {
    "ExecuteTime": {
     "end_time": "2020-09-04T00:14:49.775623Z",
     "start_time": "2020-09-04T00:14:49.756636Z"
    }
   },
   "outputs": [
    {
     "data": {
      "text/html": [
       "<div>\n",
       "<style scoped>\n",
       "    .dataframe tbody tr th:only-of-type {\n",
       "        vertical-align: middle;\n",
       "    }\n",
       "\n",
       "    .dataframe tbody tr th {\n",
       "        vertical-align: top;\n",
       "    }\n",
       "\n",
       "    .dataframe thead th {\n",
       "        text-align: right;\n",
       "    }\n",
       "</style>\n",
       "<table border=\"1\" class=\"dataframe\">\n",
       "  <thead>\n",
       "    <tr style=\"text-align: right;\">\n",
       "      <th></th>\n",
       "      <th>case_number</th>\n",
       "      <th>date</th>\n",
       "      <th>year</th>\n",
       "      <th>type</th>\n",
       "      <th>country</th>\n",
       "      <th>area</th>\n",
       "      <th>location</th>\n",
       "      <th>activity</th>\n",
       "      <th>name</th>\n",
       "      <th>sex</th>\n",
       "      <th>age</th>\n",
       "      <th>injury</th>\n",
       "      <th>fatal</th>\n",
       "      <th>time</th>\n",
       "      <th>species</th>\n",
       "      <th>case_number.1</th>\n",
       "      <th>case_number.2</th>\n",
       "      <th>original_order</th>\n",
       "    </tr>\n",
       "  </thead>\n",
       "  <tbody>\n",
       "    <tr>\n",
       "      <th>0</th>\n",
       "      <td>2020.08.20</td>\n",
       "      <td>20-Aug-2020</td>\n",
       "      <td>2020.0</td>\n",
       "      <td>Unprovoked</td>\n",
       "      <td>USA</td>\n",
       "      <td>Florida</td>\n",
       "      <td>New Smyrna Beach, Volusia County</td>\n",
       "      <td>Boogie boarding</td>\n",
       "      <td>Carolina Jones</td>\n",
       "      <td>F</td>\n",
       "      <td>50</td>\n",
       "      <td>Minor lacerations to left leg</td>\n",
       "      <td>N</td>\n",
       "      <td>11h00</td>\n",
       "      <td>NaN</td>\n",
       "      <td>2020.08.20</td>\n",
       "      <td>2020.08.20</td>\n",
       "      <td>6559.0</td>\n",
       "    </tr>\n",
       "    <tr>\n",
       "      <th>1</th>\n",
       "      <td>2020.08.14</td>\n",
       "      <td>14-Aug-2020</td>\n",
       "      <td>2020.0</td>\n",
       "      <td>Unprovoked</td>\n",
       "      <td>AUSTRALIA</td>\n",
       "      <td>New South Wales</td>\n",
       "      <td>Shelly Beach, Port Macquarie</td>\n",
       "      <td>Surfing</td>\n",
       "      <td>Chantelle Doyle</td>\n",
       "      <td>F</td>\n",
       "      <td>35</td>\n",
       "      <td>Lacerations to right calf and posterior thigh</td>\n",
       "      <td>N</td>\n",
       "      <td>09h30</td>\n",
       "      <td>White shark, 2-to 3m</td>\n",
       "      <td>2020.08.14</td>\n",
       "      <td>2020.08.14</td>\n",
       "      <td>6558.0</td>\n",
       "    </tr>\n",
       "    <tr>\n",
       "      <th>2</th>\n",
       "      <td>2020.08.10</td>\n",
       "      <td>10-Aug-2020</td>\n",
       "      <td>2020.0</td>\n",
       "      <td>Provoked</td>\n",
       "      <td>USA</td>\n",
       "      <td>Florida</td>\n",
       "      <td>Off Gasparilla Island, Charlotte County</td>\n",
       "      <td>Fishing</td>\n",
       "      <td>male</td>\n",
       "      <td>M</td>\n",
       "      <td>55</td>\n",
       "      <td>Injury to left forearm by hooked shark PROVOKE...</td>\n",
       "      <td>N</td>\n",
       "      <td>16h00</td>\n",
       "      <td>Blacktip shark, 6'</td>\n",
       "      <td>2020.08.10</td>\n",
       "      <td>2020.08.10</td>\n",
       "      <td>6557.0</td>\n",
       "    </tr>\n",
       "    <tr>\n",
       "      <th>3</th>\n",
       "      <td>2020.08.02</td>\n",
       "      <td>02-Aug-2020</td>\n",
       "      <td>2020.0</td>\n",
       "      <td>Unprovoked</td>\n",
       "      <td>USA</td>\n",
       "      <td>Virgin Islands</td>\n",
       "      <td>Candle Reef, St. Croix</td>\n",
       "      <td>Snorkeling</td>\n",
       "      <td>Melony Klein</td>\n",
       "      <td>F</td>\n",
       "      <td>NaN</td>\n",
       "      <td>Lacerations to hand and wrist</td>\n",
       "      <td>N</td>\n",
       "      <td>14h00</td>\n",
       "      <td>Nurse shark, 5'</td>\n",
       "      <td>2020.08.02</td>\n",
       "      <td>2020.08.02</td>\n",
       "      <td>6556.0</td>\n",
       "    </tr>\n",
       "    <tr>\n",
       "      <th>4</th>\n",
       "      <td>2020.07.31.c</td>\n",
       "      <td>31-Jul-2020</td>\n",
       "      <td>2020.0</td>\n",
       "      <td>Unprovoked</td>\n",
       "      <td>USA</td>\n",
       "      <td>Florida</td>\n",
       "      <td>New Smyrna Beach, Volusia County</td>\n",
       "      <td>Surfing</td>\n",
       "      <td>Megan Tossi</td>\n",
       "      <td>F</td>\n",
       "      <td>22</td>\n",
       "      <td>Lacerations to foot</td>\n",
       "      <td>N</td>\n",
       "      <td>17h00</td>\n",
       "      <td>NaN</td>\n",
       "      <td>2020.07.31.c</td>\n",
       "      <td>2020.07.31.c</td>\n",
       "      <td>6555.0</td>\n",
       "    </tr>\n",
       "  </tbody>\n",
       "</table>\n",
       "</div>"
      ],
      "text/plain": [
       "    case_number         date    year        type    country             area  \\\n",
       "0    2020.08.20  20-Aug-2020  2020.0  Unprovoked        USA          Florida   \n",
       "1    2020.08.14  14-Aug-2020  2020.0  Unprovoked  AUSTRALIA  New South Wales   \n",
       "2    2020.08.10  10-Aug-2020  2020.0    Provoked        USA          Florida   \n",
       "3    2020.08.02  02-Aug-2020  2020.0  Unprovoked        USA   Virgin Islands   \n",
       "4  2020.07.31.c  31-Jul-2020  2020.0  Unprovoked        USA          Florida   \n",
       "\n",
       "                                  location         activity             name  \\\n",
       "0         New Smyrna Beach, Volusia County  Boogie boarding   Carolina Jones   \n",
       "1             Shelly Beach, Port Macquarie          Surfing  Chantelle Doyle   \n",
       "2  Off Gasparilla Island, Charlotte County          Fishing             male   \n",
       "3                   Candle Reef, St. Croix       Snorkeling     Melony Klein   \n",
       "4         New Smyrna Beach, Volusia County          Surfing      Megan Tossi   \n",
       "\n",
       "  sex  age                                             injury fatal   time  \\\n",
       "0   F   50                      Minor lacerations to left leg     N  11h00   \n",
       "1   F   35      Lacerations to right calf and posterior thigh     N  09h30   \n",
       "2   M   55  Injury to left forearm by hooked shark PROVOKE...     N  16h00   \n",
       "3   F  NaN                      Lacerations to hand and wrist     N  14h00   \n",
       "4   F   22                               Lacerations to foot      N  17h00   \n",
       "\n",
       "                species case_number.1 case_number.2  original_order  \n",
       "0                   NaN    2020.08.20    2020.08.20          6559.0  \n",
       "1  White shark, 2-to 3m    2020.08.14    2020.08.14          6558.0  \n",
       "2    Blacktip shark, 6'    2020.08.10    2020.08.10          6557.0  \n",
       "3       Nurse shark, 5'    2020.08.02    2020.08.02          6556.0  \n",
       "4                   NaN  2020.07.31.c  2020.07.31.c          6555.0  "
      ]
     },
     "execution_count": 20,
     "metadata": {},
     "output_type": "execute_result"
    }
   ],
   "source": [
    "# Remove the columns 'nvestigator_or_source', 'pdf', 'href_formula' and 'href'\n",
    "df = df.drop(columns=['investigator_or_source', 'pdf', 'href_formula', 'href'])\n",
    "\n",
    "# Check the result\n",
    "df.head()"
   ]
  },
  {
   "cell_type": "markdown",
   "metadata": {},
   "source": [
    "The content of columns `case_number`, `case_number.1`, `case_number.2` and `original_order` is just a way to reference each case and is not relevant to the analysis. So, they will also be removed."
   ]
  },
  {
   "cell_type": "code",
   "execution_count": 21,
   "metadata": {
    "ExecuteTime": {
     "end_time": "2020-09-04T00:14:49.797532Z",
     "start_time": "2020-09-04T00:14:49.777583Z"
    }
   },
   "outputs": [
    {
     "data": {
      "text/html": [
       "<div>\n",
       "<style scoped>\n",
       "    .dataframe tbody tr th:only-of-type {\n",
       "        vertical-align: middle;\n",
       "    }\n",
       "\n",
       "    .dataframe tbody tr th {\n",
       "        vertical-align: top;\n",
       "    }\n",
       "\n",
       "    .dataframe thead th {\n",
       "        text-align: right;\n",
       "    }\n",
       "</style>\n",
       "<table border=\"1\" class=\"dataframe\">\n",
       "  <thead>\n",
       "    <tr style=\"text-align: right;\">\n",
       "      <th></th>\n",
       "      <th>date</th>\n",
       "      <th>year</th>\n",
       "      <th>type</th>\n",
       "      <th>country</th>\n",
       "      <th>area</th>\n",
       "      <th>location</th>\n",
       "      <th>activity</th>\n",
       "      <th>name</th>\n",
       "      <th>sex</th>\n",
       "      <th>age</th>\n",
       "      <th>injury</th>\n",
       "      <th>fatal</th>\n",
       "      <th>time</th>\n",
       "      <th>species</th>\n",
       "    </tr>\n",
       "  </thead>\n",
       "  <tbody>\n",
       "    <tr>\n",
       "      <th>0</th>\n",
       "      <td>20-Aug-2020</td>\n",
       "      <td>2020.0</td>\n",
       "      <td>Unprovoked</td>\n",
       "      <td>USA</td>\n",
       "      <td>Florida</td>\n",
       "      <td>New Smyrna Beach, Volusia County</td>\n",
       "      <td>Boogie boarding</td>\n",
       "      <td>Carolina Jones</td>\n",
       "      <td>F</td>\n",
       "      <td>50</td>\n",
       "      <td>Minor lacerations to left leg</td>\n",
       "      <td>N</td>\n",
       "      <td>11h00</td>\n",
       "      <td>NaN</td>\n",
       "    </tr>\n",
       "    <tr>\n",
       "      <th>1</th>\n",
       "      <td>14-Aug-2020</td>\n",
       "      <td>2020.0</td>\n",
       "      <td>Unprovoked</td>\n",
       "      <td>AUSTRALIA</td>\n",
       "      <td>New South Wales</td>\n",
       "      <td>Shelly Beach, Port Macquarie</td>\n",
       "      <td>Surfing</td>\n",
       "      <td>Chantelle Doyle</td>\n",
       "      <td>F</td>\n",
       "      <td>35</td>\n",
       "      <td>Lacerations to right calf and posterior thigh</td>\n",
       "      <td>N</td>\n",
       "      <td>09h30</td>\n",
       "      <td>White shark, 2-to 3m</td>\n",
       "    </tr>\n",
       "    <tr>\n",
       "      <th>2</th>\n",
       "      <td>10-Aug-2020</td>\n",
       "      <td>2020.0</td>\n",
       "      <td>Provoked</td>\n",
       "      <td>USA</td>\n",
       "      <td>Florida</td>\n",
       "      <td>Off Gasparilla Island, Charlotte County</td>\n",
       "      <td>Fishing</td>\n",
       "      <td>male</td>\n",
       "      <td>M</td>\n",
       "      <td>55</td>\n",
       "      <td>Injury to left forearm by hooked shark PROVOKE...</td>\n",
       "      <td>N</td>\n",
       "      <td>16h00</td>\n",
       "      <td>Blacktip shark, 6'</td>\n",
       "    </tr>\n",
       "    <tr>\n",
       "      <th>3</th>\n",
       "      <td>02-Aug-2020</td>\n",
       "      <td>2020.0</td>\n",
       "      <td>Unprovoked</td>\n",
       "      <td>USA</td>\n",
       "      <td>Virgin Islands</td>\n",
       "      <td>Candle Reef, St. Croix</td>\n",
       "      <td>Snorkeling</td>\n",
       "      <td>Melony Klein</td>\n",
       "      <td>F</td>\n",
       "      <td>NaN</td>\n",
       "      <td>Lacerations to hand and wrist</td>\n",
       "      <td>N</td>\n",
       "      <td>14h00</td>\n",
       "      <td>Nurse shark, 5'</td>\n",
       "    </tr>\n",
       "    <tr>\n",
       "      <th>4</th>\n",
       "      <td>31-Jul-2020</td>\n",
       "      <td>2020.0</td>\n",
       "      <td>Unprovoked</td>\n",
       "      <td>USA</td>\n",
       "      <td>Florida</td>\n",
       "      <td>New Smyrna Beach, Volusia County</td>\n",
       "      <td>Surfing</td>\n",
       "      <td>Megan Tossi</td>\n",
       "      <td>F</td>\n",
       "      <td>22</td>\n",
       "      <td>Lacerations to foot</td>\n",
       "      <td>N</td>\n",
       "      <td>17h00</td>\n",
       "      <td>NaN</td>\n",
       "    </tr>\n",
       "  </tbody>\n",
       "</table>\n",
       "</div>"
      ],
      "text/plain": [
       "          date    year        type    country             area  \\\n",
       "0  20-Aug-2020  2020.0  Unprovoked        USA          Florida   \n",
       "1  14-Aug-2020  2020.0  Unprovoked  AUSTRALIA  New South Wales   \n",
       "2  10-Aug-2020  2020.0    Provoked        USA          Florida   \n",
       "3  02-Aug-2020  2020.0  Unprovoked        USA   Virgin Islands   \n",
       "4  31-Jul-2020  2020.0  Unprovoked        USA          Florida   \n",
       "\n",
       "                                  location         activity             name  \\\n",
       "0         New Smyrna Beach, Volusia County  Boogie boarding   Carolina Jones   \n",
       "1             Shelly Beach, Port Macquarie          Surfing  Chantelle Doyle   \n",
       "2  Off Gasparilla Island, Charlotte County          Fishing             male   \n",
       "3                   Candle Reef, St. Croix       Snorkeling     Melony Klein   \n",
       "4         New Smyrna Beach, Volusia County          Surfing      Megan Tossi   \n",
       "\n",
       "  sex  age                                             injury fatal   time  \\\n",
       "0   F   50                      Minor lacerations to left leg     N  11h00   \n",
       "1   F   35      Lacerations to right calf and posterior thigh     N  09h30   \n",
       "2   M   55  Injury to left forearm by hooked shark PROVOKE...     N  16h00   \n",
       "3   F  NaN                      Lacerations to hand and wrist     N  14h00   \n",
       "4   F   22                               Lacerations to foot      N  17h00   \n",
       "\n",
       "                species  \n",
       "0                   NaN  \n",
       "1  White shark, 2-to 3m  \n",
       "2    Blacktip shark, 6'  \n",
       "3       Nurse shark, 5'  \n",
       "4                   NaN  "
      ]
     },
     "execution_count": 21,
     "metadata": {},
     "output_type": "execute_result"
    }
   ],
   "source": [
    "# Remove the columns 'case_number', 'case_number.1', 'case_number.2' and 'original_order'\n",
    "df = df.drop(columns=['case_number', 'case_number.1', 'case_number.2', 'original_order'])\n",
    "\n",
    "# Check the result\n",
    "df.head()"
   ]
  },
  {
   "cell_type": "markdown",
   "metadata": {},
   "source": [
    "After removing the unnecessary columns, the information about the new dataframe is shown below."
   ]
  },
  {
   "cell_type": "markdown",
   "metadata": {},
   "source": [
    "The column `name` is also irrelevant, since there will not be a specific analysis of each individual. So, this column can be removed."
   ]
  },
  {
   "cell_type": "code",
   "execution_count": null,
   "metadata": {},
   "outputs": [],
   "source": [
    "# Remove column 'name'\n",
    "df = df.drop(columns=[])"
   ]
  },
  {
   "cell_type": "code",
   "execution_count": null,
   "metadata": {},
   "outputs": [],
   "source": []
  },
  {
   "cell_type": "code",
   "execution_count": null,
   "metadata": {},
   "outputs": [],
   "source": []
  },
  {
   "cell_type": "code",
   "execution_count": null,
   "metadata": {},
   "outputs": [],
   "source": []
  },
  {
   "cell_type": "code",
   "execution_count": null,
   "metadata": {},
   "outputs": [],
   "source": []
  },
  {
   "cell_type": "code",
   "execution_count": 22,
   "metadata": {
    "ExecuteTime": {
     "end_time": "2020-09-04T00:14:49.817509Z",
     "start_time": "2020-09-04T00:14:49.799523Z"
    }
   },
   "outputs": [
    {
     "name": "stdout",
     "output_type": "stream",
     "text": [
      "<class 'pandas.core.frame.DataFrame'>\n",
      "RangeIndex: 25792 entries, 0 to 25791\n",
      "Data columns (total 14 columns):\n",
      " #   Column    Non-Null Count  Dtype  \n",
      "---  ------    --------------  -----  \n",
      " 0   date      6558 non-null   object \n",
      " 1   year      6556 non-null   float64\n",
      " 2   type      6552 non-null   object \n",
      " 3   country   6508 non-null   object \n",
      " 4   area      6091 non-null   object \n",
      " 5   location  6008 non-null   object \n",
      " 6   activity  6002 non-null   object \n",
      " 7   name      6343 non-null   object \n",
      " 8   sex       5987 non-null   object \n",
      " 9   age       3660 non-null   object \n",
      " 10  injury    6528 non-null   object \n",
      " 11  fatal     6006 non-null   object \n",
      " 12  time      3139 non-null   object \n",
      " 13  species   3610 non-null   object \n",
      "dtypes: float64(1), object(13)\n",
      "memory usage: 2.8+ MB\n"
     ]
    }
   ],
   "source": [
    "# Check information about the dataset\n",
    "df.info()"
   ]
  },
  {
   "cell_type": "markdown",
   "metadata": {},
   "source": [
    "## Rows"
   ]
  },
  {
   "cell_type": "markdown",
   "metadata": {},
   "source": [
    "### Rows containing only missing values"
   ]
  },
  {
   "cell_type": "markdown",
   "metadata": {},
   "source": [
    "There is total of 25792 lines, but all columns do not have even 9,000 rows with `non-NaN`. So,as mentioned before, there are a lot of rows that only contains missing values `NaN` and they can be removed. "
   ]
  },
  {
   "cell_type": "code",
   "execution_count": 24,
   "metadata": {
    "ExecuteTime": {
     "end_time": "2020-09-04T00:14:56.874938Z",
     "start_time": "2020-09-04T00:14:56.848975Z"
    }
   },
   "outputs": [
    {
     "name": "stdout",
     "output_type": "stream",
     "text": [
      "Number of rows after removing the rows containing only missing values: 6558\n",
      "\n",
      "<class 'pandas.core.frame.DataFrame'>\n",
      "Int64Index: 6558 entries, 0 to 6557\n",
      "Data columns (total 14 columns):\n",
      " #   Column    Non-Null Count  Dtype  \n",
      "---  ------    --------------  -----  \n",
      " 0   date      6558 non-null   object \n",
      " 1   year      6556 non-null   float64\n",
      " 2   type      6552 non-null   object \n",
      " 3   country   6508 non-null   object \n",
      " 4   area      6091 non-null   object \n",
      " 5   location  6008 non-null   object \n",
      " 6   activity  6002 non-null   object \n",
      " 7   name      6343 non-null   object \n",
      " 8   sex       5987 non-null   object \n",
      " 9   age       3660 non-null   object \n",
      " 10  injury    6528 non-null   object \n",
      " 11  fatal     6006 non-null   object \n",
      " 12  time      3139 non-null   object \n",
      " 13  species   3610 non-null   object \n",
      "dtypes: float64(1), object(13)\n",
      "memory usage: 768.5+ KB\n"
     ]
    }
   ],
   "source": [
    "# Remove all rows that contains only NaN\n",
    "df = df.dropna(how='all')\n",
    "\n",
    "# Check the result\n",
    "print(f'Number of rows after removing the rows containing only missing values: {df.shape[0]}\\n')\n",
    "\n",
    "# Check information about the dataframe\n",
    "df.info()"
   ]
  },
  {
   "cell_type": "markdown",
   "metadata": {},
   "source": [
    "### Duplicate rows"
   ]
  },
  {
   "cell_type": "code",
   "execution_count": 28,
   "metadata": {
    "ExecuteTime": {
     "end_time": "2020-09-04T00:17:37.613205Z",
     "start_time": "2020-09-04T00:17:37.601206Z"
    }
   },
   "outputs": [
    {
     "data": {
      "text/plain": [
       "2"
      ]
     },
     "execution_count": 28,
     "metadata": {},
     "output_type": "execute_result"
    }
   ],
   "source": [
    "# Check if there are duplicate rows\n",
    "df.duplicated().sum()"
   ]
  },
  {
   "cell_type": "code",
   "execution_count": 29,
   "metadata": {
    "ExecuteTime": {
     "end_time": "2020-09-04T00:18:41.310569Z",
     "start_time": "2020-09-04T00:18:41.289587Z"
    }
   },
   "outputs": [
    {
     "data": {
      "text/html": [
       "<div>\n",
       "<style scoped>\n",
       "    .dataframe tbody tr th:only-of-type {\n",
       "        vertical-align: middle;\n",
       "    }\n",
       "\n",
       "    .dataframe tbody tr th {\n",
       "        vertical-align: top;\n",
       "    }\n",
       "\n",
       "    .dataframe thead th {\n",
       "        text-align: right;\n",
       "    }\n",
       "</style>\n",
       "<table border=\"1\" class=\"dataframe\">\n",
       "  <thead>\n",
       "    <tr style=\"text-align: right;\">\n",
       "      <th></th>\n",
       "      <th>date</th>\n",
       "      <th>year</th>\n",
       "      <th>type</th>\n",
       "      <th>country</th>\n",
       "      <th>area</th>\n",
       "      <th>location</th>\n",
       "      <th>activity</th>\n",
       "      <th>name</th>\n",
       "      <th>sex</th>\n",
       "      <th>age</th>\n",
       "      <th>injury</th>\n",
       "      <th>fatal</th>\n",
       "      <th>time</th>\n",
       "      <th>species</th>\n",
       "    </tr>\n",
       "  </thead>\n",
       "  <tbody>\n",
       "    <tr>\n",
       "      <th>4940</th>\n",
       "      <td>Fall 1943</td>\n",
       "      <td>1943.0</td>\n",
       "      <td>Unprovoked</td>\n",
       "      <td>USA</td>\n",
       "      <td>Hawaii</td>\n",
       "      <td>Midway Island, Northwestern Hawaiian Islands</td>\n",
       "      <td>Spearfishing</td>\n",
       "      <td>2 males</td>\n",
       "      <td>M</td>\n",
       "      <td>NaN</td>\n",
       "      <td>Calf nipped in each case</td>\n",
       "      <td>N</td>\n",
       "      <td>NaN</td>\n",
       "      <td>\"small sharks\"</td>\n",
       "    </tr>\n",
       "    <tr>\n",
       "      <th>4941</th>\n",
       "      <td>Fall 1943</td>\n",
       "      <td>1943.0</td>\n",
       "      <td>Unprovoked</td>\n",
       "      <td>USA</td>\n",
       "      <td>Hawaii</td>\n",
       "      <td>Midway Island, Northwestern Hawaiian Islands</td>\n",
       "      <td>Spearfishing</td>\n",
       "      <td>2 males</td>\n",
       "      <td>M</td>\n",
       "      <td>NaN</td>\n",
       "      <td>Calf nipped in each case</td>\n",
       "      <td>N</td>\n",
       "      <td>NaN</td>\n",
       "      <td>\"small sharks\"</td>\n",
       "    </tr>\n",
       "    <tr>\n",
       "      <th>5962</th>\n",
       "      <td>1890</td>\n",
       "      <td>1890.0</td>\n",
       "      <td>Unprovoked</td>\n",
       "      <td>INDIA</td>\n",
       "      <td>Tamil Nadu</td>\n",
       "      <td>Tuticorin</td>\n",
       "      <td>Diving</td>\n",
       "      <td>a pearl diver</td>\n",
       "      <td>M</td>\n",
       "      <td>NaN</td>\n",
       "      <td>No details</td>\n",
       "      <td>UNKNOWN</td>\n",
       "      <td>NaN</td>\n",
       "      <td>NaN</td>\n",
       "    </tr>\n",
       "    <tr>\n",
       "      <th>5963</th>\n",
       "      <td>1890</td>\n",
       "      <td>1890.0</td>\n",
       "      <td>Unprovoked</td>\n",
       "      <td>INDIA</td>\n",
       "      <td>Tamil Nadu</td>\n",
       "      <td>Tuticorin</td>\n",
       "      <td>Diving</td>\n",
       "      <td>a pearl diver</td>\n",
       "      <td>M</td>\n",
       "      <td>NaN</td>\n",
       "      <td>No details</td>\n",
       "      <td>UNKNOWN</td>\n",
       "      <td>NaN</td>\n",
       "      <td>NaN</td>\n",
       "    </tr>\n",
       "  </tbody>\n",
       "</table>\n",
       "</div>"
      ],
      "text/plain": [
       "           date    year        type country        area  \\\n",
       "4940  Fall 1943  1943.0  Unprovoked     USA      Hawaii   \n",
       "4941  Fall 1943  1943.0  Unprovoked     USA      Hawaii   \n",
       "5962       1890  1890.0  Unprovoked   INDIA  Tamil Nadu   \n",
       "5963       1890  1890.0  Unprovoked   INDIA  Tamil Nadu   \n",
       "\n",
       "                                          location      activity  \\\n",
       "4940  Midway Island, Northwestern Hawaiian Islands  Spearfishing   \n",
       "4941  Midway Island, Northwestern Hawaiian Islands  Spearfishing   \n",
       "5962                                     Tuticorin        Diving   \n",
       "5963                                     Tuticorin        Diving   \n",
       "\n",
       "               name sex  age                    injury    fatal time  \\\n",
       "4940        2 males   M  NaN  Calf nipped in each case        N  NaN   \n",
       "4941        2 males   M  NaN  Calf nipped in each case        N  NaN   \n",
       "5962  a pearl diver   M  NaN                No details  UNKNOWN  NaN   \n",
       "5963  a pearl diver   M  NaN                No details  UNKNOWN  NaN   \n",
       "\n",
       "             species  \n",
       "4940  \"small sharks\"  \n",
       "4941  \"small sharks\"  \n",
       "5962             NaN  \n",
       "5963             NaN  "
      ]
     },
     "execution_count": 29,
     "metadata": {},
     "output_type": "execute_result"
    }
   ],
   "source": [
    "# Check duplicated rows\n",
    "df[df.duplicated(keep=False)]"
   ]
  },
  {
   "cell_type": "markdown",
   "metadata": {},
   "source": [
    "As shown above, there are 2 rows that are duplicated. Therefore, they can be removed."
   ]
  },
  {
   "cell_type": "code",
   "execution_count": 30,
   "metadata": {
    "ExecuteTime": {
     "end_time": "2020-09-04T00:20:26.961908Z",
     "start_time": "2020-09-04T00:20:26.945917Z"
    }
   },
   "outputs": [
    {
     "data": {
      "text/plain": [
       "0"
      ]
     },
     "execution_count": 30,
     "metadata": {},
     "output_type": "execute_result"
    }
   ],
   "source": [
    "# Remove duplicated rows\n",
    "df = df[df.duplicated()]\n",
    "\n",
    "# Check the result\n",
    "df.duplicated().sum()"
   ]
  },
  {
   "cell_type": "markdown",
   "metadata": {},
   "source": [
    "# Specific Data Cleaning - Columns"
   ]
  },
  {
   "cell_type": "markdown",
   "metadata": {},
   "source": [
    "## "
   ]
  },
  {
   "cell_type": "code",
   "execution_count": null,
   "metadata": {},
   "outputs": [],
   "source": []
  },
  {
   "cell_type": "code",
   "execution_count": null,
   "metadata": {},
   "outputs": [],
   "source": []
  },
  {
   "cell_type": "code",
   "execution_count": null,
   "metadata": {},
   "outputs": [],
   "source": []
  },
  {
   "cell_type": "code",
   "execution_count": null,
   "metadata": {},
   "outputs": [],
   "source": []
  },
  {
   "cell_type": "code",
   "execution_count": null,
   "metadata": {},
   "outputs": [],
   "source": []
  },
  {
   "cell_type": "code",
   "execution_count": null,
   "metadata": {},
   "outputs": [],
   "source": []
  },
  {
   "cell_type": "code",
   "execution_count": null,
   "metadata": {},
   "outputs": [],
   "source": []
  },
  {
   "cell_type": "code",
   "execution_count": null,
   "metadata": {
    "ExecuteTime": {
     "end_time": "2020-09-02T01:12:52.420070Z",
     "start_time": "2020-09-02T01:12:52.395093Z"
    }
   },
   "outputs": [],
   "source": [
    "# Remove all rows that have NaN in all columns\n",
    "# There is total of 25792 lines, but all columns do not have even 9000 rows with non-NaN.. Therefore, there are lots of\n",
    "# rows that all columns are only missing values\n",
    "df = df.dropna(how='all')"
   ]
  },
  {
   "cell_type": "code",
   "execution_count": null,
   "metadata": {
    "ExecuteTime": {
     "end_time": "2020-09-02T01:12:52.430988Z",
     "start_time": "2020-09-02T01:12:52.422013Z"
    }
   },
   "outputs": [],
   "source": [
    "# Remove all rows that have less than 3 non-NaN\n",
    "# If the row contains less than 3 non-NaN, there is basically no information about a shark accident\n",
    "df = df.dropna(thresh=3)"
   ]
  },
  {
   "cell_type": "code",
   "execution_count": null,
   "metadata": {
    "ExecuteTime": {
     "end_time": "2020-09-02T01:12:52.446945Z",
     "start_time": "2020-09-02T01:12:52.433027Z"
    }
   },
   "outputs": [],
   "source": [
    "# Check information about the dataset\n",
    "df.info()"
   ]
  },
  {
   "cell_type": "code",
   "execution_count": null,
   "metadata": {
    "ExecuteTime": {
     "end_time": "2020-09-02T01:12:52.465938Z",
     "start_time": "2020-09-02T01:12:52.447943Z"
    }
   },
   "outputs": [],
   "source": [
    "df"
   ]
  },
  {
   "cell_type": "markdown",
   "metadata": {},
   "source": [
    "## Age"
   ]
  },
  {
   "cell_type": "code",
   "execution_count": null,
   "metadata": {
    "ExecuteTime": {
     "end_time": "2020-09-02T01:12:52.475902Z",
     "start_time": "2020-09-02T01:12:52.466921Z"
    }
   },
   "outputs": [],
   "source": [
    "df.Age.unique()"
   ]
  },
  {
   "cell_type": "code",
   "execution_count": null,
   "metadata": {
    "ExecuteTime": {
     "end_time": "2020-09-02T01:12:52.482879Z",
     "start_time": "2020-09-02T01:12:52.476865Z"
    }
   },
   "outputs": [],
   "source": [
    "# Function to convert string to integer\n",
    "def convert_str_to_int(age):\n",
    "    try:\n",
    "        age = int(age)\n",
    "    except:\n",
    "        age = -1\n",
    "    return age"
   ]
  },
  {
   "cell_type": "code",
   "execution_count": null,
   "metadata": {
    "ExecuteTime": {
     "end_time": "2020-09-02T01:12:52.518760Z",
     "start_time": "2020-09-02T01:12:52.483848Z"
    }
   },
   "outputs": [],
   "source": [
    "# Number \n",
    "df_total = df.Date.count()\n",
    "print(df_total)\n",
    "\n",
    "# Convert the strings in column 'Age' to integers\n",
    "df['age_int'] = df.Age.apply(convert_str_to_int)\n",
    "\n",
    "# How many were not digits\n",
    "print(df.loc[df.age_int == -1, :].age_int.value_counts() / 6558)\n",
    "print(df.loc[df.age_int == -1, :].age_int.value_counts() / df_total)\n",
    "\n",
    "# Check the result\n",
    "df"
   ]
  },
  {
   "cell_type": "code",
   "execution_count": null,
   "metadata": {
    "ExecuteTime": {
     "end_time": "2020-09-02T01:12:52.525767Z",
     "start_time": "2020-09-02T01:12:52.519759Z"
    }
   },
   "outputs": [],
   "source": [
    "# Classification by age\n",
    "df['age_cat'] = np.where(df['age_int'] > 65, 'Elder',\n",
    "                        np.where(df['age_int'] > 35, 'Adult',\n",
    "                                np.where(df['age_int'] > 17, 'Young Adult',\n",
    "                                        np.where(df['age_int'] > 12, 'Teenager',\n",
    "                                                 np.where(df['age_int'] == -1, '-', 'Child')))))"
   ]
  },
  {
   "cell_type": "code",
   "execution_count": null,
   "metadata": {
    "ExecuteTime": {
     "end_time": "2020-09-02T01:12:52.550686Z",
     "start_time": "2020-09-02T01:12:52.526733Z"
    }
   },
   "outputs": [],
   "source": [
    "df"
   ]
  },
  {
   "cell_type": "markdown",
   "metadata": {},
   "source": [
    "## Year"
   ]
  },
  {
   "cell_type": "code",
   "execution_count": null,
   "metadata": {
    "ExecuteTime": {
     "end_time": "2020-09-02T01:12:52.561640Z",
     "start_time": "2020-09-02T01:12:52.551666Z"
    }
   },
   "outputs": [],
   "source": [
    "df.Year.unique()"
   ]
  },
  {
   "cell_type": "code",
   "execution_count": null,
   "metadata": {
    "ExecuteTime": {
     "end_time": "2020-09-02T01:12:52.586603Z",
     "start_time": "2020-09-02T01:12:52.562639Z"
    }
   },
   "outputs": [],
   "source": [
    "# Convert the strings in column 'Year' to integers\n",
    "df['year_int'] = df.Year.apply(convert_str_to_int)\n",
    "\n",
    "# Check the result\n",
    "df"
   ]
  },
  {
   "cell_type": "code",
   "execution_count": null,
   "metadata": {
    "ExecuteTime": {
     "end_time": "2020-09-02T01:12:52.598540Z",
     "start_time": "2020-09-02T01:12:52.587570Z"
    }
   },
   "outputs": [],
   "source": [
    "# Check % incidents occured before 1801\n",
    "print(f'The incidents before 1801 represents only {(df[df.Year < 1801].Year.count() / df.Year.count()) * 100:.2f}%',\n",
    "      f'of the dataset. So, only the years from 1800 will be analysed.', sep=' ')"
   ]
  },
  {
   "cell_type": "code",
   "execution_count": null,
   "metadata": {
    "ExecuteTime": {
     "end_time": "2020-09-02T01:12:52.614530Z",
     "start_time": "2020-09-02T01:12:52.599569Z"
    }
   },
   "outputs": [],
   "source": [
    "# Selecting only the years from 1800\n",
    "df = df.loc[df['Year'] >= 1801, :]\n",
    "df.info()"
   ]
  },
  {
   "cell_type": "code",
   "execution_count": null,
   "metadata": {
    "ExecuteTime": {
     "end_time": "2020-09-02T01:12:52.635441Z",
     "start_time": "2020-09-02T01:12:52.615496Z"
    }
   },
   "outputs": [],
   "source": [
    "df"
   ]
  },
  {
   "cell_type": "code",
   "execution_count": null,
   "metadata": {
    "ExecuteTime": {
     "end_time": "2020-09-02T01:12:52.641427Z",
     "start_time": "2020-09-02T01:12:52.636438Z"
    }
   },
   "outputs": [],
   "source": [
    "# Classification by year\n",
    "df['century'] = np.where(df['year_int'] >= 2001, 21,\n",
    "                            np.where(df['year_int'] >= 1901, 20, 19))"
   ]
  },
  {
   "cell_type": "code",
   "execution_count": null,
   "metadata": {
    "ExecuteTime": {
     "end_time": "2020-09-02T01:12:52.665375Z",
     "start_time": "2020-09-02T01:12:52.642424Z"
    }
   },
   "outputs": [],
   "source": [
    "df"
   ]
  },
  {
   "cell_type": "markdown",
   "metadata": {},
   "source": [
    "## Gender"
   ]
  },
  {
   "cell_type": "code",
   "execution_count": null,
   "metadata": {
    "ExecuteTime": {
     "end_time": "2020-09-02T01:12:52.674370Z",
     "start_time": "2020-09-02T01:12:52.667356Z"
    }
   },
   "outputs": [],
   "source": [
    "# Check the column 'Sex'\n",
    "df.Sex.unique()"
   ]
  },
  {
   "cell_type": "code",
   "execution_count": null,
   "metadata": {
    "ExecuteTime": {
     "end_time": "2020-09-02T01:12:52.685344Z",
     "start_time": "2020-09-02T01:12:52.675335Z"
    }
   },
   "outputs": [],
   "source": [
    "df.Sex.count()"
   ]
  },
  {
   "cell_type": "code",
   "execution_count": null,
   "metadata": {
    "ExecuteTime": {
     "end_time": "2020-09-02T01:12:52.697314Z",
     "start_time": "2020-09-02T01:12:52.686344Z"
    }
   },
   "outputs": [],
   "source": [
    "# % of each value\n",
    "df.Sex.value_counts() / df.Sex.count()"
   ]
  },
  {
   "cell_type": "code",
   "execution_count": null,
   "metadata": {
    "ExecuteTime": {
     "end_time": "2020-09-02T01:12:52.704264Z",
     "start_time": "2020-09-02T01:12:52.700300Z"
    }
   },
   "outputs": [],
   "source": [
    "# % of each NaN\n",
    "df.Sex.isna().sum()"
   ]
  },
  {
   "cell_type": "code",
   "execution_count": null,
   "metadata": {
    "ExecuteTime": {
     "end_time": "2020-09-02T01:12:52.713266Z",
     "start_time": "2020-09-02T01:12:52.705287Z"
    }
   },
   "outputs": [],
   "source": [
    "# Check number of missing values\n",
    "print(f'The number of NaN in the column \"Sex\" is {df.Sex.isna().sum()}, which represents '\n",
    "      f'{(df.Sex.isna().sum() / df.Sex.count())*100:.2f}% of the dataset.', sep=' ')"
   ]
  },
  {
   "cell_type": "markdown",
   "metadata": {},
   "source": [
    "Since the NaN represents only a samll part of the dataset, the rows containing NaN in the column 'Sex' will be removed."
   ]
  },
  {
   "cell_type": "code",
   "execution_count": null,
   "metadata": {
    "ExecuteTime": {
     "end_time": "2020-09-02T01:12:52.725253Z",
     "start_time": "2020-09-02T01:12:52.714232Z"
    }
   },
   "outputs": [],
   "source": [
    "# Remove rows that the column 'Sex' is a missing value\n",
    "df[df.Sex.isna()]\n",
    "df = df.drop(df[df.Sex.isna()].index)"
   ]
  },
  {
   "cell_type": "code",
   "execution_count": null,
   "metadata": {},
   "outputs": [],
   "source": []
  },
  {
   "cell_type": "code",
   "execution_count": null,
   "metadata": {
    "ExecuteTime": {
     "end_time": "2020-09-02T01:12:52.738200Z",
     "start_time": "2020-09-02T01:12:52.726199Z"
    }
   },
   "outputs": [],
   "source": [
    "# Check infromation about the changed dataset\n",
    "df.info()"
   ]
  },
  {
   "cell_type": "code",
   "execution_count": null,
   "metadata": {
    "ExecuteTime": {
     "end_time": "2020-09-02T01:12:52.748140Z",
     "start_time": "2020-09-02T01:12:52.739165Z"
    },
    "scrolled": true
   },
   "outputs": [],
   "source": [
    "# Check values in the column 'Sex'\n",
    "df.Sex.value_counts()"
   ]
  },
  {
   "cell_type": "code",
   "execution_count": null,
   "metadata": {
    "ExecuteTime": {
     "end_time": "2020-09-02T01:12:52.759142Z",
     "start_time": "2020-09-02T01:12:52.749144Z"
    }
   },
   "outputs": [],
   "source": [
    "# Remove unnecessary spaces in the values of the column 'Sex'\n",
    "df['Sex'] = df['Sex'].str.strip()\n",
    "df.Sex.value_counts()"
   ]
  },
  {
   "cell_type": "code",
   "execution_count": null,
   "metadata": {
    "ExecuteTime": {
     "end_time": "2020-09-01T23:52:42.058470Z",
     "start_time": "2020-09-01T23:52:42.050975Z"
    }
   },
   "outputs": [],
   "source": []
  },
  {
   "cell_type": "code",
   "execution_count": null,
   "metadata": {
    "ExecuteTime": {
     "end_time": "2020-09-02T01:12:52.771122Z",
     "start_time": "2020-09-02T01:12:52.760110Z"
    }
   },
   "outputs": [],
   "source": [
    "# Remove rows that the gender is 'N', 'lli', '.' or 'M x 2'\n",
    "df = df.drop(df[(df.Sex == '.') | (df.Sex == 'N') | (df.Sex == 'lli') | ((df.Sex == 'M x 2'))].index)\n",
    "df.Sex.value_counts()"
   ]
  },
  {
   "cell_type": "code",
   "execution_count": null,
   "metadata": {
    "ExecuteTime": {
     "end_time": "2020-09-02T01:12:52.786089Z",
     "start_time": "2020-09-02T01:12:52.772108Z"
    }
   },
   "outputs": [],
   "source": [
    "# Check infromation about the changed dataset\n",
    "# 5 columns were removed\n",
    "df.info()"
   ]
  },
  {
   "cell_type": "code",
   "execution_count": null,
   "metadata": {
    "ExecuteTime": {
     "end_time": "2020-09-02T01:12:52.796052Z",
     "start_time": "2020-09-02T01:12:52.787060Z"
    }
   },
   "outputs": [],
   "source": [
    "# Check column 'Sex' percentage\n",
    "df_gener_total = df.Sex.value_counts().sum()\n",
    "df.Sex.value_counts() / df_gener_total"
   ]
  },
  {
   "cell_type": "code",
   "execution_count": null,
   "metadata": {
    "ExecuteTime": {
     "end_time": "2020-09-02T01:12:52.807015Z",
     "start_time": "2020-09-02T01:12:52.797047Z"
    }
   },
   "outputs": [],
   "source": [
    "print(f'The males represent {(df.Sex.value_counts() / df_gener_total)[0]*100:.2f}% of the people who were'\n",
    "      f'involved in incidents with sharks, while women represent only {(df.Sex.value_counts() / df_gener_total)[1]*100:.2f}%.',sep=' ')"
   ]
  },
  {
   "cell_type": "code",
   "execution_count": null,
   "metadata": {
    "ExecuteTime": {
     "end_time": "2020-09-02T01:12:52.815993Z",
     "start_time": "2020-09-02T01:12:52.808014Z"
    }
   },
   "outputs": [],
   "source": [
    "# Create a subset containing only females\n",
    "df_male = df.loc[df['Sex'] == 'F']"
   ]
  },
  {
   "cell_type": "code",
   "execution_count": null,
   "metadata": {
    "ExecuteTime": {
     "end_time": "2020-09-02T01:12:52.834941Z",
     "start_time": "2020-09-02T01:12:52.816989Z"
    }
   },
   "outputs": [],
   "source": [
    "# Create a subset containing only males\n",
    "df_male = df.loc[df['Sex'] == 'M']\n",
    "df_male.info()"
   ]
  },
  {
   "cell_type": "code",
   "execution_count": null,
   "metadata": {
    "ExecuteTime": {
     "end_time": "2020-09-02T01:12:52.839929Z",
     "start_time": "2020-09-02T01:12:52.835906Z"
    }
   },
   "outputs": [],
   "source": [
    "# Check males age\n",
    "df_male.age_cat.value_counts()"
   ]
  },
  {
   "cell_type": "code",
   "execution_count": null,
   "metadata": {
    "ExecuteTime": {
     "end_time": "2020-09-02T01:12:52.849890Z",
     "start_time": "2020-09-02T01:12:52.840893Z"
    }
   },
   "outputs": [],
   "source": [
    "df_male_total = df_male.Date.count()\n",
    "df_male_total"
   ]
  },
  {
   "cell_type": "code",
   "execution_count": null,
   "metadata": {
    "ExecuteTime": {
     "end_time": "2020-09-02T01:12:52.858878Z",
     "start_time": "2020-09-02T01:12:52.850865Z"
    }
   },
   "outputs": [],
   "source": [
    "# Check males age\n",
    "df_male.age_cat.value_counts() / df_male_total"
   ]
  },
  {
   "cell_type": "code",
   "execution_count": null,
   "metadata": {
    "ExecuteTime": {
     "end_time": "2020-09-02T01:12:52.867852Z",
     "start_time": "2020-09-02T01:12:52.859860Z"
    }
   },
   "outputs": [],
   "source": [
    "(df_male.age_cat.value_counts() / df_male_total)*100"
   ]
  },
  {
   "cell_type": "code",
   "execution_count": null,
   "metadata": {
    "ExecuteTime": {
     "end_time": "2020-09-02T01:12:52.890801Z",
     "start_time": "2020-09-02T01:12:52.868850Z"
    }
   },
   "outputs": [],
   "source": [
    "df_male_age = df_male.loc[df_male['age_cat'] != '-']\n",
    "df_male_age_total = df_male_age.Date.count()\n",
    "df_male_age.info()"
   ]
  },
  {
   "cell_type": "code",
   "execution_count": null,
   "metadata": {
    "ExecuteTime": {
     "end_time": "2020-09-02T01:12:52.895745Z",
     "start_time": "2020-09-02T01:12:52.891791Z"
    }
   },
   "outputs": [],
   "source": [
    "df_male_age_total"
   ]
  },
  {
   "cell_type": "code",
   "execution_count": null,
   "metadata": {
    "ExecuteTime": {
     "end_time": "2020-09-02T01:12:52.905763Z",
     "start_time": "2020-09-02T01:12:52.896743Z"
    }
   },
   "outputs": [],
   "source": [
    "df_male_age.age_cat.value_counts()"
   ]
  },
  {
   "cell_type": "code",
   "execution_count": null,
   "metadata": {
    "ExecuteTime": {
     "end_time": "2020-09-02T01:12:52.917726Z",
     "start_time": "2020-09-02T01:12:52.906749Z"
    }
   },
   "outputs": [],
   "source": [
    "df_male_age.age_cat.value_counts() / df_male_age_total"
   ]
  },
  {
   "cell_type": "code",
   "execution_count": null,
   "metadata": {
    "ExecuteTime": {
     "end_time": "2020-09-02T01:12:52.928691Z",
     "start_time": "2020-09-02T01:12:52.918685Z"
    }
   },
   "outputs": [],
   "source": [
    "(df_male_age.age_cat.value_counts() / df_male_age_total)*100"
   ]
  },
  {
   "cell_type": "markdown",
   "metadata": {},
   "source": [
    "50% of male who were in a shark incident were Young Adults."
   ]
  },
  {
   "cell_type": "code",
   "execution_count": null,
   "metadata": {
    "ExecuteTime": {
     "end_time": "2020-09-02T01:12:52.944639Z",
     "start_time": "2020-09-02T01:12:52.928691Z"
    }
   },
   "outputs": [],
   "source": [
    "df_male_ya = df_male_age[df_male_age['age_cat'] == 'Young Adult']\n",
    "df_male_ya.info()"
   ]
  },
  {
   "cell_type": "code",
   "execution_count": null,
   "metadata": {
    "ExecuteTime": {
     "end_time": "2020-09-02T01:12:52.953595Z",
     "start_time": "2020-09-02T01:12:52.945632Z"
    }
   },
   "outputs": [],
   "source": [
    "df_male_ya_total = df_male_ya.Date.count()\n",
    "df_male_ya.groupby(by='Activity').age_cat.count().sort_values(ascending=False)"
   ]
  },
  {
   "cell_type": "code",
   "execution_count": null,
   "metadata": {
    "ExecuteTime": {
     "end_time": "2020-09-02T01:12:52.965590Z",
     "start_time": "2020-09-02T01:12:52.954590Z"
    }
   },
   "outputs": [],
   "source": [
    "(df_male_ya.groupby(by='Activity').age_cat.count().sort_values(ascending=False) / df_male_ya_total)*100"
   ]
  },
  {
   "cell_type": "markdown",
   "metadata": {},
   "source": [
    "**Young adult males surfing were the most involved in shark incidents.**"
   ]
  },
  {
   "cell_type": "markdown",
   "metadata": {},
   "source": [
    "# Exporting dataset"
   ]
  },
  {
   "cell_type": "code",
   "execution_count": null,
   "metadata": {
    "ExecuteTime": {
     "end_time": "2020-09-02T01:12:52.990523Z",
     "start_time": "2020-09-02T01:12:52.966557Z"
    }
   },
   "outputs": [],
   "source": [
    "df"
   ]
  },
  {
   "cell_type": "code",
   "execution_count": null,
   "metadata": {
    "ExecuteTime": {
     "end_time": "2020-09-02T01:12:53.035404Z",
     "start_time": "2020-09-02T01:12:52.991490Z"
    }
   },
   "outputs": [],
   "source": [
    "#df.to_csv('sharks_clean.csv')"
   ]
  },
  {
   "cell_type": "markdown",
   "metadata": {
    "ExecuteTime": {
     "end_time": "2020-09-01T21:03:59.240347Z",
     "start_time": "2020-09-01T21:03:59.236340Z"
    }
   },
   "source": [
    "# Extra - Analysis though centuries"
   ]
  },
  {
   "cell_type": "markdown",
   "metadata": {},
   "source": [
    "## Setup"
   ]
  },
  {
   "cell_type": "code",
   "execution_count": null,
   "metadata": {
    "ExecuteTime": {
     "end_time": "2020-09-02T01:12:53.043383Z",
     "start_time": "2020-09-02T01:12:53.036369Z"
    }
   },
   "outputs": [],
   "source": [
    "# Create subsets for each century\n",
    "df_cen21 = df.loc[df['century'] == 21, :]\n",
    "df_cen20 = df.loc[df['century'] == 20, :]\n",
    "df_cen19 = df.loc[df['century'] == 19, :]"
   ]
  },
  {
   "cell_type": "code",
   "execution_count": null,
   "metadata": {
    "ExecuteTime": {
     "end_time": "2020-09-02T01:12:53.055355Z",
     "start_time": "2020-09-02T01:12:53.044348Z"
    }
   },
   "outputs": [],
   "source": [
    "df_cen21_total = df_cen21.Date.count()\n",
    "print(df_cen21_total)\n",
    "df_cen21.info()"
   ]
  },
  {
   "cell_type": "code",
   "execution_count": null,
   "metadata": {
    "ExecuteTime": {
     "end_time": "2020-09-02T01:12:53.070311Z",
     "start_time": "2020-09-02T01:12:53.056316Z"
    }
   },
   "outputs": [],
   "source": [
    "df_cen20_total = df_cen20.Date.count()\n",
    "print(df_cen20_total)\n",
    "df_cen20.info()"
   ]
  },
  {
   "cell_type": "code",
   "execution_count": null,
   "metadata": {
    "ExecuteTime": {
     "end_time": "2020-09-02T01:12:53.082247Z",
     "start_time": "2020-09-02T01:12:53.071277Z"
    }
   },
   "outputs": [],
   "source": [
    "df_cen19_total = df_cen19.Date.count()\n",
    "print(df_cen19_total)\n",
    "df_cen19.info()"
   ]
  },
  {
   "cell_type": "markdown",
   "metadata": {},
   "source": [
    "We are not even 1/4 of the 21st century and the number of shark incidents getting closer to the number of incidents in the 20th century. However, we also have to consider that there may be a probability that not all incidents were registered in the last century. "
   ]
  },
  {
   "cell_type": "markdown",
   "metadata": {},
   "source": [
    "## Gender"
   ]
  },
  {
   "cell_type": "code",
   "execution_count": null,
   "metadata": {
    "ExecuteTime": {
     "end_time": "2020-09-02T01:12:53.091223Z",
     "start_time": "2020-09-02T01:12:53.083245Z"
    }
   },
   "outputs": [],
   "source": [
    "df_cen21.Sex.value_counts() / df_cen21_total"
   ]
  },
  {
   "cell_type": "code",
   "execution_count": null,
   "metadata": {
    "ExecuteTime": {
     "end_time": "2020-09-02T01:12:53.103242Z",
     "start_time": "2020-09-02T01:12:53.092220Z"
    }
   },
   "outputs": [],
   "source": [
    "(df_cen21.Sex.value_counts() / df_cen21_total) * 100"
   ]
  },
  {
   "cell_type": "code",
   "execution_count": null,
   "metadata": {
    "ExecuteTime": {
     "end_time": "2020-09-02T01:12:53.114248Z",
     "start_time": "2020-09-02T01:12:53.104220Z"
    }
   },
   "outputs": [],
   "source": [
    "df_cen20.Sex.value_counts() / df_cen20_total"
   ]
  },
  {
   "cell_type": "code",
   "execution_count": null,
   "metadata": {
    "ExecuteTime": {
     "end_time": "2020-09-02T01:12:53.125232Z",
     "start_time": "2020-09-02T01:12:53.115228Z"
    }
   },
   "outputs": [],
   "source": [
    "(df_cen20.Sex.value_counts() / df_cen20_total) * 100"
   ]
  },
  {
   "cell_type": "code",
   "execution_count": null,
   "metadata": {
    "ExecuteTime": {
     "end_time": "2020-09-02T01:12:53.136165Z",
     "start_time": "2020-09-02T01:12:53.126190Z"
    }
   },
   "outputs": [],
   "source": [
    "df_cen19.Sex.value_counts() / df_cen19_total"
   ]
  },
  {
   "cell_type": "code",
   "execution_count": null,
   "metadata": {
    "ExecuteTime": {
     "end_time": "2020-09-02T01:12:53.147168Z",
     "start_time": "2020-09-02T01:12:53.137163Z"
    }
   },
   "outputs": [],
   "source": [
    "(df_cen19.Sex.value_counts() / df_cen19_total) * 100"
   ]
  },
  {
   "cell_type": "markdown",
   "metadata": {},
   "source": [
    "This result reflects each gender's behaviors in each century. Long time ago, women usually would just take care of the house and were not allowed to do many things."
   ]
  },
  {
   "cell_type": "markdown",
   "metadata": {
    "ExecuteTime": {
     "end_time": "2020-09-02T01:11:41.631061Z",
     "start_time": "2020-09-02T01:11:41.629065Z"
    }
   },
   "source": [
    "## Activity"
   ]
  },
  {
   "cell_type": "code",
   "execution_count": null,
   "metadata": {
    "ExecuteTime": {
     "end_time": "2020-09-02T01:12:53.157110Z",
     "start_time": "2020-09-02T01:12:53.148133Z"
    }
   },
   "outputs": [],
   "source": [
    "df_cen21.Activity.value_counts() / df_cen21_total"
   ]
  },
  {
   "cell_type": "code",
   "execution_count": null,
   "metadata": {
    "ExecuteTime": {
     "end_time": "2020-09-02T01:12:53.166085Z",
     "start_time": "2020-09-02T01:12:53.158107Z"
    }
   },
   "outputs": [],
   "source": [
    "(df_cen21.Activity.value_counts() / df_cen21_total) * 100"
   ]
  },
  {
   "cell_type": "code",
   "execution_count": null,
   "metadata": {
    "ExecuteTime": {
     "end_time": "2020-09-02T01:12:53.176058Z",
     "start_time": "2020-09-02T01:12:53.167081Z"
    }
   },
   "outputs": [],
   "source": [
    "df_cen20.Activity.value_counts() / df_cen20_total"
   ]
  },
  {
   "cell_type": "code",
   "execution_count": null,
   "metadata": {
    "ExecuteTime": {
     "end_time": "2020-09-02T01:12:53.187055Z",
     "start_time": "2020-09-02T01:12:53.177055Z"
    }
   },
   "outputs": [],
   "source": [
    "(df_cen20.Activity.value_counts() / df_cen20_total) * 100"
   ]
  },
  {
   "cell_type": "code",
   "execution_count": null,
   "metadata": {
    "ExecuteTime": {
     "end_time": "2020-09-02T01:12:53.197003Z",
     "start_time": "2020-09-02T01:12:53.188026Z"
    }
   },
   "outputs": [],
   "source": [
    "df_cen19.Activity.value_counts() / df_cen19_total"
   ]
  },
  {
   "cell_type": "code",
   "execution_count": null,
   "metadata": {
    "ExecuteTime": {
     "end_time": "2020-09-02T01:12:53.206975Z",
     "start_time": "2020-09-02T01:12:53.198000Z"
    }
   },
   "outputs": [],
   "source": [
    "(df_cen19.Activity.value_counts() / df_cen19_total) * 100"
   ]
  }
 ],
 "metadata": {
  "hide_input": false,
  "kernelspec": {
   "display_name": "Python 3",
   "language": "python",
   "name": "python3"
  },
  "language_info": {
   "codemirror_mode": {
    "name": "ipython",
    "version": 3
   },
   "file_extension": ".py",
   "mimetype": "text/x-python",
   "name": "python",
   "nbconvert_exporter": "python",
   "pygments_lexer": "ipython3",
   "version": "3.8.3"
  },
  "toc": {
   "base_numbering": 1,
   "nav_menu": {},
   "number_sections": true,
   "sideBar": true,
   "skip_h1_title": false,
   "title_cell": "Table of Contents",
   "title_sidebar": "Contents",
   "toc_cell": false,
   "toc_position": {},
   "toc_section_display": true,
   "toc_window_display": true
  },
  "varInspector": {
   "cols": {
    "lenName": 16,
    "lenType": 16,
    "lenVar": 40
   },
   "kernels_config": {
    "python": {
     "delete_cmd_postfix": "",
     "delete_cmd_prefix": "del ",
     "library": "var_list.py",
     "varRefreshCmd": "print(var_dic_list())"
    },
    "r": {
     "delete_cmd_postfix": ") ",
     "delete_cmd_prefix": "rm(",
     "library": "var_list.r",
     "varRefreshCmd": "cat(var_dic_list()) "
    }
   },
   "types_to_exclude": [
    "module",
    "function",
    "builtin_function_or_method",
    "instance",
    "_Feature"
   ],
   "window_display": false
  }
 },
 "nbformat": 4,
 "nbformat_minor": 4
}
