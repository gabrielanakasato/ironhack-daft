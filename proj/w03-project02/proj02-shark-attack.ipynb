{
 "cells": [
  {
   "cell_type": "markdown",
   "metadata": {},
   "source": [
    "![Ironhack logo](https://i.imgur.com/1QgrNNw.png)"
   ]
  },
  {
   "cell_type": "markdown",
   "metadata": {},
   "source": [
    "<body>\n",
    "    <p style=\"font-size:28px;text-align:center\"><b>Project 02 | Data Cleaning & Manipulation</b></p>\n",
    "</body>"
   ]
  },
  {
   "cell_type": "markdown",
   "metadata": {},
   "source": [
    "# Introduction"
   ]
  },
  {
   "cell_type": "markdown",
   "metadata": {},
   "source": [
    "The objective of this projects was to answer a problem statement, practicing data cleaning and manipulation.\n",
    "\n",
    "---\n",
    "\n",
    "<body>\n",
    "    <p style=\"font-size:20px\"><b>Problem Statement</b></p>\n",
    "</body>\n",
    "\n",
    "_What are the most common characteristics of people involved in shark incidents in the history?_\n",
    "\n",
    "---\n",
    "\n",
    "To answer this problem, the following characteristics will be analyzed:\n",
    "- Gender\n",
    "- Age\n",
    "- Activity"
   ]
  },
  {
   "cell_type": "markdown",
   "metadata": {},
   "source": [
    "# Setup"
   ]
  },
  {
   "cell_type": "markdown",
   "metadata": {},
   "source": [
    "## Import"
   ]
  },
  {
   "cell_type": "code",
   "execution_count": 1,
   "metadata": {
    "ExecuteTime": {
     "end_time": "2020-09-06T00:33:29.337892Z",
     "start_time": "2020-09-06T00:33:29.047669Z"
    }
   },
   "outputs": [],
   "source": [
    "import pandas as pd\n",
    "import numpy as np\n",
    "import re"
   ]
  },
  {
   "cell_type": "markdown",
   "metadata": {},
   "source": [
    "## Load the dataset"
   ]
  },
  {
   "cell_type": "code",
   "execution_count": 2,
   "metadata": {
    "ExecuteTime": {
     "end_time": "2020-09-06T00:33:29.964217Z",
     "start_time": "2020-09-06T00:33:29.338889Z"
    }
   },
   "outputs": [],
   "source": [
    "# Load the dataset from a Excel file into a Pandas DataFrame\n",
    "df = pd.read_excel('GSAF5.xls')"
   ]
  },
  {
   "cell_type": "code",
   "execution_count": 3,
   "metadata": {
    "ExecuteTime": {
     "end_time": "2020-09-06T00:33:29.998131Z",
     "start_time": "2020-09-06T00:33:29.965214Z"
    }
   },
   "outputs": [
    {
     "name": "stdout",
     "output_type": "stream",
     "text": [
      "<class 'pandas.core.frame.DataFrame'>\n",
      "RangeIndex: 25792 entries, 0 to 25791\n",
      "Data columns (total 24 columns):\n",
      " #   Column                  Non-Null Count  Dtype  \n",
      "---  ------                  --------------  -----  \n",
      " 0   Case Number             8771 non-null   object \n",
      " 1   Date                    6558 non-null   object \n",
      " 2   Year                    6556 non-null   float64\n",
      " 3   Type                    6552 non-null   object \n",
      " 4   Country                 6508 non-null   object \n",
      " 5   Area                    6091 non-null   object \n",
      " 6   Location                6008 non-null   object \n",
      " 7   Activity                6002 non-null   object \n",
      " 8   Name                    6343 non-null   object \n",
      " 9   Sex                     5987 non-null   object \n",
      " 10  Age                     3660 non-null   object \n",
      " 11  Injury                  6528 non-null   object \n",
      " 12  Fatal (Y/N)             6006 non-null   object \n",
      " 13  Time                    3139 non-null   object \n",
      " 14  Species                 3610 non-null   object \n",
      " 15  Investigator or Source  6541 non-null   object \n",
      " 16  pdf                     6557 non-null   object \n",
      " 17  href formula            6554 non-null   object \n",
      " 18  href                    6556 non-null   object \n",
      " 19  Case Number.1           6557 non-null   object \n",
      " 20  Case Number.2           6557 non-null   object \n",
      " 21  original order          6564 non-null   float64\n",
      " 22  Unnamed: 22             1 non-null      object \n",
      " 23  Unnamed: 23             2 non-null      object \n",
      "dtypes: float64(2), object(22)\n",
      "memory usage: 4.7+ MB\n"
     ]
    }
   ],
   "source": [
    "# Check information about the dataset\n",
    "df.info()"
   ]
  },
  {
   "cell_type": "markdown",
   "metadata": {},
   "source": [
    "### Conclusions about the dataset for cleaning purposes\n",
    "1. Seeing the information about the dataset, it is clear that there are a lot of rows that only contains missing values `NaN`.\n",
    "2. The columns 'Unnamed: 22' and 'Unnamed: 23' probably do not have any information since they have 1 and 2 non-null values, respectively."
   ]
  },
  {
   "cell_type": "markdown",
   "metadata": {},
   "source": [
    "## Create a backup version of the raw dataset"
   ]
  },
  {
   "cell_type": "code",
   "execution_count": 4,
   "metadata": {
    "ExecuteTime": {
     "end_time": "2020-09-06T00:33:30.007102Z",
     "start_time": "2020-09-06T00:33:30.000121Z"
    }
   },
   "outputs": [],
   "source": [
    "# Create a backup version\n",
    "df_bkp = df.copy()"
   ]
  },
  {
   "cell_type": "markdown",
   "metadata": {},
   "source": [
    "# General Data Cleaning"
   ]
  },
  {
   "cell_type": "markdown",
   "metadata": {},
   "source": [
    "## Headers"
   ]
  },
  {
   "cell_type": "code",
   "execution_count": 5,
   "metadata": {
    "ExecuteTime": {
     "end_time": "2020-09-06T00:33:30.018073Z",
     "start_time": "2020-09-06T00:33:30.008100Z"
    }
   },
   "outputs": [
    {
     "data": {
      "text/plain": [
       "Index(['case_number', 'date', 'year', 'type', 'country', 'area', 'location',\n",
       "       'activity', 'name', 'sex', 'age', 'injury', 'fatal_(y/n)', 'time',\n",
       "       'species', 'investigator_or_source', 'pdf', 'href_formula', 'href',\n",
       "       'case_number.1', 'case_number.2', 'original_order', 'unnamed:_22',\n",
       "       'unnamed:_23'],\n",
       "      dtype='object')"
      ]
     },
     "execution_count": 5,
     "metadata": {},
     "output_type": "execute_result"
    }
   ],
   "source": [
    "# Remove unnecessary spaces, put everything in lower case and replace spaces with underscores\n",
    "df.columns = df.columns.str.strip().str.lower().str.replace(' ', '_')\n",
    "df.columns"
   ]
  },
  {
   "cell_type": "code",
   "execution_count": 6,
   "metadata": {
    "ExecuteTime": {
     "end_time": "2020-09-06T00:33:30.031038Z",
     "start_time": "2020-09-06T00:33:30.019071Z"
    }
   },
   "outputs": [
    {
     "data": {
      "text/plain": [
       "Index(['case_number', 'date', 'year', 'type', 'country', 'area', 'location',\n",
       "       'activity', 'name', 'sex', 'age', 'injury', 'fatal', 'time', 'species',\n",
       "       'investigator_or_source', 'pdf', 'href_formula', 'href',\n",
       "       'case_number.1', 'case_number.2', 'original_order', 'unnamed:_22',\n",
       "       'unnamed:_23'],\n",
       "      dtype='object')"
      ]
     },
     "execution_count": 6,
     "metadata": {},
     "output_type": "execute_result"
    }
   ],
   "source": [
    "# Rename the column 'fatal_(y/n)' to make it simpler\n",
    "df = df.rename(columns={'fatal_(y/n)': 'fatal'})\n",
    "df.columns"
   ]
  },
  {
   "cell_type": "markdown",
   "metadata": {},
   "source": [
    "## Columns that are not relevant to the analysis"
   ]
  },
  {
   "cell_type": "markdown",
   "metadata": {},
   "source": [
    "As mentioned above, the columns `unnamed:_22` and `unnamed:_23` probably do not have any relevant information, so they can be removed."
   ]
  },
  {
   "cell_type": "code",
   "execution_count": 7,
   "metadata": {
    "ExecuteTime": {
     "end_time": "2020-09-06T00:33:30.061956Z",
     "start_time": "2020-09-06T00:33:30.032036Z"
    }
   },
   "outputs": [
    {
     "data": {
      "text/html": [
       "<div>\n",
       "<style scoped>\n",
       "    .dataframe tbody tr th:only-of-type {\n",
       "        vertical-align: middle;\n",
       "    }\n",
       "\n",
       "    .dataframe tbody tr th {\n",
       "        vertical-align: top;\n",
       "    }\n",
       "\n",
       "    .dataframe thead th {\n",
       "        text-align: right;\n",
       "    }\n",
       "</style>\n",
       "<table border=\"1\" class=\"dataframe\">\n",
       "  <thead>\n",
       "    <tr style=\"text-align: right;\">\n",
       "      <th></th>\n",
       "      <th>case_number</th>\n",
       "      <th>date</th>\n",
       "      <th>year</th>\n",
       "      <th>type</th>\n",
       "      <th>country</th>\n",
       "      <th>area</th>\n",
       "      <th>location</th>\n",
       "      <th>activity</th>\n",
       "      <th>name</th>\n",
       "      <th>sex</th>\n",
       "      <th>...</th>\n",
       "      <th>fatal</th>\n",
       "      <th>time</th>\n",
       "      <th>species</th>\n",
       "      <th>investigator_or_source</th>\n",
       "      <th>pdf</th>\n",
       "      <th>href_formula</th>\n",
       "      <th>href</th>\n",
       "      <th>case_number.1</th>\n",
       "      <th>case_number.2</th>\n",
       "      <th>original_order</th>\n",
       "    </tr>\n",
       "  </thead>\n",
       "  <tbody>\n",
       "    <tr>\n",
       "      <th>0</th>\n",
       "      <td>2020.08.20</td>\n",
       "      <td>20-Aug-2020</td>\n",
       "      <td>2020.0</td>\n",
       "      <td>Unprovoked</td>\n",
       "      <td>USA</td>\n",
       "      <td>Florida</td>\n",
       "      <td>New Smyrna Beach, Volusia County</td>\n",
       "      <td>Boogie boarding</td>\n",
       "      <td>Carolina Jones</td>\n",
       "      <td>F</td>\n",
       "      <td>...</td>\n",
       "      <td>N</td>\n",
       "      <td>11h00</td>\n",
       "      <td>NaN</td>\n",
       "      <td>K. McMurray, TrackingSharks.com</td>\n",
       "      <td>2020.08.20-NSB.pdf</td>\n",
       "      <td>http://sharkattackfile.net/spreadsheets/pdf_di...</td>\n",
       "      <td>http://sharkattackfile.net/spreadsheets/pdf_di...</td>\n",
       "      <td>2020.08.20</td>\n",
       "      <td>2020.08.20</td>\n",
       "      <td>6559.0</td>\n",
       "    </tr>\n",
       "    <tr>\n",
       "      <th>1</th>\n",
       "      <td>2020.08.14</td>\n",
       "      <td>14-Aug-2020</td>\n",
       "      <td>2020.0</td>\n",
       "      <td>Unprovoked</td>\n",
       "      <td>AUSTRALIA</td>\n",
       "      <td>New South Wales</td>\n",
       "      <td>Shelly Beach, Port Macquarie</td>\n",
       "      <td>Surfing</td>\n",
       "      <td>Chantelle Doyle</td>\n",
       "      <td>F</td>\n",
       "      <td>...</td>\n",
       "      <td>N</td>\n",
       "      <td>09h30</td>\n",
       "      <td>White shark, 2-to 3m</td>\n",
       "      <td>B. Myatt, GSAF</td>\n",
       "      <td>2020.08.14-ShellyBeach.pdf</td>\n",
       "      <td>http://sharkattackfile.net/spreadsheets/pdf_di...</td>\n",
       "      <td>http://sharkattackfile.net/spreadsheets/pdf_di...</td>\n",
       "      <td>2020.08.14</td>\n",
       "      <td>2020.08.14</td>\n",
       "      <td>6558.0</td>\n",
       "    </tr>\n",
       "    <tr>\n",
       "      <th>2</th>\n",
       "      <td>2020.08.10</td>\n",
       "      <td>10-Aug-2020</td>\n",
       "      <td>2020.0</td>\n",
       "      <td>Provoked</td>\n",
       "      <td>USA</td>\n",
       "      <td>Florida</td>\n",
       "      <td>Off Gasparilla Island, Charlotte County</td>\n",
       "      <td>Fishing</td>\n",
       "      <td>male</td>\n",
       "      <td>M</td>\n",
       "      <td>...</td>\n",
       "      <td>N</td>\n",
       "      <td>16h00</td>\n",
       "      <td>Blacktip shark, 6'</td>\n",
       "      <td>K. McMurray, TrackingSharks.com</td>\n",
       "      <td>2020.08.10-Provoked.pdf</td>\n",
       "      <td>http://sharkattackfile.net/spreadsheets/pdf_di...</td>\n",
       "      <td>http://sharkattackfile.net/spreadsheets/pdf_di...</td>\n",
       "      <td>2020.08.10</td>\n",
       "      <td>2020.08.10</td>\n",
       "      <td>6557.0</td>\n",
       "    </tr>\n",
       "    <tr>\n",
       "      <th>3</th>\n",
       "      <td>2020.08.02</td>\n",
       "      <td>02-Aug-2020</td>\n",
       "      <td>2020.0</td>\n",
       "      <td>Unprovoked</td>\n",
       "      <td>USA</td>\n",
       "      <td>Virgin Islands</td>\n",
       "      <td>Candle Reef, St. Croix</td>\n",
       "      <td>Snorkeling</td>\n",
       "      <td>Melony Klein</td>\n",
       "      <td>F</td>\n",
       "      <td>...</td>\n",
       "      <td>N</td>\n",
       "      <td>14h00</td>\n",
       "      <td>Nurse shark, 5'</td>\n",
       "      <td>K. McMurray, TrackingSharks.com</td>\n",
       "      <td>2020.08.02-Klein.pdf</td>\n",
       "      <td>http://sharkattackfile.net/spreadsheets/pdf_di...</td>\n",
       "      <td>http://sharkattackfile.net/spreadsheets/pdf_di...</td>\n",
       "      <td>2020.08.02</td>\n",
       "      <td>2020.08.02</td>\n",
       "      <td>6556.0</td>\n",
       "    </tr>\n",
       "    <tr>\n",
       "      <th>4</th>\n",
       "      <td>2020.07.31.c</td>\n",
       "      <td>31-Jul-2020</td>\n",
       "      <td>2020.0</td>\n",
       "      <td>Unprovoked</td>\n",
       "      <td>USA</td>\n",
       "      <td>Florida</td>\n",
       "      <td>New Smyrna Beach, Volusia County</td>\n",
       "      <td>Surfing</td>\n",
       "      <td>Megan Tossi</td>\n",
       "      <td>F</td>\n",
       "      <td>...</td>\n",
       "      <td>N</td>\n",
       "      <td>17h00</td>\n",
       "      <td>NaN</td>\n",
       "      <td>K. McMurray, TrackingSharks.com</td>\n",
       "      <td>2020.07.31.c-Tossi..pdf</td>\n",
       "      <td>http://sharkattackfile.net/spreadsheets/pdf_di...</td>\n",
       "      <td>http://sharkattackfile.net/spreadsheets/pdf_di...</td>\n",
       "      <td>2020.07.31.c</td>\n",
       "      <td>2020.07.31.c</td>\n",
       "      <td>6555.0</td>\n",
       "    </tr>\n",
       "  </tbody>\n",
       "</table>\n",
       "<p>5 rows × 22 columns</p>\n",
       "</div>"
      ],
      "text/plain": [
       "    case_number         date    year        type    country             area  \\\n",
       "0    2020.08.20  20-Aug-2020  2020.0  Unprovoked        USA          Florida   \n",
       "1    2020.08.14  14-Aug-2020  2020.0  Unprovoked  AUSTRALIA  New South Wales   \n",
       "2    2020.08.10  10-Aug-2020  2020.0    Provoked        USA          Florida   \n",
       "3    2020.08.02  02-Aug-2020  2020.0  Unprovoked        USA   Virgin Islands   \n",
       "4  2020.07.31.c  31-Jul-2020  2020.0  Unprovoked        USA          Florida   \n",
       "\n",
       "                                  location         activity             name  \\\n",
       "0         New Smyrna Beach, Volusia County  Boogie boarding   Carolina Jones   \n",
       "1             Shelly Beach, Port Macquarie          Surfing  Chantelle Doyle   \n",
       "2  Off Gasparilla Island, Charlotte County          Fishing             male   \n",
       "3                   Candle Reef, St. Croix       Snorkeling     Melony Klein   \n",
       "4         New Smyrna Beach, Volusia County          Surfing      Megan Tossi   \n",
       "\n",
       "  sex  ... fatal   time               species  \\\n",
       "0   F  ...     N  11h00                   NaN   \n",
       "1   F  ...     N  09h30  White shark, 2-to 3m   \n",
       "2   M  ...     N  16h00    Blacktip shark, 6'   \n",
       "3   F  ...     N  14h00       Nurse shark, 5'   \n",
       "4   F  ...     N  17h00                   NaN   \n",
       "\n",
       "            investigator_or_source                         pdf  \\\n",
       "0  K. McMurray, TrackingSharks.com          2020.08.20-NSB.pdf   \n",
       "1                   B. Myatt, GSAF  2020.08.14-ShellyBeach.pdf   \n",
       "2  K. McMurray, TrackingSharks.com     2020.08.10-Provoked.pdf   \n",
       "3  K. McMurray, TrackingSharks.com        2020.08.02-Klein.pdf   \n",
       "4  K. McMurray, TrackingSharks.com     2020.07.31.c-Tossi..pdf   \n",
       "\n",
       "                                        href_formula  \\\n",
       "0  http://sharkattackfile.net/spreadsheets/pdf_di...   \n",
       "1  http://sharkattackfile.net/spreadsheets/pdf_di...   \n",
       "2  http://sharkattackfile.net/spreadsheets/pdf_di...   \n",
       "3  http://sharkattackfile.net/spreadsheets/pdf_di...   \n",
       "4  http://sharkattackfile.net/spreadsheets/pdf_di...   \n",
       "\n",
       "                                                href case_number.1  \\\n",
       "0  http://sharkattackfile.net/spreadsheets/pdf_di...    2020.08.20   \n",
       "1  http://sharkattackfile.net/spreadsheets/pdf_di...    2020.08.14   \n",
       "2  http://sharkattackfile.net/spreadsheets/pdf_di...    2020.08.10   \n",
       "3  http://sharkattackfile.net/spreadsheets/pdf_di...    2020.08.02   \n",
       "4  http://sharkattackfile.net/spreadsheets/pdf_di...  2020.07.31.c   \n",
       "\n",
       "  case_number.2 original_order  \n",
       "0    2020.08.20         6559.0  \n",
       "1    2020.08.14         6558.0  \n",
       "2    2020.08.10         6557.0  \n",
       "3    2020.08.02         6556.0  \n",
       "4  2020.07.31.c         6555.0  \n",
       "\n",
       "[5 rows x 22 columns]"
      ]
     },
     "execution_count": 7,
     "metadata": {},
     "output_type": "execute_result"
    }
   ],
   "source": [
    "# Remove the columns 'unnamed:_22' and 'unnamed:_23'\n",
    "df = df.drop(columns=['unnamed:_22', 'unnamed:_23'])\n",
    "\n",
    "# Check the result\n",
    "df.head()"
   ]
  },
  {
   "cell_type": "markdown",
   "metadata": {},
   "source": [
    "Checking the table above, it is clear that the columns `investigator_or_source`, `pdf`, `href_formula` and `href` will not be relevant to the analysis since they are just information about the source of each incident. Therefore, these columns can be removed."
   ]
  },
  {
   "cell_type": "code",
   "execution_count": 8,
   "metadata": {
    "ExecuteTime": {
     "end_time": "2020-09-06T00:33:30.088893Z",
     "start_time": "2020-09-06T00:33:30.063954Z"
    }
   },
   "outputs": [
    {
     "data": {
      "text/html": [
       "<div>\n",
       "<style scoped>\n",
       "    .dataframe tbody tr th:only-of-type {\n",
       "        vertical-align: middle;\n",
       "    }\n",
       "\n",
       "    .dataframe tbody tr th {\n",
       "        vertical-align: top;\n",
       "    }\n",
       "\n",
       "    .dataframe thead th {\n",
       "        text-align: right;\n",
       "    }\n",
       "</style>\n",
       "<table border=\"1\" class=\"dataframe\">\n",
       "  <thead>\n",
       "    <tr style=\"text-align: right;\">\n",
       "      <th></th>\n",
       "      <th>case_number</th>\n",
       "      <th>date</th>\n",
       "      <th>year</th>\n",
       "      <th>type</th>\n",
       "      <th>country</th>\n",
       "      <th>area</th>\n",
       "      <th>location</th>\n",
       "      <th>activity</th>\n",
       "      <th>name</th>\n",
       "      <th>sex</th>\n",
       "      <th>age</th>\n",
       "      <th>injury</th>\n",
       "      <th>fatal</th>\n",
       "      <th>time</th>\n",
       "      <th>species</th>\n",
       "      <th>case_number.1</th>\n",
       "      <th>case_number.2</th>\n",
       "      <th>original_order</th>\n",
       "    </tr>\n",
       "  </thead>\n",
       "  <tbody>\n",
       "    <tr>\n",
       "      <th>0</th>\n",
       "      <td>2020.08.20</td>\n",
       "      <td>20-Aug-2020</td>\n",
       "      <td>2020.0</td>\n",
       "      <td>Unprovoked</td>\n",
       "      <td>USA</td>\n",
       "      <td>Florida</td>\n",
       "      <td>New Smyrna Beach, Volusia County</td>\n",
       "      <td>Boogie boarding</td>\n",
       "      <td>Carolina Jones</td>\n",
       "      <td>F</td>\n",
       "      <td>50</td>\n",
       "      <td>Minor lacerations to left leg</td>\n",
       "      <td>N</td>\n",
       "      <td>11h00</td>\n",
       "      <td>NaN</td>\n",
       "      <td>2020.08.20</td>\n",
       "      <td>2020.08.20</td>\n",
       "      <td>6559.0</td>\n",
       "    </tr>\n",
       "    <tr>\n",
       "      <th>1</th>\n",
       "      <td>2020.08.14</td>\n",
       "      <td>14-Aug-2020</td>\n",
       "      <td>2020.0</td>\n",
       "      <td>Unprovoked</td>\n",
       "      <td>AUSTRALIA</td>\n",
       "      <td>New South Wales</td>\n",
       "      <td>Shelly Beach, Port Macquarie</td>\n",
       "      <td>Surfing</td>\n",
       "      <td>Chantelle Doyle</td>\n",
       "      <td>F</td>\n",
       "      <td>35</td>\n",
       "      <td>Lacerations to right calf and posterior thigh</td>\n",
       "      <td>N</td>\n",
       "      <td>09h30</td>\n",
       "      <td>White shark, 2-to 3m</td>\n",
       "      <td>2020.08.14</td>\n",
       "      <td>2020.08.14</td>\n",
       "      <td>6558.0</td>\n",
       "    </tr>\n",
       "    <tr>\n",
       "      <th>2</th>\n",
       "      <td>2020.08.10</td>\n",
       "      <td>10-Aug-2020</td>\n",
       "      <td>2020.0</td>\n",
       "      <td>Provoked</td>\n",
       "      <td>USA</td>\n",
       "      <td>Florida</td>\n",
       "      <td>Off Gasparilla Island, Charlotte County</td>\n",
       "      <td>Fishing</td>\n",
       "      <td>male</td>\n",
       "      <td>M</td>\n",
       "      <td>55</td>\n",
       "      <td>Injury to left forearm by hooked shark PROVOKE...</td>\n",
       "      <td>N</td>\n",
       "      <td>16h00</td>\n",
       "      <td>Blacktip shark, 6'</td>\n",
       "      <td>2020.08.10</td>\n",
       "      <td>2020.08.10</td>\n",
       "      <td>6557.0</td>\n",
       "    </tr>\n",
       "    <tr>\n",
       "      <th>3</th>\n",
       "      <td>2020.08.02</td>\n",
       "      <td>02-Aug-2020</td>\n",
       "      <td>2020.0</td>\n",
       "      <td>Unprovoked</td>\n",
       "      <td>USA</td>\n",
       "      <td>Virgin Islands</td>\n",
       "      <td>Candle Reef, St. Croix</td>\n",
       "      <td>Snorkeling</td>\n",
       "      <td>Melony Klein</td>\n",
       "      <td>F</td>\n",
       "      <td>NaN</td>\n",
       "      <td>Lacerations to hand and wrist</td>\n",
       "      <td>N</td>\n",
       "      <td>14h00</td>\n",
       "      <td>Nurse shark, 5'</td>\n",
       "      <td>2020.08.02</td>\n",
       "      <td>2020.08.02</td>\n",
       "      <td>6556.0</td>\n",
       "    </tr>\n",
       "    <tr>\n",
       "      <th>4</th>\n",
       "      <td>2020.07.31.c</td>\n",
       "      <td>31-Jul-2020</td>\n",
       "      <td>2020.0</td>\n",
       "      <td>Unprovoked</td>\n",
       "      <td>USA</td>\n",
       "      <td>Florida</td>\n",
       "      <td>New Smyrna Beach, Volusia County</td>\n",
       "      <td>Surfing</td>\n",
       "      <td>Megan Tossi</td>\n",
       "      <td>F</td>\n",
       "      <td>22</td>\n",
       "      <td>Lacerations to foot</td>\n",
       "      <td>N</td>\n",
       "      <td>17h00</td>\n",
       "      <td>NaN</td>\n",
       "      <td>2020.07.31.c</td>\n",
       "      <td>2020.07.31.c</td>\n",
       "      <td>6555.0</td>\n",
       "    </tr>\n",
       "  </tbody>\n",
       "</table>\n",
       "</div>"
      ],
      "text/plain": [
       "    case_number         date    year        type    country             area  \\\n",
       "0    2020.08.20  20-Aug-2020  2020.0  Unprovoked        USA          Florida   \n",
       "1    2020.08.14  14-Aug-2020  2020.0  Unprovoked  AUSTRALIA  New South Wales   \n",
       "2    2020.08.10  10-Aug-2020  2020.0    Provoked        USA          Florida   \n",
       "3    2020.08.02  02-Aug-2020  2020.0  Unprovoked        USA   Virgin Islands   \n",
       "4  2020.07.31.c  31-Jul-2020  2020.0  Unprovoked        USA          Florida   \n",
       "\n",
       "                                  location         activity             name  \\\n",
       "0         New Smyrna Beach, Volusia County  Boogie boarding   Carolina Jones   \n",
       "1             Shelly Beach, Port Macquarie          Surfing  Chantelle Doyle   \n",
       "2  Off Gasparilla Island, Charlotte County          Fishing             male   \n",
       "3                   Candle Reef, St. Croix       Snorkeling     Melony Klein   \n",
       "4         New Smyrna Beach, Volusia County          Surfing      Megan Tossi   \n",
       "\n",
       "  sex  age                                             injury fatal   time  \\\n",
       "0   F   50                      Minor lacerations to left leg     N  11h00   \n",
       "1   F   35      Lacerations to right calf and posterior thigh     N  09h30   \n",
       "2   M   55  Injury to left forearm by hooked shark PROVOKE...     N  16h00   \n",
       "3   F  NaN                      Lacerations to hand and wrist     N  14h00   \n",
       "4   F   22                               Lacerations to foot      N  17h00   \n",
       "\n",
       "                species case_number.1 case_number.2  original_order  \n",
       "0                   NaN    2020.08.20    2020.08.20          6559.0  \n",
       "1  White shark, 2-to 3m    2020.08.14    2020.08.14          6558.0  \n",
       "2    Blacktip shark, 6'    2020.08.10    2020.08.10          6557.0  \n",
       "3       Nurse shark, 5'    2020.08.02    2020.08.02          6556.0  \n",
       "4                   NaN  2020.07.31.c  2020.07.31.c          6555.0  "
      ]
     },
     "execution_count": 8,
     "metadata": {},
     "output_type": "execute_result"
    }
   ],
   "source": [
    "# Remove the columns 'nvestigator_or_source', 'pdf', 'href_formula' and 'href'\n",
    "df = df.drop(columns=['investigator_or_source', 'pdf', 'href_formula', 'href'])\n",
    "\n",
    "# Check the result\n",
    "df.head()"
   ]
  },
  {
   "cell_type": "markdown",
   "metadata": {},
   "source": [
    "The content of columns `case_number`, `case_number.1`, `case_number.2` and `original_order` is just a way to reference each case and is not relevant to the analysis. So, they will also be removed."
   ]
  },
  {
   "cell_type": "code",
   "execution_count": 9,
   "metadata": {
    "ExecuteTime": {
     "end_time": "2020-09-06T00:33:30.110842Z",
     "start_time": "2020-09-06T00:33:30.091876Z"
    }
   },
   "outputs": [
    {
     "data": {
      "text/html": [
       "<div>\n",
       "<style scoped>\n",
       "    .dataframe tbody tr th:only-of-type {\n",
       "        vertical-align: middle;\n",
       "    }\n",
       "\n",
       "    .dataframe tbody tr th {\n",
       "        vertical-align: top;\n",
       "    }\n",
       "\n",
       "    .dataframe thead th {\n",
       "        text-align: right;\n",
       "    }\n",
       "</style>\n",
       "<table border=\"1\" class=\"dataframe\">\n",
       "  <thead>\n",
       "    <tr style=\"text-align: right;\">\n",
       "      <th></th>\n",
       "      <th>date</th>\n",
       "      <th>year</th>\n",
       "      <th>type</th>\n",
       "      <th>country</th>\n",
       "      <th>area</th>\n",
       "      <th>location</th>\n",
       "      <th>activity</th>\n",
       "      <th>name</th>\n",
       "      <th>sex</th>\n",
       "      <th>age</th>\n",
       "      <th>injury</th>\n",
       "      <th>fatal</th>\n",
       "      <th>time</th>\n",
       "      <th>species</th>\n",
       "    </tr>\n",
       "  </thead>\n",
       "  <tbody>\n",
       "    <tr>\n",
       "      <th>0</th>\n",
       "      <td>20-Aug-2020</td>\n",
       "      <td>2020.0</td>\n",
       "      <td>Unprovoked</td>\n",
       "      <td>USA</td>\n",
       "      <td>Florida</td>\n",
       "      <td>New Smyrna Beach, Volusia County</td>\n",
       "      <td>Boogie boarding</td>\n",
       "      <td>Carolina Jones</td>\n",
       "      <td>F</td>\n",
       "      <td>50</td>\n",
       "      <td>Minor lacerations to left leg</td>\n",
       "      <td>N</td>\n",
       "      <td>11h00</td>\n",
       "      <td>NaN</td>\n",
       "    </tr>\n",
       "    <tr>\n",
       "      <th>1</th>\n",
       "      <td>14-Aug-2020</td>\n",
       "      <td>2020.0</td>\n",
       "      <td>Unprovoked</td>\n",
       "      <td>AUSTRALIA</td>\n",
       "      <td>New South Wales</td>\n",
       "      <td>Shelly Beach, Port Macquarie</td>\n",
       "      <td>Surfing</td>\n",
       "      <td>Chantelle Doyle</td>\n",
       "      <td>F</td>\n",
       "      <td>35</td>\n",
       "      <td>Lacerations to right calf and posterior thigh</td>\n",
       "      <td>N</td>\n",
       "      <td>09h30</td>\n",
       "      <td>White shark, 2-to 3m</td>\n",
       "    </tr>\n",
       "    <tr>\n",
       "      <th>2</th>\n",
       "      <td>10-Aug-2020</td>\n",
       "      <td>2020.0</td>\n",
       "      <td>Provoked</td>\n",
       "      <td>USA</td>\n",
       "      <td>Florida</td>\n",
       "      <td>Off Gasparilla Island, Charlotte County</td>\n",
       "      <td>Fishing</td>\n",
       "      <td>male</td>\n",
       "      <td>M</td>\n",
       "      <td>55</td>\n",
       "      <td>Injury to left forearm by hooked shark PROVOKE...</td>\n",
       "      <td>N</td>\n",
       "      <td>16h00</td>\n",
       "      <td>Blacktip shark, 6'</td>\n",
       "    </tr>\n",
       "    <tr>\n",
       "      <th>3</th>\n",
       "      <td>02-Aug-2020</td>\n",
       "      <td>2020.0</td>\n",
       "      <td>Unprovoked</td>\n",
       "      <td>USA</td>\n",
       "      <td>Virgin Islands</td>\n",
       "      <td>Candle Reef, St. Croix</td>\n",
       "      <td>Snorkeling</td>\n",
       "      <td>Melony Klein</td>\n",
       "      <td>F</td>\n",
       "      <td>NaN</td>\n",
       "      <td>Lacerations to hand and wrist</td>\n",
       "      <td>N</td>\n",
       "      <td>14h00</td>\n",
       "      <td>Nurse shark, 5'</td>\n",
       "    </tr>\n",
       "    <tr>\n",
       "      <th>4</th>\n",
       "      <td>31-Jul-2020</td>\n",
       "      <td>2020.0</td>\n",
       "      <td>Unprovoked</td>\n",
       "      <td>USA</td>\n",
       "      <td>Florida</td>\n",
       "      <td>New Smyrna Beach, Volusia County</td>\n",
       "      <td>Surfing</td>\n",
       "      <td>Megan Tossi</td>\n",
       "      <td>F</td>\n",
       "      <td>22</td>\n",
       "      <td>Lacerations to foot</td>\n",
       "      <td>N</td>\n",
       "      <td>17h00</td>\n",
       "      <td>NaN</td>\n",
       "    </tr>\n",
       "  </tbody>\n",
       "</table>\n",
       "</div>"
      ],
      "text/plain": [
       "          date    year        type    country             area  \\\n",
       "0  20-Aug-2020  2020.0  Unprovoked        USA          Florida   \n",
       "1  14-Aug-2020  2020.0  Unprovoked  AUSTRALIA  New South Wales   \n",
       "2  10-Aug-2020  2020.0    Provoked        USA          Florida   \n",
       "3  02-Aug-2020  2020.0  Unprovoked        USA   Virgin Islands   \n",
       "4  31-Jul-2020  2020.0  Unprovoked        USA          Florida   \n",
       "\n",
       "                                  location         activity             name  \\\n",
       "0         New Smyrna Beach, Volusia County  Boogie boarding   Carolina Jones   \n",
       "1             Shelly Beach, Port Macquarie          Surfing  Chantelle Doyle   \n",
       "2  Off Gasparilla Island, Charlotte County          Fishing             male   \n",
       "3                   Candle Reef, St. Croix       Snorkeling     Melony Klein   \n",
       "4         New Smyrna Beach, Volusia County          Surfing      Megan Tossi   \n",
       "\n",
       "  sex  age                                             injury fatal   time  \\\n",
       "0   F   50                      Minor lacerations to left leg     N  11h00   \n",
       "1   F   35      Lacerations to right calf and posterior thigh     N  09h30   \n",
       "2   M   55  Injury to left forearm by hooked shark PROVOKE...     N  16h00   \n",
       "3   F  NaN                      Lacerations to hand and wrist     N  14h00   \n",
       "4   F   22                               Lacerations to foot      N  17h00   \n",
       "\n",
       "                species  \n",
       "0                   NaN  \n",
       "1  White shark, 2-to 3m  \n",
       "2    Blacktip shark, 6'  \n",
       "3       Nurse shark, 5'  \n",
       "4                   NaN  "
      ]
     },
     "execution_count": 9,
     "metadata": {},
     "output_type": "execute_result"
    }
   ],
   "source": [
    "# Remove the columns 'case_number', 'case_number.1', 'case_number.2' and 'original_order'\n",
    "df = df.drop(columns=['case_number', 'case_number.1', 'case_number.2', 'original_order'])\n",
    "\n",
    "# Check the result\n",
    "df.head()"
   ]
  },
  {
   "cell_type": "markdown",
   "metadata": {},
   "source": [
    "After removing the unnecessary columns, the information about the new dataframe is shown below."
   ]
  },
  {
   "cell_type": "markdown",
   "metadata": {},
   "source": [
    "The column `name` is also irrelevant, since there will not be a specific analysis of each individual. So, this column can be removed."
   ]
  },
  {
   "cell_type": "code",
   "execution_count": 10,
   "metadata": {
    "ExecuteTime": {
     "end_time": "2020-09-06T00:33:30.130771Z",
     "start_time": "2020-09-06T00:33:30.112820Z"
    }
   },
   "outputs": [
    {
     "data": {
      "text/html": [
       "<div>\n",
       "<style scoped>\n",
       "    .dataframe tbody tr th:only-of-type {\n",
       "        vertical-align: middle;\n",
       "    }\n",
       "\n",
       "    .dataframe tbody tr th {\n",
       "        vertical-align: top;\n",
       "    }\n",
       "\n",
       "    .dataframe thead th {\n",
       "        text-align: right;\n",
       "    }\n",
       "</style>\n",
       "<table border=\"1\" class=\"dataframe\">\n",
       "  <thead>\n",
       "    <tr style=\"text-align: right;\">\n",
       "      <th></th>\n",
       "      <th>date</th>\n",
       "      <th>year</th>\n",
       "      <th>type</th>\n",
       "      <th>country</th>\n",
       "      <th>area</th>\n",
       "      <th>location</th>\n",
       "      <th>activity</th>\n",
       "      <th>sex</th>\n",
       "      <th>age</th>\n",
       "      <th>injury</th>\n",
       "      <th>fatal</th>\n",
       "      <th>time</th>\n",
       "      <th>species</th>\n",
       "    </tr>\n",
       "  </thead>\n",
       "  <tbody>\n",
       "    <tr>\n",
       "      <th>0</th>\n",
       "      <td>20-Aug-2020</td>\n",
       "      <td>2020.0</td>\n",
       "      <td>Unprovoked</td>\n",
       "      <td>USA</td>\n",
       "      <td>Florida</td>\n",
       "      <td>New Smyrna Beach, Volusia County</td>\n",
       "      <td>Boogie boarding</td>\n",
       "      <td>F</td>\n",
       "      <td>50</td>\n",
       "      <td>Minor lacerations to left leg</td>\n",
       "      <td>N</td>\n",
       "      <td>11h00</td>\n",
       "      <td>NaN</td>\n",
       "    </tr>\n",
       "    <tr>\n",
       "      <th>1</th>\n",
       "      <td>14-Aug-2020</td>\n",
       "      <td>2020.0</td>\n",
       "      <td>Unprovoked</td>\n",
       "      <td>AUSTRALIA</td>\n",
       "      <td>New South Wales</td>\n",
       "      <td>Shelly Beach, Port Macquarie</td>\n",
       "      <td>Surfing</td>\n",
       "      <td>F</td>\n",
       "      <td>35</td>\n",
       "      <td>Lacerations to right calf and posterior thigh</td>\n",
       "      <td>N</td>\n",
       "      <td>09h30</td>\n",
       "      <td>White shark, 2-to 3m</td>\n",
       "    </tr>\n",
       "    <tr>\n",
       "      <th>2</th>\n",
       "      <td>10-Aug-2020</td>\n",
       "      <td>2020.0</td>\n",
       "      <td>Provoked</td>\n",
       "      <td>USA</td>\n",
       "      <td>Florida</td>\n",
       "      <td>Off Gasparilla Island, Charlotte County</td>\n",
       "      <td>Fishing</td>\n",
       "      <td>M</td>\n",
       "      <td>55</td>\n",
       "      <td>Injury to left forearm by hooked shark PROVOKE...</td>\n",
       "      <td>N</td>\n",
       "      <td>16h00</td>\n",
       "      <td>Blacktip shark, 6'</td>\n",
       "    </tr>\n",
       "    <tr>\n",
       "      <th>3</th>\n",
       "      <td>02-Aug-2020</td>\n",
       "      <td>2020.0</td>\n",
       "      <td>Unprovoked</td>\n",
       "      <td>USA</td>\n",
       "      <td>Virgin Islands</td>\n",
       "      <td>Candle Reef, St. Croix</td>\n",
       "      <td>Snorkeling</td>\n",
       "      <td>F</td>\n",
       "      <td>NaN</td>\n",
       "      <td>Lacerations to hand and wrist</td>\n",
       "      <td>N</td>\n",
       "      <td>14h00</td>\n",
       "      <td>Nurse shark, 5'</td>\n",
       "    </tr>\n",
       "    <tr>\n",
       "      <th>4</th>\n",
       "      <td>31-Jul-2020</td>\n",
       "      <td>2020.0</td>\n",
       "      <td>Unprovoked</td>\n",
       "      <td>USA</td>\n",
       "      <td>Florida</td>\n",
       "      <td>New Smyrna Beach, Volusia County</td>\n",
       "      <td>Surfing</td>\n",
       "      <td>F</td>\n",
       "      <td>22</td>\n",
       "      <td>Lacerations to foot</td>\n",
       "      <td>N</td>\n",
       "      <td>17h00</td>\n",
       "      <td>NaN</td>\n",
       "    </tr>\n",
       "  </tbody>\n",
       "</table>\n",
       "</div>"
      ],
      "text/plain": [
       "          date    year        type    country             area  \\\n",
       "0  20-Aug-2020  2020.0  Unprovoked        USA          Florida   \n",
       "1  14-Aug-2020  2020.0  Unprovoked  AUSTRALIA  New South Wales   \n",
       "2  10-Aug-2020  2020.0    Provoked        USA          Florida   \n",
       "3  02-Aug-2020  2020.0  Unprovoked        USA   Virgin Islands   \n",
       "4  31-Jul-2020  2020.0  Unprovoked        USA          Florida   \n",
       "\n",
       "                                  location         activity sex  age  \\\n",
       "0         New Smyrna Beach, Volusia County  Boogie boarding   F   50   \n",
       "1             Shelly Beach, Port Macquarie          Surfing   F   35   \n",
       "2  Off Gasparilla Island, Charlotte County          Fishing   M   55   \n",
       "3                   Candle Reef, St. Croix       Snorkeling   F  NaN   \n",
       "4         New Smyrna Beach, Volusia County          Surfing   F   22   \n",
       "\n",
       "                                              injury fatal   time  \\\n",
       "0                      Minor lacerations to left leg     N  11h00   \n",
       "1      Lacerations to right calf and posterior thigh     N  09h30   \n",
       "2  Injury to left forearm by hooked shark PROVOKE...     N  16h00   \n",
       "3                      Lacerations to hand and wrist     N  14h00   \n",
       "4                               Lacerations to foot      N  17h00   \n",
       "\n",
       "                species  \n",
       "0                   NaN  \n",
       "1  White shark, 2-to 3m  \n",
       "2    Blacktip shark, 6'  \n",
       "3       Nurse shark, 5'  \n",
       "4                   NaN  "
      ]
     },
     "execution_count": 10,
     "metadata": {},
     "output_type": "execute_result"
    }
   ],
   "source": [
    "# Remove column 'name'\n",
    "df = df.drop(columns='name')\n",
    "\n",
    "# Check the result\n",
    "df.head()"
   ]
  },
  {
   "cell_type": "code",
   "execution_count": 11,
   "metadata": {
    "ExecuteTime": {
     "end_time": "2020-09-06T00:33:30.148724Z",
     "start_time": "2020-09-06T00:33:30.131768Z"
    }
   },
   "outputs": [
    {
     "name": "stdout",
     "output_type": "stream",
     "text": [
      "<class 'pandas.core.frame.DataFrame'>\n",
      "RangeIndex: 25792 entries, 0 to 25791\n",
      "Data columns (total 13 columns):\n",
      " #   Column    Non-Null Count  Dtype  \n",
      "---  ------    --------------  -----  \n",
      " 0   date      6558 non-null   object \n",
      " 1   year      6556 non-null   float64\n",
      " 2   type      6552 non-null   object \n",
      " 3   country   6508 non-null   object \n",
      " 4   area      6091 non-null   object \n",
      " 5   location  6008 non-null   object \n",
      " 6   activity  6002 non-null   object \n",
      " 7   sex       5987 non-null   object \n",
      " 8   age       3660 non-null   object \n",
      " 9   injury    6528 non-null   object \n",
      " 10  fatal     6006 non-null   object \n",
      " 11  time      3139 non-null   object \n",
      " 12  species   3610 non-null   object \n",
      "dtypes: float64(1), object(12)\n",
      "memory usage: 2.6+ MB\n"
     ]
    }
   ],
   "source": [
    "# Check information about the dataset\n",
    "df.info()"
   ]
  },
  {
   "cell_type": "markdown",
   "metadata": {},
   "source": [
    "## Rows"
   ]
  },
  {
   "cell_type": "markdown",
   "metadata": {},
   "source": [
    "### Rows containing only missing values"
   ]
  },
  {
   "cell_type": "markdown",
   "metadata": {},
   "source": [
    "There is total of 25792 lines, but all columns do not have even 9,000 rows with `non-NaN`. So,as mentioned before, there are a lot of rows that only contains missing values `NaN` and they can be removed. "
   ]
  },
  {
   "cell_type": "code",
   "execution_count": 12,
   "metadata": {
    "ExecuteTime": {
     "end_time": "2020-09-06T00:33:30.179642Z",
     "start_time": "2020-09-06T00:33:30.149721Z"
    }
   },
   "outputs": [
    {
     "name": "stdout",
     "output_type": "stream",
     "text": [
      "Number of rows after removing the rows containing only missing values: 6558\n",
      "\n",
      "<class 'pandas.core.frame.DataFrame'>\n",
      "Int64Index: 6558 entries, 0 to 6557\n",
      "Data columns (total 13 columns):\n",
      " #   Column    Non-Null Count  Dtype  \n",
      "---  ------    --------------  -----  \n",
      " 0   date      6558 non-null   object \n",
      " 1   year      6556 non-null   float64\n",
      " 2   type      6552 non-null   object \n",
      " 3   country   6508 non-null   object \n",
      " 4   area      6091 non-null   object \n",
      " 5   location  6008 non-null   object \n",
      " 6   activity  6002 non-null   object \n",
      " 7   sex       5987 non-null   object \n",
      " 8   age       3660 non-null   object \n",
      " 9   injury    6528 non-null   object \n",
      " 10  fatal     6006 non-null   object \n",
      " 11  time      3139 non-null   object \n",
      " 12  species   3610 non-null   object \n",
      "dtypes: float64(1), object(12)\n",
      "memory usage: 717.3+ KB\n"
     ]
    }
   ],
   "source": [
    "# Remove all rows that contains only NaN\n",
    "df = df.dropna(how='all')\n",
    "\n",
    "# Check the result\n",
    "print(f'Number of rows after removing the rows containing only missing values: {df.shape[0]}\\n')\n",
    "\n",
    "# Check information about the dataframe\n",
    "df.info()"
   ]
  },
  {
   "cell_type": "markdown",
   "metadata": {},
   "source": [
    "### Duplicate rows"
   ]
  },
  {
   "cell_type": "code",
   "execution_count": 13,
   "metadata": {
    "ExecuteTime": {
     "end_time": "2020-09-06T00:33:30.198590Z",
     "start_time": "2020-09-06T00:33:30.180638Z"
    }
   },
   "outputs": [
    {
     "data": {
      "text/plain": [
       "7"
      ]
     },
     "execution_count": 13,
     "metadata": {},
     "output_type": "execute_result"
    }
   ],
   "source": [
    "# Check if there are duplicate rows\n",
    "df.duplicated().sum()"
   ]
  },
  {
   "cell_type": "code",
   "execution_count": 14,
   "metadata": {
    "ExecuteTime": {
     "end_time": "2020-09-06T00:33:30.228510Z",
     "start_time": "2020-09-06T00:33:30.200585Z"
    }
   },
   "outputs": [
    {
     "data": {
      "text/html": [
       "<div>\n",
       "<style scoped>\n",
       "    .dataframe tbody tr th:only-of-type {\n",
       "        vertical-align: middle;\n",
       "    }\n",
       "\n",
       "    .dataframe tbody tr th {\n",
       "        vertical-align: top;\n",
       "    }\n",
       "\n",
       "    .dataframe thead th {\n",
       "        text-align: right;\n",
       "    }\n",
       "</style>\n",
       "<table border=\"1\" class=\"dataframe\">\n",
       "  <thead>\n",
       "    <tr style=\"text-align: right;\">\n",
       "      <th></th>\n",
       "      <th>date</th>\n",
       "      <th>year</th>\n",
       "      <th>type</th>\n",
       "      <th>country</th>\n",
       "      <th>area</th>\n",
       "      <th>location</th>\n",
       "      <th>activity</th>\n",
       "      <th>sex</th>\n",
       "      <th>age</th>\n",
       "      <th>injury</th>\n",
       "      <th>fatal</th>\n",
       "      <th>time</th>\n",
       "      <th>species</th>\n",
       "    </tr>\n",
       "  </thead>\n",
       "  <tbody>\n",
       "    <tr>\n",
       "      <th>3577</th>\n",
       "      <td>Reported 26-Jun-1972</td>\n",
       "      <td>1972.0</td>\n",
       "      <td>Unprovoked</td>\n",
       "      <td>AUSTRALIA</td>\n",
       "      <td>Queensland</td>\n",
       "      <td>Pancake Creek</td>\n",
       "      <td>NaN</td>\n",
       "      <td>M</td>\n",
       "      <td>NaN</td>\n",
       "      <td>FATAL</td>\n",
       "      <td>Y</td>\n",
       "      <td>NaN</td>\n",
       "      <td>NaN</td>\n",
       "    </tr>\n",
       "    <tr>\n",
       "      <th>3578</th>\n",
       "      <td>Reported 26-Jun-1972</td>\n",
       "      <td>1972.0</td>\n",
       "      <td>Unprovoked</td>\n",
       "      <td>AUSTRALIA</td>\n",
       "      <td>Queensland</td>\n",
       "      <td>Pancake Creek</td>\n",
       "      <td>NaN</td>\n",
       "      <td>M</td>\n",
       "      <td>NaN</td>\n",
       "      <td>FATAL</td>\n",
       "      <td>Y</td>\n",
       "      <td>NaN</td>\n",
       "      <td>NaN</td>\n",
       "    </tr>\n",
       "    <tr>\n",
       "      <th>3622</th>\n",
       "      <td>1971</td>\n",
       "      <td>1971.0</td>\n",
       "      <td>Unprovoked</td>\n",
       "      <td>IRAN</td>\n",
       "      <td>Khuzestan Province</td>\n",
       "      <td>Ahvaz, on the Karun River</td>\n",
       "      <td>NaN</td>\n",
       "      <td>M</td>\n",
       "      <td>NaN</td>\n",
       "      <td>Survived</td>\n",
       "      <td>N</td>\n",
       "      <td>NaN</td>\n",
       "      <td>NaN</td>\n",
       "    </tr>\n",
       "    <tr>\n",
       "      <th>3623</th>\n",
       "      <td>1971</td>\n",
       "      <td>1971.0</td>\n",
       "      <td>Unprovoked</td>\n",
       "      <td>IRAN</td>\n",
       "      <td>Khuzestan Province</td>\n",
       "      <td>Ahvaz, on the Karun River</td>\n",
       "      <td>NaN</td>\n",
       "      <td>M</td>\n",
       "      <td>NaN</td>\n",
       "      <td>Survived</td>\n",
       "      <td>N</td>\n",
       "      <td>NaN</td>\n",
       "      <td>NaN</td>\n",
       "    </tr>\n",
       "    <tr>\n",
       "      <th>4490</th>\n",
       "      <td>Aug-1956</td>\n",
       "      <td>1956.0</td>\n",
       "      <td>Provoked</td>\n",
       "      <td>UNITED KINGDOM</td>\n",
       "      <td>Cornwall</td>\n",
       "      <td>The Lizard</td>\n",
       "      <td>Attempting to kill a shark with explosives</td>\n",
       "      <td>M</td>\n",
       "      <td>NaN</td>\n",
       "      <td>FATAL, PROVOKED INCIDENT</td>\n",
       "      <td>Y</td>\n",
       "      <td>NaN</td>\n",
       "      <td>NaN</td>\n",
       "    </tr>\n",
       "    <tr>\n",
       "      <th>4491</th>\n",
       "      <td>Aug-1956</td>\n",
       "      <td>1956.0</td>\n",
       "      <td>Provoked</td>\n",
       "      <td>UNITED KINGDOM</td>\n",
       "      <td>Cornwall</td>\n",
       "      <td>The Lizard</td>\n",
       "      <td>Attempting to kill a shark with explosives</td>\n",
       "      <td>M</td>\n",
       "      <td>NaN</td>\n",
       "      <td>FATAL, PROVOKED INCIDENT</td>\n",
       "      <td>Y</td>\n",
       "      <td>NaN</td>\n",
       "      <td>NaN</td>\n",
       "    </tr>\n",
       "    <tr>\n",
       "      <th>4940</th>\n",
       "      <td>Fall 1943</td>\n",
       "      <td>1943.0</td>\n",
       "      <td>Unprovoked</td>\n",
       "      <td>USA</td>\n",
       "      <td>Hawaii</td>\n",
       "      <td>Midway Island, Northwestern Hawaiian Islands</td>\n",
       "      <td>Spearfishing</td>\n",
       "      <td>M</td>\n",
       "      <td>NaN</td>\n",
       "      <td>Calf nipped in each case</td>\n",
       "      <td>N</td>\n",
       "      <td>NaN</td>\n",
       "      <td>\"small sharks\"</td>\n",
       "    </tr>\n",
       "    <tr>\n",
       "      <th>4941</th>\n",
       "      <td>Fall 1943</td>\n",
       "      <td>1943.0</td>\n",
       "      <td>Unprovoked</td>\n",
       "      <td>USA</td>\n",
       "      <td>Hawaii</td>\n",
       "      <td>Midway Island, Northwestern Hawaiian Islands</td>\n",
       "      <td>Spearfishing</td>\n",
       "      <td>M</td>\n",
       "      <td>NaN</td>\n",
       "      <td>Calf nipped in each case</td>\n",
       "      <td>N</td>\n",
       "      <td>NaN</td>\n",
       "      <td>\"small sharks\"</td>\n",
       "    </tr>\n",
       "    <tr>\n",
       "      <th>5719</th>\n",
       "      <td>Reported 10-Oct-1906</td>\n",
       "      <td>1906.0</td>\n",
       "      <td>Unprovoked</td>\n",
       "      <td>USA</td>\n",
       "      <td>Hawaii</td>\n",
       "      <td>NaN</td>\n",
       "      <td>Swimming</td>\n",
       "      <td>M</td>\n",
       "      <td>NaN</td>\n",
       "      <td>FATAL</td>\n",
       "      <td>Y</td>\n",
       "      <td>NaN</td>\n",
       "      <td>NaN</td>\n",
       "    </tr>\n",
       "    <tr>\n",
       "      <th>5721</th>\n",
       "      <td>Reported 10-Oct-1906</td>\n",
       "      <td>1906.0</td>\n",
       "      <td>Unprovoked</td>\n",
       "      <td>USA</td>\n",
       "      <td>Hawaii</td>\n",
       "      <td>NaN</td>\n",
       "      <td>Swimming</td>\n",
       "      <td>M</td>\n",
       "      <td>NaN</td>\n",
       "      <td>FATAL</td>\n",
       "      <td>Y</td>\n",
       "      <td>NaN</td>\n",
       "      <td>NaN</td>\n",
       "    </tr>\n",
       "    <tr>\n",
       "      <th>5962</th>\n",
       "      <td>1890</td>\n",
       "      <td>1890.0</td>\n",
       "      <td>Unprovoked</td>\n",
       "      <td>INDIA</td>\n",
       "      <td>Tamil Nadu</td>\n",
       "      <td>Tuticorin</td>\n",
       "      <td>Diving</td>\n",
       "      <td>M</td>\n",
       "      <td>NaN</td>\n",
       "      <td>No details</td>\n",
       "      <td>UNKNOWN</td>\n",
       "      <td>NaN</td>\n",
       "      <td>NaN</td>\n",
       "    </tr>\n",
       "    <tr>\n",
       "      <th>5963</th>\n",
       "      <td>1890</td>\n",
       "      <td>1890.0</td>\n",
       "      <td>Unprovoked</td>\n",
       "      <td>INDIA</td>\n",
       "      <td>Tamil Nadu</td>\n",
       "      <td>Tuticorin</td>\n",
       "      <td>Diving</td>\n",
       "      <td>M</td>\n",
       "      <td>NaN</td>\n",
       "      <td>No details</td>\n",
       "      <td>UNKNOWN</td>\n",
       "      <td>NaN</td>\n",
       "      <td>NaN</td>\n",
       "    </tr>\n",
       "    <tr>\n",
       "      <th>6215</th>\n",
       "      <td>1863</td>\n",
       "      <td>1863.0</td>\n",
       "      <td>Unprovoked</td>\n",
       "      <td>CEYLON</td>\n",
       "      <td>NaN</td>\n",
       "      <td>NaN</td>\n",
       "      <td>Fell overboard</td>\n",
       "      <td>M</td>\n",
       "      <td>NaN</td>\n",
       "      <td>FATAL</td>\n",
       "      <td>Y</td>\n",
       "      <td>NaN</td>\n",
       "      <td>NaN</td>\n",
       "    </tr>\n",
       "    <tr>\n",
       "      <th>6216</th>\n",
       "      <td>1863</td>\n",
       "      <td>1863.0</td>\n",
       "      <td>Unprovoked</td>\n",
       "      <td>CEYLON</td>\n",
       "      <td>NaN</td>\n",
       "      <td>NaN</td>\n",
       "      <td>Fell overboard</td>\n",
       "      <td>M</td>\n",
       "      <td>NaN</td>\n",
       "      <td>FATAL</td>\n",
       "      <td>Y</td>\n",
       "      <td>NaN</td>\n",
       "      <td>NaN</td>\n",
       "    </tr>\n",
       "  </tbody>\n",
       "</table>\n",
       "</div>"
      ],
      "text/plain": [
       "                      date    year        type         country  \\\n",
       "3577  Reported 26-Jun-1972  1972.0  Unprovoked       AUSTRALIA   \n",
       "3578  Reported 26-Jun-1972  1972.0  Unprovoked       AUSTRALIA   \n",
       "3622                  1971  1971.0  Unprovoked            IRAN   \n",
       "3623                  1971  1971.0  Unprovoked            IRAN   \n",
       "4490              Aug-1956  1956.0    Provoked  UNITED KINGDOM   \n",
       "4491              Aug-1956  1956.0    Provoked  UNITED KINGDOM   \n",
       "4940             Fall 1943  1943.0  Unprovoked             USA   \n",
       "4941             Fall 1943  1943.0  Unprovoked             USA   \n",
       "5719  Reported 10-Oct-1906  1906.0  Unprovoked             USA   \n",
       "5721  Reported 10-Oct-1906  1906.0  Unprovoked             USA   \n",
       "5962                  1890  1890.0  Unprovoked           INDIA   \n",
       "5963                  1890  1890.0  Unprovoked           INDIA   \n",
       "6215                  1863  1863.0  Unprovoked          CEYLON   \n",
       "6216                  1863  1863.0  Unprovoked          CEYLON   \n",
       "\n",
       "                    area                                      location  \\\n",
       "3577          Queensland                                 Pancake Creek   \n",
       "3578          Queensland                                 Pancake Creek   \n",
       "3622  Khuzestan Province                     Ahvaz, on the Karun River   \n",
       "3623  Khuzestan Province                     Ahvaz, on the Karun River   \n",
       "4490            Cornwall                                    The Lizard   \n",
       "4491            Cornwall                                    The Lizard   \n",
       "4940              Hawaii  Midway Island, Northwestern Hawaiian Islands   \n",
       "4941              Hawaii  Midway Island, Northwestern Hawaiian Islands   \n",
       "5719              Hawaii                                           NaN   \n",
       "5721              Hawaii                                           NaN   \n",
       "5962          Tamil Nadu                                     Tuticorin   \n",
       "5963          Tamil Nadu                                     Tuticorin   \n",
       "6215                 NaN                                           NaN   \n",
       "6216                 NaN                                           NaN   \n",
       "\n",
       "                                        activity sex  age  \\\n",
       "3577                                         NaN   M  NaN   \n",
       "3578                                         NaN   M  NaN   \n",
       "3622                                         NaN   M  NaN   \n",
       "3623                                         NaN   M  NaN   \n",
       "4490  Attempting to kill a shark with explosives   M  NaN   \n",
       "4491  Attempting to kill a shark with explosives   M  NaN   \n",
       "4940                                Spearfishing   M  NaN   \n",
       "4941                                Spearfishing   M  NaN   \n",
       "5719                                    Swimming   M  NaN   \n",
       "5721                                    Swimming   M  NaN   \n",
       "5962                                      Diving   M  NaN   \n",
       "5963                                      Diving   M  NaN   \n",
       "6215                              Fell overboard   M  NaN   \n",
       "6216                              Fell overboard   M  NaN   \n",
       "\n",
       "                        injury    fatal time         species  \n",
       "3577                     FATAL        Y  NaN             NaN  \n",
       "3578                     FATAL        Y  NaN             NaN  \n",
       "3622                  Survived        N  NaN             NaN  \n",
       "3623                  Survived        N  NaN             NaN  \n",
       "4490  FATAL, PROVOKED INCIDENT        Y  NaN             NaN  \n",
       "4491  FATAL, PROVOKED INCIDENT        Y  NaN             NaN  \n",
       "4940  Calf nipped in each case        N  NaN  \"small sharks\"  \n",
       "4941  Calf nipped in each case        N  NaN  \"small sharks\"  \n",
       "5719                     FATAL        Y  NaN             NaN  \n",
       "5721                     FATAL        Y  NaN             NaN  \n",
       "5962                No details  UNKNOWN  NaN             NaN  \n",
       "5963                No details  UNKNOWN  NaN             NaN  \n",
       "6215                     FATAL        Y  NaN             NaN  \n",
       "6216                     FATAL        Y  NaN             NaN  "
      ]
     },
     "execution_count": 14,
     "metadata": {},
     "output_type": "execute_result"
    }
   ],
   "source": [
    "# Check duplicated rows\n",
    "df[df.duplicated(keep=False)]"
   ]
  },
  {
   "cell_type": "markdown",
   "metadata": {},
   "source": [
    "As shown above, there are some rows that are duplicated. Therefore, they can be removed."
   ]
  },
  {
   "cell_type": "code",
   "execution_count": 15,
   "metadata": {
    "ExecuteTime": {
     "end_time": "2020-09-06T00:33:30.251449Z",
     "start_time": "2020-09-06T00:33:30.229507Z"
    }
   },
   "outputs": [
    {
     "data": {
      "text/plain": [
       "0"
      ]
     },
     "execution_count": 15,
     "metadata": {},
     "output_type": "execute_result"
    }
   ],
   "source": [
    "# Remove duplicated rows\n",
    "df = df.drop_duplicates(keep='first')\n",
    "\n",
    "# Check the result\n",
    "df.duplicated().sum()"
   ]
  },
  {
   "cell_type": "code",
   "execution_count": 16,
   "metadata": {
    "ExecuteTime": {
     "end_time": "2020-09-06T00:33:30.256435Z",
     "start_time": "2020-09-06T00:33:30.252447Z"
    }
   },
   "outputs": [
    {
     "name": "stdout",
     "output_type": "stream",
     "text": [
      "After removing the duplicates, the dataframe has 6551 rows.\n"
     ]
    }
   ],
   "source": [
    "# Check the new number of rows\n",
    "n_rows = df.shape[0]\n",
    "print(f'After removing the duplicates, the dataframe has {n_rows} rows.')"
   ]
  },
  {
   "cell_type": "markdown",
   "metadata": {},
   "source": [
    "# Specific Data Cleaning & Manipulation - Columns"
   ]
  },
  {
   "cell_type": "markdown",
   "metadata": {},
   "source": [
    "## Gender"
   ]
  },
  {
   "cell_type": "markdown",
   "metadata": {},
   "source": [
    "The gender is represented by the column `sex`."
   ]
  },
  {
   "cell_type": "code",
   "execution_count": 17,
   "metadata": {
    "ExecuteTime": {
     "end_time": "2020-09-06T00:33:30.262420Z",
     "start_time": "2020-09-06T00:33:30.257433Z"
    }
   },
   "outputs": [
    {
     "name": "stdout",
     "output_type": "stream",
     "text": [
      "['F' 'M' nan 'M ' 'lli' 'M x 2' 'N' '.']\n"
     ]
    }
   ],
   "source": [
    "# Check the unique values in the column\n",
    "print(df.sex.unique())"
   ]
  },
  {
   "cell_type": "code",
   "execution_count": 18,
   "metadata": {
    "ExecuteTime": {
     "end_time": "2020-09-06T00:33:30.274388Z",
     "start_time": "2020-09-06T00:33:30.264414Z"
    }
   },
   "outputs": [
    {
     "data": {
      "text/plain": [
       "M        5280\n",
       "F         693\n",
       "NaN       571\n",
       "M           2\n",
       "N           2\n",
       ".           1\n",
       "M x 2       1\n",
       "lli         1\n",
       "Name: sex, dtype: int64"
      ]
     },
     "execution_count": 18,
     "metadata": {},
     "output_type": "execute_result"
    }
   ],
   "source": [
    "# Check the number of each value\n",
    "df.sex.value_counts(dropna=False)"
   ]
  },
  {
   "cell_type": "code",
   "execution_count": 19,
   "metadata": {
    "ExecuteTime": {
     "end_time": "2020-09-06T00:33:30.289347Z",
     "start_time": "2020-09-06T00:33:30.275385Z"
    }
   },
   "outputs": [
    {
     "data": {
      "text/plain": [
       "M        5282\n",
       "F         693\n",
       "NaN       571\n",
       "N           2\n",
       ".           1\n",
       "M x 2       1\n",
       "lli         1\n",
       "Name: sex, dtype: int64"
      ]
     },
     "execution_count": 19,
     "metadata": {},
     "output_type": "execute_result"
    }
   ],
   "source": [
    "# Remove unnecessary spaces in the values\n",
    "df.sex = df.sex.str.strip()\n",
    "\n",
    "# Check the result\n",
    "df.sex.value_counts(dropna=False)"
   ]
  },
  {
   "cell_type": "code",
   "execution_count": 20,
   "metadata": {
    "ExecuteTime": {
     "end_time": "2020-09-06T00:33:30.308297Z",
     "start_time": "2020-09-06T00:33:30.290345Z"
    }
   },
   "outputs": [
    {
     "name": "stdout",
     "output_type": "stream",
     "text": [
      "They represent only 0.08% of the dataset.\n"
     ]
    },
    {
     "data": {
      "text/html": [
       "<div>\n",
       "<style scoped>\n",
       "    .dataframe tbody tr th:only-of-type {\n",
       "        vertical-align: middle;\n",
       "    }\n",
       "\n",
       "    .dataframe tbody tr th {\n",
       "        vertical-align: top;\n",
       "    }\n",
       "\n",
       "    .dataframe thead th {\n",
       "        text-align: right;\n",
       "    }\n",
       "</style>\n",
       "<table border=\"1\" class=\"dataframe\">\n",
       "  <thead>\n",
       "    <tr style=\"text-align: right;\">\n",
       "      <th></th>\n",
       "      <th>date</th>\n",
       "      <th>year</th>\n",
       "      <th>type</th>\n",
       "      <th>country</th>\n",
       "      <th>area</th>\n",
       "      <th>location</th>\n",
       "      <th>activity</th>\n",
       "      <th>sex</th>\n",
       "      <th>age</th>\n",
       "      <th>injury</th>\n",
       "      <th>fatal</th>\n",
       "      <th>time</th>\n",
       "      <th>species</th>\n",
       "    </tr>\n",
       "  </thead>\n",
       "  <tbody>\n",
       "    <tr>\n",
       "      <th>1867</th>\n",
       "      <td>11-Nov-2004</td>\n",
       "      <td>2004.0</td>\n",
       "      <td>Unprovoked</td>\n",
       "      <td>USA</td>\n",
       "      <td>California</td>\n",
       "      <td>Bunkers, Humboldt Bay, Eureka, Humboldt County</td>\n",
       "      <td>Surfing</td>\n",
       "      <td>lli</td>\n",
       "      <td>38</td>\n",
       "      <td>Lacerations to hand, knee &amp; thigh</td>\n",
       "      <td>N</td>\n",
       "      <td>13h30</td>\n",
       "      <td>5.5 m [18'] white shark</td>\n",
       "    </tr>\n",
       "    <tr>\n",
       "      <th>3205</th>\n",
       "      <td>23-Oct-1962</td>\n",
       "      <td>1982.0</td>\n",
       "      <td>Sea Disaster</td>\n",
       "      <td>USA</td>\n",
       "      <td>Carolina coast</td>\n",
       "      <td>NaN</td>\n",
       "      <td>Yacht Trashman capsized in storm</td>\n",
       "      <td>M x 2</td>\n",
       "      <td>NaN</td>\n",
       "      <td>FATAL</td>\n",
       "      <td>Y x 2</td>\n",
       "      <td>NaN</td>\n",
       "      <td>NaN</td>\n",
       "    </tr>\n",
       "    <tr>\n",
       "      <th>5191</th>\n",
       "      <td>11-Jul-1934</td>\n",
       "      <td>1934.0</td>\n",
       "      <td>Watercraft</td>\n",
       "      <td>AUSTRALIA</td>\n",
       "      <td>New South Wales</td>\n",
       "      <td>Cronulla</td>\n",
       "      <td>Fishing</td>\n",
       "      <td>N</td>\n",
       "      <td>NaN</td>\n",
       "      <td>No injury to occupants Sharks continually foll...</td>\n",
       "      <td>N</td>\n",
       "      <td>NaN</td>\n",
       "      <td>Blue pointer, 11'</td>\n",
       "    </tr>\n",
       "    <tr>\n",
       "      <th>5690</th>\n",
       "      <td>Reported 02-Jun-1908</td>\n",
       "      <td>1908.0</td>\n",
       "      <td>Sea Disaster</td>\n",
       "      <td>PAPUA NEW GUINEA</td>\n",
       "      <td>New Britain</td>\n",
       "      <td>Matupi</td>\n",
       "      <td>.</td>\n",
       "      <td>.</td>\n",
       "      <td>NaN</td>\n",
       "      <td>Remains of 3 humans recovered from shark, but ...</td>\n",
       "      <td>Y</td>\n",
       "      <td>NaN</td>\n",
       "      <td>Allegedly a 33-foot shark</td>\n",
       "    </tr>\n",
       "    <tr>\n",
       "      <th>6386</th>\n",
       "      <td>Reported 18-Dec-1801</td>\n",
       "      <td>1801.0</td>\n",
       "      <td>Provoked</td>\n",
       "      <td>NaN</td>\n",
       "      <td>NaN</td>\n",
       "      <td>NaN</td>\n",
       "      <td>Standing on landed shark's tail</td>\n",
       "      <td>N</td>\n",
       "      <td>NaN</td>\n",
       "      <td>FATAL, PROVOKED INCIDENT</td>\n",
       "      <td>Y</td>\n",
       "      <td>NaN</td>\n",
       "      <td>12' shark</td>\n",
       "    </tr>\n",
       "  </tbody>\n",
       "</table>\n",
       "</div>"
      ],
      "text/plain": [
       "                      date    year          type           country  \\\n",
       "1867           11-Nov-2004  2004.0    Unprovoked               USA   \n",
       "3205           23-Oct-1962  1982.0  Sea Disaster               USA   \n",
       "5191           11-Jul-1934  1934.0    Watercraft         AUSTRALIA   \n",
       "5690  Reported 02-Jun-1908  1908.0  Sea Disaster  PAPUA NEW GUINEA   \n",
       "6386  Reported 18-Dec-1801  1801.0      Provoked               NaN   \n",
       "\n",
       "                 area                                        location  \\\n",
       "1867       California  Bunkers, Humboldt Bay, Eureka, Humboldt County   \n",
       "3205   Carolina coast                                             NaN   \n",
       "5191  New South Wales                                        Cronulla   \n",
       "5690      New Britain                                          Matupi   \n",
       "6386              NaN                                             NaN   \n",
       "\n",
       "                              activity    sex  age  \\\n",
       "1867                           Surfing    lli   38   \n",
       "3205  Yacht Trashman capsized in storm  M x 2  NaN   \n",
       "5191                           Fishing      N  NaN   \n",
       "5690                                 .      .  NaN   \n",
       "6386   Standing on landed shark's tail      N  NaN   \n",
       "\n",
       "                                                 injury  fatal   time  \\\n",
       "1867                 Lacerations to hand, knee & thigh       N  13h30   \n",
       "3205                                              FATAL  Y x 2    NaN   \n",
       "5191  No injury to occupants Sharks continually foll...      N    NaN   \n",
       "5690  Remains of 3 humans recovered from shark, but ...      Y    NaN   \n",
       "6386                           FATAL, PROVOKED INCIDENT      Y    NaN   \n",
       "\n",
       "                        species  \n",
       "1867    5.5 m [18'] white shark  \n",
       "3205                        NaN  \n",
       "5191         Blue pointer, 11'   \n",
       "5690  Allegedly a 33-foot shark  \n",
       "6386                  12' shark  "
      ]
     },
     "execution_count": 20,
     "metadata": {},
     "output_type": "execute_result"
    }
   ],
   "source": [
    "# Check the rows with values that are not 'M', nor 'F', nor NaN\n",
    "print(f'They represent only {(len(df[(df.sex != \"M\") & (df.sex != \"F\") & (df.sex == df.sex)].index) / n_rows) * 100:.2f}',\n",
    "      f'% of the dataset.', sep='')\n",
    "df[(df.sex != 'M') & (df.sex != 'F') & (df.sex == df.sex)]"
   ]
  },
  {
   "cell_type": "markdown",
   "metadata": {},
   "source": [
    "Given the low percentage, they will not be considered in the analysis, in other other, they will be removed."
   ]
  },
  {
   "cell_type": "code",
   "execution_count": 21,
   "metadata": {
    "ExecuteTime": {
     "end_time": "2020-09-06T00:33:30.320265Z",
     "start_time": "2020-09-06T00:33:30.309295Z"
    }
   },
   "outputs": [
    {
     "name": "stdout",
     "output_type": "stream",
     "text": [
      "Before the removal, there was 6551 rows. After the removal, there is 6546 rows.\n"
     ]
    }
   ],
   "source": [
    "print(f'Before the removal, there was {n_rows} rows.', end=' ')\n",
    "\n",
    "# Remove the rows mentioned above\n",
    "df = df.drop(df[(df.sex != 'M') & (df.sex != 'F') & (df.sex == df.sex)].index)\n",
    "\n",
    "# Number of rows\n",
    "n_rows = df.shape[0]\n",
    "print(f'After the removal, there is {n_rows} rows.')"
   ]
  },
  {
   "cell_type": "code",
   "execution_count": 22,
   "metadata": {
    "ExecuteTime": {
     "end_time": "2020-09-06T00:33:30.340212Z",
     "start_time": "2020-09-06T00:33:30.321263Z"
    }
   },
   "outputs": [
    {
     "data": {
      "text/html": [
       "<div>\n",
       "<style scoped>\n",
       "    .dataframe tbody tr th:only-of-type {\n",
       "        vertical-align: middle;\n",
       "    }\n",
       "\n",
       "    .dataframe tbody tr th {\n",
       "        vertical-align: top;\n",
       "    }\n",
       "\n",
       "    .dataframe thead th {\n",
       "        text-align: right;\n",
       "    }\n",
       "</style>\n",
       "<table border=\"1\" class=\"dataframe\">\n",
       "  <thead>\n",
       "    <tr style=\"text-align: right;\">\n",
       "      <th></th>\n",
       "      <th>date</th>\n",
       "      <th>year</th>\n",
       "      <th>type</th>\n",
       "      <th>country</th>\n",
       "      <th>area</th>\n",
       "      <th>location</th>\n",
       "      <th>activity</th>\n",
       "      <th>sex</th>\n",
       "      <th>age</th>\n",
       "      <th>injury</th>\n",
       "      <th>fatal</th>\n",
       "      <th>time</th>\n",
       "      <th>species</th>\n",
       "    </tr>\n",
       "  </thead>\n",
       "  <tbody>\n",
       "    <tr>\n",
       "      <th>8</th>\n",
       "      <td>29-Jul-2020</td>\n",
       "      <td>2020.0</td>\n",
       "      <td>Watercraft</td>\n",
       "      <td>AUSTRALIA</td>\n",
       "      <td>Tasmania</td>\n",
       "      <td>Tenth Island</td>\n",
       "      <td>Sightseeing</td>\n",
       "      <td>NaN</td>\n",
       "      <td>NaN</td>\n",
       "      <td>No injury to occupants, injury to shark attemp...</td>\n",
       "      <td>NaN</td>\n",
       "      <td>09h08</td>\n",
       "      <td>White shark, 4m</td>\n",
       "    </tr>\n",
       "    <tr>\n",
       "      <th>22</th>\n",
       "      <td>20-Jun-2020</td>\n",
       "      <td>2020.0</td>\n",
       "      <td>Unprovoked</td>\n",
       "      <td>BAHAMAS</td>\n",
       "      <td>Exumas</td>\n",
       "      <td>Pig Beach, Pig Island</td>\n",
       "      <td>NaN</td>\n",
       "      <td>NaN</td>\n",
       "      <td>NaN</td>\n",
       "      <td>NaN</td>\n",
       "      <td>N</td>\n",
       "      <td>NaN</td>\n",
       "      <td>NaN</td>\n",
       "    </tr>\n",
       "    <tr>\n",
       "      <th>32</th>\n",
       "      <td>17 May 2020</td>\n",
       "      <td>2020.0</td>\n",
       "      <td>Unprovoked</td>\n",
       "      <td>FRENCH POLYNESIA</td>\n",
       "      <td>Tahiti</td>\n",
       "      <td>Vallée Blanche</td>\n",
       "      <td>Snorkeling</td>\n",
       "      <td>NaN</td>\n",
       "      <td>NaN</td>\n",
       "      <td>Leg bitten</td>\n",
       "      <td>N</td>\n",
       "      <td>NaN</td>\n",
       "      <td>Blacktip shark</td>\n",
       "    </tr>\n",
       "    <tr>\n",
       "      <th>48</th>\n",
       "      <td>05-Feb-2020</td>\n",
       "      <td>2020.0</td>\n",
       "      <td>Unprovoked</td>\n",
       "      <td>USA</td>\n",
       "      <td>Maui</td>\n",
       "      <td>NaN</td>\n",
       "      <td>Stand-Up Paddle boarding</td>\n",
       "      <td>NaN</td>\n",
       "      <td>NaN</td>\n",
       "      <td>No injury, but paddleboard bitten</td>\n",
       "      <td>N</td>\n",
       "      <td>09h40</td>\n",
       "      <td>Tiger shark</td>\n",
       "    </tr>\n",
       "    <tr>\n",
       "      <th>65</th>\n",
       "      <td>20-Dec-2019</td>\n",
       "      <td>2019.0</td>\n",
       "      <td>Provoked</td>\n",
       "      <td>AUSTRALIA</td>\n",
       "      <td>New South Wales</td>\n",
       "      <td>Shellharbour</td>\n",
       "      <td>Fishing</td>\n",
       "      <td>NaN</td>\n",
       "      <td>NaN</td>\n",
       "      <td>PROVOKED INCIDENT</td>\n",
       "      <td>NaN</td>\n",
       "      <td>NaN</td>\n",
       "      <td>White shark</td>\n",
       "    </tr>\n",
       "    <tr>\n",
       "      <th>...</th>\n",
       "      <td>...</td>\n",
       "      <td>...</td>\n",
       "      <td>...</td>\n",
       "      <td>...</td>\n",
       "      <td>...</td>\n",
       "      <td>...</td>\n",
       "      <td>...</td>\n",
       "      <td>...</td>\n",
       "      <td>...</td>\n",
       "      <td>...</td>\n",
       "      <td>...</td>\n",
       "      <td>...</td>\n",
       "      <td>...</td>\n",
       "    </tr>\n",
       "    <tr>\n",
       "      <th>6468</th>\n",
       "      <td>Before 2004</td>\n",
       "      <td>0.0</td>\n",
       "      <td>Watercraft</td>\n",
       "      <td>MOZAMBIQUE</td>\n",
       "      <td>Inhambane Province</td>\n",
       "      <td>Off Inhambane</td>\n",
       "      <td>Fishing</td>\n",
       "      <td>NaN</td>\n",
       "      <td>NaN</td>\n",
       "      <td>No injury to occupants, shark bumped boat</td>\n",
       "      <td>N</td>\n",
       "      <td>NaN</td>\n",
       "      <td>Whale shark</td>\n",
       "    </tr>\n",
       "    <tr>\n",
       "      <th>6493</th>\n",
       "      <td>No date, Before 1963</td>\n",
       "      <td>0.0</td>\n",
       "      <td>Unprovoked</td>\n",
       "      <td>SINGAPORE</td>\n",
       "      <td>NaN</td>\n",
       "      <td>Keppel Harbor,  2 miles from Singapore city ce...</td>\n",
       "      <td>Swimming</td>\n",
       "      <td>NaN</td>\n",
       "      <td>NaN</td>\n",
       "      <td>Recovered</td>\n",
       "      <td>N</td>\n",
       "      <td>NaN</td>\n",
       "      <td>NaN</td>\n",
       "    </tr>\n",
       "    <tr>\n",
       "      <th>6515</th>\n",
       "      <td>1941-1945</td>\n",
       "      <td>0.0</td>\n",
       "      <td>Sea Disaster</td>\n",
       "      <td>NaN</td>\n",
       "      <td>NaN</td>\n",
       "      <td>NaN</td>\n",
       "      <td>A group of survivors on a raft for 17-days</td>\n",
       "      <td>NaN</td>\n",
       "      <td>NaN</td>\n",
       "      <td>FATAL, shark leapt into raft and bit the man w...</td>\n",
       "      <td>Y</td>\n",
       "      <td>Late afternoon</td>\n",
       "      <td>1.2 m [4'] shark</td>\n",
       "    </tr>\n",
       "    <tr>\n",
       "      <th>6534</th>\n",
       "      <td>Between 1918 &amp; 1939</td>\n",
       "      <td>0.0</td>\n",
       "      <td>Unprovoked</td>\n",
       "      <td>REUNION</td>\n",
       "      <td>Saint-Denis</td>\n",
       "      <td>Barachois</td>\n",
       "      <td>Swimming</td>\n",
       "      <td>NaN</td>\n",
       "      <td>NaN</td>\n",
       "      <td>FATAL</td>\n",
       "      <td>Y</td>\n",
       "      <td>NaN</td>\n",
       "      <td>NaN</td>\n",
       "    </tr>\n",
       "    <tr>\n",
       "      <th>6543</th>\n",
       "      <td>Before 1917</td>\n",
       "      <td>0.0</td>\n",
       "      <td>Unprovoked</td>\n",
       "      <td>FIJI</td>\n",
       "      <td>Moala Island</td>\n",
       "      <td>NaN</td>\n",
       "      <td>Wreck of  large double sailing canoe</td>\n",
       "      <td>NaN</td>\n",
       "      <td>NaN</td>\n",
       "      <td>FATAL, 18 people  were killed by sharks, 2 sur...</td>\n",
       "      <td>Y</td>\n",
       "      <td>NaN</td>\n",
       "      <td>NaN</td>\n",
       "    </tr>\n",
       "  </tbody>\n",
       "</table>\n",
       "<p>571 rows × 13 columns</p>\n",
       "</div>"
      ],
      "text/plain": [
       "                      date    year          type           country  \\\n",
       "8              29-Jul-2020  2020.0    Watercraft         AUSTRALIA   \n",
       "22             20-Jun-2020  2020.0    Unprovoked           BAHAMAS   \n",
       "32             17 May 2020  2020.0    Unprovoked  FRENCH POLYNESIA   \n",
       "48             05-Feb-2020  2020.0    Unprovoked               USA   \n",
       "65             20-Dec-2019  2019.0      Provoked         AUSTRALIA   \n",
       "...                    ...     ...           ...               ...   \n",
       "6468           Before 2004     0.0    Watercraft        MOZAMBIQUE   \n",
       "6493  No date, Before 1963     0.0    Unprovoked         SINGAPORE   \n",
       "6515             1941-1945     0.0  Sea Disaster               NaN   \n",
       "6534   Between 1918 & 1939     0.0    Unprovoked           REUNION   \n",
       "6543           Before 1917     0.0    Unprovoked              FIJI   \n",
       "\n",
       "                    area                                           location  \\\n",
       "8               Tasmania                                       Tenth Island   \n",
       "22                Exumas                              Pig Beach, Pig Island   \n",
       "32                Tahiti                                     Vallée Blanche   \n",
       "48                  Maui                                                NaN   \n",
       "65       New South Wales                                       Shellharbour   \n",
       "...                  ...                                                ...   \n",
       "6468  Inhambane Province                                      Off Inhambane   \n",
       "6493                 NaN  Keppel Harbor,  2 miles from Singapore city ce...   \n",
       "6515                 NaN                                                NaN   \n",
       "6534         Saint-Denis                                          Barachois   \n",
       "6543        Moala Island                                                NaN   \n",
       "\n",
       "                                        activity  sex  age  \\\n",
       "8                                    Sightseeing  NaN  NaN   \n",
       "22                                           NaN  NaN  NaN   \n",
       "32                                    Snorkeling  NaN  NaN   \n",
       "48                      Stand-Up Paddle boarding  NaN  NaN   \n",
       "65                                       Fishing  NaN  NaN   \n",
       "...                                          ...  ...  ...   \n",
       "6468                                     Fishing  NaN  NaN   \n",
       "6493                                    Swimming  NaN  NaN   \n",
       "6515  A group of survivors on a raft for 17-days  NaN  NaN   \n",
       "6534                                    Swimming  NaN  NaN   \n",
       "6543        Wreck of  large double sailing canoe  NaN  NaN   \n",
       "\n",
       "                                                 injury fatal            time  \\\n",
       "8     No injury to occupants, injury to shark attemp...   NaN           09h08   \n",
       "22                                                  NaN     N             NaN   \n",
       "32                                           Leg bitten     N             NaN   \n",
       "48                    No injury, but paddleboard bitten     N           09h40   \n",
       "65                                    PROVOKED INCIDENT   NaN             NaN   \n",
       "...                                                 ...   ...             ...   \n",
       "6468          No injury to occupants, shark bumped boat     N             NaN   \n",
       "6493                                          Recovered     N             NaN   \n",
       "6515  FATAL, shark leapt into raft and bit the man w...     Y  Late afternoon   \n",
       "6534                                              FATAL     Y             NaN   \n",
       "6543  FATAL, 18 people  were killed by sharks, 2 sur...     Y             NaN   \n",
       "\n",
       "               species  \n",
       "8      White shark, 4m  \n",
       "22                 NaN  \n",
       "32      Blacktip shark  \n",
       "48         Tiger shark  \n",
       "65         White shark  \n",
       "...                ...  \n",
       "6468       Whale shark  \n",
       "6493               NaN  \n",
       "6515  1.2 m [4'] shark  \n",
       "6534               NaN  \n",
       "6543               NaN  \n",
       "\n",
       "[571 rows x 13 columns]"
      ]
     },
     "execution_count": 22,
     "metadata": {},
     "output_type": "execute_result"
    }
   ],
   "source": [
    "# Check rows with missing values in the 'sex' column\n",
    "df[df.sex.isna()]"
   ]
  },
  {
   "cell_type": "code",
   "execution_count": 23,
   "metadata": {
    "ExecuteTime": {
     "end_time": "2020-09-06T00:33:30.348190Z",
     "start_time": "2020-09-06T00:33:30.342207Z"
    }
   },
   "outputs": [
    {
     "data": {
      "text/plain": [
       "8.722884204094102"
      ]
     },
     "execution_count": 23,
     "metadata": {},
     "output_type": "execute_result"
    }
   ],
   "source": [
    "# Check % of missing values\n",
    "df.sex.isna().mean()*100"
   ]
  },
  {
   "cell_type": "markdown",
   "metadata": {},
   "source": [
    "For now, they will be remain in the dataframe, but they may be removed later."
   ]
  },
  {
   "cell_type": "markdown",
   "metadata": {},
   "source": [
    "## Age"
   ]
  },
  {
   "cell_type": "markdown",
   "metadata": {},
   "source": [
    "### Data Cleaning"
   ]
  },
  {
   "cell_type": "code",
   "execution_count": 24,
   "metadata": {
    "ExecuteTime": {
     "end_time": "2020-09-06T00:33:30.356169Z",
     "start_time": "2020-09-06T00:33:30.349188Z"
    },
    "scrolled": true
   },
   "outputs": [
    {
     "name": "stdout",
     "output_type": "stream",
     "text": [
      "There are 237 unique values in this column.\n",
      "\n",
      "[50 35 55 nan 22 14 28 38 4 63 23 11 12 10 29 15 36 7 16 30 60 18 9 26 57\n",
      " 'Teen' 24 59 13 75 21 '30s' 45 33 17 37 70 44 '28 & 22' 32 20 51\n",
      " '22, 57, 31' '60s' 40 49 \"20's\" 43 8 64 19 65 67 53 34 25 58 74 46 41 31\n",
      " '9 & 60' 48 '20s' 42 39 56 61 'a minor' 6 62 52 54 69 '40s' 3 82 73 68 47\n",
      " 66 72 27 71 '38' '39' '23' '32' '52' '68' '12' '18' '19' '43' '47' '6'\n",
      " '37' '9' '36' '10' '16' '13' '11' '17' '14' '30' '50' '29' '65' '63' '26'\n",
      " '71' '48' '70' '58' '18 months' '22' '41' '35' '57' '20' '24' '34' '15'\n",
      " '44' '53' '7' '40' '28' '33' '31' '45' '50s' '8' '51' '61' '42' '25'\n",
      " 'teen' '66' '21' '77' '46' '60' '74' '55' '27' '3' '56' '64' '28 & 26'\n",
      " '62' '5' '49' '54' '86' '59' '18 or 20' '12 or 13' '46 & 34'\n",
      " '28, 23 & 30' 'Teens' 77 '36 & 26' '8 or 10' 84 '\\xa0 ' ' ' '30 or 36'\n",
      " '6½' '21 & ?' '33 or 37' 'mid-30s' '23 & 20' 5 ' 30' '7      &    31'\n",
      " ' 28' '20?' \"60's\" '69' '32 & 30' '16 to 18' '87' '67' 'Elderly'\n",
      " 'mid-20s' 'Ca. 33' '74 ' '45 ' '21 or 26' '20 ' '>50' '18 to 22' 'adult'\n",
      " '9 & 12' '? & 19' '9 months' '25 to 35' '23 & 26' 1 '(adult)' '33 & 37'\n",
      " '25 or 28' '37, 67, 35, 27,  ? & 27' '21, 34,24 & 35' '30 & 32' '50 & 30'\n",
      " '17 & 35' 'X' '\"middle-age\"' '13 or 18' '34 & 19' '33 & 26'\n",
      " '2 to 3 months' '4' 'MAKE LINE GREEN' ' 43' '81' '\"young\"' '7 or 8' 78\n",
      " '17 & 16' 'F' 'Both 11' '9 or 10' 'young' '36 & 23' '  ' '78' 'A.M.'\n",
      " '?    &   14' '10 or 12' '31 or 33' '2½' '1' '13 or 14']\n"
     ]
    }
   ],
   "source": [
    "# Check the unique values in the column\n",
    "print(f'There are {len(list(df.age.unique()))} unique values in this column.\\n')\n",
    "print(df.age.unique())"
   ]
  },
  {
   "cell_type": "code",
   "execution_count": 25,
   "metadata": {
    "ExecuteTime": {
     "end_time": "2020-09-06T00:33:30.365155Z",
     "start_time": "2020-09-06T00:33:30.357167Z"
    }
   },
   "outputs": [
    {
     "data": {
      "text/plain": [
       "NaN              2887\n",
       "16                 86\n",
       "19                 86\n",
       "17                 82\n",
       "18                 82\n",
       "                 ... \n",
       "72                  1\n",
       "Elderly             1\n",
       "74                  1\n",
       "87                  1\n",
       "2 to 3 months       1\n",
       "Name: age, Length: 237, dtype: int64"
      ]
     },
     "execution_count": 25,
     "metadata": {},
     "output_type": "execute_result"
    }
   ],
   "source": [
    "# Check the number of each value\n",
    "df.age.value_counts(dropna=False)"
   ]
  },
  {
   "cell_type": "code",
   "execution_count": 26,
   "metadata": {
    "ExecuteTime": {
     "end_time": "2020-09-06T00:33:30.379108Z",
     "start_time": "2020-09-06T00:33:30.367140Z"
    }
   },
   "outputs": [
    {
     "data": {
      "text/plain": [
       "array(['50', '35', '55', nan, '22', '14', '28', '38', '4', '63', '23',\n",
       "       '11', '12', '10', '29', '15', '36', '7', '16', '30', '60', '18',\n",
       "       '9', '26', '57', 'Teen', '24', '59', '13', '75', '21', '30s', '45',\n",
       "       '33', '17', '37', '70', '44', '28 & 22', '32', '20', '51',\n",
       "       '22, 57, 31', '60s', '40', '49', \"20's\", '43', '8', '64', '19',\n",
       "       '65', '67', '53', '34', '25', '58', '74', '46', '41', '31',\n",
       "       '9 & 60', '48', '20s', '42', '39', '56', '61', 'a minor', '6',\n",
       "       '62', '52', '54', '69', '40s', '3', '82', '73', '68', '47', '66',\n",
       "       '72', '27', '71', '18 months', '50s', 'teen', '77', '28 & 26', '5',\n",
       "       '86', '18 or 20', '12 or 13', '46 & 34', '28, 23 & 30', 'Teens',\n",
       "       '36 & 26', '8 or 10', '84', '\\xa0 ', ' ', '30 or 36', '6½',\n",
       "       '21 & ?', '33 or 37', 'mid-30s', '23 & 20', ' 30',\n",
       "       '7      &    31', ' 28', '20?', \"60's\", '32 & 30', '16 to 18',\n",
       "       '87', 'Elderly', 'mid-20s', 'Ca. 33', '74 ', '45 ', '21 or 26',\n",
       "       '20 ', '>50', '18 to 22', 'adult', '9 & 12', '? & 19', '9 months',\n",
       "       '25 to 35', '23 & 26', '1', '(adult)', '33 & 37', '25 or 28',\n",
       "       '37, 67, 35, 27,  ? & 27', '21, 34,24 & 35', '30 & 32', '50 & 30',\n",
       "       '17 & 35', 'X', '\"middle-age\"', '13 or 18', '34 & 19', '33 & 26',\n",
       "       '2 to 3 months', 'MAKE LINE GREEN', ' 43', '81', '\"young\"',\n",
       "       '7 or 8', '78', '17 & 16', 'F', 'Both 11', '9 or 10', 'young',\n",
       "       '36 & 23', '  ', 'A.M.', '?    &   14', '10 or 12', '31 or 33',\n",
       "       '2½', '13 or 14'], dtype=object)"
      ]
     },
     "execution_count": 26,
     "metadata": {},
     "output_type": "execute_result"
    }
   ],
   "source": [
    "# Convert all values in this columnn to string if it is not a missing value\n",
    "df.age = df.age.apply(lambda x : str(x) if x == x else x)\n",
    "\n",
    "# Check result\n",
    "df.age.unique()"
   ]
  },
  {
   "cell_type": "markdown",
   "metadata": {},
   "source": [
    "Converting all the values to the same data type make it easier to manipulate them."
   ]
  },
  {
   "cell_type": "code",
   "execution_count": 27,
   "metadata": {
    "ExecuteTime": {
     "end_time": "2020-09-06T00:33:30.388084Z",
     "start_time": "2020-09-06T00:33:30.384094Z"
    }
   },
   "outputs": [
    {
     "data": {
      "text/plain": [
       "164"
      ]
     },
     "execution_count": 27,
     "metadata": {},
     "output_type": "execute_result"
    }
   ],
   "source": [
    "len(df.age.unique())"
   ]
  },
  {
   "cell_type": "code",
   "execution_count": 28,
   "metadata": {
    "ExecuteTime": {
     "end_time": "2020-09-06T00:33:30.416010Z",
     "start_time": "2020-09-06T00:33:30.391077Z"
    }
   },
   "outputs": [
    {
     "data": {
      "text/html": [
       "<div>\n",
       "<style scoped>\n",
       "    .dataframe tbody tr th:only-of-type {\n",
       "        vertical-align: middle;\n",
       "    }\n",
       "\n",
       "    .dataframe tbody tr th {\n",
       "        vertical-align: top;\n",
       "    }\n",
       "\n",
       "    .dataframe thead th {\n",
       "        text-align: right;\n",
       "    }\n",
       "</style>\n",
       "<table border=\"1\" class=\"dataframe\">\n",
       "  <thead>\n",
       "    <tr style=\"text-align: right;\">\n",
       "      <th></th>\n",
       "      <th>date</th>\n",
       "      <th>year</th>\n",
       "      <th>type</th>\n",
       "      <th>country</th>\n",
       "      <th>area</th>\n",
       "      <th>location</th>\n",
       "      <th>activity</th>\n",
       "      <th>sex</th>\n",
       "      <th>age</th>\n",
       "      <th>injury</th>\n",
       "      <th>fatal</th>\n",
       "      <th>time</th>\n",
       "      <th>species</th>\n",
       "    </tr>\n",
       "  </thead>\n",
       "  <tbody>\n",
       "    <tr>\n",
       "      <th>80</th>\n",
       "      <td>29-Oct-2019</td>\n",
       "      <td>2019.0</td>\n",
       "      <td>Unprovoked</td>\n",
       "      <td>AUSTRALIA</td>\n",
       "      <td>Queensland</td>\n",
       "      <td>Off Airlie Beach, Whitsundays</td>\n",
       "      <td>Snorkeling</td>\n",
       "      <td>M</td>\n",
       "      <td>28 &amp; 22</td>\n",
       "      <td>Raddon’s right foot was severed and Maggs sust...</td>\n",
       "      <td>N</td>\n",
       "      <td>10h20</td>\n",
       "      <td>Tiger shark</td>\n",
       "    </tr>\n",
       "    <tr>\n",
       "      <th>168</th>\n",
       "      <td>10-Jan-2019</td>\n",
       "      <td>2019.0</td>\n",
       "      <td>Invalid</td>\n",
       "      <td>AUSTRALIA</td>\n",
       "      <td>Queensland</td>\n",
       "      <td>Catseye Beach, Hamilton Island, Whitsundays</td>\n",
       "      <td>Wading</td>\n",
       "      <td>F</td>\n",
       "      <td>9 &amp; 60</td>\n",
       "      <td>Injuries to foot &amp; leg</td>\n",
       "      <td>N</td>\n",
       "      <td>09h30</td>\n",
       "      <td>Reported as shark attacks but injuries caused ...</td>\n",
       "    </tr>\n",
       "    <tr>\n",
       "      <th>940</th>\n",
       "      <td>10-Mar-2013</td>\n",
       "      <td>2013.0</td>\n",
       "      <td>Unprovoked</td>\n",
       "      <td>PHILIPPINES</td>\n",
       "      <td>Palawan</td>\n",
       "      <td>Off Likas Island</td>\n",
       "      <td>Swimming to shore with floatioon devices after...</td>\n",
       "      <td>M</td>\n",
       "      <td>28 &amp; 26</td>\n",
       "      <td>Minor leg injuries</td>\n",
       "      <td>N</td>\n",
       "      <td>NaN</td>\n",
       "      <td>\"small sharks\"</td>\n",
       "    </tr>\n",
       "    <tr>\n",
       "      <th>1749</th>\n",
       "      <td>Reported 28-Jan-2006</td>\n",
       "      <td>2006.0</td>\n",
       "      <td>Watercraft</td>\n",
       "      <td>ATLANTIC OCEAN</td>\n",
       "      <td>300 miles from Antigua</td>\n",
       "      <td>NaN</td>\n",
       "      <td>Competing in the Woodvale Atlantic Rowing Race</td>\n",
       "      <td>M</td>\n",
       "      <td>46 &amp; 34</td>\n",
       "      <td>No injury to occupants; shark rammed boat repe...</td>\n",
       "      <td>N</td>\n",
       "      <td>NaN</td>\n",
       "      <td>12' shark</td>\n",
       "    </tr>\n",
       "    <tr>\n",
       "      <th>1751</th>\n",
       "      <td>23-Jan-2006</td>\n",
       "      <td>2006.0</td>\n",
       "      <td>Watercraft</td>\n",
       "      <td>ATLANTIC OCEAN</td>\n",
       "      <td>800 miles from land</td>\n",
       "      <td>NaN</td>\n",
       "      <td>Competing in the Woodvale Atlantic Rowing Race</td>\n",
       "      <td>F</td>\n",
       "      <td>28, 23 &amp; 30</td>\n",
       "      <td>No injury to occupants; a shark, accidentally ...</td>\n",
       "      <td>N</td>\n",
       "      <td>NaN</td>\n",
       "      <td>NaN</td>\n",
       "    </tr>\n",
       "    <tr>\n",
       "      <th>1986</th>\n",
       "      <td>14-Sep-2003</td>\n",
       "      <td>2003.0</td>\n",
       "      <td>Watercraft</td>\n",
       "      <td>SOUTH AFRICA</td>\n",
       "      <td>Western Cape Province</td>\n",
       "      <td>Melkbosstrand</td>\n",
       "      <td>Fishing</td>\n",
       "      <td>NaN</td>\n",
       "      <td>36 &amp; 26</td>\n",
       "      <td>No injury to occupants, shark bit boat</td>\n",
       "      <td>N</td>\n",
       "      <td>09h40</td>\n",
       "      <td>2 m cow shark</td>\n",
       "    </tr>\n",
       "    <tr>\n",
       "      <th>2168</th>\n",
       "      <td>12-Aug-2001</td>\n",
       "      <td>2001.0</td>\n",
       "      <td>Unprovoked</td>\n",
       "      <td>THAILAND</td>\n",
       "      <td>Rayong Province</td>\n",
       "      <td>Laem Mae Pim Beach</td>\n",
       "      <td>Fell off banana boat</td>\n",
       "      <td>M</td>\n",
       "      <td>21 &amp; ?</td>\n",
       "      <td>Legs bitten</td>\n",
       "      <td>N</td>\n",
       "      <td>NaN</td>\n",
       "      <td>3 m [10'] shark</td>\n",
       "    </tr>\n",
       "    <tr>\n",
       "      <th>2269</th>\n",
       "      <td>10-Aug-2000</td>\n",
       "      <td>2000.0</td>\n",
       "      <td>Invalid</td>\n",
       "      <td>USA</td>\n",
       "      <td>Florida</td>\n",
       "      <td>Florida Keys</td>\n",
       "      <td>Attempting to illegally enter the USA</td>\n",
       "      <td>M</td>\n",
       "      <td>23 &amp; 20</td>\n",
       "      <td>Shark involvement probably post-mortem</td>\n",
       "      <td>NaN</td>\n",
       "      <td>NaN</td>\n",
       "      <td>Shark involvement prior to death was not confi...</td>\n",
       "    </tr>\n",
       "    <tr>\n",
       "      <th>2665</th>\n",
       "      <td>Reported 11-Sep-1994</td>\n",
       "      <td>1994.0</td>\n",
       "      <td>Sea Disaster</td>\n",
       "      <td>USA</td>\n",
       "      <td>Florida</td>\n",
       "      <td>Florida Straits</td>\n",
       "      <td>Adrift on refugee raft</td>\n",
       "      <td>M</td>\n",
       "      <td>7      &amp;    31</td>\n",
       "      <td>FATAL</td>\n",
       "      <td>Y</td>\n",
       "      <td>NaN</td>\n",
       "      <td>NaN</td>\n",
       "    </tr>\n",
       "    <tr>\n",
       "      <th>2754</th>\n",
       "      <td>04-Jan-1993</td>\n",
       "      <td>1993.0</td>\n",
       "      <td>Watercraft</td>\n",
       "      <td>CARIBBEAN SEA</td>\n",
       "      <td>NaN</td>\n",
       "      <td>Off Dominican Republic</td>\n",
       "      <td></td>\n",
       "      <td>M</td>\n",
       "      <td>32 &amp; 30</td>\n",
       "      <td>No injury to occupants. Sharks, attracted to o...</td>\n",
       "      <td>N</td>\n",
       "      <td>NaN</td>\n",
       "      <td>Two 3 m [10'] oceanic whitetip sharks</td>\n",
       "    </tr>\n",
       "    <tr>\n",
       "      <th>3709</th>\n",
       "      <td>24-Aug-1968</td>\n",
       "      <td>1968.0</td>\n",
       "      <td>Unprovoked</td>\n",
       "      <td>USA</td>\n",
       "      <td>Florida</td>\n",
       "      <td>Half mile north of Juno Beach Pier</td>\n",
       "      <td>Playing with a frisbee in the shallows</td>\n",
       "      <td>NaN</td>\n",
       "      <td>9 &amp; 12</td>\n",
       "      <td>Shark bumped Colleen, the nudged Scott, then b...</td>\n",
       "      <td>N</td>\n",
       "      <td>16h00</td>\n",
       "      <td>a small hammerhead shark</td>\n",
       "    </tr>\n",
       "    <tr>\n",
       "      <th>3767</th>\n",
       "      <td>10-Aug-1967</td>\n",
       "      <td>1967.0</td>\n",
       "      <td>Invalid</td>\n",
       "      <td>AUSTRALIA</td>\n",
       "      <td>New South Wales</td>\n",
       "      <td>Jervis Bay</td>\n",
       "      <td>Anti-sabotage night dive exercise alongside de...</td>\n",
       "      <td>M</td>\n",
       "      <td>? &amp; 19</td>\n",
       "      <td>Disappeared, no trace of men or equipment, sha...</td>\n",
       "      <td>NaN</td>\n",
       "      <td>Night</td>\n",
       "      <td>Shark involvement prior to death was not confi...</td>\n",
       "    </tr>\n",
       "    <tr>\n",
       "      <th>3992</th>\n",
       "      <td>Aug-1963</td>\n",
       "      <td>1963.0</td>\n",
       "      <td>Unprovoked</td>\n",
       "      <td>DOMINICAN REPUBLIC</td>\n",
       "      <td>Santo Domingo</td>\n",
       "      <td>Rio Haina Port</td>\n",
       "      <td>Swimming, when caught in heavy seas</td>\n",
       "      <td>M</td>\n",
       "      <td>23 &amp; 26</td>\n",
       "      <td>FATAL. Eyewitness said, \"One was thrown in the...</td>\n",
       "      <td>Y</td>\n",
       "      <td>NaN</td>\n",
       "      <td>8 sharks</td>\n",
       "    </tr>\n",
       "    <tr>\n",
       "      <th>4130</th>\n",
       "      <td>Reported 06-Sep-1961</td>\n",
       "      <td>1961.0</td>\n",
       "      <td>Provoked</td>\n",
       "      <td>ITALY</td>\n",
       "      <td>Venice Province</td>\n",
       "      <td>Chioggia</td>\n",
       "      <td>Fishing</td>\n",
       "      <td>M</td>\n",
       "      <td>33 &amp; 37</td>\n",
       "      <td>Left foot &amp; right hand bitten by netted shark ...</td>\n",
       "      <td>N</td>\n",
       "      <td>NaN</td>\n",
       "      <td>1 m shark</td>\n",
       "    </tr>\n",
       "    <tr>\n",
       "      <th>4236</th>\n",
       "      <td>07-Jun-1960</td>\n",
       "      <td>1960.0</td>\n",
       "      <td>Invalid</td>\n",
       "      <td>USA</td>\n",
       "      <td>California</td>\n",
       "      <td>10 miles off Santa Barbara, Santa Barbara County</td>\n",
       "      <td>Testing classified underwater electronic gear ...</td>\n",
       "      <td>M</td>\n",
       "      <td>37, 67, 35, 27,  ? &amp; 27</td>\n",
       "      <td>Legs &amp; arms bitten, coroner unable to determin...</td>\n",
       "      <td>NaN</td>\n",
       "      <td>NaN</td>\n",
       "      <td>Shark involvement prior to death was not confi...</td>\n",
       "    </tr>\n",
       "    <tr>\n",
       "      <th>4248</th>\n",
       "      <td>14-Apr-1960</td>\n",
       "      <td>1960.0</td>\n",
       "      <td>Invalid</td>\n",
       "      <td>BERMUDA</td>\n",
       "      <td>33N, 68W</td>\n",
       "      <td>Royal Canadian Navy CS2F-1 aircraft ditched in...</td>\n",
       "      <td>Floating on a raft</td>\n",
       "      <td>M</td>\n",
       "      <td>21, 34,24 &amp; 35</td>\n",
       "      <td>No injury, 5 sharks bumped raft</td>\n",
       "      <td>NaN</td>\n",
       "      <td>09h00 - 09h30</td>\n",
       "      <td>Questionable incident</td>\n",
       "    </tr>\n",
       "    <tr>\n",
       "      <th>4259</th>\n",
       "      <td>29-Feb-1960</td>\n",
       "      <td>1960.0</td>\n",
       "      <td>Unprovoked</td>\n",
       "      <td>AUSTRALIA</td>\n",
       "      <td>Tasmania</td>\n",
       "      <td>Ralph Bay</td>\n",
       "      <td>Wading, fishing for flounder</td>\n",
       "      <td>M</td>\n",
       "      <td>30 &amp; 32</td>\n",
       "      <td>No injury, Robertson knocked over &amp; Hasler bru...</td>\n",
       "      <td>N</td>\n",
       "      <td>Night</td>\n",
       "      <td>Two 2.1 m [7'] sharks</td>\n",
       "    </tr>\n",
       "    <tr>\n",
       "      <th>4285</th>\n",
       "      <td>28-Dec-1959</td>\n",
       "      <td>1959.0</td>\n",
       "      <td>Watercraft</td>\n",
       "      <td>AUSTRALIA</td>\n",
       "      <td>New South Wales</td>\n",
       "      <td>Leichardt, Sydney</td>\n",
       "      <td>Fishing</td>\n",
       "      <td>NaN</td>\n",
       "      <td>50 &amp; 30</td>\n",
       "      <td>No injury to occupants</td>\n",
       "      <td>N</td>\n",
       "      <td>Late night</td>\n",
       "      <td>2.4 m  [8'] shark</td>\n",
       "    </tr>\n",
       "    <tr>\n",
       "      <th>4289</th>\n",
       "      <td>11-Dec-1959</td>\n",
       "      <td>1959.0</td>\n",
       "      <td>Provoked</td>\n",
       "      <td>AUSTRALIA</td>\n",
       "      <td>Victoria</td>\n",
       "      <td>Altona, Melbourne</td>\n",
       "      <td>Spearfishing, Smith  &amp; Walker touched shark wi...</td>\n",
       "      <td>M</td>\n",
       "      <td>17 &amp; 35</td>\n",
       "      <td>Smith hit by tail of shark, Walker sustained c...</td>\n",
       "      <td>N</td>\n",
       "      <td>NaN</td>\n",
       "      <td>2.7 m [9']  shark</td>\n",
       "    </tr>\n",
       "    <tr>\n",
       "      <th>4328</th>\n",
       "      <td>21764</td>\n",
       "      <td>1959.0</td>\n",
       "      <td>Invalid</td>\n",
       "      <td>ITALY</td>\n",
       "      <td>Tuscany</td>\n",
       "      <td>Cala del Corvo, Isola del Giglio</td>\n",
       "      <td>Scuba diving</td>\n",
       "      <td>M</td>\n",
       "      <td>34 &amp; 19</td>\n",
       "      <td>Probable drowing. Shark involvement unconfirmed</td>\n",
       "      <td>NaN</td>\n",
       "      <td>NaN</td>\n",
       "      <td>Shark involvement prior to death was not confi...</td>\n",
       "    </tr>\n",
       "    <tr>\n",
       "      <th>4368</th>\n",
       "      <td>02-Jan-1959</td>\n",
       "      <td>1959.0</td>\n",
       "      <td>Unprovoked</td>\n",
       "      <td>MOZAMBIQUE</td>\n",
       "      <td>Maputo Province</td>\n",
       "      <td>Off Inhaca Island</td>\n",
       "      <td>Swimming ashore from fishing boat swamped and ...</td>\n",
       "      <td>M</td>\n",
       "      <td>33 &amp; 26</td>\n",
       "      <td>Suttie's lower abdomen was bitten, Murray disa...</td>\n",
       "      <td>Y</td>\n",
       "      <td>08h00</td>\n",
       "      <td>NaN</td>\n",
       "    </tr>\n",
       "    <tr>\n",
       "      <th>4840</th>\n",
       "      <td>14-Jan-1947</td>\n",
       "      <td>1947.0</td>\n",
       "      <td>Watercraft</td>\n",
       "      <td>AUSTRALIA</td>\n",
       "      <td>New South Wales</td>\n",
       "      <td>Berry's Bay, Sydney Harbour</td>\n",
       "      <td>Rowing</td>\n",
       "      <td>NaN</td>\n",
       "      <td>17 &amp; 16</td>\n",
       "      <td>No injury, shark lifted the boat 0.5 m out of ...</td>\n",
       "      <td>N</td>\n",
       "      <td>NaN</td>\n",
       "      <td>4.5  m [14'9\"] shark</td>\n",
       "    </tr>\n",
       "    <tr>\n",
       "      <th>5252</th>\n",
       "      <td>06-Jan-1932</td>\n",
       "      <td>1932.0</td>\n",
       "      <td>Provoked</td>\n",
       "      <td>MEXICO</td>\n",
       "      <td>Baja California</td>\n",
       "      <td>Descano Point</td>\n",
       "      <td>Fishing</td>\n",
       "      <td>M</td>\n",
       "      <td>36 &amp; 23</td>\n",
       "      <td>Hooked shark capsized rowboat &amp; the 2 men were...</td>\n",
       "      <td>Y</td>\n",
       "      <td>NaN</td>\n",
       "      <td>NaN</td>\n",
       "    </tr>\n",
       "    <tr>\n",
       "      <th>5434</th>\n",
       "      <td>04-Jul-1924</td>\n",
       "      <td>1924.0</td>\n",
       "      <td>Watercraft</td>\n",
       "      <td>USA</td>\n",
       "      <td>California</td>\n",
       "      <td>Newport Beach, Orange County</td>\n",
       "      <td>Fishing</td>\n",
       "      <td>M</td>\n",
       "      <td>?    &amp;   14</td>\n",
       "      <td>No injury, shark tore hole in the side of the ...</td>\n",
       "      <td>N</td>\n",
       "      <td>NaN</td>\n",
       "      <td>NaN</td>\n",
       "    </tr>\n",
       "  </tbody>\n",
       "</table>\n",
       "</div>"
      ],
      "text/plain": [
       "                      date    year          type             country  \\\n",
       "80             29-Oct-2019  2019.0    Unprovoked           AUSTRALIA   \n",
       "168            10-Jan-2019  2019.0       Invalid           AUSTRALIA   \n",
       "940            10-Mar-2013  2013.0    Unprovoked         PHILIPPINES   \n",
       "1749  Reported 28-Jan-2006  2006.0    Watercraft      ATLANTIC OCEAN   \n",
       "1751           23-Jan-2006  2006.0    Watercraft      ATLANTIC OCEAN   \n",
       "1986           14-Sep-2003  2003.0    Watercraft        SOUTH AFRICA   \n",
       "2168           12-Aug-2001  2001.0    Unprovoked            THAILAND   \n",
       "2269           10-Aug-2000  2000.0       Invalid                 USA   \n",
       "2665  Reported 11-Sep-1994  1994.0  Sea Disaster                 USA   \n",
       "2754           04-Jan-1993  1993.0    Watercraft       CARIBBEAN SEA   \n",
       "3709           24-Aug-1968  1968.0    Unprovoked                 USA   \n",
       "3767           10-Aug-1967  1967.0       Invalid           AUSTRALIA   \n",
       "3992              Aug-1963  1963.0    Unprovoked  DOMINICAN REPUBLIC   \n",
       "4130  Reported 06-Sep-1961  1961.0      Provoked               ITALY   \n",
       "4236           07-Jun-1960  1960.0       Invalid                 USA   \n",
       "4248           14-Apr-1960  1960.0       Invalid             BERMUDA   \n",
       "4259           29-Feb-1960  1960.0    Unprovoked           AUSTRALIA   \n",
       "4285           28-Dec-1959  1959.0    Watercraft           AUSTRALIA   \n",
       "4289           11-Dec-1959  1959.0      Provoked           AUSTRALIA   \n",
       "4328                 21764  1959.0       Invalid               ITALY   \n",
       "4368           02-Jan-1959  1959.0    Unprovoked          MOZAMBIQUE   \n",
       "4840           14-Jan-1947  1947.0    Watercraft           AUSTRALIA   \n",
       "5252           06-Jan-1932  1932.0      Provoked              MEXICO   \n",
       "5434           04-Jul-1924  1924.0    Watercraft                 USA   \n",
       "\n",
       "                        area  \\\n",
       "80                Queensland   \n",
       "168               Queensland   \n",
       "940                  Palawan   \n",
       "1749  300 miles from Antigua   \n",
       "1751     800 miles from land   \n",
       "1986   Western Cape Province   \n",
       "2168         Rayong Province   \n",
       "2269                 Florida   \n",
       "2665                 Florida   \n",
       "2754                     NaN   \n",
       "3709                 Florida   \n",
       "3767         New South Wales   \n",
       "3992           Santo Domingo   \n",
       "4130         Venice Province   \n",
       "4236              California   \n",
       "4248                33N, 68W   \n",
       "4259                Tasmania   \n",
       "4285         New South Wales   \n",
       "4289                Victoria   \n",
       "4328                 Tuscany   \n",
       "4368         Maputo Province   \n",
       "4840         New South Wales   \n",
       "5252         Baja California   \n",
       "5434              California   \n",
       "\n",
       "                                               location  \\\n",
       "80                        Off Airlie Beach, Whitsundays   \n",
       "168         Catseye Beach, Hamilton Island, Whitsundays   \n",
       "940                                    Off Likas Island   \n",
       "1749                                                NaN   \n",
       "1751                                                NaN   \n",
       "1986                                      Melkbosstrand   \n",
       "2168                                 Laem Mae Pim Beach   \n",
       "2269                                       Florida Keys   \n",
       "2665                                    Florida Straits   \n",
       "2754                             Off Dominican Republic   \n",
       "3709                 Half mile north of Juno Beach Pier   \n",
       "3767                                         Jervis Bay   \n",
       "3992                                     Rio Haina Port   \n",
       "4130                                           Chioggia   \n",
       "4236   10 miles off Santa Barbara, Santa Barbara County   \n",
       "4248  Royal Canadian Navy CS2F-1 aircraft ditched in...   \n",
       "4259                                          Ralph Bay   \n",
       "4285                                  Leichardt, Sydney   \n",
       "4289                                  Altona, Melbourne   \n",
       "4328                   Cala del Corvo, Isola del Giglio   \n",
       "4368                                  Off Inhaca Island   \n",
       "4840                        Berry's Bay, Sydney Harbour   \n",
       "5252                                      Descano Point   \n",
       "5434                       Newport Beach, Orange County   \n",
       "\n",
       "                                               activity  sex  \\\n",
       "80                                           Snorkeling    M   \n",
       "168                                              Wading    F   \n",
       "940   Swimming to shore with floatioon devices after...    M   \n",
       "1749     Competing in the Woodvale Atlantic Rowing Race    M   \n",
       "1751     Competing in the Woodvale Atlantic Rowing Race    F   \n",
       "1986                                           Fishing   NaN   \n",
       "2168                               Fell off banana boat    M   \n",
       "2269              Attempting to illegally enter the USA    M   \n",
       "2665                             Adrift on refugee raft    M   \n",
       "2754                                                       M   \n",
       "3709             Playing with a frisbee in the shallows  NaN   \n",
       "3767  Anti-sabotage night dive exercise alongside de...    M   \n",
       "3992                Swimming, when caught in heavy seas    M   \n",
       "4130                                            Fishing    M   \n",
       "4236  Testing classified underwater electronic gear ...    M   \n",
       "4248                                 Floating on a raft    M   \n",
       "4259                       Wading, fishing for flounder    M   \n",
       "4285                                            Fishing  NaN   \n",
       "4289  Spearfishing, Smith  & Walker touched shark wi...    M   \n",
       "4328                                       Scuba diving    M   \n",
       "4368  Swimming ashore from fishing boat swamped and ...    M   \n",
       "4840                                             Rowing  NaN   \n",
       "5252                                            Fishing    M   \n",
       "5434                                            Fishing    M   \n",
       "\n",
       "                          age  \\\n",
       "80                    28 & 22   \n",
       "168                    9 & 60   \n",
       "940                   28 & 26   \n",
       "1749                  46 & 34   \n",
       "1751              28, 23 & 30   \n",
       "1986                  36 & 26   \n",
       "2168                   21 & ?   \n",
       "2269                  23 & 20   \n",
       "2665           7      &    31   \n",
       "2754                  32 & 30   \n",
       "3709                   9 & 12   \n",
       "3767                   ? & 19   \n",
       "3992                  23 & 26   \n",
       "4130                  33 & 37   \n",
       "4236  37, 67, 35, 27,  ? & 27   \n",
       "4248           21, 34,24 & 35   \n",
       "4259                  30 & 32   \n",
       "4285                  50 & 30   \n",
       "4289                  17 & 35   \n",
       "4328                  34 & 19   \n",
       "4368                  33 & 26   \n",
       "4840                  17 & 16   \n",
       "5252                  36 & 23   \n",
       "5434              ?    &   14   \n",
       "\n",
       "                                                 injury fatal           time  \\\n",
       "80    Raddon’s right foot was severed and Maggs sust...     N          10h20   \n",
       "168                              Injuries to foot & leg     N          09h30   \n",
       "940                                  Minor leg injuries     N            NaN   \n",
       "1749  No injury to occupants; shark rammed boat repe...     N            NaN   \n",
       "1751  No injury to occupants; a shark, accidentally ...     N            NaN   \n",
       "1986             No injury to occupants, shark bit boat     N          09h40   \n",
       "2168                                        Legs bitten     N            NaN   \n",
       "2269             Shark involvement probably post-mortem   NaN            NaN   \n",
       "2665                                              FATAL     Y            NaN   \n",
       "2754  No injury to occupants. Sharks, attracted to o...     N            NaN   \n",
       "3709  Shark bumped Colleen, the nudged Scott, then b...     N          16h00   \n",
       "3767  Disappeared, no trace of men or equipment, sha...   NaN          Night   \n",
       "3992  FATAL. Eyewitness said, \"One was thrown in the...     Y            NaN   \n",
       "4130  Left foot & right hand bitten by netted shark ...     N            NaN   \n",
       "4236  Legs & arms bitten, coroner unable to determin...   NaN            NaN   \n",
       "4248                    No injury, 5 sharks bumped raft   NaN  09h00 - 09h30   \n",
       "4259  No injury, Robertson knocked over & Hasler bru...     N          Night   \n",
       "4285                             No injury to occupants     N     Late night   \n",
       "4289  Smith hit by tail of shark, Walker sustained c...     N            NaN   \n",
       "4328    Probable drowing. Shark involvement unconfirmed   NaN            NaN   \n",
       "4368  Suttie's lower abdomen was bitten, Murray disa...     Y          08h00   \n",
       "4840  No injury, shark lifted the boat 0.5 m out of ...     N            NaN   \n",
       "5252  Hooked shark capsized rowboat & the 2 men were...     Y            NaN   \n",
       "5434  No injury, shark tore hole in the side of the ...     N            NaN   \n",
       "\n",
       "                                                species  \n",
       "80                                          Tiger shark  \n",
       "168   Reported as shark attacks but injuries caused ...  \n",
       "940                                      \"small sharks\"  \n",
       "1749                                          12' shark  \n",
       "1751                                                NaN  \n",
       "1986                                      2 m cow shark  \n",
       "2168                                    3 m [10'] shark  \n",
       "2269  Shark involvement prior to death was not confi...  \n",
       "2665                                                NaN  \n",
       "2754              Two 3 m [10'] oceanic whitetip sharks  \n",
       "3709                           a small hammerhead shark  \n",
       "3767  Shark involvement prior to death was not confi...  \n",
       "3992                                           8 sharks  \n",
       "4130                                          1 m shark  \n",
       "4236  Shark involvement prior to death was not confi...  \n",
       "4248                              Questionable incident  \n",
       "4259                              Two 2.1 m [7'] sharks  \n",
       "4285                                  2.4 m  [8'] shark  \n",
       "4289                                  2.7 m [9']  shark  \n",
       "4328  Shark involvement prior to death was not confi...  \n",
       "4368                                                NaN  \n",
       "4840                               4.5  m [14'9\"] shark  \n",
       "5252                                                NaN  \n",
       "5434                                                NaN  "
      ]
     },
     "execution_count": 28,
     "metadata": {},
     "output_type": "execute_result"
    }
   ],
   "source": [
    "# Check rows that contains '&'\n",
    "df[df.age.str.contains('&', na=False)]"
   ]
  },
  {
   "cell_type": "code",
   "execution_count": 29,
   "metadata": {
    "ExecuteTime": {
     "end_time": "2020-09-06T00:33:30.424985Z",
     "start_time": "2020-09-06T00:33:30.417006Z"
    }
   },
   "outputs": [
    {
     "name": "stdout",
     "output_type": "stream",
     "text": [
      "There are 24 rows containing \"&\" and they represent only 0.37% of the dataset.\n",
      "Since they have ages of more than one person, they will be removed from the dataframe"
     ]
    }
   ],
   "source": [
    "# Number of rows that contain \"&\"\n",
    "r_clean = len(df[df.age.str.contains(\"&\", na=False)])\n",
    "print(f'There are {r_clean} rows containing \"&\" and they represent only {(r_clean / n_rows) * 100:.2f}% of the', end=' '\n",
    "      f'dataset.\\nSince they have ages of more than one person, they will be removed from the dataframe', sep=' ')"
   ]
  },
  {
   "cell_type": "code",
   "execution_count": 30,
   "metadata": {
    "ExecuteTime": {
     "end_time": "2020-09-06T00:33:30.437950Z",
     "start_time": "2020-09-06T00:33:30.426979Z"
    }
   },
   "outputs": [
    {
     "name": "stdout",
     "output_type": "stream",
     "text": [
      "Before the removal, there was 6546 rows. After the removal, there is 6522 rows.\n"
     ]
    }
   ],
   "source": [
    "print(f'Before the removal, there was {n_rows} rows.', end=' ')\n",
    "\n",
    "# Remove the rows mentioned above\n",
    "df = df.drop(df[df.age.str.contains('&', na=False)].index)\n",
    "\n",
    "# Number of rows\n",
    "n_rows = df.shape[0]\n",
    "print(f'After the removal, there is {n_rows} rows.')"
   ]
  },
  {
   "cell_type": "code",
   "execution_count": 31,
   "metadata": {
    "ExecuteTime": {
     "end_time": "2020-09-06T00:33:30.445929Z",
     "start_time": "2020-09-06T00:33:30.438947Z"
    }
   },
   "outputs": [
    {
     "name": "stdout",
     "output_type": "stream",
     "text": [
      "Now, there are 140 unique values in this column.\n",
      "\n",
      "['50' '35' '55' nan '22' '14' '28' '38' '4' '63' '23' '11' '12' '10' '29'\n",
      " '15' '36' '7' '16' '30' '60' '18' '9' '26' '57' 'Teen' '24' '59' '13'\n",
      " '75' '21' '30s' '45' '33' '17' '37' '70' '44' '32' '20' '51' '22, 57, 31'\n",
      " '60s' '40' '49' \"20's\" '43' '8' '64' '19' '65' '67' '53' '34' '25' '58'\n",
      " '74' '46' '41' '31' '48' '20s' '42' '39' '56' '61' 'a minor' '6' '62'\n",
      " '52' '54' '69' '40s' '3' '82' '73' '68' '47' '66' '72' '27' '71'\n",
      " '18 months' '50s' 'teen' '77' '5' '86' '18 or 20' '12 or 13' 'Teens'\n",
      " '8 or 10' '84' '\\xa0 ' ' ' '30 or 36' '6½' '33 or 37' 'mid-30s' ' 30'\n",
      " ' 28' '20?' \"60's\" '16 to 18' '87' 'Elderly' 'mid-20s' 'Ca. 33' '74 '\n",
      " '45 ' '21 or 26' '20 ' '>50' '18 to 22' 'adult' '9 months' '25 to 35' '1'\n",
      " '(adult)' '25 or 28' 'X' '\"middle-age\"' '13 or 18' '2 to 3 months'\n",
      " 'MAKE LINE GREEN' ' 43' '81' '\"young\"' '7 or 8' '78' 'F' 'Both 11'\n",
      " '9 or 10' 'young' '  ' 'A.M.' '10 or 12' '31 or 33' '2½' '13 or 14']\n"
     ]
    }
   ],
   "source": [
    "# Check the unique values\n",
    "print(f'Now, there are {len(list(df.age.unique()))} unique values in this column.\\n')\n",
    "print(df.age.unique())"
   ]
  },
  {
   "cell_type": "code",
   "execution_count": 32,
   "metadata": {
    "ExecuteTime": {
     "end_time": "2020-09-06T00:33:30.466873Z",
     "start_time": "2020-09-06T00:33:30.446926Z"
    }
   },
   "outputs": [
    {
     "data": {
      "text/html": [
       "<div>\n",
       "<style scoped>\n",
       "    .dataframe tbody tr th:only-of-type {\n",
       "        vertical-align: middle;\n",
       "    }\n",
       "\n",
       "    .dataframe tbody tr th {\n",
       "        vertical-align: top;\n",
       "    }\n",
       "\n",
       "    .dataframe thead th {\n",
       "        text-align: right;\n",
       "    }\n",
       "</style>\n",
       "<table border=\"1\" class=\"dataframe\">\n",
       "  <thead>\n",
       "    <tr style=\"text-align: right;\">\n",
       "      <th></th>\n",
       "      <th>date</th>\n",
       "      <th>year</th>\n",
       "      <th>type</th>\n",
       "      <th>country</th>\n",
       "      <th>area</th>\n",
       "      <th>location</th>\n",
       "      <th>activity</th>\n",
       "      <th>sex</th>\n",
       "      <th>age</th>\n",
       "      <th>injury</th>\n",
       "      <th>fatal</th>\n",
       "      <th>time</th>\n",
       "      <th>species</th>\n",
       "    </tr>\n",
       "  </thead>\n",
       "  <tbody>\n",
       "    <tr>\n",
       "      <th>2067</th>\n",
       "      <td>27-Sep-2002</td>\n",
       "      <td>2002.0</td>\n",
       "      <td>Provoked</td>\n",
       "      <td>USA</td>\n",
       "      <td>Florida</td>\n",
       "      <td>Key Largo, Monroe County</td>\n",
       "      <td>Fishing</td>\n",
       "      <td>M</td>\n",
       "      <td></td>\n",
       "      <td>Left thumb lacerated PROVOKED INCIDENT</td>\n",
       "      <td>N</td>\n",
       "      <td>Afternoon</td>\n",
       "      <td>1.8 m [6'] blacktip shark</td>\n",
       "    </tr>\n",
       "    <tr>\n",
       "      <th>2068</th>\n",
       "      <td>27-Sep-2002</td>\n",
       "      <td>2002.0</td>\n",
       "      <td>Provoked</td>\n",
       "      <td>TONGA</td>\n",
       "      <td>Vava'u</td>\n",
       "      <td>Swimming with humpback whales</td>\n",
       "      <td>Swimming</td>\n",
       "      <td>M</td>\n",
       "      <td></td>\n",
       "      <td>Thigh lacerated  PROVOKED INCIDENT</td>\n",
       "      <td>N</td>\n",
       "      <td>15h00</td>\n",
       "      <td>Tiger shark, 1.5 m [5']k</td>\n",
       "    </tr>\n",
       "    <tr>\n",
       "      <th>2684</th>\n",
       "      <td>06-Apr-1994</td>\n",
       "      <td>1994.0</td>\n",
       "      <td>Unprovoked</td>\n",
       "      <td>BAHAMAS</td>\n",
       "      <td>NaN</td>\n",
       "      <td>Rum Cay</td>\n",
       "      <td>Wading</td>\n",
       "      <td>M</td>\n",
       "      <td>20?</td>\n",
       "      <td>Lower right  leg bitten</td>\n",
       "      <td>N</td>\n",
       "      <td>10h30</td>\n",
       "      <td>2' to 3' shark</td>\n",
       "    </tr>\n",
       "    <tr>\n",
       "      <th>3229</th>\n",
       "      <td>May 1982</td>\n",
       "      <td>1982.0</td>\n",
       "      <td>Invalid</td>\n",
       "      <td>USA</td>\n",
       "      <td>South Carolina</td>\n",
       "      <td>Daws Island, Broad River (near Beaufort)</td>\n",
       "      <td>NaN</td>\n",
       "      <td>F</td>\n",
       "      <td>Ca. 33</td>\n",
       "      <td>Human remains recovered from tiger shark</td>\n",
       "      <td>NaN</td>\n",
       "      <td>NaN</td>\n",
       "      <td>Shark involvement prior to death was not confi...</td>\n",
       "    </tr>\n",
       "    <tr>\n",
       "      <th>3355</th>\n",
       "      <td>29-Dec-1978</td>\n",
       "      <td>1978.0</td>\n",
       "      <td>Unprovoked</td>\n",
       "      <td>AUSTRALIA</td>\n",
       "      <td>Queensland</td>\n",
       "      <td>Bribie Island</td>\n",
       "      <td>NaN</td>\n",
       "      <td>M</td>\n",
       "      <td></td>\n",
       "      <td>Survived</td>\n",
       "      <td>N</td>\n",
       "      <td>NaN</td>\n",
       "      <td>NaN</td>\n",
       "    </tr>\n",
       "    <tr>\n",
       "      <th>3612</th>\n",
       "      <td>11-Apr-1971</td>\n",
       "      <td>1971.0</td>\n",
       "      <td>Unprovoked</td>\n",
       "      <td>SOUTH AFRICA</td>\n",
       "      <td>Western Cape Province</td>\n",
       "      <td>Buffels Bay</td>\n",
       "      <td>Swimming</td>\n",
       "      <td>M</td>\n",
       "      <td>&gt;50</td>\n",
       "      <td>FATAL, multiple bites</td>\n",
       "      <td>Y</td>\n",
       "      <td>11h30</td>\n",
       "      <td>White shark according to tooth pattern and wit...</td>\n",
       "    </tr>\n",
       "    <tr>\n",
       "      <th>4302</th>\n",
       "      <td>07-Oct-1959</td>\n",
       "      <td>1959.0</td>\n",
       "      <td>Unprovoked</td>\n",
       "      <td>MOZAMBIQUE</td>\n",
       "      <td>Maputo Province</td>\n",
       "      <td>Xefina Island, Bay of Maputo</td>\n",
       "      <td>Swimming</td>\n",
       "      <td>M</td>\n",
       "      <td>X</td>\n",
       "      <td>FATAL, died in Lourenco Marques Hospital</td>\n",
       "      <td>Y</td>\n",
       "      <td>NaN</td>\n",
       "      <td>NaN</td>\n",
       "    </tr>\n",
       "    <tr>\n",
       "      <th>4325</th>\n",
       "      <td>11-Aug-1959</td>\n",
       "      <td>1959.0</td>\n",
       "      <td>Unprovoked</td>\n",
       "      <td>JAPAN</td>\n",
       "      <td>Wakayama Prefecture</td>\n",
       "      <td>Isonoura Beach, Wakayama City</td>\n",
       "      <td>Swimming</td>\n",
       "      <td>M</td>\n",
       "      <td>13 or 18</td>\n",
       "      <td>FATAL, left thigh bitten</td>\n",
       "      <td>Y</td>\n",
       "      <td>14h30</td>\n",
       "      <td>Blue shark, 3 m [10']</td>\n",
       "    </tr>\n",
       "    <tr>\n",
       "      <th>4643</th>\n",
       "      <td>08-Jan-1953</td>\n",
       "      <td>1953.0</td>\n",
       "      <td>Watercraft</td>\n",
       "      <td>AUSTRALIA</td>\n",
       "      <td>Tasmania</td>\n",
       "      <td>Wynyard</td>\n",
       "      <td>Fishing</td>\n",
       "      <td>NaN</td>\n",
       "      <td>MAKE LINE GREEN</td>\n",
       "      <td>No injury to occupant, shark charged boat</td>\n",
       "      <td>N</td>\n",
       "      <td>Afternoon</td>\n",
       "      <td>10' to 12' shark</td>\n",
       "    </tr>\n",
       "    <tr>\n",
       "      <th>4700</th>\n",
       "      <td>24-Mar-1951</td>\n",
       "      <td>1951.0</td>\n",
       "      <td>Unprovoked</td>\n",
       "      <td>AUSTRALIA</td>\n",
       "      <td>New South Wales</td>\n",
       "      <td>Sydney</td>\n",
       "      <td>Fishing, casting in the surf</td>\n",
       "      <td>M</td>\n",
       "      <td>\"young\"</td>\n",
       "      <td>Severe lacerations of chest &amp; thigh</td>\n",
       "      <td>N</td>\n",
       "      <td>NaN</td>\n",
       "      <td>5.5 m [18'] shark</td>\n",
       "    </tr>\n",
       "    <tr>\n",
       "      <th>4929</th>\n",
       "      <td>14-May-1943</td>\n",
       "      <td>1943.0</td>\n",
       "      <td>Sea Disaster</td>\n",
       "      <td>AUSTRALIA</td>\n",
       "      <td>Queensland</td>\n",
       "      <td>Off Brisbane</td>\n",
       "      <td>Hospital Ship Centaur torpedoed &amp; sunk by the ...</td>\n",
       "      <td>M</td>\n",
       "      <td>F</td>\n",
       "      <td>FATAL</td>\n",
       "      <td>Y</td>\n",
       "      <td>After 04h00</td>\n",
       "      <td>NaN</td>\n",
       "    </tr>\n",
       "    <tr>\n",
       "      <th>5054</th>\n",
       "      <td>12-Jan-1939</td>\n",
       "      <td>1939.0</td>\n",
       "      <td>Unprovoked</td>\n",
       "      <td>AUSTRALIA</td>\n",
       "      <td>New South Wales</td>\n",
       "      <td>Clarence River</td>\n",
       "      <td>Scooping prawns</td>\n",
       "      <td>M</td>\n",
       "      <td>Both 11</td>\n",
       "      <td>No injury</td>\n",
       "      <td>N</td>\n",
       "      <td>NaN</td>\n",
       "      <td>7' shark</td>\n",
       "    </tr>\n",
       "    <tr>\n",
       "      <th>5139</th>\n",
       "      <td>23-Feb-1936</td>\n",
       "      <td>1936.0</td>\n",
       "      <td>Provoked</td>\n",
       "      <td>AUSTRALIA</td>\n",
       "      <td>New South Wales</td>\n",
       "      <td>Angourie, near Yamba</td>\n",
       "      <td>Touching the mouth of a supposedly dead shark</td>\n",
       "      <td>F</td>\n",
       "      <td>young</td>\n",
       "      <td>Finger bitten PROVOKED INCIDENT</td>\n",
       "      <td>N</td>\n",
       "      <td>NaN</td>\n",
       "      <td>NaN</td>\n",
       "    </tr>\n",
       "    <tr>\n",
       "      <th>5337</th>\n",
       "      <td>27-Jan-1929</td>\n",
       "      <td>1929.0</td>\n",
       "      <td>Unprovoked</td>\n",
       "      <td>AUSTRALIA</td>\n",
       "      <td>Queensland</td>\n",
       "      <td>Alma Bay, Magnetic Island, Townsville</td>\n",
       "      <td>Swimming</td>\n",
       "      <td>M</td>\n",
       "      <td></td>\n",
       "      <td>FATAL, right buttock lacerated, left arm sever...</td>\n",
       "      <td>Y</td>\n",
       "      <td>17h30</td>\n",
       "      <td>NaN</td>\n",
       "    </tr>\n",
       "    <tr>\n",
       "      <th>5423</th>\n",
       "      <td>10-Mar-1925</td>\n",
       "      <td>1925.0</td>\n",
       "      <td>Unprovoked</td>\n",
       "      <td>PAPUA NEW GUINEA</td>\n",
       "      <td>Central Province</td>\n",
       "      <td>Hula</td>\n",
       "      <td>Swimming</td>\n",
       "      <td>M</td>\n",
       "      <td>A.M.</td>\n",
       "      <td>FATAL</td>\n",
       "      <td>Y</td>\n",
       "      <td>NaN</td>\n",
       "      <td>NaN</td>\n",
       "    </tr>\n",
       "    <tr>\n",
       "      <th>6398</th>\n",
       "      <td>1779</td>\n",
       "      <td>1779.0</td>\n",
       "      <td>Unprovoked</td>\n",
       "      <td>USA</td>\n",
       "      <td>Hawaii</td>\n",
       "      <td>Maliu, Hawai'i</td>\n",
       "      <td>Surfing</td>\n",
       "      <td>M</td>\n",
       "      <td>young</td>\n",
       "      <td>FATAL, buttock lacerated</td>\n",
       "      <td>Y</td>\n",
       "      <td>NaN</td>\n",
       "      <td>NaN</td>\n",
       "    </tr>\n",
       "  </tbody>\n",
       "</table>\n",
       "</div>"
      ],
      "text/plain": [
       "             date    year          type           country  \\\n",
       "2067  27-Sep-2002  2002.0      Provoked               USA   \n",
       "2068  27-Sep-2002  2002.0      Provoked             TONGA   \n",
       "2684  06-Apr-1994  1994.0    Unprovoked           BAHAMAS   \n",
       "3229     May 1982  1982.0       Invalid               USA   \n",
       "3355  29-Dec-1978  1978.0    Unprovoked         AUSTRALIA   \n",
       "3612  11-Apr-1971  1971.0    Unprovoked      SOUTH AFRICA   \n",
       "4302  07-Oct-1959  1959.0    Unprovoked        MOZAMBIQUE   \n",
       "4325  11-Aug-1959  1959.0    Unprovoked             JAPAN   \n",
       "4643  08-Jan-1953  1953.0    Watercraft         AUSTRALIA   \n",
       "4700  24-Mar-1951  1951.0    Unprovoked         AUSTRALIA   \n",
       "4929  14-May-1943  1943.0  Sea Disaster         AUSTRALIA   \n",
       "5054  12-Jan-1939  1939.0    Unprovoked         AUSTRALIA   \n",
       "5139  23-Feb-1936  1936.0      Provoked         AUSTRALIA   \n",
       "5337  27-Jan-1929  1929.0    Unprovoked         AUSTRALIA   \n",
       "5423  10-Mar-1925  1925.0    Unprovoked  PAPUA NEW GUINEA   \n",
       "6398         1779  1779.0    Unprovoked               USA   \n",
       "\n",
       "                       area                                  location  \\\n",
       "2067                Florida                  Key Largo, Monroe County   \n",
       "2068                 Vava'u             Swimming with humpback whales   \n",
       "2684                    NaN                                   Rum Cay   \n",
       "3229         South Carolina  Daws Island, Broad River (near Beaufort)   \n",
       "3355             Queensland                             Bribie Island   \n",
       "3612  Western Cape Province                               Buffels Bay   \n",
       "4302        Maputo Province              Xefina Island, Bay of Maputo   \n",
       "4325    Wakayama Prefecture            Isonoura Beach, Wakayama City    \n",
       "4643               Tasmania                                   Wynyard   \n",
       "4700        New South Wales                                    Sydney   \n",
       "4929             Queensland                              Off Brisbane   \n",
       "5054        New South Wales                            Clarence River   \n",
       "5139        New South Wales                      Angourie, near Yamba   \n",
       "5337             Queensland     Alma Bay, Magnetic Island, Townsville   \n",
       "5423       Central Province                                      Hula   \n",
       "6398                 Hawaii                            Maliu, Hawai'i   \n",
       "\n",
       "                                               activity  sex              age  \\\n",
       "2067                                            Fishing    M                    \n",
       "2068                                           Swimming    M                    \n",
       "2684                                             Wading    M              20?   \n",
       "3229                                                NaN    F           Ca. 33   \n",
       "3355                                                NaN    M                    \n",
       "3612                                           Swimming    M              >50   \n",
       "4302                                           Swimming    M                X   \n",
       "4325                                           Swimming    M         13 or 18   \n",
       "4643                                            Fishing  NaN  MAKE LINE GREEN   \n",
       "4700                       Fishing, casting in the surf    M          \"young\"   \n",
       "4929  Hospital Ship Centaur torpedoed & sunk by the ...    M                F   \n",
       "5054                                    Scooping prawns    M          Both 11   \n",
       "5139      Touching the mouth of a supposedly dead shark    F            young   \n",
       "5337                                           Swimming    M                    \n",
       "5423                                           Swimming    M             A.M.   \n",
       "6398                                            Surfing    M            young   \n",
       "\n",
       "                                                 injury fatal         time  \\\n",
       "2067             Left thumb lacerated PROVOKED INCIDENT     N    Afternoon   \n",
       "2068                 Thigh lacerated  PROVOKED INCIDENT     N        15h00   \n",
       "2684                            Lower right  leg bitten     N        10h30   \n",
       "3229           Human remains recovered from tiger shark   NaN          NaN   \n",
       "3355                                           Survived     N          NaN   \n",
       "3612                             FATAL, multiple bites      Y        11h30   \n",
       "4302           FATAL, died in Lourenco Marques Hospital     Y          NaN   \n",
       "4325                           FATAL, left thigh bitten     Y        14h30   \n",
       "4643          No injury to occupant, shark charged boat     N    Afternoon   \n",
       "4700                Severe lacerations of chest & thigh     N          NaN   \n",
       "4929                                              FATAL     Y  After 04h00   \n",
       "5054                                          No injury     N          NaN   \n",
       "5139                    Finger bitten PROVOKED INCIDENT     N          NaN   \n",
       "5337  FATAL, right buttock lacerated, left arm sever...     Y        17h30   \n",
       "5423                                              FATAL     Y          NaN   \n",
       "6398                         FATAL, buttock lacerated       Y          NaN   \n",
       "\n",
       "                                                species  \n",
       "2067                          1.8 m [6'] blacktip shark  \n",
       "2068                           Tiger shark, 1.5 m [5']k  \n",
       "2684                                     2' to 3' shark  \n",
       "3229  Shark involvement prior to death was not confi...  \n",
       "3355                                                NaN  \n",
       "3612  White shark according to tooth pattern and wit...  \n",
       "4302                                                NaN  \n",
       "4325                              Blue shark, 3 m [10']  \n",
       "4643                                   10' to 12' shark  \n",
       "4700                                  5.5 m [18'] shark  \n",
       "4929                                                NaN  \n",
       "5054                                           7' shark  \n",
       "5139                                                NaN  \n",
       "5337                                                NaN  \n",
       "5423                                                NaN  \n",
       "6398                                                NaN  "
      ]
     },
     "execution_count": 32,
     "metadata": {},
     "output_type": "execute_result"
    }
   ],
   "source": [
    "# Check rows that the age values does not make sense or can not be categorized\n",
    "df[df.age.apply(lambda x : True if x in ['\\xa0 ', 'X', ' ', '20?', '>50', '13 or 18', 'MAKE LINE GREEN', 'Ca. 33',\n",
    "                                         '\"young\"', 'F', 'Both 11', 'young', '  ', 'A.M.'] else False)]"
   ]
  },
  {
   "cell_type": "code",
   "execution_count": 33,
   "metadata": {
    "ExecuteTime": {
     "end_time": "2020-09-06T00:33:30.475849Z",
     "start_time": "2020-09-06T00:33:30.467894Z"
    }
   },
   "outputs": [
    {
     "name": "stdout",
     "output_type": "stream",
     "text": [
      "There are 16 rows containing \"&\" and they represent only 0.25% of the dataset.\n",
      "Since they can not be categorized, they will be removed from the dataframe"
     ]
    }
   ],
   "source": [
    "# Number of rows that contain \"&\"\n",
    "r_clean = len(df[df.age.apply(lambda x : True if x in ['\\xa0 ', 'X', ' ', '20?', '>50', '13 or 18', 'MAKE LINE GREEN',\n",
    "                                                       'Ca. 33', '\"young\"', 'F', 'Both 11', 'young', '  ', 'A.M.'] \n",
    "                              else False)].index)\n",
    "print(f'There are {r_clean} rows containing \"&\" and they represent only {(r_clean / n_rows) * 100:.2f}% of the', end=' '\n",
    "      f'dataset.\\nSince they can not be categorized, they will be removed from the dataframe', sep=' ')"
   ]
  },
  {
   "cell_type": "code",
   "execution_count": 34,
   "metadata": {
    "ExecuteTime": {
     "end_time": "2020-09-06T00:33:30.488814Z",
     "start_time": "2020-09-06T00:33:30.476846Z"
    }
   },
   "outputs": [
    {
     "name": "stdout",
     "output_type": "stream",
     "text": [
      "Before the removal, there was 6522 rows. After the removal, there is 6497 rows.\n"
     ]
    }
   ],
   "source": [
    "print(f'Before the removal, there was {n_rows} rows.', end=' ')\n",
    "\n",
    "# Remove the rows mentioned above\n",
    "df = df.drop(df[df.age.apply(lambda x : True if x in ['\\xa0 ', 'X', ' ', '20?', '>50', '13 or 18', 'MAKE LINE GREEN', \n",
    "                                                      'Ca. 33', '\"young\"', 'F', 'Both 11', 'young', '  ', 'A.M.', '30s',\n",
    "                                                     'a minor'] \n",
    "                             else False)].index)\n",
    "\n",
    "# Number of rows\n",
    "n_rows = df.shape[0]\n",
    "print(f'After the removal, there is {n_rows} rows.')"
   ]
  },
  {
   "cell_type": "code",
   "execution_count": 35,
   "metadata": {
    "ExecuteTime": {
     "end_time": "2020-09-06T00:33:30.494798Z",
     "start_time": "2020-09-06T00:33:30.489812Z"
    }
   },
   "outputs": [
    {
     "name": "stdout",
     "output_type": "stream",
     "text": [
      "Now, there are 124 unique values in this column.\n",
      "\n",
      "['50' '35' '55' nan '22' '14' '28' '38' '4' '63' '23' '11' '12' '10' '29'\n",
      " '15' '36' '7' '16' '30' '60' '18' '9' '26' '57' 'Teen' '24' '59' '13'\n",
      " '75' '21' '45' '33' '17' '37' '70' '44' '32' '20' '51' '22, 57, 31' '60s'\n",
      " '40' '49' \"20's\" '43' '8' '64' '19' '65' '67' '53' '34' '25' '58' '74'\n",
      " '46' '41' '31' '48' '20s' '42' '39' '56' '61' '6' '62' '52' '54' '69'\n",
      " '40s' '3' '82' '73' '68' '47' '66' '72' '27' '71' '18 months' '50s'\n",
      " 'teen' '77' '5' '86' '18 or 20' '12 or 13' 'Teens' '8 or 10' '84'\n",
      " '30 or 36' '6½' '33 or 37' 'mid-30s' ' 30' ' 28' \"60's\" '16 to 18' '87'\n",
      " 'Elderly' 'mid-20s' '74 ' '45 ' '21 or 26' '20 ' '18 to 22' 'adult'\n",
      " '9 months' '25 to 35' '1' '(adult)' '25 or 28' '\"middle-age\"'\n",
      " '2 to 3 months' ' 43' '81' '7 or 8' '78' '9 or 10' '10 or 12' '31 or 33'\n",
      " '2½' '13 or 14']\n"
     ]
    }
   ],
   "source": [
    "# Check the unique values\n",
    "print(f'Now, there are {len(list(df.age.unique()))} unique values in this column.\\n')\n",
    "print(df.age.unique())"
   ]
  },
  {
   "cell_type": "code",
   "execution_count": 36,
   "metadata": {
    "ExecuteTime": {
     "end_time": "2020-09-06T00:33:30.500782Z",
     "start_time": "2020-09-06T00:33:30.495796Z"
    }
   },
   "outputs": [
    {
     "data": {
      "text/plain": [
       "44.43589348930275"
      ]
     },
     "execution_count": 36,
     "metadata": {},
     "output_type": "execute_result"
    }
   ],
   "source": [
    "# Check % of missing values\n",
    "df.age.isna().mean()*100"
   ]
  },
  {
   "cell_type": "markdown",
   "metadata": {},
   "source": [
    "The percentage of missing values is too high and, if they are removed, it would greatly impact the dataset. So, for now, they will remain in the dataframe and they will be analyzed again later."
   ]
  },
  {
   "cell_type": "markdown",
   "metadata": {},
   "source": [
    "### Categorizing the age"
   ]
  },
  {
   "cell_type": "markdown",
   "metadata": {},
   "source": [
    "The column age will be categorized into:\n",
    "\n",
    "<table>\n",
    "    <thead>\n",
    "        <tr>\n",
    "            <th>AGE</th>\n",
    "            <th>CATEGORY</th>\n",
    "        </tr>\n",
    "    </thead>\n",
    "    <tbody>\n",
    "        <tr>\n",
    "            <td>< 11</td>\n",
    "            <td>Child</td>\n",
    "        </tr>\n",
    "        <tr>\n",
    "            <td>12 - 17</td>\n",
    "            <td>Teenager</td>\n",
    "        </tr>\n",
    "        <tr>\n",
    "            <td>18 - 35</td>\n",
    "            <td>Young Adult</td>\n",
    "        </tr>\n",
    "        <tr>\n",
    "            <td>36 - 65</td>\n",
    "            <td>Adult</td>\n",
    "        </tr>\n",
    "        <tr>\n",
    "            <td>> 65</td>\n",
    "            <td>Elder</td>\n",
    "        </tr>\n",
    "        <tr>\n",
    "            <td>NaN</td>\n",
    "            <td>No category</td>\n",
    "        </tr>\n",
    "    </tbody>\n",
    "</table>"
   ]
  },
  {
   "cell_type": "code",
   "execution_count": 37,
   "metadata": {
    "ExecuteTime": {
     "end_time": "2020-09-06T00:33:30.509759Z",
     "start_time": "2020-09-06T00:33:30.501780Z"
    }
   },
   "outputs": [],
   "source": [
    "# Create a function to categorize the ages\n",
    "def cat_ages(age: str):\n",
    "    '''\n",
    "    Categorizes an age.\n",
    "    \n",
    "    Args:\n",
    "    -----\n",
    "        age (str): a string containing an age\n",
    "    \n",
    "    Returns:\n",
    "    --------\n",
    "        category (str): a string containing the category\n",
    "    '''\n",
    "    \n",
    "    # Local variable that will store the category\n",
    "    category = ''\n",
    "    \n",
    "    # If the age is a digit\n",
    "    try:\n",
    "        age = int(age)\n",
    "        if age > 65:\n",
    "            category = 'Elder'\n",
    "        elif age > 35:\n",
    "            category = 'Adult'\n",
    "        elif age > 17:\n",
    "            category = 'Young Adult'\n",
    "        elif age > 11:\n",
    "            category = 'Teenager'\n",
    "        else:\n",
    "            category = 'Child'\n",
    "        \n",
    "        return category\n",
    "    \n",
    "    # If the age is a missing value or not a digit\n",
    "    except:\n",
    "        if age != age:\n",
    "            category = 'No category'\n",
    "        elif age in ['18 months', '8 or 10', '6½', '9 months', '2 to 3 months', '7 or 8', '9 or 10', '10 or 12', '2½']:\n",
    "            category = 'Child'\n",
    "        elif age in ['Teen', 'teen', '12 or 13', 'Teens', '16 to 18', '13 or 14']:\n",
    "            category = 'Teenager'\n",
    "        elif age in [\"20's\", '20s', '18 or 20', 'mid-20s', '30 or 36', '21 or 26', '18 to 22', '25 to 35', '25 or 28',\n",
    "                     '31 or 33']:\n",
    "            category = 'Young Adult'\n",
    "        elif age in ['40s', '50s', 'mid-30s', '33 or 37', 'adult', '(adult)', '\"middle-age\"']:\n",
    "            category = 'Adult'\n",
    "        elif age in ['60s', \"60's\", 'Elderly']:\n",
    "            category = 'Elder'\n",
    "        \n",
    "        return category"
   ]
  },
  {
   "cell_type": "code",
   "execution_count": 38,
   "metadata": {
    "ExecuteTime": {
     "end_time": "2020-09-06T00:33:30.525715Z",
     "start_time": "2020-09-06T00:33:30.510756Z"
    }
   },
   "outputs": [
    {
     "data": {
      "text/plain": [
       "No category    2887\n",
       "Young Adult    1723\n",
       "Adult           840\n",
       "Teenager        751\n",
       "Child           235\n",
       "Elder            60\n",
       "                  1\n",
       "Name: cat_age, dtype: int64"
      ]
     },
     "execution_count": 38,
     "metadata": {},
     "output_type": "execute_result"
    }
   ],
   "source": [
    "# Categorize the ages\n",
    "df['cat_age'] = df.age.apply(cat_ages)\n",
    "\n",
    "# Check the result\n",
    "df.cat_age.value_counts(dropna=False)"
   ]
  },
  {
   "cell_type": "code",
   "execution_count": 39,
   "metadata": {
    "ExecuteTime": {
     "end_time": "2020-09-06T00:33:30.534693Z",
     "start_time": "2020-09-06T00:33:30.526713Z"
    }
   },
   "outputs": [
    {
     "data": {
      "text/plain": [
       "True"
      ]
     },
     "execution_count": 39,
     "metadata": {},
     "output_type": "execute_result"
    }
   ],
   "source": [
    "# Check number of rows\n",
    "df.cat_age.value_counts(dropna=False).sum() == n_rows"
   ]
  },
  {
   "cell_type": "code",
   "execution_count": 40,
   "metadata": {
    "ExecuteTime": {
     "end_time": "2020-09-06T00:33:30.552645Z",
     "start_time": "2020-09-06T00:33:30.537685Z"
    }
   },
   "outputs": [
    {
     "name": "stdout",
     "output_type": "stream",
     "text": [
      "<class 'pandas.core.frame.DataFrame'>\n",
      "Int64Index: 6497 entries, 0 to 6557\n",
      "Data columns (total 14 columns):\n",
      " #   Column    Non-Null Count  Dtype  \n",
      "---  ------    --------------  -----  \n",
      " 0   date      6497 non-null   object \n",
      " 1   year      6495 non-null   float64\n",
      " 2   type      6491 non-null   object \n",
      " 3   country   6448 non-null   object \n",
      " 4   area      6034 non-null   object \n",
      " 5   location  5953 non-null   object \n",
      " 6   activity  5945 non-null   object \n",
      " 7   sex       5931 non-null   object \n",
      " 8   age       3610 non-null   object \n",
      " 9   injury    6467 non-null   object \n",
      " 10  fatal     5951 non-null   object \n",
      " 11  time      3115 non-null   object \n",
      " 12  species   3571 non-null   object \n",
      " 13  cat_age   6497 non-null   object \n",
      "dtypes: float64(1), object(13)\n",
      "memory usage: 761.4+ KB\n"
     ]
    }
   ],
   "source": [
    "# Check information abou the dataframe\n",
    "df.info()"
   ]
  },
  {
   "cell_type": "code",
   "execution_count": 41,
   "metadata": {
    "ExecuteTime": {
     "end_time": "2020-09-06T00:33:30.571604Z",
     "start_time": "2020-09-06T00:33:30.554640Z"
    }
   },
   "outputs": [
    {
     "data": {
      "text/html": [
       "<div>\n",
       "<style scoped>\n",
       "    .dataframe tbody tr th:only-of-type {\n",
       "        vertical-align: middle;\n",
       "    }\n",
       "\n",
       "    .dataframe tbody tr th {\n",
       "        vertical-align: top;\n",
       "    }\n",
       "\n",
       "    .dataframe thead th {\n",
       "        text-align: right;\n",
       "    }\n",
       "</style>\n",
       "<table border=\"1\" class=\"dataframe\">\n",
       "  <thead>\n",
       "    <tr style=\"text-align: right;\">\n",
       "      <th></th>\n",
       "      <th>date</th>\n",
       "      <th>year</th>\n",
       "      <th>type</th>\n",
       "      <th>country</th>\n",
       "      <th>area</th>\n",
       "      <th>location</th>\n",
       "      <th>activity</th>\n",
       "      <th>sex</th>\n",
       "      <th>age</th>\n",
       "      <th>injury</th>\n",
       "      <th>fatal</th>\n",
       "      <th>time</th>\n",
       "      <th>species</th>\n",
       "      <th>cat_age</th>\n",
       "    </tr>\n",
       "  </thead>\n",
       "  <tbody>\n",
       "    <tr>\n",
       "      <th>0</th>\n",
       "      <td>20-Aug-2020</td>\n",
       "      <td>2020.0</td>\n",
       "      <td>Unprovoked</td>\n",
       "      <td>USA</td>\n",
       "      <td>Florida</td>\n",
       "      <td>New Smyrna Beach, Volusia County</td>\n",
       "      <td>Boogie boarding</td>\n",
       "      <td>F</td>\n",
       "      <td>50</td>\n",
       "      <td>Minor lacerations to left leg</td>\n",
       "      <td>N</td>\n",
       "      <td>11h00</td>\n",
       "      <td>NaN</td>\n",
       "      <td>Adult</td>\n",
       "    </tr>\n",
       "    <tr>\n",
       "      <th>1</th>\n",
       "      <td>14-Aug-2020</td>\n",
       "      <td>2020.0</td>\n",
       "      <td>Unprovoked</td>\n",
       "      <td>AUSTRALIA</td>\n",
       "      <td>New South Wales</td>\n",
       "      <td>Shelly Beach, Port Macquarie</td>\n",
       "      <td>Surfing</td>\n",
       "      <td>F</td>\n",
       "      <td>35</td>\n",
       "      <td>Lacerations to right calf and posterior thigh</td>\n",
       "      <td>N</td>\n",
       "      <td>09h30</td>\n",
       "      <td>White shark, 2-to 3m</td>\n",
       "      <td>Young Adult</td>\n",
       "    </tr>\n",
       "    <tr>\n",
       "      <th>2</th>\n",
       "      <td>10-Aug-2020</td>\n",
       "      <td>2020.0</td>\n",
       "      <td>Provoked</td>\n",
       "      <td>USA</td>\n",
       "      <td>Florida</td>\n",
       "      <td>Off Gasparilla Island, Charlotte County</td>\n",
       "      <td>Fishing</td>\n",
       "      <td>M</td>\n",
       "      <td>55</td>\n",
       "      <td>Injury to left forearm by hooked shark PROVOKE...</td>\n",
       "      <td>N</td>\n",
       "      <td>16h00</td>\n",
       "      <td>Blacktip shark, 6'</td>\n",
       "      <td>Adult</td>\n",
       "    </tr>\n",
       "    <tr>\n",
       "      <th>3</th>\n",
       "      <td>02-Aug-2020</td>\n",
       "      <td>2020.0</td>\n",
       "      <td>Unprovoked</td>\n",
       "      <td>USA</td>\n",
       "      <td>Virgin Islands</td>\n",
       "      <td>Candle Reef, St. Croix</td>\n",
       "      <td>Snorkeling</td>\n",
       "      <td>F</td>\n",
       "      <td>NaN</td>\n",
       "      <td>Lacerations to hand and wrist</td>\n",
       "      <td>N</td>\n",
       "      <td>14h00</td>\n",
       "      <td>Nurse shark, 5'</td>\n",
       "      <td>No category</td>\n",
       "    </tr>\n",
       "    <tr>\n",
       "      <th>4</th>\n",
       "      <td>31-Jul-2020</td>\n",
       "      <td>2020.0</td>\n",
       "      <td>Unprovoked</td>\n",
       "      <td>USA</td>\n",
       "      <td>Florida</td>\n",
       "      <td>New Smyrna Beach, Volusia County</td>\n",
       "      <td>Surfing</td>\n",
       "      <td>F</td>\n",
       "      <td>22</td>\n",
       "      <td>Lacerations to foot</td>\n",
       "      <td>N</td>\n",
       "      <td>17h00</td>\n",
       "      <td>NaN</td>\n",
       "      <td>Young Adult</td>\n",
       "    </tr>\n",
       "  </tbody>\n",
       "</table>\n",
       "</div>"
      ],
      "text/plain": [
       "          date    year        type    country             area  \\\n",
       "0  20-Aug-2020  2020.0  Unprovoked        USA          Florida   \n",
       "1  14-Aug-2020  2020.0  Unprovoked  AUSTRALIA  New South Wales   \n",
       "2  10-Aug-2020  2020.0    Provoked        USA          Florida   \n",
       "3  02-Aug-2020  2020.0  Unprovoked        USA   Virgin Islands   \n",
       "4  31-Jul-2020  2020.0  Unprovoked        USA          Florida   \n",
       "\n",
       "                                  location         activity sex  age  \\\n",
       "0         New Smyrna Beach, Volusia County  Boogie boarding   F   50   \n",
       "1             Shelly Beach, Port Macquarie          Surfing   F   35   \n",
       "2  Off Gasparilla Island, Charlotte County          Fishing   M   55   \n",
       "3                   Candle Reef, St. Croix       Snorkeling   F  NaN   \n",
       "4         New Smyrna Beach, Volusia County          Surfing   F   22   \n",
       "\n",
       "                                              injury fatal   time  \\\n",
       "0                      Minor lacerations to left leg     N  11h00   \n",
       "1      Lacerations to right calf and posterior thigh     N  09h30   \n",
       "2  Injury to left forearm by hooked shark PROVOKE...     N  16h00   \n",
       "3                      Lacerations to hand and wrist     N  14h00   \n",
       "4                               Lacerations to foot      N  17h00   \n",
       "\n",
       "                species      cat_age  \n",
       "0                   NaN        Adult  \n",
       "1  White shark, 2-to 3m  Young Adult  \n",
       "2    Blacktip shark, 6'        Adult  \n",
       "3       Nurse shark, 5'  No category  \n",
       "4                   NaN  Young Adult  "
      ]
     },
     "execution_count": 41,
     "metadata": {},
     "output_type": "execute_result"
    }
   ],
   "source": [
    "# Check the dataset\n",
    "df.head()"
   ]
  },
  {
   "cell_type": "markdown",
   "metadata": {},
   "source": [
    "## Activity"
   ]
  },
  {
   "cell_type": "code",
   "execution_count": 42,
   "metadata": {
    "ExecuteTime": {
     "end_time": "2020-09-06T00:33:30.583561Z",
     "start_time": "2020-09-06T00:33:30.573587Z"
    }
   },
   "outputs": [
    {
     "name": "stdout",
     "output_type": "stream",
     "text": [
      "There are 1531 unique values in this column.\n",
      "\n"
     ]
    },
    {
     "data": {
      "text/plain": [
       "array(['Boogie boarding', 'Surfing', 'Fishing', ...,\n",
       "       'Crew swimming alongside their anchored ship',\n",
       "       '4 men were bathing', 'Wreck of  large double sailing canoe'],\n",
       "      dtype=object)"
      ]
     },
     "execution_count": 42,
     "metadata": {},
     "output_type": "execute_result"
    }
   ],
   "source": [
    "# Check the unique values in the column\n",
    "print(f'There are {len(list(df.activity.unique()))} unique values in this column.\\n')\n",
    "df.activity.unique()"
   ]
  },
  {
   "cell_type": "code",
   "execution_count": 45,
   "metadata": {
    "ExecuteTime": {
     "end_time": "2020-09-06T00:15:02.000917Z",
     "start_time": "2020-09-06T00:15:01.992940Z"
    }
   },
   "outputs": [
    {
     "data": {
      "text/plain": [
       "array(['Boogie boarding', 'Surfing', 'Fishing', ...,\n",
       "       'Crew swimming alongside their anchored ship',\n",
       "       '4 men were bathing', 'Wreck of  large double sailing canoe'],\n",
       "      dtype=object)"
      ]
     },
     "execution_count": 45,
     "metadata": {},
     "output_type": "execute_result"
    }
   ],
   "source": [
    "df.activity.unique()"
   ]
  },
  {
   "cell_type": "code",
   "execution_count": 45,
   "metadata": {
    "ExecuteTime": {
     "end_time": "2020-09-06T00:33:44.312364Z",
     "start_time": "2020-09-06T00:33:44.305383Z"
    }
   },
   "outputs": [
    {
     "data": {
      "text/plain": [
       "Surfing                                                        1034\n",
       "Swimming                                                        888\n",
       "NaN                                                             552\n",
       "Fishing                                                         454\n",
       "Spearfishing                                                    354\n",
       "                                                               ... \n",
       "Hunting crayfish                                                  1\n",
       "Swimming, after single-engine aircraft went down in the sea       1\n",
       "Paddling on surfboard or body board                               1\n",
       "Boat capsized, clinging to line                                   1\n",
       "Free diving for abalone (submerged)                               1\n",
       "Name: activity, Length: 1531, dtype: int64"
      ]
     },
     "execution_count": 45,
     "metadata": {},
     "output_type": "execute_result"
    }
   ],
   "source": [
    "# Check the number of each value\n",
    "df.activity.value_counts(dropna=False)"
   ]
  },
  {
   "cell_type": "code",
   "execution_count": 48,
   "metadata": {
    "ExecuteTime": {
     "end_time": "2020-09-06T00:33:55.211465Z",
     "start_time": "2020-09-06T00:33:55.202489Z"
    }
   },
   "outputs": [
    {
     "data": {
      "text/plain": [
       "Surfing                                   1039\n",
       "Swimming                                   935\n",
       "NaN                                        552\n",
       "Fishing                                    469\n",
       "Spearfishing                               362\n",
       "                                          ... \n",
       "Diving alongsidethe steamship Ranelagh       1\n",
       "Boat capsized, clinging to line              1\n",
       "Swimming after being washed overboard        1\n",
       "Trailing the field in a surf race            1\n",
       "\"Boat accident\"                              1\n",
       "Name: activity, Length: 1502, dtype: int64"
      ]
     },
     "execution_count": 48,
     "metadata": {},
     "output_type": "execute_result"
    }
   ],
   "source": [
    "# Remove unnecessary spaces in the values\n",
    "df.activity = df.activity.str.strip()\n",
    "\n",
    "# Check the result\n",
    "df.activity.value_counts(dropna=False)"
   ]
  },
  {
   "cell_type": "code",
   "execution_count": 49,
   "metadata": {
    "ExecuteTime": {
     "end_time": "2020-09-06T00:33:57.248033Z",
     "start_time": "2020-09-06T00:33:57.242035Z"
    }
   },
   "outputs": [
    {
     "name": "stdout",
     "output_type": "stream",
     "text": [
      "Now, there are 1502 unique values in this column.\n",
      "\n"
     ]
    },
    {
     "data": {
      "text/plain": [
       "array(['Boogie boarding', 'Surfing', 'Fishing', ...,\n",
       "       'Crew swimming alongside their anchored ship',\n",
       "       '4 men were bathing', 'Wreck of  large double sailing canoe'],\n",
       "      dtype=object)"
      ]
     },
     "execution_count": 49,
     "metadata": {},
     "output_type": "execute_result"
    }
   ],
   "source": [
    "# Check the unique values in the column\n",
    "print(f'Now, there are {len(list(df.activity.unique()))} unique values in this column.\\n')\n",
    "df.activity.unique()"
   ]
  },
  {
   "cell_type": "markdown",
   "metadata": {},
   "source": [
    "For this analysis, only the activity that was involved the most in the shark incidents is important, but I will check the top 10 activities."
   ]
  },
  {
   "cell_type": "code",
   "execution_count": 50,
   "metadata": {
    "ExecuteTime": {
     "end_time": "2020-09-06T00:33:59.203790Z",
     "start_time": "2020-09-06T00:33:59.195810Z"
    }
   },
   "outputs": [
    {
     "data": {
      "text/plain": [
       "Surfing         1039\n",
       "Swimming         935\n",
       "NaN              552\n",
       "Fishing          469\n",
       "Spearfishing     362\n",
       "Bathing          166\n",
       "Wading           160\n",
       "Diving           134\n",
       "Standing         106\n",
       "Snorkeling       102\n",
       "Name: activity, dtype: int64"
      ]
     },
     "execution_count": 50,
     "metadata": {},
     "output_type": "execute_result"
    }
   ],
   "source": [
    "# Check the top 10 actvities\n",
    "df.activity.value_counts(dropna=False).head(10)"
   ]
  },
  {
   "cell_type": "markdown",
   "metadata": {},
   "source": [
    "### Surinfg"
   ]
  },
  {
   "cell_type": "code",
   "execution_count": null,
   "metadata": {},
   "outputs": [],
   "source": []
  },
  {
   "cell_type": "code",
   "execution_count": null,
   "metadata": {},
   "outputs": [],
   "source": []
  },
  {
   "cell_type": "code",
   "execution_count": null,
   "metadata": {},
   "outputs": [],
   "source": []
  },
  {
   "cell_type": "code",
   "execution_count": null,
   "metadata": {},
   "outputs": [],
   "source": []
  },
  {
   "cell_type": "code",
   "execution_count": null,
   "metadata": {},
   "outputs": [],
   "source": []
  },
  {
   "cell_type": "markdown",
   "metadata": {},
   "source": [
    "## Extra - Year"
   ]
  },
  {
   "cell_type": "markdown",
   "metadata": {},
   "source": [
    "tirar da coluna 'date'. Todos no date o ano está como 0.\n",
    "coluna 'year' tem  2 NaN."
   ]
  },
  {
   "cell_type": "code",
   "execution_count": 72,
   "metadata": {
    "ExecuteTime": {
     "end_time": "2020-09-06T00:55:39.085293Z",
     "start_time": "2020-09-06T00:55:39.074323Z"
    }
   },
   "outputs": [
    {
     "name": "stdout",
     "output_type": "stream",
     "text": [
      "<class 'pandas.core.frame.DataFrame'>\n",
      "Int64Index: 6497 entries, 0 to 6557\n",
      "Data columns (total 14 columns):\n",
      " #   Column    Non-Null Count  Dtype  \n",
      "---  ------    --------------  -----  \n",
      " 0   date      6497 non-null   object \n",
      " 1   year      6495 non-null   float64\n",
      " 2   type      6491 non-null   object \n",
      " 3   country   6448 non-null   object \n",
      " 4   area      6034 non-null   object \n",
      " 5   location  5953 non-null   object \n",
      " 6   activity  5945 non-null   object \n",
      " 7   sex       5931 non-null   object \n",
      " 8   age       3610 non-null   object \n",
      " 9   injury    6467 non-null   object \n",
      " 10  fatal     5951 non-null   object \n",
      " 11  time      3115 non-null   object \n",
      " 12  species   3571 non-null   object \n",
      " 13  cat_age   6497 non-null   object \n",
      "dtypes: float64(1), object(13)\n",
      "memory usage: 761.4+ KB\n"
     ]
    }
   ],
   "source": [
    "df.info()"
   ]
  },
  {
   "cell_type": "code",
   "execution_count": 59,
   "metadata": {
    "ExecuteTime": {
     "end_time": "2020-09-06T00:52:45.266857Z",
     "start_time": "2020-09-06T00:52:45.257881Z"
    }
   },
   "outputs": [
    {
     "data": {
      "text/plain": [
       "1957           9\n",
       "1942           8\n",
       "1958           7\n",
       "No date        6\n",
       "1941           6\n",
       "              ..\n",
       "14-Feb-2004    1\n",
       "01-Aug-1939    1\n",
       "24-Oct-2016    1\n",
       "May-2001       1\n",
       "02-Oct-2000    1\n",
       "Name: date, Length: 5626, dtype: int64"
      ]
     },
     "execution_count": 59,
     "metadata": {},
     "output_type": "execute_result"
    }
   ],
   "source": [
    "df.date.value_counts(dropna=False)"
   ]
  },
  {
   "cell_type": "code",
   "execution_count": 69,
   "metadata": {
    "ExecuteTime": {
     "end_time": "2020-09-06T00:54:40.894455Z",
     "start_time": "2020-09-06T00:54:40.883485Z"
    }
   },
   "outputs": [
    {
     "data": {
      "text/plain": [
       "26"
      ]
     },
     "execution_count": 69,
     "metadata": {},
     "output_type": "execute_result"
    }
   ],
   "source": [
    "pattern = '[Nn]o date'\n",
    "len(df[df.date.str.contains(pattern, na=False)].index)"
   ]
  },
  {
   "cell_type": "code",
   "execution_count": 70,
   "metadata": {
    "ExecuteTime": {
     "end_time": "2020-09-06T00:54:57.009755Z",
     "start_time": "2020-09-06T00:54:56.987780Z"
    }
   },
   "outputs": [
    {
     "data": {
      "text/html": [
       "<div>\n",
       "<style scoped>\n",
       "    .dataframe tbody tr th:only-of-type {\n",
       "        vertical-align: middle;\n",
       "    }\n",
       "\n",
       "    .dataframe tbody tr th {\n",
       "        vertical-align: top;\n",
       "    }\n",
       "\n",
       "    .dataframe thead th {\n",
       "        text-align: right;\n",
       "    }\n",
       "</style>\n",
       "<table border=\"1\" class=\"dataframe\">\n",
       "  <thead>\n",
       "    <tr style=\"text-align: right;\">\n",
       "      <th></th>\n",
       "      <th>date</th>\n",
       "      <th>year</th>\n",
       "      <th>type</th>\n",
       "      <th>country</th>\n",
       "      <th>area</th>\n",
       "      <th>location</th>\n",
       "      <th>activity</th>\n",
       "      <th>sex</th>\n",
       "      <th>age</th>\n",
       "      <th>injury</th>\n",
       "      <th>fatal</th>\n",
       "      <th>time</th>\n",
       "      <th>species</th>\n",
       "      <th>cat_age</th>\n",
       "    </tr>\n",
       "  </thead>\n",
       "  <tbody>\n",
       "    <tr>\n",
       "      <th>6465</th>\n",
       "      <td>No date, late 1960s</td>\n",
       "      <td>0.0</td>\n",
       "      <td>Unprovoked</td>\n",
       "      <td>VENEZUELA</td>\n",
       "      <td>Los Roques  Islands</td>\n",
       "      <td>NaN</td>\n",
       "      <td>Spearfishing</td>\n",
       "      <td>M</td>\n",
       "      <td>NaN</td>\n",
       "      <td>FATAL (x3), one survived with minor injuries</td>\n",
       "      <td>Y</td>\n",
       "      <td>NaN</td>\n",
       "      <td>said to involve 2.5 m hammerhead sharks</td>\n",
       "      <td>No category</td>\n",
       "    </tr>\n",
       "    <tr>\n",
       "      <th>6471</th>\n",
       "      <td>No date, Before 1963</td>\n",
       "      <td>0.0</td>\n",
       "      <td>Unprovoked</td>\n",
       "      <td>BAHREIN</td>\n",
       "      <td>NaN</td>\n",
       "      <td>NaN</td>\n",
       "      <td>Pearl diving</td>\n",
       "      <td>M</td>\n",
       "      <td>NaN</td>\n",
       "      <td>FATAL</td>\n",
       "      <td>Y</td>\n",
       "      <td>NaN</td>\n",
       "      <td>Tiger shark</td>\n",
       "      <td>No category</td>\n",
       "    </tr>\n",
       "    <tr>\n",
       "      <th>6473</th>\n",
       "      <td>No date</td>\n",
       "      <td>0.0</td>\n",
       "      <td>Unprovoked</td>\n",
       "      <td>USA</td>\n",
       "      <td>Florida</td>\n",
       "      <td>Key West, Monroe County</td>\n",
       "      <td>Kitesurfing</td>\n",
       "      <td>M</td>\n",
       "      <td>NaN</td>\n",
       "      <td>Hand bitten</td>\n",
       "      <td>N</td>\n",
       "      <td>NaN</td>\n",
       "      <td>NaN</td>\n",
       "      <td>No category</td>\n",
       "    </tr>\n",
       "    <tr>\n",
       "      <th>6474</th>\n",
       "      <td>No date</td>\n",
       "      <td>0.0</td>\n",
       "      <td>Unprovoked</td>\n",
       "      <td>REUNION</td>\n",
       "      <td>Grand'Anse</td>\n",
       "      <td>Petite-île</td>\n",
       "      <td>yachtsman in a zodiac</td>\n",
       "      <td>M</td>\n",
       "      <td>NaN</td>\n",
       "      <td>Survived</td>\n",
       "      <td>N</td>\n",
       "      <td>NaN</td>\n",
       "      <td>NaN</td>\n",
       "      <td>No category</td>\n",
       "    </tr>\n",
       "    <tr>\n",
       "      <th>6476</th>\n",
       "      <td>No date, Before May-1996</td>\n",
       "      <td>0.0</td>\n",
       "      <td>Unprovoked</td>\n",
       "      <td>KOREA</td>\n",
       "      <td>South Korea</td>\n",
       "      <td>Cheju Island</td>\n",
       "      <td>Diving</td>\n",
       "      <td>F</td>\n",
       "      <td>NaN</td>\n",
       "      <td>FATAL, injured while diving, then shark bit her</td>\n",
       "      <td>Y</td>\n",
       "      <td>NaN</td>\n",
       "      <td>NaN</td>\n",
       "      <td>No category</td>\n",
       "    </tr>\n",
       "    <tr>\n",
       "      <th>6477</th>\n",
       "      <td>No date, Before Mar-1995</td>\n",
       "      <td>0.0</td>\n",
       "      <td>Unprovoked</td>\n",
       "      <td>FRENCH POLYNESIA</td>\n",
       "      <td>Tuamotus</td>\n",
       "      <td>Rangiroa</td>\n",
       "      <td>Fishing</td>\n",
       "      <td>M</td>\n",
       "      <td>NaN</td>\n",
       "      <td>Speared a shark, fell overboard and another sh...</td>\n",
       "      <td>N</td>\n",
       "      <td>NaN</td>\n",
       "      <td>NaN</td>\n",
       "      <td>No category</td>\n",
       "    </tr>\n",
       "    <tr>\n",
       "      <th>6479</th>\n",
       "      <td>No date, Before Aug-1989</td>\n",
       "      <td>0.0</td>\n",
       "      <td>Unprovoked</td>\n",
       "      <td>VANUATU</td>\n",
       "      <td>Malampa Province</td>\n",
       "      <td>Malakula</td>\n",
       "      <td>NaN</td>\n",
       "      <td>F</td>\n",
       "      <td>NaN</td>\n",
       "      <td>FATAL</td>\n",
       "      <td>Y</td>\n",
       "      <td>NaN</td>\n",
       "      <td>NaN</td>\n",
       "      <td>No category</td>\n",
       "    </tr>\n",
       "    <tr>\n",
       "      <th>6480</th>\n",
       "      <td>No date, Before Aug-1987</td>\n",
       "      <td>0.0</td>\n",
       "      <td>Provoked</td>\n",
       "      <td>VANUATU</td>\n",
       "      <td>Malampa Province</td>\n",
       "      <td>Hokai, Malakula</td>\n",
       "      <td>Attempting to drive shark from area</td>\n",
       "      <td>M</td>\n",
       "      <td>NaN</td>\n",
       "      <td>Speared shark broke outrigger of canoe throwin...</td>\n",
       "      <td>N</td>\n",
       "      <td>NaN</td>\n",
       "      <td>A large hammerhead shark</td>\n",
       "      <td>No category</td>\n",
       "    </tr>\n",
       "    <tr>\n",
       "      <th>6481</th>\n",
       "      <td>No date, Before 1987</td>\n",
       "      <td>0.0</td>\n",
       "      <td>Unprovoked</td>\n",
       "      <td>IRAN</td>\n",
       "      <td>Khuzestan Province</td>\n",
       "      <td>Ahvaz, on the Karun River</td>\n",
       "      <td>NaN</td>\n",
       "      <td>M</td>\n",
       "      <td>NaN</td>\n",
       "      <td>Foot severed</td>\n",
       "      <td>N</td>\n",
       "      <td>NaN</td>\n",
       "      <td>Bull shark</td>\n",
       "      <td>No category</td>\n",
       "    </tr>\n",
       "    <tr>\n",
       "      <th>6482</th>\n",
       "      <td>No date, Before  1975</td>\n",
       "      <td>0.0</td>\n",
       "      <td>Provoked</td>\n",
       "      <td>USA</td>\n",
       "      <td>Florida</td>\n",
       "      <td>Riviera Beach, Palm Beach County</td>\n",
       "      <td>Skin diving. Grabbed shark's tail; shark turne...</td>\n",
       "      <td>M</td>\n",
       "      <td>19</td>\n",
       "      <td>Ankle punctured &amp; lacerated, hands abraded PRO...</td>\n",
       "      <td>N</td>\n",
       "      <td>NaN</td>\n",
       "      <td>Nurse shark, 2.1 m [7']</td>\n",
       "      <td>Young Adult</td>\n",
       "    </tr>\n",
       "    <tr>\n",
       "      <th>6483</th>\n",
       "      <td>No date, Before 1975</td>\n",
       "      <td>0.0</td>\n",
       "      <td>Invalid</td>\n",
       "      <td>PAPUA NEW GUINEA</td>\n",
       "      <td>Milne Bay  Province</td>\n",
       "      <td>D'Entrecasteaux islands, 20 miles off the coast</td>\n",
       "      <td>Scuba diving</td>\n",
       "      <td>M</td>\n",
       "      <td>NaN</td>\n",
       "      <td>Said to be fatal and involve a 4.6 m to 6 m [1...</td>\n",
       "      <td>Y</td>\n",
       "      <td>NaN</td>\n",
       "      <td>Questionable</td>\n",
       "      <td>No category</td>\n",
       "    </tr>\n",
       "    <tr>\n",
       "      <th>6484</th>\n",
       "      <td>No date, Before 1969</td>\n",
       "      <td>0.0</td>\n",
       "      <td>Unprovoked</td>\n",
       "      <td>RED SEA?</td>\n",
       "      <td>NaN</td>\n",
       "      <td>NaN</td>\n",
       "      <td>Free diving</td>\n",
       "      <td>F</td>\n",
       "      <td>NaN</td>\n",
       "      <td>Shoulder scratched, swim fin bitten</td>\n",
       "      <td>N</td>\n",
       "      <td>Morning</td>\n",
       "      <td>NaN</td>\n",
       "      <td>No category</td>\n",
       "    </tr>\n",
       "    <tr>\n",
       "      <th>6485</th>\n",
       "      <td>No date, Before 3-Jan-1967</td>\n",
       "      <td>0.0</td>\n",
       "      <td>Unprovoked</td>\n",
       "      <td>SOUTH AFRICA</td>\n",
       "      <td>Eastern Cape Province</td>\n",
       "      <td>Keiskamma River mouth</td>\n",
       "      <td>Crossing river on a raft</td>\n",
       "      <td>M</td>\n",
       "      <td>NaN</td>\n",
       "      <td>FATAL, leg severed</td>\n",
       "      <td>Y</td>\n",
       "      <td>NaN</td>\n",
       "      <td>NaN</td>\n",
       "      <td>No category</td>\n",
       "    </tr>\n",
       "    <tr>\n",
       "      <th>6486</th>\n",
       "      <td>No date, Before 1963</td>\n",
       "      <td>0.0</td>\n",
       "      <td>Unprovoked</td>\n",
       "      <td>USA</td>\n",
       "      <td>California</td>\n",
       "      <td>LaJolla, San Diego County</td>\n",
       "      <td>Free diving, collecting sand dollars</td>\n",
       "      <td>M</td>\n",
       "      <td>NaN</td>\n",
       "      <td>Calf bitten</td>\n",
       "      <td>N</td>\n",
       "      <td>NaN</td>\n",
       "      <td>Shovelnose guitarfish, adult male</td>\n",
       "      <td>No category</td>\n",
       "    </tr>\n",
       "    <tr>\n",
       "      <th>6487</th>\n",
       "      <td>No date, Before 8-May-1965</td>\n",
       "      <td>0.0</td>\n",
       "      <td>Unprovoked</td>\n",
       "      <td>GREECE</td>\n",
       "      <td>Island of Volos</td>\n",
       "      <td>Eastern shore</td>\n",
       "      <td>Swimming</td>\n",
       "      <td>F</td>\n",
       "      <td>NaN</td>\n",
       "      <td>FATAL</td>\n",
       "      <td>Y</td>\n",
       "      <td>NaN</td>\n",
       "      <td>NaN</td>\n",
       "      <td>No category</td>\n",
       "    </tr>\n",
       "    <tr>\n",
       "      <th>6488</th>\n",
       "      <td>No date, Before 1963</td>\n",
       "      <td>0.0</td>\n",
       "      <td>Invalid</td>\n",
       "      <td>USA</td>\n",
       "      <td>Hawaii</td>\n",
       "      <td>Portlock, Oahu</td>\n",
       "      <td>Diving</td>\n",
       "      <td>M</td>\n",
       "      <td>NaN</td>\n",
       "      <td>A 4.3 m [14'] shark made threat display. No in...</td>\n",
       "      <td>NaN</td>\n",
       "      <td>NaN</td>\n",
       "      <td>Invalid</td>\n",
       "      <td>No category</td>\n",
       "    </tr>\n",
       "    <tr>\n",
       "      <th>6489</th>\n",
       "      <td>No date, Before 1902</td>\n",
       "      <td>0.0</td>\n",
       "      <td>Unprovoked</td>\n",
       "      <td>USA</td>\n",
       "      <td>Florida</td>\n",
       "      <td>Mosquito Inlet (Ponce Inlet), Volusia County</td>\n",
       "      <td>Canoeing</td>\n",
       "      <td>M</td>\n",
       "      <td>NaN</td>\n",
       "      <td>FATAL</td>\n",
       "      <td>Y</td>\n",
       "      <td>NaN</td>\n",
       "      <td>NaN</td>\n",
       "      <td>No category</td>\n",
       "    </tr>\n",
       "    <tr>\n",
       "      <th>6490</th>\n",
       "      <td>No date, Before 1902</td>\n",
       "      <td>0.0</td>\n",
       "      <td>Unprovoked</td>\n",
       "      <td>MEDITERRANEAN SEA</td>\n",
       "      <td>NaN</td>\n",
       "      <td>NaN</td>\n",
       "      <td>NaN</td>\n",
       "      <td>M</td>\n",
       "      <td>NaN</td>\n",
       "      <td>FATAL</td>\n",
       "      <td>Y</td>\n",
       "      <td>NaN</td>\n",
       "      <td>NaN</td>\n",
       "      <td>No category</td>\n",
       "    </tr>\n",
       "    <tr>\n",
       "      <th>6491</th>\n",
       "      <td>No date, Before 1963</td>\n",
       "      <td>0.0</td>\n",
       "      <td>Unprovoked</td>\n",
       "      <td>AUSTRALIA</td>\n",
       "      <td>Torres Strait</td>\n",
       "      <td>NaN</td>\n",
       "      <td>Diving for trochus</td>\n",
       "      <td>M</td>\n",
       "      <td>NaN</td>\n",
       "      <td>Calf removed</td>\n",
       "      <td>N</td>\n",
       "      <td>NaN</td>\n",
       "      <td>0.9 m [3'] shark</td>\n",
       "      <td>No category</td>\n",
       "    </tr>\n",
       "    <tr>\n",
       "      <th>6492</th>\n",
       "      <td>No date, After August 1926 and before 1936</td>\n",
       "      <td>0.0</td>\n",
       "      <td>Unprovoked</td>\n",
       "      <td>AUSTRALIA</td>\n",
       "      <td>Western Australia</td>\n",
       "      <td>Cossack Creek</td>\n",
       "      <td>Pearl diving</td>\n",
       "      <td>M</td>\n",
       "      <td>NaN</td>\n",
       "      <td>Leg bitten</td>\n",
       "      <td>N</td>\n",
       "      <td>NaN</td>\n",
       "      <td>NaN</td>\n",
       "      <td>No category</td>\n",
       "    </tr>\n",
       "    <tr>\n",
       "      <th>6493</th>\n",
       "      <td>No date, Before 1963</td>\n",
       "      <td>0.0</td>\n",
       "      <td>Unprovoked</td>\n",
       "      <td>SINGAPORE</td>\n",
       "      <td>NaN</td>\n",
       "      <td>Keppel Harbor,  2 miles from Singapore city ce...</td>\n",
       "      <td>Swimming</td>\n",
       "      <td>NaN</td>\n",
       "      <td>NaN</td>\n",
       "      <td>Recovered</td>\n",
       "      <td>N</td>\n",
       "      <td>NaN</td>\n",
       "      <td>NaN</td>\n",
       "      <td>No category</td>\n",
       "    </tr>\n",
       "    <tr>\n",
       "      <th>6531</th>\n",
       "      <td>No date</td>\n",
       "      <td>0.0</td>\n",
       "      <td>Unprovoked</td>\n",
       "      <td>GREECE</td>\n",
       "      <td>Dodecanese Islands</td>\n",
       "      <td>Symi Island</td>\n",
       "      <td>Sponge diving</td>\n",
       "      <td>M</td>\n",
       "      <td>NaN</td>\n",
       "      <td>Head bitten</td>\n",
       "      <td>N</td>\n",
       "      <td>NaN</td>\n",
       "      <td>NaN</td>\n",
       "      <td>No category</td>\n",
       "    </tr>\n",
       "    <tr>\n",
       "      <th>6535</th>\n",
       "      <td>No date</td>\n",
       "      <td>0.0</td>\n",
       "      <td>Unprovoked</td>\n",
       "      <td>SOUTH AFRICA</td>\n",
       "      <td>Western Cape Province</td>\n",
       "      <td>Arniston</td>\n",
       "      <td>Wading</td>\n",
       "      <td>F</td>\n",
       "      <td>NaN</td>\n",
       "      <td>Ankle bitten</td>\n",
       "      <td>N</td>\n",
       "      <td>NaN</td>\n",
       "      <td>NaN</td>\n",
       "      <td>No category</td>\n",
       "    </tr>\n",
       "    <tr>\n",
       "      <th>6536</th>\n",
       "      <td>No date</td>\n",
       "      <td>0.0</td>\n",
       "      <td>Unprovoked</td>\n",
       "      <td>AUSTRALIA</td>\n",
       "      <td>NaN</td>\n",
       "      <td>NaN</td>\n",
       "      <td>Pearl diving</td>\n",
       "      <td>M</td>\n",
       "      <td>NaN</td>\n",
       "      <td>Lacerations to thigh</td>\n",
       "      <td>N</td>\n",
       "      <td>NaN</td>\n",
       "      <td>NaN</td>\n",
       "      <td>No category</td>\n",
       "    </tr>\n",
       "    <tr>\n",
       "      <th>6537</th>\n",
       "      <td>No date</td>\n",
       "      <td>0.0</td>\n",
       "      <td>Unprovoked</td>\n",
       "      <td>SOUTH AFRICA</td>\n",
       "      <td>KwaZulu-Natal</td>\n",
       "      <td>Durban</td>\n",
       "      <td>Swimming in pool formed by construction of a w...</td>\n",
       "      <td>M</td>\n",
       "      <td>NaN</td>\n",
       "      <td>FATAL, leg severed</td>\n",
       "      <td>Y</td>\n",
       "      <td>NaN</td>\n",
       "      <td>NaN</td>\n",
       "      <td>No category</td>\n",
       "    </tr>\n",
       "    <tr>\n",
       "      <th>6545</th>\n",
       "      <td>No date (3 days after preceding incident) &amp; pr...</td>\n",
       "      <td>0.0</td>\n",
       "      <td>Unprovoked</td>\n",
       "      <td>SOUTH AFRICA</td>\n",
       "      <td>KwaZulu-Natal</td>\n",
       "      <td>Durban</td>\n",
       "      <td>Fishing</td>\n",
       "      <td>M</td>\n",
       "      <td>NaN</td>\n",
       "      <td>FATAL, body not recovered but shark was caught...</td>\n",
       "      <td>Y</td>\n",
       "      <td>NaN</td>\n",
       "      <td>NaN</td>\n",
       "      <td>No category</td>\n",
       "    </tr>\n",
       "  </tbody>\n",
       "</table>\n",
       "</div>"
      ],
      "text/plain": [
       "                                                   date  year        type  \\\n",
       "6465                                No date, late 1960s   0.0  Unprovoked   \n",
       "6471                               No date, Before 1963   0.0  Unprovoked   \n",
       "6473                                            No date   0.0  Unprovoked   \n",
       "6474                                            No date   0.0  Unprovoked   \n",
       "6476                           No date, Before May-1996   0.0  Unprovoked   \n",
       "6477                           No date, Before Mar-1995   0.0  Unprovoked   \n",
       "6479                           No date, Before Aug-1989   0.0  Unprovoked   \n",
       "6480                           No date, Before Aug-1987   0.0    Provoked   \n",
       "6481                               No date, Before 1987   0.0  Unprovoked   \n",
       "6482                              No date, Before  1975   0.0    Provoked   \n",
       "6483                               No date, Before 1975   0.0     Invalid   \n",
       "6484                               No date, Before 1969   0.0  Unprovoked   \n",
       "6485                         No date, Before 3-Jan-1967   0.0  Unprovoked   \n",
       "6486                               No date, Before 1963   0.0  Unprovoked   \n",
       "6487                         No date, Before 8-May-1965   0.0  Unprovoked   \n",
       "6488                               No date, Before 1963   0.0     Invalid   \n",
       "6489                               No date, Before 1902   0.0  Unprovoked   \n",
       "6490                               No date, Before 1902   0.0  Unprovoked   \n",
       "6491                               No date, Before 1963   0.0  Unprovoked   \n",
       "6492         No date, After August 1926 and before 1936   0.0  Unprovoked   \n",
       "6493                               No date, Before 1963   0.0  Unprovoked   \n",
       "6531                                            No date   0.0  Unprovoked   \n",
       "6535                                            No date   0.0  Unprovoked   \n",
       "6536                                            No date   0.0  Unprovoked   \n",
       "6537                                            No date   0.0  Unprovoked   \n",
       "6545  No date (3 days after preceding incident) & pr...   0.0  Unprovoked   \n",
       "\n",
       "                country                   area  \\\n",
       "6465          VENEZUELA    Los Roques  Islands   \n",
       "6471            BAHREIN                    NaN   \n",
       "6473                USA                Florida   \n",
       "6474            REUNION             Grand'Anse   \n",
       "6476              KOREA            South Korea   \n",
       "6477   FRENCH POLYNESIA               Tuamotus   \n",
       "6479            VANUATU       Malampa Province   \n",
       "6480            VANUATU       Malampa Province   \n",
       "6481               IRAN     Khuzestan Province   \n",
       "6482                USA                Florida   \n",
       "6483   PAPUA NEW GUINEA    Milne Bay  Province   \n",
       "6484           RED SEA?                    NaN   \n",
       "6485       SOUTH AFRICA  Eastern Cape Province   \n",
       "6486                USA             California   \n",
       "6487             GREECE        Island of Volos   \n",
       "6488                USA                 Hawaii   \n",
       "6489                USA                Florida   \n",
       "6490  MEDITERRANEAN SEA                    NaN   \n",
       "6491          AUSTRALIA          Torres Strait   \n",
       "6492          AUSTRALIA      Western Australia   \n",
       "6493          SINGAPORE                    NaN   \n",
       "6531             GREECE     Dodecanese Islands   \n",
       "6535       SOUTH AFRICA  Western Cape Province   \n",
       "6536          AUSTRALIA                    NaN   \n",
       "6537       SOUTH AFRICA          KwaZulu-Natal   \n",
       "6545       SOUTH AFRICA          KwaZulu-Natal   \n",
       "\n",
       "                                               location  \\\n",
       "6465                                                NaN   \n",
       "6471                                                NaN   \n",
       "6473                            Key West, Monroe County   \n",
       "6474                                         Petite-île   \n",
       "6476                                       Cheju Island   \n",
       "6477                                           Rangiroa   \n",
       "6479                                           Malakula   \n",
       "6480                                    Hokai, Malakula   \n",
       "6481                          Ahvaz, on the Karun River   \n",
       "6482                   Riviera Beach, Palm Beach County   \n",
       "6483    D'Entrecasteaux islands, 20 miles off the coast   \n",
       "6484                                                NaN   \n",
       "6485                              Keiskamma River mouth   \n",
       "6486                          LaJolla, San Diego County   \n",
       "6487                                      Eastern shore   \n",
       "6488                                     Portlock, Oahu   \n",
       "6489       Mosquito Inlet (Ponce Inlet), Volusia County   \n",
       "6490                                                NaN   \n",
       "6491                                                NaN   \n",
       "6492                                      Cossack Creek   \n",
       "6493  Keppel Harbor,  2 miles from Singapore city ce...   \n",
       "6531                                        Symi Island   \n",
       "6535                                           Arniston   \n",
       "6536                                                NaN   \n",
       "6537                                            Durban    \n",
       "6545                                             Durban   \n",
       "\n",
       "                                               activity  sex  age  \\\n",
       "6465                                       Spearfishing    M  NaN   \n",
       "6471                                       Pearl diving    M  NaN   \n",
       "6473                                        Kitesurfing    M  NaN   \n",
       "6474                              yachtsman in a zodiac    M  NaN   \n",
       "6476                                             Diving    F  NaN   \n",
       "6477                                            Fishing    M  NaN   \n",
       "6479                                                NaN    F  NaN   \n",
       "6480                Attempting to drive shark from area    M  NaN   \n",
       "6481                                                NaN    M  NaN   \n",
       "6482  Skin diving. Grabbed shark's tail; shark turne...    M   19   \n",
       "6483                                       Scuba diving    M  NaN   \n",
       "6484                                        Free diving    F  NaN   \n",
       "6485                           Crossing river on a raft    M  NaN   \n",
       "6486               Free diving, collecting sand dollars    M  NaN   \n",
       "6487                                           Swimming    F  NaN   \n",
       "6488                                             Diving    M  NaN   \n",
       "6489                                           Canoeing    M  NaN   \n",
       "6490                                                NaN    M  NaN   \n",
       "6491                                 Diving for trochus    M  NaN   \n",
       "6492                                       Pearl diving    M  NaN   \n",
       "6493                                           Swimming  NaN  NaN   \n",
       "6531                                      Sponge diving    M  NaN   \n",
       "6535                                             Wading    F  NaN   \n",
       "6536                                       Pearl diving    M  NaN   \n",
       "6537  Swimming in pool formed by construction of a w...    M  NaN   \n",
       "6545                                            Fishing    M  NaN   \n",
       "\n",
       "                                                 injury fatal     time  \\\n",
       "6465       FATAL (x3), one survived with minor injuries     Y      NaN   \n",
       "6471                                              FATAL     Y      NaN   \n",
       "6473                                        Hand bitten     N      NaN   \n",
       "6474                                           Survived     N      NaN   \n",
       "6476   FATAL, injured while diving, then shark bit her      Y      NaN   \n",
       "6477  Speared a shark, fell overboard and another sh...     N      NaN   \n",
       "6479                                              FATAL     Y      NaN   \n",
       "6480  Speared shark broke outrigger of canoe throwin...     N      NaN   \n",
       "6481                                       Foot severed     N      NaN   \n",
       "6482  Ankle punctured & lacerated, hands abraded PRO...     N      NaN   \n",
       "6483  Said to be fatal and involve a 4.6 m to 6 m [1...     Y      NaN   \n",
       "6484                Shoulder scratched, swim fin bitten     N  Morning   \n",
       "6485                                 FATAL, leg severed     Y      NaN   \n",
       "6486                                        Calf bitten     N      NaN   \n",
       "6487                                              FATAL     Y      NaN   \n",
       "6488  A 4.3 m [14'] shark made threat display. No in...   NaN      NaN   \n",
       "6489                                              FATAL     Y      NaN   \n",
       "6490                                              FATAL     Y      NaN   \n",
       "6491                                       Calf removed     N      NaN   \n",
       "6492                                         Leg bitten     N      NaN   \n",
       "6493                                          Recovered     N      NaN   \n",
       "6531                                        Head bitten     N      NaN   \n",
       "6535                                       Ankle bitten     N      NaN   \n",
       "6536                               Lacerations to thigh     N      NaN   \n",
       "6537                                FATAL, leg severed      Y      NaN   \n",
       "6545  FATAL, body not recovered but shark was caught...     Y      NaN   \n",
       "\n",
       "                                      species      cat_age  \n",
       "6465  said to involve 2.5 m hammerhead sharks  No category  \n",
       "6471                              Tiger shark  No category  \n",
       "6473                                      NaN  No category  \n",
       "6474                                      NaN  No category  \n",
       "6476                                      NaN  No category  \n",
       "6477                                      NaN  No category  \n",
       "6479                                      NaN  No category  \n",
       "6480                 A large hammerhead shark  No category  \n",
       "6481                               Bull shark  No category  \n",
       "6482                 Nurse shark, 2.1 m [7']   Young Adult  \n",
       "6483                             Questionable  No category  \n",
       "6484                                      NaN  No category  \n",
       "6485                                      NaN  No category  \n",
       "6486       Shovelnose guitarfish, adult male   No category  \n",
       "6487                                      NaN  No category  \n",
       "6488                                  Invalid  No category  \n",
       "6489                                      NaN  No category  \n",
       "6490                                      NaN  No category  \n",
       "6491                         0.9 m [3'] shark  No category  \n",
       "6492                                      NaN  No category  \n",
       "6493                                      NaN  No category  \n",
       "6531                                      NaN  No category  \n",
       "6535                                      NaN  No category  \n",
       "6536                                      NaN  No category  \n",
       "6537                                      NaN  No category  \n",
       "6545                                      NaN  No category  "
      ]
     },
     "execution_count": 70,
     "metadata": {},
     "output_type": "execute_result"
    }
   ],
   "source": [
    "pattern = '[Nn]o date'\n",
    "df[df.date.str.contains(pattern, na=False)]"
   ]
  },
  {
   "cell_type": "code",
   "execution_count": 71,
   "metadata": {
    "ExecuteTime": {
     "end_time": "2020-09-06T00:55:30.083386Z",
     "start_time": "2020-09-06T00:55:30.073412Z"
    }
   },
   "outputs": [
    {
     "data": {
      "text/html": [
       "<div>\n",
       "<style scoped>\n",
       "    .dataframe tbody tr th:only-of-type {\n",
       "        vertical-align: middle;\n",
       "    }\n",
       "\n",
       "    .dataframe tbody tr th {\n",
       "        vertical-align: top;\n",
       "    }\n",
       "\n",
       "    .dataframe thead th {\n",
       "        text-align: right;\n",
       "    }\n",
       "</style>\n",
       "<table border=\"1\" class=\"dataframe\">\n",
       "  <thead>\n",
       "    <tr style=\"text-align: right;\">\n",
       "      <th></th>\n",
       "      <th>date</th>\n",
       "      <th>year</th>\n",
       "      <th>type</th>\n",
       "      <th>country</th>\n",
       "      <th>area</th>\n",
       "      <th>location</th>\n",
       "      <th>activity</th>\n",
       "      <th>sex</th>\n",
       "      <th>age</th>\n",
       "      <th>injury</th>\n",
       "      <th>fatal</th>\n",
       "      <th>time</th>\n",
       "      <th>species</th>\n",
       "      <th>cat_age</th>\n",
       "    </tr>\n",
       "  </thead>\n",
       "  <tbody>\n",
       "  </tbody>\n",
       "</table>\n",
       "</div>"
      ],
      "text/plain": [
       "Empty DataFrame\n",
       "Columns: [date, year, type, country, area, location, activity, sex, age, injury, fatal, time, species, cat_age]\n",
       "Index: []"
      ]
     },
     "execution_count": 71,
     "metadata": {},
     "output_type": "execute_result"
    }
   ],
   "source": [
    "df[df.date.isna()]"
   ]
  },
  {
   "cell_type": "code",
   "execution_count": 63,
   "metadata": {
    "ExecuteTime": {
     "end_time": "2020-09-06T00:53:49.048536Z",
     "start_time": "2020-09-06T00:53:49.019559Z"
    }
   },
   "outputs": [
    {
     "data": {
      "text/html": [
       "<div>\n",
       "<style scoped>\n",
       "    .dataframe tbody tr th:only-of-type {\n",
       "        vertical-align: middle;\n",
       "    }\n",
       "\n",
       "    .dataframe tbody tr th {\n",
       "        vertical-align: top;\n",
       "    }\n",
       "\n",
       "    .dataframe thead th {\n",
       "        text-align: right;\n",
       "    }\n",
       "</style>\n",
       "<table border=\"1\" class=\"dataframe\">\n",
       "  <thead>\n",
       "    <tr style=\"text-align: right;\">\n",
       "      <th></th>\n",
       "      <th>date</th>\n",
       "      <th>year</th>\n",
       "      <th>type</th>\n",
       "      <th>country</th>\n",
       "      <th>area</th>\n",
       "      <th>location</th>\n",
       "      <th>activity</th>\n",
       "      <th>sex</th>\n",
       "      <th>age</th>\n",
       "      <th>injury</th>\n",
       "      <th>fatal</th>\n",
       "      <th>time</th>\n",
       "      <th>species</th>\n",
       "      <th>cat_age</th>\n",
       "    </tr>\n",
       "  </thead>\n",
       "  <tbody>\n",
       "    <tr>\n",
       "      <th>0</th>\n",
       "      <td>20-Aug-2020</td>\n",
       "      <td>2020.0</td>\n",
       "      <td>Unprovoked</td>\n",
       "      <td>USA</td>\n",
       "      <td>Florida</td>\n",
       "      <td>New Smyrna Beach, Volusia County</td>\n",
       "      <td>Boogie boarding</td>\n",
       "      <td>F</td>\n",
       "      <td>50</td>\n",
       "      <td>Minor lacerations to left leg</td>\n",
       "      <td>N</td>\n",
       "      <td>11h00</td>\n",
       "      <td>NaN</td>\n",
       "      <td>Adult</td>\n",
       "    </tr>\n",
       "    <tr>\n",
       "      <th>1</th>\n",
       "      <td>14-Aug-2020</td>\n",
       "      <td>2020.0</td>\n",
       "      <td>Unprovoked</td>\n",
       "      <td>AUSTRALIA</td>\n",
       "      <td>New South Wales</td>\n",
       "      <td>Shelly Beach, Port Macquarie</td>\n",
       "      <td>Surfing</td>\n",
       "      <td>F</td>\n",
       "      <td>35</td>\n",
       "      <td>Lacerations to right calf and posterior thigh</td>\n",
       "      <td>N</td>\n",
       "      <td>09h30</td>\n",
       "      <td>White shark, 2-to 3m</td>\n",
       "      <td>Young Adult</td>\n",
       "    </tr>\n",
       "    <tr>\n",
       "      <th>2</th>\n",
       "      <td>10-Aug-2020</td>\n",
       "      <td>2020.0</td>\n",
       "      <td>Provoked</td>\n",
       "      <td>USA</td>\n",
       "      <td>Florida</td>\n",
       "      <td>Off Gasparilla Island, Charlotte County</td>\n",
       "      <td>Fishing</td>\n",
       "      <td>M</td>\n",
       "      <td>55</td>\n",
       "      <td>Injury to left forearm by hooked shark PROVOKE...</td>\n",
       "      <td>N</td>\n",
       "      <td>16h00</td>\n",
       "      <td>Blacktip shark, 6'</td>\n",
       "      <td>Adult</td>\n",
       "    </tr>\n",
       "    <tr>\n",
       "      <th>3</th>\n",
       "      <td>02-Aug-2020</td>\n",
       "      <td>2020.0</td>\n",
       "      <td>Unprovoked</td>\n",
       "      <td>USA</td>\n",
       "      <td>Virgin Islands</td>\n",
       "      <td>Candle Reef, St. Croix</td>\n",
       "      <td>Snorkeling</td>\n",
       "      <td>F</td>\n",
       "      <td>NaN</td>\n",
       "      <td>Lacerations to hand and wrist</td>\n",
       "      <td>N</td>\n",
       "      <td>14h00</td>\n",
       "      <td>Nurse shark, 5'</td>\n",
       "      <td>No category</td>\n",
       "    </tr>\n",
       "    <tr>\n",
       "      <th>4</th>\n",
       "      <td>31-Jul-2020</td>\n",
       "      <td>2020.0</td>\n",
       "      <td>Unprovoked</td>\n",
       "      <td>USA</td>\n",
       "      <td>Florida</td>\n",
       "      <td>New Smyrna Beach, Volusia County</td>\n",
       "      <td>Surfing</td>\n",
       "      <td>F</td>\n",
       "      <td>22</td>\n",
       "      <td>Lacerations to foot</td>\n",
       "      <td>N</td>\n",
       "      <td>17h00</td>\n",
       "      <td>NaN</td>\n",
       "      <td>Young Adult</td>\n",
       "    </tr>\n",
       "    <tr>\n",
       "      <th>...</th>\n",
       "      <td>...</td>\n",
       "      <td>...</td>\n",
       "      <td>...</td>\n",
       "      <td>...</td>\n",
       "      <td>...</td>\n",
       "      <td>...</td>\n",
       "      <td>...</td>\n",
       "      <td>...</td>\n",
       "      <td>...</td>\n",
       "      <td>...</td>\n",
       "      <td>...</td>\n",
       "      <td>...</td>\n",
       "      <td>...</td>\n",
       "      <td>...</td>\n",
       "    </tr>\n",
       "    <tr>\n",
       "      <th>6553</th>\n",
       "      <td>Before 1903</td>\n",
       "      <td>0.0</td>\n",
       "      <td>Unprovoked</td>\n",
       "      <td>AUSTRALIA</td>\n",
       "      <td>Western Australia</td>\n",
       "      <td>Roebuck Bay</td>\n",
       "      <td>Diving</td>\n",
       "      <td>M</td>\n",
       "      <td>NaN</td>\n",
       "      <td>FATAL</td>\n",
       "      <td>Y</td>\n",
       "      <td>NaN</td>\n",
       "      <td>NaN</td>\n",
       "      <td>No category</td>\n",
       "    </tr>\n",
       "    <tr>\n",
       "      <th>6554</th>\n",
       "      <td>Before 1903</td>\n",
       "      <td>0.0</td>\n",
       "      <td>Unprovoked</td>\n",
       "      <td>AUSTRALIA</td>\n",
       "      <td>Western Australia</td>\n",
       "      <td>NaN</td>\n",
       "      <td>Pearl diving</td>\n",
       "      <td>M</td>\n",
       "      <td>NaN</td>\n",
       "      <td>FATAL</td>\n",
       "      <td>Y</td>\n",
       "      <td>NaN</td>\n",
       "      <td>NaN</td>\n",
       "      <td>No category</td>\n",
       "    </tr>\n",
       "    <tr>\n",
       "      <th>6555</th>\n",
       "      <td>1900-1905</td>\n",
       "      <td>0.0</td>\n",
       "      <td>Unprovoked</td>\n",
       "      <td>USA</td>\n",
       "      <td>North Carolina</td>\n",
       "      <td>Ocracoke Inlet</td>\n",
       "      <td>Swimming</td>\n",
       "      <td>M</td>\n",
       "      <td>NaN</td>\n",
       "      <td>FATAL</td>\n",
       "      <td>Y</td>\n",
       "      <td>NaN</td>\n",
       "      <td>NaN</td>\n",
       "      <td>No category</td>\n",
       "    </tr>\n",
       "    <tr>\n",
       "      <th>6556</th>\n",
       "      <td>1883-1889</td>\n",
       "      <td>0.0</td>\n",
       "      <td>Unprovoked</td>\n",
       "      <td>PANAMA</td>\n",
       "      <td>NaN</td>\n",
       "      <td>Panama Bay 8ºN, 79ºW</td>\n",
       "      <td>NaN</td>\n",
       "      <td>M</td>\n",
       "      <td>NaN</td>\n",
       "      <td>FATAL</td>\n",
       "      <td>Y</td>\n",
       "      <td>NaN</td>\n",
       "      <td>NaN</td>\n",
       "      <td>No category</td>\n",
       "    </tr>\n",
       "    <tr>\n",
       "      <th>6557</th>\n",
       "      <td>1845-1853</td>\n",
       "      <td>0.0</td>\n",
       "      <td>Unprovoked</td>\n",
       "      <td>CEYLON (SRI LANKA)</td>\n",
       "      <td>Eastern Province</td>\n",
       "      <td>Below the English fort, Trincomalee</td>\n",
       "      <td>Swimming</td>\n",
       "      <td>M</td>\n",
       "      <td>15</td>\n",
       "      <td>FATAL. \"Shark bit him in half, carrying away t...</td>\n",
       "      <td>Y</td>\n",
       "      <td>NaN</td>\n",
       "      <td>NaN</td>\n",
       "      <td>Teenager</td>\n",
       "    </tr>\n",
       "  </tbody>\n",
       "</table>\n",
       "<p>6339 rows × 14 columns</p>\n",
       "</div>"
      ],
      "text/plain": [
       "             date    year        type             country               area  \\\n",
       "0     20-Aug-2020  2020.0  Unprovoked                 USA            Florida   \n",
       "1     14-Aug-2020  2020.0  Unprovoked           AUSTRALIA    New South Wales   \n",
       "2     10-Aug-2020  2020.0    Provoked                 USA            Florida   \n",
       "3     02-Aug-2020  2020.0  Unprovoked                 USA     Virgin Islands   \n",
       "4     31-Jul-2020  2020.0  Unprovoked                 USA            Florida   \n",
       "...           ...     ...         ...                 ...                ...   \n",
       "6553  Before 1903     0.0  Unprovoked           AUSTRALIA  Western Australia   \n",
       "6554  Before 1903     0.0  Unprovoked           AUSTRALIA  Western Australia   \n",
       "6555    1900-1905     0.0  Unprovoked                 USA     North Carolina   \n",
       "6556    1883-1889     0.0  Unprovoked              PANAMA                NaN   \n",
       "6557    1845-1853     0.0  Unprovoked  CEYLON (SRI LANKA)   Eastern Province   \n",
       "\n",
       "                                     location         activity sex  age  \\\n",
       "0            New Smyrna Beach, Volusia County  Boogie boarding   F   50   \n",
       "1                Shelly Beach, Port Macquarie          Surfing   F   35   \n",
       "2     Off Gasparilla Island, Charlotte County          Fishing   M   55   \n",
       "3                      Candle Reef, St. Croix       Snorkeling   F  NaN   \n",
       "4            New Smyrna Beach, Volusia County          Surfing   F   22   \n",
       "...                                       ...              ...  ..  ...   \n",
       "6553                              Roebuck Bay           Diving   M  NaN   \n",
       "6554                                      NaN     Pearl diving   M  NaN   \n",
       "6555                           Ocracoke Inlet         Swimming   M  NaN   \n",
       "6556                     Panama Bay 8ºN, 79ºW              NaN   M  NaN   \n",
       "6557      Below the English fort, Trincomalee         Swimming   M   15   \n",
       "\n",
       "                                                 injury fatal   time  \\\n",
       "0                         Minor lacerations to left leg     N  11h00   \n",
       "1         Lacerations to right calf and posterior thigh     N  09h30   \n",
       "2     Injury to left forearm by hooked shark PROVOKE...     N  16h00   \n",
       "3                         Lacerations to hand and wrist     N  14h00   \n",
       "4                                  Lacerations to foot      N  17h00   \n",
       "...                                                 ...   ...    ...   \n",
       "6553                                              FATAL     Y    NaN   \n",
       "6554                                              FATAL     Y    NaN   \n",
       "6555                                              FATAL     Y    NaN   \n",
       "6556                                              FATAL     Y    NaN   \n",
       "6557  FATAL. \"Shark bit him in half, carrying away t...     Y    NaN   \n",
       "\n",
       "                   species      cat_age  \n",
       "0                      NaN        Adult  \n",
       "1     White shark, 2-to 3m  Young Adult  \n",
       "2       Blacktip shark, 6'        Adult  \n",
       "3          Nurse shark, 5'  No category  \n",
       "4                      NaN  Young Adult  \n",
       "...                    ...          ...  \n",
       "6553                   NaN  No category  \n",
       "6554                   NaN  No category  \n",
       "6555                   NaN  No category  \n",
       "6556                   NaN  No category  \n",
       "6557                   NaN     Teenager  \n",
       "\n",
       "[6339 rows x 14 columns]"
      ]
     },
     "execution_count": 63,
     "metadata": {},
     "output_type": "execute_result"
    }
   ],
   "source": [
    "pattern = '\\d*\\d*\\d*\\d'\n",
    "df[df.date.str.contains(pattern, na=False)]"
   ]
  },
  {
   "cell_type": "code",
   "execution_count": 56,
   "metadata": {
    "ExecuteTime": {
     "end_time": "2020-09-06T00:50:33.946657Z",
     "start_time": "2020-09-06T00:50:33.939630Z"
    }
   },
   "outputs": [
    {
     "data": {
      "text/plain": [
       "array([2020., 2019., 2018., 2017.,   nan, 2016., 2015., 2014., 2013.,\n",
       "       2012., 2011., 2010., 2009., 2008., 2007., 2006., 2005., 2004.,\n",
       "       2003., 2002., 2001., 2000., 1999., 1998., 1997., 1996., 1995.,\n",
       "       1984., 1994., 1993., 1992., 1991., 1990., 1989., 1969., 1988.,\n",
       "       1987., 1986., 1985., 1983., 1982., 1981., 1980., 1979., 1978.,\n",
       "       1977., 1976., 1975., 1974., 1973., 1972., 1971., 1970., 1968.,\n",
       "       1967., 1966., 1965., 1964., 1963., 1962., 1961., 1960., 1959.,\n",
       "       1958., 1957., 1956., 1955., 1954., 1953., 1952., 1951., 1950.,\n",
       "       1949., 1948., 1848., 1947., 1946., 1945., 1944., 1943., 1942.,\n",
       "       1941., 1940., 1939., 1938., 1937., 1936., 1935., 1934., 1933.,\n",
       "       1932., 1931., 1930., 1929., 1928., 1927., 1926., 1925., 1924.,\n",
       "       1923., 1922., 1921., 1920., 1919., 1918., 1917., 1916., 1915.,\n",
       "       1914., 1913., 1912., 1911., 1910., 1909., 1908., 1907., 1906.,\n",
       "       1905., 1904., 1903., 1902., 1901., 1900., 1899., 1898., 1897.,\n",
       "       1896., 1895., 1894., 1893., 1892., 1891., 1890., 1889., 1888.,\n",
       "       1887., 1886., 1885., 1884., 1883., 1882., 1881., 1880., 1879.,\n",
       "       1878., 1877., 1876., 1875., 1874., 1873., 1872., 1871., 1870.,\n",
       "       1869., 1868., 1867., 1866., 1865., 1864., 1863., 1862., 1861.,\n",
       "       1860., 1859., 1858., 1857., 1856., 1855., 1853., 1852., 1851.,\n",
       "       1850., 1849., 1847., 1846., 1845., 1844., 1842., 1841., 1840.,\n",
       "       1839., 1837., 1836., 1835., 1834., 1832., 1831., 1830., 1829.,\n",
       "       1828., 1827., 1826., 1825., 1823., 1822., 1819., 1818., 1817.,\n",
       "       1816., 1815., 1812., 1811., 1810., 1808., 1807., 1805., 1804.,\n",
       "       1803., 1802., 1800., 1797., 1792., 1791., 1788., 1787., 1786.,\n",
       "       1785., 1784., 1783., 1780., 1776., 1771., 1767., 1764., 1758.,\n",
       "       1753., 1751., 1749., 1755., 1748., 1742., 1738., 1733., 1723.,\n",
       "       1721., 1703., 1700., 1642., 1638., 1637., 1617., 1595., 1580.,\n",
       "       1555., 1554., 1543.,  500.,   77.,    5.,    0.])"
      ]
     },
     "execution_count": 56,
     "metadata": {},
     "output_type": "execute_result"
    }
   ],
   "source": [
    "#\n",
    "pattern = '\\d\\d\\d\\d'\n",
    "df[df.date.str.contains(pattern, na=False)]."
   ]
  },
  {
   "cell_type": "code",
   "execution_count": null,
   "metadata": {},
   "outputs": [],
   "source": []
  },
  {
   "cell_type": "code",
   "execution_count": 54,
   "metadata": {
    "ExecuteTime": {
     "end_time": "2020-09-06T00:39:02.033431Z",
     "start_time": "2020-09-06T00:39:02.019431Z"
    }
   },
   "outputs": [
    {
     "name": "stdout",
     "output_type": "stream",
     "text": [
      "There are 62 values.\n"
     ]
    },
    {
     "data": {
      "text/plain": [
       "array(['Surfing', 'Body Surfing', 'Windsurfing', 'Body-surfing',\n",
       "       'Kite surfing', 'Body surfing', 'Body surfing?', 'Bodysurfing',\n",
       "       'Surfing & filming dolphins', 'Body surfing or Boogie boarding',\n",
       "       'Kite Surfing', 'Kitesurfing', 'Paddle-surfing',\n",
       "       'Swimming or surfing', 'Walking out of the water after surfing',\n",
       "       'Swimming / Body Surfing', 'Night Surfing', 'Standing / Surfing',\n",
       "       'Treading water/ Surfing', 'Tandem surfing',\n",
       "       'Surfing amid a shoal of sharks', 'Boogie boarding or Surfing',\n",
       "       'Surfing, but standing in water alongside board',\n",
       "       'Surfing, fell off surfboard & stepped on the shark.',\n",
       "       'Standing / surfing', 'Swimming / Body surfing',\n",
       "       'Windsurfing, but sitting on his board', 'Surfing / Wading',\n",
       "       'Surfing (sitting on his board)', 'Surfing, lying on surfboard',\n",
       "       'Wading to shore after surfing', 'Body surfing or body boarding',\n",
       "       'Surfing (or body boarding)', 'Swimming / surfing',\n",
       "       'Surfing (lying prone on his board)', 'Body boarding or surfing',\n",
       "       'Walking / surfing', 'Wading / Surfing',\n",
       "       'Body surfing, stood up on sandbar', 'Surfing / Swimming',\n",
       "       'Wind surfing', 'Surfing, sitting on board',\n",
       "       'Surfing, paddling seawards', 'Surfing, paddling shorewards',\n",
       "       'Surfing, collided with shark', 'Surfing (or sailboarding)',\n",
       "       'Windsurfing (urinating on his board)', 'Surfing with dolphins',\n",
       "       'Surfing / treading water',\n",
       "       'Surfing, but lying prone on his board', 'Surfing or body surfing',\n",
       "       'Surfing & dangling foot in water amid baitfish',\n",
       "       'Surfing, fell off surfboard',\n",
       "       'Surfing, but swimming to his board',\n",
       "       'Surfing on \"chest board\" (boogie board?)',\n",
       "       'Surfing, pushing board ashore', 'Surfing, but treading water',\n",
       "       'Surfing on air mattress', 'Body surfing & treading water',\n",
       "       'Body surfing / treading water', 'Surfing (pneumatic surfboard)',\n",
       "       'Bathing or body surfing'], dtype=object)"
      ]
     },
     "execution_count": 54,
     "metadata": {},
     "output_type": "execute_result"
    }
   ],
   "source": [
    "# Check how many different activities contain the word \"surfing\"\n",
    "# Varible with the pattern of the word\n",
    "pattern = '[Ss]urfing'\n",
    "\n",
    "# Check all values containing the word \"surfing\"\n",
    "print(f'There are {len(df[df.activity.str.contains(pat=pattern, na=False)].activity.unique())} values.')\n",
    "df[df.activity.str.contains(pat=pattern, na=False)].activity.unique()"
   ]
  },
  {
   "cell_type": "code",
   "execution_count": null,
   "metadata": {},
   "outputs": [],
   "source": []
  },
  {
   "cell_type": "code",
   "execution_count": 55,
   "metadata": {
    "ExecuteTime": {
     "end_time": "2020-09-06T00:46:35.123301Z",
     "start_time": "2020-09-06T00:46:35.106298Z"
    }
   },
   "outputs": [
    {
     "name": "stdout",
     "output_type": "stream",
     "text": [
      "There are 183 values.\n"
     ]
    },
    {
     "data": {
      "text/plain": [
       "array(['Swimming', 'Swimming after being swept off rocks',\n",
       "       'Swimming/ Treading water', 'Swimming with sharks',\n",
       "       'Swimming, poaching abalone', 'Swimming / Wading',\n",
       "       'Swimming after falling overboard', 'Swimming / snorkeling',\n",
       "       'Marathon swimming', 'Swimming & snorkeling',\n",
       "       'Swimming or boogie boarding', 'Wading or swimming',\n",
       "       'Swimming or Snorkeling', 'Swimming /  Whale Watching',\n",
       "       'Swimming after boat became disabled', 'Swimming / treading water',\n",
       "       'Swimming to shore from capsized kayak',\n",
       "       'Swimming, attempting to rescue a girl  believed to be drowning',\n",
       "       'Swimming, towing surfboard', 'Swimming or surfing',\n",
       "       'Swimming / jumping off a jetty', 'Swimming / Body Surfing',\n",
       "       'Swimming with boogie board', 'Swimming, poaching perlemoen',\n",
       "       'Boogie-boarding / swimming', 'Swimming / shipwreck',\n",
       "       'Swimming to shore from boat or kayak',\n",
       "       'Swimming, wearing black wetsuit & swim fins',\n",
       "       'Swimming with pod of dolphins', 'Swimming (using a float)',\n",
       "       'Swimming /  boogie boarding',\n",
       "       'Swimming back from anchored sailboat', 'Swimming / Body surfing',\n",
       "       'Swimming out to porpoises',\n",
       "       'Spearfishing, but swimming at surface', 'Swimming with dolphins',\n",
       "       'Swimming after being swept into sea by a large wave',\n",
       "       'Swimming, towing a kayak', 'Swimming near pod of whales',\n",
       "       'Swimming / surfing', 'Swimming or paddle boarding',\n",
       "       'Swimming or snorkeling', 'Surfing / Swimming',\n",
       "       'Swimming breast stoke', 'Swimming in fish tank',\n",
       "       'Swimming with mask & snorkel',\n",
       "       'Swimming alongside NOAA research vessel Discoverer',\n",
       "       'Swimming, after falling off towed kneeboard',\n",
       "       'Swimming from makeshift raft  to life vest after fishing boat sank',\n",
       "       'Swimming behind sailboat', 'Swimming in canal',\n",
       "       'Scuba diving, but swimming on surface',\n",
       "       'Swimming in strong current with 3 others when he disappeared',\n",
       "       'Swimming from shore to anchored sailboat',\n",
       "       'Swimming from the New Venture',\n",
       "       'Spearfishing, but swimming on surface', 'Freedom swimming',\n",
       "       'Swimming, after single-engine aircraft went down in the sea',\n",
       "       'Swimming near his boat',\n",
       "       'Swimming underwater from crayfish cage to a fishing bait',\n",
       "       'Freedom Swimming', 'Swimming alongside yacht Mexico Fiesta',\n",
       "       'Small boat with 2 men onboard hit a submerged coral formation. Men began swimming to shore',\n",
       "       'Swimming after his canoe capsized',\n",
       "       'The shrimper Loless Maurine capsized in heavy seas & the men were swimming ashore',\n",
       "       'Swimming in the channel', 'Canoe swamped, swimming back to canoe',\n",
       "       'Swimming out to rescue swimmers in difficulty',\n",
       "       'Surfing, but swimming to his board',\n",
       "       'Swimming along a row of nets', 'Swimming outside fishing net',\n",
       "       'Swimming with other crew near wharf',\n",
       "       'Swimming, using bundles of sticks as raft',\n",
       "       'Taking boat from California to Florida when it ran aground & he was swimming back to boat',\n",
       "       'Swimming 3 miles offshore', 'Swimming from camp',\n",
       "       'Swimming underneath house on pilings',\n",
       "       \"Swimming at surface through school of feeding 2.5' to 5’ sharks\",\n",
       "       'Swimming ashore from capsized boat', 'Swimming with motor tube',\n",
       "       'Swimming near jetty',\n",
       "       'Swimming, ducking for shells in water 0.9 m deep',\n",
       "       'Swimming, towing the shark', 'Swimming with goggles',\n",
       "       'Spearfishing / swimming on surface',\n",
       "       'Swimming between  anchored  pearling luggers',\n",
       "       'Swimming near pier', 'Swimming, attacked at  surf carnival',\n",
       "       'Swimming off yacht', 'Swimming near breakwater',\n",
       "       'Swimming with speared fish',\n",
       "       'Dived overboard & was swimming near stern of trawler',\n",
       "       'Swimming near canoe',\n",
       "       'Swimming or wading out  to warn bathers that a shark had been seen',\n",
       "       'Swimming in midriver near sewage outlet & 400 m from a slaughterhouse',\n",
       "       'Swimming from fishing boat setting nets', 'Swimming on surface',\n",
       "       'Swimming near shore', 'Swimming close to wharf',\n",
       "       \"Swimming near jetty with 2' piece of wood\",\n",
       "       'Swimming after a tennis ball',\n",
       "       'American minesweeper USS YMS-472 foundered in a typhoon - swimming to shore',\n",
       "       'American minesweeper USS YMS-350 lost in a typhoon - swimming to shore',\n",
       "       'Swimming near life raft',\n",
       "       'USS Johnston DD 557 sunk on 10/24/1944 in the Battle off Samara. Crewmen were swimming beside a raft.',\n",
       "       'Swimming with board',\n",
       "       'Flying Fortress bomber aircraft went down after daytime raid on Naples. He was swimming on the surface',\n",
       "       'Small boat swamped, 4  people swimming to shore but he fell behind the other 3 and vanished',\n",
       "       'Anti-Aircraft cruiser USS Atlanta (CL,-05) travelling in convoy after the Battle of Midway, encountered a Japanese flotilla  (Battle of Guadalcanal) &, heavily damaged by gunfire, she was lost off Lunga Point. Victim was swimming when bitten.',\n",
       "       'The Pacquebot Laconia, enroute to Liverpool with 600 Italian prisoners onboard, was torpedoed by the German submarine  U-156 and only 2 rafts were launched before the ship went down. Unable to board an overcrowded raft, he was swimming.',\n",
       "       'Swimming along side N.E.L. vessel Saluda',\n",
       "       'Swimming at edge of channel',\n",
       "       'Free diving for trochus shell, swimming to dinghy',\n",
       "       'Bathing/Swimming', 'Swimming to anchored boat',\n",
       "       'Swimming alongside warship   Tsingt-ao', 'Swimming, naked',\n",
       "       'Refused permission to cross on the ferry, he was swimming across the river',\n",
       "       'Swimming ashore after launch capsized', 'Swimming crawl stroke',\n",
       "       'Diving for trochus , but swimming on surface',\n",
       "       'Swimming. Passer-by, Len Bedford, heard him shriek , saw shark leap from the water & swimmer disappeared',\n",
       "       'Swimming (lead swimmer in race)', 'Swimming & splashing',\n",
       "       'Swimming in waist-deep water', 'Swimming in hip-deep water',\n",
       "       'Swimming outside the safety enclosure attempting to retrieve a tennis ball drifting toward midstream',\n",
       "       'Swimming on sandbar adjacent to channel',\n",
       "       'Swimming to shore from capsized sailboat',\n",
       "       'Swimming a quarter mile offshore',\n",
       "       'Swimming, carrying tin can with mail to steamer',\n",
       "       'Swimming / floating',\n",
       "       'Swimming to shore after a squall  capsized their motorized shark fishing boat',\n",
       "       'Swimming between boats', 'Jumped overboard and swimming',\n",
       "       'Swimming with dog near canning factory', 'Swimming to mail boat',\n",
       "       'Fishing, fell in water & swimming strongly to shore',\n",
       "       'Had just dived into water & was swimming',\n",
       "       'Boat capsized, swimming to shore',\n",
       "       'Small vessel with 13 men on board capsized crossing the bar and 6 men drowned.  The 7 survivors were swimming to shore',\n",
       "       '\"Swimming vigorously\"', 'Swimming, towing an empty barrel',\n",
       "       'Swimming to shore from the Medic', 'Swimming beside launch',\n",
       "       'Swimming 10 m from shore',\n",
       "       'Swimming (recovering remains of Stilwell)',\n",
       "       'Swimming ashore from swamped 13-ft boat',\n",
       "       'Swimming after his hat', 'Swimming from foundered vessel',\n",
       "       'Fell overboard & swimming',\n",
       "       'Swimming from naptha launch after a day of fishing',\n",
       "       'Swimming, after falling overboard',\n",
       "       'Swimming after their boat capsized',\n",
       "       'Swimming at side of small boat',\n",
       "       'Attempting to escape by swimming to shore',\n",
       "       'Swimming ashore from a \"filibuster\"',\n",
       "       'Swimming, after sailboat capsized',\n",
       "       'Swimming / floating on his back',\n",
       "       'Swimming after harpooned whale capsized boat',\n",
       "       'Swimming after falling overboard from the sealing ship Vesper',\n",
       "       'Boat capsized, swimming ashore', 'Swimming, after boat swamped',\n",
       "       'Swimming to shore after boat capsized by a squall',\n",
       "       'Swimming after being washed overboard',\n",
       "       'Swimming / escaping imprisonment',\n",
       "       'Swimming to retrieve a flannel', 'Swimming to avoid capture',\n",
       "       'Swimming alongside the schooner Catherine Wilcox',\n",
       "       'Swimming, caught in strong backwash & disappeared',\n",
       "       'Swimming alongside the SS Kearsarge',\n",
       "       'Swimming from capsized boat', 'Swimming/', 'Swimming to canoe',\n",
       "       'Swimming from capsized pirogue',\n",
       "       'Swimming naked near a date palm where many dates fell into the water',\n",
       "       'Swimming in section of river used for washing clothes & cooking utensils',\n",
       "       'Swimming with fish attached to  belt',\n",
       "       'Swimming near anchored ship',\n",
       "       'Aircraft ditched in the sea, swimming ashore',\n",
       "       'Swimming in pool formed by construction of a wharf',\n",
       "       'Swimming around anchored ship',\n",
       "       'Crew swimming alongside their anchored ship'], dtype=object)"
      ]
     },
     "execution_count": 55,
     "metadata": {},
     "output_type": "execute_result"
    }
   ],
   "source": [
    "# Check how many different activities contain the word \"swimming\"\n",
    "# Varible with the pattern of the word\n",
    "pattern = '[Ss]wimming'\n",
    "\n",
    "# Check all values containing the word \"swimming\"\n",
    "print(f'There are {len(df[df.activity.str.contains(pat=pattern, na=False)].activity.unique())} values.')\n",
    "df[df.activity.str.contains(pat=pattern, na=False)].activity.unique()"
   ]
  },
  {
   "cell_type": "code",
   "execution_count": null,
   "metadata": {},
   "outputs": [],
   "source": []
  },
  {
   "cell_type": "code",
   "execution_count": null,
   "metadata": {},
   "outputs": [],
   "source": []
  },
  {
   "cell_type": "code",
   "execution_count": null,
   "metadata": {},
   "outputs": [],
   "source": []
  },
  {
   "cell_type": "markdown",
   "metadata": {},
   "source": [
    "# Analyzing the dataset"
   ]
  },
  {
   "cell_type": "code",
   "execution_count": null,
   "metadata": {},
   "outputs": [],
   "source": []
  },
  {
   "cell_type": "markdown",
   "metadata": {},
   "source": [
    "## Gender"
   ]
  },
  {
   "cell_type": "code",
   "execution_count": null,
   "metadata": {},
   "outputs": [],
   "source": []
  },
  {
   "cell_type": "code",
   "execution_count": null,
   "metadata": {},
   "outputs": [],
   "source": []
  },
  {
   "cell_type": "code",
   "execution_count": null,
   "metadata": {},
   "outputs": [],
   "source": []
  },
  {
   "cell_type": "markdown",
   "metadata": {},
   "source": [
    "## Activity"
   ]
  },
  {
   "cell_type": "code",
   "execution_count": null,
   "metadata": {},
   "outputs": [],
   "source": []
  },
  {
   "cell_type": "code",
   "execution_count": null,
   "metadata": {},
   "outputs": [],
   "source": []
  },
  {
   "cell_type": "markdown",
   "metadata": {},
   "source": [
    "## Age"
   ]
  },
  {
   "cell_type": "code",
   "execution_count": null,
   "metadata": {},
   "outputs": [],
   "source": []
  },
  {
   "cell_type": "code",
   "execution_count": null,
   "metadata": {},
   "outputs": [],
   "source": []
  },
  {
   "cell_type": "code",
   "execution_count": null,
   "metadata": {},
   "outputs": [],
   "source": []
  },
  {
   "cell_type": "markdown",
   "metadata": {},
   "source": [
    "## Age"
   ]
  },
  {
   "cell_type": "code",
   "execution_count": null,
   "metadata": {
    "ExecuteTime": {
     "end_time": "2020-09-02T01:12:52.475902Z",
     "start_time": "2020-09-02T01:12:52.466921Z"
    }
   },
   "outputs": [],
   "source": [
    "df.Age.unique()"
   ]
  },
  {
   "cell_type": "code",
   "execution_count": null,
   "metadata": {
    "ExecuteTime": {
     "end_time": "2020-09-02T01:12:52.482879Z",
     "start_time": "2020-09-02T01:12:52.476865Z"
    }
   },
   "outputs": [],
   "source": [
    "# Function to convert string to integer\n",
    "def convert_str_to_int(age):\n",
    "    try:\n",
    "        age = int(age)\n",
    "    except:\n",
    "        age = -1\n",
    "    return age"
   ]
  },
  {
   "cell_type": "code",
   "execution_count": null,
   "metadata": {
    "ExecuteTime": {
     "end_time": "2020-09-02T01:12:52.518760Z",
     "start_time": "2020-09-02T01:12:52.483848Z"
    }
   },
   "outputs": [],
   "source": [
    "# Number \n",
    "df_total = df.Date.count()\n",
    "print(df_total)\n",
    "\n",
    "# Convert the strings in column 'Age' to integers\n",
    "df['age_int'] = df.Age.apply(convert_str_to_int)\n",
    "\n",
    "# How many were not digits\n",
    "print(df.loc[df.age_int == -1, :].age_int.value_counts() / 6558)\n",
    "print(df.loc[df.age_int == -1, :].age_int.value_counts() / df_total)\n",
    "\n",
    "# Check the result\n",
    "df"
   ]
  },
  {
   "cell_type": "code",
   "execution_count": null,
   "metadata": {
    "ExecuteTime": {
     "end_time": "2020-09-02T01:12:52.525767Z",
     "start_time": "2020-09-02T01:12:52.519759Z"
    }
   },
   "outputs": [],
   "source": [
    "# Classification by age\n",
    "df['age_cat'] = np.where(df['age_int'] > 65, 'Elder',\n",
    "                        np.where(df['age_int'] > 35, 'Adult',\n",
    "                                np.where(df['age_int'] > 17, 'Young Adult',\n",
    "                                        np.where(df['age_int'] > 12, 'Teenager',\n",
    "                                                 np.where(df['age_int'] == -1, '-', 'Child')))))"
   ]
  },
  {
   "cell_type": "markdown",
   "metadata": {},
   "source": [
    "## Year"
   ]
  },
  {
   "cell_type": "code",
   "execution_count": null,
   "metadata": {
    "ExecuteTime": {
     "end_time": "2020-09-02T01:12:52.561640Z",
     "start_time": "2020-09-02T01:12:52.551666Z"
    }
   },
   "outputs": [],
   "source": [
    "df.Year.unique()"
   ]
  },
  {
   "cell_type": "code",
   "execution_count": null,
   "metadata": {
    "ExecuteTime": {
     "end_time": "2020-09-02T01:12:52.586603Z",
     "start_time": "2020-09-02T01:12:52.562639Z"
    }
   },
   "outputs": [],
   "source": [
    "# Convert the strings in column 'Year' to integers\n",
    "df['year_int'] = df.Year.apply(convert_str_to_int)\n",
    "\n",
    "# Check the result\n",
    "df"
   ]
  },
  {
   "cell_type": "code",
   "execution_count": null,
   "metadata": {
    "ExecuteTime": {
     "end_time": "2020-09-02T01:12:52.598540Z",
     "start_time": "2020-09-02T01:12:52.587570Z"
    }
   },
   "outputs": [],
   "source": [
    "# Check % incidents occured before 1801\n",
    "print(f'The incidents before 1801 represents only {(df[df.Year < 1801].Year.count() / df.Year.count()) * 100:.2f}%',\n",
    "      f'of the dataset. So, only the years from 1800 will be analysed.', sep=' ')"
   ]
  },
  {
   "cell_type": "code",
   "execution_count": null,
   "metadata": {
    "ExecuteTime": {
     "end_time": "2020-09-02T01:12:52.614530Z",
     "start_time": "2020-09-02T01:12:52.599569Z"
    }
   },
   "outputs": [],
   "source": [
    "# Selecting only the years from 1800\n",
    "df = df.loc[df['Year'] >= 1801, :]\n",
    "df.info()"
   ]
  },
  {
   "cell_type": "code",
   "execution_count": null,
   "metadata": {
    "ExecuteTime": {
     "end_time": "2020-09-02T01:12:52.635441Z",
     "start_time": "2020-09-02T01:12:52.615496Z"
    }
   },
   "outputs": [],
   "source": [
    "df"
   ]
  },
  {
   "cell_type": "code",
   "execution_count": null,
   "metadata": {
    "ExecuteTime": {
     "end_time": "2020-09-02T01:12:52.641427Z",
     "start_time": "2020-09-02T01:12:52.636438Z"
    }
   },
   "outputs": [],
   "source": [
    "# Classification by year\n",
    "df['century'] = np.where(df['year_int'] >= 2001, 21,\n",
    "                            np.where(df['year_int'] >= 1901, 20, 19))"
   ]
  },
  {
   "cell_type": "code",
   "execution_count": null,
   "metadata": {
    "ExecuteTime": {
     "end_time": "2020-09-02T01:12:52.665375Z",
     "start_time": "2020-09-02T01:12:52.642424Z"
    }
   },
   "outputs": [],
   "source": [
    "df"
   ]
  },
  {
   "cell_type": "markdown",
   "metadata": {},
   "source": [
    "## Gender"
   ]
  },
  {
   "cell_type": "code",
   "execution_count": null,
   "metadata": {
    "ExecuteTime": {
     "end_time": "2020-09-02T01:12:52.674370Z",
     "start_time": "2020-09-02T01:12:52.667356Z"
    }
   },
   "outputs": [],
   "source": [
    "# Check the column 'Sex'\n",
    "df.Sex.unique()"
   ]
  },
  {
   "cell_type": "code",
   "execution_count": null,
   "metadata": {
    "ExecuteTime": {
     "end_time": "2020-09-02T01:12:52.685344Z",
     "start_time": "2020-09-02T01:12:52.675335Z"
    }
   },
   "outputs": [],
   "source": [
    "df.Sex.count()"
   ]
  },
  {
   "cell_type": "code",
   "execution_count": null,
   "metadata": {
    "ExecuteTime": {
     "end_time": "2020-09-02T01:12:52.697314Z",
     "start_time": "2020-09-02T01:12:52.686344Z"
    }
   },
   "outputs": [],
   "source": [
    "# % of each value\n",
    "df.Sex.value_counts() / df.Sex.count()"
   ]
  },
  {
   "cell_type": "code",
   "execution_count": null,
   "metadata": {
    "ExecuteTime": {
     "end_time": "2020-09-02T01:12:52.704264Z",
     "start_time": "2020-09-02T01:12:52.700300Z"
    }
   },
   "outputs": [],
   "source": [
    "# % of each NaN\n",
    "df.Sex.isna().sum()"
   ]
  },
  {
   "cell_type": "code",
   "execution_count": null,
   "metadata": {
    "ExecuteTime": {
     "end_time": "2020-09-02T01:12:52.713266Z",
     "start_time": "2020-09-02T01:12:52.705287Z"
    }
   },
   "outputs": [],
   "source": [
    "# Check number of missing values\n",
    "print(f'The number of NaN in the column \"Sex\" is {df.Sex.isna().sum()}, which represents '\n",
    "      f'{(df.Sex.isna().sum() / df.Sex.count())*100:.2f}% of the dataset.', sep=' ')"
   ]
  },
  {
   "cell_type": "markdown",
   "metadata": {},
   "source": [
    "Since the NaN represents only a samll part of the dataset, the rows containing NaN in the column 'Sex' will be removed."
   ]
  },
  {
   "cell_type": "code",
   "execution_count": null,
   "metadata": {
    "ExecuteTime": {
     "end_time": "2020-09-02T01:12:52.725253Z",
     "start_time": "2020-09-02T01:12:52.714232Z"
    }
   },
   "outputs": [],
   "source": [
    "# Remove rows that the column 'Sex' is a missing value\n",
    "df[df.Sex.isna()]\n",
    "df = df.drop(df[df.Sex.isna()].index)"
   ]
  },
  {
   "cell_type": "code",
   "execution_count": null,
   "metadata": {},
   "outputs": [],
   "source": []
  },
  {
   "cell_type": "code",
   "execution_count": null,
   "metadata": {
    "ExecuteTime": {
     "end_time": "2020-09-02T01:12:52.738200Z",
     "start_time": "2020-09-02T01:12:52.726199Z"
    }
   },
   "outputs": [],
   "source": [
    "# Check infromation about the changed dataset\n",
    "df.info()"
   ]
  },
  {
   "cell_type": "code",
   "execution_count": null,
   "metadata": {
    "ExecuteTime": {
     "end_time": "2020-09-02T01:12:52.748140Z",
     "start_time": "2020-09-02T01:12:52.739165Z"
    },
    "scrolled": true
   },
   "outputs": [],
   "source": [
    "# Check values in the column 'Sex'\n",
    "df.Sex.value_counts()"
   ]
  },
  {
   "cell_type": "code",
   "execution_count": null,
   "metadata": {
    "ExecuteTime": {
     "end_time": "2020-09-02T01:12:52.759142Z",
     "start_time": "2020-09-02T01:12:52.749144Z"
    }
   },
   "outputs": [],
   "source": [
    "# Remove unnecessary spaces in the values of the column 'Sex'\n",
    "df['Sex'] = df['Sex'].str.strip()\n",
    "df.Sex.value_counts()"
   ]
  },
  {
   "cell_type": "code",
   "execution_count": null,
   "metadata": {
    "ExecuteTime": {
     "end_time": "2020-09-01T23:52:42.058470Z",
     "start_time": "2020-09-01T23:52:42.050975Z"
    }
   },
   "outputs": [],
   "source": []
  },
  {
   "cell_type": "code",
   "execution_count": null,
   "metadata": {
    "ExecuteTime": {
     "end_time": "2020-09-02T01:12:52.771122Z",
     "start_time": "2020-09-02T01:12:52.760110Z"
    }
   },
   "outputs": [],
   "source": [
    "# Remove rows that the gender is 'N', 'lli', '.' or 'M x 2'\n",
    "df = df.drop(df[(df.Sex == '.') | (df.Sex == 'N') | (df.Sex == 'lli') | ((df.Sex == 'M x 2'))].index)\n",
    "df.Sex.value_counts()"
   ]
  },
  {
   "cell_type": "code",
   "execution_count": null,
   "metadata": {
    "ExecuteTime": {
     "end_time": "2020-09-02T01:12:52.786089Z",
     "start_time": "2020-09-02T01:12:52.772108Z"
    }
   },
   "outputs": [],
   "source": [
    "# Check infromation about the changed dataset\n",
    "# 5 columns were removed\n",
    "df.info()"
   ]
  },
  {
   "cell_type": "code",
   "execution_count": null,
   "metadata": {
    "ExecuteTime": {
     "end_time": "2020-09-02T01:12:52.796052Z",
     "start_time": "2020-09-02T01:12:52.787060Z"
    }
   },
   "outputs": [],
   "source": [
    "# Check column 'Sex' percentage\n",
    "df_gener_total = df.Sex.value_counts().sum()\n",
    "df.Sex.value_counts() / df_gener_total"
   ]
  },
  {
   "cell_type": "code",
   "execution_count": null,
   "metadata": {
    "ExecuteTime": {
     "end_time": "2020-09-02T01:12:52.807015Z",
     "start_time": "2020-09-02T01:12:52.797047Z"
    }
   },
   "outputs": [],
   "source": [
    "print(f'The males represent {(df.Sex.value_counts() / df_gener_total)[0]*100:.2f}% of the people who were'\n",
    "      f'involved in incidents with sharks, while women represent only {(df.Sex.value_counts() / df_gener_total)[1]*100:.2f}%.',sep=' ')"
   ]
  },
  {
   "cell_type": "code",
   "execution_count": null,
   "metadata": {
    "ExecuteTime": {
     "end_time": "2020-09-02T01:12:52.815993Z",
     "start_time": "2020-09-02T01:12:52.808014Z"
    }
   },
   "outputs": [],
   "source": [
    "# Create a subset containing only females\n",
    "df_male = df.loc[df['Sex'] == 'F']"
   ]
  },
  {
   "cell_type": "code",
   "execution_count": null,
   "metadata": {
    "ExecuteTime": {
     "end_time": "2020-09-02T01:12:52.834941Z",
     "start_time": "2020-09-02T01:12:52.816989Z"
    }
   },
   "outputs": [],
   "source": [
    "# Create a subset containing only males\n",
    "df_male = df.loc[df['Sex'] == 'M']\n",
    "df_male.info()"
   ]
  },
  {
   "cell_type": "code",
   "execution_count": null,
   "metadata": {
    "ExecuteTime": {
     "end_time": "2020-09-02T01:12:52.839929Z",
     "start_time": "2020-09-02T01:12:52.835906Z"
    }
   },
   "outputs": [],
   "source": [
    "# Check males age\n",
    "df_male.age_cat.value_counts()"
   ]
  },
  {
   "cell_type": "code",
   "execution_count": null,
   "metadata": {
    "ExecuteTime": {
     "end_time": "2020-09-02T01:12:52.849890Z",
     "start_time": "2020-09-02T01:12:52.840893Z"
    }
   },
   "outputs": [],
   "source": [
    "df_male_total = df_male.Date.count()\n",
    "df_male_total"
   ]
  },
  {
   "cell_type": "code",
   "execution_count": null,
   "metadata": {
    "ExecuteTime": {
     "end_time": "2020-09-02T01:12:52.858878Z",
     "start_time": "2020-09-02T01:12:52.850865Z"
    }
   },
   "outputs": [],
   "source": [
    "# Check males age\n",
    "df_male.age_cat.value_counts() / df_male_total"
   ]
  },
  {
   "cell_type": "code",
   "execution_count": null,
   "metadata": {
    "ExecuteTime": {
     "end_time": "2020-09-02T01:12:52.867852Z",
     "start_time": "2020-09-02T01:12:52.859860Z"
    }
   },
   "outputs": [],
   "source": [
    "(df_male.age_cat.value_counts() / df_male_total)*100"
   ]
  },
  {
   "cell_type": "code",
   "execution_count": null,
   "metadata": {
    "ExecuteTime": {
     "end_time": "2020-09-02T01:12:52.890801Z",
     "start_time": "2020-09-02T01:12:52.868850Z"
    }
   },
   "outputs": [],
   "source": [
    "df_male_age = df_male.loc[df_male['age_cat'] != '-']\n",
    "df_male_age_total = df_male_age.Date.count()\n",
    "df_male_age.info()"
   ]
  },
  {
   "cell_type": "code",
   "execution_count": null,
   "metadata": {
    "ExecuteTime": {
     "end_time": "2020-09-02T01:12:52.895745Z",
     "start_time": "2020-09-02T01:12:52.891791Z"
    }
   },
   "outputs": [],
   "source": [
    "df_male_age_total"
   ]
  },
  {
   "cell_type": "code",
   "execution_count": null,
   "metadata": {
    "ExecuteTime": {
     "end_time": "2020-09-02T01:12:52.905763Z",
     "start_time": "2020-09-02T01:12:52.896743Z"
    }
   },
   "outputs": [],
   "source": [
    "df_male_age.age_cat.value_counts()"
   ]
  },
  {
   "cell_type": "code",
   "execution_count": null,
   "metadata": {
    "ExecuteTime": {
     "end_time": "2020-09-02T01:12:52.917726Z",
     "start_time": "2020-09-02T01:12:52.906749Z"
    }
   },
   "outputs": [],
   "source": [
    "df_male_age.age_cat.value_counts() / df_male_age_total"
   ]
  },
  {
   "cell_type": "code",
   "execution_count": null,
   "metadata": {
    "ExecuteTime": {
     "end_time": "2020-09-02T01:12:52.928691Z",
     "start_time": "2020-09-02T01:12:52.918685Z"
    }
   },
   "outputs": [],
   "source": [
    "(df_male_age.age_cat.value_counts() / df_male_age_total)*100"
   ]
  },
  {
   "cell_type": "markdown",
   "metadata": {},
   "source": [
    "50% of male who were in a shark incident were Young Adults."
   ]
  },
  {
   "cell_type": "code",
   "execution_count": null,
   "metadata": {
    "ExecuteTime": {
     "end_time": "2020-09-02T01:12:52.944639Z",
     "start_time": "2020-09-02T01:12:52.928691Z"
    }
   },
   "outputs": [],
   "source": [
    "df_male_ya = df_male_age[df_male_age['age_cat'] == 'Young Adult']\n",
    "df_male_ya.info()"
   ]
  },
  {
   "cell_type": "code",
   "execution_count": null,
   "metadata": {
    "ExecuteTime": {
     "end_time": "2020-09-02T01:12:52.953595Z",
     "start_time": "2020-09-02T01:12:52.945632Z"
    }
   },
   "outputs": [],
   "source": [
    "df_male_ya_total = df_male_ya.Date.count()\n",
    "df_male_ya.groupby(by='Activity').age_cat.count().sort_values(ascending=False)"
   ]
  },
  {
   "cell_type": "code",
   "execution_count": null,
   "metadata": {
    "ExecuteTime": {
     "end_time": "2020-09-02T01:12:52.965590Z",
     "start_time": "2020-09-02T01:12:52.954590Z"
    }
   },
   "outputs": [],
   "source": [
    "(df_male_ya.groupby(by='Activity').age_cat.count().sort_values(ascending=False) / df_male_ya_total)*100"
   ]
  },
  {
   "cell_type": "markdown",
   "metadata": {},
   "source": [
    "**Young adult males surfing were the most involved in shark incidents.**"
   ]
  },
  {
   "cell_type": "markdown",
   "metadata": {},
   "source": [
    "# Exporting dataset"
   ]
  },
  {
   "cell_type": "code",
   "execution_count": null,
   "metadata": {
    "ExecuteTime": {
     "end_time": "2020-09-02T01:12:52.990523Z",
     "start_time": "2020-09-02T01:12:52.966557Z"
    }
   },
   "outputs": [],
   "source": [
    "df"
   ]
  },
  {
   "cell_type": "code",
   "execution_count": null,
   "metadata": {
    "ExecuteTime": {
     "end_time": "2020-09-02T01:12:53.035404Z",
     "start_time": "2020-09-02T01:12:52.991490Z"
    }
   },
   "outputs": [],
   "source": [
    "#df.to_csv('sharks_clean.csv')"
   ]
  },
  {
   "cell_type": "markdown",
   "metadata": {
    "ExecuteTime": {
     "end_time": "2020-09-01T21:03:59.240347Z",
     "start_time": "2020-09-01T21:03:59.236340Z"
    }
   },
   "source": [
    "# Extra - Analysis though centuries"
   ]
  },
  {
   "cell_type": "markdown",
   "metadata": {},
   "source": [
    "## Setup"
   ]
  },
  {
   "cell_type": "code",
   "execution_count": null,
   "metadata": {
    "ExecuteTime": {
     "end_time": "2020-09-02T01:12:53.043383Z",
     "start_time": "2020-09-02T01:12:53.036369Z"
    }
   },
   "outputs": [],
   "source": [
    "# Create subsets for each century\n",
    "df_cen21 = df.loc[df['century'] == 21, :]\n",
    "df_cen20 = df.loc[df['century'] == 20, :]\n",
    "df_cen19 = df.loc[df['century'] == 19, :]"
   ]
  },
  {
   "cell_type": "code",
   "execution_count": null,
   "metadata": {
    "ExecuteTime": {
     "end_time": "2020-09-02T01:12:53.055355Z",
     "start_time": "2020-09-02T01:12:53.044348Z"
    }
   },
   "outputs": [],
   "source": [
    "df_cen21_total = df_cen21.Date.count()\n",
    "print(df_cen21_total)\n",
    "df_cen21.info()"
   ]
  },
  {
   "cell_type": "code",
   "execution_count": null,
   "metadata": {
    "ExecuteTime": {
     "end_time": "2020-09-02T01:12:53.070311Z",
     "start_time": "2020-09-02T01:12:53.056316Z"
    }
   },
   "outputs": [],
   "source": [
    "df_cen20_total = df_cen20.Date.count()\n",
    "print(df_cen20_total)\n",
    "df_cen20.info()"
   ]
  },
  {
   "cell_type": "code",
   "execution_count": null,
   "metadata": {
    "ExecuteTime": {
     "end_time": "2020-09-02T01:12:53.082247Z",
     "start_time": "2020-09-02T01:12:53.071277Z"
    }
   },
   "outputs": [],
   "source": [
    "df_cen19_total = df_cen19.Date.count()\n",
    "print(df_cen19_total)\n",
    "df_cen19.info()"
   ]
  },
  {
   "cell_type": "markdown",
   "metadata": {},
   "source": [
    "We are not even 1/4 of the 21st century and the number of shark incidents getting closer to the number of incidents in the 20th century. However, we also have to consider that there may be a probability that not all incidents were registered in the last century. "
   ]
  },
  {
   "cell_type": "markdown",
   "metadata": {},
   "source": [
    "## Gender"
   ]
  },
  {
   "cell_type": "code",
   "execution_count": null,
   "metadata": {
    "ExecuteTime": {
     "end_time": "2020-09-02T01:12:53.091223Z",
     "start_time": "2020-09-02T01:12:53.083245Z"
    }
   },
   "outputs": [],
   "source": [
    "df_cen21.Sex.value_counts() / df_cen21_total"
   ]
  },
  {
   "cell_type": "code",
   "execution_count": null,
   "metadata": {
    "ExecuteTime": {
     "end_time": "2020-09-02T01:12:53.103242Z",
     "start_time": "2020-09-02T01:12:53.092220Z"
    }
   },
   "outputs": [],
   "source": [
    "(df_cen21.Sex.value_counts() / df_cen21_total) * 100"
   ]
  },
  {
   "cell_type": "code",
   "execution_count": null,
   "metadata": {
    "ExecuteTime": {
     "end_time": "2020-09-02T01:12:53.114248Z",
     "start_time": "2020-09-02T01:12:53.104220Z"
    }
   },
   "outputs": [],
   "source": [
    "df_cen20.Sex.value_counts() / df_cen20_total"
   ]
  },
  {
   "cell_type": "code",
   "execution_count": null,
   "metadata": {
    "ExecuteTime": {
     "end_time": "2020-09-02T01:12:53.125232Z",
     "start_time": "2020-09-02T01:12:53.115228Z"
    }
   },
   "outputs": [],
   "source": [
    "(df_cen20.Sex.value_counts() / df_cen20_total) * 100"
   ]
  },
  {
   "cell_type": "code",
   "execution_count": null,
   "metadata": {
    "ExecuteTime": {
     "end_time": "2020-09-02T01:12:53.136165Z",
     "start_time": "2020-09-02T01:12:53.126190Z"
    }
   },
   "outputs": [],
   "source": [
    "df_cen19.Sex.value_counts() / df_cen19_total"
   ]
  },
  {
   "cell_type": "code",
   "execution_count": null,
   "metadata": {
    "ExecuteTime": {
     "end_time": "2020-09-02T01:12:53.147168Z",
     "start_time": "2020-09-02T01:12:53.137163Z"
    }
   },
   "outputs": [],
   "source": [
    "(df_cen19.Sex.value_counts() / df_cen19_total) * 100"
   ]
  },
  {
   "cell_type": "markdown",
   "metadata": {},
   "source": [
    "This result reflects each gender's behaviors in each century. Long time ago, women usually would just take care of the house and were not allowed to do many things."
   ]
  },
  {
   "cell_type": "markdown",
   "metadata": {
    "ExecuteTime": {
     "end_time": "2020-09-02T01:11:41.631061Z",
     "start_time": "2020-09-02T01:11:41.629065Z"
    }
   },
   "source": [
    "## Activity"
   ]
  },
  {
   "cell_type": "code",
   "execution_count": null,
   "metadata": {
    "ExecuteTime": {
     "end_time": "2020-09-02T01:12:53.157110Z",
     "start_time": "2020-09-02T01:12:53.148133Z"
    }
   },
   "outputs": [],
   "source": [
    "df_cen21.Activity.value_counts() / df_cen21_total"
   ]
  },
  {
   "cell_type": "code",
   "execution_count": null,
   "metadata": {
    "ExecuteTime": {
     "end_time": "2020-09-02T01:12:53.166085Z",
     "start_time": "2020-09-02T01:12:53.158107Z"
    }
   },
   "outputs": [],
   "source": [
    "(df_cen21.Activity.value_counts() / df_cen21_total) * 100"
   ]
  },
  {
   "cell_type": "code",
   "execution_count": null,
   "metadata": {
    "ExecuteTime": {
     "end_time": "2020-09-02T01:12:53.176058Z",
     "start_time": "2020-09-02T01:12:53.167081Z"
    }
   },
   "outputs": [],
   "source": [
    "df_cen20.Activity.value_counts() / df_cen20_total"
   ]
  },
  {
   "cell_type": "code",
   "execution_count": null,
   "metadata": {
    "ExecuteTime": {
     "end_time": "2020-09-02T01:12:53.187055Z",
     "start_time": "2020-09-02T01:12:53.177055Z"
    }
   },
   "outputs": [],
   "source": [
    "(df_cen20.Activity.value_counts() / df_cen20_total) * 100"
   ]
  },
  {
   "cell_type": "code",
   "execution_count": null,
   "metadata": {
    "ExecuteTime": {
     "end_time": "2020-09-02T01:12:53.197003Z",
     "start_time": "2020-09-02T01:12:53.188026Z"
    }
   },
   "outputs": [],
   "source": [
    "df_cen19.Activity.value_counts() / df_cen19_total"
   ]
  },
  {
   "cell_type": "code",
   "execution_count": null,
   "metadata": {
    "ExecuteTime": {
     "end_time": "2020-09-02T01:12:53.206975Z",
     "start_time": "2020-09-02T01:12:53.198000Z"
    }
   },
   "outputs": [],
   "source": [
    "(df_cen19.Activity.value_counts() / df_cen19_total) * 100"
   ]
  }
 ],
 "metadata": {
  "hide_input": false,
  "kernelspec": {
   "display_name": "Python 3",
   "language": "python",
   "name": "python3"
  },
  "toc": {
   "base_numbering": 1,
   "nav_menu": {},
   "number_sections": true,
   "sideBar": true,
   "skip_h1_title": false,
   "title_cell": "Table of Contents",
   "title_sidebar": "Contents",
   "toc_cell": false,
   "toc_position": {
    "height": "calc(100% - 180px)",
    "left": "10px",
    "top": "150px",
    "width": "384px"
   },
   "toc_section_display": true,
   "toc_window_display": true
  },
  "varInspector": {
   "cols": {
    "lenName": 16,
    "lenType": 16,
    "lenVar": 40
   },
   "kernels_config": {
    "python": {
     "delete_cmd_postfix": "",
     "delete_cmd_prefix": "del ",
     "library": "var_list.py",
     "varRefreshCmd": "print(var_dic_list())"
    },
    "r": {
     "delete_cmd_postfix": ") ",
     "delete_cmd_prefix": "rm(",
     "library": "var_list.r",
     "varRefreshCmd": "cat(var_dic_list()) "
    }
   },
   "types_to_exclude": [
    "module",
    "function",
    "builtin_function_or_method",
    "instance",
    "_Feature"
   ],
   "window_display": false
  }
 },
 "nbformat": 4,
 "nbformat_minor": 4
}
