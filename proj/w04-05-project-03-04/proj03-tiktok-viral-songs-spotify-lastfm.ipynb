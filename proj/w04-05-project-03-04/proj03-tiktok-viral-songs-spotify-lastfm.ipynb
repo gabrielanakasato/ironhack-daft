{
 "cells": [
  {
   "cell_type": "markdown",
   "metadata": {},
   "source": [
    "# Setup"
   ]
  },
  {
   "cell_type": "code",
   "execution_count": 1,
   "metadata": {
    "ExecuteTime": {
     "end_time": "2020-09-13T20:53:05.795471Z",
     "start_time": "2020-09-13T20:53:05.287768Z"
    }
   },
   "outputs": [],
   "source": [
    "import os\n",
    "import re\n",
    "import requests\n",
    "from time import sleep\n",
    "\n",
    "import numpy as np\n",
    "import pandas as pd\n",
    "import spotipy\n",
    "\n",
    "from bs4 import BeautifulSoup\n",
    "from dotenv import load_dotenv, find_dotenv\n",
    "from spotipy.oauth2 import SpotifyClientCredentials, SpotifyOAuth\n",
    "from tqdm.auto import tqdm"
   ]
  },
  {
   "cell_type": "code",
   "execution_count": null,
   "metadata": {},
   "outputs": [],
   "source": []
  },
  {
   "cell_type": "code",
   "execution_count": null,
   "metadata": {},
   "outputs": [],
   "source": []
  },
  {
   "cell_type": "markdown",
   "metadata": {},
   "source": [
    "# Web Scrapping"
   ]
  },
  {
   "cell_type": "markdown",
   "metadata": {},
   "source": [
    "## List of viral songs on TikTok"
   ]
  },
  {
   "cell_type": "markdown",
   "metadata": {},
   "source": [
    "### Get response"
   ]
  },
  {
   "cell_type": "markdown",
   "metadata": {},
   "source": [
    "https://www.popsugar.com/entertainment/popular-tiktok-songs-47289804?stream_view=1#photo-47289832"
   ]
  },
  {
   "cell_type": "code",
   "execution_count": 2,
   "metadata": {
    "ExecuteTime": {
     "end_time": "2020-09-13T20:53:08.177437Z",
     "start_time": "2020-09-13T20:53:07.231982Z"
    }
   },
   "outputs": [
    {
     "data": {
      "text/plain": [
       "<Response [200]>"
      ]
     },
     "execution_count": 2,
     "metadata": {},
     "output_type": "execute_result"
    }
   ],
   "source": [
    "# Get response from the url and check it\n",
    "url = 'https://www.popsugar.com/entertainment/popular-tiktok-songs-47289804?stream_view=1#photo-47289832'\n",
    "response = requests.get(url)\n",
    "response"
   ]
  },
  {
   "cell_type": "markdown",
   "metadata": {},
   "source": [
    "### Get desired content"
   ]
  },
  {
   "cell_type": "code",
   "execution_count": 3,
   "metadata": {
    "ExecuteTime": {
     "end_time": "2020-09-13T20:53:09.418476Z",
     "start_time": "2020-09-13T20:53:09.337691Z"
    }
   },
   "outputs": [],
   "source": [
    "# Get the content in the url\n",
    "content_popsugar = BeautifulSoup(response.text)\n",
    "\n",
    "# Get the date the post was made\n",
    "date_popsugar = content_popsugar.find('time').text.replace('\\n', '').strip()\n",
    "date_popsugar\n",
    "\n",
    "# Get only the songs and artists\n",
    "html_popsugar = content_popsugar.find_all('span', attrs={'class': 'count-copy'})\n",
    "\n",
    "# Check the result for 'html_popsugar'\n",
    "#html_popsugar"
   ]
  },
  {
   "cell_type": "code",
   "execution_count": 4,
   "metadata": {
    "ExecuteTime": {
     "end_time": "2020-09-13T20:53:10.794684Z",
     "start_time": "2020-09-13T20:53:10.783722Z"
    }
   },
   "outputs": [
    {
     "data": {
      "text/html": [
       "<div>\n",
       "<style scoped>\n",
       "    .dataframe tbody tr th:only-of-type {\n",
       "        vertical-align: middle;\n",
       "    }\n",
       "\n",
       "    .dataframe tbody tr th {\n",
       "        vertical-align: top;\n",
       "    }\n",
       "\n",
       "    .dataframe thead th {\n",
       "        text-align: right;\n",
       "    }\n",
       "</style>\n",
       "<table border=\"1\" class=\"dataframe\">\n",
       "  <thead>\n",
       "    <tr style=\"text-align: right;\">\n",
       "      <th></th>\n",
       "      <th>song</th>\n",
       "      <th>artists</th>\n",
       "    </tr>\n",
       "  </thead>\n",
       "  <tbody>\n",
       "    <tr>\n",
       "      <th>0</th>\n",
       "      <td>Roxanne</td>\n",
       "      <td>Arizona Zervas</td>\n",
       "    </tr>\n",
       "    <tr>\n",
       "      <th>1</th>\n",
       "      <td>Say So</td>\n",
       "      <td>Doja Cat</td>\n",
       "    </tr>\n",
       "    <tr>\n",
       "      <th>2</th>\n",
       "      <td>My Oh My</td>\n",
       "      <td>Camila Cabello feat. DaBaby</td>\n",
       "    </tr>\n",
       "    <tr>\n",
       "      <th>3</th>\n",
       "      <td>Moon</td>\n",
       "      <td>Kid Francescoli</td>\n",
       "    </tr>\n",
       "    <tr>\n",
       "      <th>4</th>\n",
       "      <td>Vibe</td>\n",
       "      <td>Cookiee Kawaii</td>\n",
       "    </tr>\n",
       "    <tr>\n",
       "      <th>...</th>\n",
       "      <td>...</td>\n",
       "      <td>...</td>\n",
       "    </tr>\n",
       "    <tr>\n",
       "      <th>64</th>\n",
       "      <td>What the Hell</td>\n",
       "      <td>Avril Lavigne</td>\n",
       "    </tr>\n",
       "    <tr>\n",
       "      <th>65</th>\n",
       "      <td>Towards the Sun</td>\n",
       "      <td>Rihanna</td>\n",
       "    </tr>\n",
       "    <tr>\n",
       "      <th>66</th>\n",
       "      <td>I Think I'm OKAY</td>\n",
       "      <td>Machine Gun Kelly, YUNGBLUD, and Travis Barker</td>\n",
       "    </tr>\n",
       "    <tr>\n",
       "      <th>67</th>\n",
       "      <td>Myself</td>\n",
       "      <td>Bazzi</td>\n",
       "    </tr>\n",
       "    <tr>\n",
       "      <th>68</th>\n",
       "      <td>Stronger</td>\n",
       "      <td>Kanye West</td>\n",
       "    </tr>\n",
       "  </tbody>\n",
       "</table>\n",
       "<p>69 rows × 2 columns</p>\n",
       "</div>"
      ],
      "text/plain": [
       "                song                                         artists\n",
       "0            Roxanne                                  Arizona Zervas\n",
       "1             Say So                                        Doja Cat\n",
       "2           My Oh My                     Camila Cabello feat. DaBaby\n",
       "3               Moon                                 Kid Francescoli\n",
       "4               Vibe                                  Cookiee Kawaii\n",
       "..               ...                                             ...\n",
       "64     What the Hell                                   Avril Lavigne\n",
       "65   Towards the Sun                                         Rihanna\n",
       "66  I Think I'm OKAY  Machine Gun Kelly, YUNGBLUD, and Travis Barker\n",
       "67            Myself                                           Bazzi\n",
       "68          Stronger                                      Kanye West\n",
       "\n",
       "[69 rows x 2 columns]"
      ]
     },
     "execution_count": 4,
     "metadata": {},
     "output_type": "execute_result"
    }
   ],
   "source": [
    "# Conver the list 'html_popsugar' to a Pandas DataFrame\n",
    "df_base = pd.DataFrame([re.split(' by ', song.text.replace('\"', '').strip()) for song in html_popsugar], \n",
    "                       columns=['song', 'artists'])\n",
    "\n",
    "# Check the result\n",
    "df_base"
   ]
  },
  {
   "cell_type": "markdown",
   "metadata": {},
   "source": [
    "### Data Cleaning"
   ]
  },
  {
   "cell_type": "code",
   "execution_count": 5,
   "metadata": {
    "ExecuteTime": {
     "end_time": "2020-09-13T20:53:12.796741Z",
     "start_time": "2020-09-13T20:53:12.791749Z"
    }
   },
   "outputs": [],
   "source": [
    "df_base['artists_list'] = [re.split(',* and |, * | [Ff]eat. ', artists.strip()) for artists in df_base.artists]\n",
    "df_base['number_artists'] = df_base.artists_list.apply(len)"
   ]
  },
  {
   "cell_type": "code",
   "execution_count": 6,
   "metadata": {
    "ExecuteTime": {
     "end_time": "2020-09-13T20:53:13.948740Z",
     "start_time": "2020-09-13T20:53:13.942757Z"
    }
   },
   "outputs": [
    {
     "data": {
      "text/plain": [
       "1    48\n",
       "2    18\n",
       "3     3\n",
       "Name: number_artists, dtype: int64"
      ]
     },
     "execution_count": 6,
     "metadata": {},
     "output_type": "execute_result"
    }
   ],
   "source": [
    "# Check possible number of artists for one song\n",
    "df_base.number_artists.value_counts()"
   ]
  },
  {
   "cell_type": "code",
   "execution_count": 7,
   "metadata": {
    "ExecuteTime": {
     "end_time": "2020-09-13T20:53:15.149547Z",
     "start_time": "2020-09-13T20:53:15.143532Z"
    }
   },
   "outputs": [],
   "source": [
    "df_base['artist_1'] = df_base.artists_list.apply(lambda x : x[0] if len(x) >= 1 else 'no-artist')\n",
    "df_base['artist_2'] = df_base.artists_list.apply(lambda x : x[1] if len(x) >= 2 else 'no-artist')\n",
    "df_base['artist_3'] = df_base.artists_list.apply(lambda x : x[2] if len(x) == 3 else 'no-artist')"
   ]
  },
  {
   "cell_type": "code",
   "execution_count": 8,
   "metadata": {
    "ExecuteTime": {
     "end_time": "2020-09-13T20:53:16.680841Z",
     "start_time": "2020-09-13T20:53:16.671868Z"
    }
   },
   "outputs": [
    {
     "data": {
      "text/html": [
       "<div>\n",
       "<style scoped>\n",
       "    .dataframe tbody tr th:only-of-type {\n",
       "        vertical-align: middle;\n",
       "    }\n",
       "\n",
       "    .dataframe tbody tr th {\n",
       "        vertical-align: top;\n",
       "    }\n",
       "\n",
       "    .dataframe thead th {\n",
       "        text-align: right;\n",
       "    }\n",
       "</style>\n",
       "<table border=\"1\" class=\"dataframe\">\n",
       "  <thead>\n",
       "    <tr style=\"text-align: right;\">\n",
       "      <th></th>\n",
       "      <th>song</th>\n",
       "      <th>artists</th>\n",
       "      <th>artists_list</th>\n",
       "      <th>number_artists</th>\n",
       "      <th>artist_1</th>\n",
       "      <th>artist_2</th>\n",
       "      <th>artist_3</th>\n",
       "    </tr>\n",
       "  </thead>\n",
       "  <tbody>\n",
       "    <tr>\n",
       "      <th>0</th>\n",
       "      <td>Roxanne</td>\n",
       "      <td>Arizona Zervas</td>\n",
       "      <td>[Arizona Zervas]</td>\n",
       "      <td>1</td>\n",
       "      <td>Arizona Zervas</td>\n",
       "      <td>no-artist</td>\n",
       "      <td>no-artist</td>\n",
       "    </tr>\n",
       "    <tr>\n",
       "      <th>1</th>\n",
       "      <td>Say So</td>\n",
       "      <td>Doja Cat</td>\n",
       "      <td>[Doja Cat]</td>\n",
       "      <td>1</td>\n",
       "      <td>Doja Cat</td>\n",
       "      <td>no-artist</td>\n",
       "      <td>no-artist</td>\n",
       "    </tr>\n",
       "    <tr>\n",
       "      <th>2</th>\n",
       "      <td>My Oh My</td>\n",
       "      <td>Camila Cabello feat. DaBaby</td>\n",
       "      <td>[Camila Cabello, DaBaby]</td>\n",
       "      <td>2</td>\n",
       "      <td>Camila Cabello</td>\n",
       "      <td>DaBaby</td>\n",
       "      <td>no-artist</td>\n",
       "    </tr>\n",
       "    <tr>\n",
       "      <th>3</th>\n",
       "      <td>Moon</td>\n",
       "      <td>Kid Francescoli</td>\n",
       "      <td>[Kid Francescoli]</td>\n",
       "      <td>1</td>\n",
       "      <td>Kid Francescoli</td>\n",
       "      <td>no-artist</td>\n",
       "      <td>no-artist</td>\n",
       "    </tr>\n",
       "    <tr>\n",
       "      <th>4</th>\n",
       "      <td>Vibe</td>\n",
       "      <td>Cookiee Kawaii</td>\n",
       "      <td>[Cookiee Kawaii]</td>\n",
       "      <td>1</td>\n",
       "      <td>Cookiee Kawaii</td>\n",
       "      <td>no-artist</td>\n",
       "      <td>no-artist</td>\n",
       "    </tr>\n",
       "  </tbody>\n",
       "</table>\n",
       "</div>"
      ],
      "text/plain": [
       "       song                      artists              artists_list  \\\n",
       "0   Roxanne               Arizona Zervas          [Arizona Zervas]   \n",
       "1    Say So                     Doja Cat                [Doja Cat]   \n",
       "2  My Oh My  Camila Cabello feat. DaBaby  [Camila Cabello, DaBaby]   \n",
       "3      Moon              Kid Francescoli         [Kid Francescoli]   \n",
       "4      Vibe               Cookiee Kawaii          [Cookiee Kawaii]   \n",
       "\n",
       "   number_artists         artist_1   artist_2   artist_3  \n",
       "0               1   Arizona Zervas  no-artist  no-artist  \n",
       "1               1         Doja Cat  no-artist  no-artist  \n",
       "2               2   Camila Cabello     DaBaby  no-artist  \n",
       "3               1  Kid Francescoli  no-artist  no-artist  \n",
       "4               1   Cookiee Kawaii  no-artist  no-artist  "
      ]
     },
     "execution_count": 8,
     "metadata": {},
     "output_type": "execute_result"
    }
   ],
   "source": [
    "df_base.head()"
   ]
  },
  {
   "cell_type": "markdown",
   "metadata": {},
   "source": [
    "### Make backup dataframe"
   ]
  },
  {
   "cell_type": "code",
   "execution_count": 9,
   "metadata": {
    "ExecuteTime": {
     "end_time": "2020-09-13T20:53:19.147233Z",
     "start_time": "2020-09-13T20:53:19.143245Z"
    }
   },
   "outputs": [],
   "source": [
    "df_base_raw_bck = df_base.copy()"
   ]
  },
  {
   "cell_type": "markdown",
   "metadata": {},
   "source": [
    "## List of music genre"
   ]
  },
  {
   "cell_type": "markdown",
   "metadata": {},
   "source": [
    "A list of music genres will be necessary to analyze the tags that will be obtained in the Lastfm API.\n",
    "\n",
    "https://musicbrainz.org/genres"
   ]
  },
  {
   "cell_type": "markdown",
   "metadata": {},
   "source": [
    "### Get the response"
   ]
  },
  {
   "cell_type": "code",
   "execution_count": 10,
   "metadata": {
    "ExecuteTime": {
     "end_time": "2020-09-13T20:53:23.329490Z",
     "start_time": "2020-09-13T20:53:21.935118Z"
    }
   },
   "outputs": [
    {
     "data": {
      "text/plain": [
       "<Response [200]>"
      ]
     },
     "execution_count": 10,
     "metadata": {},
     "output_type": "execute_result"
    }
   ],
   "source": [
    "# Get response from the url and check it\n",
    "url = 'https://musicbrainz.org/genres'\n",
    "response = requests.get(url)\n",
    "response"
   ]
  },
  {
   "cell_type": "markdown",
   "metadata": {},
   "source": [
    "### Get desired content"
   ]
  },
  {
   "cell_type": "code",
   "execution_count": 11,
   "metadata": {
    "ExecuteTime": {
     "end_time": "2020-09-13T20:53:24.085246Z",
     "start_time": "2020-09-13T20:53:24.053332Z"
    },
    "scrolled": true
   },
   "outputs": [],
   "source": [
    "# Get the content in the url\n",
    "musicbrainz_content = BeautifulSoup(response.content)\n",
    "\n",
    "# Create a list with the music genres listed in the url\n",
    "musicbrainz_genre = [genre.text for genre in musicbrainz_content.find_all('bdi')]"
   ]
  },
  {
   "cell_type": "markdown",
   "metadata": {
    "cell_style": "split"
   },
   "source": [
    "# Spotify"
   ]
  },
  {
   "cell_type": "markdown",
   "metadata": {},
   "source": [
    "https://spotipy.readthedocs.io/en/2.14.0/#module-spotipy.client\n",
    "\n",
    "https://developer.spotify.com/documentation/web-api/reference/tracks/get-audio-features/"
   ]
  },
  {
   "cell_type": "markdown",
   "metadata": {},
   "source": [
    "## Connecting to the API"
   ]
  },
  {
   "cell_type": "code",
   "execution_count": 82,
   "metadata": {
    "ExecuteTime": {
     "end_time": "2020-09-13T21:38:26.082355Z",
     "start_time": "2020-09-13T21:38:26.076348Z"
    }
   },
   "outputs": [
    {
     "data": {
      "text/plain": [
       "True"
      ]
     },
     "execution_count": 82,
     "metadata": {},
     "output_type": "execute_result"
    }
   ],
   "source": [
    "load_dotenv(find_dotenv())"
   ]
  },
  {
   "cell_type": "code",
   "execution_count": 83,
   "metadata": {
    "ExecuteTime": {
     "end_time": "2020-09-13T21:38:29.101718Z",
     "start_time": "2020-09-13T21:38:29.096692Z"
    }
   },
   "outputs": [],
   "source": [
    "cid = os.getenv('spotify_p03_key')\n",
    "csecret = os.getenv('spotify_p03_secret')\n",
    "cc_manager = SpotifyClientCredentials(client_id=cid, client_secret=csecret)\n",
    "sp = spotipy.Spotify(client_credentials_manager=cc_manager)"
   ]
  },
  {
   "cell_type": "markdown",
   "metadata": {},
   "source": [
    "## Songs"
   ]
  },
  {
   "cell_type": "markdown",
   "metadata": {},
   "source": [
    "### Search information about each song"
   ]
  },
  {
   "cell_type": "code",
   "execution_count": 14,
   "metadata": {
    "ExecuteTime": {
     "end_time": "2020-09-13T20:53:47.587575Z",
     "start_time": "2020-09-13T20:53:28.980654Z"
    }
   },
   "outputs": [
    {
     "data": {
      "application/vnd.jupyter.widget-view+json": {
       "model_id": "b08abcd0ff7a432f9190c04f8920c7bb",
       "version_major": 2,
       "version_minor": 0
      },
      "text/plain": [
       "HBox(children=(FloatProgress(value=0.0, max=69.0), HTML(value='')))"
      ]
     },
     "metadata": {},
     "output_type": "display_data"
    },
    {
     "name": "stdout",
     "output_type": "stream",
     "text": [
      "\n"
     ]
    }
   ],
   "source": [
    "# Search in the API wrapper\n",
    "spotify_songs = [sp.search(q=df_base.iloc[index, 0], type='track', limit=50) for index in tqdm(df_base.index)]"
   ]
  },
  {
   "cell_type": "code",
   "execution_count": 15,
   "metadata": {
    "ExecuteTime": {
     "end_time": "2020-09-13T20:54:29.061463Z",
     "start_time": "2020-09-13T20:54:29.056468Z"
    }
   },
   "outputs": [
    {
     "data": {
      "text/plain": [
       "69"
      ]
     },
     "execution_count": 15,
     "metadata": {},
     "output_type": "execute_result"
    }
   ],
   "source": [
    "len(spotify_songs)"
   ]
  },
  {
   "cell_type": "code",
   "execution_count": 16,
   "metadata": {
    "ExecuteTime": {
     "end_time": "2020-09-13T20:54:31.795109Z",
     "start_time": "2020-09-13T20:54:31.791121Z"
    }
   },
   "outputs": [],
   "source": [
    "df_base['spotify_search'] = spotify_songs"
   ]
  },
  {
   "cell_type": "code",
   "execution_count": 17,
   "metadata": {
    "ExecuteTime": {
     "end_time": "2020-09-13T20:54:34.793003Z",
     "start_time": "2020-09-13T20:54:34.761056Z"
    }
   },
   "outputs": [
    {
     "data": {
      "text/html": [
       "<div>\n",
       "<style scoped>\n",
       "    .dataframe tbody tr th:only-of-type {\n",
       "        vertical-align: middle;\n",
       "    }\n",
       "\n",
       "    .dataframe tbody tr th {\n",
       "        vertical-align: top;\n",
       "    }\n",
       "\n",
       "    .dataframe thead th {\n",
       "        text-align: right;\n",
       "    }\n",
       "</style>\n",
       "<table border=\"1\" class=\"dataframe\">\n",
       "  <thead>\n",
       "    <tr style=\"text-align: right;\">\n",
       "      <th></th>\n",
       "      <th>song</th>\n",
       "      <th>artists</th>\n",
       "      <th>artists_list</th>\n",
       "      <th>number_artists</th>\n",
       "      <th>artist_1</th>\n",
       "      <th>artist_2</th>\n",
       "      <th>artist_3</th>\n",
       "      <th>spotify_search</th>\n",
       "    </tr>\n",
       "  </thead>\n",
       "  <tbody>\n",
       "    <tr>\n",
       "      <th>0</th>\n",
       "      <td>Roxanne</td>\n",
       "      <td>Arizona Zervas</td>\n",
       "      <td>[Arizona Zervas]</td>\n",
       "      <td>1</td>\n",
       "      <td>Arizona Zervas</td>\n",
       "      <td>no-artist</td>\n",
       "      <td>no-artist</td>\n",
       "      <td>{'tracks': {'href': 'https://api.spotify.com/v...</td>\n",
       "    </tr>\n",
       "    <tr>\n",
       "      <th>1</th>\n",
       "      <td>Say So</td>\n",
       "      <td>Doja Cat</td>\n",
       "      <td>[Doja Cat]</td>\n",
       "      <td>1</td>\n",
       "      <td>Doja Cat</td>\n",
       "      <td>no-artist</td>\n",
       "      <td>no-artist</td>\n",
       "      <td>{'tracks': {'href': 'https://api.spotify.com/v...</td>\n",
       "    </tr>\n",
       "    <tr>\n",
       "      <th>2</th>\n",
       "      <td>My Oh My</td>\n",
       "      <td>Camila Cabello feat. DaBaby</td>\n",
       "      <td>[Camila Cabello, DaBaby]</td>\n",
       "      <td>2</td>\n",
       "      <td>Camila Cabello</td>\n",
       "      <td>DaBaby</td>\n",
       "      <td>no-artist</td>\n",
       "      <td>{'tracks': {'href': 'https://api.spotify.com/v...</td>\n",
       "    </tr>\n",
       "    <tr>\n",
       "      <th>3</th>\n",
       "      <td>Moon</td>\n",
       "      <td>Kid Francescoli</td>\n",
       "      <td>[Kid Francescoli]</td>\n",
       "      <td>1</td>\n",
       "      <td>Kid Francescoli</td>\n",
       "      <td>no-artist</td>\n",
       "      <td>no-artist</td>\n",
       "      <td>{'tracks': {'href': 'https://api.spotify.com/v...</td>\n",
       "    </tr>\n",
       "    <tr>\n",
       "      <th>4</th>\n",
       "      <td>Vibe</td>\n",
       "      <td>Cookiee Kawaii</td>\n",
       "      <td>[Cookiee Kawaii]</td>\n",
       "      <td>1</td>\n",
       "      <td>Cookiee Kawaii</td>\n",
       "      <td>no-artist</td>\n",
       "      <td>no-artist</td>\n",
       "      <td>{'tracks': {'href': 'https://api.spotify.com/v...</td>\n",
       "    </tr>\n",
       "  </tbody>\n",
       "</table>\n",
       "</div>"
      ],
      "text/plain": [
       "       song                      artists              artists_list  \\\n",
       "0   Roxanne               Arizona Zervas          [Arizona Zervas]   \n",
       "1    Say So                     Doja Cat                [Doja Cat]   \n",
       "2  My Oh My  Camila Cabello feat. DaBaby  [Camila Cabello, DaBaby]   \n",
       "3      Moon              Kid Francescoli         [Kid Francescoli]   \n",
       "4      Vibe               Cookiee Kawaii          [Cookiee Kawaii]   \n",
       "\n",
       "   number_artists         artist_1   artist_2   artist_3  \\\n",
       "0               1   Arizona Zervas  no-artist  no-artist   \n",
       "1               1         Doja Cat  no-artist  no-artist   \n",
       "2               2   Camila Cabello     DaBaby  no-artist   \n",
       "3               1  Kid Francescoli  no-artist  no-artist   \n",
       "4               1   Cookiee Kawaii  no-artist  no-artist   \n",
       "\n",
       "                                      spotify_search  \n",
       "0  {'tracks': {'href': 'https://api.spotify.com/v...  \n",
       "1  {'tracks': {'href': 'https://api.spotify.com/v...  \n",
       "2  {'tracks': {'href': 'https://api.spotify.com/v...  \n",
       "3  {'tracks': {'href': 'https://api.spotify.com/v...  \n",
       "4  {'tracks': {'href': 'https://api.spotify.com/v...  "
      ]
     },
     "execution_count": 17,
     "metadata": {},
     "output_type": "execute_result"
    }
   ],
   "source": [
    "df_base.head()"
   ]
  },
  {
   "cell_type": "code",
   "execution_count": 18,
   "metadata": {
    "ExecuteTime": {
     "end_time": "2020-09-13T20:54:37.824221Z",
     "start_time": "2020-09-13T20:54:37.810239Z"
    }
   },
   "outputs": [],
   "source": [
    "def get_spotify_track_info(df):\n",
    "    \n",
    "    list_spotify_track_id = []\n",
    "    list_spotify_track_duration = []\n",
    "    list_spotify_track_popularity = []\n",
    "    list_spotify_album_release_date = []\n",
    "    list_spotify_track_explicit = []\n",
    "    \n",
    "    for index in df.index:\n",
    "        \n",
    "        song_name = df.iloc[index, 0].lower()\n",
    "        \n",
    "        artists_list = [artist.lower() for artist in df.iloc[index, 2]]\n",
    "        \n",
    "        total_artists = df.iloc[index, 3]\n",
    "        \n",
    "        mask = df.iloc[index, 7]['tracks']['items']\n",
    "        \n",
    "        # If the track was not found in the Spotify\n",
    "        if len(mask) == 0:\n",
    "            list_spotify_track_id.append('not-found')\n",
    "            list_spotify_track_duration.append('not-found')\n",
    "            list_spotify_track_popularity.append('not-found')\n",
    "            list_spotify_album_release_date.append('not-found')\n",
    "            list_spotify_track_explicit.append('not-found')\n",
    "            #print(f'{index} - {song_name} - NOT FOUND')\n",
    "        \n",
    "        # If the track was found in the Spotify\n",
    "        else:\n",
    "            \n",
    "            added = 0\n",
    "            \n",
    "            # For each track it was listed 50 tracks related to the query \n",
    "            for idx, each_found in enumerate(mask):\n",
    "                \n",
    "                track_name = mask[idx]['name'].lower()\n",
    "                \n",
    "                track_id = mask[idx]['id']\n",
    "                track_duration = mask[idx]['duration_ms']\n",
    "                track_popularity = mask[idx]['popularity']\n",
    "                album_release_date = mask[idx]['album']['release_date']\n",
    "                track_explicit = mask[idx]['explicit']\n",
    "                \n",
    "                n_artists = len(mask[idx]['artists'])\n",
    "                \n",
    "                first_artist_name = mask[idx]['artists'][0]['name'].lower()\n",
    "            \n",
    "                    \n",
    "                if ((song_name in track_name) & (total_artists == n_artists) & (first_artist_name in artists_list)\n",
    "                    & (added == 0)):\n",
    "                    list_spotify_track_id.append(track_id)\n",
    "                    list_spotify_track_duration.append(track_duration)\n",
    "                    list_spotify_track_popularity.append(track_popularity)\n",
    "                    list_spotify_album_release_date.append(album_release_date)\n",
    "                    list_spotify_track_explicit.append(track_explicit)\n",
    "                    added += 1\n",
    "                    #print(f'{index} - {track_name} - {track_id}')\n",
    "                \n",
    "                elif (idx == len(mask) - 1) & (added == 0):\n",
    "                    list_spotify_track_id.append('not-found')\n",
    "                    list_spotify_track_duration.append('not-found')\n",
    "                    list_spotify_track_popularity.append('not-found')\n",
    "                    list_spotify_album_release_date.append('not-found')\n",
    "                    list_spotify_track_explicit.append('not-found')\n",
    "                    #print(f'{index} - {song_name} - NOT FOUND')\n",
    "     \n",
    "    # Inplace\n",
    "    df['sp_id'] = list_spotify_track_id\n",
    "    df['sp_duration_ms'] = list_spotify_track_duration\n",
    "    df['sp_popularity'] = list_spotify_track_popularity\n",
    "    df['sp_release_date'] = list_spotify_album_release_date\n",
    "    df['sp_explicit'] = list_spotify_track_explicit\n",
    "                    \n",
    "    return df"
   ]
  },
  {
   "cell_type": "code",
   "execution_count": 19,
   "metadata": {
    "ExecuteTime": {
     "end_time": "2020-09-13T20:54:40.923241Z",
     "start_time": "2020-09-13T20:54:40.825552Z"
    }
   },
   "outputs": [
    {
     "data": {
      "text/html": [
       "<div>\n",
       "<style scoped>\n",
       "    .dataframe tbody tr th:only-of-type {\n",
       "        vertical-align: middle;\n",
       "    }\n",
       "\n",
       "    .dataframe tbody tr th {\n",
       "        vertical-align: top;\n",
       "    }\n",
       "\n",
       "    .dataframe thead th {\n",
       "        text-align: right;\n",
       "    }\n",
       "</style>\n",
       "<table border=\"1\" class=\"dataframe\">\n",
       "  <thead>\n",
       "    <tr style=\"text-align: right;\">\n",
       "      <th></th>\n",
       "      <th>song</th>\n",
       "      <th>artists</th>\n",
       "      <th>artists_list</th>\n",
       "      <th>number_artists</th>\n",
       "      <th>artist_1</th>\n",
       "      <th>artist_2</th>\n",
       "      <th>artist_3</th>\n",
       "      <th>spotify_search</th>\n",
       "      <th>sp_id</th>\n",
       "      <th>sp_duration_ms</th>\n",
       "      <th>sp_popularity</th>\n",
       "      <th>sp_release_date</th>\n",
       "      <th>sp_explicit</th>\n",
       "    </tr>\n",
       "  </thead>\n",
       "  <tbody>\n",
       "    <tr>\n",
       "      <th>0</th>\n",
       "      <td>Roxanne</td>\n",
       "      <td>Arizona Zervas</td>\n",
       "      <td>[Arizona Zervas]</td>\n",
       "      <td>1</td>\n",
       "      <td>Arizona Zervas</td>\n",
       "      <td>no-artist</td>\n",
       "      <td>no-artist</td>\n",
       "      <td>{'tracks': {'href': 'https://api.spotify.com/v...</td>\n",
       "      <td>696DnlkuDOXcMAnKlTgXXK</td>\n",
       "      <td>163636</td>\n",
       "      <td>89</td>\n",
       "      <td>2019-10-10</td>\n",
       "      <td>True</td>\n",
       "    </tr>\n",
       "    <tr>\n",
       "      <th>1</th>\n",
       "      <td>Say So</td>\n",
       "      <td>Doja Cat</td>\n",
       "      <td>[Doja Cat]</td>\n",
       "      <td>1</td>\n",
       "      <td>Doja Cat</td>\n",
       "      <td>no-artist</td>\n",
       "      <td>no-artist</td>\n",
       "      <td>{'tracks': {'href': 'https://api.spotify.com/v...</td>\n",
       "      <td>3Dv1eDb0MEgF93GpLXlucZ</td>\n",
       "      <td>237893</td>\n",
       "      <td>89</td>\n",
       "      <td>2019-11-07</td>\n",
       "      <td>True</td>\n",
       "    </tr>\n",
       "    <tr>\n",
       "      <th>2</th>\n",
       "      <td>My Oh My</td>\n",
       "      <td>Camila Cabello feat. DaBaby</td>\n",
       "      <td>[Camila Cabello, DaBaby]</td>\n",
       "      <td>2</td>\n",
       "      <td>Camila Cabello</td>\n",
       "      <td>DaBaby</td>\n",
       "      <td>no-artist</td>\n",
       "      <td>{'tracks': {'href': 'https://api.spotify.com/v...</td>\n",
       "      <td>3yOlyBJuViE2YSGn3nVE1K</td>\n",
       "      <td>170746</td>\n",
       "      <td>83</td>\n",
       "      <td>2019-12-06</td>\n",
       "      <td>False</td>\n",
       "    </tr>\n",
       "    <tr>\n",
       "      <th>3</th>\n",
       "      <td>Moon</td>\n",
       "      <td>Kid Francescoli</td>\n",
       "      <td>[Kid Francescoli]</td>\n",
       "      <td>1</td>\n",
       "      <td>Kid Francescoli</td>\n",
       "      <td>no-artist</td>\n",
       "      <td>no-artist</td>\n",
       "      <td>{'tracks': {'href': 'https://api.spotify.com/v...</td>\n",
       "      <td>24upABZ8A0sAepfu91sEYr</td>\n",
       "      <td>390638</td>\n",
       "      <td>70</td>\n",
       "      <td>2017-03-03</td>\n",
       "      <td>False</td>\n",
       "    </tr>\n",
       "    <tr>\n",
       "      <th>4</th>\n",
       "      <td>Vibe</td>\n",
       "      <td>Cookiee Kawaii</td>\n",
       "      <td>[Cookiee Kawaii]</td>\n",
       "      <td>1</td>\n",
       "      <td>Cookiee Kawaii</td>\n",
       "      <td>no-artist</td>\n",
       "      <td>no-artist</td>\n",
       "      <td>{'tracks': {'href': 'https://api.spotify.com/v...</td>\n",
       "      <td>4gOgQTv9RYYFZ1uQNnlk3q</td>\n",
       "      <td>83940</td>\n",
       "      <td>73</td>\n",
       "      <td>2019-03-29</td>\n",
       "      <td>True</td>\n",
       "    </tr>\n",
       "    <tr>\n",
       "      <th>...</th>\n",
       "      <td>...</td>\n",
       "      <td>...</td>\n",
       "      <td>...</td>\n",
       "      <td>...</td>\n",
       "      <td>...</td>\n",
       "      <td>...</td>\n",
       "      <td>...</td>\n",
       "      <td>...</td>\n",
       "      <td>...</td>\n",
       "      <td>...</td>\n",
       "      <td>...</td>\n",
       "      <td>...</td>\n",
       "      <td>...</td>\n",
       "    </tr>\n",
       "    <tr>\n",
       "      <th>64</th>\n",
       "      <td>What the Hell</td>\n",
       "      <td>Avril Lavigne</td>\n",
       "      <td>[Avril Lavigne]</td>\n",
       "      <td>1</td>\n",
       "      <td>Avril Lavigne</td>\n",
       "      <td>no-artist</td>\n",
       "      <td>no-artist</td>\n",
       "      <td>{'tracks': {'href': 'https://api.spotify.com/v...</td>\n",
       "      <td>2z4U9d5OAA4YLNXoCgioxo</td>\n",
       "      <td>220706</td>\n",
       "      <td>74</td>\n",
       "      <td>2011-03-08</td>\n",
       "      <td>False</td>\n",
       "    </tr>\n",
       "    <tr>\n",
       "      <th>65</th>\n",
       "      <td>Towards the Sun</td>\n",
       "      <td>Rihanna</td>\n",
       "      <td>[Rihanna]</td>\n",
       "      <td>1</td>\n",
       "      <td>Rihanna</td>\n",
       "      <td>no-artist</td>\n",
       "      <td>no-artist</td>\n",
       "      <td>{'tracks': {'href': 'https://api.spotify.com/v...</td>\n",
       "      <td>1UuZhGTon3gzXQAJzNa2A4</td>\n",
       "      <td>273293</td>\n",
       "      <td>55</td>\n",
       "      <td>2015-03-23</td>\n",
       "      <td>False</td>\n",
       "    </tr>\n",
       "    <tr>\n",
       "      <th>66</th>\n",
       "      <td>I Think I'm OKAY</td>\n",
       "      <td>Machine Gun Kelly, YUNGBLUD, and Travis Barker</td>\n",
       "      <td>[Machine Gun Kelly, YUNGBLUD, Travis Barker]</td>\n",
       "      <td>3</td>\n",
       "      <td>Machine Gun Kelly</td>\n",
       "      <td>YUNGBLUD</td>\n",
       "      <td>Travis Barker</td>\n",
       "      <td>{'tracks': {'href': 'https://api.spotify.com/v...</td>\n",
       "      <td>2gTdDMpNxIRFSiu7HutMCg</td>\n",
       "      <td>169397</td>\n",
       "      <td>81</td>\n",
       "      <td>2019-07-05</td>\n",
       "      <td>True</td>\n",
       "    </tr>\n",
       "    <tr>\n",
       "      <th>67</th>\n",
       "      <td>Myself</td>\n",
       "      <td>Bazzi</td>\n",
       "      <td>[Bazzi]</td>\n",
       "      <td>1</td>\n",
       "      <td>Bazzi</td>\n",
       "      <td>no-artist</td>\n",
       "      <td>no-artist</td>\n",
       "      <td>{'tracks': {'href': 'https://api.spotify.com/v...</td>\n",
       "      <td>5YLHLxoZsodDWjqSgjhBf3</td>\n",
       "      <td>167552</td>\n",
       "      <td>77</td>\n",
       "      <td>2018-04-12</td>\n",
       "      <td>False</td>\n",
       "    </tr>\n",
       "    <tr>\n",
       "      <th>68</th>\n",
       "      <td>Stronger</td>\n",
       "      <td>Kanye West</td>\n",
       "      <td>[Kanye West]</td>\n",
       "      <td>1</td>\n",
       "      <td>Kanye West</td>\n",
       "      <td>no-artist</td>\n",
       "      <td>no-artist</td>\n",
       "      <td>{'tracks': {'href': 'https://api.spotify.com/v...</td>\n",
       "      <td>4fzsfWzRhPawzqhX8Qt9F3</td>\n",
       "      <td>311866</td>\n",
       "      <td>81</td>\n",
       "      <td>2007-09-11</td>\n",
       "      <td>True</td>\n",
       "    </tr>\n",
       "  </tbody>\n",
       "</table>\n",
       "<p>69 rows × 13 columns</p>\n",
       "</div>"
      ],
      "text/plain": [
       "                song                                         artists  \\\n",
       "0            Roxanne                                  Arizona Zervas   \n",
       "1             Say So                                        Doja Cat   \n",
       "2           My Oh My                     Camila Cabello feat. DaBaby   \n",
       "3               Moon                                 Kid Francescoli   \n",
       "4               Vibe                                  Cookiee Kawaii   \n",
       "..               ...                                             ...   \n",
       "64     What the Hell                                   Avril Lavigne   \n",
       "65   Towards the Sun                                         Rihanna   \n",
       "66  I Think I'm OKAY  Machine Gun Kelly, YUNGBLUD, and Travis Barker   \n",
       "67            Myself                                           Bazzi   \n",
       "68          Stronger                                      Kanye West   \n",
       "\n",
       "                                    artists_list  number_artists  \\\n",
       "0                               [Arizona Zervas]               1   \n",
       "1                                     [Doja Cat]               1   \n",
       "2                       [Camila Cabello, DaBaby]               2   \n",
       "3                              [Kid Francescoli]               1   \n",
       "4                               [Cookiee Kawaii]               1   \n",
       "..                                           ...             ...   \n",
       "64                               [Avril Lavigne]               1   \n",
       "65                                     [Rihanna]               1   \n",
       "66  [Machine Gun Kelly, YUNGBLUD, Travis Barker]               3   \n",
       "67                                       [Bazzi]               1   \n",
       "68                                  [Kanye West]               1   \n",
       "\n",
       "             artist_1   artist_2       artist_3  \\\n",
       "0      Arizona Zervas  no-artist      no-artist   \n",
       "1            Doja Cat  no-artist      no-artist   \n",
       "2      Camila Cabello     DaBaby      no-artist   \n",
       "3     Kid Francescoli  no-artist      no-artist   \n",
       "4      Cookiee Kawaii  no-artist      no-artist   \n",
       "..                ...        ...            ...   \n",
       "64      Avril Lavigne  no-artist      no-artist   \n",
       "65            Rihanna  no-artist      no-artist   \n",
       "66  Machine Gun Kelly   YUNGBLUD  Travis Barker   \n",
       "67              Bazzi  no-artist      no-artist   \n",
       "68         Kanye West  no-artist      no-artist   \n",
       "\n",
       "                                       spotify_search                   sp_id  \\\n",
       "0   {'tracks': {'href': 'https://api.spotify.com/v...  696DnlkuDOXcMAnKlTgXXK   \n",
       "1   {'tracks': {'href': 'https://api.spotify.com/v...  3Dv1eDb0MEgF93GpLXlucZ   \n",
       "2   {'tracks': {'href': 'https://api.spotify.com/v...  3yOlyBJuViE2YSGn3nVE1K   \n",
       "3   {'tracks': {'href': 'https://api.spotify.com/v...  24upABZ8A0sAepfu91sEYr   \n",
       "4   {'tracks': {'href': 'https://api.spotify.com/v...  4gOgQTv9RYYFZ1uQNnlk3q   \n",
       "..                                                ...                     ...   \n",
       "64  {'tracks': {'href': 'https://api.spotify.com/v...  2z4U9d5OAA4YLNXoCgioxo   \n",
       "65  {'tracks': {'href': 'https://api.spotify.com/v...  1UuZhGTon3gzXQAJzNa2A4   \n",
       "66  {'tracks': {'href': 'https://api.spotify.com/v...  2gTdDMpNxIRFSiu7HutMCg   \n",
       "67  {'tracks': {'href': 'https://api.spotify.com/v...  5YLHLxoZsodDWjqSgjhBf3   \n",
       "68  {'tracks': {'href': 'https://api.spotify.com/v...  4fzsfWzRhPawzqhX8Qt9F3   \n",
       "\n",
       "   sp_duration_ms sp_popularity sp_release_date sp_explicit  \n",
       "0          163636            89      2019-10-10        True  \n",
       "1          237893            89      2019-11-07        True  \n",
       "2          170746            83      2019-12-06       False  \n",
       "3          390638            70      2017-03-03       False  \n",
       "4           83940            73      2019-03-29        True  \n",
       "..            ...           ...             ...         ...  \n",
       "64         220706            74      2011-03-08       False  \n",
       "65         273293            55      2015-03-23       False  \n",
       "66         169397            81      2019-07-05        True  \n",
       "67         167552            77      2018-04-12       False  \n",
       "68         311866            81      2007-09-11        True  \n",
       "\n",
       "[69 rows x 13 columns]"
      ]
     },
     "execution_count": 19,
     "metadata": {},
     "output_type": "execute_result"
    }
   ],
   "source": [
    "get_spotify_track_info(df_base)\n",
    "df_base.head()"
   ]
  },
  {
   "cell_type": "code",
   "execution_count": 21,
   "metadata": {
    "ExecuteTime": {
     "end_time": "2020-09-13T21:04:54.099338Z",
     "start_time": "2020-09-13T21:04:54.062404Z"
    }
   },
   "outputs": [
    {
     "data": {
      "text/html": [
       "<div>\n",
       "<style scoped>\n",
       "    .dataframe tbody tr th:only-of-type {\n",
       "        vertical-align: middle;\n",
       "    }\n",
       "\n",
       "    .dataframe tbody tr th {\n",
       "        vertical-align: top;\n",
       "    }\n",
       "\n",
       "    .dataframe thead th {\n",
       "        text-align: right;\n",
       "    }\n",
       "</style>\n",
       "<table border=\"1\" class=\"dataframe\">\n",
       "  <thead>\n",
       "    <tr style=\"text-align: right;\">\n",
       "      <th></th>\n",
       "      <th>song</th>\n",
       "      <th>artists</th>\n",
       "      <th>artists_list</th>\n",
       "      <th>number_artists</th>\n",
       "      <th>artist_1</th>\n",
       "      <th>artist_2</th>\n",
       "      <th>artist_3</th>\n",
       "      <th>spotify_search</th>\n",
       "      <th>sp_id</th>\n",
       "      <th>sp_duration_ms</th>\n",
       "      <th>sp_popularity</th>\n",
       "      <th>sp_release_date</th>\n",
       "      <th>sp_explicit</th>\n",
       "    </tr>\n",
       "  </thead>\n",
       "  <tbody>\n",
       "    <tr>\n",
       "      <th>0</th>\n",
       "      <td>Roxanne</td>\n",
       "      <td>Arizona Zervas</td>\n",
       "      <td>[Arizona Zervas]</td>\n",
       "      <td>1</td>\n",
       "      <td>Arizona Zervas</td>\n",
       "      <td>no-artist</td>\n",
       "      <td>no-artist</td>\n",
       "      <td>{'tracks': {'href': 'https://api.spotify.com/v...</td>\n",
       "      <td>696DnlkuDOXcMAnKlTgXXK</td>\n",
       "      <td>163636</td>\n",
       "      <td>89</td>\n",
       "      <td>2019-10-10</td>\n",
       "      <td>True</td>\n",
       "    </tr>\n",
       "    <tr>\n",
       "      <th>1</th>\n",
       "      <td>Say So</td>\n",
       "      <td>Doja Cat</td>\n",
       "      <td>[Doja Cat]</td>\n",
       "      <td>1</td>\n",
       "      <td>Doja Cat</td>\n",
       "      <td>no-artist</td>\n",
       "      <td>no-artist</td>\n",
       "      <td>{'tracks': {'href': 'https://api.spotify.com/v...</td>\n",
       "      <td>3Dv1eDb0MEgF93GpLXlucZ</td>\n",
       "      <td>237893</td>\n",
       "      <td>89</td>\n",
       "      <td>2019-11-07</td>\n",
       "      <td>True</td>\n",
       "    </tr>\n",
       "    <tr>\n",
       "      <th>2</th>\n",
       "      <td>My Oh My</td>\n",
       "      <td>Camila Cabello feat. DaBaby</td>\n",
       "      <td>[Camila Cabello, DaBaby]</td>\n",
       "      <td>2</td>\n",
       "      <td>Camila Cabello</td>\n",
       "      <td>DaBaby</td>\n",
       "      <td>no-artist</td>\n",
       "      <td>{'tracks': {'href': 'https://api.spotify.com/v...</td>\n",
       "      <td>3yOlyBJuViE2YSGn3nVE1K</td>\n",
       "      <td>170746</td>\n",
       "      <td>83</td>\n",
       "      <td>2019-12-06</td>\n",
       "      <td>False</td>\n",
       "    </tr>\n",
       "    <tr>\n",
       "      <th>3</th>\n",
       "      <td>Moon</td>\n",
       "      <td>Kid Francescoli</td>\n",
       "      <td>[Kid Francescoli]</td>\n",
       "      <td>1</td>\n",
       "      <td>Kid Francescoli</td>\n",
       "      <td>no-artist</td>\n",
       "      <td>no-artist</td>\n",
       "      <td>{'tracks': {'href': 'https://api.spotify.com/v...</td>\n",
       "      <td>24upABZ8A0sAepfu91sEYr</td>\n",
       "      <td>390638</td>\n",
       "      <td>70</td>\n",
       "      <td>2017-03-03</td>\n",
       "      <td>False</td>\n",
       "    </tr>\n",
       "    <tr>\n",
       "      <th>4</th>\n",
       "      <td>Vibe</td>\n",
       "      <td>Cookiee Kawaii</td>\n",
       "      <td>[Cookiee Kawaii]</td>\n",
       "      <td>1</td>\n",
       "      <td>Cookiee Kawaii</td>\n",
       "      <td>no-artist</td>\n",
       "      <td>no-artist</td>\n",
       "      <td>{'tracks': {'href': 'https://api.spotify.com/v...</td>\n",
       "      <td>4gOgQTv9RYYFZ1uQNnlk3q</td>\n",
       "      <td>83940</td>\n",
       "      <td>73</td>\n",
       "      <td>2019-03-29</td>\n",
       "      <td>True</td>\n",
       "    </tr>\n",
       "  </tbody>\n",
       "</table>\n",
       "</div>"
      ],
      "text/plain": [
       "       song                      artists              artists_list  \\\n",
       "0   Roxanne               Arizona Zervas          [Arizona Zervas]   \n",
       "1    Say So                     Doja Cat                [Doja Cat]   \n",
       "2  My Oh My  Camila Cabello feat. DaBaby  [Camila Cabello, DaBaby]   \n",
       "3      Moon              Kid Francescoli         [Kid Francescoli]   \n",
       "4      Vibe               Cookiee Kawaii          [Cookiee Kawaii]   \n",
       "\n",
       "   number_artists         artist_1   artist_2   artist_3  \\\n",
       "0               1   Arizona Zervas  no-artist  no-artist   \n",
       "1               1         Doja Cat  no-artist  no-artist   \n",
       "2               2   Camila Cabello     DaBaby  no-artist   \n",
       "3               1  Kid Francescoli  no-artist  no-artist   \n",
       "4               1   Cookiee Kawaii  no-artist  no-artist   \n",
       "\n",
       "                                      spotify_search                   sp_id  \\\n",
       "0  {'tracks': {'href': 'https://api.spotify.com/v...  696DnlkuDOXcMAnKlTgXXK   \n",
       "1  {'tracks': {'href': 'https://api.spotify.com/v...  3Dv1eDb0MEgF93GpLXlucZ   \n",
       "2  {'tracks': {'href': 'https://api.spotify.com/v...  3yOlyBJuViE2YSGn3nVE1K   \n",
       "3  {'tracks': {'href': 'https://api.spotify.com/v...  24upABZ8A0sAepfu91sEYr   \n",
       "4  {'tracks': {'href': 'https://api.spotify.com/v...  4gOgQTv9RYYFZ1uQNnlk3q   \n",
       "\n",
       "  sp_duration_ms sp_popularity sp_release_date sp_explicit  \n",
       "0         163636            89      2019-10-10        True  \n",
       "1         237893            89      2019-11-07        True  \n",
       "2         170746            83      2019-12-06       False  \n",
       "3         390638            70      2017-03-03       False  \n",
       "4          83940            73      2019-03-29        True  "
      ]
     },
     "execution_count": 21,
     "metadata": {},
     "output_type": "execute_result"
    }
   ],
   "source": [
    "df_base.head()"
   ]
  },
  {
   "cell_type": "markdown",
   "metadata": {},
   "source": [
    "### Find the audio features for each song"
   ]
  },
  {
   "cell_type": "code",
   "execution_count": 25,
   "metadata": {
    "ExecuteTime": {
     "end_time": "2020-09-13T21:08:02.938369Z",
     "start_time": "2020-09-13T21:07:51.280860Z"
    }
   },
   "outputs": [
    {
     "data": {
      "application/vnd.jupyter.widget-view+json": {
       "model_id": "1b07141c66e2425b885f633db7f75ef3",
       "version_major": 2,
       "version_minor": 0
      },
      "text/plain": [
       "HBox(children=(FloatProgress(value=0.0, max=69.0), HTML(value='')))"
      ]
     },
     "metadata": {},
     "output_type": "display_data"
    },
    {
     "name": "stdout",
     "output_type": "stream",
     "text": [
      "\n"
     ]
    }
   ],
   "source": [
    "# Search in the API wrapper\n",
    "spotify_audio_features = [sp.audio_features(track_id)  if track_id != 'not-found'else 'not-found' \n",
    "                          for track_id in tqdm(df_base.sp_id)]"
   ]
  },
  {
   "cell_type": "code",
   "execution_count": 27,
   "metadata": {
    "ExecuteTime": {
     "end_time": "2020-09-13T21:08:13.506348Z",
     "start_time": "2020-09-13T21:08:13.502367Z"
    }
   },
   "outputs": [
    {
     "data": {
      "text/plain": [
       "69"
      ]
     },
     "execution_count": 27,
     "metadata": {},
     "output_type": "execute_result"
    }
   ],
   "source": [
    "len(spotify_audio_features)"
   ]
  },
  {
   "cell_type": "code",
   "execution_count": 41,
   "metadata": {
    "ExecuteTime": {
     "end_time": "2020-09-13T21:21:47.253408Z",
     "start_time": "2020-09-13T21:21:47.241458Z"
    }
   },
   "outputs": [],
   "source": [
    "def get_spotify_audio_features(df, audio_features: list):\n",
    "    \n",
    "    list_danceability = []\n",
    "    list_energy = []\n",
    "    list_key = []\n",
    "    list_loudness = []\n",
    "    list_mode = []\n",
    "    list_speechiness = []\n",
    "    list_acousticness = []\n",
    "    list_instrumentalness = []\n",
    "    list_liveness = []\n",
    "    list_valence = []\n",
    "    list_tempo = []\n",
    "    list_time_signature = []\n",
    "    \n",
    "    for index in df.index:\n",
    "        \n",
    "        track_id = df.iloc[index, 8]\n",
    "        \n",
    "        if track_id == 'not-found':\n",
    "            \n",
    "            list_danceability.append('not-found')\n",
    "            list_energy.append('not-found')\n",
    "            list_key.append('not-found')\n",
    "            list_loudness.append('not-found')\n",
    "            list_mode.append('not-found')\n",
    "            list_speechiness.append('not-found')\n",
    "            list_acousticness.append('not-found')\n",
    "            list_instrumentalness.append('not-found')\n",
    "            list_liveness.append('not-found')\n",
    "            list_valence.append('not-found')\n",
    "            list_tempo.append('not-found')\n",
    "            list_time_signature.append('not-found')\n",
    "    \n",
    "        else:\n",
    "            \n",
    "            list_danceability.append(audio_features[index][0]['danceability'])\n",
    "            list_energy.append(audio_features[index][0]['energy'])\n",
    "            list_key.append(audio_features[index][0]['key'])\n",
    "            list_loudness.append(audio_features[index][0]['loudness'])\n",
    "            list_mode.append(audio_features[index][0]['mode'])\n",
    "            list_speechiness.append(audio_features[index][0]['speechiness'])\n",
    "            list_acousticness.append(audio_features[index][0]['acousticness'])\n",
    "            list_instrumentalness.append(audio_features[index][0]['instrumentalness'])\n",
    "            list_liveness.append(audio_features[index][0]['liveness'])\n",
    "            list_valence.append(audio_features[index][0]['valence'])\n",
    "            list_tempo.append(audio_features[index][0]['tempo'])\n",
    "            list_time_signature.append(audio_features[index][0]['time_signature'])\n",
    "     \n",
    "    # Inplace\n",
    "    df['sp_danceability'] = list_danceability\n",
    "    df['sp_energy'] = list_energy\n",
    "    df['sp_key'] = list_key\n",
    "    df['sp_loudness'] = list_loudness\n",
    "    df['sp_mode'] = list_mode\n",
    "    df['sp_speechiness'] = list_speechiness\n",
    "    df['sp_acousticness'] = list_acousticness\n",
    "    df['sp_instrumentalness'] = list_instrumentalness\n",
    "    df['sp_liveness'] = list_liveness\n",
    "    df['sp_valence'] = list_valence\n",
    "    df['sp_tempo'] = list_tempo\n",
    "    df['sp_time_signature'] = list_time_signature\n",
    "    \n",
    "    return df"
   ]
  },
  {
   "cell_type": "code",
   "execution_count": 43,
   "metadata": {
    "ExecuteTime": {
     "end_time": "2020-09-13T21:22:10.978236Z",
     "start_time": "2020-09-13T21:22:10.933344Z"
    }
   },
   "outputs": [
    {
     "data": {
      "text/html": [
       "<div>\n",
       "<style scoped>\n",
       "    .dataframe tbody tr th:only-of-type {\n",
       "        vertical-align: middle;\n",
       "    }\n",
       "\n",
       "    .dataframe tbody tr th {\n",
       "        vertical-align: top;\n",
       "    }\n",
       "\n",
       "    .dataframe thead th {\n",
       "        text-align: right;\n",
       "    }\n",
       "</style>\n",
       "<table border=\"1\" class=\"dataframe\">\n",
       "  <thead>\n",
       "    <tr style=\"text-align: right;\">\n",
       "      <th></th>\n",
       "      <th>song</th>\n",
       "      <th>artists</th>\n",
       "      <th>artists_list</th>\n",
       "      <th>number_artists</th>\n",
       "      <th>artist_1</th>\n",
       "      <th>artist_2</th>\n",
       "      <th>artist_3</th>\n",
       "      <th>spotify_search</th>\n",
       "      <th>sp_id</th>\n",
       "      <th>sp_duration_ms</th>\n",
       "      <th>...</th>\n",
       "      <th>sp_key</th>\n",
       "      <th>sp_loudness</th>\n",
       "      <th>sp_mode</th>\n",
       "      <th>sp_speechiness</th>\n",
       "      <th>sp_acousticness</th>\n",
       "      <th>sp_instrumentalness</th>\n",
       "      <th>sp_liveness</th>\n",
       "      <th>sp_valence</th>\n",
       "      <th>sp_tempo</th>\n",
       "      <th>sp_time_signature</th>\n",
       "    </tr>\n",
       "  </thead>\n",
       "  <tbody>\n",
       "    <tr>\n",
       "      <th>0</th>\n",
       "      <td>Roxanne</td>\n",
       "      <td>Arizona Zervas</td>\n",
       "      <td>[Arizona Zervas]</td>\n",
       "      <td>1</td>\n",
       "      <td>Arizona Zervas</td>\n",
       "      <td>no-artist</td>\n",
       "      <td>no-artist</td>\n",
       "      <td>{'tracks': {'href': 'https://api.spotify.com/v...</td>\n",
       "      <td>696DnlkuDOXcMAnKlTgXXK</td>\n",
       "      <td>163636</td>\n",
       "      <td>...</td>\n",
       "      <td>6</td>\n",
       "      <td>-5.616</td>\n",
       "      <td>0</td>\n",
       "      <td>0.148</td>\n",
       "      <td>0.0522</td>\n",
       "      <td>0</td>\n",
       "      <td>0.46</td>\n",
       "      <td>0.457</td>\n",
       "      <td>116.735</td>\n",
       "      <td>5</td>\n",
       "    </tr>\n",
       "    <tr>\n",
       "      <th>1</th>\n",
       "      <td>Say So</td>\n",
       "      <td>Doja Cat</td>\n",
       "      <td>[Doja Cat]</td>\n",
       "      <td>1</td>\n",
       "      <td>Doja Cat</td>\n",
       "      <td>no-artist</td>\n",
       "      <td>no-artist</td>\n",
       "      <td>{'tracks': {'href': 'https://api.spotify.com/v...</td>\n",
       "      <td>3Dv1eDb0MEgF93GpLXlucZ</td>\n",
       "      <td>237893</td>\n",
       "      <td>...</td>\n",
       "      <td>11</td>\n",
       "      <td>-4.577</td>\n",
       "      <td>0</td>\n",
       "      <td>0.158</td>\n",
       "      <td>0.256</td>\n",
       "      <td>3.57e-06</td>\n",
       "      <td>0.0904</td>\n",
       "      <td>0.786</td>\n",
       "      <td>110.962</td>\n",
       "      <td>4</td>\n",
       "    </tr>\n",
       "    <tr>\n",
       "      <th>2</th>\n",
       "      <td>My Oh My</td>\n",
       "      <td>Camila Cabello feat. DaBaby</td>\n",
       "      <td>[Camila Cabello, DaBaby]</td>\n",
       "      <td>2</td>\n",
       "      <td>Camila Cabello</td>\n",
       "      <td>DaBaby</td>\n",
       "      <td>no-artist</td>\n",
       "      <td>{'tracks': {'href': 'https://api.spotify.com/v...</td>\n",
       "      <td>3yOlyBJuViE2YSGn3nVE1K</td>\n",
       "      <td>170746</td>\n",
       "      <td>...</td>\n",
       "      <td>8</td>\n",
       "      <td>-6.024</td>\n",
       "      <td>1</td>\n",
       "      <td>0.0296</td>\n",
       "      <td>0.018</td>\n",
       "      <td>1.29e-05</td>\n",
       "      <td>0.0887</td>\n",
       "      <td>0.383</td>\n",
       "      <td>105.046</td>\n",
       "      <td>4</td>\n",
       "    </tr>\n",
       "    <tr>\n",
       "      <th>3</th>\n",
       "      <td>Moon</td>\n",
       "      <td>Kid Francescoli</td>\n",
       "      <td>[Kid Francescoli]</td>\n",
       "      <td>1</td>\n",
       "      <td>Kid Francescoli</td>\n",
       "      <td>no-artist</td>\n",
       "      <td>no-artist</td>\n",
       "      <td>{'tracks': {'href': 'https://api.spotify.com/v...</td>\n",
       "      <td>24upABZ8A0sAepfu91sEYr</td>\n",
       "      <td>390638</td>\n",
       "      <td>...</td>\n",
       "      <td>7</td>\n",
       "      <td>-10.002</td>\n",
       "      <td>1</td>\n",
       "      <td>0.0345</td>\n",
       "      <td>0.288</td>\n",
       "      <td>0.856</td>\n",
       "      <td>0.102</td>\n",
       "      <td>0.0584</td>\n",
       "      <td>117.986</td>\n",
       "      <td>4</td>\n",
       "    </tr>\n",
       "    <tr>\n",
       "      <th>4</th>\n",
       "      <td>Vibe</td>\n",
       "      <td>Cookiee Kawaii</td>\n",
       "      <td>[Cookiee Kawaii]</td>\n",
       "      <td>1</td>\n",
       "      <td>Cookiee Kawaii</td>\n",
       "      <td>no-artist</td>\n",
       "      <td>no-artist</td>\n",
       "      <td>{'tracks': {'href': 'https://api.spotify.com/v...</td>\n",
       "      <td>4gOgQTv9RYYFZ1uQNnlk3q</td>\n",
       "      <td>83940</td>\n",
       "      <td>...</td>\n",
       "      <td>10</td>\n",
       "      <td>-8.719</td>\n",
       "      <td>1</td>\n",
       "      <td>0.344</td>\n",
       "      <td>0.0635</td>\n",
       "      <td>0.00932</td>\n",
       "      <td>0.118</td>\n",
       "      <td>0.175</td>\n",
       "      <td>159.947</td>\n",
       "      <td>4</td>\n",
       "    </tr>\n",
       "  </tbody>\n",
       "</table>\n",
       "<p>5 rows × 25 columns</p>\n",
       "</div>"
      ],
      "text/plain": [
       "       song                      artists              artists_list  \\\n",
       "0   Roxanne               Arizona Zervas          [Arizona Zervas]   \n",
       "1    Say So                     Doja Cat                [Doja Cat]   \n",
       "2  My Oh My  Camila Cabello feat. DaBaby  [Camila Cabello, DaBaby]   \n",
       "3      Moon              Kid Francescoli         [Kid Francescoli]   \n",
       "4      Vibe               Cookiee Kawaii          [Cookiee Kawaii]   \n",
       "\n",
       "   number_artists         artist_1   artist_2   artist_3  \\\n",
       "0               1   Arizona Zervas  no-artist  no-artist   \n",
       "1               1         Doja Cat  no-artist  no-artist   \n",
       "2               2   Camila Cabello     DaBaby  no-artist   \n",
       "3               1  Kid Francescoli  no-artist  no-artist   \n",
       "4               1   Cookiee Kawaii  no-artist  no-artist   \n",
       "\n",
       "                                      spotify_search                   sp_id  \\\n",
       "0  {'tracks': {'href': 'https://api.spotify.com/v...  696DnlkuDOXcMAnKlTgXXK   \n",
       "1  {'tracks': {'href': 'https://api.spotify.com/v...  3Dv1eDb0MEgF93GpLXlucZ   \n",
       "2  {'tracks': {'href': 'https://api.spotify.com/v...  3yOlyBJuViE2YSGn3nVE1K   \n",
       "3  {'tracks': {'href': 'https://api.spotify.com/v...  24upABZ8A0sAepfu91sEYr   \n",
       "4  {'tracks': {'href': 'https://api.spotify.com/v...  4gOgQTv9RYYFZ1uQNnlk3q   \n",
       "\n",
       "  sp_duration_ms  ... sp_key sp_loudness sp_mode sp_speechiness  \\\n",
       "0         163636  ...      6      -5.616       0          0.148   \n",
       "1         237893  ...     11      -4.577       0          0.158   \n",
       "2         170746  ...      8      -6.024       1         0.0296   \n",
       "3         390638  ...      7     -10.002       1         0.0345   \n",
       "4          83940  ...     10      -8.719       1          0.344   \n",
       "\n",
       "  sp_acousticness sp_instrumentalness sp_liveness sp_valence sp_tempo  \\\n",
       "0          0.0522                   0        0.46      0.457  116.735   \n",
       "1           0.256            3.57e-06      0.0904      0.786  110.962   \n",
       "2           0.018            1.29e-05      0.0887      0.383  105.046   \n",
       "3           0.288               0.856       0.102     0.0584  117.986   \n",
       "4          0.0635             0.00932       0.118      0.175  159.947   \n",
       "\n",
       "  sp_time_signature  \n",
       "0                 5  \n",
       "1                 4  \n",
       "2                 4  \n",
       "3                 4  \n",
       "4                 4  \n",
       "\n",
       "[5 rows x 25 columns]"
      ]
     },
     "execution_count": 43,
     "metadata": {},
     "output_type": "execute_result"
    }
   ],
   "source": [
    "get_spotify_audio_features(df_base, spotify_audio_features)\n",
    "df_base.head()"
   ]
  },
  {
   "cell_type": "code",
   "execution_count": null,
   "metadata": {},
   "outputs": [],
   "source": []
  },
  {
   "cell_type": "code",
   "execution_count": null,
   "metadata": {},
   "outputs": [],
   "source": []
  },
  {
   "cell_type": "markdown",
   "metadata": {},
   "source": [
    "## Artists"
   ]
  },
  {
   "cell_type": "code",
   "execution_count": 51,
   "metadata": {
    "ExecuteTime": {
     "end_time": "2020-09-13T21:25:57.668687Z",
     "start_time": "2020-09-13T21:25:57.660709Z"
    }
   },
   "outputs": [
    {
     "data": {
      "text/html": [
       "<div>\n",
       "<style scoped>\n",
       "    .dataframe tbody tr th:only-of-type {\n",
       "        vertical-align: middle;\n",
       "    }\n",
       "\n",
       "    .dataframe tbody tr th {\n",
       "        vertical-align: top;\n",
       "    }\n",
       "\n",
       "    .dataframe thead th {\n",
       "        text-align: right;\n",
       "    }\n",
       "</style>\n",
       "<table border=\"1\" class=\"dataframe\">\n",
       "  <thead>\n",
       "    <tr style=\"text-align: right;\">\n",
       "      <th></th>\n",
       "      <th>artist</th>\n",
       "    </tr>\n",
       "  </thead>\n",
       "  <tbody>\n",
       "    <tr>\n",
       "      <th>0</th>\n",
       "      <td>Arizona Zervas</td>\n",
       "    </tr>\n",
       "    <tr>\n",
       "      <th>1</th>\n",
       "      <td>Doja Cat</td>\n",
       "    </tr>\n",
       "    <tr>\n",
       "      <th>2</th>\n",
       "      <td>Camila Cabello</td>\n",
       "    </tr>\n",
       "    <tr>\n",
       "      <th>3</th>\n",
       "      <td>DaBaby</td>\n",
       "    </tr>\n",
       "    <tr>\n",
       "      <th>4</th>\n",
       "      <td>Kid Francescoli</td>\n",
       "    </tr>\n",
       "  </tbody>\n",
       "</table>\n",
       "</div>"
      ],
      "text/plain": [
       "            artist\n",
       "0   Arizona Zervas\n",
       "1         Doja Cat\n",
       "2   Camila Cabello\n",
       "3           DaBaby\n",
       "4  Kid Francescoli"
      ]
     },
     "execution_count": 51,
     "metadata": {},
     "output_type": "execute_result"
    }
   ],
   "source": [
    "df_artist = pd.DataFrame([each_artist for each_list in df_base.artists_list \n",
    "                          for each_artist in each_list], columns=['artist']).drop_duplicates()\n",
    "df_artist.head()"
   ]
  },
  {
   "cell_type": "code",
   "execution_count": null,
   "metadata": {},
   "outputs": [],
   "source": []
  },
  {
   "cell_type": "code",
   "execution_count": 55,
   "metadata": {
    "ExecuteTime": {
     "end_time": "2020-09-13T21:30:15.914049Z",
     "start_time": "2020-09-13T21:29:58.192436Z"
    }
   },
   "outputs": [
    {
     "data": {
      "application/vnd.jupyter.widget-view+json": {
       "model_id": "837840a36afb4cb884ee4c9a9135323f",
       "version_major": 2,
       "version_minor": 0
      },
      "text/plain": [
       "HBox(children=(FloatProgress(value=0.0, max=91.0), HTML(value='')))"
      ]
     },
     "metadata": {},
     "output_type": "display_data"
    },
    {
     "name": "stdout",
     "output_type": "stream",
     "text": [
      "\n"
     ]
    }
   ],
   "source": [
    "# Search in the API wrapper\n",
    "spotify_artists = [sp.search(q=artist, type='artist') for artist in tqdm(df_artist.artist)]"
   ]
  },
  {
   "cell_type": "code",
   "execution_count": 81,
   "metadata": {
    "ExecuteTime": {
     "end_time": "2020-09-13T21:36:52.626431Z",
     "start_time": "2020-09-13T21:36:52.622409Z"
    }
   },
   "outputs": [
    {
     "data": {
      "text/plain": [
       "[{'external_urls': {'spotify': 'https://open.spotify.com/artist/4r63FhuTkUYltbVAg5TQnk'},\n",
       "  'followers': {'href': None, 'total': 4291213},\n",
       "  'genres': ['north carolina hip hop', 'rap'],\n",
       "  'href': 'https://api.spotify.com/v1/artists/4r63FhuTkUYltbVAg5TQnk',\n",
       "  'id': '4r63FhuTkUYltbVAg5TQnk',\n",
       "  'images': [{'height': 640,\n",
       "    'url': 'https://i.scdn.co/image/f68192e6516d89a77a2b16904725a77b75b42056',\n",
       "    'width': 640},\n",
       "   {'height': 320,\n",
       "    'url': 'https://i.scdn.co/image/f88e08cf9132c7facc2ee9fbdd1be3924b5c5a74',\n",
       "    'width': 320},\n",
       "   {'height': 160,\n",
       "    'url': 'https://i.scdn.co/image/1b6dd2116962f6d9741d0181708e31006b5048a7',\n",
       "    'width': 160}],\n",
       "  'name': 'DaBaby',\n",
       "  'popularity': 95,\n",
       "  'type': 'artist',\n",
       "  'uri': 'spotify:artist:4r63FhuTkUYltbVAg5TQnk'},\n",
       " {'external_urls': {'spotify': 'https://open.spotify.com/artist/7MCrEuHBgUcjP8eMxM2IFC'},\n",
       "  'followers': {'href': None, 'total': 144},\n",
       "  'genres': [],\n",
       "  'href': 'https://api.spotify.com/v1/artists/7MCrEuHBgUcjP8eMxM2IFC',\n",
       "  'id': '7MCrEuHBgUcjP8eMxM2IFC',\n",
       "  'images': [{'height': 640,\n",
       "    'url': 'https://i.scdn.co/image/ab67616d0000b273f51d22db94b7ccbed26870c0',\n",
       "    'width': 640},\n",
       "   {'height': 300,\n",
       "    'url': 'https://i.scdn.co/image/ab67616d00001e02f51d22db94b7ccbed26870c0',\n",
       "    'width': 300},\n",
       "   {'height': 64,\n",
       "    'url': 'https://i.scdn.co/image/ab67616d00004851f51d22db94b7ccbed26870c0',\n",
       "    'width': 64}],\n",
       "  'name': 'DaBaby',\n",
       "  'popularity': 19,\n",
       "  'type': 'artist',\n",
       "  'uri': 'spotify:artist:7MCrEuHBgUcjP8eMxM2IFC'}]"
      ]
     },
     "execution_count": 81,
     "metadata": {},
     "output_type": "execute_result"
    }
   ],
   "source": [
    "spotify_artists[3]['artists']['items'][:2]"
   ]
  },
  {
   "cell_type": "code",
   "execution_count": null,
   "metadata": {},
   "outputs": [],
   "source": []
  },
  {
   "cell_type": "code",
   "execution_count": null,
   "metadata": {},
   "outputs": [],
   "source": []
  },
  {
   "cell_type": "code",
   "execution_count": null,
   "metadata": {},
   "outputs": [],
   "source": []
  },
  {
   "cell_type": "code",
   "execution_count": null,
   "metadata": {},
   "outputs": [],
   "source": []
  },
  {
   "cell_type": "code",
   "execution_count": null,
   "metadata": {},
   "outputs": [],
   "source": []
  },
  {
   "cell_type": "code",
   "execution_count": null,
   "metadata": {},
   "outputs": [],
   "source": []
  },
  {
   "cell_type": "markdown",
   "metadata": {},
   "source": [
    "## Playlists"
   ]
  },
  {
   "cell_type": "code",
   "execution_count": 86,
   "metadata": {
    "ExecuteTime": {
     "end_time": "2020-09-13T21:38:54.550330Z",
     "start_time": "2020-09-13T21:38:54.211198Z"
    }
   },
   "outputs": [],
   "source": [
    "# Search in the API wrapper\n",
    "spotify_tiktok = sp.search(q='tiktok', type='playlist', limit=50)"
   ]
  },
  {
   "cell_type": "code",
   "execution_count": 87,
   "metadata": {
    "ExecuteTime": {
     "end_time": "2020-09-13T21:38:57.681555Z",
     "start_time": "2020-09-13T21:38:57.677565Z"
    }
   },
   "outputs": [
    {
     "data": {
      "text/plain": [
       "50"
      ]
     },
     "execution_count": 87,
     "metadata": {},
     "output_type": "execute_result"
    }
   ],
   "source": [
    "len(spotify_tiktok['playlists']['items'])"
   ]
  },
  {
   "cell_type": "code",
   "execution_count": null,
   "metadata": {},
   "outputs": [],
   "source": []
  },
  {
   "cell_type": "code",
   "execution_count": null,
   "metadata": {},
   "outputs": [],
   "source": []
  },
  {
   "cell_type": "code",
   "execution_count": null,
   "metadata": {},
   "outputs": [],
   "source": []
  },
  {
   "cell_type": "code",
   "execution_count": null,
   "metadata": {},
   "outputs": [],
   "source": []
  },
  {
   "cell_type": "markdown",
   "metadata": {},
   "source": [
    "# Last.fm"
   ]
  },
  {
   "cell_type": "markdown",
   "metadata": {},
   "source": [
    "https://www.last.fm/api/show/track.getInfo"
   ]
  },
  {
   "cell_type": "markdown",
   "metadata": {
    "ExecuteTime": {
     "end_time": "2020-09-11T22:28:18.799020Z",
     "start_time": "2020-09-11T22:28:18.340871Z"
    }
   },
   "source": [
    "\n",
    "\n",
    "headers = {'user-agent': lastfm_user}\n",
    "\n",
    "payload = {\n",
    "    'api_key': lastfm_key,\n",
    "    'method': 'track.getInfo'\n",
    "}\n",
    "\n",
    "response = requests.get('http://ws.audioscrobbler.com/2.0/', headers=headers, params=payload)\n",
    "response"
   ]
  },
  {
   "cell_type": "markdown",
   "metadata": {},
   "source": [
    "## Connecting to the API and collecting data"
   ]
  },
  {
   "cell_type": "markdown",
   "metadata": {
    "ExecuteTime": {
     "end_time": "2020-09-12T02:05:45.665210Z",
     "start_time": "2020-09-12T02:05:45.188254Z"
    },
    "hide_input": true
   },
   "source": [
    "Example of how to connect to the API and collect data\n",
    "\n",
    "```python\n",
    "response = lastfm_get({\n",
    "    'method': 'track.getInfo',\n",
    "    'track': 'My Oh My',\n",
    "    'artist': 'Camila Cabello'\n",
    "})```"
   ]
  },
  {
   "cell_type": "code",
   "execution_count": 88,
   "metadata": {
    "ExecuteTime": {
     "end_time": "2020-09-13T21:39:20.519645Z",
     "start_time": "2020-09-13T21:39:20.515656Z"
    }
   },
   "outputs": [],
   "source": [
    "lastfm_key = os.getenv('lastfm_p03_key')\n",
    "lastfm_user = 'gnakasato'"
   ]
  },
  {
   "cell_type": "code",
   "execution_count": 89,
   "metadata": {
    "ExecuteTime": {
     "end_time": "2020-09-13T21:39:23.470052Z",
     "start_time": "2020-09-13T21:39:23.466068Z"
    }
   },
   "outputs": [],
   "source": [
    "# Function to connect to the API and get data\n",
    "\n",
    "def lastfm_get(payload):\n",
    "    # Define the headers and the url\n",
    "    headers = {'user-agent': lastfm_user}\n",
    "    url = 'http://ws.audioscrobbler.com/2.0/'\n",
    "    \n",
    "    # Add API key and format to the payload\n",
    "    payload['api_key'] = lastfm_key\n",
    "    payload['format=json'] = lastfm_key\n",
    "    \n",
    "    response = requests.get(url, headers=headers, params=payload)\n",
    "    \n",
    "    return response"
   ]
  },
  {
   "cell_type": "code",
   "execution_count": 92,
   "metadata": {
    "ExecuteTime": {
     "end_time": "2020-09-13T21:42:09.919406Z",
     "start_time": "2020-09-13T21:40:27.612737Z"
    }
   },
   "outputs": [
    {
     "data": {
      "application/vnd.jupyter.widget-view+json": {
       "model_id": "538893ac457a4bb3bf5b0b10ca45519e",
       "version_major": 2,
       "version_minor": 0
      },
      "text/plain": [
       "HBox(children=(FloatProgress(value=0.0, max=69.0), HTML(value='')))"
      ]
     },
     "metadata": {},
     "output_type": "display_data"
    },
    {
     "name": "stdout",
     "output_type": "stream",
     "text": [
      "\n"
     ]
    }
   ],
   "source": [
    "# Create an auxiliary list\n",
    "lastfm_track_info = []\n",
    "\n",
    "# Connect to the API and collect data\n",
    "\n",
    "for index in tqdm(range(df_base.shape[0])):\n",
    "    \n",
    "    # Connect to the API\n",
    "    response = lastfm_get({'method': 'track.getInfo',\n",
    "                           'track': df_base.iloc[index, 0],\n",
    "                           'artist': df_base.iloc[index, 4],\n",
    "                           'autocorrect[0|1]': '1'})\n",
    "    \n",
    "    # Convert the data into a more amicable format\n",
    "    track_info = BeautifulSoup(response.text)\n",
    "    \n",
    "    # Add the data to the auxiliary list\n",
    "    lastfm_track_info.append(track_info)\n",
    "    \n",
    "    # Wait 1 second to check the next track\n",
    "    sleep(1)"
   ]
  },
  {
   "cell_type": "code",
   "execution_count": null,
   "metadata": {},
   "outputs": [],
   "source": []
  },
  {
   "cell_type": "code",
   "execution_count": 94,
   "metadata": {
    "ExecuteTime": {
     "end_time": "2020-09-13T21:42:25.098244Z",
     "start_time": "2020-09-13T21:42:25.088283Z"
    }
   },
   "outputs": [
    {
     "data": {
      "text/plain": [
       "[[<tag><name>2019</name>\n",
       "  <url>https://www.last.fm/tag/2019</url>\n",
       "  </tag>,\n",
       "  <tag><name>2010s</name>\n",
       "  <url>https://www.last.fm/tag/2010s</url>\n",
       "  </tag>,\n",
       "  <tag><name>arizona zervas</name>\n",
       "  <url>https://www.last.fm/tag/arizona+zervas</url>\n",
       "  </tag>,\n",
       "  <tag><name>Hip-Hop</name>\n",
       "  <url>https://www.last.fm/tag/Hip-Hop</url>\n",
       "  </tag>,\n",
       "  <tag><name>rap</name>\n",
       "  <url>https://www.last.fm/tag/rap</url>\n",
       "  </tag>],\n",
       " [<tag><name>pop</name>\n",
       "  <url>https://www.last.fm/tag/pop</url>\n",
       "  </tag>,\n",
       "  <tag><name>Disco</name>\n",
       "  <url>https://www.last.fm/tag/Disco</url>\n",
       "  </tag>,\n",
       "  <tag><name>rap</name>\n",
       "  <url>https://www.last.fm/tag/rap</url>\n",
       "  </tag>,\n",
       "  <tag><name>Hip-Hop</name>\n",
       "  <url>https://www.last.fm/tag/Hip-Hop</url>\n",
       "  </tag>,\n",
       "  <tag><name>female vocalists</name>\n",
       "  <url>https://www.last.fm/tag/female+vocalists</url>\n",
       "  </tag>]]"
      ]
     },
     "execution_count": 94,
     "metadata": {},
     "output_type": "execute_result"
    }
   ],
   "source": [
    "# Create a list with the tags of each track\n",
    "# If the track was not found in the API, the value to the corresponding track is 'not-found'\n",
    "lastfm_tags = [track.find_all('tag') if track.text.replace('\\n\\n', '') != 'Track not found' else 'not-found' for track \n",
    "                in lastfm_track_info]\n",
    "\n",
    "# Check the result for the first two tracks\n",
    "lastfm_tags[:2]"
   ]
  },
  {
   "cell_type": "markdown",
   "metadata": {},
   "source": [
    "The idea is to create a nested list with lists of tags of each track"
   ]
  },
  {
   "cell_type": "code",
   "execution_count": 101,
   "metadata": {
    "ExecuteTime": {
     "end_time": "2020-09-13T21:44:23.924278Z",
     "start_time": "2020-09-13T21:44:23.915296Z"
    }
   },
   "outputs": [],
   "source": [
    "# Create auxiliary lists \n",
    "tracks_tags = []  # Final list with the tags\n",
    "tags_exist = []  # List with all tags\n",
    "\n",
    "# Get the tag names for each track from the raw (messy) data\n",
    "\n",
    "for track_tag in lastfm_tags:\n",
    "    \n",
    "    # If the track was not found in the API\n",
    "    if track_tag == 'not-found':\n",
    "        tracks_tags.append(['not-found'])\n",
    "    \n",
    "    # If the track was found, but there is no tag related to the track\n",
    "    elif len(track_tag) == 0:\n",
    "        tracks_tags.append(['no-tag'])\n",
    "    \n",
    "    # If the track was found and there are tags related to the track\n",
    "    else:\n",
    "        \n",
    "        # Create an auxiliary list \n",
    "        # Before checking each track, this list needs to be cleared, so it stores a list of messy tags for each track\n",
    "        each_tag_lists = []\n",
    "        \n",
    "        # Each track has a list with messy tags, so it is necessary to clean this data, checking each tag for each track\n",
    "        for each_tag in track_tag:\n",
    "            \n",
    "            # Get only the tag name, but this process creates a list with the tag name\n",
    "            tag_list = each_tag.find('name')\n",
    "            \n",
    "            # Add each tag (messy data) in an auxiliary list\n",
    "            each_tag_lists.append(tag_list)\n",
    "            \n",
    "            # Create an auxiliary list\n",
    "            # Before checking each tag of a track, this list needs to be cleared, so it stores a list of clean data of\n",
    "            # tags for each track\n",
    "            each_track_tags = []\n",
    "            \n",
    "            # Each tag name of a track is inside a list\n",
    "            for each_one in each_tag_lists:\n",
    "                \n",
    "                # Clean the data for each tag name\n",
    "                tag = each_one.text.lower().replace('-', ' ')\n",
    "                \n",
    "                # Add the tag (clean data) with all lower case letters in an auxiliary list if the tag is one of the\n",
    "                # genres listed in the 'musicbrainz_genre'\n",
    "                if tag in musicbrainz_genre:\n",
    "                    each_track_tags.append(tag)\n",
    "                    tags_exist.append(tag)\n",
    "                \n",
    "        # Add each list of tags (clean) for one track in a final list\n",
    "        tracks_tags.append(each_track_tags)\n",
    "        #print(f'\\n{tracks_tags}\\n')\n",
    "        \n",
    "# Add a column in the 'popsugar_df' with the tags found in Last.fm API\n",
    "df_base['lastfm_tags'] = tracks_tags"
   ]
  },
  {
   "cell_type": "code",
   "execution_count": 102,
   "metadata": {
    "ExecuteTime": {
     "end_time": "2020-09-13T21:44:27.206371Z",
     "start_time": "2020-09-13T21:44:27.135577Z"
    }
   },
   "outputs": [
    {
     "data": {
      "text/html": [
       "<div>\n",
       "<style scoped>\n",
       "    .dataframe tbody tr th:only-of-type {\n",
       "        vertical-align: middle;\n",
       "    }\n",
       "\n",
       "    .dataframe tbody tr th {\n",
       "        vertical-align: top;\n",
       "    }\n",
       "\n",
       "    .dataframe thead th {\n",
       "        text-align: right;\n",
       "    }\n",
       "</style>\n",
       "<table border=\"1\" class=\"dataframe\">\n",
       "  <thead>\n",
       "    <tr style=\"text-align: right;\">\n",
       "      <th></th>\n",
       "      <th>song</th>\n",
       "      <th>artists</th>\n",
       "      <th>artists_list</th>\n",
       "      <th>number_artists</th>\n",
       "      <th>artist_1</th>\n",
       "      <th>artist_2</th>\n",
       "      <th>artist_3</th>\n",
       "      <th>spotify_search</th>\n",
       "      <th>sp_id</th>\n",
       "      <th>sp_duration_ms</th>\n",
       "      <th>...</th>\n",
       "      <th>sp_loudness</th>\n",
       "      <th>sp_mode</th>\n",
       "      <th>sp_speechiness</th>\n",
       "      <th>sp_acousticness</th>\n",
       "      <th>sp_instrumentalness</th>\n",
       "      <th>sp_liveness</th>\n",
       "      <th>sp_valence</th>\n",
       "      <th>sp_tempo</th>\n",
       "      <th>sp_time_signature</th>\n",
       "      <th>lastfm_tags</th>\n",
       "    </tr>\n",
       "  </thead>\n",
       "  <tbody>\n",
       "    <tr>\n",
       "      <th>0</th>\n",
       "      <td>Roxanne</td>\n",
       "      <td>Arizona Zervas</td>\n",
       "      <td>[Arizona Zervas]</td>\n",
       "      <td>1</td>\n",
       "      <td>Arizona Zervas</td>\n",
       "      <td>no-artist</td>\n",
       "      <td>no-artist</td>\n",
       "      <td>{'tracks': {'href': 'https://api.spotify.com/v...</td>\n",
       "      <td>696DnlkuDOXcMAnKlTgXXK</td>\n",
       "      <td>163636</td>\n",
       "      <td>...</td>\n",
       "      <td>-5.616</td>\n",
       "      <td>0</td>\n",
       "      <td>0.148</td>\n",
       "      <td>0.0522</td>\n",
       "      <td>0</td>\n",
       "      <td>0.46</td>\n",
       "      <td>0.457</td>\n",
       "      <td>116.735</td>\n",
       "      <td>5</td>\n",
       "      <td>[hip hop]</td>\n",
       "    </tr>\n",
       "    <tr>\n",
       "      <th>1</th>\n",
       "      <td>Say So</td>\n",
       "      <td>Doja Cat</td>\n",
       "      <td>[Doja Cat]</td>\n",
       "      <td>1</td>\n",
       "      <td>Doja Cat</td>\n",
       "      <td>no-artist</td>\n",
       "      <td>no-artist</td>\n",
       "      <td>{'tracks': {'href': 'https://api.spotify.com/v...</td>\n",
       "      <td>3Dv1eDb0MEgF93GpLXlucZ</td>\n",
       "      <td>237893</td>\n",
       "      <td>...</td>\n",
       "      <td>-4.577</td>\n",
       "      <td>0</td>\n",
       "      <td>0.158</td>\n",
       "      <td>0.256</td>\n",
       "      <td>3.57e-06</td>\n",
       "      <td>0.0904</td>\n",
       "      <td>0.786</td>\n",
       "      <td>110.962</td>\n",
       "      <td>4</td>\n",
       "      <td>[pop, disco, hip hop]</td>\n",
       "    </tr>\n",
       "    <tr>\n",
       "      <th>2</th>\n",
       "      <td>My Oh My</td>\n",
       "      <td>Camila Cabello feat. DaBaby</td>\n",
       "      <td>[Camila Cabello, DaBaby]</td>\n",
       "      <td>2</td>\n",
       "      <td>Camila Cabello</td>\n",
       "      <td>DaBaby</td>\n",
       "      <td>no-artist</td>\n",
       "      <td>{'tracks': {'href': 'https://api.spotify.com/v...</td>\n",
       "      <td>3yOlyBJuViE2YSGn3nVE1K</td>\n",
       "      <td>170746</td>\n",
       "      <td>...</td>\n",
       "      <td>-6.024</td>\n",
       "      <td>1</td>\n",
       "      <td>0.0296</td>\n",
       "      <td>0.018</td>\n",
       "      <td>1.29e-05</td>\n",
       "      <td>0.0887</td>\n",
       "      <td>0.383</td>\n",
       "      <td>105.046</td>\n",
       "      <td>4</td>\n",
       "      <td>[pop]</td>\n",
       "    </tr>\n",
       "    <tr>\n",
       "      <th>3</th>\n",
       "      <td>Moon</td>\n",
       "      <td>Kid Francescoli</td>\n",
       "      <td>[Kid Francescoli]</td>\n",
       "      <td>1</td>\n",
       "      <td>Kid Francescoli</td>\n",
       "      <td>no-artist</td>\n",
       "      <td>no-artist</td>\n",
       "      <td>{'tracks': {'href': 'https://api.spotify.com/v...</td>\n",
       "      <td>24upABZ8A0sAepfu91sEYr</td>\n",
       "      <td>390638</td>\n",
       "      <td>...</td>\n",
       "      <td>-10.002</td>\n",
       "      <td>1</td>\n",
       "      <td>0.0345</td>\n",
       "      <td>0.288</td>\n",
       "      <td>0.856</td>\n",
       "      <td>0.102</td>\n",
       "      <td>0.0584</td>\n",
       "      <td>117.986</td>\n",
       "      <td>4</td>\n",
       "      <td>[chillout, indie pop]</td>\n",
       "    </tr>\n",
       "    <tr>\n",
       "      <th>4</th>\n",
       "      <td>Vibe</td>\n",
       "      <td>Cookiee Kawaii</td>\n",
       "      <td>[Cookiee Kawaii]</td>\n",
       "      <td>1</td>\n",
       "      <td>Cookiee Kawaii</td>\n",
       "      <td>no-artist</td>\n",
       "      <td>no-artist</td>\n",
       "      <td>{'tracks': {'href': 'https://api.spotify.com/v...</td>\n",
       "      <td>4gOgQTv9RYYFZ1uQNnlk3q</td>\n",
       "      <td>83940</td>\n",
       "      <td>...</td>\n",
       "      <td>-8.719</td>\n",
       "      <td>1</td>\n",
       "      <td>0.344</td>\n",
       "      <td>0.0635</td>\n",
       "      <td>0.00932</td>\n",
       "      <td>0.118</td>\n",
       "      <td>0.175</td>\n",
       "      <td>159.947</td>\n",
       "      <td>4</td>\n",
       "      <td>[no-tag]</td>\n",
       "    </tr>\n",
       "    <tr>\n",
       "      <th>...</th>\n",
       "      <td>...</td>\n",
       "      <td>...</td>\n",
       "      <td>...</td>\n",
       "      <td>...</td>\n",
       "      <td>...</td>\n",
       "      <td>...</td>\n",
       "      <td>...</td>\n",
       "      <td>...</td>\n",
       "      <td>...</td>\n",
       "      <td>...</td>\n",
       "      <td>...</td>\n",
       "      <td>...</td>\n",
       "      <td>...</td>\n",
       "      <td>...</td>\n",
       "      <td>...</td>\n",
       "      <td>...</td>\n",
       "      <td>...</td>\n",
       "      <td>...</td>\n",
       "      <td>...</td>\n",
       "      <td>...</td>\n",
       "      <td>...</td>\n",
       "    </tr>\n",
       "    <tr>\n",
       "      <th>64</th>\n",
       "      <td>What the Hell</td>\n",
       "      <td>Avril Lavigne</td>\n",
       "      <td>[Avril Lavigne]</td>\n",
       "      <td>1</td>\n",
       "      <td>Avril Lavigne</td>\n",
       "      <td>no-artist</td>\n",
       "      <td>no-artist</td>\n",
       "      <td>{'tracks': {'href': 'https://api.spotify.com/v...</td>\n",
       "      <td>2z4U9d5OAA4YLNXoCgioxo</td>\n",
       "      <td>220706</td>\n",
       "      <td>...</td>\n",
       "      <td>-3.689</td>\n",
       "      <td>0</td>\n",
       "      <td>0.0548</td>\n",
       "      <td>0.00472</td>\n",
       "      <td>0.0127</td>\n",
       "      <td>0.14</td>\n",
       "      <td>0.877</td>\n",
       "      <td>149.976</td>\n",
       "      <td>4</td>\n",
       "      <td>[pop rock, pop, rock]</td>\n",
       "    </tr>\n",
       "    <tr>\n",
       "      <th>65</th>\n",
       "      <td>Towards the Sun</td>\n",
       "      <td>Rihanna</td>\n",
       "      <td>[Rihanna]</td>\n",
       "      <td>1</td>\n",
       "      <td>Rihanna</td>\n",
       "      <td>no-artist</td>\n",
       "      <td>no-artist</td>\n",
       "      <td>{'tracks': {'href': 'https://api.spotify.com/v...</td>\n",
       "      <td>1UuZhGTon3gzXQAJzNa2A4</td>\n",
       "      <td>273293</td>\n",
       "      <td>...</td>\n",
       "      <td>-6.207</td>\n",
       "      <td>0</td>\n",
       "      <td>0.0392</td>\n",
       "      <td>0.0531</td>\n",
       "      <td>0</td>\n",
       "      <td>0.152</td>\n",
       "      <td>0.263</td>\n",
       "      <td>170.18</td>\n",
       "      <td>4</td>\n",
       "      <td>[pop]</td>\n",
       "    </tr>\n",
       "    <tr>\n",
       "      <th>66</th>\n",
       "      <td>I Think I'm OKAY</td>\n",
       "      <td>Machine Gun Kelly, YUNGBLUD, and Travis Barker</td>\n",
       "      <td>[Machine Gun Kelly, YUNGBLUD, Travis Barker]</td>\n",
       "      <td>3</td>\n",
       "      <td>Machine Gun Kelly</td>\n",
       "      <td>YUNGBLUD</td>\n",
       "      <td>Travis Barker</td>\n",
       "      <td>{'tracks': {'href': 'https://api.spotify.com/v...</td>\n",
       "      <td>2gTdDMpNxIRFSiu7HutMCg</td>\n",
       "      <td>169397</td>\n",
       "      <td>...</td>\n",
       "      <td>-4.718</td>\n",
       "      <td>1</td>\n",
       "      <td>0.0379</td>\n",
       "      <td>0.0257</td>\n",
       "      <td>0</td>\n",
       "      <td>0.313</td>\n",
       "      <td>0.277</td>\n",
       "      <td>119.921</td>\n",
       "      <td>4</td>\n",
       "      <td>[]</td>\n",
       "    </tr>\n",
       "    <tr>\n",
       "      <th>67</th>\n",
       "      <td>Myself</td>\n",
       "      <td>Bazzi</td>\n",
       "      <td>[Bazzi]</td>\n",
       "      <td>1</td>\n",
       "      <td>Bazzi</td>\n",
       "      <td>no-artist</td>\n",
       "      <td>no-artist</td>\n",
       "      <td>{'tracks': {'href': 'https://api.spotify.com/v...</td>\n",
       "      <td>5YLHLxoZsodDWjqSgjhBf3</td>\n",
       "      <td>167552</td>\n",
       "      <td>...</td>\n",
       "      <td>-5.513</td>\n",
       "      <td>0</td>\n",
       "      <td>0.072</td>\n",
       "      <td>0.465</td>\n",
       "      <td>1.12e-06</td>\n",
       "      <td>0.0338</td>\n",
       "      <td>0.902</td>\n",
       "      <td>195.918</td>\n",
       "      <td>4</td>\n",
       "      <td>[pop, hip hop]</td>\n",
       "    </tr>\n",
       "    <tr>\n",
       "      <th>68</th>\n",
       "      <td>Stronger</td>\n",
       "      <td>Kanye West</td>\n",
       "      <td>[Kanye West]</td>\n",
       "      <td>1</td>\n",
       "      <td>Kanye West</td>\n",
       "      <td>no-artist</td>\n",
       "      <td>no-artist</td>\n",
       "      <td>{'tracks': {'href': 'https://api.spotify.com/v...</td>\n",
       "      <td>4fzsfWzRhPawzqhX8Qt9F3</td>\n",
       "      <td>311866</td>\n",
       "      <td>...</td>\n",
       "      <td>-7.858</td>\n",
       "      <td>0</td>\n",
       "      <td>0.153</td>\n",
       "      <td>0.00564</td>\n",
       "      <td>0</td>\n",
       "      <td>0.408</td>\n",
       "      <td>0.49</td>\n",
       "      <td>103.992</td>\n",
       "      <td>4</td>\n",
       "      <td>[hip hop, hip hop, dance]</td>\n",
       "    </tr>\n",
       "  </tbody>\n",
       "</table>\n",
       "<p>69 rows × 26 columns</p>\n",
       "</div>"
      ],
      "text/plain": [
       "                song                                         artists  \\\n",
       "0            Roxanne                                  Arizona Zervas   \n",
       "1             Say So                                        Doja Cat   \n",
       "2           My Oh My                     Camila Cabello feat. DaBaby   \n",
       "3               Moon                                 Kid Francescoli   \n",
       "4               Vibe                                  Cookiee Kawaii   \n",
       "..               ...                                             ...   \n",
       "64     What the Hell                                   Avril Lavigne   \n",
       "65   Towards the Sun                                         Rihanna   \n",
       "66  I Think I'm OKAY  Machine Gun Kelly, YUNGBLUD, and Travis Barker   \n",
       "67            Myself                                           Bazzi   \n",
       "68          Stronger                                      Kanye West   \n",
       "\n",
       "                                    artists_list  number_artists  \\\n",
       "0                               [Arizona Zervas]               1   \n",
       "1                                     [Doja Cat]               1   \n",
       "2                       [Camila Cabello, DaBaby]               2   \n",
       "3                              [Kid Francescoli]               1   \n",
       "4                               [Cookiee Kawaii]               1   \n",
       "..                                           ...             ...   \n",
       "64                               [Avril Lavigne]               1   \n",
       "65                                     [Rihanna]               1   \n",
       "66  [Machine Gun Kelly, YUNGBLUD, Travis Barker]               3   \n",
       "67                                       [Bazzi]               1   \n",
       "68                                  [Kanye West]               1   \n",
       "\n",
       "             artist_1   artist_2       artist_3  \\\n",
       "0      Arizona Zervas  no-artist      no-artist   \n",
       "1            Doja Cat  no-artist      no-artist   \n",
       "2      Camila Cabello     DaBaby      no-artist   \n",
       "3     Kid Francescoli  no-artist      no-artist   \n",
       "4      Cookiee Kawaii  no-artist      no-artist   \n",
       "..                ...        ...            ...   \n",
       "64      Avril Lavigne  no-artist      no-artist   \n",
       "65            Rihanna  no-artist      no-artist   \n",
       "66  Machine Gun Kelly   YUNGBLUD  Travis Barker   \n",
       "67              Bazzi  no-artist      no-artist   \n",
       "68         Kanye West  no-artist      no-artist   \n",
       "\n",
       "                                       spotify_search                   sp_id  \\\n",
       "0   {'tracks': {'href': 'https://api.spotify.com/v...  696DnlkuDOXcMAnKlTgXXK   \n",
       "1   {'tracks': {'href': 'https://api.spotify.com/v...  3Dv1eDb0MEgF93GpLXlucZ   \n",
       "2   {'tracks': {'href': 'https://api.spotify.com/v...  3yOlyBJuViE2YSGn3nVE1K   \n",
       "3   {'tracks': {'href': 'https://api.spotify.com/v...  24upABZ8A0sAepfu91sEYr   \n",
       "4   {'tracks': {'href': 'https://api.spotify.com/v...  4gOgQTv9RYYFZ1uQNnlk3q   \n",
       "..                                                ...                     ...   \n",
       "64  {'tracks': {'href': 'https://api.spotify.com/v...  2z4U9d5OAA4YLNXoCgioxo   \n",
       "65  {'tracks': {'href': 'https://api.spotify.com/v...  1UuZhGTon3gzXQAJzNa2A4   \n",
       "66  {'tracks': {'href': 'https://api.spotify.com/v...  2gTdDMpNxIRFSiu7HutMCg   \n",
       "67  {'tracks': {'href': 'https://api.spotify.com/v...  5YLHLxoZsodDWjqSgjhBf3   \n",
       "68  {'tracks': {'href': 'https://api.spotify.com/v...  4fzsfWzRhPawzqhX8Qt9F3   \n",
       "\n",
       "   sp_duration_ms  ... sp_loudness sp_mode sp_speechiness sp_acousticness  \\\n",
       "0          163636  ...      -5.616       0          0.148          0.0522   \n",
       "1          237893  ...      -4.577       0          0.158           0.256   \n",
       "2          170746  ...      -6.024       1         0.0296           0.018   \n",
       "3          390638  ...     -10.002       1         0.0345           0.288   \n",
       "4           83940  ...      -8.719       1          0.344          0.0635   \n",
       "..            ...  ...         ...     ...            ...             ...   \n",
       "64         220706  ...      -3.689       0         0.0548         0.00472   \n",
       "65         273293  ...      -6.207       0         0.0392          0.0531   \n",
       "66         169397  ...      -4.718       1         0.0379          0.0257   \n",
       "67         167552  ...      -5.513       0          0.072           0.465   \n",
       "68         311866  ...      -7.858       0          0.153         0.00564   \n",
       "\n",
       "   sp_instrumentalness sp_liveness sp_valence sp_tempo sp_time_signature  \\\n",
       "0                    0        0.46      0.457  116.735                 5   \n",
       "1             3.57e-06      0.0904      0.786  110.962                 4   \n",
       "2             1.29e-05      0.0887      0.383  105.046                 4   \n",
       "3                0.856       0.102     0.0584  117.986                 4   \n",
       "4              0.00932       0.118      0.175  159.947                 4   \n",
       "..                 ...         ...        ...      ...               ...   \n",
       "64              0.0127        0.14      0.877  149.976                 4   \n",
       "65                   0       0.152      0.263   170.18                 4   \n",
       "66                   0       0.313      0.277  119.921                 4   \n",
       "67            1.12e-06      0.0338      0.902  195.918                 4   \n",
       "68                   0       0.408       0.49  103.992                 4   \n",
       "\n",
       "                  lastfm_tags  \n",
       "0                   [hip hop]  \n",
       "1       [pop, disco, hip hop]  \n",
       "2                       [pop]  \n",
       "3       [chillout, indie pop]  \n",
       "4                    [no-tag]  \n",
       "..                        ...  \n",
       "64      [pop rock, pop, rock]  \n",
       "65                      [pop]  \n",
       "66                         []  \n",
       "67             [pop, hip hop]  \n",
       "68  [hip hop, hip hop, dance]  \n",
       "\n",
       "[69 rows x 26 columns]"
      ]
     },
     "execution_count": 102,
     "metadata": {},
     "output_type": "execute_result"
    }
   ],
   "source": [
    "df_base"
   ]
  },
  {
   "cell_type": "code",
   "execution_count": null,
   "metadata": {},
   "outputs": [],
   "source": []
  },
  {
   "cell_type": "markdown",
   "metadata": {},
   "source": [
    "# Final Dataframe"
   ]
  },
  {
   "cell_type": "code",
   "execution_count": 103,
   "metadata": {
    "ExecuteTime": {
     "end_time": "2020-09-13T21:46:40.646007Z",
     "start_time": "2020-09-13T21:46:40.627056Z"
    }
   },
   "outputs": [
    {
     "data": {
      "text/html": [
       "<div>\n",
       "<style scoped>\n",
       "    .dataframe tbody tr th:only-of-type {\n",
       "        vertical-align: middle;\n",
       "    }\n",
       "\n",
       "    .dataframe tbody tr th {\n",
       "        vertical-align: top;\n",
       "    }\n",
       "\n",
       "    .dataframe thead th {\n",
       "        text-align: right;\n",
       "    }\n",
       "</style>\n",
       "<table border=\"1\" class=\"dataframe\">\n",
       "  <thead>\n",
       "    <tr style=\"text-align: right;\">\n",
       "      <th></th>\n",
       "      <th>song</th>\n",
       "      <th>artists</th>\n",
       "      <th>artists_list</th>\n",
       "      <th>number_artists</th>\n",
       "      <th>artist_1</th>\n",
       "      <th>artist_2</th>\n",
       "      <th>artist_3</th>\n",
       "      <th>sp_id</th>\n",
       "      <th>sp_duration_ms</th>\n",
       "      <th>sp_popularity</th>\n",
       "      <th>...</th>\n",
       "      <th>sp_loudness</th>\n",
       "      <th>sp_mode</th>\n",
       "      <th>sp_speechiness</th>\n",
       "      <th>sp_acousticness</th>\n",
       "      <th>sp_instrumentalness</th>\n",
       "      <th>sp_liveness</th>\n",
       "      <th>sp_valence</th>\n",
       "      <th>sp_tempo</th>\n",
       "      <th>sp_time_signature</th>\n",
       "      <th>lastfm_tags</th>\n",
       "    </tr>\n",
       "  </thead>\n",
       "  <tbody>\n",
       "    <tr>\n",
       "      <th>0</th>\n",
       "      <td>Roxanne</td>\n",
       "      <td>Arizona Zervas</td>\n",
       "      <td>[Arizona Zervas]</td>\n",
       "      <td>1</td>\n",
       "      <td>Arizona Zervas</td>\n",
       "      <td>no-artist</td>\n",
       "      <td>no-artist</td>\n",
       "      <td>696DnlkuDOXcMAnKlTgXXK</td>\n",
       "      <td>163636</td>\n",
       "      <td>89</td>\n",
       "      <td>...</td>\n",
       "      <td>-5.616</td>\n",
       "      <td>0</td>\n",
       "      <td>0.148</td>\n",
       "      <td>0.0522</td>\n",
       "      <td>0</td>\n",
       "      <td>0.46</td>\n",
       "      <td>0.457</td>\n",
       "      <td>116.735</td>\n",
       "      <td>5</td>\n",
       "      <td>[hip hop]</td>\n",
       "    </tr>\n",
       "    <tr>\n",
       "      <th>1</th>\n",
       "      <td>Say So</td>\n",
       "      <td>Doja Cat</td>\n",
       "      <td>[Doja Cat]</td>\n",
       "      <td>1</td>\n",
       "      <td>Doja Cat</td>\n",
       "      <td>no-artist</td>\n",
       "      <td>no-artist</td>\n",
       "      <td>3Dv1eDb0MEgF93GpLXlucZ</td>\n",
       "      <td>237893</td>\n",
       "      <td>89</td>\n",
       "      <td>...</td>\n",
       "      <td>-4.577</td>\n",
       "      <td>0</td>\n",
       "      <td>0.158</td>\n",
       "      <td>0.256</td>\n",
       "      <td>3.57e-06</td>\n",
       "      <td>0.0904</td>\n",
       "      <td>0.786</td>\n",
       "      <td>110.962</td>\n",
       "      <td>4</td>\n",
       "      <td>[pop, disco, hip hop]</td>\n",
       "    </tr>\n",
       "    <tr>\n",
       "      <th>2</th>\n",
       "      <td>My Oh My</td>\n",
       "      <td>Camila Cabello feat. DaBaby</td>\n",
       "      <td>[Camila Cabello, DaBaby]</td>\n",
       "      <td>2</td>\n",
       "      <td>Camila Cabello</td>\n",
       "      <td>DaBaby</td>\n",
       "      <td>no-artist</td>\n",
       "      <td>3yOlyBJuViE2YSGn3nVE1K</td>\n",
       "      <td>170746</td>\n",
       "      <td>83</td>\n",
       "      <td>...</td>\n",
       "      <td>-6.024</td>\n",
       "      <td>1</td>\n",
       "      <td>0.0296</td>\n",
       "      <td>0.018</td>\n",
       "      <td>1.29e-05</td>\n",
       "      <td>0.0887</td>\n",
       "      <td>0.383</td>\n",
       "      <td>105.046</td>\n",
       "      <td>4</td>\n",
       "      <td>[pop]</td>\n",
       "    </tr>\n",
       "    <tr>\n",
       "      <th>3</th>\n",
       "      <td>Moon</td>\n",
       "      <td>Kid Francescoli</td>\n",
       "      <td>[Kid Francescoli]</td>\n",
       "      <td>1</td>\n",
       "      <td>Kid Francescoli</td>\n",
       "      <td>no-artist</td>\n",
       "      <td>no-artist</td>\n",
       "      <td>24upABZ8A0sAepfu91sEYr</td>\n",
       "      <td>390638</td>\n",
       "      <td>70</td>\n",
       "      <td>...</td>\n",
       "      <td>-10.002</td>\n",
       "      <td>1</td>\n",
       "      <td>0.0345</td>\n",
       "      <td>0.288</td>\n",
       "      <td>0.856</td>\n",
       "      <td>0.102</td>\n",
       "      <td>0.0584</td>\n",
       "      <td>117.986</td>\n",
       "      <td>4</td>\n",
       "      <td>[chillout, indie pop]</td>\n",
       "    </tr>\n",
       "    <tr>\n",
       "      <th>4</th>\n",
       "      <td>Vibe</td>\n",
       "      <td>Cookiee Kawaii</td>\n",
       "      <td>[Cookiee Kawaii]</td>\n",
       "      <td>1</td>\n",
       "      <td>Cookiee Kawaii</td>\n",
       "      <td>no-artist</td>\n",
       "      <td>no-artist</td>\n",
       "      <td>4gOgQTv9RYYFZ1uQNnlk3q</td>\n",
       "      <td>83940</td>\n",
       "      <td>73</td>\n",
       "      <td>...</td>\n",
       "      <td>-8.719</td>\n",
       "      <td>1</td>\n",
       "      <td>0.344</td>\n",
       "      <td>0.0635</td>\n",
       "      <td>0.00932</td>\n",
       "      <td>0.118</td>\n",
       "      <td>0.175</td>\n",
       "      <td>159.947</td>\n",
       "      <td>4</td>\n",
       "      <td>[no-tag]</td>\n",
       "    </tr>\n",
       "  </tbody>\n",
       "</table>\n",
       "<p>5 rows × 25 columns</p>\n",
       "</div>"
      ],
      "text/plain": [
       "       song                      artists              artists_list  \\\n",
       "0   Roxanne               Arizona Zervas          [Arizona Zervas]   \n",
       "1    Say So                     Doja Cat                [Doja Cat]   \n",
       "2  My Oh My  Camila Cabello feat. DaBaby  [Camila Cabello, DaBaby]   \n",
       "3      Moon              Kid Francescoli         [Kid Francescoli]   \n",
       "4      Vibe               Cookiee Kawaii          [Cookiee Kawaii]   \n",
       "\n",
       "   number_artists         artist_1   artist_2   artist_3  \\\n",
       "0               1   Arizona Zervas  no-artist  no-artist   \n",
       "1               1         Doja Cat  no-artist  no-artist   \n",
       "2               2   Camila Cabello     DaBaby  no-artist   \n",
       "3               1  Kid Francescoli  no-artist  no-artist   \n",
       "4               1   Cookiee Kawaii  no-artist  no-artist   \n",
       "\n",
       "                    sp_id sp_duration_ms sp_popularity  ... sp_loudness  \\\n",
       "0  696DnlkuDOXcMAnKlTgXXK         163636            89  ...      -5.616   \n",
       "1  3Dv1eDb0MEgF93GpLXlucZ         237893            89  ...      -4.577   \n",
       "2  3yOlyBJuViE2YSGn3nVE1K         170746            83  ...      -6.024   \n",
       "3  24upABZ8A0sAepfu91sEYr         390638            70  ...     -10.002   \n",
       "4  4gOgQTv9RYYFZ1uQNnlk3q          83940            73  ...      -8.719   \n",
       "\n",
       "  sp_mode sp_speechiness sp_acousticness sp_instrumentalness sp_liveness  \\\n",
       "0       0          0.148          0.0522                   0        0.46   \n",
       "1       0          0.158           0.256            3.57e-06      0.0904   \n",
       "2       1         0.0296           0.018            1.29e-05      0.0887   \n",
       "3       1         0.0345           0.288               0.856       0.102   \n",
       "4       1          0.344          0.0635             0.00932       0.118   \n",
       "\n",
       "  sp_valence sp_tempo sp_time_signature            lastfm_tags  \n",
       "0      0.457  116.735                 5              [hip hop]  \n",
       "1      0.786  110.962                 4  [pop, disco, hip hop]  \n",
       "2      0.383  105.046                 4                  [pop]  \n",
       "3     0.0584  117.986                 4  [chillout, indie pop]  \n",
       "4      0.175  159.947                 4               [no-tag]  \n",
       "\n",
       "[5 rows x 25 columns]"
      ]
     },
     "execution_count": 103,
     "metadata": {},
     "output_type": "execute_result"
    }
   ],
   "source": [
    "df = df_base.drop(['spotify_search'], axis=1)\n",
    "df.head()"
   ]
  },
  {
   "cell_type": "code",
   "execution_count": null,
   "metadata": {},
   "outputs": [],
   "source": []
  },
  {
   "cell_type": "code",
   "execution_count": null,
   "metadata": {},
   "outputs": [],
   "source": []
  }
 ],
 "metadata": {
  "hide_input": false,
  "kernelspec": {
   "display_name": "Python 3",
   "language": "python",
   "name": "python3"
  },
  "language_info": {
   "codemirror_mode": {
    "name": "ipython",
    "version": 3
   },
   "file_extension": ".py",
   "mimetype": "text/x-python",
   "name": "python",
   "nbconvert_exporter": "python",
   "pygments_lexer": "ipython3",
   "version": "3.8.3"
  },
  "toc": {
   "base_numbering": 1,
   "nav_menu": {},
   "number_sections": true,
   "sideBar": true,
   "skip_h1_title": false,
   "title_cell": "Table of Contents",
   "title_sidebar": "Contents",
   "toc_cell": false,
   "toc_position": {
    "height": "calc(100% - 180px)",
    "left": "10px",
    "top": "150px",
    "width": "384px"
   },
   "toc_section_display": true,
   "toc_window_display": true
  },
  "varInspector": {
   "cols": {
    "lenName": 16,
    "lenType": 16,
    "lenVar": 40
   },
   "kernels_config": {
    "python": {
     "delete_cmd_postfix": "",
     "delete_cmd_prefix": "del ",
     "library": "var_list.py",
     "varRefreshCmd": "print(var_dic_list())"
    },
    "r": {
     "delete_cmd_postfix": ") ",
     "delete_cmd_prefix": "rm(",
     "library": "var_list.r",
     "varRefreshCmd": "cat(var_dic_list()) "
    }
   },
   "position": {
    "height": "390px",
    "left": "582px",
    "right": "20px",
    "top": "231px",
    "width": "800px"
   },
   "types_to_exclude": [
    "module",
    "function",
    "builtin_function_or_method",
    "instance",
    "_Feature"
   ],
   "window_display": false
  }
 },
 "nbformat": 4,
 "nbformat_minor": 4
}
