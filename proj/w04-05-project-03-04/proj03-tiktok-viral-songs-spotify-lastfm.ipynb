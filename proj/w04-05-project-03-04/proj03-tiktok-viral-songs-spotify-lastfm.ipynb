{
 "cells": [
  {
   "cell_type": "markdown",
   "metadata": {},
   "source": [
    "https://www.standardmedia.co.ke/sci-tech/article/2001386004/ai-robot-develops-the-perfect-tiktok-song-and-it-s-very-unusual"
   ]
  },
  {
   "cell_type": "markdown",
   "metadata": {},
   "source": [
    "# Setup"
   ]
  },
  {
   "cell_type": "code",
   "execution_count": 1,
   "metadata": {
    "ExecuteTime": {
     "end_time": "2020-09-12T20:36:54.995517Z",
     "start_time": "2020-09-12T20:36:54.003912Z"
    }
   },
   "outputs": [],
   "source": [
    "import os\n",
    "import re\n",
    "import requests\n",
    "from time import sleep\n",
    "\n",
    "import numpy as np\n",
    "import pandas as pd\n",
    "import spotipy\n",
    "from bs4 import BeautifulSoup\n",
    "from dotenv import load_dotenv, find_dotenv\n",
    "from spotipy.oauth2 import SpotifyClientCredentials, SpotifyOAuth"
   ]
  },
  {
   "cell_type": "code",
   "execution_count": null,
   "metadata": {},
   "outputs": [],
   "source": []
  },
  {
   "cell_type": "code",
   "execution_count": null,
   "metadata": {},
   "outputs": [],
   "source": []
  },
  {
   "cell_type": "markdown",
   "metadata": {},
   "source": [
    "# Web Scrapping"
   ]
  },
  {
   "cell_type": "code",
   "execution_count": 2,
   "metadata": {
    "ExecuteTime": {
     "end_time": "2020-09-12T20:36:55.000504Z",
     "start_time": "2020-09-12T20:36:54.996514Z"
    }
   },
   "outputs": [],
   "source": [
    "url = 'https://www.buzzfeednews.com/article/laurenstrapagiel/most-viral-tiktok-songs-of-2020'"
   ]
  },
  {
   "cell_type": "code",
   "execution_count": 3,
   "metadata": {
    "ExecuteTime": {
     "end_time": "2020-09-12T20:36:56.144830Z",
     "start_time": "2020-09-12T20:36:55.002499Z"
    }
   },
   "outputs": [
    {
     "data": {
      "text/plain": [
       "<Response [200]>"
      ]
     },
     "execution_count": 3,
     "metadata": {},
     "output_type": "execute_result"
    }
   ],
   "source": [
    "response = requests.get(url)\n",
    "response"
   ]
  },
  {
   "cell_type": "code",
   "execution_count": 4,
   "metadata": {
    "ExecuteTime": {
     "end_time": "2020-09-12T20:36:56.193787Z",
     "start_time": "2020-09-12T20:36:56.146827Z"
    }
   },
   "outputs": [],
   "source": [
    "content_buzzfeed = BeautifulSoup(response.text)\n",
    "#content"
   ]
  },
  {
   "cell_type": "code",
   "execution_count": 5,
   "metadata": {
    "ExecuteTime": {
     "end_time": "2020-09-12T20:36:56.205793Z",
     "start_time": "2020-09-12T20:36:56.194785Z"
    }
   },
   "outputs": [
    {
     "data": {
      "text/plain": [
       "[<h2>1. \"Laxed (SIREN BEAT)\" by Jawsh 685</h2>,\n",
       " <h2>2. \"Roses (Imanbek Remix)\" by SAINt JHN and Imanbek</h2>,\n",
       " <h2>3. \"Boss Bitch\" by Doja Cat</h2>,\n",
       " <h2>4. \"Supalonely\" by BENEE feat. Gus Dapperton</h2>,\n",
       " <h2>5. \"Stunnin'\" by Curtis Waters feat. Harm Franklin</h2>,\n",
       " <h2>6. \"Lottery'\" by K CAMP</h2>,\n",
       " <h2>7. \"ROXANNE'\" by Arizona Zervas</h2>,\n",
       " <h2>8. \"Bored in the House'\" by Curtis Roach</h2>,\n",
       " <h2>9. \"Sober Up\" by AJR feat. Rivers Cuomo</h2>,\n",
       " <h2>10. \"Prom Queen\" by Beach Bunny</h2>,\n",
       " <h2>11. \"Vibe\" by Cookiee Kawaii</h2>,\n",
       " <h2>12. \"Renee\" by SALES</h2>,\n",
       " <h2>13. \"Savage\" by Megan Thee Stallion</h2>]"
      ]
     },
     "execution_count": 5,
     "metadata": {},
     "output_type": "execute_result"
    }
   ],
   "source": [
    "html_buzzfeed = content_buzzfeed.find_all('h2', limit=13)\n",
    "html_buzzfeed"
   ]
  },
  {
   "cell_type": "code",
   "execution_count": 6,
   "metadata": {
    "ExecuteTime": {
     "end_time": "2020-09-12T20:36:56.213734Z",
     "start_time": "2020-09-12T20:36:56.206752Z"
    }
   },
   "outputs": [
    {
     "data": {
      "text/plain": [
       "'Posted on July 23, 2020, at 3:24 p.m. ET'"
      ]
     },
     "execution_count": 6,
     "metadata": {},
     "output_type": "execute_result"
    }
   ],
   "source": [
    "date_buzzfeed = content_buzzfeed.find('p', attrs={'class': 'news-article-header__timestamps-posted'}).text.replace('\\n', '').strip()\n",
    "date_buzzfeed"
   ]
  },
  {
   "cell_type": "code",
   "execution_count": 7,
   "metadata": {
    "ExecuteTime": {
     "end_time": "2020-09-12T20:36:56.219781Z",
     "start_time": "2020-09-12T20:36:56.215757Z"
    }
   },
   "outputs": [],
   "source": [
    "url = 'https://www.popsugar.com/entertainment/popular-tiktok-songs-47289804?stream_view=1#photo-47289832'"
   ]
  },
  {
   "cell_type": "code",
   "execution_count": 8,
   "metadata": {
    "ExecuteTime": {
     "end_time": "2020-09-12T20:36:57.116011Z",
     "start_time": "2020-09-12T20:36:56.222735Z"
    }
   },
   "outputs": [
    {
     "data": {
      "text/plain": [
       "<Response [200]>"
      ]
     },
     "execution_count": 8,
     "metadata": {},
     "output_type": "execute_result"
    }
   ],
   "source": [
    "response = requests.get(url)\n",
    "response"
   ]
  },
  {
   "cell_type": "code",
   "execution_count": 9,
   "metadata": {
    "ExecuteTime": {
     "end_time": "2020-09-12T20:36:57.173995Z",
     "start_time": "2020-09-12T20:36:57.117968Z"
    }
   },
   "outputs": [],
   "source": [
    "content_popsugar = BeautifulSoup(response.text)\n",
    "#content_popsugar"
   ]
  },
  {
   "cell_type": "code",
   "execution_count": 10,
   "metadata": {
    "ExecuteTime": {
     "end_time": "2020-09-12T20:36:57.185786Z",
     "start_time": "2020-09-12T20:36:57.174819Z"
    }
   },
   "outputs": [],
   "source": [
    "html_popsugar = content_popsugar.find_all('span', attrs={'class': 'count-copy'})\n",
    "#html_popsugar"
   ]
  },
  {
   "cell_type": "code",
   "execution_count": 11,
   "metadata": {
    "ExecuteTime": {
     "end_time": "2020-09-12T20:36:57.192810Z",
     "start_time": "2020-09-12T20:36:57.187780Z"
    }
   },
   "outputs": [
    {
     "data": {
      "text/plain": [
       "'March 27, 2020'"
      ]
     },
     "execution_count": 11,
     "metadata": {},
     "output_type": "execute_result"
    }
   ],
   "source": [
    "date_popsugar = content_popsugar.find('time').text.replace('\\n', '').strip()\n",
    "date_popsugar"
   ]
  },
  {
   "cell_type": "code",
   "execution_count": 12,
   "metadata": {
    "ExecuteTime": {
     "end_time": "2020-09-12T20:36:57.221718Z",
     "start_time": "2020-09-12T20:36:57.193763Z"
    }
   },
   "outputs": [
    {
     "data": {
      "text/html": [
       "<div>\n",
       "<style scoped>\n",
       "    .dataframe tbody tr th:only-of-type {\n",
       "        vertical-align: middle;\n",
       "    }\n",
       "\n",
       "    .dataframe tbody tr th {\n",
       "        vertical-align: top;\n",
       "    }\n",
       "\n",
       "    .dataframe thead th {\n",
       "        text-align: right;\n",
       "    }\n",
       "</style>\n",
       "<table border=\"1\" class=\"dataframe\">\n",
       "  <thead>\n",
       "    <tr style=\"text-align: right;\">\n",
       "      <th></th>\n",
       "      <th>song</th>\n",
       "      <th>artist</th>\n",
       "      <th>feat</th>\n",
       "    </tr>\n",
       "  </thead>\n",
       "  <tbody>\n",
       "    <tr>\n",
       "      <th>0</th>\n",
       "      <td>Roxanne</td>\n",
       "      <td>Arizona Zervas</td>\n",
       "      <td>None</td>\n",
       "    </tr>\n",
       "    <tr>\n",
       "      <th>1</th>\n",
       "      <td>Say So</td>\n",
       "      <td>Doja Cat</td>\n",
       "      <td>None</td>\n",
       "    </tr>\n",
       "    <tr>\n",
       "      <th>2</th>\n",
       "      <td>My Oh My</td>\n",
       "      <td>Camila Cabello</td>\n",
       "      <td>DaBaby</td>\n",
       "    </tr>\n",
       "    <tr>\n",
       "      <th>3</th>\n",
       "      <td>Moon</td>\n",
       "      <td>Kid Francescoli</td>\n",
       "      <td>None</td>\n",
       "    </tr>\n",
       "    <tr>\n",
       "      <th>4</th>\n",
       "      <td>Vibe</td>\n",
       "      <td>Cookiee Kawaii</td>\n",
       "      <td>None</td>\n",
       "    </tr>\n",
       "    <tr>\n",
       "      <th>...</th>\n",
       "      <td>...</td>\n",
       "      <td>...</td>\n",
       "      <td>...</td>\n",
       "    </tr>\n",
       "    <tr>\n",
       "      <th>64</th>\n",
       "      <td>What the Hell</td>\n",
       "      <td>Avril Lavigne</td>\n",
       "      <td>None</td>\n",
       "    </tr>\n",
       "    <tr>\n",
       "      <th>65</th>\n",
       "      <td>Towards the Sun</td>\n",
       "      <td>Rihanna</td>\n",
       "      <td>None</td>\n",
       "    </tr>\n",
       "    <tr>\n",
       "      <th>66</th>\n",
       "      <td>I Think I'm OKAY</td>\n",
       "      <td>Machine Gun Kelly, YUNGBLUD, and Travis Barker</td>\n",
       "      <td>None</td>\n",
       "    </tr>\n",
       "    <tr>\n",
       "      <th>67</th>\n",
       "      <td>Myself</td>\n",
       "      <td>Bazzi</td>\n",
       "      <td>None</td>\n",
       "    </tr>\n",
       "    <tr>\n",
       "      <th>68</th>\n",
       "      <td>Stronger</td>\n",
       "      <td>Kanye West</td>\n",
       "      <td>None</td>\n",
       "    </tr>\n",
       "  </tbody>\n",
       "</table>\n",
       "<p>69 rows × 3 columns</p>\n",
       "</div>"
      ],
      "text/plain": [
       "                song                                          artist    feat\n",
       "0            Roxanne                                  Arizona Zervas    None\n",
       "1             Say So                                        Doja Cat    None\n",
       "2           My Oh My                                  Camila Cabello  DaBaby\n",
       "3               Moon                                 Kid Francescoli    None\n",
       "4               Vibe                                  Cookiee Kawaii    None\n",
       "..               ...                                             ...     ...\n",
       "64     What the Hell                                   Avril Lavigne    None\n",
       "65   Towards the Sun                                         Rihanna    None\n",
       "66  I Think I'm OKAY  Machine Gun Kelly, YUNGBLUD, and Travis Barker    None\n",
       "67            Myself                                           Bazzi    None\n",
       "68          Stronger                                      Kanye West    None\n",
       "\n",
       "[69 rows x 3 columns]"
      ]
     },
     "execution_count": 12,
     "metadata": {},
     "output_type": "execute_result"
    }
   ],
   "source": [
    "popsugar_df = pd.DataFrame([re.split(' by | feat. ', song.text.replace('\"', '').strip()) for song in html_popsugar], \n",
    "                             columns=['song', 'artist', 'feat'])\n",
    "popsugar_df"
   ]
  },
  {
   "cell_type": "code",
   "execution_count": 13,
   "metadata": {
    "ExecuteTime": {
     "end_time": "2020-09-12T20:36:57.228670Z",
     "start_time": "2020-09-12T20:36:57.224681Z"
    }
   },
   "outputs": [],
   "source": [
    "popsugar_df_raw = popsugar_df.copy()"
   ]
  },
  {
   "cell_type": "code",
   "execution_count": null,
   "metadata": {},
   "outputs": [],
   "source": []
  },
  {
   "cell_type": "markdown",
   "metadata": {
    "cell_style": "split"
   },
   "source": [
    "# Spotify"
   ]
  },
  {
   "cell_type": "markdown",
   "metadata": {},
   "source": [
    "https://spotipy.readthedocs.io/en/2.14.0/#module-spotipy.client\n",
    "\n",
    "https://developer.spotify.com/documentation/web-api/reference/tracks/get-audio-features/"
   ]
  },
  {
   "cell_type": "markdown",
   "metadata": {},
   "source": [
    "## Connecting to the API"
   ]
  },
  {
   "cell_type": "code",
   "execution_count": 14,
   "metadata": {
    "ExecuteTime": {
     "end_time": "2020-09-12T20:36:57.236649Z",
     "start_time": "2020-09-12T20:36:57.229686Z"
    }
   },
   "outputs": [
    {
     "data": {
      "text/plain": [
       "True"
      ]
     },
     "execution_count": 14,
     "metadata": {},
     "output_type": "execute_result"
    }
   ],
   "source": [
    "load_dotenv(find_dotenv())"
   ]
  },
  {
   "cell_type": "code",
   "execution_count": 15,
   "metadata": {
    "ExecuteTime": {
     "end_time": "2020-09-12T20:36:57.240666Z",
     "start_time": "2020-09-12T20:36:57.237647Z"
    }
   },
   "outputs": [],
   "source": [
    "cid = os.getenv('spotify_p03_key')\n",
    "csecret = os.getenv('spotify_p03_secret')"
   ]
  },
  {
   "cell_type": "code",
   "execution_count": 16,
   "metadata": {
    "ExecuteTime": {
     "end_time": "2020-09-12T20:36:57.245625Z",
     "start_time": "2020-09-12T20:36:57.241637Z"
    }
   },
   "outputs": [],
   "source": [
    "cc_manager = SpotifyClientCredentials(client_id=cid, client_secret=csecret)\n",
    "sp = spotipy.Spotify(client_credentials_manager=cc_manager)"
   ]
  },
  {
   "cell_type": "code",
   "execution_count": 17,
   "metadata": {
    "ExecuteTime": {
     "end_time": "2020-09-12T20:37:14.109951Z",
     "start_time": "2020-09-12T20:36:57.246623Z"
    }
   },
   "outputs": [],
   "source": [
    "# Search in the api wrapper\n",
    "spotify_search = [sp.search(q=song, type='track') for song in popsugar_df['song']]"
   ]
  },
  {
   "cell_type": "code",
   "execution_count": 18,
   "metadata": {
    "ExecuteTime": {
     "end_time": "2020-09-12T20:37:14.117896Z",
     "start_time": "2020-09-12T20:37:14.110915Z"
    }
   },
   "outputs": [],
   "source": [
    "popsugar_df['spotify_id'] = [track['tracks']['items'][0]['id'] if len(track['tracks']['items']) != 0 else 'not-found' \n",
    "                             for track in spotify_search]"
   ]
  },
  {
   "cell_type": "code",
   "execution_count": 19,
   "metadata": {
    "ExecuteTime": {
     "end_time": "2020-09-12T20:37:14.124889Z",
     "start_time": "2020-09-12T20:37:14.119891Z"
    }
   },
   "outputs": [],
   "source": [
    "popsugar_df['popularity'] = [track['tracks']['items'][0]['popularity'] if len(track['tracks']['items']) != 0 \n",
    "                             else 'not-found' for track in spotify_search]"
   ]
  },
  {
   "cell_type": "code",
   "execution_count": 20,
   "metadata": {
    "ExecuteTime": {
     "end_time": "2020-09-12T20:37:14.132874Z",
     "start_time": "2020-09-12T20:37:14.126877Z"
    }
   },
   "outputs": [],
   "source": [
    "popsugar_df['release_date'] = [track['tracks']['items'][0]['album']['release_date'] if len(track['tracks']['items']) != 0 \n",
    "                               else 'not-found' for track in spotify_search]"
   ]
  },
  {
   "cell_type": "code",
   "execution_count": 21,
   "metadata": {
    "ExecuteTime": {
     "end_time": "2020-09-12T20:37:14.140844Z",
     "start_time": "2020-09-12T20:37:14.135849Z"
    }
   },
   "outputs": [],
   "source": [
    "popsugar_df['explicit'] = [track['tracks']['items'][0]['explicit'] if len(track['tracks']['items']) != 0 \n",
    "                           else 'not-found' for track in spotify_search]"
   ]
  },
  {
   "cell_type": "code",
   "execution_count": 22,
   "metadata": {
    "ExecuteTime": {
     "end_time": "2020-09-12T20:37:14.153806Z",
     "start_time": "2020-09-12T20:37:14.142829Z"
    }
   },
   "outputs": [
    {
     "data": {
      "text/html": [
       "<div>\n",
       "<style scoped>\n",
       "    .dataframe tbody tr th:only-of-type {\n",
       "        vertical-align: middle;\n",
       "    }\n",
       "\n",
       "    .dataframe tbody tr th {\n",
       "        vertical-align: top;\n",
       "    }\n",
       "\n",
       "    .dataframe thead th {\n",
       "        text-align: right;\n",
       "    }\n",
       "</style>\n",
       "<table border=\"1\" class=\"dataframe\">\n",
       "  <thead>\n",
       "    <tr style=\"text-align: right;\">\n",
       "      <th></th>\n",
       "      <th>song</th>\n",
       "      <th>artist</th>\n",
       "      <th>feat</th>\n",
       "      <th>spotify_id</th>\n",
       "      <th>popularity</th>\n",
       "      <th>release_date</th>\n",
       "      <th>explicit</th>\n",
       "    </tr>\n",
       "  </thead>\n",
       "  <tbody>\n",
       "    <tr>\n",
       "      <th>0</th>\n",
       "      <td>Roxanne</td>\n",
       "      <td>Arizona Zervas</td>\n",
       "      <td>None</td>\n",
       "      <td>696DnlkuDOXcMAnKlTgXXK</td>\n",
       "      <td>89</td>\n",
       "      <td>2019-10-10</td>\n",
       "      <td>True</td>\n",
       "    </tr>\n",
       "    <tr>\n",
       "      <th>1</th>\n",
       "      <td>Say So</td>\n",
       "      <td>Doja Cat</td>\n",
       "      <td>None</td>\n",
       "      <td>3Dv1eDb0MEgF93GpLXlucZ</td>\n",
       "      <td>89</td>\n",
       "      <td>2019-11-07</td>\n",
       "      <td>True</td>\n",
       "    </tr>\n",
       "    <tr>\n",
       "      <th>2</th>\n",
       "      <td>My Oh My</td>\n",
       "      <td>Camila Cabello</td>\n",
       "      <td>DaBaby</td>\n",
       "      <td>3yOlyBJuViE2YSGn3nVE1K</td>\n",
       "      <td>83</td>\n",
       "      <td>2019-12-06</td>\n",
       "      <td>False</td>\n",
       "    </tr>\n",
       "    <tr>\n",
       "      <th>3</th>\n",
       "      <td>Moon</td>\n",
       "      <td>Kid Francescoli</td>\n",
       "      <td>None</td>\n",
       "      <td>0JP9xo3adEtGSdUEISiszL</td>\n",
       "      <td>86</td>\n",
       "      <td>2018-03-16</td>\n",
       "      <td>True</td>\n",
       "    </tr>\n",
       "    <tr>\n",
       "      <th>4</th>\n",
       "      <td>Vibe</td>\n",
       "      <td>Cookiee Kawaii</td>\n",
       "      <td>None</td>\n",
       "      <td>0fySG6A6qLE8IvDpayb5bM</td>\n",
       "      <td>80</td>\n",
       "      <td>2019-09-27</td>\n",
       "      <td>True</td>\n",
       "    </tr>\n",
       "  </tbody>\n",
       "</table>\n",
       "</div>"
      ],
      "text/plain": [
       "       song           artist    feat              spotify_id popularity  \\\n",
       "0   Roxanne   Arizona Zervas    None  696DnlkuDOXcMAnKlTgXXK         89   \n",
       "1    Say So         Doja Cat    None  3Dv1eDb0MEgF93GpLXlucZ         89   \n",
       "2  My Oh My   Camila Cabello  DaBaby  3yOlyBJuViE2YSGn3nVE1K         83   \n",
       "3      Moon  Kid Francescoli    None  0JP9xo3adEtGSdUEISiszL         86   \n",
       "4      Vibe   Cookiee Kawaii    None  0fySG6A6qLE8IvDpayb5bM         80   \n",
       "\n",
       "  release_date explicit  \n",
       "0   2019-10-10     True  \n",
       "1   2019-11-07     True  \n",
       "2   2019-12-06    False  \n",
       "3   2018-03-16     True  \n",
       "4   2019-09-27     True  "
      ]
     },
     "execution_count": 22,
     "metadata": {},
     "output_type": "execute_result"
    }
   ],
   "source": [
    "popsugar_df.head()"
   ]
  },
  {
   "cell_type": "code",
   "execution_count": 23,
   "metadata": {
    "ExecuteTime": {
     "end_time": "2020-09-12T20:37:26.626150Z",
     "start_time": "2020-09-12T20:37:14.155806Z"
    }
   },
   "outputs": [],
   "source": [
    "spotipy_au_feat = [sp.audio_features(id) if id != 'not-found' else 'not-found' for id in popsugar_df.spotify_id]"
   ]
  },
  {
   "cell_type": "code",
   "execution_count": 24,
   "metadata": {
    "ExecuteTime": {
     "end_time": "2020-09-12T20:37:26.642046Z",
     "start_time": "2020-09-12T20:37:26.631080Z"
    }
   },
   "outputs": [
    {
     "data": {
      "text/plain": [
       "{'danceability': 0.621,\n",
       " 'energy': 0.601,\n",
       " 'key': 6,\n",
       " 'loudness': -5.616,\n",
       " 'mode': 0,\n",
       " 'speechiness': 0.148,\n",
       " 'acousticness': 0.0522,\n",
       " 'instrumentalness': 0,\n",
       " 'liveness': 0.46,\n",
       " 'valence': 0.457,\n",
       " 'tempo': 116.735,\n",
       " 'type': 'audio_features',\n",
       " 'id': '696DnlkuDOXcMAnKlTgXXK',\n",
       " 'uri': 'spotify:track:696DnlkuDOXcMAnKlTgXXK',\n",
       " 'track_href': 'https://api.spotify.com/v1/tracks/696DnlkuDOXcMAnKlTgXXK',\n",
       " 'analysis_url': 'https://api.spotify.com/v1/audio-analysis/696DnlkuDOXcMAnKlTgXXK',\n",
       " 'duration_ms': 163636,\n",
       " 'time_signature': 5}"
      ]
     },
     "execution_count": 24,
     "metadata": {},
     "output_type": "execute_result"
    }
   ],
   "source": [
    "spotipy_au_feat[0][0]"
   ]
  },
  {
   "cell_type": "code",
   "execution_count": 25,
   "metadata": {
    "ExecuteTime": {
     "end_time": "2020-09-12T20:37:26.653017Z",
     "start_time": "2020-09-12T20:37:26.645039Z"
    }
   },
   "outputs": [
    {
     "data": {
      "text/plain": [
       "['danceability',\n",
       " 'energy',\n",
       " 'key',\n",
       " 'loudness',\n",
       " 'mode',\n",
       " 'speechiness',\n",
       " 'acousticness',\n",
       " 'instrumentalness',\n",
       " 'liveness',\n",
       " 'valence',\n",
       " 'tempo',\n",
       " 'duration_ms',\n",
       " 'time_signature']"
      ]
     },
     "execution_count": 25,
     "metadata": {},
     "output_type": "execute_result"
    }
   ],
   "source": [
    "spotipy_au_feat_keys = list(spotipy_au_feat[0][0].keys())\n",
    "spotipy_au_feat_keys.remove('type')\n",
    "spotipy_au_feat_keys.remove('id')\n",
    "spotipy_au_feat_keys.remove('uri')\n",
    "spotipy_au_feat_keys.remove('track_href')\n",
    "spotipy_au_feat_keys.remove('analysis_url')\n",
    "spotipy_au_feat_keys"
   ]
  },
  {
   "cell_type": "code",
   "execution_count": 26,
   "metadata": {
    "ExecuteTime": {
     "end_time": "2020-09-12T20:37:26.663994Z",
     "start_time": "2020-09-12T20:37:26.655018Z"
    }
   },
   "outputs": [],
   "source": [
    "for key in spotipy_au_feat_keys:\n",
    "    popsugar_df[key] = [feat[0][key] if feat != 'not-found' else 'not-found' for feat in spotipy_au_feat]"
   ]
  },
  {
   "cell_type": "code",
   "execution_count": 27,
   "metadata": {
    "ExecuteTime": {
     "end_time": "2020-09-12T20:37:26.689932Z",
     "start_time": "2020-09-12T20:37:26.665996Z"
    }
   },
   "outputs": [
    {
     "data": {
      "text/html": [
       "<div>\n",
       "<style scoped>\n",
       "    .dataframe tbody tr th:only-of-type {\n",
       "        vertical-align: middle;\n",
       "    }\n",
       "\n",
       "    .dataframe tbody tr th {\n",
       "        vertical-align: top;\n",
       "    }\n",
       "\n",
       "    .dataframe thead th {\n",
       "        text-align: right;\n",
       "    }\n",
       "</style>\n",
       "<table border=\"1\" class=\"dataframe\">\n",
       "  <thead>\n",
       "    <tr style=\"text-align: right;\">\n",
       "      <th></th>\n",
       "      <th>song</th>\n",
       "      <th>artist</th>\n",
       "      <th>feat</th>\n",
       "      <th>spotify_id</th>\n",
       "      <th>popularity</th>\n",
       "      <th>release_date</th>\n",
       "      <th>explicit</th>\n",
       "      <th>danceability</th>\n",
       "      <th>energy</th>\n",
       "      <th>key</th>\n",
       "      <th>loudness</th>\n",
       "      <th>mode</th>\n",
       "      <th>speechiness</th>\n",
       "      <th>acousticness</th>\n",
       "      <th>instrumentalness</th>\n",
       "      <th>liveness</th>\n",
       "      <th>valence</th>\n",
       "      <th>tempo</th>\n",
       "      <th>duration_ms</th>\n",
       "      <th>time_signature</th>\n",
       "    </tr>\n",
       "  </thead>\n",
       "  <tbody>\n",
       "    <tr>\n",
       "      <th>0</th>\n",
       "      <td>Roxanne</td>\n",
       "      <td>Arizona Zervas</td>\n",
       "      <td>None</td>\n",
       "      <td>696DnlkuDOXcMAnKlTgXXK</td>\n",
       "      <td>89</td>\n",
       "      <td>2019-10-10</td>\n",
       "      <td>True</td>\n",
       "      <td>0.621</td>\n",
       "      <td>0.601</td>\n",
       "      <td>6</td>\n",
       "      <td>-5.616</td>\n",
       "      <td>0</td>\n",
       "      <td>0.148</td>\n",
       "      <td>0.0522</td>\n",
       "      <td>0</td>\n",
       "      <td>0.46</td>\n",
       "      <td>0.457</td>\n",
       "      <td>116.735</td>\n",
       "      <td>163636</td>\n",
       "      <td>5</td>\n",
       "    </tr>\n",
       "    <tr>\n",
       "      <th>1</th>\n",
       "      <td>Say So</td>\n",
       "      <td>Doja Cat</td>\n",
       "      <td>None</td>\n",
       "      <td>3Dv1eDb0MEgF93GpLXlucZ</td>\n",
       "      <td>89</td>\n",
       "      <td>2019-11-07</td>\n",
       "      <td>True</td>\n",
       "      <td>0.787</td>\n",
       "      <td>0.673</td>\n",
       "      <td>11</td>\n",
       "      <td>-4.577</td>\n",
       "      <td>0</td>\n",
       "      <td>0.158</td>\n",
       "      <td>0.256</td>\n",
       "      <td>3.57e-06</td>\n",
       "      <td>0.0904</td>\n",
       "      <td>0.786</td>\n",
       "      <td>110.962</td>\n",
       "      <td>237893</td>\n",
       "      <td>4</td>\n",
       "    </tr>\n",
       "    <tr>\n",
       "      <th>2</th>\n",
       "      <td>My Oh My</td>\n",
       "      <td>Camila Cabello</td>\n",
       "      <td>DaBaby</td>\n",
       "      <td>3yOlyBJuViE2YSGn3nVE1K</td>\n",
       "      <td>83</td>\n",
       "      <td>2019-12-06</td>\n",
       "      <td>False</td>\n",
       "      <td>0.724</td>\n",
       "      <td>0.491</td>\n",
       "      <td>8</td>\n",
       "      <td>-6.024</td>\n",
       "      <td>1</td>\n",
       "      <td>0.0296</td>\n",
       "      <td>0.018</td>\n",
       "      <td>1.29e-05</td>\n",
       "      <td>0.0887</td>\n",
       "      <td>0.383</td>\n",
       "      <td>105.046</td>\n",
       "      <td>170746</td>\n",
       "      <td>4</td>\n",
       "    </tr>\n",
       "    <tr>\n",
       "      <th>3</th>\n",
       "      <td>Moon</td>\n",
       "      <td>Kid Francescoli</td>\n",
       "      <td>None</td>\n",
       "      <td>0JP9xo3adEtGSdUEISiszL</td>\n",
       "      <td>86</td>\n",
       "      <td>2018-03-16</td>\n",
       "      <td>True</td>\n",
       "      <td>0.921</td>\n",
       "      <td>0.537</td>\n",
       "      <td>9</td>\n",
       "      <td>-5.723</td>\n",
       "      <td>0</td>\n",
       "      <td>0.0804</td>\n",
       "      <td>0.556</td>\n",
       "      <td>0.00404</td>\n",
       "      <td>0.102</td>\n",
       "      <td>0.711</td>\n",
       "      <td>128.009</td>\n",
       "      <td>135090</td>\n",
       "      <td>4</td>\n",
       "    </tr>\n",
       "    <tr>\n",
       "      <th>4</th>\n",
       "      <td>Vibe</td>\n",
       "      <td>Cookiee Kawaii</td>\n",
       "      <td>None</td>\n",
       "      <td>0fySG6A6qLE8IvDpayb5bM</td>\n",
       "      <td>80</td>\n",
       "      <td>2019-09-27</td>\n",
       "      <td>True</td>\n",
       "      <td>0.768</td>\n",
       "      <td>0.652</td>\n",
       "      <td>1</td>\n",
       "      <td>-2.708</td>\n",
       "      <td>0</td>\n",
       "      <td>0.307</td>\n",
       "      <td>0.113</td>\n",
       "      <td>0</td>\n",
       "      <td>0.107</td>\n",
       "      <td>0.777</td>\n",
       "      <td>154.187</td>\n",
       "      <td>144935</td>\n",
       "      <td>4</td>\n",
       "    </tr>\n",
       "  </tbody>\n",
       "</table>\n",
       "</div>"
      ],
      "text/plain": [
       "       song           artist    feat              spotify_id popularity  \\\n",
       "0   Roxanne   Arizona Zervas    None  696DnlkuDOXcMAnKlTgXXK         89   \n",
       "1    Say So         Doja Cat    None  3Dv1eDb0MEgF93GpLXlucZ         89   \n",
       "2  My Oh My   Camila Cabello  DaBaby  3yOlyBJuViE2YSGn3nVE1K         83   \n",
       "3      Moon  Kid Francescoli    None  0JP9xo3adEtGSdUEISiszL         86   \n",
       "4      Vibe   Cookiee Kawaii    None  0fySG6A6qLE8IvDpayb5bM         80   \n",
       "\n",
       "  release_date explicit danceability energy key loudness mode speechiness  \\\n",
       "0   2019-10-10     True        0.621  0.601   6   -5.616    0       0.148   \n",
       "1   2019-11-07     True        0.787  0.673  11   -4.577    0       0.158   \n",
       "2   2019-12-06    False        0.724  0.491   8   -6.024    1      0.0296   \n",
       "3   2018-03-16     True        0.921  0.537   9   -5.723    0      0.0804   \n",
       "4   2019-09-27     True        0.768  0.652   1   -2.708    0       0.307   \n",
       "\n",
       "  acousticness instrumentalness liveness valence    tempo duration_ms  \\\n",
       "0       0.0522                0     0.46   0.457  116.735      163636   \n",
       "1        0.256         3.57e-06   0.0904   0.786  110.962      237893   \n",
       "2        0.018         1.29e-05   0.0887   0.383  105.046      170746   \n",
       "3        0.556          0.00404    0.102   0.711  128.009      135090   \n",
       "4        0.113                0    0.107   0.777  154.187      144935   \n",
       "\n",
       "  time_signature  \n",
       "0              5  \n",
       "1              4  \n",
       "2              4  \n",
       "3              4  \n",
       "4              4  "
      ]
     },
     "execution_count": 27,
     "metadata": {},
     "output_type": "execute_result"
    }
   ],
   "source": [
    "popsugar_df.head()"
   ]
  },
  {
   "cell_type": "code",
   "execution_count": null,
   "metadata": {},
   "outputs": [],
   "source": []
  },
  {
   "cell_type": "code",
   "execution_count": null,
   "metadata": {},
   "outputs": [],
   "source": []
  },
  {
   "cell_type": "code",
   "execution_count": null,
   "metadata": {},
   "outputs": [],
   "source": []
  },
  {
   "cell_type": "code",
   "execution_count": null,
   "metadata": {},
   "outputs": [],
   "source": []
  },
  {
   "cell_type": "markdown",
   "metadata": {
    "heading_collapsed": true
   },
   "source": [
    "### Track example"
   ]
  },
  {
   "cell_type": "markdown",
   "metadata": {
    "hidden": true
   },
   "source": [
    "```python\n",
    "[In]:\n",
    "sp.search(q='My Oh My', type='track', limit=1)\n",
    "\n",
    "[Out]:\n",
    "{'tracks': {'href': 'https://api.spotify.com/v1/search?query=My+Oh+My&type=track&offset=0&limit=1',\n",
    "            # Track info\n",
    "            # Album info\n",
    "            'items': [{'album': {'album_type': 'album',\n",
    "                                 # Main artist info (about the album)\n",
    "                                 'artists': [{'external_urls': \n",
    "                                              {'spotify': 'https://open.spotify.com/artist/4nDoRrQiYLoBzwC5BhVJzF'},\n",
    "                                              'href': 'https://api.spotify.com/v1/artists/4nDoRrQiYLoBzwC5BhVJzF',\n",
    "                                              # Artist id\n",
    "                                              'id': '4nDoRrQiYLoBzwC5BhVJzF',\n",
    "                                              # Artist name\n",
    "                                              'name': 'Camila Cabello',\n",
    "                                              'type': 'artist',\n",
    "                                              'uri': 'spotify:artist:4nDoRrQiYLoBzwC5BhVJzF'}],\n",
    "                                 # Where the album is available\n",
    "                                 'available_markets': ['AD', 'AE', 'AL', 'AR', 'AT', 'AU', 'BA', 'BE', 'BG', 'BH', 'BO',\n",
    "                                                       'BR', 'BY', 'CA', 'CH', 'CL', 'CO', 'CR', 'CY', 'CZ', 'DE', 'DK',\n",
    "                                                       'DO', 'DZ', 'EC', 'EE', 'EG', 'ES', 'FI', 'FR', 'GB', 'GR', 'GT',\n",
    "                                                       'HK', 'HN', 'HR', 'HU', 'ID', 'IE', 'IL', 'IN', 'IS', 'IT', 'JO',\n",
    "                                                       'JP', 'KW', 'KZ', 'LB', 'LI', 'LT', 'LU', 'LV', 'MA', 'MC', 'MD',\n",
    "                                                       'ME', 'MK', 'MT', 'MX', 'MY', 'NI', 'NL', 'NO', 'NZ', 'OM', 'PA',\n",
    "                                                       'PE', 'PH', 'PL', 'PS', 'PT', 'PY', 'QA', 'RO', 'RS', 'RU', 'SA',\n",
    "                                                       'SE', 'SG', 'SI', 'SK', 'SV', 'TH', 'TN', 'TR', 'TW', 'UA', 'US',\n",
    "                                                       'UY', 'VN', 'XK', 'ZA'],\n",
    "                                 'external_urls': {'spotify': 'https://open.spotify.com/album/3Vsbl0diFGw8HNSjG8ue9m'},\n",
    "                                 'href': 'https://api.spotify.com/v1/albums/3Vsbl0diFGw8HNSjG8ue9m',\n",
    "                                 # Album id\n",
    "                                 'id': '3Vsbl0diFGw8HNSjG8ue9m',\n",
    "                                 # Album images\n",
    "                                 'images': [{'height': 640,\n",
    "                                             'url': 'https://i.scdn.co/image/ab67616d0000b2735f53c0dbe5190a0af0fa28f3',\n",
    "                                             'width': 640},\n",
    "                                            {'height': 300,\n",
    "                                             'url': 'https://i.scdn.co/image/ab67616d00001e025f53c0dbe5190a0af0fa28f3',\n",
    "                                             'width': 300},\n",
    "                                            {'height': 64,\n",
    "                                             'url': 'https://i.scdn.co/image/ab67616d000048515f53c0dbe5190a0af0fa28f3',\n",
    "                                             'width': 64}],\n",
    "                                 # Album name\n",
    "                                 'name': 'Romance',\n",
    "                                 # Album release date\n",
    "                                 'release_date': '2019-12-06',\n",
    "                                 'release_date_precision': 'day',\n",
    "                                 # Number of tracks in the album\n",
    "                                 'total_tracks': 14,\n",
    "                                 'type': 'album',\n",
    "                                 'uri': 'spotify:album:3Vsbl0diFGw8HNSjG8ue9m'},\n",
    "                       # Artists info (about the track)\n",
    "                       'artists': [{'external_urls': {'spotify': 'https://open.spotify.com/artist/4nDoRrQiYLoBzwC5BhVJzF'},\n",
    "                                    'href': 'https://api.spotify.com/v1/artists/4nDoRrQiYLoBzwC5BhVJzF',\n",
    "                                    'id': '4nDoRrQiYLoBzwC5BhVJzF',\n",
    "                                    'name': 'Camila Cabello',\n",
    "                                    'type': 'artist',\n",
    "                                    'uri': 'spotify:artist:4nDoRrQiYLoBzwC5BhVJzF'},\n",
    "                                   # Feat\n",
    "                                   {'external_urls': {'spotify': 'https://open.spotify.com/artist/4r63FhuTkUYltbVAg5TQnk'},\n",
    "                                    'href': 'https://api.spotify.com/v1/artists/4r63FhuTkUYltbVAg5TQnk',\n",
    "                                    'id': '4r63FhuTkUYltbVAg5TQnk',\n",
    "                                    'name': 'DaBaby',\n",
    "                                    'type': 'artist',\n",
    "                                    'uri': 'spotify:artist:4r63FhuTkUYltbVAg5TQnk'}],\n",
    "                       # Where the track is available\n",
    "                       'available_markets': ['AD', 'AE', 'AL', 'AR', 'AT', 'AU', 'BA', 'BE', 'BG', 'BH', 'BO', 'BR', 'BY',\n",
    "                                             'CA', 'CH', 'CL', 'CO', 'CR', 'CY', 'CZ', 'DE', 'DK', 'DO', 'DZ', 'EC', 'EE',\n",
    "                                             'EG', 'ES', 'FI', 'FR', 'GB', 'GR', 'GT', 'HK', 'HN', 'HR', 'HU', 'ID', 'IE',\n",
    "                                             'IL', 'IN', 'IS', 'IT', 'JO', 'JP', 'KW', 'KZ', 'LB', 'LI', 'LT', 'LU', 'LV',\n",
    "                                             'MA', 'MC', 'MD', 'ME', 'MK', 'MT', 'MX', 'MY', 'NI', 'NL', 'NO', 'NZ', 'OM',\n",
    "                                             'PA', 'PE', 'PH', 'PL', 'PS', 'PT', 'PY', 'QA', 'RO', 'RS', 'RU', 'SA', 'SE',\n",
    "                                             'SG', 'SI', 'SK', 'SV', 'TH', 'TN', 'TR', 'TW', 'UA', 'US', 'UY', 'VN', 'XK',\n",
    "                                             'ZA'],\n",
    "                       'disc_number': 1,\n",
    "                       # Durantion of the track (ms)\n",
    "                       'duration_ms': 170746,\n",
    "                       # Explicit?\n",
    "                       'explicit': False,\n",
    "                       'external_ids': {'isrc': 'USSM11914257'},\n",
    "                       'external_urls': {'spotify': 'https://open.spotify.com/track/3yOlyBJuViE2YSGn3nVE1K'},\n",
    "                       'href': 'https://api.spotify.com/v1/tracks/3yOlyBJuViE2YSGn3nVE1K',\n",
    "                       # Track id\n",
    "                       'id': '3yOlyBJuViE2YSGn3nVE1K',\n",
    "                       'is_local': False,\n",
    "                       # Track name\n",
    "                       'name': 'My Oh My (feat. DaBaby)',\n",
    "                       # Track popularity\n",
    "                       'popularity': 83,\n",
    "                       'preview_url': 'https://p.scdn.co/mp3-preview/f4d0ff165605108542de7358547443d1a9f33fe3?cid=52d383b8c23d4cf987d4a0d509588d7a',\n",
    "                       'track_number': 4,\n",
    "                       'type': 'track',\n",
    "                       'uri': 'spotify:track:3yOlyBJuViE2YSGn3nVE1K'}],\n",
    "            'limit': 1,\n",
    "            'next': 'https://api.spotify.com/v1/search?query=My+Oh+My&type=track&offset=1&limit=1',\n",
    "            'offset': 0,\n",
    "            'previous': None,\n",
    "            'total': 25565}}```"
   ]
  },
  {
   "cell_type": "markdown",
   "metadata": {
    "heading_collapsed": true
   },
   "source": [
    "### Artist example"
   ]
  },
  {
   "cell_type": "markdown",
   "metadata": {
    "hidden": true
   },
   "source": [
    "```python\n",
    "[In]:\n",
    "sp.search(q='Camila Cabello', type='artist', limit=1)\n",
    "\n",
    "[Out]:\n",
    "# Artist info\n",
    "{'artists': {'href': 'https://api.spotify.com/v1/search?query=Camila+Cabello&type=artist&offset=0&limit=1',\n",
    "             'items': [{'external_urls': {'spotify': 'https://open.spotify.com/artist/4nDoRrQiYLoBzwC5BhVJzF'},\n",
    "                        # Followers\n",
    "                        'followers': {'href': None, 'total': 17921890},\n",
    "                        # Genres\n",
    "                        'genres': ['dance pop', 'pop', 'post-teen pop'],\n",
    "                        'href': 'https://api.spotify.com/v1/artists/4nDoRrQiYLoBzwC5BhVJzF',\n",
    "                        # Artist id\n",
    "                        'id': '4nDoRrQiYLoBzwC5BhVJzF',\n",
    "                        'images': [{'height': 640,\n",
    "                                    'url': 'https://i.scdn.co/image/667daebca4856db3f4cbe8f51a4881091e62c401',\n",
    "                                    'width': 640},\n",
    "                                   {'height': 320,\n",
    "                                    'url': 'https://i.scdn.co/image/6628c8b4acfa56206eaf83edd561f0549f8f23df',\n",
    "                                    'width': 320},\n",
    "                                   {'height': 160,\n",
    "                                    'url': 'https://i.scdn.co/image/9beb36d55d0a4784f4adf06fb506d292c688b8bf',\n",
    "                                    'width': 160}],\n",
    "                        # Artist name\n",
    "                        'name': 'Camila Cabello',\n",
    "                        # Artist popularity\n",
    "                        'popularity': 87,\n",
    "                        'type': 'artist',\n",
    "                        'uri': 'spotify:artist:4nDoRrQiYLoBzwC5BhVJzF'}],\n",
    "             'limit': 1,\n",
    "             'next': 'https://api.spotify.com/v1/search?query=Camila+Cabello&type=artist&offset=1&limit=1',\n",
    "             'offset': 0,\n",
    "             'previous': None,\n",
    "             'total': 3}}```"
   ]
  },
  {
   "cell_type": "markdown",
   "metadata": {
    "heading_collapsed": true
   },
   "source": [
    "### Audio features"
   ]
  },
  {
   "cell_type": "markdown",
   "metadata": {
    "hidden": true
   },
   "source": [
    "```python\n",
    "[In]:\n",
    "sp.audio_features('3yOlyBJuViE2YSGn3nVE1K')\n",
    "\n",
    "[Out]:\n",
    "[{'danceability': 0.724,\n",
    "  'energy': 0.491,\n",
    "  'key': 8,\n",
    "  'loudness': -6.024,\n",
    "  'mode': 1,\n",
    "  'speechiness': 0.0296,\n",
    "  'acousticness': 0.018,\n",
    "  'instrumentalness': 1.29e-05,\n",
    "  'liveness': 0.0887,\n",
    "  'valence': 0.383,\n",
    "  'tempo': 105.046,\n",
    "  'type': 'audio_features',\n",
    "  'id': '3yOlyBJuViE2YSGn3nVE1K',\n",
    "  'uri': 'spotify:track:3yOlyBJuViE2YSGn3nVE1K',\n",
    "  'track_href': 'https://api.spotify.com/v1/tracks/3yOlyBJuViE2YSGn3nVE1K',\n",
    "  'analysis_url': 'https://api.spotify.com/v1/audio-analysis/3yOlyBJuViE2YSGn3nVE1K',\n",
    "  'duration_ms': 170746,\n",
    "  'time_signature': 4}]```"
   ]
  },
  {
   "cell_type": "code",
   "execution_count": null,
   "metadata": {
    "hidden": true
   },
   "outputs": [],
   "source": []
  },
  {
   "cell_type": "code",
   "execution_count": null,
   "metadata": {
    "hidden": true
   },
   "outputs": [],
   "source": []
  },
  {
   "cell_type": "code",
   "execution_count": null,
   "metadata": {
    "hidden": true
   },
   "outputs": [],
   "source": []
  },
  {
   "cell_type": "code",
   "execution_count": null,
   "metadata": {
    "hidden": true
   },
   "outputs": [],
   "source": []
  },
  {
   "cell_type": "code",
   "execution_count": null,
   "metadata": {
    "hidden": true
   },
   "outputs": [],
   "source": []
  },
  {
   "cell_type": "markdown",
   "metadata": {},
   "source": [
    "# Last.fm"
   ]
  },
  {
   "cell_type": "markdown",
   "metadata": {},
   "source": [
    "https://www.last.fm/api/show/track.getInfo"
   ]
  },
  {
   "cell_type": "markdown",
   "metadata": {
    "ExecuteTime": {
     "end_time": "2020-09-11T22:28:18.799020Z",
     "start_time": "2020-09-11T22:28:18.340871Z"
    }
   },
   "source": [
    "\n",
    "\n",
    "headers = {'user-agent': lastfm_user}\n",
    "\n",
    "payload = {\n",
    "    'api_key': lastfm_key,\n",
    "    'method': 'track.getInfo'\n",
    "}\n",
    "\n",
    "response = requests.get('http://ws.audioscrobbler.com/2.0/', headers=headers, params=payload)\n",
    "response"
   ]
  },
  {
   "cell_type": "code",
   "execution_count": 28,
   "metadata": {
    "ExecuteTime": {
     "end_time": "2020-09-12T20:40:25.025950Z",
     "start_time": "2020-09-12T20:40:25.022957Z"
    }
   },
   "outputs": [],
   "source": [
    "lastfm_key = os.getenv('lastfm_p03_key')\n",
    "lastfm_user = 'gnakasato'"
   ]
  },
  {
   "cell_type": "code",
   "execution_count": 29,
   "metadata": {
    "ExecuteTime": {
     "end_time": "2020-09-12T20:40:26.728782Z",
     "start_time": "2020-09-12T20:40:26.725812Z"
    }
   },
   "outputs": [],
   "source": [
    "def lastfm_get(payload):\n",
    "    # Define the headers and the url\n",
    "    headers = {'user-agent': lastfm_user}\n",
    "    url = 'http://ws.audioscrobbler.com/2.0/'\n",
    "    \n",
    "    # Add API key and format to the payload\n",
    "    payload['api_key'] = lastfm_key\n",
    "    payload['format=json'] = lastfm_key\n",
    "    \n",
    "    response = requests.get(url, headers=headers, params=payload)\n",
    "    \n",
    "    return response"
   ]
  },
  {
   "cell_type": "code",
   "execution_count": 88,
   "metadata": {
    "ExecuteTime": {
     "end_time": "2020-09-12T02:05:45.665210Z",
     "start_time": "2020-09-12T02:05:45.188254Z"
    }
   },
   "outputs": [],
   "source": [
    "response = lastfm_get({\n",
    "    'method': 'track.getInfo',\n",
    "    'track': 'My Oh My',\n",
    "    'artist': 'Camila Cabello'\n",
    "})"
   ]
  },
  {
   "cell_type": "code",
   "execution_count": 89,
   "metadata": {
    "ExecuteTime": {
     "end_time": "2020-09-12T02:05:47.480470Z",
     "start_time": "2020-09-12T02:05:47.475485Z"
    }
   },
   "outputs": [
    {
     "data": {
      "text/plain": [
       "<Response [200]>"
      ]
     },
     "execution_count": 89,
     "metadata": {},
     "output_type": "execute_result"
    }
   ],
   "source": [
    "response"
   ]
  },
  {
   "cell_type": "code",
   "execution_count": 30,
   "metadata": {
    "ExecuteTime": {
     "end_time": "2020-09-12T20:42:10.617970Z",
     "start_time": "2020-09-12T20:40:29.181344Z"
    }
   },
   "outputs": [],
   "source": [
    "lastfm_track_info = []\n",
    "\n",
    "for index in range(popsugar_df.shape[0]):\n",
    "    response = lastfm_get({'method': 'track.getInfo',\n",
    "                           'track': popsugar_df.iloc[index, 0],\n",
    "                           'artist': popsugar_df.iloc[index, 1]})\n",
    "    track_info = BeautifulSoup(response.text)\n",
    "    lastfm_track_info.append(track_info)\n",
    "    sleep(1)"
   ]
  },
  {
   "cell_type": "code",
   "execution_count": 87,
   "metadata": {
    "ExecuteTime": {
     "end_time": "2020-09-12T21:46:06.831682Z",
     "start_time": "2020-09-12T21:46:06.825695Z"
    }
   },
   "outputs": [],
   "source": [
    "lastfm_tags = [track.find_all('tag') if track.text.replace('\\n\\n', '') != 'Track not found' else 'not-found' for track \n",
    "                in lastfm_track_info]"
   ]
  },
  {
   "cell_type": "code",
   "execution_count": 89,
   "metadata": {
    "ExecuteTime": {
     "end_time": "2020-09-12T21:47:08.592546Z",
     "start_time": "2020-09-12T21:47:08.584524Z"
    }
   },
   "outputs": [],
   "source": [
    "tracks_tags = []\n",
    "\n",
    "for track_tag in lastfm_tags:\n",
    "    if track_tag == 'not-found':\n",
    "        tracks_tags.append(['not-found'])\n",
    "        #print(tracks_tags)\n",
    "    elif len(track_tag) == 0:\n",
    "        tracks_tags.append(['no-tag'])\n",
    "        #print(tracks_tags)\n",
    "    else:\n",
    "        each_tag_lists = []\n",
    "        for each_tag in track_tag:\n",
    "            \n",
    "            tag_list = each_tag.find('name')\n",
    "            each_tag_lists.append(tag_list)\n",
    "            #print(f'each_tag_lists: {each_tag_lists}')\n",
    "            each_track_tags = []\n",
    "            for each_one in each_tag_lists:\n",
    "                tag = each_one.text\n",
    "                each_track_tags.append(tag)\n",
    "                #print(f'each_track_tags: {each_track_tags}')\n",
    "        tracks_tags.append(each_track_tags)\n",
    "        #print(f'\\n{tracks_tags}\\n')\n",
    "        \n",
    "popsugar_df['lastfm_tags'] = tracks_tags"
   ]
  },
  {
   "cell_type": "code",
   "execution_count": 90,
   "metadata": {
    "ExecuteTime": {
     "end_time": "2020-09-12T21:47:10.545084Z",
     "start_time": "2020-09-12T21:47:10.527099Z"
    }
   },
   "outputs": [
    {
     "data": {
      "text/html": [
       "<div>\n",
       "<style scoped>\n",
       "    .dataframe tbody tr th:only-of-type {\n",
       "        vertical-align: middle;\n",
       "    }\n",
       "\n",
       "    .dataframe tbody tr th {\n",
       "        vertical-align: top;\n",
       "    }\n",
       "\n",
       "    .dataframe thead th {\n",
       "        text-align: right;\n",
       "    }\n",
       "</style>\n",
       "<table border=\"1\" class=\"dataframe\">\n",
       "  <thead>\n",
       "    <tr style=\"text-align: right;\">\n",
       "      <th></th>\n",
       "      <th>song</th>\n",
       "      <th>artist</th>\n",
       "      <th>feat</th>\n",
       "      <th>spotify_id</th>\n",
       "      <th>popularity</th>\n",
       "      <th>release_date</th>\n",
       "      <th>explicit</th>\n",
       "      <th>danceability</th>\n",
       "      <th>energy</th>\n",
       "      <th>key</th>\n",
       "      <th>...</th>\n",
       "      <th>mode</th>\n",
       "      <th>speechiness</th>\n",
       "      <th>acousticness</th>\n",
       "      <th>instrumentalness</th>\n",
       "      <th>liveness</th>\n",
       "      <th>valence</th>\n",
       "      <th>tempo</th>\n",
       "      <th>duration_ms</th>\n",
       "      <th>time_signature</th>\n",
       "      <th>lastfm_tags</th>\n",
       "    </tr>\n",
       "  </thead>\n",
       "  <tbody>\n",
       "    <tr>\n",
       "      <th>0</th>\n",
       "      <td>Roxanne</td>\n",
       "      <td>Arizona Zervas</td>\n",
       "      <td>None</td>\n",
       "      <td>696DnlkuDOXcMAnKlTgXXK</td>\n",
       "      <td>89</td>\n",
       "      <td>2019-10-10</td>\n",
       "      <td>True</td>\n",
       "      <td>0.621</td>\n",
       "      <td>0.601</td>\n",
       "      <td>6</td>\n",
       "      <td>...</td>\n",
       "      <td>0</td>\n",
       "      <td>0.148</td>\n",
       "      <td>0.0522</td>\n",
       "      <td>0</td>\n",
       "      <td>0.46</td>\n",
       "      <td>0.457</td>\n",
       "      <td>116.735</td>\n",
       "      <td>163636</td>\n",
       "      <td>5</td>\n",
       "      <td>[2019, 2010s, arizona zervas, Hip-Hop, rap]</td>\n",
       "    </tr>\n",
       "    <tr>\n",
       "      <th>1</th>\n",
       "      <td>Say So</td>\n",
       "      <td>Doja Cat</td>\n",
       "      <td>None</td>\n",
       "      <td>3Dv1eDb0MEgF93GpLXlucZ</td>\n",
       "      <td>89</td>\n",
       "      <td>2019-11-07</td>\n",
       "      <td>True</td>\n",
       "      <td>0.787</td>\n",
       "      <td>0.673</td>\n",
       "      <td>11</td>\n",
       "      <td>...</td>\n",
       "      <td>0</td>\n",
       "      <td>0.158</td>\n",
       "      <td>0.256</td>\n",
       "      <td>3.57e-06</td>\n",
       "      <td>0.0904</td>\n",
       "      <td>0.786</td>\n",
       "      <td>110.962</td>\n",
       "      <td>237893</td>\n",
       "      <td>4</td>\n",
       "      <td>[pop, Disco, rap, Hip-Hop, female vocalists]</td>\n",
       "    </tr>\n",
       "    <tr>\n",
       "      <th>2</th>\n",
       "      <td>My Oh My</td>\n",
       "      <td>Camila Cabello</td>\n",
       "      <td>DaBaby</td>\n",
       "      <td>3yOlyBJuViE2YSGn3nVE1K</td>\n",
       "      <td>83</td>\n",
       "      <td>2019-12-06</td>\n",
       "      <td>False</td>\n",
       "      <td>0.724</td>\n",
       "      <td>0.491</td>\n",
       "      <td>8</td>\n",
       "      <td>...</td>\n",
       "      <td>1</td>\n",
       "      <td>0.0296</td>\n",
       "      <td>0.018</td>\n",
       "      <td>1.29e-05</td>\n",
       "      <td>0.0887</td>\n",
       "      <td>0.383</td>\n",
       "      <td>105.046</td>\n",
       "      <td>170746</td>\n",
       "      <td>4</td>\n",
       "      <td>[pop, fuck feat tags, DaBaby]</td>\n",
       "    </tr>\n",
       "    <tr>\n",
       "      <th>3</th>\n",
       "      <td>Moon</td>\n",
       "      <td>Kid Francescoli</td>\n",
       "      <td>None</td>\n",
       "      <td>0JP9xo3adEtGSdUEISiszL</td>\n",
       "      <td>86</td>\n",
       "      <td>2018-03-16</td>\n",
       "      <td>True</td>\n",
       "      <td>0.921</td>\n",
       "      <td>0.537</td>\n",
       "      <td>9</td>\n",
       "      <td>...</td>\n",
       "      <td>0</td>\n",
       "      <td>0.0804</td>\n",
       "      <td>0.556</td>\n",
       "      <td>0.00404</td>\n",
       "      <td>0.102</td>\n",
       "      <td>0.711</td>\n",
       "      <td>128.009</td>\n",
       "      <td>135090</td>\n",
       "      <td>4</td>\n",
       "      <td>[chillout, indie pop, skam italia]</td>\n",
       "    </tr>\n",
       "    <tr>\n",
       "      <th>4</th>\n",
       "      <td>Vibe</td>\n",
       "      <td>Cookiee Kawaii</td>\n",
       "      <td>None</td>\n",
       "      <td>0fySG6A6qLE8IvDpayb5bM</td>\n",
       "      <td>80</td>\n",
       "      <td>2019-09-27</td>\n",
       "      <td>True</td>\n",
       "      <td>0.768</td>\n",
       "      <td>0.652</td>\n",
       "      <td>1</td>\n",
       "      <td>...</td>\n",
       "      <td>0</td>\n",
       "      <td>0.307</td>\n",
       "      <td>0.113</td>\n",
       "      <td>0</td>\n",
       "      <td>0.107</td>\n",
       "      <td>0.777</td>\n",
       "      <td>154.187</td>\n",
       "      <td>144935</td>\n",
       "      <td>4</td>\n",
       "      <td>[no-tag]</td>\n",
       "    </tr>\n",
       "  </tbody>\n",
       "</table>\n",
       "<p>5 rows × 21 columns</p>\n",
       "</div>"
      ],
      "text/plain": [
       "       song           artist    feat              spotify_id popularity  \\\n",
       "0   Roxanne   Arizona Zervas    None  696DnlkuDOXcMAnKlTgXXK         89   \n",
       "1    Say So         Doja Cat    None  3Dv1eDb0MEgF93GpLXlucZ         89   \n",
       "2  My Oh My   Camila Cabello  DaBaby  3yOlyBJuViE2YSGn3nVE1K         83   \n",
       "3      Moon  Kid Francescoli    None  0JP9xo3adEtGSdUEISiszL         86   \n",
       "4      Vibe   Cookiee Kawaii    None  0fySG6A6qLE8IvDpayb5bM         80   \n",
       "\n",
       "  release_date explicit danceability energy key  ... mode speechiness  \\\n",
       "0   2019-10-10     True        0.621  0.601   6  ...    0       0.148   \n",
       "1   2019-11-07     True        0.787  0.673  11  ...    0       0.158   \n",
       "2   2019-12-06    False        0.724  0.491   8  ...    1      0.0296   \n",
       "3   2018-03-16     True        0.921  0.537   9  ...    0      0.0804   \n",
       "4   2019-09-27     True        0.768  0.652   1  ...    0       0.307   \n",
       "\n",
       "  acousticness instrumentalness liveness valence    tempo duration_ms  \\\n",
       "0       0.0522                0     0.46   0.457  116.735      163636   \n",
       "1        0.256         3.57e-06   0.0904   0.786  110.962      237893   \n",
       "2        0.018         1.29e-05   0.0887   0.383  105.046      170746   \n",
       "3        0.556          0.00404    0.102   0.711  128.009      135090   \n",
       "4        0.113                0    0.107   0.777  154.187      144935   \n",
       "\n",
       "  time_signature                                   lastfm_tags  \n",
       "0              5   [2019, 2010s, arizona zervas, Hip-Hop, rap]  \n",
       "1              4  [pop, Disco, rap, Hip-Hop, female vocalists]  \n",
       "2              4                 [pop, fuck feat tags, DaBaby]  \n",
       "3              4            [chillout, indie pop, skam italia]  \n",
       "4              4                                      [no-tag]  \n",
       "\n",
       "[5 rows x 21 columns]"
      ]
     },
     "execution_count": 90,
     "metadata": {},
     "output_type": "execute_result"
    }
   ],
   "source": [
    "popsugar_df.head()"
   ]
  },
  {
   "cell_type": "code",
   "execution_count": null,
   "metadata": {},
   "outputs": [],
   "source": []
  },
  {
   "cell_type": "code",
   "execution_count": null,
   "metadata": {},
   "outputs": [],
   "source": []
  },
  {
   "cell_type": "code",
   "execution_count": null,
   "metadata": {},
   "outputs": [],
   "source": []
  },
  {
   "cell_type": "code",
   "execution_count": null,
   "metadata": {},
   "outputs": [],
   "source": []
  },
  {
   "cell_type": "code",
   "execution_count": null,
   "metadata": {},
   "outputs": [],
   "source": []
  },
  {
   "cell_type": "code",
   "execution_count": null,
   "metadata": {},
   "outputs": [],
   "source": []
  },
  {
   "cell_type": "code",
   "execution_count": null,
   "metadata": {},
   "outputs": [],
   "source": []
  },
  {
   "cell_type": "code",
   "execution_count": null,
   "metadata": {},
   "outputs": [],
   "source": []
  },
  {
   "cell_type": "code",
   "execution_count": null,
   "metadata": {},
   "outputs": [],
   "source": []
  },
  {
   "cell_type": "code",
   "execution_count": null,
   "metadata": {},
   "outputs": [],
   "source": []
  },
  {
   "cell_type": "code",
   "execution_count": null,
   "metadata": {},
   "outputs": [],
   "source": []
  }
 ],
 "metadata": {
  "hide_input": false,
  "kernelspec": {
   "display_name": "Python 3",
   "language": "python",
   "name": "python3"
  },
  "language_info": {
   "codemirror_mode": {
    "name": "ipython",
    "version": 3
   },
   "file_extension": ".py",
   "mimetype": "text/x-python",
   "name": "python",
   "nbconvert_exporter": "python",
   "pygments_lexer": "ipython3",
   "version": "3.8.3"
  },
  "toc": {
   "base_numbering": 1,
   "nav_menu": {},
   "number_sections": true,
   "sideBar": true,
   "skip_h1_title": false,
   "title_cell": "Table of Contents",
   "title_sidebar": "Contents",
   "toc_cell": false,
   "toc_position": {
    "height": "calc(100% - 180px)",
    "left": "10px",
    "top": "150px",
    "width": "384px"
   },
   "toc_section_display": true,
   "toc_window_display": true
  },
  "varInspector": {
   "cols": {
    "lenName": 16,
    "lenType": 16,
    "lenVar": 40
   },
   "kernels_config": {
    "python": {
     "delete_cmd_postfix": "",
     "delete_cmd_prefix": "del ",
     "library": "var_list.py",
     "varRefreshCmd": "print(var_dic_list())"
    },
    "r": {
     "delete_cmd_postfix": ") ",
     "delete_cmd_prefix": "rm(",
     "library": "var_list.r",
     "varRefreshCmd": "cat(var_dic_list()) "
    }
   },
   "types_to_exclude": [
    "module",
    "function",
    "builtin_function_or_method",
    "instance",
    "_Feature"
   ],
   "window_display": false
  }
 },
 "nbformat": 4,
 "nbformat_minor": 4
}
