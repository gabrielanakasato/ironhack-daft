{
 "cells": [
  {
   "cell_type": "code",
   "execution_count": 1,
   "metadata": {
    "ExecuteTime": {
     "end_time": "2020-09-11T15:03:47.399945Z",
     "start_time": "2020-09-11T15:03:47.022442Z"
    }
   },
   "outputs": [],
   "source": [
    "import re\n",
    "import requests\n",
    "\n",
    "import numpy as np\n",
    "import pandas as pd\n",
    "from bs4 import BeautifulSoup"
   ]
  },
  {
   "cell_type": "code",
   "execution_count": 2,
   "metadata": {
    "ExecuteTime": {
     "end_time": "2020-09-11T15:03:47.402954Z",
     "start_time": "2020-09-11T15:03:47.400939Z"
    }
   },
   "outputs": [],
   "source": [
    "url = 'https://www.buzzfeednews.com/article/laurenstrapagiel/most-viral-tiktok-songs-of-2020'"
   ]
  },
  {
   "cell_type": "code",
   "execution_count": 3,
   "metadata": {
    "ExecuteTime": {
     "end_time": "2020-09-11T15:03:47.805512Z",
     "start_time": "2020-09-11T15:03:47.403931Z"
    }
   },
   "outputs": [
    {
     "data": {
      "text/plain": [
       "<Response [200]>"
      ]
     },
     "execution_count": 3,
     "metadata": {},
     "output_type": "execute_result"
    }
   ],
   "source": [
    "response = requests.get(url)\n",
    "response"
   ]
  },
  {
   "cell_type": "code",
   "execution_count": 4,
   "metadata": {
    "ExecuteTime": {
     "end_time": "2020-09-11T15:03:47.871500Z",
     "start_time": "2020-09-11T15:03:47.806469Z"
    }
   },
   "outputs": [],
   "source": [
    "content_buzzfeed = BeautifulSoup(response.text)\n",
    "#content"
   ]
  },
  {
   "cell_type": "code",
   "execution_count": 5,
   "metadata": {
    "ExecuteTime": {
     "end_time": "2020-09-11T15:03:47.883303Z",
     "start_time": "2020-09-11T15:03:47.872331Z"
    }
   },
   "outputs": [
    {
     "data": {
      "text/plain": [
       "[<h2>1. \"Laxed (SIREN BEAT)\" by Jawsh 685</h2>,\n",
       " <h2>2. \"Roses (Imanbek Remix)\" by SAINt JHN and Imanbek</h2>,\n",
       " <h2>3. \"Boss Bitch\" by Doja Cat</h2>,\n",
       " <h2>4. \"Supalonely\" by BENEE feat. Gus Dapperton</h2>,\n",
       " <h2>5. \"Stunnin'\" by Curtis Waters feat. Harm Franklin</h2>,\n",
       " <h2>6. \"Lottery'\" by K CAMP</h2>,\n",
       " <h2>7. \"ROXANNE'\" by Arizona Zervas</h2>,\n",
       " <h2>8. \"Bored in the House'\" by Curtis Roach</h2>,\n",
       " <h2>9. \"Sober Up\" by AJR feat. Rivers Cuomo</h2>,\n",
       " <h2>10. \"Prom Queen\" by Beach Bunny</h2>,\n",
       " <h2>11. \"Vibe\" by Cookiee Kawaii</h2>,\n",
       " <h2>12. \"Renee\" by SALES</h2>,\n",
       " <h2>13. \"Savage\" by Megan Thee Stallion</h2>]"
      ]
     },
     "execution_count": 5,
     "metadata": {},
     "output_type": "execute_result"
    }
   ],
   "source": [
    "html_buzzfeed = content_buzzfeed.find_all('h2', limit=13)\n",
    "html_buzzfeed"
   ]
  },
  {
   "cell_type": "code",
   "execution_count": 26,
   "metadata": {
    "ExecuteTime": {
     "end_time": "2020-09-11T15:21:27.409889Z",
     "start_time": "2020-09-11T15:21:27.403905Z"
    }
   },
   "outputs": [
    {
     "data": {
      "text/plain": [
       "'Posted on July 23, 2020, at 3:24 p.m. ET'"
      ]
     },
     "execution_count": 26,
     "metadata": {},
     "output_type": "execute_result"
    }
   ],
   "source": [
    "date_buzzfeed = content_buzzfeed.find('p', attrs={'class': 'news-article-header__timestamps-posted'}).text.replace('\\n', '').strip()\n",
    "date_buzzfeed"
   ]
  },
  {
   "cell_type": "code",
   "execution_count": 13,
   "metadata": {
    "ExecuteTime": {
     "end_time": "2020-09-11T15:17:32.513150Z",
     "start_time": "2020-09-11T15:17:32.509135Z"
    }
   },
   "outputs": [],
   "source": [
    "url = 'https://www.popsugar.com/entertainment/popular-tiktok-songs-47289804?stream_view=1#photo-47289832'"
   ]
  },
  {
   "cell_type": "code",
   "execution_count": 14,
   "metadata": {
    "ExecuteTime": {
     "end_time": "2020-09-11T15:17:34.836808Z",
     "start_time": "2020-09-11T15:17:34.043566Z"
    }
   },
   "outputs": [
    {
     "data": {
      "text/plain": [
       "<Response [200]>"
      ]
     },
     "execution_count": 14,
     "metadata": {},
     "output_type": "execute_result"
    }
   ],
   "source": [
    "response = requests.get(url)\n",
    "response"
   ]
  },
  {
   "cell_type": "code",
   "execution_count": 17,
   "metadata": {
    "ExecuteTime": {
     "end_time": "2020-09-11T15:18:21.006461Z",
     "start_time": "2020-09-11T15:18:20.901552Z"
    }
   },
   "outputs": [],
   "source": [
    "content_popsugar = BeautifulSoup(response.text)\n",
    "#content_popsugar"
   ]
  },
  {
   "cell_type": "code",
   "execution_count": 21,
   "metadata": {
    "ExecuteTime": {
     "end_time": "2020-09-11T15:19:55.605923Z",
     "start_time": "2020-09-11T15:19:55.588969Z"
    },
    "collapsed": true
   },
   "outputs": [
    {
     "data": {
      "text/plain": [
       "[<span class=\"count-copy\">\"Roxanne\" by Arizona Zervas</span>,\n",
       " <span class=\"count-copy\">\"Say So\" by Doja Cat</span>,\n",
       " <span class=\"count-copy\">\"My Oh My\" by Camila Cabello feat. DaBaby</span>,\n",
       " <span class=\"count-copy\">\"Moon\" by Kid Francescoli</span>,\n",
       " <span class=\"count-copy\">\"Vibe\" by Cookiee Kawaii</span>,\n",
       " <span class=\"count-copy\">\"The Box\" by Roddy Ricch</span>,\n",
       " <span class=\"count-copy\">\"Run Free\" by Deep Chills feat. Ivie</span>,\n",
       " <span class=\"count-copy\">\"She Gon Go\" by Trill Ryan</span>,\n",
       " <span class=\"count-copy\">\"Back Up\" by DeJ Loaf feat. Big Sean</span>,\n",
       " <span class=\"count-copy\">\"Take It Off\" by Kesha</span>,\n",
       " <span class=\"count-copy\">\"Falling\" by Trevor Daniel</span>,\n",
       " <span class=\"count-copy\">\"How About Now\" by Bryson Tiller</span>,\n",
       " <span class=\"count-copy\">\"Working Bitch\" by Ashnikko</span>,\n",
       " <span class=\"count-copy\">\"Cradles\" by Sub Urban</span>,\n",
       " <span class=\"count-copy\">\"Dura\" by Daddy Yankee</span>,\n",
       " <span class=\"count-copy\">\"FML\" by Arizona Zervas</span>,\n",
       " <span class=\"count-copy\">\"El Beeper\" by Oro Solido</span>,\n",
       " <span class=\"count-copy\">\"Supalonely\" by Benee</span>,\n",
       " <span class=\"count-copy\">\"Devil Eyes\" by Hippie Sabotage</span>,\n",
       " <span class=\"count-copy\">\"Attention\" by Todrick Hall</span>,\n",
       " <span class=\"count-copy\">\"Hey Look Ma, I Made It\" by Panic! At the Disco</span>,\n",
       " <span class=\"count-copy\">\"WOAH\" by KRYPTO9095 feat. D3MSTREET</span>,\n",
       " <span class=\"count-copy\">\"Crystal Dolphin\" by Engelwood</span>,\n",
       " <span class=\"count-copy\">\"Lalala\" by Y2K and bbno$</span>,\n",
       " <span class=\"count-copy\">\"Seve\" by Tez Cadey</span>,\n",
       " <span class=\"count-copy\">\"Memories\" by Ajay Stephens</span>,\n",
       " <span class=\"count-copy\">\"Lose Control\" by Meduza, Becky Hill, and Goodboys</span>,\n",
       " <span class=\"count-copy\">\"Don't Start Now\" by Dua Lipa</span>,\n",
       " <span class=\"count-copy\">\"Welcome to Wonderland\" by Anson Seabra</span>,\n",
       " <span class=\"count-copy\">\"Tra Tra\" by Nfasis</span>,\n",
       " <span class=\"count-copy\">\"Get Busy\" by Sean Paul</span>,\n",
       " <span class=\"count-copy\">\"Rescue\" by Lauren Daigle</span>,\n",
       " <span class=\"count-copy\">\"High Fashion\" by Roddy Ricch feat. Mustard</span>,\n",
       " <span class=\"count-copy\">\"Stolen Dance\" by Milky Chance</span>,\n",
       " <span class=\"count-copy\">\"Sugar\" by Brockhampton</span>,\n",
       " <span class=\"count-copy\">\"DAYLIGHT\" by TELYKast and One True God</span>,\n",
       " <span class=\"count-copy\">\"Shibuya — Chanel Funk Remix\" by Frank Ocean and L.Dre</span>,\n",
       " <span class=\"count-copy\">\"Can We Kiss Forever?\" by Kina feat. Adriana Proenza</span>,\n",
       " <span class=\"count-copy\">\"Lottery\" by K Camp</span>,\n",
       " <span class=\"count-copy\">\"WOP\" by J. Dash feat. Flo Rida</span>,\n",
       " <span class=\"count-copy\">\"Never Be Like You\" by Flume feat. Kai</span>,\n",
       " <span class=\"count-copy\">\"Griztronics\" by GRiZ and Subtronics</span>,\n",
       " <span class=\"count-copy\">\"Birthday Suit\" by Cosmo Sheldrake</span>,\n",
       " <span class=\"count-copy\">\"Eyes. Lips. Face.\" by iLL Wayno and Holla FyeSixWun</span>,\n",
       " <span class=\"count-copy\">\"Hate Me\" by Ellie Goulding and Juice WRLD</span>,\n",
       " <span class=\"count-copy\">\"223s\" by YNW Melly feat. 9lokknine</span>,\n",
       " <span class=\"count-copy\">\"Get Silly\" by V.I.C.</span>,\n",
       " <span class=\"count-copy\">\"We Are Young\" by Fun. feat. Janelle Monáe</span>,\n",
       " <span class=\"count-copy\">\"Ride It\" by Regard</span>,\n",
       " <span class=\"count-copy\">\"Runway\" by Stunna Girl</span>,\n",
       " <span class=\"count-copy\">\"GOODMORNINGTOKYO!\" by TOKYO'S REVENGE</span>,\n",
       " <span class=\"count-copy\">\"Hey Julie!\" by KYLE Feat. Lil Yachty</span>,\n",
       " <span class=\"count-copy\">\"Obsessed\" by Mariah Carey</span>,\n",
       " <span class=\"count-copy\">\"A-Punk\" by Vampire Weekend</span>,\n",
       " <span class=\"count-copy\">\"The Git Up\" by Blanco Brown</span>,\n",
       " <span class=\"count-copy\">\"NO FACE NO CASE \" by Vinny West</span>,\n",
       " <span class=\"count-copy\">\"chinese new year\" by SALES</span>,\n",
       " <span class=\"count-copy\">\"Sunday Best\" by Surfaces</span>,\n",
       " <span class=\"count-copy\">\"Make You Mine\" by Public</span>,\n",
       " <span class=\"count-copy\">\"Next to You\" by Becky G and Digital Farm Animals feat. Rvssian</span>,\n",
       " <span class=\"count-copy\">\"Lip Gloss\" by Lil Mama</span>,\n",
       " <span class=\"count-copy\">\"My Heart Went Oops\" by TIAGZ</span>,\n",
       " <span class=\"count-copy\">\"Absolutely Anything\" by CG5 feat. OR3O</span>,\n",
       " <span class=\"count-copy\">\"The Drip\" by Kiiingsam</span>,\n",
       " <span class=\"count-copy\">\"What the Hell\" by Avril Lavigne</span>,\n",
       " <span class=\"count-copy\">\"Towards the Sun\" by Rihanna</span>,\n",
       " <span class=\"count-copy\">\"I Think I'm OKAY\" by Machine Gun Kelly, YUNGBLUD, and Travis Barker</span>,\n",
       " <span class=\"count-copy\">\"Myself\" by Bazzi</span>,\n",
       " <span class=\"count-copy\">\"Stronger\" by Kanye West</span>]"
      ]
     },
     "execution_count": 21,
     "metadata": {},
     "output_type": "execute_result"
    }
   ],
   "source": [
    "html_popsugar = content_popsugar.find_all('span', attrs={'class': 'count-copy'})\n",
    "#html_popsugar"
   ]
  },
  {
   "cell_type": "code",
   "execution_count": 34,
   "metadata": {
    "ExecuteTime": {
     "end_time": "2020-09-11T15:25:43.652924Z",
     "start_time": "2020-09-11T15:25:43.644911Z"
    }
   },
   "outputs": [
    {
     "data": {
      "text/html": [
       "<div>\n",
       "<style scoped>\n",
       "    .dataframe tbody tr th:only-of-type {\n",
       "        vertical-align: middle;\n",
       "    }\n",
       "\n",
       "    .dataframe tbody tr th {\n",
       "        vertical-align: top;\n",
       "    }\n",
       "\n",
       "    .dataframe thead th {\n",
       "        text-align: right;\n",
       "    }\n",
       "</style>\n",
       "<table border=\"1\" class=\"dataframe\">\n",
       "  <thead>\n",
       "    <tr style=\"text-align: right;\">\n",
       "      <th></th>\n",
       "      <th>song</th>\n",
       "      <th>artist</th>\n",
       "    </tr>\n",
       "  </thead>\n",
       "  <tbody>\n",
       "    <tr>\n",
       "      <th>0</th>\n",
       "      <td>Roxanne</td>\n",
       "      <td>Arizona Zervas</td>\n",
       "    </tr>\n",
       "    <tr>\n",
       "      <th>1</th>\n",
       "      <td>Say So</td>\n",
       "      <td>Doja Cat</td>\n",
       "    </tr>\n",
       "    <tr>\n",
       "      <th>2</th>\n",
       "      <td>My Oh My</td>\n",
       "      <td>Camila Cabello feat. DaBaby</td>\n",
       "    </tr>\n",
       "    <tr>\n",
       "      <th>3</th>\n",
       "      <td>Moon</td>\n",
       "      <td>Kid Francescoli</td>\n",
       "    </tr>\n",
       "    <tr>\n",
       "      <th>4</th>\n",
       "      <td>Vibe</td>\n",
       "      <td>Cookiee Kawaii</td>\n",
       "    </tr>\n",
       "  </tbody>\n",
       "</table>\n",
       "</div>"
      ],
      "text/plain": [
       "       song                       artist\n",
       "0   Roxanne               Arizona Zervas\n",
       "1    Say So                     Doja Cat\n",
       "2  My Oh My  Camila Cabello feat. DaBaby\n",
       "3      Moon              Kid Francescoli\n",
       "4      Vibe               Cookiee Kawaii"
      ]
     },
     "execution_count": 34,
     "metadata": {},
     "output_type": "execute_result"
    }
   ],
   "source": [
    "sugarpop_df = pd.DataFrame([song.text.replace('\"', '').split(' by ') for song in html_popsugar], columns=['song', 'artist'])\n",
    "sugarpop_df.head()"
   ]
  },
  {
   "cell_type": "code",
   "execution_count": 25,
   "metadata": {
    "ExecuteTime": {
     "end_time": "2020-09-11T15:21:18.497649Z",
     "start_time": "2020-09-11T15:21:18.492661Z"
    }
   },
   "outputs": [
    {
     "data": {
      "text/plain": [
       "'March 27, 2020'"
      ]
     },
     "execution_count": 25,
     "metadata": {},
     "output_type": "execute_result"
    }
   ],
   "source": [
    "date_popsugar = content_popsugar.find('time').text.replace('\\n', '')\n",
    "date_popsugar"
   ]
  },
  {
   "cell_type": "code",
   "execution_count": null,
   "metadata": {},
   "outputs": [],
   "source": []
  },
  {
   "cell_type": "code",
   "execution_count": null,
   "metadata": {},
   "outputs": [],
   "source": []
  },
  {
   "cell_type": "code",
   "execution_count": null,
   "metadata": {},
   "outputs": [],
   "source": []
  },
  {
   "cell_type": "code",
   "execution_count": null,
   "metadata": {},
   "outputs": [],
   "source": []
  },
  {
   "cell_type": "code",
   "execution_count": null,
   "metadata": {},
   "outputs": [],
   "source": []
  },
  {
   "cell_type": "code",
   "execution_count": null,
   "metadata": {},
   "outputs": [],
   "source": []
  },
  {
   "cell_type": "code",
   "execution_count": null,
   "metadata": {},
   "outputs": [],
   "source": []
  },
  {
   "cell_type": "code",
   "execution_count": null,
   "metadata": {},
   "outputs": [],
   "source": []
  },
  {
   "cell_type": "code",
   "execution_count": null,
   "metadata": {},
   "outputs": [],
   "source": []
  }
 ],
 "metadata": {
  "hide_input": false,
  "kernelspec": {
   "display_name": "Python 3",
   "language": "python",
   "name": "python3"
  },
  "language_info": {
   "codemirror_mode": {
    "name": "ipython",
    "version": 3
   },
   "file_extension": ".py",
   "mimetype": "text/x-python",
   "name": "python",
   "nbconvert_exporter": "python",
   "pygments_lexer": "ipython3",
   "version": "3.8.3"
  },
  "toc": {
   "base_numbering": 1,
   "nav_menu": {},
   "number_sections": true,
   "sideBar": true,
   "skip_h1_title": false,
   "title_cell": "Table of Contents",
   "title_sidebar": "Contents",
   "toc_cell": false,
   "toc_position": {},
   "toc_section_display": true,
   "toc_window_display": false
  },
  "varInspector": {
   "cols": {
    "lenName": 16,
    "lenType": 16,
    "lenVar": 40
   },
   "kernels_config": {
    "python": {
     "delete_cmd_postfix": "",
     "delete_cmd_prefix": "del ",
     "library": "var_list.py",
     "varRefreshCmd": "print(var_dic_list())"
    },
    "r": {
     "delete_cmd_postfix": ") ",
     "delete_cmd_prefix": "rm(",
     "library": "var_list.r",
     "varRefreshCmd": "cat(var_dic_list()) "
    }
   },
   "types_to_exclude": [
    "module",
    "function",
    "builtin_function_or_method",
    "instance",
    "_Feature"
   ],
   "window_display": false
  }
 },
 "nbformat": 4,
 "nbformat_minor": 4
}
